{
  "nbformat": 4,
  "nbformat_minor": 0,
  "metadata": {
    "colab": {
      "provenance": []
    },
    "kernelspec": {
      "name": "python3",
      "display_name": "Python 3"
    },
    "language_info": {
      "name": "python"
    }
  },
  "cells": [
    {
      "cell_type": "markdown",
      "source": [
        "#Cross-entropy loss:"
      ],
      "metadata": {
        "id": "CR8u5qnsaGB6"
      }
    },
    {
      "cell_type": "code",
      "source": [
        "!python train.py -wp CS6910_assignment_1 -we sumanta_roy"
      ],
      "metadata": {
        "colab": {
          "base_uri": "https://localhost:8080/"
        },
        "id": "6CCVqxYFTUB7",
        "outputId": "2098a7bd-94f6-45d7-bd87-c1faa1b0fd36"
      },
      "execution_count": 13,
      "outputs": [
        {
          "output_type": "stream",
          "name": "stdout",
          "text": [
            "2024-03-17 14:18:33.986451: E external/local_xla/xla/stream_executor/cuda/cuda_dnn.cc:9261] Unable to register cuDNN factory: Attempting to register factory for plugin cuDNN when one has already been registered\n",
            "2024-03-17 14:18:33.986514: E external/local_xla/xla/stream_executor/cuda/cuda_fft.cc:607] Unable to register cuFFT factory: Attempting to register factory for plugin cuFFT when one has already been registered\n",
            "2024-03-17 14:18:33.988027: E external/local_xla/xla/stream_executor/cuda/cuda_blas.cc:1515] Unable to register cuBLAS factory: Attempting to register factory for plugin cuBLAS when one has already been registered\n",
            "2024-03-17 14:18:33.997555: I tensorflow/core/platform/cpu_feature_guard.cc:182] This TensorFlow binary is optimized to use available CPU instructions in performance-critical operations.\n",
            "To enable the following instructions: AVX2 FMA, in other operations, rebuild TensorFlow with the appropriate compiler flags.\n",
            "2024-03-17 14:18:35.337897: W tensorflow/compiler/tf2tensorrt/utils/py_utils.cc:38] TF-TRT Warning: Could not find TensorRT\n",
            "\u001b[34m\u001b[1mwandb\u001b[0m: Currently logged in as: \u001b[33msumanta_roy\u001b[0m. Use \u001b[1m`wandb login --relogin`\u001b[0m to force relogin\n",
            "\u001b[34m\u001b[1mwandb\u001b[0m: Appending key for api.wandb.ai to your netrc file: /root/.netrc\n",
            "\u001b[34m\u001b[1mwandb\u001b[0m: Tracking run with wandb version 0.16.4\n",
            "\u001b[34m\u001b[1mwandb\u001b[0m: Run data is saved locally in \u001b[35m\u001b[1m/content/wandb/run-20240317_141839-rwgen1jh\u001b[0m\n",
            "\u001b[34m\u001b[1mwandb\u001b[0m: Run \u001b[1m`wandb offline`\u001b[0m to turn off syncing.\n",
            "\u001b[34m\u001b[1mwandb\u001b[0m: Syncing run \u001b[33mvocal-spaceship-450\u001b[0m\n",
            "\u001b[34m\u001b[1mwandb\u001b[0m: ⭐️ View project at \u001b[34m\u001b[4mhttps://wandb.ai/sumanta_roy/CS6910_assignment_1\u001b[0m\n",
            "\u001b[34m\u001b[1mwandb\u001b[0m: 🚀 View run at \u001b[34m\u001b[4mhttps://wandb.ai/sumanta_roy/CS6910_assignment_1/runs/rwgen1jh\u001b[0m\n",
            "Epoch: 1/10; Train Loss: 0.032828742695561144; Val Loss: 0.03872510176202276\n",
            "Epoch: 2/10; Train Loss: 0.027407897142345875; Val Loss: 0.03583246088553838\n",
            "Epoch: 3/10; Train Loss: 0.024590714009438408; Val Loss: 0.03408460976695263\n",
            "Epoch: 4/10; Train Loss: 0.023896849668822134; Val Loss: 0.033078133966159155\n",
            "Epoch: 5/10; Train Loss: 0.023924963403601472; Val Loss: 0.03240046407598537\n",
            "Epoch: 6/10; Train Loss: 0.02440344642439603; Val Loss: 0.03200472357080914\n",
            "Epoch: 7/10; Train Loss: 0.025116402449566907; Val Loss: 0.03167122906759579\n",
            "Epoch: 8/10; Train Loss: 0.02580279072817908; Val Loss: 0.03149269299259355\n",
            "Epoch: 9/10; Train Loss: 0.02587494872634034; Val Loss: 0.03144066334706476\n",
            "Epoch: 10/10; Train Loss: 0.026214172537533074; Val Loss: 0.03161256247556863\n",
            "\u001b[34m\u001b[1mwandb\u001b[0m:                                                                                \n",
            "\u001b[34m\u001b[1mwandb\u001b[0m: \n",
            "\u001b[34m\u001b[1mwandb\u001b[0m: Run history:\n",
            "\u001b[34m\u001b[1mwandb\u001b[0m:           epoch ▁▁▁▁▂▂▂▂▃▃▃▃▃▃▃▃▄▄▄▄▅▅▅▅▆▆▆▆▆▆▆▆▇▇▇▇████\n",
            "\u001b[34m\u001b[1mwandb\u001b[0m:  train_accuracy ▂▆▁▂▆▇▅▆▇▃▆▃██▇▃▆▇▃▆▇██▆▅▃▆█▇█▇▇▆▆▃██▇▇█\n",
            "\u001b[34m\u001b[1mwandb\u001b[0m:      train_loss ▆▄▇█▄▁▅▃▂▅▃▅▁▁▃▆▅▂▆▃▂▂▂▃▅▄▃▂▃▁▂▂▃▃▆▁▂▂▂▁\n",
            "\u001b[34m\u001b[1mwandb\u001b[0m:    val_accuracy ▁▄▅▅▆▆▆▆▆▆▇▇▇▇▇▇▇▇▇▇▇▇▆▇▇▇█▇▇▇█▇██▇▇██▆█\n",
            "\u001b[34m\u001b[1mwandb\u001b[0m: validation_loss █▄▄▃▂▃▂▃▃▂▁▂▂▂▁▂▁▁▂▂▂▁▂▂▂▁▁▂▁▁▁▁▁▁▁▁▁▂▂▁\n",
            "\u001b[34m\u001b[1mwandb\u001b[0m: \n",
            "\u001b[34m\u001b[1mwandb\u001b[0m: Run summary:\n",
            "\u001b[34m\u001b[1mwandb\u001b[0m:           epoch 10\n",
            "\u001b[34m\u001b[1mwandb\u001b[0m:  train_accuracy 100.0\n",
            "\u001b[34m\u001b[1mwandb\u001b[0m:      train_loss 0.02621\n",
            "\u001b[34m\u001b[1mwandb\u001b[0m:    val_accuracy 88.8\n",
            "\u001b[34m\u001b[1mwandb\u001b[0m: validation_loss 0.03161\n",
            "\u001b[34m\u001b[1mwandb\u001b[0m: \n",
            "\u001b[34m\u001b[1mwandb\u001b[0m: 🚀 View run \u001b[33mvocal-spaceship-450\u001b[0m at: \u001b[34m\u001b[4mhttps://wandb.ai/sumanta_roy/CS6910_assignment_1/runs/rwgen1jh\u001b[0m\n",
            "\u001b[34m\u001b[1mwandb\u001b[0m: Synced 5 W&B file(s), 0 media file(s), 0 artifact file(s) and 0 other file(s)\n",
            "\u001b[34m\u001b[1mwandb\u001b[0m: Find logs at: \u001b[35m\u001b[1m./wandb/run-20240317_141839-rwgen1jh/logs\u001b[0m\n",
            "Accuracy on test data= 88.4 %\n"
          ]
        }
      ]
    },
    {
      "cell_type": "markdown",
      "source": [
        "#Mean-square error loss:"
      ],
      "metadata": {
        "id": "Zasg0AX_xknl"
      }
    },
    {
      "cell_type": "code",
      "source": [
        "!python train.py -wp CS6910_assignment_1 -we sumanta_roy -d fashion_mnist -e 10 -b 32 -l mean_squared_error -o rmsprop -lr 0.001 -w_d 0. -nhl 3 -sz 128 -a tanh"
      ],
      "metadata": {
        "colab": {
          "base_uri": "https://localhost:8080/"
        },
        "id": "3J-3D1pOaAVk",
        "outputId": "1b05adec-0c08-4769-a441-3430cc872818"
      },
      "execution_count": 14,
      "outputs": [
        {
          "output_type": "stream",
          "name": "stdout",
          "text": [
            "2024-03-17 14:25:59.288771: E external/local_xla/xla/stream_executor/cuda/cuda_dnn.cc:9261] Unable to register cuDNN factory: Attempting to register factory for plugin cuDNN when one has already been registered\n",
            "2024-03-17 14:25:59.288838: E external/local_xla/xla/stream_executor/cuda/cuda_fft.cc:607] Unable to register cuFFT factory: Attempting to register factory for plugin cuFFT when one has already been registered\n",
            "2024-03-17 14:25:59.290377: E external/local_xla/xla/stream_executor/cuda/cuda_blas.cc:1515] Unable to register cuBLAS factory: Attempting to register factory for plugin cuBLAS when one has already been registered\n",
            "2024-03-17 14:25:59.298812: I tensorflow/core/platform/cpu_feature_guard.cc:182] This TensorFlow binary is optimized to use available CPU instructions in performance-critical operations.\n",
            "To enable the following instructions: AVX2 FMA, in other operations, rebuild TensorFlow with the appropriate compiler flags.\n",
            "2024-03-17 14:26:00.619306: W tensorflow/compiler/tf2tensorrt/utils/py_utils.cc:38] TF-TRT Warning: Could not find TensorRT\n",
            "\u001b[34m\u001b[1mwandb\u001b[0m: Currently logged in as: \u001b[33msumanta_roy\u001b[0m. Use \u001b[1m`wandb login --relogin`\u001b[0m to force relogin\n",
            "\u001b[34m\u001b[1mwandb\u001b[0m: Appending key for api.wandb.ai to your netrc file: /root/.netrc\n",
            "\u001b[34m\u001b[1mwandb\u001b[0m: Tracking run with wandb version 0.16.4\n",
            "\u001b[34m\u001b[1mwandb\u001b[0m: Run data is saved locally in \u001b[35m\u001b[1m/content/wandb/run-20240317_142605-435g8rrm\u001b[0m\n",
            "\u001b[34m\u001b[1mwandb\u001b[0m: Run \u001b[1m`wandb offline`\u001b[0m to turn off syncing.\n",
            "\u001b[34m\u001b[1mwandb\u001b[0m: Syncing run \u001b[33mwobbly-bee-451\u001b[0m\n",
            "\u001b[34m\u001b[1mwandb\u001b[0m: ⭐️ View project at \u001b[34m\u001b[4mhttps://wandb.ai/sumanta_roy/CS6910_assignment_1\u001b[0m\n",
            "\u001b[34m\u001b[1mwandb\u001b[0m: 🚀 View run at \u001b[34m\u001b[4mhttps://wandb.ai/sumanta_roy/CS6910_assignment_1/runs/435g8rrm\u001b[0m\n",
            "Epoch: 1/10; Train Loss: 0.01611279905481341; Val Loss: 0.020671804614266227\n",
            "Epoch: 2/10; Train Loss: 0.012591730943218077; Val Loss: 0.019852243145705356\n",
            "Epoch: 3/10; Train Loss: 0.010703840255841625; Val Loss: 0.019379833933682124\n",
            "Epoch: 4/10; Train Loss: 0.011212956767476124; Val Loss: 0.019205851661713392\n",
            "Epoch: 5/10; Train Loss: 0.010126000851562147; Val Loss: 0.018158234192702207\n",
            "Epoch: 6/10; Train Loss: 0.009601472120362078; Val Loss: 0.017867737061903876\n",
            "Epoch: 7/10; Train Loss: 0.006657720189559011; Val Loss: 0.017561827452031185\n",
            "Epoch: 8/10; Train Loss: 0.0051293464727547745; Val Loss: 0.017036076158276035\n",
            "Epoch: 9/10; Train Loss: 0.005057993966061205; Val Loss: 0.01692103124981881\n",
            "Epoch: 10/10; Train Loss: 0.005881780466800985; Val Loss: 0.017196979120470066\n",
            "\u001b[34m\u001b[1mwandb\u001b[0m:                                                                                \n",
            "\u001b[34m\u001b[1mwandb\u001b[0m: \n",
            "\u001b[34m\u001b[1mwandb\u001b[0m: Run history:\n",
            "\u001b[34m\u001b[1mwandb\u001b[0m:           epoch ▁▁▁▁▂▂▂▂▃▃▃▃▃▃▃▃▄▄▄▄▅▅▅▅▆▆▆▆▆▆▆▆▇▇▇▇████\n",
            "\u001b[34m\u001b[1mwandb\u001b[0m:  train_accuracy ▂▆▃▃▃▆▃▁▄█▄▄▆▄▃▂▆█▆▃▆▇▅▃▆▄▅▃▆▆▆▃▆▄▆▃▃▇▇▆\n",
            "\u001b[34m\u001b[1mwandb\u001b[0m:      train_loss ▇▃▇▆▄▃▆█▅▁▅▅▃▃▅▇▃▁▄▅▃▂▃▆▃▅▄▅▂▂▂▅▃▅▃▄▅▁▁▁\n",
            "\u001b[34m\u001b[1mwandb\u001b[0m:    val_accuracy ▁▄▄▄▅▅▆▆▇▇▇▇▇▆▇▇▇█▇▇▇▇▇▇▇▇▇█▇▇█▇▇▇▇█▇▇██\n",
            "\u001b[34m\u001b[1mwandb\u001b[0m: validation_loss █▄▄▅▄▃▃▂▂▂▂▂▂▂▂▂▂▁▁▂▂▂▁▁▂▂▂▁▂▁▁▁▂▂▁▁▁▁▁▁\n",
            "\u001b[34m\u001b[1mwandb\u001b[0m: \n",
            "\u001b[34m\u001b[1mwandb\u001b[0m: Run summary:\n",
            "\u001b[34m\u001b[1mwandb\u001b[0m:           epoch 10\n",
            "\u001b[34m\u001b[1mwandb\u001b[0m:  train_accuracy 93.75\n",
            "\u001b[34m\u001b[1mwandb\u001b[0m:      train_loss 0.00588\n",
            "\u001b[34m\u001b[1mwandb\u001b[0m:    val_accuracy 88.35\n",
            "\u001b[34m\u001b[1mwandb\u001b[0m: validation_loss 0.0172\n",
            "\u001b[34m\u001b[1mwandb\u001b[0m: \n",
            "\u001b[34m\u001b[1mwandb\u001b[0m: 🚀 View run \u001b[33mwobbly-bee-451\u001b[0m at: \u001b[34m\u001b[4mhttps://wandb.ai/sumanta_roy/CS6910_assignment_1/runs/435g8rrm\u001b[0m\n",
            "\u001b[34m\u001b[1mwandb\u001b[0m: Synced 5 W&B file(s), 0 media file(s), 0 artifact file(s) and 0 other file(s)\n",
            "\u001b[34m\u001b[1mwandb\u001b[0m: Find logs at: \u001b[35m\u001b[1m./wandb/run-20240317_142605-435g8rrm/logs\u001b[0m\n",
            "Accuracy on test data= 87.33999999999999 %\n"
          ]
        }
      ]
    },
    {
      "cell_type": "code",
      "source": [],
      "metadata": {
        "id": "T6L6xIwsxh0n"
      },
      "execution_count": null,
      "outputs": []
    }
  ]
}