{
 "cells": [
  {
   "cell_type": "code",
   "execution_count": 2,
   "id": "2a75aff0-b0d8-4e6d-92cb-b08663fe3561",
   "metadata": {},
   "outputs": [
    {
     "name": "stdout",
     "output_type": "stream",
     "text": [
      "Requirement already satisfied: wandb in /opt/anaconda3/lib/python3.11/site-packages (0.16.4)\n",
      "Requirement already satisfied: Click!=8.0.0,>=7.1 in /opt/anaconda3/lib/python3.11/site-packages (from wandb) (8.1.7)\n",
      "Requirement already satisfied: GitPython!=3.1.29,>=1.0.0 in /opt/anaconda3/lib/python3.11/site-packages (from wandb) (3.1.37)\n",
      "Requirement already satisfied: requests<3,>=2.0.0 in /opt/anaconda3/lib/python3.11/site-packages (from wandb) (2.31.0)\n",
      "Requirement already satisfied: psutil>=5.0.0 in /opt/anaconda3/lib/python3.11/site-packages (from wandb) (5.9.0)\n",
      "Requirement already satisfied: sentry-sdk>=1.0.0 in /opt/anaconda3/lib/python3.11/site-packages (from wandb) (1.42.0)\n",
      "Requirement already satisfied: docker-pycreds>=0.4.0 in /opt/anaconda3/lib/python3.11/site-packages (from wandb) (0.4.0)\n",
      "Requirement already satisfied: PyYAML in /opt/anaconda3/lib/python3.11/site-packages (from wandb) (6.0.1)\n",
      "Requirement already satisfied: setproctitle in /opt/anaconda3/lib/python3.11/site-packages (from wandb) (1.3.3)\n",
      "Requirement already satisfied: setuptools in /opt/anaconda3/lib/python3.11/site-packages (from wandb) (68.2.2)\n",
      "Requirement already satisfied: appdirs>=1.4.3 in /opt/anaconda3/lib/python3.11/site-packages (from wandb) (1.4.4)\n",
      "Requirement already satisfied: protobuf!=4.21.0,<5,>=3.19.0 in /opt/anaconda3/lib/python3.11/site-packages (from wandb) (3.20.3)\n",
      "Requirement already satisfied: six>=1.4.0 in /opt/anaconda3/lib/python3.11/site-packages (from docker-pycreds>=0.4.0->wandb) (1.16.0)\n",
      "Requirement already satisfied: gitdb<5,>=4.0.1 in /opt/anaconda3/lib/python3.11/site-packages (from GitPython!=3.1.29,>=1.0.0->wandb) (4.0.7)\n",
      "Requirement already satisfied: charset-normalizer<4,>=2 in /opt/anaconda3/lib/python3.11/site-packages (from requests<3,>=2.0.0->wandb) (2.0.4)\n",
      "Requirement already satisfied: idna<4,>=2.5 in /opt/anaconda3/lib/python3.11/site-packages (from requests<3,>=2.0.0->wandb) (3.4)\n",
      "Requirement already satisfied: urllib3<3,>=1.21.1 in /opt/anaconda3/lib/python3.11/site-packages (from requests<3,>=2.0.0->wandb) (2.0.7)\n",
      "Requirement already satisfied: certifi>=2017.4.17 in /opt/anaconda3/lib/python3.11/site-packages (from requests<3,>=2.0.0->wandb) (2024.2.2)\n",
      "Requirement already satisfied: smmap<5,>=3.0.1 in /opt/anaconda3/lib/python3.11/site-packages (from gitdb<5,>=4.0.1->GitPython!=3.1.29,>=1.0.0->wandb) (4.0.0)\n",
      "Note: you may need to restart the kernel to use updated packages.\n"
     ]
    }
   ],
   "source": [
    "pip install wandb"
   ]
  },
  {
   "cell_type": "code",
   "execution_count": null,
   "id": "6b7f7570-b5de-4b6f-b832-bcd72d87c5d4",
   "metadata": {},
   "outputs": [
    {
     "name": "stdout",
     "output_type": "stream",
     "text": [
      "Number of training samples: 54000\n",
      "Number of validation samples: 6000\n",
      "Number of testing samples: 10000\n"
     ]
    },
    {
     "name": "stderr",
     "output_type": "stream",
     "text": [
      "\u001b[34m\u001b[1mwandb\u001b[0m: Currently logged in as: \u001b[33msumanta_roy\u001b[0m. Use \u001b[1m`wandb login --relogin`\u001b[0m to force relogin\n",
      "\u001b[34m\u001b[1mwandb\u001b[0m: \u001b[33mWARNING\u001b[0m If you're specifying your api key in code, ensure this code is not shared publicly.\n",
      "\u001b[34m\u001b[1mwandb\u001b[0m: \u001b[33mWARNING\u001b[0m Consider setting the WANDB_API_KEY environment variable, or running `wandb login` from the command line.\n",
      "\u001b[34m\u001b[1mwandb\u001b[0m: Appending key for api.wandb.ai to your netrc file: /Users/sumanta/.netrc\n"
     ]
    },
    {
     "name": "stdout",
     "output_type": "stream",
     "text": [
      "Create sweep with ID: etqoz0cb\n",
      "Sweep URL: https://wandb.ai/sumanta_roy/CS6910_assignment_1/sweeps/etqoz0cb\n"
     ]
    },
    {
     "data": {
      "text/html": [
       "Changes to your `wandb` environment variables will be ignored because your `wandb` session has already started. For more information on how to modify your settings with `wandb.init()` arguments, please refer to <a href='https://wandb.me/wandb-init' target=\"_blank\">the W&B docs</a>."
      ],
      "text/plain": [
       "<IPython.core.display.HTML object>"
      ]
     },
     "metadata": {},
     "output_type": "display_data"
    },
    {
     "data": {
      "text/html": [
       "Tracking run with wandb version 0.16.4"
      ],
      "text/plain": [
       "<IPython.core.display.HTML object>"
      ]
     },
     "metadata": {},
     "output_type": "display_data"
    },
    {
     "data": {
      "text/html": [
       "Run data is saved locally in <code>/Users/sumanta/Desktop/Numpy project/mse_error_revised/wandb/run-20240317_164906-i1a1ltdp</code>"
      ],
      "text/plain": [
       "<IPython.core.display.HTML object>"
      ]
     },
     "metadata": {},
     "output_type": "display_data"
    },
    {
     "data": {
      "text/html": [
       "Syncing run <strong><a href='https://wandb.ai/sumanta_roy/CS6910_assignment_1/runs/i1a1ltdp' target=\"_blank\">noble-river-370</a></strong> to <a href='https://wandb.ai/sumanta_roy/CS6910_assignment_1' target=\"_blank\">Weights & Biases</a> (<a href='https://wandb.me/run' target=\"_blank\">docs</a>)<br/>"
      ],
      "text/plain": [
       "<IPython.core.display.HTML object>"
      ]
     },
     "metadata": {},
     "output_type": "display_data"
    },
    {
     "data": {
      "text/html": [
       " View project at <a href='https://wandb.ai/sumanta_roy/CS6910_assignment_1' target=\"_blank\">https://wandb.ai/sumanta_roy/CS6910_assignment_1</a>"
      ],
      "text/plain": [
       "<IPython.core.display.HTML object>"
      ]
     },
     "metadata": {},
     "output_type": "display_data"
    },
    {
     "data": {
      "text/html": [
       " View run at <a href='https://wandb.ai/sumanta_roy/CS6910_assignment_1/runs/i1a1ltdp' target=\"_blank\">https://wandb.ai/sumanta_roy/CS6910_assignment_1/runs/i1a1ltdp</a>"
      ],
      "text/plain": [
       "<IPython.core.display.HTML object>"
      ]
     },
     "metadata": {},
     "output_type": "display_data"
    },
    {
     "name": "stderr",
     "output_type": "stream",
     "text": [
      "\u001b[34m\u001b[1mwandb\u001b[0m: \u001b[33mWARNING\u001b[0m Calling wandb.login() after wandb.init() has no effect.\n",
      "\u001b[34m\u001b[1mwandb\u001b[0m: Agent Starting Run: 7g6bnocw with config:\n",
      "\u001b[34m\u001b[1mwandb\u001b[0m: \tactivation: relu\n",
      "\u001b[34m\u001b[1mwandb\u001b[0m: \tbatch_size: 64\n",
      "\u001b[34m\u001b[1mwandb\u001b[0m: \tepochs: 5\n",
      "\u001b[34m\u001b[1mwandb\u001b[0m: \thidden_layers: 3\n",
      "\u001b[34m\u001b[1mwandb\u001b[0m: \thidden_size: 128\n",
      "\u001b[34m\u001b[1mwandb\u001b[0m: \tloss: mse\n",
      "\u001b[34m\u001b[1mwandb\u001b[0m: \tlr: 0.0001\n",
      "\u001b[34m\u001b[1mwandb\u001b[0m: \toptimizer: sgd\n",
      "\u001b[34m\u001b[1mwandb\u001b[0m: \tw_init: random\n",
      "\u001b[34m\u001b[1mwandb\u001b[0m: \tweight_decay: 0.5\n"
     ]
    },
    {
     "name": "stdout",
     "output_type": "stream",
     "text": [
      "VBox(children=(Label(value='0.001 MB of 0.001 MB uploaded\\r'), FloatProgress(value=1.0, max=1.0)))\n",
      "<IPython.core.display.HTML object>\n",
      "<IPython.core.display.HTML object>\n"
     ]
    },
    {
     "data": {
      "text/html": [
       "Tracking run with wandb version 0.16.4"
      ],
      "text/plain": [
       "<IPython.core.display.HTML object>"
      ]
     },
     "metadata": {},
     "output_type": "display_data"
    },
    {
     "data": {
      "text/html": [
       "Run data is saved locally in <code>/Users/sumanta/Desktop/Numpy project/mse_error_revised/wandb/run-20240317_164917-7g6bnocw</code>"
      ],
      "text/plain": [
       "<IPython.core.display.HTML object>"
      ]
     },
     "metadata": {},
     "output_type": "display_data"
    },
    {
     "data": {
      "text/html": [
       "Syncing run <strong><a href='https://wandb.ai/sumanta_roy/CS6910_assignment_1/runs/7g6bnocw' target=\"_blank\">cool-sweep-1</a></strong> to <a href='https://wandb.ai/sumanta_roy/CS6910_assignment_1' target=\"_blank\">Weights & Biases</a> (<a href='https://wandb.me/run' target=\"_blank\">docs</a>)<br/>Sweep page: <a href='https://wandb.ai/sumanta_roy/CS6910_assignment_1/sweeps/etqoz0cb' target=\"_blank\">https://wandb.ai/sumanta_roy/CS6910_assignment_1/sweeps/etqoz0cb</a>"
      ],
      "text/plain": [
       "<IPython.core.display.HTML object>"
      ]
     },
     "metadata": {},
     "output_type": "display_data"
    },
    {
     "data": {
      "text/html": [
       " View project at <a href='https://wandb.ai/sumanta_roy/CS6910_assignment_1' target=\"_blank\">https://wandb.ai/sumanta_roy/CS6910_assignment_1</a>"
      ],
      "text/plain": [
       "<IPython.core.display.HTML object>"
      ]
     },
     "metadata": {},
     "output_type": "display_data"
    },
    {
     "data": {
      "text/html": [
       " View sweep at <a href='https://wandb.ai/sumanta_roy/CS6910_assignment_1/sweeps/etqoz0cb' target=\"_blank\">https://wandb.ai/sumanta_roy/CS6910_assignment_1/sweeps/etqoz0cb</a>"
      ],
      "text/plain": [
       "<IPython.core.display.HTML object>"
      ]
     },
     "metadata": {},
     "output_type": "display_data"
    },
    {
     "data": {
      "text/html": [
       " View run at <a href='https://wandb.ai/sumanta_roy/CS6910_assignment_1/runs/7g6bnocw' target=\"_blank\">https://wandb.ai/sumanta_roy/CS6910_assignment_1/runs/7g6bnocw</a>"
      ],
      "text/plain": [
       "<IPython.core.display.HTML object>"
      ]
     },
     "metadata": {},
     "output_type": "display_data"
    },
    {
     "name": "stdout",
     "output_type": "stream",
     "text": [
      "Epoch: 1/5; Train Loss: 43.603225973230465; Val Loss: 0.5545567716453906\n"
     ]
    },
    {
     "name": "stderr",
     "output_type": "stream",
     "text": [
      "Exception in thread ChkStopThr:\n",
      "Traceback (most recent call last):\n",
      "  File \"/opt/anaconda3/lib/python3.11/threading.py\", line 1045, in _bootstrap_inner\n",
      "Exception in thread NetStatThr:\n",
      "Traceback (most recent call last):\n",
      "  File \"/opt/anaconda3/lib/python3.11/threading.py\", line 1045, in _bootstrap_inner\n",
      "    self.run()\n",
      "  File \"/opt/anaconda3/lib/python3.11/threading.py\", line 982, in run\n",
      "    self._target(*self._args, **self._kwargs)\n",
      "  File \"/opt/anaconda3/lib/python3.11/site-packages/wandb/sdk/wandb_run.py\", line 268, in check_network_status\n",
      "    self._loop_check_status(\n",
      "  File \"/opt/anaconda3/lib/python3.11/site-packages/wandb/sdk/wandb_run.py\", line 224, in _loop_check_status\n",
      "    local_handle = request()\n",
      "                   ^^^^^^^^^\n",
      "  File \"/opt/anaconda3/lib/python3.11/site-packages/wandb/sdk/interface/interface.py\", line 795, in deliver_network_status\n",
      "    return self._deliver_network_status(status)\n",
      "           ^^^^^^^^^^^^^^^^^^^^^^^^^^^^^^^^^^^^\n",
      "  File \"/opt/anaconda3/lib/python3.11/site-packages/wandb/sdk/interface/interface_shared.py\", line 500, in _deliver_network_status\n",
      "    return self._deliver_record(record)\n",
      "           ^^^^^^^^^^^^^^^^^^^^^^^^^^^^\n",
      "  File \"/opt/anaconda3/lib/python3.11/site-packages/wandb/sdk/interface/interface_shared.py\", line 449, in _deliver_record\n",
      "    handle = mailbox._deliver_record(record, interface=self)\n",
      "             ^^^^^^^^^^^^^^^^^^^^^^^^^^^^^^^^^^^^^^^^^^^^^^^\n",
      "  File \"/opt/anaconda3/lib/python3.11/site-packages/wandb/sdk/lib/mailbox.py\", line 455, in _deliver_record\n",
      "    interface._publish(record)\n",
      "  File \"/opt/anaconda3/lib/python3.11/site-packages/wandb/sdk/interface/interface_sock.py\", line 51, in _publish\n",
      "    self._sock_client.send_record_publish(record)\n",
      "  File \"/opt/anaconda3/lib/python3.11/site-packages/wandb/sdk/lib/sock_client.py\", line 221, in send_record_publish\n",
      "    self.send_server_request(server_req)\n",
      "  File \"/opt/anaconda3/lib/python3.11/site-packages/wandb/sdk/lib/sock_client.py\", line 155, in send_server_request\n",
      "    self._send_message(msg)\n",
      "  File \"/opt/anaconda3/lib/python3.11/site-packages/wandb/sdk/lib/sock_client.py\", line 152, in _send_message\n",
      "    self._sendall_with_error_handle(header + data)\n",
      "  File \"/opt/anaconda3/lib/python3.11/site-packages/wandb/sdk/lib/sock_client.py\", line 130, in _sendall_with_error_handle\n",
      "    sent = self._sock.send(data)\n",
      "           ^^^^^^^^^^^^^^^^^^^^^\n",
      "BrokenPipeError: [Errno 32] Broken pipe\n",
      "    self.run()\n",
      "  File \"/opt/anaconda3/lib/python3.11/threading.py\", line 982, in run\n",
      "    self._target(*self._args, **self._kwargs)\n",
      "  File \"/opt/anaconda3/lib/python3.11/site-packages/wandb/sdk/wandb_run.py\", line 286, in check_stop_status\n",
      "    self._loop_check_status(\n",
      "  File \"/opt/anaconda3/lib/python3.11/site-packages/wandb/sdk/wandb_run.py\", line 224, in _loop_check_status\n",
      "    local_handle = request()\n",
      "                   ^^^^^^^^^\n",
      "  File \"/opt/anaconda3/lib/python3.11/site-packages/wandb/sdk/interface/interface.py\", line 787, in deliver_stop_status\n",
      "    return self._deliver_stop_status(status)\n",
      "           ^^^^^^^^^^^^^^^^^^^^^^^^^^^^^^^^^\n",
      "  File \"/opt/anaconda3/lib/python3.11/site-packages/wandb/sdk/interface/interface_shared.py\", line 484, in _deliver_stop_status\n",
      "    return self._deliver_record(record)\n",
      "           ^^^^^^^^^^^^^^^^^^^^^^^^^^^^\n",
      "  File \"/opt/anaconda3/lib/python3.11/site-packages/wandb/sdk/interface/interface_shared.py\", line 449, in _deliver_record\n",
      "    handle = mailbox._deliver_record(record, interface=self)\n",
      "             ^^^^^^^^^^^^^^^^^^^^^^^^^^^^^^^^^^^^^^^^^^^^^^^\n",
      "  File \"/opt/anaconda3/lib/python3.11/site-packages/wandb/sdk/lib/mailbox.py\", line 455, in _deliver_record\n",
      "    interface._publish(record)\n",
      "  File \"/opt/anaconda3/lib/python3.11/site-packages/wandb/sdk/interface/interface_sock.py\", line 51, in _publish\n",
      "    self._sock_client.send_record_publish(record)\n",
      "  File \"/opt/anaconda3/lib/python3.11/site-packages/wandb/sdk/lib/sock_client.py\", line 221, in send_record_publish\n",
      "    self.send_server_request(server_req)\n",
      "  File \"/opt/anaconda3/lib/python3.11/site-packages/wandb/sdk/lib/sock_client.py\", line 155, in send_server_request\n",
      "    self._send_message(msg)\n",
      "  File \"/opt/anaconda3/lib/python3.11/site-packages/wandb/sdk/lib/sock_client.py\", line 152, in _send_message\n",
      "    self._sendall_with_error_handle(header + data)\n",
      "  File \"/opt/anaconda3/lib/python3.11/site-packages/wandb/sdk/lib/sock_client.py\", line 130, in _sendall_with_error_handle\n",
      "    sent = self._sock.send(data)\n",
      "           ^^^^^^^^^^^^^^^^^^^^^\n",
      "BrokenPipeError: [Errno 32] Broken pipe\n",
      "Exception in thread IntMsgThr:\n",
      "Traceback (most recent call last):\n",
      "  File \"/opt/anaconda3/lib/python3.11/threading.py\", line 1045, in _bootstrap_inner\n",
      "    self.run()\n",
      "  File \"/opt/anaconda3/lib/python3.11/threading.py\", line 982, in run\n",
      "    self._target(*self._args, **self._kwargs)\n",
      "  File \"/opt/anaconda3/lib/python3.11/site-packages/wandb/sdk/wandb_run.py\", line 300, in check_internal_messages\n",
      "    self._loop_check_status(\n",
      "  File \"/opt/anaconda3/lib/python3.11/site-packages/wandb/sdk/wandb_run.py\", line 224, in _loop_check_status\n",
      "    local_handle = request()\n",
      "                   ^^^^^^^^^\n",
      "  File \"/opt/anaconda3/lib/python3.11/site-packages/wandb/sdk/interface/interface.py\", line 803, in deliver_internal_messages\n",
      "    return self._deliver_internal_messages(internal_message)\n",
      "           ^^^^^^^^^^^^^^^^^^^^^^^^^^^^^^^^^^^^^^^^^^^^^^^^^\n",
      "  File \"/opt/anaconda3/lib/python3.11/site-packages/wandb/sdk/interface/interface_shared.py\", line 506, in _deliver_internal_messages\n",
      "    return self._deliver_record(record)\n",
      "           ^^^^^^^^^^^^^^^^^^^^^^^^^^^^\n",
      "  File \"/opt/anaconda3/lib/python3.11/site-packages/wandb/sdk/interface/interface_shared.py\", line 449, in _deliver_record\n",
      "    handle = mailbox._deliver_record(record, interface=self)\n",
      "             ^^^^^^^^^^^^^^^^^^^^^^^^^^^^^^^^^^^^^^^^^^^^^^^\n",
      "  File \"/opt/anaconda3/lib/python3.11/site-packages/wandb/sdk/lib/mailbox.py\", line 455, in _deliver_record\n",
      "    interface._publish(record)\n",
      "  File \"/opt/anaconda3/lib/python3.11/site-packages/wandb/sdk/interface/interface_sock.py\", line 51, in _publish\n",
      "    self._sock_client.send_record_publish(record)\n",
      "  File \"/opt/anaconda3/lib/python3.11/site-packages/wandb/sdk/lib/sock_client.py\", line 221, in send_record_publish\n",
      "    self.send_server_request(server_req)\n",
      "  File \"/opt/anaconda3/lib/python3.11/site-packages/wandb/sdk/lib/sock_client.py\", line 155, in send_server_request\n",
      "    self._send_message(msg)\n",
      "  File \"/opt/anaconda3/lib/python3.11/site-packages/wandb/sdk/lib/sock_client.py\", line 152, in _send_message\n",
      "    self._sendall_with_error_handle(header + data)\n",
      "  File \"/opt/anaconda3/lib/python3.11/site-packages/wandb/sdk/lib/sock_client.py\", line 130, in _sendall_with_error_handle\n",
      "    sent = self._sock.send(data)\n",
      "           ^^^^^^^^^^^^^^^^^^^^^\n",
      "BrokenPipeError: [Errno 32] Broken pipe\n"
     ]
    },
    {
     "name": "stdout",
     "output_type": "stream",
     "text": [
      "Epoch: 2/5; Train Loss: 43.52610968299249; Val Loss: 0.5374144751239124\n",
      "Epoch: 3/5; Train Loss: 43.45298154171714; Val Loss: 0.5290457249507403\n",
      "Epoch: 4/5; Train Loss: 43.38380437206572; Val Loss: 0.5236943412741967\n",
      "Epoch: 5/5; Train Loss: 43.316180282739; Val Loss: 0.5196070409666446\n"
     ]
    },
    {
     "data": {
      "application/vnd.jupyter.widget-view+json": {
       "model_id": "",
       "version_major": 2,
       "version_minor": 0
      },
      "text/plain": [
       "VBox(children=(Label(value='0.001 MB of 0.001 MB uploaded\\r'), FloatProgress(value=1.0, max=1.0)))"
      ]
     },
     "metadata": {},
     "output_type": "display_data"
    },
    {
     "data": {
      "text/html": [
       "<style>\n",
       "    table.wandb td:nth-child(1) { padding: 0 10px; text-align: left ; width: auto;} td:nth-child(2) {text-align: left ; width: 100%}\n",
       "    .wandb-row { display: flex; flex-direction: row; flex-wrap: wrap; justify-content: flex-start; width: 100% }\n",
       "    .wandb-col { display: flex; flex-direction: column; flex-basis: 100%; flex: 1; padding: 10px; }\n",
       "    </style>\n",
       "<div class=\"wandb-row\"><div class=\"wandb-col\"><h3>Run history:</h3><br/><table class=\"wandb\"><tr><td>epoch</td><td>▁▁▁▁▁▁▁▁▃▃▃▃▃▃▃▃▅▅▅▅▅▅▅▅▆▆▆▆▆▆▆▆████████</td></tr><tr><td>train_accuracy</td><td>▁▂▄▄▄▅▆▄▅▆▅▆▆█▅▇▆▅▇▆▆▆▇▅█▆▆█▇▆▇▇▆▆▇▇▇▇█▇</td></tr><tr><td>train_loss</td><td>██▇▇▇▆▆▆▆▅▅▅▅▄▅▄▄▄▄▄▄▄▃▃▃▃▃▂▂▂▂▂▂▂▂▂▁▁▁▁</td></tr><tr><td>val_accuracy</td><td>▁▂▃▄▅▅▆▆▆▆▆▇▇▇▇▇▇▇▇▇▇▇▇▇████████████████</td></tr><tr><td>validation_loss</td><td>█▇▆▅▄▄▄▃▃▃▃▃▃▂▂▂▂▂▂▂▂▂▂▂▂▂▂▁▁▁▁▁▁▁▁▁▁▁▁▁</td></tr></table><br/></div><div class=\"wandb-col\"><h3>Run summary:</h3><br/><table class=\"wandb\"><tr><td>epoch</td><td>5</td></tr><tr><td>train_accuracy</td><td>65.625</td></tr><tr><td>train_loss</td><td>43.31618</td></tr><tr><td>val_accuracy</td><td>66.83333</td></tr><tr><td>validation_loss</td><td>0.51961</td></tr></table><br/></div></div>"
      ],
      "text/plain": [
       "<IPython.core.display.HTML object>"
      ]
     },
     "metadata": {},
     "output_type": "display_data"
    },
    {
     "data": {
      "text/html": [
       " View run <strong style=\"color:#cdcd00\">cool-sweep-1</strong> at: <a href='https://wandb.ai/sumanta_roy/CS6910_assignment_1/runs/7g6bnocw' target=\"_blank\">https://wandb.ai/sumanta_roy/CS6910_assignment_1/runs/7g6bnocw</a><br/>Synced 6 W&B file(s), 0 media file(s), 0 artifact file(s) and 0 other file(s)"
      ],
      "text/plain": [
       "<IPython.core.display.HTML object>"
      ]
     },
     "metadata": {},
     "output_type": "display_data"
    },
    {
     "data": {
      "text/html": [
       "Find logs at: <code>./wandb/run-20240317_164917-7g6bnocw/logs</code>"
      ],
      "text/plain": [
       "<IPython.core.display.HTML object>"
      ]
     },
     "metadata": {},
     "output_type": "display_data"
    },
    {
     "name": "stderr",
     "output_type": "stream",
     "text": [
      "\u001b[34m\u001b[1mwandb\u001b[0m: Agent Starting Run: nk3ceipp with config:\n",
      "\u001b[34m\u001b[1mwandb\u001b[0m: \tactivation: tanh\n",
      "\u001b[34m\u001b[1mwandb\u001b[0m: \tbatch_size: 32\n",
      "\u001b[34m\u001b[1mwandb\u001b[0m: \tepochs: 10\n",
      "\u001b[34m\u001b[1mwandb\u001b[0m: \thidden_layers: 4\n",
      "\u001b[34m\u001b[1mwandb\u001b[0m: \thidden_size: 64\n",
      "\u001b[34m\u001b[1mwandb\u001b[0m: \tloss: mse\n",
      "\u001b[34m\u001b[1mwandb\u001b[0m: \tlr: 0.0001\n",
      "\u001b[34m\u001b[1mwandb\u001b[0m: \toptimizer: rmsprop\n",
      "\u001b[34m\u001b[1mwandb\u001b[0m: \tw_init: random\n",
      "\u001b[34m\u001b[1mwandb\u001b[0m: \tweight_decay: 0.5\n"
     ]
    },
    {
     "data": {
      "text/html": [
       "Tracking run with wandb version 0.16.4"
      ],
      "text/plain": [
       "<IPython.core.display.HTML object>"
      ]
     },
     "metadata": {},
     "output_type": "display_data"
    },
    {
     "data": {
      "text/html": [
       "Run data is saved locally in <code>/Users/sumanta/Desktop/Numpy project/mse_error_revised/wandb/run-20240317_164950-nk3ceipp</code>"
      ],
      "text/plain": [
       "<IPython.core.display.HTML object>"
      ]
     },
     "metadata": {},
     "output_type": "display_data"
    },
    {
     "data": {
      "text/html": [
       "Syncing run <strong><a href='https://wandb.ai/sumanta_roy/CS6910_assignment_1/runs/nk3ceipp' target=\"_blank\">good-sweep-2</a></strong> to <a href='https://wandb.ai/sumanta_roy/CS6910_assignment_1' target=\"_blank\">Weights & Biases</a> (<a href='https://wandb.me/run' target=\"_blank\">docs</a>)<br/>Sweep page: <a href='https://wandb.ai/sumanta_roy/CS6910_assignment_1/sweeps/etqoz0cb' target=\"_blank\">https://wandb.ai/sumanta_roy/CS6910_assignment_1/sweeps/etqoz0cb</a>"
      ],
      "text/plain": [
       "<IPython.core.display.HTML object>"
      ]
     },
     "metadata": {},
     "output_type": "display_data"
    },
    {
     "data": {
      "text/html": [
       " View project at <a href='https://wandb.ai/sumanta_roy/CS6910_assignment_1' target=\"_blank\">https://wandb.ai/sumanta_roy/CS6910_assignment_1</a>"
      ],
      "text/plain": [
       "<IPython.core.display.HTML object>"
      ]
     },
     "metadata": {},
     "output_type": "display_data"
    },
    {
     "data": {
      "text/html": [
       " View sweep at <a href='https://wandb.ai/sumanta_roy/CS6910_assignment_1/sweeps/etqoz0cb' target=\"_blank\">https://wandb.ai/sumanta_roy/CS6910_assignment_1/sweeps/etqoz0cb</a>"
      ],
      "text/plain": [
       "<IPython.core.display.HTML object>"
      ]
     },
     "metadata": {},
     "output_type": "display_data"
    },
    {
     "data": {
      "text/html": [
       " View run at <a href='https://wandb.ai/sumanta_roy/CS6910_assignment_1/runs/nk3ceipp' target=\"_blank\">https://wandb.ai/sumanta_roy/CS6910_assignment_1/runs/nk3ceipp</a>"
      ],
      "text/plain": [
       "<IPython.core.display.HTML object>"
      ]
     },
     "metadata": {},
     "output_type": "display_data"
    },
    {
     "name": "stdout",
     "output_type": "stream",
     "text": [
      "Epoch: 1/10; Train Loss: 28.75739488001366; Val Loss: 0.18900230875772805\n",
      "Epoch: 2/10; Train Loss: 19.302867039462647; Val Loss: 0.1331527362943537\n",
      "Epoch: 3/10; Train Loss: 12.872911932543124; Val Loss: 0.09622894884393848\n",
      "Epoch: 4/10; Train Loss: 8.607833815503968; Val Loss: 0.07183794596655821\n",
      "Epoch: 5/10; Train Loss: 5.816529772033727; Val Loss: 0.055946814058272606\n",
      "Epoch: 6/10; Train Loss: 3.998716319388512; Val Loss: 0.04565334364760175\n",
      "Epoch: 7/10; Train Loss: 2.8154861061773695; Val Loss: 0.038972559752253354\n",
      "Epoch: 8/10; Train Loss: 2.0436368780226575; Val Loss: 0.03460120051835672\n",
      "Epoch: 9/10; Train Loss: 1.5371640053780677; Val Loss: 0.03169976537224614\n",
      "Epoch: 10/10; Train Loss: 1.2016698869462923; Val Loss: 0.029741182528177257\n"
     ]
    },
    {
     "data": {
      "application/vnd.jupyter.widget-view+json": {
       "model_id": "",
       "version_major": 2,
       "version_minor": 0
      },
      "text/plain": [
       "VBox(children=(Label(value='0.001 MB of 0.001 MB uploaded\\r'), FloatProgress(value=1.0, max=1.0)))"
      ]
     },
     "metadata": {},
     "output_type": "display_data"
    },
    {
     "data": {
      "text/html": [
       "<style>\n",
       "    table.wandb td:nth-child(1) { padding: 0 10px; text-align: left ; width: auto;} td:nth-child(2) {text-align: left ; width: 100%}\n",
       "    .wandb-row { display: flex; flex-direction: row; flex-wrap: wrap; justify-content: flex-start; width: 100% }\n",
       "    .wandb-col { display: flex; flex-direction: column; flex-basis: 100%; flex: 1; padding: 10px; }\n",
       "    </style>\n",
       "<div class=\"wandb-row\"><div class=\"wandb-col\"><h3>Run history:</h3><br/><table class=\"wandb\"><tr><td>epoch</td><td>▁▁▁▁▂▂▂▂▃▃▃▃▃▃▃▃▄▄▄▄▅▅▅▅▆▆▆▆▆▆▆▆▇▇▇▇████</td></tr><tr><td>train_accuracy</td><td>▁▅▅▆▅▅▅▅▇▆▆▄▇▆▆▇▇▇▇▅▆▇▅▇█▇▇▅▇▇▅█▇▇▇▅▆▇▅█</td></tr><tr><td>train_loss</td><td>██▇▇▆▅▅▅▄▄▄▃▃▃▃▂▂▂▂▂▂▂▂▂▁▁▁▁▁▁▁▁▁▁▁▁▁▁▁▁</td></tr><tr><td>val_accuracy</td><td>▁▄▅▅▆▆▆▇▇▇▇▇▇▇▇▇▇▇██████████████████████</td></tr><tr><td>validation_loss</td><td>█▇▆▆▅▅▅▄▄▄▃▃▃▃▂▂▂▂▂▂▂▂▂▁▁▁▁▁▁▁▁▁▁▁▁▁▁▁▁▁</td></tr></table><br/></div><div class=\"wandb-col\"><h3>Run summary:</h3><br/><table class=\"wandb\"><tr><td>epoch</td><td>10</td></tr><tr><td>train_accuracy</td><td>93.75</td></tr><tr><td>train_loss</td><td>1.20167</td></tr><tr><td>val_accuracy</td><td>84.25</td></tr><tr><td>validation_loss</td><td>0.02974</td></tr></table><br/></div></div>"
      ],
      "text/plain": [
       "<IPython.core.display.HTML object>"
      ]
     },
     "metadata": {},
     "output_type": "display_data"
    },
    {
     "data": {
      "text/html": [
       " View run <strong style=\"color:#cdcd00\">good-sweep-2</strong> at: <a href='https://wandb.ai/sumanta_roy/CS6910_assignment_1/runs/nk3ceipp' target=\"_blank\">https://wandb.ai/sumanta_roy/CS6910_assignment_1/runs/nk3ceipp</a><br/>Synced 6 W&B file(s), 0 media file(s), 0 artifact file(s) and 0 other file(s)"
      ],
      "text/plain": [
       "<IPython.core.display.HTML object>"
      ]
     },
     "metadata": {},
     "output_type": "display_data"
    },
    {
     "data": {
      "text/html": [
       "Find logs at: <code>./wandb/run-20240317_164950-nk3ceipp/logs</code>"
      ],
      "text/plain": [
       "<IPython.core.display.HTML object>"
      ]
     },
     "metadata": {},
     "output_type": "display_data"
    },
    {
     "name": "stderr",
     "output_type": "stream",
     "text": [
      "\u001b[34m\u001b[1mwandb\u001b[0m: Agent Starting Run: 3aci4w9k with config:\n",
      "\u001b[34m\u001b[1mwandb\u001b[0m: \tactivation: sigmoid\n",
      "\u001b[34m\u001b[1mwandb\u001b[0m: \tbatch_size: 16\n",
      "\u001b[34m\u001b[1mwandb\u001b[0m: \tepochs: 5\n",
      "\u001b[34m\u001b[1mwandb\u001b[0m: \thidden_layers: 3\n",
      "\u001b[34m\u001b[1mwandb\u001b[0m: \thidden_size: 32\n",
      "\u001b[34m\u001b[1mwandb\u001b[0m: \tloss: mse\n",
      "\u001b[34m\u001b[1mwandb\u001b[0m: \tlr: 0.0001\n",
      "\u001b[34m\u001b[1mwandb\u001b[0m: \toptimizer: nadam\n",
      "\u001b[34m\u001b[1mwandb\u001b[0m: \tw_init: random\n",
      "\u001b[34m\u001b[1mwandb\u001b[0m: \tweight_decay: 0.0005\n"
     ]
    },
    {
     "data": {
      "text/html": [
       "Tracking run with wandb version 0.16.4"
      ],
      "text/plain": [
       "<IPython.core.display.HTML object>"
      ]
     },
     "metadata": {},
     "output_type": "display_data"
    },
    {
     "data": {
      "text/html": [
       "Run data is saved locally in <code>/Users/sumanta/Desktop/Numpy project/mse_error_revised/wandb/run-20240317_165047-3aci4w9k</code>"
      ],
      "text/plain": [
       "<IPython.core.display.HTML object>"
      ]
     },
     "metadata": {},
     "output_type": "display_data"
    },
    {
     "data": {
      "text/html": [
       "Syncing run <strong><a href='https://wandb.ai/sumanta_roy/CS6910_assignment_1/runs/3aci4w9k' target=\"_blank\">dauntless-sweep-3</a></strong> to <a href='https://wandb.ai/sumanta_roy/CS6910_assignment_1' target=\"_blank\">Weights & Biases</a> (<a href='https://wandb.me/run' target=\"_blank\">docs</a>)<br/>Sweep page: <a href='https://wandb.ai/sumanta_roy/CS6910_assignment_1/sweeps/etqoz0cb' target=\"_blank\">https://wandb.ai/sumanta_roy/CS6910_assignment_1/sweeps/etqoz0cb</a>"
      ],
      "text/plain": [
       "<IPython.core.display.HTML object>"
      ]
     },
     "metadata": {},
     "output_type": "display_data"
    },
    {
     "data": {
      "text/html": [
       " View project at <a href='https://wandb.ai/sumanta_roy/CS6910_assignment_1' target=\"_blank\">https://wandb.ai/sumanta_roy/CS6910_assignment_1</a>"
      ],
      "text/plain": [
       "<IPython.core.display.HTML object>"
      ]
     },
     "metadata": {},
     "output_type": "display_data"
    },
    {
     "data": {
      "text/html": [
       " View sweep at <a href='https://wandb.ai/sumanta_roy/CS6910_assignment_1/sweeps/etqoz0cb' target=\"_blank\">https://wandb.ai/sumanta_roy/CS6910_assignment_1/sweeps/etqoz0cb</a>"
      ],
      "text/plain": [
       "<IPython.core.display.HTML object>"
      ]
     },
     "metadata": {},
     "output_type": "display_data"
    },
    {
     "data": {
      "text/html": [
       " View run at <a href='https://wandb.ai/sumanta_roy/CS6910_assignment_1/runs/3aci4w9k' target=\"_blank\">https://wandb.ai/sumanta_roy/CS6910_assignment_1/runs/3aci4w9k</a>"
      ],
      "text/plain": [
       "<IPython.core.display.HTML object>"
      ]
     },
     "metadata": {},
     "output_type": "display_data"
    },
    {
     "name": "stdout",
     "output_type": "stream",
     "text": [
      "Epoch: 1/5; Train Loss: 0.1259295331857024; Val Loss: 0.089527332947054\n",
      "Epoch: 2/5; Train Loss: 0.1234849191294311; Val Loss: 0.08828326718655094\n",
      "Epoch: 3/5; Train Loss: 0.12184786421426225; Val Loss: 0.08728415065560417\n",
      "Epoch: 4/5; Train Loss: 0.12036942108578459; Val Loss: 0.08621830764205864\n",
      "Epoch: 5/5; Train Loss: 0.11889569628776286; Val Loss: 0.08502746223207949\n"
     ]
    },
    {
     "data": {
      "application/vnd.jupyter.widget-view+json": {
       "model_id": "",
       "version_major": 2,
       "version_minor": 0
      },
      "text/plain": [
       "VBox(children=(Label(value='0.001 MB of 0.001 MB uploaded\\r'), FloatProgress(value=1.0, max=1.0)))"
      ]
     },
     "metadata": {},
     "output_type": "display_data"
    },
    {
     "data": {
      "text/html": [
       "<style>\n",
       "    table.wandb td:nth-child(1) { padding: 0 10px; text-align: left ; width: auto;} td:nth-child(2) {text-align: left ; width: 100%}\n",
       "    .wandb-row { display: flex; flex-direction: row; flex-wrap: wrap; justify-content: flex-start; width: 100% }\n",
       "    .wandb-col { display: flex; flex-direction: column; flex-basis: 100%; flex: 1; padding: 10px; }\n",
       "    </style>\n",
       "<div class=\"wandb-row\"><div class=\"wandb-col\"><h3>Run history:</h3><br/><table class=\"wandb\"><tr><td>epoch</td><td>▁▁▁▁▁▁▁▁▃▃▃▃▃▃▃▃▅▅▅▅▅▅▅▅▆▆▆▆▆▆▆▆████████</td></tr><tr><td>train_accuracy</td><td>▂▂▂▂▁▂▂▄▂▃▃▂▄▄▃▃▄▅▇▅▃█▆▅▆▅▅█▅▆▇▆▆▇█▅▅▇▇▆</td></tr><tr><td>train_loss</td><td>█▆▅▆▆▄▅▄▅▅▅▄▄▄▄▄▄▃▃▃▄▂▃▃▂▃▃▂▃▂▂▂▂▂▁▂▂▂▂▁</td></tr><tr><td>val_accuracy</td><td>▁▁▂▂▂▂▂▃▃▃▃▃▃▃▄▄▅▅▅▆▆▆▇▇▇▇▇▇████████████</td></tr><tr><td>validation_loss</td><td>█▇▇▆▆▆▆▅▅▅▅▅▅▄▄▄▄▄▄▄▄▃▃▃▃▃▃▃▃▂▂▂▂▂▂▂▁▁▁▁</td></tr></table><br/></div><div class=\"wandb-col\"><h3>Run summary:</h3><br/><table class=\"wandb\"><tr><td>epoch</td><td>5</td></tr><tr><td>train_accuracy</td><td>62.5</td></tr><tr><td>train_loss</td><td>0.1189</td></tr><tr><td>val_accuracy</td><td>53.46667</td></tr><tr><td>validation_loss</td><td>0.08503</td></tr></table><br/></div></div>"
      ],
      "text/plain": [
       "<IPython.core.display.HTML object>"
      ]
     },
     "metadata": {},
     "output_type": "display_data"
    },
    {
     "data": {
      "text/html": [
       " View run <strong style=\"color:#cdcd00\">dauntless-sweep-3</strong> at: <a href='https://wandb.ai/sumanta_roy/CS6910_assignment_1/runs/3aci4w9k' target=\"_blank\">https://wandb.ai/sumanta_roy/CS6910_assignment_1/runs/3aci4w9k</a><br/>Synced 6 W&B file(s), 0 media file(s), 0 artifact file(s) and 0 other file(s)"
      ],
      "text/plain": [
       "<IPython.core.display.HTML object>"
      ]
     },
     "metadata": {},
     "output_type": "display_data"
    },
    {
     "data": {
      "text/html": [
       "Find logs at: <code>./wandb/run-20240317_165047-3aci4w9k/logs</code>"
      ],
      "text/plain": [
       "<IPython.core.display.HTML object>"
      ]
     },
     "metadata": {},
     "output_type": "display_data"
    },
    {
     "name": "stderr",
     "output_type": "stream",
     "text": [
      "\u001b[34m\u001b[1mwandb\u001b[0m: Agent Starting Run: lrz2tulc with config:\n",
      "\u001b[34m\u001b[1mwandb\u001b[0m: \tactivation: tanh\n",
      "\u001b[34m\u001b[1mwandb\u001b[0m: \tbatch_size: 64\n",
      "\u001b[34m\u001b[1mwandb\u001b[0m: \tepochs: 5\n",
      "\u001b[34m\u001b[1mwandb\u001b[0m: \thidden_layers: 5\n",
      "\u001b[34m\u001b[1mwandb\u001b[0m: \thidden_size: 64\n",
      "\u001b[34m\u001b[1mwandb\u001b[0m: \tloss: mse\n",
      "\u001b[34m\u001b[1mwandb\u001b[0m: \tlr: 0.001\n",
      "\u001b[34m\u001b[1mwandb\u001b[0m: \toptimizer: sgd\n",
      "\u001b[34m\u001b[1mwandb\u001b[0m: \tw_init: glorot\n",
      "\u001b[34m\u001b[1mwandb\u001b[0m: \tweight_decay: 0.5\n"
     ]
    },
    {
     "data": {
      "text/html": [
       "Tracking run with wandb version 0.16.4"
      ],
      "text/plain": [
       "<IPython.core.display.HTML object>"
      ]
     },
     "metadata": {},
     "output_type": "display_data"
    },
    {
     "data": {
      "text/html": [
       "Run data is saved locally in <code>/Users/sumanta/Desktop/Numpy project/mse_error_revised/wandb/run-20240317_165120-lrz2tulc</code>"
      ],
      "text/plain": [
       "<IPython.core.display.HTML object>"
      ]
     },
     "metadata": {},
     "output_type": "display_data"
    },
    {
     "data": {
      "text/html": [
       "Syncing run <strong><a href='https://wandb.ai/sumanta_roy/CS6910_assignment_1/runs/lrz2tulc' target=\"_blank\">bright-sweep-4</a></strong> to <a href='https://wandb.ai/sumanta_roy/CS6910_assignment_1' target=\"_blank\">Weights & Biases</a> (<a href='https://wandb.me/run' target=\"_blank\">docs</a>)<br/>Sweep page: <a href='https://wandb.ai/sumanta_roy/CS6910_assignment_1/sweeps/etqoz0cb' target=\"_blank\">https://wandb.ai/sumanta_roy/CS6910_assignment_1/sweeps/etqoz0cb</a>"
      ],
      "text/plain": [
       "<IPython.core.display.HTML object>"
      ]
     },
     "metadata": {},
     "output_type": "display_data"
    },
    {
     "data": {
      "text/html": [
       " View project at <a href='https://wandb.ai/sumanta_roy/CS6910_assignment_1' target=\"_blank\">https://wandb.ai/sumanta_roy/CS6910_assignment_1</a>"
      ],
      "text/plain": [
       "<IPython.core.display.HTML object>"
      ]
     },
     "metadata": {},
     "output_type": "display_data"
    },
    {
     "data": {
      "text/html": [
       " View sweep at <a href='https://wandb.ai/sumanta_roy/CS6910_assignment_1/sweeps/etqoz0cb' target=\"_blank\">https://wandb.ai/sumanta_roy/CS6910_assignment_1/sweeps/etqoz0cb</a>"
      ],
      "text/plain": [
       "<IPython.core.display.HTML object>"
      ]
     },
     "metadata": {},
     "output_type": "display_data"
    },
    {
     "data": {
      "text/html": [
       " View run at <a href='https://wandb.ai/sumanta_roy/CS6910_assignment_1/runs/lrz2tulc' target=\"_blank\">https://wandb.ai/sumanta_roy/CS6910_assignment_1/runs/lrz2tulc</a>"
      ],
      "text/plain": [
       "<IPython.core.display.HTML object>"
      ]
     },
     "metadata": {},
     "output_type": "display_data"
    },
    {
     "name": "stdout",
     "output_type": "stream",
     "text": [
      "Epoch: 1/5; Train Loss: 1.5712520808356987; Val Loss: 0.08016680981599816\n",
      "Epoch: 2/5; Train Loss: 1.5485346273329925; Val Loss: 0.06753433045639726\n",
      "Epoch: 3/5; Train Loss: 1.531558113904625; Val Loss: 0.060358812302799415\n",
      "Epoch: 4/5; Train Loss: 1.5169368353128834; Val Loss: 0.056008024114166964\n",
      "Epoch: 5/5; Train Loss: 1.5029242724625866; Val Loss: 0.05302114636970048\n"
     ]
    },
    {
     "data": {
      "application/vnd.jupyter.widget-view+json": {
       "model_id": "7728ffd5cf11418d918d2eb91c78e366",
       "version_major": 2,
       "version_minor": 0
      },
      "text/plain": [
       "VBox(children=(Label(value='0.001 MB of 0.027 MB uploaded\\r'), FloatProgress(value=0.027658885731755567, max=1…"
      ]
     },
     "metadata": {},
     "output_type": "display_data"
    },
    {
     "data": {
      "text/html": [
       "<style>\n",
       "    table.wandb td:nth-child(1) { padding: 0 10px; text-align: left ; width: auto;} td:nth-child(2) {text-align: left ; width: 100%}\n",
       "    .wandb-row { display: flex; flex-direction: row; flex-wrap: wrap; justify-content: flex-start; width: 100% }\n",
       "    .wandb-col { display: flex; flex-direction: column; flex-basis: 100%; flex: 1; padding: 10px; }\n",
       "    </style>\n",
       "<div class=\"wandb-row\"><div class=\"wandb-col\"><h3>Run history:</h3><br/><table class=\"wandb\"><tr><td>epoch</td><td>▁▁▁▁▁▁▁▁▃▃▃▃▃▃▃▃▅▅▅▅▅▅▅▅▆▆▆▆▆▆▆▆████████</td></tr><tr><td>train_accuracy</td><td>▁▁▃▆▅▄▆▆▅▆▆▆▆▆▆▇▆▆▆▇▆▆▆▆▇▇▇▇▇▆▇▇▆▇▇█▇▇▇▇</td></tr><tr><td>train_loss</td><td>██▇▇▇▆▆▆▆▅▅▅▅▄▅▄▄▄▄▃▄▄▃▃▃▃▃▃▃▃▂▂▂▂▂▁▁▂▁▁</td></tr><tr><td>val_accuracy</td><td>▁▂▄▅▅▅▆▆▆▆▆▆▇▇▇▇▇▇▇▇▇▇▇▇▇███████████████</td></tr><tr><td>validation_loss</td><td>██▇▆▆▆▅▅▅▄▄▄▄▃▃▃▃▃▃▂▂▂▂▂▂▂▂▂▂▂▁▁▁▁▁▁▁▁▁▁</td></tr></table><br/></div><div class=\"wandb-col\"><h3>Run summary:</h3><br/><table class=\"wandb\"><tr><td>epoch</td><td>5</td></tr><tr><td>train_accuracy</td><td>81.25</td></tr><tr><td>train_loss</td><td>1.50292</td></tr><tr><td>val_accuracy</td><td>74.6</td></tr><tr><td>validation_loss</td><td>0.05302</td></tr></table><br/></div></div>"
      ],
      "text/plain": [
       "<IPython.core.display.HTML object>"
      ]
     },
     "metadata": {},
     "output_type": "display_data"
    },
    {
     "data": {
      "text/html": [
       " View run <strong style=\"color:#cdcd00\">bright-sweep-4</strong> at: <a href='https://wandb.ai/sumanta_roy/CS6910_assignment_1/runs/lrz2tulc' target=\"_blank\">https://wandb.ai/sumanta_roy/CS6910_assignment_1/runs/lrz2tulc</a><br/>Synced 6 W&B file(s), 0 media file(s), 0 artifact file(s) and 0 other file(s)"
      ],
      "text/plain": [
       "<IPython.core.display.HTML object>"
      ]
     },
     "metadata": {},
     "output_type": "display_data"
    },
    {
     "data": {
      "text/html": [
       "Find logs at: <code>./wandb/run-20240317_165120-lrz2tulc/logs</code>"
      ],
      "text/plain": [
       "<IPython.core.display.HTML object>"
      ]
     },
     "metadata": {},
     "output_type": "display_data"
    },
    {
     "name": "stderr",
     "output_type": "stream",
     "text": [
      "\u001b[34m\u001b[1mwandb\u001b[0m: Agent Starting Run: t6xr9jn0 with config:\n",
      "\u001b[34m\u001b[1mwandb\u001b[0m: \tactivation: sigmoid\n",
      "\u001b[34m\u001b[1mwandb\u001b[0m: \tbatch_size: 64\n",
      "\u001b[34m\u001b[1mwandb\u001b[0m: \tepochs: 5\n",
      "\u001b[34m\u001b[1mwandb\u001b[0m: \thidden_layers: 5\n",
      "\u001b[34m\u001b[1mwandb\u001b[0m: \thidden_size: 128\n",
      "\u001b[34m\u001b[1mwandb\u001b[0m: \tloss: mse\n",
      "\u001b[34m\u001b[1mwandb\u001b[0m: \tlr: 0.001\n",
      "\u001b[34m\u001b[1mwandb\u001b[0m: \toptimizer: sgd\n",
      "\u001b[34m\u001b[1mwandb\u001b[0m: \tw_init: glorot\n",
      "\u001b[34m\u001b[1mwandb\u001b[0m: \tweight_decay: 0.5\n"
     ]
    },
    {
     "data": {
      "text/html": [
       "Tracking run with wandb version 0.16.4"
      ],
      "text/plain": [
       "<IPython.core.display.HTML object>"
      ]
     },
     "metadata": {},
     "output_type": "display_data"
    },
    {
     "data": {
      "text/html": [
       "Run data is saved locally in <code>/Users/sumanta/Desktop/Numpy project/mse_error_revised/wandb/run-20240317_165151-t6xr9jn0</code>"
      ],
      "text/plain": [
       "<IPython.core.display.HTML object>"
      ]
     },
     "metadata": {},
     "output_type": "display_data"
    },
    {
     "data": {
      "text/html": [
       "Syncing run <strong><a href='https://wandb.ai/sumanta_roy/CS6910_assignment_1/runs/t6xr9jn0' target=\"_blank\">daily-sweep-5</a></strong> to <a href='https://wandb.ai/sumanta_roy/CS6910_assignment_1' target=\"_blank\">Weights & Biases</a> (<a href='https://wandb.me/run' target=\"_blank\">docs</a>)<br/>Sweep page: <a href='https://wandb.ai/sumanta_roy/CS6910_assignment_1/sweeps/etqoz0cb' target=\"_blank\">https://wandb.ai/sumanta_roy/CS6910_assignment_1/sweeps/etqoz0cb</a>"
      ],
      "text/plain": [
       "<IPython.core.display.HTML object>"
      ]
     },
     "metadata": {},
     "output_type": "display_data"
    },
    {
     "data": {
      "text/html": [
       " View project at <a href='https://wandb.ai/sumanta_roy/CS6910_assignment_1' target=\"_blank\">https://wandb.ai/sumanta_roy/CS6910_assignment_1</a>"
      ],
      "text/plain": [
       "<IPython.core.display.HTML object>"
      ]
     },
     "metadata": {},
     "output_type": "display_data"
    },
    {
     "data": {
      "text/html": [
       " View sweep at <a href='https://wandb.ai/sumanta_roy/CS6910_assignment_1/sweeps/etqoz0cb' target=\"_blank\">https://wandb.ai/sumanta_roy/CS6910_assignment_1/sweeps/etqoz0cb</a>"
      ],
      "text/plain": [
       "<IPython.core.display.HTML object>"
      ]
     },
     "metadata": {},
     "output_type": "display_data"
    },
    {
     "data": {
      "text/html": [
       " View run at <a href='https://wandb.ai/sumanta_roy/CS6910_assignment_1/runs/t6xr9jn0' target=\"_blank\">https://wandb.ai/sumanta_roy/CS6910_assignment_1/runs/t6xr9jn0</a>"
      ],
      "text/plain": [
       "<IPython.core.display.HTML object>"
      ]
     },
     "metadata": {},
     "output_type": "display_data"
    },
    {
     "name": "stdout",
     "output_type": "stream",
     "text": [
      "Epoch: 1/5; Train Loss: 2.992825795549693; Val Loss: 0.12097500544391296\n",
      "Epoch: 2/5; Train Loss: 2.9548513707199127; Val Loss: 0.12056274395032782\n",
      "Epoch: 3/5; Train Loss: 2.917365406393106; Val Loss: 0.12016270492596767\n",
      "Epoch: 4/5; Train Loss: 2.880369452370195; Val Loss: 0.11976802471956471\n",
      "Epoch: 5/5; Train Loss: 2.8438576662610444; Val Loss: 0.11937852010858788\n"
     ]
    },
    {
     "data": {
      "application/vnd.jupyter.widget-view+json": {
       "model_id": "1c05ef109da44e73b44646eafbd7390d",
       "version_major": 2,
       "version_minor": 0
      },
      "text/plain": [
       "VBox(children=(Label(value='0.001 MB of 0.001 MB uploaded\\r'), FloatProgress(value=1.0, max=1.0)))"
      ]
     },
     "metadata": {},
     "output_type": "display_data"
    },
    {
     "data": {
      "text/html": [
       "<style>\n",
       "    table.wandb td:nth-child(1) { padding: 0 10px; text-align: left ; width: auto;} td:nth-child(2) {text-align: left ; width: 100%}\n",
       "    .wandb-row { display: flex; flex-direction: row; flex-wrap: wrap; justify-content: flex-start; width: 100% }\n",
       "    .wandb-col { display: flex; flex-direction: column; flex-basis: 100%; flex: 1; padding: 10px; }\n",
       "    </style>\n",
       "<div class=\"wandb-row\"><div class=\"wandb-col\"><h3>Run history:</h3><br/><table class=\"wandb\"><tr><td>epoch</td><td>▁▁▁▁▁▁▁▁▃▃▃▃▃▃▃▃▅▅▅▅▅▅▅▅▆▆▆▆▆▆▆▆████████</td></tr><tr><td>train_accuracy</td><td>▃▅▄▆▃▄▅▃▃▂▃▂▃▃▄▅▄▃▃▄▄▄▃▄▁▃▅▅▄▂▄█▄▆▆▅▃▃▅▂</td></tr><tr><td>train_loss</td><td>███▇▇▇▇▇▆▆▆▆▆▆▅▅▅▅▅▅▄▄▄▄▄▃▃▃▃▃▃▂▂▂▂▂▂▁▁▁</td></tr><tr><td>val_accuracy</td><td>▂▂▂▂▂▂▃▁▂▂▂▂▂▁▂▁▁▂▂▁▂▂▂▂▂▂▁▂▂▁▁▃▂▂█▂▂▁▂▃</td></tr><tr><td>validation_loss</td><td>█▆▅▄▄▄▄▄▄▄▄▃▃▃▃▃▃▃▃▃▃▃▂▂▂▂▂▂▂▂▂▂▂▂▁▁▁▁▁▁</td></tr></table><br/></div><div class=\"wandb-col\"><h3>Run summary:</h3><br/><table class=\"wandb\"><tr><td>epoch</td><td>5</td></tr><tr><td>train_accuracy</td><td>9.375</td></tr><tr><td>train_loss</td><td>2.84386</td></tr><tr><td>val_accuracy</td><td>10.53333</td></tr><tr><td>validation_loss</td><td>0.11938</td></tr></table><br/></div></div>"
      ],
      "text/plain": [
       "<IPython.core.display.HTML object>"
      ]
     },
     "metadata": {},
     "output_type": "display_data"
    },
    {
     "data": {
      "text/html": [
       " View run <strong style=\"color:#cdcd00\">daily-sweep-5</strong> at: <a href='https://wandb.ai/sumanta_roy/CS6910_assignment_1/runs/t6xr9jn0' target=\"_blank\">https://wandb.ai/sumanta_roy/CS6910_assignment_1/runs/t6xr9jn0</a><br/>Synced 6 W&B file(s), 0 media file(s), 0 artifact file(s) and 0 other file(s)"
      ],
      "text/plain": [
       "<IPython.core.display.HTML object>"
      ]
     },
     "metadata": {},
     "output_type": "display_data"
    },
    {
     "data": {
      "text/html": [
       "Find logs at: <code>./wandb/run-20240317_165151-t6xr9jn0/logs</code>"
      ],
      "text/plain": [
       "<IPython.core.display.HTML object>"
      ]
     },
     "metadata": {},
     "output_type": "display_data"
    },
    {
     "name": "stderr",
     "output_type": "stream",
     "text": [
      "\u001b[34m\u001b[1mwandb\u001b[0m: Agent Starting Run: 2m1exihx with config:\n",
      "\u001b[34m\u001b[1mwandb\u001b[0m: \tactivation: tanh\n",
      "\u001b[34m\u001b[1mwandb\u001b[0m: \tbatch_size: 32\n",
      "\u001b[34m\u001b[1mwandb\u001b[0m: \tepochs: 5\n",
      "\u001b[34m\u001b[1mwandb\u001b[0m: \thidden_layers: 4\n",
      "\u001b[34m\u001b[1mwandb\u001b[0m: \thidden_size: 64\n",
      "\u001b[34m\u001b[1mwandb\u001b[0m: \tloss: mse\n",
      "\u001b[34m\u001b[1mwandb\u001b[0m: \tlr: 0.001\n",
      "\u001b[34m\u001b[1mwandb\u001b[0m: \toptimizer: sgd\n",
      "\u001b[34m\u001b[1mwandb\u001b[0m: \tw_init: random\n",
      "\u001b[34m\u001b[1mwandb\u001b[0m: \tweight_decay: 0.5\n"
     ]
    },
    {
     "data": {
      "text/html": [
       "Tracking run with wandb version 0.16.4"
      ],
      "text/plain": [
       "<IPython.core.display.HTML object>"
      ]
     },
     "metadata": {},
     "output_type": "display_data"
    },
    {
     "data": {
      "text/html": [
       "Run data is saved locally in <code>/Users/sumanta/Desktop/Numpy project/mse_error_revised/wandb/run-20240317_165250-2m1exihx</code>"
      ],
      "text/plain": [
       "<IPython.core.display.HTML object>"
      ]
     },
     "metadata": {},
     "output_type": "display_data"
    },
    {
     "data": {
      "text/html": [
       "Syncing run <strong><a href='https://wandb.ai/sumanta_roy/CS6910_assignment_1/runs/2m1exihx' target=\"_blank\">blooming-sweep-6</a></strong> to <a href='https://wandb.ai/sumanta_roy/CS6910_assignment_1' target=\"_blank\">Weights & Biases</a> (<a href='https://wandb.me/run' target=\"_blank\">docs</a>)<br/>Sweep page: <a href='https://wandb.ai/sumanta_roy/CS6910_assignment_1/sweeps/etqoz0cb' target=\"_blank\">https://wandb.ai/sumanta_roy/CS6910_assignment_1/sweeps/etqoz0cb</a>"
      ],
      "text/plain": [
       "<IPython.core.display.HTML object>"
      ]
     },
     "metadata": {},
     "output_type": "display_data"
    },
    {
     "data": {
      "text/html": [
       " View project at <a href='https://wandb.ai/sumanta_roy/CS6910_assignment_1' target=\"_blank\">https://wandb.ai/sumanta_roy/CS6910_assignment_1</a>"
      ],
      "text/plain": [
       "<IPython.core.display.HTML object>"
      ]
     },
     "metadata": {},
     "output_type": "display_data"
    },
    {
     "data": {
      "text/html": [
       " View sweep at <a href='https://wandb.ai/sumanta_roy/CS6910_assignment_1/sweeps/etqoz0cb' target=\"_blank\">https://wandb.ai/sumanta_roy/CS6910_assignment_1/sweeps/etqoz0cb</a>"
      ],
      "text/plain": [
       "<IPython.core.display.HTML object>"
      ]
     },
     "metadata": {},
     "output_type": "display_data"
    },
    {
     "data": {
      "text/html": [
       " View run at <a href='https://wandb.ai/sumanta_roy/CS6910_assignment_1/runs/2m1exihx' target=\"_blank\">https://wandb.ai/sumanta_roy/CS6910_assignment_1/runs/2m1exihx</a>"
      ],
      "text/plain": [
       "<IPython.core.display.HTML object>"
      ]
     },
     "metadata": {},
     "output_type": "display_data"
    },
    {
     "name": "stdout",
     "output_type": "stream",
     "text": [
      "Epoch: 1/5; Train Loss: 38.9872911089719; Val Loss: 0.26034659565206175\n",
      "Epoch: 2/5; Train Loss: 36.97693240434169; Val Loss: 0.2413192953657346\n",
      "Epoch: 3/5; Train Loss: 35.07572304910866; Val Loss: 0.2270274313942639\n",
      "Epoch: 4/5; Train Loss: 33.27502171644101; Val Loss: 0.2148271497908255\n",
      "Epoch: 5/5; Train Loss: 31.568951828357886; Val Loss: 0.20390655315958497\n"
     ]
    },
    {
     "data": {
      "application/vnd.jupyter.widget-view+json": {
       "model_id": "bd160af82d204ced88e3a69067e58c40",
       "version_major": 2,
       "version_minor": 0
      },
      "text/plain": [
       "VBox(children=(Label(value='0.001 MB of 0.001 MB uploaded\\r'), FloatProgress(value=1.0, max=1.0)))"
      ]
     },
     "metadata": {},
     "output_type": "display_data"
    },
    {
     "data": {
      "text/html": [
       "<style>\n",
       "    table.wandb td:nth-child(1) { padding: 0 10px; text-align: left ; width: auto;} td:nth-child(2) {text-align: left ; width: 100%}\n",
       "    .wandb-row { display: flex; flex-direction: row; flex-wrap: wrap; justify-content: flex-start; width: 100% }\n",
       "    .wandb-col { display: flex; flex-direction: column; flex-basis: 100%; flex: 1; padding: 10px; }\n",
       "    </style>\n",
       "<div class=\"wandb-row\"><div class=\"wandb-col\"><h3>Run history:</h3><br/><table class=\"wandb\"><tr><td>epoch</td><td>▁▁▁▁▁▁▁▁▃▃▃▃▃▃▃▃▅▅▅▅▅▅▅▅▆▆▆▆▆▆▆▆████████</td></tr><tr><td>train_accuracy</td><td>▁▄▅▅▅▅▇▅▆▆▇█▆▆█▆▆▇██▅▆▆▆▇▇██▅▆▆▆▇▇█▇▆▆▇█</td></tr><tr><td>train_loss</td><td>███▇▇▇▇▇▆▆▆▆▆▅▅▅▅▅▅▄▄▄▄▄▄▃▃▃▃▃▂▂▂▂▂▂▁▁▁▁</td></tr><tr><td>val_accuracy</td><td>▁▂▄▄▅▆▆▆▆▆▇▇▇▇▇▇▇▇▇▇▇▇██████████████████</td></tr><tr><td>validation_loss</td><td>█▇▆▆▆▅▅▅▅▄▄▄▄▄▄▃▃▃▃▃▃▃▃▃▂▂▂▂▂▂▂▂▂▂▁▁▁▁▁▁</td></tr></table><br/></div><div class=\"wandb-col\"><h3>Run summary:</h3><br/><table class=\"wandb\"><tr><td>epoch</td><td>5</td></tr><tr><td>train_accuracy</td><td>81.25</td></tr><tr><td>train_loss</td><td>31.56895</td></tr><tr><td>val_accuracy</td><td>75.08333</td></tr><tr><td>validation_loss</td><td>0.20391</td></tr></table><br/></div></div>"
      ],
      "text/plain": [
       "<IPython.core.display.HTML object>"
      ]
     },
     "metadata": {},
     "output_type": "display_data"
    },
    {
     "data": {
      "text/html": [
       " View run <strong style=\"color:#cdcd00\">blooming-sweep-6</strong> at: <a href='https://wandb.ai/sumanta_roy/CS6910_assignment_1/runs/2m1exihx' target=\"_blank\">https://wandb.ai/sumanta_roy/CS6910_assignment_1/runs/2m1exihx</a><br/>Synced 6 W&B file(s), 0 media file(s), 0 artifact file(s) and 0 other file(s)"
      ],
      "text/plain": [
       "<IPython.core.display.HTML object>"
      ]
     },
     "metadata": {},
     "output_type": "display_data"
    },
    {
     "data": {
      "text/html": [
       "Find logs at: <code>./wandb/run-20240317_165250-2m1exihx/logs</code>"
      ],
      "text/plain": [
       "<IPython.core.display.HTML object>"
      ]
     },
     "metadata": {},
     "output_type": "display_data"
    },
    {
     "name": "stderr",
     "output_type": "stream",
     "text": [
      "\u001b[34m\u001b[1mwandb\u001b[0m: Agent Starting Run: w3agda16 with config:\n",
      "\u001b[34m\u001b[1mwandb\u001b[0m: \tactivation: tanh\n",
      "\u001b[34m\u001b[1mwandb\u001b[0m: \tbatch_size: 64\n",
      "\u001b[34m\u001b[1mwandb\u001b[0m: \tepochs: 5\n",
      "\u001b[34m\u001b[1mwandb\u001b[0m: \thidden_layers: 5\n",
      "\u001b[34m\u001b[1mwandb\u001b[0m: \thidden_size: 128\n",
      "\u001b[34m\u001b[1mwandb\u001b[0m: \tloss: mse\n",
      "\u001b[34m\u001b[1mwandb\u001b[0m: \tlr: 0.0001\n",
      "\u001b[34m\u001b[1mwandb\u001b[0m: \toptimizer: rmsprop\n",
      "\u001b[34m\u001b[1mwandb\u001b[0m: \tw_init: glorot\n",
      "\u001b[34m\u001b[1mwandb\u001b[0m: \tweight_decay: 0.0005\n"
     ]
    },
    {
     "data": {
      "text/html": [
       "Tracking run with wandb version 0.16.4"
      ],
      "text/plain": [
       "<IPython.core.display.HTML object>"
      ]
     },
     "metadata": {},
     "output_type": "display_data"
    },
    {
     "data": {
      "text/html": [
       "Run data is saved locally in <code>/Users/sumanta/Desktop/Numpy project/mse_error_revised/wandb/run-20240317_165321-w3agda16</code>"
      ],
      "text/plain": [
       "<IPython.core.display.HTML object>"
      ]
     },
     "metadata": {},
     "output_type": "display_data"
    },
    {
     "data": {
      "text/html": [
       "Syncing run <strong><a href='https://wandb.ai/sumanta_roy/CS6910_assignment_1/runs/w3agda16' target=\"_blank\">graceful-sweep-7</a></strong> to <a href='https://wandb.ai/sumanta_roy/CS6910_assignment_1' target=\"_blank\">Weights & Biases</a> (<a href='https://wandb.me/run' target=\"_blank\">docs</a>)<br/>Sweep page: <a href='https://wandb.ai/sumanta_roy/CS6910_assignment_1/sweeps/etqoz0cb' target=\"_blank\">https://wandb.ai/sumanta_roy/CS6910_assignment_1/sweeps/etqoz0cb</a>"
      ],
      "text/plain": [
       "<IPython.core.display.HTML object>"
      ]
     },
     "metadata": {},
     "output_type": "display_data"
    },
    {
     "data": {
      "text/html": [
       " View project at <a href='https://wandb.ai/sumanta_roy/CS6910_assignment_1' target=\"_blank\">https://wandb.ai/sumanta_roy/CS6910_assignment_1</a>"
      ],
      "text/plain": [
       "<IPython.core.display.HTML object>"
      ]
     },
     "metadata": {},
     "output_type": "display_data"
    },
    {
     "data": {
      "text/html": [
       " View sweep at <a href='https://wandb.ai/sumanta_roy/CS6910_assignment_1/sweeps/etqoz0cb' target=\"_blank\">https://wandb.ai/sumanta_roy/CS6910_assignment_1/sweeps/etqoz0cb</a>"
      ],
      "text/plain": [
       "<IPython.core.display.HTML object>"
      ]
     },
     "metadata": {},
     "output_type": "display_data"
    },
    {
     "data": {
      "text/html": [
       " View run at <a href='https://wandb.ai/sumanta_roy/CS6910_assignment_1/runs/w3agda16' target=\"_blank\">https://wandb.ai/sumanta_roy/CS6910_assignment_1/runs/w3agda16</a>"
      ],
      "text/plain": [
       "<IPython.core.display.HTML object>"
      ]
     },
     "metadata": {},
     "output_type": "display_data"
    },
    {
     "name": "stdout",
     "output_type": "stream",
     "text": [
      "Epoch: 1/5; Train Loss: 0.022472193162632846; Val Loss: 0.027905153357838355\n",
      "Epoch: 2/5; Train Loss: 0.018658270004132997; Val Loss: 0.024291484486297893\n",
      "Epoch: 3/5; Train Loss: 0.01771323428367949; Val Loss: 0.022564554846970137\n",
      "Epoch: 4/5; Train Loss: 0.017683740203589503; Val Loss: 0.02143521025200093\n",
      "Epoch: 5/5; Train Loss: 0.0178830460855628; Val Loss: 0.020646865008470384\n"
     ]
    },
    {
     "data": {
      "application/vnd.jupyter.widget-view+json": {
       "model_id": "2e59cc71af9149d3ac7746b4a406d4e5",
       "version_major": 2,
       "version_minor": 0
      },
      "text/plain": [
       "VBox(children=(Label(value='0.001 MB of 0.027 MB uploaded\\r'), FloatProgress(value=0.027591162205855935, max=1…"
      ]
     },
     "metadata": {},
     "output_type": "display_data"
    },
    {
     "data": {
      "text/html": [
       "<style>\n",
       "    table.wandb td:nth-child(1) { padding: 0 10px; text-align: left ; width: auto;} td:nth-child(2) {text-align: left ; width: 100%}\n",
       "    .wandb-row { display: flex; flex-direction: row; flex-wrap: wrap; justify-content: flex-start; width: 100% }\n",
       "    .wandb-col { display: flex; flex-direction: column; flex-basis: 100%; flex: 1; padding: 10px; }\n",
       "    </style>\n",
       "<div class=\"wandb-row\"><div class=\"wandb-col\"><h3>Run history:</h3><br/><table class=\"wandb\"><tr><td>epoch</td><td>▁▁▁▁▁▁▁▁▃▃▃▃▃▃▃▃▅▅▅▅▅▅▅▅▆▆▆▆▆▆▆▆████████</td></tr><tr><td>train_accuracy</td><td>▁▁▅▆▅▅▆▆▄▇▇▅▆▇▆▇▅▆▅▆▅▅▇▇█▅▅▆▆▅▇▆▅▇▇▇▇▅▇▆</td></tr><tr><td>train_loss</td><td>█▇▄▃▄▄▃▃▄▂▂▄▂▂▃▁▄▃▃▂▃▃▂▂▁▃▂▃▃▄▂▂▃▂▁▂▂▃▂▂</td></tr><tr><td>val_accuracy</td><td>▁▃▅▆▆▆▇▇▇▇▇▇▇▇▇▇▇▇▇▇▇▇██████████████████</td></tr><tr><td>validation_loss</td><td>█▆▄▃▃▂▂▂▂▂▂▂▂▂▂▂▂▂▁▁▁▁▁▁▁▁▁▁▁▁▁▁▁▁▁▁▁▁▁▁</td></tr></table><br/></div><div class=\"wandb-col\"><h3>Run summary:</h3><br/><table class=\"wandb\"><tr><td>epoch</td><td>5</td></tr><tr><td>train_accuracy</td><td>90.625</td></tr><tr><td>train_loss</td><td>0.01788</td></tr><tr><td>val_accuracy</td><td>85.58333</td></tr><tr><td>validation_loss</td><td>0.02065</td></tr></table><br/></div></div>"
      ],
      "text/plain": [
       "<IPython.core.display.HTML object>"
      ]
     },
     "metadata": {},
     "output_type": "display_data"
    },
    {
     "data": {
      "text/html": [
       " View run <strong style=\"color:#cdcd00\">graceful-sweep-7</strong> at: <a href='https://wandb.ai/sumanta_roy/CS6910_assignment_1/runs/w3agda16' target=\"_blank\">https://wandb.ai/sumanta_roy/CS6910_assignment_1/runs/w3agda16</a><br/>Synced 6 W&B file(s), 0 media file(s), 0 artifact file(s) and 0 other file(s)"
      ],
      "text/plain": [
       "<IPython.core.display.HTML object>"
      ]
     },
     "metadata": {},
     "output_type": "display_data"
    },
    {
     "data": {
      "text/html": [
       "Find logs at: <code>./wandb/run-20240317_165321-w3agda16/logs</code>"
      ],
      "text/plain": [
       "<IPython.core.display.HTML object>"
      ]
     },
     "metadata": {},
     "output_type": "display_data"
    },
    {
     "name": "stderr",
     "output_type": "stream",
     "text": [
      "\u001b[34m\u001b[1mwandb\u001b[0m: Agent Starting Run: nlw8vybi with config:\n",
      "\u001b[34m\u001b[1mwandb\u001b[0m: \tactivation: tanh\n",
      "\u001b[34m\u001b[1mwandb\u001b[0m: \tbatch_size: 16\n",
      "\u001b[34m\u001b[1mwandb\u001b[0m: \tepochs: 10\n",
      "\u001b[34m\u001b[1mwandb\u001b[0m: \thidden_layers: 3\n",
      "\u001b[34m\u001b[1mwandb\u001b[0m: \thidden_size: 64\n",
      "\u001b[34m\u001b[1mwandb\u001b[0m: \tloss: mse\n",
      "\u001b[34m\u001b[1mwandb\u001b[0m: \tlr: 0.0001\n",
      "\u001b[34m\u001b[1mwandb\u001b[0m: \toptimizer: rmsprop\n",
      "\u001b[34m\u001b[1mwandb\u001b[0m: \tw_init: random\n",
      "\u001b[34m\u001b[1mwandb\u001b[0m: \tweight_decay: 0.5\n"
     ]
    },
    {
     "data": {
      "text/html": [
       "Tracking run with wandb version 0.16.4"
      ],
      "text/plain": [
       "<IPython.core.display.HTML object>"
      ]
     },
     "metadata": {},
     "output_type": "display_data"
    },
    {
     "data": {
      "text/html": [
       "Run data is saved locally in <code>/Users/sumanta/Desktop/Numpy project/mse_error_revised/wandb/run-20240317_165420-nlw8vybi</code>"
      ],
      "text/plain": [
       "<IPython.core.display.HTML object>"
      ]
     },
     "metadata": {},
     "output_type": "display_data"
    },
    {
     "data": {
      "text/html": [
       "Syncing run <strong><a href='https://wandb.ai/sumanta_roy/CS6910_assignment_1/runs/nlw8vybi' target=\"_blank\">vital-sweep-8</a></strong> to <a href='https://wandb.ai/sumanta_roy/CS6910_assignment_1' target=\"_blank\">Weights & Biases</a> (<a href='https://wandb.me/run' target=\"_blank\">docs</a>)<br/>Sweep page: <a href='https://wandb.ai/sumanta_roy/CS6910_assignment_1/sweeps/etqoz0cb' target=\"_blank\">https://wandb.ai/sumanta_roy/CS6910_assignment_1/sweeps/etqoz0cb</a>"
      ],
      "text/plain": [
       "<IPython.core.display.HTML object>"
      ]
     },
     "metadata": {},
     "output_type": "display_data"
    },
    {
     "data": {
      "text/html": [
       " View project at <a href='https://wandb.ai/sumanta_roy/CS6910_assignment_1' target=\"_blank\">https://wandb.ai/sumanta_roy/CS6910_assignment_1</a>"
      ],
      "text/plain": [
       "<IPython.core.display.HTML object>"
      ]
     },
     "metadata": {},
     "output_type": "display_data"
    },
    {
     "data": {
      "text/html": [
       " View sweep at <a href='https://wandb.ai/sumanta_roy/CS6910_assignment_1/sweeps/etqoz0cb' target=\"_blank\">https://wandb.ai/sumanta_roy/CS6910_assignment_1/sweeps/etqoz0cb</a>"
      ],
      "text/plain": [
       "<IPython.core.display.HTML object>"
      ]
     },
     "metadata": {},
     "output_type": "display_data"
    },
    {
     "data": {
      "text/html": [
       " View run at <a href='https://wandb.ai/sumanta_roy/CS6910_assignment_1/runs/nlw8vybi' target=\"_blank\">https://wandb.ai/sumanta_roy/CS6910_assignment_1/runs/nlw8vybi</a>"
      ],
      "text/plain": [
       "<IPython.core.display.HTML object>"
      ]
     },
     "metadata": {},
     "output_type": "display_data"
    },
    {
     "name": "stdout",
     "output_type": "stream",
     "text": [
      "Epoch: 1/10; Train Loss: 22.239658731601732; Val Loss: 0.09096844961002379\n",
      "Epoch: 2/10; Train Loss: 5.723840592717929; Val Loss: 0.04386899661035259\n",
      "Epoch: 3/10; Train Loss: 1.8297954483981773; Val Loss: 0.03370711188509704\n",
      "Epoch: 4/10; Train Loss: 0.9265283038126505; Val Loss: 0.0313550764975184\n",
      "Epoch: 5/10; Train Loss: 0.6943971279248893; Val Loss: 0.030670413690222297\n",
      "Epoch: 6/10; Train Loss: 0.6196427274588621; Val Loss: 0.03044860992674105\n",
      "Epoch: 7/10; Train Loss: 0.5867866608891527; Val Loss: 0.030376212873751574\n",
      "Epoch: 8/10; Train Loss: 0.5672909172861722; Val Loss: 0.030335029713191054\n",
      "Epoch: 9/10; Train Loss: 0.5552215417804182; Val Loss: 0.03029734947049564\n",
      "Epoch: 10/10; Train Loss: 0.5480457704914413; Val Loss: 0.030267462532022504\n"
     ]
    },
    {
     "data": {
      "application/vnd.jupyter.widget-view+json": {
       "model_id": "cc6b2354ee2f4680adf6f384041f4540",
       "version_major": 2,
       "version_minor": 0
      },
      "text/plain": [
       "VBox(children=(Label(value='0.001 MB of 0.027 MB uploaded\\r'), FloatProgress(value=0.02724177071509648, max=1.…"
      ]
     },
     "metadata": {},
     "output_type": "display_data"
    },
    {
     "data": {
      "text/html": [
       "<style>\n",
       "    table.wandb td:nth-child(1) { padding: 0 10px; text-align: left ; width: auto;} td:nth-child(2) {text-align: left ; width: 100%}\n",
       "    .wandb-row { display: flex; flex-direction: row; flex-wrap: wrap; justify-content: flex-start; width: 100% }\n",
       "    .wandb-col { display: flex; flex-direction: column; flex-basis: 100%; flex: 1; padding: 10px; }\n",
       "    </style>\n",
       "<div class=\"wandb-row\"><div class=\"wandb-col\"><h3>Run history:</h3><br/><table class=\"wandb\"><tr><td>epoch</td><td>▁▁▁▁▂▂▂▂▃▃▃▃▃▃▃▃▄▄▄▄▅▅▅▅▆▆▆▆▆▆▆▆▇▇▇▇████</td></tr><tr><td>train_accuracy</td><td>▁▆▄▃▄▅▄█▃▆▆▅▆▆▅▅▆█▆▃▆▃▆▄▆▆▆▇▆▆▆▃▆▆▆▇▆▆▆▇</td></tr><tr><td>train_loss</td><td>█▆▅▄▃▂▂▂▁▁▁▁▁▁▁▁▁▁▁▁▁▁▁▁▁▁▁▁▁▁▁▁▁▁▁▁▁▁▁▁</td></tr><tr><td>val_accuracy</td><td>▁▅▆▇▇███████████████████████████████████</td></tr><tr><td>validation_loss</td><td>█▆▄▃▃▂▂▂▁▁▁▁▁▁▁▁▁▁▁▁▁▁▁▁▁▁▁▁▁▁▁▁▁▁▁▁▁▁▁▁</td></tr></table><br/></div><div class=\"wandb-col\"><h3>Run summary:</h3><br/><table class=\"wandb\"><tr><td>epoch</td><td>10</td></tr><tr><td>train_accuracy</td><td>87.5</td></tr><tr><td>train_loss</td><td>0.54805</td></tr><tr><td>val_accuracy</td><td>80.85</td></tr><tr><td>validation_loss</td><td>0.03027</td></tr></table><br/></div></div>"
      ],
      "text/plain": [
       "<IPython.core.display.HTML object>"
      ]
     },
     "metadata": {},
     "output_type": "display_data"
    },
    {
     "data": {
      "text/html": [
       " View run <strong style=\"color:#cdcd00\">vital-sweep-8</strong> at: <a href='https://wandb.ai/sumanta_roy/CS6910_assignment_1/runs/nlw8vybi' target=\"_blank\">https://wandb.ai/sumanta_roy/CS6910_assignment_1/runs/nlw8vybi</a><br/>Synced 6 W&B file(s), 0 media file(s), 0 artifact file(s) and 0 other file(s)"
      ],
      "text/plain": [
       "<IPython.core.display.HTML object>"
      ]
     },
     "metadata": {},
     "output_type": "display_data"
    },
    {
     "data": {
      "text/html": [
       "Find logs at: <code>./wandb/run-20240317_165420-nlw8vybi/logs</code>"
      ],
      "text/plain": [
       "<IPython.core.display.HTML object>"
      ]
     },
     "metadata": {},
     "output_type": "display_data"
    },
    {
     "name": "stderr",
     "output_type": "stream",
     "text": [
      "\u001b[34m\u001b[1mwandb\u001b[0m: Agent Starting Run: xrg2s9g0 with config:\n",
      "\u001b[34m\u001b[1mwandb\u001b[0m: \tactivation: tanh\n",
      "\u001b[34m\u001b[1mwandb\u001b[0m: \tbatch_size: 16\n",
      "\u001b[34m\u001b[1mwandb\u001b[0m: \tepochs: 10\n",
      "\u001b[34m\u001b[1mwandb\u001b[0m: \thidden_layers: 5\n",
      "\u001b[34m\u001b[1mwandb\u001b[0m: \thidden_size: 64\n",
      "\u001b[34m\u001b[1mwandb\u001b[0m: \tloss: mse\n",
      "\u001b[34m\u001b[1mwandb\u001b[0m: \tlr: 0.0001\n",
      "\u001b[34m\u001b[1mwandb\u001b[0m: \toptimizer: adam\n",
      "\u001b[34m\u001b[1mwandb\u001b[0m: \tw_init: random\n",
      "\u001b[34m\u001b[1mwandb\u001b[0m: \tweight_decay: 0.5\n"
     ]
    },
    {
     "data": {
      "text/html": [
       "Tracking run with wandb version 0.16.4"
      ],
      "text/plain": [
       "<IPython.core.display.HTML object>"
      ]
     },
     "metadata": {},
     "output_type": "display_data"
    },
    {
     "data": {
      "text/html": [
       "Run data is saved locally in <code>/Users/sumanta/Desktop/Numpy project/mse_error_revised/wandb/run-20240317_165535-xrg2s9g0</code>"
      ],
      "text/plain": [
       "<IPython.core.display.HTML object>"
      ]
     },
     "metadata": {},
     "output_type": "display_data"
    },
    {
     "data": {
      "text/html": [
       "Syncing run <strong><a href='https://wandb.ai/sumanta_roy/CS6910_assignment_1/runs/xrg2s9g0' target=\"_blank\">daily-sweep-9</a></strong> to <a href='https://wandb.ai/sumanta_roy/CS6910_assignment_1' target=\"_blank\">Weights & Biases</a> (<a href='https://wandb.me/run' target=\"_blank\">docs</a>)<br/>Sweep page: <a href='https://wandb.ai/sumanta_roy/CS6910_assignment_1/sweeps/etqoz0cb' target=\"_blank\">https://wandb.ai/sumanta_roy/CS6910_assignment_1/sweeps/etqoz0cb</a>"
      ],
      "text/plain": [
       "<IPython.core.display.HTML object>"
      ]
     },
     "metadata": {},
     "output_type": "display_data"
    },
    {
     "data": {
      "text/html": [
       " View project at <a href='https://wandb.ai/sumanta_roy/CS6910_assignment_1' target=\"_blank\">https://wandb.ai/sumanta_roy/CS6910_assignment_1</a>"
      ],
      "text/plain": [
       "<IPython.core.display.HTML object>"
      ]
     },
     "metadata": {},
     "output_type": "display_data"
    },
    {
     "data": {
      "text/html": [
       " View sweep at <a href='https://wandb.ai/sumanta_roy/CS6910_assignment_1/sweeps/etqoz0cb' target=\"_blank\">https://wandb.ai/sumanta_roy/CS6910_assignment_1/sweeps/etqoz0cb</a>"
      ],
      "text/plain": [
       "<IPython.core.display.HTML object>"
      ]
     },
     "metadata": {},
     "output_type": "display_data"
    },
    {
     "data": {
      "text/html": [
       " View run at <a href='https://wandb.ai/sumanta_roy/CS6910_assignment_1/runs/xrg2s9g0' target=\"_blank\">https://wandb.ai/sumanta_roy/CS6910_assignment_1/runs/xrg2s9g0</a>"
      ],
      "text/plain": [
       "<IPython.core.display.HTML object>"
      ]
     },
     "metadata": {},
     "output_type": "display_data"
    },
    {
     "name": "stdout",
     "output_type": "stream",
     "text": [
      "Epoch: 1/10; Train Loss: 53.75808055739603; Val Loss: 0.18424498312990437\n",
      "Epoch: 2/10; Train Loss: 34.02917110292152; Val Loss: 0.12420085310658396\n",
      "Epoch: 3/10; Train Loss: 20.54175138972982; Val Loss: 0.08475004031844727\n",
      "Epoch: 4/10; Train Loss: 12.234901722108601; Val Loss: 0.06079891108660038\n",
      "Epoch: 5/10; Train Loss: 7.374559958028599; Val Loss: 0.04733556851102053\n",
      "Epoch: 6/10; Train Loss: 4.503960219706447; Val Loss: 0.03994643276815365\n",
      "Epoch: 7/10; Train Loss: 2.8565718855817854; Val Loss: 0.035870106777687844\n",
      "Epoch: 8/10; Train Loss: 1.9580526654741917; Val Loss: 0.033556215284882784\n",
      "Epoch: 9/10; Train Loss: 1.473948639234427; Val Loss: 0.032211098177510375\n",
      "Epoch: 10/10; Train Loss: 1.206981685704153; Val Loss: 0.031485257274327216\n"
     ]
    },
    {
     "data": {
      "application/vnd.jupyter.widget-view+json": {
       "model_id": "",
       "version_major": 2,
       "version_minor": 0
      },
      "text/plain": [
       "VBox(children=(Label(value='0.001 MB of 0.001 MB uploaded\\r'), FloatProgress(value=1.0, max=1.0)))"
      ]
     },
     "metadata": {},
     "output_type": "display_data"
    },
    {
     "data": {
      "text/html": [
       "<style>\n",
       "    table.wandb td:nth-child(1) { padding: 0 10px; text-align: left ; width: auto;} td:nth-child(2) {text-align: left ; width: 100%}\n",
       "    .wandb-row { display: flex; flex-direction: row; flex-wrap: wrap; justify-content: flex-start; width: 100% }\n",
       "    .wandb-col { display: flex; flex-direction: column; flex-basis: 100%; flex: 1; padding: 10px; }\n",
       "    </style>\n",
       "<div class=\"wandb-row\"><div class=\"wandb-col\"><h3>Run history:</h3><br/><table class=\"wandb\"><tr><td>epoch</td><td>▁▁▁▁▂▂▂▂▃▃▃▃▃▃▃▃▄▄▄▄▅▅▅▅▆▆▆▆▆▆▆▆▇▇▇▇████</td></tr><tr><td>train_accuracy</td><td>▁▁▂▂▄▂▄█▃▅▅▃▅▅▄▃▇█▅▂▅▃▅▅▅▆▅▇▅▅▅▃▆▆▅█▅▆▆▇</td></tr><tr><td>train_loss</td><td>█▇▇▆▆▅▅▄▄▃▃▃▃▂▂▂▂▂▂▂▂▁▁▁▁▁▁▁▁▁▁▁▁▁▁▁▁▁▁▁</td></tr><tr><td>val_accuracy</td><td>▁▄▅▆▆▆▆▇▇▇▇▇████████████████████████████</td></tr><tr><td>validation_loss</td><td>█▇▆▆▅▅▄▄▃▃▃▃▂▂▂▂▂▂▂▁▁▁▁▁▁▁▁▁▁▁▁▁▁▁▁▁▁▁▁▁</td></tr></table><br/></div><div class=\"wandb-col\"><h3>Run summary:</h3><br/><table class=\"wandb\"><tr><td>epoch</td><td>10</td></tr><tr><td>train_accuracy</td><td>93.75</td></tr><tr><td>train_loss</td><td>1.20698</td></tr><tr><td>val_accuracy</td><td>81.61667</td></tr><tr><td>validation_loss</td><td>0.03149</td></tr></table><br/></div></div>"
      ],
      "text/plain": [
       "<IPython.core.display.HTML object>"
      ]
     },
     "metadata": {},
     "output_type": "display_data"
    },
    {
     "data": {
      "text/html": [
       " View run <strong style=\"color:#cdcd00\">daily-sweep-9</strong> at: <a href='https://wandb.ai/sumanta_roy/CS6910_assignment_1/runs/xrg2s9g0' target=\"_blank\">https://wandb.ai/sumanta_roy/CS6910_assignment_1/runs/xrg2s9g0</a><br/>Synced 6 W&B file(s), 0 media file(s), 0 artifact file(s) and 0 other file(s)"
      ],
      "text/plain": [
       "<IPython.core.display.HTML object>"
      ]
     },
     "metadata": {},
     "output_type": "display_data"
    },
    {
     "data": {
      "text/html": [
       "Find logs at: <code>./wandb/run-20240317_165535-xrg2s9g0/logs</code>"
      ],
      "text/plain": [
       "<IPython.core.display.HTML object>"
      ]
     },
     "metadata": {},
     "output_type": "display_data"
    },
    {
     "name": "stderr",
     "output_type": "stream",
     "text": [
      "\u001b[34m\u001b[1mwandb\u001b[0m: Agent Starting Run: udyf941x with config:\n",
      "\u001b[34m\u001b[1mwandb\u001b[0m: \tactivation: tanh\n",
      "\u001b[34m\u001b[1mwandb\u001b[0m: \tbatch_size: 64\n",
      "\u001b[34m\u001b[1mwandb\u001b[0m: \tepochs: 10\n",
      "\u001b[34m\u001b[1mwandb\u001b[0m: \thidden_layers: 5\n",
      "\u001b[34m\u001b[1mwandb\u001b[0m: \thidden_size: 64\n",
      "\u001b[34m\u001b[1mwandb\u001b[0m: \tloss: mse\n",
      "\u001b[34m\u001b[1mwandb\u001b[0m: \tlr: 0.0001\n",
      "\u001b[34m\u001b[1mwandb\u001b[0m: \toptimizer: nadam\n",
      "\u001b[34m\u001b[1mwandb\u001b[0m: \tw_init: random\n",
      "\u001b[34m\u001b[1mwandb\u001b[0m: \tweight_decay: 0.5\n"
     ]
    },
    {
     "data": {
      "text/html": [
       "Tracking run with wandb version 0.16.4"
      ],
      "text/plain": [
       "<IPython.core.display.HTML object>"
      ]
     },
     "metadata": {},
     "output_type": "display_data"
    },
    {
     "data": {
      "text/html": [
       "Run data is saved locally in <code>/Users/sumanta/Desktop/Numpy project/mse_error_revised/wandb/run-20240317_165715-udyf941x</code>"
      ],
      "text/plain": [
       "<IPython.core.display.HTML object>"
      ]
     },
     "metadata": {},
     "output_type": "display_data"
    },
    {
     "data": {
      "text/html": [
       "Syncing run <strong><a href='https://wandb.ai/sumanta_roy/CS6910_assignment_1/runs/udyf941x' target=\"_blank\">rose-sweep-10</a></strong> to <a href='https://wandb.ai/sumanta_roy/CS6910_assignment_1' target=\"_blank\">Weights & Biases</a> (<a href='https://wandb.me/run' target=\"_blank\">docs</a>)<br/>Sweep page: <a href='https://wandb.ai/sumanta_roy/CS6910_assignment_1/sweeps/etqoz0cb' target=\"_blank\">https://wandb.ai/sumanta_roy/CS6910_assignment_1/sweeps/etqoz0cb</a>"
      ],
      "text/plain": [
       "<IPython.core.display.HTML object>"
      ]
     },
     "metadata": {},
     "output_type": "display_data"
    },
    {
     "data": {
      "text/html": [
       " View project at <a href='https://wandb.ai/sumanta_roy/CS6910_assignment_1' target=\"_blank\">https://wandb.ai/sumanta_roy/CS6910_assignment_1</a>"
      ],
      "text/plain": [
       "<IPython.core.display.HTML object>"
      ]
     },
     "metadata": {},
     "output_type": "display_data"
    },
    {
     "data": {
      "text/html": [
       " View sweep at <a href='https://wandb.ai/sumanta_roy/CS6910_assignment_1/sweeps/etqoz0cb' target=\"_blank\">https://wandb.ai/sumanta_roy/CS6910_assignment_1/sweeps/etqoz0cb</a>"
      ],
      "text/plain": [
       "<IPython.core.display.HTML object>"
      ]
     },
     "metadata": {},
     "output_type": "display_data"
    },
    {
     "data": {
      "text/html": [
       " View run at <a href='https://wandb.ai/sumanta_roy/CS6910_assignment_1/runs/udyf941x' target=\"_blank\">https://wandb.ai/sumanta_roy/CS6910_assignment_1/runs/udyf941x</a>"
      ],
      "text/plain": [
       "<IPython.core.display.HTML object>"
      ]
     },
     "metadata": {},
     "output_type": "display_data"
    },
    {
     "name": "stdout",
     "output_type": "stream",
     "text": [
      "Epoch: 1/10; Train Loss: 21.56348114037; Val Loss: 0.31218756004112985\n",
      "Epoch: 2/10; Train Loss: 21.31431337182248; Val Loss: 0.2977667788514136\n",
      "Epoch: 3/10; Train Loss: 21.080413743480904; Val Loss: 0.28833136751137456\n",
      "Epoch: 4/10; Train Loss: 20.845939382555237; Val Loss: 0.28102075440473817\n",
      "Epoch: 5/10; Train Loss: 20.60684766339721; Val Loss: 0.2748389294261269\n",
      "Epoch: 6/10; Train Loss: 20.361406817734668; Val Loss: 0.2693530144244556\n",
      "Epoch: 7/10; Train Loss: 20.109560450907615; Val Loss: 0.2643192649151211\n",
      "Epoch: 8/10; Train Loss: 19.852175910470883; Val Loss: 0.25962023855211513\n",
      "Epoch: 9/10; Train Loss: 19.59068672359985; Val Loss: 0.25517531974679675\n",
      "Epoch: 10/10; Train Loss: 19.32619382806672; Val Loss: 0.25092201130000247\n"
     ]
    },
    {
     "data": {
      "application/vnd.jupyter.widget-view+json": {
       "model_id": "",
       "version_major": 2,
       "version_minor": 0
      },
      "text/plain": [
       "VBox(children=(Label(value='0.001 MB of 0.001 MB uploaded\\r'), FloatProgress(value=1.0, max=1.0)))"
      ]
     },
     "metadata": {},
     "output_type": "display_data"
    },
    {
     "data": {
      "text/html": [
       "<style>\n",
       "    table.wandb td:nth-child(1) { padding: 0 10px; text-align: left ; width: auto;} td:nth-child(2) {text-align: left ; width: 100%}\n",
       "    .wandb-row { display: flex; flex-direction: row; flex-wrap: wrap; justify-content: flex-start; width: 100% }\n",
       "    .wandb-col { display: flex; flex-direction: column; flex-basis: 100%; flex: 1; padding: 10px; }\n",
       "    </style>\n",
       "<div class=\"wandb-row\"><div class=\"wandb-col\"><h3>Run history:</h3><br/><table class=\"wandb\"><tr><td>epoch</td><td>▁▁▁▁▂▂▂▂▃▃▃▃▃▃▃▃▄▄▄▄▅▅▅▅▆▆▆▆▆▆▆▆▇▇▇▇████</td></tr><tr><td>train_accuracy</td><td>▁▁▂▄▂▄▅▄▄▆▄▅▅▆▅▅▅▆▅▇▆▆▅▆▆▆▆▆▇▆▅▆▆▇▇▇█▇▇█</td></tr><tr><td>train_loss</td><td>██▇▇▇▇▇▇▆▆▆▆▆▆▅▅▅▅▅▅▄▄▄▄▄▄▃▃▃▃▃▃▂▂▂▂▂▁▁▁</td></tr><tr><td>val_accuracy</td><td>▁▂▂▃▄▄▅▅▅▅▆▆▆▆▆▇▇▇▇▇▇▇▇▇▇▇▇▇████████████</td></tr><tr><td>validation_loss</td><td>█▇▇▆▆▅▅▅▅▄▄▄▄▄▄▃▃▃▃▃▃▃▃▃▂▂▂▂▂▂▂▂▂▂▁▁▁▁▁▁</td></tr></table><br/></div><div class=\"wandb-col\"><h3>Run summary:</h3><br/><table class=\"wandb\"><tr><td>epoch</td><td>10</td></tr><tr><td>train_accuracy</td><td>73.4375</td></tr><tr><td>train_loss</td><td>19.32619</td></tr><tr><td>val_accuracy</td><td>66.68333</td></tr><tr><td>validation_loss</td><td>0.25092</td></tr></table><br/></div></div>"
      ],
      "text/plain": [
       "<IPython.core.display.HTML object>"
      ]
     },
     "metadata": {},
     "output_type": "display_data"
    },
    {
     "data": {
      "text/html": [
       " View run <strong style=\"color:#cdcd00\">rose-sweep-10</strong> at: <a href='https://wandb.ai/sumanta_roy/CS6910_assignment_1/runs/udyf941x' target=\"_blank\">https://wandb.ai/sumanta_roy/CS6910_assignment_1/runs/udyf941x</a><br/>Synced 6 W&B file(s), 0 media file(s), 0 artifact file(s) and 0 other file(s)"
      ],
      "text/plain": [
       "<IPython.core.display.HTML object>"
      ]
     },
     "metadata": {},
     "output_type": "display_data"
    },
    {
     "data": {
      "text/html": [
       "Find logs at: <code>./wandb/run-20240317_165715-udyf941x/logs</code>"
      ],
      "text/plain": [
       "<IPython.core.display.HTML object>"
      ]
     },
     "metadata": {},
     "output_type": "display_data"
    },
    {
     "name": "stderr",
     "output_type": "stream",
     "text": [
      "\u001b[34m\u001b[1mwandb\u001b[0m: Agent Starting Run: oza0p3qi with config:\n",
      "\u001b[34m\u001b[1mwandb\u001b[0m: \tactivation: tanh\n",
      "\u001b[34m\u001b[1mwandb\u001b[0m: \tbatch_size: 32\n",
      "\u001b[34m\u001b[1mwandb\u001b[0m: \tepochs: 10\n",
      "\u001b[34m\u001b[1mwandb\u001b[0m: \thidden_layers: 5\n",
      "\u001b[34m\u001b[1mwandb\u001b[0m: \thidden_size: 128\n",
      "\u001b[34m\u001b[1mwandb\u001b[0m: \tloss: mse\n",
      "\u001b[34m\u001b[1mwandb\u001b[0m: \tlr: 0.0001\n",
      "\u001b[34m\u001b[1mwandb\u001b[0m: \toptimizer: nadam\n",
      "\u001b[34m\u001b[1mwandb\u001b[0m: \tw_init: random\n",
      "\u001b[34m\u001b[1mwandb\u001b[0m: \tweight_decay: 0.5\n"
     ]
    },
    {
     "data": {
      "text/html": [
       "Tracking run with wandb version 0.16.4"
      ],
      "text/plain": [
       "<IPython.core.display.HTML object>"
      ]
     },
     "metadata": {},
     "output_type": "display_data"
    },
    {
     "data": {
      "text/html": [
       "Run data is saved locally in <code>/Users/sumanta/Desktop/Numpy project/mse_error_revised/wandb/run-20240317_165808-oza0p3qi</code>"
      ],
      "text/plain": [
       "<IPython.core.display.HTML object>"
      ]
     },
     "metadata": {},
     "output_type": "display_data"
    },
    {
     "data": {
      "text/html": [
       "Syncing run <strong><a href='https://wandb.ai/sumanta_roy/CS6910_assignment_1/runs/oza0p3qi' target=\"_blank\">fiery-sweep-11</a></strong> to <a href='https://wandb.ai/sumanta_roy/CS6910_assignment_1' target=\"_blank\">Weights & Biases</a> (<a href='https://wandb.me/run' target=\"_blank\">docs</a>)<br/>Sweep page: <a href='https://wandb.ai/sumanta_roy/CS6910_assignment_1/sweeps/etqoz0cb' target=\"_blank\">https://wandb.ai/sumanta_roy/CS6910_assignment_1/sweeps/etqoz0cb</a>"
      ],
      "text/plain": [
       "<IPython.core.display.HTML object>"
      ]
     },
     "metadata": {},
     "output_type": "display_data"
    },
    {
     "data": {
      "text/html": [
       " View project at <a href='https://wandb.ai/sumanta_roy/CS6910_assignment_1' target=\"_blank\">https://wandb.ai/sumanta_roy/CS6910_assignment_1</a>"
      ],
      "text/plain": [
       "<IPython.core.display.HTML object>"
      ]
     },
     "metadata": {},
     "output_type": "display_data"
    },
    {
     "data": {
      "text/html": [
       " View sweep at <a href='https://wandb.ai/sumanta_roy/CS6910_assignment_1/sweeps/etqoz0cb' target=\"_blank\">https://wandb.ai/sumanta_roy/CS6910_assignment_1/sweeps/etqoz0cb</a>"
      ],
      "text/plain": [
       "<IPython.core.display.HTML object>"
      ]
     },
     "metadata": {},
     "output_type": "display_data"
    },
    {
     "data": {
      "text/html": [
       " View run at <a href='https://wandb.ai/sumanta_roy/CS6910_assignment_1/runs/oza0p3qi' target=\"_blank\">https://wandb.ai/sumanta_roy/CS6910_assignment_1/runs/oza0p3qi</a>"
      ],
      "text/plain": [
       "<IPython.core.display.HTML object>"
      ]
     },
     "metadata": {},
     "output_type": "display_data"
    },
    {
     "name": "stdout",
     "output_type": "stream",
     "text": [
      "Epoch: 1/10; Train Loss: 106.15572233954178; Val Loss: 0.6438825073722847\n",
      "Epoch: 2/10; Train Loss: 104.30987561586025; Val Loss: 0.6224220296354733\n",
      "Epoch: 3/10; Train Loss: 102.40732499399147; Val Loss: 0.6056114000686759\n",
      "Epoch: 4/10; Train Loss: 100.42422483549235; Val Loss: 0.5902663361944047\n",
      "Epoch: 5/10; Train Loss: 98.36668949451544; Val Loss: 0.5756237322087615\n",
      "Epoch: 6/10; Train Loss: 96.24824873889484; Val Loss: 0.56138614966795\n",
      "Epoch: 7/10; Train Loss: 94.08186263443973; Val Loss: 0.5473655473302067\n",
      "Epoch: 8/10; Train Loss: 91.8775799541321; Val Loss: 0.5335172756551931\n",
      "Epoch: 9/10; Train Loss: 89.64476394176432; Val Loss: 0.5197992106115877\n",
      "Epoch: 10/10; Train Loss: 87.39249741106119; Val Loss: 0.5061993790675147\n"
     ]
    },
    {
     "data": {
      "application/vnd.jupyter.widget-view+json": {
       "model_id": "",
       "version_major": 2,
       "version_minor": 0
      },
      "text/plain": [
       "VBox(children=(Label(value='0.001 MB of 0.001 MB uploaded\\r'), FloatProgress(value=1.0, max=1.0)))"
      ]
     },
     "metadata": {},
     "output_type": "display_data"
    },
    {
     "data": {
      "text/html": [
       "<style>\n",
       "    table.wandb td:nth-child(1) { padding: 0 10px; text-align: left ; width: auto;} td:nth-child(2) {text-align: left ; width: 100%}\n",
       "    .wandb-row { display: flex; flex-direction: row; flex-wrap: wrap; justify-content: flex-start; width: 100% }\n",
       "    .wandb-col { display: flex; flex-direction: column; flex-basis: 100%; flex: 1; padding: 10px; }\n",
       "    </style>\n",
       "<div class=\"wandb-row\"><div class=\"wandb-col\"><h3>Run history:</h3><br/><table class=\"wandb\"><tr><td>epoch</td><td>▁▁▁▁▂▂▂▂▃▃▃▃▃▃▃▃▄▄▄▄▅▅▅▅▆▆▆▆▆▆▆▆▇▇▇▇████</td></tr><tr><td>train_accuracy</td><td>▁▂▅▃▂▄▄▃▅▄▅▄▅▆▄▅▇▅▆▄▅▇▄▄▇▇▇▄▆▇▅▅▇▆▇▄██▅▇</td></tr><tr><td>train_loss</td><td>████▇▇▇▇▇▇▆▆▆▆▆▆▅▅▅▅▅▄▄▄▄▄▄▃▃▃▃▃▂▂▂▂▂▁▁▁</td></tr><tr><td>val_accuracy</td><td>▁▂▃▃▄▅▅▅▅▅▆▆▆▆▆▆▆▇▇▇▇▇▇▇▇▇▇▇▇▇██████████</td></tr><tr><td>validation_loss</td><td>██▇▇▆▆▆▆▆▅▅▅▅▅▅▄▄▄▄▄▄▄▃▃▃▃▃▃▃▂▂▂▂▂▂▂▁▁▁▁</td></tr></table><br/></div><div class=\"wandb-col\"><h3>Run summary:</h3><br/><table class=\"wandb\"><tr><td>epoch</td><td>10</td></tr><tr><td>train_accuracy</td><td>75.0</td></tr><tr><td>train_loss</td><td>87.3925</td></tr><tr><td>val_accuracy</td><td>71.31667</td></tr><tr><td>validation_loss</td><td>0.5062</td></tr></table><br/></div></div>"
      ],
      "text/plain": [
       "<IPython.core.display.HTML object>"
      ]
     },
     "metadata": {},
     "output_type": "display_data"
    },
    {
     "data": {
      "text/html": [
       " View run <strong style=\"color:#cdcd00\">fiery-sweep-11</strong> at: <a href='https://wandb.ai/sumanta_roy/CS6910_assignment_1/runs/oza0p3qi' target=\"_blank\">https://wandb.ai/sumanta_roy/CS6910_assignment_1/runs/oza0p3qi</a><br/>Synced 6 W&B file(s), 0 media file(s), 0 artifact file(s) and 0 other file(s)"
      ],
      "text/plain": [
       "<IPython.core.display.HTML object>"
      ]
     },
     "metadata": {},
     "output_type": "display_data"
    },
    {
     "data": {
      "text/html": [
       "Find logs at: <code>./wandb/run-20240317_165808-oza0p3qi/logs</code>"
      ],
      "text/plain": [
       "<IPython.core.display.HTML object>"
      ]
     },
     "metadata": {},
     "output_type": "display_data"
    },
    {
     "name": "stderr",
     "output_type": "stream",
     "text": [
      "\u001b[34m\u001b[1mwandb\u001b[0m: Sweep Agent: Waiting for job.\n",
      "\u001b[34m\u001b[1mwandb\u001b[0m: Job received.\n",
      "\u001b[34m\u001b[1mwandb\u001b[0m: Agent Starting Run: e3eg27n7 with config:\n",
      "\u001b[34m\u001b[1mwandb\u001b[0m: \tactivation: tanh\n",
      "\u001b[34m\u001b[1mwandb\u001b[0m: \tbatch_size: 32\n",
      "\u001b[34m\u001b[1mwandb\u001b[0m: \tepochs: 10\n",
      "\u001b[34m\u001b[1mwandb\u001b[0m: \thidden_layers: 5\n",
      "\u001b[34m\u001b[1mwandb\u001b[0m: \thidden_size: 128\n",
      "\u001b[34m\u001b[1mwandb\u001b[0m: \tloss: mse\n",
      "\u001b[34m\u001b[1mwandb\u001b[0m: \tlr: 0.0001\n",
      "\u001b[34m\u001b[1mwandb\u001b[0m: \toptimizer: adam\n",
      "\u001b[34m\u001b[1mwandb\u001b[0m: \tw_init: random\n",
      "\u001b[34m\u001b[1mwandb\u001b[0m: \tweight_decay: 0.5\n"
     ]
    },
    {
     "data": {
      "text/html": [
       "Tracking run with wandb version 0.16.4"
      ],
      "text/plain": [
       "<IPython.core.display.HTML object>"
      ]
     },
     "metadata": {},
     "output_type": "display_data"
    },
    {
     "data": {
      "text/html": [
       "Run data is saved locally in <code>/Users/sumanta/Desktop/Numpy project/mse_error_revised/wandb/run-20240317_170046-e3eg27n7</code>"
      ],
      "text/plain": [
       "<IPython.core.display.HTML object>"
      ]
     },
     "metadata": {},
     "output_type": "display_data"
    },
    {
     "data": {
      "text/html": [
       "Syncing run <strong><a href='https://wandb.ai/sumanta_roy/CS6910_assignment_1/runs/e3eg27n7' target=\"_blank\">floral-sweep-12</a></strong> to <a href='https://wandb.ai/sumanta_roy/CS6910_assignment_1' target=\"_blank\">Weights & Biases</a> (<a href='https://wandb.me/run' target=\"_blank\">docs</a>)<br/>Sweep page: <a href='https://wandb.ai/sumanta_roy/CS6910_assignment_1/sweeps/etqoz0cb' target=\"_blank\">https://wandb.ai/sumanta_roy/CS6910_assignment_1/sweeps/etqoz0cb</a>"
      ],
      "text/plain": [
       "<IPython.core.display.HTML object>"
      ]
     },
     "metadata": {},
     "output_type": "display_data"
    },
    {
     "data": {
      "text/html": [
       " View project at <a href='https://wandb.ai/sumanta_roy/CS6910_assignment_1' target=\"_blank\">https://wandb.ai/sumanta_roy/CS6910_assignment_1</a>"
      ],
      "text/plain": [
       "<IPython.core.display.HTML object>"
      ]
     },
     "metadata": {},
     "output_type": "display_data"
    },
    {
     "data": {
      "text/html": [
       " View sweep at <a href='https://wandb.ai/sumanta_roy/CS6910_assignment_1/sweeps/etqoz0cb' target=\"_blank\">https://wandb.ai/sumanta_roy/CS6910_assignment_1/sweeps/etqoz0cb</a>"
      ],
      "text/plain": [
       "<IPython.core.display.HTML object>"
      ]
     },
     "metadata": {},
     "output_type": "display_data"
    },
    {
     "data": {
      "text/html": [
       " View run at <a href='https://wandb.ai/sumanta_roy/CS6910_assignment_1/runs/e3eg27n7' target=\"_blank\">https://wandb.ai/sumanta_roy/CS6910_assignment_1/runs/e3eg27n7</a>"
      ],
      "text/plain": [
       "<IPython.core.display.HTML object>"
      ]
     },
     "metadata": {},
     "output_type": "display_data"
    },
    {
     "name": "stdout",
     "output_type": "stream",
     "text": [
      "Epoch: 1/10; Train Loss: 92.7472504390492; Val Loss: 0.5404564293151718\n",
      "Epoch: 2/10; Train Loss: 81.13837546412246; Val Loss: 0.4706998338231971\n",
      "Epoch: 3/10; Train Loss: 69.79958191937384; Val Loss: 0.4059219372689306\n",
      "Epoch: 4/10; Train Loss: 58.92568158731703; Val Loss: 0.34503413681846334\n",
      "Epoch: 5/10; Train Loss: 48.92166952983179; Val Loss: 0.2893696835314221\n",
      "Epoch: 6/10; Train Loss: 40.07286801680776; Val Loss: 0.24029958002560575\n",
      "Epoch: 7/10; Train Loss: 32.50624435659446; Val Loss: 0.19839110882816605\n",
      "Epoch: 8/10; Train Loss: 26.22855425090201; Val Loss: 0.16364462103442934\n",
      "Epoch: 9/10; Train Loss: 21.14329634354576; Val Loss: 0.13555110813419857\n",
      "Epoch: 10/10; Train Loss: 17.078066562504162; Val Loss: 0.11315819887236107\n"
     ]
    },
    {
     "data": {
      "application/vnd.jupyter.widget-view+json": {
       "model_id": "",
       "version_major": 2,
       "version_minor": 0
      },
      "text/plain": [
       "VBox(children=(Label(value='0.001 MB of 0.001 MB uploaded\\r'), FloatProgress(value=1.0, max=1.0)))"
      ]
     },
     "metadata": {},
     "output_type": "display_data"
    },
    {
     "data": {
      "text/html": [
       "<style>\n",
       "    table.wandb td:nth-child(1) { padding: 0 10px; text-align: left ; width: auto;} td:nth-child(2) {text-align: left ; width: 100%}\n",
       "    .wandb-row { display: flex; flex-direction: row; flex-wrap: wrap; justify-content: flex-start; width: 100% }\n",
       "    .wandb-col { display: flex; flex-direction: column; flex-basis: 100%; flex: 1; padding: 10px; }\n",
       "    </style>\n",
       "<div class=\"wandb-row\"><div class=\"wandb-col\"><h3>Run history:</h3><br/><table class=\"wandb\"><tr><td>epoch</td><td>▁▁▁▁▂▂▂▂▃▃▃▃▃▃▃▃▄▄▄▄▅▅▅▅▆▆▆▆▆▆▆▆▇▇▇▇████</td></tr><tr><td>train_accuracy</td><td>▃▁▄▃▃▁▄▇▅▆▄▁▅▅▄▇▇▇▆▄▅▅▆█▆▇▆▅▇▆▆███▇▅▇▇▆▇</td></tr><tr><td>train_loss</td><td>██▇▇▇▇▇▆▆▆▆▅▅▅▅▄▄▄▄▄▃▃▃▃▃▃▂▂▂▂▂▂▂▂▁▁▁▁▁▁</td></tr><tr><td>val_accuracy</td><td>▁▃▄▄▅▅▅▅▆▆▆▆▆▆▇▇▇▇▇▇▇▇▇▇▇▇██████████████</td></tr><tr><td>validation_loss</td><td>██▇▇▇▆▆▆▆▆▅▅▅▅▅▄▄▄▄▃▃▃▃▃▃▂▂▂▂▂▂▂▂▂▁▁▁▁▁▁</td></tr></table><br/></div><div class=\"wandb-col\"><h3>Run summary:</h3><br/><table class=\"wandb\"><tr><td>epoch</td><td>10</td></tr><tr><td>train_accuracy</td><td>87.5</td></tr><tr><td>train_loss</td><td>17.07807</td></tr><tr><td>val_accuracy</td><td>84.45</td></tr><tr><td>validation_loss</td><td>0.11316</td></tr></table><br/></div></div>"
      ],
      "text/plain": [
       "<IPython.core.display.HTML object>"
      ]
     },
     "metadata": {},
     "output_type": "display_data"
    },
    {
     "data": {
      "text/html": [
       " View run <strong style=\"color:#cdcd00\">floral-sweep-12</strong> at: <a href='https://wandb.ai/sumanta_roy/CS6910_assignment_1/runs/e3eg27n7' target=\"_blank\">https://wandb.ai/sumanta_roy/CS6910_assignment_1/runs/e3eg27n7</a><br/>Synced 6 W&B file(s), 0 media file(s), 0 artifact file(s) and 0 other file(s)"
      ],
      "text/plain": [
       "<IPython.core.display.HTML object>"
      ]
     },
     "metadata": {},
     "output_type": "display_data"
    },
    {
     "data": {
      "text/html": [
       "Find logs at: <code>./wandb/run-20240317_170046-e3eg27n7/logs</code>"
      ],
      "text/plain": [
       "<IPython.core.display.HTML object>"
      ]
     },
     "metadata": {},
     "output_type": "display_data"
    },
    {
     "name": "stderr",
     "output_type": "stream",
     "text": [
      "\u001b[34m\u001b[1mwandb\u001b[0m: Sweep Agent: Waiting for job.\n",
      "\u001b[34m\u001b[1mwandb\u001b[0m: Job received.\n",
      "\u001b[34m\u001b[1mwandb\u001b[0m: Agent Starting Run: m9qorxy4 with config:\n",
      "\u001b[34m\u001b[1mwandb\u001b[0m: \tactivation: tanh\n",
      "\u001b[34m\u001b[1mwandb\u001b[0m: \tbatch_size: 32\n",
      "\u001b[34m\u001b[1mwandb\u001b[0m: \tepochs: 10\n",
      "\u001b[34m\u001b[1mwandb\u001b[0m: \thidden_layers: 5\n",
      "\u001b[34m\u001b[1mwandb\u001b[0m: \thidden_size: 32\n",
      "\u001b[34m\u001b[1mwandb\u001b[0m: \tloss: mse\n",
      "\u001b[34m\u001b[1mwandb\u001b[0m: \tlr: 0.0001\n",
      "\u001b[34m\u001b[1mwandb\u001b[0m: \toptimizer: momentum\n",
      "\u001b[34m\u001b[1mwandb\u001b[0m: \tw_init: random\n",
      "\u001b[34m\u001b[1mwandb\u001b[0m: \tweight_decay: 0.5\n"
     ]
    },
    {
     "data": {
      "text/html": [
       "Tracking run with wandb version 0.16.4"
      ],
      "text/plain": [
       "<IPython.core.display.HTML object>"
      ]
     },
     "metadata": {},
     "output_type": "display_data"
    },
    {
     "data": {
      "text/html": [
       "Run data is saved locally in <code>/Users/sumanta/Desktop/Numpy project/mse_error_revised/wandb/run-20240317_170320-m9qorxy4</code>"
      ],
      "text/plain": [
       "<IPython.core.display.HTML object>"
      ]
     },
     "metadata": {},
     "output_type": "display_data"
    },
    {
     "data": {
      "text/html": [
       "Syncing run <strong><a href='https://wandb.ai/sumanta_roy/CS6910_assignment_1/runs/m9qorxy4' target=\"_blank\">spring-sweep-13</a></strong> to <a href='https://wandb.ai/sumanta_roy/CS6910_assignment_1' target=\"_blank\">Weights & Biases</a> (<a href='https://wandb.me/run' target=\"_blank\">docs</a>)<br/>Sweep page: <a href='https://wandb.ai/sumanta_roy/CS6910_assignment_1/sweeps/etqoz0cb' target=\"_blank\">https://wandb.ai/sumanta_roy/CS6910_assignment_1/sweeps/etqoz0cb</a>"
      ],
      "text/plain": [
       "<IPython.core.display.HTML object>"
      ]
     },
     "metadata": {},
     "output_type": "display_data"
    },
    {
     "data": {
      "text/html": [
       " View project at <a href='https://wandb.ai/sumanta_roy/CS6910_assignment_1' target=\"_blank\">https://wandb.ai/sumanta_roy/CS6910_assignment_1</a>"
      ],
      "text/plain": [
       "<IPython.core.display.HTML object>"
      ]
     },
     "metadata": {},
     "output_type": "display_data"
    },
    {
     "data": {
      "text/html": [
       " View sweep at <a href='https://wandb.ai/sumanta_roy/CS6910_assignment_1/sweeps/etqoz0cb' target=\"_blank\">https://wandb.ai/sumanta_roy/CS6910_assignment_1/sweeps/etqoz0cb</a>"
      ],
      "text/plain": [
       "<IPython.core.display.HTML object>"
      ]
     },
     "metadata": {},
     "output_type": "display_data"
    },
    {
     "data": {
      "text/html": [
       " View run at <a href='https://wandb.ai/sumanta_roy/CS6910_assignment_1/runs/m9qorxy4' target=\"_blank\">https://wandb.ai/sumanta_roy/CS6910_assignment_1/runs/m9qorxy4</a>"
      ],
      "text/plain": [
       "<IPython.core.display.HTML object>"
      ]
     },
     "metadata": {},
     "output_type": "display_data"
    },
    {
     "name": "stdout",
     "output_type": "stream",
     "text": [
      "Epoch: 1/10; Train Loss: 18.25416577147328; Val Loss: 0.16858499597643184\n",
      "Epoch: 2/10; Train Loss: 17.321498763212638; Val Loss: 0.1514578877110936\n",
      "Epoch: 3/10; Train Loss: 16.44294861061376; Val Loss: 0.13921778506463733\n",
      "Epoch: 4/10; Train Loss: 15.611932311954588; Val Loss: 0.12989903652391363\n",
      "Epoch: 5/10; Train Loss: 14.823997343539471; Val Loss: 0.12230412045646488\n",
      "Epoch: 6/10; Train Loss: 14.076800398151981; Val Loss: 0.11580430995456724\n",
      "Epoch: 7/10; Train Loss: 13.368556765425053; Val Loss: 0.11011274612876171\n",
      "Epoch: 8/10; Train Loss: 12.697340216747472; Val Loss: 0.10506586661028344\n",
      "Epoch: 9/10; Train Loss: 12.06119952456759; Val Loss: 0.10052939293478437\n",
      "Epoch: 10/10; Train Loss: 11.458267368867018; Val Loss: 0.09639549383452795\n"
     ]
    },
    {
     "data": {
      "application/vnd.jupyter.widget-view+json": {
       "model_id": "",
       "version_major": 2,
       "version_minor": 0
      },
      "text/plain": [
       "VBox(children=(Label(value='0.001 MB of 0.001 MB uploaded\\r'), FloatProgress(value=1.0, max=1.0)))"
      ]
     },
     "metadata": {},
     "output_type": "display_data"
    },
    {
     "data": {
      "text/html": [
       "<style>\n",
       "    table.wandb td:nth-child(1) { padding: 0 10px; text-align: left ; width: auto;} td:nth-child(2) {text-align: left ; width: 100%}\n",
       "    .wandb-row { display: flex; flex-direction: row; flex-wrap: wrap; justify-content: flex-start; width: 100% }\n",
       "    .wandb-col { display: flex; flex-direction: column; flex-basis: 100%; flex: 1; padding: 10px; }\n",
       "    </style>\n",
       "<div class=\"wandb-row\"><div class=\"wandb-col\"><h3>Run history:</h3><br/><table class=\"wandb\"><tr><td>epoch</td><td>▁▁▁▁▂▂▂▂▃▃▃▃▃▃▃▃▄▄▄▄▅▅▅▅▆▆▆▆▆▆▆▆▇▇▇▇████</td></tr><tr><td>train_accuracy</td><td>▁▂▃▄▇▅▁▇▄▅▇▄▆▆▄█▆▅▇▄▆▆▅█▇█▇▅▆▆▅▇▇█▇▆▇▆▅█</td></tr><tr><td>train_loss</td><td>███▇▇▇▇▆▆▆▆▆▆▅▅▅▅▅▄▄▄▄▄▃▃▃▃▃▃▃▂▂▂▂▂▂▁▁▁▁</td></tr><tr><td>val_accuracy</td><td>▁▂▃▃▄▅▅▆▆▆▆▆▇▇▇▇▇▇▇▇▇▇██████████████████</td></tr><tr><td>validation_loss</td><td>██▇▇▆▆▆▅▅▅▄▄▄▄▄▄▃▃▃▃▃▃▃▃▂▂▂▂▂▂▂▂▂▁▁▁▁▁▁▁</td></tr></table><br/></div><div class=\"wandb-col\"><h3>Run summary:</h3><br/><table class=\"wandb\"><tr><td>epoch</td><td>10</td></tr><tr><td>train_accuracy</td><td>84.375</td></tr><tr><td>train_loss</td><td>11.45827</td></tr><tr><td>val_accuracy</td><td>74.78333</td></tr><tr><td>validation_loss</td><td>0.0964</td></tr></table><br/></div></div>"
      ],
      "text/plain": [
       "<IPython.core.display.HTML object>"
      ]
     },
     "metadata": {},
     "output_type": "display_data"
    },
    {
     "data": {
      "text/html": [
       " View run <strong style=\"color:#cdcd00\">spring-sweep-13</strong> at: <a href='https://wandb.ai/sumanta_roy/CS6910_assignment_1/runs/m9qorxy4' target=\"_blank\">https://wandb.ai/sumanta_roy/CS6910_assignment_1/runs/m9qorxy4</a><br/>Synced 6 W&B file(s), 0 media file(s), 0 artifact file(s) and 0 other file(s)"
      ],
      "text/plain": [
       "<IPython.core.display.HTML object>"
      ]
     },
     "metadata": {},
     "output_type": "display_data"
    },
    {
     "data": {
      "text/html": [
       "Find logs at: <code>./wandb/run-20240317_170320-m9qorxy4/logs</code>"
      ],
      "text/plain": [
       "<IPython.core.display.HTML object>"
      ]
     },
     "metadata": {},
     "output_type": "display_data"
    },
    {
     "name": "stderr",
     "output_type": "stream",
     "text": [
      "\u001b[34m\u001b[1mwandb\u001b[0m: Agent Starting Run: 9qc4v6z2 with config:\n",
      "\u001b[34m\u001b[1mwandb\u001b[0m: \tactivation: tanh\n",
      "\u001b[34m\u001b[1mwandb\u001b[0m: \tbatch_size: 32\n",
      "\u001b[34m\u001b[1mwandb\u001b[0m: \tepochs: 10\n",
      "\u001b[34m\u001b[1mwandb\u001b[0m: \thidden_layers: 4\n",
      "\u001b[34m\u001b[1mwandb\u001b[0m: \thidden_size: 128\n",
      "\u001b[34m\u001b[1mwandb\u001b[0m: \tloss: mse\n",
      "\u001b[34m\u001b[1mwandb\u001b[0m: \tlr: 0.0001\n",
      "\u001b[34m\u001b[1mwandb\u001b[0m: \toptimizer: rmsprop\n",
      "\u001b[34m\u001b[1mwandb\u001b[0m: \tw_init: random\n",
      "\u001b[34m\u001b[1mwandb\u001b[0m: \tweight_decay: 0.5\n"
     ]
    },
    {
     "data": {
      "text/html": [
       "Tracking run with wandb version 0.16.4"
      ],
      "text/plain": [
       "<IPython.core.display.HTML object>"
      ]
     },
     "metadata": {},
     "output_type": "display_data"
    },
    {
     "data": {
      "text/html": [
       "Run data is saved locally in <code>/Users/sumanta/Desktop/Numpy project/mse_error_revised/wandb/run-20240317_170402-9qc4v6z2</code>"
      ],
      "text/plain": [
       "<IPython.core.display.HTML object>"
      ]
     },
     "metadata": {},
     "output_type": "display_data"
    },
    {
     "data": {
      "text/html": [
       "Syncing run <strong><a href='https://wandb.ai/sumanta_roy/CS6910_assignment_1/runs/9qc4v6z2' target=\"_blank\">fancy-sweep-14</a></strong> to <a href='https://wandb.ai/sumanta_roy/CS6910_assignment_1' target=\"_blank\">Weights & Biases</a> (<a href='https://wandb.me/run' target=\"_blank\">docs</a>)<br/>Sweep page: <a href='https://wandb.ai/sumanta_roy/CS6910_assignment_1/sweeps/etqoz0cb' target=\"_blank\">https://wandb.ai/sumanta_roy/CS6910_assignment_1/sweeps/etqoz0cb</a>"
      ],
      "text/plain": [
       "<IPython.core.display.HTML object>"
      ]
     },
     "metadata": {},
     "output_type": "display_data"
    },
    {
     "data": {
      "text/html": [
       " View project at <a href='https://wandb.ai/sumanta_roy/CS6910_assignment_1' target=\"_blank\">https://wandb.ai/sumanta_roy/CS6910_assignment_1</a>"
      ],
      "text/plain": [
       "<IPython.core.display.HTML object>"
      ]
     },
     "metadata": {},
     "output_type": "display_data"
    },
    {
     "data": {
      "text/html": [
       " View sweep at <a href='https://wandb.ai/sumanta_roy/CS6910_assignment_1/sweeps/etqoz0cb' target=\"_blank\">https://wandb.ai/sumanta_roy/CS6910_assignment_1/sweeps/etqoz0cb</a>"
      ],
      "text/plain": [
       "<IPython.core.display.HTML object>"
      ]
     },
     "metadata": {},
     "output_type": "display_data"
    },
    {
     "data": {
      "text/html": [
       " View run at <a href='https://wandb.ai/sumanta_roy/CS6910_assignment_1/runs/9qc4v6z2' target=\"_blank\">https://wandb.ai/sumanta_roy/CS6910_assignment_1/runs/9qc4v6z2</a>"
      ],
      "text/plain": [
       "<IPython.core.display.HTML object>"
      ]
     },
     "metadata": {},
     "output_type": "display_data"
    },
    {
     "name": "stdout",
     "output_type": "stream",
     "text": [
      "Epoch: 1/10; Train Loss: 70.64992359453608; Val Loss: 0.4097705250292616\n",
      "Epoch: 2/10; Train Loss: 47.626444322135825; Val Loss: 0.2813363836766864\n",
      "Epoch: 3/10; Train Loss: 31.44764738233109; Val Loss: 0.19235778375779858\n",
      "Epoch: 4/10; Train Loss: 20.595879556611926; Val Loss: 0.13303466457175844\n",
      "Epoch: 5/10; Train Loss: 13.480975312030724; Val Loss: 0.09428297985102707\n",
      "Epoch: 6/10; Train Loss: 8.85854806397242; Val Loss: 0.06926843193457484\n",
      "Epoch: 7/10; Train Loss: 5.866559618530259; Val Loss: 0.05327967146931578\n",
      "Epoch: 8/10; Train Loss: 3.937405343122298; Val Loss: 0.04311449523109537\n",
      "Epoch: 9/10; Train Loss: 2.6998237341619595; Val Loss: 0.036684197912793946\n",
      "Epoch: 10/10; Train Loss: 1.9081781928630812; Val Loss: 0.0326137046245346\n"
     ]
    },
    {
     "data": {
      "application/vnd.jupyter.widget-view+json": {
       "model_id": "",
       "version_major": 2,
       "version_minor": 0
      },
      "text/plain": [
       "VBox(children=(Label(value='0.001 MB of 0.001 MB uploaded\\r'), FloatProgress(value=1.0, max=1.0)))"
      ]
     },
     "metadata": {},
     "output_type": "display_data"
    },
    {
     "data": {
      "text/html": [
       "<style>\n",
       "    table.wandb td:nth-child(1) { padding: 0 10px; text-align: left ; width: auto;} td:nth-child(2) {text-align: left ; width: 100%}\n",
       "    .wandb-row { display: flex; flex-direction: row; flex-wrap: wrap; justify-content: flex-start; width: 100% }\n",
       "    .wandb-col { display: flex; flex-direction: column; flex-basis: 100%; flex: 1; padding: 10px; }\n",
       "    </style>\n",
       "<div class=\"wandb-row\"><div class=\"wandb-col\"><h3>Run history:</h3><br/><table class=\"wandb\"><tr><td>epoch</td><td>▁▁▁▁▂▂▂▂▃▃▃▃▃▃▃▃▄▄▄▄▅▅▅▅▆▆▆▆▆▆▆▆▇▇▇▇████</td></tr><tr><td>train_accuracy</td><td>▁▃▅▆▅▆▅▆█▇█▅▅▆▇▇█▆▇▅▆▇▆▇██▇▅▇▇▆▇██▇▅▇▇▆█</td></tr><tr><td>train_loss</td><td>██▇▇▆▅▅▅▄▄▄▃▃▃▃▃▂▂▂▂▂▂▂▂▁▁▁▁▁▁▁▁▁▁▁▁▁▁▁▁</td></tr><tr><td>val_accuracy</td><td>▁▃▅▆▆▇▇▇▇▇▇▇▇███████████████████████████</td></tr><tr><td>validation_loss</td><td>█▇▇▆▆▅▅▄▄▄▃▃▃▃▃▂▂▂▂▂▂▂▂▂▁▁▁▁▁▁▁▁▁▁▁▁▁▁▁▁</td></tr></table><br/></div><div class=\"wandb-col\"><h3>Run summary:</h3><br/><table class=\"wandb\"><tr><td>epoch</td><td>10</td></tr><tr><td>train_accuracy</td><td>93.75</td></tr><tr><td>train_loss</td><td>1.90818</td></tr><tr><td>val_accuracy</td><td>84.88333</td></tr><tr><td>validation_loss</td><td>0.03261</td></tr></table><br/></div></div>"
      ],
      "text/plain": [
       "<IPython.core.display.HTML object>"
      ]
     },
     "metadata": {},
     "output_type": "display_data"
    },
    {
     "data": {
      "text/html": [
       " View run <strong style=\"color:#cdcd00\">fancy-sweep-14</strong> at: <a href='https://wandb.ai/sumanta_roy/CS6910_assignment_1/runs/9qc4v6z2' target=\"_blank\">https://wandb.ai/sumanta_roy/CS6910_assignment_1/runs/9qc4v6z2</a><br/>Synced 6 W&B file(s), 0 media file(s), 0 artifact file(s) and 0 other file(s)"
      ],
      "text/plain": [
       "<IPython.core.display.HTML object>"
      ]
     },
     "metadata": {},
     "output_type": "display_data"
    },
    {
     "data": {
      "text/html": [
       "Find logs at: <code>./wandb/run-20240317_170402-9qc4v6z2/logs</code>"
      ],
      "text/plain": [
       "<IPython.core.display.HTML object>"
      ]
     },
     "metadata": {},
     "output_type": "display_data"
    },
    {
     "name": "stderr",
     "output_type": "stream",
     "text": [
      "\u001b[34m\u001b[1mwandb\u001b[0m: Sweep Agent: Waiting for job.\n",
      "\u001b[34m\u001b[1mwandb\u001b[0m: Job received.\n",
      "\u001b[34m\u001b[1mwandb\u001b[0m: Agent Starting Run: 8782p2yr with config:\n",
      "\u001b[34m\u001b[1mwandb\u001b[0m: \tactivation: tanh\n",
      "\u001b[34m\u001b[1mwandb\u001b[0m: \tbatch_size: 32\n",
      "\u001b[34m\u001b[1mwandb\u001b[0m: \tepochs: 10\n",
      "\u001b[34m\u001b[1mwandb\u001b[0m: \thidden_layers: 5\n",
      "\u001b[34m\u001b[1mwandb\u001b[0m: \thidden_size: 128\n",
      "\u001b[34m\u001b[1mwandb\u001b[0m: \tloss: mse\n",
      "\u001b[34m\u001b[1mwandb\u001b[0m: \tlr: 0.0001\n",
      "\u001b[34m\u001b[1mwandb\u001b[0m: \toptimizer: rmsprop\n",
      "\u001b[34m\u001b[1mwandb\u001b[0m: \tw_init: random\n",
      "\u001b[34m\u001b[1mwandb\u001b[0m: \tweight_decay: 0.0005\n"
     ]
    },
    {
     "data": {
      "text/html": [
       "Tracking run with wandb version 0.16.4"
      ],
      "text/plain": [
       "<IPython.core.display.HTML object>"
      ]
     },
     "metadata": {},
     "output_type": "display_data"
    },
    {
     "data": {
      "text/html": [
       "Run data is saved locally in <code>/Users/sumanta/Desktop/Numpy project/mse_error_revised/wandb/run-20240317_170607-8782p2yr</code>"
      ],
      "text/plain": [
       "<IPython.core.display.HTML object>"
      ]
     },
     "metadata": {},
     "output_type": "display_data"
    },
    {
     "data": {
      "text/html": [
       "Syncing run <strong><a href='https://wandb.ai/sumanta_roy/CS6910_assignment_1/runs/8782p2yr' target=\"_blank\">soft-sweep-15</a></strong> to <a href='https://wandb.ai/sumanta_roy/CS6910_assignment_1' target=\"_blank\">Weights & Biases</a> (<a href='https://wandb.me/run' target=\"_blank\">docs</a>)<br/>Sweep page: <a href='https://wandb.ai/sumanta_roy/CS6910_assignment_1/sweeps/etqoz0cb' target=\"_blank\">https://wandb.ai/sumanta_roy/CS6910_assignment_1/sweeps/etqoz0cb</a>"
      ],
      "text/plain": [
       "<IPython.core.display.HTML object>"
      ]
     },
     "metadata": {},
     "output_type": "display_data"
    },
    {
     "data": {
      "text/html": [
       " View project at <a href='https://wandb.ai/sumanta_roy/CS6910_assignment_1' target=\"_blank\">https://wandb.ai/sumanta_roy/CS6910_assignment_1</a>"
      ],
      "text/plain": [
       "<IPython.core.display.HTML object>"
      ]
     },
     "metadata": {},
     "output_type": "display_data"
    },
    {
     "data": {
      "text/html": [
       " View sweep at <a href='https://wandb.ai/sumanta_roy/CS6910_assignment_1/sweeps/etqoz0cb' target=\"_blank\">https://wandb.ai/sumanta_roy/CS6910_assignment_1/sweeps/etqoz0cb</a>"
      ],
      "text/plain": [
       "<IPython.core.display.HTML object>"
      ]
     },
     "metadata": {},
     "output_type": "display_data"
    },
    {
     "data": {
      "text/html": [
       " View run at <a href='https://wandb.ai/sumanta_roy/CS6910_assignment_1/runs/8782p2yr' target=\"_blank\">https://wandb.ai/sumanta_roy/CS6910_assignment_1/runs/8782p2yr</a>"
      ],
      "text/plain": [
       "<IPython.core.display.HTML object>"
      ]
     },
     "metadata": {},
     "output_type": "display_data"
    },
    {
     "name": "stdout",
     "output_type": "stream",
     "text": [
      "Epoch: 1/10; Train Loss: 0.13293204714078377; Val Loss: 0.04015345543474716\n",
      "Epoch: 2/10; Train Loss: 0.12613076862859782; Val Loss: 0.03397033505650152\n",
      "Epoch: 3/10; Train Loss: 0.12411375933806547; Val Loss: 0.031459083313717114\n",
      "Epoch: 4/10; Train Loss: 0.12302916884669002; Val Loss: 0.03010124201401617\n",
      "Epoch: 5/10; Train Loss: 0.12169128585719845; Val Loss: 0.029175249863244254\n",
      "Epoch: 6/10; Train Loss: 0.1214211184073211; Val Loss: 0.028471077904901967\n",
      "Epoch: 7/10; Train Loss: 0.12145688405814156; Val Loss: 0.027918879951585193\n",
      "Epoch: 8/10; Train Loss: 0.12129112969642179; Val Loss: 0.027471896584127634\n",
      "Epoch: 9/10; Train Loss: 0.1208351363647618; Val Loss: 0.027125725085984174\n",
      "Epoch: 10/10; Train Loss: 0.12018489743465487; Val Loss: 0.02685439840475375\n"
     ]
    },
    {
     "data": {
      "application/vnd.jupyter.widget-view+json": {
       "model_id": "",
       "version_major": 2,
       "version_minor": 0
      },
      "text/plain": [
       "VBox(children=(Label(value='0.001 MB of 0.001 MB uploaded\\r'), FloatProgress(value=1.0, max=1.0)))"
      ]
     },
     "metadata": {},
     "output_type": "display_data"
    },
    {
     "data": {
      "text/html": [
       "<style>\n",
       "    table.wandb td:nth-child(1) { padding: 0 10px; text-align: left ; width: auto;} td:nth-child(2) {text-align: left ; width: 100%}\n",
       "    .wandb-row { display: flex; flex-direction: row; flex-wrap: wrap; justify-content: flex-start; width: 100% }\n",
       "    .wandb-col { display: flex; flex-direction: column; flex-basis: 100%; flex: 1; padding: 10px; }\n",
       "    </style>\n",
       "<div class=\"wandb-row\"><div class=\"wandb-col\"><h3>Run history:</h3><br/><table class=\"wandb\"><tr><td>epoch</td><td>▁▁▁▁▂▂▂▂▃▃▃▃▃▃▃▃▄▄▄▄▅▅▅▅▆▆▆▆▆▆▆▆▇▇▇▇████</td></tr><tr><td>train_accuracy</td><td>▁▄▃▆▆▁▄▆▅▆▆▄▇▃▃██▆▇▃▇▅▄▇█▇▇▄▇▅▅▇█▇▇▄█▅▅█</td></tr><tr><td>train_loss</td><td>█▅▆▃▃▇▅▃▃▃▃▆▂▄▅▂▂▂▂▆▂▄▅▂▁▃▂▆▁▃▄▁▁▂▂▅▂▃▄▁</td></tr><tr><td>val_accuracy</td><td>▁▄▅▆▆▆▆▇▇▇▇▇▇▇▇▇██▇█████████████████████</td></tr><tr><td>validation_loss</td><td>█▅▄▃▃▃▂▂▂▂▂▂▂▂▂▂▁▁▁▁▁▁▁▁▁▁▁▁▁▁▁▁▁▁▁▁▁▁▁▁</td></tr></table><br/></div><div class=\"wandb-col\"><h3>Run summary:</h3><br/><table class=\"wandb\"><tr><td>epoch</td><td>10</td></tr><tr><td>train_accuracy</td><td>93.75</td></tr><tr><td>train_loss</td><td>0.12018</td></tr><tr><td>val_accuracy</td><td>81.65</td></tr><tr><td>validation_loss</td><td>0.02685</td></tr></table><br/></div></div>"
      ],
      "text/plain": [
       "<IPython.core.display.HTML object>"
      ]
     },
     "metadata": {},
     "output_type": "display_data"
    },
    {
     "data": {
      "text/html": [
       " View run <strong style=\"color:#cdcd00\">soft-sweep-15</strong> at: <a href='https://wandb.ai/sumanta_roy/CS6910_assignment_1/runs/8782p2yr' target=\"_blank\">https://wandb.ai/sumanta_roy/CS6910_assignment_1/runs/8782p2yr</a><br/>Synced 6 W&B file(s), 0 media file(s), 0 artifact file(s) and 0 other file(s)"
      ],
      "text/plain": [
       "<IPython.core.display.HTML object>"
      ]
     },
     "metadata": {},
     "output_type": "display_data"
    },
    {
     "data": {
      "text/html": [
       "Find logs at: <code>./wandb/run-20240317_170607-8782p2yr/logs</code>"
      ],
      "text/plain": [
       "<IPython.core.display.HTML object>"
      ]
     },
     "metadata": {},
     "output_type": "display_data"
    },
    {
     "name": "stderr",
     "output_type": "stream",
     "text": [
      "\u001b[34m\u001b[1mwandb\u001b[0m: Agent Starting Run: eisvzfcd with config:\n",
      "\u001b[34m\u001b[1mwandb\u001b[0m: \tactivation: tanh\n",
      "\u001b[34m\u001b[1mwandb\u001b[0m: \tbatch_size: 64\n",
      "\u001b[34m\u001b[1mwandb\u001b[0m: \tepochs: 10\n",
      "\u001b[34m\u001b[1mwandb\u001b[0m: \thidden_layers: 5\n",
      "\u001b[34m\u001b[1mwandb\u001b[0m: \thidden_size: 128\n",
      "\u001b[34m\u001b[1mwandb\u001b[0m: \tloss: mse\n",
      "\u001b[34m\u001b[1mwandb\u001b[0m: \tlr: 0.0001\n",
      "\u001b[34m\u001b[1mwandb\u001b[0m: \toptimizer: nadam\n",
      "\u001b[34m\u001b[1mwandb\u001b[0m: \tw_init: glorot\n",
      "\u001b[34m\u001b[1mwandb\u001b[0m: \tweight_decay: 0.0005\n"
     ]
    },
    {
     "data": {
      "text/html": [
       "Tracking run with wandb version 0.16.4"
      ],
      "text/plain": [
       "<IPython.core.display.HTML object>"
      ]
     },
     "metadata": {},
     "output_type": "display_data"
    },
    {
     "data": {
      "text/html": [
       "Run data is saved locally in <code>/Users/sumanta/Desktop/Numpy project/mse_error_revised/wandb/run-20240317_170820-eisvzfcd</code>"
      ],
      "text/plain": [
       "<IPython.core.display.HTML object>"
      ]
     },
     "metadata": {},
     "output_type": "display_data"
    },
    {
     "data": {
      "text/html": [
       "Syncing run <strong><a href='https://wandb.ai/sumanta_roy/CS6910_assignment_1/runs/eisvzfcd' target=\"_blank\">fiery-sweep-16</a></strong> to <a href='https://wandb.ai/sumanta_roy/CS6910_assignment_1' target=\"_blank\">Weights & Biases</a> (<a href='https://wandb.me/run' target=\"_blank\">docs</a>)<br/>Sweep page: <a href='https://wandb.ai/sumanta_roy/CS6910_assignment_1/sweeps/etqoz0cb' target=\"_blank\">https://wandb.ai/sumanta_roy/CS6910_assignment_1/sweeps/etqoz0cb</a>"
      ],
      "text/plain": [
       "<IPython.core.display.HTML object>"
      ]
     },
     "metadata": {},
     "output_type": "display_data"
    },
    {
     "data": {
      "text/html": [
       " View project at <a href='https://wandb.ai/sumanta_roy/CS6910_assignment_1' target=\"_blank\">https://wandb.ai/sumanta_roy/CS6910_assignment_1</a>"
      ],
      "text/plain": [
       "<IPython.core.display.HTML object>"
      ]
     },
     "metadata": {},
     "output_type": "display_data"
    },
    {
     "data": {
      "text/html": [
       " View sweep at <a href='https://wandb.ai/sumanta_roy/CS6910_assignment_1/sweeps/etqoz0cb' target=\"_blank\">https://wandb.ai/sumanta_roy/CS6910_assignment_1/sweeps/etqoz0cb</a>"
      ],
      "text/plain": [
       "<IPython.core.display.HTML object>"
      ]
     },
     "metadata": {},
     "output_type": "display_data"
    },
    {
     "data": {
      "text/html": [
       " View run at <a href='https://wandb.ai/sumanta_roy/CS6910_assignment_1/runs/eisvzfcd' target=\"_blank\">https://wandb.ai/sumanta_roy/CS6910_assignment_1/runs/eisvzfcd</a>"
      ],
      "text/plain": [
       "<IPython.core.display.HTML object>"
      ]
     },
     "metadata": {},
     "output_type": "display_data"
    },
    {
     "name": "stdout",
     "output_type": "stream",
     "text": [
      "Epoch: 1/10; Train Loss: 0.03634167737944606; Val Loss: 0.04109013875173549\n",
      "Epoch: 2/10; Train Loss: 0.02752470565857264; Val Loss: 0.0341823255255625\n",
      "Epoch: 3/10; Train Loss: 0.02313702208342298; Val Loss: 0.030688652126478085\n",
      "Epoch: 4/10; Train Loss: 0.020794406954966746; Val Loss: 0.02851033116050657\n",
      "Epoch: 5/10; Train Loss: 0.019530792641598363; Val Loss: 0.027033402926580116\n",
      "Epoch: 6/10; Train Loss: 0.018810683223737478; Val Loss: 0.025976388500942076\n",
      "Epoch: 7/10; Train Loss: 0.018375557225485544; Val Loss: 0.0251826493640092\n",
      "Epoch: 8/10; Train Loss: 0.018106942254414494; Val Loss: 0.0245608068240586\n",
      "Epoch: 9/10; Train Loss: 0.01794701917493511; Val Loss: 0.02405620162416007\n",
      "Epoch: 10/10; Train Loss: 0.017863222965171968; Val Loss: 0.02363485977969933\n"
     ]
    },
    {
     "data": {
      "application/vnd.jupyter.widget-view+json": {
       "model_id": "",
       "version_major": 2,
       "version_minor": 0
      },
      "text/plain": [
       "VBox(children=(Label(value='0.001 MB of 0.001 MB uploaded\\r'), FloatProgress(value=1.0, max=1.0)))"
      ]
     },
     "metadata": {},
     "output_type": "display_data"
    },
    {
     "data": {
      "text/html": [
       "<style>\n",
       "    table.wandb td:nth-child(1) { padding: 0 10px; text-align: left ; width: auto;} td:nth-child(2) {text-align: left ; width: 100%}\n",
       "    .wandb-row { display: flex; flex-direction: row; flex-wrap: wrap; justify-content: flex-start; width: 100% }\n",
       "    .wandb-col { display: flex; flex-direction: column; flex-basis: 100%; flex: 1; padding: 10px; }\n",
       "    </style>\n",
       "<div class=\"wandb-row\"><div class=\"wandb-col\"><h3>Run history:</h3><br/><table class=\"wandb\"><tr><td>epoch</td><td>▁▁▁▁▂▂▂▂▃▃▃▃▃▃▃▃▄▄▄▄▅▅▅▅▆▆▆▆▆▆▆▆▇▇▇▇████</td></tr><tr><td>train_accuracy</td><td>▁▄▄▅▅▄▆▅▅▆▅▅▆▇▅▆▅▇▆▆▆▆▇▇▆▄▆▆█▆▄▇▆▇▇▇▇▅▇█</td></tr><tr><td>train_loss</td><td>█▆▅▄▅▄▃▄▃▃▄▄▃▃▃▃▄▂▃▂▂▃▂▂▃▃▂▂▁▃▄▂▃▂▂▂▂▃▁▁</td></tr><tr><td>val_accuracy</td><td>▁▃▄▅▅▆▆▆▆▆▇▇▇▇▇▇▇▇▇▇█▇██████████████████</td></tr><tr><td>validation_loss</td><td>█▆▅▄▄▃▃▃▃▂▂▂▂▂▂▂▂▂▂▂▂▁▁▁▁▁▁▁▁▁▁▁▁▁▁▁▁▁▁▁</td></tr></table><br/></div><div class=\"wandb-col\"><h3>Run summary:</h3><br/><table class=\"wandb\"><tr><td>epoch</td><td>10</td></tr><tr><td>train_accuracy</td><td>90.625</td></tr><tr><td>train_loss</td><td>0.01786</td></tr><tr><td>val_accuracy</td><td>83.46667</td></tr><tr><td>validation_loss</td><td>0.02363</td></tr></table><br/></div></div>"
      ],
      "text/plain": [
       "<IPython.core.display.HTML object>"
      ]
     },
     "metadata": {},
     "output_type": "display_data"
    },
    {
     "data": {
      "text/html": [
       " View run <strong style=\"color:#cdcd00\">fiery-sweep-16</strong> at: <a href='https://wandb.ai/sumanta_roy/CS6910_assignment_1/runs/eisvzfcd' target=\"_blank\">https://wandb.ai/sumanta_roy/CS6910_assignment_1/runs/eisvzfcd</a><br/>Synced 6 W&B file(s), 0 media file(s), 0 artifact file(s) and 0 other file(s)"
      ],
      "text/plain": [
       "<IPython.core.display.HTML object>"
      ]
     },
     "metadata": {},
     "output_type": "display_data"
    },
    {
     "data": {
      "text/html": [
       "Find logs at: <code>./wandb/run-20240317_170820-eisvzfcd/logs</code>"
      ],
      "text/plain": [
       "<IPython.core.display.HTML object>"
      ]
     },
     "metadata": {},
     "output_type": "display_data"
    },
    {
     "name": "stderr",
     "output_type": "stream",
     "text": [
      "\u001b[34m\u001b[1mwandb\u001b[0m: Agent Starting Run: 5owxl4mj with config:\n",
      "\u001b[34m\u001b[1mwandb\u001b[0m: \tactivation: tanh\n",
      "\u001b[34m\u001b[1mwandb\u001b[0m: \tbatch_size: 32\n",
      "\u001b[34m\u001b[1mwandb\u001b[0m: \tepochs: 10\n",
      "\u001b[34m\u001b[1mwandb\u001b[0m: \thidden_layers: 4\n",
      "\u001b[34m\u001b[1mwandb\u001b[0m: \thidden_size: 64\n",
      "\u001b[34m\u001b[1mwandb\u001b[0m: \tloss: mse\n",
      "\u001b[34m\u001b[1mwandb\u001b[0m: \tlr: 0.0001\n",
      "\u001b[34m\u001b[1mwandb\u001b[0m: \toptimizer: momentum\n",
      "\u001b[34m\u001b[1mwandb\u001b[0m: \tw_init: random\n",
      "\u001b[34m\u001b[1mwandb\u001b[0m: \tweight_decay: 0.5\n"
     ]
    },
    {
     "data": {
      "text/html": [
       "Tracking run with wandb version 0.16.4"
      ],
      "text/plain": [
       "<IPython.core.display.HTML object>"
      ]
     },
     "metadata": {},
     "output_type": "display_data"
    },
    {
     "data": {
      "text/html": [
       "Run data is saved locally in <code>/Users/sumanta/Desktop/Numpy project/mse_error_revised/wandb/run-20240317_171026-5owxl4mj</code>"
      ],
      "text/plain": [
       "<IPython.core.display.HTML object>"
      ]
     },
     "metadata": {},
     "output_type": "display_data"
    },
    {
     "data": {
      "text/html": [
       "Syncing run <strong><a href='https://wandb.ai/sumanta_roy/CS6910_assignment_1/runs/5owxl4mj' target=\"_blank\">zesty-sweep-17</a></strong> to <a href='https://wandb.ai/sumanta_roy/CS6910_assignment_1' target=\"_blank\">Weights & Biases</a> (<a href='https://wandb.me/run' target=\"_blank\">docs</a>)<br/>Sweep page: <a href='https://wandb.ai/sumanta_roy/CS6910_assignment_1/sweeps/etqoz0cb' target=\"_blank\">https://wandb.ai/sumanta_roy/CS6910_assignment_1/sweeps/etqoz0cb</a>"
      ],
      "text/plain": [
       "<IPython.core.display.HTML object>"
      ]
     },
     "metadata": {},
     "output_type": "display_data"
    },
    {
     "data": {
      "text/html": [
       " View project at <a href='https://wandb.ai/sumanta_roy/CS6910_assignment_1' target=\"_blank\">https://wandb.ai/sumanta_roy/CS6910_assignment_1</a>"
      ],
      "text/plain": [
       "<IPython.core.display.HTML object>"
      ]
     },
     "metadata": {},
     "output_type": "display_data"
    },
    {
     "data": {
      "text/html": [
       " View sweep at <a href='https://wandb.ai/sumanta_roy/CS6910_assignment_1/sweeps/etqoz0cb' target=\"_blank\">https://wandb.ai/sumanta_roy/CS6910_assignment_1/sweeps/etqoz0cb</a>"
      ],
      "text/plain": [
       "<IPython.core.display.HTML object>"
      ]
     },
     "metadata": {},
     "output_type": "display_data"
    },
    {
     "data": {
      "text/html": [
       " View run at <a href='https://wandb.ai/sumanta_roy/CS6910_assignment_1/runs/5owxl4mj' target=\"_blank\">https://wandb.ai/sumanta_roy/CS6910_assignment_1/runs/5owxl4mj</a>"
      ],
      "text/plain": [
       "<IPython.core.display.HTML object>"
      ]
     },
     "metadata": {},
     "output_type": "display_data"
    },
    {
     "name": "stdout",
     "output_type": "stream",
     "text": [
      "Epoch: 1/10; Train Loss: 39.43781043857896; Val Loss: 0.26532577497355114\n",
      "Epoch: 2/10; Train Loss: 37.40365386040153; Val Loss: 0.24522099445445664\n",
      "Epoch: 3/10; Train Loss: 35.48028973338824; Val Loss: 0.23054299470034437\n",
      "Epoch: 4/10; Train Loss: 33.6586386039583; Val Loss: 0.21808998944191735\n",
      "Epoch: 5/10; Train Loss: 31.932336199233742; Val Loss: 0.2069115367584094\n",
      "Epoch: 6/10; Train Loss: 30.296102148796397; Val Loss: 0.1966360858942111\n",
      "Epoch: 7/10; Train Loss: 28.74502290976527; Val Loss: 0.18711173631154027\n",
      "Epoch: 8/10; Train Loss: 27.274559064495076; Val Loss: 0.17823679417134436\n",
      "Epoch: 9/10; Train Loss: 25.880471177198988; Val Loss: 0.1699340392553339\n",
      "Epoch: 10/10; Train Loss: 24.558754573703293; Val Loss: 0.16214736729414064\n"
     ]
    },
    {
     "data": {
      "application/vnd.jupyter.widget-view+json": {
       "model_id": "",
       "version_major": 2,
       "version_minor": 0
      },
      "text/plain": [
       "VBox(children=(Label(value='0.001 MB of 0.027 MB uploaded\\r'), FloatProgress(value=0.02723790608596964, max=1.…"
      ]
     },
     "metadata": {},
     "output_type": "display_data"
    },
    {
     "data": {
      "text/html": [
       "<style>\n",
       "    table.wandb td:nth-child(1) { padding: 0 10px; text-align: left ; width: auto;} td:nth-child(2) {text-align: left ; width: 100%}\n",
       "    .wandb-row { display: flex; flex-direction: row; flex-wrap: wrap; justify-content: flex-start; width: 100% }\n",
       "    .wandb-col { display: flex; flex-direction: column; flex-basis: 100%; flex: 1; padding: 10px; }\n",
       "    </style>\n",
       "<div class=\"wandb-row\"><div class=\"wandb-col\"><h3>Run history:</h3><br/><table class=\"wandb\"><tr><td>epoch</td><td>▁▁▁▁▂▂▂▂▃▃▃▃▃▃▃▃▄▄▄▄▅▅▅▅▆▆▆▆▆▆▆▆▇▇▇▇████</td></tr><tr><td>train_accuracy</td><td>▁▃▅▄▄▅▄▅▆▅▆▄▇▆▆▇▇▆▇▄█▆█▇▇▇▇▅█▆█▇▇█▇▅▇███</td></tr><tr><td>train_loss</td><td>███▇▇▇▇▇▆▆▆▆▆▅▅▅▅▅▄▄▄▄▄▄▃▃▃▃▃▃▂▂▂▂▂▂▁▁▁▁</td></tr><tr><td>val_accuracy</td><td>▁▃▅▅▆▆▆▇▇▇▇▇▇▇▇▇▇▇▇█████████████████████</td></tr><tr><td>validation_loss</td><td>█▇▆▆▆▅▅▅▅▅▄▄▄▄▄▄▃▃▃▃▃▃▃▃▃▂▂▂▂▂▂▂▂▂▂▁▁▁▁▁</td></tr></table><br/></div><div class=\"wandb-col\"><h3>Run summary:</h3><br/><table class=\"wandb\"><tr><td>epoch</td><td>10</td></tr><tr><td>train_accuracy</td><td>84.375</td></tr><tr><td>train_loss</td><td>24.55875</td></tr><tr><td>val_accuracy</td><td>77.78333</td></tr><tr><td>validation_loss</td><td>0.16215</td></tr></table><br/></div></div>"
      ],
      "text/plain": [
       "<IPython.core.display.HTML object>"
      ]
     },
     "metadata": {},
     "output_type": "display_data"
    },
    {
     "data": {
      "text/html": [
       " View run <strong style=\"color:#cdcd00\">zesty-sweep-17</strong> at: <a href='https://wandb.ai/sumanta_roy/CS6910_assignment_1/runs/5owxl4mj' target=\"_blank\">https://wandb.ai/sumanta_roy/CS6910_assignment_1/runs/5owxl4mj</a><br/>Synced 6 W&B file(s), 0 media file(s), 0 artifact file(s) and 0 other file(s)"
      ],
      "text/plain": [
       "<IPython.core.display.HTML object>"
      ]
     },
     "metadata": {},
     "output_type": "display_data"
    },
    {
     "data": {
      "text/html": [
       "Find logs at: <code>./wandb/run-20240317_171026-5owxl4mj/logs</code>"
      ],
      "text/plain": [
       "<IPython.core.display.HTML object>"
      ]
     },
     "metadata": {},
     "output_type": "display_data"
    },
    {
     "name": "stderr",
     "output_type": "stream",
     "text": [
      "\u001b[34m\u001b[1mwandb\u001b[0m: Agent Starting Run: izjhxvlv with config:\n",
      "\u001b[34m\u001b[1mwandb\u001b[0m: \tactivation: tanh\n",
      "\u001b[34m\u001b[1mwandb\u001b[0m: \tbatch_size: 64\n",
      "\u001b[34m\u001b[1mwandb\u001b[0m: \tepochs: 10\n",
      "\u001b[34m\u001b[1mwandb\u001b[0m: \thidden_layers: 5\n",
      "\u001b[34m\u001b[1mwandb\u001b[0m: \thidden_size: 128\n",
      "\u001b[34m\u001b[1mwandb\u001b[0m: \tloss: mse\n",
      "\u001b[34m\u001b[1mwandb\u001b[0m: \tlr: 0.0001\n",
      "\u001b[34m\u001b[1mwandb\u001b[0m: \toptimizer: rmsprop\n",
      "\u001b[34m\u001b[1mwandb\u001b[0m: \tw_init: glorot\n",
      "\u001b[34m\u001b[1mwandb\u001b[0m: \tweight_decay: 0\n"
     ]
    },
    {
     "data": {
      "text/html": [
       "Tracking run with wandb version 0.16.4"
      ],
      "text/plain": [
       "<IPython.core.display.HTML object>"
      ]
     },
     "metadata": {},
     "output_type": "display_data"
    },
    {
     "data": {
      "text/html": [
       "Run data is saved locally in <code>/Users/sumanta/Desktop/Numpy project/mse_error_revised/wandb/run-20240317_171130-izjhxvlv</code>"
      ],
      "text/plain": [
       "<IPython.core.display.HTML object>"
      ]
     },
     "metadata": {},
     "output_type": "display_data"
    },
    {
     "data": {
      "text/html": [
       "Syncing run <strong><a href='https://wandb.ai/sumanta_roy/CS6910_assignment_1/runs/izjhxvlv' target=\"_blank\">icy-sweep-18</a></strong> to <a href='https://wandb.ai/sumanta_roy/CS6910_assignment_1' target=\"_blank\">Weights & Biases</a> (<a href='https://wandb.me/run' target=\"_blank\">docs</a>)<br/>Sweep page: <a href='https://wandb.ai/sumanta_roy/CS6910_assignment_1/sweeps/etqoz0cb' target=\"_blank\">https://wandb.ai/sumanta_roy/CS6910_assignment_1/sweeps/etqoz0cb</a>"
      ],
      "text/plain": [
       "<IPython.core.display.HTML object>"
      ]
     },
     "metadata": {},
     "output_type": "display_data"
    },
    {
     "data": {
      "text/html": [
       " View project at <a href='https://wandb.ai/sumanta_roy/CS6910_assignment_1' target=\"_blank\">https://wandb.ai/sumanta_roy/CS6910_assignment_1</a>"
      ],
      "text/plain": [
       "<IPython.core.display.HTML object>"
      ]
     },
     "metadata": {},
     "output_type": "display_data"
    },
    {
     "data": {
      "text/html": [
       " View sweep at <a href='https://wandb.ai/sumanta_roy/CS6910_assignment_1/sweeps/etqoz0cb' target=\"_blank\">https://wandb.ai/sumanta_roy/CS6910_assignment_1/sweeps/etqoz0cb</a>"
      ],
      "text/plain": [
       "<IPython.core.display.HTML object>"
      ]
     },
     "metadata": {},
     "output_type": "display_data"
    },
    {
     "data": {
      "text/html": [
       " View run at <a href='https://wandb.ai/sumanta_roy/CS6910_assignment_1/runs/izjhxvlv' target=\"_blank\">https://wandb.ai/sumanta_roy/CS6910_assignment_1/runs/izjhxvlv</a>"
      ],
      "text/plain": [
       "<IPython.core.display.HTML object>"
      ]
     },
     "metadata": {},
     "output_type": "display_data"
    },
    {
     "name": "stdout",
     "output_type": "stream",
     "text": [
      "Epoch: 1/10; Train Loss: 0.017953219262428006; Val Loss: 0.027341721720791468\n",
      "Epoch: 2/10; Train Loss: 0.015024911062501043; Val Loss: 0.023729263390763623\n",
      "Epoch: 3/10; Train Loss: 0.014471787177489745; Val Loss: 0.022231080157734416\n",
      "Epoch: 4/10; Train Loss: 0.014407687932992802; Val Loss: 0.021269754527194783\n",
      "Epoch: 5/10; Train Loss: 0.014494352473478477; Val Loss: 0.02057458823702153\n",
      "Epoch: 6/10; Train Loss: 0.014606849549282996; Val Loss: 0.020044261814673486\n",
      "Epoch: 7/10; Train Loss: 0.014701684339802762; Val Loss: 0.01962546621306077\n",
      "Epoch: 8/10; Train Loss: 0.014760939167071135; Val Loss: 0.019285115231547884\n",
      "Epoch: 9/10; Train Loss: 0.014778443553219018; Val Loss: 0.019001106486195792\n",
      "Epoch: 10/10; Train Loss: 0.014756498334298757; Val Loss: 0.018758603294924375\n"
     ]
    },
    {
     "data": {
      "application/vnd.jupyter.widget-view+json": {
       "model_id": "",
       "version_major": 2,
       "version_minor": 0
      },
      "text/plain": [
       "VBox(children=(Label(value='0.001 MB of 0.001 MB uploaded\\r'), FloatProgress(value=1.0, max=1.0)))"
      ]
     },
     "metadata": {},
     "output_type": "display_data"
    },
    {
     "data": {
      "text/html": [
       "<style>\n",
       "    table.wandb td:nth-child(1) { padding: 0 10px; text-align: left ; width: auto;} td:nth-child(2) {text-align: left ; width: 100%}\n",
       "    .wandb-row { display: flex; flex-direction: row; flex-wrap: wrap; justify-content: flex-start; width: 100% }\n",
       "    .wandb-col { display: flex; flex-direction: column; flex-basis: 100%; flex: 1; padding: 10px; }\n",
       "    </style>\n",
       "<div class=\"wandb-row\"><div class=\"wandb-col\"><h3>Run history:</h3><br/><table class=\"wandb\"><tr><td>epoch</td><td>▁▁▁▁▂▂▂▂▃▃▃▃▃▃▃▃▄▄▄▄▅▅▅▅▆▆▆▆▆▆▆▆▇▇▇▇████</td></tr><tr><td>train_accuracy</td><td>▁▅▅▆▅▅▇▅▆▇▅▄▅▆▅▆▅▇▆▇▆▆▇▇▅▆▇▆█▆▅▆▇▇▇▆▇▅▇▇</td></tr><tr><td>train_loss</td><td>█▅▄▃▄▄▂▃▃▃▃▄▃▃▃▃▄▂▃▂▂▃▂▂▄▄▂▂▁▃▄▃▂▂▂▃▂▃▁▁</td></tr><tr><td>val_accuracy</td><td>▁▃▅▆▆▇▇▇▇▇▇▇▇▇▇▇▇██▇▇███████████████████</td></tr><tr><td>validation_loss</td><td>█▅▃▃▃▂▂▂▂▂▂▂▂▂▂▂▁▁▁▁▁▁▁▁▁▁▁▁▁▁▁▁▁▁▁▁▁▁▁▁</td></tr></table><br/></div><div class=\"wandb-col\"><h3>Run summary:</h3><br/><table class=\"wandb\"><tr><td>epoch</td><td>10</td></tr><tr><td>train_accuracy</td><td>89.0625</td></tr><tr><td>train_loss</td><td>0.01476</td></tr><tr><td>val_accuracy</td><td>86.88333</td></tr><tr><td>validation_loss</td><td>0.01876</td></tr></table><br/></div></div>"
      ],
      "text/plain": [
       "<IPython.core.display.HTML object>"
      ]
     },
     "metadata": {},
     "output_type": "display_data"
    },
    {
     "data": {
      "text/html": [
       " View run <strong style=\"color:#cdcd00\">icy-sweep-18</strong> at: <a href='https://wandb.ai/sumanta_roy/CS6910_assignment_1/runs/izjhxvlv' target=\"_blank\">https://wandb.ai/sumanta_roy/CS6910_assignment_1/runs/izjhxvlv</a><br/>Synced 6 W&B file(s), 0 media file(s), 0 artifact file(s) and 0 other file(s)"
      ],
      "text/plain": [
       "<IPython.core.display.HTML object>"
      ]
     },
     "metadata": {},
     "output_type": "display_data"
    },
    {
     "data": {
      "text/html": [
       "Find logs at: <code>./wandb/run-20240317_171130-izjhxvlv/logs</code>"
      ],
      "text/plain": [
       "<IPython.core.display.HTML object>"
      ]
     },
     "metadata": {},
     "output_type": "display_data"
    },
    {
     "name": "stderr",
     "output_type": "stream",
     "text": [
      "\u001b[34m\u001b[1mwandb\u001b[0m: Sweep Agent: Waiting for job.\n",
      "\u001b[34m\u001b[1mwandb\u001b[0m: Job received.\n",
      "\u001b[34m\u001b[1mwandb\u001b[0m: Agent Starting Run: trno32zn with config:\n",
      "\u001b[34m\u001b[1mwandb\u001b[0m: \tactivation: tanh\n",
      "\u001b[34m\u001b[1mwandb\u001b[0m: \tbatch_size: 64\n",
      "\u001b[34m\u001b[1mwandb\u001b[0m: \tepochs: 10\n",
      "\u001b[34m\u001b[1mwandb\u001b[0m: \thidden_layers: 5\n",
      "\u001b[34m\u001b[1mwandb\u001b[0m: \thidden_size: 32\n",
      "\u001b[34m\u001b[1mwandb\u001b[0m: \tloss: mse\n",
      "\u001b[34m\u001b[1mwandb\u001b[0m: \tlr: 0.0001\n",
      "\u001b[34m\u001b[1mwandb\u001b[0m: \toptimizer: rmsprop\n",
      "\u001b[34m\u001b[1mwandb\u001b[0m: \tw_init: glorot\n",
      "\u001b[34m\u001b[1mwandb\u001b[0m: \tweight_decay: 0.0005\n"
     ]
    },
    {
     "data": {
      "text/html": [
       "Tracking run with wandb version 0.16.4"
      ],
      "text/plain": [
       "<IPython.core.display.HTML object>"
      ]
     },
     "metadata": {},
     "output_type": "display_data"
    },
    {
     "data": {
      "text/html": [
       "Run data is saved locally in <code>/Users/sumanta/Desktop/Numpy project/mse_error_revised/wandb/run-20240317_171342-trno32zn</code>"
      ],
      "text/plain": [
       "<IPython.core.display.HTML object>"
      ]
     },
     "metadata": {},
     "output_type": "display_data"
    },
    {
     "data": {
      "text/html": [
       "Syncing run <strong><a href='https://wandb.ai/sumanta_roy/CS6910_assignment_1/runs/trno32zn' target=\"_blank\">amber-sweep-19</a></strong> to <a href='https://wandb.ai/sumanta_roy/CS6910_assignment_1' target=\"_blank\">Weights & Biases</a> (<a href='https://wandb.me/run' target=\"_blank\">docs</a>)<br/>Sweep page: <a href='https://wandb.ai/sumanta_roy/CS6910_assignment_1/sweeps/etqoz0cb' target=\"_blank\">https://wandb.ai/sumanta_roy/CS6910_assignment_1/sweeps/etqoz0cb</a>"
      ],
      "text/plain": [
       "<IPython.core.display.HTML object>"
      ]
     },
     "metadata": {},
     "output_type": "display_data"
    },
    {
     "data": {
      "text/html": [
       " View project at <a href='https://wandb.ai/sumanta_roy/CS6910_assignment_1' target=\"_blank\">https://wandb.ai/sumanta_roy/CS6910_assignment_1</a>"
      ],
      "text/plain": [
       "<IPython.core.display.HTML object>"
      ]
     },
     "metadata": {},
     "output_type": "display_data"
    },
    {
     "data": {
      "text/html": [
       " View sweep at <a href='https://wandb.ai/sumanta_roy/CS6910_assignment_1/sweeps/etqoz0cb' target=\"_blank\">https://wandb.ai/sumanta_roy/CS6910_assignment_1/sweeps/etqoz0cb</a>"
      ],
      "text/plain": [
       "<IPython.core.display.HTML object>"
      ]
     },
     "metadata": {},
     "output_type": "display_data"
    },
    {
     "data": {
      "text/html": [
       " View run at <a href='https://wandb.ai/sumanta_roy/CS6910_assignment_1/runs/trno32zn' target=\"_blank\">https://wandb.ai/sumanta_roy/CS6910_assignment_1/runs/trno32zn</a>"
      ],
      "text/plain": [
       "<IPython.core.display.HTML object>"
      ]
     },
     "metadata": {},
     "output_type": "display_data"
    },
    {
     "name": "stdout",
     "output_type": "stream",
     "text": [
      "Epoch: 1/10; Train Loss: 0.036698624607970534; Val Loss: 0.04108781781896455\n",
      "Epoch: 2/10; Train Loss: 0.024398446697459733; Val Loss: 0.03011700509773243\n",
      "Epoch: 3/10; Train Loss: 0.02060777600115972; Val Loss: 0.026347013912282467\n",
      "Epoch: 4/10; Train Loss: 0.019056466939178934; Val Loss: 0.02449505613940626\n",
      "Epoch: 5/10; Train Loss: 0.018368067407025866; Val Loss: 0.023326610027164664\n",
      "Epoch: 6/10; Train Loss: 0.01824827868554932; Val Loss: 0.02246825331335976\n",
      "Epoch: 7/10; Train Loss: 0.018515558991480625; Val Loss: 0.021798801951978072\n",
      "Epoch: 8/10; Train Loss: 0.018962780325109202; Val Loss: 0.021269653624863043\n",
      "Epoch: 9/10; Train Loss: 0.019447136322698108; Val Loss: 0.020847423906547126\n",
      "Epoch: 10/10; Train Loss: 0.019893709336614777; Val Loss: 0.020505331324549875\n"
     ]
    },
    {
     "data": {
      "application/vnd.jupyter.widget-view+json": {
       "model_id": "",
       "version_major": 2,
       "version_minor": 0
      },
      "text/plain": [
       "VBox(children=(Label(value='0.001 MB of 0.001 MB uploaded\\r'), FloatProgress(value=1.0, max=1.0)))"
      ]
     },
     "metadata": {},
     "output_type": "display_data"
    },
    {
     "data": {
      "text/html": [
       "<style>\n",
       "    table.wandb td:nth-child(1) { padding: 0 10px; text-align: left ; width: auto;} td:nth-child(2) {text-align: left ; width: 100%}\n",
       "    .wandb-row { display: flex; flex-direction: row; flex-wrap: wrap; justify-content: flex-start; width: 100% }\n",
       "    .wandb-col { display: flex; flex-direction: column; flex-basis: 100%; flex: 1; padding: 10px; }\n",
       "    </style>\n",
       "<div class=\"wandb-row\"><div class=\"wandb-col\"><h3>Run history:</h3><br/><table class=\"wandb\"><tr><td>epoch</td><td>▁▁▁▁▂▂▂▂▃▃▃▃▃▃▃▃▄▄▄▄▅▅▅▅▆▆▆▆▆▆▆▆▇▇▇▇████</td></tr><tr><td>train_accuracy</td><td>▁▄▅▅▄▄▇▆▆▆▅▅▆▇▆▆▅▇▆▇▇▆▇▇▆▆███▆▆▇▇▇▆▇▇▅▇█</td></tr><tr><td>train_loss</td><td>█▇▅▄▅▄▂▃▃▃▃▃▃▂▂▂▄▂▃▂▂▃▂▂▃▃▂▂▁▃▃▂▂▂▂▂▂▃▁▁</td></tr><tr><td>val_accuracy</td><td>▁▃▅▆▆▆▆▇▇▇▇▇▇▇▇▇▇▇██████████████████████</td></tr><tr><td>validation_loss</td><td>█▇▅▄▃▃▂▂▂▂▂▂▂▂▂▁▁▁▁▁▁▁▁▁▁▁▁▁▁▁▁▁▁▁▁▁▁▁▁▁</td></tr></table><br/></div><div class=\"wandb-col\"><h3>Run summary:</h3><br/><table class=\"wandb\"><tr><td>epoch</td><td>10</td></tr><tr><td>train_accuracy</td><td>87.5</td></tr><tr><td>train_loss</td><td>0.01989</td></tr><tr><td>val_accuracy</td><td>85.23333</td></tr><tr><td>validation_loss</td><td>0.02051</td></tr></table><br/></div></div>"
      ],
      "text/plain": [
       "<IPython.core.display.HTML object>"
      ]
     },
     "metadata": {},
     "output_type": "display_data"
    },
    {
     "data": {
      "text/html": [
       " View run <strong style=\"color:#cdcd00\">amber-sweep-19</strong> at: <a href='https://wandb.ai/sumanta_roy/CS6910_assignment_1/runs/trno32zn' target=\"_blank\">https://wandb.ai/sumanta_roy/CS6910_assignment_1/runs/trno32zn</a><br/>Synced 6 W&B file(s), 0 media file(s), 0 artifact file(s) and 0 other file(s)"
      ],
      "text/plain": [
       "<IPython.core.display.HTML object>"
      ]
     },
     "metadata": {},
     "output_type": "display_data"
    },
    {
     "data": {
      "text/html": [
       "Find logs at: <code>./wandb/run-20240317_171342-trno32zn/logs</code>"
      ],
      "text/plain": [
       "<IPython.core.display.HTML object>"
      ]
     },
     "metadata": {},
     "output_type": "display_data"
    },
    {
     "name": "stderr",
     "output_type": "stream",
     "text": [
      "\u001b[34m\u001b[1mwandb\u001b[0m: Agent Starting Run: zy1uzjwy with config:\n",
      "\u001b[34m\u001b[1mwandb\u001b[0m: \tactivation: tanh\n",
      "\u001b[34m\u001b[1mwandb\u001b[0m: \tbatch_size: 64\n",
      "\u001b[34m\u001b[1mwandb\u001b[0m: \tepochs: 10\n",
      "\u001b[34m\u001b[1mwandb\u001b[0m: \thidden_layers: 5\n",
      "\u001b[34m\u001b[1mwandb\u001b[0m: \thidden_size: 32\n",
      "\u001b[34m\u001b[1mwandb\u001b[0m: \tloss: mse\n",
      "\u001b[34m\u001b[1mwandb\u001b[0m: \tlr: 0.0001\n",
      "\u001b[34m\u001b[1mwandb\u001b[0m: \toptimizer: nesterov\n",
      "\u001b[34m\u001b[1mwandb\u001b[0m: \tw_init: glorot\n",
      "\u001b[34m\u001b[1mwandb\u001b[0m: \tweight_decay: 0.0005\n"
     ]
    },
    {
     "data": {
      "text/html": [
       "Tracking run with wandb version 0.16.4"
      ],
      "text/plain": [
       "<IPython.core.display.HTML object>"
      ]
     },
     "metadata": {},
     "output_type": "display_data"
    },
    {
     "data": {
      "text/html": [
       "Run data is saved locally in <code>/Users/sumanta/Desktop/Numpy project/mse_error_revised/wandb/run-20240317_171420-zy1uzjwy</code>"
      ],
      "text/plain": [
       "<IPython.core.display.HTML object>"
      ]
     },
     "metadata": {},
     "output_type": "display_data"
    },
    {
     "data": {
      "text/html": [
       "Syncing run <strong><a href='https://wandb.ai/sumanta_roy/CS6910_assignment_1/runs/zy1uzjwy' target=\"_blank\">vocal-sweep-20</a></strong> to <a href='https://wandb.ai/sumanta_roy/CS6910_assignment_1' target=\"_blank\">Weights & Biases</a> (<a href='https://wandb.me/run' target=\"_blank\">docs</a>)<br/>Sweep page: <a href='https://wandb.ai/sumanta_roy/CS6910_assignment_1/sweeps/etqoz0cb' target=\"_blank\">https://wandb.ai/sumanta_roy/CS6910_assignment_1/sweeps/etqoz0cb</a>"
      ],
      "text/plain": [
       "<IPython.core.display.HTML object>"
      ]
     },
     "metadata": {},
     "output_type": "display_data"
    },
    {
     "data": {
      "text/html": [
       " View project at <a href='https://wandb.ai/sumanta_roy/CS6910_assignment_1' target=\"_blank\">https://wandb.ai/sumanta_roy/CS6910_assignment_1</a>"
      ],
      "text/plain": [
       "<IPython.core.display.HTML object>"
      ]
     },
     "metadata": {},
     "output_type": "display_data"
    },
    {
     "data": {
      "text/html": [
       " View sweep at <a href='https://wandb.ai/sumanta_roy/CS6910_assignment_1/sweeps/etqoz0cb' target=\"_blank\">https://wandb.ai/sumanta_roy/CS6910_assignment_1/sweeps/etqoz0cb</a>"
      ],
      "text/plain": [
       "<IPython.core.display.HTML object>"
      ]
     },
     "metadata": {},
     "output_type": "display_data"
    },
    {
     "data": {
      "text/html": [
       " View run at <a href='https://wandb.ai/sumanta_roy/CS6910_assignment_1/runs/zy1uzjwy' target=\"_blank\">https://wandb.ai/sumanta_roy/CS6910_assignment_1/runs/zy1uzjwy</a>"
      ],
      "text/plain": [
       "<IPython.core.display.HTML object>"
      ]
     },
     "metadata": {},
     "output_type": "display_data"
    },
    {
     "name": "stdout",
     "output_type": "stream",
     "text": [
      "Epoch: 1/10; Train Loss: 0.07722633306650784; Val Loss: 0.0775809014417275\n",
      "Epoch: 2/10; Train Loss: 0.06557245480671894; Val Loss: 0.06667596745275789\n",
      "Epoch: 3/10; Train Loss: 0.057043818421790356; Val Loss: 0.05897979773077631\n",
      "Epoch: 4/10; Train Loss: 0.050831436376242684; Val Loss: 0.053350055375285206\n",
      "Epoch: 5/10; Train Loss: 0.04615392328986535; Val Loss: 0.04895148903262599\n",
      "Epoch: 6/10; Train Loss: 0.042451246132448044; Val Loss: 0.045344637429358105\n",
      "Epoch: 7/10; Train Loss: 0.03952153071782409; Val Loss: 0.0424653616274882\n",
      "Epoch: 8/10; Train Loss: 0.03713237348407547; Val Loss: 0.04015625669166795\n",
      "Epoch: 9/10; Train Loss: 0.03504896030497015; Val Loss: 0.038206847580344226\n",
      "Epoch: 10/10; Train Loss: 0.03313064704335803; Val Loss: 0.03647804696496155\n"
     ]
    },
    {
     "data": {
      "application/vnd.jupyter.widget-view+json": {
       "model_id": "",
       "version_major": 2,
       "version_minor": 0
      },
      "text/plain": [
       "VBox(children=(Label(value='0.001 MB of 0.001 MB uploaded\\r'), FloatProgress(value=1.0, max=1.0)))"
      ]
     },
     "metadata": {},
     "output_type": "display_data"
    },
    {
     "data": {
      "text/html": [
       "<style>\n",
       "    table.wandb td:nth-child(1) { padding: 0 10px; text-align: left ; width: auto;} td:nth-child(2) {text-align: left ; width: 100%}\n",
       "    .wandb-row { display: flex; flex-direction: row; flex-wrap: wrap; justify-content: flex-start; width: 100% }\n",
       "    .wandb-col { display: flex; flex-direction: column; flex-basis: 100%; flex: 1; padding: 10px; }\n",
       "    </style>\n",
       "<div class=\"wandb-row\"><div class=\"wandb-col\"><h3>Run history:</h3><br/><table class=\"wandb\"><tr><td>epoch</td><td>▁▁▁▁▂▂▂▂▃▃▃▃▃▃▃▃▄▄▄▄▅▅▅▅▆▆▆▆▆▆▆▆▇▇▇▇████</td></tr><tr><td>train_accuracy</td><td>▁▃▅▆▄▅▆▅▆▇▅▅▅▇▇▅▆▆▇▇▇▆▇▇█▇▇▇▇▇▆█▇█▇██▇██</td></tr><tr><td>train_loss</td><td>██▇▇▇▆▆▆▅▅▅▅▅▄▄▄▄▄▄▃▃▃▃▃▃▃▃▃▂▃▃▂▃▂▂▂▂▃▁▁</td></tr><tr><td>val_accuracy</td><td>▁▂▄▅▅▆▆▆▇▇▇▇▇▇▇▇▇▇▇▇▇▇▇▇▇▇██████████████</td></tr><tr><td>validation_loss</td><td>██▇▇▆▆▅▅▅▄▄▄▄▄▃▃▃▃▃▃▃▂▂▂▂▂▂▂▂▂▂▂▁▁▁▁▁▁▁▁</td></tr></table><br/></div><div class=\"wandb-col\"><h3>Run summary:</h3><br/><table class=\"wandb\"><tr><td>epoch</td><td>10</td></tr><tr><td>train_accuracy</td><td>79.6875</td></tr><tr><td>train_loss</td><td>0.03313</td></tr><tr><td>val_accuracy</td><td>76.51667</td></tr><tr><td>validation_loss</td><td>0.03648</td></tr></table><br/></div></div>"
      ],
      "text/plain": [
       "<IPython.core.display.HTML object>"
      ]
     },
     "metadata": {},
     "output_type": "display_data"
    },
    {
     "data": {
      "text/html": [
       " View run <strong style=\"color:#cdcd00\">vocal-sweep-20</strong> at: <a href='https://wandb.ai/sumanta_roy/CS6910_assignment_1/runs/zy1uzjwy' target=\"_blank\">https://wandb.ai/sumanta_roy/CS6910_assignment_1/runs/zy1uzjwy</a><br/>Synced 6 W&B file(s), 0 media file(s), 0 artifact file(s) and 0 other file(s)"
      ],
      "text/plain": [
       "<IPython.core.display.HTML object>"
      ]
     },
     "metadata": {},
     "output_type": "display_data"
    },
    {
     "data": {
      "text/html": [
       "Find logs at: <code>./wandb/run-20240317_171420-zy1uzjwy/logs</code>"
      ],
      "text/plain": [
       "<IPython.core.display.HTML object>"
      ]
     },
     "metadata": {},
     "output_type": "display_data"
    },
    {
     "name": "stderr",
     "output_type": "stream",
     "text": [
      "\u001b[34m\u001b[1mwandb\u001b[0m: Agent Starting Run: 7329rcvc with config:\n",
      "\u001b[34m\u001b[1mwandb\u001b[0m: \tactivation: tanh\n",
      "\u001b[34m\u001b[1mwandb\u001b[0m: \tbatch_size: 32\n",
      "\u001b[34m\u001b[1mwandb\u001b[0m: \tepochs: 10\n",
      "\u001b[34m\u001b[1mwandb\u001b[0m: \thidden_layers: 5\n",
      "\u001b[34m\u001b[1mwandb\u001b[0m: \thidden_size: 128\n",
      "\u001b[34m\u001b[1mwandb\u001b[0m: \tloss: mse\n",
      "\u001b[34m\u001b[1mwandb\u001b[0m: \tlr: 0.0001\n",
      "\u001b[34m\u001b[1mwandb\u001b[0m: \toptimizer: rmsprop\n",
      "\u001b[34m\u001b[1mwandb\u001b[0m: \tw_init: glorot\n",
      "\u001b[34m\u001b[1mwandb\u001b[0m: \tweight_decay: 0\n"
     ]
    },
    {
     "data": {
      "text/html": [
       "Tracking run with wandb version 0.16.4"
      ],
      "text/plain": [
       "<IPython.core.display.HTML object>"
      ]
     },
     "metadata": {},
     "output_type": "display_data"
    },
    {
     "data": {
      "text/html": [
       "Run data is saved locally in <code>/Users/sumanta/Desktop/Numpy project/mse_error_revised/wandb/run-20240317_171507-7329rcvc</code>"
      ],
      "text/plain": [
       "<IPython.core.display.HTML object>"
      ]
     },
     "metadata": {},
     "output_type": "display_data"
    },
    {
     "data": {
      "text/html": [
       "Syncing run <strong><a href='https://wandb.ai/sumanta_roy/CS6910_assignment_1/runs/7329rcvc' target=\"_blank\">helpful-sweep-21</a></strong> to <a href='https://wandb.ai/sumanta_roy/CS6910_assignment_1' target=\"_blank\">Weights & Biases</a> (<a href='https://wandb.me/run' target=\"_blank\">docs</a>)<br/>Sweep page: <a href='https://wandb.ai/sumanta_roy/CS6910_assignment_1/sweeps/etqoz0cb' target=\"_blank\">https://wandb.ai/sumanta_roy/CS6910_assignment_1/sweeps/etqoz0cb</a>"
      ],
      "text/plain": [
       "<IPython.core.display.HTML object>"
      ]
     },
     "metadata": {},
     "output_type": "display_data"
    },
    {
     "data": {
      "text/html": [
       " View project at <a href='https://wandb.ai/sumanta_roy/CS6910_assignment_1' target=\"_blank\">https://wandb.ai/sumanta_roy/CS6910_assignment_1</a>"
      ],
      "text/plain": [
       "<IPython.core.display.HTML object>"
      ]
     },
     "metadata": {},
     "output_type": "display_data"
    },
    {
     "data": {
      "text/html": [
       " View sweep at <a href='https://wandb.ai/sumanta_roy/CS6910_assignment_1/sweeps/etqoz0cb' target=\"_blank\">https://wandb.ai/sumanta_roy/CS6910_assignment_1/sweeps/etqoz0cb</a>"
      ],
      "text/plain": [
       "<IPython.core.display.HTML object>"
      ]
     },
     "metadata": {},
     "output_type": "display_data"
    },
    {
     "data": {
      "text/html": [
       " View run at <a href='https://wandb.ai/sumanta_roy/CS6910_assignment_1/runs/7329rcvc' target=\"_blank\">https://wandb.ai/sumanta_roy/CS6910_assignment_1/runs/7329rcvc</a>"
      ],
      "text/plain": [
       "<IPython.core.display.HTML object>"
      ]
     },
     "metadata": {},
     "output_type": "display_data"
    },
    {
     "name": "stdout",
     "output_type": "stream",
     "text": [
      "Epoch: 1/10; Train Loss: 0.014450253253638981; Val Loss: 0.024325592344350597\n",
      "Epoch: 2/10; Train Loss: 0.012583673162665076; Val Loss: 0.021670049628512936\n",
      "Epoch: 3/10; Train Loss: 0.012208668184898916; Val Loss: 0.020313345959177085\n",
      "Epoch: 4/10; Train Loss: 0.012121615706965575; Val Loss: 0.0194657170858736\n",
      "Epoch: 5/10; Train Loss: 0.012079136549855938; Val Loss: 0.0188780717396207\n",
      "Epoch: 6/10; Train Loss: 0.012035422887452765; Val Loss: 0.018442828349105753\n",
      "Epoch: 7/10; Train Loss: 0.011992331580325394; Val Loss: 0.0181065493141133\n",
      "Epoch: 8/10; Train Loss: 0.011952243941421109; Val Loss: 0.017838455595637008\n",
      "Epoch: 9/10; Train Loss: 0.011911782947005642; Val Loss: 0.01761895305451105\n",
      "Epoch: 10/10; Train Loss: 0.011865164008192597; Val Loss: 0.01743447111752033\n"
     ]
    },
    {
     "data": {
      "application/vnd.jupyter.widget-view+json": {
       "model_id": "",
       "version_major": 2,
       "version_minor": 0
      },
      "text/plain": [
       "VBox(children=(Label(value='0.001 MB of 0.001 MB uploaded\\r'), FloatProgress(value=1.0, max=1.0)))"
      ]
     },
     "metadata": {},
     "output_type": "display_data"
    },
    {
     "data": {
      "text/html": [
       "<style>\n",
       "    table.wandb td:nth-child(1) { padding: 0 10px; text-align: left ; width: auto;} td:nth-child(2) {text-align: left ; width: 100%}\n",
       "    .wandb-row { display: flex; flex-direction: row; flex-wrap: wrap; justify-content: flex-start; width: 100% }\n",
       "    .wandb-col { display: flex; flex-direction: column; flex-basis: 100%; flex: 1; padding: 10px; }\n",
       "    </style>\n",
       "<div class=\"wandb-row\"><div class=\"wandb-col\"><h3>Run history:</h3><br/><table class=\"wandb\"><tr><td>epoch</td><td>▁▁▁▁▂▂▂▂▃▃▃▃▃▃▃▃▄▄▄▄▅▅▅▅▆▆▆▆▆▆▆▆▇▇▇▇████</td></tr><tr><td>train_accuracy</td><td>▄▃▅▇▅▄▄▇▆▆▆▁▇▅▄▇▆▆█▁█▅▄▇▆██▂█▆▅▇▆██▃▅▇▅█</td></tr><tr><td>train_loss</td><td>█▇▅▃▄▅▆▄▃▄▂█▂▄▅▃▃▄▂▇▂▃▄▃▃▂▁▆▁▃▄▃▃▂▁▆▄▃▄▂</td></tr><tr><td>val_accuracy</td><td>▁▃▄▅▆▆▆▆▇▇▆▇▇▇▇▇▇▇▇▇▇▇▇▇▇▇▇█████▇█▇█████</td></tr><tr><td>validation_loss</td><td>█▅▄▃▃▃▃▂▂▂▂▂▂▂▂▂▂▂▂▂▂▁▂▁▂▁▂▁▁▁▁▁▂▁▁▁▁▁▁▁</td></tr></table><br/></div><div class=\"wandb-col\"><h3>Run summary:</h3><br/><table class=\"wandb\"><tr><td>epoch</td><td>10</td></tr><tr><td>train_accuracy</td><td>93.75</td></tr><tr><td>train_loss</td><td>0.01187</td></tr><tr><td>val_accuracy</td><td>87.9</td></tr><tr><td>validation_loss</td><td>0.01743</td></tr></table><br/></div></div>"
      ],
      "text/plain": [
       "<IPython.core.display.HTML object>"
      ]
     },
     "metadata": {},
     "output_type": "display_data"
    },
    {
     "data": {
      "text/html": [
       " View run <strong style=\"color:#cdcd00\">helpful-sweep-21</strong> at: <a href='https://wandb.ai/sumanta_roy/CS6910_assignment_1/runs/7329rcvc' target=\"_blank\">https://wandb.ai/sumanta_roy/CS6910_assignment_1/runs/7329rcvc</a><br/>Synced 6 W&B file(s), 0 media file(s), 0 artifact file(s) and 0 other file(s)"
      ],
      "text/plain": [
       "<IPython.core.display.HTML object>"
      ]
     },
     "metadata": {},
     "output_type": "display_data"
    },
    {
     "data": {
      "text/html": [
       "Find logs at: <code>./wandb/run-20240317_171507-7329rcvc/logs</code>"
      ],
      "text/plain": [
       "<IPython.core.display.HTML object>"
      ]
     },
     "metadata": {},
     "output_type": "display_data"
    },
    {
     "name": "stderr",
     "output_type": "stream",
     "text": [
      "\u001b[34m\u001b[1mwandb\u001b[0m: Sweep Agent: Waiting for job.\n",
      "\u001b[34m\u001b[1mwandb\u001b[0m: Job received.\n",
      "\u001b[34m\u001b[1mwandb\u001b[0m: Agent Starting Run: iqrz51zg with config:\n",
      "\u001b[34m\u001b[1mwandb\u001b[0m: \tactivation: tanh\n",
      "\u001b[34m\u001b[1mwandb\u001b[0m: \tbatch_size: 64\n",
      "\u001b[34m\u001b[1mwandb\u001b[0m: \tepochs: 10\n",
      "\u001b[34m\u001b[1mwandb\u001b[0m: \thidden_layers: 5\n",
      "\u001b[34m\u001b[1mwandb\u001b[0m: \thidden_size: 64\n",
      "\u001b[34m\u001b[1mwandb\u001b[0m: \tloss: mse\n",
      "\u001b[34m\u001b[1mwandb\u001b[0m: \tlr: 0.0001\n",
      "\u001b[34m\u001b[1mwandb\u001b[0m: \toptimizer: adam\n",
      "\u001b[34m\u001b[1mwandb\u001b[0m: \tw_init: glorot\n",
      "\u001b[34m\u001b[1mwandb\u001b[0m: \tweight_decay: 0\n"
     ]
    },
    {
     "data": {
      "text/html": [
       "Tracking run with wandb version 0.16.4"
      ],
      "text/plain": [
       "<IPython.core.display.HTML object>"
      ]
     },
     "metadata": {},
     "output_type": "display_data"
    },
    {
     "data": {
      "text/html": [
       "Run data is saved locally in <code>/Users/sumanta/Desktop/Numpy project/mse_error_revised/wandb/run-20240317_171725-iqrz51zg</code>"
      ],
      "text/plain": [
       "<IPython.core.display.HTML object>"
      ]
     },
     "metadata": {},
     "output_type": "display_data"
    },
    {
     "data": {
      "text/html": [
       "Syncing run <strong><a href='https://wandb.ai/sumanta_roy/CS6910_assignment_1/runs/iqrz51zg' target=\"_blank\">fast-sweep-22</a></strong> to <a href='https://wandb.ai/sumanta_roy/CS6910_assignment_1' target=\"_blank\">Weights & Biases</a> (<a href='https://wandb.me/run' target=\"_blank\">docs</a>)<br/>Sweep page: <a href='https://wandb.ai/sumanta_roy/CS6910_assignment_1/sweeps/etqoz0cb' target=\"_blank\">https://wandb.ai/sumanta_roy/CS6910_assignment_1/sweeps/etqoz0cb</a>"
      ],
      "text/plain": [
       "<IPython.core.display.HTML object>"
      ]
     },
     "metadata": {},
     "output_type": "display_data"
    },
    {
     "data": {
      "text/html": [
       " View project at <a href='https://wandb.ai/sumanta_roy/CS6910_assignment_1' target=\"_blank\">https://wandb.ai/sumanta_roy/CS6910_assignment_1</a>"
      ],
      "text/plain": [
       "<IPython.core.display.HTML object>"
      ]
     },
     "metadata": {},
     "output_type": "display_data"
    },
    {
     "data": {
      "text/html": [
       " View sweep at <a href='https://wandb.ai/sumanta_roy/CS6910_assignment_1/sweeps/etqoz0cb' target=\"_blank\">https://wandb.ai/sumanta_roy/CS6910_assignment_1/sweeps/etqoz0cb</a>"
      ],
      "text/plain": [
       "<IPython.core.display.HTML object>"
      ]
     },
     "metadata": {},
     "output_type": "display_data"
    },
    {
     "data": {
      "text/html": [
       " View run at <a href='https://wandb.ai/sumanta_roy/CS6910_assignment_1/runs/iqrz51zg' target=\"_blank\">https://wandb.ai/sumanta_roy/CS6910_assignment_1/runs/iqrz51zg</a>"
      ],
      "text/plain": [
       "<IPython.core.display.HTML object>"
      ]
     },
     "metadata": {},
     "output_type": "display_data"
    },
    {
     "name": "stdout",
     "output_type": "stream",
     "text": [
      "Epoch: 1/10; Train Loss: 0.019543946875680524; Val Loss: 0.02848781412728232\n",
      "Epoch: 2/10; Train Loss: 0.016352035559232918; Val Loss: 0.024813324967569658\n",
      "Epoch: 3/10; Train Loss: 0.015881735646558887; Val Loss: 0.02337103010784956\n",
      "Epoch: 4/10; Train Loss: 0.015914959992702184; Val Loss: 0.022463405733838163\n",
      "Epoch: 5/10; Train Loss: 0.01603182025894991; Val Loss: 0.021795651739767757\n",
      "Epoch: 6/10; Train Loss: 0.01612129874781406; Val Loss: 0.02127088346883288\n",
      "Epoch: 7/10; Train Loss: 0.01616697839322711; Val Loss: 0.020840529130633133\n",
      "Epoch: 8/10; Train Loss: 0.016170782188093865; Val Loss: 0.0204763304071312\n",
      "Epoch: 9/10; Train Loss: 0.01613368652558101; Val Loss: 0.020161515842843116\n",
      "Epoch: 10/10; Train Loss: 0.016065542409914497; Val Loss: 0.019885930974016863\n"
     ]
    },
    {
     "data": {
      "application/vnd.jupyter.widget-view+json": {
       "model_id": "",
       "version_major": 2,
       "version_minor": 0
      },
      "text/plain": [
       "VBox(children=(Label(value='0.001 MB of 0.001 MB uploaded\\r'), FloatProgress(value=1.0, max=1.0)))"
      ]
     },
     "metadata": {},
     "output_type": "display_data"
    },
    {
     "data": {
      "text/html": [
       "<style>\n",
       "    table.wandb td:nth-child(1) { padding: 0 10px; text-align: left ; width: auto;} td:nth-child(2) {text-align: left ; width: 100%}\n",
       "    .wandb-row { display: flex; flex-direction: row; flex-wrap: wrap; justify-content: flex-start; width: 100% }\n",
       "    .wandb-col { display: flex; flex-direction: column; flex-basis: 100%; flex: 1; padding: 10px; }\n",
       "    </style>\n",
       "<div class=\"wandb-row\"><div class=\"wandb-col\"><h3>Run history:</h3><br/><table class=\"wandb\"><tr><td>epoch</td><td>▁▁▁▁▂▂▂▂▃▃▃▃▃▃▃▃▄▄▄▄▅▅▅▅▆▆▆▆▆▆▆▆▇▇▇▇████</td></tr><tr><td>train_accuracy</td><td>▁▄▄▆▄▄▇▆▅▇▅▅▅▇▅▅▄▆▅▆▆▅▆▆▆▆▆▆█▅▄▆▇▇▇▇▆▄▇█</td></tr><tr><td>train_loss</td><td>█▅▄▃▅▄▂▃▃▃▄▄▄▂▃▃▄▂▄▂▃▃▂▂▄▄▂▂▁▄▄▃▂▂▂▂▂▄▁▁</td></tr><tr><td>val_accuracy</td><td>▁▃▅▆▆▆▇▇▇▇▇▇▇▇▇▇▇▇▇▇▇██▇████████████████</td></tr><tr><td>validation_loss</td><td>█▆▄▃▃▂▂▂▂▂▂▂▂▂▂▂▂▁▁▁▁▁▁▁▁▁▁▁▁▁▁▁▁▁▁▁▁▁▁▁</td></tr></table><br/></div><div class=\"wandb-col\"><h3>Run summary:</h3><br/><table class=\"wandb\"><tr><td>epoch</td><td>10</td></tr><tr><td>train_accuracy</td><td>87.5</td></tr><tr><td>train_loss</td><td>0.01607</td></tr><tr><td>val_accuracy</td><td>85.86667</td></tr><tr><td>validation_loss</td><td>0.01989</td></tr></table><br/></div></div>"
      ],
      "text/plain": [
       "<IPython.core.display.HTML object>"
      ]
     },
     "metadata": {},
     "output_type": "display_data"
    },
    {
     "data": {
      "text/html": [
       " View run <strong style=\"color:#cdcd00\">fast-sweep-22</strong> at: <a href='https://wandb.ai/sumanta_roy/CS6910_assignment_1/runs/iqrz51zg' target=\"_blank\">https://wandb.ai/sumanta_roy/CS6910_assignment_1/runs/iqrz51zg</a><br/>Synced 6 W&B file(s), 0 media file(s), 0 artifact file(s) and 0 other file(s)"
      ],
      "text/plain": [
       "<IPython.core.display.HTML object>"
      ]
     },
     "metadata": {},
     "output_type": "display_data"
    },
    {
     "data": {
      "text/html": [
       "Find logs at: <code>./wandb/run-20240317_171725-iqrz51zg/logs</code>"
      ],
      "text/plain": [
       "<IPython.core.display.HTML object>"
      ]
     },
     "metadata": {},
     "output_type": "display_data"
    },
    {
     "name": "stderr",
     "output_type": "stream",
     "text": [
      "\u001b[34m\u001b[1mwandb\u001b[0m: Agent Starting Run: udeqse07 with config:\n",
      "\u001b[34m\u001b[1mwandb\u001b[0m: \tactivation: tanh\n",
      "\u001b[34m\u001b[1mwandb\u001b[0m: \tbatch_size: 64\n",
      "\u001b[34m\u001b[1mwandb\u001b[0m: \tepochs: 10\n",
      "\u001b[34m\u001b[1mwandb\u001b[0m: \thidden_layers: 4\n",
      "\u001b[34m\u001b[1mwandb\u001b[0m: \thidden_size: 128\n",
      "\u001b[34m\u001b[1mwandb\u001b[0m: \tloss: mse\n",
      "\u001b[34m\u001b[1mwandb\u001b[0m: \tlr: 0.0001\n",
      "\u001b[34m\u001b[1mwandb\u001b[0m: \toptimizer: nadam\n",
      "\u001b[34m\u001b[1mwandb\u001b[0m: \tw_init: glorot\n",
      "\u001b[34m\u001b[1mwandb\u001b[0m: \tweight_decay: 0\n"
     ]
    },
    {
     "data": {
      "text/html": [
       "Tracking run with wandb version 0.16.4"
      ],
      "text/plain": [
       "<IPython.core.display.HTML object>"
      ]
     },
     "metadata": {},
     "output_type": "display_data"
    },
    {
     "data": {
      "text/html": [
       "Run data is saved locally in <code>/Users/sumanta/Desktop/Numpy project/mse_error_revised/wandb/run-20240317_171818-udeqse07</code>"
      ],
      "text/plain": [
       "<IPython.core.display.HTML object>"
      ]
     },
     "metadata": {},
     "output_type": "display_data"
    },
    {
     "data": {
      "text/html": [
       "Syncing run <strong><a href='https://wandb.ai/sumanta_roy/CS6910_assignment_1/runs/udeqse07' target=\"_blank\">iconic-sweep-23</a></strong> to <a href='https://wandb.ai/sumanta_roy/CS6910_assignment_1' target=\"_blank\">Weights & Biases</a> (<a href='https://wandb.me/run' target=\"_blank\">docs</a>)<br/>Sweep page: <a href='https://wandb.ai/sumanta_roy/CS6910_assignment_1/sweeps/etqoz0cb' target=\"_blank\">https://wandb.ai/sumanta_roy/CS6910_assignment_1/sweeps/etqoz0cb</a>"
      ],
      "text/plain": [
       "<IPython.core.display.HTML object>"
      ]
     },
     "metadata": {},
     "output_type": "display_data"
    },
    {
     "data": {
      "text/html": [
       " View project at <a href='https://wandb.ai/sumanta_roy/CS6910_assignment_1' target=\"_blank\">https://wandb.ai/sumanta_roy/CS6910_assignment_1</a>"
      ],
      "text/plain": [
       "<IPython.core.display.HTML object>"
      ]
     },
     "metadata": {},
     "output_type": "display_data"
    },
    {
     "data": {
      "text/html": [
       " View sweep at <a href='https://wandb.ai/sumanta_roy/CS6910_assignment_1/sweeps/etqoz0cb' target=\"_blank\">https://wandb.ai/sumanta_roy/CS6910_assignment_1/sweeps/etqoz0cb</a>"
      ],
      "text/plain": [
       "<IPython.core.display.HTML object>"
      ]
     },
     "metadata": {},
     "output_type": "display_data"
    },
    {
     "data": {
      "text/html": [
       " View run at <a href='https://wandb.ai/sumanta_roy/CS6910_assignment_1/runs/udeqse07' target=\"_blank\">https://wandb.ai/sumanta_roy/CS6910_assignment_1/runs/udeqse07</a>"
      ],
      "text/plain": [
       "<IPython.core.display.HTML object>"
      ]
     },
     "metadata": {},
     "output_type": "display_data"
    },
    {
     "name": "stdout",
     "output_type": "stream",
     "text": [
      "Epoch: 1/10; Train Loss: 0.03791288123215225; Val Loss: 0.04239415570840309\n",
      "Epoch: 2/10; Train Loss: 0.029863063058341632; Val Loss: 0.03564638467902065\n",
      "Epoch: 3/10; Train Loss: 0.025722690661043313; Val Loss: 0.03193717531212485\n",
      "Epoch: 4/10; Train Loss: 0.02321714517834041; Val Loss: 0.02947687941257875\n",
      "Epoch: 5/10; Train Loss: 0.021583918636303552; Val Loss: 0.02775131088835754\n",
      "Epoch: 6/10; Train Loss: 0.020419500412661717; Val Loss: 0.026501595518147566\n",
      "Epoch: 7/10; Train Loss: 0.019526436306937504; Val Loss: 0.02556929128419107\n",
      "Epoch: 8/10; Train Loss: 0.018810145014612988; Val Loss: 0.024850629900880127\n",
      "Epoch: 9/10; Train Loss: 0.018222727395926; Val Loss: 0.024277306989389114\n",
      "Epoch: 10/10; Train Loss: 0.017736718756582975; Val Loss: 0.023805040675082764\n"
     ]
    },
    {
     "data": {
      "application/vnd.jupyter.widget-view+json": {
       "model_id": "",
       "version_major": 2,
       "version_minor": 0
      },
      "text/plain": [
       "VBox(children=(Label(value='0.001 MB of 0.001 MB uploaded\\r'), FloatProgress(value=1.0, max=1.0)))"
      ]
     },
     "metadata": {},
     "output_type": "display_data"
    },
    {
     "data": {
      "text/html": [
       "<style>\n",
       "    table.wandb td:nth-child(1) { padding: 0 10px; text-align: left ; width: auto;} td:nth-child(2) {text-align: left ; width: 100%}\n",
       "    .wandb-row { display: flex; flex-direction: row; flex-wrap: wrap; justify-content: flex-start; width: 100% }\n",
       "    .wandb-col { display: flex; flex-direction: column; flex-basis: 100%; flex: 1; padding: 10px; }\n",
       "    </style>\n",
       "<div class=\"wandb-row\"><div class=\"wandb-col\"><h3>Run history:</h3><br/><table class=\"wandb\"><tr><td>epoch</td><td>▁▁▁▁▂▂▂▂▃▃▃▃▃▃▃▃▄▄▄▄▅▅▅▅▆▆▆▆▆▆▆▆▇▇▇▇████</td></tr><tr><td>train_accuracy</td><td>▁▂▄▅▃▃▆▅▅▅▅▄▆▇▆▅▅▆▆▆▅▅▇▇▆▄▇▆█▅▄▆▅▇▆▇▇▅▇▇</td></tr><tr><td>train_loss</td><td>█▇▅▄▅▄▃▄▃▃▄▄▃▂▃▃▄▂▃▂▃▃▂▂▃▃▂▂▁▃▄▂▃▂▂▂▂▃▁▁</td></tr><tr><td>val_accuracy</td><td>▁▂▄▅▅▅▆▆▆▆▆▆▇▇▇▇▇▇▇▇▇▇▇▇████████████████</td></tr><tr><td>validation_loss</td><td>█▆▅▄▄▄▃▃▃▃▃▂▂▂▂▂▂▂▂▂▂▂▂▁▁▁▁▁▁▁▁▁▁▁▁▁▁▁▁▁</td></tr></table><br/></div><div class=\"wandb-col\"><h3>Run summary:</h3><br/><table class=\"wandb\"><tr><td>epoch</td><td>10</td></tr><tr><td>train_accuracy</td><td>87.5</td></tr><tr><td>train_loss</td><td>0.01774</td></tr><tr><td>val_accuracy</td><td>83.3</td></tr><tr><td>validation_loss</td><td>0.02381</td></tr></table><br/></div></div>"
      ],
      "text/plain": [
       "<IPython.core.display.HTML object>"
      ]
     },
     "metadata": {},
     "output_type": "display_data"
    },
    {
     "data": {
      "text/html": [
       " View run <strong style=\"color:#cdcd00\">iconic-sweep-23</strong> at: <a href='https://wandb.ai/sumanta_roy/CS6910_assignment_1/runs/udeqse07' target=\"_blank\">https://wandb.ai/sumanta_roy/CS6910_assignment_1/runs/udeqse07</a><br/>Synced 6 W&B file(s), 0 media file(s), 0 artifact file(s) and 0 other file(s)"
      ],
      "text/plain": [
       "<IPython.core.display.HTML object>"
      ]
     },
     "metadata": {},
     "output_type": "display_data"
    },
    {
     "data": {
      "text/html": [
       "Find logs at: <code>./wandb/run-20240317_171818-udeqse07/logs</code>"
      ],
      "text/plain": [
       "<IPython.core.display.HTML object>"
      ]
     },
     "metadata": {},
     "output_type": "display_data"
    },
    {
     "name": "stderr",
     "output_type": "stream",
     "text": [
      "\u001b[34m\u001b[1mwandb\u001b[0m: Agent Starting Run: yp3sscq0 with config:\n",
      "\u001b[34m\u001b[1mwandb\u001b[0m: \tactivation: tanh\n",
      "\u001b[34m\u001b[1mwandb\u001b[0m: \tbatch_size: 32\n",
      "\u001b[34m\u001b[1mwandb\u001b[0m: \tepochs: 10\n",
      "\u001b[34m\u001b[1mwandb\u001b[0m: \thidden_layers: 4\n",
      "\u001b[34m\u001b[1mwandb\u001b[0m: \thidden_size: 64\n",
      "\u001b[34m\u001b[1mwandb\u001b[0m: \tloss: mse\n",
      "\u001b[34m\u001b[1mwandb\u001b[0m: \tlr: 0.0001\n",
      "\u001b[34m\u001b[1mwandb\u001b[0m: \toptimizer: adam\n",
      "\u001b[34m\u001b[1mwandb\u001b[0m: \tw_init: glorot\n",
      "\u001b[34m\u001b[1mwandb\u001b[0m: \tweight_decay: 0\n"
     ]
    },
    {
     "data": {
      "text/html": [
       "Tracking run with wandb version 0.16.4"
      ],
      "text/plain": [
       "<IPython.core.display.HTML object>"
      ]
     },
     "metadata": {},
     "output_type": "display_data"
    },
    {
     "data": {
      "text/html": [
       "Run data is saved locally in <code>/Users/sumanta/Desktop/Numpy project/mse_error_revised/wandb/run-20240317_172006-yp3sscq0</code>"
      ],
      "text/plain": [
       "<IPython.core.display.HTML object>"
      ]
     },
     "metadata": {},
     "output_type": "display_data"
    },
    {
     "data": {
      "text/html": [
       "Syncing run <strong><a href='https://wandb.ai/sumanta_roy/CS6910_assignment_1/runs/yp3sscq0' target=\"_blank\">vague-sweep-24</a></strong> to <a href='https://wandb.ai/sumanta_roy/CS6910_assignment_1' target=\"_blank\">Weights & Biases</a> (<a href='https://wandb.me/run' target=\"_blank\">docs</a>)<br/>Sweep page: <a href='https://wandb.ai/sumanta_roy/CS6910_assignment_1/sweeps/etqoz0cb' target=\"_blank\">https://wandb.ai/sumanta_roy/CS6910_assignment_1/sweeps/etqoz0cb</a>"
      ],
      "text/plain": [
       "<IPython.core.display.HTML object>"
      ]
     },
     "metadata": {},
     "output_type": "display_data"
    },
    {
     "data": {
      "text/html": [
       " View project at <a href='https://wandb.ai/sumanta_roy/CS6910_assignment_1' target=\"_blank\">https://wandb.ai/sumanta_roy/CS6910_assignment_1</a>"
      ],
      "text/plain": [
       "<IPython.core.display.HTML object>"
      ]
     },
     "metadata": {},
     "output_type": "display_data"
    },
    {
     "data": {
      "text/html": [
       " View sweep at <a href='https://wandb.ai/sumanta_roy/CS6910_assignment_1/sweeps/etqoz0cb' target=\"_blank\">https://wandb.ai/sumanta_roy/CS6910_assignment_1/sweeps/etqoz0cb</a>"
      ],
      "text/plain": [
       "<IPython.core.display.HTML object>"
      ]
     },
     "metadata": {},
     "output_type": "display_data"
    },
    {
     "data": {
      "text/html": [
       " View run at <a href='https://wandb.ai/sumanta_roy/CS6910_assignment_1/runs/yp3sscq0' target=\"_blank\">https://wandb.ai/sumanta_roy/CS6910_assignment_1/runs/yp3sscq0</a>"
      ],
      "text/plain": [
       "<IPython.core.display.HTML object>"
      ]
     },
     "metadata": {},
     "output_type": "display_data"
    },
    {
     "name": "stdout",
     "output_type": "stream",
     "text": [
      "Epoch: 1/10; Train Loss: 0.01838071668368886; Val Loss: 0.027371281710989553\n",
      "Epoch: 2/10; Train Loss: 0.015404041145274213; Val Loss: 0.024304882864860433\n",
      "Epoch: 3/10; Train Loss: 0.014658333477745733; Val Loss: 0.022923180213179403\n",
      "Epoch: 4/10; Train Loss: 0.014227531539568506; Val Loss: 0.022016183377377044\n",
      "Epoch: 5/10; Train Loss: 0.013894722757777922; Val Loss: 0.02133709773144647\n",
      "Epoch: 6/10; Train Loss: 0.013595780116674908; Val Loss: 0.020796827282452232\n",
      "Epoch: 7/10; Train Loss: 0.013315643052216589; Val Loss: 0.020354744787257625\n",
      "Epoch: 8/10; Train Loss: 0.01305782017281056; Val Loss: 0.01998751122375148\n",
      "Epoch: 9/10; Train Loss: 0.01282872643581287; Val Loss: 0.019678064221230102\n",
      "Epoch: 10/10; Train Loss: 0.012631559362159133; Val Loss: 0.01941367877963227\n"
     ]
    },
    {
     "data": {
      "application/vnd.jupyter.widget-view+json": {
       "model_id": "",
       "version_major": 2,
       "version_minor": 0
      },
      "text/plain": [
       "VBox(children=(Label(value='0.001 MB of 0.001 MB uploaded\\r'), FloatProgress(value=1.0, max=1.0)))"
      ]
     },
     "metadata": {},
     "output_type": "display_data"
    },
    {
     "data": {
      "text/html": [
       "<style>\n",
       "    table.wandb td:nth-child(1) { padding: 0 10px; text-align: left ; width: auto;} td:nth-child(2) {text-align: left ; width: 100%}\n",
       "    .wandb-row { display: flex; flex-direction: row; flex-wrap: wrap; justify-content: flex-start; width: 100% }\n",
       "    .wandb-col { display: flex; flex-direction: column; flex-basis: 100%; flex: 1; padding: 10px; }\n",
       "    </style>\n",
       "<div class=\"wandb-row\"><div class=\"wandb-col\"><h3>Run history:</h3><br/><table class=\"wandb\"><tr><td>epoch</td><td>▁▁▁▁▂▂▂▂▃▃▃▃▃▃▃▃▄▄▄▄▅▅▅▅▆▆▆▆▆▆▆▆▇▇▇▇████</td></tr><tr><td>train_accuracy</td><td>▂▃▅▅▆▅▅▆▆▅▅▁▆▇▄▇▆▅▆▁▆█▅▇▆█▆▁▆█▅█▆█▆▂▆▇▅▇</td></tr><tr><td>train_loss</td><td>██▅▄▄▄▆▃▃▄▃█▂▂▆▂▃▃▂█▂▂▄▂▃▂▂▇▂▂▄▂▃▂▂▇▃▁▄▁</td></tr><tr><td>val_accuracy</td><td>▁▃▅▅▆▆▆▆▇▇▇▇▇▇▇▇▇▇▇▇▇█▇▇████████████████</td></tr><tr><td>validation_loss</td><td>█▆▄▄▃▃▃▂▂▂▂▂▂▂▂▂▂▂▂▂▁▁▁▁▁▁▁▁▁▁▁▁▁▁▁▁▁▁▁▁</td></tr></table><br/></div><div class=\"wandb-col\"><h3>Run summary:</h3><br/><table class=\"wandb\"><tr><td>epoch</td><td>10</td></tr><tr><td>train_accuracy</td><td>90.625</td></tr><tr><td>train_loss</td><td>0.01263</td></tr><tr><td>val_accuracy</td><td>86.21667</td></tr><tr><td>validation_loss</td><td>0.01941</td></tr></table><br/></div></div>"
      ],
      "text/plain": [
       "<IPython.core.display.HTML object>"
      ]
     },
     "metadata": {},
     "output_type": "display_data"
    },
    {
     "data": {
      "text/html": [
       " View run <strong style=\"color:#cdcd00\">vague-sweep-24</strong> at: <a href='https://wandb.ai/sumanta_roy/CS6910_assignment_1/runs/yp3sscq0' target=\"_blank\">https://wandb.ai/sumanta_roy/CS6910_assignment_1/runs/yp3sscq0</a><br/>Synced 6 W&B file(s), 0 media file(s), 0 artifact file(s) and 0 other file(s)"
      ],
      "text/plain": [
       "<IPython.core.display.HTML object>"
      ]
     },
     "metadata": {},
     "output_type": "display_data"
    },
    {
     "data": {
      "text/html": [
       "Find logs at: <code>./wandb/run-20240317_172006-yp3sscq0/logs</code>"
      ],
      "text/plain": [
       "<IPython.core.display.HTML object>"
      ]
     },
     "metadata": {},
     "output_type": "display_data"
    },
    {
     "name": "stderr",
     "output_type": "stream",
     "text": [
      "\u001b[34m\u001b[1mwandb\u001b[0m: Agent Starting Run: l3t3mb5t with config:\n",
      "\u001b[34m\u001b[1mwandb\u001b[0m: \tactivation: tanh\n",
      "\u001b[34m\u001b[1mwandb\u001b[0m: \tbatch_size: 64\n",
      "\u001b[34m\u001b[1mwandb\u001b[0m: \tepochs: 10\n",
      "\u001b[34m\u001b[1mwandb\u001b[0m: \thidden_layers: 5\n",
      "\u001b[34m\u001b[1mwandb\u001b[0m: \thidden_size: 32\n",
      "\u001b[34m\u001b[1mwandb\u001b[0m: \tloss: mse\n",
      "\u001b[34m\u001b[1mwandb\u001b[0m: \tlr: 0.0001\n",
      "\u001b[34m\u001b[1mwandb\u001b[0m: \toptimizer: nadam\n",
      "\u001b[34m\u001b[1mwandb\u001b[0m: \tw_init: glorot\n",
      "\u001b[34m\u001b[1mwandb\u001b[0m: \tweight_decay: 0.0005\n"
     ]
    },
    {
     "data": {
      "text/html": [
       "Tracking run with wandb version 0.16.4"
      ],
      "text/plain": [
       "<IPython.core.display.HTML object>"
      ]
     },
     "metadata": {},
     "output_type": "display_data"
    },
    {
     "data": {
      "text/html": [
       "Run data is saved locally in <code>/Users/sumanta/Desktop/Numpy project/mse_error_revised/wandb/run-20240317_172104-l3t3mb5t</code>"
      ],
      "text/plain": [
       "<IPython.core.display.HTML object>"
      ]
     },
     "metadata": {},
     "output_type": "display_data"
    },
    {
     "data": {
      "text/html": [
       "Syncing run <strong><a href='https://wandb.ai/sumanta_roy/CS6910_assignment_1/runs/l3t3mb5t' target=\"_blank\">logical-sweep-25</a></strong> to <a href='https://wandb.ai/sumanta_roy/CS6910_assignment_1' target=\"_blank\">Weights & Biases</a> (<a href='https://wandb.me/run' target=\"_blank\">docs</a>)<br/>Sweep page: <a href='https://wandb.ai/sumanta_roy/CS6910_assignment_1/sweeps/etqoz0cb' target=\"_blank\">https://wandb.ai/sumanta_roy/CS6910_assignment_1/sweeps/etqoz0cb</a>"
      ],
      "text/plain": [
       "<IPython.core.display.HTML object>"
      ]
     },
     "metadata": {},
     "output_type": "display_data"
    },
    {
     "data": {
      "text/html": [
       " View project at <a href='https://wandb.ai/sumanta_roy/CS6910_assignment_1' target=\"_blank\">https://wandb.ai/sumanta_roy/CS6910_assignment_1</a>"
      ],
      "text/plain": [
       "<IPython.core.display.HTML object>"
      ]
     },
     "metadata": {},
     "output_type": "display_data"
    },
    {
     "data": {
      "text/html": [
       " View sweep at <a href='https://wandb.ai/sumanta_roy/CS6910_assignment_1/sweeps/etqoz0cb' target=\"_blank\">https://wandb.ai/sumanta_roy/CS6910_assignment_1/sweeps/etqoz0cb</a>"
      ],
      "text/plain": [
       "<IPython.core.display.HTML object>"
      ]
     },
     "metadata": {},
     "output_type": "display_data"
    },
    {
     "data": {
      "text/html": [
       " View run at <a href='https://wandb.ai/sumanta_roy/CS6910_assignment_1/runs/l3t3mb5t' target=\"_blank\">https://wandb.ai/sumanta_roy/CS6910_assignment_1/runs/l3t3mb5t</a>"
      ],
      "text/plain": [
       "<IPython.core.display.HTML object>"
      ]
     },
     "metadata": {},
     "output_type": "display_data"
    },
    {
     "name": "stdout",
     "output_type": "stream",
     "text": [
      "Epoch: 1/10; Train Loss: 0.07252485175142426; Val Loss: 0.07163587213754502\n",
      "Epoch: 2/10; Train Loss: 0.06478634265832661; Val Loss: 0.06489947038192827\n",
      "Epoch: 3/10; Train Loss: 0.05891258738441157; Val Loss: 0.059906386024276725\n",
      "Epoch: 4/10; Train Loss: 0.05417584688462338; Val Loss: 0.05591224043677744\n",
      "Epoch: 5/10; Train Loss: 0.05026603185177571; Val Loss: 0.05263823917915453\n",
      "Epoch: 6/10; Train Loss: 0.046988783852977896; Val Loss: 0.049913898800695106\n",
      "Epoch: 7/10; Train Loss: 0.044208275850292994; Val Loss: 0.04761010650249864\n",
      "Epoch: 8/10; Train Loss: 0.041821708425388564; Val Loss: 0.04562887423085082\n",
      "Epoch: 9/10; Train Loss: 0.039744499494742166; Val Loss: 0.043896419532014896\n",
      "Epoch: 10/10; Train Loss: 0.03790678496927272; Val Loss: 0.0423565615966981\n"
     ]
    },
    {
     "data": {
      "application/vnd.jupyter.widget-view+json": {
       "model_id": "",
       "version_major": 2,
       "version_minor": 0
      },
      "text/plain": [
       "VBox(children=(Label(value='0.001 MB of 0.001 MB uploaded\\r'), FloatProgress(value=1.0, max=1.0)))"
      ]
     },
     "metadata": {},
     "output_type": "display_data"
    },
    {
     "data": {
      "text/html": [
       "<style>\n",
       "    table.wandb td:nth-child(1) { padding: 0 10px; text-align: left ; width: auto;} td:nth-child(2) {text-align: left ; width: 100%}\n",
       "    .wandb-row { display: flex; flex-direction: row; flex-wrap: wrap; justify-content: flex-start; width: 100% }\n",
       "    .wandb-col { display: flex; flex-direction: column; flex-basis: 100%; flex: 1; padding: 10px; }\n",
       "    </style>\n",
       "<div class=\"wandb-row\"><div class=\"wandb-col\"><h3>Run history:</h3><br/><table class=\"wandb\"><tr><td>epoch</td><td>▁▁▁▁▂▂▂▂▃▃▃▃▃▃▃▃▄▄▄▄▅▅▅▅▆▆▆▆▆▆▆▆▇▇▇▇████</td></tr><tr><td>train_accuracy</td><td>▁▂▅▆▅▅▇▅▆▆▅▆▅▇▇▅▆▇▆▆█▆▆▇█▆▇▇▇▇▅▇▆█▇▇▇▇██</td></tr><tr><td>train_loss</td><td>██▇▆▇▆▅▆▅▅▅▅▅▄▄▄▄▄▄▄▃▃▄▃▃▃▃▃▂▃▄▃▃▂▂▂▂▃▁▁</td></tr><tr><td>val_accuracy</td><td>▁▃▅▆▆▆▆▇▇▇▇▇▇▇▇▇▇▇▇▇▇▇▇▇▇▇▇▇▇███████████</td></tr><tr><td>validation_loss</td><td>█▇▇▆▆▅▅▅▅▄▄▄▄▄▄▃▃▃▃▃▃▃▂▂▂▂▂▂▂▂▂▂▁▁▁▁▁▁▁▁</td></tr></table><br/></div><div class=\"wandb-col\"><h3>Run summary:</h3><br/><table class=\"wandb\"><tr><td>epoch</td><td>10</td></tr><tr><td>train_accuracy</td><td>78.125</td></tr><tr><td>train_loss</td><td>0.03791</td></tr><tr><td>val_accuracy</td><td>71.48333</td></tr><tr><td>validation_loss</td><td>0.04236</td></tr></table><br/></div></div>"
      ],
      "text/plain": [
       "<IPython.core.display.HTML object>"
      ]
     },
     "metadata": {},
     "output_type": "display_data"
    },
    {
     "data": {
      "text/html": [
       " View run <strong style=\"color:#cdcd00\">logical-sweep-25</strong> at: <a href='https://wandb.ai/sumanta_roy/CS6910_assignment_1/runs/l3t3mb5t' target=\"_blank\">https://wandb.ai/sumanta_roy/CS6910_assignment_1/runs/l3t3mb5t</a><br/>Synced 6 W&B file(s), 0 media file(s), 0 artifact file(s) and 0 other file(s)"
      ],
      "text/plain": [
       "<IPython.core.display.HTML object>"
      ]
     },
     "metadata": {},
     "output_type": "display_data"
    },
    {
     "data": {
      "text/html": [
       "Find logs at: <code>./wandb/run-20240317_172104-l3t3mb5t/logs</code>"
      ],
      "text/plain": [
       "<IPython.core.display.HTML object>"
      ]
     },
     "metadata": {},
     "output_type": "display_data"
    },
    {
     "name": "stderr",
     "output_type": "stream",
     "text": [
      "\u001b[34m\u001b[1mwandb\u001b[0m: Agent Starting Run: bkgmnvs6 with config:\n",
      "\u001b[34m\u001b[1mwandb\u001b[0m: \tactivation: tanh\n",
      "\u001b[34m\u001b[1mwandb\u001b[0m: \tbatch_size: 32\n",
      "\u001b[34m\u001b[1mwandb\u001b[0m: \tepochs: 10\n",
      "\u001b[34m\u001b[1mwandb\u001b[0m: \thidden_layers: 5\n",
      "\u001b[34m\u001b[1mwandb\u001b[0m: \thidden_size: 128\n",
      "\u001b[34m\u001b[1mwandb\u001b[0m: \tloss: mse\n",
      "\u001b[34m\u001b[1mwandb\u001b[0m: \tlr: 0.0001\n",
      "\u001b[34m\u001b[1mwandb\u001b[0m: \toptimizer: nesterov\n",
      "\u001b[34m\u001b[1mwandb\u001b[0m: \tw_init: glorot\n",
      "\u001b[34m\u001b[1mwandb\u001b[0m: \tweight_decay: 0\n"
     ]
    },
    {
     "data": {
      "text/html": [
       "Tracking run with wandb version 0.16.4"
      ],
      "text/plain": [
       "<IPython.core.display.HTML object>"
      ]
     },
     "metadata": {},
     "output_type": "display_data"
    },
    {
     "data": {
      "text/html": [
       "Run data is saved locally in <code>/Users/sumanta/Desktop/Numpy project/mse_error_revised/wandb/run-20240317_172141-bkgmnvs6</code>"
      ],
      "text/plain": [
       "<IPython.core.display.HTML object>"
      ]
     },
     "metadata": {},
     "output_type": "display_data"
    },
    {
     "data": {
      "text/html": [
       "Syncing run <strong><a href='https://wandb.ai/sumanta_roy/CS6910_assignment_1/runs/bkgmnvs6' target=\"_blank\">brisk-sweep-26</a></strong> to <a href='https://wandb.ai/sumanta_roy/CS6910_assignment_1' target=\"_blank\">Weights & Biases</a> (<a href='https://wandb.me/run' target=\"_blank\">docs</a>)<br/>Sweep page: <a href='https://wandb.ai/sumanta_roy/CS6910_assignment_1/sweeps/etqoz0cb' target=\"_blank\">https://wandb.ai/sumanta_roy/CS6910_assignment_1/sweeps/etqoz0cb</a>"
      ],
      "text/plain": [
       "<IPython.core.display.HTML object>"
      ]
     },
     "metadata": {},
     "output_type": "display_data"
    },
    {
     "data": {
      "text/html": [
       " View project at <a href='https://wandb.ai/sumanta_roy/CS6910_assignment_1' target=\"_blank\">https://wandb.ai/sumanta_roy/CS6910_assignment_1</a>"
      ],
      "text/plain": [
       "<IPython.core.display.HTML object>"
      ]
     },
     "metadata": {},
     "output_type": "display_data"
    },
    {
     "data": {
      "text/html": [
       " View sweep at <a href='https://wandb.ai/sumanta_roy/CS6910_assignment_1/sweeps/etqoz0cb' target=\"_blank\">https://wandb.ai/sumanta_roy/CS6910_assignment_1/sweeps/etqoz0cb</a>"
      ],
      "text/plain": [
       "<IPython.core.display.HTML object>"
      ]
     },
     "metadata": {},
     "output_type": "display_data"
    },
    {
     "data": {
      "text/html": [
       " View run at <a href='https://wandb.ai/sumanta_roy/CS6910_assignment_1/runs/bkgmnvs6' target=\"_blank\">https://wandb.ai/sumanta_roy/CS6910_assignment_1/runs/bkgmnvs6</a>"
      ],
      "text/plain": [
       "<IPython.core.display.HTML object>"
      ]
     },
     "metadata": {},
     "output_type": "display_data"
    },
    {
     "name": "stdout",
     "output_type": "stream",
     "text": [
      "Epoch: 1/10; Train Loss: 0.04563183825462156; Val Loss: 0.04276016341105197\n",
      "Epoch: 2/10; Train Loss: 0.030819314410547128; Val Loss: 0.03366628406801112\n",
      "Epoch: 3/10; Train Loss: 0.023126544323692926; Val Loss: 0.029712978816733633\n",
      "Epoch: 4/10; Train Loss: 0.019583408481487728; Val Loss: 0.027546939954210908\n",
      "Epoch: 5/10; Train Loss: 0.017702732573419953; Val Loss: 0.02617975609925581\n",
      "Epoch: 6/10; Train Loss: 0.01648643642975129; Val Loss: 0.025225598100547628\n",
      "Epoch: 7/10; Train Loss: 0.01560209319282182; Val Loss: 0.024501313987557654\n",
      "Epoch: 8/10; Train Loss: 0.014931465459870286; Val Loss: 0.02391542180667429\n",
      "Epoch: 9/10; Train Loss: 0.014416424268105354; Val Loss: 0.02342133738243801\n",
      "Epoch: 10/10; Train Loss: 0.014016531149201965; Val Loss: 0.02299366779868295\n"
     ]
    },
    {
     "data": {
      "application/vnd.jupyter.widget-view+json": {
       "model_id": "",
       "version_major": 2,
       "version_minor": 0
      },
      "text/plain": [
       "VBox(children=(Label(value='0.001 MB of 0.001 MB uploaded\\r'), FloatProgress(value=1.0, max=1.0)))"
      ]
     },
     "metadata": {},
     "output_type": "display_data"
    },
    {
     "data": {
      "text/html": [
       "<style>\n",
       "    table.wandb td:nth-child(1) { padding: 0 10px; text-align: left ; width: auto;} td:nth-child(2) {text-align: left ; width: 100%}\n",
       "    .wandb-row { display: flex; flex-direction: row; flex-wrap: wrap; justify-content: flex-start; width: 100% }\n",
       "    .wandb-col { display: flex; flex-direction: column; flex-basis: 100%; flex: 1; padding: 10px; }\n",
       "    </style>\n",
       "<div class=\"wandb-row\"><div class=\"wandb-col\"><h3>Run history:</h3><br/><table class=\"wandb\"><tr><td>epoch</td><td>▁▁▁▁▂▂▂▂▃▃▃▃▃▃▃▃▄▄▄▄▅▅▅▅▆▆▆▆▆▆▆▆▇▇▇▇████</td></tr><tr><td>train_accuracy</td><td>▁▃▅▆▆▄▆▆▇█▇▃▇▆▆▇██▇▅▇▇▅▇██▇▅█▇▇███▇▅▇▇▇█</td></tr><tr><td>train_loss</td><td>█▇▅▄▄▄▄▃▂▂▂▄▂▃▃▂▂▂▂▄▂▂▃▂▂▂▁▄▁▂▃▂▁▂▁▄▂▂▃▁</td></tr><tr><td>val_accuracy</td><td>▁▄▆▆▆▆▇▇▇▇▇▇▇▇▇▇▇███████████████████████</td></tr><tr><td>validation_loss</td><td>█▆▄▄▃▃▃▂▂▂▂▂▂▂▂▂▂▁▁▁▁▁▁▁▁▁▁▁▁▁▁▁▁▁▁▁▁▁▁▁</td></tr></table><br/></div><div class=\"wandb-col\"><h3>Run summary:</h3><br/><table class=\"wandb\"><tr><td>epoch</td><td>10</td></tr><tr><td>train_accuracy</td><td>87.5</td></tr><tr><td>train_loss</td><td>0.01402</td></tr><tr><td>val_accuracy</td><td>83.81667</td></tr><tr><td>validation_loss</td><td>0.02299</td></tr></table><br/></div></div>"
      ],
      "text/plain": [
       "<IPython.core.display.HTML object>"
      ]
     },
     "metadata": {},
     "output_type": "display_data"
    },
    {
     "data": {
      "text/html": [
       " View run <strong style=\"color:#cdcd00\">brisk-sweep-26</strong> at: <a href='https://wandb.ai/sumanta_roy/CS6910_assignment_1/runs/bkgmnvs6' target=\"_blank\">https://wandb.ai/sumanta_roy/CS6910_assignment_1/runs/bkgmnvs6</a><br/>Synced 6 W&B file(s), 0 media file(s), 0 artifact file(s) and 0 other file(s)"
      ],
      "text/plain": [
       "<IPython.core.display.HTML object>"
      ]
     },
     "metadata": {},
     "output_type": "display_data"
    },
    {
     "data": {
      "text/html": [
       "Find logs at: <code>./wandb/run-20240317_172141-bkgmnvs6/logs</code>"
      ],
      "text/plain": [
       "<IPython.core.display.HTML object>"
      ]
     },
     "metadata": {},
     "output_type": "display_data"
    },
    {
     "name": "stderr",
     "output_type": "stream",
     "text": [
      "\u001b[34m\u001b[1mwandb\u001b[0m: Sweep Agent: Waiting for job.\n",
      "\u001b[34m\u001b[1mwandb\u001b[0m: Job received.\n",
      "\u001b[34m\u001b[1mwandb\u001b[0m: Agent Starting Run: 3gnbkcdi with config:\n",
      "\u001b[34m\u001b[1mwandb\u001b[0m: \tactivation: tanh\n",
      "\u001b[34m\u001b[1mwandb\u001b[0m: \tbatch_size: 32\n",
      "\u001b[34m\u001b[1mwandb\u001b[0m: \tepochs: 10\n",
      "\u001b[34m\u001b[1mwandb\u001b[0m: \thidden_layers: 4\n",
      "\u001b[34m\u001b[1mwandb\u001b[0m: \thidden_size: 64\n",
      "\u001b[34m\u001b[1mwandb\u001b[0m: \tloss: mse\n",
      "\u001b[34m\u001b[1mwandb\u001b[0m: \tlr: 0.0001\n",
      "\u001b[34m\u001b[1mwandb\u001b[0m: \toptimizer: nadam\n",
      "\u001b[34m\u001b[1mwandb\u001b[0m: \tw_init: glorot\n",
      "\u001b[34m\u001b[1mwandb\u001b[0m: \tweight_decay: 0\n"
     ]
    },
    {
     "data": {
      "text/html": [
       "Tracking run with wandb version 0.16.4"
      ],
      "text/plain": [
       "<IPython.core.display.HTML object>"
      ]
     },
     "metadata": {},
     "output_type": "display_data"
    },
    {
     "data": {
      "text/html": [
       "Run data is saved locally in <code>/Users/sumanta/Desktop/Numpy project/mse_error_revised/wandb/run-20240317_172404-3gnbkcdi</code>"
      ],
      "text/plain": [
       "<IPython.core.display.HTML object>"
      ]
     },
     "metadata": {},
     "output_type": "display_data"
    },
    {
     "data": {
      "text/html": [
       "Syncing run <strong><a href='https://wandb.ai/sumanta_roy/CS6910_assignment_1/runs/3gnbkcdi' target=\"_blank\">pleasant-sweep-27</a></strong> to <a href='https://wandb.ai/sumanta_roy/CS6910_assignment_1' target=\"_blank\">Weights & Biases</a> (<a href='https://wandb.me/run' target=\"_blank\">docs</a>)<br/>Sweep page: <a href='https://wandb.ai/sumanta_roy/CS6910_assignment_1/sweeps/etqoz0cb' target=\"_blank\">https://wandb.ai/sumanta_roy/CS6910_assignment_1/sweeps/etqoz0cb</a>"
      ],
      "text/plain": [
       "<IPython.core.display.HTML object>"
      ]
     },
     "metadata": {},
     "output_type": "display_data"
    },
    {
     "data": {
      "text/html": [
       " View project at <a href='https://wandb.ai/sumanta_roy/CS6910_assignment_1' target=\"_blank\">https://wandb.ai/sumanta_roy/CS6910_assignment_1</a>"
      ],
      "text/plain": [
       "<IPython.core.display.HTML object>"
      ]
     },
     "metadata": {},
     "output_type": "display_data"
    },
    {
     "data": {
      "text/html": [
       " View sweep at <a href='https://wandb.ai/sumanta_roy/CS6910_assignment_1/sweeps/etqoz0cb' target=\"_blank\">https://wandb.ai/sumanta_roy/CS6910_assignment_1/sweeps/etqoz0cb</a>"
      ],
      "text/plain": [
       "<IPython.core.display.HTML object>"
      ]
     },
     "metadata": {},
     "output_type": "display_data"
    },
    {
     "data": {
      "text/html": [
       " View run at <a href='https://wandb.ai/sumanta_roy/CS6910_assignment_1/runs/3gnbkcdi' target=\"_blank\">https://wandb.ai/sumanta_roy/CS6910_assignment_1/runs/3gnbkcdi</a>"
      ],
      "text/plain": [
       "<IPython.core.display.HTML object>"
      ]
     },
     "metadata": {},
     "output_type": "display_data"
    },
    {
     "name": "stdout",
     "output_type": "stream",
     "text": [
      "Epoch: 1/10; Train Loss: 0.05090293141578568; Val Loss: 0.04862124966584779\n",
      "Epoch: 2/10; Train Loss: 0.03815128719471146; Val Loss: 0.039268012245465056\n",
      "Epoch: 3/10; Train Loss: 0.031182266372040645; Val Loss: 0.034551211463188646\n",
      "Epoch: 4/10; Train Loss: 0.026755866248114858; Val Loss: 0.03157715047687306\n",
      "Epoch: 5/10; Train Loss: 0.023719446163198647; Val Loss: 0.029498433134060968\n",
      "Epoch: 6/10; Train Loss: 0.021596330194535003; Val Loss: 0.027984171067174858\n",
      "Epoch: 7/10; Train Loss: 0.020081376007489583; Val Loss: 0.026857345633794313\n",
      "Epoch: 8/10; Train Loss: 0.018956465513164607; Val Loss: 0.026001955469519996\n",
      "Epoch: 9/10; Train Loss: 0.018078085277807753; Val Loss: 0.025337102170489827\n",
      "Epoch: 10/10; Train Loss: 0.017359944466938483; Val Loss: 0.024806458335363695\n"
     ]
    },
    {
     "data": {
      "application/vnd.jupyter.widget-view+json": {
       "model_id": "",
       "version_major": 2,
       "version_minor": 0
      },
      "text/plain": [
       "VBox(children=(Label(value='0.001 MB of 0.001 MB uploaded\\r'), FloatProgress(value=1.0, max=1.0)))"
      ]
     },
     "metadata": {},
     "output_type": "display_data"
    },
    {
     "data": {
      "text/html": [
       "<style>\n",
       "    table.wandb td:nth-child(1) { padding: 0 10px; text-align: left ; width: auto;} td:nth-child(2) {text-align: left ; width: 100%}\n",
       "    .wandb-row { display: flex; flex-direction: row; flex-wrap: wrap; justify-content: flex-start; width: 100% }\n",
       "    .wandb-col { display: flex; flex-direction: column; flex-basis: 100%; flex: 1; padding: 10px; }\n",
       "    </style>\n",
       "<div class=\"wandb-row\"><div class=\"wandb-col\"><h3>Run history:</h3><br/><table class=\"wandb\"><tr><td>epoch</td><td>▁▁▁▁▂▂▂▂▃▃▃▃▃▃▃▃▄▄▄▄▅▅▅▅▆▆▆▆▆▆▆▆▇▇▇▇████</td></tr><tr><td>train_accuracy</td><td>▂▁▂▄▄▂▂▂▆▃▅▂▅▃▃▆▅▆▆▃▇▅▅▇▆▇▆▃▇▆▅█▇▇▆▃▇▆▇▇</td></tr><tr><td>train_loss</td><td>█▇▆▅▄▅▅▄▃▄▃▅▃▃▄▃▂▃▂▅▂▃▃▂▂▃▂▄▁▂▃▂▁▂▂▄▂▂▃▁</td></tr><tr><td>val_accuracy</td><td>▁▃▄▅▅▅▆▆▆▆▆▆▇▇▇▇▇▇▇▇▇▇▇█████████████████</td></tr><tr><td>validation_loss</td><td>█▇▅▅▄▄▄▃▃▃▃▂▂▂▂▂▂▂▂▂▂▂▂▁▁▁▁▁▁▁▁▁▁▁▁▁▁▁▁▁</td></tr></table><br/></div><div class=\"wandb-col\"><h3>Run summary:</h3><br/><table class=\"wandb\"><tr><td>epoch</td><td>10</td></tr><tr><td>train_accuracy</td><td>84.375</td></tr><tr><td>train_loss</td><td>0.01736</td></tr><tr><td>val_accuracy</td><td>82.93333</td></tr><tr><td>validation_loss</td><td>0.02481</td></tr></table><br/></div></div>"
      ],
      "text/plain": [
       "<IPython.core.display.HTML object>"
      ]
     },
     "metadata": {},
     "output_type": "display_data"
    },
    {
     "data": {
      "text/html": [
       " View run <strong style=\"color:#cdcd00\">pleasant-sweep-27</strong> at: <a href='https://wandb.ai/sumanta_roy/CS6910_assignment_1/runs/3gnbkcdi' target=\"_blank\">https://wandb.ai/sumanta_roy/CS6910_assignment_1/runs/3gnbkcdi</a><br/>Synced 6 W&B file(s), 0 media file(s), 0 artifact file(s) and 0 other file(s)"
      ],
      "text/plain": [
       "<IPython.core.display.HTML object>"
      ]
     },
     "metadata": {},
     "output_type": "display_data"
    },
    {
     "data": {
      "text/html": [
       "Find logs at: <code>./wandb/run-20240317_172404-3gnbkcdi/logs</code>"
      ],
      "text/plain": [
       "<IPython.core.display.HTML object>"
      ]
     },
     "metadata": {},
     "output_type": "display_data"
    },
    {
     "name": "stderr",
     "output_type": "stream",
     "text": [
      "\u001b[34m\u001b[1mwandb\u001b[0m: Sweep Agent: Waiting for job.\n",
      "\u001b[34m\u001b[1mwandb\u001b[0m: Job received.\n",
      "\u001b[34m\u001b[1mwandb\u001b[0m: Agent Starting Run: z47n09kb with config:\n",
      "\u001b[34m\u001b[1mwandb\u001b[0m: \tactivation: tanh\n",
      "\u001b[34m\u001b[1mwandb\u001b[0m: \tbatch_size: 64\n",
      "\u001b[34m\u001b[1mwandb\u001b[0m: \tepochs: 10\n",
      "\u001b[34m\u001b[1mwandb\u001b[0m: \thidden_layers: 5\n",
      "\u001b[34m\u001b[1mwandb\u001b[0m: \thidden_size: 128\n",
      "\u001b[34m\u001b[1mwandb\u001b[0m: \tloss: mse\n",
      "\u001b[34m\u001b[1mwandb\u001b[0m: \tlr: 0.001\n",
      "\u001b[34m\u001b[1mwandb\u001b[0m: \toptimizer: adam\n",
      "\u001b[34m\u001b[1mwandb\u001b[0m: \tw_init: glorot\n",
      "\u001b[34m\u001b[1mwandb\u001b[0m: \tweight_decay: 0\n"
     ]
    },
    {
     "data": {
      "text/html": [
       "Tracking run with wandb version 0.16.4"
      ],
      "text/plain": [
       "<IPython.core.display.HTML object>"
      ]
     },
     "metadata": {},
     "output_type": "display_data"
    },
    {
     "data": {
      "text/html": [
       "Run data is saved locally in <code>/Users/sumanta/Desktop/Numpy project/mse_error_revised/wandb/run-20240317_172534-z47n09kb</code>"
      ],
      "text/plain": [
       "<IPython.core.display.HTML object>"
      ]
     },
     "metadata": {},
     "output_type": "display_data"
    },
    {
     "data": {
      "text/html": [
       "Syncing run <strong><a href='https://wandb.ai/sumanta_roy/CS6910_assignment_1/runs/z47n09kb' target=\"_blank\">ruby-sweep-28</a></strong> to <a href='https://wandb.ai/sumanta_roy/CS6910_assignment_1' target=\"_blank\">Weights & Biases</a> (<a href='https://wandb.me/run' target=\"_blank\">docs</a>)<br/>Sweep page: <a href='https://wandb.ai/sumanta_roy/CS6910_assignment_1/sweeps/etqoz0cb' target=\"_blank\">https://wandb.ai/sumanta_roy/CS6910_assignment_1/sweeps/etqoz0cb</a>"
      ],
      "text/plain": [
       "<IPython.core.display.HTML object>"
      ]
     },
     "metadata": {},
     "output_type": "display_data"
    },
    {
     "data": {
      "text/html": [
       " View project at <a href='https://wandb.ai/sumanta_roy/CS6910_assignment_1' target=\"_blank\">https://wandb.ai/sumanta_roy/CS6910_assignment_1</a>"
      ],
      "text/plain": [
       "<IPython.core.display.HTML object>"
      ]
     },
     "metadata": {},
     "output_type": "display_data"
    },
    {
     "data": {
      "text/html": [
       " View sweep at <a href='https://wandb.ai/sumanta_roy/CS6910_assignment_1/sweeps/etqoz0cb' target=\"_blank\">https://wandb.ai/sumanta_roy/CS6910_assignment_1/sweeps/etqoz0cb</a>"
      ],
      "text/plain": [
       "<IPython.core.display.HTML object>"
      ]
     },
     "metadata": {},
     "output_type": "display_data"
    },
    {
     "data": {
      "text/html": [
       " View run at <a href='https://wandb.ai/sumanta_roy/CS6910_assignment_1/runs/z47n09kb' target=\"_blank\">https://wandb.ai/sumanta_roy/CS6910_assignment_1/runs/z47n09kb</a>"
      ],
      "text/plain": [
       "<IPython.core.display.HTML object>"
      ]
     },
     "metadata": {},
     "output_type": "display_data"
    },
    {
     "name": "stdout",
     "output_type": "stream",
     "text": [
      "Epoch: 1/10; Train Loss: 0.015118178618691441; Val Loss: 0.020291750429279335\n",
      "Epoch: 2/10; Train Loss: 0.01341076211333168; Val Loss: 0.01874284719300678\n",
      "Epoch: 3/10; Train Loss: 0.01186800963589049; Val Loss: 0.01795400575671175\n",
      "Epoch: 4/10; Train Loss: 0.010507763543798787; Val Loss: 0.01749058651185944\n",
      "Epoch: 5/10; Train Loss: 0.009275469195482281; Val Loss: 0.017140917935765228\n",
      "Epoch: 6/10; Train Loss: 0.008117833593288593; Val Loss: 0.01690382026962408\n",
      "Epoch: 7/10; Train Loss: 0.007185435649937863; Val Loss: 0.016768880963440362\n",
      "Epoch: 8/10; Train Loss: 0.00650835204115028; Val Loss: 0.016691069430129643\n",
      "Epoch: 9/10; Train Loss: 0.0059688522322890614; Val Loss: 0.016601311944696395\n",
      "Epoch: 10/10; Train Loss: 0.005408535917871076; Val Loss: 0.016488837167606296\n"
     ]
    },
    {
     "data": {
      "application/vnd.jupyter.widget-view+json": {
       "model_id": "",
       "version_major": 2,
       "version_minor": 0
      },
      "text/plain": [
       "VBox(children=(Label(value='0.001 MB of 0.001 MB uploaded\\r'), FloatProgress(value=1.0, max=1.0)))"
      ]
     },
     "metadata": {},
     "output_type": "display_data"
    },
    {
     "data": {
      "text/html": [
       "<style>\n",
       "    table.wandb td:nth-child(1) { padding: 0 10px; text-align: left ; width: auto;} td:nth-child(2) {text-align: left ; width: 100%}\n",
       "    .wandb-row { display: flex; flex-direction: row; flex-wrap: wrap; justify-content: flex-start; width: 100% }\n",
       "    .wandb-col { display: flex; flex-direction: column; flex-basis: 100%; flex: 1; padding: 10px; }\n",
       "    </style>\n",
       "<div class=\"wandb-row\"><div class=\"wandb-col\"><h3>Run history:</h3><br/><table class=\"wandb\"><tr><td>epoch</td><td>▁▁▁▁▂▂▂▂▃▃▃▃▃▃▃▃▄▄▄▄▅▅▅▅▆▆▆▆▆▆▆▆▇▇▇▇████</td></tr><tr><td>train_accuracy</td><td>▁▆▅▃▂▂▆▄▅▅▄▄▄▄▄▅▃▇▅▄▅▄▅▇▅▄▆▆▇▄▄▆█▇█▆▆▅█▇</td></tr><tr><td>train_loss</td><td>█▄▄▆▆▇▃▅▄▃▅▅▅▄▄▄▆▂▄▄▃▄▄▃▅▅▃▃▂▄▄▃▂▃▂▃▃▄▁▁</td></tr><tr><td>val_accuracy</td><td>▁▃▄▅▅▅▆▆▆▆▇▆▆▇▆▇▇▇▇▇▇▇▇▇▇▇█▇▇▇█▇█▇█▇▇███</td></tr><tr><td>validation_loss</td><td>█▆▅▄▄▄▃▃▃▃▂▃▂▃▂▂▂▂▂▂▂▂▂▂▂▂▁▁▂▂▁▂▁▂▁▂▂▁▁▁</td></tr></table><br/></div><div class=\"wandb-col\"><h3>Run summary:</h3><br/><table class=\"wandb\"><tr><td>epoch</td><td>10</td></tr><tr><td>train_accuracy</td><td>98.4375</td></tr><tr><td>train_loss</td><td>0.00541</td></tr><tr><td>val_accuracy</td><td>88.6</td></tr><tr><td>validation_loss</td><td>0.01649</td></tr></table><br/></div></div>"
      ],
      "text/plain": [
       "<IPython.core.display.HTML object>"
      ]
     },
     "metadata": {},
     "output_type": "display_data"
    },
    {
     "data": {
      "text/html": [
       " View run <strong style=\"color:#cdcd00\">ruby-sweep-28</strong> at: <a href='https://wandb.ai/sumanta_roy/CS6910_assignment_1/runs/z47n09kb' target=\"_blank\">https://wandb.ai/sumanta_roy/CS6910_assignment_1/runs/z47n09kb</a><br/>Synced 6 W&B file(s), 0 media file(s), 0 artifact file(s) and 0 other file(s)"
      ],
      "text/plain": [
       "<IPython.core.display.HTML object>"
      ]
     },
     "metadata": {},
     "output_type": "display_data"
    },
    {
     "data": {
      "text/html": [
       "Find logs at: <code>./wandb/run-20240317_172534-z47n09kb/logs</code>"
      ],
      "text/plain": [
       "<IPython.core.display.HTML object>"
      ]
     },
     "metadata": {},
     "output_type": "display_data"
    },
    {
     "name": "stderr",
     "output_type": "stream",
     "text": [
      "\u001b[34m\u001b[1mwandb\u001b[0m: Agent Starting Run: ns63d17g with config:\n",
      "\u001b[34m\u001b[1mwandb\u001b[0m: \tactivation: tanh\n",
      "\u001b[34m\u001b[1mwandb\u001b[0m: \tbatch_size: 32\n",
      "\u001b[34m\u001b[1mwandb\u001b[0m: \tepochs: 10\n",
      "\u001b[34m\u001b[1mwandb\u001b[0m: \thidden_layers: 5\n",
      "\u001b[34m\u001b[1mwandb\u001b[0m: \thidden_size: 128\n",
      "\u001b[34m\u001b[1mwandb\u001b[0m: \tloss: mse\n",
      "\u001b[34m\u001b[1mwandb\u001b[0m: \tlr: 0.0001\n",
      "\u001b[34m\u001b[1mwandb\u001b[0m: \toptimizer: adam\n",
      "\u001b[34m\u001b[1mwandb\u001b[0m: \tw_init: glorot\n",
      "\u001b[34m\u001b[1mwandb\u001b[0m: \tweight_decay: 0.0005\n"
     ]
    },
    {
     "data": {
      "text/html": [
       "Tracking run with wandb version 0.16.4"
      ],
      "text/plain": [
       "<IPython.core.display.HTML object>"
      ]
     },
     "metadata": {},
     "output_type": "display_data"
    },
    {
     "data": {
      "text/html": [
       "Run data is saved locally in <code>/Users/sumanta/Desktop/Numpy project/mse_error_revised/wandb/run-20240317_172751-ns63d17g</code>"
      ],
      "text/plain": [
       "<IPython.core.display.HTML object>"
      ]
     },
     "metadata": {},
     "output_type": "display_data"
    },
    {
     "data": {
      "text/html": [
       "Syncing run <strong><a href='https://wandb.ai/sumanta_roy/CS6910_assignment_1/runs/ns63d17g' target=\"_blank\">electric-sweep-29</a></strong> to <a href='https://wandb.ai/sumanta_roy/CS6910_assignment_1' target=\"_blank\">Weights & Biases</a> (<a href='https://wandb.me/run' target=\"_blank\">docs</a>)<br/>Sweep page: <a href='https://wandb.ai/sumanta_roy/CS6910_assignment_1/sweeps/etqoz0cb' target=\"_blank\">https://wandb.ai/sumanta_roy/CS6910_assignment_1/sweeps/etqoz0cb</a>"
      ],
      "text/plain": [
       "<IPython.core.display.HTML object>"
      ]
     },
     "metadata": {},
     "output_type": "display_data"
    },
    {
     "data": {
      "text/html": [
       " View project at <a href='https://wandb.ai/sumanta_roy/CS6910_assignment_1' target=\"_blank\">https://wandb.ai/sumanta_roy/CS6910_assignment_1</a>"
      ],
      "text/plain": [
       "<IPython.core.display.HTML object>"
      ]
     },
     "metadata": {},
     "output_type": "display_data"
    },
    {
     "data": {
      "text/html": [
       " View sweep at <a href='https://wandb.ai/sumanta_roy/CS6910_assignment_1/sweeps/etqoz0cb' target=\"_blank\">https://wandb.ai/sumanta_roy/CS6910_assignment_1/sweeps/etqoz0cb</a>"
      ],
      "text/plain": [
       "<IPython.core.display.HTML object>"
      ]
     },
     "metadata": {},
     "output_type": "display_data"
    },
    {
     "data": {
      "text/html": [
       " View run at <a href='https://wandb.ai/sumanta_roy/CS6910_assignment_1/runs/ns63d17g' target=\"_blank\">https://wandb.ai/sumanta_roy/CS6910_assignment_1/runs/ns63d17g</a>"
      ],
      "text/plain": [
       "<IPython.core.display.HTML object>"
      ]
     },
     "metadata": {},
     "output_type": "display_data"
    },
    {
     "name": "stdout",
     "output_type": "stream",
     "text": [
      "Epoch: 1/10; Train Loss: 0.019255093321988034; Val Loss: 0.02376216588245022\n",
      "Epoch: 2/10; Train Loss: 0.018196213970359115; Val Loss: 0.02188255917957118\n",
      "Epoch: 3/10; Train Loss: 0.01759193569922691; Val Loss: 0.02091484575778\n",
      "Epoch: 4/10; Train Loss: 0.01710849754870032; Val Loss: 0.02028645585918505\n",
      "Epoch: 5/10; Train Loss: 0.016689785450082078; Val Loss: 0.019842103574005048\n",
      "Epoch: 6/10; Train Loss: 0.016310345431550004; Val Loss: 0.019504434125039525\n",
      "Epoch: 7/10; Train Loss: 0.015966730849981473; Val Loss: 0.019231770344576384\n",
      "Epoch: 8/10; Train Loss: 0.01567683023829531; Val Loss: 0.01900219048706486\n",
      "Epoch: 9/10; Train Loss: 0.01545091667211025; Val Loss: 0.018803869916215535\n",
      "Epoch: 10/10; Train Loss: 0.01527922394846032; Val Loss: 0.018629698035441254\n"
     ]
    },
    {
     "data": {
      "application/vnd.jupyter.widget-view+json": {
       "model_id": "",
       "version_major": 2,
       "version_minor": 0
      },
      "text/plain": [
       "VBox(children=(Label(value='0.001 MB of 0.027 MB uploaded\\r'), FloatProgress(value=0.027244384609934103, max=1…"
      ]
     },
     "metadata": {},
     "output_type": "display_data"
    },
    {
     "data": {
      "text/html": [
       "<style>\n",
       "    table.wandb td:nth-child(1) { padding: 0 10px; text-align: left ; width: auto;} td:nth-child(2) {text-align: left ; width: 100%}\n",
       "    .wandb-row { display: flex; flex-direction: row; flex-wrap: wrap; justify-content: flex-start; width: 100% }\n",
       "    .wandb-col { display: flex; flex-direction: column; flex-basis: 100%; flex: 1; padding: 10px; }\n",
       "    </style>\n",
       "<div class=\"wandb-row\"><div class=\"wandb-col\"><h3>Run history:</h3><br/><table class=\"wandb\"><tr><td>epoch</td><td>▁▁▁▁▂▂▂▂▃▃▃▃▃▃▃▃▄▄▄▄▅▅▅▅▆▆▆▆▆▆▆▆▇▇▇▇████</td></tr><tr><td>train_accuracy</td><td>▆▅▆▇▆▆▁▆▆▇█▁▆▇▃█▆▇█▁▆▇▅▇▆██▂█▆▆▇▆██▂▆▆▆▇</td></tr><tr><td>train_loss</td><td>▅▆▃▃▃▄▇▃▃▄▂█▃▃▆▃▃▃▂█▂▃▅▃▃▂▂▇▂▃▄▃▃▂▁▇▃▃▄▁</td></tr><tr><td>val_accuracy</td><td>▁▃▅▅▆▆▆▆▆▇▇▇▇▇▇▇▇▇▇▇▇███▇███████████████</td></tr><tr><td>validation_loss</td><td>█▅▄▄▃▃▃▃▂▂▂▂▂▂▂▂▂▂▂▂▁▁▁▁▁▁▁▁▁▁▁▁▁▁▁▁▁▁▁▁</td></tr></table><br/></div><div class=\"wandb-col\"><h3>Run summary:</h3><br/><table class=\"wandb\"><tr><td>epoch</td><td>10</td></tr><tr><td>train_accuracy</td><td>90.625</td></tr><tr><td>train_loss</td><td>0.01528</td></tr><tr><td>val_accuracy</td><td>86.81667</td></tr><tr><td>validation_loss</td><td>0.01863</td></tr></table><br/></div></div>"
      ],
      "text/plain": [
       "<IPython.core.display.HTML object>"
      ]
     },
     "metadata": {},
     "output_type": "display_data"
    },
    {
     "data": {
      "text/html": [
       " View run <strong style=\"color:#cdcd00\">electric-sweep-29</strong> at: <a href='https://wandb.ai/sumanta_roy/CS6910_assignment_1/runs/ns63d17g' target=\"_blank\">https://wandb.ai/sumanta_roy/CS6910_assignment_1/runs/ns63d17g</a><br/>Synced 6 W&B file(s), 0 media file(s), 0 artifact file(s) and 0 other file(s)"
      ],
      "text/plain": [
       "<IPython.core.display.HTML object>"
      ]
     },
     "metadata": {},
     "output_type": "display_data"
    },
    {
     "data": {
      "text/html": [
       "Find logs at: <code>./wandb/run-20240317_172751-ns63d17g/logs</code>"
      ],
      "text/plain": [
       "<IPython.core.display.HTML object>"
      ]
     },
     "metadata": {},
     "output_type": "display_data"
    },
    {
     "name": "stderr",
     "output_type": "stream",
     "text": [
      "\u001b[34m\u001b[1mwandb\u001b[0m: Agent Starting Run: 9npgrlbl with config:\n",
      "\u001b[34m\u001b[1mwandb\u001b[0m: \tactivation: tanh\n",
      "\u001b[34m\u001b[1mwandb\u001b[0m: \tbatch_size: 64\n",
      "\u001b[34m\u001b[1mwandb\u001b[0m: \tepochs: 10\n",
      "\u001b[34m\u001b[1mwandb\u001b[0m: \thidden_layers: 5\n",
      "\u001b[34m\u001b[1mwandb\u001b[0m: \thidden_size: 128\n",
      "\u001b[34m\u001b[1mwandb\u001b[0m: \tloss: mse\n",
      "\u001b[34m\u001b[1mwandb\u001b[0m: \tlr: 0.0001\n",
      "\u001b[34m\u001b[1mwandb\u001b[0m: \toptimizer: nadam\n",
      "\u001b[34m\u001b[1mwandb\u001b[0m: \tw_init: glorot\n",
      "\u001b[34m\u001b[1mwandb\u001b[0m: \tweight_decay: 0\n"
     ]
    },
    {
     "data": {
      "text/html": [
       "Tracking run with wandb version 0.16.4"
      ],
      "text/plain": [
       "<IPython.core.display.HTML object>"
      ]
     },
     "metadata": {},
     "output_type": "display_data"
    },
    {
     "data": {
      "text/html": [
       "Run data is saved locally in <code>/Users/sumanta/Desktop/Numpy project/mse_error_revised/wandb/run-20240317_173025-9npgrlbl</code>"
      ],
      "text/plain": [
       "<IPython.core.display.HTML object>"
      ]
     },
     "metadata": {},
     "output_type": "display_data"
    },
    {
     "data": {
      "text/html": [
       "Syncing run <strong><a href='https://wandb.ai/sumanta_roy/CS6910_assignment_1/runs/9npgrlbl' target=\"_blank\">sunny-sweep-30</a></strong> to <a href='https://wandb.ai/sumanta_roy/CS6910_assignment_1' target=\"_blank\">Weights & Biases</a> (<a href='https://wandb.me/run' target=\"_blank\">docs</a>)<br/>Sweep page: <a href='https://wandb.ai/sumanta_roy/CS6910_assignment_1/sweeps/etqoz0cb' target=\"_blank\">https://wandb.ai/sumanta_roy/CS6910_assignment_1/sweeps/etqoz0cb</a>"
      ],
      "text/plain": [
       "<IPython.core.display.HTML object>"
      ]
     },
     "metadata": {},
     "output_type": "display_data"
    },
    {
     "data": {
      "text/html": [
       " View project at <a href='https://wandb.ai/sumanta_roy/CS6910_assignment_1' target=\"_blank\">https://wandb.ai/sumanta_roy/CS6910_assignment_1</a>"
      ],
      "text/plain": [
       "<IPython.core.display.HTML object>"
      ]
     },
     "metadata": {},
     "output_type": "display_data"
    },
    {
     "data": {
      "text/html": [
       " View sweep at <a href='https://wandb.ai/sumanta_roy/CS6910_assignment_1/sweeps/etqoz0cb' target=\"_blank\">https://wandb.ai/sumanta_roy/CS6910_assignment_1/sweeps/etqoz0cb</a>"
      ],
      "text/plain": [
       "<IPython.core.display.HTML object>"
      ]
     },
     "metadata": {},
     "output_type": "display_data"
    },
    {
     "data": {
      "text/html": [
       " View run at <a href='https://wandb.ai/sumanta_roy/CS6910_assignment_1/runs/9npgrlbl' target=\"_blank\">https://wandb.ai/sumanta_roy/CS6910_assignment_1/runs/9npgrlbl</a>"
      ],
      "text/plain": [
       "<IPython.core.display.HTML object>"
      ]
     },
     "metadata": {},
     "output_type": "display_data"
    },
    {
     "name": "stdout",
     "output_type": "stream",
     "text": [
      "Epoch: 1/10; Train Loss: 0.03256456860527621; Val Loss: 0.03953176182406449\n",
      "Epoch: 2/10; Train Loss: 0.024585672272522563; Val Loss: 0.03287145880835555\n",
      "Epoch: 3/10; Train Loss: 0.0209789966354346; Val Loss: 0.02972269623752236\n",
      "Epoch: 4/10; Train Loss: 0.018833416094801016; Val Loss: 0.027829776545122118\n",
      "Epoch: 5/10; Train Loss: 0.01738651915029812; Val Loss: 0.02656401108910385\n",
      "Epoch: 6/10; Train Loss: 0.016371127816054105; Val Loss: 0.025664913338162138\n",
      "Epoch: 7/10; Train Loss: 0.015647108857486148; Val Loss: 0.024990534022603934\n",
      "Epoch: 8/10; Train Loss: 0.015124802707351264; Val Loss: 0.02445674108134203\n",
      "Epoch: 9/10; Train Loss: 0.0147444597367476; Val Loss: 0.024014237617588367\n",
      "Epoch: 10/10; Train Loss: 0.014466106158733522; Val Loss: 0.02363431941343215\n"
     ]
    },
    {
     "data": {
      "application/vnd.jupyter.widget-view+json": {
       "model_id": "",
       "version_major": 2,
       "version_minor": 0
      },
      "text/plain": [
       "VBox(children=(Label(value='0.001 MB of 0.001 MB uploaded\\r'), FloatProgress(value=1.0, max=1.0)))"
      ]
     },
     "metadata": {},
     "output_type": "display_data"
    },
    {
     "data": {
      "text/html": [
       "<style>\n",
       "    table.wandb td:nth-child(1) { padding: 0 10px; text-align: left ; width: auto;} td:nth-child(2) {text-align: left ; width: 100%}\n",
       "    .wandb-row { display: flex; flex-direction: row; flex-wrap: wrap; justify-content: flex-start; width: 100% }\n",
       "    .wandb-col { display: flex; flex-direction: column; flex-basis: 100%; flex: 1; padding: 10px; }\n",
       "    </style>\n",
       "<div class=\"wandb-row\"><div class=\"wandb-col\"><h3>Run history:</h3><br/><table class=\"wandb\"><tr><td>epoch</td><td>▁▁▁▁▂▂▂▂▃▃▃▃▃▃▃▃▄▄▄▄▅▅▅▅▆▆▆▆▆▆▆▆▇▇▇▇████</td></tr><tr><td>train_accuracy</td><td>▁▄▅▅▃▄▆▅▅▅▃▃▆▇▅▆▅▇▄▆▆▅▇▆▆▅▆▆▇▆▄▇▆▇▇▇█▅▇█</td></tr><tr><td>train_loss</td><td>█▆▅▄▅▄▃▄▃▃▄▄▃▂▃▃▄▂▃▂▃▃▂▂▃▃▂▂▁▃▄▂▃▂▂▂▁▃▁▁</td></tr><tr><td>val_accuracy</td><td>▁▂▄▅▅▅▆▆▆▆▇▇▇▇▇▇▇▇▇▇▇▇██████████████████</td></tr><tr><td>validation_loss</td><td>█▆▅▄▄▃▃▃▂▂▂▂▂▂▂▂▂▂▂▂▁▁▁▁▁▁▁▁▁▁▁▁▁▁▁▁▁▁▁▁</td></tr></table><br/></div><div class=\"wandb-col\"><h3>Run summary:</h3><br/><table class=\"wandb\"><tr><td>epoch</td><td>10</td></tr><tr><td>train_accuracy</td><td>90.625</td></tr><tr><td>train_loss</td><td>0.01447</td></tr><tr><td>val_accuracy</td><td>83.26667</td></tr><tr><td>validation_loss</td><td>0.02363</td></tr></table><br/></div></div>"
      ],
      "text/plain": [
       "<IPython.core.display.HTML object>"
      ]
     },
     "metadata": {},
     "output_type": "display_data"
    },
    {
     "data": {
      "text/html": [
       " View run <strong style=\"color:#cdcd00\">sunny-sweep-30</strong> at: <a href='https://wandb.ai/sumanta_roy/CS6910_assignment_1/runs/9npgrlbl' target=\"_blank\">https://wandb.ai/sumanta_roy/CS6910_assignment_1/runs/9npgrlbl</a><br/>Synced 6 W&B file(s), 0 media file(s), 0 artifact file(s) and 0 other file(s)"
      ],
      "text/plain": [
       "<IPython.core.display.HTML object>"
      ]
     },
     "metadata": {},
     "output_type": "display_data"
    },
    {
     "data": {
      "text/html": [
       "Find logs at: <code>./wandb/run-20240317_173025-9npgrlbl/logs</code>"
      ],
      "text/plain": [
       "<IPython.core.display.HTML object>"
      ]
     },
     "metadata": {},
     "output_type": "display_data"
    },
    {
     "name": "stderr",
     "output_type": "stream",
     "text": [
      "\u001b[34m\u001b[1mwandb\u001b[0m: Agent Starting Run: o9u76dpc with config:\n",
      "\u001b[34m\u001b[1mwandb\u001b[0m: \tactivation: tanh\n",
      "\u001b[34m\u001b[1mwandb\u001b[0m: \tbatch_size: 64\n",
      "\u001b[34m\u001b[1mwandb\u001b[0m: \tepochs: 10\n",
      "\u001b[34m\u001b[1mwandb\u001b[0m: \thidden_layers: 5\n",
      "\u001b[34m\u001b[1mwandb\u001b[0m: \thidden_size: 128\n",
      "\u001b[34m\u001b[1mwandb\u001b[0m: \tloss: mse\n",
      "\u001b[34m\u001b[1mwandb\u001b[0m: \tlr: 0.0001\n",
      "\u001b[34m\u001b[1mwandb\u001b[0m: \toptimizer: nadam\n",
      "\u001b[34m\u001b[1mwandb\u001b[0m: \tw_init: glorot\n",
      "\u001b[34m\u001b[1mwandb\u001b[0m: \tweight_decay: 0\n"
     ]
    },
    {
     "data": {
      "text/html": [
       "Tracking run with wandb version 0.16.4"
      ],
      "text/plain": [
       "<IPython.core.display.HTML object>"
      ]
     },
     "metadata": {},
     "output_type": "display_data"
    },
    {
     "data": {
      "text/html": [
       "Run data is saved locally in <code>/Users/sumanta/Desktop/Numpy project/mse_error_revised/wandb/run-20240317_173232-o9u76dpc</code>"
      ],
      "text/plain": [
       "<IPython.core.display.HTML object>"
      ]
     },
     "metadata": {},
     "output_type": "display_data"
    },
    {
     "data": {
      "text/html": [
       "Syncing run <strong><a href='https://wandb.ai/sumanta_roy/CS6910_assignment_1/runs/o9u76dpc' target=\"_blank\">skilled-sweep-31</a></strong> to <a href='https://wandb.ai/sumanta_roy/CS6910_assignment_1' target=\"_blank\">Weights & Biases</a> (<a href='https://wandb.me/run' target=\"_blank\">docs</a>)<br/>Sweep page: <a href='https://wandb.ai/sumanta_roy/CS6910_assignment_1/sweeps/etqoz0cb' target=\"_blank\">https://wandb.ai/sumanta_roy/CS6910_assignment_1/sweeps/etqoz0cb</a>"
      ],
      "text/plain": [
       "<IPython.core.display.HTML object>"
      ]
     },
     "metadata": {},
     "output_type": "display_data"
    },
    {
     "data": {
      "text/html": [
       " View project at <a href='https://wandb.ai/sumanta_roy/CS6910_assignment_1' target=\"_blank\">https://wandb.ai/sumanta_roy/CS6910_assignment_1</a>"
      ],
      "text/plain": [
       "<IPython.core.display.HTML object>"
      ]
     },
     "metadata": {},
     "output_type": "display_data"
    },
    {
     "data": {
      "text/html": [
       " View sweep at <a href='https://wandb.ai/sumanta_roy/CS6910_assignment_1/sweeps/etqoz0cb' target=\"_blank\">https://wandb.ai/sumanta_roy/CS6910_assignment_1/sweeps/etqoz0cb</a>"
      ],
      "text/plain": [
       "<IPython.core.display.HTML object>"
      ]
     },
     "metadata": {},
     "output_type": "display_data"
    },
    {
     "data": {
      "text/html": [
       " View run at <a href='https://wandb.ai/sumanta_roy/CS6910_assignment_1/runs/o9u76dpc' target=\"_blank\">https://wandb.ai/sumanta_roy/CS6910_assignment_1/runs/o9u76dpc</a>"
      ],
      "text/plain": [
       "<IPython.core.display.HTML object>"
      ]
     },
     "metadata": {},
     "output_type": "display_data"
    },
    {
     "name": "stdout",
     "output_type": "stream",
     "text": [
      "Epoch: 1/10; Train Loss: 0.03508449326365194; Val Loss: 0.04086245571309175\n",
      "Epoch: 2/10; Train Loss: 0.027646654364160396; Val Loss: 0.034334156057272414\n",
      "Epoch: 3/10; Train Loss: 0.023433463776396386; Val Loss: 0.030669836125507475\n",
      "Epoch: 4/10; Train Loss: 0.020958047030595926; Val Loss: 0.028337908466065875\n",
      "Epoch: 5/10; Train Loss: 0.019502128865951124; Val Loss: 0.02677341183016068\n",
      "Epoch: 6/10; Train Loss: 0.018585516769019084; Val Loss: 0.025667364221007943\n",
      "Epoch: 7/10; Train Loss: 0.017964865929089475; Val Loss: 0.024845511870489854\n",
      "Epoch: 8/10; Train Loss: 0.01752337747219428; Val Loss: 0.024206436886875998\n",
      "Epoch: 9/10; Train Loss: 0.01720220084894536; Val Loss: 0.023689947486960884\n",
      "Epoch: 10/10; Train Loss: 0.016968856370350012; Val Loss: 0.023259904299968357\n"
     ]
    },
    {
     "data": {
      "application/vnd.jupyter.widget-view+json": {
       "model_id": "",
       "version_major": 2,
       "version_minor": 0
      },
      "text/plain": [
       "VBox(children=(Label(value='0.001 MB of 0.027 MB uploaded\\r'), FloatProgress(value=0.027239559349651093, max=1…"
      ]
     },
     "metadata": {},
     "output_type": "display_data"
    },
    {
     "data": {
      "text/html": [
       "<style>\n",
       "    table.wandb td:nth-child(1) { padding: 0 10px; text-align: left ; width: auto;} td:nth-child(2) {text-align: left ; width: 100%}\n",
       "    .wandb-row { display: flex; flex-direction: row; flex-wrap: wrap; justify-content: flex-start; width: 100% }\n",
       "    .wandb-col { display: flex; flex-direction: column; flex-basis: 100%; flex: 1; padding: 10px; }\n",
       "    </style>\n",
       "<div class=\"wandb-row\"><div class=\"wandb-col\"><h3>Run history:</h3><br/><table class=\"wandb\"><tr><td>epoch</td><td>▁▁▁▁▂▂▂▂▃▃▃▃▃▃▃▃▄▄▄▄▅▅▅▅▆▆▆▆▆▆▆▆▇▇▇▇████</td></tr><tr><td>train_accuracy</td><td>▁▄▄▅▃▄▆▄▆▆▄▄▆▇▆▆▄█▅▆▆▅▇▇▅▅▇▇█▅▄▆▆█▆▇█▅▇▇</td></tr><tr><td>train_loss</td><td>█▆▅▄▆▅▃▅▃▃▄▄▃▂▃▃▄▂▃▂▃▃▂▂▃▃▂▂▁▃▄▂▂▂▂▂▂▃▁▁</td></tr><tr><td>val_accuracy</td><td>▁▃▄▅▅▅▆▆▆▆▇▇▇▇▇▇▇▇▇▇▇▇▇█████████████████</td></tr><tr><td>validation_loss</td><td>█▆▅▄▄▃▃▃▃▃▂▂▂▂▂▂▂▂▂▂▂▂▁▁▁▁▁▁▁▁▁▁▁▁▁▁▁▁▁▁</td></tr></table><br/></div><div class=\"wandb-col\"><h3>Run summary:</h3><br/><table class=\"wandb\"><tr><td>epoch</td><td>10</td></tr><tr><td>train_accuracy</td><td>89.0625</td></tr><tr><td>train_loss</td><td>0.01697</td></tr><tr><td>val_accuracy</td><td>83.63333</td></tr><tr><td>validation_loss</td><td>0.02326</td></tr></table><br/></div></div>"
      ],
      "text/plain": [
       "<IPython.core.display.HTML object>"
      ]
     },
     "metadata": {},
     "output_type": "display_data"
    },
    {
     "data": {
      "text/html": [
       " View run <strong style=\"color:#cdcd00\">skilled-sweep-31</strong> at: <a href='https://wandb.ai/sumanta_roy/CS6910_assignment_1/runs/o9u76dpc' target=\"_blank\">https://wandb.ai/sumanta_roy/CS6910_assignment_1/runs/o9u76dpc</a><br/>Synced 6 W&B file(s), 0 media file(s), 0 artifact file(s) and 0 other file(s)"
      ],
      "text/plain": [
       "<IPython.core.display.HTML object>"
      ]
     },
     "metadata": {},
     "output_type": "display_data"
    },
    {
     "data": {
      "text/html": [
       "Find logs at: <code>./wandb/run-20240317_173232-o9u76dpc/logs</code>"
      ],
      "text/plain": [
       "<IPython.core.display.HTML object>"
      ]
     },
     "metadata": {},
     "output_type": "display_data"
    },
    {
     "name": "stderr",
     "output_type": "stream",
     "text": [
      "\u001b[34m\u001b[1mwandb\u001b[0m: Agent Starting Run: fez64fg8 with config:\n",
      "\u001b[34m\u001b[1mwandb\u001b[0m: \tactivation: tanh\n",
      "\u001b[34m\u001b[1mwandb\u001b[0m: \tbatch_size: 64\n",
      "\u001b[34m\u001b[1mwandb\u001b[0m: \tepochs: 10\n",
      "\u001b[34m\u001b[1mwandb\u001b[0m: \thidden_layers: 5\n",
      "\u001b[34m\u001b[1mwandb\u001b[0m: \thidden_size: 128\n",
      "\u001b[34m\u001b[1mwandb\u001b[0m: \tloss: mse\n",
      "\u001b[34m\u001b[1mwandb\u001b[0m: \tlr: 0.0001\n",
      "\u001b[34m\u001b[1mwandb\u001b[0m: \toptimizer: rmsprop\n",
      "\u001b[34m\u001b[1mwandb\u001b[0m: \tw_init: glorot\n",
      "\u001b[34m\u001b[1mwandb\u001b[0m: \tweight_decay: 0\n"
     ]
    },
    {
     "data": {
      "text/html": [
       "Tracking run with wandb version 0.16.4"
      ],
      "text/plain": [
       "<IPython.core.display.HTML object>"
      ]
     },
     "metadata": {},
     "output_type": "display_data"
    },
    {
     "data": {
      "text/html": [
       "Run data is saved locally in <code>/Users/sumanta/Desktop/Numpy project/mse_error_revised/wandb/run-20240317_173439-fez64fg8</code>"
      ],
      "text/plain": [
       "<IPython.core.display.HTML object>"
      ]
     },
     "metadata": {},
     "output_type": "display_data"
    },
    {
     "data": {
      "text/html": [
       "Syncing run <strong><a href='https://wandb.ai/sumanta_roy/CS6910_assignment_1/runs/fez64fg8' target=\"_blank\">snowy-sweep-32</a></strong> to <a href='https://wandb.ai/sumanta_roy/CS6910_assignment_1' target=\"_blank\">Weights & Biases</a> (<a href='https://wandb.me/run' target=\"_blank\">docs</a>)<br/>Sweep page: <a href='https://wandb.ai/sumanta_roy/CS6910_assignment_1/sweeps/etqoz0cb' target=\"_blank\">https://wandb.ai/sumanta_roy/CS6910_assignment_1/sweeps/etqoz0cb</a>"
      ],
      "text/plain": [
       "<IPython.core.display.HTML object>"
      ]
     },
     "metadata": {},
     "output_type": "display_data"
    },
    {
     "data": {
      "text/html": [
       " View project at <a href='https://wandb.ai/sumanta_roy/CS6910_assignment_1' target=\"_blank\">https://wandb.ai/sumanta_roy/CS6910_assignment_1</a>"
      ],
      "text/plain": [
       "<IPython.core.display.HTML object>"
      ]
     },
     "metadata": {},
     "output_type": "display_data"
    },
    {
     "data": {
      "text/html": [
       " View sweep at <a href='https://wandb.ai/sumanta_roy/CS6910_assignment_1/sweeps/etqoz0cb' target=\"_blank\">https://wandb.ai/sumanta_roy/CS6910_assignment_1/sweeps/etqoz0cb</a>"
      ],
      "text/plain": [
       "<IPython.core.display.HTML object>"
      ]
     },
     "metadata": {},
     "output_type": "display_data"
    },
    {
     "data": {
      "text/html": [
       " View run at <a href='https://wandb.ai/sumanta_roy/CS6910_assignment_1/runs/fez64fg8' target=\"_blank\">https://wandb.ai/sumanta_roy/CS6910_assignment_1/runs/fez64fg8</a>"
      ],
      "text/plain": [
       "<IPython.core.display.HTML object>"
      ]
     },
     "metadata": {},
     "output_type": "display_data"
    },
    {
     "name": "stdout",
     "output_type": "stream",
     "text": [
      "Epoch: 1/10; Train Loss: 0.020215971946906795; Val Loss: 0.028270329578189757\n",
      "Epoch: 2/10; Train Loss: 0.016760003455348043; Val Loss: 0.024444364389626525\n",
      "Epoch: 3/10; Train Loss: 0.015725033512670572; Val Loss: 0.022705288021776123\n",
      "Epoch: 4/10; Train Loss: 0.015322143413481615; Val Loss: 0.021572033717179896\n",
      "Epoch: 5/10; Train Loss: 0.015085324987753456; Val Loss: 0.020773988075473763\n",
      "Epoch: 6/10; Train Loss: 0.014878523688606224; Val Loss: 0.02019476751933731\n",
      "Epoch: 7/10; Train Loss: 0.014690684278599622; Val Loss: 0.019759072330074335\n",
      "Epoch: 8/10; Train Loss: 0.014531324200077762; Val Loss: 0.01941720554453161\n",
      "Epoch: 9/10; Train Loss: 0.014398780451242215; Val Loss: 0.019137902928889384\n",
      "Epoch: 10/10; Train Loss: 0.014283255742503678; Val Loss: 0.018902004997385143\n"
     ]
    },
    {
     "data": {
      "application/vnd.jupyter.widget-view+json": {
       "model_id": "",
       "version_major": 2,
       "version_minor": 0
      },
      "text/plain": [
       "VBox(children=(Label(value='0.001 MB of 0.001 MB uploaded\\r'), FloatProgress(value=1.0, max=1.0)))"
      ]
     },
     "metadata": {},
     "output_type": "display_data"
    },
    {
     "data": {
      "text/html": [
       "<style>\n",
       "    table.wandb td:nth-child(1) { padding: 0 10px; text-align: left ; width: auto;} td:nth-child(2) {text-align: left ; width: 100%}\n",
       "    .wandb-row { display: flex; flex-direction: row; flex-wrap: wrap; justify-content: flex-start; width: 100% }\n",
       "    .wandb-col { display: flex; flex-direction: column; flex-basis: 100%; flex: 1; padding: 10px; }\n",
       "    </style>\n",
       "<div class=\"wandb-row\"><div class=\"wandb-col\"><h3>Run history:</h3><br/><table class=\"wandb\"><tr><td>epoch</td><td>▁▁▁▁▂▂▂▂▃▃▃▃▃▃▃▃▄▄▄▄▅▅▅▅▆▆▆▆▆▆▆▆▇▇▇▇████</td></tr><tr><td>train_accuracy</td><td>▁▅▅▆▅▅▇▆▆▅▅▅▅▆▆▇▅▇▆▇▇▆▇▇▆▆▇▇█▆▅▆▇▇▇▆▇▅▇█</td></tr><tr><td>train_loss</td><td>█▅▄▃▅▄▂▃▃▃▄▄▃▃▃▃▄▂▃▂▂▃▂▂▃▄▂▂▁▄▄▂▂▂▂▃▂▄▁▁</td></tr><tr><td>val_accuracy</td><td>▁▃▅▆▆▆▇▇▇▇▇▇▇▇▇▇▇▇█▇████████████████████</td></tr><tr><td>validation_loss</td><td>█▅▄▃▃▂▂▂▂▂▂▂▂▂▂▂▂▂▁▁▁▁▁▁▁▁▁▁▁▁▁▁▁▁▁▁▁▁▁▁</td></tr></table><br/></div><div class=\"wandb-col\"><h3>Run summary:</h3><br/><table class=\"wandb\"><tr><td>epoch</td><td>10</td></tr><tr><td>train_accuracy</td><td>90.625</td></tr><tr><td>train_loss</td><td>0.01428</td></tr><tr><td>val_accuracy</td><td>86.7</td></tr><tr><td>validation_loss</td><td>0.0189</td></tr></table><br/></div></div>"
      ],
      "text/plain": [
       "<IPython.core.display.HTML object>"
      ]
     },
     "metadata": {},
     "output_type": "display_data"
    },
    {
     "data": {
      "text/html": [
       " View run <strong style=\"color:#cdcd00\">snowy-sweep-32</strong> at: <a href='https://wandb.ai/sumanta_roy/CS6910_assignment_1/runs/fez64fg8' target=\"_blank\">https://wandb.ai/sumanta_roy/CS6910_assignment_1/runs/fez64fg8</a><br/>Synced 6 W&B file(s), 0 media file(s), 0 artifact file(s) and 0 other file(s)"
      ],
      "text/plain": [
       "<IPython.core.display.HTML object>"
      ]
     },
     "metadata": {},
     "output_type": "display_data"
    },
    {
     "data": {
      "text/html": [
       "Find logs at: <code>./wandb/run-20240317_173439-fez64fg8/logs</code>"
      ],
      "text/plain": [
       "<IPython.core.display.HTML object>"
      ]
     },
     "metadata": {},
     "output_type": "display_data"
    },
    {
     "name": "stderr",
     "output_type": "stream",
     "text": [
      "\u001b[34m\u001b[1mwandb\u001b[0m: Agent Starting Run: w6bnqttd with config:\n",
      "\u001b[34m\u001b[1mwandb\u001b[0m: \tactivation: tanh\n",
      "\u001b[34m\u001b[1mwandb\u001b[0m: \tbatch_size: 64\n",
      "\u001b[34m\u001b[1mwandb\u001b[0m: \tepochs: 10\n",
      "\u001b[34m\u001b[1mwandb\u001b[0m: \thidden_layers: 5\n",
      "\u001b[34m\u001b[1mwandb\u001b[0m: \thidden_size: 128\n",
      "\u001b[34m\u001b[1mwandb\u001b[0m: \tloss: mse\n",
      "\u001b[34m\u001b[1mwandb\u001b[0m: \tlr: 0.0001\n",
      "\u001b[34m\u001b[1mwandb\u001b[0m: \toptimizer: adam\n",
      "\u001b[34m\u001b[1mwandb\u001b[0m: \tw_init: glorot\n",
      "\u001b[34m\u001b[1mwandb\u001b[0m: \tweight_decay: 0.0005\n"
     ]
    },
    {
     "data": {
      "text/html": [
       "Tracking run with wandb version 0.16.4"
      ],
      "text/plain": [
       "<IPython.core.display.HTML object>"
      ]
     },
     "metadata": {},
     "output_type": "display_data"
    },
    {
     "data": {
      "text/html": [
       "Run data is saved locally in <code>/Users/sumanta/Desktop/Numpy project/mse_error_revised/wandb/run-20240317_173641-w6bnqttd</code>"
      ],
      "text/plain": [
       "<IPython.core.display.HTML object>"
      ]
     },
     "metadata": {},
     "output_type": "display_data"
    },
    {
     "data": {
      "text/html": [
       "Syncing run <strong><a href='https://wandb.ai/sumanta_roy/CS6910_assignment_1/runs/w6bnqttd' target=\"_blank\">prime-sweep-33</a></strong> to <a href='https://wandb.ai/sumanta_roy/CS6910_assignment_1' target=\"_blank\">Weights & Biases</a> (<a href='https://wandb.me/run' target=\"_blank\">docs</a>)<br/>Sweep page: <a href='https://wandb.ai/sumanta_roy/CS6910_assignment_1/sweeps/etqoz0cb' target=\"_blank\">https://wandb.ai/sumanta_roy/CS6910_assignment_1/sweeps/etqoz0cb</a>"
      ],
      "text/plain": [
       "<IPython.core.display.HTML object>"
      ]
     },
     "metadata": {},
     "output_type": "display_data"
    },
    {
     "data": {
      "text/html": [
       " View project at <a href='https://wandb.ai/sumanta_roy/CS6910_assignment_1' target=\"_blank\">https://wandb.ai/sumanta_roy/CS6910_assignment_1</a>"
      ],
      "text/plain": [
       "<IPython.core.display.HTML object>"
      ]
     },
     "metadata": {},
     "output_type": "display_data"
    },
    {
     "data": {
      "text/html": [
       " View sweep at <a href='https://wandb.ai/sumanta_roy/CS6910_assignment_1/sweeps/etqoz0cb' target=\"_blank\">https://wandb.ai/sumanta_roy/CS6910_assignment_1/sweeps/etqoz0cb</a>"
      ],
      "text/plain": [
       "<IPython.core.display.HTML object>"
      ]
     },
     "metadata": {},
     "output_type": "display_data"
    },
    {
     "data": {
      "text/html": [
       " View run at <a href='https://wandb.ai/sumanta_roy/CS6910_assignment_1/runs/w6bnqttd' target=\"_blank\">https://wandb.ai/sumanta_roy/CS6910_assignment_1/runs/w6bnqttd</a>"
      ],
      "text/plain": [
       "<IPython.core.display.HTML object>"
      ]
     },
     "metadata": {},
     "output_type": "display_data"
    },
    {
     "name": "stdout",
     "output_type": "stream",
     "text": [
      "Epoch: 1/10; Train Loss: 0.018677220541707493; Val Loss: 0.02401217490754455\n",
      "Epoch: 2/10; Train Loss: 0.01802918118804031; Val Loss: 0.022133743617864073\n",
      "Epoch: 3/10; Train Loss: 0.018071331999028436; Val Loss: 0.021179591773107697\n",
      "Epoch: 4/10; Train Loss: 0.018276077486278092; Val Loss: 0.020522247494816355\n",
      "Epoch: 5/10; Train Loss: 0.018495077934005247; Val Loss: 0.02002509049338093\n",
      "Epoch: 6/10; Train Loss: 0.018682726742451236; Val Loss: 0.019631778822185527\n",
      "Epoch: 7/10; Train Loss: 0.018831667900881487; Val Loss: 0.01931079067953168\n",
      "Epoch: 8/10; Train Loss: 0.018944901861427405; Val Loss: 0.01904229434277622\n",
      "Epoch: 9/10; Train Loss: 0.01902688021715559; Val Loss: 0.018813215371890353\n",
      "Epoch: 10/10; Train Loss: 0.019081689719878888; Val Loss: 0.01861468567645284\n"
     ]
    },
    {
     "data": {
      "application/vnd.jupyter.widget-view+json": {
       "model_id": "",
       "version_major": 2,
       "version_minor": 0
      },
      "text/plain": [
       "VBox(children=(Label(value='0.001 MB of 0.027 MB uploaded\\r'), FloatProgress(value=0.02723762972408175, max=1.…"
      ]
     },
     "metadata": {},
     "output_type": "display_data"
    },
    {
     "data": {
      "text/html": [
       "<style>\n",
       "    table.wandb td:nth-child(1) { padding: 0 10px; text-align: left ; width: auto;} td:nth-child(2) {text-align: left ; width: 100%}\n",
       "    .wandb-row { display: flex; flex-direction: row; flex-wrap: wrap; justify-content: flex-start; width: 100% }\n",
       "    .wandb-col { display: flex; flex-direction: column; flex-basis: 100%; flex: 1; padding: 10px; }\n",
       "    </style>\n",
       "<div class=\"wandb-row\"><div class=\"wandb-col\"><h3>Run history:</h3><br/><table class=\"wandb\"><tr><td>epoch</td><td>▁▁▁▁▂▂▂▂▃▃▃▃▃▃▃▃▄▄▄▄▅▅▅▅▆▆▆▆▆▆▆▆▇▇▇▇████</td></tr><tr><td>train_accuracy</td><td>▁▆▃▅▄▃▆▆▅▆▅▃▄▅▅▆▃▇▅▇▇▅▆▇▅▄▆▆█▄▄▆█▇▇▇▆▄██</td></tr><tr><td>train_loss</td><td>█▄▅▄▅▅▂▄▄▃▄▅▄▃▃▄▆▃▄▂▃▄▃▂▅▄▃▃▁▅▅▃▂▂▂▃▂▅▁▁</td></tr><tr><td>val_accuracy</td><td>▁▃▅▅▆▆▆▆▆▇▇▇▇▇▇▇▇▇▇▇▇▇▇▇█▇█████▇████████</td></tr><tr><td>validation_loss</td><td>█▆▄▃▃▃▃▃▂▂▂▂▂▂▂▂▂▂▂▂▂▂▁▂▁▁▁▁▁▁▁▁▁▁▁▁▁▁▁▁</td></tr></table><br/></div><div class=\"wandb-col\"><h3>Run summary:</h3><br/><table class=\"wandb\"><tr><td>epoch</td><td>10</td></tr><tr><td>train_accuracy</td><td>89.0625</td></tr><tr><td>train_loss</td><td>0.01908</td></tr><tr><td>val_accuracy</td><td>87.08333</td></tr><tr><td>validation_loss</td><td>0.01861</td></tr></table><br/></div></div>"
      ],
      "text/plain": [
       "<IPython.core.display.HTML object>"
      ]
     },
     "metadata": {},
     "output_type": "display_data"
    },
    {
     "data": {
      "text/html": [
       " View run <strong style=\"color:#cdcd00\">prime-sweep-33</strong> at: <a href='https://wandb.ai/sumanta_roy/CS6910_assignment_1/runs/w6bnqttd' target=\"_blank\">https://wandb.ai/sumanta_roy/CS6910_assignment_1/runs/w6bnqttd</a><br/>Synced 6 W&B file(s), 0 media file(s), 0 artifact file(s) and 0 other file(s)"
      ],
      "text/plain": [
       "<IPython.core.display.HTML object>"
      ]
     },
     "metadata": {},
     "output_type": "display_data"
    },
    {
     "data": {
      "text/html": [
       "Find logs at: <code>./wandb/run-20240317_173641-w6bnqttd/logs</code>"
      ],
      "text/plain": [
       "<IPython.core.display.HTML object>"
      ]
     },
     "metadata": {},
     "output_type": "display_data"
    },
    {
     "name": "stderr",
     "output_type": "stream",
     "text": [
      "\u001b[34m\u001b[1mwandb\u001b[0m: Agent Starting Run: q7ks64kj with config:\n",
      "\u001b[34m\u001b[1mwandb\u001b[0m: \tactivation: tanh\n",
      "\u001b[34m\u001b[1mwandb\u001b[0m: \tbatch_size: 32\n",
      "\u001b[34m\u001b[1mwandb\u001b[0m: \tepochs: 10\n",
      "\u001b[34m\u001b[1mwandb\u001b[0m: \thidden_layers: 5\n",
      "\u001b[34m\u001b[1mwandb\u001b[0m: \thidden_size: 128\n",
      "\u001b[34m\u001b[1mwandb\u001b[0m: \tloss: mse\n",
      "\u001b[34m\u001b[1mwandb\u001b[0m: \tlr: 0.001\n",
      "\u001b[34m\u001b[1mwandb\u001b[0m: \toptimizer: nadam\n",
      "\u001b[34m\u001b[1mwandb\u001b[0m: \tw_init: glorot\n",
      "\u001b[34m\u001b[1mwandb\u001b[0m: \tweight_decay: 0\n"
     ]
    },
    {
     "data": {
      "text/html": [
       "Tracking run with wandb version 0.16.4"
      ],
      "text/plain": [
       "<IPython.core.display.HTML object>"
      ]
     },
     "metadata": {},
     "output_type": "display_data"
    },
    {
     "data": {
      "text/html": [
       "Run data is saved locally in <code>/Users/sumanta/Desktop/Numpy project/mse_error_revised/wandb/run-20240317_173851-q7ks64kj</code>"
      ],
      "text/plain": [
       "<IPython.core.display.HTML object>"
      ]
     },
     "metadata": {},
     "output_type": "display_data"
    },
    {
     "data": {
      "text/html": [
       "Syncing run <strong><a href='https://wandb.ai/sumanta_roy/CS6910_assignment_1/runs/q7ks64kj' target=\"_blank\">upbeat-sweep-34</a></strong> to <a href='https://wandb.ai/sumanta_roy/CS6910_assignment_1' target=\"_blank\">Weights & Biases</a> (<a href='https://wandb.me/run' target=\"_blank\">docs</a>)<br/>Sweep page: <a href='https://wandb.ai/sumanta_roy/CS6910_assignment_1/sweeps/etqoz0cb' target=\"_blank\">https://wandb.ai/sumanta_roy/CS6910_assignment_1/sweeps/etqoz0cb</a>"
      ],
      "text/plain": [
       "<IPython.core.display.HTML object>"
      ]
     },
     "metadata": {},
     "output_type": "display_data"
    },
    {
     "data": {
      "text/html": [
       " View project at <a href='https://wandb.ai/sumanta_roy/CS6910_assignment_1' target=\"_blank\">https://wandb.ai/sumanta_roy/CS6910_assignment_1</a>"
      ],
      "text/plain": [
       "<IPython.core.display.HTML object>"
      ]
     },
     "metadata": {},
     "output_type": "display_data"
    },
    {
     "data": {
      "text/html": [
       " View sweep at <a href='https://wandb.ai/sumanta_roy/CS6910_assignment_1/sweeps/etqoz0cb' target=\"_blank\">https://wandb.ai/sumanta_roy/CS6910_assignment_1/sweeps/etqoz0cb</a>"
      ],
      "text/plain": [
       "<IPython.core.display.HTML object>"
      ]
     },
     "metadata": {},
     "output_type": "display_data"
    },
    {
     "data": {
      "text/html": [
       " View run at <a href='https://wandb.ai/sumanta_roy/CS6910_assignment_1/runs/q7ks64kj' target=\"_blank\">https://wandb.ai/sumanta_roy/CS6910_assignment_1/runs/q7ks64kj</a>"
      ],
      "text/plain": [
       "<IPython.core.display.HTML object>"
      ]
     },
     "metadata": {},
     "output_type": "display_data"
    },
    {
     "name": "stdout",
     "output_type": "stream",
     "text": [
      "Epoch: 1/10; Train Loss: 0.011876877675975003; Val Loss: 0.021195518848492644\n",
      "Epoch: 2/10; Train Loss: 0.011200512961314874; Val Loss: 0.019527866303840565\n",
      "Epoch: 3/10; Train Loss: 0.010795580698323246; Val Loss: 0.01862362804539591\n",
      "Epoch: 4/10; Train Loss: 0.010457247787488416; Val Loss: 0.01802056542747141\n",
      "Epoch: 5/10; Train Loss: 0.010191772894630077; Val Loss: 0.017579037199066044\n",
      "Epoch: 6/10; Train Loss: 0.010006975627704756; Val Loss: 0.0172390920176015\n",
      "Epoch: 7/10; Train Loss: 0.009887531800038962; Val Loss: 0.016968254147526465\n",
      "Epoch: 8/10; Train Loss: 0.00981135363697598; Val Loss: 0.01674608439039018\n",
      "Epoch: 9/10; Train Loss: 0.009763461422343573; Val Loss: 0.01655914038222752\n",
      "Epoch: 10/10; Train Loss: 0.009733910231002226; Val Loss: 0.01639889382159673\n"
     ]
    },
    {
     "data": {
      "application/vnd.jupyter.widget-view+json": {
       "model_id": "",
       "version_major": 2,
       "version_minor": 0
      },
      "text/plain": [
       "VBox(children=(Label(value='0.001 MB of 0.001 MB uploaded\\r'), FloatProgress(value=1.0, max=1.0)))"
      ]
     },
     "metadata": {},
     "output_type": "display_data"
    },
    {
     "data": {
      "text/html": [
       "<style>\n",
       "    table.wandb td:nth-child(1) { padding: 0 10px; text-align: left ; width: auto;} td:nth-child(2) {text-align: left ; width: 100%}\n",
       "    .wandb-row { display: flex; flex-direction: row; flex-wrap: wrap; justify-content: flex-start; width: 100% }\n",
       "    .wandb-col { display: flex; flex-direction: column; flex-basis: 100%; flex: 1; padding: 10px; }\n",
       "    </style>\n",
       "<div class=\"wandb-row\"><div class=\"wandb-col\"><h3>Run history:</h3><br/><table class=\"wandb\"><tr><td>epoch</td><td>▁▁▁▁▂▂▂▂▃▃▃▃▃▃▃▃▄▄▄▄▅▅▅▅▆▆▆▆▆▆▆▆▇▇▇▇████</td></tr><tr><td>train_accuracy</td><td>▅▅▆▆▆▅▂▆▅▅▆▁█▇▃▆▅▅▇▂█▇▅▆▅▇█▃█▆▅▆▅██▄▆▅▅▇</td></tr><tr><td>train_loss</td><td>▅▅▄▃▃▄█▄▄▅▂█▂▃▇▄▄▄▂▇▁▃▅▄▃▂▁▆▁▃▅▄▃▁▁▆▃▃▅▂</td></tr><tr><td>val_accuracy</td><td>▁▃▄▄▅▅▅▆▆▆▆▆▆▆▇▇▆▇▆▇▇▇▇▇▆▇▇▇▇▇▇▇▇▇▇▇▇▇▇█</td></tr><tr><td>validation_loss</td><td>█▆▅▄▄▄▄▃▃▃▃▃▃▂▂▂▃▂▂▂▂▂▂▂▂▂▂▂▁▂▂▂▂▁▂▁▁▁▁▁</td></tr></table><br/></div><div class=\"wandb-col\"><h3>Run summary:</h3><br/><table class=\"wandb\"><tr><td>epoch</td><td>10</td></tr><tr><td>train_accuracy</td><td>93.75</td></tr><tr><td>train_loss</td><td>0.00973</td></tr><tr><td>val_accuracy</td><td>88.61667</td></tr><tr><td>validation_loss</td><td>0.0164</td></tr></table><br/></div></div>"
      ],
      "text/plain": [
       "<IPython.core.display.HTML object>"
      ]
     },
     "metadata": {},
     "output_type": "display_data"
    },
    {
     "data": {
      "text/html": [
       " View run <strong style=\"color:#cdcd00\">upbeat-sweep-34</strong> at: <a href='https://wandb.ai/sumanta_roy/CS6910_assignment_1/runs/q7ks64kj' target=\"_blank\">https://wandb.ai/sumanta_roy/CS6910_assignment_1/runs/q7ks64kj</a><br/>Synced 6 W&B file(s), 0 media file(s), 0 artifact file(s) and 0 other file(s)"
      ],
      "text/plain": [
       "<IPython.core.display.HTML object>"
      ]
     },
     "metadata": {},
     "output_type": "display_data"
    },
    {
     "data": {
      "text/html": [
       "Find logs at: <code>./wandb/run-20240317_173851-q7ks64kj/logs</code>"
      ],
      "text/plain": [
       "<IPython.core.display.HTML object>"
      ]
     },
     "metadata": {},
     "output_type": "display_data"
    },
    {
     "name": "stderr",
     "output_type": "stream",
     "text": [
      "\u001b[34m\u001b[1mwandb\u001b[0m: Agent Starting Run: iro1l302 with config:\n",
      "\u001b[34m\u001b[1mwandb\u001b[0m: \tactivation: tanh\n",
      "\u001b[34m\u001b[1mwandb\u001b[0m: \tbatch_size: 32\n",
      "\u001b[34m\u001b[1mwandb\u001b[0m: \tepochs: 10\n",
      "\u001b[34m\u001b[1mwandb\u001b[0m: \thidden_layers: 5\n",
      "\u001b[34m\u001b[1mwandb\u001b[0m: \thidden_size: 128\n",
      "\u001b[34m\u001b[1mwandb\u001b[0m: \tloss: mse\n",
      "\u001b[34m\u001b[1mwandb\u001b[0m: \tlr: 0.001\n",
      "\u001b[34m\u001b[1mwandb\u001b[0m: \toptimizer: adam\n",
      "\u001b[34m\u001b[1mwandb\u001b[0m: \tw_init: random\n",
      "\u001b[34m\u001b[1mwandb\u001b[0m: \tweight_decay: 0\n"
     ]
    },
    {
     "data": {
      "text/html": [
       "Tracking run with wandb version 0.16.4"
      ],
      "text/plain": [
       "<IPython.core.display.HTML object>"
      ]
     },
     "metadata": {},
     "output_type": "display_data"
    },
    {
     "data": {
      "text/html": [
       "Run data is saved locally in <code>/Users/sumanta/Desktop/Numpy project/mse_error_revised/wandb/run-20240317_174201-iro1l302</code>"
      ],
      "text/plain": [
       "<IPython.core.display.HTML object>"
      ]
     },
     "metadata": {},
     "output_type": "display_data"
    },
    {
     "data": {
      "text/html": [
       "Syncing run <strong><a href='https://wandb.ai/sumanta_roy/CS6910_assignment_1/runs/iro1l302' target=\"_blank\">stilted-sweep-35</a></strong> to <a href='https://wandb.ai/sumanta_roy/CS6910_assignment_1' target=\"_blank\">Weights & Biases</a> (<a href='https://wandb.me/run' target=\"_blank\">docs</a>)<br/>Sweep page: <a href='https://wandb.ai/sumanta_roy/CS6910_assignment_1/sweeps/etqoz0cb' target=\"_blank\">https://wandb.ai/sumanta_roy/CS6910_assignment_1/sweeps/etqoz0cb</a>"
      ],
      "text/plain": [
       "<IPython.core.display.HTML object>"
      ]
     },
     "metadata": {},
     "output_type": "display_data"
    },
    {
     "data": {
      "text/html": [
       " View project at <a href='https://wandb.ai/sumanta_roy/CS6910_assignment_1' target=\"_blank\">https://wandb.ai/sumanta_roy/CS6910_assignment_1</a>"
      ],
      "text/plain": [
       "<IPython.core.display.HTML object>"
      ]
     },
     "metadata": {},
     "output_type": "display_data"
    },
    {
     "data": {
      "text/html": [
       " View sweep at <a href='https://wandb.ai/sumanta_roy/CS6910_assignment_1/sweeps/etqoz0cb' target=\"_blank\">https://wandb.ai/sumanta_roy/CS6910_assignment_1/sweeps/etqoz0cb</a>"
      ],
      "text/plain": [
       "<IPython.core.display.HTML object>"
      ]
     },
     "metadata": {},
     "output_type": "display_data"
    },
    {
     "data": {
      "text/html": [
       " View run at <a href='https://wandb.ai/sumanta_roy/CS6910_assignment_1/runs/iro1l302' target=\"_blank\">https://wandb.ai/sumanta_roy/CS6910_assignment_1/runs/iro1l302</a>"
      ],
      "text/plain": [
       "<IPython.core.display.HTML object>"
      ]
     },
     "metadata": {},
     "output_type": "display_data"
    },
    {
     "name": "stdout",
     "output_type": "stream",
     "text": [
      "Epoch: 1/10; Train Loss: 0.01764106911372768; Val Loss: 0.027540489117167118\n",
      "Epoch: 2/10; Train Loss: 0.011771129657835139; Val Loss: 0.025642241214929463\n",
      "Epoch: 3/10; Train Loss: 0.01488855706969754; Val Loss: 0.023292579499467562\n",
      "Epoch: 4/10; Train Loss: 0.01182079897017881; Val Loss: 0.022796425403589254\n",
      "Epoch: 5/10; Train Loss: 0.01132640781873507; Val Loss: 0.022009653167326466\n",
      "Epoch: 6/10; Train Loss: 0.010411046951160245; Val Loss: 0.021736635215125807\n",
      "Epoch: 7/10; Train Loss: 0.010142636048969967; Val Loss: 0.02130449731703631\n",
      "Epoch: 8/10; Train Loss: 0.008697436881320294; Val Loss: 0.021135086025742985\n",
      "Epoch: 9/10; Train Loss: 0.00927000947510036; Val Loss: 0.020642186892172648\n",
      "Epoch: 10/10; Train Loss: 0.008716402848512352; Val Loss: 0.021008365139987294\n"
     ]
    },
    {
     "data": {
      "application/vnd.jupyter.widget-view+json": {
       "model_id": "",
       "version_major": 2,
       "version_minor": 0
      },
      "text/plain": [
       "VBox(children=(Label(value='0.001 MB of 0.001 MB uploaded\\r'), FloatProgress(value=1.0, max=1.0)))"
      ]
     },
     "metadata": {},
     "output_type": "display_data"
    },
    {
     "data": {
      "text/html": [
       "<style>\n",
       "    table.wandb td:nth-child(1) { padding: 0 10px; text-align: left ; width: auto;} td:nth-child(2) {text-align: left ; width: 100%}\n",
       "    .wandb-row { display: flex; flex-direction: row; flex-wrap: wrap; justify-content: flex-start; width: 100% }\n",
       "    .wandb-col { display: flex; flex-direction: column; flex-basis: 100%; flex: 1; padding: 10px; }\n",
       "    </style>\n",
       "<div class=\"wandb-row\"><div class=\"wandb-col\"><h3>Run history:</h3><br/><table class=\"wandb\"><tr><td>epoch</td><td>▁▁▁▁▂▂▂▂▃▃▃▃▃▃▃▃▄▄▄▄▅▅▅▅▆▆▆▆▆▆▆▆▇▇▇▇████</td></tr><tr><td>train_accuracy</td><td>▅▂▅▃▅▇▄▅▆▇█▁▅▅▂▅▇▇▇▃█▇▅▅▇▇▇▄▇▇▅▇▇██▅▇▇▅▇</td></tr><tr><td>train_loss</td><td>▅▇▅▆▄▃▇▄▃▃▃█▃▃█▄▃▂▂▇▂▂▄▃▂▂▂▆▂▃▄▃▂▂▁▅▃▂▄▂</td></tr><tr><td>val_accuracy</td><td>▁▃▄▄▆▆▆▆▆▇▆▇▇▇▇▇▇▇▇█▇█▇███▇█████████████</td></tr><tr><td>validation_loss</td><td>█▆▄▄▃▃▃▃▃▂▂▂▂▂▂▂▂▂▂▁▂▁▂▁▁▁▁▁▁▁▁▁▁▁▁▁▁▁▁▁</td></tr></table><br/></div><div class=\"wandb-col\"><h3>Run summary:</h3><br/><table class=\"wandb\"><tr><td>epoch</td><td>10</td></tr><tr><td>train_accuracy</td><td>93.75</td></tr><tr><td>train_loss</td><td>0.00872</td></tr><tr><td>val_accuracy</td><td>85.36667</td></tr><tr><td>validation_loss</td><td>0.02101</td></tr></table><br/></div></div>"
      ],
      "text/plain": [
       "<IPython.core.display.HTML object>"
      ]
     },
     "metadata": {},
     "output_type": "display_data"
    },
    {
     "data": {
      "text/html": [
       " View run <strong style=\"color:#cdcd00\">stilted-sweep-35</strong> at: <a href='https://wandb.ai/sumanta_roy/CS6910_assignment_1/runs/iro1l302' target=\"_blank\">https://wandb.ai/sumanta_roy/CS6910_assignment_1/runs/iro1l302</a><br/>Synced 6 W&B file(s), 0 media file(s), 0 artifact file(s) and 0 other file(s)"
      ],
      "text/plain": [
       "<IPython.core.display.HTML object>"
      ]
     },
     "metadata": {},
     "output_type": "display_data"
    },
    {
     "data": {
      "text/html": [
       "Find logs at: <code>./wandb/run-20240317_174201-iro1l302/logs</code>"
      ],
      "text/plain": [
       "<IPython.core.display.HTML object>"
      ]
     },
     "metadata": {},
     "output_type": "display_data"
    },
    {
     "name": "stderr",
     "output_type": "stream",
     "text": [
      "\u001b[34m\u001b[1mwandb\u001b[0m: Sweep Agent: Waiting for job.\n",
      "\u001b[34m\u001b[1mwandb\u001b[0m: Job received.\n",
      "\u001b[34m\u001b[1mwandb\u001b[0m: Agent Starting Run: tfm452bi with config:\n",
      "\u001b[34m\u001b[1mwandb\u001b[0m: \tactivation: tanh\n",
      "\u001b[34m\u001b[1mwandb\u001b[0m: \tbatch_size: 32\n",
      "\u001b[34m\u001b[1mwandb\u001b[0m: \tepochs: 10\n",
      "\u001b[34m\u001b[1mwandb\u001b[0m: \thidden_layers: 4\n",
      "\u001b[34m\u001b[1mwandb\u001b[0m: \thidden_size: 128\n",
      "\u001b[34m\u001b[1mwandb\u001b[0m: \tloss: mse\n",
      "\u001b[34m\u001b[1mwandb\u001b[0m: \tlr: 0.0001\n",
      "\u001b[34m\u001b[1mwandb\u001b[0m: \toptimizer: nadam\n",
      "\u001b[34m\u001b[1mwandb\u001b[0m: \tw_init: glorot\n",
      "\u001b[34m\u001b[1mwandb\u001b[0m: \tweight_decay: 0\n"
     ]
    },
    {
     "data": {
      "text/html": [
       "Tracking run with wandb version 0.16.4"
      ],
      "text/plain": [
       "<IPython.core.display.HTML object>"
      ]
     },
     "metadata": {},
     "output_type": "display_data"
    },
    {
     "data": {
      "text/html": [
       "Run data is saved locally in <code>/Users/sumanta/Desktop/Numpy project/mse_error_revised/wandb/run-20240317_174455-tfm452bi</code>"
      ],
      "text/plain": [
       "<IPython.core.display.HTML object>"
      ]
     },
     "metadata": {},
     "output_type": "display_data"
    },
    {
     "data": {
      "text/html": [
       "Syncing run <strong><a href='https://wandb.ai/sumanta_roy/CS6910_assignment_1/runs/tfm452bi' target=\"_blank\">iconic-sweep-36</a></strong> to <a href='https://wandb.ai/sumanta_roy/CS6910_assignment_1' target=\"_blank\">Weights & Biases</a> (<a href='https://wandb.me/run' target=\"_blank\">docs</a>)<br/>Sweep page: <a href='https://wandb.ai/sumanta_roy/CS6910_assignment_1/sweeps/etqoz0cb' target=\"_blank\">https://wandb.ai/sumanta_roy/CS6910_assignment_1/sweeps/etqoz0cb</a>"
      ],
      "text/plain": [
       "<IPython.core.display.HTML object>"
      ]
     },
     "metadata": {},
     "output_type": "display_data"
    },
    {
     "data": {
      "text/html": [
       " View project at <a href='https://wandb.ai/sumanta_roy/CS6910_assignment_1' target=\"_blank\">https://wandb.ai/sumanta_roy/CS6910_assignment_1</a>"
      ],
      "text/plain": [
       "<IPython.core.display.HTML object>"
      ]
     },
     "metadata": {},
     "output_type": "display_data"
    },
    {
     "data": {
      "text/html": [
       " View sweep at <a href='https://wandb.ai/sumanta_roy/CS6910_assignment_1/sweeps/etqoz0cb' target=\"_blank\">https://wandb.ai/sumanta_roy/CS6910_assignment_1/sweeps/etqoz0cb</a>"
      ],
      "text/plain": [
       "<IPython.core.display.HTML object>"
      ]
     },
     "metadata": {},
     "output_type": "display_data"
    },
    {
     "data": {
      "text/html": [
       " View run at <a href='https://wandb.ai/sumanta_roy/CS6910_assignment_1/runs/tfm452bi' target=\"_blank\">https://wandb.ai/sumanta_roy/CS6910_assignment_1/runs/tfm452bi</a>"
      ],
      "text/plain": [
       "<IPython.core.display.HTML object>"
      ]
     },
     "metadata": {},
     "output_type": "display_data"
    },
    {
     "name": "stdout",
     "output_type": "stream",
     "text": [
      "Epoch: 1/10; Train Loss: 0.03755121157886534; Val Loss: 0.038310429264488195\n",
      "Epoch: 2/10; Train Loss: 0.026575269625996666; Val Loss: 0.03198297731482925\n",
      "Epoch: 3/10; Train Loss: 0.020679301613354968; Val Loss: 0.028743453901427806\n",
      "Epoch: 4/10; Train Loss: 0.017394805352461754; Val Loss: 0.026845370195628035\n",
      "Epoch: 5/10; Train Loss: 0.015499175105120905; Val Loss: 0.025626624600966926\n",
      "Epoch: 6/10; Train Loss: 0.01430397619062199; Val Loss: 0.024772177843004808\n",
      "Epoch: 7/10; Train Loss: 0.013476456654981563; Val Loss: 0.024125620260508702\n",
      "Epoch: 8/10; Train Loss: 0.01286908135953175; Val Loss: 0.02360668025894187\n",
      "Epoch: 9/10; Train Loss: 0.012411637455151881; Val Loss: 0.02317187867483629\n",
      "Epoch: 10/10; Train Loss: 0.012064470295737682; Val Loss: 0.022796157500786045\n"
     ]
    },
    {
     "data": {
      "application/vnd.jupyter.widget-view+json": {
       "model_id": "",
       "version_major": 2,
       "version_minor": 0
      },
      "text/plain": [
       "VBox(children=(Label(value='0.001 MB of 0.027 MB uploaded\\r'), FloatProgress(value=0.027242454300694347, max=1…"
      ]
     },
     "metadata": {},
     "output_type": "display_data"
    },
    {
     "data": {
      "text/html": [
       "<style>\n",
       "    table.wandb td:nth-child(1) { padding: 0 10px; text-align: left ; width: auto;} td:nth-child(2) {text-align: left ; width: 100%}\n",
       "    .wandb-row { display: flex; flex-direction: row; flex-wrap: wrap; justify-content: flex-start; width: 100% }\n",
       "    .wandb-col { display: flex; flex-direction: column; flex-basis: 100%; flex: 1; padding: 10px; }\n",
       "    </style>\n",
       "<div class=\"wandb-row\"><div class=\"wandb-col\"><h3>Run history:</h3><br/><table class=\"wandb\"><tr><td>epoch</td><td>▁▁▁▁▂▂▂▂▃▃▃▃▃▃▃▃▄▄▄▄▅▅▅▅▆▆▆▆▆▆▆▆▇▇▇▇████</td></tr><tr><td>train_accuracy</td><td>▄▁▂▄▁▃▄▃▅▅▄▂▄▃▅▅▅▅▅▃▅▅▁▅▇▇▆▃▅▅▃▅▆▇▆▃▅▅▃█</td></tr><tr><td>train_loss</td><td>█▇▆▅▆▅▆▅▃▄▄▇▄▄▄▃▂▃▃▆▃▃▅▃▂▃▂▅▃▃▄▃▂▂▂▅▃▃▄▁</td></tr><tr><td>val_accuracy</td><td>▁▃▄▄▅▅▆▆▆▆▇▇▇▇▇▇▇▇▇▇███▇████████████████</td></tr><tr><td>validation_loss</td><td>█▆▅▄▄▃▃▃▃▂▂▂▂▂▂▂▂▂▂▂▂▁▁▁▁▁▁▁▁▁▁▁▁▁▁▁▁▁▁▁</td></tr></table><br/></div><div class=\"wandb-col\"><h3>Run summary:</h3><br/><table class=\"wandb\"><tr><td>epoch</td><td>10</td></tr><tr><td>train_accuracy</td><td>93.75</td></tr><tr><td>train_loss</td><td>0.01206</td></tr><tr><td>val_accuracy</td><td>84.01667</td></tr><tr><td>validation_loss</td><td>0.0228</td></tr></table><br/></div></div>"
      ],
      "text/plain": [
       "<IPython.core.display.HTML object>"
      ]
     },
     "metadata": {},
     "output_type": "display_data"
    },
    {
     "data": {
      "text/html": [
       " View run <strong style=\"color:#cdcd00\">iconic-sweep-36</strong> at: <a href='https://wandb.ai/sumanta_roy/CS6910_assignment_1/runs/tfm452bi' target=\"_blank\">https://wandb.ai/sumanta_roy/CS6910_assignment_1/runs/tfm452bi</a><br/>Synced 6 W&B file(s), 0 media file(s), 0 artifact file(s) and 0 other file(s)"
      ],
      "text/plain": [
       "<IPython.core.display.HTML object>"
      ]
     },
     "metadata": {},
     "output_type": "display_data"
    },
    {
     "data": {
      "text/html": [
       "Find logs at: <code>./wandb/run-20240317_174455-tfm452bi/logs</code>"
      ],
      "text/plain": [
       "<IPython.core.display.HTML object>"
      ]
     },
     "metadata": {},
     "output_type": "display_data"
    },
    {
     "name": "stderr",
     "output_type": "stream",
     "text": [
      "\u001b[34m\u001b[1mwandb\u001b[0m: Agent Starting Run: exnftplq with config:\n",
      "\u001b[34m\u001b[1mwandb\u001b[0m: \tactivation: tanh\n",
      "\u001b[34m\u001b[1mwandb\u001b[0m: \tbatch_size: 64\n",
      "\u001b[34m\u001b[1mwandb\u001b[0m: \tepochs: 10\n",
      "\u001b[34m\u001b[1mwandb\u001b[0m: \thidden_layers: 5\n",
      "\u001b[34m\u001b[1mwandb\u001b[0m: \thidden_size: 128\n",
      "\u001b[34m\u001b[1mwandb\u001b[0m: \tloss: mse\n",
      "\u001b[34m\u001b[1mwandb\u001b[0m: \tlr: 0.0001\n",
      "\u001b[34m\u001b[1mwandb\u001b[0m: \toptimizer: nadam\n",
      "\u001b[34m\u001b[1mwandb\u001b[0m: \tw_init: glorot\n",
      "\u001b[34m\u001b[1mwandb\u001b[0m: \tweight_decay: 0\n"
     ]
    },
    {
     "data": {
      "text/html": [
       "Tracking run with wandb version 0.16.4"
      ],
      "text/plain": [
       "<IPython.core.display.HTML object>"
      ]
     },
     "metadata": {},
     "output_type": "display_data"
    },
    {
     "data": {
      "text/html": [
       "Run data is saved locally in <code>/Users/sumanta/Desktop/Numpy project/mse_error_revised/wandb/run-20240317_174723-exnftplq</code>"
      ],
      "text/plain": [
       "<IPython.core.display.HTML object>"
      ]
     },
     "metadata": {},
     "output_type": "display_data"
    },
    {
     "data": {
      "text/html": [
       "Syncing run <strong><a href='https://wandb.ai/sumanta_roy/CS6910_assignment_1/runs/exnftplq' target=\"_blank\">stoic-sweep-37</a></strong> to <a href='https://wandb.ai/sumanta_roy/CS6910_assignment_1' target=\"_blank\">Weights & Biases</a> (<a href='https://wandb.me/run' target=\"_blank\">docs</a>)<br/>Sweep page: <a href='https://wandb.ai/sumanta_roy/CS6910_assignment_1/sweeps/etqoz0cb' target=\"_blank\">https://wandb.ai/sumanta_roy/CS6910_assignment_1/sweeps/etqoz0cb</a>"
      ],
      "text/plain": [
       "<IPython.core.display.HTML object>"
      ]
     },
     "metadata": {},
     "output_type": "display_data"
    },
    {
     "data": {
      "text/html": [
       " View project at <a href='https://wandb.ai/sumanta_roy/CS6910_assignment_1' target=\"_blank\">https://wandb.ai/sumanta_roy/CS6910_assignment_1</a>"
      ],
      "text/plain": [
       "<IPython.core.display.HTML object>"
      ]
     },
     "metadata": {},
     "output_type": "display_data"
    },
    {
     "data": {
      "text/html": [
       " View sweep at <a href='https://wandb.ai/sumanta_roy/CS6910_assignment_1/sweeps/etqoz0cb' target=\"_blank\">https://wandb.ai/sumanta_roy/CS6910_assignment_1/sweeps/etqoz0cb</a>"
      ],
      "text/plain": [
       "<IPython.core.display.HTML object>"
      ]
     },
     "metadata": {},
     "output_type": "display_data"
    },
    {
     "data": {
      "text/html": [
       " View run at <a href='https://wandb.ai/sumanta_roy/CS6910_assignment_1/runs/exnftplq' target=\"_blank\">https://wandb.ai/sumanta_roy/CS6910_assignment_1/runs/exnftplq</a>"
      ],
      "text/plain": [
       "<IPython.core.display.HTML object>"
      ]
     },
     "metadata": {},
     "output_type": "display_data"
    },
    {
     "name": "stdout",
     "output_type": "stream",
     "text": [
      "Epoch: 1/10; Train Loss: 0.033339173004344136; Val Loss: 0.03984844386258543\n",
      "Epoch: 2/10; Train Loss: 0.02596839041911081; Val Loss: 0.03382936590635713\n",
      "Epoch: 3/10; Train Loss: 0.021842279102495577; Val Loss: 0.03043013780501967\n",
      "Epoch: 4/10; Train Loss: 0.019235778095659736; Val Loss: 0.028221348197090046\n",
      "Epoch: 5/10; Train Loss: 0.017591698120737544; Val Loss: 0.026729033068391667\n",
      "Epoch: 6/10; Train Loss: 0.016533675210357698; Val Loss: 0.025675581176714743\n",
      "Epoch: 7/10; Train Loss: 0.015837845513159723; Val Loss: 0.024893203157138957\n",
      "Epoch: 8/10; Train Loss: 0.015373500763050593; Val Loss: 0.024282449235435617\n",
      "Epoch: 9/10; Train Loss: 0.015060191881758245; Val Loss: 0.023785051917674275\n",
      "Epoch: 10/10; Train Loss: 0.014846974107956745; Val Loss: 0.02336642691352694\n"
     ]
    },
    {
     "data": {
      "application/vnd.jupyter.widget-view+json": {
       "model_id": "",
       "version_major": 2,
       "version_minor": 0
      },
      "text/plain": [
       "VBox(children=(Label(value='0.001 MB of 0.001 MB uploaded\\r'), FloatProgress(value=1.0, max=1.0)))"
      ]
     },
     "metadata": {},
     "output_type": "display_data"
    },
    {
     "data": {
      "text/html": [
       "<style>\n",
       "    table.wandb td:nth-child(1) { padding: 0 10px; text-align: left ; width: auto;} td:nth-child(2) {text-align: left ; width: 100%}\n",
       "    .wandb-row { display: flex; flex-direction: row; flex-wrap: wrap; justify-content: flex-start; width: 100% }\n",
       "    .wandb-col { display: flex; flex-direction: column; flex-basis: 100%; flex: 1; padding: 10px; }\n",
       "    </style>\n",
       "<div class=\"wandb-row\"><div class=\"wandb-col\"><h3>Run history:</h3><br/><table class=\"wandb\"><tr><td>epoch</td><td>▁▁▁▁▂▂▂▂▃▃▃▃▃▃▃▃▄▄▄▄▅▅▅▅▆▆▆▆▆▆▆▆▇▇▇▇████</td></tr><tr><td>train_accuracy</td><td>▁▄▄▆▃▅▆▅▆▆▄▃▆▆▆▇▅▇▅▆▆▅▇▇▆▅▇▆█▆▄▇▆█▆▇█▅▇▇</td></tr><tr><td>train_loss</td><td>█▆▅▄▆▄▃▄▄▃▄▄▃▂▃▃▄▂▃▂▃▃▂▂▃▃▂▃▁▃▄▂▃▁▂▂▂▃▁▁</td></tr><tr><td>val_accuracy</td><td>▁▂▃▄▄▅▅▅▆▆▆▆▇▇▇▇▇▇▇▇▇▇▇▇███▇████████████</td></tr><tr><td>validation_loss</td><td>█▆▅▄▄▃▃▃▃▃▂▂▂▂▂▂▂▂▂▂▂▁▁▁▁▁▁▁▁▁▁▁▁▁▁▁▁▁▁▁</td></tr></table><br/></div><div class=\"wandb-col\"><h3>Run summary:</h3><br/><table class=\"wandb\"><tr><td>epoch</td><td>10</td></tr><tr><td>train_accuracy</td><td>90.625</td></tr><tr><td>train_loss</td><td>0.01485</td></tr><tr><td>val_accuracy</td><td>83.48333</td></tr><tr><td>validation_loss</td><td>0.02337</td></tr></table><br/></div></div>"
      ],
      "text/plain": [
       "<IPython.core.display.HTML object>"
      ]
     },
     "metadata": {},
     "output_type": "display_data"
    },
    {
     "data": {
      "text/html": [
       " View run <strong style=\"color:#cdcd00\">stoic-sweep-37</strong> at: <a href='https://wandb.ai/sumanta_roy/CS6910_assignment_1/runs/exnftplq' target=\"_blank\">https://wandb.ai/sumanta_roy/CS6910_assignment_1/runs/exnftplq</a><br/>Synced 6 W&B file(s), 0 media file(s), 0 artifact file(s) and 0 other file(s)"
      ],
      "text/plain": [
       "<IPython.core.display.HTML object>"
      ]
     },
     "metadata": {},
     "output_type": "display_data"
    },
    {
     "data": {
      "text/html": [
       "Find logs at: <code>./wandb/run-20240317_174723-exnftplq/logs</code>"
      ],
      "text/plain": [
       "<IPython.core.display.HTML object>"
      ]
     },
     "metadata": {},
     "output_type": "display_data"
    },
    {
     "name": "stderr",
     "output_type": "stream",
     "text": [
      "\u001b[34m\u001b[1mwandb\u001b[0m: Sweep Agent: Waiting for job.\n",
      "\u001b[34m\u001b[1mwandb\u001b[0m: Job received.\n",
      "\u001b[34m\u001b[1mwandb\u001b[0m: Agent Starting Run: ioag7xb7 with config:\n",
      "\u001b[34m\u001b[1mwandb\u001b[0m: \tactivation: tanh\n",
      "\u001b[34m\u001b[1mwandb\u001b[0m: \tbatch_size: 64\n",
      "\u001b[34m\u001b[1mwandb\u001b[0m: \tepochs: 10\n",
      "\u001b[34m\u001b[1mwandb\u001b[0m: \thidden_layers: 5\n",
      "\u001b[34m\u001b[1mwandb\u001b[0m: \thidden_size: 128\n",
      "\u001b[34m\u001b[1mwandb\u001b[0m: \tloss: mse\n",
      "\u001b[34m\u001b[1mwandb\u001b[0m: \tlr: 0.0001\n",
      "\u001b[34m\u001b[1mwandb\u001b[0m: \toptimizer: adam\n",
      "\u001b[34m\u001b[1mwandb\u001b[0m: \tw_init: random\n",
      "\u001b[34m\u001b[1mwandb\u001b[0m: \tweight_decay: 0\n"
     ]
    },
    {
     "data": {
      "text/html": [
       "Tracking run with wandb version 0.16.4"
      ],
      "text/plain": [
       "<IPython.core.display.HTML object>"
      ]
     },
     "metadata": {},
     "output_type": "display_data"
    },
    {
     "data": {
      "text/html": [
       "Run data is saved locally in <code>/Users/sumanta/Desktop/Numpy project/mse_error_revised/wandb/run-20240317_174945-ioag7xb7</code>"
      ],
      "text/plain": [
       "<IPython.core.display.HTML object>"
      ]
     },
     "metadata": {},
     "output_type": "display_data"
    },
    {
     "data": {
      "text/html": [
       "Syncing run <strong><a href='https://wandb.ai/sumanta_roy/CS6910_assignment_1/runs/ioag7xb7' target=\"_blank\">magic-sweep-38</a></strong> to <a href='https://wandb.ai/sumanta_roy/CS6910_assignment_1' target=\"_blank\">Weights & Biases</a> (<a href='https://wandb.me/run' target=\"_blank\">docs</a>)<br/>Sweep page: <a href='https://wandb.ai/sumanta_roy/CS6910_assignment_1/sweeps/etqoz0cb' target=\"_blank\">https://wandb.ai/sumanta_roy/CS6910_assignment_1/sweeps/etqoz0cb</a>"
      ],
      "text/plain": [
       "<IPython.core.display.HTML object>"
      ]
     },
     "metadata": {},
     "output_type": "display_data"
    },
    {
     "data": {
      "text/html": [
       " View project at <a href='https://wandb.ai/sumanta_roy/CS6910_assignment_1' target=\"_blank\">https://wandb.ai/sumanta_roy/CS6910_assignment_1</a>"
      ],
      "text/plain": [
       "<IPython.core.display.HTML object>"
      ]
     },
     "metadata": {},
     "output_type": "display_data"
    },
    {
     "data": {
      "text/html": [
       " View sweep at <a href='https://wandb.ai/sumanta_roy/CS6910_assignment_1/sweeps/etqoz0cb' target=\"_blank\">https://wandb.ai/sumanta_roy/CS6910_assignment_1/sweeps/etqoz0cb</a>"
      ],
      "text/plain": [
       "<IPython.core.display.HTML object>"
      ]
     },
     "metadata": {},
     "output_type": "display_data"
    },
    {
     "data": {
      "text/html": [
       " View run at <a href='https://wandb.ai/sumanta_roy/CS6910_assignment_1/runs/ioag7xb7' target=\"_blank\">https://wandb.ai/sumanta_roy/CS6910_assignment_1/runs/ioag7xb7</a>"
      ],
      "text/plain": [
       "<IPython.core.display.HTML object>"
      ]
     },
     "metadata": {},
     "output_type": "display_data"
    },
    {
     "name": "stdout",
     "output_type": "stream",
     "text": [
      "Epoch: 1/10; Train Loss: 0.04202311395810678; Val Loss: 0.047420293646524676\n",
      "Epoch: 2/10; Train Loss: 0.035855285288571036; Val Loss: 0.041027638669576996\n",
      "Epoch: 3/10; Train Loss: 0.03455271772666092; Val Loss: 0.03782253053230982\n",
      "Epoch: 4/10; Train Loss: 0.03269449139484289; Val Loss: 0.03576765361495265\n",
      "Epoch: 5/10; Train Loss: 0.03100059087572681; Val Loss: 0.034338158082231326\n",
      "Epoch: 6/10; Train Loss: 0.02929702233214739; Val Loss: 0.033272708979227135\n",
      "Epoch: 7/10; Train Loss: 0.027699107414229346; Val Loss: 0.03239949325333608\n",
      "Epoch: 8/10; Train Loss: 0.026086807384630088; Val Loss: 0.031646752494617944\n",
      "Epoch: 9/10; Train Loss: 0.02457121504753612; Val Loss: 0.031000764391453887\n",
      "Epoch: 10/10; Train Loss: 0.023254541453145337; Val Loss: 0.030452216192955853\n"
     ]
    },
    {
     "data": {
      "application/vnd.jupyter.widget-view+json": {
       "model_id": "",
       "version_major": 2,
       "version_minor": 0
      },
      "text/plain": [
       "VBox(children=(Label(value='0.001 MB of 0.009 MB uploaded\\r'), FloatProgress(value=0.07887179487179487, max=1.…"
      ]
     },
     "metadata": {},
     "output_type": "display_data"
    },
    {
     "data": {
      "text/html": [
       "<style>\n",
       "    table.wandb td:nth-child(1) { padding: 0 10px; text-align: left ; width: auto;} td:nth-child(2) {text-align: left ; width: 100%}\n",
       "    .wandb-row { display: flex; flex-direction: row; flex-wrap: wrap; justify-content: flex-start; width: 100% }\n",
       "    .wandb-col { display: flex; flex-direction: column; flex-basis: 100%; flex: 1; padding: 10px; }\n",
       "    </style>\n",
       "<div class=\"wandb-row\"><div class=\"wandb-col\"><h3>Run history:</h3><br/><table class=\"wandb\"><tr><td>epoch</td><td>▁▁▁▁▂▂▂▂▃▃▃▃▃▃▃▃▄▄▄▄▅▅▅▅▆▆▆▆▆▆▆▆▇▇▇▇████</td></tr><tr><td>train_accuracy</td><td>▁▁▃▅▄▃▆▄▅▃▅▅▄▆▆▆▅▆▆▆▅▅▅▇▅▄▇▆▇▆▅▅▅▆▆▆▆▆▇█</td></tr><tr><td>train_loss</td><td>██▇▅▆▆▃▅▄▅▄▄▅▃▃▃▄▃▃▃▃▄▄▂▃▄▂▃▂▃▅▃▃▂▃▃▂▃▂▁</td></tr><tr><td>val_accuracy</td><td>▁▃▄▅▅▆▆▆▆▆▇▇▇▇▇▇▇▇▇▇▇▇▇█████████████████</td></tr><tr><td>validation_loss</td><td>█▆▅▄▄▃▃▃▃▃▂▂▂▂▂▂▂▂▂▂▂▂▂▁▁▁▁▁▁▁▁▁▁▁▁▁▁▁▁▁</td></tr></table><br/></div><div class=\"wandb-col\"><h3>Run summary:</h3><br/><table class=\"wandb\"><tr><td>epoch</td><td>10</td></tr><tr><td>train_accuracy</td><td>81.25</td></tr><tr><td>train_loss</td><td>0.02325</td></tr><tr><td>val_accuracy</td><td>78.38333</td></tr><tr><td>validation_loss</td><td>0.03045</td></tr></table><br/></div></div>"
      ],
      "text/plain": [
       "<IPython.core.display.HTML object>"
      ]
     },
     "metadata": {},
     "output_type": "display_data"
    },
    {
     "data": {
      "text/html": [
       " View run <strong style=\"color:#cdcd00\">magic-sweep-38</strong> at: <a href='https://wandb.ai/sumanta_roy/CS6910_assignment_1/runs/ioag7xb7' target=\"_blank\">https://wandb.ai/sumanta_roy/CS6910_assignment_1/runs/ioag7xb7</a><br/>Synced 6 W&B file(s), 0 media file(s), 0 artifact file(s) and 0 other file(s)"
      ],
      "text/plain": [
       "<IPython.core.display.HTML object>"
      ]
     },
     "metadata": {},
     "output_type": "display_data"
    },
    {
     "data": {
      "text/html": [
       "Find logs at: <code>./wandb/run-20240317_174945-ioag7xb7/logs</code>"
      ],
      "text/plain": [
       "<IPython.core.display.HTML object>"
      ]
     },
     "metadata": {},
     "output_type": "display_data"
    },
    {
     "name": "stderr",
     "output_type": "stream",
     "text": [
      "\u001b[34m\u001b[1mwandb\u001b[0m: Agent Starting Run: 75q12gxc with config:\n",
      "\u001b[34m\u001b[1mwandb\u001b[0m: \tactivation: tanh\n",
      "\u001b[34m\u001b[1mwandb\u001b[0m: \tbatch_size: 64\n",
      "\u001b[34m\u001b[1mwandb\u001b[0m: \tepochs: 10\n",
      "\u001b[34m\u001b[1mwandb\u001b[0m: \thidden_layers: 5\n",
      "\u001b[34m\u001b[1mwandb\u001b[0m: \thidden_size: 128\n",
      "\u001b[34m\u001b[1mwandb\u001b[0m: \tloss: mse\n",
      "\u001b[34m\u001b[1mwandb\u001b[0m: \tlr: 0.0001\n",
      "\u001b[34m\u001b[1mwandb\u001b[0m: \toptimizer: adam\n",
      "\u001b[34m\u001b[1mwandb\u001b[0m: \tw_init: glorot\n",
      "\u001b[34m\u001b[1mwandb\u001b[0m: \tweight_decay: 0\n"
     ]
    },
    {
     "data": {
      "text/html": [
       "Tracking run with wandb version 0.16.4"
      ],
      "text/plain": [
       "<IPython.core.display.HTML object>"
      ]
     },
     "metadata": {},
     "output_type": "display_data"
    },
    {
     "data": {
      "text/html": [
       "Run data is saved locally in <code>/Users/sumanta/Desktop/Numpy project/mse_error_revised/wandb/run-20240317_175150-75q12gxc</code>"
      ],
      "text/plain": [
       "<IPython.core.display.HTML object>"
      ]
     },
     "metadata": {},
     "output_type": "display_data"
    },
    {
     "data": {
      "text/html": [
       "Syncing run <strong><a href='https://wandb.ai/sumanta_roy/CS6910_assignment_1/runs/75q12gxc' target=\"_blank\">happy-sweep-39</a></strong> to <a href='https://wandb.ai/sumanta_roy/CS6910_assignment_1' target=\"_blank\">Weights & Biases</a> (<a href='https://wandb.me/run' target=\"_blank\">docs</a>)<br/>Sweep page: <a href='https://wandb.ai/sumanta_roy/CS6910_assignment_1/sweeps/etqoz0cb' target=\"_blank\">https://wandb.ai/sumanta_roy/CS6910_assignment_1/sweeps/etqoz0cb</a>"
      ],
      "text/plain": [
       "<IPython.core.display.HTML object>"
      ]
     },
     "metadata": {},
     "output_type": "display_data"
    },
    {
     "data": {
      "text/html": [
       " View project at <a href='https://wandb.ai/sumanta_roy/CS6910_assignment_1' target=\"_blank\">https://wandb.ai/sumanta_roy/CS6910_assignment_1</a>"
      ],
      "text/plain": [
       "<IPython.core.display.HTML object>"
      ]
     },
     "metadata": {},
     "output_type": "display_data"
    },
    {
     "data": {
      "text/html": [
       " View sweep at <a href='https://wandb.ai/sumanta_roy/CS6910_assignment_1/sweeps/etqoz0cb' target=\"_blank\">https://wandb.ai/sumanta_roy/CS6910_assignment_1/sweeps/etqoz0cb</a>"
      ],
      "text/plain": [
       "<IPython.core.display.HTML object>"
      ]
     },
     "metadata": {},
     "output_type": "display_data"
    },
    {
     "data": {
      "text/html": [
       " View run at <a href='https://wandb.ai/sumanta_roy/CS6910_assignment_1/runs/75q12gxc' target=\"_blank\">https://wandb.ai/sumanta_roy/CS6910_assignment_1/runs/75q12gxc</a>"
      ],
      "text/plain": [
       "<IPython.core.display.HTML object>"
      ]
     },
     "metadata": {},
     "output_type": "display_data"
    },
    {
     "name": "stdout",
     "output_type": "stream",
     "text": [
      "Epoch: 1/10; Train Loss: 0.017829056432376988; Val Loss: 0.0239273762608413\n",
      "Epoch: 2/10; Train Loss: 0.017105915146364874; Val Loss: 0.02195939658123344\n",
      "Epoch: 3/10; Train Loss: 0.01710451079958964; Val Loss: 0.02096474291252864\n",
      "Epoch: 4/10; Train Loss: 0.01715638672341358; Val Loss: 0.020289671032244504\n",
      "Epoch: 5/10; Train Loss: 0.017197518021047447; Val Loss: 0.019799392903607254\n",
      "Epoch: 6/10; Train Loss: 0.01721195821816096; Val Loss: 0.019428712047084434\n",
      "Epoch: 7/10; Train Loss: 0.017196710551226364; Val Loss: 0.019133135149628284\n",
      "Epoch: 8/10; Train Loss: 0.01715753683047405; Val Loss: 0.018885489044466533\n",
      "Epoch: 9/10; Train Loss: 0.017100808081628387; Val Loss: 0.018670572220258187\n",
      "Epoch: 10/10; Train Loss: 0.017030932097349082; Val Loss: 0.018479660311537333\n"
     ]
    },
    {
     "data": {
      "application/vnd.jupyter.widget-view+json": {
       "model_id": "",
       "version_major": 2,
       "version_minor": 0
      },
      "text/plain": [
       "VBox(children=(Label(value='0.001 MB of 0.001 MB uploaded\\r'), FloatProgress(value=1.0, max=1.0)))"
      ]
     },
     "metadata": {},
     "output_type": "display_data"
    },
    {
     "data": {
      "text/html": [
       "<style>\n",
       "    table.wandb td:nth-child(1) { padding: 0 10px; text-align: left ; width: auto;} td:nth-child(2) {text-align: left ; width: 100%}\n",
       "    .wandb-row { display: flex; flex-direction: row; flex-wrap: wrap; justify-content: flex-start; width: 100% }\n",
       "    .wandb-col { display: flex; flex-direction: column; flex-basis: 100%; flex: 1; padding: 10px; }\n",
       "    </style>\n",
       "<div class=\"wandb-row\"><div class=\"wandb-col\"><h3>Run history:</h3><br/><table class=\"wandb\"><tr><td>epoch</td><td>▁▁▁▁▂▂▂▂▃▃▃▃▃▃▃▃▄▄▄▄▅▅▅▅▆▆▆▆▆▆▆▆▇▇▇▇████</td></tr><tr><td>train_accuracy</td><td>▁▆▅▇▄▄▆▆▄▆▅▅▅▆▆▆▄█▆▇▆▅▇▇▅▅▆▆▇▄▄▆█▇▇▇▆▄▆█</td></tr><tr><td>train_loss</td><td>█▄▅▃▅▆▃▄▄▃▄▅▄▃▄▃▆▂▄▂▂▄▂▂▅▅▃▃▂▅▅▃▂▂▂▃▃▅▂▁</td></tr><tr><td>val_accuracy</td><td>▁▃▅▅▆▆▆▆▇▆▆▇▇▇▇▇▇▇▇▇▇▇▇▇▇▇█████▇█▇██████</td></tr><tr><td>validation_loss</td><td>█▆▄▃▃▃▃▃▂▂▂▂▂▂▂▂▂▂▂▂▂▂▁▂▁▁▁▁▁▁▁▂▁▁▁▁▁▁▁▁</td></tr></table><br/></div><div class=\"wandb-col\"><h3>Run summary:</h3><br/><table class=\"wandb\"><tr><td>epoch</td><td>10</td></tr><tr><td>train_accuracy</td><td>89.0625</td></tr><tr><td>train_loss</td><td>0.01703</td></tr><tr><td>val_accuracy</td><td>87.2</td></tr><tr><td>validation_loss</td><td>0.01848</td></tr></table><br/></div></div>"
      ],
      "text/plain": [
       "<IPython.core.display.HTML object>"
      ]
     },
     "metadata": {},
     "output_type": "display_data"
    },
    {
     "data": {
      "text/html": [
       " View run <strong style=\"color:#cdcd00\">happy-sweep-39</strong> at: <a href='https://wandb.ai/sumanta_roy/CS6910_assignment_1/runs/75q12gxc' target=\"_blank\">https://wandb.ai/sumanta_roy/CS6910_assignment_1/runs/75q12gxc</a><br/>Synced 6 W&B file(s), 0 media file(s), 0 artifact file(s) and 0 other file(s)"
      ],
      "text/plain": [
       "<IPython.core.display.HTML object>"
      ]
     },
     "metadata": {},
     "output_type": "display_data"
    },
    {
     "data": {
      "text/html": [
       "Find logs at: <code>./wandb/run-20240317_175150-75q12gxc/logs</code>"
      ],
      "text/plain": [
       "<IPython.core.display.HTML object>"
      ]
     },
     "metadata": {},
     "output_type": "display_data"
    },
    {
     "name": "stderr",
     "output_type": "stream",
     "text": [
      "\u001b[34m\u001b[1mwandb\u001b[0m: Agent Starting Run: jyjv9p2j with config:\n",
      "\u001b[34m\u001b[1mwandb\u001b[0m: \tactivation: tanh\n",
      "\u001b[34m\u001b[1mwandb\u001b[0m: \tbatch_size: 16\n",
      "\u001b[34m\u001b[1mwandb\u001b[0m: \tepochs: 10\n",
      "\u001b[34m\u001b[1mwandb\u001b[0m: \thidden_layers: 4\n",
      "\u001b[34m\u001b[1mwandb\u001b[0m: \thidden_size: 128\n",
      "\u001b[34m\u001b[1mwandb\u001b[0m: \tloss: mse\n",
      "\u001b[34m\u001b[1mwandb\u001b[0m: \tlr: 0.0001\n",
      "\u001b[34m\u001b[1mwandb\u001b[0m: \toptimizer: nadam\n",
      "\u001b[34m\u001b[1mwandb\u001b[0m: \tw_init: glorot\n",
      "\u001b[34m\u001b[1mwandb\u001b[0m: \tweight_decay: 0\n"
     ]
    },
    {
     "data": {
      "text/html": [
       "Tracking run with wandb version 0.16.4"
      ],
      "text/plain": [
       "<IPython.core.display.HTML object>"
      ]
     },
     "metadata": {},
     "output_type": "display_data"
    },
    {
     "data": {
      "text/html": [
       "Run data is saved locally in <code>/Users/sumanta/Desktop/Numpy project/mse_error_revised/wandb/run-20240317_175357-jyjv9p2j</code>"
      ],
      "text/plain": [
       "<IPython.core.display.HTML object>"
      ]
     },
     "metadata": {},
     "output_type": "display_data"
    },
    {
     "data": {
      "text/html": [
       "Syncing run <strong><a href='https://wandb.ai/sumanta_roy/CS6910_assignment_1/runs/jyjv9p2j' target=\"_blank\">cosmic-sweep-40</a></strong> to <a href='https://wandb.ai/sumanta_roy/CS6910_assignment_1' target=\"_blank\">Weights & Biases</a> (<a href='https://wandb.me/run' target=\"_blank\">docs</a>)<br/>Sweep page: <a href='https://wandb.ai/sumanta_roy/CS6910_assignment_1/sweeps/etqoz0cb' target=\"_blank\">https://wandb.ai/sumanta_roy/CS6910_assignment_1/sweeps/etqoz0cb</a>"
      ],
      "text/plain": [
       "<IPython.core.display.HTML object>"
      ]
     },
     "metadata": {},
     "output_type": "display_data"
    },
    {
     "data": {
      "text/html": [
       " View project at <a href='https://wandb.ai/sumanta_roy/CS6910_assignment_1' target=\"_blank\">https://wandb.ai/sumanta_roy/CS6910_assignment_1</a>"
      ],
      "text/plain": [
       "<IPython.core.display.HTML object>"
      ]
     },
     "metadata": {},
     "output_type": "display_data"
    },
    {
     "data": {
      "text/html": [
       " View sweep at <a href='https://wandb.ai/sumanta_roy/CS6910_assignment_1/sweeps/etqoz0cb' target=\"_blank\">https://wandb.ai/sumanta_roy/CS6910_assignment_1/sweeps/etqoz0cb</a>"
      ],
      "text/plain": [
       "<IPython.core.display.HTML object>"
      ]
     },
     "metadata": {},
     "output_type": "display_data"
    },
    {
     "data": {
      "text/html": [
       " View run at <a href='https://wandb.ai/sumanta_roy/CS6910_assignment_1/runs/jyjv9p2j' target=\"_blank\">https://wandb.ai/sumanta_roy/CS6910_assignment_1/runs/jyjv9p2j</a>"
      ],
      "text/plain": [
       "<IPython.core.display.HTML object>"
      ]
     },
     "metadata": {},
     "output_type": "display_data"
    },
    {
     "name": "stdout",
     "output_type": "stream",
     "text": [
      "Epoch: 1/10; Train Loss: 0.02905877336700663; Val Loss: 0.03494242191652205\n",
      "Epoch: 2/10; Train Loss: 0.02267469499228995; Val Loss: 0.028591835957201127\n",
      "Epoch: 3/10; Train Loss: 0.01969303426281143; Val Loss: 0.02600141399872182\n",
      "Epoch: 4/10; Train Loss: 0.018206662939068453; Val Loss: 0.024671975285072676\n",
      "Epoch: 5/10; Train Loss: 0.017367309152012036; Val Loss: 0.02382622727281354\n",
      "Epoch: 6/10; Train Loss: 0.016804583662838834; Val Loss: 0.023204504352014398\n",
      "Epoch: 7/10; Train Loss: 0.01637423609073326; Val Loss: 0.022707183348115875\n",
      "Epoch: 8/10; Train Loss: 0.01601546792800036; Val Loss: 0.022288933685416547\n",
      "Epoch: 9/10; Train Loss: 0.01569851884842992; Val Loss: 0.021926364127435857\n",
      "Epoch: 10/10; Train Loss: 0.015407534835182151; Val Loss: 0.021606384621771984\n"
     ]
    },
    {
     "data": {
      "application/vnd.jupyter.widget-view+json": {
       "model_id": "",
       "version_major": 2,
       "version_minor": 0
      },
      "text/plain": [
       "VBox(children=(Label(value='0.001 MB of 0.001 MB uploaded\\r'), FloatProgress(value=1.0, max=1.0)))"
      ]
     },
     "metadata": {},
     "output_type": "display_data"
    },
    {
     "data": {
      "text/html": [
       "<style>\n",
       "    table.wandb td:nth-child(1) { padding: 0 10px; text-align: left ; width: auto;} td:nth-child(2) {text-align: left ; width: 100%}\n",
       "    .wandb-row { display: flex; flex-direction: row; flex-wrap: wrap; justify-content: flex-start; width: 100% }\n",
       "    .wandb-col { display: flex; flex-direction: column; flex-basis: 100%; flex: 1; padding: 10px; }\n",
       "    </style>\n",
       "<div class=\"wandb-row\"><div class=\"wandb-col\"><h3>Run history:</h3><br/><table class=\"wandb\"><tr><td>epoch</td><td>▁▁▁▁▂▂▂▂▃▃▃▃▃▃▃▃▄▄▄▄▅▅▅▅▆▆▆▆▆▆▆▆▇▇▇▇████</td></tr><tr><td>train_accuracy</td><td>▂▄▄▃▃▃▄█▄▆▅▅▆▅▃▂▅▆▅▁▆▂▄▅▇▆▅▆▆▆▆▃▅▅▅█▅▇▆▇</td></tr><tr><td>train_loss</td><td>█▅▅▅▅▄▄▁▄▃▄▄▂▃▄▅▂▂▃▆▃▄▃▃▃▂▃▁▃▂▃▆▃▂▂▁▃▂▂▁</td></tr><tr><td>val_accuracy</td><td>▁▄▅▅▆▆▆▇▇▇▇▇▇▇▇▇▇▇▇█████████████████████</td></tr><tr><td>validation_loss</td><td>█▅▄▃▃▃▂▂▂▂▂▂▂▂▂▁▁▁▁▁▁▁▁▁▁▁▁▁▁▁▁▁▁▁▁▁▁▁▁▁</td></tr></table><br/></div><div class=\"wandb-col\"><h3>Run summary:</h3><br/><table class=\"wandb\"><tr><td>epoch</td><td>10</td></tr><tr><td>train_accuracy</td><td>87.5</td></tr><tr><td>train_loss</td><td>0.01541</td></tr><tr><td>val_accuracy</td><td>84.9</td></tr><tr><td>validation_loss</td><td>0.02161</td></tr></table><br/></div></div>"
      ],
      "text/plain": [
       "<IPython.core.display.HTML object>"
      ]
     },
     "metadata": {},
     "output_type": "display_data"
    },
    {
     "data": {
      "text/html": [
       " View run <strong style=\"color:#cdcd00\">cosmic-sweep-40</strong> at: <a href='https://wandb.ai/sumanta_roy/CS6910_assignment_1/runs/jyjv9p2j' target=\"_blank\">https://wandb.ai/sumanta_roy/CS6910_assignment_1/runs/jyjv9p2j</a><br/>Synced 6 W&B file(s), 0 media file(s), 0 artifact file(s) and 0 other file(s)"
      ],
      "text/plain": [
       "<IPython.core.display.HTML object>"
      ]
     },
     "metadata": {},
     "output_type": "display_data"
    },
    {
     "data": {
      "text/html": [
       "Find logs at: <code>./wandb/run-20240317_175357-jyjv9p2j/logs</code>"
      ],
      "text/plain": [
       "<IPython.core.display.HTML object>"
      ]
     },
     "metadata": {},
     "output_type": "display_data"
    },
    {
     "name": "stderr",
     "output_type": "stream",
     "text": [
      "\u001b[34m\u001b[1mwandb\u001b[0m: Agent Starting Run: 8xhui6cm with config:\n",
      "\u001b[34m\u001b[1mwandb\u001b[0m: \tactivation: tanh\n",
      "\u001b[34m\u001b[1mwandb\u001b[0m: \tbatch_size: 64\n",
      "\u001b[34m\u001b[1mwandb\u001b[0m: \tepochs: 10\n",
      "\u001b[34m\u001b[1mwandb\u001b[0m: \thidden_layers: 5\n",
      "\u001b[34m\u001b[1mwandb\u001b[0m: \thidden_size: 128\n",
      "\u001b[34m\u001b[1mwandb\u001b[0m: \tloss: mse\n",
      "\u001b[34m\u001b[1mwandb\u001b[0m: \tlr: 0.001\n",
      "\u001b[34m\u001b[1mwandb\u001b[0m: \toptimizer: nadam\n",
      "\u001b[34m\u001b[1mwandb\u001b[0m: \tw_init: random\n",
      "\u001b[34m\u001b[1mwandb\u001b[0m: \tweight_decay: 0\n"
     ]
    },
    {
     "data": {
      "text/html": [
       "Tracking run with wandb version 0.16.4"
      ],
      "text/plain": [
       "<IPython.core.display.HTML object>"
      ]
     },
     "metadata": {},
     "output_type": "display_data"
    },
    {
     "data": {
      "text/html": [
       "Run data is saved locally in <code>/Users/sumanta/Desktop/Numpy project/mse_error_revised/wandb/run-20240317_175724-8xhui6cm</code>"
      ],
      "text/plain": [
       "<IPython.core.display.HTML object>"
      ]
     },
     "metadata": {},
     "output_type": "display_data"
    },
    {
     "data": {
      "text/html": [
       "Syncing run <strong><a href='https://wandb.ai/sumanta_roy/CS6910_assignment_1/runs/8xhui6cm' target=\"_blank\">crisp-sweep-41</a></strong> to <a href='https://wandb.ai/sumanta_roy/CS6910_assignment_1' target=\"_blank\">Weights & Biases</a> (<a href='https://wandb.me/run' target=\"_blank\">docs</a>)<br/>Sweep page: <a href='https://wandb.ai/sumanta_roy/CS6910_assignment_1/sweeps/etqoz0cb' target=\"_blank\">https://wandb.ai/sumanta_roy/CS6910_assignment_1/sweeps/etqoz0cb</a>"
      ],
      "text/plain": [
       "<IPython.core.display.HTML object>"
      ]
     },
     "metadata": {},
     "output_type": "display_data"
    },
    {
     "data": {
      "text/html": [
       " View project at <a href='https://wandb.ai/sumanta_roy/CS6910_assignment_1' target=\"_blank\">https://wandb.ai/sumanta_roy/CS6910_assignment_1</a>"
      ],
      "text/plain": [
       "<IPython.core.display.HTML object>"
      ]
     },
     "metadata": {},
     "output_type": "display_data"
    },
    {
     "data": {
      "text/html": [
       " View sweep at <a href='https://wandb.ai/sumanta_roy/CS6910_assignment_1/sweeps/etqoz0cb' target=\"_blank\">https://wandb.ai/sumanta_roy/CS6910_assignment_1/sweeps/etqoz0cb</a>"
      ],
      "text/plain": [
       "<IPython.core.display.HTML object>"
      ]
     },
     "metadata": {},
     "output_type": "display_data"
    },
    {
     "data": {
      "text/html": [
       " View run at <a href='https://wandb.ai/sumanta_roy/CS6910_assignment_1/runs/8xhui6cm' target=\"_blank\">https://wandb.ai/sumanta_roy/CS6910_assignment_1/runs/8xhui6cm</a>"
      ],
      "text/plain": [
       "<IPython.core.display.HTML object>"
      ]
     },
     "metadata": {},
     "output_type": "display_data"
    },
    {
     "name": "stdout",
     "output_type": "stream",
     "text": [
      "Epoch: 1/10; Train Loss: 0.03843638535374737; Val Loss: 0.041194620489897894\n",
      "Epoch: 2/10; Train Loss: 0.03164513081668739; Val Loss: 0.03642963898979049\n",
      "Epoch: 3/10; Train Loss: 0.02874213782022552; Val Loss: 0.03410317333503926\n",
      "Epoch: 4/10; Train Loss: 0.02608637210983853; Val Loss: 0.032534007126775344\n",
      "Epoch: 5/10; Train Loss: 0.024823035714641374; Val Loss: 0.03137391873965224\n",
      "Epoch: 6/10; Train Loss: 0.023928446546397412; Val Loss: 0.030516303025281355\n",
      "Epoch: 7/10; Train Loss: 0.0230836311858658; Val Loss: 0.029860471334060484\n",
      "Epoch: 8/10; Train Loss: 0.022401154509741134; Val Loss: 0.029326784998972715\n",
      "Epoch: 9/10; Train Loss: 0.02189723893179444; Val Loss: 0.028865127590121328\n",
      "Epoch: 10/10; Train Loss: 0.02146773097155479; Val Loss: 0.028466838666272812\n"
     ]
    },
    {
     "data": {
      "application/vnd.jupyter.widget-view+json": {
       "model_id": "",
       "version_major": 2,
       "version_minor": 0
      },
      "text/plain": [
       "VBox(children=(Label(value='0.001 MB of 0.001 MB uploaded\\r'), FloatProgress(value=1.0, max=1.0)))"
      ]
     },
     "metadata": {},
     "output_type": "display_data"
    },
    {
     "data": {
      "text/html": [
       "<style>\n",
       "    table.wandb td:nth-child(1) { padding: 0 10px; text-align: left ; width: auto;} td:nth-child(2) {text-align: left ; width: 100%}\n",
       "    .wandb-row { display: flex; flex-direction: row; flex-wrap: wrap; justify-content: flex-start; width: 100% }\n",
       "    .wandb-col { display: flex; flex-direction: column; flex-basis: 100%; flex: 1; padding: 10px; }\n",
       "    </style>\n",
       "<div class=\"wandb-row\"><div class=\"wandb-col\"><h3>Run history:</h3><br/><table class=\"wandb\"><tr><td>epoch</td><td>▁▁▁▁▂▂▂▂▃▃▃▃▃▃▃▃▄▄▄▄▅▅▅▅▆▆▆▆▆▆▆▆▇▇▇▇████</td></tr><tr><td>train_accuracy</td><td>▁▃▄▄▄▅▆▄▆▆▄▅▅▆▅▄▆▅▆▇▅▅▆▇▅▆▆██▆▆█▆▇█▇▇▆█▇</td></tr><tr><td>train_loss</td><td>█▇▄▅▄▅▃▄▃▃▅▄▄▃▃▄▃▃▃▂▃▃▂▂▃▃▂▁▁▃▃▁▃▂▁▂▂▂▁▁</td></tr><tr><td>val_accuracy</td><td>▁▃▄▅▅▅▆▆▆▆▆▇▇▇▇▇▇▇▇▇▇▇▇▇████████████████</td></tr><tr><td>validation_loss</td><td>█▆▅▄▄▃▃▃▃▃▃▂▂▂▂▂▂▂▂▂▂▂▂▂▁▁▁▁▁▁▁▁▁▁▁▁▁▁▁▁</td></tr></table><br/></div><div class=\"wandb-col\"><h3>Run summary:</h3><br/><table class=\"wandb\"><tr><td>epoch</td><td>10</td></tr><tr><td>train_accuracy</td><td>82.8125</td></tr><tr><td>train_loss</td><td>0.02147</td></tr><tr><td>val_accuracy</td><td>79.91667</td></tr><tr><td>validation_loss</td><td>0.02847</td></tr></table><br/></div></div>"
      ],
      "text/plain": [
       "<IPython.core.display.HTML object>"
      ]
     },
     "metadata": {},
     "output_type": "display_data"
    },
    {
     "data": {
      "text/html": [
       " View run <strong style=\"color:#cdcd00\">crisp-sweep-41</strong> at: <a href='https://wandb.ai/sumanta_roy/CS6910_assignment_1/runs/8xhui6cm' target=\"_blank\">https://wandb.ai/sumanta_roy/CS6910_assignment_1/runs/8xhui6cm</a><br/>Synced 6 W&B file(s), 0 media file(s), 0 artifact file(s) and 0 other file(s)"
      ],
      "text/plain": [
       "<IPython.core.display.HTML object>"
      ]
     },
     "metadata": {},
     "output_type": "display_data"
    },
    {
     "data": {
      "text/html": [
       "Find logs at: <code>./wandb/run-20240317_175724-8xhui6cm/logs</code>"
      ],
      "text/plain": [
       "<IPython.core.display.HTML object>"
      ]
     },
     "metadata": {},
     "output_type": "display_data"
    },
    {
     "name": "stderr",
     "output_type": "stream",
     "text": [
      "\u001b[34m\u001b[1mwandb\u001b[0m: Agent Starting Run: k9bwpmap with config:\n",
      "\u001b[34m\u001b[1mwandb\u001b[0m: \tactivation: tanh\n",
      "\u001b[34m\u001b[1mwandb\u001b[0m: \tbatch_size: 64\n",
      "\u001b[34m\u001b[1mwandb\u001b[0m: \tepochs: 10\n",
      "\u001b[34m\u001b[1mwandb\u001b[0m: \thidden_layers: 5\n",
      "\u001b[34m\u001b[1mwandb\u001b[0m: \thidden_size: 64\n",
      "\u001b[34m\u001b[1mwandb\u001b[0m: \tloss: mse\n",
      "\u001b[34m\u001b[1mwandb\u001b[0m: \tlr: 0.001\n",
      "\u001b[34m\u001b[1mwandb\u001b[0m: \toptimizer: nadam\n",
      "\u001b[34m\u001b[1mwandb\u001b[0m: \tw_init: glorot\n",
      "\u001b[34m\u001b[1mwandb\u001b[0m: \tweight_decay: 0\n"
     ]
    },
    {
     "data": {
      "text/html": [
       "Tracking run with wandb version 0.16.4"
      ],
      "text/plain": [
       "<IPython.core.display.HTML object>"
      ]
     },
     "metadata": {},
     "output_type": "display_data"
    },
    {
     "data": {
      "text/html": [
       "Run data is saved locally in <code>/Users/sumanta/Desktop/Numpy project/mse_error_revised/wandb/run-20240317_175940-k9bwpmap</code>"
      ],
      "text/plain": [
       "<IPython.core.display.HTML object>"
      ]
     },
     "metadata": {},
     "output_type": "display_data"
    },
    {
     "data": {
      "text/html": [
       "Syncing run <strong><a href='https://wandb.ai/sumanta_roy/CS6910_assignment_1/runs/k9bwpmap' target=\"_blank\">feasible-sweep-42</a></strong> to <a href='https://wandb.ai/sumanta_roy/CS6910_assignment_1' target=\"_blank\">Weights & Biases</a> (<a href='https://wandb.me/run' target=\"_blank\">docs</a>)<br/>Sweep page: <a href='https://wandb.ai/sumanta_roy/CS6910_assignment_1/sweeps/etqoz0cb' target=\"_blank\">https://wandb.ai/sumanta_roy/CS6910_assignment_1/sweeps/etqoz0cb</a>"
      ],
      "text/plain": [
       "<IPython.core.display.HTML object>"
      ]
     },
     "metadata": {},
     "output_type": "display_data"
    },
    {
     "data": {
      "text/html": [
       " View project at <a href='https://wandb.ai/sumanta_roy/CS6910_assignment_1' target=\"_blank\">https://wandb.ai/sumanta_roy/CS6910_assignment_1</a>"
      ],
      "text/plain": [
       "<IPython.core.display.HTML object>"
      ]
     },
     "metadata": {},
     "output_type": "display_data"
    },
    {
     "data": {
      "text/html": [
       " View sweep at <a href='https://wandb.ai/sumanta_roy/CS6910_assignment_1/sweeps/etqoz0cb' target=\"_blank\">https://wandb.ai/sumanta_roy/CS6910_assignment_1/sweeps/etqoz0cb</a>"
      ],
      "text/plain": [
       "<IPython.core.display.HTML object>"
      ]
     },
     "metadata": {},
     "output_type": "display_data"
    },
    {
     "data": {
      "text/html": [
       " View run at <a href='https://wandb.ai/sumanta_roy/CS6910_assignment_1/runs/k9bwpmap' target=\"_blank\">https://wandb.ai/sumanta_roy/CS6910_assignment_1/runs/k9bwpmap</a>"
      ],
      "text/plain": [
       "<IPython.core.display.HTML object>"
      ]
     },
     "metadata": {},
     "output_type": "display_data"
    },
    {
     "name": "stdout",
     "output_type": "stream",
     "text": [
      "Epoch: 1/10; Train Loss: 0.017125581343218354; Val Loss: 0.024084650567591938\n",
      "Epoch: 2/10; Train Loss: 0.015610112244472094; Val Loss: 0.022032323312048453\n",
      "Epoch: 3/10; Train Loss: 0.01507594623736393; Val Loss: 0.02100182208793111\n",
      "Epoch: 4/10; Train Loss: 0.014858740644875062; Val Loss: 0.02031520112715644\n",
      "Epoch: 5/10; Train Loss: 0.014779385664557738; Val Loss: 0.01980539433740241\n",
      "Epoch: 6/10; Train Loss: 0.014753890301734176; Val Loss: 0.019405762127643455\n",
      "Epoch: 7/10; Train Loss: 0.014743411717065658; Val Loss: 0.019079085472327575\n",
      "Epoch: 8/10; Train Loss: 0.01472887698052426; Val Loss: 0.018803034743767228\n",
      "Epoch: 9/10; Train Loss: 0.014701006155711589; Val Loss: 0.01856441469819338\n",
      "Epoch: 10/10; Train Loss: 0.014656466212465405; Val Loss: 0.01835517929583929\n"
     ]
    },
    {
     "data": {
      "application/vnd.jupyter.widget-view+json": {
       "model_id": "",
       "version_major": 2,
       "version_minor": 0
      },
      "text/plain": [
       "VBox(children=(Label(value='0.001 MB of 0.001 MB uploaded\\r'), FloatProgress(value=1.0, max=1.0)))"
      ]
     },
     "metadata": {},
     "output_type": "display_data"
    },
    {
     "data": {
      "text/html": [
       "<style>\n",
       "    table.wandb td:nth-child(1) { padding: 0 10px; text-align: left ; width: auto;} td:nth-child(2) {text-align: left ; width: 100%}\n",
       "    .wandb-row { display: flex; flex-direction: row; flex-wrap: wrap; justify-content: flex-start; width: 100% }\n",
       "    .wandb-col { display: flex; flex-direction: column; flex-basis: 100%; flex: 1; padding: 10px; }\n",
       "    </style>\n",
       "<div class=\"wandb-row\"><div class=\"wandb-col\"><h3>Run history:</h3><br/><table class=\"wandb\"><tr><td>epoch</td><td>▁▁▁▁▂▂▂▂▃▃▃▃▃▃▃▃▄▄▄▄▅▅▅▅▆▆▆▆▆▆▆▆▇▇▇▇████</td></tr><tr><td>train_accuracy</td><td>▁▆▄▆▅▃▆▅▅▆▄▂▄▅▅▆▃█▆▇▇▅▆▆▄▄▆▇█▄▄▆▇█▇▆▇▄██</td></tr><tr><td>train_loss</td><td>█▄▅▄▆▆▃▄▄▄▄▅▅▄▄▄▆▂▄▂▃▄▃▃▅▅▃▂▁▅▅▃▂▂▃▃▂▅▁▁</td></tr><tr><td>val_accuracy</td><td>▁▃▅▅▅▆▆▆▆▆▇▆▇▇▇▇▇▇▇▇▇▇▇▇▇█▇█████████████</td></tr><tr><td>validation_loss</td><td>█▆▄▃▃▃▃▃▂▂▂▂▂▂▂▂▂▂▂▂▂▂▂▂▁▁▁▁▁▁▁▁▁▁▁▁▁▁▁▁</td></tr></table><br/></div><div class=\"wandb-col\"><h3>Run summary:</h3><br/><table class=\"wandb\"><tr><td>epoch</td><td>10</td></tr><tr><td>train_accuracy</td><td>89.0625</td></tr><tr><td>train_loss</td><td>0.01466</td></tr><tr><td>val_accuracy</td><td>87.15</td></tr><tr><td>validation_loss</td><td>0.01836</td></tr></table><br/></div></div>"
      ],
      "text/plain": [
       "<IPython.core.display.HTML object>"
      ]
     },
     "metadata": {},
     "output_type": "display_data"
    },
    {
     "data": {
      "text/html": [
       " View run <strong style=\"color:#cdcd00\">feasible-sweep-42</strong> at: <a href='https://wandb.ai/sumanta_roy/CS6910_assignment_1/runs/k9bwpmap' target=\"_blank\">https://wandb.ai/sumanta_roy/CS6910_assignment_1/runs/k9bwpmap</a><br/>Synced 6 W&B file(s), 0 media file(s), 0 artifact file(s) and 0 other file(s)"
      ],
      "text/plain": [
       "<IPython.core.display.HTML object>"
      ]
     },
     "metadata": {},
     "output_type": "display_data"
    },
    {
     "data": {
      "text/html": [
       "Find logs at: <code>./wandb/run-20240317_175940-k9bwpmap/logs</code>"
      ],
      "text/plain": [
       "<IPython.core.display.HTML object>"
      ]
     },
     "metadata": {},
     "output_type": "display_data"
    },
    {
     "name": "stderr",
     "output_type": "stream",
     "text": [
      "\u001b[34m\u001b[1mwandb\u001b[0m: Agent Starting Run: es0zbpag with config:\n",
      "\u001b[34m\u001b[1mwandb\u001b[0m: \tactivation: tanh\n",
      "\u001b[34m\u001b[1mwandb\u001b[0m: \tbatch_size: 16\n",
      "\u001b[34m\u001b[1mwandb\u001b[0m: \tepochs: 10\n",
      "\u001b[34m\u001b[1mwandb\u001b[0m: \thidden_layers: 5\n",
      "\u001b[34m\u001b[1mwandb\u001b[0m: \thidden_size: 128\n",
      "\u001b[34m\u001b[1mwandb\u001b[0m: \tloss: mse\n",
      "\u001b[34m\u001b[1mwandb\u001b[0m: \tlr: 0.001\n",
      "\u001b[34m\u001b[1mwandb\u001b[0m: \toptimizer: nadam\n",
      "\u001b[34m\u001b[1mwandb\u001b[0m: \tw_init: glorot\n",
      "\u001b[34m\u001b[1mwandb\u001b[0m: \tweight_decay: 0\n"
     ]
    },
    {
     "data": {
      "text/html": [
       "Tracking run with wandb version 0.16.4"
      ],
      "text/plain": [
       "<IPython.core.display.HTML object>"
      ]
     },
     "metadata": {},
     "output_type": "display_data"
    },
    {
     "data": {
      "text/html": [
       "Run data is saved locally in <code>/Users/sumanta/Desktop/Numpy project/mse_error_revised/wandb/run-20240317_180034-es0zbpag</code>"
      ],
      "text/plain": [
       "<IPython.core.display.HTML object>"
      ]
     },
     "metadata": {},
     "output_type": "display_data"
    },
    {
     "data": {
      "text/html": [
       "Syncing run <strong><a href='https://wandb.ai/sumanta_roy/CS6910_assignment_1/runs/es0zbpag' target=\"_blank\">skilled-sweep-43</a></strong> to <a href='https://wandb.ai/sumanta_roy/CS6910_assignment_1' target=\"_blank\">Weights & Biases</a> (<a href='https://wandb.me/run' target=\"_blank\">docs</a>)<br/>Sweep page: <a href='https://wandb.ai/sumanta_roy/CS6910_assignment_1/sweeps/etqoz0cb' target=\"_blank\">https://wandb.ai/sumanta_roy/CS6910_assignment_1/sweeps/etqoz0cb</a>"
      ],
      "text/plain": [
       "<IPython.core.display.HTML object>"
      ]
     },
     "metadata": {},
     "output_type": "display_data"
    },
    {
     "data": {
      "text/html": [
       " View project at <a href='https://wandb.ai/sumanta_roy/CS6910_assignment_1' target=\"_blank\">https://wandb.ai/sumanta_roy/CS6910_assignment_1</a>"
      ],
      "text/plain": [
       "<IPython.core.display.HTML object>"
      ]
     },
     "metadata": {},
     "output_type": "display_data"
    },
    {
     "data": {
      "text/html": [
       " View sweep at <a href='https://wandb.ai/sumanta_roy/CS6910_assignment_1/sweeps/etqoz0cb' target=\"_blank\">https://wandb.ai/sumanta_roy/CS6910_assignment_1/sweeps/etqoz0cb</a>"
      ],
      "text/plain": [
       "<IPython.core.display.HTML object>"
      ]
     },
     "metadata": {},
     "output_type": "display_data"
    },
    {
     "data": {
      "text/html": [
       " View run at <a href='https://wandb.ai/sumanta_roy/CS6910_assignment_1/runs/es0zbpag' target=\"_blank\">https://wandb.ai/sumanta_roy/CS6910_assignment_1/runs/es0zbpag</a>"
      ],
      "text/plain": [
       "<IPython.core.display.HTML object>"
      ]
     },
     "metadata": {},
     "output_type": "display_data"
    },
    {
     "name": "stdout",
     "output_type": "stream",
     "text": [
      "Epoch: 1/10; Train Loss: 0.010937432339015677; Val Loss: 0.021026355996330216\n",
      "Epoch: 2/10; Train Loss: 0.008734777970159887; Val Loss: 0.019389016419829302\n",
      "Epoch: 3/10; Train Loss: 0.006487607892032428; Val Loss: 0.018520858982412847\n",
      "Epoch: 4/10; Train Loss: 0.004968485166424402; Val Loss: 0.017939049560543586\n",
      "Epoch: 5/10; Train Loss: 0.004281492207435783; Val Loss: 0.017513830496474148\n",
      "Epoch: 6/10; Train Loss: 0.003958508359763859; Val Loss: 0.01718852214363044\n",
      "Epoch: 7/10; Train Loss: 0.0037186087378380216; Val Loss: 0.016928954713395984\n",
      "Epoch: 8/10; Train Loss: 0.003469155520987603; Val Loss: 0.016714528457357502\n",
      "Epoch: 9/10; Train Loss: 0.0031926071216200023; Val Loss: 0.016534153707938776\n",
      "Epoch: 10/10; Train Loss: 0.0028968712336083407; Val Loss: 0.01638273386234504\n"
     ]
    },
    {
     "data": {
      "application/vnd.jupyter.widget-view+json": {
       "model_id": "",
       "version_major": 2,
       "version_minor": 0
      },
      "text/plain": [
       "VBox(children=(Label(value='0.001 MB of 0.001 MB uploaded\\r'), FloatProgress(value=1.0, max=1.0)))"
      ]
     },
     "metadata": {},
     "output_type": "display_data"
    },
    {
     "data": {
      "text/html": [
       "<style>\n",
       "    table.wandb td:nth-child(1) { padding: 0 10px; text-align: left ; width: auto;} td:nth-child(2) {text-align: left ; width: 100%}\n",
       "    .wandb-row { display: flex; flex-direction: row; flex-wrap: wrap; justify-content: flex-start; width: 100% }\n",
       "    .wandb-col { display: flex; flex-direction: column; flex-basis: 100%; flex: 1; padding: 10px; }\n",
       "    </style>\n",
       "<div class=\"wandb-row\"><div class=\"wandb-col\"><h3>Run history:</h3><br/><table class=\"wandb\"><tr><td>epoch</td><td>▁▁▁▁▂▂▂▂▃▃▃▃▃▃▃▃▄▄▄▄▅▅▅▅▆▆▆▆▆▆▆▆▇▇▇▇████</td></tr><tr><td>train_accuracy</td><td>▅▅▇▁▅▄▄█▂▇▄▄█▇▄▁▇▅▂▁▅▄▅█▇▅▅▅▇▇▄▂▄▇▂▇▄▇▅█</td></tr><tr><td>train_loss</td><td>▅▃▃▇▅▆▆▁▇▄▅▆▂▃▅█▃▃▆█▄▅▅▁▃▄▅▂▄▂▅█▇▃▆▂▄▃▅▁</td></tr><tr><td>val_accuracy</td><td>▁▄▄▅▆▆▅▆▇▆▆▆▇▇▇▇▆▇▇▇▇▇▇▇█▇▇██▇██▆███▇███</td></tr><tr><td>validation_loss</td><td>█▅▄▄▃▃▃▃▂▂▂▂▂▂▂▂▂▂▂▂▂▂▂▁▁▂▂▁▁▁▁▂▂▁▁▁▁▁▁▁</td></tr></table><br/></div><div class=\"wandb-col\"><h3>Run summary:</h3><br/><table class=\"wandb\"><tr><td>epoch</td><td>10</td></tr><tr><td>train_accuracy</td><td>100.0</td></tr><tr><td>train_loss</td><td>0.0029</td></tr><tr><td>val_accuracy</td><td>88.16667</td></tr><tr><td>validation_loss</td><td>0.01638</td></tr></table><br/></div></div>"
      ],
      "text/plain": [
       "<IPython.core.display.HTML object>"
      ]
     },
     "metadata": {},
     "output_type": "display_data"
    },
    {
     "data": {
      "text/html": [
       " View run <strong style=\"color:#cdcd00\">skilled-sweep-43</strong> at: <a href='https://wandb.ai/sumanta_roy/CS6910_assignment_1/runs/es0zbpag' target=\"_blank\">https://wandb.ai/sumanta_roy/CS6910_assignment_1/runs/es0zbpag</a><br/>Synced 6 W&B file(s), 0 media file(s), 0 artifact file(s) and 0 other file(s)"
      ],
      "text/plain": [
       "<IPython.core.display.HTML object>"
      ]
     },
     "metadata": {},
     "output_type": "display_data"
    },
    {
     "data": {
      "text/html": [
       "Find logs at: <code>./wandb/run-20240317_180034-es0zbpag/logs</code>"
      ],
      "text/plain": [
       "<IPython.core.display.HTML object>"
      ]
     },
     "metadata": {},
     "output_type": "display_data"
    },
    {
     "name": "stderr",
     "output_type": "stream",
     "text": [
      "\u001b[34m\u001b[1mwandb\u001b[0m: Agent Starting Run: os67nusb with config:\n",
      "\u001b[34m\u001b[1mwandb\u001b[0m: \tactivation: tanh\n",
      "\u001b[34m\u001b[1mwandb\u001b[0m: \tbatch_size: 32\n",
      "\u001b[34m\u001b[1mwandb\u001b[0m: \tepochs: 10\n",
      "\u001b[34m\u001b[1mwandb\u001b[0m: \thidden_layers: 4\n",
      "\u001b[34m\u001b[1mwandb\u001b[0m: \thidden_size: 128\n",
      "\u001b[34m\u001b[1mwandb\u001b[0m: \tloss: mse\n",
      "\u001b[34m\u001b[1mwandb\u001b[0m: \tlr: 0.001\n",
      "\u001b[34m\u001b[1mwandb\u001b[0m: \toptimizer: nadam\n",
      "\u001b[34m\u001b[1mwandb\u001b[0m: \tw_init: glorot\n",
      "\u001b[34m\u001b[1mwandb\u001b[0m: \tweight_decay: 0\n"
     ]
    },
    {
     "data": {
      "text/html": [
       "Tracking run with wandb version 0.16.4"
      ],
      "text/plain": [
       "<IPython.core.display.HTML object>"
      ]
     },
     "metadata": {},
     "output_type": "display_data"
    },
    {
     "data": {
      "text/html": [
       "Run data is saved locally in <code>/Users/sumanta/Desktop/Numpy project/mse_error_revised/wandb/run-20240317_180417-os67nusb</code>"
      ],
      "text/plain": [
       "<IPython.core.display.HTML object>"
      ]
     },
     "metadata": {},
     "output_type": "display_data"
    },
    {
     "data": {
      "text/html": [
       "Syncing run <strong><a href='https://wandb.ai/sumanta_roy/CS6910_assignment_1/runs/os67nusb' target=\"_blank\">summer-sweep-44</a></strong> to <a href='https://wandb.ai/sumanta_roy/CS6910_assignment_1' target=\"_blank\">Weights & Biases</a> (<a href='https://wandb.me/run' target=\"_blank\">docs</a>)<br/>Sweep page: <a href='https://wandb.ai/sumanta_roy/CS6910_assignment_1/sweeps/etqoz0cb' target=\"_blank\">https://wandb.ai/sumanta_roy/CS6910_assignment_1/sweeps/etqoz0cb</a>"
      ],
      "text/plain": [
       "<IPython.core.display.HTML object>"
      ]
     },
     "metadata": {},
     "output_type": "display_data"
    },
    {
     "data": {
      "text/html": [
       " View project at <a href='https://wandb.ai/sumanta_roy/CS6910_assignment_1' target=\"_blank\">https://wandb.ai/sumanta_roy/CS6910_assignment_1</a>"
      ],
      "text/plain": [
       "<IPython.core.display.HTML object>"
      ]
     },
     "metadata": {},
     "output_type": "display_data"
    },
    {
     "data": {
      "text/html": [
       " View sweep at <a href='https://wandb.ai/sumanta_roy/CS6910_assignment_1/sweeps/etqoz0cb' target=\"_blank\">https://wandb.ai/sumanta_roy/CS6910_assignment_1/sweeps/etqoz0cb</a>"
      ],
      "text/plain": [
       "<IPython.core.display.HTML object>"
      ]
     },
     "metadata": {},
     "output_type": "display_data"
    },
    {
     "data": {
      "text/html": [
       " View run at <a href='https://wandb.ai/sumanta_roy/CS6910_assignment_1/runs/os67nusb' target=\"_blank\">https://wandb.ai/sumanta_roy/CS6910_assignment_1/runs/os67nusb</a>"
      ],
      "text/plain": [
       "<IPython.core.display.HTML object>"
      ]
     },
     "metadata": {},
     "output_type": "display_data"
    },
    {
     "name": "stdout",
     "output_type": "stream",
     "text": [
      "Epoch: 1/10; Train Loss: 0.01122668936907864; Val Loss: 0.021375379289141863\n",
      "Epoch: 2/10; Train Loss: 0.011355940872153017; Val Loss: 0.019710283191087925\n",
      "Epoch: 3/10; Train Loss: 0.011435141651470691; Val Loss: 0.018845722367998086\n",
      "Epoch: 4/10; Train Loss: 0.011386058786593985; Val Loss: 0.018290117736684222\n",
      "Epoch: 5/10; Train Loss: 0.011296658617385014; Val Loss: 0.01788927969129441\n",
      "Epoch: 6/10; Train Loss: 0.011199326261459272; Val Loss: 0.017574708463100892\n",
      "Epoch: 7/10; Train Loss: 0.011101707483423855; Val Loss: 0.017315165894643176\n",
      "Epoch: 8/10; Train Loss: 0.011006216305060695; Val Loss: 0.017095876717182622\n",
      "Epoch: 9/10; Train Loss: 0.010916173467426451; Val Loss: 0.016908716995136745\n",
      "Epoch: 10/10; Train Loss: 0.010835752756053783; Val Loss: 0.016747821212536325\n"
     ]
    },
    {
     "data": {
      "application/vnd.jupyter.widget-view+json": {
       "model_id": "",
       "version_major": 2,
       "version_minor": 0
      },
      "text/plain": [
       "VBox(children=(Label(value='0.001 MB of 0.001 MB uploaded\\r'), FloatProgress(value=1.0, max=1.0)))"
      ]
     },
     "metadata": {},
     "output_type": "display_data"
    },
    {
     "data": {
      "text/html": [
       "<style>\n",
       "    table.wandb td:nth-child(1) { padding: 0 10px; text-align: left ; width: auto;} td:nth-child(2) {text-align: left ; width: 100%}\n",
       "    .wandb-row { display: flex; flex-direction: row; flex-wrap: wrap; justify-content: flex-start; width: 100% }\n",
       "    .wandb-col { display: flex; flex-direction: column; flex-basis: 100%; flex: 1; padding: 10px; }\n",
       "    </style>\n",
       "<div class=\"wandb-row\"><div class=\"wandb-col\"><h3>Run history:</h3><br/><table class=\"wandb\"><tr><td>epoch</td><td>▁▁▁▁▂▂▂▂▃▃▃▃▃▃▃▃▄▄▄▄▅▅▅▅▆▆▆▆▆▆▆▆▇▇▇▇████</td></tr><tr><td>train_accuracy</td><td>▆▇▇▆▆▆▂▇▅▇▇▁▇▇▄▆▅▇█▂▇▇▅▆▆▇█▂▇▇▅▆▇▇█▃▅▇▇▇</td></tr><tr><td>train_loss</td><td>▄▄▃▂▃▃█▄▃▃▂█▂▂▇▄▃▃▁▇▂▂▅▄▃▂▁▇▁▂▄▄▃▂▁▆▃▂▄▂</td></tr><tr><td>val_accuracy</td><td>▁▃▄▄▅▅▅▆▆▆▆▆▆▇▇▇▆▇▆▇▇▇▇▇▇▇▇▇█▇▇█▇█▇█▇▇██</td></tr><tr><td>validation_loss</td><td>█▆▅▄▄▄▃▃▃▃▃▃▂▂▂▂▃▂▂▂▂▂▂▂▂▂▂▂▁▂▂▁▂▁▂▁▁▁▁▁</td></tr></table><br/></div><div class=\"wandb-col\"><h3>Run summary:</h3><br/><table class=\"wandb\"><tr><td>epoch</td><td>10</td></tr><tr><td>train_accuracy</td><td>90.625</td></tr><tr><td>train_loss</td><td>0.01084</td></tr><tr><td>val_accuracy</td><td>88.16667</td></tr><tr><td>validation_loss</td><td>0.01675</td></tr></table><br/></div></div>"
      ],
      "text/plain": [
       "<IPython.core.display.HTML object>"
      ]
     },
     "metadata": {},
     "output_type": "display_data"
    },
    {
     "data": {
      "text/html": [
       " View run <strong style=\"color:#cdcd00\">summer-sweep-44</strong> at: <a href='https://wandb.ai/sumanta_roy/CS6910_assignment_1/runs/os67nusb' target=\"_blank\">https://wandb.ai/sumanta_roy/CS6910_assignment_1/runs/os67nusb</a><br/>Synced 6 W&B file(s), 0 media file(s), 0 artifact file(s) and 0 other file(s)"
      ],
      "text/plain": [
       "<IPython.core.display.HTML object>"
      ]
     },
     "metadata": {},
     "output_type": "display_data"
    },
    {
     "data": {
      "text/html": [
       "Find logs at: <code>./wandb/run-20240317_180417-os67nusb/logs</code>"
      ],
      "text/plain": [
       "<IPython.core.display.HTML object>"
      ]
     },
     "metadata": {},
     "output_type": "display_data"
    },
    {
     "name": "stderr",
     "output_type": "stream",
     "text": [
      "\u001b[34m\u001b[1mwandb\u001b[0m: Agent Starting Run: 25ew4q9r with config:\n",
      "\u001b[34m\u001b[1mwandb\u001b[0m: \tactivation: tanh\n",
      "\u001b[34m\u001b[1mwandb\u001b[0m: \tbatch_size: 64\n",
      "\u001b[34m\u001b[1mwandb\u001b[0m: \tepochs: 10\n",
      "\u001b[34m\u001b[1mwandb\u001b[0m: \thidden_layers: 5\n",
      "\u001b[34m\u001b[1mwandb\u001b[0m: \thidden_size: 64\n",
      "\u001b[34m\u001b[1mwandb\u001b[0m: \tloss: mse\n",
      "\u001b[34m\u001b[1mwandb\u001b[0m: \tlr: 0.001\n",
      "\u001b[34m\u001b[1mwandb\u001b[0m: \toptimizer: nadam\n",
      "\u001b[34m\u001b[1mwandb\u001b[0m: \tw_init: glorot\n",
      "\u001b[34m\u001b[1mwandb\u001b[0m: \tweight_decay: 0.0005\n"
     ]
    },
    {
     "data": {
      "text/html": [
       "Tracking run with wandb version 0.16.4"
      ],
      "text/plain": [
       "<IPython.core.display.HTML object>"
      ]
     },
     "metadata": {},
     "output_type": "display_data"
    },
    {
     "data": {
      "text/html": [
       "Run data is saved locally in <code>/Users/sumanta/Desktop/Numpy project/mse_error_revised/wandb/run-20240317_180709-25ew4q9r</code>"
      ],
      "text/plain": [
       "<IPython.core.display.HTML object>"
      ]
     },
     "metadata": {},
     "output_type": "display_data"
    },
    {
     "data": {
      "text/html": [
       "Syncing run <strong><a href='https://wandb.ai/sumanta_roy/CS6910_assignment_1/runs/25ew4q9r' target=\"_blank\">unique-sweep-45</a></strong> to <a href='https://wandb.ai/sumanta_roy/CS6910_assignment_1' target=\"_blank\">Weights & Biases</a> (<a href='https://wandb.me/run' target=\"_blank\">docs</a>)<br/>Sweep page: <a href='https://wandb.ai/sumanta_roy/CS6910_assignment_1/sweeps/etqoz0cb' target=\"_blank\">https://wandb.ai/sumanta_roy/CS6910_assignment_1/sweeps/etqoz0cb</a>"
      ],
      "text/plain": [
       "<IPython.core.display.HTML object>"
      ]
     },
     "metadata": {},
     "output_type": "display_data"
    },
    {
     "data": {
      "text/html": [
       " View project at <a href='https://wandb.ai/sumanta_roy/CS6910_assignment_1' target=\"_blank\">https://wandb.ai/sumanta_roy/CS6910_assignment_1</a>"
      ],
      "text/plain": [
       "<IPython.core.display.HTML object>"
      ]
     },
     "metadata": {},
     "output_type": "display_data"
    },
    {
     "data": {
      "text/html": [
       " View sweep at <a href='https://wandb.ai/sumanta_roy/CS6910_assignment_1/sweeps/etqoz0cb' target=\"_blank\">https://wandb.ai/sumanta_roy/CS6910_assignment_1/sweeps/etqoz0cb</a>"
      ],
      "text/plain": [
       "<IPython.core.display.HTML object>"
      ]
     },
     "metadata": {},
     "output_type": "display_data"
    },
    {
     "data": {
      "text/html": [
       " View run at <a href='https://wandb.ai/sumanta_roy/CS6910_assignment_1/runs/25ew4q9r' target=\"_blank\">https://wandb.ai/sumanta_roy/CS6910_assignment_1/runs/25ew4q9r</a>"
      ],
      "text/plain": [
       "<IPython.core.display.HTML object>"
      ]
     },
     "metadata": {},
     "output_type": "display_data"
    },
    {
     "name": "stdout",
     "output_type": "stream",
     "text": [
      "Epoch: 1/10; Train Loss: 0.01729992943981288; Val Loss: 0.023956496630815713\n",
      "Epoch: 2/10; Train Loss: 0.0170290300030944; Val Loss: 0.022024673845813983\n",
      "Epoch: 3/10; Train Loss: 0.017255098336662566; Val Loss: 0.02101883481188387\n",
      "Epoch: 4/10; Train Loss: 0.01750203771412378; Val Loss: 0.02033832141241806\n",
      "Epoch: 5/10; Train Loss: 0.01772721005893965; Val Loss: 0.01983537045176334\n",
      "Epoch: 6/10; Train Loss: 0.01789533529406389; Val Loss: 0.019444177510458092\n",
      "Epoch: 7/10; Train Loss: 0.017987287154589297; Val Loss: 0.019127397894781923\n",
      "Epoch: 8/10; Train Loss: 0.018003863482375548; Val Loss: 0.01886234968332297\n",
      "Epoch: 9/10; Train Loss: 0.017956960479353305; Val Loss: 0.018635031729184046\n",
      "Epoch: 10/10; Train Loss: 0.017861539708490366; Val Loss: 0.01843627782589851\n"
     ]
    },
    {
     "data": {
      "application/vnd.jupyter.widget-view+json": {
       "model_id": "",
       "version_major": 2,
       "version_minor": 0
      },
      "text/plain": [
       "VBox(children=(Label(value='0.001 MB of 0.027 MB uploaded\\r'), FloatProgress(value=0.02724824604918149, max=1.…"
      ]
     },
     "metadata": {},
     "output_type": "display_data"
    },
    {
     "data": {
      "text/html": [
       "<style>\n",
       "    table.wandb td:nth-child(1) { padding: 0 10px; text-align: left ; width: auto;} td:nth-child(2) {text-align: left ; width: 100%}\n",
       "    .wandb-row { display: flex; flex-direction: row; flex-wrap: wrap; justify-content: flex-start; width: 100% }\n",
       "    .wandb-col { display: flex; flex-direction: column; flex-basis: 100%; flex: 1; padding: 10px; }\n",
       "    </style>\n",
       "<div class=\"wandb-row\"><div class=\"wandb-col\"><h3>Run history:</h3><br/><table class=\"wandb\"><tr><td>epoch</td><td>▁▁▁▁▂▂▂▂▃▃▃▃▃▃▃▃▄▄▄▄▅▅▅▅▆▆▆▆▆▆▆▆▇▇▇▇████</td></tr><tr><td>train_accuracy</td><td>▁█▃▄▃▄▇▆▄▆▄▃▃▆▆▆▃▆▅▇▆▄▇▆▄▅▆▇▇▅▄▆▇▇▆▆▇▄██</td></tr><tr><td>train_loss</td><td>█▄▅▄▆▅▂▄▄▃▄▅▄▄▃▃▅▃▄▂▂▄▂▂▅▄▃▂▁▅▅▃▂▂▃▃▂▄▁▁</td></tr><tr><td>val_accuracy</td><td>▁▃▅▅▆▆▆▆▆▆▇▇▇▇▇▇▇▇▇▇▇▇▇▇█▇█████▇████████</td></tr><tr><td>validation_loss</td><td>█▆▄▃▃▃▃▃▂▂▂▂▂▂▂▂▂▂▂▂▂▂▂▂▁▁▁▁▁▁▁▁▁▁▁▁▁▁▁▁</td></tr></table><br/></div><div class=\"wandb-col\"><h3>Run summary:</h3><br/><table class=\"wandb\"><tr><td>epoch</td><td>10</td></tr><tr><td>train_accuracy</td><td>87.5</td></tr><tr><td>train_loss</td><td>0.01786</td></tr><tr><td>val_accuracy</td><td>87.08333</td></tr><tr><td>validation_loss</td><td>0.01844</td></tr></table><br/></div></div>"
      ],
      "text/plain": [
       "<IPython.core.display.HTML object>"
      ]
     },
     "metadata": {},
     "output_type": "display_data"
    },
    {
     "data": {
      "text/html": [
       " View run <strong style=\"color:#cdcd00\">unique-sweep-45</strong> at: <a href='https://wandb.ai/sumanta_roy/CS6910_assignment_1/runs/25ew4q9r' target=\"_blank\">https://wandb.ai/sumanta_roy/CS6910_assignment_1/runs/25ew4q9r</a><br/>Synced 6 W&B file(s), 0 media file(s), 0 artifact file(s) and 0 other file(s)"
      ],
      "text/plain": [
       "<IPython.core.display.HTML object>"
      ]
     },
     "metadata": {},
     "output_type": "display_data"
    },
    {
     "data": {
      "text/html": [
       "Find logs at: <code>./wandb/run-20240317_180709-25ew4q9r/logs</code>"
      ],
      "text/plain": [
       "<IPython.core.display.HTML object>"
      ]
     },
     "metadata": {},
     "output_type": "display_data"
    },
    {
     "name": "stderr",
     "output_type": "stream",
     "text": [
      "\u001b[34m\u001b[1mwandb\u001b[0m: Agent Starting Run: ajkv4fyq with config:\n",
      "\u001b[34m\u001b[1mwandb\u001b[0m: \tactivation: tanh\n",
      "\u001b[34m\u001b[1mwandb\u001b[0m: \tbatch_size: 64\n",
      "\u001b[34m\u001b[1mwandb\u001b[0m: \tepochs: 10\n",
      "\u001b[34m\u001b[1mwandb\u001b[0m: \thidden_layers: 5\n",
      "\u001b[34m\u001b[1mwandb\u001b[0m: \thidden_size: 128\n",
      "\u001b[34m\u001b[1mwandb\u001b[0m: \tloss: mse\n",
      "\u001b[34m\u001b[1mwandb\u001b[0m: \tlr: 0.001\n",
      "\u001b[34m\u001b[1mwandb\u001b[0m: \toptimizer: nadam\n",
      "\u001b[34m\u001b[1mwandb\u001b[0m: \tw_init: glorot\n",
      "\u001b[34m\u001b[1mwandb\u001b[0m: \tweight_decay: 0.0005\n"
     ]
    },
    {
     "data": {
      "text/html": [
       "Tracking run with wandb version 0.16.4"
      ],
      "text/plain": [
       "<IPython.core.display.HTML object>"
      ]
     },
     "metadata": {},
     "output_type": "display_data"
    },
    {
     "data": {
      "text/html": [
       "Run data is saved locally in <code>/Users/sumanta/Desktop/Numpy project/mse_error_revised/wandb/run-20240317_180814-ajkv4fyq</code>"
      ],
      "text/plain": [
       "<IPython.core.display.HTML object>"
      ]
     },
     "metadata": {},
     "output_type": "display_data"
    },
    {
     "data": {
      "text/html": [
       "Syncing run <strong><a href='https://wandb.ai/sumanta_roy/CS6910_assignment_1/runs/ajkv4fyq' target=\"_blank\">laced-sweep-46</a></strong> to <a href='https://wandb.ai/sumanta_roy/CS6910_assignment_1' target=\"_blank\">Weights & Biases</a> (<a href='https://wandb.me/run' target=\"_blank\">docs</a>)<br/>Sweep page: <a href='https://wandb.ai/sumanta_roy/CS6910_assignment_1/sweeps/etqoz0cb' target=\"_blank\">https://wandb.ai/sumanta_roy/CS6910_assignment_1/sweeps/etqoz0cb</a>"
      ],
      "text/plain": [
       "<IPython.core.display.HTML object>"
      ]
     },
     "metadata": {},
     "output_type": "display_data"
    },
    {
     "data": {
      "text/html": [
       " View project at <a href='https://wandb.ai/sumanta_roy/CS6910_assignment_1' target=\"_blank\">https://wandb.ai/sumanta_roy/CS6910_assignment_1</a>"
      ],
      "text/plain": [
       "<IPython.core.display.HTML object>"
      ]
     },
     "metadata": {},
     "output_type": "display_data"
    },
    {
     "data": {
      "text/html": [
       " View sweep at <a href='https://wandb.ai/sumanta_roy/CS6910_assignment_1/sweeps/etqoz0cb' target=\"_blank\">https://wandb.ai/sumanta_roy/CS6910_assignment_1/sweeps/etqoz0cb</a>"
      ],
      "text/plain": [
       "<IPython.core.display.HTML object>"
      ]
     },
     "metadata": {},
     "output_type": "display_data"
    },
    {
     "data": {
      "text/html": [
       " View run at <a href='https://wandb.ai/sumanta_roy/CS6910_assignment_1/runs/ajkv4fyq' target=\"_blank\">https://wandb.ai/sumanta_roy/CS6910_assignment_1/runs/ajkv4fyq</a>"
      ],
      "text/plain": [
       "<IPython.core.display.HTML object>"
      ]
     },
     "metadata": {},
     "output_type": "display_data"
    },
    {
     "name": "stdout",
     "output_type": "stream",
     "text": [
      "Epoch: 1/10; Train Loss: 0.017182338045933193; Val Loss: 0.022360264912442116\n",
      "Epoch: 2/10; Train Loss: 0.017562974334159532; Val Loss: 0.02074974223434977\n",
      "Epoch: 3/10; Train Loss: 0.0177866219814899; Val Loss: 0.01991661573533733\n",
      "Epoch: 4/10; Train Loss: 0.017865771509542328; Val Loss: 0.019372428179045685\n",
      "Epoch: 5/10; Train Loss: 0.017857378166421797; Val Loss: 0.018966571393719992\n",
      "Epoch: 6/10; Train Loss: 0.0177822517544775; Val Loss: 0.018642041093678792\n",
      "Epoch: 7/10; Train Loss: 0.017654439384380036; Val Loss: 0.01837226186437365\n",
      "Epoch: 8/10; Train Loss: 0.017489543046966535; Val Loss: 0.01814239650122929\n",
      "Epoch: 9/10; Train Loss: 0.01730372645331909; Val Loss: 0.017943326037550677\n",
      "Epoch: 10/10; Train Loss: 0.017110263313518278; Val Loss: 0.017769117217307128\n"
     ]
    },
    {
     "data": {
      "application/vnd.jupyter.widget-view+json": {
       "model_id": "",
       "version_major": 2,
       "version_minor": 0
      },
      "text/plain": [
       "VBox(children=(Label(value='0.001 MB of 0.001 MB uploaded\\r'), FloatProgress(value=1.0, max=1.0)))"
      ]
     },
     "metadata": {},
     "output_type": "display_data"
    },
    {
     "data": {
      "text/html": [
       "<style>\n",
       "    table.wandb td:nth-child(1) { padding: 0 10px; text-align: left ; width: auto;} td:nth-child(2) {text-align: left ; width: 100%}\n",
       "    .wandb-row { display: flex; flex-direction: row; flex-wrap: wrap; justify-content: flex-start; width: 100% }\n",
       "    .wandb-col { display: flex; flex-direction: column; flex-basis: 100%; flex: 1; padding: 10px; }\n",
       "    </style>\n",
       "<div class=\"wandb-row\"><div class=\"wandb-col\"><h3>Run history:</h3><br/><table class=\"wandb\"><tr><td>epoch</td><td>▁▁▁▁▂▂▂▂▃▃▃▃▃▃▃▃▄▄▄▄▅▅▅▅▆▆▆▆▆▆▆▆▇▇▇▇████</td></tr><tr><td>train_accuracy</td><td>▁▆▃▄▃▃▅▅▅▇▅▃▃▃▅▅▃▇▅▇▆▅▅▅▄▅▇▇█▅▃▅▇▇▇▇▇▄▇█</td></tr><tr><td>train_loss</td><td>█▄▅▄▆▆▂▅▄▄▅▅▅▄▅▄▆▂▄▃▃▄▃▃▅▅▂▃▁▅▆▃▂▃▃▃▂▅▂▁</td></tr><tr><td>val_accuracy</td><td>▁▃▄▅▅▅▆▆▆▆▆▆▆▆▆▇▇▇▇▇▇▇▇▇▇▇▇▇▇▇█▇▇▇█▇████</td></tr><tr><td>validation_loss</td><td>█▆▄▄▄▃▃▃▃▃▃▃▂▂▂▂▂▂▂▂▂▂▂▂▂▂▁▁▂▁▁▁▁▂▁▁▁▁▁▁</td></tr></table><br/></div><div class=\"wandb-col\"><h3>Run summary:</h3><br/><table class=\"wandb\"><tr><td>epoch</td><td>10</td></tr><tr><td>train_accuracy</td><td>89.0625</td></tr><tr><td>train_loss</td><td>0.01711</td></tr><tr><td>val_accuracy</td><td>87.58333</td></tr><tr><td>validation_loss</td><td>0.01777</td></tr></table><br/></div></div>"
      ],
      "text/plain": [
       "<IPython.core.display.HTML object>"
      ]
     },
     "metadata": {},
     "output_type": "display_data"
    },
    {
     "data": {
      "text/html": [
       " View run <strong style=\"color:#cdcd00\">laced-sweep-46</strong> at: <a href='https://wandb.ai/sumanta_roy/CS6910_assignment_1/runs/ajkv4fyq' target=\"_blank\">https://wandb.ai/sumanta_roy/CS6910_assignment_1/runs/ajkv4fyq</a><br/>Synced 6 W&B file(s), 0 media file(s), 0 artifact file(s) and 0 other file(s)"
      ],
      "text/plain": [
       "<IPython.core.display.HTML object>"
      ]
     },
     "metadata": {},
     "output_type": "display_data"
    },
    {
     "data": {
      "text/html": [
       "Find logs at: <code>./wandb/run-20240317_180814-ajkv4fyq/logs</code>"
      ],
      "text/plain": [
       "<IPython.core.display.HTML object>"
      ]
     },
     "metadata": {},
     "output_type": "display_data"
    },
    {
     "name": "stderr",
     "output_type": "stream",
     "text": [
      "\u001b[34m\u001b[1mwandb\u001b[0m: Agent Starting Run: q9pvw8qu with config:\n",
      "\u001b[34m\u001b[1mwandb\u001b[0m: \tactivation: tanh\n",
      "\u001b[34m\u001b[1mwandb\u001b[0m: \tbatch_size: 32\n",
      "\u001b[34m\u001b[1mwandb\u001b[0m: \tepochs: 10\n",
      "\u001b[34m\u001b[1mwandb\u001b[0m: \thidden_layers: 5\n",
      "\u001b[34m\u001b[1mwandb\u001b[0m: \thidden_size: 128\n",
      "\u001b[34m\u001b[1mwandb\u001b[0m: \tloss: mse\n",
      "\u001b[34m\u001b[1mwandb\u001b[0m: \tlr: 0.0001\n",
      "\u001b[34m\u001b[1mwandb\u001b[0m: \toptimizer: rmsprop\n",
      "\u001b[34m\u001b[1mwandb\u001b[0m: \tw_init: glorot\n",
      "\u001b[34m\u001b[1mwandb\u001b[0m: \tweight_decay: 0\n"
     ]
    },
    {
     "data": {
      "text/html": [
       "Tracking run with wandb version 0.16.4"
      ],
      "text/plain": [
       "<IPython.core.display.HTML object>"
      ]
     },
     "metadata": {},
     "output_type": "display_data"
    },
    {
     "data": {
      "text/html": [
       "Run data is saved locally in <code>/Users/sumanta/Desktop/Numpy project/mse_error_revised/wandb/run-20240317_181036-q9pvw8qu</code>"
      ],
      "text/plain": [
       "<IPython.core.display.HTML object>"
      ]
     },
     "metadata": {},
     "output_type": "display_data"
    },
    {
     "data": {
      "text/html": [
       "Syncing run <strong><a href='https://wandb.ai/sumanta_roy/CS6910_assignment_1/runs/q9pvw8qu' target=\"_blank\">sandy-sweep-47</a></strong> to <a href='https://wandb.ai/sumanta_roy/CS6910_assignment_1' target=\"_blank\">Weights & Biases</a> (<a href='https://wandb.me/run' target=\"_blank\">docs</a>)<br/>Sweep page: <a href='https://wandb.ai/sumanta_roy/CS6910_assignment_1/sweeps/etqoz0cb' target=\"_blank\">https://wandb.ai/sumanta_roy/CS6910_assignment_1/sweeps/etqoz0cb</a>"
      ],
      "text/plain": [
       "<IPython.core.display.HTML object>"
      ]
     },
     "metadata": {},
     "output_type": "display_data"
    },
    {
     "data": {
      "text/html": [
       " View project at <a href='https://wandb.ai/sumanta_roy/CS6910_assignment_1' target=\"_blank\">https://wandb.ai/sumanta_roy/CS6910_assignment_1</a>"
      ],
      "text/plain": [
       "<IPython.core.display.HTML object>"
      ]
     },
     "metadata": {},
     "output_type": "display_data"
    },
    {
     "data": {
      "text/html": [
       " View sweep at <a href='https://wandb.ai/sumanta_roy/CS6910_assignment_1/sweeps/etqoz0cb' target=\"_blank\">https://wandb.ai/sumanta_roy/CS6910_assignment_1/sweeps/etqoz0cb</a>"
      ],
      "text/plain": [
       "<IPython.core.display.HTML object>"
      ]
     },
     "metadata": {},
     "output_type": "display_data"
    },
    {
     "data": {
      "text/html": [
       " View run at <a href='https://wandb.ai/sumanta_roy/CS6910_assignment_1/runs/q9pvw8qu' target=\"_blank\">https://wandb.ai/sumanta_roy/CS6910_assignment_1/runs/q9pvw8qu</a>"
      ],
      "text/plain": [
       "<IPython.core.display.HTML object>"
      ]
     },
     "metadata": {},
     "output_type": "display_data"
    },
    {
     "name": "stdout",
     "output_type": "stream",
     "text": [
      "Epoch: 1/10; Train Loss: 0.01694159404922067; Val Loss: 0.024355643749884807\n",
      "Epoch: 2/10; Train Loss: 0.013122164041483789; Val Loss: 0.02173927265068656\n",
      "Epoch: 3/10; Train Loss: 0.011940400849834215; Val Loss: 0.02046501821999671\n",
      "Epoch: 4/10; Train Loss: 0.011339399487674238; Val Loss: 0.01966486793318168\n",
      "Epoch: 5/10; Train Loss: 0.010886245629653882; Val Loss: 0.019114300709351308\n",
      "Epoch: 6/10; Train Loss: 0.01052416441578333; Val Loss: 0.018710771412335053\n",
      "Epoch: 7/10; Train Loss: 0.010237580390874976; Val Loss: 0.018400181560336484\n",
      "Epoch: 8/10; Train Loss: 0.01001096596060318; Val Loss: 0.01815003149384094\n",
      "Epoch: 9/10; Train Loss: 0.009827112906590621; Val Loss: 0.01794051589287485\n",
      "Epoch: 10/10; Train Loss: 0.009669871596884465; Val Loss: 0.0177596969784696\n"
     ]
    },
    {
     "data": {
      "application/vnd.jupyter.widget-view+json": {
       "model_id": "",
       "version_major": 2,
       "version_minor": 0
      },
      "text/plain": [
       "VBox(children=(Label(value='0.001 MB of 0.001 MB uploaded\\r'), FloatProgress(value=1.0, max=1.0)))"
      ]
     },
     "metadata": {},
     "output_type": "display_data"
    },
    {
     "data": {
      "text/html": [
       "<style>\n",
       "    table.wandb td:nth-child(1) { padding: 0 10px; text-align: left ; width: auto;} td:nth-child(2) {text-align: left ; width: 100%}\n",
       "    .wandb-row { display: flex; flex-direction: row; flex-wrap: wrap; justify-content: flex-start; width: 100% }\n",
       "    .wandb-col { display: flex; flex-direction: column; flex-basis: 100%; flex: 1; padding: 10px; }\n",
       "    </style>\n",
       "<div class=\"wandb-row\"><div class=\"wandb-col\"><h3>Run history:</h3><br/><table class=\"wandb\"><tr><td>epoch</td><td>▁▁▁▁▂▂▂▂▃▃▃▃▃▃▃▃▄▄▄▄▅▅▅▅▆▆▆▆▆▆▆▆▇▇▇▇████</td></tr><tr><td>train_accuracy</td><td>▄▅▅▇▅▃▄▆▆▇▇▁▇▅▃▇▅▇▇▁▇▆▄▇▅▇▇▂█▇▅▇▆▇▇▂▅▇▅▇</td></tr><tr><td>train_loss</td><td>▇▆▅▃▃▆▆▄▃▃▂█▂▄▅▄▃▃▂█▂▄▅▃▃▂▁▇▂▃▅▃▃▂▁▇▄▃▄▁</td></tr><tr><td>val_accuracy</td><td>▁▃▅▅▆▆▆▇▇▇▇▇▇▇▇▇▇▇▇█▇███▇█▇█████▇███████</td></tr><tr><td>validation_loss</td><td>█▅▄▃▃▃▃▂▂▂▂▂▂▂▂▂▂▂▂▁▂▁▁▁▂▁▁▁▁▁▁▁▂▁▁▁▁▁▁▁</td></tr></table><br/></div><div class=\"wandb-col\"><h3>Run summary:</h3><br/><table class=\"wandb\"><tr><td>epoch</td><td>10</td></tr><tr><td>train_accuracy</td><td>93.75</td></tr><tr><td>train_loss</td><td>0.00967</td></tr><tr><td>val_accuracy</td><td>87.36667</td></tr><tr><td>validation_loss</td><td>0.01776</td></tr></table><br/></div></div>"
      ],
      "text/plain": [
       "<IPython.core.display.HTML object>"
      ]
     },
     "metadata": {},
     "output_type": "display_data"
    },
    {
     "data": {
      "text/html": [
       " View run <strong style=\"color:#cdcd00\">sandy-sweep-47</strong> at: <a href='https://wandb.ai/sumanta_roy/CS6910_assignment_1/runs/q9pvw8qu' target=\"_blank\">https://wandb.ai/sumanta_roy/CS6910_assignment_1/runs/q9pvw8qu</a><br/>Synced 6 W&B file(s), 0 media file(s), 0 artifact file(s) and 0 other file(s)"
      ],
      "text/plain": [
       "<IPython.core.display.HTML object>"
      ]
     },
     "metadata": {},
     "output_type": "display_data"
    },
    {
     "data": {
      "text/html": [
       "Find logs at: <code>./wandb/run-20240317_181036-q9pvw8qu/logs</code>"
      ],
      "text/plain": [
       "<IPython.core.display.HTML object>"
      ]
     },
     "metadata": {},
     "output_type": "display_data"
    },
    {
     "name": "stderr",
     "output_type": "stream",
     "text": [
      "\u001b[34m\u001b[1mwandb\u001b[0m: Agent Starting Run: 8mprljrp with config:\n",
      "\u001b[34m\u001b[1mwandb\u001b[0m: \tactivation: tanh\n",
      "\u001b[34m\u001b[1mwandb\u001b[0m: \tbatch_size: 16\n",
      "\u001b[34m\u001b[1mwandb\u001b[0m: \tepochs: 10\n",
      "\u001b[34m\u001b[1mwandb\u001b[0m: \thidden_layers: 5\n",
      "\u001b[34m\u001b[1mwandb\u001b[0m: \thidden_size: 128\n",
      "\u001b[34m\u001b[1mwandb\u001b[0m: \tloss: mse\n",
      "\u001b[34m\u001b[1mwandb\u001b[0m: \tlr: 0.001\n",
      "\u001b[34m\u001b[1mwandb\u001b[0m: \toptimizer: nesterov\n",
      "\u001b[34m\u001b[1mwandb\u001b[0m: \tw_init: random\n",
      "\u001b[34m\u001b[1mwandb\u001b[0m: \tweight_decay: 0\n"
     ]
    },
    {
     "data": {
      "text/html": [
       "Tracking run with wandb version 0.16.4"
      ],
      "text/plain": [
       "<IPython.core.display.HTML object>"
      ]
     },
     "metadata": {},
     "output_type": "display_data"
    },
    {
     "data": {
      "text/html": [
       "Run data is saved locally in <code>/Users/sumanta/Desktop/Numpy project/mse_error_revised/wandb/run-20240317_181243-8mprljrp</code>"
      ],
      "text/plain": [
       "<IPython.core.display.HTML object>"
      ]
     },
     "metadata": {},
     "output_type": "display_data"
    },
    {
     "data": {
      "text/html": [
       "Syncing run <strong><a href='https://wandb.ai/sumanta_roy/CS6910_assignment_1/runs/8mprljrp' target=\"_blank\">silvery-sweep-48</a></strong> to <a href='https://wandb.ai/sumanta_roy/CS6910_assignment_1' target=\"_blank\">Weights & Biases</a> (<a href='https://wandb.me/run' target=\"_blank\">docs</a>)<br/>Sweep page: <a href='https://wandb.ai/sumanta_roy/CS6910_assignment_1/sweeps/etqoz0cb' target=\"_blank\">https://wandb.ai/sumanta_roy/CS6910_assignment_1/sweeps/etqoz0cb</a>"
      ],
      "text/plain": [
       "<IPython.core.display.HTML object>"
      ]
     },
     "metadata": {},
     "output_type": "display_data"
    },
    {
     "data": {
      "text/html": [
       " View project at <a href='https://wandb.ai/sumanta_roy/CS6910_assignment_1' target=\"_blank\">https://wandb.ai/sumanta_roy/CS6910_assignment_1</a>"
      ],
      "text/plain": [
       "<IPython.core.display.HTML object>"
      ]
     },
     "metadata": {},
     "output_type": "display_data"
    },
    {
     "data": {
      "text/html": [
       " View sweep at <a href='https://wandb.ai/sumanta_roy/CS6910_assignment_1/sweeps/etqoz0cb' target=\"_blank\">https://wandb.ai/sumanta_roy/CS6910_assignment_1/sweeps/etqoz0cb</a>"
      ],
      "text/plain": [
       "<IPython.core.display.HTML object>"
      ]
     },
     "metadata": {},
     "output_type": "display_data"
    },
    {
     "data": {
      "text/html": [
       " View run at <a href='https://wandb.ai/sumanta_roy/CS6910_assignment_1/runs/8mprljrp' target=\"_blank\">https://wandb.ai/sumanta_roy/CS6910_assignment_1/runs/8mprljrp</a>"
      ],
      "text/plain": [
       "<IPython.core.display.HTML object>"
      ]
     },
     "metadata": {},
     "output_type": "display_data"
    },
    {
     "name": "stdout",
     "output_type": "stream",
     "text": [
      "Epoch: 1/10; Train Loss: 0.03315710429291703; Val Loss: 0.03009319767259392\n",
      "Epoch: 2/10; Train Loss: 0.018298452357969418; Val Loss: 0.027038584191391015\n",
      "Epoch: 3/10; Train Loss: 0.013084229950728115; Val Loss: 0.025492387544960266\n",
      "Epoch: 4/10; Train Loss: 0.011689600589651778; Val Loss: 0.024793406480271705\n",
      "Epoch: 5/10; Train Loss: 0.011380894336600679; Val Loss: 0.024288249451309408\n",
      "Epoch: 6/10; Train Loss: 0.011362759418967583; Val Loss: 0.02383545587247754\n",
      "Epoch: 7/10; Train Loss: 0.011474903429717492; Val Loss: 0.02343990236201551\n",
      "Epoch: 8/10; Train Loss: 0.011839889570791625; Val Loss: 0.023107342035661046\n",
      "Epoch: 9/10; Train Loss: 0.012317026083062916; Val Loss: 0.022881895189976912\n",
      "Epoch: 10/10; Train Loss: 0.01254313222219885; Val Loss: 0.022741686530783827\n"
     ]
    },
    {
     "data": {
      "application/vnd.jupyter.widget-view+json": {
       "model_id": "",
       "version_major": 2,
       "version_minor": 0
      },
      "text/plain": [
       "VBox(children=(Label(value='0.001 MB of 0.001 MB uploaded\\r'), FloatProgress(value=1.0, max=1.0)))"
      ]
     },
     "metadata": {},
     "output_type": "display_data"
    },
    {
     "data": {
      "text/html": [
       "<style>\n",
       "    table.wandb td:nth-child(1) { padding: 0 10px; text-align: left ; width: auto;} td:nth-child(2) {text-align: left ; width: 100%}\n",
       "    .wandb-row { display: flex; flex-direction: row; flex-wrap: wrap; justify-content: flex-start; width: 100% }\n",
       "    .wandb-col { display: flex; flex-direction: column; flex-basis: 100%; flex: 1; padding: 10px; }\n",
       "    </style>\n",
       "<div class=\"wandb-row\"><div class=\"wandb-col\"><h3>Run history:</h3><br/><table class=\"wandb\"><tr><td>epoch</td><td>▁▁▁▁▂▂▂▂▃▃▃▃▃▃▃▃▄▄▄▄▅▅▅▅▆▆▆▆▆▆▆▆▇▇▇▇████</td></tr><tr><td>train_accuracy</td><td>▁▅▄▁▅▃▃█▂▅▄▂▆█▆▄▇▆▆▅▆▃▇▇▇▅▇▇▆▇▅▃▄▇▆▇▆▇▇█</td></tr><tr><td>train_loss</td><td>█▅▅█▅▇▆▁▇▄▅▆▂▂▄▆▂▃▃▆▃▅▃▃▂▃▂▂▃▂▄▅▄▂▃▃▃▂▃▁</td></tr><tr><td>val_accuracy</td><td>▁▄▅▆▆▇▇▇▇▇▇▇█▇▇█████████████████████████</td></tr><tr><td>validation_loss</td><td>█▄▄▃▃▂▂▂▂▂▂▂▂▂▂▂▁▁▁▁▁▁▁▁▁▁▁▁▁▁▁▁▁▁▁▁▁▁▁▁</td></tr></table><br/></div><div class=\"wandb-col\"><h3>Run summary:</h3><br/><table class=\"wandb\"><tr><td>epoch</td><td>10</td></tr><tr><td>train_accuracy</td><td>93.75</td></tr><tr><td>train_loss</td><td>0.01254</td></tr><tr><td>val_accuracy</td><td>84.53333</td></tr><tr><td>validation_loss</td><td>0.02274</td></tr></table><br/></div></div>"
      ],
      "text/plain": [
       "<IPython.core.display.HTML object>"
      ]
     },
     "metadata": {},
     "output_type": "display_data"
    },
    {
     "data": {
      "text/html": [
       " View run <strong style=\"color:#cdcd00\">silvery-sweep-48</strong> at: <a href='https://wandb.ai/sumanta_roy/CS6910_assignment_1/runs/8mprljrp' target=\"_blank\">https://wandb.ai/sumanta_roy/CS6910_assignment_1/runs/8mprljrp</a><br/>Synced 6 W&B file(s), 0 media file(s), 0 artifact file(s) and 0 other file(s)"
      ],
      "text/plain": [
       "<IPython.core.display.HTML object>"
      ]
     },
     "metadata": {},
     "output_type": "display_data"
    },
    {
     "data": {
      "text/html": [
       "Find logs at: <code>./wandb/run-20240317_181243-8mprljrp/logs</code>"
      ],
      "text/plain": [
       "<IPython.core.display.HTML object>"
      ]
     },
     "metadata": {},
     "output_type": "display_data"
    },
    {
     "name": "stderr",
     "output_type": "stream",
     "text": [
      "\u001b[34m\u001b[1mwandb\u001b[0m: Sweep Agent: Waiting for job.\n",
      "\u001b[34m\u001b[1mwandb\u001b[0m: Job received.\n",
      "\u001b[34m\u001b[1mwandb\u001b[0m: Agent Starting Run: r1ckryld with config:\n",
      "\u001b[34m\u001b[1mwandb\u001b[0m: \tactivation: tanh\n",
      "\u001b[34m\u001b[1mwandb\u001b[0m: \tbatch_size: 32\n",
      "\u001b[34m\u001b[1mwandb\u001b[0m: \tepochs: 10\n",
      "\u001b[34m\u001b[1mwandb\u001b[0m: \thidden_layers: 5\n",
      "\u001b[34m\u001b[1mwandb\u001b[0m: \thidden_size: 64\n",
      "\u001b[34m\u001b[1mwandb\u001b[0m: \tloss: mse\n",
      "\u001b[34m\u001b[1mwandb\u001b[0m: \tlr: 0.001\n",
      "\u001b[34m\u001b[1mwandb\u001b[0m: \toptimizer: nadam\n",
      "\u001b[34m\u001b[1mwandb\u001b[0m: \tw_init: glorot\n",
      "\u001b[34m\u001b[1mwandb\u001b[0m: \tweight_decay: 0\n"
     ]
    },
    {
     "data": {
      "text/html": [
       "Tracking run with wandb version 0.16.4"
      ],
      "text/plain": [
       "<IPython.core.display.HTML object>"
      ]
     },
     "metadata": {},
     "output_type": "display_data"
    },
    {
     "data": {
      "text/html": [
       "Run data is saved locally in <code>/Users/sumanta/Desktop/Numpy project/mse_error_revised/wandb/run-20240317_181614-r1ckryld</code>"
      ],
      "text/plain": [
       "<IPython.core.display.HTML object>"
      ]
     },
     "metadata": {},
     "output_type": "display_data"
    },
    {
     "data": {
      "text/html": [
       "Syncing run <strong><a href='https://wandb.ai/sumanta_roy/CS6910_assignment_1/runs/r1ckryld' target=\"_blank\">fresh-sweep-49</a></strong> to <a href='https://wandb.ai/sumanta_roy/CS6910_assignment_1' target=\"_blank\">Weights & Biases</a> (<a href='https://wandb.me/run' target=\"_blank\">docs</a>)<br/>Sweep page: <a href='https://wandb.ai/sumanta_roy/CS6910_assignment_1/sweeps/etqoz0cb' target=\"_blank\">https://wandb.ai/sumanta_roy/CS6910_assignment_1/sweeps/etqoz0cb</a>"
      ],
      "text/plain": [
       "<IPython.core.display.HTML object>"
      ]
     },
     "metadata": {},
     "output_type": "display_data"
    },
    {
     "data": {
      "text/html": [
       " View project at <a href='https://wandb.ai/sumanta_roy/CS6910_assignment_1' target=\"_blank\">https://wandb.ai/sumanta_roy/CS6910_assignment_1</a>"
      ],
      "text/plain": [
       "<IPython.core.display.HTML object>"
      ]
     },
     "metadata": {},
     "output_type": "display_data"
    },
    {
     "data": {
      "text/html": [
       " View sweep at <a href='https://wandb.ai/sumanta_roy/CS6910_assignment_1/sweeps/etqoz0cb' target=\"_blank\">https://wandb.ai/sumanta_roy/CS6910_assignment_1/sweeps/etqoz0cb</a>"
      ],
      "text/plain": [
       "<IPython.core.display.HTML object>"
      ]
     },
     "metadata": {},
     "output_type": "display_data"
    },
    {
     "data": {
      "text/html": [
       " View run at <a href='https://wandb.ai/sumanta_roy/CS6910_assignment_1/runs/r1ckryld' target=\"_blank\">https://wandb.ai/sumanta_roy/CS6910_assignment_1/runs/r1ckryld</a>"
      ],
      "text/plain": [
       "<IPython.core.display.HTML object>"
      ]
     },
     "metadata": {},
     "output_type": "display_data"
    },
    {
     "name": "stdout",
     "output_type": "stream",
     "text": [
      "Epoch: 1/10; Train Loss: 0.015277708258226257; Val Loss: 0.0229938780276747\n",
      "Epoch: 2/10; Train Loss: 0.013574854830296895; Val Loss: 0.021048134667986496\n",
      "Epoch: 3/10; Train Loss: 0.013161262850447922; Val Loss: 0.019974072543152546\n",
      "Epoch: 4/10; Train Loss: 0.012990338055416573; Val Loss: 0.019254423136566293\n",
      "Epoch: 5/10; Train Loss: 0.012803604107611727; Val Loss: 0.01873884895539521\n",
      "Epoch: 6/10; Train Loss: 0.012583044695236006; Val Loss: 0.018351613627729434\n",
      "Epoch: 7/10; Train Loss: 0.012342820606001694; Val Loss: 0.018052713116822952\n",
      "Epoch: 8/10; Train Loss: 0.012091713171863508; Val Loss: 0.017817972390714778\n",
      "Epoch: 9/10; Train Loss: 0.011834683115192566; Val Loss: 0.01763048682038906\n",
      "Epoch: 10/10; Train Loss: 0.011577621721690731; Val Loss: 0.017477537656711\n"
     ]
    },
    {
     "data": {
      "application/vnd.jupyter.widget-view+json": {
       "model_id": "",
       "version_major": 2,
       "version_minor": 0
      },
      "text/plain": [
       "VBox(children=(Label(value='0.001 MB of 0.001 MB uploaded\\r'), FloatProgress(value=1.0, max=1.0)))"
      ]
     },
     "metadata": {},
     "output_type": "display_data"
    },
    {
     "data": {
      "text/html": [
       "<style>\n",
       "    table.wandb td:nth-child(1) { padding: 0 10px; text-align: left ; width: auto;} td:nth-child(2) {text-align: left ; width: 100%}\n",
       "    .wandb-row { display: flex; flex-direction: row; flex-wrap: wrap; justify-content: flex-start; width: 100% }\n",
       "    .wandb-col { display: flex; flex-direction: column; flex-basis: 100%; flex: 1; padding: 10px; }\n",
       "    </style>\n",
       "<div class=\"wandb-row\"><div class=\"wandb-col\"><h3>Run history:</h3><br/><table class=\"wandb\"><tr><td>epoch</td><td>▁▁▁▁▂▂▂▂▃▃▃▃▃▃▃▃▄▄▄▄▅▅▅▅▆▆▆▆▆▆▆▆▇▇▇▇████</td></tr><tr><td>train_accuracy</td><td>▆▅▇▇▇▇▁▇▇▇█▂▇█▂▇▇▇█▂██▇▇▇▇█▂█▇▇▇▇▇█▄▅▇▇▇</td></tr><tr><td>train_loss</td><td>▆▅▃▂▃▃█▃▂▃▁▇▂▂█▃▂▃▁▇▁▂▄▃▂▂▁▆▁▂▃▃▂▂▁▆▃▂▂▁</td></tr><tr><td>val_accuracy</td><td>▁▃▄▅▅▅▆▆▆▆▆▇▆▇▇▇▇▇▇▇▇▇▇▇▇▇▇██▇██▇█▇█████</td></tr><tr><td>validation_loss</td><td>█▆▄▄▃▃▃▃▃▃▂▂▂▂▂▂▂▂▂▂▂▂▂▂▂▁▂▁▁▁▁▁▂▁▁▁▁▁▁▁</td></tr></table><br/></div><div class=\"wandb-col\"><h3>Run summary:</h3><br/><table class=\"wandb\"><tr><td>epoch</td><td>10</td></tr><tr><td>train_accuracy</td><td>90.625</td></tr><tr><td>train_loss</td><td>0.01158</td></tr><tr><td>val_accuracy</td><td>87.76667</td></tr><tr><td>validation_loss</td><td>0.01748</td></tr></table><br/></div></div>"
      ],
      "text/plain": [
       "<IPython.core.display.HTML object>"
      ]
     },
     "metadata": {},
     "output_type": "display_data"
    },
    {
     "data": {
      "text/html": [
       " View run <strong style=\"color:#cdcd00\">fresh-sweep-49</strong> at: <a href='https://wandb.ai/sumanta_roy/CS6910_assignment_1/runs/r1ckryld' target=\"_blank\">https://wandb.ai/sumanta_roy/CS6910_assignment_1/runs/r1ckryld</a><br/>Synced 6 W&B file(s), 0 media file(s), 0 artifact file(s) and 0 other file(s)"
      ],
      "text/plain": [
       "<IPython.core.display.HTML object>"
      ]
     },
     "metadata": {},
     "output_type": "display_data"
    },
    {
     "data": {
      "text/html": [
       "Find logs at: <code>./wandb/run-20240317_181614-r1ckryld/logs</code>"
      ],
      "text/plain": [
       "<IPython.core.display.HTML object>"
      ]
     },
     "metadata": {},
     "output_type": "display_data"
    },
    {
     "name": "stderr",
     "output_type": "stream",
     "text": [
      "\u001b[34m\u001b[1mwandb\u001b[0m: Agent Starting Run: iq85dkyt with config:\n",
      "\u001b[34m\u001b[1mwandb\u001b[0m: \tactivation: tanh\n",
      "\u001b[34m\u001b[1mwandb\u001b[0m: \tbatch_size: 16\n",
      "\u001b[34m\u001b[1mwandb\u001b[0m: \tepochs: 10\n",
      "\u001b[34m\u001b[1mwandb\u001b[0m: \thidden_layers: 5\n",
      "\u001b[34m\u001b[1mwandb\u001b[0m: \thidden_size: 128\n",
      "\u001b[34m\u001b[1mwandb\u001b[0m: \tloss: mse\n",
      "\u001b[34m\u001b[1mwandb\u001b[0m: \tlr: 0.001\n",
      "\u001b[34m\u001b[1mwandb\u001b[0m: \toptimizer: nesterov\n",
      "\u001b[34m\u001b[1mwandb\u001b[0m: \tw_init: glorot\n",
      "\u001b[34m\u001b[1mwandb\u001b[0m: \tweight_decay: 0\n"
     ]
    },
    {
     "data": {
      "text/html": [
       "Tracking run with wandb version 0.16.4"
      ],
      "text/plain": [
       "<IPython.core.display.HTML object>"
      ]
     },
     "metadata": {},
     "output_type": "display_data"
    },
    {
     "data": {
      "text/html": [
       "Run data is saved locally in <code>/Users/sumanta/Desktop/Numpy project/mse_error_revised/wandb/run-20240317_181735-iq85dkyt</code>"
      ],
      "text/plain": [
       "<IPython.core.display.HTML object>"
      ]
     },
     "metadata": {},
     "output_type": "display_data"
    },
    {
     "data": {
      "text/html": [
       "Syncing run <strong><a href='https://wandb.ai/sumanta_roy/CS6910_assignment_1/runs/iq85dkyt' target=\"_blank\">polished-sweep-50</a></strong> to <a href='https://wandb.ai/sumanta_roy/CS6910_assignment_1' target=\"_blank\">Weights & Biases</a> (<a href='https://wandb.me/run' target=\"_blank\">docs</a>)<br/>Sweep page: <a href='https://wandb.ai/sumanta_roy/CS6910_assignment_1/sweeps/etqoz0cb' target=\"_blank\">https://wandb.ai/sumanta_roy/CS6910_assignment_1/sweeps/etqoz0cb</a>"
      ],
      "text/plain": [
       "<IPython.core.display.HTML object>"
      ]
     },
     "metadata": {},
     "output_type": "display_data"
    },
    {
     "data": {
      "text/html": [
       " View project at <a href='https://wandb.ai/sumanta_roy/CS6910_assignment_1' target=\"_blank\">https://wandb.ai/sumanta_roy/CS6910_assignment_1</a>"
      ],
      "text/plain": [
       "<IPython.core.display.HTML object>"
      ]
     },
     "metadata": {},
     "output_type": "display_data"
    },
    {
     "data": {
      "text/html": [
       " View sweep at <a href='https://wandb.ai/sumanta_roy/CS6910_assignment_1/sweeps/etqoz0cb' target=\"_blank\">https://wandb.ai/sumanta_roy/CS6910_assignment_1/sweeps/etqoz0cb</a>"
      ],
      "text/plain": [
       "<IPython.core.display.HTML object>"
      ]
     },
     "metadata": {},
     "output_type": "display_data"
    },
    {
     "data": {
      "text/html": [
       " View run at <a href='https://wandb.ai/sumanta_roy/CS6910_assignment_1/runs/iq85dkyt' target=\"_blank\">https://wandb.ai/sumanta_roy/CS6910_assignment_1/runs/iq85dkyt</a>"
      ],
      "text/plain": [
       "<IPython.core.display.HTML object>"
      ]
     },
     "metadata": {},
     "output_type": "display_data"
    },
    {
     "name": "stdout",
     "output_type": "stream",
     "text": [
      "Epoch: 1/10; Train Loss: 0.00874207499386186; Val Loss: 0.022036593881139467\n",
      "Epoch: 2/10; Train Loss: 0.007306146487764795; Val Loss: 0.020091226203894856\n",
      "Epoch: 3/10; Train Loss: 0.006712310984334449; Val Loss: 0.019080814923321695\n",
      "Epoch: 4/10; Train Loss: 0.00652268981082101; Val Loss: 0.018386456725094404\n",
      "Epoch: 5/10; Train Loss: 0.006319891572314359; Val Loss: 0.01788546406523993\n",
      "Epoch: 6/10; Train Loss: 0.005927361668958316; Val Loss: 0.01750904836058809\n",
      "Epoch: 7/10; Train Loss: 0.005412359859386233; Val Loss: 0.017208251848878923\n",
      "Epoch: 8/10; Train Loss: 0.0049021317612238085; Val Loss: 0.0169590334291703\n",
      "Epoch: 9/10; Train Loss: 0.004455084818789638; Val Loss: 0.016749777439138375\n",
      "Epoch: 10/10; Train Loss: 0.004054208908107149; Val Loss: 0.01656949644919999\n"
     ]
    },
    {
     "data": {
      "application/vnd.jupyter.widget-view+json": {
       "model_id": "",
       "version_major": 2,
       "version_minor": 0
      },
      "text/plain": [
       "VBox(children=(Label(value='0.001 MB of 0.001 MB uploaded\\r'), FloatProgress(value=1.0, max=1.0)))"
      ]
     },
     "metadata": {},
     "output_type": "display_data"
    },
    {
     "data": {
      "text/html": [
       "<style>\n",
       "    table.wandb td:nth-child(1) { padding: 0 10px; text-align: left ; width: auto;} td:nth-child(2) {text-align: left ; width: 100%}\n",
       "    .wandb-row { display: flex; flex-direction: row; flex-wrap: wrap; justify-content: flex-start; width: 100% }\n",
       "    .wandb-col { display: flex; flex-direction: column; flex-basis: 100%; flex: 1; padding: 10px; }\n",
       "    </style>\n",
       "<div class=\"wandb-row\"><div class=\"wandb-col\"><h3>Run history:</h3><br/><table class=\"wandb\"><tr><td>epoch</td><td>▁▁▁▁▂▂▂▂▃▃▃▃▃▃▃▃▄▄▄▄▅▅▅▅▆▆▆▆▆▆▆▆▇▇▇▇████</td></tr><tr><td>train_accuracy</td><td>▂▄▅▁▂▄▅█▂▅▅▅██▂▄▅▇▄▂▅▄▄█▇▅▅▇▇█▂▂▄▅▄▇▅█▄█</td></tr><tr><td>train_loss</td><td>█▄▄▆▆▆▅▁█▄▃▅▁▂▅▇▄▂▅▇▄▆▅▁▃▄▃▂▃▁▅█▅▃▅▂▄▁▄▁</td></tr><tr><td>val_accuracy</td><td>▁▅▅▆▆▇▆▆▇▇▇▇▇▇▇▇▇▇█▇▇█▇▇█▇▇█████▇█████▇█</td></tr><tr><td>validation_loss</td><td>█▄▃▃▂▂▂▂▂▂▂▂▂▂▂▂▂▁▁▂▂▁▂▁▁▂▁▁▁▁▁▁▂▁▁▁▁▁▁▁</td></tr></table><br/></div><div class=\"wandb-col\"><h3>Run summary:</h3><br/><table class=\"wandb\"><tr><td>epoch</td><td>10</td></tr><tr><td>train_accuracy</td><td>100.0</td></tr><tr><td>train_loss</td><td>0.00405</td></tr><tr><td>val_accuracy</td><td>88.46667</td></tr><tr><td>validation_loss</td><td>0.01657</td></tr></table><br/></div></div>"
      ],
      "text/plain": [
       "<IPython.core.display.HTML object>"
      ]
     },
     "metadata": {},
     "output_type": "display_data"
    },
    {
     "data": {
      "text/html": [
       " View run <strong style=\"color:#cdcd00\">polished-sweep-50</strong> at: <a href='https://wandb.ai/sumanta_roy/CS6910_assignment_1/runs/iq85dkyt' target=\"_blank\">https://wandb.ai/sumanta_roy/CS6910_assignment_1/runs/iq85dkyt</a><br/>Synced 6 W&B file(s), 0 media file(s), 0 artifact file(s) and 0 other file(s)"
      ],
      "text/plain": [
       "<IPython.core.display.HTML object>"
      ]
     },
     "metadata": {},
     "output_type": "display_data"
    },
    {
     "data": {
      "text/html": [
       "Find logs at: <code>./wandb/run-20240317_181735-iq85dkyt/logs</code>"
      ],
      "text/plain": [
       "<IPython.core.display.HTML object>"
      ]
     },
     "metadata": {},
     "output_type": "display_data"
    },
    {
     "name": "stderr",
     "output_type": "stream",
     "text": [
      "\u001b[34m\u001b[1mwandb\u001b[0m: Agent Starting Run: t0640gxl with config:\n",
      "\u001b[34m\u001b[1mwandb\u001b[0m: \tactivation: tanh\n",
      "\u001b[34m\u001b[1mwandb\u001b[0m: \tbatch_size: 16\n",
      "\u001b[34m\u001b[1mwandb\u001b[0m: \tepochs: 10\n",
      "\u001b[34m\u001b[1mwandb\u001b[0m: \thidden_layers: 5\n",
      "\u001b[34m\u001b[1mwandb\u001b[0m: \thidden_size: 64\n",
      "\u001b[34m\u001b[1mwandb\u001b[0m: \tloss: mse\n",
      "\u001b[34m\u001b[1mwandb\u001b[0m: \tlr: 0.001\n",
      "\u001b[34m\u001b[1mwandb\u001b[0m: \toptimizer: nadam\n",
      "\u001b[34m\u001b[1mwandb\u001b[0m: \tw_init: random\n",
      "\u001b[34m\u001b[1mwandb\u001b[0m: \tweight_decay: 0\n"
     ]
    },
    {
     "data": {
      "text/html": [
       "Tracking run with wandb version 0.16.4"
      ],
      "text/plain": [
       "<IPython.core.display.HTML object>"
      ]
     },
     "metadata": {},
     "output_type": "display_data"
    },
    {
     "data": {
      "text/html": [
       "Run data is saved locally in <code>/Users/sumanta/Desktop/Numpy project/mse_error_revised/wandb/run-20240317_182050-t0640gxl</code>"
      ],
      "text/plain": [
       "<IPython.core.display.HTML object>"
      ]
     },
     "metadata": {},
     "output_type": "display_data"
    },
    {
     "data": {
      "text/html": [
       "Syncing run <strong><a href='https://wandb.ai/sumanta_roy/CS6910_assignment_1/runs/t0640gxl' target=\"_blank\">wise-sweep-51</a></strong> to <a href='https://wandb.ai/sumanta_roy/CS6910_assignment_1' target=\"_blank\">Weights & Biases</a> (<a href='https://wandb.me/run' target=\"_blank\">docs</a>)<br/>Sweep page: <a href='https://wandb.ai/sumanta_roy/CS6910_assignment_1/sweeps/etqoz0cb' target=\"_blank\">https://wandb.ai/sumanta_roy/CS6910_assignment_1/sweeps/etqoz0cb</a>"
      ],
      "text/plain": [
       "<IPython.core.display.HTML object>"
      ]
     },
     "metadata": {},
     "output_type": "display_data"
    },
    {
     "data": {
      "text/html": [
       " View project at <a href='https://wandb.ai/sumanta_roy/CS6910_assignment_1' target=\"_blank\">https://wandb.ai/sumanta_roy/CS6910_assignment_1</a>"
      ],
      "text/plain": [
       "<IPython.core.display.HTML object>"
      ]
     },
     "metadata": {},
     "output_type": "display_data"
    },
    {
     "data": {
      "text/html": [
       " View sweep at <a href='https://wandb.ai/sumanta_roy/CS6910_assignment_1/sweeps/etqoz0cb' target=\"_blank\">https://wandb.ai/sumanta_roy/CS6910_assignment_1/sweeps/etqoz0cb</a>"
      ],
      "text/plain": [
       "<IPython.core.display.HTML object>"
      ]
     },
     "metadata": {},
     "output_type": "display_data"
    },
    {
     "data": {
      "text/html": [
       " View run at <a href='https://wandb.ai/sumanta_roy/CS6910_assignment_1/runs/t0640gxl' target=\"_blank\">https://wandb.ai/sumanta_roy/CS6910_assignment_1/runs/t0640gxl</a>"
      ],
      "text/plain": [
       "<IPython.core.display.HTML object>"
      ]
     },
     "metadata": {},
     "output_type": "display_data"
    },
    {
     "name": "stdout",
     "output_type": "stream",
     "text": [
      "Epoch: 1/10; Train Loss: 0.030519382373497918; Val Loss: 0.03433754450854555\n",
      "Epoch: 2/10; Train Loss: 0.023323726115546582; Val Loss: 0.029931358385499693\n",
      "Epoch: 3/10; Train Loss: 0.018317096540879173; Val Loss: 0.027887679805892036\n",
      "Epoch: 4/10; Train Loss: 0.015465540286287646; Val Loss: 0.026568060962754735\n",
      "Epoch: 5/10; Train Loss: 0.013907872625143331; Val Loss: 0.02565896967587896\n",
      "Epoch: 6/10; Train Loss: 0.012680882159713724; Val Loss: 0.024953481773848242\n",
      "Epoch: 7/10; Train Loss: 0.01169345616288241; Val Loss: 0.024342577234665885\n",
      "Epoch: 8/10; Train Loss: 0.010814069053154804; Val Loss: 0.02381419097087382\n",
      "Epoch: 9/10; Train Loss: 0.0099595998155526; Val Loss: 0.023361925110479256\n",
      "Epoch: 10/10; Train Loss: 0.009191167689732238; Val Loss: 0.02296401501438783\n"
     ]
    },
    {
     "data": {
      "application/vnd.jupyter.widget-view+json": {
       "model_id": "",
       "version_major": 2,
       "version_minor": 0
      },
      "text/plain": [
       "VBox(children=(Label(value='0.001 MB of 0.001 MB uploaded\\r'), FloatProgress(value=1.0, max=1.0)))"
      ]
     },
     "metadata": {},
     "output_type": "display_data"
    },
    {
     "data": {
      "text/html": [
       "<style>\n",
       "    table.wandb td:nth-child(1) { padding: 0 10px; text-align: left ; width: auto;} td:nth-child(2) {text-align: left ; width: 100%}\n",
       "    .wandb-row { display: flex; flex-direction: row; flex-wrap: wrap; justify-content: flex-start; width: 100% }\n",
       "    .wandb-col { display: flex; flex-direction: column; flex-basis: 100%; flex: 1; padding: 10px; }\n",
       "    </style>\n",
       "<div class=\"wandb-row\"><div class=\"wandb-col\"><h3>Run history:</h3><br/><table class=\"wandb\"><tr><td>epoch</td><td>▁▁▁▁▂▂▂▂▃▃▃▃▃▃▃▃▄▄▄▄▅▅▅▅▆▆▆▆▆▆▆▆▇▇▇▇████</td></tr><tr><td>train_accuracy</td><td>▁▄▄▄▆▅▄█▆▆▅▅▆▇▅▃▇▆▆▃▆▅▇▆▆▆▆▇▆▆▆▅▆▇▆▇▆▆▇▇</td></tr><tr><td>train_loss</td><td>█▄▄▆▄▅▅▁▄▃▄▄▄▃▄▆▂▃▄▇▃▄▂▃▃▃▄▂▅▃▃▅▂▃▃▂▃▃▂▁</td></tr><tr><td>val_accuracy</td><td>▁▄▅▆▆▆▆▇▇▇▇▇▇▇▇▇▇▇▇█▇███████████████████</td></tr><tr><td>validation_loss</td><td>█▅▄▃▃▃▃▂▂▂▂▂▂▂▂▂▂▂▂▂▂▁▁▁▁▁▁▁▁▁▁▁▁▁▁▁▁▁▁▁</td></tr></table><br/></div><div class=\"wandb-col\"><h3>Run summary:</h3><br/><table class=\"wandb\"><tr><td>epoch</td><td>10</td></tr><tr><td>train_accuracy</td><td>93.75</td></tr><tr><td>train_loss</td><td>0.00919</td></tr><tr><td>val_accuracy</td><td>83.38333</td></tr><tr><td>validation_loss</td><td>0.02296</td></tr></table><br/></div></div>"
      ],
      "text/plain": [
       "<IPython.core.display.HTML object>"
      ]
     },
     "metadata": {},
     "output_type": "display_data"
    },
    {
     "data": {
      "text/html": [
       " View run <strong style=\"color:#cdcd00\">wise-sweep-51</strong> at: <a href='https://wandb.ai/sumanta_roy/CS6910_assignment_1/runs/t0640gxl' target=\"_blank\">https://wandb.ai/sumanta_roy/CS6910_assignment_1/runs/t0640gxl</a><br/>Synced 6 W&B file(s), 0 media file(s), 0 artifact file(s) and 0 other file(s)"
      ],
      "text/plain": [
       "<IPython.core.display.HTML object>"
      ]
     },
     "metadata": {},
     "output_type": "display_data"
    },
    {
     "data": {
      "text/html": [
       "Find logs at: <code>./wandb/run-20240317_182050-t0640gxl/logs</code>"
      ],
      "text/plain": [
       "<IPython.core.display.HTML object>"
      ]
     },
     "metadata": {},
     "output_type": "display_data"
    },
    {
     "name": "stderr",
     "output_type": "stream",
     "text": [
      "\u001b[34m\u001b[1mwandb\u001b[0m: Agent Starting Run: lkefobna with config:\n",
      "\u001b[34m\u001b[1mwandb\u001b[0m: \tactivation: tanh\n",
      "\u001b[34m\u001b[1mwandb\u001b[0m: \tbatch_size: 16\n",
      "\u001b[34m\u001b[1mwandb\u001b[0m: \tepochs: 10\n",
      "\u001b[34m\u001b[1mwandb\u001b[0m: \thidden_layers: 5\n",
      "\u001b[34m\u001b[1mwandb\u001b[0m: \thidden_size: 64\n",
      "\u001b[34m\u001b[1mwandb\u001b[0m: \tloss: mse\n",
      "\u001b[34m\u001b[1mwandb\u001b[0m: \tlr: 0.0001\n",
      "\u001b[34m\u001b[1mwandb\u001b[0m: \toptimizer: adam\n",
      "\u001b[34m\u001b[1mwandb\u001b[0m: \tw_init: glorot\n",
      "\u001b[34m\u001b[1mwandb\u001b[0m: \tweight_decay: 0\n"
     ]
    },
    {
     "data": {
      "application/vnd.jupyter.widget-view+json": {
       "model_id": "c49b3c2c9c674329b3b2d59da8b4b8bd",
       "version_major": 2,
       "version_minor": 0
      },
      "text/plain": [
       "VBox(children=(Label(value='Waiting for wandb.init()...\\r'), FloatProgress(value=0.01115192083333467, max=1.0)…"
      ]
     },
     "metadata": {},
     "output_type": "display_data"
    },
    {
     "data": {
      "text/html": [
       "Tracking run with wandb version 0.16.4"
      ],
      "text/plain": [
       "<IPython.core.display.HTML object>"
      ]
     },
     "metadata": {},
     "output_type": "display_data"
    },
    {
     "data": {
      "text/html": [
       "Run data is saved locally in <code>/Users/sumanta/Desktop/Numpy project/mse_error_revised/wandb/run-20240317_182253-lkefobna</code>"
      ],
      "text/plain": [
       "<IPython.core.display.HTML object>"
      ]
     },
     "metadata": {},
     "output_type": "display_data"
    },
    {
     "data": {
      "text/html": [
       "Syncing run <strong><a href='https://wandb.ai/sumanta_roy/CS6910_assignment_1/runs/lkefobna' target=\"_blank\">eager-sweep-52</a></strong> to <a href='https://wandb.ai/sumanta_roy/CS6910_assignment_1' target=\"_blank\">Weights & Biases</a> (<a href='https://wandb.me/run' target=\"_blank\">docs</a>)<br/>Sweep page: <a href='https://wandb.ai/sumanta_roy/CS6910_assignment_1/sweeps/etqoz0cb' target=\"_blank\">https://wandb.ai/sumanta_roy/CS6910_assignment_1/sweeps/etqoz0cb</a>"
      ],
      "text/plain": [
       "<IPython.core.display.HTML object>"
      ]
     },
     "metadata": {},
     "output_type": "display_data"
    },
    {
     "data": {
      "text/html": [
       " View project at <a href='https://wandb.ai/sumanta_roy/CS6910_assignment_1' target=\"_blank\">https://wandb.ai/sumanta_roy/CS6910_assignment_1</a>"
      ],
      "text/plain": [
       "<IPython.core.display.HTML object>"
      ]
     },
     "metadata": {},
     "output_type": "display_data"
    },
    {
     "data": {
      "text/html": [
       " View sweep at <a href='https://wandb.ai/sumanta_roy/CS6910_assignment_1/sweeps/etqoz0cb' target=\"_blank\">https://wandb.ai/sumanta_roy/CS6910_assignment_1/sweeps/etqoz0cb</a>"
      ],
      "text/plain": [
       "<IPython.core.display.HTML object>"
      ]
     },
     "metadata": {},
     "output_type": "display_data"
    },
    {
     "data": {
      "text/html": [
       " View run at <a href='https://wandb.ai/sumanta_roy/CS6910_assignment_1/runs/lkefobna' target=\"_blank\">https://wandb.ai/sumanta_roy/CS6910_assignment_1/runs/lkefobna</a>"
      ],
      "text/plain": [
       "<IPython.core.display.HTML object>"
      ]
     },
     "metadata": {},
     "output_type": "display_data"
    },
    {
     "name": "stdout",
     "output_type": "stream",
     "text": [
      "Epoch: 1/10; Train Loss: 0.015739898068893348; Val Loss: 0.02565391409447829\n",
      "Epoch: 2/10; Train Loss: 0.012716731278519447; Val Loss: 0.02306435622216898\n",
      "Epoch: 3/10; Train Loss: 0.010645650149684733; Val Loss: 0.021838837810530448\n",
      "Epoch: 4/10; Train Loss: 0.008820651816296984; Val Loss: 0.021043086787974914\n",
      "Epoch: 5/10; Train Loss: 0.007434635126471817; Val Loss: 0.02046354139180267\n",
      "Epoch: 6/10; Train Loss: 0.0066470294934494354; Val Loss: 0.020023521679568414\n",
      "Epoch: 7/10; Train Loss: 0.006347887840188434; Val Loss: 0.019677304512968268\n",
      "Epoch: 8/10; Train Loss: 0.006299065311340266; Val Loss: 0.019394132530592016\n",
      "Epoch: 9/10; Train Loss: 0.006335825367716699; Val Loss: 0.019154824225835556\n",
      "Epoch: 10/10; Train Loss: 0.0063806484794559585; Val Loss: 0.018947887336432552\n"
     ]
    },
    {
     "data": {
      "application/vnd.jupyter.widget-view+json": {
       "model_id": "",
       "version_major": 2,
       "version_minor": 0
      },
      "text/plain": [
       "VBox(children=(Label(value='0.001 MB of 0.027 MB uploaded\\r'), FloatProgress(value=0.027239559349651093, max=1…"
      ]
     },
     "metadata": {},
     "output_type": "display_data"
    },
    {
     "data": {
      "text/html": [
       "<style>\n",
       "    table.wandb td:nth-child(1) { padding: 0 10px; text-align: left ; width: auto;} td:nth-child(2) {text-align: left ; width: 100%}\n",
       "    .wandb-row { display: flex; flex-direction: row; flex-wrap: wrap; justify-content: flex-start; width: 100% }\n",
       "    .wandb-col { display: flex; flex-direction: column; flex-basis: 100%; flex: 1; padding: 10px; }\n",
       "    </style>\n",
       "<div class=\"wandb-row\"><div class=\"wandb-col\"><h3>Run history:</h3><br/><table class=\"wandb\"><tr><td>epoch</td><td>▁▁▁▁▂▂▂▂▃▃▃▃▃▃▃▃▄▄▄▄▅▅▅▅▆▆▆▆▆▆▆▆▇▇▇▇████</td></tr><tr><td>train_accuracy</td><td>▁▇▇▁▃▁▅█▂▆▆▆█▇▅▂▅▇▆▂▆▃▆▆▇▇▃▆▆█▅▃▅▆▅▇▅█▆█</td></tr><tr><td>train_loss</td><td>█▄▄▇▆▇▄▁▆▄▄▅▂▂▄▆▃▂▃▇▃▅▃▂▃▃▄▃▄▂▃▆▅▂▄▁▄▂▄▁</td></tr><tr><td>val_accuracy</td><td>▁▄▅▆▆▆▆▇▇▇▇▇▇▇▇▇▇▇██████████████████████</td></tr><tr><td>validation_loss</td><td>█▄▃▃▃▂▂▂▂▂▂▂▂▂▂▂▁▁▁▁▁▁▁▁▁▁▁▁▁▁▁▁▁▁▁▁▁▁▁▁</td></tr></table><br/></div><div class=\"wandb-col\"><h3>Run summary:</h3><br/><table class=\"wandb\"><tr><td>epoch</td><td>10</td></tr><tr><td>train_accuracy</td><td>93.75</td></tr><tr><td>train_loss</td><td>0.00638</td></tr><tr><td>val_accuracy</td><td>86.23333</td></tr><tr><td>validation_loss</td><td>0.01895</td></tr></table><br/></div></div>"
      ],
      "text/plain": [
       "<IPython.core.display.HTML object>"
      ]
     },
     "metadata": {},
     "output_type": "display_data"
    },
    {
     "data": {
      "text/html": [
       " View run <strong style=\"color:#cdcd00\">eager-sweep-52</strong> at: <a href='https://wandb.ai/sumanta_roy/CS6910_assignment_1/runs/lkefobna' target=\"_blank\">https://wandb.ai/sumanta_roy/CS6910_assignment_1/runs/lkefobna</a><br/>Synced 6 W&B file(s), 0 media file(s), 0 artifact file(s) and 0 other file(s)"
      ],
      "text/plain": [
       "<IPython.core.display.HTML object>"
      ]
     },
     "metadata": {},
     "output_type": "display_data"
    },
    {
     "data": {
      "text/html": [
       "Find logs at: <code>./wandb/run-20240317_182253-lkefobna/logs</code>"
      ],
      "text/plain": [
       "<IPython.core.display.HTML object>"
      ]
     },
     "metadata": {},
     "output_type": "display_data"
    },
    {
     "name": "stderr",
     "output_type": "stream",
     "text": [
      "\u001b[34m\u001b[1mwandb\u001b[0m: Agent Starting Run: n4eqcglm with config:\n",
      "\u001b[34m\u001b[1mwandb\u001b[0m: \tactivation: tanh\n",
      "\u001b[34m\u001b[1mwandb\u001b[0m: \tbatch_size: 32\n",
      "\u001b[34m\u001b[1mwandb\u001b[0m: \tepochs: 10\n",
      "\u001b[34m\u001b[1mwandb\u001b[0m: \thidden_layers: 4\n",
      "\u001b[34m\u001b[1mwandb\u001b[0m: \thidden_size: 128\n",
      "\u001b[34m\u001b[1mwandb\u001b[0m: \tloss: mse\n",
      "\u001b[34m\u001b[1mwandb\u001b[0m: \tlr: 0.001\n",
      "\u001b[34m\u001b[1mwandb\u001b[0m: \toptimizer: adam\n",
      "\u001b[34m\u001b[1mwandb\u001b[0m: \tw_init: glorot\n",
      "\u001b[34m\u001b[1mwandb\u001b[0m: \tweight_decay: 0\n"
     ]
    },
    {
     "data": {
      "text/html": [
       "Tracking run with wandb version 0.16.4"
      ],
      "text/plain": [
       "<IPython.core.display.HTML object>"
      ]
     },
     "metadata": {},
     "output_type": "display_data"
    },
    {
     "data": {
      "text/html": [
       "Run data is saved locally in <code>/Users/sumanta/Desktop/Numpy project/mse_error_revised/wandb/run-20240317_182436-n4eqcglm</code>"
      ],
      "text/plain": [
       "<IPython.core.display.HTML object>"
      ]
     },
     "metadata": {},
     "output_type": "display_data"
    },
    {
     "data": {
      "text/html": [
       "Syncing run <strong><a href='https://wandb.ai/sumanta_roy/CS6910_assignment_1/runs/n4eqcglm' target=\"_blank\">generous-sweep-53</a></strong> to <a href='https://wandb.ai/sumanta_roy/CS6910_assignment_1' target=\"_blank\">Weights & Biases</a> (<a href='https://wandb.me/run' target=\"_blank\">docs</a>)<br/>Sweep page: <a href='https://wandb.ai/sumanta_roy/CS6910_assignment_1/sweeps/etqoz0cb' target=\"_blank\">https://wandb.ai/sumanta_roy/CS6910_assignment_1/sweeps/etqoz0cb</a>"
      ],
      "text/plain": [
       "<IPython.core.display.HTML object>"
      ]
     },
     "metadata": {},
     "output_type": "display_data"
    },
    {
     "data": {
      "text/html": [
       " View project at <a href='https://wandb.ai/sumanta_roy/CS6910_assignment_1' target=\"_blank\">https://wandb.ai/sumanta_roy/CS6910_assignment_1</a>"
      ],
      "text/plain": [
       "<IPython.core.display.HTML object>"
      ]
     },
     "metadata": {},
     "output_type": "display_data"
    },
    {
     "data": {
      "text/html": [
       " View sweep at <a href='https://wandb.ai/sumanta_roy/CS6910_assignment_1/sweeps/etqoz0cb' target=\"_blank\">https://wandb.ai/sumanta_roy/CS6910_assignment_1/sweeps/etqoz0cb</a>"
      ],
      "text/plain": [
       "<IPython.core.display.HTML object>"
      ]
     },
     "metadata": {},
     "output_type": "display_data"
    },
    {
     "data": {
      "text/html": [
       " View run at <a href='https://wandb.ai/sumanta_roy/CS6910_assignment_1/runs/n4eqcglm' target=\"_blank\">https://wandb.ai/sumanta_roy/CS6910_assignment_1/runs/n4eqcglm</a>"
      ],
      "text/plain": [
       "<IPython.core.display.HTML object>"
      ]
     },
     "metadata": {},
     "output_type": "display_data"
    },
    {
     "name": "stdout",
     "output_type": "stream",
     "text": [
      "Epoch: 1/10; Train Loss: 0.014485355493635357; Val Loss: 0.02059639550752267\n",
      "Epoch: 2/10; Train Loss: 0.013224119216600319; Val Loss: 0.019056929648269775\n",
      "Epoch: 3/10; Train Loss: 0.012233735424171374; Val Loss: 0.018188768600120725\n",
      "Epoch: 4/10; Train Loss: 0.011539567371993197; Val Loss: 0.017616730808252292\n",
      "Epoch: 5/10; Train Loss: 0.01091612048175716; Val Loss: 0.01726376314110622\n",
      "Epoch: 6/10; Train Loss: 0.010396554949741343; Val Loss: 0.01712382641646682\n",
      "Epoch: 7/10; Train Loss: 0.010008001208036358; Val Loss: 0.01707749047393626\n",
      "Epoch: 8/10; Train Loss: 0.009340836648342295; Val Loss: 0.01708371227141255\n",
      "Epoch: 9/10; Train Loss: 0.008857877244247067; Val Loss: 0.016958028605145236\n",
      "Epoch: 10/10; Train Loss: 0.008463084174568702; Val Loss: 0.016529651572983636\n"
     ]
    },
    {
     "data": {
      "application/vnd.jupyter.widget-view+json": {
       "model_id": "",
       "version_major": 2,
       "version_minor": 0
      },
      "text/plain": [
       "VBox(children=(Label(value='0.001 MB of 0.001 MB uploaded\\r'), FloatProgress(value=1.0, max=1.0)))"
      ]
     },
     "metadata": {},
     "output_type": "display_data"
    },
    {
     "data": {
      "text/html": [
       "<style>\n",
       "    table.wandb td:nth-child(1) { padding: 0 10px; text-align: left ; width: auto;} td:nth-child(2) {text-align: left ; width: 100%}\n",
       "    .wandb-row { display: flex; flex-direction: row; flex-wrap: wrap; justify-content: flex-start; width: 100% }\n",
       "    .wandb-col { display: flex; flex-direction: column; flex-basis: 100%; flex: 1; padding: 10px; }\n",
       "    </style>\n",
       "<div class=\"wandb-row\"><div class=\"wandb-col\"><h3>Run history:</h3><br/><table class=\"wandb\"><tr><td>epoch</td><td>▁▁▁▁▂▂▂▂▃▃▃▃▃▃▃▃▄▄▄▄▅▅▅▅▆▆▆▆▆▆▆▆▇▇▇▇████</td></tr><tr><td>train_accuracy</td><td>▄▅▆▇▆▆▁▅▆▆▇▃█▆▃▆▆▆█▅█▆▆▆▇██▆█▆▆▆▇█▇▆█▇▇▇</td></tr><tr><td>train_loss</td><td>▅▄▂▂▃▃█▆▄▄▁▆▂▃▇▅▃▃▁▅▁▃▃▄▃▂▁▅▁▃▃▄▃▂▁▄▂▃▂▂</td></tr><tr><td>val_accuracy</td><td>▁▃▃▅▅▆▆▆▅▆▅▇▇▇▇▇▆▇▆▇▇▇▇▇▇█▇█▇█▇▇▇██████▇</td></tr><tr><td>validation_loss</td><td>█▆▆▄▄▃▃▃▄▃▃▂▂▂▂▂▃▂▃▁▂▂▂▂▂▁▂▁▂▁▂▂▂▁▂▁▁▁▁▁</td></tr></table><br/></div><div class=\"wandb-col\"><h3>Run summary:</h3><br/><table class=\"wandb\"><tr><td>epoch</td><td>10</td></tr><tr><td>train_accuracy</td><td>93.75</td></tr><tr><td>train_loss</td><td>0.00846</td></tr><tr><td>val_accuracy</td><td>88.21667</td></tr><tr><td>validation_loss</td><td>0.01653</td></tr></table><br/></div></div>"
      ],
      "text/plain": [
       "<IPython.core.display.HTML object>"
      ]
     },
     "metadata": {},
     "output_type": "display_data"
    },
    {
     "data": {
      "text/html": [
       " View run <strong style=\"color:#cdcd00\">generous-sweep-53</strong> at: <a href='https://wandb.ai/sumanta_roy/CS6910_assignment_1/runs/n4eqcglm' target=\"_blank\">https://wandb.ai/sumanta_roy/CS6910_assignment_1/runs/n4eqcglm</a><br/>Synced 6 W&B file(s), 0 media file(s), 0 artifact file(s) and 0 other file(s)"
      ],
      "text/plain": [
       "<IPython.core.display.HTML object>"
      ]
     },
     "metadata": {},
     "output_type": "display_data"
    },
    {
     "data": {
      "text/html": [
       "Find logs at: <code>./wandb/run-20240317_182436-n4eqcglm/logs</code>"
      ],
      "text/plain": [
       "<IPython.core.display.HTML object>"
      ]
     },
     "metadata": {},
     "output_type": "display_data"
    },
    {
     "name": "stderr",
     "output_type": "stream",
     "text": [
      "\u001b[34m\u001b[1mwandb\u001b[0m: Sweep Agent: Waiting for job.\n",
      "\u001b[34m\u001b[1mwandb\u001b[0m: Job received.\n",
      "\u001b[34m\u001b[1mwandb\u001b[0m: Agent Starting Run: 8o1cuxpd with config:\n",
      "\u001b[34m\u001b[1mwandb\u001b[0m: \tactivation: tanh\n",
      "\u001b[34m\u001b[1mwandb\u001b[0m: \tbatch_size: 16\n",
      "\u001b[34m\u001b[1mwandb\u001b[0m: \tepochs: 10\n",
      "\u001b[34m\u001b[1mwandb\u001b[0m: \thidden_layers: 5\n",
      "\u001b[34m\u001b[1mwandb\u001b[0m: \thidden_size: 64\n",
      "\u001b[34m\u001b[1mwandb\u001b[0m: \tloss: mse\n",
      "\u001b[34m\u001b[1mwandb\u001b[0m: \tlr: 0.001\n",
      "\u001b[34m\u001b[1mwandb\u001b[0m: \toptimizer: adam\n",
      "\u001b[34m\u001b[1mwandb\u001b[0m: \tw_init: random\n",
      "\u001b[34m\u001b[1mwandb\u001b[0m: \tweight_decay: 0\n"
     ]
    },
    {
     "data": {
      "text/html": [
       "Tracking run with wandb version 0.16.4"
      ],
      "text/plain": [
       "<IPython.core.display.HTML object>"
      ]
     },
     "metadata": {},
     "output_type": "display_data"
    },
    {
     "data": {
      "text/html": [
       "Run data is saved locally in <code>/Users/sumanta/Desktop/Numpy project/mse_error_revised/wandb/run-20240317_182712-8o1cuxpd</code>"
      ],
      "text/plain": [
       "<IPython.core.display.HTML object>"
      ]
     },
     "metadata": {},
     "output_type": "display_data"
    },
    {
     "data": {
      "text/html": [
       "Syncing run <strong><a href='https://wandb.ai/sumanta_roy/CS6910_assignment_1/runs/8o1cuxpd' target=\"_blank\">glowing-sweep-54</a></strong> to <a href='https://wandb.ai/sumanta_roy/CS6910_assignment_1' target=\"_blank\">Weights & Biases</a> (<a href='https://wandb.me/run' target=\"_blank\">docs</a>)<br/>Sweep page: <a href='https://wandb.ai/sumanta_roy/CS6910_assignment_1/sweeps/etqoz0cb' target=\"_blank\">https://wandb.ai/sumanta_roy/CS6910_assignment_1/sweeps/etqoz0cb</a>"
      ],
      "text/plain": [
       "<IPython.core.display.HTML object>"
      ]
     },
     "metadata": {},
     "output_type": "display_data"
    },
    {
     "data": {
      "text/html": [
       " View project at <a href='https://wandb.ai/sumanta_roy/CS6910_assignment_1' target=\"_blank\">https://wandb.ai/sumanta_roy/CS6910_assignment_1</a>"
      ],
      "text/plain": [
       "<IPython.core.display.HTML object>"
      ]
     },
     "metadata": {},
     "output_type": "display_data"
    },
    {
     "data": {
      "text/html": [
       " View sweep at <a href='https://wandb.ai/sumanta_roy/CS6910_assignment_1/sweeps/etqoz0cb' target=\"_blank\">https://wandb.ai/sumanta_roy/CS6910_assignment_1/sweeps/etqoz0cb</a>"
      ],
      "text/plain": [
       "<IPython.core.display.HTML object>"
      ]
     },
     "metadata": {},
     "output_type": "display_data"
    },
    {
     "data": {
      "text/html": [
       " View run at <a href='https://wandb.ai/sumanta_roy/CS6910_assignment_1/runs/8o1cuxpd' target=\"_blank\">https://wandb.ai/sumanta_roy/CS6910_assignment_1/runs/8o1cuxpd</a>"
      ],
      "text/plain": [
       "<IPython.core.display.HTML object>"
      ]
     },
     "metadata": {},
     "output_type": "display_data"
    },
    {
     "name": "stdout",
     "output_type": "stream",
     "text": [
      "Epoch: 1/10; Train Loss: 0.01262922576942443; Val Loss: 0.027069721250670357\n",
      "Epoch: 2/10; Train Loss: 0.009645902693979606; Val Loss: 0.024496566384678047\n",
      "Epoch: 3/10; Train Loss: 0.013189640668148575; Val Loss: 0.02348343585798719\n",
      "Epoch: 4/10; Train Loss: 0.010067317573712918; Val Loss: 0.02225480530367953\n",
      "Epoch: 5/10; Train Loss: 0.008680422005684434; Val Loss: 0.02133253047403639\n",
      "Epoch: 6/10; Train Loss: 0.009633522134721434; Val Loss: 0.020949341265895573\n",
      "Epoch: 7/10; Train Loss: 0.009275380604559225; Val Loss: 0.02069426221294607\n",
      "Epoch: 8/10; Train Loss: 0.009677019629674818; Val Loss: 0.020856548743311776\n",
      "Epoch: 9/10; Train Loss: 0.009646891225512499; Val Loss: 0.02103869154099193\n",
      "Epoch: 10/10; Train Loss: 0.009112189485524665; Val Loss: 0.021158118460409964\n"
     ]
    },
    {
     "data": {
      "application/vnd.jupyter.widget-view+json": {
       "model_id": "",
       "version_major": 2,
       "version_minor": 0
      },
      "text/plain": [
       "VBox(children=(Label(value='0.001 MB of 0.001 MB uploaded\\r'), FloatProgress(value=1.0, max=1.0)))"
      ]
     },
     "metadata": {},
     "output_type": "display_data"
    },
    {
     "data": {
      "text/html": [
       "<style>\n",
       "    table.wandb td:nth-child(1) { padding: 0 10px; text-align: left ; width: auto;} td:nth-child(2) {text-align: left ; width: 100%}\n",
       "    .wandb-row { display: flex; flex-direction: row; flex-wrap: wrap; justify-content: flex-start; width: 100% }\n",
       "    .wandb-col { display: flex; flex-direction: column; flex-basis: 100%; flex: 1; padding: 10px; }\n",
       "    </style>\n",
       "<div class=\"wandb-row\"><div class=\"wandb-col\"><h3>Run history:</h3><br/><table class=\"wandb\"><tr><td>epoch</td><td>▁▁▁▁▂▂▂▂▃▃▃▃▃▃▃▃▄▄▄▄▅▅▅▅▆▆▆▆▆▆▆▆▇▇▇▇████</td></tr><tr><td>train_accuracy</td><td>▃▆▅▁▂▄▅█▅▇▇▅██▆▅▆▆▃▃▆▇▆▇▆▇██▅█▆▅▅█▄▆▆▆▇█</td></tr><tr><td>train_loss</td><td>▆▄▄█▆▅▄▁▄▃▃▅▂▂▃▄▂▃▅▇▄▃▃▂▂▃▂▁▅▁▄▅▄▂▄▃▃▂▂▁</td></tr><tr><td>val_accuracy</td><td>▁▃▅▅▆▆▆▆▆▇▇▇▇▇▇▇▇▇▇█▇▇▇███████▇█▇███████</td></tr><tr><td>validation_loss</td><td>█▅▄▄▃▃▃▂▂▂▂▂▂▂▂▂▁▂▂▁▁▁▂▁▁▁▁▁▁▁▂▁▁▁▁▁▁▁▁▁</td></tr></table><br/></div><div class=\"wandb-col\"><h3>Run summary:</h3><br/><table class=\"wandb\"><tr><td>epoch</td><td>10</td></tr><tr><td>train_accuracy</td><td>93.75</td></tr><tr><td>train_loss</td><td>0.00911</td></tr><tr><td>val_accuracy</td><td>85.45</td></tr><tr><td>validation_loss</td><td>0.02116</td></tr></table><br/></div></div>"
      ],
      "text/plain": [
       "<IPython.core.display.HTML object>"
      ]
     },
     "metadata": {},
     "output_type": "display_data"
    },
    {
     "data": {
      "text/html": [
       " View run <strong style=\"color:#cdcd00\">glowing-sweep-54</strong> at: <a href='https://wandb.ai/sumanta_roy/CS6910_assignment_1/runs/8o1cuxpd' target=\"_blank\">https://wandb.ai/sumanta_roy/CS6910_assignment_1/runs/8o1cuxpd</a><br/>Synced 6 W&B file(s), 0 media file(s), 0 artifact file(s) and 0 other file(s)"
      ],
      "text/plain": [
       "<IPython.core.display.HTML object>"
      ]
     },
     "metadata": {},
     "output_type": "display_data"
    },
    {
     "data": {
      "text/html": [
       "Find logs at: <code>./wandb/run-20240317_182712-8o1cuxpd/logs</code>"
      ],
      "text/plain": [
       "<IPython.core.display.HTML object>"
      ]
     },
     "metadata": {},
     "output_type": "display_data"
    },
    {
     "name": "stderr",
     "output_type": "stream",
     "text": [
      "\u001b[34m\u001b[1mwandb\u001b[0m: Sweep Agent: Waiting for job.\n",
      "\u001b[34m\u001b[1mwandb\u001b[0m: Job received.\n",
      "\u001b[34m\u001b[1mwandb\u001b[0m: Agent Starting Run: di1jovz4 with config:\n",
      "\u001b[34m\u001b[1mwandb\u001b[0m: \tactivation: tanh\n",
      "\u001b[34m\u001b[1mwandb\u001b[0m: \tbatch_size: 16\n",
      "\u001b[34m\u001b[1mwandb\u001b[0m: \tepochs: 10\n",
      "\u001b[34m\u001b[1mwandb\u001b[0m: \thidden_layers: 5\n",
      "\u001b[34m\u001b[1mwandb\u001b[0m: \thidden_size: 32\n",
      "\u001b[34m\u001b[1mwandb\u001b[0m: \tloss: mse\n",
      "\u001b[34m\u001b[1mwandb\u001b[0m: \tlr: 0.001\n",
      "\u001b[34m\u001b[1mwandb\u001b[0m: \toptimizer: rmsprop\n",
      "\u001b[34m\u001b[1mwandb\u001b[0m: \tw_init: glorot\n",
      "\u001b[34m\u001b[1mwandb\u001b[0m: \tweight_decay: 0\n"
     ]
    },
    {
     "data": {
      "text/html": [
       "Tracking run with wandb version 0.16.4"
      ],
      "text/plain": [
       "<IPython.core.display.HTML object>"
      ]
     },
     "metadata": {},
     "output_type": "display_data"
    },
    {
     "data": {
      "text/html": [
       "Run data is saved locally in <code>/Users/sumanta/Desktop/Numpy project/mse_error_revised/wandb/run-20240317_182906-di1jovz4</code>"
      ],
      "text/plain": [
       "<IPython.core.display.HTML object>"
      ]
     },
     "metadata": {},
     "output_type": "display_data"
    },
    {
     "data": {
      "text/html": [
       "Syncing run <strong><a href='https://wandb.ai/sumanta_roy/CS6910_assignment_1/runs/di1jovz4' target=\"_blank\">classic-sweep-55</a></strong> to <a href='https://wandb.ai/sumanta_roy/CS6910_assignment_1' target=\"_blank\">Weights & Biases</a> (<a href='https://wandb.me/run' target=\"_blank\">docs</a>)<br/>Sweep page: <a href='https://wandb.ai/sumanta_roy/CS6910_assignment_1/sweeps/etqoz0cb' target=\"_blank\">https://wandb.ai/sumanta_roy/CS6910_assignment_1/sweeps/etqoz0cb</a>"
      ],
      "text/plain": [
       "<IPython.core.display.HTML object>"
      ]
     },
     "metadata": {},
     "output_type": "display_data"
    },
    {
     "data": {
      "text/html": [
       " View project at <a href='https://wandb.ai/sumanta_roy/CS6910_assignment_1' target=\"_blank\">https://wandb.ai/sumanta_roy/CS6910_assignment_1</a>"
      ],
      "text/plain": [
       "<IPython.core.display.HTML object>"
      ]
     },
     "metadata": {},
     "output_type": "display_data"
    },
    {
     "data": {
      "text/html": [
       " View sweep at <a href='https://wandb.ai/sumanta_roy/CS6910_assignment_1/sweeps/etqoz0cb' target=\"_blank\">https://wandb.ai/sumanta_roy/CS6910_assignment_1/sweeps/etqoz0cb</a>"
      ],
      "text/plain": [
       "<IPython.core.display.HTML object>"
      ]
     },
     "metadata": {},
     "output_type": "display_data"
    },
    {
     "data": {
      "text/html": [
       " View run at <a href='https://wandb.ai/sumanta_roy/CS6910_assignment_1/runs/di1jovz4' target=\"_blank\">https://wandb.ai/sumanta_roy/CS6910_assignment_1/runs/di1jovz4</a>"
      ],
      "text/plain": [
       "<IPython.core.display.HTML object>"
      ]
     },
     "metadata": {},
     "output_type": "display_data"
    },
    {
     "name": "stdout",
     "output_type": "stream",
     "text": [
      "Epoch: 1/10; Train Loss: 0.012590474097299308; Val Loss: 0.0217964916941488\n",
      "Epoch: 2/10; Train Loss: 0.007822740976541231; Val Loss: 0.020176191100421598\n",
      "Epoch: 3/10; Train Loss: 0.0075532181800870846; Val Loss: 0.01985048790287224\n",
      "Epoch: 4/10; Train Loss: 0.002381001499989305; Val Loss: 0.01937712785966003\n",
      "Epoch: 5/10; Train Loss: 0.00203215239932207; Val Loss: 0.01900144429057651\n",
      "Epoch: 6/10; Train Loss: 0.0026603313236072358; Val Loss: 0.019264330077987505\n",
      "Epoch: 7/10; Train Loss: 0.0027052714094246613; Val Loss: 0.019487684711988234\n",
      "Epoch: 8/10; Train Loss: 0.0015248520662964132; Val Loss: 0.019454619584941345\n",
      "Epoch: 9/10; Train Loss: 0.0014509279329959503; Val Loss: 0.0193603750511118\n",
      "Epoch: 10/10; Train Loss: 0.001394528161817183; Val Loss: 0.01934238593374436\n"
     ]
    },
    {
     "data": {
      "application/vnd.jupyter.widget-view+json": {
       "model_id": "",
       "version_major": 2,
       "version_minor": 0
      },
      "text/plain": [
       "VBox(children=(Label(value='0.001 MB of 0.001 MB uploaded\\r'), FloatProgress(value=1.0, max=1.0)))"
      ]
     },
     "metadata": {},
     "output_type": "display_data"
    },
    {
     "data": {
      "text/html": [
       "<style>\n",
       "    table.wandb td:nth-child(1) { padding: 0 10px; text-align: left ; width: auto;} td:nth-child(2) {text-align: left ; width: 100%}\n",
       "    .wandb-row { display: flex; flex-direction: row; flex-wrap: wrap; justify-content: flex-start; width: 100% }\n",
       "    .wandb-col { display: flex; flex-direction: column; flex-basis: 100%; flex: 1; padding: 10px; }\n",
       "    </style>\n",
       "<div class=\"wandb-row\"><div class=\"wandb-col\"><h3>Run history:</h3><br/><table class=\"wandb\"><tr><td>epoch</td><td>▁▁▁▁▂▂▂▂▃▃▃▃▃▃▃▃▄▄▄▄▅▅▅▅▆▆▆▆▆▆▆▆▇▇▇▇████</td></tr><tr><td>train_accuracy</td><td>▃▅▆▁▃▅▆▇▁▇▇▆█▇▅▃▆▇▂▃▆▅▅▇▆▆▇▇▇█▃▃▃█▅▇▅█▆▆</td></tr><tr><td>train_loss</td><td>▇▃▃█▅▄▄▁█▃▂▄▁▁▄▅▃▁▅▇▄▅▄▂▂▂▃▂▃▁▄▆▅▁▄▂▃▁▄▂</td></tr><tr><td>val_accuracy</td><td>▁▅▆▅▇▆▇▆▇▇▇▇██▇▇▆███▇█▇█████████▇▇████▇█</td></tr><tr><td>validation_loss</td><td>█▃▃▃▂▃▂▂▁▂▁▁▁▁▂▁▂▁▁▁▂▁▂▁▁▁▁▁▁▁▁▁▂▁▁▁▁▁▂▁</td></tr></table><br/></div><div class=\"wandb-col\"><h3>Run summary:</h3><br/><table class=\"wandb\"><tr><td>epoch</td><td>10</td></tr><tr><td>train_accuracy</td><td>100.0</td></tr><tr><td>train_loss</td><td>0.00139</td></tr><tr><td>val_accuracy</td><td>86.98333</td></tr><tr><td>validation_loss</td><td>0.01934</td></tr></table><br/></div></div>"
      ],
      "text/plain": [
       "<IPython.core.display.HTML object>"
      ]
     },
     "metadata": {},
     "output_type": "display_data"
    },
    {
     "data": {
      "text/html": [
       " View run <strong style=\"color:#cdcd00\">classic-sweep-55</strong> at: <a href='https://wandb.ai/sumanta_roy/CS6910_assignment_1/runs/di1jovz4' target=\"_blank\">https://wandb.ai/sumanta_roy/CS6910_assignment_1/runs/di1jovz4</a><br/>Synced 6 W&B file(s), 0 media file(s), 0 artifact file(s) and 0 other file(s)"
      ],
      "text/plain": [
       "<IPython.core.display.HTML object>"
      ]
     },
     "metadata": {},
     "output_type": "display_data"
    },
    {
     "data": {
      "text/html": [
       "Find logs at: <code>./wandb/run-20240317_182906-di1jovz4/logs</code>"
      ],
      "text/plain": [
       "<IPython.core.display.HTML object>"
      ]
     },
     "metadata": {},
     "output_type": "display_data"
    },
    {
     "name": "stderr",
     "output_type": "stream",
     "text": [
      "\u001b[34m\u001b[1mwandb\u001b[0m: Agent Starting Run: b0iks1wb with config:\n",
      "\u001b[34m\u001b[1mwandb\u001b[0m: \tactivation: tanh\n",
      "\u001b[34m\u001b[1mwandb\u001b[0m: \tbatch_size: 16\n",
      "\u001b[34m\u001b[1mwandb\u001b[0m: \tepochs: 10\n",
      "\u001b[34m\u001b[1mwandb\u001b[0m: \thidden_layers: 4\n",
      "\u001b[34m\u001b[1mwandb\u001b[0m: \thidden_size: 128\n",
      "\u001b[34m\u001b[1mwandb\u001b[0m: \tloss: mse\n",
      "\u001b[34m\u001b[1mwandb\u001b[0m: \tlr: 0.001\n",
      "\u001b[34m\u001b[1mwandb\u001b[0m: \toptimizer: rmsprop\n",
      "\u001b[34m\u001b[1mwandb\u001b[0m: \tw_init: glorot\n",
      "\u001b[34m\u001b[1mwandb\u001b[0m: \tweight_decay: 0\n"
     ]
    },
    {
     "data": {
      "text/html": [
       "Tracking run with wandb version 0.16.4"
      ],
      "text/plain": [
       "<IPython.core.display.HTML object>"
      ]
     },
     "metadata": {},
     "output_type": "display_data"
    },
    {
     "data": {
      "text/html": [
       "Run data is saved locally in <code>/Users/sumanta/Desktop/Numpy project/mse_error_revised/wandb/run-20240317_183021-b0iks1wb</code>"
      ],
      "text/plain": [
       "<IPython.core.display.HTML object>"
      ]
     },
     "metadata": {},
     "output_type": "display_data"
    },
    {
     "data": {
      "text/html": [
       "Syncing run <strong><a href='https://wandb.ai/sumanta_roy/CS6910_assignment_1/runs/b0iks1wb' target=\"_blank\">laced-sweep-56</a></strong> to <a href='https://wandb.ai/sumanta_roy/CS6910_assignment_1' target=\"_blank\">Weights & Biases</a> (<a href='https://wandb.me/run' target=\"_blank\">docs</a>)<br/>Sweep page: <a href='https://wandb.ai/sumanta_roy/CS6910_assignment_1/sweeps/etqoz0cb' target=\"_blank\">https://wandb.ai/sumanta_roy/CS6910_assignment_1/sweeps/etqoz0cb</a>"
      ],
      "text/plain": [
       "<IPython.core.display.HTML object>"
      ]
     },
     "metadata": {},
     "output_type": "display_data"
    },
    {
     "data": {
      "text/html": [
       " View project at <a href='https://wandb.ai/sumanta_roy/CS6910_assignment_1' target=\"_blank\">https://wandb.ai/sumanta_roy/CS6910_assignment_1</a>"
      ],
      "text/plain": [
       "<IPython.core.display.HTML object>"
      ]
     },
     "metadata": {},
     "output_type": "display_data"
    },
    {
     "data": {
      "text/html": [
       " View sweep at <a href='https://wandb.ai/sumanta_roy/CS6910_assignment_1/sweeps/etqoz0cb' target=\"_blank\">https://wandb.ai/sumanta_roy/CS6910_assignment_1/sweeps/etqoz0cb</a>"
      ],
      "text/plain": [
       "<IPython.core.display.HTML object>"
      ]
     },
     "metadata": {},
     "output_type": "display_data"
    },
    {
     "data": {
      "text/html": [
       " View run at <a href='https://wandb.ai/sumanta_roy/CS6910_assignment_1/runs/b0iks1wb' target=\"_blank\">https://wandb.ai/sumanta_roy/CS6910_assignment_1/runs/b0iks1wb</a>"
      ],
      "text/plain": [
       "<IPython.core.display.HTML object>"
      ]
     },
     "metadata": {},
     "output_type": "display_data"
    },
    {
     "name": "stdout",
     "output_type": "stream",
     "text": [
      "Epoch: 1/10; Train Loss: 0.012111189755115145; Val Loss: 0.020419270257633418\n",
      "Epoch: 2/10; Train Loss: 0.00941386924610056; Val Loss: 0.018852244909334934\n",
      "Epoch: 3/10; Train Loss: 0.005441556828324176; Val Loss: 0.018258587716938682\n",
      "Epoch: 4/10; Train Loss: 0.003441701529453793; Val Loss: 0.01777743638361731\n",
      "Epoch: 5/10; Train Loss: 0.005103009340624188; Val Loss: 0.017741812898646035\n",
      "Epoch: 6/10; Train Loss: 0.003469395844830436; Val Loss: 0.017478204861215384\n",
      "Epoch: 7/10; Train Loss: 0.003867397878293813; Val Loss: 0.01746391759017865\n",
      "Epoch: 8/10; Train Loss: 0.002145236356237682; Val Loss: 0.017175546701493974\n",
      "Epoch: 9/10; Train Loss: 0.002931317423126912; Val Loss: 0.01729865087190841\n",
      "Epoch: 10/10; Train Loss: 0.00153591856716799; Val Loss: 0.017098465890180704\n"
     ]
    },
    {
     "data": {
      "application/vnd.jupyter.widget-view+json": {
       "model_id": "",
       "version_major": 2,
       "version_minor": 0
      },
      "text/plain": [
       "VBox(children=(Label(value='0.001 MB of 0.001 MB uploaded\\r'), FloatProgress(value=1.0, max=1.0)))"
      ]
     },
     "metadata": {},
     "output_type": "display_data"
    },
    {
     "data": {
      "text/html": [
       "<style>\n",
       "    table.wandb td:nth-child(1) { padding: 0 10px; text-align: left ; width: auto;} td:nth-child(2) {text-align: left ; width: 100%}\n",
       "    .wandb-row { display: flex; flex-direction: row; flex-wrap: wrap; justify-content: flex-start; width: 100% }\n",
       "    .wandb-col { display: flex; flex-direction: column; flex-basis: 100%; flex: 1; padding: 10px; }\n",
       "    </style>\n",
       "<div class=\"wandb-row\"><div class=\"wandb-col\"><h3>Run history:</h3><br/><table class=\"wandb\"><tr><td>epoch</td><td>▁▁▁▁▂▂▂▂▃▃▃▃▃▃▃▃▄▄▄▄▅▅▅▅▆▆▆▆▆▆▆▆▇▇▇▇████</td></tr><tr><td>train_accuracy</td><td>▁▅▇▃▅▅▆█▃▆▇▅██▅▃█▇▃▅▆▂▆▆▇▆█▇▇█▅▅▆▇▆▆▅▇▆▇</td></tr><tr><td>train_loss</td><td>█▄▃▇▅▅▄▁▇▃▃▄▂▂▄▇▂▃▅▅▄▆▅▃▂▃▁▂▃▁▄▅▄▂▄▃▄▂▄▂</td></tr><tr><td>val_accuracy</td><td>▁▆▆▆▇▆▇▇▇▇▇▇▇▇█▇▇██▇▇▇▇███▇███▇█▇███████</td></tr><tr><td>validation_loss</td><td>█▃▃▃▂▃▂▂▂▂▂▂▂▂▁▂▂▁▁▂▂▂▂▁▁▁▂▁▁▁▂▂▂▁▁▂▁▂▂▁</td></tr></table><br/></div><div class=\"wandb-col\"><h3>Run summary:</h3><br/><table class=\"wandb\"><tr><td>epoch</td><td>10</td></tr><tr><td>train_accuracy</td><td>100.0</td></tr><tr><td>train_loss</td><td>0.00154</td></tr><tr><td>val_accuracy</td><td>88.56667</td></tr><tr><td>validation_loss</td><td>0.0171</td></tr></table><br/></div></div>"
      ],
      "text/plain": [
       "<IPython.core.display.HTML object>"
      ]
     },
     "metadata": {},
     "output_type": "display_data"
    },
    {
     "data": {
      "text/html": [
       " View run <strong style=\"color:#cdcd00\">laced-sweep-56</strong> at: <a href='https://wandb.ai/sumanta_roy/CS6910_assignment_1/runs/b0iks1wb' target=\"_blank\">https://wandb.ai/sumanta_roy/CS6910_assignment_1/runs/b0iks1wb</a><br/>Synced 6 W&B file(s), 0 media file(s), 0 artifact file(s) and 0 other file(s)"
      ],
      "text/plain": [
       "<IPython.core.display.HTML object>"
      ]
     },
     "metadata": {},
     "output_type": "display_data"
    },
    {
     "data": {
      "text/html": [
       "Find logs at: <code>./wandb/run-20240317_183021-b0iks1wb/logs</code>"
      ],
      "text/plain": [
       "<IPython.core.display.HTML object>"
      ]
     },
     "metadata": {},
     "output_type": "display_data"
    },
    {
     "name": "stderr",
     "output_type": "stream",
     "text": [
      "\u001b[34m\u001b[1mwandb\u001b[0m: Agent Starting Run: j5z5arjm with config:\n",
      "\u001b[34m\u001b[1mwandb\u001b[0m: \tactivation: tanh\n",
      "\u001b[34m\u001b[1mwandb\u001b[0m: \tbatch_size: 64\n",
      "\u001b[34m\u001b[1mwandb\u001b[0m: \tepochs: 10\n",
      "\u001b[34m\u001b[1mwandb\u001b[0m: \thidden_layers: 5\n",
      "\u001b[34m\u001b[1mwandb\u001b[0m: \thidden_size: 128\n",
      "\u001b[34m\u001b[1mwandb\u001b[0m: \tloss: mse\n",
      "\u001b[34m\u001b[1mwandb\u001b[0m: \tlr: 0.001\n",
      "\u001b[34m\u001b[1mwandb\u001b[0m: \toptimizer: nadam\n",
      "\u001b[34m\u001b[1mwandb\u001b[0m: \tw_init: glorot\n",
      "\u001b[34m\u001b[1mwandb\u001b[0m: \tweight_decay: 0\n"
     ]
    },
    {
     "data": {
      "text/html": [
       "Tracking run with wandb version 0.16.4"
      ],
      "text/plain": [
       "<IPython.core.display.HTML object>"
      ]
     },
     "metadata": {},
     "output_type": "display_data"
    },
    {
     "data": {
      "text/html": [
       "Run data is saved locally in <code>/Users/sumanta/Desktop/Numpy project/mse_error_revised/wandb/run-20240317_183327-j5z5arjm</code>"
      ],
      "text/plain": [
       "<IPython.core.display.HTML object>"
      ]
     },
     "metadata": {},
     "output_type": "display_data"
    },
    {
     "data": {
      "text/html": [
       "Syncing run <strong><a href='https://wandb.ai/sumanta_roy/CS6910_assignment_1/runs/j5z5arjm' target=\"_blank\">glamorous-sweep-57</a></strong> to <a href='https://wandb.ai/sumanta_roy/CS6910_assignment_1' target=\"_blank\">Weights & Biases</a> (<a href='https://wandb.me/run' target=\"_blank\">docs</a>)<br/>Sweep page: <a href='https://wandb.ai/sumanta_roy/CS6910_assignment_1/sweeps/etqoz0cb' target=\"_blank\">https://wandb.ai/sumanta_roy/CS6910_assignment_1/sweeps/etqoz0cb</a>"
      ],
      "text/plain": [
       "<IPython.core.display.HTML object>"
      ]
     },
     "metadata": {},
     "output_type": "display_data"
    },
    {
     "data": {
      "text/html": [
       " View project at <a href='https://wandb.ai/sumanta_roy/CS6910_assignment_1' target=\"_blank\">https://wandb.ai/sumanta_roy/CS6910_assignment_1</a>"
      ],
      "text/plain": [
       "<IPython.core.display.HTML object>"
      ]
     },
     "metadata": {},
     "output_type": "display_data"
    },
    {
     "data": {
      "text/html": [
       " View sweep at <a href='https://wandb.ai/sumanta_roy/CS6910_assignment_1/sweeps/etqoz0cb' target=\"_blank\">https://wandb.ai/sumanta_roy/CS6910_assignment_1/sweeps/etqoz0cb</a>"
      ],
      "text/plain": [
       "<IPython.core.display.HTML object>"
      ]
     },
     "metadata": {},
     "output_type": "display_data"
    },
    {
     "data": {
      "text/html": [
       " View run at <a href='https://wandb.ai/sumanta_roy/CS6910_assignment_1/runs/j5z5arjm' target=\"_blank\">https://wandb.ai/sumanta_roy/CS6910_assignment_1/runs/j5z5arjm</a>"
      ],
      "text/plain": [
       "<IPython.core.display.HTML object>"
      ]
     },
     "metadata": {},
     "output_type": "display_data"
    },
    {
     "name": "stdout",
     "output_type": "stream",
     "text": [
      "Epoch: 1/10; Train Loss: 0.015136074606527203; Val Loss: 0.021932355222240036\n",
      "Epoch: 2/10; Train Loss: 0.015085872567409508; Val Loss: 0.020331266386034823\n",
      "Epoch: 3/10; Train Loss: 0.015006862177875401; Val Loss: 0.019515040823682953\n",
      "Epoch: 4/10; Train Loss: 0.014862268415220637; Val Loss: 0.01900829166287169\n",
      "Epoch: 5/10; Train Loss: 0.014712662006275513; Val Loss: 0.018656028040882934\n",
      "Epoch: 6/10; Train Loss: 0.014580405610773898; Val Loss: 0.018390919204532483\n",
      "Epoch: 7/10; Train Loss: 0.014467271363645447; Val Loss: 0.018179757552756894\n",
      "Epoch: 8/10; Train Loss: 0.014369421510051956; Val Loss: 0.01800487987498246\n",
      "Epoch: 9/10; Train Loss: 0.014280739030645459; Val Loss: 0.01785626625386146\n",
      "Epoch: 10/10; Train Loss: 0.014194755678610931; Val Loss: 0.01772781168185822\n"
     ]
    },
    {
     "data": {
      "application/vnd.jupyter.widget-view+json": {
       "model_id": "",
       "version_major": 2,
       "version_minor": 0
      },
      "text/plain": [
       "VBox(children=(Label(value='0.001 MB of 0.001 MB uploaded\\r'), FloatProgress(value=1.0, max=1.0)))"
      ]
     },
     "metadata": {},
     "output_type": "display_data"
    },
    {
     "data": {
      "text/html": [
       "<style>\n",
       "    table.wandb td:nth-child(1) { padding: 0 10px; text-align: left ; width: auto;} td:nth-child(2) {text-align: left ; width: 100%}\n",
       "    .wandb-row { display: flex; flex-direction: row; flex-wrap: wrap; justify-content: flex-start; width: 100% }\n",
       "    .wandb-col { display: flex; flex-direction: column; flex-basis: 100%; flex: 1; padding: 10px; }\n",
       "    </style>\n",
       "<div class=\"wandb-row\"><div class=\"wandb-col\"><h3>Run history:</h3><br/><table class=\"wandb\"><tr><td>epoch</td><td>▁▁▁▁▂▂▂▂▃▃▃▃▃▃▃▃▄▄▄▄▅▅▅▅▆▆▆▆▆▆▆▆▇▇▇▇████</td></tr><tr><td>train_accuracy</td><td>▁▇▄▄▃▂▇▅▄▆▃▂▃▄▄▅▂█▅▅▆▄▅▆▅▄▅▆▇▅▃▄▇▆▆▅▆▃█▇</td></tr><tr><td>train_loss</td><td>█▄▅▅▇▇▂▅▅▄▆▆▆▄▅▄▇▂▅▃▃▅▄▂▅▅▃▃▂▅▆▄▃▃▃▃▃▅▁▂</td></tr><tr><td>val_accuracy</td><td>▁▂▄▅▅▆▆▆▆▆▆▆▆▇▆▇▇▇▇▇▇▇▇▇▇▇█▇▇▇█▇▇▇█▇████</td></tr><tr><td>validation_loss</td><td>█▆▄▄▄▃▃▃▃▃▂▂▂▂▂▂▂▂▂▂▂▂▂▂▂▂▁▁▂▁▁▁▁▂▁▁▁▁▁▁</td></tr></table><br/></div><div class=\"wandb-col\"><h3>Run summary:</h3><br/><table class=\"wandb\"><tr><td>epoch</td><td>10</td></tr><tr><td>train_accuracy</td><td>87.5</td></tr><tr><td>train_loss</td><td>0.01419</td></tr><tr><td>val_accuracy</td><td>87.63333</td></tr><tr><td>validation_loss</td><td>0.01773</td></tr></table><br/></div></div>"
      ],
      "text/plain": [
       "<IPython.core.display.HTML object>"
      ]
     },
     "metadata": {},
     "output_type": "display_data"
    },
    {
     "data": {
      "text/html": [
       " View run <strong style=\"color:#cdcd00\">glamorous-sweep-57</strong> at: <a href='https://wandb.ai/sumanta_roy/CS6910_assignment_1/runs/j5z5arjm' target=\"_blank\">https://wandb.ai/sumanta_roy/CS6910_assignment_1/runs/j5z5arjm</a><br/>Synced 6 W&B file(s), 0 media file(s), 0 artifact file(s) and 0 other file(s)"
      ],
      "text/plain": [
       "<IPython.core.display.HTML object>"
      ]
     },
     "metadata": {},
     "output_type": "display_data"
    },
    {
     "data": {
      "text/html": [
       "Find logs at: <code>./wandb/run-20240317_183327-j5z5arjm/logs</code>"
      ],
      "text/plain": [
       "<IPython.core.display.HTML object>"
      ]
     },
     "metadata": {},
     "output_type": "display_data"
    },
    {
     "name": "stderr",
     "output_type": "stream",
     "text": [
      "\u001b[34m\u001b[1mwandb\u001b[0m: Agent Starting Run: cjja3atf with config:\n",
      "\u001b[34m\u001b[1mwandb\u001b[0m: \tactivation: tanh\n",
      "\u001b[34m\u001b[1mwandb\u001b[0m: \tbatch_size: 32\n",
      "\u001b[34m\u001b[1mwandb\u001b[0m: \tepochs: 10\n",
      "\u001b[34m\u001b[1mwandb\u001b[0m: \thidden_layers: 4\n",
      "\u001b[34m\u001b[1mwandb\u001b[0m: \thidden_size: 128\n",
      "\u001b[34m\u001b[1mwandb\u001b[0m: \tloss: mse\n",
      "\u001b[34m\u001b[1mwandb\u001b[0m: \tlr: 0.0001\n",
      "\u001b[34m\u001b[1mwandb\u001b[0m: \toptimizer: adam\n",
      "\u001b[34m\u001b[1mwandb\u001b[0m: \tw_init: glorot\n",
      "\u001b[34m\u001b[1mwandb\u001b[0m: \tweight_decay: 0\n"
     ]
    },
    {
     "data": {
      "text/html": [
       "Tracking run with wandb version 0.16.4"
      ],
      "text/plain": [
       "<IPython.core.display.HTML object>"
      ]
     },
     "metadata": {},
     "output_type": "display_data"
    },
    {
     "data": {
      "text/html": [
       "Run data is saved locally in <code>/Users/sumanta/Desktop/Numpy project/mse_error_revised/wandb/run-20240317_183549-cjja3atf</code>"
      ],
      "text/plain": [
       "<IPython.core.display.HTML object>"
      ]
     },
     "metadata": {},
     "output_type": "display_data"
    },
    {
     "data": {
      "text/html": [
       "Syncing run <strong><a href='https://wandb.ai/sumanta_roy/CS6910_assignment_1/runs/cjja3atf' target=\"_blank\">autumn-sweep-58</a></strong> to <a href='https://wandb.ai/sumanta_roy/CS6910_assignment_1' target=\"_blank\">Weights & Biases</a> (<a href='https://wandb.me/run' target=\"_blank\">docs</a>)<br/>Sweep page: <a href='https://wandb.ai/sumanta_roy/CS6910_assignment_1/sweeps/etqoz0cb' target=\"_blank\">https://wandb.ai/sumanta_roy/CS6910_assignment_1/sweeps/etqoz0cb</a>"
      ],
      "text/plain": [
       "<IPython.core.display.HTML object>"
      ]
     },
     "metadata": {},
     "output_type": "display_data"
    },
    {
     "data": {
      "text/html": [
       " View project at <a href='https://wandb.ai/sumanta_roy/CS6910_assignment_1' target=\"_blank\">https://wandb.ai/sumanta_roy/CS6910_assignment_1</a>"
      ],
      "text/plain": [
       "<IPython.core.display.HTML object>"
      ]
     },
     "metadata": {},
     "output_type": "display_data"
    },
    {
     "data": {
      "text/html": [
       " View sweep at <a href='https://wandb.ai/sumanta_roy/CS6910_assignment_1/sweeps/etqoz0cb' target=\"_blank\">https://wandb.ai/sumanta_roy/CS6910_assignment_1/sweeps/etqoz0cb</a>"
      ],
      "text/plain": [
       "<IPython.core.display.HTML object>"
      ]
     },
     "metadata": {},
     "output_type": "display_data"
    },
    {
     "data": {
      "text/html": [
       " View run at <a href='https://wandb.ai/sumanta_roy/CS6910_assignment_1/runs/cjja3atf' target=\"_blank\">https://wandb.ai/sumanta_roy/CS6910_assignment_1/runs/cjja3atf</a>"
      ],
      "text/plain": [
       "<IPython.core.display.HTML object>"
      ]
     },
     "metadata": {},
     "output_type": "display_data"
    },
    {
     "name": "stdout",
     "output_type": "stream",
     "text": [
      "Epoch: 1/10; Train Loss: 0.016061378227586874; Val Loss: 0.023770612805055408\n",
      "Epoch: 2/10; Train Loss: 0.014439323363435808; Val Loss: 0.021917493216947963\n",
      "Epoch: 3/10; Train Loss: 0.013850247590554577; Val Loss: 0.02089512536158695\n",
      "Epoch: 4/10; Train Loss: 0.013499090294461072; Val Loss: 0.020200895115537083\n",
      "Epoch: 5/10; Train Loss: 0.013222364759269722; Val Loss: 0.01969461775970156\n",
      "Epoch: 6/10; Train Loss: 0.012996538536848273; Val Loss: 0.019304401896790547\n",
      "Epoch: 7/10; Train Loss: 0.012819892032314336; Val Loss: 0.018988542682449962\n",
      "Epoch: 8/10; Train Loss: 0.012690885590015868; Val Loss: 0.01872278780495987\n",
      "Epoch: 9/10; Train Loss: 0.01260448195312439; Val Loss: 0.018493122422590852\n",
      "Epoch: 10/10; Train Loss: 0.012553357672195087; Val Loss: 0.018291397504912713\n"
     ]
    },
    {
     "data": {
      "application/vnd.jupyter.widget-view+json": {
       "model_id": "",
       "version_major": 2,
       "version_minor": 0
      },
      "text/plain": [
       "VBox(children=(Label(value='0.001 MB of 0.027 MB uploaded\\r'), FloatProgress(value=0.027206064685252756, max=1…"
      ]
     },
     "metadata": {},
     "output_type": "display_data"
    },
    {
     "data": {
      "text/html": [
       "<style>\n",
       "    table.wandb td:nth-child(1) { padding: 0 10px; text-align: left ; width: auto;} td:nth-child(2) {text-align: left ; width: 100%}\n",
       "    .wandb-row { display: flex; flex-direction: row; flex-wrap: wrap; justify-content: flex-start; width: 100% }\n",
       "    .wandb-col { display: flex; flex-direction: column; flex-basis: 100%; flex: 1; padding: 10px; }\n",
       "    </style>\n",
       "<div class=\"wandb-row\"><div class=\"wandb-col\"><h3>Run history:</h3><br/><table class=\"wandb\"><tr><td>epoch</td><td>▁▁▁▁▂▂▂▂▃▃▃▃▃▃▃▃▄▄▄▄▅▅▅▅▆▆▆▆▆▆▆▆▇▇▇▇████</td></tr><tr><td>train_accuracy</td><td>▆▅▆▇▇▅▁▇▆▆▆▁█▅▂▇▆▆▆▂█▆▆▇▆█▇▃█▆▆▇▆██▃▆▆▆▇</td></tr><tr><td>train_loss</td><td>▅▅▄▃▃▄▇▃▃▃▃█▂▄▇▃▃▃▂▇▁▃▅▃▃▂▂▇▁▃▅▃▃▂▁▆▄▃▄▂</td></tr><tr><td>val_accuracy</td><td>▁▃▄▅▅▆▆▆▆▆▆▇▇▇▇▇▇▇▇▇▇▇▇▇▇▇▇▇▇▇█▇▇███████</td></tr><tr><td>validation_loss</td><td>█▆▄▄▃▃▃▃▂▂▂▂▂▂▂▂▂▂▂▂▁▂▁▁▁▁▁▁▁▁▁▁▁▁▁▁▁▁▁▁</td></tr></table><br/></div><div class=\"wandb-col\"><h3>Run summary:</h3><br/><table class=\"wandb\"><tr><td>epoch</td><td>10</td></tr><tr><td>train_accuracy</td><td>90.625</td></tr><tr><td>train_loss</td><td>0.01255</td></tr><tr><td>val_accuracy</td><td>87.08333</td></tr><tr><td>validation_loss</td><td>0.01829</td></tr></table><br/></div></div>"
      ],
      "text/plain": [
       "<IPython.core.display.HTML object>"
      ]
     },
     "metadata": {},
     "output_type": "display_data"
    },
    {
     "data": {
      "text/html": [
       " View run <strong style=\"color:#cdcd00\">autumn-sweep-58</strong> at: <a href='https://wandb.ai/sumanta_roy/CS6910_assignment_1/runs/cjja3atf' target=\"_blank\">https://wandb.ai/sumanta_roy/CS6910_assignment_1/runs/cjja3atf</a><br/>Synced 6 W&B file(s), 0 media file(s), 0 artifact file(s) and 0 other file(s)"
      ],
      "text/plain": [
       "<IPython.core.display.HTML object>"
      ]
     },
     "metadata": {},
     "output_type": "display_data"
    },
    {
     "data": {
      "text/html": [
       "Find logs at: <code>./wandb/run-20240317_183549-cjja3atf/logs</code>"
      ],
      "text/plain": [
       "<IPython.core.display.HTML object>"
      ]
     },
     "metadata": {},
     "output_type": "display_data"
    },
    {
     "name": "stderr",
     "output_type": "stream",
     "text": [
      "\u001b[34m\u001b[1mwandb\u001b[0m: Agent Starting Run: lz2jk0bu with config:\n",
      "\u001b[34m\u001b[1mwandb\u001b[0m: \tactivation: tanh\n",
      "\u001b[34m\u001b[1mwandb\u001b[0m: \tbatch_size: 16\n",
      "\u001b[34m\u001b[1mwandb\u001b[0m: \tepochs: 10\n",
      "\u001b[34m\u001b[1mwandb\u001b[0m: \thidden_layers: 4\n",
      "\u001b[34m\u001b[1mwandb\u001b[0m: \thidden_size: 128\n",
      "\u001b[34m\u001b[1mwandb\u001b[0m: \tloss: mse\n",
      "\u001b[34m\u001b[1mwandb\u001b[0m: \tlr: 0.001\n",
      "\u001b[34m\u001b[1mwandb\u001b[0m: \toptimizer: rmsprop\n",
      "\u001b[34m\u001b[1mwandb\u001b[0m: \tw_init: random\n",
      "\u001b[34m\u001b[1mwandb\u001b[0m: \tweight_decay: 0\n"
     ]
    },
    {
     "data": {
      "text/html": [
       "Tracking run with wandb version 0.16.4"
      ],
      "text/plain": [
       "<IPython.core.display.HTML object>"
      ]
     },
     "metadata": {},
     "output_type": "display_data"
    },
    {
     "data": {
      "text/html": [
       "Run data is saved locally in <code>/Users/sumanta/Desktop/Numpy project/mse_error_revised/wandb/run-20240317_183813-lz2jk0bu</code>"
      ],
      "text/plain": [
       "<IPython.core.display.HTML object>"
      ]
     },
     "metadata": {},
     "output_type": "display_data"
    },
    {
     "data": {
      "text/html": [
       "Syncing run <strong><a href='https://wandb.ai/sumanta_roy/CS6910_assignment_1/runs/lz2jk0bu' target=\"_blank\">stilted-sweep-59</a></strong> to <a href='https://wandb.ai/sumanta_roy/CS6910_assignment_1' target=\"_blank\">Weights & Biases</a> (<a href='https://wandb.me/run' target=\"_blank\">docs</a>)<br/>Sweep page: <a href='https://wandb.ai/sumanta_roy/CS6910_assignment_1/sweeps/etqoz0cb' target=\"_blank\">https://wandb.ai/sumanta_roy/CS6910_assignment_1/sweeps/etqoz0cb</a>"
      ],
      "text/plain": [
       "<IPython.core.display.HTML object>"
      ]
     },
     "metadata": {},
     "output_type": "display_data"
    },
    {
     "data": {
      "text/html": [
       " View project at <a href='https://wandb.ai/sumanta_roy/CS6910_assignment_1' target=\"_blank\">https://wandb.ai/sumanta_roy/CS6910_assignment_1</a>"
      ],
      "text/plain": [
       "<IPython.core.display.HTML object>"
      ]
     },
     "metadata": {},
     "output_type": "display_data"
    },
    {
     "data": {
      "text/html": [
       " View sweep at <a href='https://wandb.ai/sumanta_roy/CS6910_assignment_1/sweeps/etqoz0cb' target=\"_blank\">https://wandb.ai/sumanta_roy/CS6910_assignment_1/sweeps/etqoz0cb</a>"
      ],
      "text/plain": [
       "<IPython.core.display.HTML object>"
      ]
     },
     "metadata": {},
     "output_type": "display_data"
    },
    {
     "data": {
      "text/html": [
       " View run at <a href='https://wandb.ai/sumanta_roy/CS6910_assignment_1/runs/lz2jk0bu' target=\"_blank\">https://wandb.ai/sumanta_roy/CS6910_assignment_1/runs/lz2jk0bu</a>"
      ],
      "text/plain": [
       "<IPython.core.display.HTML object>"
      ]
     },
     "metadata": {},
     "output_type": "display_data"
    },
    {
     "name": "stdout",
     "output_type": "stream",
     "text": [
      "Epoch: 1/10; Train Loss: 0.012196223499050914; Val Loss: 0.025594905376041928\n",
      "Epoch: 2/10; Train Loss: 0.011981771158400212; Val Loss: 0.02383040997538415\n",
      "Epoch: 3/10; Train Loss: 0.01018962207648127; Val Loss: 0.021577662692737514\n",
      "Epoch: 4/10; Train Loss: 0.007666484491076047; Val Loss: 0.02109039668198344\n",
      "Epoch: 5/10; Train Loss: 0.0019410903077774935; Val Loss: 0.020285273505526277\n",
      "Epoch: 6/10; Train Loss: 0.010496567962229822; Val Loss: 0.020175363235340363\n",
      "Epoch: 7/10; Train Loss: 0.005358258942469924; Val Loss: 0.01931613134217264\n",
      "Epoch: 8/10; Train Loss: 0.003862697439596353; Val Loss: 0.018843583019894018\n",
      "Epoch: 9/10; Train Loss: 0.0038597559326310005; Val Loss: 0.018721998962850317\n",
      "Epoch: 10/10; Train Loss: 0.00945707845437379; Val Loss: 0.018995034320146195\n"
     ]
    },
    {
     "data": {
      "application/vnd.jupyter.widget-view+json": {
       "model_id": "",
       "version_major": 2,
       "version_minor": 0
      },
      "text/plain": [
       "VBox(children=(Label(value='0.001 MB of 0.001 MB uploaded\\r'), FloatProgress(value=1.0, max=1.0)))"
      ]
     },
     "metadata": {},
     "output_type": "display_data"
    },
    {
     "data": {
      "text/html": [
       "<style>\n",
       "    table.wandb td:nth-child(1) { padding: 0 10px; text-align: left ; width: auto;} td:nth-child(2) {text-align: left ; width: 100%}\n",
       "    .wandb-row { display: flex; flex-direction: row; flex-wrap: wrap; justify-content: flex-start; width: 100% }\n",
       "    .wandb-col { display: flex; flex-direction: column; flex-basis: 100%; flex: 1; padding: 10px; }\n",
       "    </style>\n",
       "<div class=\"wandb-row\"><div class=\"wandb-col\"><h3>Run history:</h3><br/><table class=\"wandb\"><tr><td>epoch</td><td>▁▁▁▁▂▂▂▂▃▃▃▃▃▃▃▃▄▄▄▄▅▅▅▅▆▆▆▆▆▆▆▆▇▇▇▇████</td></tr><tr><td>train_accuracy</td><td>▃▂▆▁▃▃▆█▂▇▆▅▆▆▃▆▆▅▂▃▆▃▆▇▇▇▆█▆█▆▃▇▅▃█▆▇▆█</td></tr><tr><td>train_loss</td><td>▇█▄█▆▆▅▁▇▃▄▅▃▄▄▅▃▃▆▆▄▅▄▃▂▃▄▁▄▂▃▇▄▄▅▂▄▂▃▁</td></tr><tr><td>val_accuracy</td><td>▁▅▅▆▇▆▇▇▇▇▇▇▇▇▇▇▇██▇██▇██▇█▇████▇███████</td></tr><tr><td>validation_loss</td><td>█▄▄▃▂▂▂▂▂▂▂▂▂▂▁▁▂▁▁▂▁▁▂▁▁▁▁▂▁▁▁▁▂▁▁▁▁▁▁▁</td></tr></table><br/></div><div class=\"wandb-col\"><h3>Run summary:</h3><br/><table class=\"wandb\"><tr><td>epoch</td><td>10</td></tr><tr><td>train_accuracy</td><td>93.75</td></tr><tr><td>train_loss</td><td>0.00946</td></tr><tr><td>val_accuracy</td><td>87.16667</td></tr><tr><td>validation_loss</td><td>0.019</td></tr></table><br/></div></div>"
      ],
      "text/plain": [
       "<IPython.core.display.HTML object>"
      ]
     },
     "metadata": {},
     "output_type": "display_data"
    },
    {
     "data": {
      "text/html": [
       " View run <strong style=\"color:#cdcd00\">stilted-sweep-59</strong> at: <a href='https://wandb.ai/sumanta_roy/CS6910_assignment_1/runs/lz2jk0bu' target=\"_blank\">https://wandb.ai/sumanta_roy/CS6910_assignment_1/runs/lz2jk0bu</a><br/>Synced 6 W&B file(s), 0 media file(s), 0 artifact file(s) and 0 other file(s)"
      ],
      "text/plain": [
       "<IPython.core.display.HTML object>"
      ]
     },
     "metadata": {},
     "output_type": "display_data"
    },
    {
     "data": {
      "text/html": [
       "Find logs at: <code>./wandb/run-20240317_183813-lz2jk0bu/logs</code>"
      ],
      "text/plain": [
       "<IPython.core.display.HTML object>"
      ]
     },
     "metadata": {},
     "output_type": "display_data"
    },
    {
     "name": "stderr",
     "output_type": "stream",
     "text": [
      "\u001b[34m\u001b[1mwandb\u001b[0m: Agent Starting Run: 78n694d0 with config:\n",
      "\u001b[34m\u001b[1mwandb\u001b[0m: \tactivation: tanh\n",
      "\u001b[34m\u001b[1mwandb\u001b[0m: \tbatch_size: 16\n",
      "\u001b[34m\u001b[1mwandb\u001b[0m: \tepochs: 10\n",
      "\u001b[34m\u001b[1mwandb\u001b[0m: \thidden_layers: 5\n",
      "\u001b[34m\u001b[1mwandb\u001b[0m: \thidden_size: 128\n",
      "\u001b[34m\u001b[1mwandb\u001b[0m: \tloss: mse\n",
      "\u001b[34m\u001b[1mwandb\u001b[0m: \tlr: 0.0001\n",
      "\u001b[34m\u001b[1mwandb\u001b[0m: \toptimizer: nadam\n",
      "\u001b[34m\u001b[1mwandb\u001b[0m: \tw_init: glorot\n",
      "\u001b[34m\u001b[1mwandb\u001b[0m: \tweight_decay: 0\n"
     ]
    },
    {
     "data": {
      "text/html": [
       "Tracking run with wandb version 0.16.4"
      ],
      "text/plain": [
       "<IPython.core.display.HTML object>"
      ]
     },
     "metadata": {},
     "output_type": "display_data"
    },
    {
     "data": {
      "text/html": [
       "Run data is saved locally in <code>/Users/sumanta/Desktop/Numpy project/mse_error_revised/wandb/run-20240317_184102-78n694d0</code>"
      ],
      "text/plain": [
       "<IPython.core.display.HTML object>"
      ]
     },
     "metadata": {},
     "output_type": "display_data"
    },
    {
     "data": {
      "text/html": [
       "Syncing run <strong><a href='https://wandb.ai/sumanta_roy/CS6910_assignment_1/runs/78n694d0' target=\"_blank\">frosty-sweep-60</a></strong> to <a href='https://wandb.ai/sumanta_roy/CS6910_assignment_1' target=\"_blank\">Weights & Biases</a> (<a href='https://wandb.me/run' target=\"_blank\">docs</a>)<br/>Sweep page: <a href='https://wandb.ai/sumanta_roy/CS6910_assignment_1/sweeps/etqoz0cb' target=\"_blank\">https://wandb.ai/sumanta_roy/CS6910_assignment_1/sweeps/etqoz0cb</a>"
      ],
      "text/plain": [
       "<IPython.core.display.HTML object>"
      ]
     },
     "metadata": {},
     "output_type": "display_data"
    },
    {
     "data": {
      "text/html": [
       " View project at <a href='https://wandb.ai/sumanta_roy/CS6910_assignment_1' target=\"_blank\">https://wandb.ai/sumanta_roy/CS6910_assignment_1</a>"
      ],
      "text/plain": [
       "<IPython.core.display.HTML object>"
      ]
     },
     "metadata": {},
     "output_type": "display_data"
    },
    {
     "data": {
      "text/html": [
       " View sweep at <a href='https://wandb.ai/sumanta_roy/CS6910_assignment_1/sweeps/etqoz0cb' target=\"_blank\">https://wandb.ai/sumanta_roy/CS6910_assignment_1/sweeps/etqoz0cb</a>"
      ],
      "text/plain": [
       "<IPython.core.display.HTML object>"
      ]
     },
     "metadata": {},
     "output_type": "display_data"
    },
    {
     "data": {
      "text/html": [
       " View run at <a href='https://wandb.ai/sumanta_roy/CS6910_assignment_1/runs/78n694d0' target=\"_blank\">https://wandb.ai/sumanta_roy/CS6910_assignment_1/runs/78n694d0</a>"
      ],
      "text/plain": [
       "<IPython.core.display.HTML object>"
      ]
     },
     "metadata": {},
     "output_type": "display_data"
    },
    {
     "name": "stdout",
     "output_type": "stream",
     "text": [
      "Epoch: 1/10; Train Loss: 0.024828518746429152; Val Loss: 0.034226861771110687\n",
      "Epoch: 2/10; Train Loss: 0.019105100279132092; Val Loss: 0.028609792088000883\n",
      "Epoch: 3/10; Train Loss: 0.016711009517733588; Val Loss: 0.02605011580891141\n",
      "Epoch: 4/10; Train Loss: 0.01548285573537383; Val Loss: 0.024637870713156967\n",
      "Epoch: 5/10; Train Loss: 0.014627416355902857; Val Loss: 0.023719429235704137\n",
      "Epoch: 6/10; Train Loss: 0.013951140396390315; Val Loss: 0.023046150038899267\n",
      "Epoch: 7/10; Train Loss: 0.013401049402978132; Val Loss: 0.02251412797860604\n",
      "Epoch: 8/10; Train Loss: 0.012947487872337604; Val Loss: 0.0220736103097667\n",
      "Epoch: 9/10; Train Loss: 0.012566028610785396; Val Loss: 0.021697777636650463\n",
      "Epoch: 10/10; Train Loss: 0.01223823473507812; Val Loss: 0.021370762014276196\n"
     ]
    },
    {
     "data": {
      "application/vnd.jupyter.widget-view+json": {
       "model_id": "",
       "version_major": 2,
       "version_minor": 0
      },
      "text/plain": [
       "VBox(children=(Label(value='0.001 MB of 0.027 MB uploaded\\r'), FloatProgress(value=0.027244384609934103, max=1…"
      ]
     },
     "metadata": {},
     "output_type": "display_data"
    },
    {
     "data": {
      "text/html": [
       "<style>\n",
       "    table.wandb td:nth-child(1) { padding: 0 10px; text-align: left ; width: auto;} td:nth-child(2) {text-align: left ; width: 100%}\n",
       "    .wandb-row { display: flex; flex-direction: row; flex-wrap: wrap; justify-content: flex-start; width: 100% }\n",
       "    .wandb-col { display: flex; flex-direction: column; flex-basis: 100%; flex: 1; padding: 10px; }\n",
       "    </style>\n",
       "<div class=\"wandb-row\"><div class=\"wandb-col\"><h3>Run history:</h3><br/><table class=\"wandb\"><tr><td>epoch</td><td>▁▁▁▁▂▂▂▂▃▃▃▃▃▃▃▃▄▄▄▄▅▅▅▅▆▆▆▆▆▆▆▆▇▇▇▇████</td></tr><tr><td>train_accuracy</td><td>▁▅▃▃▄▂▃█▅▆▅▅▆▅▄▄▅█▅▂▆▃▆▆▅▆▄▇▅▅▆▄▄▇▅▇▅▇▆▇</td></tr><tr><td>train_loss</td><td>█▄▅▆▅▅▅▁▄▃▄▄▂▄▄▆▃▂▃▆▃▄▃▃▃▂▃▁▃▃▃▅▃▁▃▁▃▂▃▁</td></tr><tr><td>val_accuracy</td><td>▁▄▅▅▆▆▇▇▇▇▇▇▇▇▇▇▇▇██████████████████████</td></tr><tr><td>validation_loss</td><td>█▅▄▃▃▃▂▂▂▂▂▂▂▂▂▂▁▁▁▁▁▁▁▁▁▁▁▁▁▁▁▁▁▁▁▁▁▁▁▁</td></tr></table><br/></div><div class=\"wandb-col\"><h3>Run summary:</h3><br/><table class=\"wandb\"><tr><td>epoch</td><td>10</td></tr><tr><td>train_accuracy</td><td>87.5</td></tr><tr><td>train_loss</td><td>0.01224</td></tr><tr><td>val_accuracy</td><td>84.85</td></tr><tr><td>validation_loss</td><td>0.02137</td></tr></table><br/></div></div>"
      ],
      "text/plain": [
       "<IPython.core.display.HTML object>"
      ]
     },
     "metadata": {},
     "output_type": "display_data"
    },
    {
     "data": {
      "text/html": [
       " View run <strong style=\"color:#cdcd00\">frosty-sweep-60</strong> at: <a href='https://wandb.ai/sumanta_roy/CS6910_assignment_1/runs/78n694d0' target=\"_blank\">https://wandb.ai/sumanta_roy/CS6910_assignment_1/runs/78n694d0</a><br/>Synced 6 W&B file(s), 0 media file(s), 0 artifact file(s) and 0 other file(s)"
      ],
      "text/plain": [
       "<IPython.core.display.HTML object>"
      ]
     },
     "metadata": {},
     "output_type": "display_data"
    },
    {
     "data": {
      "text/html": [
       "Find logs at: <code>./wandb/run-20240317_184102-78n694d0/logs</code>"
      ],
      "text/plain": [
       "<IPython.core.display.HTML object>"
      ]
     },
     "metadata": {},
     "output_type": "display_data"
    },
    {
     "name": "stderr",
     "output_type": "stream",
     "text": [
      "\u001b[34m\u001b[1mwandb\u001b[0m: Agent Starting Run: xvy1h8cg with config:\n",
      "\u001b[34m\u001b[1mwandb\u001b[0m: \tactivation: tanh\n",
      "\u001b[34m\u001b[1mwandb\u001b[0m: \tbatch_size: 16\n",
      "\u001b[34m\u001b[1mwandb\u001b[0m: \tepochs: 10\n",
      "\u001b[34m\u001b[1mwandb\u001b[0m: \thidden_layers: 4\n",
      "\u001b[34m\u001b[1mwandb\u001b[0m: \thidden_size: 128\n",
      "\u001b[34m\u001b[1mwandb\u001b[0m: \tloss: mse\n",
      "\u001b[34m\u001b[1mwandb\u001b[0m: \tlr: 0.0001\n",
      "\u001b[34m\u001b[1mwandb\u001b[0m: \toptimizer: adam\n",
      "\u001b[34m\u001b[1mwandb\u001b[0m: \tw_init: glorot\n",
      "\u001b[34m\u001b[1mwandb\u001b[0m: \tweight_decay: 0\n"
     ]
    },
    {
     "data": {
      "text/html": [
       "Tracking run with wandb version 0.16.4"
      ],
      "text/plain": [
       "<IPython.core.display.HTML object>"
      ]
     },
     "metadata": {},
     "output_type": "display_data"
    },
    {
     "data": {
      "text/html": [
       "Run data is saved locally in <code>/Users/sumanta/Desktop/Numpy project/mse_error_revised/wandb/run-20240317_184453-xvy1h8cg</code>"
      ],
      "text/plain": [
       "<IPython.core.display.HTML object>"
      ]
     },
     "metadata": {},
     "output_type": "display_data"
    },
    {
     "data": {
      "text/html": [
       "Syncing run <strong><a href='https://wandb.ai/sumanta_roy/CS6910_assignment_1/runs/xvy1h8cg' target=\"_blank\">amber-sweep-61</a></strong> to <a href='https://wandb.ai/sumanta_roy/CS6910_assignment_1' target=\"_blank\">Weights & Biases</a> (<a href='https://wandb.me/run' target=\"_blank\">docs</a>)<br/>Sweep page: <a href='https://wandb.ai/sumanta_roy/CS6910_assignment_1/sweeps/etqoz0cb' target=\"_blank\">https://wandb.ai/sumanta_roy/CS6910_assignment_1/sweeps/etqoz0cb</a>"
      ],
      "text/plain": [
       "<IPython.core.display.HTML object>"
      ]
     },
     "metadata": {},
     "output_type": "display_data"
    },
    {
     "data": {
      "text/html": [
       " View project at <a href='https://wandb.ai/sumanta_roy/CS6910_assignment_1' target=\"_blank\">https://wandb.ai/sumanta_roy/CS6910_assignment_1</a>"
      ],
      "text/plain": [
       "<IPython.core.display.HTML object>"
      ]
     },
     "metadata": {},
     "output_type": "display_data"
    },
    {
     "data": {
      "text/html": [
       " View sweep at <a href='https://wandb.ai/sumanta_roy/CS6910_assignment_1/sweeps/etqoz0cb' target=\"_blank\">https://wandb.ai/sumanta_roy/CS6910_assignment_1/sweeps/etqoz0cb</a>"
      ],
      "text/plain": [
       "<IPython.core.display.HTML object>"
      ]
     },
     "metadata": {},
     "output_type": "display_data"
    },
    {
     "data": {
      "text/html": [
       " View run at <a href='https://wandb.ai/sumanta_roy/CS6910_assignment_1/runs/xvy1h8cg' target=\"_blank\">https://wandb.ai/sumanta_roy/CS6910_assignment_1/runs/xvy1h8cg</a>"
      ],
      "text/plain": [
       "<IPython.core.display.HTML object>"
      ]
     },
     "metadata": {},
     "output_type": "display_data"
    },
    {
     "name": "stdout",
     "output_type": "stream",
     "text": [
      "Epoch: 1/10; Train Loss: 0.015840095709218304; Val Loss: 0.02380913477145311\n",
      "Epoch: 2/10; Train Loss: 0.014475754105608826; Val Loss: 0.021920863569137694\n",
      "Epoch: 3/10; Train Loss: 0.01355293399153239; Val Loss: 0.02086240789845036\n",
      "Epoch: 4/10; Train Loss: 0.012453553674483484; Val Loss: 0.020153452091716054\n",
      "Epoch: 5/10; Train Loss: 0.011265577500093587; Val Loss: 0.0196285139291511\n",
      "Epoch: 6/10; Train Loss: 0.010192041211147414; Val Loss: 0.01921668145332565\n",
      "Epoch: 7/10; Train Loss: 0.00935438093895257; Val Loss: 0.01888509514414457\n",
      "Epoch: 8/10; Train Loss: 0.008767179540871858; Val Loss: 0.018611724925154238\n",
      "Epoch: 9/10; Train Loss: 0.008382632440854569; Val Loss: 0.018379996218757362\n",
      "Epoch: 10/10; Train Loss: 0.008137465216922574; Val Loss: 0.018178687725382312\n"
     ]
    },
    {
     "data": {
      "application/vnd.jupyter.widget-view+json": {
       "model_id": "",
       "version_major": 2,
       "version_minor": 0
      },
      "text/plain": [
       "VBox(children=(Label(value='0.001 MB of 0.001 MB uploaded\\r'), FloatProgress(value=1.0, max=1.0)))"
      ]
     },
     "metadata": {},
     "output_type": "display_data"
    },
    {
     "data": {
      "text/html": [
       "<style>\n",
       "    table.wandb td:nth-child(1) { padding: 0 10px; text-align: left ; width: auto;} td:nth-child(2) {text-align: left ; width: 100%}\n",
       "    .wandb-row { display: flex; flex-direction: row; flex-wrap: wrap; justify-content: flex-start; width: 100% }\n",
       "    .wandb-col { display: flex; flex-direction: column; flex-basis: 100%; flex: 1; padding: 10px; }\n",
       "    </style>\n",
       "<div class=\"wandb-row\"><div class=\"wandb-col\"><h3>Run history:</h3><br/><table class=\"wandb\"><tr><td>epoch</td><td>▁▁▁▁▂▂▂▂▃▃▃▃▃▃▃▃▄▄▄▄▅▅▅▅▆▆▆▆▆▆▆▆▇▇▇▇████</td></tr><tr><td>train_accuracy</td><td>▁▆▇▃▃▂▃█▂▆▅▆█▇▇▁▆▇▃▁▆▃▆█▇▆▆▇▆█▅▃▂▇▃▇▅█▆█</td></tr><tr><td>train_loss</td><td>▇▃▃▇▆▇▆▁▇▄▅▆▂▃▄█▄▂▅▇▄▆▄▂▃▄▅▂▄▂▄▇▆▃▅▁▄▂▄▁</td></tr><tr><td>val_accuracy</td><td>▁▄▅▆▆▆▆▇▇▇▇▇▇▇▇▇▇▇██▇▇██████████▇███████</td></tr><tr><td>validation_loss</td><td>█▄▄▃▃▃▃▂▂▂▂▂▂▂▂▂▂▂▁▂▂▁▁▁▁▁▁▁▁▁▁▁▂▁▁▁▁▁▁▁</td></tr></table><br/></div><div class=\"wandb-col\"><h3>Run summary:</h3><br/><table class=\"wandb\"><tr><td>epoch</td><td>10</td></tr><tr><td>train_accuracy</td><td>93.75</td></tr><tr><td>train_loss</td><td>0.00814</td></tr><tr><td>val_accuracy</td><td>87.1</td></tr><tr><td>validation_loss</td><td>0.01818</td></tr></table><br/></div></div>"
      ],
      "text/plain": [
       "<IPython.core.display.HTML object>"
      ]
     },
     "metadata": {},
     "output_type": "display_data"
    },
    {
     "data": {
      "text/html": [
       " View run <strong style=\"color:#cdcd00\">amber-sweep-61</strong> at: <a href='https://wandb.ai/sumanta_roy/CS6910_assignment_1/runs/xvy1h8cg' target=\"_blank\">https://wandb.ai/sumanta_roy/CS6910_assignment_1/runs/xvy1h8cg</a><br/>Synced 6 W&B file(s), 0 media file(s), 0 artifact file(s) and 0 other file(s)"
      ],
      "text/plain": [
       "<IPython.core.display.HTML object>"
      ]
     },
     "metadata": {},
     "output_type": "display_data"
    },
    {
     "data": {
      "text/html": [
       "Find logs at: <code>./wandb/run-20240317_184453-xvy1h8cg/logs</code>"
      ],
      "text/plain": [
       "<IPython.core.display.HTML object>"
      ]
     },
     "metadata": {},
     "output_type": "display_data"
    },
    {
     "name": "stderr",
     "output_type": "stream",
     "text": [
      "\u001b[34m\u001b[1mwandb\u001b[0m: Agent Starting Run: de12kikl with config:\n",
      "\u001b[34m\u001b[1mwandb\u001b[0m: \tactivation: tanh\n",
      "\u001b[34m\u001b[1mwandb\u001b[0m: \tbatch_size: 16\n",
      "\u001b[34m\u001b[1mwandb\u001b[0m: \tepochs: 10\n",
      "\u001b[34m\u001b[1mwandb\u001b[0m: \thidden_layers: 3\n",
      "\u001b[34m\u001b[1mwandb\u001b[0m: \thidden_size: 64\n",
      "\u001b[34m\u001b[1mwandb\u001b[0m: \tloss: mse\n",
      "\u001b[34m\u001b[1mwandb\u001b[0m: \tlr: 0.0001\n",
      "\u001b[34m\u001b[1mwandb\u001b[0m: \toptimizer: nadam\n",
      "\u001b[34m\u001b[1mwandb\u001b[0m: \tw_init: glorot\n",
      "\u001b[34m\u001b[1mwandb\u001b[0m: \tweight_decay: 0\n"
     ]
    },
    {
     "data": {
      "text/html": [
       "Tracking run with wandb version 0.16.4"
      ],
      "text/plain": [
       "<IPython.core.display.HTML object>"
      ]
     },
     "metadata": {},
     "output_type": "display_data"
    },
    {
     "data": {
      "text/html": [
       "Run data is saved locally in <code>/Users/sumanta/Desktop/Numpy project/mse_error_revised/wandb/run-20240317_184808-de12kikl</code>"
      ],
      "text/plain": [
       "<IPython.core.display.HTML object>"
      ]
     },
     "metadata": {},
     "output_type": "display_data"
    },
    {
     "data": {
      "text/html": [
       "Syncing run <strong><a href='https://wandb.ai/sumanta_roy/CS6910_assignment_1/runs/de12kikl' target=\"_blank\">icy-sweep-62</a></strong> to <a href='https://wandb.ai/sumanta_roy/CS6910_assignment_1' target=\"_blank\">Weights & Biases</a> (<a href='https://wandb.me/run' target=\"_blank\">docs</a>)<br/>Sweep page: <a href='https://wandb.ai/sumanta_roy/CS6910_assignment_1/sweeps/etqoz0cb' target=\"_blank\">https://wandb.ai/sumanta_roy/CS6910_assignment_1/sweeps/etqoz0cb</a>"
      ],
      "text/plain": [
       "<IPython.core.display.HTML object>"
      ]
     },
     "metadata": {},
     "output_type": "display_data"
    },
    {
     "data": {
      "text/html": [
       " View project at <a href='https://wandb.ai/sumanta_roy/CS6910_assignment_1' target=\"_blank\">https://wandb.ai/sumanta_roy/CS6910_assignment_1</a>"
      ],
      "text/plain": [
       "<IPython.core.display.HTML object>"
      ]
     },
     "metadata": {},
     "output_type": "display_data"
    },
    {
     "data": {
      "text/html": [
       " View sweep at <a href='https://wandb.ai/sumanta_roy/CS6910_assignment_1/sweeps/etqoz0cb' target=\"_blank\">https://wandb.ai/sumanta_roy/CS6910_assignment_1/sweeps/etqoz0cb</a>"
      ],
      "text/plain": [
       "<IPython.core.display.HTML object>"
      ]
     },
     "metadata": {},
     "output_type": "display_data"
    },
    {
     "data": {
      "text/html": [
       " View run at <a href='https://wandb.ai/sumanta_roy/CS6910_assignment_1/runs/de12kikl' target=\"_blank\">https://wandb.ai/sumanta_roy/CS6910_assignment_1/runs/de12kikl</a>"
      ],
      "text/plain": [
       "<IPython.core.display.HTML object>"
      ]
     },
     "metadata": {},
     "output_type": "display_data"
    },
    {
     "name": "stdout",
     "output_type": "stream",
     "text": [
      "Epoch: 1/10; Train Loss: 0.04196857201521418; Val Loss: 0.045312483292365334\n",
      "Epoch: 2/10; Train Loss: 0.03313701838452605; Val Loss: 0.03736579409284445\n",
      "Epoch: 3/10; Train Loss: 0.028556657897052883; Val Loss: 0.033132000440504676\n",
      "Epoch: 4/10; Train Loss: 0.025108387733451476; Val Loss: 0.030387920835756057\n",
      "Epoch: 5/10; Train Loss: 0.022428518906170123; Val Loss: 0.02848680087843358\n",
      "Epoch: 6/10; Train Loss: 0.020385472794698118; Val Loss: 0.02711370779867315\n",
      "Epoch: 7/10; Train Loss: 0.01883459413576293; Val Loss: 0.026084890732688076\n",
      "Epoch: 8/10; Train Loss: 0.01764094512534108; Val Loss: 0.025286632508292845\n",
      "Epoch: 9/10; Train Loss: 0.01670047217570023; Val Loss: 0.024647207819271332\n",
      "Epoch: 10/10; Train Loss: 0.015941420702593943; Val Loss: 0.024120875346138396\n"
     ]
    },
    {
     "data": {
      "application/vnd.jupyter.widget-view+json": {
       "model_id": "",
       "version_major": 2,
       "version_minor": 0
      },
      "text/plain": [
       "VBox(children=(Label(value='0.001 MB of 0.001 MB uploaded\\r'), FloatProgress(value=1.0, max=1.0)))"
      ]
     },
     "metadata": {},
     "output_type": "display_data"
    },
    {
     "data": {
      "text/html": [
       "<style>\n",
       "    table.wandb td:nth-child(1) { padding: 0 10px; text-align: left ; width: auto;} td:nth-child(2) {text-align: left ; width: 100%}\n",
       "    .wandb-row { display: flex; flex-direction: row; flex-wrap: wrap; justify-content: flex-start; width: 100% }\n",
       "    .wandb-col { display: flex; flex-direction: column; flex-basis: 100%; flex: 1; padding: 10px; }\n",
       "    </style>\n",
       "<div class=\"wandb-row\"><div class=\"wandb-col\"><h3>Run history:</h3><br/><table class=\"wandb\"><tr><td>epoch</td><td>▁▁▁▁▂▂▂▂▃▃▃▃▃▃▃▃▄▄▄▄▅▅▅▅▆▆▆▆▆▆▆▆▇▇▇▇████</td></tr><tr><td>train_accuracy</td><td>▅▅▂▁▄▁▃▆▄▆▅▂▆▅▃▃▅█▅▂▆▃▅▅▅▆▅▇▅▅▅▅▅▆▆█▅▆▅▇</td></tr><tr><td>train_loss</td><td>█▆▆▆▅▆▅▂▅▃▄▅▃▄▄▅▃▂▃▆▂▅▂▃▃▂▃▁▃▃▃▄▃▂▃▁▃▂▂▂</td></tr><tr><td>val_accuracy</td><td>▁▄▅▅▅▆▆▆▆▇▇▇▇▇▇▇▇▇▇▇▇▇██████████████████</td></tr><tr><td>validation_loss</td><td>█▆▅▄▄▃▃▃▃▃▂▂▂▂▂▂▂▂▂▂▂▂▁▁▁▁▁▁▁▁▁▁▁▁▁▁▁▁▁▁</td></tr></table><br/></div><div class=\"wandb-col\"><h3>Run summary:</h3><br/><table class=\"wandb\"><tr><td>epoch</td><td>10</td></tr><tr><td>train_accuracy</td><td>93.75</td></tr><tr><td>train_loss</td><td>0.01594</td></tr><tr><td>val_accuracy</td><td>83.43333</td></tr><tr><td>validation_loss</td><td>0.02412</td></tr></table><br/></div></div>"
      ],
      "text/plain": [
       "<IPython.core.display.HTML object>"
      ]
     },
     "metadata": {},
     "output_type": "display_data"
    },
    {
     "data": {
      "text/html": [
       " View run <strong style=\"color:#cdcd00\">icy-sweep-62</strong> at: <a href='https://wandb.ai/sumanta_roy/CS6910_assignment_1/runs/de12kikl' target=\"_blank\">https://wandb.ai/sumanta_roy/CS6910_assignment_1/runs/de12kikl</a><br/>Synced 6 W&B file(s), 0 media file(s), 0 artifact file(s) and 0 other file(s)"
      ],
      "text/plain": [
       "<IPython.core.display.HTML object>"
      ]
     },
     "metadata": {},
     "output_type": "display_data"
    },
    {
     "data": {
      "text/html": [
       "Find logs at: <code>./wandb/run-20240317_184808-de12kikl/logs</code>"
      ],
      "text/plain": [
       "<IPython.core.display.HTML object>"
      ]
     },
     "metadata": {},
     "output_type": "display_data"
    },
    {
     "name": "stderr",
     "output_type": "stream",
     "text": [
      "\u001b[34m\u001b[1mwandb\u001b[0m: Agent Starting Run: ztodktr7 with config:\n",
      "\u001b[34m\u001b[1mwandb\u001b[0m: \tactivation: tanh\n",
      "\u001b[34m\u001b[1mwandb\u001b[0m: \tbatch_size: 32\n",
      "\u001b[34m\u001b[1mwandb\u001b[0m: \tepochs: 10\n",
      "\u001b[34m\u001b[1mwandb\u001b[0m: \thidden_layers: 5\n",
      "\u001b[34m\u001b[1mwandb\u001b[0m: \thidden_size: 64\n",
      "\u001b[34m\u001b[1mwandb\u001b[0m: \tloss: mse\n",
      "\u001b[34m\u001b[1mwandb\u001b[0m: \tlr: 0.001\n",
      "\u001b[34m\u001b[1mwandb\u001b[0m: \toptimizer: adam\n",
      "\u001b[34m\u001b[1mwandb\u001b[0m: \tw_init: glorot\n",
      "\u001b[34m\u001b[1mwandb\u001b[0m: \tweight_decay: 0.0005\n"
     ]
    },
    {
     "data": {
      "text/html": [
       "Tracking run with wandb version 0.16.4"
      ],
      "text/plain": [
       "<IPython.core.display.HTML object>"
      ]
     },
     "metadata": {},
     "output_type": "display_data"
    },
    {
     "data": {
      "text/html": [
       "Run data is saved locally in <code>/Users/sumanta/Desktop/Numpy project/mse_error_revised/wandb/run-20240317_184950-ztodktr7</code>"
      ],
      "text/plain": [
       "<IPython.core.display.HTML object>"
      ]
     },
     "metadata": {},
     "output_type": "display_data"
    },
    {
     "data": {
      "text/html": [
       "Syncing run <strong><a href='https://wandb.ai/sumanta_roy/CS6910_assignment_1/runs/ztodktr7' target=\"_blank\">vibrant-sweep-63</a></strong> to <a href='https://wandb.ai/sumanta_roy/CS6910_assignment_1' target=\"_blank\">Weights & Biases</a> (<a href='https://wandb.me/run' target=\"_blank\">docs</a>)<br/>Sweep page: <a href='https://wandb.ai/sumanta_roy/CS6910_assignment_1/sweeps/etqoz0cb' target=\"_blank\">https://wandb.ai/sumanta_roy/CS6910_assignment_1/sweeps/etqoz0cb</a>"
      ],
      "text/plain": [
       "<IPython.core.display.HTML object>"
      ]
     },
     "metadata": {},
     "output_type": "display_data"
    },
    {
     "data": {
      "text/html": [
       " View project at <a href='https://wandb.ai/sumanta_roy/CS6910_assignment_1' target=\"_blank\">https://wandb.ai/sumanta_roy/CS6910_assignment_1</a>"
      ],
      "text/plain": [
       "<IPython.core.display.HTML object>"
      ]
     },
     "metadata": {},
     "output_type": "display_data"
    },
    {
     "data": {
      "text/html": [
       " View sweep at <a href='https://wandb.ai/sumanta_roy/CS6910_assignment_1/sweeps/etqoz0cb' target=\"_blank\">https://wandb.ai/sumanta_roy/CS6910_assignment_1/sweeps/etqoz0cb</a>"
      ],
      "text/plain": [
       "<IPython.core.display.HTML object>"
      ]
     },
     "metadata": {},
     "output_type": "display_data"
    },
    {
     "data": {
      "text/html": [
       " View run at <a href='https://wandb.ai/sumanta_roy/CS6910_assignment_1/runs/ztodktr7' target=\"_blank\">https://wandb.ai/sumanta_roy/CS6910_assignment_1/runs/ztodktr7</a>"
      ],
      "text/plain": [
       "<IPython.core.display.HTML object>"
      ]
     },
     "metadata": {},
     "output_type": "display_data"
    },
    {
     "name": "stdout",
     "output_type": "stream",
     "text": [
      "Epoch: 1/10; Train Loss: 0.01597694394842268; Val Loss: 0.020889210569647966\n",
      "Epoch: 2/10; Train Loss: 0.015507097339795517; Val Loss: 0.01944437899752875\n",
      "Epoch: 3/10; Train Loss: 0.015665520617636344; Val Loss: 0.018585963058080805\n",
      "Epoch: 4/10; Train Loss: 0.015839847435905975; Val Loss: 0.017995968105796963\n",
      "Epoch: 5/10; Train Loss: 0.015593258054657964; Val Loss: 0.017648697817283246\n",
      "Epoch: 6/10; Train Loss: 0.015407234957116267; Val Loss: 0.01735385097287927\n",
      "Epoch: 7/10; Train Loss: 0.015124098044105767; Val Loss: 0.017174047569930295\n",
      "Epoch: 8/10; Train Loss: 0.014840807224049225; Val Loss: 0.017045475442917887\n",
      "Epoch: 9/10; Train Loss: 0.014757040399008749; Val Loss: 0.016941184022803858\n",
      "Epoch: 10/10; Train Loss: 0.014873298340802556; Val Loss: 0.016811257286982982\n"
     ]
    },
    {
     "data": {
      "application/vnd.jupyter.widget-view+json": {
       "model_id": "",
       "version_major": 2,
       "version_minor": 0
      },
      "text/plain": [
       "VBox(children=(Label(value='0.001 MB of 0.001 MB uploaded\\r'), FloatProgress(value=1.0, max=1.0)))"
      ]
     },
     "metadata": {},
     "output_type": "display_data"
    },
    {
     "data": {
      "text/html": [
       "<style>\n",
       "    table.wandb td:nth-child(1) { padding: 0 10px; text-align: left ; width: auto;} td:nth-child(2) {text-align: left ; width: 100%}\n",
       "    .wandb-row { display: flex; flex-direction: row; flex-wrap: wrap; justify-content: flex-start; width: 100% }\n",
       "    .wandb-col { display: flex; flex-direction: column; flex-basis: 100%; flex: 1; padding: 10px; }\n",
       "    </style>\n",
       "<div class=\"wandb-row\"><div class=\"wandb-col\"><h3>Run history:</h3><br/><table class=\"wandb\"><tr><td>epoch</td><td>▁▁▁▁▂▂▂▂▃▃▃▃▃▃▃▃▄▄▄▄▅▅▅▅▆▆▆▆▆▆▆▆▇▇▇▇████</td></tr><tr><td>train_accuracy</td><td>▆▆▇▇▇▃▁▅▆▆█▄▇▆▄▆▆▆█▆█▆▆▆▇██▆█▆▆▆▇██▆▆▆▆▇</td></tr><tr><td>train_loss</td><td>▄▆▃▂▃▅█▅▃▅▁▇▁▄▆▅▃▄▁▆▁▄▄▄▃▂▁▆▁▄▄▄▃▂▁▆▃▄▃▂</td></tr><tr><td>val_accuracy</td><td>▁▃▄▅▆▆▇▆▅▆▆▇▇▇█▇▇▆▇██▇▇█▇█▇███▇█▇█████▇█</td></tr><tr><td>validation_loss</td><td>█▆▅▄▃▃▂▃▃▃▃▂▂▂▁▂▂▂▂▁▁▁▂▁▂▁▁▁▁▁▂▁▂▁▁▁▁▁▁▁</td></tr></table><br/></div><div class=\"wandb-col\"><h3>Run summary:</h3><br/><table class=\"wandb\"><tr><td>epoch</td><td>10</td></tr><tr><td>train_accuracy</td><td>93.75</td></tr><tr><td>train_loss</td><td>0.01487</td></tr><tr><td>val_accuracy</td><td>88.25</td></tr><tr><td>validation_loss</td><td>0.01681</td></tr></table><br/></div></div>"
      ],
      "text/plain": [
       "<IPython.core.display.HTML object>"
      ]
     },
     "metadata": {},
     "output_type": "display_data"
    },
    {
     "data": {
      "text/html": [
       " View run <strong style=\"color:#cdcd00\">vibrant-sweep-63</strong> at: <a href='https://wandb.ai/sumanta_roy/CS6910_assignment_1/runs/ztodktr7' target=\"_blank\">https://wandb.ai/sumanta_roy/CS6910_assignment_1/runs/ztodktr7</a><br/>Synced 6 W&B file(s), 0 media file(s), 0 artifact file(s) and 0 other file(s)"
      ],
      "text/plain": [
       "<IPython.core.display.HTML object>"
      ]
     },
     "metadata": {},
     "output_type": "display_data"
    },
    {
     "data": {
      "text/html": [
       "Find logs at: <code>./wandb/run-20240317_184950-ztodktr7/logs</code>"
      ],
      "text/plain": [
       "<IPython.core.display.HTML object>"
      ]
     },
     "metadata": {},
     "output_type": "display_data"
    },
    {
     "name": "stderr",
     "output_type": "stream",
     "text": [
      "\u001b[34m\u001b[1mwandb\u001b[0m: Sweep Agent: Waiting for job.\n",
      "\u001b[34m\u001b[1mwandb\u001b[0m: Job received.\n",
      "\u001b[34m\u001b[1mwandb\u001b[0m: Agent Starting Run: ri75b9db with config:\n",
      "\u001b[34m\u001b[1mwandb\u001b[0m: \tactivation: tanh\n",
      "\u001b[34m\u001b[1mwandb\u001b[0m: \tbatch_size: 16\n",
      "\u001b[34m\u001b[1mwandb\u001b[0m: \tepochs: 10\n",
      "\u001b[34m\u001b[1mwandb\u001b[0m: \thidden_layers: 5\n",
      "\u001b[34m\u001b[1mwandb\u001b[0m: \thidden_size: 128\n",
      "\u001b[34m\u001b[1mwandb\u001b[0m: \tloss: mse\n",
      "\u001b[34m\u001b[1mwandb\u001b[0m: \tlr: 0.001\n",
      "\u001b[34m\u001b[1mwandb\u001b[0m: \toptimizer: nadam\n",
      "\u001b[34m\u001b[1mwandb\u001b[0m: \tw_init: glorot\n",
      "\u001b[34m\u001b[1mwandb\u001b[0m: \tweight_decay: 0.0005\n"
     ]
    },
    {
     "data": {
      "text/html": [
       "Tracking run with wandb version 0.16.4"
      ],
      "text/plain": [
       "<IPython.core.display.HTML object>"
      ]
     },
     "metadata": {},
     "output_type": "display_data"
    },
    {
     "data": {
      "text/html": [
       "Run data is saved locally in <code>/Users/sumanta/Desktop/Numpy project/mse_error_revised/wandb/run-20240317_185109-ri75b9db</code>"
      ],
      "text/plain": [
       "<IPython.core.display.HTML object>"
      ]
     },
     "metadata": {},
     "output_type": "display_data"
    },
    {
     "data": {
      "text/html": [
       "Syncing run <strong><a href='https://wandb.ai/sumanta_roy/CS6910_assignment_1/runs/ri75b9db' target=\"_blank\">hearty-sweep-64</a></strong> to <a href='https://wandb.ai/sumanta_roy/CS6910_assignment_1' target=\"_blank\">Weights & Biases</a> (<a href='https://wandb.me/run' target=\"_blank\">docs</a>)<br/>Sweep page: <a href='https://wandb.ai/sumanta_roy/CS6910_assignment_1/sweeps/etqoz0cb' target=\"_blank\">https://wandb.ai/sumanta_roy/CS6910_assignment_1/sweeps/etqoz0cb</a>"
      ],
      "text/plain": [
       "<IPython.core.display.HTML object>"
      ]
     },
     "metadata": {},
     "output_type": "display_data"
    },
    {
     "data": {
      "text/html": [
       " View project at <a href='https://wandb.ai/sumanta_roy/CS6910_assignment_1' target=\"_blank\">https://wandb.ai/sumanta_roy/CS6910_assignment_1</a>"
      ],
      "text/plain": [
       "<IPython.core.display.HTML object>"
      ]
     },
     "metadata": {},
     "output_type": "display_data"
    },
    {
     "data": {
      "text/html": [
       " View sweep at <a href='https://wandb.ai/sumanta_roy/CS6910_assignment_1/sweeps/etqoz0cb' target=\"_blank\">https://wandb.ai/sumanta_roy/CS6910_assignment_1/sweeps/etqoz0cb</a>"
      ],
      "text/plain": [
       "<IPython.core.display.HTML object>"
      ]
     },
     "metadata": {},
     "output_type": "display_data"
    },
    {
     "data": {
      "text/html": [
       " View run at <a href='https://wandb.ai/sumanta_roy/CS6910_assignment_1/runs/ri75b9db' target=\"_blank\">https://wandb.ai/sumanta_roy/CS6910_assignment_1/runs/ri75b9db</a>"
      ],
      "text/plain": [
       "<IPython.core.display.HTML object>"
      ]
     },
     "metadata": {},
     "output_type": "display_data"
    },
    {
     "name": "stdout",
     "output_type": "stream",
     "text": [
      "Epoch: 1/10; Train Loss: 0.02194985012188598; Val Loss: 0.021279568068690857\n",
      "Epoch: 2/10; Train Loss: 0.018686688428307646; Val Loss: 0.019674250767834106\n",
      "Epoch: 3/10; Train Loss: 0.01744989857053629; Val Loss: 0.018824617966766013\n",
      "Epoch: 4/10; Train Loss: 0.01722539073388811; Val Loss: 0.018243130105697197\n",
      "Epoch: 5/10; Train Loss: 0.017390702901730726; Val Loss: 0.017797721770735474\n",
      "Epoch: 6/10; Train Loss: 0.017637702292543113; Val Loss: 0.017446304846160523\n",
      "Epoch: 7/10; Train Loss: 0.01784505145086371; Val Loss: 0.017167254579319013\n",
      "Epoch: 8/10; Train Loss: 0.01798477434256415; Val Loss: 0.016941965998809906\n",
      "Epoch: 9/10; Train Loss: 0.018054559007744123; Val Loss: 0.01675603854615246\n",
      "Epoch: 10/10; Train Loss: 0.018062037263277198; Val Loss: 0.01660121322662319\n"
     ]
    },
    {
     "data": {
      "application/vnd.jupyter.widget-view+json": {
       "model_id": "",
       "version_major": 2,
       "version_minor": 0
      },
      "text/plain": [
       "VBox(children=(Label(value='0.001 MB of 0.001 MB uploaded\\r'), FloatProgress(value=1.0, max=1.0)))"
      ]
     },
     "metadata": {},
     "output_type": "display_data"
    },
    {
     "data": {
      "text/html": [
       "<style>\n",
       "    table.wandb td:nth-child(1) { padding: 0 10px; text-align: left ; width: auto;} td:nth-child(2) {text-align: left ; width: 100%}\n",
       "    .wandb-row { display: flex; flex-direction: row; flex-wrap: wrap; justify-content: flex-start; width: 100% }\n",
       "    .wandb-col { display: flex; flex-direction: column; flex-basis: 100%; flex: 1; padding: 10px; }\n",
       "    </style>\n",
       "<div class=\"wandb-row\"><div class=\"wandb-col\"><h3>Run history:</h3><br/><table class=\"wandb\"><tr><td>epoch</td><td>▁▁▁▁▂▂▂▂▃▃▃▃▃▃▃▃▄▄▄▄▅▅▅▅▆▆▆▆▆▆▆▆▇▇▇▇████</td></tr><tr><td>train_accuracy</td><td>▃▆▆▂▅▅▅█▃▆▆▆▇█▅▅▅▇▃▁▆▆▅█▇▆▆▇▇█▅▃▅▇▃▇▅▇▅█</td></tr><tr><td>train_loss</td><td>▆▃▃▇▅▆▅▁▇▄▄▅▂▁▄▇▄▂▅█▄▅▅▂▂▄▃▂▃▁▅▇▅▂▅▂▄▂▄▁</td></tr><tr><td>val_accuracy</td><td>▁▄▄▅▆▆▆▆▇▇▇▇▇▇▇▇▆▇█▇▇▇▇▇██▇█████▇███▇███</td></tr><tr><td>validation_loss</td><td>█▅▄▄▃▃▃▃▂▂▂▂▂▂▂▂▃▂▂▂▂▂▂▁▁▂▂▁▁▁▁▁▂▁▁▁▁▁▁▁</td></tr></table><br/></div><div class=\"wandb-col\"><h3>Run summary:</h3><br/><table class=\"wandb\"><tr><td>epoch</td><td>10</td></tr><tr><td>train_accuracy</td><td>100.0</td></tr><tr><td>train_loss</td><td>0.01806</td></tr><tr><td>val_accuracy</td><td>88.3</td></tr><tr><td>validation_loss</td><td>0.0166</td></tr></table><br/></div></div>"
      ],
      "text/plain": [
       "<IPython.core.display.HTML object>"
      ]
     },
     "metadata": {},
     "output_type": "display_data"
    },
    {
     "data": {
      "text/html": [
       " View run <strong style=\"color:#cdcd00\">hearty-sweep-64</strong> at: <a href='https://wandb.ai/sumanta_roy/CS6910_assignment_1/runs/ri75b9db' target=\"_blank\">https://wandb.ai/sumanta_roy/CS6910_assignment_1/runs/ri75b9db</a><br/>Synced 6 W&B file(s), 0 media file(s), 0 artifact file(s) and 0 other file(s)"
      ],
      "text/plain": [
       "<IPython.core.display.HTML object>"
      ]
     },
     "metadata": {},
     "output_type": "display_data"
    },
    {
     "data": {
      "text/html": [
       "Find logs at: <code>./wandb/run-20240317_185109-ri75b9db/logs</code>"
      ],
      "text/plain": [
       "<IPython.core.display.HTML object>"
      ]
     },
     "metadata": {},
     "output_type": "display_data"
    },
    {
     "name": "stderr",
     "output_type": "stream",
     "text": [
      "\u001b[34m\u001b[1mwandb\u001b[0m: Agent Starting Run: u0hmfgf8 with config:\n",
      "\u001b[34m\u001b[1mwandb\u001b[0m: \tactivation: tanh\n",
      "\u001b[34m\u001b[1mwandb\u001b[0m: \tbatch_size: 16\n",
      "\u001b[34m\u001b[1mwandb\u001b[0m: \tepochs: 10\n",
      "\u001b[34m\u001b[1mwandb\u001b[0m: \thidden_layers: 4\n",
      "\u001b[34m\u001b[1mwandb\u001b[0m: \thidden_size: 128\n",
      "\u001b[34m\u001b[1mwandb\u001b[0m: \tloss: mse\n",
      "\u001b[34m\u001b[1mwandb\u001b[0m: \tlr: 0.001\n",
      "\u001b[34m\u001b[1mwandb\u001b[0m: \toptimizer: nadam\n",
      "\u001b[34m\u001b[1mwandb\u001b[0m: \tw_init: glorot\n",
      "\u001b[34m\u001b[1mwandb\u001b[0m: \tweight_decay: 0\n"
     ]
    },
    {
     "data": {
      "text/html": [
       "Tracking run with wandb version 0.16.4"
      ],
      "text/plain": [
       "<IPython.core.display.HTML object>"
      ]
     },
     "metadata": {},
     "output_type": "display_data"
    },
    {
     "data": {
      "text/html": [
       "Run data is saved locally in <code>/Users/sumanta/Desktop/Numpy project/mse_error_revised/wandb/run-20240317_185447-u0hmfgf8</code>"
      ],
      "text/plain": [
       "<IPython.core.display.HTML object>"
      ]
     },
     "metadata": {},
     "output_type": "display_data"
    },
    {
     "data": {
      "text/html": [
       "Syncing run <strong><a href='https://wandb.ai/sumanta_roy/CS6910_assignment_1/runs/u0hmfgf8' target=\"_blank\">amber-sweep-65</a></strong> to <a href='https://wandb.ai/sumanta_roy/CS6910_assignment_1' target=\"_blank\">Weights & Biases</a> (<a href='https://wandb.me/run' target=\"_blank\">docs</a>)<br/>Sweep page: <a href='https://wandb.ai/sumanta_roy/CS6910_assignment_1/sweeps/etqoz0cb' target=\"_blank\">https://wandb.ai/sumanta_roy/CS6910_assignment_1/sweeps/etqoz0cb</a>"
      ],
      "text/plain": [
       "<IPython.core.display.HTML object>"
      ]
     },
     "metadata": {},
     "output_type": "display_data"
    },
    {
     "data": {
      "text/html": [
       " View project at <a href='https://wandb.ai/sumanta_roy/CS6910_assignment_1' target=\"_blank\">https://wandb.ai/sumanta_roy/CS6910_assignment_1</a>"
      ],
      "text/plain": [
       "<IPython.core.display.HTML object>"
      ]
     },
     "metadata": {},
     "output_type": "display_data"
    },
    {
     "data": {
      "text/html": [
       " View sweep at <a href='https://wandb.ai/sumanta_roy/CS6910_assignment_1/sweeps/etqoz0cb' target=\"_blank\">https://wandb.ai/sumanta_roy/CS6910_assignment_1/sweeps/etqoz0cb</a>"
      ],
      "text/plain": [
       "<IPython.core.display.HTML object>"
      ]
     },
     "metadata": {},
     "output_type": "display_data"
    },
    {
     "data": {
      "text/html": [
       " View run at <a href='https://wandb.ai/sumanta_roy/CS6910_assignment_1/runs/u0hmfgf8' target=\"_blank\">https://wandb.ai/sumanta_roy/CS6910_assignment_1/runs/u0hmfgf8</a>"
      ],
      "text/plain": [
       "<IPython.core.display.HTML object>"
      ]
     },
     "metadata": {},
     "output_type": "display_data"
    },
    {
     "name": "stdout",
     "output_type": "stream",
     "text": [
      "Epoch: 1/10; Train Loss: 0.011379420413621662; Val Loss: 0.021491071621929893\n",
      "Epoch: 2/10; Train Loss: 0.01017289215060489; Val Loss: 0.01976438591380345\n",
      "Epoch: 3/10; Train Loss: 0.009406638165723832; Val Loss: 0.01881359341474562\n",
      "Epoch: 4/10; Train Loss: 0.008797466796465713; Val Loss: 0.01820269310882882\n",
      "Epoch: 5/10; Train Loss: 0.008211060614976722; Val Loss: 0.01776318567778727\n",
      "Epoch: 6/10; Train Loss: 0.0076178700971975145; Val Loss: 0.017427080463641595\n",
      "Epoch: 7/10; Train Loss: 0.00703159417678165; Val Loss: 0.017157997461122978\n",
      "Epoch: 8/10; Train Loss: 0.006471439368315598; Val Loss: 0.016934620774366967\n",
      "Epoch: 9/10; Train Loss: 0.005949083976988732; Val Loss: 0.016743900838307495\n",
      "Epoch: 10/10; Train Loss: 0.005465689362627068; Val Loss: 0.016577147630280516\n"
     ]
    },
    {
     "data": {
      "application/vnd.jupyter.widget-view+json": {
       "model_id": "",
       "version_major": 2,
       "version_minor": 0
      },
      "text/plain": [
       "VBox(children=(Label(value='0.001 MB of 0.001 MB uploaded\\r'), FloatProgress(value=1.0, max=1.0)))"
      ]
     },
     "metadata": {},
     "output_type": "display_data"
    },
    {
     "data": {
      "text/html": [
       "<style>\n",
       "    table.wandb td:nth-child(1) { padding: 0 10px; text-align: left ; width: auto;} td:nth-child(2) {text-align: left ; width: 100%}\n",
       "    .wandb-row { display: flex; flex-direction: row; flex-wrap: wrap; justify-content: flex-start; width: 100% }\n",
       "    .wandb-col { display: flex; flex-direction: column; flex-basis: 100%; flex: 1; padding: 10px; }\n",
       "    </style>\n",
       "<div class=\"wandb-row\"><div class=\"wandb-col\"><h3>Run history:</h3><br/><table class=\"wandb\"><tr><td>epoch</td><td>▁▁▁▁▂▂▂▂▃▃▃▃▃▃▃▃▄▄▄▄▅▅▅▅▆▆▆▆▆▆▆▆▇▇▇▇████</td></tr><tr><td>train_accuracy</td><td>▅▅▇▁▄▂▄█▂▅▅▅▇█▄▄▄▇▂▁▅▄▅█▇▇▅▇▇▇▄▂▁▇▂▇▄▇▅█</td></tr><tr><td>train_loss</td><td>▇▄▃█▅▇▅▁█▄▅▅▂▂▄▇▄▂▅█▄▆▄▁▃▄▄▂▃▂▄▇▆▂▅▂▄▂▄▁</td></tr><tr><td>val_accuracy</td><td>▁▄▄▅▆▆▅▆▆▆▆▆▇▇▇▇▆▇▇▇▇▇▇▇▇▇▇█▇▇▇█▇▇██▇███</td></tr><tr><td>validation_loss</td><td>█▅▄▄▃▃▃▃▂▂▂▂▂▂▂▂▂▂▂▂▂▂▂▁▁▁▂▁▁▁▁▁▂▁▁▁▁▁▁▁</td></tr></table><br/></div><div class=\"wandb-col\"><h3>Run summary:</h3><br/><table class=\"wandb\"><tr><td>epoch</td><td>10</td></tr><tr><td>train_accuracy</td><td>100.0</td></tr><tr><td>train_loss</td><td>0.00547</td></tr><tr><td>val_accuracy</td><td>88.5</td></tr><tr><td>validation_loss</td><td>0.01658</td></tr></table><br/></div></div>"
      ],
      "text/plain": [
       "<IPython.core.display.HTML object>"
      ]
     },
     "metadata": {},
     "output_type": "display_data"
    },
    {
     "data": {
      "text/html": [
       " View run <strong style=\"color:#cdcd00\">amber-sweep-65</strong> at: <a href='https://wandb.ai/sumanta_roy/CS6910_assignment_1/runs/u0hmfgf8' target=\"_blank\">https://wandb.ai/sumanta_roy/CS6910_assignment_1/runs/u0hmfgf8</a><br/>Synced 6 W&B file(s), 0 media file(s), 0 artifact file(s) and 0 other file(s)"
      ],
      "text/plain": [
       "<IPython.core.display.HTML object>"
      ]
     },
     "metadata": {},
     "output_type": "display_data"
    },
    {
     "data": {
      "text/html": [
       "Find logs at: <code>./wandb/run-20240317_185447-u0hmfgf8/logs</code>"
      ],
      "text/plain": [
       "<IPython.core.display.HTML object>"
      ]
     },
     "metadata": {},
     "output_type": "display_data"
    },
    {
     "name": "stderr",
     "output_type": "stream",
     "text": [
      "\u001b[34m\u001b[1mwandb\u001b[0m: Agent Starting Run: f8j4tzur with config:\n",
      "\u001b[34m\u001b[1mwandb\u001b[0m: \tactivation: tanh\n",
      "\u001b[34m\u001b[1mwandb\u001b[0m: \tbatch_size: 16\n",
      "\u001b[34m\u001b[1mwandb\u001b[0m: \tepochs: 10\n",
      "\u001b[34m\u001b[1mwandb\u001b[0m: \thidden_layers: 5\n",
      "\u001b[34m\u001b[1mwandb\u001b[0m: \thidden_size: 64\n",
      "\u001b[34m\u001b[1mwandb\u001b[0m: \tloss: mse\n",
      "\u001b[34m\u001b[1mwandb\u001b[0m: \tlr: 0.001\n",
      "\u001b[34m\u001b[1mwandb\u001b[0m: \toptimizer: nadam\n",
      "\u001b[34m\u001b[1mwandb\u001b[0m: \tw_init: glorot\n",
      "\u001b[34m\u001b[1mwandb\u001b[0m: \tweight_decay: 0.0005\n"
     ]
    },
    {
     "data": {
      "text/html": [
       "Tracking run with wandb version 0.16.4"
      ],
      "text/plain": [
       "<IPython.core.display.HTML object>"
      ]
     },
     "metadata": {},
     "output_type": "display_data"
    },
    {
     "data": {
      "text/html": [
       "Run data is saved locally in <code>/Users/sumanta/Desktop/Numpy project/mse_error_revised/wandb/run-20240317_185824-f8j4tzur</code>"
      ],
      "text/plain": [
       "<IPython.core.display.HTML object>"
      ]
     },
     "metadata": {},
     "output_type": "display_data"
    },
    {
     "data": {
      "text/html": [
       "Syncing run <strong><a href='https://wandb.ai/sumanta_roy/CS6910_assignment_1/runs/f8j4tzur' target=\"_blank\">trim-sweep-66</a></strong> to <a href='https://wandb.ai/sumanta_roy/CS6910_assignment_1' target=\"_blank\">Weights & Biases</a> (<a href='https://wandb.me/run' target=\"_blank\">docs</a>)<br/>Sweep page: <a href='https://wandb.ai/sumanta_roy/CS6910_assignment_1/sweeps/etqoz0cb' target=\"_blank\">https://wandb.ai/sumanta_roy/CS6910_assignment_1/sweeps/etqoz0cb</a>"
      ],
      "text/plain": [
       "<IPython.core.display.HTML object>"
      ]
     },
     "metadata": {},
     "output_type": "display_data"
    },
    {
     "data": {
      "text/html": [
       " View project at <a href='https://wandb.ai/sumanta_roy/CS6910_assignment_1' target=\"_blank\">https://wandb.ai/sumanta_roy/CS6910_assignment_1</a>"
      ],
      "text/plain": [
       "<IPython.core.display.HTML object>"
      ]
     },
     "metadata": {},
     "output_type": "display_data"
    },
    {
     "data": {
      "text/html": [
       " View sweep at <a href='https://wandb.ai/sumanta_roy/CS6910_assignment_1/sweeps/etqoz0cb' target=\"_blank\">https://wandb.ai/sumanta_roy/CS6910_assignment_1/sweeps/etqoz0cb</a>"
      ],
      "text/plain": [
       "<IPython.core.display.HTML object>"
      ]
     },
     "metadata": {},
     "output_type": "display_data"
    },
    {
     "data": {
      "text/html": [
       " View run at <a href='https://wandb.ai/sumanta_roy/CS6910_assignment_1/runs/f8j4tzur' target=\"_blank\">https://wandb.ai/sumanta_roy/CS6910_assignment_1/runs/f8j4tzur</a>"
      ],
      "text/plain": [
       "<IPython.core.display.HTML object>"
      ]
     },
     "metadata": {},
     "output_type": "display_data"
    },
    {
     "name": "stdout",
     "output_type": "stream",
     "text": [
      "Epoch: 1/10; Train Loss: 0.022670006218900696; Val Loss: 0.023078604665743463\n",
      "Epoch: 2/10; Train Loss: 0.022943221569125316; Val Loss: 0.021043538063159742\n",
      "Epoch: 3/10; Train Loss: 0.022765245777230596; Val Loss: 0.019940862992610844\n",
      "Epoch: 4/10; Train Loss: 0.022156430867450037; Val Loss: 0.019262894924065292\n",
      "Epoch: 5/10; Train Loss: 0.021210392904379684; Val Loss: 0.01879450179619596\n",
      "Epoch: 6/10; Train Loss: 0.019918137348285986; Val Loss: 0.01844458435455574\n",
      "Epoch: 7/10; Train Loss: 0.01836109848711264; Val Loss: 0.01817390266782241\n",
      "Epoch: 8/10; Train Loss: 0.01677839916996279; Val Loss: 0.0179616924960727\n",
      "Epoch: 9/10; Train Loss: 0.015437933236572832; Val Loss: 0.017792859105315455\n",
      "Epoch: 10/10; Train Loss: 0.014455324139585665; Val Loss: 0.01765553403751111\n"
     ]
    },
    {
     "data": {
      "application/vnd.jupyter.widget-view+json": {
       "model_id": "",
       "version_major": 2,
       "version_minor": 0
      },
      "text/plain": [
       "VBox(children=(Label(value='0.001 MB of 0.001 MB uploaded\\r'), FloatProgress(value=1.0, max=1.0)))"
      ]
     },
     "metadata": {},
     "output_type": "display_data"
    },
    {
     "data": {
      "text/html": [
       "<style>\n",
       "    table.wandb td:nth-child(1) { padding: 0 10px; text-align: left ; width: auto;} td:nth-child(2) {text-align: left ; width: 100%}\n",
       "    .wandb-row { display: flex; flex-direction: row; flex-wrap: wrap; justify-content: flex-start; width: 100% }\n",
       "    .wandb-col { display: flex; flex-direction: column; flex-basis: 100%; flex: 1; padding: 10px; }\n",
       "    </style>\n",
       "<div class=\"wandb-row\"><div class=\"wandb-col\"><h3>Run history:</h3><br/><table class=\"wandb\"><tr><td>epoch</td><td>▁▁▁▁▂▂▂▂▃▃▃▃▃▃▃▃▄▄▄▄▅▅▅▅▆▆▆▆▆▆▆▆▇▇▇▇████</td></tr><tr><td>train_accuracy</td><td>▅▅▇▄▅▁▂█▂▅▅▅██▅▄▄▇▄▂▅▂▅▇▅▅▇▇▅█▄▂▁▅▂▇▅█▅█</td></tr><tr><td>train_loss</td><td>▇▄▄▇▅▆▆▁█▄▅▅▁▂▄▇▅▃▅▇▅▆▄▂▃▄▄▂▄▁▄█▆▃▅▂▄▂▄▁</td></tr><tr><td>val_accuracy</td><td>▁▄▅▅▆▆▆▆▇▇▇▇▇▇▇▇▇▇▇▇▇▇▇███▇█████▇███▇███</td></tr><tr><td>validation_loss</td><td>█▄▄▃▃▂▃▂▂▂▂▂▂▂▂▂▂▂▁▂▂▁▁▁▁▁▁▁▁▁▁▁▂▁▁▁▁▁▁▁</td></tr></table><br/></div><div class=\"wandb-col\"><h3>Run summary:</h3><br/><table class=\"wandb\"><tr><td>epoch</td><td>10</td></tr><tr><td>train_accuracy</td><td>93.75</td></tr><tr><td>train_loss</td><td>0.01446</td></tr><tr><td>val_accuracy</td><td>87.48333</td></tr><tr><td>validation_loss</td><td>0.01766</td></tr></table><br/></div></div>"
      ],
      "text/plain": [
       "<IPython.core.display.HTML object>"
      ]
     },
     "metadata": {},
     "output_type": "display_data"
    },
    {
     "data": {
      "text/html": [
       " View run <strong style=\"color:#cdcd00\">trim-sweep-66</strong> at: <a href='https://wandb.ai/sumanta_roy/CS6910_assignment_1/runs/f8j4tzur' target=\"_blank\">https://wandb.ai/sumanta_roy/CS6910_assignment_1/runs/f8j4tzur</a><br/>Synced 6 W&B file(s), 0 media file(s), 0 artifact file(s) and 0 other file(s)"
      ],
      "text/plain": [
       "<IPython.core.display.HTML object>"
      ]
     },
     "metadata": {},
     "output_type": "display_data"
    },
    {
     "data": {
      "text/html": [
       "Find logs at: <code>./wandb/run-20240317_185824-f8j4tzur/logs</code>"
      ],
      "text/plain": [
       "<IPython.core.display.HTML object>"
      ]
     },
     "metadata": {},
     "output_type": "display_data"
    },
    {
     "name": "stderr",
     "output_type": "stream",
     "text": [
      "\u001b[34m\u001b[1mwandb\u001b[0m: Agent Starting Run: 3mb6gwzz with config:\n",
      "\u001b[34m\u001b[1mwandb\u001b[0m: \tactivation: tanh\n",
      "\u001b[34m\u001b[1mwandb\u001b[0m: \tbatch_size: 16\n",
      "\u001b[34m\u001b[1mwandb\u001b[0m: \tepochs: 10\n",
      "\u001b[34m\u001b[1mwandb\u001b[0m: \thidden_layers: 4\n",
      "\u001b[34m\u001b[1mwandb\u001b[0m: \thidden_size: 64\n",
      "\u001b[34m\u001b[1mwandb\u001b[0m: \tloss: mse\n",
      "\u001b[34m\u001b[1mwandb\u001b[0m: \tlr: 0.0001\n",
      "\u001b[34m\u001b[1mwandb\u001b[0m: \toptimizer: nadam\n",
      "\u001b[34m\u001b[1mwandb\u001b[0m: \tw_init: glorot\n",
      "\u001b[34m\u001b[1mwandb\u001b[0m: \tweight_decay: 0\n"
     ]
    },
    {
     "data": {
      "text/html": [
       "Tracking run with wandb version 0.16.4"
      ],
      "text/plain": [
       "<IPython.core.display.HTML object>"
      ]
     },
     "metadata": {},
     "output_type": "display_data"
    },
    {
     "data": {
      "text/html": [
       "Run data is saved locally in <code>/Users/sumanta/Desktop/Numpy project/mse_error_revised/wandb/run-20240317_190021-3mb6gwzz</code>"
      ],
      "text/plain": [
       "<IPython.core.display.HTML object>"
      ]
     },
     "metadata": {},
     "output_type": "display_data"
    },
    {
     "data": {
      "text/html": [
       "Syncing run <strong><a href='https://wandb.ai/sumanta_roy/CS6910_assignment_1/runs/3mb6gwzz' target=\"_blank\">cerulean-sweep-67</a></strong> to <a href='https://wandb.ai/sumanta_roy/CS6910_assignment_1' target=\"_blank\">Weights & Biases</a> (<a href='https://wandb.me/run' target=\"_blank\">docs</a>)<br/>Sweep page: <a href='https://wandb.ai/sumanta_roy/CS6910_assignment_1/sweeps/etqoz0cb' target=\"_blank\">https://wandb.ai/sumanta_roy/CS6910_assignment_1/sweeps/etqoz0cb</a>"
      ],
      "text/plain": [
       "<IPython.core.display.HTML object>"
      ]
     },
     "metadata": {},
     "output_type": "display_data"
    },
    {
     "data": {
      "text/html": [
       " View project at <a href='https://wandb.ai/sumanta_roy/CS6910_assignment_1' target=\"_blank\">https://wandb.ai/sumanta_roy/CS6910_assignment_1</a>"
      ],
      "text/plain": [
       "<IPython.core.display.HTML object>"
      ]
     },
     "metadata": {},
     "output_type": "display_data"
    },
    {
     "data": {
      "text/html": [
       " View sweep at <a href='https://wandb.ai/sumanta_roy/CS6910_assignment_1/sweeps/etqoz0cb' target=\"_blank\">https://wandb.ai/sumanta_roy/CS6910_assignment_1/sweeps/etqoz0cb</a>"
      ],
      "text/plain": [
       "<IPython.core.display.HTML object>"
      ]
     },
     "metadata": {},
     "output_type": "display_data"
    },
    {
     "data": {
      "text/html": [
       " View run at <a href='https://wandb.ai/sumanta_roy/CS6910_assignment_1/runs/3mb6gwzz' target=\"_blank\">https://wandb.ai/sumanta_roy/CS6910_assignment_1/runs/3mb6gwzz</a>"
      ],
      "text/plain": [
       "<IPython.core.display.HTML object>"
      ]
     },
     "metadata": {},
     "output_type": "display_data"
    },
    {
     "name": "stdout",
     "output_type": "stream",
     "text": [
      "Epoch: 1/10; Train Loss: 0.04314713872367691; Val Loss: 0.04546525453852351\n",
      "Epoch: 2/10; Train Loss: 0.03314715469727814; Val Loss: 0.03747506563691343\n",
      "Epoch: 3/10; Train Loss: 0.027707775722494277; Val Loss: 0.03286787651864882\n",
      "Epoch: 4/10; Train Loss: 0.023903036977566263; Val Loss: 0.029718365877485706\n",
      "Epoch: 5/10; Train Loss: 0.021319924169840798; Val Loss: 0.027615156985719667\n",
      "Epoch: 6/10; Train Loss: 0.019640401216995673; Val Loss: 0.026188830180916164\n",
      "Epoch: 7/10; Train Loss: 0.01853151927711494; Val Loss: 0.025173355821102406\n",
      "Epoch: 8/10; Train Loss: 0.017762449980065407; Val Loss: 0.02441539457920256\n",
      "Epoch: 9/10; Train Loss: 0.017196096298821812; Val Loss: 0.023826200050013697\n",
      "Epoch: 10/10; Train Loss: 0.016753244503716465; Val Loss: 0.023351520313055336\n"
     ]
    },
    {
     "data": {
      "application/vnd.jupyter.widget-view+json": {
       "model_id": "",
       "version_major": 2,
       "version_minor": 0
      },
      "text/plain": [
       "VBox(children=(Label(value='0.001 MB of 0.001 MB uploaded\\r'), FloatProgress(value=1.0, max=1.0)))"
      ]
     },
     "metadata": {},
     "output_type": "display_data"
    },
    {
     "data": {
      "text/html": [
       "<style>\n",
       "    table.wandb td:nth-child(1) { padding: 0 10px; text-align: left ; width: auto;} td:nth-child(2) {text-align: left ; width: 100%}\n",
       "    .wandb-row { display: flex; flex-direction: row; flex-wrap: wrap; justify-content: flex-start; width: 100% }\n",
       "    .wandb-col { display: flex; flex-direction: column; flex-basis: 100%; flex: 1; padding: 10px; }\n",
       "    </style>\n",
       "<div class=\"wandb-row\"><div class=\"wandb-col\"><h3>Run history:</h3><br/><table class=\"wandb\"><tr><td>epoch</td><td>▁▁▁▁▂▂▂▂▃▃▃▃▃▃▃▃▄▄▄▄▅▅▅▅▆▆▆▆▆▆▆▆▇▇▇▇████</td></tr><tr><td>train_accuracy</td><td>▁▆▄▂▄▃▃█▅▇▆▆▇▄▅▄▆█▆▃▇▄▆▆▆▇▆█▆▆▇▄▇▇▆█▆█▇█</td></tr><tr><td>train_loss</td><td>█▆▅▆▅▅▅▂▄▃▄▄▃▃▃▅▃▁▃▅▂▄▂▃▃▂▂▁▃▂▂▅▂▂▂▁▂▂▂▁</td></tr><tr><td>val_accuracy</td><td>▁▄▅▅▅▆▆▆▆▆▇▇▇▇▇▇▇▇▇█████████████████████</td></tr><tr><td>validation_loss</td><td>█▆▅▄▄▃▃▃▃▃▂▂▂▂▂▂▂▂▂▂▂▁▁▁▁▁▁▁▁▁▁▁▁▁▁▁▁▁▁▁</td></tr></table><br/></div><div class=\"wandb-col\"><h3>Run summary:</h3><br/><table class=\"wandb\"><tr><td>epoch</td><td>10</td></tr><tr><td>train_accuracy</td><td>87.5</td></tr><tr><td>train_loss</td><td>0.01675</td></tr><tr><td>val_accuracy</td><td>83.65</td></tr><tr><td>validation_loss</td><td>0.02335</td></tr></table><br/></div></div>"
      ],
      "text/plain": [
       "<IPython.core.display.HTML object>"
      ]
     },
     "metadata": {},
     "output_type": "display_data"
    },
    {
     "data": {
      "text/html": [
       " View run <strong style=\"color:#cdcd00\">cerulean-sweep-67</strong> at: <a href='https://wandb.ai/sumanta_roy/CS6910_assignment_1/runs/3mb6gwzz' target=\"_blank\">https://wandb.ai/sumanta_roy/CS6910_assignment_1/runs/3mb6gwzz</a><br/>Synced 6 W&B file(s), 0 media file(s), 0 artifact file(s) and 0 other file(s)"
      ],
      "text/plain": [
       "<IPython.core.display.HTML object>"
      ]
     },
     "metadata": {},
     "output_type": "display_data"
    },
    {
     "data": {
      "text/html": [
       "Find logs at: <code>./wandb/run-20240317_190021-3mb6gwzz/logs</code>"
      ],
      "text/plain": [
       "<IPython.core.display.HTML object>"
      ]
     },
     "metadata": {},
     "output_type": "display_data"
    },
    {
     "name": "stderr",
     "output_type": "stream",
     "text": [
      "\u001b[34m\u001b[1mwandb\u001b[0m: Agent Starting Run: kdf7t3ta with config:\n",
      "\u001b[34m\u001b[1mwandb\u001b[0m: \tactivation: tanh\n",
      "\u001b[34m\u001b[1mwandb\u001b[0m: \tbatch_size: 32\n",
      "\u001b[34m\u001b[1mwandb\u001b[0m: \tepochs: 10\n",
      "\u001b[34m\u001b[1mwandb\u001b[0m: \thidden_layers: 5\n",
      "\u001b[34m\u001b[1mwandb\u001b[0m: \thidden_size: 64\n",
      "\u001b[34m\u001b[1mwandb\u001b[0m: \tloss: mse\n",
      "\u001b[34m\u001b[1mwandb\u001b[0m: \tlr: 0.001\n",
      "\u001b[34m\u001b[1mwandb\u001b[0m: \toptimizer: nadam\n",
      "\u001b[34m\u001b[1mwandb\u001b[0m: \tw_init: glorot\n",
      "\u001b[34m\u001b[1mwandb\u001b[0m: \tweight_decay: 0\n"
     ]
    },
    {
     "data": {
      "text/html": [
       "Tracking run with wandb version 0.16.4"
      ],
      "text/plain": [
       "<IPython.core.display.HTML object>"
      ]
     },
     "metadata": {},
     "output_type": "display_data"
    },
    {
     "data": {
      "text/html": [
       "Run data is saved locally in <code>/Users/sumanta/Desktop/Numpy project/mse_error_revised/wandb/run-20240317_190218-kdf7t3ta</code>"
      ],
      "text/plain": [
       "<IPython.core.display.HTML object>"
      ]
     },
     "metadata": {},
     "output_type": "display_data"
    },
    {
     "data": {
      "text/html": [
       "Syncing run <strong><a href='https://wandb.ai/sumanta_roy/CS6910_assignment_1/runs/kdf7t3ta' target=\"_blank\">good-sweep-68</a></strong> to <a href='https://wandb.ai/sumanta_roy/CS6910_assignment_1' target=\"_blank\">Weights & Biases</a> (<a href='https://wandb.me/run' target=\"_blank\">docs</a>)<br/>Sweep page: <a href='https://wandb.ai/sumanta_roy/CS6910_assignment_1/sweeps/etqoz0cb' target=\"_blank\">https://wandb.ai/sumanta_roy/CS6910_assignment_1/sweeps/etqoz0cb</a>"
      ],
      "text/plain": [
       "<IPython.core.display.HTML object>"
      ]
     },
     "metadata": {},
     "output_type": "display_data"
    },
    {
     "data": {
      "text/html": [
       " View project at <a href='https://wandb.ai/sumanta_roy/CS6910_assignment_1' target=\"_blank\">https://wandb.ai/sumanta_roy/CS6910_assignment_1</a>"
      ],
      "text/plain": [
       "<IPython.core.display.HTML object>"
      ]
     },
     "metadata": {},
     "output_type": "display_data"
    },
    {
     "data": {
      "text/html": [
       " View sweep at <a href='https://wandb.ai/sumanta_roy/CS6910_assignment_1/sweeps/etqoz0cb' target=\"_blank\">https://wandb.ai/sumanta_roy/CS6910_assignment_1/sweeps/etqoz0cb</a>"
      ],
      "text/plain": [
       "<IPython.core.display.HTML object>"
      ]
     },
     "metadata": {},
     "output_type": "display_data"
    },
    {
     "data": {
      "text/html": [
       " View run at <a href='https://wandb.ai/sumanta_roy/CS6910_assignment_1/runs/kdf7t3ta' target=\"_blank\">https://wandb.ai/sumanta_roy/CS6910_assignment_1/runs/kdf7t3ta</a>"
      ],
      "text/plain": [
       "<IPython.core.display.HTML object>"
      ]
     },
     "metadata": {},
     "output_type": "display_data"
    },
    {
     "name": "stdout",
     "output_type": "stream",
     "text": [
      "Epoch: 1/10; Train Loss: 0.012448061082620738; Val Loss: 0.02299534221785819\n",
      "Epoch: 2/10; Train Loss: 0.011335049242048357; Val Loss: 0.021049017206607505\n",
      "Epoch: 3/10; Train Loss: 0.011408836052047405; Val Loss: 0.019977780692053852\n",
      "Epoch: 4/10; Train Loss: 0.011655763583204; Val Loss: 0.019285009083131407\n",
      "Epoch: 5/10; Train Loss: 0.011839876744152312; Val Loss: 0.018796433113875417\n",
      "Epoch: 6/10; Train Loss: 0.011918991606660354; Val Loss: 0.01842582136445266\n",
      "Epoch: 7/10; Train Loss: 0.011905501710804144; Val Loss: 0.018130483664445068\n",
      "Epoch: 8/10; Train Loss: 0.011824787475162076; Val Loss: 0.017888920182707338\n",
      "Epoch: 9/10; Train Loss: 0.011703346256351669; Val Loss: 0.017688841362379932\n",
      "Epoch: 10/10; Train Loss: 0.011563645787769907; Val Loss: 0.017521354288592857\n"
     ]
    },
    {
     "data": {
      "application/vnd.jupyter.widget-view+json": {
       "model_id": "",
       "version_major": 2,
       "version_minor": 0
      },
      "text/plain": [
       "VBox(children=(Label(value='0.001 MB of 0.001 MB uploaded\\r'), FloatProgress(value=1.0, max=1.0)))"
      ]
     },
     "metadata": {},
     "output_type": "display_data"
    },
    {
     "data": {
      "text/html": [
       "<style>\n",
       "    table.wandb td:nth-child(1) { padding: 0 10px; text-align: left ; width: auto;} td:nth-child(2) {text-align: left ; width: 100%}\n",
       "    .wandb-row { display: flex; flex-direction: row; flex-wrap: wrap; justify-content: flex-start; width: 100% }\n",
       "    .wandb-col { display: flex; flex-direction: column; flex-basis: 100%; flex: 1; padding: 10px; }\n",
       "    </style>\n",
       "<div class=\"wandb-row\"><div class=\"wandb-col\"><h3>Run history:</h3><br/><table class=\"wandb\"><tr><td>epoch</td><td>▁▁▁▁▂▂▂▂▃▃▃▃▃▃▃▃▄▄▄▄▅▅▅▅▆▆▆▆▆▆▆▆▇▇▇▇████</td></tr><tr><td>train_accuracy</td><td>▅▅▆█▆▃▁▇▅▅▇▁▇▅▂▆▅▆▆▁█▅▅▆▃█▆▁█▅▅▆▅██▁▅▅▆▇</td></tr><tr><td>train_loss</td><td>▆▅▄▃▃▅▇▃▄▃▂█▂▄▇▃▄▃▂▇▂▄▄▄▄▂▁▇▁▄▃▄▃▂▁▆▄▄▃▂</td></tr><tr><td>val_accuracy</td><td>▁▃▅▅▅▆▆▆▆▆▆▇▇▇▇▇▇▇▇▇▇▇▇▇▇█▇█████████████</td></tr><tr><td>validation_loss</td><td>█▅▄▄▃▃▃▃▃▂▂▂▂▂▂▂▂▂▂▂▂▂▂▁▂▁▂▁▁▁▁▁▁▁▁▁▁▁▁▁</td></tr></table><br/></div><div class=\"wandb-col\"><h3>Run summary:</h3><br/><table class=\"wandb\"><tr><td>epoch</td><td>10</td></tr><tr><td>train_accuracy</td><td>90.625</td></tr><tr><td>train_loss</td><td>0.01156</td></tr><tr><td>val_accuracy</td><td>87.63333</td></tr><tr><td>validation_loss</td><td>0.01752</td></tr></table><br/></div></div>"
      ],
      "text/plain": [
       "<IPython.core.display.HTML object>"
      ]
     },
     "metadata": {},
     "output_type": "display_data"
    },
    {
     "data": {
      "text/html": [
       " View run <strong style=\"color:#cdcd00\">good-sweep-68</strong> at: <a href='https://wandb.ai/sumanta_roy/CS6910_assignment_1/runs/kdf7t3ta' target=\"_blank\">https://wandb.ai/sumanta_roy/CS6910_assignment_1/runs/kdf7t3ta</a><br/>Synced 6 W&B file(s), 0 media file(s), 0 artifact file(s) and 0 other file(s)"
      ],
      "text/plain": [
       "<IPython.core.display.HTML object>"
      ]
     },
     "metadata": {},
     "output_type": "display_data"
    },
    {
     "data": {
      "text/html": [
       "Find logs at: <code>./wandb/run-20240317_190218-kdf7t3ta/logs</code>"
      ],
      "text/plain": [
       "<IPython.core.display.HTML object>"
      ]
     },
     "metadata": {},
     "output_type": "display_data"
    },
    {
     "name": "stderr",
     "output_type": "stream",
     "text": [
      "\u001b[34m\u001b[1mwandb\u001b[0m: Sweep Agent: Waiting for job.\n",
      "\u001b[34m\u001b[1mwandb\u001b[0m: Job received.\n",
      "\u001b[34m\u001b[1mwandb\u001b[0m: Agent Starting Run: x71qw7wp with config:\n",
      "\u001b[34m\u001b[1mwandb\u001b[0m: \tactivation: tanh\n",
      "\u001b[34m\u001b[1mwandb\u001b[0m: \tbatch_size: 16\n",
      "\u001b[34m\u001b[1mwandb\u001b[0m: \tepochs: 10\n",
      "\u001b[34m\u001b[1mwandb\u001b[0m: \thidden_layers: 4\n",
      "\u001b[34m\u001b[1mwandb\u001b[0m: \thidden_size: 128\n",
      "\u001b[34m\u001b[1mwandb\u001b[0m: \tloss: mse\n",
      "\u001b[34m\u001b[1mwandb\u001b[0m: \tlr: 0.001\n",
      "\u001b[34m\u001b[1mwandb\u001b[0m: \toptimizer: rmsprop\n",
      "\u001b[34m\u001b[1mwandb\u001b[0m: \tw_init: glorot\n",
      "\u001b[34m\u001b[1mwandb\u001b[0m: \tweight_decay: 0\n"
     ]
    },
    {
     "data": {
      "text/html": [
       "Tracking run with wandb version 0.16.4"
      ],
      "text/plain": [
       "<IPython.core.display.HTML object>"
      ]
     },
     "metadata": {},
     "output_type": "display_data"
    },
    {
     "data": {
      "text/html": [
       "Run data is saved locally in <code>/Users/sumanta/Desktop/Numpy project/mse_error_revised/wandb/run-20240317_190353-x71qw7wp</code>"
      ],
      "text/plain": [
       "<IPython.core.display.HTML object>"
      ]
     },
     "metadata": {},
     "output_type": "display_data"
    },
    {
     "data": {
      "text/html": [
       "Syncing run <strong><a href='https://wandb.ai/sumanta_roy/CS6910_assignment_1/runs/x71qw7wp' target=\"_blank\">fresh-sweep-69</a></strong> to <a href='https://wandb.ai/sumanta_roy/CS6910_assignment_1' target=\"_blank\">Weights & Biases</a> (<a href='https://wandb.me/run' target=\"_blank\">docs</a>)<br/>Sweep page: <a href='https://wandb.ai/sumanta_roy/CS6910_assignment_1/sweeps/etqoz0cb' target=\"_blank\">https://wandb.ai/sumanta_roy/CS6910_assignment_1/sweeps/etqoz0cb</a>"
      ],
      "text/plain": [
       "<IPython.core.display.HTML object>"
      ]
     },
     "metadata": {},
     "output_type": "display_data"
    },
    {
     "data": {
      "text/html": [
       " View project at <a href='https://wandb.ai/sumanta_roy/CS6910_assignment_1' target=\"_blank\">https://wandb.ai/sumanta_roy/CS6910_assignment_1</a>"
      ],
      "text/plain": [
       "<IPython.core.display.HTML object>"
      ]
     },
     "metadata": {},
     "output_type": "display_data"
    },
    {
     "data": {
      "text/html": [
       " View sweep at <a href='https://wandb.ai/sumanta_roy/CS6910_assignment_1/sweeps/etqoz0cb' target=\"_blank\">https://wandb.ai/sumanta_roy/CS6910_assignment_1/sweeps/etqoz0cb</a>"
      ],
      "text/plain": [
       "<IPython.core.display.HTML object>"
      ]
     },
     "metadata": {},
     "output_type": "display_data"
    },
    {
     "data": {
      "text/html": [
       " View run at <a href='https://wandb.ai/sumanta_roy/CS6910_assignment_1/runs/x71qw7wp' target=\"_blank\">https://wandb.ai/sumanta_roy/CS6910_assignment_1/runs/x71qw7wp</a>"
      ],
      "text/plain": [
       "<IPython.core.display.HTML object>"
      ]
     },
     "metadata": {},
     "output_type": "display_data"
    },
    {
     "name": "stdout",
     "output_type": "stream",
     "text": [
      "Epoch: 1/10; Train Loss: 0.010741108478632366; Val Loss: 0.02048350898650001\n",
      "Epoch: 2/10; Train Loss: 0.010196386990581296; Val Loss: 0.018927157292792766\n",
      "Epoch: 3/10; Train Loss: 0.005733046717339997; Val Loss: 0.017999877232988053\n",
      "Epoch: 4/10; Train Loss: 0.008217623626618417; Val Loss: 0.017577274170182993\n",
      "Epoch: 5/10; Train Loss: 0.008865459927678579; Val Loss: 0.017450169305306955\n",
      "Epoch: 6/10; Train Loss: 0.004486499039213882; Val Loss: 0.017091041224158873\n",
      "Epoch: 7/10; Train Loss: 0.006608126422889169; Val Loss: 0.01720433462059215\n",
      "Epoch: 8/10; Train Loss: 0.004558570808176473; Val Loss: 0.01725983174375358\n",
      "Epoch: 9/10; Train Loss: 0.006875405619915431; Val Loss: 0.017452238117746616\n",
      "Epoch: 10/10; Train Loss: 0.0007331079139969747; Val Loss: 0.017407812164703027\n"
     ]
    },
    {
     "data": {
      "application/vnd.jupyter.widget-view+json": {
       "model_id": "",
       "version_major": 2,
       "version_minor": 0
      },
      "text/plain": [
       "VBox(children=(Label(value='0.001 MB of 0.001 MB uploaded\\r'), FloatProgress(value=1.0, max=1.0)))"
      ]
     },
     "metadata": {},
     "output_type": "display_data"
    },
    {
     "data": {
      "text/html": [
       "<style>\n",
       "    table.wandb td:nth-child(1) { padding: 0 10px; text-align: left ; width: auto;} td:nth-child(2) {text-align: left ; width: 100%}\n",
       "    .wandb-row { display: flex; flex-direction: row; flex-wrap: wrap; justify-content: flex-start; width: 100% }\n",
       "    .wandb-col { display: flex; flex-direction: column; flex-basis: 100%; flex: 1; padding: 10px; }\n",
       "    </style>\n",
       "<div class=\"wandb-row\"><div class=\"wandb-col\"><h3>Run history:</h3><br/><table class=\"wandb\"><tr><td>epoch</td><td>▁▁▁▁▂▂▂▂▃▃▃▃▃▃▃▃▄▄▄▄▅▅▅▅▆▆▆▆▆▆▆▆▇▇▇▇████</td></tr><tr><td>train_accuracy</td><td>▁▅▇▃▅▆▆█▂▇▆▆█▇▆▃▆▇▂▃▆▃▅█▇▇██▇█▆▅▇▇▇█▆▇▅█</td></tr><tr><td>train_loss</td><td>█▃▃█▅▄▄▁▇▂▄▄▂▂▄▇▃▂▆▆▅▆▆▂▃▂▂▁▃▂▅▅▃▂▄▁▄▂▅▁</td></tr><tr><td>val_accuracy</td><td>▁▆▆▆▇▆▇▇█▇██████▇██▇█▇████▇██████▇██████</td></tr><tr><td>validation_loss</td><td>█▃▃▃▂▃▂▂▁▂▁▁▁▁▁▁▂▁▁▂▂▂▁▁▁▁▂▂▁▁▁▁▂▂▁▂▂▁▂▁</td></tr></table><br/></div><div class=\"wandb-col\"><h3>Run summary:</h3><br/><table class=\"wandb\"><tr><td>epoch</td><td>10</td></tr><tr><td>train_accuracy</td><td>100.0</td></tr><tr><td>train_loss</td><td>0.00073</td></tr><tr><td>val_accuracy</td><td>88.43333</td></tr><tr><td>validation_loss</td><td>0.01741</td></tr></table><br/></div></div>"
      ],
      "text/plain": [
       "<IPython.core.display.HTML object>"
      ]
     },
     "metadata": {},
     "output_type": "display_data"
    },
    {
     "data": {
      "text/html": [
       " View run <strong style=\"color:#cdcd00\">fresh-sweep-69</strong> at: <a href='https://wandb.ai/sumanta_roy/CS6910_assignment_1/runs/x71qw7wp' target=\"_blank\">https://wandb.ai/sumanta_roy/CS6910_assignment_1/runs/x71qw7wp</a><br/>Synced 6 W&B file(s), 0 media file(s), 0 artifact file(s) and 0 other file(s)"
      ],
      "text/plain": [
       "<IPython.core.display.HTML object>"
      ]
     },
     "metadata": {},
     "output_type": "display_data"
    },
    {
     "data": {
      "text/html": [
       "Find logs at: <code>./wandb/run-20240317_190353-x71qw7wp/logs</code>"
      ],
      "text/plain": [
       "<IPython.core.display.HTML object>"
      ]
     },
     "metadata": {},
     "output_type": "display_data"
    },
    {
     "name": "stderr",
     "output_type": "stream",
     "text": [
      "\u001b[34m\u001b[1mwandb\u001b[0m: Agent Starting Run: jzoc7e7m with config:\n",
      "\u001b[34m\u001b[1mwandb\u001b[0m: \tactivation: tanh\n",
      "\u001b[34m\u001b[1mwandb\u001b[0m: \tbatch_size: 16\n",
      "\u001b[34m\u001b[1mwandb\u001b[0m: \tepochs: 10\n",
      "\u001b[34m\u001b[1mwandb\u001b[0m: \thidden_layers: 5\n",
      "\u001b[34m\u001b[1mwandb\u001b[0m: \thidden_size: 64\n",
      "\u001b[34m\u001b[1mwandb\u001b[0m: \tloss: mse\n",
      "\u001b[34m\u001b[1mwandb\u001b[0m: \tlr: 0.001\n",
      "\u001b[34m\u001b[1mwandb\u001b[0m: \toptimizer: nadam\n",
      "\u001b[34m\u001b[1mwandb\u001b[0m: \tw_init: glorot\n",
      "\u001b[34m\u001b[1mwandb\u001b[0m: \tweight_decay: 0\n"
     ]
    },
    {
     "data": {
      "text/html": [
       "Tracking run with wandb version 0.16.4"
      ],
      "text/plain": [
       "<IPython.core.display.HTML object>"
      ]
     },
     "metadata": {},
     "output_type": "display_data"
    },
    {
     "data": {
      "text/html": [
       "Run data is saved locally in <code>/Users/sumanta/Desktop/Numpy project/mse_error_revised/wandb/run-20240317_190643-jzoc7e7m</code>"
      ],
      "text/plain": [
       "<IPython.core.display.HTML object>"
      ]
     },
     "metadata": {},
     "output_type": "display_data"
    },
    {
     "data": {
      "text/html": [
       "Syncing run <strong><a href='https://wandb.ai/sumanta_roy/CS6910_assignment_1/runs/jzoc7e7m' target=\"_blank\">stoic-sweep-70</a></strong> to <a href='https://wandb.ai/sumanta_roy/CS6910_assignment_1' target=\"_blank\">Weights & Biases</a> (<a href='https://wandb.me/run' target=\"_blank\">docs</a>)<br/>Sweep page: <a href='https://wandb.ai/sumanta_roy/CS6910_assignment_1/sweeps/etqoz0cb' target=\"_blank\">https://wandb.ai/sumanta_roy/CS6910_assignment_1/sweeps/etqoz0cb</a>"
      ],
      "text/plain": [
       "<IPython.core.display.HTML object>"
      ]
     },
     "metadata": {},
     "output_type": "display_data"
    },
    {
     "data": {
      "text/html": [
       " View project at <a href='https://wandb.ai/sumanta_roy/CS6910_assignment_1' target=\"_blank\">https://wandb.ai/sumanta_roy/CS6910_assignment_1</a>"
      ],
      "text/plain": [
       "<IPython.core.display.HTML object>"
      ]
     },
     "metadata": {},
     "output_type": "display_data"
    },
    {
     "data": {
      "text/html": [
       " View sweep at <a href='https://wandb.ai/sumanta_roy/CS6910_assignment_1/sweeps/etqoz0cb' target=\"_blank\">https://wandb.ai/sumanta_roy/CS6910_assignment_1/sweeps/etqoz0cb</a>"
      ],
      "text/plain": [
       "<IPython.core.display.HTML object>"
      ]
     },
     "metadata": {},
     "output_type": "display_data"
    },
    {
     "data": {
      "text/html": [
       " View run at <a href='https://wandb.ai/sumanta_roy/CS6910_assignment_1/runs/jzoc7e7m' target=\"_blank\">https://wandb.ai/sumanta_roy/CS6910_assignment_1/runs/jzoc7e7m</a>"
      ],
      "text/plain": [
       "<IPython.core.display.HTML object>"
      ]
     },
     "metadata": {},
     "output_type": "display_data"
    },
    {
     "name": "stdout",
     "output_type": "stream",
     "text": [
      "Epoch: 1/10; Train Loss: 0.011169636006993037; Val Loss: 0.022854845526086427\n",
      "Epoch: 2/10; Train Loss: 0.00838765348491617; Val Loss: 0.020844952982346905\n",
      "Epoch: 3/10; Train Loss: 0.007499934907065795; Val Loss: 0.019740825504620932\n",
      "Epoch: 4/10; Train Loss: 0.007319768401125771; Val Loss: 0.019021721800659978\n",
      "Epoch: 5/10; Train Loss: 0.007384774002904336; Val Loss: 0.018479319299032945\n",
      "Epoch: 6/10; Train Loss: 0.007470075109234521; Val Loss: 0.018064100768892335\n",
      "Epoch: 7/10; Train Loss: 0.007488299259962057; Val Loss: 0.017745465384052275\n",
      "Epoch: 8/10; Train Loss: 0.007435886301886599; Val Loss: 0.01748810968975624\n",
      "Epoch: 9/10; Train Loss: 0.007324843126814498; Val Loss: 0.01727341674266064\n",
      "Epoch: 10/10; Train Loss: 0.007172998828716924; Val Loss: 0.017090694333868384\n"
     ]
    },
    {
     "data": {
      "application/vnd.jupyter.widget-view+json": {
       "model_id": "",
       "version_major": 2,
       "version_minor": 0
      },
      "text/plain": [
       "VBox(children=(Label(value='0.001 MB of 0.001 MB uploaded\\r'), FloatProgress(value=1.0, max=1.0)))"
      ]
     },
     "metadata": {},
     "output_type": "display_data"
    },
    {
     "data": {
      "text/html": [
       "<style>\n",
       "    table.wandb td:nth-child(1) { padding: 0 10px; text-align: left ; width: auto;} td:nth-child(2) {text-align: left ; width: 100%}\n",
       "    .wandb-row { display: flex; flex-direction: row; flex-wrap: wrap; justify-content: flex-start; width: 100% }\n",
       "    .wandb-col { display: flex; flex-direction: column; flex-basis: 100%; flex: 1; padding: 10px; }\n",
       "    </style>\n",
       "<div class=\"wandb-row\"><div class=\"wandb-col\"><h3>Run history:</h3><br/><table class=\"wandb\"><tr><td>epoch</td><td>▁▁▁▁▂▂▂▂▃▃▃▃▃▃▃▃▄▄▄▄▅▅▅▅▆▆▆▆▆▆▆▆▇▇▇▇████</td></tr><tr><td>train_accuracy</td><td>▅▇▇▂▆▂▅█▁▆▆▅██▆▅▇█▅▁▆▅▆▇▇▅▅▇▇█▆▃▃▆▃▇▅▆▆█</td></tr><tr><td>train_loss</td><td>▆▃▄▇▅▇▅▁█▄▅▅▂▂▄▇▃▂▄█▄▅▄▂▃▄▄▂▃▂▄▇▆▃▄▃▄▂▄▁</td></tr><tr><td>val_accuracy</td><td>▁▄▄▅▆▆▆▆▇▇▇▇▇▇▇▇▇▇█▇▇▇██▇███████▇███████</td></tr><tr><td>validation_loss</td><td>█▄▄▃▃▃▃▂▂▂▂▂▂▂▂▂▂▂▁▂▂▁▁▁▁▁▁▁▁▁▁▁▂▁▁▁▁▁▁▁</td></tr></table><br/></div><div class=\"wandb-col\"><h3>Run summary:</h3><br/><table class=\"wandb\"><tr><td>epoch</td><td>10</td></tr><tr><td>train_accuracy</td><td>93.75</td></tr><tr><td>train_loss</td><td>0.00717</td></tr><tr><td>val_accuracy</td><td>88.15</td></tr><tr><td>validation_loss</td><td>0.01709</td></tr></table><br/></div></div>"
      ],
      "text/plain": [
       "<IPython.core.display.HTML object>"
      ]
     },
     "metadata": {},
     "output_type": "display_data"
    },
    {
     "data": {
      "text/html": [
       " View run <strong style=\"color:#cdcd00\">stoic-sweep-70</strong> at: <a href='https://wandb.ai/sumanta_roy/CS6910_assignment_1/runs/jzoc7e7m' target=\"_blank\">https://wandb.ai/sumanta_roy/CS6910_assignment_1/runs/jzoc7e7m</a><br/>Synced 6 W&B file(s), 0 media file(s), 0 artifact file(s) and 0 other file(s)"
      ],
      "text/plain": [
       "<IPython.core.display.HTML object>"
      ]
     },
     "metadata": {},
     "output_type": "display_data"
    },
    {
     "data": {
      "text/html": [
       "Find logs at: <code>./wandb/run-20240317_190643-jzoc7e7m/logs</code>"
      ],
      "text/plain": [
       "<IPython.core.display.HTML object>"
      ]
     },
     "metadata": {},
     "output_type": "display_data"
    },
    {
     "name": "stderr",
     "output_type": "stream",
     "text": [
      "\u001b[34m\u001b[1mwandb\u001b[0m: Agent Starting Run: ikjnvrag with config:\n",
      "\u001b[34m\u001b[1mwandb\u001b[0m: \tactivation: tanh\n",
      "\u001b[34m\u001b[1mwandb\u001b[0m: \tbatch_size: 16\n",
      "\u001b[34m\u001b[1mwandb\u001b[0m: \tepochs: 10\n",
      "\u001b[34m\u001b[1mwandb\u001b[0m: \thidden_layers: 4\n",
      "\u001b[34m\u001b[1mwandb\u001b[0m: \thidden_size: 32\n",
      "\u001b[34m\u001b[1mwandb\u001b[0m: \tloss: mse\n",
      "\u001b[34m\u001b[1mwandb\u001b[0m: \tlr: 0.001\n",
      "\u001b[34m\u001b[1mwandb\u001b[0m: \toptimizer: adam\n",
      "\u001b[34m\u001b[1mwandb\u001b[0m: \tw_init: glorot\n",
      "\u001b[34m\u001b[1mwandb\u001b[0m: \tweight_decay: 0\n"
     ]
    },
    {
     "data": {
      "text/html": [
       "Tracking run with wandb version 0.16.4"
      ],
      "text/plain": [
       "<IPython.core.display.HTML object>"
      ]
     },
     "metadata": {},
     "output_type": "display_data"
    },
    {
     "data": {
      "text/html": [
       "Run data is saved locally in <code>/Users/sumanta/Desktop/Numpy project/mse_error_revised/wandb/run-20240317_190839-ikjnvrag</code>"
      ],
      "text/plain": [
       "<IPython.core.display.HTML object>"
      ]
     },
     "metadata": {},
     "output_type": "display_data"
    },
    {
     "data": {
      "text/html": [
       "Syncing run <strong><a href='https://wandb.ai/sumanta_roy/CS6910_assignment_1/runs/ikjnvrag' target=\"_blank\">silver-sweep-71</a></strong> to <a href='https://wandb.ai/sumanta_roy/CS6910_assignment_1' target=\"_blank\">Weights & Biases</a> (<a href='https://wandb.me/run' target=\"_blank\">docs</a>)<br/>Sweep page: <a href='https://wandb.ai/sumanta_roy/CS6910_assignment_1/sweeps/etqoz0cb' target=\"_blank\">https://wandb.ai/sumanta_roy/CS6910_assignment_1/sweeps/etqoz0cb</a>"
      ],
      "text/plain": [
       "<IPython.core.display.HTML object>"
      ]
     },
     "metadata": {},
     "output_type": "display_data"
    },
    {
     "data": {
      "text/html": [
       " View project at <a href='https://wandb.ai/sumanta_roy/CS6910_assignment_1' target=\"_blank\">https://wandb.ai/sumanta_roy/CS6910_assignment_1</a>"
      ],
      "text/plain": [
       "<IPython.core.display.HTML object>"
      ]
     },
     "metadata": {},
     "output_type": "display_data"
    },
    {
     "data": {
      "text/html": [
       " View sweep at <a href='https://wandb.ai/sumanta_roy/CS6910_assignment_1/sweeps/etqoz0cb' target=\"_blank\">https://wandb.ai/sumanta_roy/CS6910_assignment_1/sweeps/etqoz0cb</a>"
      ],
      "text/plain": [
       "<IPython.core.display.HTML object>"
      ]
     },
     "metadata": {},
     "output_type": "display_data"
    },
    {
     "data": {
      "text/html": [
       " View run at <a href='https://wandb.ai/sumanta_roy/CS6910_assignment_1/runs/ikjnvrag' target=\"_blank\">https://wandb.ai/sumanta_roy/CS6910_assignment_1/runs/ikjnvrag</a>"
      ],
      "text/plain": [
       "<IPython.core.display.HTML object>"
      ]
     },
     "metadata": {},
     "output_type": "display_data"
    },
    {
     "name": "stdout",
     "output_type": "stream",
     "text": [
      "Epoch: 1/10; Train Loss: 0.013933343510405649; Val Loss: 0.02143824665073734\n",
      "Epoch: 2/10; Train Loss: 0.012857961495255605; Val Loss: 0.01981297271270518\n",
      "Epoch: 3/10; Train Loss: 0.009572354790377451; Val Loss: 0.019089029508236464\n",
      "Epoch: 4/10; Train Loss: 0.007361210423809957; Val Loss: 0.018738167304062792\n",
      "Epoch: 5/10; Train Loss: 0.005839236777888677; Val Loss: 0.018469622175551228\n",
      "Epoch: 6/10; Train Loss: 0.005019681991086355; Val Loss: 0.018222733883104036\n",
      "Epoch: 7/10; Train Loss: 0.004817923550354765; Val Loss: 0.01802022237253697\n",
      "Epoch: 8/10; Train Loss: 0.00481868731209143; Val Loss: 0.0177979783128781\n",
      "Epoch: 9/10; Train Loss: 0.004920351608360482; Val Loss: 0.01765914068625427\n",
      "Epoch: 10/10; Train Loss: 0.004587443164430313; Val Loss: 0.0176275723076565\n"
     ]
    },
    {
     "data": {
      "application/vnd.jupyter.widget-view+json": {
       "model_id": "",
       "version_major": 2,
       "version_minor": 0
      },
      "text/plain": [
       "VBox(children=(Label(value='0.001 MB of 0.009 MB uploaded\\r'), FloatProgress(value=0.07892036124794745, max=1.…"
      ]
     },
     "metadata": {},
     "output_type": "display_data"
    },
    {
     "data": {
      "text/html": [
       "<style>\n",
       "    table.wandb td:nth-child(1) { padding: 0 10px; text-align: left ; width: auto;} td:nth-child(2) {text-align: left ; width: 100%}\n",
       "    .wandb-row { display: flex; flex-direction: row; flex-wrap: wrap; justify-content: flex-start; width: 100% }\n",
       "    .wandb-col { display: flex; flex-direction: column; flex-basis: 100%; flex: 1; padding: 10px; }\n",
       "    </style>\n",
       "<div class=\"wandb-row\"><div class=\"wandb-col\"><h3>Run history:</h3><br/><table class=\"wandb\"><tr><td>epoch</td><td>▁▁▁▁▂▂▂▂▃▃▃▃▃▃▃▃▄▄▄▄▅▅▅▅▆▆▆▆▆▆▆▆▇▇▇▇████</td></tr><tr><td>train_accuracy</td><td>▅▆▇▃▃▅▆█▅▅▇▅█▇▅▃▆▇▅▁▇▅▆█▇▆▇█▇▇▅▃▂▇▅█▅▇▆▇</td></tr><tr><td>train_loss</td><td>▆▃▃▆▅▆▄▁▆▄▃▅▂▂▅█▃▂▄█▃▆▄▂▃▄▂▂▃▂▆█▅▂▅▂▅▂▄▂</td></tr><tr><td>val_accuracy</td><td>▁▅▄▅▆▆▆▆▆▇▇▇▇▇▇▇▇▇▇▇▇▇▇▇████▇▇▇▇▆███▇██▇</td></tr><tr><td>validation_loss</td><td>█▄▄▃▃▂▃▂▂▂▂▂▂▂▂▁▂▁▁▂▁▁▁▁▁▁▁▁▁▁▁▁▃▁▁▁▁▁▁▂</td></tr></table><br/></div><div class=\"wandb-col\"><h3>Run summary:</h3><br/><table class=\"wandb\"><tr><td>epoch</td><td>10</td></tr><tr><td>train_accuracy</td><td>93.75</td></tr><tr><td>train_loss</td><td>0.00459</td></tr><tr><td>val_accuracy</td><td>87.98333</td></tr><tr><td>validation_loss</td><td>0.01763</td></tr></table><br/></div></div>"
      ],
      "text/plain": [
       "<IPython.core.display.HTML object>"
      ]
     },
     "metadata": {},
     "output_type": "display_data"
    },
    {
     "data": {
      "text/html": [
       " View run <strong style=\"color:#cdcd00\">silver-sweep-71</strong> at: <a href='https://wandb.ai/sumanta_roy/CS6910_assignment_1/runs/ikjnvrag' target=\"_blank\">https://wandb.ai/sumanta_roy/CS6910_assignment_1/runs/ikjnvrag</a><br/>Synced 6 W&B file(s), 0 media file(s), 0 artifact file(s) and 0 other file(s)"
      ],
      "text/plain": [
       "<IPython.core.display.HTML object>"
      ]
     },
     "metadata": {},
     "output_type": "display_data"
    },
    {
     "data": {
      "text/html": [
       "Find logs at: <code>./wandb/run-20240317_190839-ikjnvrag/logs</code>"
      ],
      "text/plain": [
       "<IPython.core.display.HTML object>"
      ]
     },
     "metadata": {},
     "output_type": "display_data"
    },
    {
     "name": "stderr",
     "output_type": "stream",
     "text": [
      "\u001b[34m\u001b[1mwandb\u001b[0m: Agent Starting Run: x58doo81 with config:\n",
      "\u001b[34m\u001b[1mwandb\u001b[0m: \tactivation: tanh\n",
      "\u001b[34m\u001b[1mwandb\u001b[0m: \tbatch_size: 16\n",
      "\u001b[34m\u001b[1mwandb\u001b[0m: \tepochs: 10\n",
      "\u001b[34m\u001b[1mwandb\u001b[0m: \thidden_layers: 3\n",
      "\u001b[34m\u001b[1mwandb\u001b[0m: \thidden_size: 64\n",
      "\u001b[34m\u001b[1mwandb\u001b[0m: \tloss: mse\n",
      "\u001b[34m\u001b[1mwandb\u001b[0m: \tlr: 0.001\n",
      "\u001b[34m\u001b[1mwandb\u001b[0m: \toptimizer: nadam\n",
      "\u001b[34m\u001b[1mwandb\u001b[0m: \tw_init: glorot\n",
      "\u001b[34m\u001b[1mwandb\u001b[0m: \tweight_decay: 0\n"
     ]
    },
    {
     "data": {
      "text/html": [
       "Tracking run with wandb version 0.16.4"
      ],
      "text/plain": [
       "<IPython.core.display.HTML object>"
      ]
     },
     "metadata": {},
     "output_type": "display_data"
    },
    {
     "data": {
      "text/html": [
       "Run data is saved locally in <code>/Users/sumanta/Desktop/Numpy project/mse_error_revised/wandb/run-20240317_190959-x58doo81</code>"
      ],
      "text/plain": [
       "<IPython.core.display.HTML object>"
      ]
     },
     "metadata": {},
     "output_type": "display_data"
    },
    {
     "data": {
      "text/html": [
       "Syncing run <strong><a href='https://wandb.ai/sumanta_roy/CS6910_assignment_1/runs/x58doo81' target=\"_blank\">misunderstood-sweep-72</a></strong> to <a href='https://wandb.ai/sumanta_roy/CS6910_assignment_1' target=\"_blank\">Weights & Biases</a> (<a href='https://wandb.me/run' target=\"_blank\">docs</a>)<br/>Sweep page: <a href='https://wandb.ai/sumanta_roy/CS6910_assignment_1/sweeps/etqoz0cb' target=\"_blank\">https://wandb.ai/sumanta_roy/CS6910_assignment_1/sweeps/etqoz0cb</a>"
      ],
      "text/plain": [
       "<IPython.core.display.HTML object>"
      ]
     },
     "metadata": {},
     "output_type": "display_data"
    },
    {
     "data": {
      "text/html": [
       " View project at <a href='https://wandb.ai/sumanta_roy/CS6910_assignment_1' target=\"_blank\">https://wandb.ai/sumanta_roy/CS6910_assignment_1</a>"
      ],
      "text/plain": [
       "<IPython.core.display.HTML object>"
      ]
     },
     "metadata": {},
     "output_type": "display_data"
    },
    {
     "data": {
      "text/html": [
       " View sweep at <a href='https://wandb.ai/sumanta_roy/CS6910_assignment_1/sweeps/etqoz0cb' target=\"_blank\">https://wandb.ai/sumanta_roy/CS6910_assignment_1/sweeps/etqoz0cb</a>"
      ],
      "text/plain": [
       "<IPython.core.display.HTML object>"
      ]
     },
     "metadata": {},
     "output_type": "display_data"
    },
    {
     "data": {
      "text/html": [
       " View run at <a href='https://wandb.ai/sumanta_roy/CS6910_assignment_1/runs/x58doo81' target=\"_blank\">https://wandb.ai/sumanta_roy/CS6910_assignment_1/runs/x58doo81</a>"
      ],
      "text/plain": [
       "<IPython.core.display.HTML object>"
      ]
     },
     "metadata": {},
     "output_type": "display_data"
    },
    {
     "name": "stdout",
     "output_type": "stream",
     "text": [
      "Epoch: 1/10; Train Loss: 0.014928169668999033; Val Loss: 0.02360479726618279\n",
      "Epoch: 2/10; Train Loss: 0.012585696273955973; Val Loss: 0.02156038511444916\n",
      "Epoch: 3/10; Train Loss: 0.011606762396655809; Val Loss: 0.02040684802546261\n",
      "Epoch: 4/10; Train Loss: 0.01077209157593269; Val Loss: 0.019625089458098353\n",
      "Epoch: 5/10; Train Loss: 0.009912398911240034; Val Loss: 0.01904945129655746\n",
      "Epoch: 6/10; Train Loss: 0.009088410367254513; Val Loss: 0.018602236470908577\n",
      "Epoch: 7/10; Train Loss: 0.008370505080424756; Val Loss: 0.018243362750334086\n",
      "Epoch: 8/10; Train Loss: 0.007787102287662992; Val Loss: 0.017949113332430724\n",
      "Epoch: 9/10; Train Loss: 0.0073386913480380876; Val Loss: 0.017703457837827046\n",
      "Epoch: 10/10; Train Loss: 0.006998404856049596; Val Loss: 0.017495095627101612\n"
     ]
    },
    {
     "data": {
      "application/vnd.jupyter.widget-view+json": {
       "model_id": "",
       "version_major": 2,
       "version_minor": 0
      },
      "text/plain": [
       "VBox(children=(Label(value='0.001 MB of 0.001 MB uploaded\\r'), FloatProgress(value=1.0, max=1.0)))"
      ]
     },
     "metadata": {},
     "output_type": "display_data"
    },
    {
     "data": {
      "text/html": [
       "<style>\n",
       "    table.wandb td:nth-child(1) { padding: 0 10px; text-align: left ; width: auto;} td:nth-child(2) {text-align: left ; width: 100%}\n",
       "    .wandb-row { display: flex; flex-direction: row; flex-wrap: wrap; justify-content: flex-start; width: 100% }\n",
       "    .wandb-col { display: flex; flex-direction: column; flex-basis: 100%; flex: 1; padding: 10px; }\n",
       "    </style>\n",
       "<div class=\"wandb-row\"><div class=\"wandb-col\"><h3>Run history:</h3><br/><table class=\"wandb\"><tr><td>epoch</td><td>▁▁▁▁▂▂▂▂▃▃▃▃▃▃▃▃▄▄▄▄▅▅▅▅▆▆▆▆▆▆▆▆▇▇▇▇████</td></tr><tr><td>train_accuracy</td><td>▃▆▇▃▅▂▅█▂▇▆▆▇▇▆▃▆▆▅▁▆▅▆▇▇▇▅▇▇█▆▃▃▇▅▇▅█▆█</td></tr><tr><td>train_loss</td><td>▇▃▄▇▅▆▅▁▇▃▄▅▂▃▄▇▄▂▄█▄▆▄▂▃▃▄▂▃▂▄▇▅▂▅▂▄▂▄▁</td></tr><tr><td>val_accuracy</td><td>▁▄▅▅▆▆▆▆▆▇▇▇▇▇▇▇▇▇▇▇▇▇██████████▇███████</td></tr><tr><td>validation_loss</td><td>█▄▄▃▃▃▃▂▂▂▂▂▂▂▂▂▂▂▁▂▂▁▁▁▁▁▁▁▁▁▁▁▂▁▁▁▁▁▁▁</td></tr></table><br/></div><div class=\"wandb-col\"><h3>Run summary:</h3><br/><table class=\"wandb\"><tr><td>epoch</td><td>10</td></tr><tr><td>train_accuracy</td><td>93.75</td></tr><tr><td>train_loss</td><td>0.007</td></tr><tr><td>val_accuracy</td><td>87.66667</td></tr><tr><td>validation_loss</td><td>0.0175</td></tr></table><br/></div></div>"
      ],
      "text/plain": [
       "<IPython.core.display.HTML object>"
      ]
     },
     "metadata": {},
     "output_type": "display_data"
    },
    {
     "data": {
      "text/html": [
       " View run <strong style=\"color:#cdcd00\">misunderstood-sweep-72</strong> at: <a href='https://wandb.ai/sumanta_roy/CS6910_assignment_1/runs/x58doo81' target=\"_blank\">https://wandb.ai/sumanta_roy/CS6910_assignment_1/runs/x58doo81</a><br/>Synced 6 W&B file(s), 0 media file(s), 0 artifact file(s) and 0 other file(s)"
      ],
      "text/plain": [
       "<IPython.core.display.HTML object>"
      ]
     },
     "metadata": {},
     "output_type": "display_data"
    },
    {
     "data": {
      "text/html": [
       "Find logs at: <code>./wandb/run-20240317_190959-x58doo81/logs</code>"
      ],
      "text/plain": [
       "<IPython.core.display.HTML object>"
      ]
     },
     "metadata": {},
     "output_type": "display_data"
    },
    {
     "name": "stderr",
     "output_type": "stream",
     "text": [
      "\u001b[34m\u001b[1mwandb\u001b[0m: Agent Starting Run: rfyzclvo with config:\n",
      "\u001b[34m\u001b[1mwandb\u001b[0m: \tactivation: tanh\n",
      "\u001b[34m\u001b[1mwandb\u001b[0m: \tbatch_size: 32\n",
      "\u001b[34m\u001b[1mwandb\u001b[0m: \tepochs: 10\n",
      "\u001b[34m\u001b[1mwandb\u001b[0m: \thidden_layers: 3\n",
      "\u001b[34m\u001b[1mwandb\u001b[0m: \thidden_size: 128\n",
      "\u001b[34m\u001b[1mwandb\u001b[0m: \tloss: mse\n",
      "\u001b[34m\u001b[1mwandb\u001b[0m: \tlr: 0.001\n",
      "\u001b[34m\u001b[1mwandb\u001b[0m: \toptimizer: rmsprop\n",
      "\u001b[34m\u001b[1mwandb\u001b[0m: \tw_init: glorot\n",
      "\u001b[34m\u001b[1mwandb\u001b[0m: \tweight_decay: 0\n"
     ]
    },
    {
     "data": {
      "text/html": [
       "Tracking run with wandb version 0.16.4"
      ],
      "text/plain": [
       "<IPython.core.display.HTML object>"
      ]
     },
     "metadata": {},
     "output_type": "display_data"
    },
    {
     "data": {
      "text/html": [
       "Run data is saved locally in <code>/Users/sumanta/Desktop/Numpy project/mse_error_revised/wandb/run-20240317_191151-rfyzclvo</code>"
      ],
      "text/plain": [
       "<IPython.core.display.HTML object>"
      ]
     },
     "metadata": {},
     "output_type": "display_data"
    },
    {
     "data": {
      "text/html": [
       "Syncing run <strong><a href='https://wandb.ai/sumanta_roy/CS6910_assignment_1/runs/rfyzclvo' target=\"_blank\">autumn-sweep-73</a></strong> to <a href='https://wandb.ai/sumanta_roy/CS6910_assignment_1' target=\"_blank\">Weights & Biases</a> (<a href='https://wandb.me/run' target=\"_blank\">docs</a>)<br/>Sweep page: <a href='https://wandb.ai/sumanta_roy/CS6910_assignment_1/sweeps/etqoz0cb' target=\"_blank\">https://wandb.ai/sumanta_roy/CS6910_assignment_1/sweeps/etqoz0cb</a>"
      ],
      "text/plain": [
       "<IPython.core.display.HTML object>"
      ]
     },
     "metadata": {},
     "output_type": "display_data"
    },
    {
     "data": {
      "text/html": [
       " View project at <a href='https://wandb.ai/sumanta_roy/CS6910_assignment_1' target=\"_blank\">https://wandb.ai/sumanta_roy/CS6910_assignment_1</a>"
      ],
      "text/plain": [
       "<IPython.core.display.HTML object>"
      ]
     },
     "metadata": {},
     "output_type": "display_data"
    },
    {
     "data": {
      "text/html": [
       " View sweep at <a href='https://wandb.ai/sumanta_roy/CS6910_assignment_1/sweeps/etqoz0cb' target=\"_blank\">https://wandb.ai/sumanta_roy/CS6910_assignment_1/sweeps/etqoz0cb</a>"
      ],
      "text/plain": [
       "<IPython.core.display.HTML object>"
      ]
     },
     "metadata": {},
     "output_type": "display_data"
    },
    {
     "data": {
      "text/html": [
       " View run at <a href='https://wandb.ai/sumanta_roy/CS6910_assignment_1/runs/rfyzclvo' target=\"_blank\">https://wandb.ai/sumanta_roy/CS6910_assignment_1/runs/rfyzclvo</a>"
      ],
      "text/plain": [
       "<IPython.core.display.HTML object>"
      ]
     },
     "metadata": {},
     "output_type": "display_data"
    },
    {
     "name": "stdout",
     "output_type": "stream",
     "text": [
      "Epoch: 1/10; Train Loss: 0.0163854172153451; Val Loss: 0.022693475115400742\n",
      "Epoch: 2/10; Train Loss: 0.011966546176653148; Val Loss: 0.019596701693147568\n",
      "Epoch: 3/10; Train Loss: 0.01073202485814745; Val Loss: 0.018113043002099195\n",
      "Epoch: 4/10; Train Loss: 0.010299726898862624; Val Loss: 0.01741839974409281\n",
      "Epoch: 5/10; Train Loss: 0.010107619439626724; Val Loss: 0.016970422610282525\n",
      "Epoch: 6/10; Train Loss: 0.009867997697842284; Val Loss: 0.016661200313458215\n",
      "Epoch: 7/10; Train Loss: 0.009634229899507483; Val Loss: 0.016444696937394882\n",
      "Epoch: 8/10; Train Loss: 0.009184580486522247; Val Loss: 0.01637903538236096\n",
      "Epoch: 9/10; Train Loss: 0.008531662388017931; Val Loss: 0.01637676437345966\n",
      "Epoch: 10/10; Train Loss: 0.007934244645944081; Val Loss: 0.016395209177070855\n"
     ]
    },
    {
     "data": {
      "application/vnd.jupyter.widget-view+json": {
       "model_id": "",
       "version_major": 2,
       "version_minor": 0
      },
      "text/plain": [
       "VBox(children=(Label(value='0.001 MB of 0.001 MB uploaded\\r'), FloatProgress(value=1.0, max=1.0)))"
      ]
     },
     "metadata": {},
     "output_type": "display_data"
    },
    {
     "data": {
      "text/html": [
       "<style>\n",
       "    table.wandb td:nth-child(1) { padding: 0 10px; text-align: left ; width: auto;} td:nth-child(2) {text-align: left ; width: 100%}\n",
       "    .wandb-row { display: flex; flex-direction: row; flex-wrap: wrap; justify-content: flex-start; width: 100% }\n",
       "    .wandb-col { display: flex; flex-direction: column; flex-basis: 100%; flex: 1; padding: 10px; }\n",
       "    </style>\n",
       "<div class=\"wandb-row\"><div class=\"wandb-col\"><h3>Run history:</h3><br/><table class=\"wandb\"><tr><td>epoch</td><td>▁▁▁▁▂▂▂▂▃▃▃▃▃▃▃▃▄▄▄▄▅▅▅▅▆▆▆▆▆▆▆▆▇▇▇▇████</td></tr><tr><td>train_accuracy</td><td>▃▃▆▇▆▇▂▃▃▅▆▁▇▆▅▆▃▇▆▁█▆▆▅▅█▆▂█▆▆▅▇█▇▂▇▆▆█</td></tr><tr><td>train_loss</td><td>▆▆▃▃▄▄▆▅▄▃▃█▃▃▅▅▄▂▂▇▁▃▄▅▃▂▂▆▁▃▄▄▃▁▂▆▂▂▃▁</td></tr><tr><td>val_accuracy</td><td>▁▂▃▅▄▆▅▆▅▆▆▆▆▇▇▇▅▇▇▇▆▇▆▇▆█▇▇▆█▇▇▆██▇▇█▇█</td></tr><tr><td>validation_loss</td><td>█▇▆▄▅▃▄▃▄▂▃▃▃▂▂▂▄▂▂▂▂▁▃▂▃▁▂▂▂▁▂▁▃▁▁▂▂▁▂▁</td></tr></table><br/></div><div class=\"wandb-col\"><h3>Run summary:</h3><br/><table class=\"wandb\"><tr><td>epoch</td><td>10</td></tr><tr><td>train_accuracy</td><td>96.875</td></tr><tr><td>train_loss</td><td>0.00793</td></tr><tr><td>val_accuracy</td><td>88.73333</td></tr><tr><td>validation_loss</td><td>0.0164</td></tr></table><br/></div></div>"
      ],
      "text/plain": [
       "<IPython.core.display.HTML object>"
      ]
     },
     "metadata": {},
     "output_type": "display_data"
    },
    {
     "data": {
      "text/html": [
       " View run <strong style=\"color:#cdcd00\">autumn-sweep-73</strong> at: <a href='https://wandb.ai/sumanta_roy/CS6910_assignment_1/runs/rfyzclvo' target=\"_blank\">https://wandb.ai/sumanta_roy/CS6910_assignment_1/runs/rfyzclvo</a><br/>Synced 6 W&B file(s), 0 media file(s), 0 artifact file(s) and 0 other file(s)"
      ],
      "text/plain": [
       "<IPython.core.display.HTML object>"
      ]
     },
     "metadata": {},
     "output_type": "display_data"
    },
    {
     "data": {
      "text/html": [
       "Find logs at: <code>./wandb/run-20240317_191151-rfyzclvo/logs</code>"
      ],
      "text/plain": [
       "<IPython.core.display.HTML object>"
      ]
     },
     "metadata": {},
     "output_type": "display_data"
    },
    {
     "name": "stderr",
     "output_type": "stream",
     "text": [
      "\u001b[34m\u001b[1mwandb\u001b[0m: Agent Starting Run: odkw0kpk with config:\n",
      "\u001b[34m\u001b[1mwandb\u001b[0m: \tactivation: tanh\n",
      "\u001b[34m\u001b[1mwandb\u001b[0m: \tbatch_size: 16\n",
      "\u001b[34m\u001b[1mwandb\u001b[0m: \tepochs: 10\n",
      "\u001b[34m\u001b[1mwandb\u001b[0m: \thidden_layers: 3\n",
      "\u001b[34m\u001b[1mwandb\u001b[0m: \thidden_size: 32\n",
      "\u001b[34m\u001b[1mwandb\u001b[0m: \tloss: mse\n",
      "\u001b[34m\u001b[1mwandb\u001b[0m: \tlr: 0.001\n",
      "\u001b[34m\u001b[1mwandb\u001b[0m: \toptimizer: sgd\n",
      "\u001b[34m\u001b[1mwandb\u001b[0m: \tw_init: glorot\n",
      "\u001b[34m\u001b[1mwandb\u001b[0m: \tweight_decay: 0\n"
     ]
    },
    {
     "data": {
      "text/html": [
       "Tracking run with wandb version 0.16.4"
      ],
      "text/plain": [
       "<IPython.core.display.HTML object>"
      ]
     },
     "metadata": {},
     "output_type": "display_data"
    },
    {
     "data": {
      "text/html": [
       "Run data is saved locally in <code>/Users/sumanta/Desktop/Numpy project/mse_error_revised/wandb/run-20240317_191358-odkw0kpk</code>"
      ],
      "text/plain": [
       "<IPython.core.display.HTML object>"
      ]
     },
     "metadata": {},
     "output_type": "display_data"
    },
    {
     "data": {
      "text/html": [
       "Syncing run <strong><a href='https://wandb.ai/sumanta_roy/CS6910_assignment_1/runs/odkw0kpk' target=\"_blank\">ethereal-sweep-74</a></strong> to <a href='https://wandb.ai/sumanta_roy/CS6910_assignment_1' target=\"_blank\">Weights & Biases</a> (<a href='https://wandb.me/run' target=\"_blank\">docs</a>)<br/>Sweep page: <a href='https://wandb.ai/sumanta_roy/CS6910_assignment_1/sweeps/etqoz0cb' target=\"_blank\">https://wandb.ai/sumanta_roy/CS6910_assignment_1/sweeps/etqoz0cb</a>"
      ],
      "text/plain": [
       "<IPython.core.display.HTML object>"
      ]
     },
     "metadata": {},
     "output_type": "display_data"
    },
    {
     "data": {
      "text/html": [
       " View project at <a href='https://wandb.ai/sumanta_roy/CS6910_assignment_1' target=\"_blank\">https://wandb.ai/sumanta_roy/CS6910_assignment_1</a>"
      ],
      "text/plain": [
       "<IPython.core.display.HTML object>"
      ]
     },
     "metadata": {},
     "output_type": "display_data"
    },
    {
     "data": {
      "text/html": [
       " View sweep at <a href='https://wandb.ai/sumanta_roy/CS6910_assignment_1/sweeps/etqoz0cb' target=\"_blank\">https://wandb.ai/sumanta_roy/CS6910_assignment_1/sweeps/etqoz0cb</a>"
      ],
      "text/plain": [
       "<IPython.core.display.HTML object>"
      ]
     },
     "metadata": {},
     "output_type": "display_data"
    },
    {
     "data": {
      "text/html": [
       " View run at <a href='https://wandb.ai/sumanta_roy/CS6910_assignment_1/runs/odkw0kpk' target=\"_blank\">https://wandb.ai/sumanta_roy/CS6910_assignment_1/runs/odkw0kpk</a>"
      ],
      "text/plain": [
       "<IPython.core.display.HTML object>"
      ]
     },
     "metadata": {},
     "output_type": "display_data"
    },
    {
     "name": "stdout",
     "output_type": "stream",
     "text": [
      "Epoch: 1/10; Train Loss: 0.037693386017555744; Val Loss: 0.04412638135157143\n",
      "Epoch: 2/10; Train Loss: 0.02904748176408431; Val Loss: 0.034701349345263685\n",
      "Epoch: 3/10; Train Loss: 0.02407623760144665; Val Loss: 0.030182384017801177\n",
      "Epoch: 4/10; Train Loss: 0.020859946846985323; Val Loss: 0.027621923947630883\n",
      "Epoch: 5/10; Train Loss: 0.018868569219852156; Val Loss: 0.02602368417865425\n",
      "Epoch: 6/10; Train Loss: 0.017589979524614732; Val Loss: 0.024940150182902403\n",
      "Epoch: 7/10; Train Loss: 0.016710394847380294; Val Loss: 0.024148572927633786\n",
      "Epoch: 8/10; Train Loss: 0.01605638612686454; Val Loss: 0.023531438715541718\n",
      "Epoch: 9/10; Train Loss: 0.015530484728569476; Val Loss: 0.023025453577761246\n",
      "Epoch: 10/10; Train Loss: 0.015075842581173235; Val Loss: 0.022596245060110938\n"
     ]
    },
    {
     "data": {
      "application/vnd.jupyter.widget-view+json": {
       "model_id": "",
       "version_major": 2,
       "version_minor": 0
      },
      "text/plain": [
       "VBox(children=(Label(value='0.001 MB of 0.001 MB uploaded\\r'), FloatProgress(value=1.0, max=1.0)))"
      ]
     },
     "metadata": {},
     "output_type": "display_data"
    },
    {
     "data": {
      "text/html": [
       "<style>\n",
       "    table.wandb td:nth-child(1) { padding: 0 10px; text-align: left ; width: auto;} td:nth-child(2) {text-align: left ; width: 100%}\n",
       "    .wandb-row { display: flex; flex-direction: row; flex-wrap: wrap; justify-content: flex-start; width: 100% }\n",
       "    .wandb-col { display: flex; flex-direction: column; flex-basis: 100%; flex: 1; padding: 10px; }\n",
       "    </style>\n",
       "<div class=\"wandb-row\"><div class=\"wandb-col\"><h3>Run history:</h3><br/><table class=\"wandb\"><tr><td>epoch</td><td>▁▁▁▁▂▂▂▂▃▃▃▃▃▃▃▃▄▄▄▄▅▅▅▅▆▆▆▆▆▆▆▆▇▇▇▇████</td></tr><tr><td>train_accuracy</td><td>▁▃▂▁▃▁▂█▃▆▇▄▆▅▃▄▅▄▇▁▆▃▆▆▇▆▅█▅▅▆▃▅▇▆█▆▇▅▇</td></tr><tr><td>train_loss</td><td>█▆▆▆▅▅▄▂▄▃▃▄▃▃▄▅▃▂▃▅▂▄▃▃▃▂▃▁▄▃▃▅▃▂▂▁▂▂▂▂</td></tr><tr><td>val_accuracy</td><td>▁▅▅▆▆▇▇▇▇▇▇▇▇▇▇█████████████████████████</td></tr><tr><td>validation_loss</td><td>█▆▅▄▄▃▃▃▂▂▂▂▂▂▂▂▂▂▁▁▁▁▁▁▁▁▁▁▁▁▁▁▁▁▁▁▁▁▁▁</td></tr></table><br/></div><div class=\"wandb-col\"><h3>Run summary:</h3><br/><table class=\"wandb\"><tr><td>epoch</td><td>10</td></tr><tr><td>train_accuracy</td><td>93.75</td></tr><tr><td>train_loss</td><td>0.01508</td></tr><tr><td>val_accuracy</td><td>84.36667</td></tr><tr><td>validation_loss</td><td>0.0226</td></tr></table><br/></div></div>"
      ],
      "text/plain": [
       "<IPython.core.display.HTML object>"
      ]
     },
     "metadata": {},
     "output_type": "display_data"
    },
    {
     "data": {
      "text/html": [
       " View run <strong style=\"color:#cdcd00\">ethereal-sweep-74</strong> at: <a href='https://wandb.ai/sumanta_roy/CS6910_assignment_1/runs/odkw0kpk' target=\"_blank\">https://wandb.ai/sumanta_roy/CS6910_assignment_1/runs/odkw0kpk</a><br/>Synced 6 W&B file(s), 0 media file(s), 0 artifact file(s) and 0 other file(s)"
      ],
      "text/plain": [
       "<IPython.core.display.HTML object>"
      ]
     },
     "metadata": {},
     "output_type": "display_data"
    },
    {
     "data": {
      "text/html": [
       "Find logs at: <code>./wandb/run-20240317_191358-odkw0kpk/logs</code>"
      ],
      "text/plain": [
       "<IPython.core.display.HTML object>"
      ]
     },
     "metadata": {},
     "output_type": "display_data"
    },
    {
     "name": "stderr",
     "output_type": "stream",
     "text": [
      "\u001b[34m\u001b[1mwandb\u001b[0m: Agent Starting Run: 0bycu17n with config:\n",
      "\u001b[34m\u001b[1mwandb\u001b[0m: \tactivation: tanh\n",
      "\u001b[34m\u001b[1mwandb\u001b[0m: \tbatch_size: 32\n",
      "\u001b[34m\u001b[1mwandb\u001b[0m: \tepochs: 10\n",
      "\u001b[34m\u001b[1mwandb\u001b[0m: \thidden_layers: 5\n",
      "\u001b[34m\u001b[1mwandb\u001b[0m: \thidden_size: 64\n",
      "\u001b[34m\u001b[1mwandb\u001b[0m: \tloss: mse\n",
      "\u001b[34m\u001b[1mwandb\u001b[0m: \tlr: 0.001\n",
      "\u001b[34m\u001b[1mwandb\u001b[0m: \toptimizer: nadam\n",
      "\u001b[34m\u001b[1mwandb\u001b[0m: \tw_init: random\n",
      "\u001b[34m\u001b[1mwandb\u001b[0m: \tweight_decay: 0.0005\n"
     ]
    },
    {
     "data": {
      "text/html": [
       "Tracking run with wandb version 0.16.4"
      ],
      "text/plain": [
       "<IPython.core.display.HTML object>"
      ]
     },
     "metadata": {},
     "output_type": "display_data"
    },
    {
     "data": {
      "text/html": [
       "Run data is saved locally in <code>/Users/sumanta/Desktop/Numpy project/mse_error_revised/wandb/run-20240317_191501-0bycu17n</code>"
      ],
      "text/plain": [
       "<IPython.core.display.HTML object>"
      ]
     },
     "metadata": {},
     "output_type": "display_data"
    },
    {
     "data": {
      "text/html": [
       "Syncing run <strong><a href='https://wandb.ai/sumanta_roy/CS6910_assignment_1/runs/0bycu17n' target=\"_blank\">bright-sweep-75</a></strong> to <a href='https://wandb.ai/sumanta_roy/CS6910_assignment_1' target=\"_blank\">Weights & Biases</a> (<a href='https://wandb.me/run' target=\"_blank\">docs</a>)<br/>Sweep page: <a href='https://wandb.ai/sumanta_roy/CS6910_assignment_1/sweeps/etqoz0cb' target=\"_blank\">https://wandb.ai/sumanta_roy/CS6910_assignment_1/sweeps/etqoz0cb</a>"
      ],
      "text/plain": [
       "<IPython.core.display.HTML object>"
      ]
     },
     "metadata": {},
     "output_type": "display_data"
    },
    {
     "data": {
      "text/html": [
       " View project at <a href='https://wandb.ai/sumanta_roy/CS6910_assignment_1' target=\"_blank\">https://wandb.ai/sumanta_roy/CS6910_assignment_1</a>"
      ],
      "text/plain": [
       "<IPython.core.display.HTML object>"
      ]
     },
     "metadata": {},
     "output_type": "display_data"
    },
    {
     "data": {
      "text/html": [
       " View sweep at <a href='https://wandb.ai/sumanta_roy/CS6910_assignment_1/sweeps/etqoz0cb' target=\"_blank\">https://wandb.ai/sumanta_roy/CS6910_assignment_1/sweeps/etqoz0cb</a>"
      ],
      "text/plain": [
       "<IPython.core.display.HTML object>"
      ]
     },
     "metadata": {},
     "output_type": "display_data"
    },
    {
     "data": {
      "text/html": [
       " View run at <a href='https://wandb.ai/sumanta_roy/CS6910_assignment_1/runs/0bycu17n' target=\"_blank\">https://wandb.ai/sumanta_roy/CS6910_assignment_1/runs/0bycu17n</a>"
      ],
      "text/plain": [
       "<IPython.core.display.HTML object>"
      ]
     },
     "metadata": {},
     "output_type": "display_data"
    },
    {
     "name": "stdout",
     "output_type": "stream",
     "text": [
      "Epoch: 1/10; Train Loss: 0.07485152304824676; Val Loss: 0.036126857713337866\n",
      "Epoch: 2/10; Train Loss: 0.06773496844994244; Val Loss: 0.03233072781462405\n"
     ]
    },
    {
     "name": "stderr",
     "output_type": "stream",
     "text": [
      "\u001b[34m\u001b[1mwandb\u001b[0m: Ctrl + C detected. Stopping sweep.\n"
     ]
    },
    {
     "name": "stdout",
     "output_type": "stream",
     "text": [
      "Epoch: 3/10; Train Loss: 0.06296246308790719; Val Loss: 0.030074715569054115\n"
     ]
    },
    {
     "data": {
      "application/vnd.jupyter.widget-view+json": {
       "model_id": "48025ddb750843958c4a062199e6ef6f",
       "version_major": 2,
       "version_minor": 0
      },
      "text/plain": [
       "VBox(children=(Label(value='0.001 MB of 0.001 MB uploaded\\r'), FloatProgress(value=1.0, max=1.0)))"
      ]
     },
     "metadata": {},
     "output_type": "display_data"
    }
   ],
   "source": [
    "from gradient_descent_wandb import *\n",
    "from keras.datasets import fashion_mnist\n",
    "import matplotlib.pyplot as plt\n",
    "import numpy as np\n",
    "import wandb\n",
    "from types import SimpleNamespace\n",
    "import random\n",
    "\n",
    "(train_images, train_labels), (test_images, test_labels) = fashion_mnist.load_data()\n",
    "\n",
    "X = train_images.reshape(train_images.shape[0], -1).T/225\n",
    "Y = train_labels\n",
    "X_test = test_images.reshape(test_images.shape[0], -1).T/225\n",
    "Y_test = test_labels\n",
    "\n",
    "validation_ratio = 0.1 #percentage of data for validation\n",
    "num_validation_samples = int(validation_ratio * X.shape[1])\n",
    "indices = np.random.permutation(X.shape[1]) #shuffling the indices\n",
    "\n",
    "validation_indices = indices[:num_validation_samples]\n",
    "training_indices = indices[num_validation_samples:]\n",
    "\n",
    "X_train = X[:, training_indices]\n",
    "Y_train = Y[training_indices]\n",
    "X_val = X[:, validation_indices]\n",
    "Y_val = Y[validation_indices]\n",
    "\n",
    "print(\"Number of training samples: \" + str(X_train.shape[1]))\n",
    "print(\"Number of validation samples: \" + str(X_val.shape[1]))\n",
    "print(\"Number of testing samples: \" + str(X_test.shape[1]))\n",
    "\n",
    "wandb.login(key='4734e60951ce310dbe17484eeeb5b3366b54850f')\n",
    "\n",
    "sweep_config = {\n",
    "    'method': 'bayes',\n",
    "    'name': 'sweep mse jupiter corrected lrs',\n",
    "    'metric': {\n",
    "      'name': 'val_accuracy',\n",
    "      'goal': 'maximize'\n",
    "    },\n",
    "    'parameters': {\n",
    "        'epochs': {\n",
    "            'values': [5,10]\n",
    "        },\n",
    "         'hidden_size':{\n",
    "            'values':[32,64,128]\n",
    "        },\n",
    "        'hidden_layers':{\n",
    "            'values':[3,4,5]\n",
    "        },\n",
    "        'activation': {\n",
    "            'values': ['sigmoid','relu','tanh']\n",
    "        },\n",
    "        'loss': {\n",
    "            'values': ['mse']\n",
    "        },\n",
    "        'weight_decay': {\n",
    "            'values': [0,0.0005,0.5]\n",
    "        },\n",
    "        'optimizer': {\n",
    "            'values': ['sgd','momentum','nesterov','rmsprop','adam','nadam']\n",
    "        },\n",
    "        'lr': {\n",
    "            'values': [1e-3,1e-4]\n",
    "        },\n",
    "        'batch_size': {\n",
    "            'values': [16,32,64] \n",
    "        },\n",
    "        'w_init': {\n",
    "            'values':['glorot','random'] \n",
    "        },\n",
    "    }\n",
    "}\n",
    "\n",
    "sweep_id = wandb.sweep(sweep=sweep_config, project='CS6910_assignment_1')\n",
    "wandb.init(project='CS6910_assignment_1', entity='sumanta_roy')\n",
    "\n",
    "def main():\n",
    "    '''\n",
    "    WandB calls main function each time with different combination.\n",
    "\n",
    "    We can retrive the same and use the same values for our hypermeters.\n",
    "\n",
    "    '''\n",
    "\n",
    "    with wandb.init() as run:\n",
    "\n",
    "        run_name=\"-ac_\"+wandb.config.activation+\" -hs_\"+str(wandb.config.hidden_size)+\" -hl_\"+str(wandb.config.hidden_layers)+\" -epch_\"+str(wandb.config.epochs)+\" -bs_\"+str(wandb.config.batch_size)+\" -init_\"+str(wandb.config.w_init)+\" -lr_\"+str(wandb.config.lr)+\" -l2d_\"+str(wandb.config.weight_decay)\n",
    "        wandb.run.name=run_name\n",
    "        #obj=NN(wandb.config['num_layers'],wandb.config['hidden_size'])\n",
    "\n",
    "        max_epochs=wandb.config.epochs\n",
    "        no_hidden_layers=wandb.config.hidden_layers\n",
    "        size_of_hidden_layer=wandb.config.hidden_size\n",
    "        weight_decay = wandb.config.weight_decay\n",
    "        alpha=wandb.config.lr\n",
    "        opt=wandb.config.optimizer #'sgd','momentum','nesterov','rmsprop','adam','nadam'\n",
    "        batch_size=wandb.config.batch_size\n",
    "        weight=wandb.config.w_init #glorot,random\n",
    "        activation=wandb.config.activation #sigmoid,tanh,relu\n",
    "\n",
    "        input_size,output_size = 784,10\n",
    "        layer_sizes = [input_size] + [size_of_hidden_layer] * no_hidden_layers + [output_size]\n",
    "        beta=0.9\n",
    "        epsilon=1e-4\n",
    "        beta1=0.9\n",
    "        beta2=0.999\n",
    "\n",
    "        w = 50\n",
    "        \n",
    "        if opt == 'sgd':\n",
    "          params = stochastic_gradient_descent(w,weight, activation, weight_decay, X_train, Y_train, X_val, Y_val, max_epochs, alpha, layer_sizes, batch_size)\n",
    "        elif opt == 'momentum':\n",
    "          params = momentum_gradient_descent(w,weight, activation, weight_decay, X_train, Y_train, X_val, Y_val, max_epochs, alpha, beta, layer_sizes, batch_size)\n",
    "        elif opt == 'nesterov':\n",
    "          params = nesterov_gradient_descent(w,weight, activation, weight_decay, X_train, Y_train, X_val, Y_val, max_epochs, alpha, beta, layer_sizes, batch_size)\n",
    "        elif opt == 'rmsprop':\n",
    "          params = stochastic_gradient_descent_with_RMSProp(w,weight, activation, weight_decay, X_train, Y_train, X_val, Y_val,max_epochs, alpha, layer_sizes, batch_size, epsilon, beta)\n",
    "        elif opt == 'adam':\n",
    "          params = stochastic_gradient_descent_with_adam(w,weight, activation, weight_decay, X_train, Y_train, X_val, Y_val, max_epochs, alpha, layer_sizes, batch_size, epsilon, beta1, beta2)\n",
    "        elif opt == 'nadam':\n",
    "          params = stochastic_gradient_descent_with_nadam(w,weight, activation, weight_decay, X_train, Y_train, X_val, Y_val, max_epochs, alpha, layer_sizes, batch_size, epsilon, beta1, beta2)\n",
    "        else:\n",
    "          raise ValueError(f\"Invalid optimizer option: {opt}\")\n",
    "\n",
    "wandb.agent(sweep_id, function=main,count=100) # calls main function for count number of times.\n",
    "wandb.finish()\n"
   ]
  },
  {
   "cell_type": "code",
   "execution_count": null,
   "id": "5338be97-c440-4178-96df-66f9637b892f",
   "metadata": {},
   "outputs": [],
   "source": []
  }
 ],
 "metadata": {
  "kernelspec": {
   "display_name": "Python 3 (ipykernel)",
   "language": "python",
   "name": "python3"
  },
  "language_info": {
   "codemirror_mode": {
    "name": "ipython",
    "version": 3
   },
   "file_extension": ".py",
   "mimetype": "text/x-python",
   "name": "python",
   "nbconvert_exporter": "python",
   "pygments_lexer": "ipython3",
   "version": "3.11.7"
  }
 },
 "nbformat": 4,
 "nbformat_minor": 5
}
