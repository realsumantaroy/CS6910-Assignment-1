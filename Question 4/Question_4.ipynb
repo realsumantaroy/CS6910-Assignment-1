{
 "cells": [
  {
   "cell_type": "code",
   "execution_count": 2,
   "id": "2a75aff0-b0d8-4e6d-92cb-b08663fe3561",
   "metadata": {},
   "outputs": [
    {
     "name": "stdout",
     "output_type": "stream",
     "text": [
      "Requirement already satisfied: wandb in /opt/anaconda3/lib/python3.11/site-packages (0.16.4)\n",
      "Requirement already satisfied: Click!=8.0.0,>=7.1 in /opt/anaconda3/lib/python3.11/site-packages (from wandb) (8.1.7)\n",
      "Requirement already satisfied: GitPython!=3.1.29,>=1.0.0 in /opt/anaconda3/lib/python3.11/site-packages (from wandb) (3.1.37)\n",
      "Requirement already satisfied: requests<3,>=2.0.0 in /opt/anaconda3/lib/python3.11/site-packages (from wandb) (2.31.0)\n",
      "Requirement already satisfied: psutil>=5.0.0 in /opt/anaconda3/lib/python3.11/site-packages (from wandb) (5.9.0)\n",
      "Requirement already satisfied: sentry-sdk>=1.0.0 in /opt/anaconda3/lib/python3.11/site-packages (from wandb) (1.42.0)\n",
      "Requirement already satisfied: docker-pycreds>=0.4.0 in /opt/anaconda3/lib/python3.11/site-packages (from wandb) (0.4.0)\n",
      "Requirement already satisfied: PyYAML in /opt/anaconda3/lib/python3.11/site-packages (from wandb) (6.0.1)\n",
      "Requirement already satisfied: setproctitle in /opt/anaconda3/lib/python3.11/site-packages (from wandb) (1.3.3)\n",
      "Requirement already satisfied: setuptools in /opt/anaconda3/lib/python3.11/site-packages (from wandb) (68.2.2)\n",
      "Requirement already satisfied: appdirs>=1.4.3 in /opt/anaconda3/lib/python3.11/site-packages (from wandb) (1.4.4)\n",
      "Requirement already satisfied: protobuf!=4.21.0,<5,>=3.19.0 in /opt/anaconda3/lib/python3.11/site-packages (from wandb) (3.20.3)\n",
      "Requirement already satisfied: six>=1.4.0 in /opt/anaconda3/lib/python3.11/site-packages (from docker-pycreds>=0.4.0->wandb) (1.16.0)\n",
      "Requirement already satisfied: gitdb<5,>=4.0.1 in /opt/anaconda3/lib/python3.11/site-packages (from GitPython!=3.1.29,>=1.0.0->wandb) (4.0.7)\n",
      "Requirement already satisfied: charset-normalizer<4,>=2 in /opt/anaconda3/lib/python3.11/site-packages (from requests<3,>=2.0.0->wandb) (2.0.4)\n",
      "Requirement already satisfied: idna<4,>=2.5 in /opt/anaconda3/lib/python3.11/site-packages (from requests<3,>=2.0.0->wandb) (3.4)\n",
      "Requirement already satisfied: urllib3<3,>=1.21.1 in /opt/anaconda3/lib/python3.11/site-packages (from requests<3,>=2.0.0->wandb) (2.0.7)\n",
      "Requirement already satisfied: certifi>=2017.4.17 in /opt/anaconda3/lib/python3.11/site-packages (from requests<3,>=2.0.0->wandb) (2024.2.2)\n",
      "Requirement already satisfied: smmap<5,>=3.0.1 in /opt/anaconda3/lib/python3.11/site-packages (from gitdb<5,>=4.0.1->GitPython!=3.1.29,>=1.0.0->wandb) (4.0.0)\n",
      "Note: you may need to restart the kernel to use updated packages.\n"
     ]
    }
   ],
   "source": [
    "pip install wandb"
   ]
  },
  {
   "cell_type": "code",
   "execution_count": 1,
   "id": "6b7f7570-b5de-4b6f-b832-bcd72d87c5d4",
   "metadata": {},
   "outputs": [
    {
     "name": "stdout",
     "output_type": "stream",
     "text": [
      "Number of training samples: 54000\n",
      "Number of validation samples: 6000\n",
      "Number of testing samples: 10000\n"
     ]
    },
    {
     "name": "stderr",
     "output_type": "stream",
     "text": [
      "\u001b[34m\u001b[1mwandb\u001b[0m: Currently logged in as: \u001b[33msumanta_roy\u001b[0m. Use \u001b[1m`wandb login --relogin`\u001b[0m to force relogin\n",
      "\u001b[34m\u001b[1mwandb\u001b[0m: \u001b[33mWARNING\u001b[0m If you're specifying your api key in code, ensure this code is not shared publicly.\n",
      "\u001b[34m\u001b[1mwandb\u001b[0m: \u001b[33mWARNING\u001b[0m Consider setting the WANDB_API_KEY environment variable, or running `wandb login` from the command line.\n",
      "\u001b[34m\u001b[1mwandb\u001b[0m: Appending key for api.wandb.ai to your netrc file: /Users/sumanta/.netrc\n"
     ]
    },
    {
     "name": "stdout",
     "output_type": "stream",
     "text": [
      "Create sweep with ID: ff8houdp\n",
      "Sweep URL: https://wandb.ai/sumanta_roy/CS6910_assignment_1/sweeps/ff8houdp\n"
     ]
    },
    {
     "data": {
      "text/html": [
       "Changes to your `wandb` environment variables will be ignored because your `wandb` session has already started. For more information on how to modify your settings with `wandb.init()` arguments, please refer to <a href='https://wandb.me/wandb-init' target=\"_blank\">the W&B docs</a>."
      ],
      "text/plain": [
       "<IPython.core.display.HTML object>"
      ]
     },
     "metadata": {},
     "output_type": "display_data"
    },
    {
     "data": {
      "text/html": [
       "Tracking run with wandb version 0.16.4"
      ],
      "text/plain": [
       "<IPython.core.display.HTML object>"
      ]
     },
     "metadata": {},
     "output_type": "display_data"
    },
    {
     "data": {
      "text/html": [
       "Run data is saved locally in <code>/Users/sumanta/Desktop/Numpy project/cross_entropy_lesspasses/wandb/run-20240317_044812-fy1h5zhq</code>"
      ],
      "text/plain": [
       "<IPython.core.display.HTML object>"
      ]
     },
     "metadata": {},
     "output_type": "display_data"
    },
    {
     "data": {
      "text/html": [
       "Syncing run <strong><a href='https://wandb.ai/sumanta_roy/CS6910_assignment_1/runs/fy1h5zhq' target=\"_blank\">charmed-violet-126</a></strong> to <a href='https://wandb.ai/sumanta_roy/CS6910_assignment_1' target=\"_blank\">Weights & Biases</a> (<a href='https://wandb.me/run' target=\"_blank\">docs</a>)<br/>"
      ],
      "text/plain": [
       "<IPython.core.display.HTML object>"
      ]
     },
     "metadata": {},
     "output_type": "display_data"
    },
    {
     "data": {
      "text/html": [
       " View project at <a href='https://wandb.ai/sumanta_roy/CS6910_assignment_1' target=\"_blank\">https://wandb.ai/sumanta_roy/CS6910_assignment_1</a>"
      ],
      "text/plain": [
       "<IPython.core.display.HTML object>"
      ]
     },
     "metadata": {},
     "output_type": "display_data"
    },
    {
     "data": {
      "text/html": [
       " View run at <a href='https://wandb.ai/sumanta_roy/CS6910_assignment_1/runs/fy1h5zhq' target=\"_blank\">https://wandb.ai/sumanta_roy/CS6910_assignment_1/runs/fy1h5zhq</a>"
      ],
      "text/plain": [
       "<IPython.core.display.HTML object>"
      ]
     },
     "metadata": {},
     "output_type": "display_data"
    },
    {
     "name": "stderr",
     "output_type": "stream",
     "text": [
      "\u001b[34m\u001b[1mwandb\u001b[0m: \u001b[33mWARNING\u001b[0m Calling wandb.login() after wandb.init() has no effect.\n"
     ]
    },
    {
     "name": "stdout",
     "output_type": "stream",
     "text": [
      "VBox(children=(Label(value='0.001 MB of 0.001 MB uploaded\\r'), FloatProgress(value=1.0, max=1.0)))\n",
      "<IPython.core.display.HTML object>\n",
      "<IPython.core.display.HTML object>\n"
     ]
    },
    {
     "name": "stderr",
     "output_type": "stream",
     "text": [
      "\u001b[34m\u001b[1mwandb\u001b[0m: Agent Starting Run: mshueujt with config:\n",
      "\u001b[34m\u001b[1mwandb\u001b[0m: \tactivation: tanh\n",
      "\u001b[34m\u001b[1mwandb\u001b[0m: \tbatch_size: 64\n",
      "\u001b[34m\u001b[1mwandb\u001b[0m: \tepochs: 10\n",
      "\u001b[34m\u001b[1mwandb\u001b[0m: \thidden_layers: 4\n",
      "\u001b[34m\u001b[1mwandb\u001b[0m: \thidden_size: 128\n",
      "\u001b[34m\u001b[1mwandb\u001b[0m: \tloss: cross_entropy\n",
      "\u001b[34m\u001b[1mwandb\u001b[0m: \tlr: 0.0001\n",
      "\u001b[34m\u001b[1mwandb\u001b[0m: \toptimizer: sgd\n",
      "\u001b[34m\u001b[1mwandb\u001b[0m: \tw_init: random\n",
      "\u001b[34m\u001b[1mwandb\u001b[0m: \tweight_decay: 0.0005\n"
     ]
    },
    {
     "data": {
      "text/html": [
       "Tracking run with wandb version 0.16.4"
      ],
      "text/plain": [
       "<IPython.core.display.HTML object>"
      ]
     },
     "metadata": {},
     "output_type": "display_data"
    },
    {
     "data": {
      "text/html": [
       "Run data is saved locally in <code>/Users/sumanta/Desktop/Numpy project/cross_entropy_lesspasses/wandb/run-20240317_044823-mshueujt</code>"
      ],
      "text/plain": [
       "<IPython.core.display.HTML object>"
      ]
     },
     "metadata": {},
     "output_type": "display_data"
    },
    {
     "data": {
      "text/html": [
       "Syncing run <strong><a href='https://wandb.ai/sumanta_roy/CS6910_assignment_1/runs/mshueujt' target=\"_blank\">feasible-sweep-1</a></strong> to <a href='https://wandb.ai/sumanta_roy/CS6910_assignment_1' target=\"_blank\">Weights & Biases</a> (<a href='https://wandb.me/run' target=\"_blank\">docs</a>)<br/>Sweep page: <a href='https://wandb.ai/sumanta_roy/CS6910_assignment_1/sweeps/ff8houdp' target=\"_blank\">https://wandb.ai/sumanta_roy/CS6910_assignment_1/sweeps/ff8houdp</a>"
      ],
      "text/plain": [
       "<IPython.core.display.HTML object>"
      ]
     },
     "metadata": {},
     "output_type": "display_data"
    },
    {
     "data": {
      "text/html": [
       " View project at <a href='https://wandb.ai/sumanta_roy/CS6910_assignment_1' target=\"_blank\">https://wandb.ai/sumanta_roy/CS6910_assignment_1</a>"
      ],
      "text/plain": [
       "<IPython.core.display.HTML object>"
      ]
     },
     "metadata": {},
     "output_type": "display_data"
    },
    {
     "data": {
      "text/html": [
       " View sweep at <a href='https://wandb.ai/sumanta_roy/CS6910_assignment_1/sweeps/ff8houdp' target=\"_blank\">https://wandb.ai/sumanta_roy/CS6910_assignment_1/sweeps/ff8houdp</a>"
      ],
      "text/plain": [
       "<IPython.core.display.HTML object>"
      ]
     },
     "metadata": {},
     "output_type": "display_data"
    },
    {
     "data": {
      "text/html": [
       " View run at <a href='https://wandb.ai/sumanta_roy/CS6910_assignment_1/runs/mshueujt' target=\"_blank\">https://wandb.ai/sumanta_roy/CS6910_assignment_1/runs/mshueujt</a>"
      ],
      "text/plain": [
       "<IPython.core.display.HTML object>"
      ]
     },
     "metadata": {},
     "output_type": "display_data"
    },
    {
     "name": "stderr",
     "output_type": "stream",
     "text": [
      "Exception in thread Exception in thread NetStatThr:\n",
      "Traceback (most recent call last):\n",
      "  File \"/opt/anaconda3/lib/python3.11/threading.py\", line 1045, in _bootstrap_inner\n",
      "    self.run()\n",
      "  File \"/opt/anaconda3/lib/python3.11/threading.py\", line 982, in run\n",
      "    self._target(*self._args, **self._kwargs)\n",
      "  File \"/opt/anaconda3/lib/python3.11/site-packages/wandb/sdk/wandb_run.py\", line 268, in check_network_status\n",
      "Exception in thread IntMsgThr:\n",
      "Traceback (most recent call last):\n",
      "  File \"/opt/anaconda3/lib/python3.11/threading.py\", line 1045, in _bootstrap_inner\n",
      "    self._loop_check_status(\n",
      "  File \"/opt/anaconda3/lib/python3.11/site-packages/wandb/sdk/wandb_run.py\", line 224, in _loop_check_status\n",
      "    local_handle = request()\n",
      "                   ^^^^^^^^^\n",
      "  File \"/opt/anaconda3/lib/python3.11/site-packages/wandb/sdk/interface/interface.py\", line 795, in deliver_network_status\n",
      "ChkStopThr:\n",
      "Traceback (most recent call last):\n",
      "  File \"/opt/anaconda3/lib/python3.11/threading.py\", line 1045, in _bootstrap_inner\n",
      "    self.run()\n",
      "  File \"/opt/anaconda3/lib/python3.11/threading.py\", line 982, in run\n",
      "    self._target(*self._args, **self._kwargs)\n",
      "  File \"/opt/anaconda3/lib/python3.11/site-packages/wandb/sdk/wandb_run.py\", line 286, in check_stop_status\n",
      "    self._loop_check_status(\n",
      "  File \"/opt/anaconda3/lib/python3.11/site-packages/wandb/sdk/wandb_run.py\", line 224, in _loop_check_status\n",
      "    local_handle = request()\n",
      "                   ^^^^^^^^^\n",
      "  File \"/opt/anaconda3/lib/python3.11/site-packages/wandb/sdk/interface/interface.py\", line 787, in deliver_stop_status\n",
      "    return self._deliver_stop_status(status)\n",
      "           ^^^^^^^^^^^^^^^^^^^^^^^^^^^^^^^^^\n",
      "  File \"/opt/anaconda3/lib/python3.11/site-packages/wandb/sdk/interface/interface_shared.py\", line 484, in _deliver_stop_status\n",
      "    return self._deliver_record(record)\n",
      "           ^^^^^^^^^^^^^^^^^^^^^^^^^^^^\n",
      "  File \"/opt/anaconda3/lib/python3.11/site-packages/wandb/sdk/interface/interface_shared.py\", line 449, in _deliver_record\n",
      "    handle = mailbox._deliver_record(record, interface=self)\n",
      "             ^^^^^^^^^^^^^^^^^^^^^^^^^^^^^^^^^^^^^^^^^^^^^^^\n",
      "  File \"/opt/anaconda3/lib/python3.11/site-packages/wandb/sdk/lib/mailbox.py\", line 455, in _deliver_record\n",
      "    self.run()\n",
      "  File \"/opt/anaconda3/lib/python3.11/threading.py\", line 982, in run\n",
      "    self._target(*self._args, **self._kwargs)\n",
      "  File \"/opt/anaconda3/lib/python3.11/site-packages/wandb/sdk/wandb_run.py\", line 300, in check_internal_messages\n",
      "    self._loop_check_status(\n",
      "  File \"/opt/anaconda3/lib/python3.11/site-packages/wandb/sdk/wandb_run.py\", line 224, in _loop_check_status\n",
      "    local_handle = request()\n",
      "    interface._publish(record)                   ^^^^^^^^^\n",
      "  File \"/opt/anaconda3/lib/python3.11/site-packages/wandb/sdk/interface/interface.py\", line 803, in deliver_internal_messages\n",
      "    return self._deliver_internal_messages(internal_message)\n",
      "           ^^^^^^^^^^^^^^^^^^^^^^^^^^^^^^^^^^^^^^^^^^^^^^^^^\n",
      "  File \"/opt/anaconda3/lib/python3.11/site-packages/wandb/sdk/interface/interface_shared.py\", line 506, in _deliver_internal_messages\n",
      "    return self._deliver_record(record)\n",
      "           ^^^^\n",
      "  File \"/opt/anaconda3/lib/python3.11/site-packages/wandb/sdk/interface/interface_sock.py\", line 51, in _publish\n",
      "    self._sock_client.send_record_publish(record)\n",
      "  File \"/opt/anaconda3/lib/python3.11/site-packages/wandb/sdk/lib/sock_client.py\", line 221, in send_record_publish\n",
      "    self.send_server_request(server_req)\n",
      "  File \"/opt/anaconda3/lib/python3.11/site-packages/wandb/sdk/lib/sock_client.py\", line 155, in send_server_request\n",
      "    self._send_message(msg)\n",
      "  File \"/opt/anaconda3/lib/python3.11/site-packages/wandb/sdk/lib/sock_client.py\", line 152, in _send_message\n",
      "    self._sendall_with_error_handle(header + data)\n",
      "  File \"/opt/anaconda3/lib/python3.11/site-packages/wandb/sdk/lib/sock_client.py\", line 130, in _sendall_with_error_handle\n",
      "    sent = self._sock.send(data)\n",
      "           ^^^^^^^^^^^^^^^^^^^^^\n",
      "BrokenPipeError: [Errno 32] Broken pipe\n",
      "    return self._deliver_network_status(status)\n",
      "           ^^^^^^^^^^^^^^^^^^^^^^^^^^^^^^^^^^^^^\n",
      "  File \"/opt/anaconda3/lib/python3.11/site-packages/wandb/sdk/interface/interface_shared.py\", line 500, in _deliver_network_status\n",
      "    return self._deliver_record(record)\n",
      "   ^        ^^^^^^^^^^^^^^^^^^^^^^^^^^^^\n",
      "  File \"/opt/anaconda3/lib/python3.11/site-packages/wandb/sdk/interface/interface_shared.py\", line 449, in _deliver_record\n",
      "    handle = mailbox._deliver_record(record, interface=self)\n",
      "             ^^^^^^^^^^^^^^^^^^^^^^^^^^^^^^^^^^^^^^^^^^^^^^^^^^^^^^^^^^^\n",
      "^^  File \"/opt/anaconda3/lib/python3.11/site-packages/wandb/sdk/interface/interface_shared.py\", line 449, in _deliver_record\n",
      "^^    ^handle = mailbox._deliver_record(record, interface=self)^\n",
      " ^ ^ ^ ^ \n",
      "    File \"/opt/anaconda3/lib/python3.11/site-packages/wandb/sdk/lib/mailbox.py\", line 455, in _deliver_record\n",
      "        interface._publish(record) \n",
      " ^  File \"/opt/anaconda3/lib/python3.11/site-packages/wandb/sdk/interface/interface_sock.py\", line 51, in _publish\n",
      "^^^    ^self._sock_client.send_record_publish(record)^\n",
      "^^  File \"/opt/anaconda3/lib/python3.11/site-packages/wandb/sdk/lib/sock_client.py\", line 221, in send_record_publish\n",
      "^^^^^^    ^self.send_server_request(server_req)^\n",
      "^^  File \"/opt/anaconda3/lib/python3.11/site-packages/wandb/sdk/lib/sock_client.py\", line 155, in send_server_request\n",
      "^^^^    ^self._send_message(msg)^\n",
      "^^  File \"/opt/anaconda3/lib/python3.11/site-packages/wandb/sdk/lib/sock_client.py\", line 152, in _send_message\n",
      "^^^^    ^self._sendall_with_error_handle(header + data)^\n",
      "^^  File \"/opt/anaconda3/lib/python3.11/site-packages/wandb/sdk/lib/sock_client.py\", line 130, in _sendall_with_error_handle\n",
      "^^^^    ^sent = self._sock.send(data)^\n",
      "^^ ^ ^ ^ ^ ^ \n",
      "    File \"/opt/anaconda3/lib/python3.11/site-packages/wandb/sdk/lib/mailbox.py\", line 455, in _deliver_record\n",
      "   ^^    ^interface._publish(record)^\n",
      "^^  File \"/opt/anaconda3/lib/python3.11/site-packages/wandb/sdk/interface/interface_sock.py\", line 51, in _publish\n",
      "^^^^^    ^self._sock_client.send_record_publish(record)^\n",
      "^^  File \"/opt/anaconda3/lib/python3.11/site-packages/wandb/sdk/lib/sock_client.py\", line 221, in send_record_publish\n",
      "^^^    ^self.send_server_request(server_req)^\n",
      "^\n",
      "  File \"/opt/anaconda3/lib/python3.11/site-packages/wandb/sdk/lib/sock_client.py\", line 155, in send_server_request\n",
      "BrokenPipeError:     [Errno 32] Broken pipeself._send_message(msg)\n",
      "\n",
      "  File \"/opt/anaconda3/lib/python3.11/site-packages/wandb/sdk/lib/sock_client.py\", line 152, in _send_message\n",
      "    self._sendall_with_error_handle(header + data)\n",
      "  File \"/opt/anaconda3/lib/python3.11/site-packages/wandb/sdk/lib/sock_client.py\", line 130, in _sendall_with_error_handle\n",
      "    sent = self._sock.send(data)\n",
      "           ^^^^^^^^^^^^^^^^^^^^^\n",
      "BrokenPipeError: [Errno 32] Broken pipe\n"
     ]
    },
    {
     "name": "stdout",
     "output_type": "stream",
     "text": [
      "Epoch: 1/10; Train Loss: 0.32686133642749116; Val Loss: 0.30977427647752764\n",
      "Epoch: 2/10; Train Loss: 0.2854988434578941; Val Loss: 0.2580768005529424\n",
      "Epoch: 3/10; Train Loss: 0.2615089908934681; Val Loss: 0.22769507694445665\n",
      "Epoch: 4/10; Train Loss: 0.24440093519000755; Val Loss: 0.2077482745903613\n",
      "Epoch: 5/10; Train Loss: 0.23240077606136783; Val Loss: 0.19340777584780508\n",
      "Epoch: 6/10; Train Loss: 0.22366951345052072; Val Loss: 0.1823470764032924\n",
      "Epoch: 7/10; Train Loss: 0.21687300198020953; Val Loss: 0.17339473207649975\n",
      "Epoch: 8/10; Train Loss: 0.21115554502694603; Val Loss: 0.16593531750885893\n",
      "Epoch: 9/10; Train Loss: 0.20610521001648294; Val Loss: 0.159594385581894\n",
      "Epoch: 10/10; Train Loss: 0.20173229769397744; Val Loss: 0.15411484023387995\n"
     ]
    },
    {
     "data": {
      "application/vnd.jupyter.widget-view+json": {
       "model_id": "",
       "version_major": 2,
       "version_minor": 0
      },
      "text/plain": [
       "VBox(children=(Label(value='0.001 MB of 0.001 MB uploaded\\r'), FloatProgress(value=1.0, max=1.0)))"
      ]
     },
     "metadata": {},
     "output_type": "display_data"
    },
    {
     "data": {
      "text/html": [
       "<style>\n",
       "    table.wandb td:nth-child(1) { padding: 0 10px; text-align: left ; width: auto;} td:nth-child(2) {text-align: left ; width: 100%}\n",
       "    .wandb-row { display: flex; flex-direction: row; flex-wrap: wrap; justify-content: flex-start; width: 100% }\n",
       "    .wandb-col { display: flex; flex-direction: column; flex-basis: 100%; flex: 1; padding: 10px; }\n",
       "    </style>\n",
       "<div class=\"wandb-row\"><div class=\"wandb-col\"><h3>Run history:</h3><br/><table class=\"wandb\"><tr><td>epoch</td><td>▁▁▁▁▂▂▂▂▃▃▃▃▃▃▃▃▄▄▄▄▅▅▅▅▆▆▆▆▆▆▆▆▇▇▇▇████</td></tr><tr><td>train_accuracy</td><td>▂▁▃▃▃▄▃▃▃▂▃▄▆▆▄▆█▄▅▆█▆▆▆▆▅▅▇▆▇▅▇▇▇▇▇▇█▆█</td></tr><tr><td>train_loss</td><td>█▇▆▅▅▄▄▅▄▄▄▄▃▃▄▃▂▃▃▂▂▂▂▂▁▃▃▂▂▁▂▁▂▁▂▂▂▁▂▁</td></tr><tr><td>val_accuracy</td><td>▁▁▂▂▃▃▃▄▄▄▅▅▅▅▆▆▆▆▆▆▆▇▇▇▇▇▇▇▇▇▇█████████</td></tr><tr><td>validation_loss</td><td>█▇▆▅▅▅▄▄▄▃▃▃▃▃▃▂▂▂▂▂▂▂▂▂▂▂▂▂▁▁▁▁▁▁▁▁▁▁▁▁</td></tr></table><br/></div><div class=\"wandb-col\"><h3>Run summary:</h3><br/><table class=\"wandb\"><tr><td>epoch</td><td>10</td></tr><tr><td>train_accuracy</td><td>53.125</td></tr><tr><td>train_loss</td><td>0.20173</td></tr><tr><td>val_accuracy</td><td>53.0</td></tr><tr><td>validation_loss</td><td>0.15411</td></tr></table><br/></div></div>"
      ],
      "text/plain": [
       "<IPython.core.display.HTML object>"
      ]
     },
     "metadata": {},
     "output_type": "display_data"
    },
    {
     "data": {
      "text/html": [
       " View run <strong style=\"color:#cdcd00\">feasible-sweep-1</strong> at: <a href='https://wandb.ai/sumanta_roy/CS6910_assignment_1/runs/mshueujt' target=\"_blank\">https://wandb.ai/sumanta_roy/CS6910_assignment_1/runs/mshueujt</a><br/>Synced 6 W&B file(s), 0 media file(s), 0 artifact file(s) and 0 other file(s)"
      ],
      "text/plain": [
       "<IPython.core.display.HTML object>"
      ]
     },
     "metadata": {},
     "output_type": "display_data"
    },
    {
     "data": {
      "text/html": [
       "Find logs at: <code>./wandb/run-20240317_044823-mshueujt/logs</code>"
      ],
      "text/plain": [
       "<IPython.core.display.HTML object>"
      ]
     },
     "metadata": {},
     "output_type": "display_data"
    },
    {
     "name": "stderr",
     "output_type": "stream",
     "text": [
      "\u001b[34m\u001b[1mwandb\u001b[0m: Sweep Agent: Waiting for job.\n",
      "\u001b[34m\u001b[1mwandb\u001b[0m: Job received.\n",
      "\u001b[34m\u001b[1mwandb\u001b[0m: Agent Starting Run: vg5ut719 with config:\n",
      "\u001b[34m\u001b[1mwandb\u001b[0m: \tactivation: relu\n",
      "\u001b[34m\u001b[1mwandb\u001b[0m: \tbatch_size: 16\n",
      "\u001b[34m\u001b[1mwandb\u001b[0m: \tepochs: 5\n",
      "\u001b[34m\u001b[1mwandb\u001b[0m: \thidden_layers: 4\n",
      "\u001b[34m\u001b[1mwandb\u001b[0m: \thidden_size: 64\n",
      "\u001b[34m\u001b[1mwandb\u001b[0m: \tloss: cross_entropy\n",
      "\u001b[34m\u001b[1mwandb\u001b[0m: \tlr: 0.001\n",
      "\u001b[34m\u001b[1mwandb\u001b[0m: \toptimizer: rmsprop\n",
      "\u001b[34m\u001b[1mwandb\u001b[0m: \tw_init: random\n",
      "\u001b[34m\u001b[1mwandb\u001b[0m: \tweight_decay: 0\n"
     ]
    },
    {
     "data": {
      "text/html": [
       "Tracking run with wandb version 0.16.4"
      ],
      "text/plain": [
       "<IPython.core.display.HTML object>"
      ]
     },
     "metadata": {},
     "output_type": "display_data"
    },
    {
     "data": {
      "text/html": [
       "Run data is saved locally in <code>/Users/sumanta/Desktop/Numpy project/cross_entropy_lesspasses/wandb/run-20240317_045035-vg5ut719</code>"
      ],
      "text/plain": [
       "<IPython.core.display.HTML object>"
      ]
     },
     "metadata": {},
     "output_type": "display_data"
    },
    {
     "data": {
      "text/html": [
       "Syncing run <strong><a href='https://wandb.ai/sumanta_roy/CS6910_assignment_1/runs/vg5ut719' target=\"_blank\">feasible-sweep-2</a></strong> to <a href='https://wandb.ai/sumanta_roy/CS6910_assignment_1' target=\"_blank\">Weights & Biases</a> (<a href='https://wandb.me/run' target=\"_blank\">docs</a>)<br/>Sweep page: <a href='https://wandb.ai/sumanta_roy/CS6910_assignment_1/sweeps/ff8houdp' target=\"_blank\">https://wandb.ai/sumanta_roy/CS6910_assignment_1/sweeps/ff8houdp</a>"
      ],
      "text/plain": [
       "<IPython.core.display.HTML object>"
      ]
     },
     "metadata": {},
     "output_type": "display_data"
    },
    {
     "data": {
      "text/html": [
       " View project at <a href='https://wandb.ai/sumanta_roy/CS6910_assignment_1' target=\"_blank\">https://wandb.ai/sumanta_roy/CS6910_assignment_1</a>"
      ],
      "text/plain": [
       "<IPython.core.display.HTML object>"
      ]
     },
     "metadata": {},
     "output_type": "display_data"
    },
    {
     "data": {
      "text/html": [
       " View sweep at <a href='https://wandb.ai/sumanta_roy/CS6910_assignment_1/sweeps/ff8houdp' target=\"_blank\">https://wandb.ai/sumanta_roy/CS6910_assignment_1/sweeps/ff8houdp</a>"
      ],
      "text/plain": [
       "<IPython.core.display.HTML object>"
      ]
     },
     "metadata": {},
     "output_type": "display_data"
    },
    {
     "data": {
      "text/html": [
       " View run at <a href='https://wandb.ai/sumanta_roy/CS6910_assignment_1/runs/vg5ut719' target=\"_blank\">https://wandb.ai/sumanta_roy/CS6910_assignment_1/runs/vg5ut719</a>"
      ],
      "text/plain": [
       "<IPython.core.display.HTML object>"
      ]
     },
     "metadata": {},
     "output_type": "display_data"
    },
    {
     "name": "stdout",
     "output_type": "stream",
     "text": [
      "Epoch: 1/5; Train Loss: 0.02550699007245668; Val Loss: 0.05268840548482483\n",
      "Epoch: 2/5; Train Loss: 0.024641460372388103; Val Loss: 0.049255207799099525\n",
      "Epoch: 3/5; Train Loss: 0.025690035933907607; Val Loss: 0.04627426434543907\n",
      "Epoch: 4/5; Train Loss: 0.030987474092718792; Val Loss: 0.0441560405880064\n",
      "Epoch: 5/5; Train Loss: 0.029573942967998035; Val Loss: 0.043364131711770185\n"
     ]
    },
    {
     "data": {
      "application/vnd.jupyter.widget-view+json": {
       "model_id": "",
       "version_major": 2,
       "version_minor": 0
      },
      "text/plain": [
       "VBox(children=(Label(value='0.001 MB of 0.001 MB uploaded\\r'), FloatProgress(value=1.0, max=1.0)))"
      ]
     },
     "metadata": {},
     "output_type": "display_data"
    },
    {
     "data": {
      "text/html": [
       "<style>\n",
       "    table.wandb td:nth-child(1) { padding: 0 10px; text-align: left ; width: auto;} td:nth-child(2) {text-align: left ; width: 100%}\n",
       "    .wandb-row { display: flex; flex-direction: row; flex-wrap: wrap; justify-content: flex-start; width: 100% }\n",
       "    .wandb-col { display: flex; flex-direction: column; flex-basis: 100%; flex: 1; padding: 10px; }\n",
       "    </style>\n",
       "<div class=\"wandb-row\"><div class=\"wandb-col\"><h3>Run history:</h3><br/><table class=\"wandb\"><tr><td>epoch</td><td>▁▁▁▁▁▁▁▁▃▃▃▃▃▃▃▃▅▅▅▅▅▅▅▅▆▆▆▆▆▆▆▆████████</td></tr><tr><td>train_accuracy</td><td>▁▇▇▄▅▄▅▂▄▅▄▇▄▇▅█▂▄▅▇▄▄▅▅▇▂█▅█▇▅▇▇▇▄▂▇▄▄█</td></tr><tr><td>train_loss</td><td>█▄▄▃▅▄▂▅▄▂▄▂▃▂▂▁▄▅▃▁▃▃▂▄▂▅▂▃▂▂▂▃▂▂▂▃▂▇▄▁</td></tr><tr><td>val_accuracy</td><td>▁▄▄▅▆▆▆▇▇▇▇▇▇▇▇▇▇▇▇▇███████▇██▇█████████</td></tr><tr><td>validation_loss</td><td>█▄▄▂▂▂▂▂▂▁▁▁▂▁▁▁▁▁▁▁▁▁▁▁▁▁▁▁▁▁▁▁▁▁▁▁▁▁▁▁</td></tr></table><br/></div><div class=\"wandb-col\"><h3>Run summary:</h3><br/><table class=\"wandb\"><tr><td>epoch</td><td>5</td></tr><tr><td>train_accuracy</td><td>93.75</td></tr><tr><td>train_loss</td><td>0.02957</td></tr><tr><td>val_accuracy</td><td>85.33333</td></tr><tr><td>validation_loss</td><td>0.04336</td></tr></table><br/></div></div>"
      ],
      "text/plain": [
       "<IPython.core.display.HTML object>"
      ]
     },
     "metadata": {},
     "output_type": "display_data"
    },
    {
     "data": {
      "text/html": [
       " View run <strong style=\"color:#cdcd00\">feasible-sweep-2</strong> at: <a href='https://wandb.ai/sumanta_roy/CS6910_assignment_1/runs/vg5ut719' target=\"_blank\">https://wandb.ai/sumanta_roy/CS6910_assignment_1/runs/vg5ut719</a><br/>Synced 6 W&B file(s), 0 media file(s), 0 artifact file(s) and 0 other file(s)"
      ],
      "text/plain": [
       "<IPython.core.display.HTML object>"
      ]
     },
     "metadata": {},
     "output_type": "display_data"
    },
    {
     "data": {
      "text/html": [
       "Find logs at: <code>./wandb/run-20240317_045035-vg5ut719/logs</code>"
      ],
      "text/plain": [
       "<IPython.core.display.HTML object>"
      ]
     },
     "metadata": {},
     "output_type": "display_data"
    },
    {
     "name": "stderr",
     "output_type": "stream",
     "text": [
      "\u001b[34m\u001b[1mwandb\u001b[0m: Agent Starting Run: vh00cf6o with config:\n",
      "\u001b[34m\u001b[1mwandb\u001b[0m: \tactivation: sigmoid\n",
      "\u001b[34m\u001b[1mwandb\u001b[0m: \tbatch_size: 64\n",
      "\u001b[34m\u001b[1mwandb\u001b[0m: \tepochs: 5\n",
      "\u001b[34m\u001b[1mwandb\u001b[0m: \thidden_layers: 5\n",
      "\u001b[34m\u001b[1mwandb\u001b[0m: \thidden_size: 32\n",
      "\u001b[34m\u001b[1mwandb\u001b[0m: \tloss: cross_entropy\n",
      "\u001b[34m\u001b[1mwandb\u001b[0m: \tlr: 0.001\n",
      "\u001b[34m\u001b[1mwandb\u001b[0m: \toptimizer: adam\n",
      "\u001b[34m\u001b[1mwandb\u001b[0m: \tw_init: glorot\n",
      "\u001b[34m\u001b[1mwandb\u001b[0m: \tweight_decay: 0.0005\n"
     ]
    },
    {
     "data": {
      "text/html": [
       "Tracking run with wandb version 0.16.4"
      ],
      "text/plain": [
       "<IPython.core.display.HTML object>"
      ]
     },
     "metadata": {},
     "output_type": "display_data"
    },
    {
     "data": {
      "text/html": [
       "Run data is saved locally in <code>/Users/sumanta/Desktop/Numpy project/cross_entropy_lesspasses/wandb/run-20240317_045123-vh00cf6o</code>"
      ],
      "text/plain": [
       "<IPython.core.display.HTML object>"
      ]
     },
     "metadata": {},
     "output_type": "display_data"
    },
    {
     "data": {
      "text/html": [
       "Syncing run <strong><a href='https://wandb.ai/sumanta_roy/CS6910_assignment_1/runs/vh00cf6o' target=\"_blank\">sandy-sweep-3</a></strong> to <a href='https://wandb.ai/sumanta_roy/CS6910_assignment_1' target=\"_blank\">Weights & Biases</a> (<a href='https://wandb.me/run' target=\"_blank\">docs</a>)<br/>Sweep page: <a href='https://wandb.ai/sumanta_roy/CS6910_assignment_1/sweeps/ff8houdp' target=\"_blank\">https://wandb.ai/sumanta_roy/CS6910_assignment_1/sweeps/ff8houdp</a>"
      ],
      "text/plain": [
       "<IPython.core.display.HTML object>"
      ]
     },
     "metadata": {},
     "output_type": "display_data"
    },
    {
     "data": {
      "text/html": [
       " View project at <a href='https://wandb.ai/sumanta_roy/CS6910_assignment_1' target=\"_blank\">https://wandb.ai/sumanta_roy/CS6910_assignment_1</a>"
      ],
      "text/plain": [
       "<IPython.core.display.HTML object>"
      ]
     },
     "metadata": {},
     "output_type": "display_data"
    },
    {
     "data": {
      "text/html": [
       " View sweep at <a href='https://wandb.ai/sumanta_roy/CS6910_assignment_1/sweeps/ff8houdp' target=\"_blank\">https://wandb.ai/sumanta_roy/CS6910_assignment_1/sweeps/ff8houdp</a>"
      ],
      "text/plain": [
       "<IPython.core.display.HTML object>"
      ]
     },
     "metadata": {},
     "output_type": "display_data"
    },
    {
     "data": {
      "text/html": [
       " View run at <a href='https://wandb.ai/sumanta_roy/CS6910_assignment_1/runs/vh00cf6o' target=\"_blank\">https://wandb.ai/sumanta_roy/CS6910_assignment_1/runs/vh00cf6o</a>"
      ],
      "text/plain": [
       "<IPython.core.display.HTML object>"
      ]
     },
     "metadata": {},
     "output_type": "display_data"
    },
    {
     "name": "stdout",
     "output_type": "stream",
     "text": [
      "Epoch: 1/5; Train Loss: 0.15412260099358777; Val Loss: 0.15009576050429535\n",
      "Epoch: 2/5; Train Loss: 0.14305743690486425; Val Loss: 0.14037352757906235\n",
      "Epoch: 3/5; Train Loss: 0.11657393562443617; Val Loss: 0.12002600273428667\n",
      "Epoch: 4/5; Train Loss: 0.1034658082014405; Val Loss: 0.10966295539612554\n",
      "Epoch: 5/5; Train Loss: 0.09557568392256083; Val Loss: 0.10220480983778601\n"
     ]
    },
    {
     "data": {
      "application/vnd.jupyter.widget-view+json": {
       "model_id": "",
       "version_major": 2,
       "version_minor": 0
      },
      "text/plain": [
       "VBox(children=(Label(value='0.001 MB of 0.001 MB uploaded\\r'), FloatProgress(value=1.0, max=1.0)))"
      ]
     },
     "metadata": {},
     "output_type": "display_data"
    },
    {
     "data": {
      "text/html": [
       "<style>\n",
       "    table.wandb td:nth-child(1) { padding: 0 10px; text-align: left ; width: auto;} td:nth-child(2) {text-align: left ; width: 100%}\n",
       "    .wandb-row { display: flex; flex-direction: row; flex-wrap: wrap; justify-content: flex-start; width: 100% }\n",
       "    .wandb-col { display: flex; flex-direction: column; flex-basis: 100%; flex: 1; padding: 10px; }\n",
       "    </style>\n",
       "<div class=\"wandb-row\"><div class=\"wandb-col\"><h3>Run history:</h3><br/><table class=\"wandb\"><tr><td>epoch</td><td>▁▁▁▁▁▁▁▁▃▃▃▃▃▃▃▃▅▅▅▅▅▅▅▅▆▆▆▆▆▆▆▆████████</td></tr><tr><td>train_accuracy</td><td>▁▃▂▃▂▄▃▃▂▂▃▄▄▄▃▅▆▄▄▇▆▅▅▅▅▅▆▆▅▅▆▅▅▅▆▆▇▇▇█</td></tr><tr><td>train_loss</td><td>██▆▅▅▄▄▄▄▄▃▃▃▃▄▃▂▃▃▂▂▃▂▂▃▃▂▂▂▂▂▂▂▁▁▂▂▁▂▁</td></tr><tr><td>val_accuracy</td><td>▁▂▂▄▄▄▄▄▄▄▄▄▄▄▄▅▅▅▆▆▆▆▆▆▆▆▆▆▇▇▇▇▇▇▇▇████</td></tr><tr><td>validation_loss</td><td>██▆▅▅▄▄▄▄▄▃▃▃▃▃▃▃▃▃▃▂▂▂▂▂▂▂▂▂▂▁▁▁▁▁▁▁▁▁▁</td></tr></table><br/></div><div class=\"wandb-col\"><h3>Run summary:</h3><br/><table class=\"wandb\"><tr><td>epoch</td><td>5</td></tr><tr><td>train_accuracy</td><td>60.9375</td></tr><tr><td>train_loss</td><td>0.09558</td></tr><tr><td>val_accuracy</td><td>64.63333</td></tr><tr><td>validation_loss</td><td>0.1022</td></tr></table><br/></div></div>"
      ],
      "text/plain": [
       "<IPython.core.display.HTML object>"
      ]
     },
     "metadata": {},
     "output_type": "display_data"
    },
    {
     "data": {
      "text/html": [
       " View run <strong style=\"color:#cdcd00\">sandy-sweep-3</strong> at: <a href='https://wandb.ai/sumanta_roy/CS6910_assignment_1/runs/vh00cf6o' target=\"_blank\">https://wandb.ai/sumanta_roy/CS6910_assignment_1/runs/vh00cf6o</a><br/>Synced 6 W&B file(s), 0 media file(s), 0 artifact file(s) and 0 other file(s)"
      ],
      "text/plain": [
       "<IPython.core.display.HTML object>"
      ]
     },
     "metadata": {},
     "output_type": "display_data"
    },
    {
     "data": {
      "text/html": [
       "Find logs at: <code>./wandb/run-20240317_045123-vh00cf6o/logs</code>"
      ],
      "text/plain": [
       "<IPython.core.display.HTML object>"
      ]
     },
     "metadata": {},
     "output_type": "display_data"
    },
    {
     "name": "stderr",
     "output_type": "stream",
     "text": [
      "\u001b[34m\u001b[1mwandb\u001b[0m: Agent Starting Run: zhvgjyg3 with config:\n",
      "\u001b[34m\u001b[1mwandb\u001b[0m: \tactivation: tanh\n",
      "\u001b[34m\u001b[1mwandb\u001b[0m: \tbatch_size: 16\n",
      "\u001b[34m\u001b[1mwandb\u001b[0m: \tepochs: 5\n",
      "\u001b[34m\u001b[1mwandb\u001b[0m: \thidden_layers: 3\n",
      "\u001b[34m\u001b[1mwandb\u001b[0m: \thidden_size: 64\n",
      "\u001b[34m\u001b[1mwandb\u001b[0m: \tloss: cross_entropy\n",
      "\u001b[34m\u001b[1mwandb\u001b[0m: \tlr: 0.0001\n",
      "\u001b[34m\u001b[1mwandb\u001b[0m: \toptimizer: nadam\n",
      "\u001b[34m\u001b[1mwandb\u001b[0m: \tw_init: glorot\n",
      "\u001b[34m\u001b[1mwandb\u001b[0m: \tweight_decay: 0.5\n"
     ]
    },
    {
     "data": {
      "text/html": [
       "Tracking run with wandb version 0.16.4"
      ],
      "text/plain": [
       "<IPython.core.display.HTML object>"
      ]
     },
     "metadata": {},
     "output_type": "display_data"
    },
    {
     "data": {
      "text/html": [
       "Run data is saved locally in <code>/Users/sumanta/Desktop/Numpy project/cross_entropy_lesspasses/wandb/run-20240317_045200-zhvgjyg3</code>"
      ],
      "text/plain": [
       "<IPython.core.display.HTML object>"
      ]
     },
     "metadata": {},
     "output_type": "display_data"
    },
    {
     "data": {
      "text/html": [
       "Syncing run <strong><a href='https://wandb.ai/sumanta_roy/CS6910_assignment_1/runs/zhvgjyg3' target=\"_blank\">unique-sweep-4</a></strong> to <a href='https://wandb.ai/sumanta_roy/CS6910_assignment_1' target=\"_blank\">Weights & Biases</a> (<a href='https://wandb.me/run' target=\"_blank\">docs</a>)<br/>Sweep page: <a href='https://wandb.ai/sumanta_roy/CS6910_assignment_1/sweeps/ff8houdp' target=\"_blank\">https://wandb.ai/sumanta_roy/CS6910_assignment_1/sweeps/ff8houdp</a>"
      ],
      "text/plain": [
       "<IPython.core.display.HTML object>"
      ]
     },
     "metadata": {},
     "output_type": "display_data"
    },
    {
     "data": {
      "text/html": [
       " View project at <a href='https://wandb.ai/sumanta_roy/CS6910_assignment_1' target=\"_blank\">https://wandb.ai/sumanta_roy/CS6910_assignment_1</a>"
      ],
      "text/plain": [
       "<IPython.core.display.HTML object>"
      ]
     },
     "metadata": {},
     "output_type": "display_data"
    },
    {
     "data": {
      "text/html": [
       " View sweep at <a href='https://wandb.ai/sumanta_roy/CS6910_assignment_1/sweeps/ff8houdp' target=\"_blank\">https://wandb.ai/sumanta_roy/CS6910_assignment_1/sweeps/ff8houdp</a>"
      ],
      "text/plain": [
       "<IPython.core.display.HTML object>"
      ]
     },
     "metadata": {},
     "output_type": "display_data"
    },
    {
     "data": {
      "text/html": [
       " View run at <a href='https://wandb.ai/sumanta_roy/CS6910_assignment_1/runs/zhvgjyg3' target=\"_blank\">https://wandb.ai/sumanta_roy/CS6910_assignment_1/runs/zhvgjyg3</a>"
      ],
      "text/plain": [
       "<IPython.core.display.HTML object>"
      ]
     },
     "metadata": {},
     "output_type": "display_data"
    },
    {
     "name": "stdout",
     "output_type": "stream",
     "text": [
      "Epoch: 1/5; Train Loss: 3.586905184936759; Val Loss: 0.1169735162116336\n",
      "Epoch: 2/5; Train Loss: 3.1237246649852612; Val Loss: 0.09790364181005895\n",
      "Epoch: 3/5; Train Loss: 2.7367198471165404; Val Loss: 0.08818673231738995\n",
      "Epoch: 4/5; Train Loss: 2.4172022910727473; Val Loss: 0.08225204699039168\n",
      "Epoch: 5/5; Train Loss: 2.151070769338294; Val Loss: 0.07826011777603842\n"
     ]
    },
    {
     "data": {
      "application/vnd.jupyter.widget-view+json": {
       "model_id": "ed7653c7c1cf4ac4982b512c308be7f7",
       "version_major": 2,
       "version_minor": 0
      },
      "text/plain": [
       "VBox(children=(Label(value='0.001 MB of 0.009 MB uploaded\\r'), FloatProgress(value=0.0825491873396065, max=1.0…"
      ]
     },
     "metadata": {},
     "output_type": "display_data"
    },
    {
     "data": {
      "text/html": [
       "<style>\n",
       "    table.wandb td:nth-child(1) { padding: 0 10px; text-align: left ; width: auto;} td:nth-child(2) {text-align: left ; width: 100%}\n",
       "    .wandb-row { display: flex; flex-direction: row; flex-wrap: wrap; justify-content: flex-start; width: 100% }\n",
       "    .wandb-col { display: flex; flex-direction: column; flex-basis: 100%; flex: 1; padding: 10px; }\n",
       "    </style>\n",
       "<div class=\"wandb-row\"><div class=\"wandb-col\"><h3>Run history:</h3><br/><table class=\"wandb\"><tr><td>epoch</td><td>▁▁▁▁▁▁▁▁▃▃▃▃▃▃▃▃▅▅▅▅▅▅▅▅▆▆▆▆▆▆▆▆████████</td></tr><tr><td>train_accuracy</td><td>▃▄▃▁▃▆▆▃▆▆▆▅▃▆▅▆▃▄▄▆▄▆▅▆▅▅▆▆▆▄▆▆▆▅▃▆█▆▆█</td></tr><tr><td>train_loss</td><td>██▇▇▇▆▆▆▆▆▅▅▅▅▅▄▄▄▄▄▄▃▃▃▃▃▃▃▂▂▂▂▂▂▂▂▁▁▁▁</td></tr><tr><td>val_accuracy</td><td>▁▄▅▅▆▆▆▆▆▆▆▇▇▇▇▇▇▇▇▇▇▇▇█████████████████</td></tr><tr><td>validation_loss</td><td>█▆▅▅▄▄▄▃▃▃▃▃▃▂▂▂▂▂▂▂▂▂▂▂▂▁▁▁▁▁▁▁▁▁▁▁▁▁▁▁</td></tr></table><br/></div><div class=\"wandb-col\"><h3>Run summary:</h3><br/><table class=\"wandb\"><tr><td>epoch</td><td>5</td></tr><tr><td>train_accuracy</td><td>93.75</td></tr><tr><td>train_loss</td><td>2.15107</td></tr><tr><td>val_accuracy</td><td>78.66667</td></tr><tr><td>validation_loss</td><td>0.07826</td></tr></table><br/></div></div>"
      ],
      "text/plain": [
       "<IPython.core.display.HTML object>"
      ]
     },
     "metadata": {},
     "output_type": "display_data"
    },
    {
     "data": {
      "text/html": [
       " View run <strong style=\"color:#cdcd00\">unique-sweep-4</strong> at: <a href='https://wandb.ai/sumanta_roy/CS6910_assignment_1/runs/zhvgjyg3' target=\"_blank\">https://wandb.ai/sumanta_roy/CS6910_assignment_1/runs/zhvgjyg3</a><br/>Synced 6 W&B file(s), 0 media file(s), 0 artifact file(s) and 0 other file(s)"
      ],
      "text/plain": [
       "<IPython.core.display.HTML object>"
      ]
     },
     "metadata": {},
     "output_type": "display_data"
    },
    {
     "data": {
      "text/html": [
       "Find logs at: <code>./wandb/run-20240317_045200-zhvgjyg3/logs</code>"
      ],
      "text/plain": [
       "<IPython.core.display.HTML object>"
      ]
     },
     "metadata": {},
     "output_type": "display_data"
    },
    {
     "name": "stderr",
     "output_type": "stream",
     "text": [
      "\u001b[34m\u001b[1mwandb\u001b[0m: Agent Starting Run: gryjne3w with config:\n",
      "\u001b[34m\u001b[1mwandb\u001b[0m: \tactivation: tanh\n",
      "\u001b[34m\u001b[1mwandb\u001b[0m: \tbatch_size: 32\n",
      "\u001b[34m\u001b[1mwandb\u001b[0m: \tepochs: 10\n",
      "\u001b[34m\u001b[1mwandb\u001b[0m: \thidden_layers: 5\n",
      "\u001b[34m\u001b[1mwandb\u001b[0m: \thidden_size: 128\n",
      "\u001b[34m\u001b[1mwandb\u001b[0m: \tloss: cross_entropy\n",
      "\u001b[34m\u001b[1mwandb\u001b[0m: \tlr: 0.0001\n",
      "\u001b[34m\u001b[1mwandb\u001b[0m: \toptimizer: nesterov\n",
      "\u001b[34m\u001b[1mwandb\u001b[0m: \tw_init: random\n",
      "\u001b[34m\u001b[1mwandb\u001b[0m: \tweight_decay: 0.5\n"
     ]
    },
    {
     "data": {
      "text/html": [
       "Tracking run with wandb version 0.16.4"
      ],
      "text/plain": [
       "<IPython.core.display.HTML object>"
      ]
     },
     "metadata": {},
     "output_type": "display_data"
    },
    {
     "data": {
      "text/html": [
       "Run data is saved locally in <code>/Users/sumanta/Desktop/Numpy project/cross_entropy_lesspasses/wandb/run-20240317_045259-gryjne3w</code>"
      ],
      "text/plain": [
       "<IPython.core.display.HTML object>"
      ]
     },
     "metadata": {},
     "output_type": "display_data"
    },
    {
     "data": {
      "text/html": [
       "Syncing run <strong><a href='https://wandb.ai/sumanta_roy/CS6910_assignment_1/runs/gryjne3w' target=\"_blank\">royal-sweep-5</a></strong> to <a href='https://wandb.ai/sumanta_roy/CS6910_assignment_1' target=\"_blank\">Weights & Biases</a> (<a href='https://wandb.me/run' target=\"_blank\">docs</a>)<br/>Sweep page: <a href='https://wandb.ai/sumanta_roy/CS6910_assignment_1/sweeps/ff8houdp' target=\"_blank\">https://wandb.ai/sumanta_roy/CS6910_assignment_1/sweeps/ff8houdp</a>"
      ],
      "text/plain": [
       "<IPython.core.display.HTML object>"
      ]
     },
     "metadata": {},
     "output_type": "display_data"
    },
    {
     "data": {
      "text/html": [
       " View project at <a href='https://wandb.ai/sumanta_roy/CS6910_assignment_1' target=\"_blank\">https://wandb.ai/sumanta_roy/CS6910_assignment_1</a>"
      ],
      "text/plain": [
       "<IPython.core.display.HTML object>"
      ]
     },
     "metadata": {},
     "output_type": "display_data"
    },
    {
     "data": {
      "text/html": [
       " View sweep at <a href='https://wandb.ai/sumanta_roy/CS6910_assignment_1/sweeps/ff8houdp' target=\"_blank\">https://wandb.ai/sumanta_roy/CS6910_assignment_1/sweeps/ff8houdp</a>"
      ],
      "text/plain": [
       "<IPython.core.display.HTML object>"
      ]
     },
     "metadata": {},
     "output_type": "display_data"
    },
    {
     "data": {
      "text/html": [
       " View run at <a href='https://wandb.ai/sumanta_roy/CS6910_assignment_1/runs/gryjne3w' target=\"_blank\">https://wandb.ai/sumanta_roy/CS6910_assignment_1/runs/gryjne3w</a>"
      ],
      "text/plain": [
       "<IPython.core.display.HTML object>"
      ]
     },
     "metadata": {},
     "output_type": "display_data"
    },
    {
     "name": "stdout",
     "output_type": "stream",
     "text": [
      "Epoch: 1/10; Train Loss: 103.4169268945426; Val Loss: 0.6637695592611144\n",
      "Epoch: 2/10; Train Loss: 98.06567860017378; Val Loss: 0.6128577505866387\n",
      "Epoch: 3/10; Train Loss: 93.00904370172171; Val Loss: 0.5751361309102742\n",
      "Epoch: 4/10; Train Loss: 88.2204795508575; Val Loss: 0.5428858872376024\n",
      "Epoch: 5/10; Train Loss: 83.68195088403266; Val Loss: 0.5140135227166962\n",
      "Epoch: 6/10; Train Loss: 79.37923513996529; Val Loss: 0.487613798726799\n",
      "Epoch: 7/10; Train Loss: 75.29969697501116; Val Loss: 0.4631816203246655\n",
      "Epoch: 8/10; Train Loss: 71.43145226228235; Val Loss: 0.44038717546850775\n",
      "Epoch: 9/10; Train Loss: 67.7632345367825; Val Loss: 0.41901430907336007\n",
      "Epoch: 10/10; Train Loss: 64.2845198708486; Val Loss: 0.3989169579937739\n"
     ]
    },
    {
     "data": {
      "application/vnd.jupyter.widget-view+json": {
       "model_id": "f0737d7fe4ae4036a158a98b5bf95ac6",
       "version_major": 2,
       "version_minor": 0
      },
      "text/plain": [
       "VBox(children=(Label(value='0.001 MB of 0.027 MB uploaded\\r'), FloatProgress(value=0.0273817124210825, max=1.0…"
      ]
     },
     "metadata": {},
     "output_type": "display_data"
    },
    {
     "data": {
      "text/html": [
       "<style>\n",
       "    table.wandb td:nth-child(1) { padding: 0 10px; text-align: left ; width: auto;} td:nth-child(2) {text-align: left ; width: 100%}\n",
       "    .wandb-row { display: flex; flex-direction: row; flex-wrap: wrap; justify-content: flex-start; width: 100% }\n",
       "    .wandb-col { display: flex; flex-direction: column; flex-basis: 100%; flex: 1; padding: 10px; }\n",
       "    </style>\n",
       "<div class=\"wandb-row\"><div class=\"wandb-col\"><h3>Run history:</h3><br/><table class=\"wandb\"><tr><td>epoch</td><td>▁▁▁▁▂▂▂▂▃▃▃▃▃▃▃▃▄▄▄▄▅▅▅▅▆▆▆▆▆▆▆▆▇▇▇▇████</td></tr><tr><td>train_accuracy</td><td>▁▃▃▄▆▅▅▇▆▅▅▇▆▇▇▆▇▅▇▆▇▇▇▆▅▇▅▆▆█▇▇█▇▇▇█▆██</td></tr><tr><td>train_loss</td><td>███▇▇▇▇▇▆▆▆▆▅▅▅▅▅▅▄▄▄▄▄▃▃▃▃▃▃▂▂▂▂▂▂▂▁▁▁▁</td></tr><tr><td>val_accuracy</td><td>▁▃▅▅▆▆▆▆▆▇▇▇▇▇▇▇▇▇▇▇▇▇██████████████████</td></tr><tr><td>validation_loss</td><td>█▆▆▅▅▅▅▄▄▄▄▄▄▃▃▃▃▃▃▃▃▃▂▂▂▂▂▂▂▂▂▂▂▁▁▁▁▁▁▁</td></tr></table><br/></div><div class=\"wandb-col\"><h3>Run summary:</h3><br/><table class=\"wandb\"><tr><td>epoch</td><td>10</td></tr><tr><td>train_accuracy</td><td>78.125</td></tr><tr><td>train_loss</td><td>64.28452</td></tr><tr><td>val_accuracy</td><td>80.58333</td></tr><tr><td>validation_loss</td><td>0.39892</td></tr></table><br/></div></div>"
      ],
      "text/plain": [
       "<IPython.core.display.HTML object>"
      ]
     },
     "metadata": {},
     "output_type": "display_data"
    },
    {
     "data": {
      "text/html": [
       " View run <strong style=\"color:#cdcd00\">royal-sweep-5</strong> at: <a href='https://wandb.ai/sumanta_roy/CS6910_assignment_1/runs/gryjne3w' target=\"_blank\">https://wandb.ai/sumanta_roy/CS6910_assignment_1/runs/gryjne3w</a><br/>Synced 6 W&B file(s), 0 media file(s), 0 artifact file(s) and 0 other file(s)"
      ],
      "text/plain": [
       "<IPython.core.display.HTML object>"
      ]
     },
     "metadata": {},
     "output_type": "display_data"
    },
    {
     "data": {
      "text/html": [
       "Find logs at: <code>./wandb/run-20240317_045259-gryjne3w/logs</code>"
      ],
      "text/plain": [
       "<IPython.core.display.HTML object>"
      ]
     },
     "metadata": {},
     "output_type": "display_data"
    },
    {
     "name": "stderr",
     "output_type": "stream",
     "text": [
      "\u001b[34m\u001b[1mwandb\u001b[0m: Sweep Agent: Waiting for job.\n",
      "\u001b[34m\u001b[1mwandb\u001b[0m: Job received.\n",
      "\u001b[34m\u001b[1mwandb\u001b[0m: Agent Starting Run: 8yx4nq14 with config:\n",
      "\u001b[34m\u001b[1mwandb\u001b[0m: \tactivation: tanh\n",
      "\u001b[34m\u001b[1mwandb\u001b[0m: \tbatch_size: 16\n",
      "\u001b[34m\u001b[1mwandb\u001b[0m: \tepochs: 10\n",
      "\u001b[34m\u001b[1mwandb\u001b[0m: \thidden_layers: 4\n",
      "\u001b[34m\u001b[1mwandb\u001b[0m: \thidden_size: 64\n",
      "\u001b[34m\u001b[1mwandb\u001b[0m: \tloss: cross_entropy\n",
      "\u001b[34m\u001b[1mwandb\u001b[0m: \tlr: 0.001\n",
      "\u001b[34m\u001b[1mwandb\u001b[0m: \toptimizer: adam\n",
      "\u001b[34m\u001b[1mwandb\u001b[0m: \tw_init: glorot\n",
      "\u001b[34m\u001b[1mwandb\u001b[0m: \tweight_decay: 0\n"
     ]
    },
    {
     "data": {
      "text/html": [
       "Tracking run with wandb version 0.16.4"
      ],
      "text/plain": [
       "<IPython.core.display.HTML object>"
      ]
     },
     "metadata": {},
     "output_type": "display_data"
    },
    {
     "data": {
      "text/html": [
       "Run data is saved locally in <code>/Users/sumanta/Desktop/Numpy project/cross_entropy_lesspasses/wandb/run-20240317_045608-8yx4nq14</code>"
      ],
      "text/plain": [
       "<IPython.core.display.HTML object>"
      ]
     },
     "metadata": {},
     "output_type": "display_data"
    },
    {
     "data": {
      "text/html": [
       "Syncing run <strong><a href='https://wandb.ai/sumanta_roy/CS6910_assignment_1/runs/8yx4nq14' target=\"_blank\">morning-sweep-6</a></strong> to <a href='https://wandb.ai/sumanta_roy/CS6910_assignment_1' target=\"_blank\">Weights & Biases</a> (<a href='https://wandb.me/run' target=\"_blank\">docs</a>)<br/>Sweep page: <a href='https://wandb.ai/sumanta_roy/CS6910_assignment_1/sweeps/ff8houdp' target=\"_blank\">https://wandb.ai/sumanta_roy/CS6910_assignment_1/sweeps/ff8houdp</a>"
      ],
      "text/plain": [
       "<IPython.core.display.HTML object>"
      ]
     },
     "metadata": {},
     "output_type": "display_data"
    },
    {
     "data": {
      "text/html": [
       " View project at <a href='https://wandb.ai/sumanta_roy/CS6910_assignment_1' target=\"_blank\">https://wandb.ai/sumanta_roy/CS6910_assignment_1</a>"
      ],
      "text/plain": [
       "<IPython.core.display.HTML object>"
      ]
     },
     "metadata": {},
     "output_type": "display_data"
    },
    {
     "data": {
      "text/html": [
       " View sweep at <a href='https://wandb.ai/sumanta_roy/CS6910_assignment_1/sweeps/ff8houdp' target=\"_blank\">https://wandb.ai/sumanta_roy/CS6910_assignment_1/sweeps/ff8houdp</a>"
      ],
      "text/plain": [
       "<IPython.core.display.HTML object>"
      ]
     },
     "metadata": {},
     "output_type": "display_data"
    },
    {
     "data": {
      "text/html": [
       " View run at <a href='https://wandb.ai/sumanta_roy/CS6910_assignment_1/runs/8yx4nq14' target=\"_blank\">https://wandb.ai/sumanta_roy/CS6910_assignment_1/runs/8yx4nq14</a>"
      ],
      "text/plain": [
       "<IPython.core.display.HTML object>"
      ]
     },
     "metadata": {},
     "output_type": "display_data"
    },
    {
     "name": "stdout",
     "output_type": "stream",
     "text": [
      "Epoch: 1/10; Train Loss: 0.032594671153756465; Val Loss: 0.03715013358246136\n",
      "Epoch: 2/10; Train Loss: 0.029735174486294737; Val Loss: 0.033820196628909005\n",
      "Epoch: 3/10; Train Loss: 0.027795937134084413; Val Loss: 0.03227671580344842\n",
      "Epoch: 4/10; Train Loss: 0.027268471752995616; Val Loss: 0.03161680794490646\n",
      "Epoch: 5/10; Train Loss: 0.02724862548470363; Val Loss: 0.031208960462490432\n",
      "Epoch: 6/10; Train Loss: 0.027189570328476943; Val Loss: 0.03128315159134351\n",
      "Epoch: 7/10; Train Loss: 0.027305265692589516; Val Loss: 0.03172521607400299\n",
      "Epoch: 8/10; Train Loss: 0.028053122396531866; Val Loss: 0.03231350121483123\n",
      "Epoch: 9/10; Train Loss: 0.028501613991535602; Val Loss: 0.03279227585443415\n",
      "Epoch: 10/10; Train Loss: 0.02840172826390146; Val Loss: 0.033245030708698435\n"
     ]
    },
    {
     "data": {
      "application/vnd.jupyter.widget-view+json": {
       "model_id": "02750f7b87414476b7d435b6c1ac405c",
       "version_major": 2,
       "version_minor": 0
      },
      "text/plain": [
       "VBox(children=(Label(value='0.001 MB of 0.009 MB uploaded\\r'), FloatProgress(value=0.07910937820644368, max=1.…"
      ]
     },
     "metadata": {},
     "output_type": "display_data"
    },
    {
     "data": {
      "text/html": [
       "<style>\n",
       "    table.wandb td:nth-child(1) { padding: 0 10px; text-align: left ; width: auto;} td:nth-child(2) {text-align: left ; width: 100%}\n",
       "    .wandb-row { display: flex; flex-direction: row; flex-wrap: wrap; justify-content: flex-start; width: 100% }\n",
       "    .wandb-col { display: flex; flex-direction: column; flex-basis: 100%; flex: 1; padding: 10px; }\n",
       "    </style>\n",
       "<div class=\"wandb-row\"><div class=\"wandb-col\"><h3>Run history:</h3><br/><table class=\"wandb\"><tr><td>epoch</td><td>▁▁▁▁▂▂▂▂▃▃▃▃▃▃▃▃▄▄▄▄▅▅▅▅▆▆▆▆▆▆▆▆▇▇▇▇████</td></tr><tr><td>train_accuracy</td><td>▃█▃▆▆▅▃▆▁▅▅▆▅██▅▆▁▆▁▅▃▅▆▅▆▃▃▅▆▃▅▆▅▃▆▆▅▆▆</td></tr><tr><td>train_loss</td><td>▆▂▄▃▃▄▄▃█▅▄▂▅▁▂▅▂▆▅▇▄▆▃▂▃▂▅▆▄▂▄▄▂▃█▃▁▄▂▂</td></tr><tr><td>val_accuracy</td><td>▁▄▅▆▇▆▇▇▇▇▇▇▇█▇▇▇█▇███████▇█████▇███▇█▇█</td></tr><tr><td>validation_loss</td><td>█▅▄▃▃▃▂▂▂▂▂▂▂▁▂▂▂▁▂▂▂▁▁▁▁▁▂▁▁▂▁▁▃▂▁▁▂▁▁▂</td></tr></table><br/></div><div class=\"wandb-col\"><h3>Run summary:</h3><br/><table class=\"wandb\"><tr><td>epoch</td><td>10</td></tr><tr><td>train_accuracy</td><td>93.75</td></tr><tr><td>train_loss</td><td>0.0284</td></tr><tr><td>val_accuracy</td><td>87.85</td></tr><tr><td>validation_loss</td><td>0.03325</td></tr></table><br/></div></div>"
      ],
      "text/plain": [
       "<IPython.core.display.HTML object>"
      ]
     },
     "metadata": {},
     "output_type": "display_data"
    },
    {
     "data": {
      "text/html": [
       " View run <strong style=\"color:#cdcd00\">morning-sweep-6</strong> at: <a href='https://wandb.ai/sumanta_roy/CS6910_assignment_1/runs/8yx4nq14' target=\"_blank\">https://wandb.ai/sumanta_roy/CS6910_assignment_1/runs/8yx4nq14</a><br/>Synced 6 W&B file(s), 0 media file(s), 0 artifact file(s) and 0 other file(s)"
      ],
      "text/plain": [
       "<IPython.core.display.HTML object>"
      ]
     },
     "metadata": {},
     "output_type": "display_data"
    },
    {
     "data": {
      "text/html": [
       "Find logs at: <code>./wandb/run-20240317_045608-8yx4nq14/logs</code>"
      ],
      "text/plain": [
       "<IPython.core.display.HTML object>"
      ]
     },
     "metadata": {},
     "output_type": "display_data"
    },
    {
     "name": "stderr",
     "output_type": "stream",
     "text": [
      "\u001b[34m\u001b[1mwandb\u001b[0m: Sweep Agent: Waiting for job.\n",
      "\u001b[34m\u001b[1mwandb\u001b[0m: Job received.\n",
      "\u001b[34m\u001b[1mwandb\u001b[0m: Agent Starting Run: 7g3eejc0 with config:\n",
      "\u001b[34m\u001b[1mwandb\u001b[0m: \tactivation: relu\n",
      "\u001b[34m\u001b[1mwandb\u001b[0m: \tbatch_size: 64\n",
      "\u001b[34m\u001b[1mwandb\u001b[0m: \tepochs: 10\n",
      "\u001b[34m\u001b[1mwandb\u001b[0m: \thidden_layers: 3\n",
      "\u001b[34m\u001b[1mwandb\u001b[0m: \thidden_size: 64\n",
      "\u001b[34m\u001b[1mwandb\u001b[0m: \tloss: cross_entropy\n",
      "\u001b[34m\u001b[1mwandb\u001b[0m: \tlr: 0.0001\n",
      "\u001b[34m\u001b[1mwandb\u001b[0m: \toptimizer: rmsprop\n",
      "\u001b[34m\u001b[1mwandb\u001b[0m: \tw_init: random\n",
      "\u001b[34m\u001b[1mwandb\u001b[0m: \tweight_decay: 0\n"
     ]
    },
    {
     "data": {
      "text/html": [
       "Tracking run with wandb version 0.16.4"
      ],
      "text/plain": [
       "<IPython.core.display.HTML object>"
      ]
     },
     "metadata": {},
     "output_type": "display_data"
    },
    {
     "data": {
      "text/html": [
       "Run data is saved locally in <code>/Users/sumanta/Desktop/Numpy project/cross_entropy_lesspasses/wandb/run-20240317_045800-7g3eejc0</code>"
      ],
      "text/plain": [
       "<IPython.core.display.HTML object>"
      ]
     },
     "metadata": {},
     "output_type": "display_data"
    },
    {
     "data": {
      "text/html": [
       "Syncing run <strong><a href='https://wandb.ai/sumanta_roy/CS6910_assignment_1/runs/7g3eejc0' target=\"_blank\">fluent-sweep-7</a></strong> to <a href='https://wandb.ai/sumanta_roy/CS6910_assignment_1' target=\"_blank\">Weights & Biases</a> (<a href='https://wandb.me/run' target=\"_blank\">docs</a>)<br/>Sweep page: <a href='https://wandb.ai/sumanta_roy/CS6910_assignment_1/sweeps/ff8houdp' target=\"_blank\">https://wandb.ai/sumanta_roy/CS6910_assignment_1/sweeps/ff8houdp</a>"
      ],
      "text/plain": [
       "<IPython.core.display.HTML object>"
      ]
     },
     "metadata": {},
     "output_type": "display_data"
    },
    {
     "data": {
      "text/html": [
       " View project at <a href='https://wandb.ai/sumanta_roy/CS6910_assignment_1' target=\"_blank\">https://wandb.ai/sumanta_roy/CS6910_assignment_1</a>"
      ],
      "text/plain": [
       "<IPython.core.display.HTML object>"
      ]
     },
     "metadata": {},
     "output_type": "display_data"
    },
    {
     "data": {
      "text/html": [
       " View sweep at <a href='https://wandb.ai/sumanta_roy/CS6910_assignment_1/sweeps/ff8houdp' target=\"_blank\">https://wandb.ai/sumanta_roy/CS6910_assignment_1/sweeps/ff8houdp</a>"
      ],
      "text/plain": [
       "<IPython.core.display.HTML object>"
      ]
     },
     "metadata": {},
     "output_type": "display_data"
    },
    {
     "data": {
      "text/html": [
       " View run at <a href='https://wandb.ai/sumanta_roy/CS6910_assignment_1/runs/7g3eejc0' target=\"_blank\">https://wandb.ai/sumanta_roy/CS6910_assignment_1/runs/7g3eejc0</a>"
      ],
      "text/plain": [
       "<IPython.core.display.HTML object>"
      ]
     },
     "metadata": {},
     "output_type": "display_data"
    },
    {
     "name": "stdout",
     "output_type": "stream",
     "text": [
      "Epoch: 1/10; Train Loss: 0.1151446439630303; Val Loss: 0.12285229923110286\n",
      "Epoch: 2/10; Train Loss: 0.06704970244662432; Val Loss: 0.08810603597076755\n",
      "Epoch: 3/10; Train Loss: 0.05683482476688627; Val Loss: 0.07487029799725119\n",
      "Epoch: 4/10; Train Loss: 0.05180534648701536; Val Loss: 0.06781026857804058\n",
      "Epoch: 5/10; Train Loss: 0.047941107376367545; Val Loss: 0.06315876954549375\n",
      "Epoch: 6/10; Train Loss: 0.04644874498162568; Val Loss: 0.059926841398238416\n",
      "Epoch: 7/10; Train Loss: 0.04551114427658509; Val Loss: 0.05744969331825612\n",
      "Epoch: 8/10; Train Loss: 0.04449067555682908; Val Loss: 0.05553956783527253\n",
      "Epoch: 9/10; Train Loss: 0.04374237020982301; Val Loss: 0.05399786207563625\n",
      "Epoch: 10/10; Train Loss: 0.04315362363384269; Val Loss: 0.05274810480470744\n"
     ]
    },
    {
     "data": {
      "application/vnd.jupyter.widget-view+json": {
       "model_id": "ee3709087efe411a90bac0ecc70e5455",
       "version_major": 2,
       "version_minor": 0
      },
      "text/plain": [
       "VBox(children=(Label(value='0.001 MB of 0.001 MB uploaded\\r'), FloatProgress(value=1.0, max=1.0)))"
      ]
     },
     "metadata": {},
     "output_type": "display_data"
    },
    {
     "data": {
      "text/html": [
       "<style>\n",
       "    table.wandb td:nth-child(1) { padding: 0 10px; text-align: left ; width: auto;} td:nth-child(2) {text-align: left ; width: 100%}\n",
       "    .wandb-row { display: flex; flex-direction: row; flex-wrap: wrap; justify-content: flex-start; width: 100% }\n",
       "    .wandb-col { display: flex; flex-direction: column; flex-basis: 100%; flex: 1; padding: 10px; }\n",
       "    </style>\n",
       "<div class=\"wandb-row\"><div class=\"wandb-col\"><h3>Run history:</h3><br/><table class=\"wandb\"><tr><td>epoch</td><td>▁▁▁▁▂▂▂▂▃▃▃▃▃▃▃▃▄▄▄▄▅▅▅▅▆▆▆▆▆▆▆▆▇▇▇▇████</td></tr><tr><td>train_accuracy</td><td>▁▅▆▆▅▆▅▅▇▆█▆▇▇▇█▇▇▇▇█▇▇▇▇▆▇▇█▇███▇████▇█</td></tr><tr><td>train_loss</td><td>█▂▂▂▂▁▂▂▁▂▁▁▁▁▁▁▁▁▁▁▁▁▁▁▁▁▁▁▁▁▁▁▁▁▁▁▁▁▁▁</td></tr><tr><td>val_accuracy</td><td>▁▄▆▆▆▇▇▇▇▇▇▇▇▇██████████████████████████</td></tr><tr><td>validation_loss</td><td>█▃▂▂▂▁▁▁▁▁▁▁▁▁▁▁▁▁▁▁▁▁▁▁▁▁▁▁▁▁▁▁▁▁▁▁▁▁▁▁</td></tr></table><br/></div><div class=\"wandb-col\"><h3>Run summary:</h3><br/><table class=\"wandb\"><tr><td>epoch</td><td>10</td></tr><tr><td>train_accuracy</td><td>85.9375</td></tr><tr><td>train_loss</td><td>0.04315</td></tr><tr><td>val_accuracy</td><td>81.7</td></tr><tr><td>validation_loss</td><td>0.05275</td></tr></table><br/></div></div>"
      ],
      "text/plain": [
       "<IPython.core.display.HTML object>"
      ]
     },
     "metadata": {},
     "output_type": "display_data"
    },
    {
     "data": {
      "text/html": [
       " View run <strong style=\"color:#cdcd00\">fluent-sweep-7</strong> at: <a href='https://wandb.ai/sumanta_roy/CS6910_assignment_1/runs/7g3eejc0' target=\"_blank\">https://wandb.ai/sumanta_roy/CS6910_assignment_1/runs/7g3eejc0</a><br/>Synced 6 W&B file(s), 0 media file(s), 0 artifact file(s) and 0 other file(s)"
      ],
      "text/plain": [
       "<IPython.core.display.HTML object>"
      ]
     },
     "metadata": {},
     "output_type": "display_data"
    },
    {
     "data": {
      "text/html": [
       "Find logs at: <code>./wandb/run-20240317_045800-7g3eejc0/logs</code>"
      ],
      "text/plain": [
       "<IPython.core.display.HTML object>"
      ]
     },
     "metadata": {},
     "output_type": "display_data"
    },
    {
     "name": "stderr",
     "output_type": "stream",
     "text": [
      "\u001b[34m\u001b[1mwandb\u001b[0m: Sweep Agent: Waiting for job.\n",
      "\u001b[34m\u001b[1mwandb\u001b[0m: Job received.\n",
      "\u001b[34m\u001b[1mwandb\u001b[0m: Agent Starting Run: b844azwf with config:\n",
      "\u001b[34m\u001b[1mwandb\u001b[0m: \tactivation: sigmoid\n",
      "\u001b[34m\u001b[1mwandb\u001b[0m: \tbatch_size: 64\n",
      "\u001b[34m\u001b[1mwandb\u001b[0m: \tepochs: 10\n",
      "\u001b[34m\u001b[1mwandb\u001b[0m: \thidden_layers: 5\n",
      "\u001b[34m\u001b[1mwandb\u001b[0m: \thidden_size: 128\n",
      "\u001b[34m\u001b[1mwandb\u001b[0m: \tloss: cross_entropy\n",
      "\u001b[34m\u001b[1mwandb\u001b[0m: \tlr: 0.001\n",
      "\u001b[34m\u001b[1mwandb\u001b[0m: \toptimizer: rmsprop\n",
      "\u001b[34m\u001b[1mwandb\u001b[0m: \tw_init: glorot\n",
      "\u001b[34m\u001b[1mwandb\u001b[0m: \tweight_decay: 0.0005\n"
     ]
    },
    {
     "data": {
      "text/html": [
       "Tracking run with wandb version 0.16.4"
      ],
      "text/plain": [
       "<IPython.core.display.HTML object>"
      ]
     },
     "metadata": {},
     "output_type": "display_data"
    },
    {
     "data": {
      "text/html": [
       "Run data is saved locally in <code>/Users/sumanta/Desktop/Numpy project/cross_entropy_lesspasses/wandb/run-20240317_045853-b844azwf</code>"
      ],
      "text/plain": [
       "<IPython.core.display.HTML object>"
      ]
     },
     "metadata": {},
     "output_type": "display_data"
    },
    {
     "data": {
      "text/html": [
       "Syncing run <strong><a href='https://wandb.ai/sumanta_roy/CS6910_assignment_1/runs/b844azwf' target=\"_blank\">solar-sweep-8</a></strong> to <a href='https://wandb.ai/sumanta_roy/CS6910_assignment_1' target=\"_blank\">Weights & Biases</a> (<a href='https://wandb.me/run' target=\"_blank\">docs</a>)<br/>Sweep page: <a href='https://wandb.ai/sumanta_roy/CS6910_assignment_1/sweeps/ff8houdp' target=\"_blank\">https://wandb.ai/sumanta_roy/CS6910_assignment_1/sweeps/ff8houdp</a>"
      ],
      "text/plain": [
       "<IPython.core.display.HTML object>"
      ]
     },
     "metadata": {},
     "output_type": "display_data"
    },
    {
     "data": {
      "text/html": [
       " View project at <a href='https://wandb.ai/sumanta_roy/CS6910_assignment_1' target=\"_blank\">https://wandb.ai/sumanta_roy/CS6910_assignment_1</a>"
      ],
      "text/plain": [
       "<IPython.core.display.HTML object>"
      ]
     },
     "metadata": {},
     "output_type": "display_data"
    },
    {
     "data": {
      "text/html": [
       " View sweep at <a href='https://wandb.ai/sumanta_roy/CS6910_assignment_1/sweeps/ff8houdp' target=\"_blank\">https://wandb.ai/sumanta_roy/CS6910_assignment_1/sweeps/ff8houdp</a>"
      ],
      "text/plain": [
       "<IPython.core.display.HTML object>"
      ]
     },
     "metadata": {},
     "output_type": "display_data"
    },
    {
     "data": {
      "text/html": [
       " View run at <a href='https://wandb.ai/sumanta_roy/CS6910_assignment_1/runs/b844azwf' target=\"_blank\">https://wandb.ai/sumanta_roy/CS6910_assignment_1/runs/b844azwf</a>"
      ],
      "text/plain": [
       "<IPython.core.display.HTML object>"
      ]
     },
     "metadata": {},
     "output_type": "display_data"
    },
    {
     "name": "stdout",
     "output_type": "stream",
     "text": [
      "Epoch: 1/10; Train Loss: 0.23403614170543305; Val Loss: 0.23078876350090477\n",
      "Epoch: 2/10; Train Loss: 0.23394091617814575; Val Loss: 0.23066983876962724\n",
      "Epoch: 3/10; Train Loss: 0.2337466635975662; Val Loss: 0.2304428156442978\n",
      "Epoch: 4/10; Train Loss: 0.2326842893958973; Val Loss: 0.2292101894729598\n",
      "Epoch: 5/10; Train Loss: 0.16634620480974435; Val Loss: 0.16061301631554853\n",
      "Epoch: 6/10; Train Loss: 0.12283105611264741; Val Loss: 0.12423744386175721\n",
      "Epoch: 7/10; Train Loss: 0.10615935727387107; Val Loss: 0.11199528814125927\n",
      "Epoch: 8/10; Train Loss: 0.0951979517012135; Val Loss: 0.10482632813971779\n",
      "Epoch: 9/10; Train Loss: 0.08887066705297532; Val Loss: 0.09772486431070027\n",
      "Epoch: 10/10; Train Loss: 0.08475029851381423; Val Loss: 0.09208233754275626\n"
     ]
    },
    {
     "data": {
      "application/vnd.jupyter.widget-view+json": {
       "model_id": "",
       "version_major": 2,
       "version_minor": 0
      },
      "text/plain": [
       "VBox(children=(Label(value='0.001 MB of 0.027 MB uploaded\\r'), FloatProgress(value=0.027311370882040383, max=1…"
      ]
     },
     "metadata": {},
     "output_type": "display_data"
    },
    {
     "data": {
      "text/html": [
       "<style>\n",
       "    table.wandb td:nth-child(1) { padding: 0 10px; text-align: left ; width: auto;} td:nth-child(2) {text-align: left ; width: 100%}\n",
       "    .wandb-row { display: flex; flex-direction: row; flex-wrap: wrap; justify-content: flex-start; width: 100% }\n",
       "    .wandb-col { display: flex; flex-direction: column; flex-basis: 100%; flex: 1; padding: 10px; }\n",
       "    </style>\n",
       "<div class=\"wandb-row\"><div class=\"wandb-col\"><h3>Run history:</h3><br/><table class=\"wandb\"><tr><td>epoch</td><td>▁▁▁▁▂▂▂▂▃▃▃▃▃▃▃▃▄▄▄▄▅▅▅▅▆▆▆▆▆▆▆▆▇▇▇▇████</td></tr><tr><td>train_accuracy</td><td>▂▂▂▂▂▁▂▂▂▁▁▂▂▁▂▁▂▂▂▄▄▄▆▆▅▅▆▅▆▆▆▇▇▇██▇▇▇█</td></tr><tr><td>train_loss</td><td>██████████████████▆▅▅▄▃▃▃▃▃▃▂▂▂▂▂▂▁▁▂▂▂▁</td></tr><tr><td>val_accuracy</td><td>▁▁▁▁▁▁▁▁▂▁▁▁▁▁▂▁▁▁▂▄▄▅▅▅▆▆▆▆▇▇▇▇▇▇▇█▇▇██</td></tr><tr><td>validation_loss</td><td>██████████████████▆▅▄▄▃▃▃▂▂▂▂▂▂▂▂▁▁▁▁▁▁▁</td></tr></table><br/></div><div class=\"wandb-col\"><h3>Run summary:</h3><br/><table class=\"wandb\"><tr><td>epoch</td><td>10</td></tr><tr><td>train_accuracy</td><td>70.3125</td></tr><tr><td>train_loss</td><td>0.08475</td></tr><tr><td>val_accuracy</td><td>62.46667</td></tr><tr><td>validation_loss</td><td>0.09208</td></tr></table><br/></div></div>"
      ],
      "text/plain": [
       "<IPython.core.display.HTML object>"
      ]
     },
     "metadata": {},
     "output_type": "display_data"
    },
    {
     "data": {
      "text/html": [
       " View run <strong style=\"color:#cdcd00\">solar-sweep-8</strong> at: <a href='https://wandb.ai/sumanta_roy/CS6910_assignment_1/runs/b844azwf' target=\"_blank\">https://wandb.ai/sumanta_roy/CS6910_assignment_1/runs/b844azwf</a><br/>Synced 6 W&B file(s), 0 media file(s), 0 artifact file(s) and 0 other file(s)"
      ],
      "text/plain": [
       "<IPython.core.display.HTML object>"
      ]
     },
     "metadata": {},
     "output_type": "display_data"
    },
    {
     "data": {
      "text/html": [
       "Find logs at: <code>./wandb/run-20240317_045853-b844azwf/logs</code>"
      ],
      "text/plain": [
       "<IPython.core.display.HTML object>"
      ]
     },
     "metadata": {},
     "output_type": "display_data"
    },
    {
     "name": "stderr",
     "output_type": "stream",
     "text": [
      "\u001b[34m\u001b[1mwandb\u001b[0m: Agent Starting Run: enx03vs1 with config:\n",
      "\u001b[34m\u001b[1mwandb\u001b[0m: \tactivation: relu\n",
      "\u001b[34m\u001b[1mwandb\u001b[0m: \tbatch_size: 32\n",
      "\u001b[34m\u001b[1mwandb\u001b[0m: \tepochs: 5\n",
      "\u001b[34m\u001b[1mwandb\u001b[0m: \thidden_layers: 3\n",
      "\u001b[34m\u001b[1mwandb\u001b[0m: \thidden_size: 64\n",
      "\u001b[34m\u001b[1mwandb\u001b[0m: \tloss: cross_entropy\n",
      "\u001b[34m\u001b[1mwandb\u001b[0m: \tlr: 0.0001\n",
      "\u001b[34m\u001b[1mwandb\u001b[0m: \toptimizer: adam\n",
      "\u001b[34m\u001b[1mwandb\u001b[0m: \tw_init: random\n",
      "\u001b[34m\u001b[1mwandb\u001b[0m: \tweight_decay: 0.5\n"
     ]
    },
    {
     "data": {
      "text/html": [
       "Tracking run with wandb version 0.16.4"
      ],
      "text/plain": [
       "<IPython.core.display.HTML object>"
      ]
     },
     "metadata": {},
     "output_type": "display_data"
    },
    {
     "data": {
      "text/html": [
       "Run data is saved locally in <code>/Users/sumanta/Desktop/Numpy project/cross_entropy_lesspasses/wandb/run-20240317_050127-enx03vs1</code>"
      ],
      "text/plain": [
       "<IPython.core.display.HTML object>"
      ]
     },
     "metadata": {},
     "output_type": "display_data"
    },
    {
     "data": {
      "text/html": [
       "Syncing run <strong><a href='https://wandb.ai/sumanta_roy/CS6910_assignment_1/runs/enx03vs1' target=\"_blank\">lilac-sweep-9</a></strong> to <a href='https://wandb.ai/sumanta_roy/CS6910_assignment_1' target=\"_blank\">Weights & Biases</a> (<a href='https://wandb.me/run' target=\"_blank\">docs</a>)<br/>Sweep page: <a href='https://wandb.ai/sumanta_roy/CS6910_assignment_1/sweeps/ff8houdp' target=\"_blank\">https://wandb.ai/sumanta_roy/CS6910_assignment_1/sweeps/ff8houdp</a>"
      ],
      "text/plain": [
       "<IPython.core.display.HTML object>"
      ]
     },
     "metadata": {},
     "output_type": "display_data"
    },
    {
     "data": {
      "text/html": [
       " View project at <a href='https://wandb.ai/sumanta_roy/CS6910_assignment_1' target=\"_blank\">https://wandb.ai/sumanta_roy/CS6910_assignment_1</a>"
      ],
      "text/plain": [
       "<IPython.core.display.HTML object>"
      ]
     },
     "metadata": {},
     "output_type": "display_data"
    },
    {
     "data": {
      "text/html": [
       " View sweep at <a href='https://wandb.ai/sumanta_roy/CS6910_assignment_1/sweeps/ff8houdp' target=\"_blank\">https://wandb.ai/sumanta_roy/CS6910_assignment_1/sweeps/ff8houdp</a>"
      ],
      "text/plain": [
       "<IPython.core.display.HTML object>"
      ]
     },
     "metadata": {},
     "output_type": "display_data"
    },
    {
     "data": {
      "text/html": [
       " View run at <a href='https://wandb.ai/sumanta_roy/CS6910_assignment_1/runs/enx03vs1' target=\"_blank\">https://wandb.ai/sumanta_roy/CS6910_assignment_1/runs/enx03vs1</a>"
      ],
      "text/plain": [
       "<IPython.core.display.HTML object>"
      ]
     },
     "metadata": {},
     "output_type": "display_data"
    },
    {
     "name": "stdout",
     "output_type": "stream",
     "text": [
      "Epoch: 1/5; Train Loss: 34.03698882008109; Val Loss: 0.33987942857324616\n",
      "Epoch: 2/5; Train Loss: 30.590654072551366; Val Loss: 0.2762475014856174\n",
      "Epoch: 3/5; Train Loss: 27.229860554310942; Val Loss: 0.23718359496049812\n",
      "Epoch: 4/5; Train Loss: 23.967969461434812; Val Loss: 0.2072277104466492\n",
      "Epoch: 5/5; Train Loss: 20.895996431002622; Val Loss: 0.18231900872708728\n"
     ]
    },
    {
     "data": {
      "application/vnd.jupyter.widget-view+json": {
       "model_id": "",
       "version_major": 2,
       "version_minor": 0
      },
      "text/plain": [
       "VBox(children=(Label(value='0.001 MB of 0.009 MB uploaded\\r'), FloatProgress(value=0.08472527472527472, max=1.…"
      ]
     },
     "metadata": {},
     "output_type": "display_data"
    },
    {
     "data": {
      "text/html": [
       "<style>\n",
       "    table.wandb td:nth-child(1) { padding: 0 10px; text-align: left ; width: auto;} td:nth-child(2) {text-align: left ; width: 100%}\n",
       "    .wandb-row { display: flex; flex-direction: row; flex-wrap: wrap; justify-content: flex-start; width: 100% }\n",
       "    .wandb-col { display: flex; flex-direction: column; flex-basis: 100%; flex: 1; padding: 10px; }\n",
       "    </style>\n",
       "<div class=\"wandb-row\"><div class=\"wandb-col\"><h3>Run history:</h3><br/><table class=\"wandb\"><tr><td>epoch</td><td>▁▁▁▁▁▁▁▁▃▃▃▃▃▃▃▃▅▅▅▅▅▅▅▅▆▆▆▆▆▆▆▆████████</td></tr><tr><td>train_accuracy</td><td>▁▂▃▇▄▅▆▅▄▅▅▅▅▅▇▅▅▅▆▆▆▄▆▆▅▄▅▆▆█▇▆▆▇▄▆▆▇▆▆</td></tr><tr><td>train_loss</td><td>██▇▇▇▇▆▆▆▆▆▆▅▅▅▅▅▅▄▄▄▄▄▄▃▃▃▃▃▃▂▂▂▂▂▂▁▁▁▁</td></tr><tr><td>val_accuracy</td><td>▁▃▅▅▅▆▆▆▆▆▇▇▇▇▇▇▇▇▇▇▇▇▇▇████████████████</td></tr><tr><td>validation_loss</td><td>█▅▄▃▃▃▃▃▃▂▂▂▂▂▂▂▂▂▂▂▂▂▂▂▂▁▁▁▁▁▁▁▁▁▁▁▁▁▁▁</td></tr></table><br/></div><div class=\"wandb-col\"><h3>Run summary:</h3><br/><table class=\"wandb\"><tr><td>epoch</td><td>5</td></tr><tr><td>train_accuracy</td><td>71.875</td></tr><tr><td>train_loss</td><td>20.896</td></tr><tr><td>val_accuracy</td><td>77.0</td></tr><tr><td>validation_loss</td><td>0.18232</td></tr></table><br/></div></div>"
      ],
      "text/plain": [
       "<IPython.core.display.HTML object>"
      ]
     },
     "metadata": {},
     "output_type": "display_data"
    },
    {
     "data": {
      "text/html": [
       " View run <strong style=\"color:#cdcd00\">lilac-sweep-9</strong> at: <a href='https://wandb.ai/sumanta_roy/CS6910_assignment_1/runs/enx03vs1' target=\"_blank\">https://wandb.ai/sumanta_roy/CS6910_assignment_1/runs/enx03vs1</a><br/>Synced 6 W&B file(s), 0 media file(s), 0 artifact file(s) and 0 other file(s)"
      ],
      "text/plain": [
       "<IPython.core.display.HTML object>"
      ]
     },
     "metadata": {},
     "output_type": "display_data"
    },
    {
     "data": {
      "text/html": [
       "Find logs at: <code>./wandb/run-20240317_050127-enx03vs1/logs</code>"
      ],
      "text/plain": [
       "<IPython.core.display.HTML object>"
      ]
     },
     "metadata": {},
     "output_type": "display_data"
    },
    {
     "name": "stderr",
     "output_type": "stream",
     "text": [
      "\u001b[34m\u001b[1mwandb\u001b[0m: Agent Starting Run: okm8ce92 with config:\n",
      "\u001b[34m\u001b[1mwandb\u001b[0m: \tactivation: relu\n",
      "\u001b[34m\u001b[1mwandb\u001b[0m: \tbatch_size: 32\n",
      "\u001b[34m\u001b[1mwandb\u001b[0m: \tepochs: 5\n",
      "\u001b[34m\u001b[1mwandb\u001b[0m: \thidden_layers: 3\n",
      "\u001b[34m\u001b[1mwandb\u001b[0m: \thidden_size: 128\n",
      "\u001b[34m\u001b[1mwandb\u001b[0m: \tloss: cross_entropy\n",
      "\u001b[34m\u001b[1mwandb\u001b[0m: \tlr: 0.0001\n",
      "\u001b[34m\u001b[1mwandb\u001b[0m: \toptimizer: nadam\n",
      "\u001b[34m\u001b[1mwandb\u001b[0m: \tw_init: glorot\n",
      "\u001b[34m\u001b[1mwandb\u001b[0m: \tweight_decay: 0\n"
     ]
    },
    {
     "data": {
      "text/html": [
       "Tracking run with wandb version 0.16.4"
      ],
      "text/plain": [
       "<IPython.core.display.HTML object>"
      ]
     },
     "metadata": {},
     "output_type": "display_data"
    },
    {
     "data": {
      "text/html": [
       "Run data is saved locally in <code>/Users/sumanta/Desktop/Numpy project/cross_entropy_lesspasses/wandb/run-20240317_050204-okm8ce92</code>"
      ],
      "text/plain": [
       "<IPython.core.display.HTML object>"
      ]
     },
     "metadata": {},
     "output_type": "display_data"
    },
    {
     "data": {
      "text/html": [
       "Syncing run <strong><a href='https://wandb.ai/sumanta_roy/CS6910_assignment_1/runs/okm8ce92' target=\"_blank\">helpful-sweep-10</a></strong> to <a href='https://wandb.ai/sumanta_roy/CS6910_assignment_1' target=\"_blank\">Weights & Biases</a> (<a href='https://wandb.me/run' target=\"_blank\">docs</a>)<br/>Sweep page: <a href='https://wandb.ai/sumanta_roy/CS6910_assignment_1/sweeps/ff8houdp' target=\"_blank\">https://wandb.ai/sumanta_roy/CS6910_assignment_1/sweeps/ff8houdp</a>"
      ],
      "text/plain": [
       "<IPython.core.display.HTML object>"
      ]
     },
     "metadata": {},
     "output_type": "display_data"
    },
    {
     "data": {
      "text/html": [
       " View project at <a href='https://wandb.ai/sumanta_roy/CS6910_assignment_1' target=\"_blank\">https://wandb.ai/sumanta_roy/CS6910_assignment_1</a>"
      ],
      "text/plain": [
       "<IPython.core.display.HTML object>"
      ]
     },
     "metadata": {},
     "output_type": "display_data"
    },
    {
     "data": {
      "text/html": [
       " View sweep at <a href='https://wandb.ai/sumanta_roy/CS6910_assignment_1/sweeps/ff8houdp' target=\"_blank\">https://wandb.ai/sumanta_roy/CS6910_assignment_1/sweeps/ff8houdp</a>"
      ],
      "text/plain": [
       "<IPython.core.display.HTML object>"
      ]
     },
     "metadata": {},
     "output_type": "display_data"
    },
    {
     "data": {
      "text/html": [
       " View run at <a href='https://wandb.ai/sumanta_roy/CS6910_assignment_1/runs/okm8ce92' target=\"_blank\">https://wandb.ai/sumanta_roy/CS6910_assignment_1/runs/okm8ce92</a>"
      ],
      "text/plain": [
       "<IPython.core.display.HTML object>"
      ]
     },
     "metadata": {},
     "output_type": "display_data"
    },
    {
     "name": "stdout",
     "output_type": "stream",
     "text": [
      "Epoch: 1/5; Train Loss: 0.09507943843557617; Val Loss: 0.08781296811716718\n",
      "Epoch: 2/5; Train Loss: 0.07328338827635751; Val Loss: 0.07168298459820778\n",
      "Epoch: 3/5; Train Loss: 0.06365552191808481; Val Loss: 0.06420069493252846\n",
      "Epoch: 4/5; Train Loss: 0.058540128024696325; Val Loss: 0.05956089979545658\n",
      "Epoch: 5/5; Train Loss: 0.05527035862813884; Val Loss: 0.05630974266968284\n"
     ]
    },
    {
     "data": {
      "application/vnd.jupyter.widget-view+json": {
       "model_id": "",
       "version_major": 2,
       "version_minor": 0
      },
      "text/plain": [
       "VBox(children=(Label(value='0.001 MB of 0.001 MB uploaded\\r'), FloatProgress(value=1.0, max=1.0)))"
      ]
     },
     "metadata": {},
     "output_type": "display_data"
    },
    {
     "data": {
      "text/html": [
       "<style>\n",
       "    table.wandb td:nth-child(1) { padding: 0 10px; text-align: left ; width: auto;} td:nth-child(2) {text-align: left ; width: 100%}\n",
       "    .wandb-row { display: flex; flex-direction: row; flex-wrap: wrap; justify-content: flex-start; width: 100% }\n",
       "    .wandb-col { display: flex; flex-direction: column; flex-basis: 100%; flex: 1; padding: 10px; }\n",
       "    </style>\n",
       "<div class=\"wandb-row\"><div class=\"wandb-col\"><h3>Run history:</h3><br/><table class=\"wandb\"><tr><td>epoch</td><td>▁▁▁▁▁▁▁▁▃▃▃▃▃▃▃▃▅▅▅▅▅▅▅▅▆▆▆▆▆▆▆▆████████</td></tr><tr><td>train_accuracy</td><td>▁▃▇▆▁▅▆▄▄▇▇▅▃▇▃▅▅▃▆▅▅▅▅▇▅▇▅▄▇▆▅▇▆▇▃▇▅▇▆█</td></tr><tr><td>train_loss</td><td>█▆▅▄▅▄▃▃▄▂▃▃▄▂▃▃▃▄▂▃▂▃▃▂▃▂▃▂▂▂▂▁▂▁▄▂▂▂▂▁</td></tr><tr><td>val_accuracy</td><td>▁▃▅▅▅▅▆▆▆▆▆▇▇▇▇▇▇▇▇▇▇▇▇█████████████████</td></tr><tr><td>validation_loss</td><td>█▆▅▄▄▃▃▃▂▂▂▂▂▂▂▂▂▂▂▂▂▁▁▁▁▁▁▁▁▁▁▁▁▁▁▁▁▁▁▁</td></tr></table><br/></div><div class=\"wandb-col\"><h3>Run summary:</h3><br/><table class=\"wandb\"><tr><td>epoch</td><td>5</td></tr><tr><td>train_accuracy</td><td>75.0</td></tr><tr><td>train_loss</td><td>0.05527</td></tr><tr><td>val_accuracy</td><td>81.56667</td></tr><tr><td>validation_loss</td><td>0.05631</td></tr></table><br/></div></div>"
      ],
      "text/plain": [
       "<IPython.core.display.HTML object>"
      ]
     },
     "metadata": {},
     "output_type": "display_data"
    },
    {
     "data": {
      "text/html": [
       " View run <strong style=\"color:#cdcd00\">helpful-sweep-10</strong> at: <a href='https://wandb.ai/sumanta_roy/CS6910_assignment_1/runs/okm8ce92' target=\"_blank\">https://wandb.ai/sumanta_roy/CS6910_assignment_1/runs/okm8ce92</a><br/>Synced 6 W&B file(s), 0 media file(s), 0 artifact file(s) and 0 other file(s)"
      ],
      "text/plain": [
       "<IPython.core.display.HTML object>"
      ]
     },
     "metadata": {},
     "output_type": "display_data"
    },
    {
     "data": {
      "text/html": [
       "Find logs at: <code>./wandb/run-20240317_050204-okm8ce92/logs</code>"
      ],
      "text/plain": [
       "<IPython.core.display.HTML object>"
      ]
     },
     "metadata": {},
     "output_type": "display_data"
    },
    {
     "name": "stderr",
     "output_type": "stream",
     "text": [
      "\u001b[34m\u001b[1mwandb\u001b[0m: Agent Starting Run: eixa9km4 with config:\n",
      "\u001b[34m\u001b[1mwandb\u001b[0m: \tactivation: relu\n",
      "\u001b[34m\u001b[1mwandb\u001b[0m: \tbatch_size: 32\n",
      "\u001b[34m\u001b[1mwandb\u001b[0m: \tepochs: 10\n",
      "\u001b[34m\u001b[1mwandb\u001b[0m: \thidden_layers: 5\n",
      "\u001b[34m\u001b[1mwandb\u001b[0m: \thidden_size: 64\n",
      "\u001b[34m\u001b[1mwandb\u001b[0m: \tloss: cross_entropy\n",
      "\u001b[34m\u001b[1mwandb\u001b[0m: \tlr: 0.001\n",
      "\u001b[34m\u001b[1mwandb\u001b[0m: \toptimizer: momentum\n",
      "\u001b[34m\u001b[1mwandb\u001b[0m: \tw_init: random\n",
      "\u001b[34m\u001b[1mwandb\u001b[0m: \tweight_decay: 0.0005\n"
     ]
    },
    {
     "data": {
      "text/html": [
       "Tracking run with wandb version 0.16.4"
      ],
      "text/plain": [
       "<IPython.core.display.HTML object>"
      ]
     },
     "metadata": {},
     "output_type": "display_data"
    },
    {
     "data": {
      "text/html": [
       "Run data is saved locally in <code>/Users/sumanta/Desktop/Numpy project/cross_entropy_lesspasses/wandb/run-20240317_050313-eixa9km4</code>"
      ],
      "text/plain": [
       "<IPython.core.display.HTML object>"
      ]
     },
     "metadata": {},
     "output_type": "display_data"
    },
    {
     "data": {
      "text/html": [
       "Syncing run <strong><a href='https://wandb.ai/sumanta_roy/CS6910_assignment_1/runs/eixa9km4' target=\"_blank\">stellar-sweep-11</a></strong> to <a href='https://wandb.ai/sumanta_roy/CS6910_assignment_1' target=\"_blank\">Weights & Biases</a> (<a href='https://wandb.me/run' target=\"_blank\">docs</a>)<br/>Sweep page: <a href='https://wandb.ai/sumanta_roy/CS6910_assignment_1/sweeps/ff8houdp' target=\"_blank\">https://wandb.ai/sumanta_roy/CS6910_assignment_1/sweeps/ff8houdp</a>"
      ],
      "text/plain": [
       "<IPython.core.display.HTML object>"
      ]
     },
     "metadata": {},
     "output_type": "display_data"
    },
    {
     "data": {
      "text/html": [
       " View project at <a href='https://wandb.ai/sumanta_roy/CS6910_assignment_1' target=\"_blank\">https://wandb.ai/sumanta_roy/CS6910_assignment_1</a>"
      ],
      "text/plain": [
       "<IPython.core.display.HTML object>"
      ]
     },
     "metadata": {},
     "output_type": "display_data"
    },
    {
     "data": {
      "text/html": [
       " View sweep at <a href='https://wandb.ai/sumanta_roy/CS6910_assignment_1/sweeps/ff8houdp' target=\"_blank\">https://wandb.ai/sumanta_roy/CS6910_assignment_1/sweeps/ff8houdp</a>"
      ],
      "text/plain": [
       "<IPython.core.display.HTML object>"
      ]
     },
     "metadata": {},
     "output_type": "display_data"
    },
    {
     "data": {
      "text/html": [
       " View run at <a href='https://wandb.ai/sumanta_roy/CS6910_assignment_1/runs/eixa9km4' target=\"_blank\">https://wandb.ai/sumanta_roy/CS6910_assignment_1/runs/eixa9km4</a>"
      ],
      "text/plain": [
       "<IPython.core.display.HTML object>"
      ]
     },
     "metadata": {},
     "output_type": "display_data"
    },
    {
     "name": "stdout",
     "output_type": "stream",
     "text": [
      "Epoch: 1/10; Train Loss: 0.10127741669411608; Val Loss: 0.06345153301371657\n",
      "Epoch: 2/10; Train Loss: 0.1010470895054481; Val Loss: 0.05645213280747793\n",
      "Epoch: 3/10; Train Loss: 0.09558047889907251; Val Loss: 0.05172437361163384\n",
      "Epoch: 4/10; Train Loss: 0.09506652160624149; Val Loss: 0.05013125223159718\n",
      "Epoch: 5/10; Train Loss: 0.09543253981929878; Val Loss: 0.04849575370294924\n",
      "Epoch: 6/10; Train Loss: 0.09361212410390293; Val Loss: 0.04709175149864799\n",
      "Epoch: 7/10; Train Loss: 0.09190751743837958; Val Loss: 0.04631079956990217\n",
      "Epoch: 8/10; Train Loss: 0.09361409463567832; Val Loss: 0.045486656363694616\n",
      "Epoch: 9/10; Train Loss: 0.09236994642593983; Val Loss: 0.04461578112985094\n",
      "Epoch: 10/10; Train Loss: 0.09299196153293035; Val Loss: 0.04391534159493221\n"
     ]
    },
    {
     "data": {
      "application/vnd.jupyter.widget-view+json": {
       "model_id": "",
       "version_major": 2,
       "version_minor": 0
      },
      "text/plain": [
       "VBox(children=(Label(value='0.001 MB of 0.027 MB uploaded\\r'), FloatProgress(value=0.027345825510963127, max=1…"
      ]
     },
     "metadata": {},
     "output_type": "display_data"
    },
    {
     "data": {
      "text/html": [
       "<style>\n",
       "    table.wandb td:nth-child(1) { padding: 0 10px; text-align: left ; width: auto;} td:nth-child(2) {text-align: left ; width: 100%}\n",
       "    .wandb-row { display: flex; flex-direction: row; flex-wrap: wrap; justify-content: flex-start; width: 100% }\n",
       "    .wandb-col { display: flex; flex-direction: column; flex-basis: 100%; flex: 1; padding: 10px; }\n",
       "    </style>\n",
       "<div class=\"wandb-row\"><div class=\"wandb-col\"><h3>Run history:</h3><br/><table class=\"wandb\"><tr><td>epoch</td><td>▁▁▁▁▂▂▂▂▃▃▃▃▃▃▃▃▄▄▄▄▅▅▅▅▆▆▆▆▆▆▆▆▇▇▇▇████</td></tr><tr><td>train_accuracy</td><td>▁▄▅▇▃▇▅▆▃▂▅▇▅▇▅▅▆▃▆▄▇▅▅▇▅▅▃▇▆▇▆▇▇▆▇▅█▆█▇</td></tr><tr><td>train_loss</td><td>▆█▄▂▄▂▅▃▄▅▃▃▃▂▂▄▃▇▃▄▂▅▂▂▄▃▅▃▂▁▃▃▂▂▃▃▁▃▁▂</td></tr><tr><td>val_accuracy</td><td>▁▄▅▆▆▆▆▆▇▇▇▆▇▇▇▇▇▇▇▇▇█▇█▇▇██████████████</td></tr><tr><td>validation_loss</td><td>█▅▄▃▃▃▃▂▂▂▂▂▂▂▂▂▂▂▂▂▁▁▁▁▂▂▁▁▁▁▁▁▁▁▁▁▁▁▁▁</td></tr></table><br/></div><div class=\"wandb-col\"><h3>Run summary:</h3><br/><table class=\"wandb\"><tr><td>epoch</td><td>10</td></tr><tr><td>train_accuracy</td><td>90.625</td></tr><tr><td>train_loss</td><td>0.09299</td></tr><tr><td>val_accuracy</td><td>84.41667</td></tr><tr><td>validation_loss</td><td>0.04392</td></tr></table><br/></div></div>"
      ],
      "text/plain": [
       "<IPython.core.display.HTML object>"
      ]
     },
     "metadata": {},
     "output_type": "display_data"
    },
    {
     "data": {
      "text/html": [
       " View run <strong style=\"color:#cdcd00\">stellar-sweep-11</strong> at: <a href='https://wandb.ai/sumanta_roy/CS6910_assignment_1/runs/eixa9km4' target=\"_blank\">https://wandb.ai/sumanta_roy/CS6910_assignment_1/runs/eixa9km4</a><br/>Synced 6 W&B file(s), 0 media file(s), 0 artifact file(s) and 0 other file(s)"
      ],
      "text/plain": [
       "<IPython.core.display.HTML object>"
      ]
     },
     "metadata": {},
     "output_type": "display_data"
    },
    {
     "data": {
      "text/html": [
       "Find logs at: <code>./wandb/run-20240317_050313-eixa9km4/logs</code>"
      ],
      "text/plain": [
       "<IPython.core.display.HTML object>"
      ]
     },
     "metadata": {},
     "output_type": "display_data"
    },
    {
     "name": "stderr",
     "output_type": "stream",
     "text": [
      "\u001b[34m\u001b[1mwandb\u001b[0m: Agent Starting Run: 6yqqinbe with config:\n",
      "\u001b[34m\u001b[1mwandb\u001b[0m: \tactivation: sigmoid\n",
      "\u001b[34m\u001b[1mwandb\u001b[0m: \tbatch_size: 16\n",
      "\u001b[34m\u001b[1mwandb\u001b[0m: \tepochs: 5\n",
      "\u001b[34m\u001b[1mwandb\u001b[0m: \thidden_layers: 3\n",
      "\u001b[34m\u001b[1mwandb\u001b[0m: \thidden_size: 128\n",
      "\u001b[34m\u001b[1mwandb\u001b[0m: \tloss: cross_entropy\n",
      "\u001b[34m\u001b[1mwandb\u001b[0m: \tlr: 0.0001\n",
      "\u001b[34m\u001b[1mwandb\u001b[0m: \toptimizer: rmsprop\n",
      "\u001b[34m\u001b[1mwandb\u001b[0m: \tw_init: glorot\n",
      "\u001b[34m\u001b[1mwandb\u001b[0m: \tweight_decay: 0.0005\n"
     ]
    },
    {
     "data": {
      "text/html": [
       "Tracking run with wandb version 0.16.4"
      ],
      "text/plain": [
       "<IPython.core.display.HTML object>"
      ]
     },
     "metadata": {},
     "output_type": "display_data"
    },
    {
     "data": {
      "text/html": [
       "Run data is saved locally in <code>/Users/sumanta/Desktop/Numpy project/cross_entropy_lesspasses/wandb/run-20240317_050412-6yqqinbe</code>"
      ],
      "text/plain": [
       "<IPython.core.display.HTML object>"
      ]
     },
     "metadata": {},
     "output_type": "display_data"
    },
    {
     "data": {
      "text/html": [
       "Syncing run <strong><a href='https://wandb.ai/sumanta_roy/CS6910_assignment_1/runs/6yqqinbe' target=\"_blank\">vibrant-sweep-12</a></strong> to <a href='https://wandb.ai/sumanta_roy/CS6910_assignment_1' target=\"_blank\">Weights & Biases</a> (<a href='https://wandb.me/run' target=\"_blank\">docs</a>)<br/>Sweep page: <a href='https://wandb.ai/sumanta_roy/CS6910_assignment_1/sweeps/ff8houdp' target=\"_blank\">https://wandb.ai/sumanta_roy/CS6910_assignment_1/sweeps/ff8houdp</a>"
      ],
      "text/plain": [
       "<IPython.core.display.HTML object>"
      ]
     },
     "metadata": {},
     "output_type": "display_data"
    },
    {
     "data": {
      "text/html": [
       " View project at <a href='https://wandb.ai/sumanta_roy/CS6910_assignment_1' target=\"_blank\">https://wandb.ai/sumanta_roy/CS6910_assignment_1</a>"
      ],
      "text/plain": [
       "<IPython.core.display.HTML object>"
      ]
     },
     "metadata": {},
     "output_type": "display_data"
    },
    {
     "data": {
      "text/html": [
       " View sweep at <a href='https://wandb.ai/sumanta_roy/CS6910_assignment_1/sweeps/ff8houdp' target=\"_blank\">https://wandb.ai/sumanta_roy/CS6910_assignment_1/sweeps/ff8houdp</a>"
      ],
      "text/plain": [
       "<IPython.core.display.HTML object>"
      ]
     },
     "metadata": {},
     "output_type": "display_data"
    },
    {
     "data": {
      "text/html": [
       " View run at <a href='https://wandb.ai/sumanta_roy/CS6910_assignment_1/runs/6yqqinbe' target=\"_blank\">https://wandb.ai/sumanta_roy/CS6910_assignment_1/runs/6yqqinbe</a>"
      ],
      "text/plain": [
       "<IPython.core.display.HTML object>"
      ]
     },
     "metadata": {},
     "output_type": "display_data"
    },
    {
     "name": "stdout",
     "output_type": "stream",
     "text": [
      "Epoch: 1/5; Train Loss: 0.2259666024507705; Val Loss: 0.21646581656923825\n",
      "Epoch: 2/5; Train Loss: 0.15781754259268765; Val Loss: 0.15086381188814116\n",
      "Epoch: 3/5; Train Loss: 0.11456355416785977; Val Loss: 0.11653016922049532\n",
      "Epoch: 4/5; Train Loss: 0.09356015211563434; Val Loss: 0.10034984916646587\n",
      "Epoch: 5/5; Train Loss: 0.07700624845973196; Val Loss: 0.0894179466017414\n"
     ]
    },
    {
     "data": {
      "application/vnd.jupyter.widget-view+json": {
       "model_id": "",
       "version_major": 2,
       "version_minor": 0
      },
      "text/plain": [
       "VBox(children=(Label(value='0.001 MB of 0.001 MB uploaded\\r'), FloatProgress(value=1.0, max=1.0)))"
      ]
     },
     "metadata": {},
     "output_type": "display_data"
    },
    {
     "data": {
      "text/html": [
       "<style>\n",
       "    table.wandb td:nth-child(1) { padding: 0 10px; text-align: left ; width: auto;} td:nth-child(2) {text-align: left ; width: 100%}\n",
       "    .wandb-row { display: flex; flex-direction: row; flex-wrap: wrap; justify-content: flex-start; width: 100% }\n",
       "    .wandb-col { display: flex; flex-direction: column; flex-basis: 100%; flex: 1; padding: 10px; }\n",
       "    </style>\n",
       "<div class=\"wandb-row\"><div class=\"wandb-col\"><h3>Run history:</h3><br/><table class=\"wandb\"><tr><td>epoch</td><td>▁▁▁▁▁▁▁▁▃▃▃▃▃▃▃▃▅▅▅▅▅▅▅▅▆▆▆▆▆▆▆▆████████</td></tr><tr><td>train_accuracy</td><td>▁▃▃▁▂▃▄▃▅▅▄▅▄▅▅▅▆▅▇▅▅▅▅▅▇▅▆▆▅▇▅▅▇▇▄▅█▅▅▇</td></tr><tr><td>train_loss</td><td>██████▇▇▇▇▇▆▆▅▅▄▄▄▃▃▃▃▃▄▃▃▃▃▃▃▂▂▂▁▃▂▁▃▂▂</td></tr><tr><td>val_accuracy</td><td>▁▁▂▁▄▃▃▅▄▄▄▄▆▅▆▆▆▆▇▆▇▇▇▇▇▇▇▇▇▇▇▇▇▇█▇████</td></tr><tr><td>validation_loss</td><td>███████▇▇▇▆▆▅▅▅▄▄▄▃▃▃▃▃▂▂▂▂▂▂▂▂▂▁▁▁▁▁▁▁▁</td></tr></table><br/></div><div class=\"wandb-col\"><h3>Run summary:</h3><br/><table class=\"wandb\"><tr><td>epoch</td><td>5</td></tr><tr><td>train_accuracy</td><td>81.25</td></tr><tr><td>train_loss</td><td>0.07701</td></tr><tr><td>val_accuracy</td><td>66.4</td></tr><tr><td>validation_loss</td><td>0.08942</td></tr></table><br/></div></div>"
      ],
      "text/plain": [
       "<IPython.core.display.HTML object>"
      ]
     },
     "metadata": {},
     "output_type": "display_data"
    },
    {
     "data": {
      "text/html": [
       " View run <strong style=\"color:#cdcd00\">vibrant-sweep-12</strong> at: <a href='https://wandb.ai/sumanta_roy/CS6910_assignment_1/runs/6yqqinbe' target=\"_blank\">https://wandb.ai/sumanta_roy/CS6910_assignment_1/runs/6yqqinbe</a><br/>Synced 6 W&B file(s), 0 media file(s), 0 artifact file(s) and 0 other file(s)"
      ],
      "text/plain": [
       "<IPython.core.display.HTML object>"
      ]
     },
     "metadata": {},
     "output_type": "display_data"
    },
    {
     "data": {
      "text/html": [
       "Find logs at: <code>./wandb/run-20240317_050412-6yqqinbe/logs</code>"
      ],
      "text/plain": [
       "<IPython.core.display.HTML object>"
      ]
     },
     "metadata": {},
     "output_type": "display_data"
    },
    {
     "name": "stderr",
     "output_type": "stream",
     "text": [
      "\u001b[34m\u001b[1mwandb\u001b[0m: Agent Starting Run: 5xzalfjx with config:\n",
      "\u001b[34m\u001b[1mwandb\u001b[0m: \tactivation: relu\n",
      "\u001b[34m\u001b[1mwandb\u001b[0m: \tbatch_size: 32\n",
      "\u001b[34m\u001b[1mwandb\u001b[0m: \tepochs: 5\n",
      "\u001b[34m\u001b[1mwandb\u001b[0m: \thidden_layers: 5\n",
      "\u001b[34m\u001b[1mwandb\u001b[0m: \thidden_size: 64\n",
      "\u001b[34m\u001b[1mwandb\u001b[0m: \tloss: cross_entropy\n",
      "\u001b[34m\u001b[1mwandb\u001b[0m: \tlr: 0.001\n",
      "\u001b[34m\u001b[1mwandb\u001b[0m: \toptimizer: nesterov\n",
      "\u001b[34m\u001b[1mwandb\u001b[0m: \tw_init: glorot\n",
      "\u001b[34m\u001b[1mwandb\u001b[0m: \tweight_decay: 0.5\n"
     ]
    },
    {
     "data": {
      "text/html": [
       "Tracking run with wandb version 0.16.4"
      ],
      "text/plain": [
       "<IPython.core.display.HTML object>"
      ]
     },
     "metadata": {},
     "output_type": "display_data"
    },
    {
     "data": {
      "text/html": [
       "Run data is saved locally in <code>/Users/sumanta/Desktop/Numpy project/cross_entropy_lesspasses/wandb/run-20240317_050547-5xzalfjx</code>"
      ],
      "text/plain": [
       "<IPython.core.display.HTML object>"
      ]
     },
     "metadata": {},
     "output_type": "display_data"
    },
    {
     "data": {
      "text/html": [
       "Syncing run <strong><a href='https://wandb.ai/sumanta_roy/CS6910_assignment_1/runs/5xzalfjx' target=\"_blank\">legendary-sweep-13</a></strong> to <a href='https://wandb.ai/sumanta_roy/CS6910_assignment_1' target=\"_blank\">Weights & Biases</a> (<a href='https://wandb.me/run' target=\"_blank\">docs</a>)<br/>Sweep page: <a href='https://wandb.ai/sumanta_roy/CS6910_assignment_1/sweeps/ff8houdp' target=\"_blank\">https://wandb.ai/sumanta_roy/CS6910_assignment_1/sweeps/ff8houdp</a>"
      ],
      "text/plain": [
       "<IPython.core.display.HTML object>"
      ]
     },
     "metadata": {},
     "output_type": "display_data"
    },
    {
     "data": {
      "text/html": [
       " View project at <a href='https://wandb.ai/sumanta_roy/CS6910_assignment_1' target=\"_blank\">https://wandb.ai/sumanta_roy/CS6910_assignment_1</a>"
      ],
      "text/plain": [
       "<IPython.core.display.HTML object>"
      ]
     },
     "metadata": {},
     "output_type": "display_data"
    },
    {
     "data": {
      "text/html": [
       " View sweep at <a href='https://wandb.ai/sumanta_roy/CS6910_assignment_1/sweeps/ff8houdp' target=\"_blank\">https://wandb.ai/sumanta_roy/CS6910_assignment_1/sweeps/ff8houdp</a>"
      ],
      "text/plain": [
       "<IPython.core.display.HTML object>"
      ]
     },
     "metadata": {},
     "output_type": "display_data"
    },
    {
     "data": {
      "text/html": [
       " View run at <a href='https://wandb.ai/sumanta_roy/CS6910_assignment_1/runs/5xzalfjx' target=\"_blank\">https://wandb.ai/sumanta_roy/CS6910_assignment_1/runs/5xzalfjx</a>"
      ],
      "text/plain": [
       "<IPython.core.display.HTML object>"
      ]
     },
     "metadata": {},
     "output_type": "display_data"
    },
    {
     "name": "stdout",
     "output_type": "stream",
     "text": [
      "Epoch: 1/5; Train Loss: 2.082235865071002; Val Loss: 0.07466658343976694\n",
      "Epoch: 2/5; Train Loss: 1.4063383342599054; Val Loss: 0.06278920414167852\n",
      "Epoch: 3/5; Train Loss: 1.0079499343359788; Val Loss: 0.05794511721123532\n",
      "Epoch: 4/5; Train Loss: 0.7726380433569316; Val Loss: 0.055362817344684234\n",
      "Epoch: 5/5; Train Loss: 0.6337935612482384; Val Loss: 0.053677189534566835\n"
     ]
    },
    {
     "data": {
      "application/vnd.jupyter.widget-view+json": {
       "model_id": "",
       "version_major": 2,
       "version_minor": 0
      },
      "text/plain": [
       "VBox(children=(Label(value='0.001 MB of 0.001 MB uploaded\\r'), FloatProgress(value=1.0, max=1.0)))"
      ]
     },
     "metadata": {},
     "output_type": "display_data"
    },
    {
     "data": {
      "text/html": [
       "<style>\n",
       "    table.wandb td:nth-child(1) { padding: 0 10px; text-align: left ; width: auto;} td:nth-child(2) {text-align: left ; width: 100%}\n",
       "    .wandb-row { display: flex; flex-direction: row; flex-wrap: wrap; justify-content: flex-start; width: 100% }\n",
       "    .wandb-col { display: flex; flex-direction: column; flex-basis: 100%; flex: 1; padding: 10px; }\n",
       "    </style>\n",
       "<div class=\"wandb-row\"><div class=\"wandb-col\"><h3>Run history:</h3><br/><table class=\"wandb\"><tr><td>epoch</td><td>▁▁▁▁▁▁▁▁▃▃▃▃▃▃▃▃▅▅▅▅▅▅▅▅▆▆▆▆▆▆▆▆████████</td></tr><tr><td>train_accuracy</td><td>▁▂▅▆▅▆▇▆▆▇▇▇▅█▆▆▆▅▆▇▇▇▇▇▆▇▆▆█▆▆█▇▇▆▇▆▇▇█</td></tr><tr><td>train_loss</td><td>██▇▇▆▆▅▅▅▄▄▄▄▄▃▃▃▃▃▃▂▂▂▂▂▂▂▂▂▂▂▁▁▁▁▁▁▁▁▁</td></tr><tr><td>val_accuracy</td><td>▁▄▆▆▇▇▇▇▇███████████████████████████████</td></tr><tr><td>validation_loss</td><td>█▆▄▃▂▂▂▂▂▂▂▁▂▁▁▁▁▁▁▁▁▁▁▁▁▁▁▁▁▁▁▁▁▁▁▁▁▁▁▁</td></tr></table><br/></div><div class=\"wandb-col\"><h3>Run summary:</h3><br/><table class=\"wandb\"><tr><td>epoch</td><td>5</td></tr><tr><td>train_accuracy</td><td>81.25</td></tr><tr><td>train_loss</td><td>0.63379</td></tr><tr><td>val_accuracy</td><td>82.66667</td></tr><tr><td>validation_loss</td><td>0.05368</td></tr></table><br/></div></div>"
      ],
      "text/plain": [
       "<IPython.core.display.HTML object>"
      ]
     },
     "metadata": {},
     "output_type": "display_data"
    },
    {
     "data": {
      "text/html": [
       " View run <strong style=\"color:#cdcd00\">legendary-sweep-13</strong> at: <a href='https://wandb.ai/sumanta_roy/CS6910_assignment_1/runs/5xzalfjx' target=\"_blank\">https://wandb.ai/sumanta_roy/CS6910_assignment_1/runs/5xzalfjx</a><br/>Synced 6 W&B file(s), 0 media file(s), 0 artifact file(s) and 0 other file(s)"
      ],
      "text/plain": [
       "<IPython.core.display.HTML object>"
      ]
     },
     "metadata": {},
     "output_type": "display_data"
    },
    {
     "data": {
      "text/html": [
       "Find logs at: <code>./wandb/run-20240317_050547-5xzalfjx/logs</code>"
      ],
      "text/plain": [
       "<IPython.core.display.HTML object>"
      ]
     },
     "metadata": {},
     "output_type": "display_data"
    },
    {
     "name": "stderr",
     "output_type": "stream",
     "text": [
      "\u001b[34m\u001b[1mwandb\u001b[0m: Agent Starting Run: 1wo672t7 with config:\n",
      "\u001b[34m\u001b[1mwandb\u001b[0m: \tactivation: relu\n",
      "\u001b[34m\u001b[1mwandb\u001b[0m: \tbatch_size: 64\n",
      "\u001b[34m\u001b[1mwandb\u001b[0m: \tepochs: 5\n",
      "\u001b[34m\u001b[1mwandb\u001b[0m: \thidden_layers: 4\n",
      "\u001b[34m\u001b[1mwandb\u001b[0m: \thidden_size: 128\n",
      "\u001b[34m\u001b[1mwandb\u001b[0m: \tloss: cross_entropy\n",
      "\u001b[34m\u001b[1mwandb\u001b[0m: \tlr: 0.001\n",
      "\u001b[34m\u001b[1mwandb\u001b[0m: \toptimizer: rmsprop\n",
      "\u001b[34m\u001b[1mwandb\u001b[0m: \tw_init: glorot\n",
      "\u001b[34m\u001b[1mwandb\u001b[0m: \tweight_decay: 0.5\n"
     ]
    },
    {
     "data": {
      "text/html": [
       "Tracking run with wandb version 0.16.4"
      ],
      "text/plain": [
       "<IPython.core.display.HTML object>"
      ]
     },
     "metadata": {},
     "output_type": "display_data"
    },
    {
     "data": {
      "text/html": [
       "Run data is saved locally in <code>/Users/sumanta/Desktop/Numpy project/cross_entropy_lesspasses/wandb/run-20240317_050629-1wo672t7</code>"
      ],
      "text/plain": [
       "<IPython.core.display.HTML object>"
      ]
     },
     "metadata": {},
     "output_type": "display_data"
    },
    {
     "data": {
      "text/html": [
       "Syncing run <strong><a href='https://wandb.ai/sumanta_roy/CS6910_assignment_1/runs/1wo672t7' target=\"_blank\">hardy-sweep-14</a></strong> to <a href='https://wandb.ai/sumanta_roy/CS6910_assignment_1' target=\"_blank\">Weights & Biases</a> (<a href='https://wandb.me/run' target=\"_blank\">docs</a>)<br/>Sweep page: <a href='https://wandb.ai/sumanta_roy/CS6910_assignment_1/sweeps/ff8houdp' target=\"_blank\">https://wandb.ai/sumanta_roy/CS6910_assignment_1/sweeps/ff8houdp</a>"
      ],
      "text/plain": [
       "<IPython.core.display.HTML object>"
      ]
     },
     "metadata": {},
     "output_type": "display_data"
    },
    {
     "data": {
      "text/html": [
       " View project at <a href='https://wandb.ai/sumanta_roy/CS6910_assignment_1' target=\"_blank\">https://wandb.ai/sumanta_roy/CS6910_assignment_1</a>"
      ],
      "text/plain": [
       "<IPython.core.display.HTML object>"
      ]
     },
     "metadata": {},
     "output_type": "display_data"
    },
    {
     "data": {
      "text/html": [
       " View sweep at <a href='https://wandb.ai/sumanta_roy/CS6910_assignment_1/sweeps/ff8houdp' target=\"_blank\">https://wandb.ai/sumanta_roy/CS6910_assignment_1/sweeps/ff8houdp</a>"
      ],
      "text/plain": [
       "<IPython.core.display.HTML object>"
      ]
     },
     "metadata": {},
     "output_type": "display_data"
    },
    {
     "data": {
      "text/html": [
       " View run at <a href='https://wandb.ai/sumanta_roy/CS6910_assignment_1/runs/1wo672t7' target=\"_blank\">https://wandb.ai/sumanta_roy/CS6910_assignment_1/runs/1wo672t7</a>"
      ],
      "text/plain": [
       "<IPython.core.display.HTML object>"
      ]
     },
     "metadata": {},
     "output_type": "display_data"
    },
    {
     "name": "stdout",
     "output_type": "stream",
     "text": [
      "Epoch: 1/5; Train Loss: 0.9987123571114058; Val Loss: 0.06064396974844461\n",
      "Epoch: 2/5; Train Loss: 0.5217658249499938; Val Loss: 0.05215194302434417\n",
      "Epoch: 3/5; Train Loss: 0.37734506744726165; Val Loss: 0.04951945273068462\n",
      "Epoch: 4/5; Train Loss: 0.33195142911861775; Val Loss: 0.047957630335556174\n",
      "Epoch: 5/5; Train Loss: 0.3165629083377761; Val Loss: 0.04691265705605245\n"
     ]
    },
    {
     "data": {
      "application/vnd.jupyter.widget-view+json": {
       "model_id": "",
       "version_major": 2,
       "version_minor": 0
      },
      "text/plain": [
       "VBox(children=(Label(value='0.001 MB of 0.001 MB uploaded\\r'), FloatProgress(value=1.0, max=1.0)))"
      ]
     },
     "metadata": {},
     "output_type": "display_data"
    },
    {
     "data": {
      "text/html": [
       "<style>\n",
       "    table.wandb td:nth-child(1) { padding: 0 10px; text-align: left ; width: auto;} td:nth-child(2) {text-align: left ; width: 100%}\n",
       "    .wandb-row { display: flex; flex-direction: row; flex-wrap: wrap; justify-content: flex-start; width: 100% }\n",
       "    .wandb-col { display: flex; flex-direction: column; flex-basis: 100%; flex: 1; padding: 10px; }\n",
       "    </style>\n",
       "<div class=\"wandb-row\"><div class=\"wandb-col\"><h3>Run history:</h3><br/><table class=\"wandb\"><tr><td>epoch</td><td>▁▁▁▁▁▁▁▁▃▃▃▃▃▃▃▃▅▅▅▅▅▅▅▅▆▆▆▆▆▆▆▆████████</td></tr><tr><td>train_accuracy</td><td>▁▇▇▅▇▇▇▅▅▅▅▇▇▇▄▇▇▅▇▇█▇▆█▆▇▇▆▇▆▆▄▇▇▇▆▇▇▇▆</td></tr><tr><td>train_loss</td><td>█▇▆▅▅▄▄▄▃▃▃▂▂▂▂▂▂▂▁▁▁▁▁▁▁▁▁▁▁▁▁▁▁▁▁▁▁▁▁▁</td></tr><tr><td>val_accuracy</td><td>▁▅▇▇▇▇▇▆▇▇▇▇██▇▇█▇██████▇████▇██▇████▇██</td></tr><tr><td>validation_loss</td><td>█▅▄▃▃▂▂▃▂▂▂▂▂▂▂▂▁▂▁▁▁▁▁▁▁▁▁▁▁▂▁▁▂▁▁▁▁▁▁▁</td></tr></table><br/></div><div class=\"wandb-col\"><h3>Run summary:</h3><br/><table class=\"wandb\"><tr><td>epoch</td><td>5</td></tr><tr><td>train_accuracy</td><td>82.8125</td></tr><tr><td>train_loss</td><td>0.31656</td></tr><tr><td>val_accuracy</td><td>84.13333</td></tr><tr><td>validation_loss</td><td>0.04691</td></tr></table><br/></div></div>"
      ],
      "text/plain": [
       "<IPython.core.display.HTML object>"
      ]
     },
     "metadata": {},
     "output_type": "display_data"
    },
    {
     "data": {
      "text/html": [
       " View run <strong style=\"color:#cdcd00\">hardy-sweep-14</strong> at: <a href='https://wandb.ai/sumanta_roy/CS6910_assignment_1/runs/1wo672t7' target=\"_blank\">https://wandb.ai/sumanta_roy/CS6910_assignment_1/runs/1wo672t7</a><br/>Synced 6 W&B file(s), 0 media file(s), 0 artifact file(s) and 0 other file(s)"
      ],
      "text/plain": [
       "<IPython.core.display.HTML object>"
      ]
     },
     "metadata": {},
     "output_type": "display_data"
    },
    {
     "data": {
      "text/html": [
       "Find logs at: <code>./wandb/run-20240317_050629-1wo672t7/logs</code>"
      ],
      "text/plain": [
       "<IPython.core.display.HTML object>"
      ]
     },
     "metadata": {},
     "output_type": "display_data"
    },
    {
     "name": "stderr",
     "output_type": "stream",
     "text": [
      "\u001b[34m\u001b[1mwandb\u001b[0m: Agent Starting Run: 9qcgixya with config:\n",
      "\u001b[34m\u001b[1mwandb\u001b[0m: \tactivation: tanh\n",
      "\u001b[34m\u001b[1mwandb\u001b[0m: \tbatch_size: 32\n",
      "\u001b[34m\u001b[1mwandb\u001b[0m: \tepochs: 10\n",
      "\u001b[34m\u001b[1mwandb\u001b[0m: \thidden_layers: 5\n",
      "\u001b[34m\u001b[1mwandb\u001b[0m: \thidden_size: 128\n",
      "\u001b[34m\u001b[1mwandb\u001b[0m: \tloss: cross_entropy\n",
      "\u001b[34m\u001b[1mwandb\u001b[0m: \tlr: 0.0001\n",
      "\u001b[34m\u001b[1mwandb\u001b[0m: \toptimizer: nesterov\n",
      "\u001b[34m\u001b[1mwandb\u001b[0m: \tw_init: random\n",
      "\u001b[34m\u001b[1mwandb\u001b[0m: \tweight_decay: 0.5\n"
     ]
    },
    {
     "data": {
      "text/html": [
       "Tracking run with wandb version 0.16.4"
      ],
      "text/plain": [
       "<IPython.core.display.HTML object>"
      ]
     },
     "metadata": {},
     "output_type": "display_data"
    },
    {
     "data": {
      "text/html": [
       "Run data is saved locally in <code>/Users/sumanta/Desktop/Numpy project/cross_entropy_lesspasses/wandb/run-20240317_050728-9qcgixya</code>"
      ],
      "text/plain": [
       "<IPython.core.display.HTML object>"
      ]
     },
     "metadata": {},
     "output_type": "display_data"
    },
    {
     "data": {
      "text/html": [
       "Syncing run <strong><a href='https://wandb.ai/sumanta_roy/CS6910_assignment_1/runs/9qcgixya' target=\"_blank\">devoted-sweep-15</a></strong> to <a href='https://wandb.ai/sumanta_roy/CS6910_assignment_1' target=\"_blank\">Weights & Biases</a> (<a href='https://wandb.me/run' target=\"_blank\">docs</a>)<br/>Sweep page: <a href='https://wandb.ai/sumanta_roy/CS6910_assignment_1/sweeps/ff8houdp' target=\"_blank\">https://wandb.ai/sumanta_roy/CS6910_assignment_1/sweeps/ff8houdp</a>"
      ],
      "text/plain": [
       "<IPython.core.display.HTML object>"
      ]
     },
     "metadata": {},
     "output_type": "display_data"
    },
    {
     "data": {
      "text/html": [
       " View project at <a href='https://wandb.ai/sumanta_roy/CS6910_assignment_1' target=\"_blank\">https://wandb.ai/sumanta_roy/CS6910_assignment_1</a>"
      ],
      "text/plain": [
       "<IPython.core.display.HTML object>"
      ]
     },
     "metadata": {},
     "output_type": "display_data"
    },
    {
     "data": {
      "text/html": [
       " View sweep at <a href='https://wandb.ai/sumanta_roy/CS6910_assignment_1/sweeps/ff8houdp' target=\"_blank\">https://wandb.ai/sumanta_roy/CS6910_assignment_1/sweeps/ff8houdp</a>"
      ],
      "text/plain": [
       "<IPython.core.display.HTML object>"
      ]
     },
     "metadata": {},
     "output_type": "display_data"
    },
    {
     "data": {
      "text/html": [
       " View run at <a href='https://wandb.ai/sumanta_roy/CS6910_assignment_1/runs/9qcgixya' target=\"_blank\">https://wandb.ai/sumanta_roy/CS6910_assignment_1/runs/9qcgixya</a>"
      ],
      "text/plain": [
       "<IPython.core.display.HTML object>"
      ]
     },
     "metadata": {},
     "output_type": "display_data"
    },
    {
     "name": "stdout",
     "output_type": "stream",
     "text": [
      "Epoch: 1/10; Train Loss: 103.40125869541673; Val Loss: 0.6648975586585623\n",
      "Epoch: 2/10; Train Loss: 98.04393306521185; Val Loss: 0.6125322330575736\n",
      "Epoch: 3/10; Train Loss: 92.98257220722716; Val Loss: 0.5752623018032018\n",
      "Epoch: 4/10; Train Loss: 88.1933182263124; Val Loss: 0.5433930962360934\n",
      "Epoch: 5/10; Train Loss: 83.65311489254199; Val Loss: 0.5147000614790467\n",
      "Epoch: 6/10; Train Loss: 79.34845934981836; Val Loss: 0.4883350276700885\n",
      "Epoch: 7/10; Train Loss: 75.26740437956693; Val Loss: 0.46387179248723487\n",
      "Epoch: 8/10; Train Loss: 71.3981962127126; Val Loss: 0.44102203531773837\n",
      "Epoch: 9/10; Train Loss: 67.72962269082048; Val Loss: 0.41958444708383946\n",
      "Epoch: 10/10; Train Loss: 64.2510277936815; Val Loss: 0.39941393683311077\n"
     ]
    },
    {
     "data": {
      "application/vnd.jupyter.widget-view+json": {
       "model_id": "",
       "version_major": 2,
       "version_minor": 0
      },
      "text/plain": [
       "VBox(children=(Label(value='0.001 MB of 0.027 MB uploaded\\r'), FloatProgress(value=0.027388512434810372, max=1…"
      ]
     },
     "metadata": {},
     "output_type": "display_data"
    },
    {
     "data": {
      "text/html": [
       "<style>\n",
       "    table.wandb td:nth-child(1) { padding: 0 10px; text-align: left ; width: auto;} td:nth-child(2) {text-align: left ; width: 100%}\n",
       "    .wandb-row { display: flex; flex-direction: row; flex-wrap: wrap; justify-content: flex-start; width: 100% }\n",
       "    .wandb-col { display: flex; flex-direction: column; flex-basis: 100%; flex: 1; padding: 10px; }\n",
       "    </style>\n",
       "<div class=\"wandb-row\"><div class=\"wandb-col\"><h3>Run history:</h3><br/><table class=\"wandb\"><tr><td>epoch</td><td>▁▁▁▁▂▂▂▂▃▃▃▃▃▃▃▃▄▄▄▄▅▅▅▅▆▆▆▆▆▆▆▆▇▇▇▇████</td></tr><tr><td>train_accuracy</td><td>▁▄▅▆▅▅▇▆▅▅▇▇▆▇▇▆▇▅▇▆▇▆█▇▇▇▅▇▇▇▇▇▇█▇▇▇▇█▇</td></tr><tr><td>train_loss</td><td>███▇▇▇▇▇▆▆▆▆▅▅▅▅▅▅▄▄▄▄▄▃▃▃▃▃▃▂▂▂▂▂▂▂▁▁▁▁</td></tr><tr><td>val_accuracy</td><td>▁▄▅▅▆▆▆▆▇▇▇▇▇▇▇▇▇▇▇▇▇▇██████████████████</td></tr><tr><td>validation_loss</td><td>█▆▅▅▅▅▄▄▄▄▄▄▄▃▃▃▃▃▃▃▃▃▂▂▂▂▂▂▂▂▂▂▂▁▁▁▁▁▁▁</td></tr></table><br/></div><div class=\"wandb-col\"><h3>Run summary:</h3><br/><table class=\"wandb\"><tr><td>epoch</td><td>10</td></tr><tr><td>train_accuracy</td><td>84.375</td></tr><tr><td>train_loss</td><td>64.25103</td></tr><tr><td>val_accuracy</td><td>79.25</td></tr><tr><td>validation_loss</td><td>0.39941</td></tr></table><br/></div></div>"
      ],
      "text/plain": [
       "<IPython.core.display.HTML object>"
      ]
     },
     "metadata": {},
     "output_type": "display_data"
    },
    {
     "data": {
      "text/html": [
       " View run <strong style=\"color:#cdcd00\">devoted-sweep-15</strong> at: <a href='https://wandb.ai/sumanta_roy/CS6910_assignment_1/runs/9qcgixya' target=\"_blank\">https://wandb.ai/sumanta_roy/CS6910_assignment_1/runs/9qcgixya</a><br/>Synced 6 W&B file(s), 0 media file(s), 0 artifact file(s) and 0 other file(s)"
      ],
      "text/plain": [
       "<IPython.core.display.HTML object>"
      ]
     },
     "metadata": {},
     "output_type": "display_data"
    },
    {
     "data": {
      "text/html": [
       "Find logs at: <code>./wandb/run-20240317_050728-9qcgixya/logs</code>"
      ],
      "text/plain": [
       "<IPython.core.display.HTML object>"
      ]
     },
     "metadata": {},
     "output_type": "display_data"
    },
    {
     "name": "stderr",
     "output_type": "stream",
     "text": [
      "\u001b[34m\u001b[1mwandb\u001b[0m: Agent Starting Run: ro5son33 with config:\n",
      "\u001b[34m\u001b[1mwandb\u001b[0m: \tactivation: tanh\n",
      "\u001b[34m\u001b[1mwandb\u001b[0m: \tbatch_size: 32\n",
      "\u001b[34m\u001b[1mwandb\u001b[0m: \tepochs: 5\n",
      "\u001b[34m\u001b[1mwandb\u001b[0m: \thidden_layers: 4\n",
      "\u001b[34m\u001b[1mwandb\u001b[0m: \thidden_size: 128\n",
      "\u001b[34m\u001b[1mwandb\u001b[0m: \tloss: cross_entropy\n",
      "\u001b[34m\u001b[1mwandb\u001b[0m: \tlr: 0.0001\n",
      "\u001b[34m\u001b[1mwandb\u001b[0m: \toptimizer: rmsprop\n",
      "\u001b[34m\u001b[1mwandb\u001b[0m: \tw_init: random\n",
      "\u001b[34m\u001b[1mwandb\u001b[0m: \tweight_decay: 0.5\n"
     ]
    },
    {
     "data": {
      "text/html": [
       "Tracking run with wandb version 0.16.4"
      ],
      "text/plain": [
       "<IPython.core.display.HTML object>"
      ]
     },
     "metadata": {},
     "output_type": "display_data"
    },
    {
     "data": {
      "text/html": [
       "Run data is saved locally in <code>/Users/sumanta/Desktop/Numpy project/cross_entropy_lesspasses/wandb/run-20240317_051006-ro5son33</code>"
      ],
      "text/plain": [
       "<IPython.core.display.HTML object>"
      ]
     },
     "metadata": {},
     "output_type": "display_data"
    },
    {
     "data": {
      "text/html": [
       "Syncing run <strong><a href='https://wandb.ai/sumanta_roy/CS6910_assignment_1/runs/ro5son33' target=\"_blank\">feasible-sweep-16</a></strong> to <a href='https://wandb.ai/sumanta_roy/CS6910_assignment_1' target=\"_blank\">Weights & Biases</a> (<a href='https://wandb.me/run' target=\"_blank\">docs</a>)<br/>Sweep page: <a href='https://wandb.ai/sumanta_roy/CS6910_assignment_1/sweeps/ff8houdp' target=\"_blank\">https://wandb.ai/sumanta_roy/CS6910_assignment_1/sweeps/ff8houdp</a>"
      ],
      "text/plain": [
       "<IPython.core.display.HTML object>"
      ]
     },
     "metadata": {},
     "output_type": "display_data"
    },
    {
     "data": {
      "text/html": [
       " View project at <a href='https://wandb.ai/sumanta_roy/CS6910_assignment_1' target=\"_blank\">https://wandb.ai/sumanta_roy/CS6910_assignment_1</a>"
      ],
      "text/plain": [
       "<IPython.core.display.HTML object>"
      ]
     },
     "metadata": {},
     "output_type": "display_data"
    },
    {
     "data": {
      "text/html": [
       " View sweep at <a href='https://wandb.ai/sumanta_roy/CS6910_assignment_1/sweeps/ff8houdp' target=\"_blank\">https://wandb.ai/sumanta_roy/CS6910_assignment_1/sweeps/ff8houdp</a>"
      ],
      "text/plain": [
       "<IPython.core.display.HTML object>"
      ]
     },
     "metadata": {},
     "output_type": "display_data"
    },
    {
     "data": {
      "text/html": [
       " View run at <a href='https://wandb.ai/sumanta_roy/CS6910_assignment_1/runs/ro5son33' target=\"_blank\">https://wandb.ai/sumanta_roy/CS6910_assignment_1/runs/ro5son33</a>"
      ],
      "text/plain": [
       "<IPython.core.display.HTML object>"
      ]
     },
     "metadata": {},
     "output_type": "display_data"
    },
    {
     "name": "stdout",
     "output_type": "stream",
     "text": [
      "Epoch: 1/5; Train Loss: 70.6930526105154; Val Loss: 0.4466635390136875\n",
      "Epoch: 2/5; Train Loss: 47.677717953331815; Val Loss: 0.30952532157019363\n",
      "Epoch: 3/5; Train Loss: 31.46056867891232; Val Loss: 0.2163915439463306\n",
      "Epoch: 4/5; Train Loss: 20.59178432260925; Val Loss: 0.1553505138898038\n",
      "Epoch: 5/5; Train Loss: 13.481648506167238; Val Loss: 0.11618697224188605\n"
     ]
    },
    {
     "data": {
      "application/vnd.jupyter.widget-view+json": {
       "model_id": "",
       "version_major": 2,
       "version_minor": 0
      },
      "text/plain": [
       "VBox(children=(Label(value='0.001 MB of 0.001 MB uploaded\\r'), FloatProgress(value=1.0, max=1.0)))"
      ]
     },
     "metadata": {},
     "output_type": "display_data"
    },
    {
     "data": {
      "text/html": [
       "<style>\n",
       "    table.wandb td:nth-child(1) { padding: 0 10px; text-align: left ; width: auto;} td:nth-child(2) {text-align: left ; width: 100%}\n",
       "    .wandb-row { display: flex; flex-direction: row; flex-wrap: wrap; justify-content: flex-start; width: 100% }\n",
       "    .wandb-col { display: flex; flex-direction: column; flex-basis: 100%; flex: 1; padding: 10px; }\n",
       "    </style>\n",
       "<div class=\"wandb-row\"><div class=\"wandb-col\"><h3>Run history:</h3><br/><table class=\"wandb\"><tr><td>epoch</td><td>▁▁▁▁▁▁▁▁▃▃▃▃▃▃▃▃▅▅▅▅▅▅▅▅▆▆▆▆▆▆▆▆████████</td></tr><tr><td>train_accuracy</td><td>▁▄▅▆▃▇▆▆▅▇▅▇▄█▆▅▆▅▆▆▆▆▇█▇▆▆▆▇▆██▇▇▆▇▆▇▆▇</td></tr><tr><td>train_loss</td><td>██▇▇▇▇▆▆▆▅▅▅▅▄▄▄▄▄▃▃▃▃▃▃▂▂▂▂▂▂▂▂▂▁▁▁▁▁▁▁</td></tr><tr><td>val_accuracy</td><td>▁▄▅▆▆▆▇▇▇▇▇▇▇▇▇▇████████████████████████</td></tr><tr><td>validation_loss</td><td>█▇▆▆▅▅▅▅▄▄▄▄▄▃▃▃▃▃▃▃▂▂▂▂▂▂▂▂▂▂▂▁▁▁▁▁▁▁▁▁</td></tr></table><br/></div><div class=\"wandb-col\"><h3>Run summary:</h3><br/><table class=\"wandb\"><tr><td>epoch</td><td>5</td></tr><tr><td>train_accuracy</td><td>90.625</td></tr><tr><td>train_loss</td><td>13.48165</td></tr><tr><td>val_accuracy</td><td>84.93333</td></tr><tr><td>validation_loss</td><td>0.11619</td></tr></table><br/></div></div>"
      ],
      "text/plain": [
       "<IPython.core.display.HTML object>"
      ]
     },
     "metadata": {},
     "output_type": "display_data"
    },
    {
     "data": {
      "text/html": [
       " View run <strong style=\"color:#cdcd00\">feasible-sweep-16</strong> at: <a href='https://wandb.ai/sumanta_roy/CS6910_assignment_1/runs/ro5son33' target=\"_blank\">https://wandb.ai/sumanta_roy/CS6910_assignment_1/runs/ro5son33</a><br/>Synced 6 W&B file(s), 0 media file(s), 0 artifact file(s) and 0 other file(s)"
      ],
      "text/plain": [
       "<IPython.core.display.HTML object>"
      ]
     },
     "metadata": {},
     "output_type": "display_data"
    },
    {
     "data": {
      "text/html": [
       "Find logs at: <code>./wandb/run-20240317_051006-ro5son33/logs</code>"
      ],
      "text/plain": [
       "<IPython.core.display.HTML object>"
      ]
     },
     "metadata": {},
     "output_type": "display_data"
    },
    {
     "name": "stderr",
     "output_type": "stream",
     "text": [
      "\u001b[34m\u001b[1mwandb\u001b[0m: Agent Starting Run: lnm0ba3j with config:\n",
      "\u001b[34m\u001b[1mwandb\u001b[0m: \tactivation: tanh\n",
      "\u001b[34m\u001b[1mwandb\u001b[0m: \tbatch_size: 64\n",
      "\u001b[34m\u001b[1mwandb\u001b[0m: \tepochs: 10\n",
      "\u001b[34m\u001b[1mwandb\u001b[0m: \thidden_layers: 5\n",
      "\u001b[34m\u001b[1mwandb\u001b[0m: \thidden_size: 32\n",
      "\u001b[34m\u001b[1mwandb\u001b[0m: \tloss: cross_entropy\n",
      "\u001b[34m\u001b[1mwandb\u001b[0m: \tlr: 0.0001\n",
      "\u001b[34m\u001b[1mwandb\u001b[0m: \toptimizer: momentum\n",
      "\u001b[34m\u001b[1mwandb\u001b[0m: \tw_init: glorot\n",
      "\u001b[34m\u001b[1mwandb\u001b[0m: \tweight_decay: 0.0005\n"
     ]
    },
    {
     "data": {
      "text/html": [
       "Tracking run with wandb version 0.16.4"
      ],
      "text/plain": [
       "<IPython.core.display.HTML object>"
      ]
     },
     "metadata": {},
     "output_type": "display_data"
    },
    {
     "data": {
      "text/html": [
       "Run data is saved locally in <code>/Users/sumanta/Desktop/Numpy project/cross_entropy_lesspasses/wandb/run-20240317_051116-lnm0ba3j</code>"
      ],
      "text/plain": [
       "<IPython.core.display.HTML object>"
      ]
     },
     "metadata": {},
     "output_type": "display_data"
    },
    {
     "data": {
      "text/html": [
       "Syncing run <strong><a href='https://wandb.ai/sumanta_roy/CS6910_assignment_1/runs/lnm0ba3j' target=\"_blank\">sweet-sweep-17</a></strong> to <a href='https://wandb.ai/sumanta_roy/CS6910_assignment_1' target=\"_blank\">Weights & Biases</a> (<a href='https://wandb.me/run' target=\"_blank\">docs</a>)<br/>Sweep page: <a href='https://wandb.ai/sumanta_roy/CS6910_assignment_1/sweeps/ff8houdp' target=\"_blank\">https://wandb.ai/sumanta_roy/CS6910_assignment_1/sweeps/ff8houdp</a>"
      ],
      "text/plain": [
       "<IPython.core.display.HTML object>"
      ]
     },
     "metadata": {},
     "output_type": "display_data"
    },
    {
     "data": {
      "text/html": [
       " View project at <a href='https://wandb.ai/sumanta_roy/CS6910_assignment_1' target=\"_blank\">https://wandb.ai/sumanta_roy/CS6910_assignment_1</a>"
      ],
      "text/plain": [
       "<IPython.core.display.HTML object>"
      ]
     },
     "metadata": {},
     "output_type": "display_data"
    },
    {
     "data": {
      "text/html": [
       " View sweep at <a href='https://wandb.ai/sumanta_roy/CS6910_assignment_1/sweeps/ff8houdp' target=\"_blank\">https://wandb.ai/sumanta_roy/CS6910_assignment_1/sweeps/ff8houdp</a>"
      ],
      "text/plain": [
       "<IPython.core.display.HTML object>"
      ]
     },
     "metadata": {},
     "output_type": "display_data"
    },
    {
     "data": {
      "text/html": [
       " View run at <a href='https://wandb.ai/sumanta_roy/CS6910_assignment_1/runs/lnm0ba3j' target=\"_blank\">https://wandb.ai/sumanta_roy/CS6910_assignment_1/runs/lnm0ba3j</a>"
      ],
      "text/plain": [
       "<IPython.core.display.HTML object>"
      ]
     },
     "metadata": {},
     "output_type": "display_data"
    },
    {
     "name": "stdout",
     "output_type": "stream",
     "text": [
      "Epoch: 1/10; Train Loss: 0.17416570255721617; Val Loss: 0.16772169143284693\n",
      "Epoch: 2/10; Train Loss: 0.1381078993372358; Val Loss: 0.1346499905633922\n",
      "Epoch: 3/10; Train Loss: 0.11566332971380718; Val Loss: 0.11381542004352699\n",
      "Epoch: 4/10; Train Loss: 0.10193522523789467; Val Loss: 0.10087193743569006\n",
      "Epoch: 5/10; Train Loss: 0.09261982272790317; Val Loss: 0.09216324100405035\n",
      "Epoch: 6/10; Train Loss: 0.08551262735419238; Val Loss: 0.08565564159337163\n",
      "Epoch: 7/10; Train Loss: 0.07968226890694549; Val Loss: 0.08036630469651451\n",
      "Epoch: 8/10; Train Loss: 0.07474917624095528; Val Loss: 0.07586319100170592\n",
      "Epoch: 9/10; Train Loss: 0.0705533915626715; Val Loss: 0.07197155556997197\n",
      "Epoch: 10/10; Train Loss: 0.06701438702567718; Val Loss: 0.06861369488968558\n"
     ]
    },
    {
     "data": {
      "application/vnd.jupyter.widget-view+json": {
       "model_id": "",
       "version_major": 2,
       "version_minor": 0
      },
      "text/plain": [
       "VBox(children=(Label(value='0.001 MB of 0.001 MB uploaded\\r'), FloatProgress(value=1.0, max=1.0)))"
      ]
     },
     "metadata": {},
     "output_type": "display_data"
    },
    {
     "data": {
      "text/html": [
       "<style>\n",
       "    table.wandb td:nth-child(1) { padding: 0 10px; text-align: left ; width: auto;} td:nth-child(2) {text-align: left ; width: 100%}\n",
       "    .wandb-row { display: flex; flex-direction: row; flex-wrap: wrap; justify-content: flex-start; width: 100% }\n",
       "    .wandb-col { display: flex; flex-direction: column; flex-basis: 100%; flex: 1; padding: 10px; }\n",
       "    </style>\n",
       "<div class=\"wandb-row\"><div class=\"wandb-col\"><h3>Run history:</h3><br/><table class=\"wandb\"><tr><td>epoch</td><td>▁▁▁▁▂▂▂▂▃▃▃▃▃▃▃▃▄▄▄▄▅▅▅▅▆▆▆▆▆▆▆▆▇▇▇▇████</td></tr><tr><td>train_accuracy</td><td>▁▁▃▄▃▄▅▃▆▇▆▆▄▇▅▆█▆▆▆▅▇▆▆▇▇▆▆▇▇▇▇▇▆██▇▇▇█</td></tr><tr><td>train_loss</td><td>██▆▆▆▅▅▅▄▄▄▃▄▃▃▃▂▃▂▃▂▃▂▃▂▂▂▂▂▂▂▁▂▂▁▁▁▁▂▁</td></tr><tr><td>val_accuracy</td><td>▁▂▃▄▅▅▆▆▆▆▆▇▇▇▇▇▇▇▇▇▇▇▇▇▇▇██████████████</td></tr><tr><td>validation_loss</td><td>█▇▆▆▅▅▄▄▄▄▃▃▃▃▃▃▂▂▂▂▂▂▂▂▂▂▂▂▁▁▁▁▁▁▁▁▁▁▁▁</td></tr></table><br/></div><div class=\"wandb-col\"><h3>Run summary:</h3><br/><table class=\"wandb\"><tr><td>epoch</td><td>10</td></tr><tr><td>train_accuracy</td><td>79.6875</td></tr><tr><td>train_loss</td><td>0.06701</td></tr><tr><td>val_accuracy</td><td>78.41667</td></tr><tr><td>validation_loss</td><td>0.06861</td></tr></table><br/></div></div>"
      ],
      "text/plain": [
       "<IPython.core.display.HTML object>"
      ]
     },
     "metadata": {},
     "output_type": "display_data"
    },
    {
     "data": {
      "text/html": [
       " View run <strong style=\"color:#cdcd00\">sweet-sweep-17</strong> at: <a href='https://wandb.ai/sumanta_roy/CS6910_assignment_1/runs/lnm0ba3j' target=\"_blank\">https://wandb.ai/sumanta_roy/CS6910_assignment_1/runs/lnm0ba3j</a><br/>Synced 6 W&B file(s), 0 media file(s), 0 artifact file(s) and 0 other file(s)"
      ],
      "text/plain": [
       "<IPython.core.display.HTML object>"
      ]
     },
     "metadata": {},
     "output_type": "display_data"
    },
    {
     "data": {
      "text/html": [
       "Find logs at: <code>./wandb/run-20240317_051116-lnm0ba3j/logs</code>"
      ],
      "text/plain": [
       "<IPython.core.display.HTML object>"
      ]
     },
     "metadata": {},
     "output_type": "display_data"
    },
    {
     "name": "stderr",
     "output_type": "stream",
     "text": [
      "\u001b[34m\u001b[1mwandb\u001b[0m: Agent Starting Run: lvjf7prm with config:\n",
      "\u001b[34m\u001b[1mwandb\u001b[0m: \tactivation: relu\n",
      "\u001b[34m\u001b[1mwandb\u001b[0m: \tbatch_size: 64\n",
      "\u001b[34m\u001b[1mwandb\u001b[0m: \tepochs: 10\n",
      "\u001b[34m\u001b[1mwandb\u001b[0m: \thidden_layers: 5\n",
      "\u001b[34m\u001b[1mwandb\u001b[0m: \thidden_size: 64\n",
      "\u001b[34m\u001b[1mwandb\u001b[0m: \tloss: cross_entropy\n",
      "\u001b[34m\u001b[1mwandb\u001b[0m: \tlr: 0.0001\n",
      "\u001b[34m\u001b[1mwandb\u001b[0m: \toptimizer: rmsprop\n",
      "\u001b[34m\u001b[1mwandb\u001b[0m: \tw_init: random\n",
      "\u001b[34m\u001b[1mwandb\u001b[0m: \tweight_decay: 0.0005\n"
     ]
    },
    {
     "data": {
      "text/html": [
       "Tracking run with wandb version 0.16.4"
      ],
      "text/plain": [
       "<IPython.core.display.HTML object>"
      ]
     },
     "metadata": {},
     "output_type": "display_data"
    },
    {
     "data": {
      "text/html": [
       "Run data is saved locally in <code>/Users/sumanta/Desktop/Numpy project/cross_entropy_lesspasses/wandb/run-20240317_051204-lvjf7prm</code>"
      ],
      "text/plain": [
       "<IPython.core.display.HTML object>"
      ]
     },
     "metadata": {},
     "output_type": "display_data"
    },
    {
     "data": {
      "text/html": [
       "Syncing run <strong><a href='https://wandb.ai/sumanta_roy/CS6910_assignment_1/runs/lvjf7prm' target=\"_blank\">young-sweep-18</a></strong> to <a href='https://wandb.ai/sumanta_roy/CS6910_assignment_1' target=\"_blank\">Weights & Biases</a> (<a href='https://wandb.me/run' target=\"_blank\">docs</a>)<br/>Sweep page: <a href='https://wandb.ai/sumanta_roy/CS6910_assignment_1/sweeps/ff8houdp' target=\"_blank\">https://wandb.ai/sumanta_roy/CS6910_assignment_1/sweeps/ff8houdp</a>"
      ],
      "text/plain": [
       "<IPython.core.display.HTML object>"
      ]
     },
     "metadata": {},
     "output_type": "display_data"
    },
    {
     "data": {
      "text/html": [
       " View project at <a href='https://wandb.ai/sumanta_roy/CS6910_assignment_1' target=\"_blank\">https://wandb.ai/sumanta_roy/CS6910_assignment_1</a>"
      ],
      "text/plain": [
       "<IPython.core.display.HTML object>"
      ]
     },
     "metadata": {},
     "output_type": "display_data"
    },
    {
     "data": {
      "text/html": [
       " View sweep at <a href='https://wandb.ai/sumanta_roy/CS6910_assignment_1/sweeps/ff8houdp' target=\"_blank\">https://wandb.ai/sumanta_roy/CS6910_assignment_1/sweeps/ff8houdp</a>"
      ],
      "text/plain": [
       "<IPython.core.display.HTML object>"
      ]
     },
     "metadata": {},
     "output_type": "display_data"
    },
    {
     "data": {
      "text/html": [
       " View run at <a href='https://wandb.ai/sumanta_roy/CS6910_assignment_1/runs/lvjf7prm' target=\"_blank\">https://wandb.ai/sumanta_roy/CS6910_assignment_1/runs/lvjf7prm</a>"
      ],
      "text/plain": [
       "<IPython.core.display.HTML object>"
      ]
     },
     "metadata": {},
     "output_type": "display_data"
    },
    {
     "name": "stdout",
     "output_type": "stream",
     "text": [
      "Epoch: 1/10; Train Loss: 0.2560135693793612; Val Loss: 0.15918470103453172\n",
      "Epoch: 2/10; Train Loss: 0.13605776874357575; Val Loss: 0.10263534284004695\n",
      "Epoch: 3/10; Train Loss: 0.11262812733832739; Val Loss: 0.085101238236085\n",
      "Epoch: 4/10; Train Loss: 0.10369644042811682; Val Loss: 0.07614066675261824\n",
      "Epoch: 5/10; Train Loss: 0.09989943385970874; Val Loss: 0.07077818979343413\n",
      "Epoch: 6/10; Train Loss: 0.09522704756814321; Val Loss: 0.06684067067445403\n",
      "Epoch: 7/10; Train Loss: 0.09123804946955666; Val Loss: 0.0640562666849004\n",
      "Epoch: 8/10; Train Loss: 0.08904332277480431; Val Loss: 0.06161967041818783\n",
      "Epoch: 9/10; Train Loss: 0.08647389088272123; Val Loss: 0.05979859211119576\n",
      "Epoch: 10/10; Train Loss: 0.08524628975901138; Val Loss: 0.05833408539319648\n"
     ]
    },
    {
     "data": {
      "application/vnd.jupyter.widget-view+json": {
       "model_id": "",
       "version_major": 2,
       "version_minor": 0
      },
      "text/plain": [
       "VBox(children=(Label(value='0.001 MB of 0.001 MB uploaded\\r'), FloatProgress(value=1.0, max=1.0)))"
      ]
     },
     "metadata": {},
     "output_type": "display_data"
    },
    {
     "data": {
      "text/html": [
       "<style>\n",
       "    table.wandb td:nth-child(1) { padding: 0 10px; text-align: left ; width: auto;} td:nth-child(2) {text-align: left ; width: 100%}\n",
       "    .wandb-row { display: flex; flex-direction: row; flex-wrap: wrap; justify-content: flex-start; width: 100% }\n",
       "    .wandb-col { display: flex; flex-direction: column; flex-basis: 100%; flex: 1; padding: 10px; }\n",
       "    </style>\n",
       "<div class=\"wandb-row\"><div class=\"wandb-col\"><h3>Run history:</h3><br/><table class=\"wandb\"><tr><td>epoch</td><td>▁▁▁▁▂▂▂▂▃▃▃▃▃▃▃▃▄▄▄▄▅▅▅▅▆▆▆▆▆▆▆▆▇▇▇▇████</td></tr><tr><td>train_accuracy</td><td>▁▄▄▆▅▅▆▆▇▇▇▇▆▇▇▇▇▇▇▆▇▆▇█▇▇▇▇█▇▇█▇▇▇▇▇▇▇█</td></tr><tr><td>train_loss</td><td>█▃▂▂▂▁▁▁▁▁▁▁▁▁▁▁▁▁▁▁▁▁▁▁▁▁▁▁▁▁▁▁▁▁▁▁▁▁▁▁</td></tr><tr><td>val_accuracy</td><td>▁▄▆▆▆▇▇▇▇▇▇▇▇▇▇▇▇██▇████████████████████</td></tr><tr><td>validation_loss</td><td>█▃▂▂▂▁▁▁▁▁▁▁▁▁▁▁▁▁▁▁▁▁▁▁▁▁▁▁▁▁▁▁▁▁▁▁▁▁▁▁</td></tr></table><br/></div><div class=\"wandb-col\"><h3>Run summary:</h3><br/><table class=\"wandb\"><tr><td>epoch</td><td>10</td></tr><tr><td>train_accuracy</td><td>79.6875</td></tr><tr><td>train_loss</td><td>0.08525</td></tr><tr><td>val_accuracy</td><td>80.4</td></tr><tr><td>validation_loss</td><td>0.05833</td></tr></table><br/></div></div>"
      ],
      "text/plain": [
       "<IPython.core.display.HTML object>"
      ]
     },
     "metadata": {},
     "output_type": "display_data"
    },
    {
     "data": {
      "text/html": [
       " View run <strong style=\"color:#cdcd00\">young-sweep-18</strong> at: <a href='https://wandb.ai/sumanta_roy/CS6910_assignment_1/runs/lvjf7prm' target=\"_blank\">https://wandb.ai/sumanta_roy/CS6910_assignment_1/runs/lvjf7prm</a><br/>Synced 6 W&B file(s), 0 media file(s), 0 artifact file(s) and 0 other file(s)"
      ],
      "text/plain": [
       "<IPython.core.display.HTML object>"
      ]
     },
     "metadata": {},
     "output_type": "display_data"
    },
    {
     "data": {
      "text/html": [
       "Find logs at: <code>./wandb/run-20240317_051204-lvjf7prm/logs</code>"
      ],
      "text/plain": [
       "<IPython.core.display.HTML object>"
      ]
     },
     "metadata": {},
     "output_type": "display_data"
    },
    {
     "name": "stderr",
     "output_type": "stream",
     "text": [
      "\u001b[34m\u001b[1mwandb\u001b[0m: Agent Starting Run: oib3ai3d with config:\n",
      "\u001b[34m\u001b[1mwandb\u001b[0m: \tactivation: tanh\n",
      "\u001b[34m\u001b[1mwandb\u001b[0m: \tbatch_size: 16\n",
      "\u001b[34m\u001b[1mwandb\u001b[0m: \tepochs: 10\n",
      "\u001b[34m\u001b[1mwandb\u001b[0m: \thidden_layers: 4\n",
      "\u001b[34m\u001b[1mwandb\u001b[0m: \thidden_size: 128\n",
      "\u001b[34m\u001b[1mwandb\u001b[0m: \tloss: cross_entropy\n",
      "\u001b[34m\u001b[1mwandb\u001b[0m: \tlr: 0.001\n",
      "\u001b[34m\u001b[1mwandb\u001b[0m: \toptimizer: rmsprop\n",
      "\u001b[34m\u001b[1mwandb\u001b[0m: \tw_init: glorot\n",
      "\u001b[34m\u001b[1mwandb\u001b[0m: \tweight_decay: 0.0005\n"
     ]
    },
    {
     "data": {
      "text/html": [
       "Tracking run with wandb version 0.16.4"
      ],
      "text/plain": [
       "<IPython.core.display.HTML object>"
      ]
     },
     "metadata": {},
     "output_type": "display_data"
    },
    {
     "data": {
      "text/html": [
       "Run data is saved locally in <code>/Users/sumanta/Desktop/Numpy project/cross_entropy_lesspasses/wandb/run-20240317_051252-oib3ai3d</code>"
      ],
      "text/plain": [
       "<IPython.core.display.HTML object>"
      ]
     },
     "metadata": {},
     "output_type": "display_data"
    },
    {
     "data": {
      "text/html": [
       "Syncing run <strong><a href='https://wandb.ai/sumanta_roy/CS6910_assignment_1/runs/oib3ai3d' target=\"_blank\">deft-sweep-19</a></strong> to <a href='https://wandb.ai/sumanta_roy/CS6910_assignment_1' target=\"_blank\">Weights & Biases</a> (<a href='https://wandb.me/run' target=\"_blank\">docs</a>)<br/>Sweep page: <a href='https://wandb.ai/sumanta_roy/CS6910_assignment_1/sweeps/ff8houdp' target=\"_blank\">https://wandb.ai/sumanta_roy/CS6910_assignment_1/sweeps/ff8houdp</a>"
      ],
      "text/plain": [
       "<IPython.core.display.HTML object>"
      ]
     },
     "metadata": {},
     "output_type": "display_data"
    },
    {
     "data": {
      "text/html": [
       " View project at <a href='https://wandb.ai/sumanta_roy/CS6910_assignment_1' target=\"_blank\">https://wandb.ai/sumanta_roy/CS6910_assignment_1</a>"
      ],
      "text/plain": [
       "<IPython.core.display.HTML object>"
      ]
     },
     "metadata": {},
     "output_type": "display_data"
    },
    {
     "data": {
      "text/html": [
       " View sweep at <a href='https://wandb.ai/sumanta_roy/CS6910_assignment_1/sweeps/ff8houdp' target=\"_blank\">https://wandb.ai/sumanta_roy/CS6910_assignment_1/sweeps/ff8houdp</a>"
      ],
      "text/plain": [
       "<IPython.core.display.HTML object>"
      ]
     },
     "metadata": {},
     "output_type": "display_data"
    },
    {
     "data": {
      "text/html": [
       " View run at <a href='https://wandb.ai/sumanta_roy/CS6910_assignment_1/runs/oib3ai3d' target=\"_blank\">https://wandb.ai/sumanta_roy/CS6910_assignment_1/runs/oib3ai3d</a>"
      ],
      "text/plain": [
       "<IPython.core.display.HTML object>"
      ]
     },
     "metadata": {},
     "output_type": "display_data"
    },
    {
     "name": "stdout",
     "output_type": "stream",
     "text": [
      "Epoch: 1/10; Train Loss: 0.03242188032371326; Val Loss: 0.041707569836678435\n",
      "Epoch: 2/10; Train Loss: 0.03341141517220614; Val Loss: 0.03732259789254099\n",
      "Epoch: 3/10; Train Loss: 0.037755497600123276; Val Loss: 0.03618026285662745\n",
      "Epoch: 4/10; Train Loss: 0.042051310733138184; Val Loss: 0.03478857437921001\n",
      "Epoch: 5/10; Train Loss: 0.04231834607645711; Val Loss: 0.034446947904144085\n",
      "Epoch: 6/10; Train Loss: 0.04253004807847986; Val Loss: 0.034203289151421706\n",
      "Epoch: 7/10; Train Loss: 0.04881722688291487; Val Loss: 0.03376085991837386\n",
      "Epoch: 8/10; Train Loss: 0.04835148781819115; Val Loss: 0.03389365109660226\n",
      "Epoch: 9/10; Train Loss: 0.04920147045107018; Val Loss: 0.033600257853476125\n",
      "Epoch: 10/10; Train Loss: 0.04959723641983037; Val Loss: 0.03654718210526608\n"
     ]
    },
    {
     "data": {
      "application/vnd.jupyter.widget-view+json": {
       "model_id": "",
       "version_major": 2,
       "version_minor": 0
      },
      "text/plain": [
       "VBox(children=(Label(value='0.001 MB of 0.001 MB uploaded\\r'), FloatProgress(value=1.0, max=1.0)))"
      ]
     },
     "metadata": {},
     "output_type": "display_data"
    },
    {
     "data": {
      "text/html": [
       "<style>\n",
       "    table.wandb td:nth-child(1) { padding: 0 10px; text-align: left ; width: auto;} td:nth-child(2) {text-align: left ; width: 100%}\n",
       "    .wandb-row { display: flex; flex-direction: row; flex-wrap: wrap; justify-content: flex-start; width: 100% }\n",
       "    .wandb-col { display: flex; flex-direction: column; flex-basis: 100%; flex: 1; padding: 10px; }\n",
       "    </style>\n",
       "<div class=\"wandb-row\"><div class=\"wandb-col\"><h3>Run history:</h3><br/><table class=\"wandb\"><tr><td>epoch</td><td>▁▁▁▁▂▂▂▂▃▃▃▃▃▃▃▃▄▄▄▄▅▅▅▅▆▆▆▆▆▆▆▆▇▇▇▇████</td></tr><tr><td>train_accuracy</td><td>▆▆▆▅▆▁▅▆▁▃▃▆██▅▁▅▃▆▃▅▅▃███▅▅▅█▃▃█▅▁▆█▅▆█</td></tr><tr><td>train_loss</td><td>▄▂▃▃▂▄▃▃▇▄▄▂▂▁▃▆▃▆▃▇▄▆▃▂▂▂▅▆▄▂▄▄▂▃█▃▂▄▃▃</td></tr><tr><td>val_accuracy</td><td>▁▂▅▅▆▅▆▆▆▇▆▆▆▇▇▇▇▇▇▇█████▇▇▇█▇▇█▇▆▇▇▇▇▇▇</td></tr><tr><td>validation_loss</td><td>██▄▄▃▄▃▃▂▂▂▃▂▂▂▂▂▂▂▂▁▁▂▁▁▃▃▂▁▂▂▂▂▃▂▂▃▃▂▂</td></tr></table><br/></div><div class=\"wandb-col\"><h3>Run summary:</h3><br/><table class=\"wandb\"><tr><td>epoch</td><td>10</td></tr><tr><td>train_accuracy</td><td>93.75</td></tr><tr><td>train_loss</td><td>0.0496</td></tr><tr><td>val_accuracy</td><td>88.01667</td></tr><tr><td>validation_loss</td><td>0.03655</td></tr></table><br/></div></div>"
      ],
      "text/plain": [
       "<IPython.core.display.HTML object>"
      ]
     },
     "metadata": {},
     "output_type": "display_data"
    },
    {
     "data": {
      "text/html": [
       " View run <strong style=\"color:#cdcd00\">deft-sweep-19</strong> at: <a href='https://wandb.ai/sumanta_roy/CS6910_assignment_1/runs/oib3ai3d' target=\"_blank\">https://wandb.ai/sumanta_roy/CS6910_assignment_1/runs/oib3ai3d</a><br/>Synced 6 W&B file(s), 0 media file(s), 0 artifact file(s) and 0 other file(s)"
      ],
      "text/plain": [
       "<IPython.core.display.HTML object>"
      ]
     },
     "metadata": {},
     "output_type": "display_data"
    },
    {
     "data": {
      "text/html": [
       "Find logs at: <code>./wandb/run-20240317_051252-oib3ai3d/logs</code>"
      ],
      "text/plain": [
       "<IPython.core.display.HTML object>"
      ]
     },
     "metadata": {},
     "output_type": "display_data"
    },
    {
     "name": "stderr",
     "output_type": "stream",
     "text": [
      "\u001b[34m\u001b[1mwandb\u001b[0m: Agent Starting Run: wltp4yi2 with config:\n",
      "\u001b[34m\u001b[1mwandb\u001b[0m: \tactivation: tanh\n",
      "\u001b[34m\u001b[1mwandb\u001b[0m: \tbatch_size: 16\n",
      "\u001b[34m\u001b[1mwandb\u001b[0m: \tepochs: 10\n",
      "\u001b[34m\u001b[1mwandb\u001b[0m: \thidden_layers: 4\n",
      "\u001b[34m\u001b[1mwandb\u001b[0m: \thidden_size: 128\n",
      "\u001b[34m\u001b[1mwandb\u001b[0m: \tloss: cross_entropy\n",
      "\u001b[34m\u001b[1mwandb\u001b[0m: \tlr: 0.0001\n",
      "\u001b[34m\u001b[1mwandb\u001b[0m: \toptimizer: nadam\n",
      "\u001b[34m\u001b[1mwandb\u001b[0m: \tw_init: random\n",
      "\u001b[34m\u001b[1mwandb\u001b[0m: \tweight_decay: 0\n"
     ]
    },
    {
     "data": {
      "text/html": [
       "Tracking run with wandb version 0.16.4"
      ],
      "text/plain": [
       "<IPython.core.display.HTML object>"
      ]
     },
     "metadata": {},
     "output_type": "display_data"
    },
    {
     "data": {
      "text/html": [
       "Run data is saved locally in <code>/Users/sumanta/Desktop/Numpy project/cross_entropy_lesspasses/wandb/run-20240317_051534-wltp4yi2</code>"
      ],
      "text/plain": [
       "<IPython.core.display.HTML object>"
      ]
     },
     "metadata": {},
     "output_type": "display_data"
    },
    {
     "data": {
      "text/html": [
       "Syncing run <strong><a href='https://wandb.ai/sumanta_roy/CS6910_assignment_1/runs/wltp4yi2' target=\"_blank\">usual-sweep-20</a></strong> to <a href='https://wandb.ai/sumanta_roy/CS6910_assignment_1' target=\"_blank\">Weights & Biases</a> (<a href='https://wandb.me/run' target=\"_blank\">docs</a>)<br/>Sweep page: <a href='https://wandb.ai/sumanta_roy/CS6910_assignment_1/sweeps/ff8houdp' target=\"_blank\">https://wandb.ai/sumanta_roy/CS6910_assignment_1/sweeps/ff8houdp</a>"
      ],
      "text/plain": [
       "<IPython.core.display.HTML object>"
      ]
     },
     "metadata": {},
     "output_type": "display_data"
    },
    {
     "data": {
      "text/html": [
       " View project at <a href='https://wandb.ai/sumanta_roy/CS6910_assignment_1' target=\"_blank\">https://wandb.ai/sumanta_roy/CS6910_assignment_1</a>"
      ],
      "text/plain": [
       "<IPython.core.display.HTML object>"
      ]
     },
     "metadata": {},
     "output_type": "display_data"
    },
    {
     "data": {
      "text/html": [
       " View sweep at <a href='https://wandb.ai/sumanta_roy/CS6910_assignment_1/sweeps/ff8houdp' target=\"_blank\">https://wandb.ai/sumanta_roy/CS6910_assignment_1/sweeps/ff8houdp</a>"
      ],
      "text/plain": [
       "<IPython.core.display.HTML object>"
      ]
     },
     "metadata": {},
     "output_type": "display_data"
    },
    {
     "data": {
      "text/html": [
       " View run at <a href='https://wandb.ai/sumanta_roy/CS6910_assignment_1/runs/wltp4yi2' target=\"_blank\">https://wandb.ai/sumanta_roy/CS6910_assignment_1/runs/wltp4yi2</a>"
      ],
      "text/plain": [
       "<IPython.core.display.HTML object>"
      ]
     },
     "metadata": {},
     "output_type": "display_data"
    },
    {
     "name": "stdout",
     "output_type": "stream",
     "text": [
      "Epoch: 1/10; Train Loss: 0.11836226745039072; Val Loss: 0.15947025677168766\n",
      "Epoch: 2/10; Train Loss: 0.060067827504563784; Val Loss: 0.12134695032147703\n",
      "Epoch: 3/10; Train Loss: 0.04398789985691763; Val Loss: 0.10363299814436919\n",
      "Epoch: 4/10; Train Loss: 0.03820699443567225; Val Loss: 0.09350858607603366\n",
      "Epoch: 5/10; Train Loss: 0.034226975868757795; Val Loss: 0.08686358278256086\n",
      "Epoch: 6/10; Train Loss: 0.031638348057900376; Val Loss: 0.08205665205058983\n",
      "Epoch: 7/10; Train Loss: 0.03073990497429154; Val Loss: 0.07835043198228846\n",
      "Epoch: 8/10; Train Loss: 0.031015889262044592; Val Loss: 0.07535262132940286\n",
      "Epoch: 9/10; Train Loss: 0.03176087674360253; Val Loss: 0.07283727074670508\n",
      "Epoch: 10/10; Train Loss: 0.03254507560718893; Val Loss: 0.07070029118132276\n"
     ]
    },
    {
     "data": {
      "application/vnd.jupyter.widget-view+json": {
       "model_id": "",
       "version_major": 2,
       "version_minor": 0
      },
      "text/plain": [
       "VBox(children=(Label(value='0.001 MB of 0.027 MB uploaded\\r'), FloatProgress(value=0.02734776293882178, max=1.…"
      ]
     },
     "metadata": {},
     "output_type": "display_data"
    },
    {
     "data": {
      "text/html": [
       "<style>\n",
       "    table.wandb td:nth-child(1) { padding: 0 10px; text-align: left ; width: auto;} td:nth-child(2) {text-align: left ; width: 100%}\n",
       "    .wandb-row { display: flex; flex-direction: row; flex-wrap: wrap; justify-content: flex-start; width: 100% }\n",
       "    .wandb-col { display: flex; flex-direction: column; flex-basis: 100%; flex: 1; padding: 10px; }\n",
       "    </style>\n",
       "<div class=\"wandb-row\"><div class=\"wandb-col\"><h3>Run history:</h3><br/><table class=\"wandb\"><tr><td>epoch</td><td>▁▁▁▁▂▂▂▂▃▃▃▃▃▃▃▃▄▄▄▄▅▅▅▅▆▆▆▆▆▆▆▆▇▇▇▇████</td></tr><tr><td>train_accuracy</td><td>▁▃▇▆█▃▆▆▅▅▅▇▅▇▆▆▇▆▆▇▆▆▇▇▇▆▅▇▅▇█▇▇█▆▇█▇▇▇</td></tr><tr><td>train_loss</td><td>█▆▂▃▂▅▃▃▄▃▃▂▄▃▃▃▂▃▂▂▂▃▁▂▂▃▄▂▃▁▁▂▁▁▂▂▁▂▁▂</td></tr><tr><td>val_accuracy</td><td>▁▂▄▄▅▅▆▆▆▆▇▇▇▇▇▇▇▇▇▇▇▇▇█████████████████</td></tr><tr><td>validation_loss</td><td>█▆▄▄▃▃▃▃▂▂▂▂▂▂▂▂▂▂▂▁▁▁▁▁▁▁▁▁▁▁▁▁▁▁▁▁▁▁▁▁</td></tr></table><br/></div><div class=\"wandb-col\"><h3>Run summary:</h3><br/><table class=\"wandb\"><tr><td>epoch</td><td>10</td></tr><tr><td>train_accuracy</td><td>81.25</td></tr><tr><td>train_loss</td><td>0.03255</td></tr><tr><td>val_accuracy</td><td>75.63333</td></tr><tr><td>validation_loss</td><td>0.0707</td></tr></table><br/></div></div>"
      ],
      "text/plain": [
       "<IPython.core.display.HTML object>"
      ]
     },
     "metadata": {},
     "output_type": "display_data"
    },
    {
     "data": {
      "text/html": [
       " View run <strong style=\"color:#cdcd00\">usual-sweep-20</strong> at: <a href='https://wandb.ai/sumanta_roy/CS6910_assignment_1/runs/wltp4yi2' target=\"_blank\">https://wandb.ai/sumanta_roy/CS6910_assignment_1/runs/wltp4yi2</a><br/>Synced 6 W&B file(s), 0 media file(s), 0 artifact file(s) and 0 other file(s)"
      ],
      "text/plain": [
       "<IPython.core.display.HTML object>"
      ]
     },
     "metadata": {},
     "output_type": "display_data"
    },
    {
     "data": {
      "text/html": [
       "Find logs at: <code>./wandb/run-20240317_051534-wltp4yi2/logs</code>"
      ],
      "text/plain": [
       "<IPython.core.display.HTML object>"
      ]
     },
     "metadata": {},
     "output_type": "display_data"
    },
    {
     "name": "stderr",
     "output_type": "stream",
     "text": [
      "\u001b[34m\u001b[1mwandb\u001b[0m: Agent Starting Run: abcepvid with config:\n",
      "\u001b[34m\u001b[1mwandb\u001b[0m: \tactivation: tanh\n",
      "\u001b[34m\u001b[1mwandb\u001b[0m: \tbatch_size: 32\n",
      "\u001b[34m\u001b[1mwandb\u001b[0m: \tepochs: 10\n",
      "\u001b[34m\u001b[1mwandb\u001b[0m: \thidden_layers: 4\n",
      "\u001b[34m\u001b[1mwandb\u001b[0m: \thidden_size: 128\n",
      "\u001b[34m\u001b[1mwandb\u001b[0m: \tloss: cross_entropy\n",
      "\u001b[34m\u001b[1mwandb\u001b[0m: \tlr: 0.0001\n",
      "\u001b[34m\u001b[1mwandb\u001b[0m: \toptimizer: nadam\n",
      "\u001b[34m\u001b[1mwandb\u001b[0m: \tw_init: glorot\n",
      "\u001b[34m\u001b[1mwandb\u001b[0m: \tweight_decay: 0\n"
     ]
    },
    {
     "data": {
      "text/html": [
       "Tracking run with wandb version 0.16.4"
      ],
      "text/plain": [
       "<IPython.core.display.HTML object>"
      ]
     },
     "metadata": {},
     "output_type": "display_data"
    },
    {
     "data": {
      "text/html": [
       "Run data is saved locally in <code>/Users/sumanta/Desktop/Numpy project/cross_entropy_lesspasses/wandb/run-20240317_051900-abcepvid</code>"
      ],
      "text/plain": [
       "<IPython.core.display.HTML object>"
      ]
     },
     "metadata": {},
     "output_type": "display_data"
    },
    {
     "data": {
      "text/html": [
       "Syncing run <strong><a href='https://wandb.ai/sumanta_roy/CS6910_assignment_1/runs/abcepvid' target=\"_blank\">spring-sweep-21</a></strong> to <a href='https://wandb.ai/sumanta_roy/CS6910_assignment_1' target=\"_blank\">Weights & Biases</a> (<a href='https://wandb.me/run' target=\"_blank\">docs</a>)<br/>Sweep page: <a href='https://wandb.ai/sumanta_roy/CS6910_assignment_1/sweeps/ff8houdp' target=\"_blank\">https://wandb.ai/sumanta_roy/CS6910_assignment_1/sweeps/ff8houdp</a>"
      ],
      "text/plain": [
       "<IPython.core.display.HTML object>"
      ]
     },
     "metadata": {},
     "output_type": "display_data"
    },
    {
     "data": {
      "text/html": [
       " View project at <a href='https://wandb.ai/sumanta_roy/CS6910_assignment_1' target=\"_blank\">https://wandb.ai/sumanta_roy/CS6910_assignment_1</a>"
      ],
      "text/plain": [
       "<IPython.core.display.HTML object>"
      ]
     },
     "metadata": {},
     "output_type": "display_data"
    },
    {
     "data": {
      "text/html": [
       " View sweep at <a href='https://wandb.ai/sumanta_roy/CS6910_assignment_1/sweeps/ff8houdp' target=\"_blank\">https://wandb.ai/sumanta_roy/CS6910_assignment_1/sweeps/ff8houdp</a>"
      ],
      "text/plain": [
       "<IPython.core.display.HTML object>"
      ]
     },
     "metadata": {},
     "output_type": "display_data"
    },
    {
     "data": {
      "text/html": [
       " View run at <a href='https://wandb.ai/sumanta_roy/CS6910_assignment_1/runs/abcepvid' target=\"_blank\">https://wandb.ai/sumanta_roy/CS6910_assignment_1/runs/abcepvid</a>"
      ],
      "text/plain": [
       "<IPython.core.display.HTML object>"
      ]
     },
     "metadata": {},
     "output_type": "display_data"
    },
    {
     "name": "stdout",
     "output_type": "stream",
     "text": [
      "Epoch: 1/10; Train Loss: 0.08217841457286627; Val Loss: 0.07965994355488393\n",
      "Epoch: 2/10; Train Loss: 0.06424192768565508; Val Loss: 0.06585974146588879\n",
      "Epoch: 3/10; Train Loss: 0.05534454771026026; Val Loss: 0.05846472129729385\n",
      "Epoch: 4/10; Train Loss: 0.05066375380038481; Val Loss: 0.053860782162255844\n",
      "Epoch: 5/10; Train Loss: 0.04810497945958166; Val Loss: 0.05082568300177199\n",
      "Epoch: 6/10; Train Loss: 0.04654474026266143; Val Loss: 0.04870154695238525\n",
      "Epoch: 7/10; Train Loss: 0.045456008423237396; Val Loss: 0.04712157197890085\n",
      "Epoch: 8/10; Train Loss: 0.044607428825224005; Val Loss: 0.04588468479680387\n",
      "Epoch: 9/10; Train Loss: 0.0438954126341627; Val Loss: 0.0448775766802881\n",
      "Epoch: 10/10; Train Loss: 0.04327051923304308; Val Loss: 0.044032803988396214\n"
     ]
    },
    {
     "data": {
      "application/vnd.jupyter.widget-view+json": {
       "model_id": "",
       "version_major": 2,
       "version_minor": 0
      },
      "text/plain": [
       "VBox(children=(Label(value='0.001 MB of 0.001 MB uploaded\\r'), FloatProgress(value=1.0, max=1.0)))"
      ]
     },
     "metadata": {},
     "output_type": "display_data"
    },
    {
     "data": {
      "text/html": [
       "<style>\n",
       "    table.wandb td:nth-child(1) { padding: 0 10px; text-align: left ; width: auto;} td:nth-child(2) {text-align: left ; width: 100%}\n",
       "    .wandb-row { display: flex; flex-direction: row; flex-wrap: wrap; justify-content: flex-start; width: 100% }\n",
       "    .wandb-col { display: flex; flex-direction: column; flex-basis: 100%; flex: 1; padding: 10px; }\n",
       "    </style>\n",
       "<div class=\"wandb-row\"><div class=\"wandb-col\"><h3>Run history:</h3><br/><table class=\"wandb\"><tr><td>epoch</td><td>▁▁▁▁▂▂▂▂▃▃▃▃▃▃▃▃▄▄▄▄▅▅▅▅▆▆▆▆▆▆▆▆▇▇▇▇████</td></tr><tr><td>train_accuracy</td><td>▁▃▃▇▅▇▆▃▅▄▅▆▄▆█▅▄▂▇▅▅▆▆▆▅▆▃▇▅█▅▆█▇▇▅▇▅▇█</td></tr><tr><td>train_loss</td><td>█▅▅▃▃▃▃▄▃▃▃▃▃▂▂▄▃▅▂▃▂▃▂▂▃▂▄▂▃▁▃▂▂▂▂▂▂▃▁▂</td></tr><tr><td>val_accuracy</td><td>▁▃▄▄▅▅▆▆▆▆▇▇▇▇▇▇▇▇▇▇▇▇▇█████████████████</td></tr><tr><td>validation_loss</td><td>█▅▄▄▃▃▃▃▂▂▂▂▂▂▂▂▂▂▂▁▁▁▁▁▁▁▁▁▁▁▁▁▁▁▁▁▁▁▁▁</td></tr></table><br/></div><div class=\"wandb-col\"><h3>Run summary:</h3><br/><table class=\"wandb\"><tr><td>epoch</td><td>10</td></tr><tr><td>train_accuracy</td><td>84.375</td></tr><tr><td>train_loss</td><td>0.04327</td></tr><tr><td>val_accuracy</td><td>84.56667</td></tr><tr><td>validation_loss</td><td>0.04403</td></tr></table><br/></div></div>"
      ],
      "text/plain": [
       "<IPython.core.display.HTML object>"
      ]
     },
     "metadata": {},
     "output_type": "display_data"
    },
    {
     "data": {
      "text/html": [
       " View run <strong style=\"color:#cdcd00\">spring-sweep-21</strong> at: <a href='https://wandb.ai/sumanta_roy/CS6910_assignment_1/runs/abcepvid' target=\"_blank\">https://wandb.ai/sumanta_roy/CS6910_assignment_1/runs/abcepvid</a><br/>Synced 6 W&B file(s), 0 media file(s), 0 artifact file(s) and 0 other file(s)"
      ],
      "text/plain": [
       "<IPython.core.display.HTML object>"
      ]
     },
     "metadata": {},
     "output_type": "display_data"
    },
    {
     "data": {
      "text/html": [
       "Find logs at: <code>./wandb/run-20240317_051900-abcepvid/logs</code>"
      ],
      "text/plain": [
       "<IPython.core.display.HTML object>"
      ]
     },
     "metadata": {},
     "output_type": "display_data"
    },
    {
     "name": "stderr",
     "output_type": "stream",
     "text": [
      "\u001b[34m\u001b[1mwandb\u001b[0m: Agent Starting Run: 7ndps3ay with config:\n",
      "\u001b[34m\u001b[1mwandb\u001b[0m: \tactivation: tanh\n",
      "\u001b[34m\u001b[1mwandb\u001b[0m: \tbatch_size: 16\n",
      "\u001b[34m\u001b[1mwandb\u001b[0m: \tepochs: 10\n",
      "\u001b[34m\u001b[1mwandb\u001b[0m: \thidden_layers: 4\n",
      "\u001b[34m\u001b[1mwandb\u001b[0m: \thidden_size: 128\n",
      "\u001b[34m\u001b[1mwandb\u001b[0m: \tloss: cross_entropy\n",
      "\u001b[34m\u001b[1mwandb\u001b[0m: \tlr: 0.001\n",
      "\u001b[34m\u001b[1mwandb\u001b[0m: \toptimizer: adam\n",
      "\u001b[34m\u001b[1mwandb\u001b[0m: \tw_init: random\n",
      "\u001b[34m\u001b[1mwandb\u001b[0m: \tweight_decay: 0\n"
     ]
    },
    {
     "data": {
      "text/html": [
       "Tracking run with wandb version 0.16.4"
      ],
      "text/plain": [
       "<IPython.core.display.HTML object>"
      ]
     },
     "metadata": {},
     "output_type": "display_data"
    },
    {
     "data": {
      "text/html": [
       "Run data is saved locally in <code>/Users/sumanta/Desktop/Numpy project/cross_entropy_lesspasses/wandb/run-20240317_052129-7ndps3ay</code>"
      ],
      "text/plain": [
       "<IPython.core.display.HTML object>"
      ]
     },
     "metadata": {},
     "output_type": "display_data"
    },
    {
     "data": {
      "text/html": [
       "Syncing run <strong><a href='https://wandb.ai/sumanta_roy/CS6910_assignment_1/runs/7ndps3ay' target=\"_blank\">drawn-sweep-22</a></strong> to <a href='https://wandb.ai/sumanta_roy/CS6910_assignment_1' target=\"_blank\">Weights & Biases</a> (<a href='https://wandb.me/run' target=\"_blank\">docs</a>)<br/>Sweep page: <a href='https://wandb.ai/sumanta_roy/CS6910_assignment_1/sweeps/ff8houdp' target=\"_blank\">https://wandb.ai/sumanta_roy/CS6910_assignment_1/sweeps/ff8houdp</a>"
      ],
      "text/plain": [
       "<IPython.core.display.HTML object>"
      ]
     },
     "metadata": {},
     "output_type": "display_data"
    },
    {
     "data": {
      "text/html": [
       " View project at <a href='https://wandb.ai/sumanta_roy/CS6910_assignment_1' target=\"_blank\">https://wandb.ai/sumanta_roy/CS6910_assignment_1</a>"
      ],
      "text/plain": [
       "<IPython.core.display.HTML object>"
      ]
     },
     "metadata": {},
     "output_type": "display_data"
    },
    {
     "data": {
      "text/html": [
       " View sweep at <a href='https://wandb.ai/sumanta_roy/CS6910_assignment_1/sweeps/ff8houdp' target=\"_blank\">https://wandb.ai/sumanta_roy/CS6910_assignment_1/sweeps/ff8houdp</a>"
      ],
      "text/plain": [
       "<IPython.core.display.HTML object>"
      ]
     },
     "metadata": {},
     "output_type": "display_data"
    },
    {
     "data": {
      "text/html": [
       " View run at <a href='https://wandb.ai/sumanta_roy/CS6910_assignment_1/runs/7ndps3ay' target=\"_blank\">https://wandb.ai/sumanta_roy/CS6910_assignment_1/runs/7ndps3ay</a>"
      ],
      "text/plain": [
       "<IPython.core.display.HTML object>"
      ]
     },
     "metadata": {},
     "output_type": "display_data"
    },
    {
     "name": "stdout",
     "output_type": "stream",
     "text": [
      "Epoch: 1/10; Train Loss: 0.023171847837678162; Val Loss: 0.048452117814316784\n",
      "Epoch: 2/10; Train Loss: 0.029538994344907428; Val Loss: 0.04450516378692485\n",
      "Epoch: 3/10; Train Loss: 0.03714412855208422; Val Loss: 0.042361640604251426\n",
      "Epoch: 4/10; Train Loss: 0.027946981194157068; Val Loss: 0.04177085894550727\n",
      "Epoch: 5/10; Train Loss: 0.0232398127061379; Val Loss: 0.04060461857931704\n",
      "Epoch: 6/10; Train Loss: 0.028328499650572846; Val Loss: 0.03985985993212976\n",
      "Epoch: 7/10; Train Loss: 0.027750858079396312; Val Loss: 0.03953954108953843\n",
      "Epoch: 8/10; Train Loss: 0.021402930956586387; Val Loss: 0.03919475882769525\n",
      "Epoch: 9/10; Train Loss: 0.02331417307775425; Val Loss: 0.038516652312465906\n",
      "Epoch: 10/10; Train Loss: 0.021422479713636082; Val Loss: 0.03905779718182125\n"
     ]
    },
    {
     "data": {
      "application/vnd.jupyter.widget-view+json": {
       "model_id": "",
       "version_major": 2,
       "version_minor": 0
      },
      "text/plain": [
       "VBox(children=(Label(value='0.001 MB of 0.001 MB uploaded\\r'), FloatProgress(value=1.0, max=1.0)))"
      ]
     },
     "metadata": {},
     "output_type": "display_data"
    },
    {
     "data": {
      "text/html": [
       "<style>\n",
       "    table.wandb td:nth-child(1) { padding: 0 10px; text-align: left ; width: auto;} td:nth-child(2) {text-align: left ; width: 100%}\n",
       "    .wandb-row { display: flex; flex-direction: row; flex-wrap: wrap; justify-content: flex-start; width: 100% }\n",
       "    .wandb-col { display: flex; flex-direction: column; flex-basis: 100%; flex: 1; padding: 10px; }\n",
       "    </style>\n",
       "<div class=\"wandb-row\"><div class=\"wandb-col\"><h3>Run history:</h3><br/><table class=\"wandb\"><tr><td>epoch</td><td>▁▁▁▁▂▂▂▂▃▃▃▃▃▃▃▃▄▄▄▄▅▅▅▅▆▆▆▆▆▆▆▆▇▇▇▇████</td></tr><tr><td>train_accuracy</td><td>▁█▃▇▇▅▇▅▆▇▃▇▆█▆▂▆▅▆▃▇▅▅██▇▃▅▆▆▆▃█▇▃▅▇▅█▆</td></tr><tr><td>train_loss</td><td>▆▂▅▃▃▃▂▃▄▃▄▂▃▁▅▆▂▄▄█▃▃▃▂▂▂▆▅▃▂▂▄▂▂▅▅▁▃▁▃</td></tr><tr><td>val_accuracy</td><td>▁▃▅▅▆▆▆▆▆▆▇▇▇▇▇▇▇█▇▇███▇▇█▇█▇███▇▇██████</td></tr><tr><td>validation_loss</td><td>█▅▄▃▃▃▃▃▂▂▂▂▂▂▂▂▂▁▂▂▁▁▁▁▁▁▁▁▂▁▁▁▂▂▁▁▂▁▁▁</td></tr></table><br/></div><div class=\"wandb-col\"><h3>Run summary:</h3><br/><table class=\"wandb\"><tr><td>epoch</td><td>10</td></tr><tr><td>train_accuracy</td><td>93.75</td></tr><tr><td>train_loss</td><td>0.02142</td></tr><tr><td>val_accuracy</td><td>86.1</td></tr><tr><td>validation_loss</td><td>0.03906</td></tr></table><br/></div></div>"
      ],
      "text/plain": [
       "<IPython.core.display.HTML object>"
      ]
     },
     "metadata": {},
     "output_type": "display_data"
    },
    {
     "data": {
      "text/html": [
       " View run <strong style=\"color:#cdcd00\">drawn-sweep-22</strong> at: <a href='https://wandb.ai/sumanta_roy/CS6910_assignment_1/runs/7ndps3ay' target=\"_blank\">https://wandb.ai/sumanta_roy/CS6910_assignment_1/runs/7ndps3ay</a><br/>Synced 6 W&B file(s), 0 media file(s), 0 artifact file(s) and 0 other file(s)"
      ],
      "text/plain": [
       "<IPython.core.display.HTML object>"
      ]
     },
     "metadata": {},
     "output_type": "display_data"
    },
    {
     "data": {
      "text/html": [
       "Find logs at: <code>./wandb/run-20240317_052129-7ndps3ay/logs</code>"
      ],
      "text/plain": [
       "<IPython.core.display.HTML object>"
      ]
     },
     "metadata": {},
     "output_type": "display_data"
    },
    {
     "name": "stderr",
     "output_type": "stream",
     "text": [
      "\u001b[34m\u001b[1mwandb\u001b[0m: Agent Starting Run: p9q4s2iw with config:\n",
      "\u001b[34m\u001b[1mwandb\u001b[0m: \tactivation: tanh\n",
      "\u001b[34m\u001b[1mwandb\u001b[0m: \tbatch_size: 32\n",
      "\u001b[34m\u001b[1mwandb\u001b[0m: \tepochs: 10\n",
      "\u001b[34m\u001b[1mwandb\u001b[0m: \thidden_layers: 4\n",
      "\u001b[34m\u001b[1mwandb\u001b[0m: \thidden_size: 128\n",
      "\u001b[34m\u001b[1mwandb\u001b[0m: \tloss: cross_entropy\n",
      "\u001b[34m\u001b[1mwandb\u001b[0m: \tlr: 0.0001\n",
      "\u001b[34m\u001b[1mwandb\u001b[0m: \toptimizer: rmsprop\n",
      "\u001b[34m\u001b[1mwandb\u001b[0m: \tw_init: random\n",
      "\u001b[34m\u001b[1mwandb\u001b[0m: \tweight_decay: 0.0005\n"
     ]
    },
    {
     "data": {
      "text/html": [
       "Tracking run with wandb version 0.16.4"
      ],
      "text/plain": [
       "<IPython.core.display.HTML object>"
      ]
     },
     "metadata": {},
     "output_type": "display_data"
    },
    {
     "data": {
      "text/html": [
       "Run data is saved locally in <code>/Users/sumanta/Desktop/Numpy project/cross_entropy_lesspasses/wandb/run-20240317_052433-p9q4s2iw</code>"
      ],
      "text/plain": [
       "<IPython.core.display.HTML object>"
      ]
     },
     "metadata": {},
     "output_type": "display_data"
    },
    {
     "data": {
      "text/html": [
       "Syncing run <strong><a href='https://wandb.ai/sumanta_roy/CS6910_assignment_1/runs/p9q4s2iw' target=\"_blank\">skilled-sweep-23</a></strong> to <a href='https://wandb.ai/sumanta_roy/CS6910_assignment_1' target=\"_blank\">Weights & Biases</a> (<a href='https://wandb.me/run' target=\"_blank\">docs</a>)<br/>Sweep page: <a href='https://wandb.ai/sumanta_roy/CS6910_assignment_1/sweeps/ff8houdp' target=\"_blank\">https://wandb.ai/sumanta_roy/CS6910_assignment_1/sweeps/ff8houdp</a>"
      ],
      "text/plain": [
       "<IPython.core.display.HTML object>"
      ]
     },
     "metadata": {},
     "output_type": "display_data"
    },
    {
     "data": {
      "text/html": [
       " View project at <a href='https://wandb.ai/sumanta_roy/CS6910_assignment_1' target=\"_blank\">https://wandb.ai/sumanta_roy/CS6910_assignment_1</a>"
      ],
      "text/plain": [
       "<IPython.core.display.HTML object>"
      ]
     },
     "metadata": {},
     "output_type": "display_data"
    },
    {
     "data": {
      "text/html": [
       " View sweep at <a href='https://wandb.ai/sumanta_roy/CS6910_assignment_1/sweeps/ff8houdp' target=\"_blank\">https://wandb.ai/sumanta_roy/CS6910_assignment_1/sweeps/ff8houdp</a>"
      ],
      "text/plain": [
       "<IPython.core.display.HTML object>"
      ]
     },
     "metadata": {},
     "output_type": "display_data"
    },
    {
     "data": {
      "text/html": [
       " View run at <a href='https://wandb.ai/sumanta_roy/CS6910_assignment_1/runs/p9q4s2iw' target=\"_blank\">https://wandb.ai/sumanta_roy/CS6910_assignment_1/runs/p9q4s2iw</a>"
      ],
      "text/plain": [
       "<IPython.core.display.HTML object>"
      ]
     },
     "metadata": {},
     "output_type": "display_data"
    },
    {
     "name": "stdout",
     "output_type": "stream",
     "text": [
      "Epoch: 1/10; Train Loss: 0.15120046774503199; Val Loss: 0.07340633834268884\n",
      "Epoch: 2/10; Train Loss: 0.14818675087000707; Val Loss: 0.061588494015452924\n",
      "Epoch: 3/10; Train Loss: 0.14527356013770215; Val Loss: 0.056706535695906994\n",
      "Epoch: 4/10; Train Loss: 0.14199451170042698; Val Loss: 0.05369893280495756\n",
      "Epoch: 5/10; Train Loss: 0.1400646882897808; Val Loss: 0.051699243155347206\n",
      "Epoch: 6/10; Train Loss: 0.13940042539269196; Val Loss: 0.05023675724052003\n",
      "Epoch: 7/10; Train Loss: 0.1393228322338771; Val Loss: 0.049095134821105134\n",
      "Epoch: 8/10; Train Loss: 0.13940817080917178; Val Loss: 0.048183385430783765\n",
      "Epoch: 9/10; Train Loss: 0.13943047312521978; Val Loss: 0.047446477187512666\n",
      "Epoch: 10/10; Train Loss: 0.1393093347767522; Val Loss: 0.046845508806740314\n"
     ]
    },
    {
     "data": {
      "application/vnd.jupyter.widget-view+json": {
       "model_id": "",
       "version_major": 2,
       "version_minor": 0
      },
      "text/plain": [
       "VBox(children=(Label(value='0.001 MB of 0.001 MB uploaded\\r'), FloatProgress(value=1.0, max=1.0)))"
      ]
     },
     "metadata": {},
     "output_type": "display_data"
    },
    {
     "data": {
      "text/html": [
       "<style>\n",
       "    table.wandb td:nth-child(1) { padding: 0 10px; text-align: left ; width: auto;} td:nth-child(2) {text-align: left ; width: 100%}\n",
       "    .wandb-row { display: flex; flex-direction: row; flex-wrap: wrap; justify-content: flex-start; width: 100% }\n",
       "    .wandb-col { display: flex; flex-direction: column; flex-basis: 100%; flex: 1; padding: 10px; }\n",
       "    </style>\n",
       "<div class=\"wandb-row\"><div class=\"wandb-col\"><h3>Run history:</h3><br/><table class=\"wandb\"><tr><td>epoch</td><td>▁▁▁▁▂▂▂▂▃▃▃▃▃▃▃▃▄▄▄▄▅▅▅▅▆▆▆▆▆▆▆▆▇▇▇▇████</td></tr><tr><td>train_accuracy</td><td>▁▃▃▅▆▆▅▅▅▅▆█▆▆▇▆▆▄▆▆▆▆▇▇▆▆▄▇▄▇▆▆█▇▆▇█▆▇▇</td></tr><tr><td>train_loss</td><td>█▄▄▂▃▃▂▂▃▂▂▁▂▂▂▃▂▄▂▂▂▃▁▁▂▂▄▂▂▁▂▂▁▂▂▂▁▂▁▂</td></tr><tr><td>val_accuracy</td><td>▁▅▆▆▇▇▇▇▇▇▇▇▇███████████████████████████</td></tr><tr><td>validation_loss</td><td>█▄▃▂▂▂▂▂▂▂▂▁▁▁▁▁▁▁▁▁▁▁▁▁▁▁▁▁▁▁▁▁▁▁▁▁▁▁▁▁</td></tr></table><br/></div><div class=\"wandb-col\"><h3>Run summary:</h3><br/><table class=\"wandb\"><tr><td>epoch</td><td>10</td></tr><tr><td>train_accuracy</td><td>87.5</td></tr><tr><td>train_loss</td><td>0.13931</td></tr><tr><td>val_accuracy</td><td>83.55</td></tr><tr><td>validation_loss</td><td>0.04685</td></tr></table><br/></div></div>"
      ],
      "text/plain": [
       "<IPython.core.display.HTML object>"
      ]
     },
     "metadata": {},
     "output_type": "display_data"
    },
    {
     "data": {
      "text/html": [
       " View run <strong style=\"color:#cdcd00\">skilled-sweep-23</strong> at: <a href='https://wandb.ai/sumanta_roy/CS6910_assignment_1/runs/p9q4s2iw' target=\"_blank\">https://wandb.ai/sumanta_roy/CS6910_assignment_1/runs/p9q4s2iw</a><br/>Synced 6 W&B file(s), 0 media file(s), 0 artifact file(s) and 0 other file(s)"
      ],
      "text/plain": [
       "<IPython.core.display.HTML object>"
      ]
     },
     "metadata": {},
     "output_type": "display_data"
    },
    {
     "data": {
      "text/html": [
       "Find logs at: <code>./wandb/run-20240317_052433-p9q4s2iw/logs</code>"
      ],
      "text/plain": [
       "<IPython.core.display.HTML object>"
      ]
     },
     "metadata": {},
     "output_type": "display_data"
    },
    {
     "name": "stderr",
     "output_type": "stream",
     "text": [
      "\u001b[34m\u001b[1mwandb\u001b[0m: Agent Starting Run: 6f0hjuje with config:\n",
      "\u001b[34m\u001b[1mwandb\u001b[0m: \tactivation: tanh\n",
      "\u001b[34m\u001b[1mwandb\u001b[0m: \tbatch_size: 32\n",
      "\u001b[34m\u001b[1mwandb\u001b[0m: \tepochs: 10\n",
      "\u001b[34m\u001b[1mwandb\u001b[0m: \thidden_layers: 4\n",
      "\u001b[34m\u001b[1mwandb\u001b[0m: \thidden_size: 128\n",
      "\u001b[34m\u001b[1mwandb\u001b[0m: \tloss: cross_entropy\n",
      "\u001b[34m\u001b[1mwandb\u001b[0m: \tlr: 0.0001\n",
      "\u001b[34m\u001b[1mwandb\u001b[0m: \toptimizer: nadam\n",
      "\u001b[34m\u001b[1mwandb\u001b[0m: \tw_init: random\n",
      "\u001b[34m\u001b[1mwandb\u001b[0m: \tweight_decay: 0\n"
     ]
    },
    {
     "data": {
      "text/html": [
       "Tracking run with wandb version 0.16.4"
      ],
      "text/plain": [
       "<IPython.core.display.HTML object>"
      ]
     },
     "metadata": {},
     "output_type": "display_data"
    },
    {
     "data": {
      "text/html": [
       "Run data is saved locally in <code>/Users/sumanta/Desktop/Numpy project/cross_entropy_lesspasses/wandb/run-20240317_052641-6f0hjuje</code>"
      ],
      "text/plain": [
       "<IPython.core.display.HTML object>"
      ]
     },
     "metadata": {},
     "output_type": "display_data"
    },
    {
     "data": {
      "text/html": [
       "Syncing run <strong><a href='https://wandb.ai/sumanta_roy/CS6910_assignment_1/runs/6f0hjuje' target=\"_blank\">electric-sweep-24</a></strong> to <a href='https://wandb.ai/sumanta_roy/CS6910_assignment_1' target=\"_blank\">Weights & Biases</a> (<a href='https://wandb.me/run' target=\"_blank\">docs</a>)<br/>Sweep page: <a href='https://wandb.ai/sumanta_roy/CS6910_assignment_1/sweeps/ff8houdp' target=\"_blank\">https://wandb.ai/sumanta_roy/CS6910_assignment_1/sweeps/ff8houdp</a>"
      ],
      "text/plain": [
       "<IPython.core.display.HTML object>"
      ]
     },
     "metadata": {},
     "output_type": "display_data"
    },
    {
     "data": {
      "text/html": [
       " View project at <a href='https://wandb.ai/sumanta_roy/CS6910_assignment_1' target=\"_blank\">https://wandb.ai/sumanta_roy/CS6910_assignment_1</a>"
      ],
      "text/plain": [
       "<IPython.core.display.HTML object>"
      ]
     },
     "metadata": {},
     "output_type": "display_data"
    },
    {
     "data": {
      "text/html": [
       " View sweep at <a href='https://wandb.ai/sumanta_roy/CS6910_assignment_1/sweeps/ff8houdp' target=\"_blank\">https://wandb.ai/sumanta_roy/CS6910_assignment_1/sweeps/ff8houdp</a>"
      ],
      "text/plain": [
       "<IPython.core.display.HTML object>"
      ]
     },
     "metadata": {},
     "output_type": "display_data"
    },
    {
     "data": {
      "text/html": [
       " View run at <a href='https://wandb.ai/sumanta_roy/CS6910_assignment_1/runs/6f0hjuje' target=\"_blank\">https://wandb.ai/sumanta_roy/CS6910_assignment_1/runs/6f0hjuje</a>"
      ],
      "text/plain": [
       "<IPython.core.display.HTML object>"
      ]
     },
     "metadata": {},
     "output_type": "display_data"
    },
    {
     "name": "stdout",
     "output_type": "stream",
     "text": [
      "Epoch: 1/10; Train Loss: 0.1617136168346859; Val Loss: 0.16918541918901142\n",
      "Epoch: 2/10; Train Loss: 0.12985595938415329; Val Loss: 0.13353829602304865\n",
      "Epoch: 3/10; Train Loss: 0.11795024848416169; Val Loss: 0.11481249384926615\n",
      "Epoch: 4/10; Train Loss: 0.10971125144891636; Val Loss: 0.10301731173604321\n",
      "Epoch: 5/10; Train Loss: 0.10208163264276952; Val Loss: 0.0948947506502435\n",
      "Epoch: 6/10; Train Loss: 0.09411786742965125; Val Loss: 0.08887749724696249\n",
      "Epoch: 7/10; Train Loss: 0.0865685650145259; Val Loss: 0.08420556998686878\n",
      "Epoch: 8/10; Train Loss: 0.08018161805792647; Val Loss: 0.08047834973266153\n",
      "Epoch: 9/10; Train Loss: 0.0748072796658531; Val Loss: 0.07745960105222695\n",
      "Epoch: 10/10; Train Loss: 0.07022979464670331; Val Loss: 0.0749879226720921\n"
     ]
    },
    {
     "data": {
      "application/vnd.jupyter.widget-view+json": {
       "model_id": "",
       "version_major": 2,
       "version_minor": 0
      },
      "text/plain": [
       "VBox(children=(Label(value='0.001 MB of 0.001 MB uploaded\\r'), FloatProgress(value=1.0, max=1.0)))"
      ]
     },
     "metadata": {},
     "output_type": "display_data"
    },
    {
     "data": {
      "text/html": [
       "<style>\n",
       "    table.wandb td:nth-child(1) { padding: 0 10px; text-align: left ; width: auto;} td:nth-child(2) {text-align: left ; width: 100%}\n",
       "    .wandb-row { display: flex; flex-direction: row; flex-wrap: wrap; justify-content: flex-start; width: 100% }\n",
       "    .wandb-col { display: flex; flex-direction: column; flex-basis: 100%; flex: 1; padding: 10px; }\n",
       "    </style>\n",
       "<div class=\"wandb-row\"><div class=\"wandb-col\"><h3>Run history:</h3><br/><table class=\"wandb\"><tr><td>epoch</td><td>▁▁▁▁▂▂▂▂▃▃▃▃▃▃▃▃▄▄▄▄▅▅▅▅▆▆▆▆▆▆▆▆▇▇▇▇████</td></tr><tr><td>train_accuracy</td><td>▁▂▄▂▃▄▄▃▄▅▄▄▄▅▆▃▅▃█▅▆▆▆▆▅▅▅▇▆▇▆▄█▆▇▅▆▆▇▆</td></tr><tr><td>train_loss</td><td>█▆▄▅▅▄▃▄▄▃▃▄▃▂▂▃▂▄▁▂▂▂▂▂▃▃▃▁▃▁▁▂▁▂▂▂▁▂▁▂</td></tr><tr><td>val_accuracy</td><td>▁▂▄▄▅▅▅▆▆▆▆▆▇▇▇▇▇▇▇▇▇▇▇▇████████████████</td></tr><tr><td>validation_loss</td><td>█▆▅▄▄▃▃▃▃▂▂▂▂▂▂▂▂▂▂▂▂▂▁▁▁▁▁▁▁▁▁▁▁▁▁▁▁▁▁▁</td></tr></table><br/></div><div class=\"wandb-col\"><h3>Run summary:</h3><br/><table class=\"wandb\"><tr><td>epoch</td><td>10</td></tr><tr><td>train_accuracy</td><td>71.875</td></tr><tr><td>train_loss</td><td>0.07023</td></tr><tr><td>val_accuracy</td><td>72.85</td></tr><tr><td>validation_loss</td><td>0.07499</td></tr></table><br/></div></div>"
      ],
      "text/plain": [
       "<IPython.core.display.HTML object>"
      ]
     },
     "metadata": {},
     "output_type": "display_data"
    },
    {
     "data": {
      "text/html": [
       " View run <strong style=\"color:#cdcd00\">electric-sweep-24</strong> at: <a href='https://wandb.ai/sumanta_roy/CS6910_assignment_1/runs/6f0hjuje' target=\"_blank\">https://wandb.ai/sumanta_roy/CS6910_assignment_1/runs/6f0hjuje</a><br/>Synced 6 W&B file(s), 0 media file(s), 0 artifact file(s) and 0 other file(s)"
      ],
      "text/plain": [
       "<IPython.core.display.HTML object>"
      ]
     },
     "metadata": {},
     "output_type": "display_data"
    },
    {
     "data": {
      "text/html": [
       "Find logs at: <code>./wandb/run-20240317_052641-6f0hjuje/logs</code>"
      ],
      "text/plain": [
       "<IPython.core.display.HTML object>"
      ]
     },
     "metadata": {},
     "output_type": "display_data"
    },
    {
     "name": "stderr",
     "output_type": "stream",
     "text": [
      "\u001b[34m\u001b[1mwandb\u001b[0m: Agent Starting Run: 7vyd3d7q with config:\n",
      "\u001b[34m\u001b[1mwandb\u001b[0m: \tactivation: tanh\n",
      "\u001b[34m\u001b[1mwandb\u001b[0m: \tbatch_size: 32\n",
      "\u001b[34m\u001b[1mwandb\u001b[0m: \tepochs: 10\n",
      "\u001b[34m\u001b[1mwandb\u001b[0m: \thidden_layers: 5\n",
      "\u001b[34m\u001b[1mwandb\u001b[0m: \thidden_size: 128\n",
      "\u001b[34m\u001b[1mwandb\u001b[0m: \tloss: cross_entropy\n",
      "\u001b[34m\u001b[1mwandb\u001b[0m: \tlr: 0.0001\n",
      "\u001b[34m\u001b[1mwandb\u001b[0m: \toptimizer: adam\n",
      "\u001b[34m\u001b[1mwandb\u001b[0m: \tw_init: random\n",
      "\u001b[34m\u001b[1mwandb\u001b[0m: \tweight_decay: 0.0005\n"
     ]
    },
    {
     "data": {
      "text/html": [
       "Tracking run with wandb version 0.16.4"
      ],
      "text/plain": [
       "<IPython.core.display.HTML object>"
      ]
     },
     "metadata": {},
     "output_type": "display_data"
    },
    {
     "data": {
      "text/html": [
       "Run data is saved locally in <code>/Users/sumanta/Desktop/Numpy project/cross_entropy_lesspasses/wandb/run-20240317_052912-7vyd3d7q</code>"
      ],
      "text/plain": [
       "<IPython.core.display.HTML object>"
      ]
     },
     "metadata": {},
     "output_type": "display_data"
    },
    {
     "data": {
      "text/html": [
       "Syncing run <strong><a href='https://wandb.ai/sumanta_roy/CS6910_assignment_1/runs/7vyd3d7q' target=\"_blank\">rose-sweep-25</a></strong> to <a href='https://wandb.ai/sumanta_roy/CS6910_assignment_1' target=\"_blank\">Weights & Biases</a> (<a href='https://wandb.me/run' target=\"_blank\">docs</a>)<br/>Sweep page: <a href='https://wandb.ai/sumanta_roy/CS6910_assignment_1/sweeps/ff8houdp' target=\"_blank\">https://wandb.ai/sumanta_roy/CS6910_assignment_1/sweeps/ff8houdp</a>"
      ],
      "text/plain": [
       "<IPython.core.display.HTML object>"
      ]
     },
     "metadata": {},
     "output_type": "display_data"
    },
    {
     "data": {
      "text/html": [
       " View project at <a href='https://wandb.ai/sumanta_roy/CS6910_assignment_1' target=\"_blank\">https://wandb.ai/sumanta_roy/CS6910_assignment_1</a>"
      ],
      "text/plain": [
       "<IPython.core.display.HTML object>"
      ]
     },
     "metadata": {},
     "output_type": "display_data"
    },
    {
     "data": {
      "text/html": [
       " View sweep at <a href='https://wandb.ai/sumanta_roy/CS6910_assignment_1/sweeps/ff8houdp' target=\"_blank\">https://wandb.ai/sumanta_roy/CS6910_assignment_1/sweeps/ff8houdp</a>"
      ],
      "text/plain": [
       "<IPython.core.display.HTML object>"
      ]
     },
     "metadata": {},
     "output_type": "display_data"
    },
    {
     "data": {
      "text/html": [
       " View run at <a href='https://wandb.ai/sumanta_roy/CS6910_assignment_1/runs/7vyd3d7q' target=\"_blank\">https://wandb.ai/sumanta_roy/CS6910_assignment_1/runs/7vyd3d7q</a>"
      ],
      "text/plain": [
       "<IPython.core.display.HTML object>"
      ]
     },
     "metadata": {},
     "output_type": "display_data"
    },
    {
     "name": "stdout",
     "output_type": "stream",
     "text": [
      "Epoch: 1/10; Train Loss: 0.18451186227000213; Val Loss: 0.10537397379512463\n",
      "Epoch: 2/10; Train Loss: 0.16960589155875444; Val Loss: 0.08809916728425546\n",
      "Epoch: 3/10; Train Loss: 0.16282161315130492; Val Loss: 0.07911697738894143\n",
      "Epoch: 4/10; Train Loss: 0.15795073394420922; Val Loss: 0.07305298656847681\n",
      "Epoch: 5/10; Train Loss: 0.15432799076565512; Val Loss: 0.06900765164000149\n",
      "Epoch: 6/10; Train Loss: 0.15232274748285882; Val Loss: 0.06615112842999657\n",
      "Epoch: 7/10; Train Loss: 0.15114342687567453; Val Loss: 0.06401109787232374\n",
      "Epoch: 8/10; Train Loss: 0.15034787513156317; Val Loss: 0.06232232210384707\n",
      "Epoch: 9/10; Train Loss: 0.14969932446060563; Val Loss: 0.06096187346105203\n",
      "Epoch: 10/10; Train Loss: 0.14895227563628033; Val Loss: 0.05983719402819143\n"
     ]
    },
    {
     "data": {
      "application/vnd.jupyter.widget-view+json": {
       "model_id": "",
       "version_major": 2,
       "version_minor": 0
      },
      "text/plain": [
       "VBox(children=(Label(value='0.001 MB of 0.001 MB uploaded\\r'), FloatProgress(value=1.0, max=1.0)))"
      ]
     },
     "metadata": {},
     "output_type": "display_data"
    },
    {
     "data": {
      "text/html": [
       "<style>\n",
       "    table.wandb td:nth-child(1) { padding: 0 10px; text-align: left ; width: auto;} td:nth-child(2) {text-align: left ; width: 100%}\n",
       "    .wandb-row { display: flex; flex-direction: row; flex-wrap: wrap; justify-content: flex-start; width: 100% }\n",
       "    .wandb-col { display: flex; flex-direction: column; flex-basis: 100%; flex: 1; padding: 10px; }\n",
       "    </style>\n",
       "<div class=\"wandb-row\"><div class=\"wandb-col\"><h3>Run history:</h3><br/><table class=\"wandb\"><tr><td>epoch</td><td>▁▁▁▁▂▂▂▂▃▃▃▃▃▃▃▃▄▄▄▄▅▅▅▅▆▆▆▆▆▆▆▆▇▇▇▇████</td></tr><tr><td>train_accuracy</td><td>▁▂▃▃▅▄▃▅▄▃▆▅▅▆▅▆▅▄▇▅▅▅▇▇▅▆▅▆▆▇▆▅█▆▆▆▇▆█▇</td></tr><tr><td>train_loss</td><td>█▅▅▄▃▄▃▂▄▃▃▃▃▂▂▃▂▃▂▃▂▃▂▂▃▂▃▂▂▁▂▂▁▂▂▂▁▂▁▁</td></tr><tr><td>val_accuracy</td><td>▁▃▅▅▅▆▆▆▆▇▇▇▇▇▇▇▇▇▇▇▇▇▇█████████████████</td></tr><tr><td>validation_loss</td><td>█▅▄▃▃▃▂▂▂▂▂▂▂▂▂▂▂▂▁▁▁▁▁▁▁▁▁▁▁▁▁▁▁▁▁▁▁▁▁▁</td></tr></table><br/></div><div class=\"wandb-col\"><h3>Run summary:</h3><br/><table class=\"wandb\"><tr><td>epoch</td><td>10</td></tr><tr><td>train_accuracy</td><td>78.125</td></tr><tr><td>train_loss</td><td>0.14895</td></tr><tr><td>val_accuracy</td><td>79.61667</td></tr><tr><td>validation_loss</td><td>0.05984</td></tr></table><br/></div></div>"
      ],
      "text/plain": [
       "<IPython.core.display.HTML object>"
      ]
     },
     "metadata": {},
     "output_type": "display_data"
    },
    {
     "data": {
      "text/html": [
       " View run <strong style=\"color:#cdcd00\">rose-sweep-25</strong> at: <a href='https://wandb.ai/sumanta_roy/CS6910_assignment_1/runs/7vyd3d7q' target=\"_blank\">https://wandb.ai/sumanta_roy/CS6910_assignment_1/runs/7vyd3d7q</a><br/>Synced 6 W&B file(s), 0 media file(s), 0 artifact file(s) and 0 other file(s)"
      ],
      "text/plain": [
       "<IPython.core.display.HTML object>"
      ]
     },
     "metadata": {},
     "output_type": "display_data"
    },
    {
     "data": {
      "text/html": [
       "Find logs at: <code>./wandb/run-20240317_052912-7vyd3d7q/logs</code>"
      ],
      "text/plain": [
       "<IPython.core.display.HTML object>"
      ]
     },
     "metadata": {},
     "output_type": "display_data"
    },
    {
     "name": "stderr",
     "output_type": "stream",
     "text": [
      "\u001b[34m\u001b[1mwandb\u001b[0m: Agent Starting Run: w7fn5wgk with config:\n",
      "\u001b[34m\u001b[1mwandb\u001b[0m: \tactivation: tanh\n",
      "\u001b[34m\u001b[1mwandb\u001b[0m: \tbatch_size: 16\n",
      "\u001b[34m\u001b[1mwandb\u001b[0m: \tepochs: 10\n",
      "\u001b[34m\u001b[1mwandb\u001b[0m: \thidden_layers: 4\n",
      "\u001b[34m\u001b[1mwandb\u001b[0m: \thidden_size: 128\n",
      "\u001b[34m\u001b[1mwandb\u001b[0m: \tloss: cross_entropy\n",
      "\u001b[34m\u001b[1mwandb\u001b[0m: \tlr: 0.001\n",
      "\u001b[34m\u001b[1mwandb\u001b[0m: \toptimizer: adam\n",
      "\u001b[34m\u001b[1mwandb\u001b[0m: \tw_init: glorot\n",
      "\u001b[34m\u001b[1mwandb\u001b[0m: \tweight_decay: 0.5\n"
     ]
    },
    {
     "data": {
      "text/html": [
       "Tracking run with wandb version 0.16.4"
      ],
      "text/plain": [
       "<IPython.core.display.HTML object>"
      ]
     },
     "metadata": {},
     "output_type": "display_data"
    },
    {
     "data": {
      "text/html": [
       "Run data is saved locally in <code>/Users/sumanta/Desktop/Numpy project/cross_entropy_lesspasses/wandb/run-20240317_053156-w7fn5wgk</code>"
      ],
      "text/plain": [
       "<IPython.core.display.HTML object>"
      ]
     },
     "metadata": {},
     "output_type": "display_data"
    },
    {
     "data": {
      "text/html": [
       "Syncing run <strong><a href='https://wandb.ai/sumanta_roy/CS6910_assignment_1/runs/w7fn5wgk' target=\"_blank\">solar-sweep-26</a></strong> to <a href='https://wandb.ai/sumanta_roy/CS6910_assignment_1' target=\"_blank\">Weights & Biases</a> (<a href='https://wandb.me/run' target=\"_blank\">docs</a>)<br/>Sweep page: <a href='https://wandb.ai/sumanta_roy/CS6910_assignment_1/sweeps/ff8houdp' target=\"_blank\">https://wandb.ai/sumanta_roy/CS6910_assignment_1/sweeps/ff8houdp</a>"
      ],
      "text/plain": [
       "<IPython.core.display.HTML object>"
      ]
     },
     "metadata": {},
     "output_type": "display_data"
    },
    {
     "data": {
      "text/html": [
       " View project at <a href='https://wandb.ai/sumanta_roy/CS6910_assignment_1' target=\"_blank\">https://wandb.ai/sumanta_roy/CS6910_assignment_1</a>"
      ],
      "text/plain": [
       "<IPython.core.display.HTML object>"
      ]
     },
     "metadata": {},
     "output_type": "display_data"
    },
    {
     "data": {
      "text/html": [
       " View sweep at <a href='https://wandb.ai/sumanta_roy/CS6910_assignment_1/sweeps/ff8houdp' target=\"_blank\">https://wandb.ai/sumanta_roy/CS6910_assignment_1/sweeps/ff8houdp</a>"
      ],
      "text/plain": [
       "<IPython.core.display.HTML object>"
      ]
     },
     "metadata": {},
     "output_type": "display_data"
    },
    {
     "data": {
      "text/html": [
       " View run at <a href='https://wandb.ai/sumanta_roy/CS6910_assignment_1/runs/w7fn5wgk' target=\"_blank\">https://wandb.ai/sumanta_roy/CS6910_assignment_1/runs/w7fn5wgk</a>"
      ],
      "text/plain": [
       "<IPython.core.display.HTML object>"
      ]
     },
     "metadata": {},
     "output_type": "display_data"
    },
    {
     "name": "stdout",
     "output_type": "stream",
     "text": [
      "Epoch: 1/10; Train Loss: 0.6254562192865888; Val Loss: 0.06330097821568548\n",
      "Epoch: 2/10; Train Loss: 0.6131652238024488; Val Loss: 0.06300307631252058\n",
      "Epoch: 3/10; Train Loss: 0.5731171327972655; Val Loss: 0.06336104997857628\n",
      "Epoch: 4/10; Train Loss: 0.5673777491964694; Val Loss: 0.06316466421006844\n",
      "Epoch: 5/10; Train Loss: 0.5669136840905283; Val Loss: 0.06311166027619415\n",
      "Epoch: 6/10; Train Loss: 0.5666635670490937; Val Loss: 0.06304172316871647\n",
      "Epoch: 7/10; Train Loss: 0.5668489006380609; Val Loss: 0.06299321699912905\n",
      "Epoch: 8/10; Train Loss: 0.5674153478547186; Val Loss: 0.06292016194363191\n",
      "Epoch: 9/10; Train Loss: 0.5677834761202416; Val Loss: 0.06280465148302754\n",
      "Epoch: 10/10; Train Loss: 0.5681121918808898; Val Loss: 0.062746107119387\n"
     ]
    },
    {
     "data": {
      "application/vnd.jupyter.widget-view+json": {
       "model_id": "",
       "version_major": 2,
       "version_minor": 0
      },
      "text/plain": [
       "VBox(children=(Label(value='0.001 MB of 0.001 MB uploaded\\r'), FloatProgress(value=1.0, max=1.0)))"
      ]
     },
     "metadata": {},
     "output_type": "display_data"
    },
    {
     "data": {
      "text/html": [
       "<style>\n",
       "    table.wandb td:nth-child(1) { padding: 0 10px; text-align: left ; width: auto;} td:nth-child(2) {text-align: left ; width: 100%}\n",
       "    .wandb-row { display: flex; flex-direction: row; flex-wrap: wrap; justify-content: flex-start; width: 100% }\n",
       "    .wandb-col { display: flex; flex-direction: column; flex-basis: 100%; flex: 1; padding: 10px; }\n",
       "    </style>\n",
       "<div class=\"wandb-row\"><div class=\"wandb-col\"><h3>Run history:</h3><br/><table class=\"wandb\"><tr><td>epoch</td><td>▁▁▁▁▂▂▂▂▃▃▃▃▃▃▃▃▄▄▄▄▅▅▅▅▆▆▆▆▆▆▆▆▇▇▇▇████</td></tr><tr><td>train_accuracy</td><td>▃█▆▇█▆█▅▂▇▅█▅█▃▆▇▁▇▃▂▆▃▅▆▇▁▆▃█▅▇██▅▁█▃▇▆</td></tr><tr><td>train_loss</td><td>█▂▂▂▂▂▂▂▂▂▂▁▁▁▁▁▁▂▁▂▁▂▁▁▁▁▂▁▁▁▁▁▁▁▁▂▁▁▁▁</td></tr><tr><td>val_accuracy</td><td>▁▅▅▇▆▇█▆▇█▆▇█▇█▇▆▇▆▅▆▆▇▆▆▇▇▆█▇▇▃▆▇▇▆▇▆█▆</td></tr><tr><td>validation_loss</td><td>█▃▅▃▂▂▁▂▁▁▄▁▁▁▁▂▂▁▂▂▂▂▁▃▂▁▁▂▁▂▂▄▂▁▂▁▂▂▂▁</td></tr></table><br/></div><div class=\"wandb-col\"><h3>Run summary:</h3><br/><table class=\"wandb\"><tr><td>epoch</td><td>10</td></tr><tr><td>train_accuracy</td><td>81.25</td></tr><tr><td>train_loss</td><td>0.56811</td></tr><tr><td>val_accuracy</td><td>79.36667</td></tr><tr><td>validation_loss</td><td>0.06275</td></tr></table><br/></div></div>"
      ],
      "text/plain": [
       "<IPython.core.display.HTML object>"
      ]
     },
     "metadata": {},
     "output_type": "display_data"
    },
    {
     "data": {
      "text/html": [
       " View run <strong style=\"color:#cdcd00\">solar-sweep-26</strong> at: <a href='https://wandb.ai/sumanta_roy/CS6910_assignment_1/runs/w7fn5wgk' target=\"_blank\">https://wandb.ai/sumanta_roy/CS6910_assignment_1/runs/w7fn5wgk</a><br/>Synced 6 W&B file(s), 0 media file(s), 0 artifact file(s) and 0 other file(s)"
      ],
      "text/plain": [
       "<IPython.core.display.HTML object>"
      ]
     },
     "metadata": {},
     "output_type": "display_data"
    },
    {
     "data": {
      "text/html": [
       "Find logs at: <code>./wandb/run-20240317_053156-w7fn5wgk/logs</code>"
      ],
      "text/plain": [
       "<IPython.core.display.HTML object>"
      ]
     },
     "metadata": {},
     "output_type": "display_data"
    },
    {
     "name": "stderr",
     "output_type": "stream",
     "text": [
      "\u001b[34m\u001b[1mwandb\u001b[0m: Agent Starting Run: shculw0j with config:\n",
      "\u001b[34m\u001b[1mwandb\u001b[0m: \tactivation: tanh\n",
      "\u001b[34m\u001b[1mwandb\u001b[0m: \tbatch_size: 16\n",
      "\u001b[34m\u001b[1mwandb\u001b[0m: \tepochs: 10\n",
      "\u001b[34m\u001b[1mwandb\u001b[0m: \thidden_layers: 5\n",
      "\u001b[34m\u001b[1mwandb\u001b[0m: \thidden_size: 128\n",
      "\u001b[34m\u001b[1mwandb\u001b[0m: \tloss: cross_entropy\n",
      "\u001b[34m\u001b[1mwandb\u001b[0m: \tlr: 0.001\n",
      "\u001b[34m\u001b[1mwandb\u001b[0m: \toptimizer: nadam\n",
      "\u001b[34m\u001b[1mwandb\u001b[0m: \tw_init: random\n",
      "\u001b[34m\u001b[1mwandb\u001b[0m: \tweight_decay: 0.0005\n"
     ]
    },
    {
     "data": {
      "text/html": [
       "Tracking run with wandb version 0.16.4"
      ],
      "text/plain": [
       "<IPython.core.display.HTML object>"
      ]
     },
     "metadata": {},
     "output_type": "display_data"
    },
    {
     "data": {
      "text/html": [
       "Run data is saved locally in <code>/Users/sumanta/Desktop/Numpy project/cross_entropy_lesspasses/wandb/run-20240317_053501-shculw0j</code>"
      ],
      "text/plain": [
       "<IPython.core.display.HTML object>"
      ]
     },
     "metadata": {},
     "output_type": "display_data"
    },
    {
     "data": {
      "text/html": [
       "Syncing run <strong><a href='https://wandb.ai/sumanta_roy/CS6910_assignment_1/runs/shculw0j' target=\"_blank\">lemon-sweep-27</a></strong> to <a href='https://wandb.ai/sumanta_roy/CS6910_assignment_1' target=\"_blank\">Weights & Biases</a> (<a href='https://wandb.me/run' target=\"_blank\">docs</a>)<br/>Sweep page: <a href='https://wandb.ai/sumanta_roy/CS6910_assignment_1/sweeps/ff8houdp' target=\"_blank\">https://wandb.ai/sumanta_roy/CS6910_assignment_1/sweeps/ff8houdp</a>"
      ],
      "text/plain": [
       "<IPython.core.display.HTML object>"
      ]
     },
     "metadata": {},
     "output_type": "display_data"
    },
    {
     "data": {
      "text/html": [
       " View project at <a href='https://wandb.ai/sumanta_roy/CS6910_assignment_1' target=\"_blank\">https://wandb.ai/sumanta_roy/CS6910_assignment_1</a>"
      ],
      "text/plain": [
       "<IPython.core.display.HTML object>"
      ]
     },
     "metadata": {},
     "output_type": "display_data"
    },
    {
     "data": {
      "text/html": [
       " View sweep at <a href='https://wandb.ai/sumanta_roy/CS6910_assignment_1/sweeps/ff8houdp' target=\"_blank\">https://wandb.ai/sumanta_roy/CS6910_assignment_1/sweeps/ff8houdp</a>"
      ],
      "text/plain": [
       "<IPython.core.display.HTML object>"
      ]
     },
     "metadata": {},
     "output_type": "display_data"
    },
    {
     "data": {
      "text/html": [
       " View run at <a href='https://wandb.ai/sumanta_roy/CS6910_assignment_1/runs/shculw0j' target=\"_blank\">https://wandb.ai/sumanta_roy/CS6910_assignment_1/runs/shculw0j</a>"
      ],
      "text/plain": [
       "<IPython.core.display.HTML object>"
      ]
     },
     "metadata": {},
     "output_type": "display_data"
    },
    {
     "name": "stdout",
     "output_type": "stream",
     "text": [
      "Epoch: 1/10; Train Loss: 0.24125078018551696; Val Loss: 0.07386887910127439\n",
      "Epoch: 2/10; Train Loss: 0.24666635941685774; Val Loss: 0.06428856786700224\n",
      "Epoch: 3/10; Train Loss: 0.2445653708475549; Val Loss: 0.05991318145916175\n",
      "Epoch: 4/10; Train Loss: 0.2423622662776765; Val Loss: 0.05709042772012108\n",
      "Epoch: 5/10; Train Loss: 0.241982697548187; Val Loss: 0.055174195303626494\n",
      "Epoch: 6/10; Train Loss: 0.24266877463568526; Val Loss: 0.053833995904546815\n",
      "Epoch: 7/10; Train Loss: 0.24289351954197003; Val Loss: 0.052788073229438855\n",
      "Epoch: 8/10; Train Loss: 0.24292435276769478; Val Loss: 0.0519058140988328\n",
      "Epoch: 9/10; Train Loss: 0.2419736646313848; Val Loss: 0.05116626316093583\n",
      "Epoch: 10/10; Train Loss: 0.2403201973642471; Val Loss: 0.05057937315014276\n"
     ]
    },
    {
     "data": {
      "application/vnd.jupyter.widget-view+json": {
       "model_id": "",
       "version_major": 2,
       "version_minor": 0
      },
      "text/plain": [
       "VBox(children=(Label(value='0.001 MB of 0.027 MB uploaded\\r'), FloatProgress(value=0.027353576869928783, max=1…"
      ]
     },
     "metadata": {},
     "output_type": "display_data"
    },
    {
     "data": {
      "text/html": [
       "<style>\n",
       "    table.wandb td:nth-child(1) { padding: 0 10px; text-align: left ; width: auto;} td:nth-child(2) {text-align: left ; width: 100%}\n",
       "    .wandb-row { display: flex; flex-direction: row; flex-wrap: wrap; justify-content: flex-start; width: 100% }\n",
       "    .wandb-col { display: flex; flex-direction: column; flex-basis: 100%; flex: 1; padding: 10px; }\n",
       "    </style>\n",
       "<div class=\"wandb-row\"><div class=\"wandb-col\"><h3>Run history:</h3><br/><table class=\"wandb\"><tr><td>epoch</td><td>▁▁▁▁▂▂▂▂▃▃▃▃▃▃▃▃▄▄▄▄▅▅▅▅▆▆▆▆▆▆▆▆▇▇▇▇████</td></tr><tr><td>train_accuracy</td><td>▃▃▄▅▆▁▅▂▅▅▃▆▆▆▅▄▇▂▅▃▅▅▄▇▇█▂▅▆▅▆▅██▅▅▇▅▇▄</td></tr><tr><td>train_loss</td><td>█▇▆▅▄█▄▇▅▆▆▃▄▃▃▆▃▇▄▇▅▄▄▂▂▁▇▄▃▃▃▅▁▂▄▅▁▄▁▃</td></tr><tr><td>val_accuracy</td><td>▁▄▅▅▆▆▆▆▇▇▇▇▇▇▇▇▇▇▇▇████████████████████</td></tr><tr><td>validation_loss</td><td>█▅▄▃▃▃▃▂▂▂▂▂▂▂▂▂▂▂▁▁▁▁▁▁▁▁▁▁▁▁▁▁▁▁▁▁▁▁▁▁</td></tr></table><br/></div><div class=\"wandb-col\"><h3>Run summary:</h3><br/><table class=\"wandb\"><tr><td>epoch</td><td>10</td></tr><tr><td>train_accuracy</td><td>87.5</td></tr><tr><td>train_loss</td><td>0.24032</td></tr><tr><td>val_accuracy</td><td>81.98333</td></tr><tr><td>validation_loss</td><td>0.05058</td></tr></table><br/></div></div>"
      ],
      "text/plain": [
       "<IPython.core.display.HTML object>"
      ]
     },
     "metadata": {},
     "output_type": "display_data"
    },
    {
     "data": {
      "text/html": [
       " View run <strong style=\"color:#cdcd00\">lemon-sweep-27</strong> at: <a href='https://wandb.ai/sumanta_roy/CS6910_assignment_1/runs/shculw0j' target=\"_blank\">https://wandb.ai/sumanta_roy/CS6910_assignment_1/runs/shculw0j</a><br/>Synced 6 W&B file(s), 0 media file(s), 0 artifact file(s) and 0 other file(s)"
      ],
      "text/plain": [
       "<IPython.core.display.HTML object>"
      ]
     },
     "metadata": {},
     "output_type": "display_data"
    },
    {
     "data": {
      "text/html": [
       "Find logs at: <code>./wandb/run-20240317_053501-shculw0j/logs</code>"
      ],
      "text/plain": [
       "<IPython.core.display.HTML object>"
      ]
     },
     "metadata": {},
     "output_type": "display_data"
    },
    {
     "name": "stderr",
     "output_type": "stream",
     "text": [
      "\u001b[34m\u001b[1mwandb\u001b[0m: Agent Starting Run: c4kn0yby with config:\n",
      "\u001b[34m\u001b[1mwandb\u001b[0m: \tactivation: tanh\n",
      "\u001b[34m\u001b[1mwandb\u001b[0m: \tbatch_size: 16\n",
      "\u001b[34m\u001b[1mwandb\u001b[0m: \tepochs: 10\n",
      "\u001b[34m\u001b[1mwandb\u001b[0m: \thidden_layers: 4\n",
      "\u001b[34m\u001b[1mwandb\u001b[0m: \thidden_size: 64\n",
      "\u001b[34m\u001b[1mwandb\u001b[0m: \tloss: cross_entropy\n",
      "\u001b[34m\u001b[1mwandb\u001b[0m: \tlr: 0.0001\n",
      "\u001b[34m\u001b[1mwandb\u001b[0m: \toptimizer: rmsprop\n",
      "\u001b[34m\u001b[1mwandb\u001b[0m: \tw_init: random\n",
      "\u001b[34m\u001b[1mwandb\u001b[0m: \tweight_decay: 0\n"
     ]
    },
    {
     "data": {
      "text/html": [
       "Tracking run with wandb version 0.16.4"
      ],
      "text/plain": [
       "<IPython.core.display.HTML object>"
      ]
     },
     "metadata": {},
     "output_type": "display_data"
    },
    {
     "data": {
      "text/html": [
       "Run data is saved locally in <code>/Users/sumanta/Desktop/Numpy project/cross_entropy_lesspasses/wandb/run-20240317_053843-c4kn0yby</code>"
      ],
      "text/plain": [
       "<IPython.core.display.HTML object>"
      ]
     },
     "metadata": {},
     "output_type": "display_data"
    },
    {
     "data": {
      "text/html": [
       "Syncing run <strong><a href='https://wandb.ai/sumanta_roy/CS6910_assignment_1/runs/c4kn0yby' target=\"_blank\">stilted-sweep-28</a></strong> to <a href='https://wandb.ai/sumanta_roy/CS6910_assignment_1' target=\"_blank\">Weights & Biases</a> (<a href='https://wandb.me/run' target=\"_blank\">docs</a>)<br/>Sweep page: <a href='https://wandb.ai/sumanta_roy/CS6910_assignment_1/sweeps/ff8houdp' target=\"_blank\">https://wandb.ai/sumanta_roy/CS6910_assignment_1/sweeps/ff8houdp</a>"
      ],
      "text/plain": [
       "<IPython.core.display.HTML object>"
      ]
     },
     "metadata": {},
     "output_type": "display_data"
    },
    {
     "data": {
      "text/html": [
       " View project at <a href='https://wandb.ai/sumanta_roy/CS6910_assignment_1' target=\"_blank\">https://wandb.ai/sumanta_roy/CS6910_assignment_1</a>"
      ],
      "text/plain": [
       "<IPython.core.display.HTML object>"
      ]
     },
     "metadata": {},
     "output_type": "display_data"
    },
    {
     "data": {
      "text/html": [
       " View sweep at <a href='https://wandb.ai/sumanta_roy/CS6910_assignment_1/sweeps/ff8houdp' target=\"_blank\">https://wandb.ai/sumanta_roy/CS6910_assignment_1/sweeps/ff8houdp</a>"
      ],
      "text/plain": [
       "<IPython.core.display.HTML object>"
      ]
     },
     "metadata": {},
     "output_type": "display_data"
    },
    {
     "data": {
      "text/html": [
       " View run at <a href='https://wandb.ai/sumanta_roy/CS6910_assignment_1/runs/c4kn0yby' target=\"_blank\">https://wandb.ai/sumanta_roy/CS6910_assignment_1/runs/c4kn0yby</a>"
      ],
      "text/plain": [
       "<IPython.core.display.HTML object>"
      ]
     },
     "metadata": {},
     "output_type": "display_data"
    },
    {
     "name": "stdout",
     "output_type": "stream",
     "text": [
      "Epoch: 1/10; Train Loss: 0.026761644206778484; Val Loss: 0.06676481904955064\n",
      "Epoch: 2/10; Train Loss: 0.029881097628068204; Val Loss: 0.05726736497386819\n",
      "Epoch: 3/10; Train Loss: 0.030066072119343746; Val Loss: 0.05275754843307943\n",
      "Epoch: 4/10; Train Loss: 0.030297279062211628; Val Loss: 0.04997692210337885\n",
      "Epoch: 5/10; Train Loss: 0.031075630416367163; Val Loss: 0.048102392560800684\n",
      "Epoch: 6/10; Train Loss: 0.03190746163062047; Val Loss: 0.04673305573149194\n",
      "Epoch: 7/10; Train Loss: 0.032494786336917034; Val Loss: 0.04567595650911811\n",
      "Epoch: 8/10; Train Loss: 0.03270680330979497; Val Loss: 0.0448289237565479\n",
      "Epoch: 9/10; Train Loss: 0.032583492339875925; Val Loss: 0.04413314438707273\n",
      "Epoch: 10/10; Train Loss: 0.032264336984881826; Val Loss: 0.04355074657335154\n"
     ]
    },
    {
     "data": {
      "application/vnd.jupyter.widget-view+json": {
       "model_id": "",
       "version_major": 2,
       "version_minor": 0
      },
      "text/plain": [
       "VBox(children=(Label(value='0.001 MB of 0.001 MB uploaded\\r'), FloatProgress(value=1.0, max=1.0)))"
      ]
     },
     "metadata": {},
     "output_type": "display_data"
    },
    {
     "data": {
      "text/html": [
       "<style>\n",
       "    table.wandb td:nth-child(1) { padding: 0 10px; text-align: left ; width: auto;} td:nth-child(2) {text-align: left ; width: 100%}\n",
       "    .wandb-row { display: flex; flex-direction: row; flex-wrap: wrap; justify-content: flex-start; width: 100% }\n",
       "    .wandb-col { display: flex; flex-direction: column; flex-basis: 100%; flex: 1; padding: 10px; }\n",
       "    </style>\n",
       "<div class=\"wandb-row\"><div class=\"wandb-col\"><h3>Run history:</h3><br/><table class=\"wandb\"><tr><td>epoch</td><td>▁▁▁▁▂▂▂▂▃▃▃▃▃▃▃▃▄▄▄▄▅▅▅▅▆▆▆▆▆▆▆▆▇▇▇▇████</td></tr><tr><td>train_accuracy</td><td>▁▅▅▅▅▄█▅▅▅▅▇▃▇▅▅▆▄▅▅▅▅▄▅▆▆▃▄▄▇▆▅▆▅▄▆▆▅▆▇</td></tr><tr><td>train_loss</td><td>█▄▃▂▂▃▂▃▃▃▂▂▃▁▃▅▂▄▃▄▃▃▃▂▃▁▅▃▃▁▂▄▁▃▄▃▁▂▃▁</td></tr><tr><td>val_accuracy</td><td>▁▅▆▆▇▇▇▇▇▇▇▇▇▇▇█████████████████████████</td></tr><tr><td>validation_loss</td><td>█▄▃▃▂▂▂▂▂▂▂▂▁▁▁▁▁▁▁▁▁▁▁▁▁▁▁▁▁▁▁▁▁▁▁▁▁▁▁▁</td></tr></table><br/></div><div class=\"wandb-col\"><h3>Run summary:</h3><br/><table class=\"wandb\"><tr><td>epoch</td><td>10</td></tr><tr><td>train_accuracy</td><td>93.75</td></tr><tr><td>train_loss</td><td>0.03226</td></tr><tr><td>val_accuracy</td><td>84.23333</td></tr><tr><td>validation_loss</td><td>0.04355</td></tr></table><br/></div></div>"
      ],
      "text/plain": [
       "<IPython.core.display.HTML object>"
      ]
     },
     "metadata": {},
     "output_type": "display_data"
    },
    {
     "data": {
      "text/html": [
       " View run <strong style=\"color:#cdcd00\">stilted-sweep-28</strong> at: <a href='https://wandb.ai/sumanta_roy/CS6910_assignment_1/runs/c4kn0yby' target=\"_blank\">https://wandb.ai/sumanta_roy/CS6910_assignment_1/runs/c4kn0yby</a><br/>Synced 6 W&B file(s), 0 media file(s), 0 artifact file(s) and 0 other file(s)"
      ],
      "text/plain": [
       "<IPython.core.display.HTML object>"
      ]
     },
     "metadata": {},
     "output_type": "display_data"
    },
    {
     "data": {
      "text/html": [
       "Find logs at: <code>./wandb/run-20240317_053843-c4kn0yby/logs</code>"
      ],
      "text/plain": [
       "<IPython.core.display.HTML object>"
      ]
     },
     "metadata": {},
     "output_type": "display_data"
    },
    {
     "name": "stderr",
     "output_type": "stream",
     "text": [
      "\u001b[34m\u001b[1mwandb\u001b[0m: Agent Starting Run: fz8bs3bv with config:\n",
      "\u001b[34m\u001b[1mwandb\u001b[0m: \tactivation: tanh\n",
      "\u001b[34m\u001b[1mwandb\u001b[0m: \tbatch_size: 16\n",
      "\u001b[34m\u001b[1mwandb\u001b[0m: \tepochs: 10\n",
      "\u001b[34m\u001b[1mwandb\u001b[0m: \thidden_layers: 5\n",
      "\u001b[34m\u001b[1mwandb\u001b[0m: \thidden_size: 64\n",
      "\u001b[34m\u001b[1mwandb\u001b[0m: \tloss: cross_entropy\n",
      "\u001b[34m\u001b[1mwandb\u001b[0m: \tlr: 0.0001\n",
      "\u001b[34m\u001b[1mwandb\u001b[0m: \toptimizer: rmsprop\n",
      "\u001b[34m\u001b[1mwandb\u001b[0m: \tw_init: glorot\n",
      "\u001b[34m\u001b[1mwandb\u001b[0m: \tweight_decay: 0.0005\n"
     ]
    },
    {
     "data": {
      "text/html": [
       "Tracking run with wandb version 0.16.4"
      ],
      "text/plain": [
       "<IPython.core.display.HTML object>"
      ]
     },
     "metadata": {},
     "output_type": "display_data"
    },
    {
     "data": {
      "text/html": [
       "Run data is saved locally in <code>/Users/sumanta/Desktop/Numpy project/cross_entropy_lesspasses/wandb/run-20240317_054013-fz8bs3bv</code>"
      ],
      "text/plain": [
       "<IPython.core.display.HTML object>"
      ]
     },
     "metadata": {},
     "output_type": "display_data"
    },
    {
     "data": {
      "text/html": [
       "Syncing run <strong><a href='https://wandb.ai/sumanta_roy/CS6910_assignment_1/runs/fz8bs3bv' target=\"_blank\">rose-sweep-29</a></strong> to <a href='https://wandb.ai/sumanta_roy/CS6910_assignment_1' target=\"_blank\">Weights & Biases</a> (<a href='https://wandb.me/run' target=\"_blank\">docs</a>)<br/>Sweep page: <a href='https://wandb.ai/sumanta_roy/CS6910_assignment_1/sweeps/ff8houdp' target=\"_blank\">https://wandb.ai/sumanta_roy/CS6910_assignment_1/sweeps/ff8houdp</a>"
      ],
      "text/plain": [
       "<IPython.core.display.HTML object>"
      ]
     },
     "metadata": {},
     "output_type": "display_data"
    },
    {
     "data": {
      "text/html": [
       " View project at <a href='https://wandb.ai/sumanta_roy/CS6910_assignment_1' target=\"_blank\">https://wandb.ai/sumanta_roy/CS6910_assignment_1</a>"
      ],
      "text/plain": [
       "<IPython.core.display.HTML object>"
      ]
     },
     "metadata": {},
     "output_type": "display_data"
    },
    {
     "data": {
      "text/html": [
       " View sweep at <a href='https://wandb.ai/sumanta_roy/CS6910_assignment_1/sweeps/ff8houdp' target=\"_blank\">https://wandb.ai/sumanta_roy/CS6910_assignment_1/sweeps/ff8houdp</a>"
      ],
      "text/plain": [
       "<IPython.core.display.HTML object>"
      ]
     },
     "metadata": {},
     "output_type": "display_data"
    },
    {
     "data": {
      "text/html": [
       " View run at <a href='https://wandb.ai/sumanta_roy/CS6910_assignment_1/runs/fz8bs3bv' target=\"_blank\">https://wandb.ai/sumanta_roy/CS6910_assignment_1/runs/fz8bs3bv</a>"
      ],
      "text/plain": [
       "<IPython.core.display.HTML object>"
      ]
     },
     "metadata": {},
     "output_type": "display_data"
    },
    {
     "name": "stdout",
     "output_type": "stream",
     "text": [
      "Epoch: 1/10; Train Loss: 0.046911287744663216; Val Loss: 0.04780776245570463\n",
      "Epoch: 2/10; Train Loss: 0.04204843164064499; Val Loss: 0.041975435650271786\n",
      "Epoch: 3/10; Train Loss: 0.03983715118758183; Val Loss: 0.039419575996962504\n",
      "Epoch: 4/10; Train Loss: 0.03900417638663551; Val Loss: 0.037924276459254114\n",
      "Epoch: 5/10; Train Loss: 0.03871385282048633; Val Loss: 0.036882702281993335\n",
      "Epoch: 6/10; Train Loss: 0.038534357972167296; Val Loss: 0.03608715622226763\n",
      "Epoch: 7/10; Train Loss: 0.03829025374966846; Val Loss: 0.0354481774510704\n",
      "Epoch: 8/10; Train Loss: 0.03794840842049469; Val Loss: 0.034916844492084244\n",
      "Epoch: 9/10; Train Loss: 0.03753080218215478; Val Loss: 0.03446562856295913\n",
      "Epoch: 10/10; Train Loss: 0.03705711635496137; Val Loss: 0.03407818480543481\n"
     ]
    },
    {
     "data": {
      "application/vnd.jupyter.widget-view+json": {
       "model_id": "",
       "version_major": 2,
       "version_minor": 0
      },
      "text/plain": [
       "VBox(children=(Label(value='0.001 MB of 0.027 MB uploaded\\r'), FloatProgress(value=0.027341951478661235, max=1…"
      ]
     },
     "metadata": {},
     "output_type": "display_data"
    },
    {
     "data": {
      "text/html": [
       "<style>\n",
       "    table.wandb td:nth-child(1) { padding: 0 10px; text-align: left ; width: auto;} td:nth-child(2) {text-align: left ; width: 100%}\n",
       "    .wandb-row { display: flex; flex-direction: row; flex-wrap: wrap; justify-content: flex-start; width: 100% }\n",
       "    .wandb-col { display: flex; flex-direction: column; flex-basis: 100%; flex: 1; padding: 10px; }\n",
       "    </style>\n",
       "<div class=\"wandb-row\"><div class=\"wandb-col\"><h3>Run history:</h3><br/><table class=\"wandb\"><tr><td>epoch</td><td>▁▁▁▁▂▂▂▂▃▃▃▃▃▃▃▃▄▄▄▄▅▅▅▅▆▆▆▆▆▆▆▆▇▇▇▇████</td></tr><tr><td>train_accuracy</td><td>▁▇▇▅▇▄▅▇▂▇▂▇▇▇▇▄▇▂▇▄▅▅▅▇▅█▁▄▄█▄▄▇▅▁▄▇▇▅▅</td></tr><tr><td>train_loss</td><td>█▃▃▃▂▃▂▂▆▃▄▂▃▁▂▅▂▆▄▆▃▄▃▁▃▁▅▅▄▁▂▅▂▃▆▄▁▃▂▃</td></tr><tr><td>val_accuracy</td><td>▁▄▆▆▇▇▇▇▇▇▇▇█▇▇▇██▇▇████████████████████</td></tr><tr><td>validation_loss</td><td>█▄▃▃▂▂▂▂▂▂▂▂▂▂▁▁▁▁▁▁▁▁▁▁▁▁▁▁▁▁▁▁▁▁▁▁▁▁▁▁</td></tr></table><br/></div><div class=\"wandb-col\"><h3>Run summary:</h3><br/><table class=\"wandb\"><tr><td>epoch</td><td>10</td></tr><tr><td>train_accuracy</td><td>93.75</td></tr><tr><td>train_loss</td><td>0.03706</td></tr><tr><td>val_accuracy</td><td>87.86667</td></tr><tr><td>validation_loss</td><td>0.03408</td></tr></table><br/></div></div>"
      ],
      "text/plain": [
       "<IPython.core.display.HTML object>"
      ]
     },
     "metadata": {},
     "output_type": "display_data"
    },
    {
     "data": {
      "text/html": [
       " View run <strong style=\"color:#cdcd00\">rose-sweep-29</strong> at: <a href='https://wandb.ai/sumanta_roy/CS6910_assignment_1/runs/fz8bs3bv' target=\"_blank\">https://wandb.ai/sumanta_roy/CS6910_assignment_1/runs/fz8bs3bv</a><br/>Synced 6 W&B file(s), 0 media file(s), 0 artifact file(s) and 0 other file(s)"
      ],
      "text/plain": [
       "<IPython.core.display.HTML object>"
      ]
     },
     "metadata": {},
     "output_type": "display_data"
    },
    {
     "data": {
      "text/html": [
       "Find logs at: <code>./wandb/run-20240317_054013-fz8bs3bv/logs</code>"
      ],
      "text/plain": [
       "<IPython.core.display.HTML object>"
      ]
     },
     "metadata": {},
     "output_type": "display_data"
    },
    {
     "name": "stderr",
     "output_type": "stream",
     "text": [
      "\u001b[34m\u001b[1mwandb\u001b[0m: Sweep Agent: Waiting for job.\n",
      "\u001b[34m\u001b[1mwandb\u001b[0m: Job received.\n",
      "\u001b[34m\u001b[1mwandb\u001b[0m: Agent Starting Run: v5f3j8dt with config:\n",
      "\u001b[34m\u001b[1mwandb\u001b[0m: \tactivation: tanh\n",
      "\u001b[34m\u001b[1mwandb\u001b[0m: \tbatch_size: 32\n",
      "\u001b[34m\u001b[1mwandb\u001b[0m: \tepochs: 10\n",
      "\u001b[34m\u001b[1mwandb\u001b[0m: \thidden_layers: 5\n",
      "\u001b[34m\u001b[1mwandb\u001b[0m: \thidden_size: 64\n",
      "\u001b[34m\u001b[1mwandb\u001b[0m: \tloss: cross_entropy\n",
      "\u001b[34m\u001b[1mwandb\u001b[0m: \tlr: 0.0001\n",
      "\u001b[34m\u001b[1mwandb\u001b[0m: \toptimizer: rmsprop\n",
      "\u001b[34m\u001b[1mwandb\u001b[0m: \tw_init: random\n",
      "\u001b[34m\u001b[1mwandb\u001b[0m: \tweight_decay: 0.5\n"
     ]
    },
    {
     "data": {
      "text/html": [
       "Tracking run with wandb version 0.16.4"
      ],
      "text/plain": [
       "<IPython.core.display.HTML object>"
      ]
     },
     "metadata": {},
     "output_type": "display_data"
    },
    {
     "data": {
      "text/html": [
       "Run data is saved locally in <code>/Users/sumanta/Desktop/Numpy project/cross_entropy_lesspasses/wandb/run-20240317_054151-v5f3j8dt</code>"
      ],
      "text/plain": [
       "<IPython.core.display.HTML object>"
      ]
     },
     "metadata": {},
     "output_type": "display_data"
    },
    {
     "data": {
      "text/html": [
       "Syncing run <strong><a href='https://wandb.ai/sumanta_roy/CS6910_assignment_1/runs/v5f3j8dt' target=\"_blank\">lucky-sweep-30</a></strong> to <a href='https://wandb.ai/sumanta_roy/CS6910_assignment_1' target=\"_blank\">Weights & Biases</a> (<a href='https://wandb.me/run' target=\"_blank\">docs</a>)<br/>Sweep page: <a href='https://wandb.ai/sumanta_roy/CS6910_assignment_1/sweeps/ff8houdp' target=\"_blank\">https://wandb.ai/sumanta_roy/CS6910_assignment_1/sweeps/ff8houdp</a>"
      ],
      "text/plain": [
       "<IPython.core.display.HTML object>"
      ]
     },
     "metadata": {},
     "output_type": "display_data"
    },
    {
     "data": {
      "text/html": [
       " View project at <a href='https://wandb.ai/sumanta_roy/CS6910_assignment_1' target=\"_blank\">https://wandb.ai/sumanta_roy/CS6910_assignment_1</a>"
      ],
      "text/plain": [
       "<IPython.core.display.HTML object>"
      ]
     },
     "metadata": {},
     "output_type": "display_data"
    },
    {
     "data": {
      "text/html": [
       " View sweep at <a href='https://wandb.ai/sumanta_roy/CS6910_assignment_1/sweeps/ff8houdp' target=\"_blank\">https://wandb.ai/sumanta_roy/CS6910_assignment_1/sweeps/ff8houdp</a>"
      ],
      "text/plain": [
       "<IPython.core.display.HTML object>"
      ]
     },
     "metadata": {},
     "output_type": "display_data"
    },
    {
     "data": {
      "text/html": [
       " View run at <a href='https://wandb.ai/sumanta_roy/CS6910_assignment_1/runs/v5f3j8dt' target=\"_blank\">https://wandb.ai/sumanta_roy/CS6910_assignment_1/runs/v5f3j8dt</a>"
      ],
      "text/plain": [
       "<IPython.core.display.HTML object>"
      ]
     },
     "metadata": {},
     "output_type": "display_data"
    },
    {
     "name": "stdout",
     "output_type": "stream",
     "text": [
      "Epoch: 1/10; Train Loss: 31.648580558483307; Val Loss: 0.24197242615205838\n",
      "Epoch: 2/10; Train Loss: 21.690649190388466; Val Loss: 0.17547199873088754\n",
      "Epoch: 3/10; Train Loss: 14.680442904213294; Val Loss: 0.13214857307667274\n",
      "Epoch: 4/10; Train Loss: 9.930807188889954; Val Loss: 0.10383417440515827\n",
      "Epoch: 5/10; Train Loss: 6.770701877404135; Val Loss: 0.08550595408077008\n",
      "Epoch: 6/10; Train Loss: 4.688383907814434; Val Loss: 0.07368069513409423\n",
      "Epoch: 7/10; Train Loss: 3.321685650390606; Val Loss: 0.06593236226566859\n",
      "Epoch: 8/10; Train Loss: 2.4238572165284498; Val Loss: 0.0607449766140927\n",
      "Epoch: 9/10; Train Loss: 1.8311371467354611; Val Loss: 0.05720190630717763\n",
      "Epoch: 10/10; Train Loss: 1.4366708980098026; Val Loss: 0.0547382534743095\n"
     ]
    },
    {
     "data": {
      "application/vnd.jupyter.widget-view+json": {
       "model_id": "",
       "version_major": 2,
       "version_minor": 0
      },
      "text/plain": [
       "VBox(children=(Label(value='0.001 MB of 0.009 MB uploaded\\r'), FloatProgress(value=0.079301489470981, max=1.0)…"
      ]
     },
     "metadata": {},
     "output_type": "display_data"
    },
    {
     "data": {
      "text/html": [
       "<style>\n",
       "    table.wandb td:nth-child(1) { padding: 0 10px; text-align: left ; width: auto;} td:nth-child(2) {text-align: left ; width: 100%}\n",
       "    .wandb-row { display: flex; flex-direction: row; flex-wrap: wrap; justify-content: flex-start; width: 100% }\n",
       "    .wandb-col { display: flex; flex-direction: column; flex-basis: 100%; flex: 1; padding: 10px; }\n",
       "    </style>\n",
       "<div class=\"wandb-row\"><div class=\"wandb-col\"><h3>Run history:</h3><br/><table class=\"wandb\"><tr><td>epoch</td><td>▁▁▁▁▂▂▂▂▃▃▃▃▃▃▃▃▄▄▄▄▅▅▅▅▆▆▆▆▆▆▆▆▇▇▇▇████</td></tr><tr><td>train_accuracy</td><td>▁▃▅▆▆▅▆▄▆▇▆▇▅▆▇▅▇▄▆▆▇▆▆▇▆▆▄▆▅█▆▆▇█▆▆█▆█▇</td></tr><tr><td>train_loss</td><td>██▇▇▆▆▅▅▄▄▄▃▃▃▃▃▂▂▂▂▂▂▂▂▂▁▁▁▁▁▁▁▁▁▁▁▁▁▁▁</td></tr><tr><td>val_accuracy</td><td>▁▄▆▆▆▇▇▇▇▇▇▇▇▇██████████████████████████</td></tr><tr><td>validation_loss</td><td>█▆▆▅▅▄▄▄▃▃▃▃▃▂▂▂▂▂▂▂▂▂▁▁▁▁▁▁▁▁▁▁▁▁▁▁▁▁▁▁</td></tr></table><br/></div><div class=\"wandb-col\"><h3>Run summary:</h3><br/><table class=\"wandb\"><tr><td>epoch</td><td>10</td></tr><tr><td>train_accuracy</td><td>84.375</td></tr><tr><td>train_loss</td><td>1.43667</td></tr><tr><td>val_accuracy</td><td>84.9</td></tr><tr><td>validation_loss</td><td>0.05474</td></tr></table><br/></div></div>"
      ],
      "text/plain": [
       "<IPython.core.display.HTML object>"
      ]
     },
     "metadata": {},
     "output_type": "display_data"
    },
    {
     "data": {
      "text/html": [
       " View run <strong style=\"color:#cdcd00\">lucky-sweep-30</strong> at: <a href='https://wandb.ai/sumanta_roy/CS6910_assignment_1/runs/v5f3j8dt' target=\"_blank\">https://wandb.ai/sumanta_roy/CS6910_assignment_1/runs/v5f3j8dt</a><br/>Synced 6 W&B file(s), 0 media file(s), 0 artifact file(s) and 0 other file(s)"
      ],
      "text/plain": [
       "<IPython.core.display.HTML object>"
      ]
     },
     "metadata": {},
     "output_type": "display_data"
    },
    {
     "data": {
      "text/html": [
       "Find logs at: <code>./wandb/run-20240317_054151-v5f3j8dt/logs</code>"
      ],
      "text/plain": [
       "<IPython.core.display.HTML object>"
      ]
     },
     "metadata": {},
     "output_type": "display_data"
    },
    {
     "name": "stderr",
     "output_type": "stream",
     "text": [
      "\u001b[34m\u001b[1mwandb\u001b[0m: Agent Starting Run: v65aggmj with config:\n",
      "\u001b[34m\u001b[1mwandb\u001b[0m: \tactivation: tanh\n",
      "\u001b[34m\u001b[1mwandb\u001b[0m: \tbatch_size: 16\n",
      "\u001b[34m\u001b[1mwandb\u001b[0m: \tepochs: 10\n",
      "\u001b[34m\u001b[1mwandb\u001b[0m: \thidden_layers: 5\n",
      "\u001b[34m\u001b[1mwandb\u001b[0m: \thidden_size: 64\n",
      "\u001b[34m\u001b[1mwandb\u001b[0m: \tloss: cross_entropy\n",
      "\u001b[34m\u001b[1mwandb\u001b[0m: \tlr: 0.001\n",
      "\u001b[34m\u001b[1mwandb\u001b[0m: \toptimizer: adam\n",
      "\u001b[34m\u001b[1mwandb\u001b[0m: \tw_init: random\n",
      "\u001b[34m\u001b[1mwandb\u001b[0m: \tweight_decay: 0.0005\n"
     ]
    },
    {
     "data": {
      "text/html": [
       "Tracking run with wandb version 0.16.4"
      ],
      "text/plain": [
       "<IPython.core.display.HTML object>"
      ]
     },
     "metadata": {},
     "output_type": "display_data"
    },
    {
     "data": {
      "text/html": [
       "Run data is saved locally in <code>/Users/sumanta/Desktop/Numpy project/cross_entropy_lesspasses/wandb/run-20240317_054300-v65aggmj</code>"
      ],
      "text/plain": [
       "<IPython.core.display.HTML object>"
      ]
     },
     "metadata": {},
     "output_type": "display_data"
    },
    {
     "data": {
      "text/html": [
       "Syncing run <strong><a href='https://wandb.ai/sumanta_roy/CS6910_assignment_1/runs/v65aggmj' target=\"_blank\">gallant-sweep-31</a></strong> to <a href='https://wandb.ai/sumanta_roy/CS6910_assignment_1' target=\"_blank\">Weights & Biases</a> (<a href='https://wandb.me/run' target=\"_blank\">docs</a>)<br/>Sweep page: <a href='https://wandb.ai/sumanta_roy/CS6910_assignment_1/sweeps/ff8houdp' target=\"_blank\">https://wandb.ai/sumanta_roy/CS6910_assignment_1/sweeps/ff8houdp</a>"
      ],
      "text/plain": [
       "<IPython.core.display.HTML object>"
      ]
     },
     "metadata": {},
     "output_type": "display_data"
    },
    {
     "data": {
      "text/html": [
       " View project at <a href='https://wandb.ai/sumanta_roy/CS6910_assignment_1' target=\"_blank\">https://wandb.ai/sumanta_roy/CS6910_assignment_1</a>"
      ],
      "text/plain": [
       "<IPython.core.display.HTML object>"
      ]
     },
     "metadata": {},
     "output_type": "display_data"
    },
    {
     "data": {
      "text/html": [
       " View sweep at <a href='https://wandb.ai/sumanta_roy/CS6910_assignment_1/sweeps/ff8houdp' target=\"_blank\">https://wandb.ai/sumanta_roy/CS6910_assignment_1/sweeps/ff8houdp</a>"
      ],
      "text/plain": [
       "<IPython.core.display.HTML object>"
      ]
     },
     "metadata": {},
     "output_type": "display_data"
    },
    {
     "data": {
      "text/html": [
       " View run at <a href='https://wandb.ai/sumanta_roy/CS6910_assignment_1/runs/v65aggmj' target=\"_blank\">https://wandb.ai/sumanta_roy/CS6910_assignment_1/runs/v65aggmj</a>"
      ],
      "text/plain": [
       "<IPython.core.display.HTML object>"
      ]
     },
     "metadata": {},
     "output_type": "display_data"
    },
    {
     "name": "stdout",
     "output_type": "stream",
     "text": [
      "Epoch: 1/10; Train Loss: 0.1193956037670634; Val Loss: 0.049638691166052726\n",
      "Epoch: 2/10; Train Loss: 0.11772390229823375; Val Loss: 0.04434959635808634\n",
      "Epoch: 3/10; Train Loss: 0.1206521102995579; Val Loss: 0.04204804182715517\n",
      "Epoch: 4/10; Train Loss: 0.11873930841672972; Val Loss: 0.041185042063811045\n",
      "Epoch: 5/10; Train Loss: 0.12166064860432219; Val Loss: 0.04040165056460039\n",
      "Epoch: 6/10; Train Loss: 0.119905914217185; Val Loss: 0.040170202513658604\n",
      "Epoch: 7/10; Train Loss: 0.11679504775113889; Val Loss: 0.03994257439236261\n",
      "Epoch: 8/10; Train Loss: 0.11371204439055817; Val Loss: 0.03992308364964007\n",
      "Epoch: 9/10; Train Loss: 0.11682753655584169; Val Loss: 0.04025492245706916\n",
      "Epoch: 10/10; Train Loss: 0.11401601659236266; Val Loss: 0.039539782855372775\n"
     ]
    },
    {
     "data": {
      "application/vnd.jupyter.widget-view+json": {
       "model_id": "",
       "version_major": 2,
       "version_minor": 0
      },
      "text/plain": [
       "VBox(children=(Label(value='0.001 MB of 0.027 MB uploaded\\r'), FloatProgress(value=0.02734970064123003, max=1.…"
      ]
     },
     "metadata": {},
     "output_type": "display_data"
    },
    {
     "data": {
      "text/html": [
       "<style>\n",
       "    table.wandb td:nth-child(1) { padding: 0 10px; text-align: left ; width: auto;} td:nth-child(2) {text-align: left ; width: 100%}\n",
       "    .wandb-row { display: flex; flex-direction: row; flex-wrap: wrap; justify-content: flex-start; width: 100% }\n",
       "    .wandb-col { display: flex; flex-direction: column; flex-basis: 100%; flex: 1; padding: 10px; }\n",
       "    </style>\n",
       "<div class=\"wandb-row\"><div class=\"wandb-col\"><h3>Run history:</h3><br/><table class=\"wandb\"><tr><td>epoch</td><td>▁▁▁▁▂▂▂▂▃▃▃▃▃▃▃▃▄▄▄▄▅▅▅▅▆▆▆▆▆▆▆▆▇▇▇▇████</td></tr><tr><td>train_accuracy</td><td>▂▇▆▇▇▄▇▇▃▄▄▇▆▇▇▅▇▁▅▅▇▅▆▇▇▇▂▆▆█▆▃▇▇▄▅▇▅▇▆</td></tr><tr><td>train_loss</td><td>█▃▄▄▂▅▄▄█▆▅▂▅▂▃▅▂█▄▆▃▇▃▁▂▁█▆▃▁▃▄▂▂▇▄▁▃▁▂</td></tr><tr><td>val_accuracy</td><td>▁▃▄▆▆▆▆▆▇▇▆▆▇▇▇▇▇▇▇▇██▇▇▇████▇██▇███▇███</td></tr><tr><td>validation_loss</td><td>█▆▄▃▃▃▃▃▂▂▂▂▂▂▂▂▁▂▁▁▁▁▁▁▂▁▁▁▁▁▁▁▂▁▁▁▂▁▁▁</td></tr></table><br/></div><div class=\"wandb-col\"><h3>Run summary:</h3><br/><table class=\"wandb\"><tr><td>epoch</td><td>10</td></tr><tr><td>train_accuracy</td><td>81.25</td></tr><tr><td>train_loss</td><td>0.11402</td></tr><tr><td>val_accuracy</td><td>86.33333</td></tr><tr><td>validation_loss</td><td>0.03954</td></tr></table><br/></div></div>"
      ],
      "text/plain": [
       "<IPython.core.display.HTML object>"
      ]
     },
     "metadata": {},
     "output_type": "display_data"
    },
    {
     "data": {
      "text/html": [
       " View run <strong style=\"color:#cdcd00\">gallant-sweep-31</strong> at: <a href='https://wandb.ai/sumanta_roy/CS6910_assignment_1/runs/v65aggmj' target=\"_blank\">https://wandb.ai/sumanta_roy/CS6910_assignment_1/runs/v65aggmj</a><br/>Synced 6 W&B file(s), 0 media file(s), 0 artifact file(s) and 0 other file(s)"
      ],
      "text/plain": [
       "<IPython.core.display.HTML object>"
      ]
     },
     "metadata": {},
     "output_type": "display_data"
    },
    {
     "data": {
      "text/html": [
       "Find logs at: <code>./wandb/run-20240317_054300-v65aggmj/logs</code>"
      ],
      "text/plain": [
       "<IPython.core.display.HTML object>"
      ]
     },
     "metadata": {},
     "output_type": "display_data"
    },
    {
     "name": "stderr",
     "output_type": "stream",
     "text": [
      "\u001b[34m\u001b[1mwandb\u001b[0m: Agent Starting Run: mfe8xlv5 with config:\n",
      "\u001b[34m\u001b[1mwandb\u001b[0m: \tactivation: tanh\n",
      "\u001b[34m\u001b[1mwandb\u001b[0m: \tbatch_size: 16\n",
      "\u001b[34m\u001b[1mwandb\u001b[0m: \tepochs: 10\n",
      "\u001b[34m\u001b[1mwandb\u001b[0m: \thidden_layers: 4\n",
      "\u001b[34m\u001b[1mwandb\u001b[0m: \thidden_size: 128\n",
      "\u001b[34m\u001b[1mwandb\u001b[0m: \tloss: cross_entropy\n",
      "\u001b[34m\u001b[1mwandb\u001b[0m: \tlr: 0.001\n",
      "\u001b[34m\u001b[1mwandb\u001b[0m: \toptimizer: adam\n",
      "\u001b[34m\u001b[1mwandb\u001b[0m: \tw_init: random\n",
      "\u001b[34m\u001b[1mwandb\u001b[0m: \tweight_decay: 0\n"
     ]
    },
    {
     "data": {
      "text/html": [
       "Tracking run with wandb version 0.16.4"
      ],
      "text/plain": [
       "<IPython.core.display.HTML object>"
      ]
     },
     "metadata": {},
     "output_type": "display_data"
    },
    {
     "data": {
      "text/html": [
       "Run data is saved locally in <code>/Users/sumanta/Desktop/Numpy project/cross_entropy_lesspasses/wandb/run-20240317_054441-mfe8xlv5</code>"
      ],
      "text/plain": [
       "<IPython.core.display.HTML object>"
      ]
     },
     "metadata": {},
     "output_type": "display_data"
    },
    {
     "data": {
      "text/html": [
       "Syncing run <strong><a href='https://wandb.ai/sumanta_roy/CS6910_assignment_1/runs/mfe8xlv5' target=\"_blank\">sunny-sweep-32</a></strong> to <a href='https://wandb.ai/sumanta_roy/CS6910_assignment_1' target=\"_blank\">Weights & Biases</a> (<a href='https://wandb.me/run' target=\"_blank\">docs</a>)<br/>Sweep page: <a href='https://wandb.ai/sumanta_roy/CS6910_assignment_1/sweeps/ff8houdp' target=\"_blank\">https://wandb.ai/sumanta_roy/CS6910_assignment_1/sweeps/ff8houdp</a>"
      ],
      "text/plain": [
       "<IPython.core.display.HTML object>"
      ]
     },
     "metadata": {},
     "output_type": "display_data"
    },
    {
     "data": {
      "text/html": [
       " View project at <a href='https://wandb.ai/sumanta_roy/CS6910_assignment_1' target=\"_blank\">https://wandb.ai/sumanta_roy/CS6910_assignment_1</a>"
      ],
      "text/plain": [
       "<IPython.core.display.HTML object>"
      ]
     },
     "metadata": {},
     "output_type": "display_data"
    },
    {
     "data": {
      "text/html": [
       " View sweep at <a href='https://wandb.ai/sumanta_roy/CS6910_assignment_1/sweeps/ff8houdp' target=\"_blank\">https://wandb.ai/sumanta_roy/CS6910_assignment_1/sweeps/ff8houdp</a>"
      ],
      "text/plain": [
       "<IPython.core.display.HTML object>"
      ]
     },
     "metadata": {},
     "output_type": "display_data"
    },
    {
     "data": {
      "text/html": [
       " View run at <a href='https://wandb.ai/sumanta_roy/CS6910_assignment_1/runs/mfe8xlv5' target=\"_blank\">https://wandb.ai/sumanta_roy/CS6910_assignment_1/runs/mfe8xlv5</a>"
      ],
      "text/plain": [
       "<IPython.core.display.HTML object>"
      ]
     },
     "metadata": {},
     "output_type": "display_data"
    },
    {
     "name": "stdout",
     "output_type": "stream",
     "text": [
      "Epoch: 1/10; Train Loss: 0.042156572103072595; Val Loss: 0.04763787287324172\n",
      "Epoch: 2/10; Train Loss: 0.04209937579876363; Val Loss: 0.042365613738052595\n",
      "Epoch: 3/10; Train Loss: 0.03521149433540689; Val Loss: 0.04062658671387006\n",
      "Epoch: 4/10; Train Loss: 0.035574655197915896; Val Loss: 0.03942163100045468\n",
      "Epoch: 5/10; Train Loss: 0.04097638733612487; Val Loss: 0.03818910328689697\n",
      "Epoch: 6/10; Train Loss: 0.039476981837377155; Val Loss: 0.037748998468449965\n",
      "Epoch: 7/10; Train Loss: 0.03974252633235332; Val Loss: 0.03803917801449578\n",
      "Epoch: 8/10; Train Loss: 0.044728625791406476; Val Loss: 0.03795682659255353\n",
      "Epoch: 9/10; Train Loss: 0.03988415458623189; Val Loss: 0.03864904206184684\n",
      "Epoch: 10/10; Train Loss: 0.03923401885840879; Val Loss: 0.037872641690251355\n"
     ]
    },
    {
     "data": {
      "application/vnd.jupyter.widget-view+json": {
       "model_id": "",
       "version_major": 2,
       "version_minor": 0
      },
      "text/plain": [
       "VBox(children=(Label(value='0.001 MB of 0.001 MB uploaded\\r'), FloatProgress(value=1.0, max=1.0)))"
      ]
     },
     "metadata": {},
     "output_type": "display_data"
    },
    {
     "data": {
      "text/html": [
       "<style>\n",
       "    table.wandb td:nth-child(1) { padding: 0 10px; text-align: left ; width: auto;} td:nth-child(2) {text-align: left ; width: 100%}\n",
       "    .wandb-row { display: flex; flex-direction: row; flex-wrap: wrap; justify-content: flex-start; width: 100% }\n",
       "    .wandb-col { display: flex; flex-direction: column; flex-basis: 100%; flex: 1; padding: 10px; }\n",
       "    </style>\n",
       "<div class=\"wandb-row\"><div class=\"wandb-col\"><h3>Run history:</h3><br/><table class=\"wandb\"><tr><td>epoch</td><td>▁▁▁▁▂▂▂▂▃▃▃▃▃▃▃▃▄▄▄▄▅▅▅▅▆▆▆▆▆▆▆▆▇▇▇▇████</td></tr><tr><td>train_accuracy</td><td>▇▅▇▇█▄▇▅▄▅▂▅▅▅█▄▇▂▁▂▅▄▅▇█▇▅▄▅▇▇▅▇▇▁▄▇▄▇▅</td></tr><tr><td>train_loss</td><td>▂▃▂▂▁▃▂▂▄▃▅▂▃▂▁▅▂▅▇▇▅▆▂▁▂▂▄▆▃▁▁▃▁▂█▄▂▄▁▂</td></tr><tr><td>val_accuracy</td><td>▁▃▅▅▆▆▆▆▇▇▇▇▇▇▇▇██▇█████████████▇███████</td></tr><tr><td>validation_loss</td><td>█▆▄▄▃▃▃▃▂▂▂▂▂▁▂▂▁▁▂▁▁▁▁▁▂▁▁▁▁▁▁▁▂▁▁▁▁▁▁▁</td></tr></table><br/></div><div class=\"wandb-col\"><h3>Run summary:</h3><br/><table class=\"wandb\"><tr><td>epoch</td><td>10</td></tr><tr><td>train_accuracy</td><td>93.75</td></tr><tr><td>train_loss</td><td>0.03923</td></tr><tr><td>val_accuracy</td><td>86.81667</td></tr><tr><td>validation_loss</td><td>0.03787</td></tr></table><br/></div></div>"
      ],
      "text/plain": [
       "<IPython.core.display.HTML object>"
      ]
     },
     "metadata": {},
     "output_type": "display_data"
    },
    {
     "data": {
      "text/html": [
       " View run <strong style=\"color:#cdcd00\">sunny-sweep-32</strong> at: <a href='https://wandb.ai/sumanta_roy/CS6910_assignment_1/runs/mfe8xlv5' target=\"_blank\">https://wandb.ai/sumanta_roy/CS6910_assignment_1/runs/mfe8xlv5</a><br/>Synced 6 W&B file(s), 0 media file(s), 0 artifact file(s) and 0 other file(s)"
      ],
      "text/plain": [
       "<IPython.core.display.HTML object>"
      ]
     },
     "metadata": {},
     "output_type": "display_data"
    },
    {
     "data": {
      "text/html": [
       "Find logs at: <code>./wandb/run-20240317_054441-mfe8xlv5/logs</code>"
      ],
      "text/plain": [
       "<IPython.core.display.HTML object>"
      ]
     },
     "metadata": {},
     "output_type": "display_data"
    },
    {
     "name": "stderr",
     "output_type": "stream",
     "text": [
      "\u001b[34m\u001b[1mwandb\u001b[0m: Agent Starting Run: vjhi8ndt with config:\n",
      "\u001b[34m\u001b[1mwandb\u001b[0m: \tactivation: tanh\n",
      "\u001b[34m\u001b[1mwandb\u001b[0m: \tbatch_size: 32\n",
      "\u001b[34m\u001b[1mwandb\u001b[0m: \tepochs: 10\n",
      "\u001b[34m\u001b[1mwandb\u001b[0m: \thidden_layers: 5\n",
      "\u001b[34m\u001b[1mwandb\u001b[0m: \thidden_size: 128\n",
      "\u001b[34m\u001b[1mwandb\u001b[0m: \tloss: cross_entropy\n",
      "\u001b[34m\u001b[1mwandb\u001b[0m: \tlr: 0.0001\n",
      "\u001b[34m\u001b[1mwandb\u001b[0m: \toptimizer: rmsprop\n",
      "\u001b[34m\u001b[1mwandb\u001b[0m: \tw_init: random\n",
      "\u001b[34m\u001b[1mwandb\u001b[0m: \tweight_decay: 0.0005\n"
     ]
    },
    {
     "data": {
      "text/html": [
       "Tracking run with wandb version 0.16.4"
      ],
      "text/plain": [
       "<IPython.core.display.HTML object>"
      ]
     },
     "metadata": {},
     "output_type": "display_data"
    },
    {
     "data": {
      "text/html": [
       "Run data is saved locally in <code>/Users/sumanta/Desktop/Numpy project/cross_entropy_lesspasses/wandb/run-20240317_054747-vjhi8ndt</code>"
      ],
      "text/plain": [
       "<IPython.core.display.HTML object>"
      ]
     },
     "metadata": {},
     "output_type": "display_data"
    },
    {
     "data": {
      "text/html": [
       "Syncing run <strong><a href='https://wandb.ai/sumanta_roy/CS6910_assignment_1/runs/vjhi8ndt' target=\"_blank\">elated-sweep-33</a></strong> to <a href='https://wandb.ai/sumanta_roy/CS6910_assignment_1' target=\"_blank\">Weights & Biases</a> (<a href='https://wandb.me/run' target=\"_blank\">docs</a>)<br/>Sweep page: <a href='https://wandb.ai/sumanta_roy/CS6910_assignment_1/sweeps/ff8houdp' target=\"_blank\">https://wandb.ai/sumanta_roy/CS6910_assignment_1/sweeps/ff8houdp</a>"
      ],
      "text/plain": [
       "<IPython.core.display.HTML object>"
      ]
     },
     "metadata": {},
     "output_type": "display_data"
    },
    {
     "data": {
      "text/html": [
       " View project at <a href='https://wandb.ai/sumanta_roy/CS6910_assignment_1' target=\"_blank\">https://wandb.ai/sumanta_roy/CS6910_assignment_1</a>"
      ],
      "text/plain": [
       "<IPython.core.display.HTML object>"
      ]
     },
     "metadata": {},
     "output_type": "display_data"
    },
    {
     "data": {
      "text/html": [
       " View sweep at <a href='https://wandb.ai/sumanta_roy/CS6910_assignment_1/sweeps/ff8houdp' target=\"_blank\">https://wandb.ai/sumanta_roy/CS6910_assignment_1/sweeps/ff8houdp</a>"
      ],
      "text/plain": [
       "<IPython.core.display.HTML object>"
      ]
     },
     "metadata": {},
     "output_type": "display_data"
    },
    {
     "data": {
      "text/html": [
       " View run at <a href='https://wandb.ai/sumanta_roy/CS6910_assignment_1/runs/vjhi8ndt' target=\"_blank\">https://wandb.ai/sumanta_roy/CS6910_assignment_1/runs/vjhi8ndt</a>"
      ],
      "text/plain": [
       "<IPython.core.display.HTML object>"
      ]
     },
     "metadata": {},
     "output_type": "display_data"
    },
    {
     "name": "stdout",
     "output_type": "stream",
     "text": [
      "Epoch: 1/10; Train Loss: 0.18268989465295285; Val Loss: 0.07803805877399694\n",
      "Epoch: 2/10; Train Loss: 0.17204604690618822; Val Loss: 0.06527299122053791\n",
      "Epoch: 3/10; Train Loss: 0.16586058398263434; Val Loss: 0.06008980633872134\n",
      "Epoch: 4/10; Train Loss: 0.16263896106507222; Val Loss: 0.05742348980333103\n",
      "Epoch: 5/10; Train Loss: 0.15960554821746492; Val Loss: 0.05557178732785425\n",
      "Epoch: 6/10; Train Loss: 0.15678181948425096; Val Loss: 0.05417183247519654\n",
      "Epoch: 7/10; Train Loss: 0.1549071829072623; Val Loss: 0.05307923170594083\n",
      "Epoch: 8/10; Train Loss: 0.15340899807588182; Val Loss: 0.05217205746088237\n",
      "Epoch: 9/10; Train Loss: 0.1513901974287595; Val Loss: 0.05141937646974224\n",
      "Epoch: 10/10; Train Loss: 0.1487464801866462; Val Loss: 0.05079691516653511\n"
     ]
    },
    {
     "data": {
      "application/vnd.jupyter.widget-view+json": {
       "model_id": "",
       "version_major": 2,
       "version_minor": 0
      },
      "text/plain": [
       "VBox(children=(Label(value='0.001 MB of 0.001 MB uploaded\\r'), FloatProgress(value=1.0, max=1.0)))"
      ]
     },
     "metadata": {},
     "output_type": "display_data"
    },
    {
     "data": {
      "text/html": [
       "<style>\n",
       "    table.wandb td:nth-child(1) { padding: 0 10px; text-align: left ; width: auto;} td:nth-child(2) {text-align: left ; width: 100%}\n",
       "    .wandb-row { display: flex; flex-direction: row; flex-wrap: wrap; justify-content: flex-start; width: 100% }\n",
       "    .wandb-col { display: flex; flex-direction: column; flex-basis: 100%; flex: 1; padding: 10px; }\n",
       "    </style>\n",
       "<div class=\"wandb-row\"><div class=\"wandb-col\"><h3>Run history:</h3><br/><table class=\"wandb\"><tr><td>epoch</td><td>▁▁▁▁▂▂▂▂▃▃▃▃▃▃▃▃▄▄▄▄▅▅▅▅▆▆▆▆▆▆▆▆▇▇▇▇████</td></tr><tr><td>train_accuracy</td><td>▁▃▅▅▆▅▅▆▅▆▇▆▅▆▇▆▇▆▆▇▇▇▇▇▇▇▆▇▇█▇▇█▆▇█▇▇██</td></tr><tr><td>train_loss</td><td>█▆▅▃▃▂▃▃▃▃▂▃▃▃▂▃▂▄▂▃▂▃▂▁▃▃▃▂▂▁▂▂▂▃▂▂▂▂▁▂</td></tr><tr><td>val_accuracy</td><td>▁▄▆▆▇▇▇▇▇▇▇▇█▇██████████████████████████</td></tr><tr><td>validation_loss</td><td>█▄▃▂▂▂▂▂▂▂▁▁▁▁▁▁▁▁▁▁▁▁▁▁▁▁▁▁▁▁▁▁▁▁▁▁▁▁▁▁</td></tr></table><br/></div><div class=\"wandb-col\"><h3>Run summary:</h3><br/><table class=\"wandb\"><tr><td>epoch</td><td>10</td></tr><tr><td>train_accuracy</td><td>84.375</td></tr><tr><td>train_loss</td><td>0.14875</td></tr><tr><td>val_accuracy</td><td>82.16667</td></tr><tr><td>validation_loss</td><td>0.0508</td></tr></table><br/></div></div>"
      ],
      "text/plain": [
       "<IPython.core.display.HTML object>"
      ]
     },
     "metadata": {},
     "output_type": "display_data"
    },
    {
     "data": {
      "text/html": [
       " View run <strong style=\"color:#cdcd00\">elated-sweep-33</strong> at: <a href='https://wandb.ai/sumanta_roy/CS6910_assignment_1/runs/vjhi8ndt' target=\"_blank\">https://wandb.ai/sumanta_roy/CS6910_assignment_1/runs/vjhi8ndt</a><br/>Synced 6 W&B file(s), 0 media file(s), 0 artifact file(s) and 0 other file(s)"
      ],
      "text/plain": [
       "<IPython.core.display.HTML object>"
      ]
     },
     "metadata": {},
     "output_type": "display_data"
    },
    {
     "data": {
      "text/html": [
       "Find logs at: <code>./wandb/run-20240317_054747-vjhi8ndt/logs</code>"
      ],
      "text/plain": [
       "<IPython.core.display.HTML object>"
      ]
     },
     "metadata": {},
     "output_type": "display_data"
    },
    {
     "name": "stderr",
     "output_type": "stream",
     "text": [
      "\u001b[34m\u001b[1mwandb\u001b[0m: Agent Starting Run: c8n2rx1y with config:\n",
      "\u001b[34m\u001b[1mwandb\u001b[0m: \tactivation: tanh\n",
      "\u001b[34m\u001b[1mwandb\u001b[0m: \tbatch_size: 16\n",
      "\u001b[34m\u001b[1mwandb\u001b[0m: \tepochs: 10\n",
      "\u001b[34m\u001b[1mwandb\u001b[0m: \thidden_layers: 4\n",
      "\u001b[34m\u001b[1mwandb\u001b[0m: \thidden_size: 128\n",
      "\u001b[34m\u001b[1mwandb\u001b[0m: \tloss: cross_entropy\n",
      "\u001b[34m\u001b[1mwandb\u001b[0m: \tlr: 0.0001\n",
      "\u001b[34m\u001b[1mwandb\u001b[0m: \toptimizer: rmsprop\n",
      "\u001b[34m\u001b[1mwandb\u001b[0m: \tw_init: glorot\n",
      "\u001b[34m\u001b[1mwandb\u001b[0m: \tweight_decay: 0\n"
     ]
    },
    {
     "data": {
      "text/html": [
       "Tracking run with wandb version 0.16.4"
      ],
      "text/plain": [
       "<IPython.core.display.HTML object>"
      ]
     },
     "metadata": {},
     "output_type": "display_data"
    },
    {
     "data": {
      "text/html": [
       "Run data is saved locally in <code>/Users/sumanta/Desktop/Numpy project/cross_entropy_lesspasses/wandb/run-20240317_055015-c8n2rx1y</code>"
      ],
      "text/plain": [
       "<IPython.core.display.HTML object>"
      ]
     },
     "metadata": {},
     "output_type": "display_data"
    },
    {
     "data": {
      "text/html": [
       "Syncing run <strong><a href='https://wandb.ai/sumanta_roy/CS6910_assignment_1/runs/c8n2rx1y' target=\"_blank\">ethereal-sweep-34</a></strong> to <a href='https://wandb.ai/sumanta_roy/CS6910_assignment_1' target=\"_blank\">Weights & Biases</a> (<a href='https://wandb.me/run' target=\"_blank\">docs</a>)<br/>Sweep page: <a href='https://wandb.ai/sumanta_roy/CS6910_assignment_1/sweeps/ff8houdp' target=\"_blank\">https://wandb.ai/sumanta_roy/CS6910_assignment_1/sweeps/ff8houdp</a>"
      ],
      "text/plain": [
       "<IPython.core.display.HTML object>"
      ]
     },
     "metadata": {},
     "output_type": "display_data"
    },
    {
     "data": {
      "text/html": [
       " View project at <a href='https://wandb.ai/sumanta_roy/CS6910_assignment_1' target=\"_blank\">https://wandb.ai/sumanta_roy/CS6910_assignment_1</a>"
      ],
      "text/plain": [
       "<IPython.core.display.HTML object>"
      ]
     },
     "metadata": {},
     "output_type": "display_data"
    },
    {
     "data": {
      "text/html": [
       " View sweep at <a href='https://wandb.ai/sumanta_roy/CS6910_assignment_1/sweeps/ff8houdp' target=\"_blank\">https://wandb.ai/sumanta_roy/CS6910_assignment_1/sweeps/ff8houdp</a>"
      ],
      "text/plain": [
       "<IPython.core.display.HTML object>"
      ]
     },
     "metadata": {},
     "output_type": "display_data"
    },
    {
     "data": {
      "text/html": [
       " View run at <a href='https://wandb.ai/sumanta_roy/CS6910_assignment_1/runs/c8n2rx1y' target=\"_blank\">https://wandb.ai/sumanta_roy/CS6910_assignment_1/runs/c8n2rx1y</a>"
      ],
      "text/plain": [
       "<IPython.core.display.HTML object>"
      ]
     },
     "metadata": {},
     "output_type": "display_data"
    },
    {
     "name": "stdout",
     "output_type": "stream",
     "text": [
      "Epoch: 1/10; Train Loss: 0.0333636532675253; Val Loss: 0.04399557807863204\n",
      "Epoch: 2/10; Train Loss: 0.03167759969347046; Val Loss: 0.03958111930538024\n",
      "Epoch: 3/10; Train Loss: 0.030537572021866903; Val Loss: 0.037532352963794174\n",
      "Epoch: 4/10; Train Loss: 0.029077754424791002; Val Loss: 0.0362387982097719\n",
      "Epoch: 5/10; Train Loss: 0.02738810552831733; Val Loss: 0.03530805704184989\n",
      "Epoch: 6/10; Train Loss: 0.025709304031097047; Val Loss: 0.034596877690574394\n",
      "Epoch: 7/10; Train Loss: 0.024200274687969647; Val Loss: 0.0340335999340092\n",
      "Epoch: 8/10; Train Loss: 0.022902602508446473; Val Loss: 0.033573405653764814\n",
      "Epoch: 9/10; Train Loss: 0.021800524449296026; Val Loss: 0.03318726554130394\n",
      "Epoch: 10/10; Train Loss: 0.020869027080165574; Val Loss: 0.032857733272774664\n"
     ]
    },
    {
     "data": {
      "application/vnd.jupyter.widget-view+json": {
       "model_id": "",
       "version_major": 2,
       "version_minor": 0
      },
      "text/plain": [
       "VBox(children=(Label(value='0.001 MB of 0.027 MB uploaded\\r'), FloatProgress(value=0.02735260770975057, max=1.…"
      ]
     },
     "metadata": {},
     "output_type": "display_data"
    },
    {
     "data": {
      "text/html": [
       "<style>\n",
       "    table.wandb td:nth-child(1) { padding: 0 10px; text-align: left ; width: auto;} td:nth-child(2) {text-align: left ; width: 100%}\n",
       "    .wandb-row { display: flex; flex-direction: row; flex-wrap: wrap; justify-content: flex-start; width: 100% }\n",
       "    .wandb-col { display: flex; flex-direction: column; flex-basis: 100%; flex: 1; padding: 10px; }\n",
       "    </style>\n",
       "<div class=\"wandb-row\"><div class=\"wandb-col\"><h3>Run history:</h3><br/><table class=\"wandb\"><tr><td>epoch</td><td>▁▁▁▁▂▂▂▂▃▃▃▃▃▃▃▃▄▄▄▄▅▅▅▅▆▆▆▆▆▆▆▆▇▇▇▇████</td></tr><tr><td>train_accuracy</td><td>▁▄▅▅▇▄▇▇▂▂▂▇▇██▂▇▁▇▂▅▅▅▇▇▇▂▄▅▇▄▄▅▅▂▂▇▂▇▇</td></tr><tr><td>train_loss</td><td>█▄▄▃▃▄▂▃█▅▄▂▃▁▂▅▂▆▄▇▄▅▃▂▄▂▅▆▄▁▃▅▂▄█▅▁▃▂▃</td></tr><tr><td>val_accuracy</td><td>▁▄▆▆▇▇▇▇▇▇▇▇▇▇▇▇███▇████████████████████</td></tr><tr><td>validation_loss</td><td>█▅▃▃▂▂▂▂▂▂▂▂▂▂▂▂▁▁▁▂▁▁▁▁▁▁▁▁▁▁▁▁▂▁▁▁▁▁▁▁</td></tr></table><br/></div><div class=\"wandb-col\"><h3>Run summary:</h3><br/><table class=\"wandb\"><tr><td>epoch</td><td>10</td></tr><tr><td>train_accuracy</td><td>93.75</td></tr><tr><td>train_loss</td><td>0.02087</td></tr><tr><td>val_accuracy</td><td>88.0</td></tr><tr><td>validation_loss</td><td>0.03286</td></tr></table><br/></div></div>"
      ],
      "text/plain": [
       "<IPython.core.display.HTML object>"
      ]
     },
     "metadata": {},
     "output_type": "display_data"
    },
    {
     "data": {
      "text/html": [
       " View run <strong style=\"color:#cdcd00\">ethereal-sweep-34</strong> at: <a href='https://wandb.ai/sumanta_roy/CS6910_assignment_1/runs/c8n2rx1y' target=\"_blank\">https://wandb.ai/sumanta_roy/CS6910_assignment_1/runs/c8n2rx1y</a><br/>Synced 6 W&B file(s), 0 media file(s), 0 artifact file(s) and 0 other file(s)"
      ],
      "text/plain": [
       "<IPython.core.display.HTML object>"
      ]
     },
     "metadata": {},
     "output_type": "display_data"
    },
    {
     "data": {
      "text/html": [
       "Find logs at: <code>./wandb/run-20240317_055015-c8n2rx1y/logs</code>"
      ],
      "text/plain": [
       "<IPython.core.display.HTML object>"
      ]
     },
     "metadata": {},
     "output_type": "display_data"
    },
    {
     "name": "stderr",
     "output_type": "stream",
     "text": [
      "\u001b[34m\u001b[1mwandb\u001b[0m: Sweep Agent: Waiting for job.\n",
      "\u001b[34m\u001b[1mwandb\u001b[0m: Job received.\n",
      "\u001b[34m\u001b[1mwandb\u001b[0m: Agent Starting Run: xz5btxdh with config:\n",
      "\u001b[34m\u001b[1mwandb\u001b[0m: \tactivation: tanh\n",
      "\u001b[34m\u001b[1mwandb\u001b[0m: \tbatch_size: 16\n",
      "\u001b[34m\u001b[1mwandb\u001b[0m: \tepochs: 10\n",
      "\u001b[34m\u001b[1mwandb\u001b[0m: \thidden_layers: 5\n",
      "\u001b[34m\u001b[1mwandb\u001b[0m: \thidden_size: 64\n",
      "\u001b[34m\u001b[1mwandb\u001b[0m: \tloss: cross_entropy\n",
      "\u001b[34m\u001b[1mwandb\u001b[0m: \tlr: 0.001\n",
      "\u001b[34m\u001b[1mwandb\u001b[0m: \toptimizer: adam\n",
      "\u001b[34m\u001b[1mwandb\u001b[0m: \tw_init: random\n",
      "\u001b[34m\u001b[1mwandb\u001b[0m: \tweight_decay: 0.0005\n"
     ]
    },
    {
     "data": {
      "text/html": [
       "Tracking run with wandb version 0.16.4"
      ],
      "text/plain": [
       "<IPython.core.display.HTML object>"
      ]
     },
     "metadata": {},
     "output_type": "display_data"
    },
    {
     "data": {
      "text/html": [
       "Run data is saved locally in <code>/Users/sumanta/Desktop/Numpy project/cross_entropy_lesspasses/wandb/run-20240317_055305-xz5btxdh</code>"
      ],
      "text/plain": [
       "<IPython.core.display.HTML object>"
      ]
     },
     "metadata": {},
     "output_type": "display_data"
    },
    {
     "data": {
      "text/html": [
       "Syncing run <strong><a href='https://wandb.ai/sumanta_roy/CS6910_assignment_1/runs/xz5btxdh' target=\"_blank\">unique-sweep-35</a></strong> to <a href='https://wandb.ai/sumanta_roy/CS6910_assignment_1' target=\"_blank\">Weights & Biases</a> (<a href='https://wandb.me/run' target=\"_blank\">docs</a>)<br/>Sweep page: <a href='https://wandb.ai/sumanta_roy/CS6910_assignment_1/sweeps/ff8houdp' target=\"_blank\">https://wandb.ai/sumanta_roy/CS6910_assignment_1/sweeps/ff8houdp</a>"
      ],
      "text/plain": [
       "<IPython.core.display.HTML object>"
      ]
     },
     "metadata": {},
     "output_type": "display_data"
    },
    {
     "data": {
      "text/html": [
       " View project at <a href='https://wandb.ai/sumanta_roy/CS6910_assignment_1' target=\"_blank\">https://wandb.ai/sumanta_roy/CS6910_assignment_1</a>"
      ],
      "text/plain": [
       "<IPython.core.display.HTML object>"
      ]
     },
     "metadata": {},
     "output_type": "display_data"
    },
    {
     "data": {
      "text/html": [
       " View sweep at <a href='https://wandb.ai/sumanta_roy/CS6910_assignment_1/sweeps/ff8houdp' target=\"_blank\">https://wandb.ai/sumanta_roy/CS6910_assignment_1/sweeps/ff8houdp</a>"
      ],
      "text/plain": [
       "<IPython.core.display.HTML object>"
      ]
     },
     "metadata": {},
     "output_type": "display_data"
    },
    {
     "data": {
      "text/html": [
       " View run at <a href='https://wandb.ai/sumanta_roy/CS6910_assignment_1/runs/xz5btxdh' target=\"_blank\">https://wandb.ai/sumanta_roy/CS6910_assignment_1/runs/xz5btxdh</a>"
      ],
      "text/plain": [
       "<IPython.core.display.HTML object>"
      ]
     },
     "metadata": {},
     "output_type": "display_data"
    },
    {
     "name": "stdout",
     "output_type": "stream",
     "text": [
      "Epoch: 1/10; Train Loss: 0.11669612699690154; Val Loss: 0.051388205133601685\n",
      "Epoch: 2/10; Train Loss: 0.11652654425163086; Val Loss: 0.045807999392961936\n",
      "Epoch: 3/10; Train Loss: 0.11773968184184523; Val Loss: 0.04292522849772309\n",
      "Epoch: 4/10; Train Loss: 0.11314814034115857; Val Loss: 0.04199024709752329\n",
      "Epoch: 5/10; Train Loss: 0.11061182658451535; Val Loss: 0.04097590004712382\n",
      "Epoch: 6/10; Train Loss: 0.11060711175044424; Val Loss: 0.03993491336946946\n",
      "Epoch: 7/10; Train Loss: 0.11147915523096; Val Loss: 0.04037608070461054\n",
      "Epoch: 8/10; Train Loss: 0.1109563163364223; Val Loss: 0.03972011076999255\n",
      "Epoch: 9/10; Train Loss: 0.10948198796119081; Val Loss: 0.03922243485418867\n",
      "Epoch: 10/10; Train Loss: 0.10809114348641435; Val Loss: 0.03868633502563421\n"
     ]
    },
    {
     "data": {
      "application/vnd.jupyter.widget-view+json": {
       "model_id": "",
       "version_major": 2,
       "version_minor": 0
      },
      "text/plain": [
       "VBox(children=(Label(value='0.001 MB of 0.027 MB uploaded\\r'), FloatProgress(value=0.027365212151288506, max=1…"
      ]
     },
     "metadata": {},
     "output_type": "display_data"
    },
    {
     "data": {
      "text/html": [
       "<style>\n",
       "    table.wandb td:nth-child(1) { padding: 0 10px; text-align: left ; width: auto;} td:nth-child(2) {text-align: left ; width: 100%}\n",
       "    .wandb-row { display: flex; flex-direction: row; flex-wrap: wrap; justify-content: flex-start; width: 100% }\n",
       "    .wandb-col { display: flex; flex-direction: column; flex-basis: 100%; flex: 1; padding: 10px; }\n",
       "    </style>\n",
       "<div class=\"wandb-row\"><div class=\"wandb-col\"><h3>Run history:</h3><br/><table class=\"wandb\"><tr><td>epoch</td><td>▁▁▁▁▂▂▂▂▃▃▃▃▃▃▃▃▄▄▄▄▅▅▅▅▆▆▆▆▆▆▆▆▇▇▇▇████</td></tr><tr><td>train_accuracy</td><td>▅▇▆▇▇▆▆▄▄▆▅█▄█▆▄▆▆▅▄▆▆▄▇▆▇▁▆▃█▇▅▇▆▄▅▇▅▇▆</td></tr><tr><td>train_loss</td><td>▅▃▅▃▄▄▄▄▆▄▅▂▅▁▃▆▃▆▅█▄▄▄▁▃▁█▅▅▂▂▅▂▃▆▄▁▄▁▃</td></tr><tr><td>val_accuracy</td><td>▁▃▅▅▆▆▆▇▇▇▇▇▇▇▇▇▇█▇▇████▇████▇██████▇▇██</td></tr><tr><td>validation_loss</td><td>█▆▄▄▃▃▃▂▂▂▂▂▂▂▂▁▂▁▁▂▁▁▁▁▂▁▁▁▁▁▁▁▁▁▁▁▂▁▁▁</td></tr></table><br/></div><div class=\"wandb-col\"><h3>Run summary:</h3><br/><table class=\"wandb\"><tr><td>epoch</td><td>10</td></tr><tr><td>train_accuracy</td><td>87.5</td></tr><tr><td>train_loss</td><td>0.10809</td></tr><tr><td>val_accuracy</td><td>86.9</td></tr><tr><td>validation_loss</td><td>0.03869</td></tr></table><br/></div></div>"
      ],
      "text/plain": [
       "<IPython.core.display.HTML object>"
      ]
     },
     "metadata": {},
     "output_type": "display_data"
    },
    {
     "data": {
      "text/html": [
       " View run <strong style=\"color:#cdcd00\">unique-sweep-35</strong> at: <a href='https://wandb.ai/sumanta_roy/CS6910_assignment_1/runs/xz5btxdh' target=\"_blank\">https://wandb.ai/sumanta_roy/CS6910_assignment_1/runs/xz5btxdh</a><br/>Synced 6 W&B file(s), 0 media file(s), 0 artifact file(s) and 0 other file(s)"
      ],
      "text/plain": [
       "<IPython.core.display.HTML object>"
      ]
     },
     "metadata": {},
     "output_type": "display_data"
    },
    {
     "data": {
      "text/html": [
       "Find logs at: <code>./wandb/run-20240317_055305-xz5btxdh/logs</code>"
      ],
      "text/plain": [
       "<IPython.core.display.HTML object>"
      ]
     },
     "metadata": {},
     "output_type": "display_data"
    },
    {
     "name": "stderr",
     "output_type": "stream",
     "text": [
      "\u001b[34m\u001b[1mwandb\u001b[0m: Agent Starting Run: 43zcepsm with config:\n",
      "\u001b[34m\u001b[1mwandb\u001b[0m: \tactivation: tanh\n",
      "\u001b[34m\u001b[1mwandb\u001b[0m: \tbatch_size: 16\n",
      "\u001b[34m\u001b[1mwandb\u001b[0m: \tepochs: 10\n",
      "\u001b[34m\u001b[1mwandb\u001b[0m: \thidden_layers: 4\n",
      "\u001b[34m\u001b[1mwandb\u001b[0m: \thidden_size: 64\n",
      "\u001b[34m\u001b[1mwandb\u001b[0m: \tloss: cross_entropy\n",
      "\u001b[34m\u001b[1mwandb\u001b[0m: \tlr: 0.001\n",
      "\u001b[34m\u001b[1mwandb\u001b[0m: \toptimizer: rmsprop\n",
      "\u001b[34m\u001b[1mwandb\u001b[0m: \tw_init: random\n",
      "\u001b[34m\u001b[1mwandb\u001b[0m: \tweight_decay: 0.0005\n"
     ]
    },
    {
     "data": {
      "text/html": [
       "Tracking run with wandb version 0.16.4"
      ],
      "text/plain": [
       "<IPython.core.display.HTML object>"
      ]
     },
     "metadata": {},
     "output_type": "display_data"
    },
    {
     "data": {
      "text/html": [
       "Run data is saved locally in <code>/Users/sumanta/Desktop/Numpy project/cross_entropy_lesspasses/wandb/run-20240317_055507-43zcepsm</code>"
      ],
      "text/plain": [
       "<IPython.core.display.HTML object>"
      ]
     },
     "metadata": {},
     "output_type": "display_data"
    },
    {
     "data": {
      "text/html": [
       "Syncing run <strong><a href='https://wandb.ai/sumanta_roy/CS6910_assignment_1/runs/43zcepsm' target=\"_blank\">earnest-sweep-36</a></strong> to <a href='https://wandb.ai/sumanta_roy/CS6910_assignment_1' target=\"_blank\">Weights & Biases</a> (<a href='https://wandb.me/run' target=\"_blank\">docs</a>)<br/>Sweep page: <a href='https://wandb.ai/sumanta_roy/CS6910_assignment_1/sweeps/ff8houdp' target=\"_blank\">https://wandb.ai/sumanta_roy/CS6910_assignment_1/sweeps/ff8houdp</a>"
      ],
      "text/plain": [
       "<IPython.core.display.HTML object>"
      ]
     },
     "metadata": {},
     "output_type": "display_data"
    },
    {
     "data": {
      "text/html": [
       " View project at <a href='https://wandb.ai/sumanta_roy/CS6910_assignment_1' target=\"_blank\">https://wandb.ai/sumanta_roy/CS6910_assignment_1</a>"
      ],
      "text/plain": [
       "<IPython.core.display.HTML object>"
      ]
     },
     "metadata": {},
     "output_type": "display_data"
    },
    {
     "data": {
      "text/html": [
       " View sweep at <a href='https://wandb.ai/sumanta_roy/CS6910_assignment_1/sweeps/ff8houdp' target=\"_blank\">https://wandb.ai/sumanta_roy/CS6910_assignment_1/sweeps/ff8houdp</a>"
      ],
      "text/plain": [
       "<IPython.core.display.HTML object>"
      ]
     },
     "metadata": {},
     "output_type": "display_data"
    },
    {
     "data": {
      "text/html": [
       " View run at <a href='https://wandb.ai/sumanta_roy/CS6910_assignment_1/runs/43zcepsm' target=\"_blank\">https://wandb.ai/sumanta_roy/CS6910_assignment_1/runs/43zcepsm</a>"
      ],
      "text/plain": [
       "<IPython.core.display.HTML object>"
      ]
     },
     "metadata": {},
     "output_type": "display_data"
    },
    {
     "name": "stdout",
     "output_type": "stream",
     "text": [
      "Epoch: 1/10; Train Loss: 0.12532387446129406; Val Loss: 0.04914640130217421\n",
      "Epoch: 2/10; Train Loss: 0.11116911579209567; Val Loss: 0.044672466891040645\n",
      "Epoch: 3/10; Train Loss: 0.10644574443281057; Val Loss: 0.04242009423750822\n",
      "Epoch: 4/10; Train Loss: 0.10907024510855991; Val Loss: 0.041193512840331736\n",
      "Epoch: 5/10; Train Loss: 0.10950933632411156; Val Loss: 0.03922335775341524\n",
      "Epoch: 6/10; Train Loss: 0.11144531035038945; Val Loss: 0.03849797672914861\n",
      "Epoch: 7/10; Train Loss: 0.10810666633230351; Val Loss: 0.03904267643316025\n",
      "Epoch: 8/10; Train Loss: 0.10445722546918751; Val Loss: 0.0389036207984851\n",
      "Epoch: 9/10; Train Loss: 0.10515515399798764; Val Loss: 0.03951267350530188\n",
      "Epoch: 10/10; Train Loss: 0.10635129487470478; Val Loss: 0.039074631168288125\n"
     ]
    },
    {
     "data": {
      "application/vnd.jupyter.widget-view+json": {
       "model_id": "",
       "version_major": 2,
       "version_minor": 0
      },
      "text/plain": [
       "VBox(children=(Label(value='0.001 MB of 0.001 MB uploaded\\r'), FloatProgress(value=1.0, max=1.0)))"
      ]
     },
     "metadata": {},
     "output_type": "display_data"
    },
    {
     "data": {
      "text/html": [
       "<style>\n",
       "    table.wandb td:nth-child(1) { padding: 0 10px; text-align: left ; width: auto;} td:nth-child(2) {text-align: left ; width: 100%}\n",
       "    .wandb-row { display: flex; flex-direction: row; flex-wrap: wrap; justify-content: flex-start; width: 100% }\n",
       "    .wandb-col { display: flex; flex-direction: column; flex-basis: 100%; flex: 1; padding: 10px; }\n",
       "    </style>\n",
       "<div class=\"wandb-row\"><div class=\"wandb-col\"><h3>Run history:</h3><br/><table class=\"wandb\"><tr><td>epoch</td><td>▁▁▁▁▂▂▂▂▃▃▃▃▃▃▃▃▄▄▄▄▅▅▅▅▆▆▆▆▆▆▆▆▇▇▇▇████</td></tr><tr><td>train_accuracy</td><td>▇▇▅▄▅▇▇▅▄▇▄▅▅█▅▁▇▂▅▂▅▄▅█▅▇▂▄▄▅▄▄▇▅▁▄▇▅▇▇</td></tr><tr><td>train_loss</td><td>▅▄▄▅▃▃▂▃▅▅▆▂▃▁▄█▂▆▃█▆▆▃▁▃▂▆▇▃▂▃▅▂▃█▅▁▄▁▂</td></tr><tr><td>val_accuracy</td><td>▁▃▄▅▅▆▅▆▆▇▆▆▇▇▇▇▇▇▇▇▇▇█▇█▇██▇▇▇█▇▇██▇█▇█</td></tr><tr><td>validation_loss</td><td>█▆▄▃▃▃▃▂▃▂▂▂▂▂▂▂▂▂▂▁▂▂▁▁▁▂▁▁▁▁▂▁▂▂▁▁▂▁▁▁</td></tr></table><br/></div><div class=\"wandb-col\"><h3>Run summary:</h3><br/><table class=\"wandb\"><tr><td>epoch</td><td>10</td></tr><tr><td>train_accuracy</td><td>93.75</td></tr><tr><td>train_loss</td><td>0.10635</td></tr><tr><td>val_accuracy</td><td>87.0</td></tr><tr><td>validation_loss</td><td>0.03907</td></tr></table><br/></div></div>"
      ],
      "text/plain": [
       "<IPython.core.display.HTML object>"
      ]
     },
     "metadata": {},
     "output_type": "display_data"
    },
    {
     "data": {
      "text/html": [
       " View run <strong style=\"color:#cdcd00\">earnest-sweep-36</strong> at: <a href='https://wandb.ai/sumanta_roy/CS6910_assignment_1/runs/43zcepsm' target=\"_blank\">https://wandb.ai/sumanta_roy/CS6910_assignment_1/runs/43zcepsm</a><br/>Synced 6 W&B file(s), 0 media file(s), 0 artifact file(s) and 0 other file(s)"
      ],
      "text/plain": [
       "<IPython.core.display.HTML object>"
      ]
     },
     "metadata": {},
     "output_type": "display_data"
    },
    {
     "data": {
      "text/html": [
       "Find logs at: <code>./wandb/run-20240317_055507-43zcepsm/logs</code>"
      ],
      "text/plain": [
       "<IPython.core.display.HTML object>"
      ]
     },
     "metadata": {},
     "output_type": "display_data"
    },
    {
     "name": "stderr",
     "output_type": "stream",
     "text": [
      "\u001b[34m\u001b[1mwandb\u001b[0m: Agent Starting Run: 43hgphmy with config:\n",
      "\u001b[34m\u001b[1mwandb\u001b[0m: \tactivation: tanh\n",
      "\u001b[34m\u001b[1mwandb\u001b[0m: \tbatch_size: 16\n",
      "\u001b[34m\u001b[1mwandb\u001b[0m: \tepochs: 10\n",
      "\u001b[34m\u001b[1mwandb\u001b[0m: \thidden_layers: 5\n",
      "\u001b[34m\u001b[1mwandb\u001b[0m: \thidden_size: 64\n",
      "\u001b[34m\u001b[1mwandb\u001b[0m: \tloss: cross_entropy\n",
      "\u001b[34m\u001b[1mwandb\u001b[0m: \tlr: 0.001\n",
      "\u001b[34m\u001b[1mwandb\u001b[0m: \toptimizer: nesterov\n",
      "\u001b[34m\u001b[1mwandb\u001b[0m: \tw_init: random\n",
      "\u001b[34m\u001b[1mwandb\u001b[0m: \tweight_decay: 0.0005\n"
     ]
    },
    {
     "data": {
      "text/html": [
       "Tracking run with wandb version 0.16.4"
      ],
      "text/plain": [
       "<IPython.core.display.HTML object>"
      ]
     },
     "metadata": {},
     "output_type": "display_data"
    },
    {
     "data": {
      "text/html": [
       "Run data is saved locally in <code>/Users/sumanta/Desktop/Numpy project/cross_entropy_lesspasses/wandb/run-20240317_055648-43hgphmy</code>"
      ],
      "text/plain": [
       "<IPython.core.display.HTML object>"
      ]
     },
     "metadata": {},
     "output_type": "display_data"
    },
    {
     "data": {
      "text/html": [
       "Syncing run <strong><a href='https://wandb.ai/sumanta_roy/CS6910_assignment_1/runs/43hgphmy' target=\"_blank\">fast-sweep-37</a></strong> to <a href='https://wandb.ai/sumanta_roy/CS6910_assignment_1' target=\"_blank\">Weights & Biases</a> (<a href='https://wandb.me/run' target=\"_blank\">docs</a>)<br/>Sweep page: <a href='https://wandb.ai/sumanta_roy/CS6910_assignment_1/sweeps/ff8houdp' target=\"_blank\">https://wandb.ai/sumanta_roy/CS6910_assignment_1/sweeps/ff8houdp</a>"
      ],
      "text/plain": [
       "<IPython.core.display.HTML object>"
      ]
     },
     "metadata": {},
     "output_type": "display_data"
    },
    {
     "data": {
      "text/html": [
       " View project at <a href='https://wandb.ai/sumanta_roy/CS6910_assignment_1' target=\"_blank\">https://wandb.ai/sumanta_roy/CS6910_assignment_1</a>"
      ],
      "text/plain": [
       "<IPython.core.display.HTML object>"
      ]
     },
     "metadata": {},
     "output_type": "display_data"
    },
    {
     "data": {
      "text/html": [
       " View sweep at <a href='https://wandb.ai/sumanta_roy/CS6910_assignment_1/sweeps/ff8houdp' target=\"_blank\">https://wandb.ai/sumanta_roy/CS6910_assignment_1/sweeps/ff8houdp</a>"
      ],
      "text/plain": [
       "<IPython.core.display.HTML object>"
      ]
     },
     "metadata": {},
     "output_type": "display_data"
    },
    {
     "data": {
      "text/html": [
       " View run at <a href='https://wandb.ai/sumanta_roy/CS6910_assignment_1/runs/43hgphmy' target=\"_blank\">https://wandb.ai/sumanta_roy/CS6910_assignment_1/runs/43hgphmy</a>"
      ],
      "text/plain": [
       "<IPython.core.display.HTML object>"
      ]
     },
     "metadata": {},
     "output_type": "display_data"
    },
    {
     "name": "stdout",
     "output_type": "stream",
     "text": [
      "Epoch: 1/10; Train Loss: 0.13604379163028452; Val Loss: 0.06079674222267813\n",
      "Epoch: 2/10; Train Loss: 0.1393144187010556; Val Loss: 0.053878578351616135\n",
      "Epoch: 3/10; Train Loss: 0.13746137605790226; Val Loss: 0.05029448278654045\n",
      "Epoch: 4/10; Train Loss: 0.1368021485129312; Val Loss: 0.04792591639753252\n",
      "Epoch: 5/10; Train Loss: 0.1349401550170868; Val Loss: 0.04626761296724128\n",
      "Epoch: 6/10; Train Loss: 0.13332852702958958; Val Loss: 0.0451524646803066\n",
      "Epoch: 7/10; Train Loss: 0.13174828623644172; Val Loss: 0.04434883452984655\n",
      "Epoch: 8/10; Train Loss: 0.12934469704102358; Val Loss: 0.043683280181599116\n",
      "Epoch: 9/10; Train Loss: 0.12637391538166795; Val Loss: 0.043113129007283355\n",
      "Epoch: 10/10; Train Loss: 0.12377393926052653; Val Loss: 0.042656766385680486\n"
     ]
    },
    {
     "data": {
      "application/vnd.jupyter.widget-view+json": {
       "model_id": "",
       "version_major": 2,
       "version_minor": 0
      },
      "text/plain": [
       "VBox(children=(Label(value='0.001 MB of 0.001 MB uploaded\\r'), FloatProgress(value=1.0, max=1.0)))"
      ]
     },
     "metadata": {},
     "output_type": "display_data"
    },
    {
     "data": {
      "text/html": [
       "<style>\n",
       "    table.wandb td:nth-child(1) { padding: 0 10px; text-align: left ; width: auto;} td:nth-child(2) {text-align: left ; width: 100%}\n",
       "    .wandb-row { display: flex; flex-direction: row; flex-wrap: wrap; justify-content: flex-start; width: 100% }\n",
       "    .wandb-col { display: flex; flex-direction: column; flex-basis: 100%; flex: 1; padding: 10px; }\n",
       "    </style>\n",
       "<div class=\"wandb-row\"><div class=\"wandb-col\"><h3>Run history:</h3><br/><table class=\"wandb\"><tr><td>epoch</td><td>▁▁▁▁▂▂▂▂▃▃▃▃▃▃▃▃▄▄▄▄▅▅▅▅▆▆▆▆▆▆▆▆▇▇▇▇████</td></tr><tr><td>train_accuracy</td><td>▁▇███▇▇█▃▂▅▇▅█▅▃▇▂▇▅▇▇▅█▇█▃▅█▆█▆▇█▃▆█▅█▇</td></tr><tr><td>train_loss</td><td>█▄▃▃▂▄▃▂▆▆▄▂▅▁▄▅▃▆▄▄▃▄▃▁▂▂▆▄▃▂▂▄▂▂▇▅▂▄▂▂</td></tr><tr><td>val_accuracy</td><td>▁▃▅▅▆▆▆▆▇▇▇▇▇▇▇▇▇▇▇▇▇█▇██████▇██▇███████</td></tr><tr><td>validation_loss</td><td>█▅▄▃▃▃▃▂▂▂▂▂▂▂▂▂▂▂▁▁▁▁▁▁▁▁▁▁▁▁▁▁▁▁▁▁▁▁▁▁</td></tr></table><br/></div><div class=\"wandb-col\"><h3>Run summary:</h3><br/><table class=\"wandb\"><tr><td>epoch</td><td>10</td></tr><tr><td>train_accuracy</td><td>87.5</td></tr><tr><td>train_loss</td><td>0.12377</td></tr><tr><td>val_accuracy</td><td>84.68333</td></tr><tr><td>validation_loss</td><td>0.04266</td></tr></table><br/></div></div>"
      ],
      "text/plain": [
       "<IPython.core.display.HTML object>"
      ]
     },
     "metadata": {},
     "output_type": "display_data"
    },
    {
     "data": {
      "text/html": [
       " View run <strong style=\"color:#cdcd00\">fast-sweep-37</strong> at: <a href='https://wandb.ai/sumanta_roy/CS6910_assignment_1/runs/43hgphmy' target=\"_blank\">https://wandb.ai/sumanta_roy/CS6910_assignment_1/runs/43hgphmy</a><br/>Synced 6 W&B file(s), 0 media file(s), 0 artifact file(s) and 0 other file(s)"
      ],
      "text/plain": [
       "<IPython.core.display.HTML object>"
      ]
     },
     "metadata": {},
     "output_type": "display_data"
    },
    {
     "data": {
      "text/html": [
       "Find logs at: <code>./wandb/run-20240317_055648-43hgphmy/logs</code>"
      ],
      "text/plain": [
       "<IPython.core.display.HTML object>"
      ]
     },
     "metadata": {},
     "output_type": "display_data"
    },
    {
     "name": "stderr",
     "output_type": "stream",
     "text": [
      "\u001b[34m\u001b[1mwandb\u001b[0m: Agent Starting Run: pobqyqz6 with config:\n",
      "\u001b[34m\u001b[1mwandb\u001b[0m: \tactivation: tanh\n",
      "\u001b[34m\u001b[1mwandb\u001b[0m: \tbatch_size: 32\n",
      "\u001b[34m\u001b[1mwandb\u001b[0m: \tepochs: 10\n",
      "\u001b[34m\u001b[1mwandb\u001b[0m: \thidden_layers: 4\n",
      "\u001b[34m\u001b[1mwandb\u001b[0m: \thidden_size: 64\n",
      "\u001b[34m\u001b[1mwandb\u001b[0m: \tloss: cross_entropy\n",
      "\u001b[34m\u001b[1mwandb\u001b[0m: \tlr: 0.001\n",
      "\u001b[34m\u001b[1mwandb\u001b[0m: \toptimizer: adam\n",
      "\u001b[34m\u001b[1mwandb\u001b[0m: \tw_init: random\n",
      "\u001b[34m\u001b[1mwandb\u001b[0m: \tweight_decay: 0.0005\n"
     ]
    },
    {
     "data": {
      "text/html": [
       "Tracking run with wandb version 0.16.4"
      ],
      "text/plain": [
       "<IPython.core.display.HTML object>"
      ]
     },
     "metadata": {},
     "output_type": "display_data"
    },
    {
     "data": {
      "text/html": [
       "Run data is saved locally in <code>/Users/sumanta/Desktop/Numpy project/cross_entropy_lesspasses/wandb/run-20240317_055859-pobqyqz6</code>"
      ],
      "text/plain": [
       "<IPython.core.display.HTML object>"
      ]
     },
     "metadata": {},
     "output_type": "display_data"
    },
    {
     "data": {
      "text/html": [
       "Syncing run <strong><a href='https://wandb.ai/sumanta_roy/CS6910_assignment_1/runs/pobqyqz6' target=\"_blank\">stellar-sweep-38</a></strong> to <a href='https://wandb.ai/sumanta_roy/CS6910_assignment_1' target=\"_blank\">Weights & Biases</a> (<a href='https://wandb.me/run' target=\"_blank\">docs</a>)<br/>Sweep page: <a href='https://wandb.ai/sumanta_roy/CS6910_assignment_1/sweeps/ff8houdp' target=\"_blank\">https://wandb.ai/sumanta_roy/CS6910_assignment_1/sweeps/ff8houdp</a>"
      ],
      "text/plain": [
       "<IPython.core.display.HTML object>"
      ]
     },
     "metadata": {},
     "output_type": "display_data"
    },
    {
     "data": {
      "text/html": [
       " View project at <a href='https://wandb.ai/sumanta_roy/CS6910_assignment_1' target=\"_blank\">https://wandb.ai/sumanta_roy/CS6910_assignment_1</a>"
      ],
      "text/plain": [
       "<IPython.core.display.HTML object>"
      ]
     },
     "metadata": {},
     "output_type": "display_data"
    },
    {
     "data": {
      "text/html": [
       " View sweep at <a href='https://wandb.ai/sumanta_roy/CS6910_assignment_1/sweeps/ff8houdp' target=\"_blank\">https://wandb.ai/sumanta_roy/CS6910_assignment_1/sweeps/ff8houdp</a>"
      ],
      "text/plain": [
       "<IPython.core.display.HTML object>"
      ]
     },
     "metadata": {},
     "output_type": "display_data"
    },
    {
     "data": {
      "text/html": [
       " View run at <a href='https://wandb.ai/sumanta_roy/CS6910_assignment_1/runs/pobqyqz6' target=\"_blank\">https://wandb.ai/sumanta_roy/CS6910_assignment_1/runs/pobqyqz6</a>"
      ],
      "text/plain": [
       "<IPython.core.display.HTML object>"
      ]
     },
     "metadata": {},
     "output_type": "display_data"
    },
    {
     "name": "stdout",
     "output_type": "stream",
     "text": [
      "Epoch: 1/10; Train Loss: 0.09872771333367822; Val Loss: 0.04945140719284152\n",
      "Epoch: 2/10; Train Loss: 0.08652301884475622; Val Loss: 0.04495123763388915\n",
      "Epoch: 3/10; Train Loss: 0.08396717746249388; Val Loss: 0.042907281790360526\n",
      "Epoch: 4/10; Train Loss: 0.08284153831037108; Val Loss: 0.0413743993124733\n",
      "Epoch: 5/10; Train Loss: 0.08011181896450265; Val Loss: 0.04036632977217277\n",
      "Epoch: 6/10; Train Loss: 0.07709017282278316; Val Loss: 0.03970354047437788\n",
      "Epoch: 7/10; Train Loss: 0.07531428399674006; Val Loss: 0.039344813316790614\n",
      "Epoch: 8/10; Train Loss: 0.07388572002719479; Val Loss: 0.039165825482111595\n",
      "Epoch: 9/10; Train Loss: 0.07259272023118293; Val Loss: 0.03906238278513215\n",
      "Epoch: 10/10; Train Loss: 0.07141121581783857; Val Loss: 0.03888803231543737\n"
     ]
    },
    {
     "data": {
      "application/vnd.jupyter.widget-view+json": {
       "model_id": "",
       "version_major": 2,
       "version_minor": 0
      },
      "text/plain": [
       "VBox(children=(Label(value='0.001 MB of 0.001 MB uploaded\\r'), FloatProgress(value=1.0, max=1.0)))"
      ]
     },
     "metadata": {},
     "output_type": "display_data"
    },
    {
     "data": {
      "text/html": [
       "<style>\n",
       "    table.wandb td:nth-child(1) { padding: 0 10px; text-align: left ; width: auto;} td:nth-child(2) {text-align: left ; width: 100%}\n",
       "    .wandb-row { display: flex; flex-direction: row; flex-wrap: wrap; justify-content: flex-start; width: 100% }\n",
       "    .wandb-col { display: flex; flex-direction: column; flex-basis: 100%; flex: 1; padding: 10px; }\n",
       "    </style>\n",
       "<div class=\"wandb-row\"><div class=\"wandb-col\"><h3>Run history:</h3><br/><table class=\"wandb\"><tr><td>epoch</td><td>▁▁▁▁▂▂▂▂▃▃▃▃▃▃▃▃▄▄▄▄▅▅▅▅▆▆▆▆▆▆▆▆▇▇▇▇████</td></tr><tr><td>train_accuracy</td><td>▃▁▃▆▃▆▄▆▃▃▅▆▆▇█▃▄▃▆▃▆▄▆▇▃▆▅▄▃█▅▄▆▄▅▆▆▆▇▆</td></tr><tr><td>train_loss</td><td>▅█▅▃▄▃▅▃▄▅▄▃▄▂▂▆▄█▃▄▂▅▂▁▆▂▄▄▄▁▄▄▂▄▃▂▁▃▂▁</td></tr><tr><td>val_accuracy</td><td>▁▄▅▆▆▆▆▆▇▇▇▇▇▇▇▇▇▇▇▇▇▇█▇▇████▇██████████</td></tr><tr><td>validation_loss</td><td>█▆▄▃▃▃▃▂▂▂▂▂▂▂▂▂▂▂▁▂▁▁▁▁▂▁▁▁▁▁▁▁▁▁▁▁▁▁▁▁</td></tr></table><br/></div><div class=\"wandb-col\"><h3>Run summary:</h3><br/><table class=\"wandb\"><tr><td>epoch</td><td>10</td></tr><tr><td>train_accuracy</td><td>84.375</td></tr><tr><td>train_loss</td><td>0.07141</td></tr><tr><td>val_accuracy</td><td>86.53333</td></tr><tr><td>validation_loss</td><td>0.03889</td></tr></table><br/></div></div>"
      ],
      "text/plain": [
       "<IPython.core.display.HTML object>"
      ]
     },
     "metadata": {},
     "output_type": "display_data"
    },
    {
     "data": {
      "text/html": [
       " View run <strong style=\"color:#cdcd00\">stellar-sweep-38</strong> at: <a href='https://wandb.ai/sumanta_roy/CS6910_assignment_1/runs/pobqyqz6' target=\"_blank\">https://wandb.ai/sumanta_roy/CS6910_assignment_1/runs/pobqyqz6</a><br/>Synced 6 W&B file(s), 0 media file(s), 0 artifact file(s) and 0 other file(s)"
      ],
      "text/plain": [
       "<IPython.core.display.HTML object>"
      ]
     },
     "metadata": {},
     "output_type": "display_data"
    },
    {
     "data": {
      "text/html": [
       "Find logs at: <code>./wandb/run-20240317_055859-pobqyqz6/logs</code>"
      ],
      "text/plain": [
       "<IPython.core.display.HTML object>"
      ]
     },
     "metadata": {},
     "output_type": "display_data"
    },
    {
     "name": "stderr",
     "output_type": "stream",
     "text": [
      "\u001b[34m\u001b[1mwandb\u001b[0m: Agent Starting Run: 9tixuc9l with config:\n",
      "\u001b[34m\u001b[1mwandb\u001b[0m: \tactivation: tanh\n",
      "\u001b[34m\u001b[1mwandb\u001b[0m: \tbatch_size: 16\n",
      "\u001b[34m\u001b[1mwandb\u001b[0m: \tepochs: 10\n",
      "\u001b[34m\u001b[1mwandb\u001b[0m: \thidden_layers: 5\n",
      "\u001b[34m\u001b[1mwandb\u001b[0m: \thidden_size: 128\n",
      "\u001b[34m\u001b[1mwandb\u001b[0m: \tloss: cross_entropy\n",
      "\u001b[34m\u001b[1mwandb\u001b[0m: \tlr: 0.0001\n",
      "\u001b[34m\u001b[1mwandb\u001b[0m: \toptimizer: adam\n",
      "\u001b[34m\u001b[1mwandb\u001b[0m: \tw_init: random\n",
      "\u001b[34m\u001b[1mwandb\u001b[0m: \tweight_decay: 0.0005\n"
     ]
    },
    {
     "data": {
      "text/html": [
       "Tracking run with wandb version 0.16.4"
      ],
      "text/plain": [
       "<IPython.core.display.HTML object>"
      ]
     },
     "metadata": {},
     "output_type": "display_data"
    },
    {
     "data": {
      "text/html": [
       "Run data is saved locally in <code>/Users/sumanta/Desktop/Numpy project/cross_entropy_lesspasses/wandb/run-20240317_060018-9tixuc9l</code>"
      ],
      "text/plain": [
       "<IPython.core.display.HTML object>"
      ]
     },
     "metadata": {},
     "output_type": "display_data"
    },
    {
     "data": {
      "text/html": [
       "Syncing run <strong><a href='https://wandb.ai/sumanta_roy/CS6910_assignment_1/runs/9tixuc9l' target=\"_blank\">laced-sweep-39</a></strong> to <a href='https://wandb.ai/sumanta_roy/CS6910_assignment_1' target=\"_blank\">Weights & Biases</a> (<a href='https://wandb.me/run' target=\"_blank\">docs</a>)<br/>Sweep page: <a href='https://wandb.ai/sumanta_roy/CS6910_assignment_1/sweeps/ff8houdp' target=\"_blank\">https://wandb.ai/sumanta_roy/CS6910_assignment_1/sweeps/ff8houdp</a>"
      ],
      "text/plain": [
       "<IPython.core.display.HTML object>"
      ]
     },
     "metadata": {},
     "output_type": "display_data"
    },
    {
     "data": {
      "text/html": [
       " View project at <a href='https://wandb.ai/sumanta_roy/CS6910_assignment_1' target=\"_blank\">https://wandb.ai/sumanta_roy/CS6910_assignment_1</a>"
      ],
      "text/plain": [
       "<IPython.core.display.HTML object>"
      ]
     },
     "metadata": {},
     "output_type": "display_data"
    },
    {
     "data": {
      "text/html": [
       " View sweep at <a href='https://wandb.ai/sumanta_roy/CS6910_assignment_1/sweeps/ff8houdp' target=\"_blank\">https://wandb.ai/sumanta_roy/CS6910_assignment_1/sweeps/ff8houdp</a>"
      ],
      "text/plain": [
       "<IPython.core.display.HTML object>"
      ]
     },
     "metadata": {},
     "output_type": "display_data"
    },
    {
     "data": {
      "text/html": [
       " View run at <a href='https://wandb.ai/sumanta_roy/CS6910_assignment_1/runs/9tixuc9l' target=\"_blank\">https://wandb.ai/sumanta_roy/CS6910_assignment_1/runs/9tixuc9l</a>"
      ],
      "text/plain": [
       "<IPython.core.display.HTML object>"
      ]
     },
     "metadata": {},
     "output_type": "display_data"
    },
    {
     "name": "stdout",
     "output_type": "stream",
     "text": [
      "Epoch: 1/10; Train Loss: 0.29585783778864816; Val Loss: 0.10229125126104942\n",
      "Epoch: 2/10; Train Loss: 0.2918231436067323; Val Loss: 0.08219722820947559\n",
      "Epoch: 3/10; Train Loss: 0.28786291828678856; Val Loss: 0.07324423724266875\n",
      "Epoch: 4/10; Train Loss: 0.28243374934738086; Val Loss: 0.06857330522292503\n",
      "Epoch: 5/10; Train Loss: 0.2770067667958665; Val Loss: 0.06524851845823627\n",
      "Epoch: 6/10; Train Loss: 0.2729132565876533; Val Loss: 0.06268693636628243\n",
      "Epoch: 7/10; Train Loss: 0.2704095563306549; Val Loss: 0.060693160201689696\n",
      "Epoch: 8/10; Train Loss: 0.2690360697934008; Val Loss: 0.059137933000307244\n",
      "Epoch: 9/10; Train Loss: 0.26841908628289396; Val Loss: 0.057907013477238325\n",
      "Epoch: 10/10; Train Loss: 0.26767671881119487; Val Loss: 0.056939493122577414\n"
     ]
    },
    {
     "data": {
      "application/vnd.jupyter.widget-view+json": {
       "model_id": "",
       "version_major": 2,
       "version_minor": 0
      },
      "text/plain": [
       "VBox(children=(Label(value='0.001 MB of 0.001 MB uploaded\\r'), FloatProgress(value=1.0, max=1.0)))"
      ]
     },
     "metadata": {},
     "output_type": "display_data"
    },
    {
     "data": {
      "text/html": [
       "<style>\n",
       "    table.wandb td:nth-child(1) { padding: 0 10px; text-align: left ; width: auto;} td:nth-child(2) {text-align: left ; width: 100%}\n",
       "    .wandb-row { display: flex; flex-direction: row; flex-wrap: wrap; justify-content: flex-start; width: 100% }\n",
       "    .wandb-col { display: flex; flex-direction: column; flex-basis: 100%; flex: 1; padding: 10px; }\n",
       "    </style>\n",
       "<div class=\"wandb-row\"><div class=\"wandb-col\"><h3>Run history:</h3><br/><table class=\"wandb\"><tr><td>epoch</td><td>▁▁▁▁▂▂▂▂▃▃▃▃▃▃▃▃▄▄▄▄▅▅▅▅▆▆▆▆▆▆▆▆▇▇▇▇████</td></tr><tr><td>train_accuracy</td><td>▁▃▆▅▂▆▆▄▃▃▅▃▄▇▄▅▆▃▄▅▆▆▅▆▆▇▃▄▄█▇▆▆▆▄▆▇▆▆▆</td></tr><tr><td>train_loss</td><td>█▆▄▃▅▃▂▃▄▃▂▄▃▂▄▄▃▃▄▃▃▂▂▂▂▂▃▃▄▁▂▃▂▂▄▃▁▂▂▂</td></tr><tr><td>val_accuracy</td><td>▁▃▄▅▅▆▆▆▆▆▇▇▇▇▇▇▇▇▇▇▇▇██████████████████</td></tr><tr><td>validation_loss</td><td>█▆▄▄▃▃▃▂▂▂▂▂▂▂▂▂▂▂▁▁▁▁▁▁▁▁▁▁▁▁▁▁▁▁▁▁▁▁▁▁</td></tr></table><br/></div><div class=\"wandb-col\"><h3>Run summary:</h3><br/><table class=\"wandb\"><tr><td>epoch</td><td>10</td></tr><tr><td>train_accuracy</td><td>68.75</td></tr><tr><td>train_loss</td><td>0.26768</td></tr><tr><td>val_accuracy</td><td>80.53333</td></tr><tr><td>validation_loss</td><td>0.05694</td></tr></table><br/></div></div>"
      ],
      "text/plain": [
       "<IPython.core.display.HTML object>"
      ]
     },
     "metadata": {},
     "output_type": "display_data"
    },
    {
     "data": {
      "text/html": [
       " View run <strong style=\"color:#cdcd00\">laced-sweep-39</strong> at: <a href='https://wandb.ai/sumanta_roy/CS6910_assignment_1/runs/9tixuc9l' target=\"_blank\">https://wandb.ai/sumanta_roy/CS6910_assignment_1/runs/9tixuc9l</a><br/>Synced 6 W&B file(s), 0 media file(s), 0 artifact file(s) and 0 other file(s)"
      ],
      "text/plain": [
       "<IPython.core.display.HTML object>"
      ]
     },
     "metadata": {},
     "output_type": "display_data"
    },
    {
     "data": {
      "text/html": [
       "Find logs at: <code>./wandb/run-20240317_060018-9tixuc9l/logs</code>"
      ],
      "text/plain": [
       "<IPython.core.display.HTML object>"
      ]
     },
     "metadata": {},
     "output_type": "display_data"
    },
    {
     "name": "stderr",
     "output_type": "stream",
     "text": [
      "\u001b[34m\u001b[1mwandb\u001b[0m: Agent Starting Run: bqjgmbdu with config:\n",
      "\u001b[34m\u001b[1mwandb\u001b[0m: \tactivation: tanh\n",
      "\u001b[34m\u001b[1mwandb\u001b[0m: \tbatch_size: 32\n",
      "\u001b[34m\u001b[1mwandb\u001b[0m: \tepochs: 10\n",
      "\u001b[34m\u001b[1mwandb\u001b[0m: \thidden_layers: 4\n",
      "\u001b[34m\u001b[1mwandb\u001b[0m: \thidden_size: 128\n",
      "\u001b[34m\u001b[1mwandb\u001b[0m: \tloss: cross_entropy\n",
      "\u001b[34m\u001b[1mwandb\u001b[0m: \tlr: 0.0001\n",
      "\u001b[34m\u001b[1mwandb\u001b[0m: \toptimizer: rmsprop\n",
      "\u001b[34m\u001b[1mwandb\u001b[0m: \tw_init: random\n",
      "\u001b[34m\u001b[1mwandb\u001b[0m: \tweight_decay: 0\n"
     ]
    },
    {
     "data": {
      "text/html": [
       "Tracking run with wandb version 0.16.4"
      ],
      "text/plain": [
       "<IPython.core.display.HTML object>"
      ]
     },
     "metadata": {},
     "output_type": "display_data"
    },
    {
     "data": {
      "text/html": [
       "Run data is saved locally in <code>/Users/sumanta/Desktop/Numpy project/cross_entropy_lesspasses/wandb/run-20240317_060415-bqjgmbdu</code>"
      ],
      "text/plain": [
       "<IPython.core.display.HTML object>"
      ]
     },
     "metadata": {},
     "output_type": "display_data"
    },
    {
     "data": {
      "text/html": [
       "Syncing run <strong><a href='https://wandb.ai/sumanta_roy/CS6910_assignment_1/runs/bqjgmbdu' target=\"_blank\">clean-sweep-40</a></strong> to <a href='https://wandb.ai/sumanta_roy/CS6910_assignment_1' target=\"_blank\">Weights & Biases</a> (<a href='https://wandb.me/run' target=\"_blank\">docs</a>)<br/>Sweep page: <a href='https://wandb.ai/sumanta_roy/CS6910_assignment_1/sweeps/ff8houdp' target=\"_blank\">https://wandb.ai/sumanta_roy/CS6910_assignment_1/sweeps/ff8houdp</a>"
      ],
      "text/plain": [
       "<IPython.core.display.HTML object>"
      ]
     },
     "metadata": {},
     "output_type": "display_data"
    },
    {
     "data": {
      "text/html": [
       " View project at <a href='https://wandb.ai/sumanta_roy/CS6910_assignment_1' target=\"_blank\">https://wandb.ai/sumanta_roy/CS6910_assignment_1</a>"
      ],
      "text/plain": [
       "<IPython.core.display.HTML object>"
      ]
     },
     "metadata": {},
     "output_type": "display_data"
    },
    {
     "data": {
      "text/html": [
       " View sweep at <a href='https://wandb.ai/sumanta_roy/CS6910_assignment_1/sweeps/ff8houdp' target=\"_blank\">https://wandb.ai/sumanta_roy/CS6910_assignment_1/sweeps/ff8houdp</a>"
      ],
      "text/plain": [
       "<IPython.core.display.HTML object>"
      ]
     },
     "metadata": {},
     "output_type": "display_data"
    },
    {
     "data": {
      "text/html": [
       " View run at <a href='https://wandb.ai/sumanta_roy/CS6910_assignment_1/runs/bqjgmbdu' target=\"_blank\">https://wandb.ai/sumanta_roy/CS6910_assignment_1/runs/bqjgmbdu</a>"
      ],
      "text/plain": [
       "<IPython.core.display.HTML object>"
      ]
     },
     "metadata": {},
     "output_type": "display_data"
    },
    {
     "name": "stdout",
     "output_type": "stream",
     "text": [
      "Epoch: 1/10; Train Loss: 0.05454029464392031; Val Loss: 0.07761225853155382\n",
      "Epoch: 2/10; Train Loss: 0.05984508139559206; Val Loss: 0.06490700736594052\n",
      "Epoch: 3/10; Train Loss: 0.05620938474810959; Val Loss: 0.059827669766556416\n",
      "Epoch: 4/10; Train Loss: 0.05385647284301328; Val Loss: 0.056758052294228416\n",
      "Epoch: 5/10; Train Loss: 0.05159734333480589; Val Loss: 0.054618130995165236\n",
      "Epoch: 6/10; Train Loss: 0.04936449501467305; Val Loss: 0.05304964542207367\n",
      "Epoch: 7/10; Train Loss: 0.04714764950506597; Val Loss: 0.05182375204494753\n",
      "Epoch: 8/10; Train Loss: 0.04503795066498073; Val Loss: 0.050828277822086265\n",
      "Epoch: 9/10; Train Loss: 0.043086776592511075; Val Loss: 0.050012732948413935\n",
      "Epoch: 10/10; Train Loss: 0.0413483117035129; Val Loss: 0.04933653387178534\n"
     ]
    },
    {
     "data": {
      "application/vnd.jupyter.widget-view+json": {
       "model_id": "",
       "version_major": 2,
       "version_minor": 0
      },
      "text/plain": [
       "VBox(children=(Label(value='0.001 MB of 0.001 MB uploaded\\r'), FloatProgress(value=1.0, max=1.0)))"
      ]
     },
     "metadata": {},
     "output_type": "display_data"
    },
    {
     "data": {
      "text/html": [
       "<style>\n",
       "    table.wandb td:nth-child(1) { padding: 0 10px; text-align: left ; width: auto;} td:nth-child(2) {text-align: left ; width: 100%}\n",
       "    .wandb-row { display: flex; flex-direction: row; flex-wrap: wrap; justify-content: flex-start; width: 100% }\n",
       "    .wandb-col { display: flex; flex-direction: column; flex-basis: 100%; flex: 1; padding: 10px; }\n",
       "    </style>\n",
       "<div class=\"wandb-row\"><div class=\"wandb-col\"><h3>Run history:</h3><br/><table class=\"wandb\"><tr><td>epoch</td><td>▁▁▁▁▂▂▂▂▃▃▃▃▃▃▃▃▄▄▄▄▅▅▅▅▆▆▆▆▆▆▆▆▇▇▇▇████</td></tr><tr><td>train_accuracy</td><td>▁▅▃▇▆▆▅▇▅▆▆▇▆▇▆▆▇▄▇▅▆▆█▇▆▇▅▇▇█▆▆██▆██▇█▆</td></tr><tr><td>train_loss</td><td>█▄▃▂▂▃▃▂▂▃▂▂▂▂▂▃▂▃▂▃▂▂▁▁▂▁▃▂▂▁▂▂▁▁▂▂▁▂▁▂</td></tr><tr><td>val_accuracy</td><td>▁▄▆▆▆▇▇▇▇▇▇▇▇█▇█████████████████████████</td></tr><tr><td>validation_loss</td><td>█▄▃▂▂▂▂▂▂▂▂▁▁▁▁▁▁▁▁▁▁▁▁▁▁▁▁▁▁▁▁▁▁▁▁▁▁▁▁▁</td></tr></table><br/></div><div class=\"wandb-col\"><h3>Run summary:</h3><br/><table class=\"wandb\"><tr><td>epoch</td><td>10</td></tr><tr><td>train_accuracy</td><td>81.25</td></tr><tr><td>train_loss</td><td>0.04135</td></tr><tr><td>val_accuracy</td><td>82.61667</td></tr><tr><td>validation_loss</td><td>0.04934</td></tr></table><br/></div></div>"
      ],
      "text/plain": [
       "<IPython.core.display.HTML object>"
      ]
     },
     "metadata": {},
     "output_type": "display_data"
    },
    {
     "data": {
      "text/html": [
       " View run <strong style=\"color:#cdcd00\">clean-sweep-40</strong> at: <a href='https://wandb.ai/sumanta_roy/CS6910_assignment_1/runs/bqjgmbdu' target=\"_blank\">https://wandb.ai/sumanta_roy/CS6910_assignment_1/runs/bqjgmbdu</a><br/>Synced 6 W&B file(s), 0 media file(s), 0 artifact file(s) and 0 other file(s)"
      ],
      "text/plain": [
       "<IPython.core.display.HTML object>"
      ]
     },
     "metadata": {},
     "output_type": "display_data"
    },
    {
     "data": {
      "text/html": [
       "Find logs at: <code>./wandb/run-20240317_060415-bqjgmbdu/logs</code>"
      ],
      "text/plain": [
       "<IPython.core.display.HTML object>"
      ]
     },
     "metadata": {},
     "output_type": "display_data"
    },
    {
     "name": "stderr",
     "output_type": "stream",
     "text": [
      "\u001b[34m\u001b[1mwandb\u001b[0m: Agent Starting Run: q911pafr with config:\n",
      "\u001b[34m\u001b[1mwandb\u001b[0m: \tactivation: tanh\n",
      "\u001b[34m\u001b[1mwandb\u001b[0m: \tbatch_size: 16\n",
      "\u001b[34m\u001b[1mwandb\u001b[0m: \tepochs: 10\n",
      "\u001b[34m\u001b[1mwandb\u001b[0m: \thidden_layers: 5\n",
      "\u001b[34m\u001b[1mwandb\u001b[0m: \thidden_size: 64\n",
      "\u001b[34m\u001b[1mwandb\u001b[0m: \tloss: cross_entropy\n",
      "\u001b[34m\u001b[1mwandb\u001b[0m: \tlr: 0.0001\n",
      "\u001b[34m\u001b[1mwandb\u001b[0m: \toptimizer: rmsprop\n",
      "\u001b[34m\u001b[1mwandb\u001b[0m: \tw_init: random\n",
      "\u001b[34m\u001b[1mwandb\u001b[0m: \tweight_decay: 0.0005\n"
     ]
    },
    {
     "data": {
      "text/html": [
       "Tracking run with wandb version 0.16.4"
      ],
      "text/plain": [
       "<IPython.core.display.HTML object>"
      ]
     },
     "metadata": {},
     "output_type": "display_data"
    },
    {
     "data": {
      "text/html": [
       "Run data is saved locally in <code>/Users/sumanta/Desktop/Numpy project/cross_entropy_lesspasses/wandb/run-20240317_060649-q911pafr</code>"
      ],
      "text/plain": [
       "<IPython.core.display.HTML object>"
      ]
     },
     "metadata": {},
     "output_type": "display_data"
    },
    {
     "data": {
      "text/html": [
       "Syncing run <strong><a href='https://wandb.ai/sumanta_roy/CS6910_assignment_1/runs/q911pafr' target=\"_blank\">playful-sweep-41</a></strong> to <a href='https://wandb.ai/sumanta_roy/CS6910_assignment_1' target=\"_blank\">Weights & Biases</a> (<a href='https://wandb.me/run' target=\"_blank\">docs</a>)<br/>Sweep page: <a href='https://wandb.ai/sumanta_roy/CS6910_assignment_1/sweeps/ff8houdp' target=\"_blank\">https://wandb.ai/sumanta_roy/CS6910_assignment_1/sweeps/ff8houdp</a>"
      ],
      "text/plain": [
       "<IPython.core.display.HTML object>"
      ]
     },
     "metadata": {},
     "output_type": "display_data"
    },
    {
     "data": {
      "text/html": [
       " View project at <a href='https://wandb.ai/sumanta_roy/CS6910_assignment_1' target=\"_blank\">https://wandb.ai/sumanta_roy/CS6910_assignment_1</a>"
      ],
      "text/plain": [
       "<IPython.core.display.HTML object>"
      ]
     },
     "metadata": {},
     "output_type": "display_data"
    },
    {
     "data": {
      "text/html": [
       " View sweep at <a href='https://wandb.ai/sumanta_roy/CS6910_assignment_1/sweeps/ff8houdp' target=\"_blank\">https://wandb.ai/sumanta_roy/CS6910_assignment_1/sweeps/ff8houdp</a>"
      ],
      "text/plain": [
       "<IPython.core.display.HTML object>"
      ]
     },
     "metadata": {},
     "output_type": "display_data"
    },
    {
     "data": {
      "text/html": [
       " View run at <a href='https://wandb.ai/sumanta_roy/CS6910_assignment_1/runs/q911pafr' target=\"_blank\">https://wandb.ai/sumanta_roy/CS6910_assignment_1/runs/q911pafr</a>"
      ],
      "text/plain": [
       "<IPython.core.display.HTML object>"
      ]
     },
     "metadata": {},
     "output_type": "display_data"
    },
    {
     "name": "stdout",
     "output_type": "stream",
     "text": [
      "Epoch: 1/10; Train Loss: 0.12383057826394894; Val Loss: 0.06830941568186925\n",
      "Epoch: 2/10; Train Loss: 0.11554004031970128; Val Loss: 0.0586146016337722\n",
      "Epoch: 3/10; Train Loss: 0.11553512474387848; Val Loss: 0.053943499526871476\n",
      "Epoch: 4/10; Train Loss: 0.11645781182234233; Val Loss: 0.05123505134311669\n",
      "Epoch: 5/10; Train Loss: 0.11686567250348309; Val Loss: 0.0493180242116868\n",
      "Epoch: 6/10; Train Loss: 0.11729971366743483; Val Loss: 0.04791227900515679\n",
      "Epoch: 7/10; Train Loss: 0.11772376491528005; Val Loss: 0.04685445619474076\n",
      "Epoch: 8/10; Train Loss: 0.11771466300739955; Val Loss: 0.04602463207477776\n",
      "Epoch: 9/10; Train Loss: 0.11731661495373509; Val Loss: 0.04532349374566866\n",
      "Epoch: 10/10; Train Loss: 0.11680422626666476; Val Loss: 0.044711190104861694\n"
     ]
    },
    {
     "data": {
      "application/vnd.jupyter.widget-view+json": {
       "model_id": "",
       "version_major": 2,
       "version_minor": 0
      },
      "text/plain": [
       "VBox(children=(Label(value='0.001 MB of 0.001 MB uploaded\\r'), FloatProgress(value=1.0, max=1.0)))"
      ]
     },
     "metadata": {},
     "output_type": "display_data"
    },
    {
     "data": {
      "text/html": [
       "<style>\n",
       "    table.wandb td:nth-child(1) { padding: 0 10px; text-align: left ; width: auto;} td:nth-child(2) {text-align: left ; width: 100%}\n",
       "    .wandb-row { display: flex; flex-direction: row; flex-wrap: wrap; justify-content: flex-start; width: 100% }\n",
       "    .wandb-col { display: flex; flex-direction: column; flex-basis: 100%; flex: 1; padding: 10px; }\n",
       "    </style>\n",
       "<div class=\"wandb-row\"><div class=\"wandb-col\"><h3>Run history:</h3><br/><table class=\"wandb\"><tr><td>epoch</td><td>▁▁▁▁▂▂▂▂▃▃▃▃▃▃▃▃▄▄▄▄▅▅▅▅▆▆▆▆▆▆▆▆▇▇▇▇████</td></tr><tr><td>train_accuracy</td><td>▃▅▅▅▅▇▆▂▄▄▄▆▅▆▄▃▅▁▅▅▅▅▅█▆▆▄▆▅█▅▅▇▆▅▆▆▃▆▆</td></tr><tr><td>train_loss</td><td>▇▅▄▃▃▃▃▄▅▅▄▃▃▃▅▅▂█▄▄▃▅▃▁▂▂▆▄▃▁▂▄▂▂▅▄▂▃▃▃</td></tr><tr><td>val_accuracy</td><td>▁▅▆▆▇▇▇▇▇▇▇▇▇▇▇█████████████████████████</td></tr><tr><td>validation_loss</td><td>█▄▃▃▂▂▂▂▂▂▂▂▂▂▁▁▁▁▁▁▁▁▁▁▁▁▁▁▁▁▁▁▁▁▁▁▁▁▁▁</td></tr></table><br/></div><div class=\"wandb-col\"><h3>Run summary:</h3><br/><table class=\"wandb\"><tr><td>epoch</td><td>10</td></tr><tr><td>train_accuracy</td><td>93.75</td></tr><tr><td>train_loss</td><td>0.1168</td></tr><tr><td>val_accuracy</td><td>84.03333</td></tr><tr><td>validation_loss</td><td>0.04471</td></tr></table><br/></div></div>"
      ],
      "text/plain": [
       "<IPython.core.display.HTML object>"
      ]
     },
     "metadata": {},
     "output_type": "display_data"
    },
    {
     "data": {
      "text/html": [
       " View run <strong style=\"color:#cdcd00\">playful-sweep-41</strong> at: <a href='https://wandb.ai/sumanta_roy/CS6910_assignment_1/runs/q911pafr' target=\"_blank\">https://wandb.ai/sumanta_roy/CS6910_assignment_1/runs/q911pafr</a><br/>Synced 6 W&B file(s), 0 media file(s), 0 artifact file(s) and 0 other file(s)"
      ],
      "text/plain": [
       "<IPython.core.display.HTML object>"
      ]
     },
     "metadata": {},
     "output_type": "display_data"
    },
    {
     "data": {
      "text/html": [
       "Find logs at: <code>./wandb/run-20240317_060649-q911pafr/logs</code>"
      ],
      "text/plain": [
       "<IPython.core.display.HTML object>"
      ]
     },
     "metadata": {},
     "output_type": "display_data"
    },
    {
     "name": "stderr",
     "output_type": "stream",
     "text": [
      "\u001b[34m\u001b[1mwandb\u001b[0m: Sweep Agent: Waiting for job.\n",
      "\u001b[34m\u001b[1mwandb\u001b[0m: Job received.\n",
      "\u001b[34m\u001b[1mwandb\u001b[0m: Agent Starting Run: vx8ivsg3 with config:\n",
      "\u001b[34m\u001b[1mwandb\u001b[0m: \tactivation: tanh\n",
      "\u001b[34m\u001b[1mwandb\u001b[0m: \tbatch_size: 32\n",
      "\u001b[34m\u001b[1mwandb\u001b[0m: \tepochs: 10\n",
      "\u001b[34m\u001b[1mwandb\u001b[0m: \thidden_layers: 5\n",
      "\u001b[34m\u001b[1mwandb\u001b[0m: \thidden_size: 64\n",
      "\u001b[34m\u001b[1mwandb\u001b[0m: \tloss: cross_entropy\n",
      "\u001b[34m\u001b[1mwandb\u001b[0m: \tlr: 0.0001\n",
      "\u001b[34m\u001b[1mwandb\u001b[0m: \toptimizer: momentum\n",
      "\u001b[34m\u001b[1mwandb\u001b[0m: \tw_init: random\n",
      "\u001b[34m\u001b[1mwandb\u001b[0m: \tweight_decay: 0\n"
     ]
    },
    {
     "data": {
      "text/html": [
       "Tracking run with wandb version 0.16.4"
      ],
      "text/plain": [
       "<IPython.core.display.HTML object>"
      ]
     },
     "metadata": {},
     "output_type": "display_data"
    },
    {
     "data": {
      "text/html": [
       "Run data is saved locally in <code>/Users/sumanta/Desktop/Numpy project/cross_entropy_lesspasses/wandb/run-20240317_060845-vx8ivsg3</code>"
      ],
      "text/plain": [
       "<IPython.core.display.HTML object>"
      ]
     },
     "metadata": {},
     "output_type": "display_data"
    },
    {
     "data": {
      "text/html": [
       "Syncing run <strong><a href='https://wandb.ai/sumanta_roy/CS6910_assignment_1/runs/vx8ivsg3' target=\"_blank\">clean-sweep-42</a></strong> to <a href='https://wandb.ai/sumanta_roy/CS6910_assignment_1' target=\"_blank\">Weights & Biases</a> (<a href='https://wandb.me/run' target=\"_blank\">docs</a>)<br/>Sweep page: <a href='https://wandb.ai/sumanta_roy/CS6910_assignment_1/sweeps/ff8houdp' target=\"_blank\">https://wandb.ai/sumanta_roy/CS6910_assignment_1/sweeps/ff8houdp</a>"
      ],
      "text/plain": [
       "<IPython.core.display.HTML object>"
      ]
     },
     "metadata": {},
     "output_type": "display_data"
    },
    {
     "data": {
      "text/html": [
       " View project at <a href='https://wandb.ai/sumanta_roy/CS6910_assignment_1' target=\"_blank\">https://wandb.ai/sumanta_roy/CS6910_assignment_1</a>"
      ],
      "text/plain": [
       "<IPython.core.display.HTML object>"
      ]
     },
     "metadata": {},
     "output_type": "display_data"
    },
    {
     "data": {
      "text/html": [
       " View sweep at <a href='https://wandb.ai/sumanta_roy/CS6910_assignment_1/sweeps/ff8houdp' target=\"_blank\">https://wandb.ai/sumanta_roy/CS6910_assignment_1/sweeps/ff8houdp</a>"
      ],
      "text/plain": [
       "<IPython.core.display.HTML object>"
      ]
     },
     "metadata": {},
     "output_type": "display_data"
    },
    {
     "data": {
      "text/html": [
       " View run at <a href='https://wandb.ai/sumanta_roy/CS6910_assignment_1/runs/vx8ivsg3' target=\"_blank\">https://wandb.ai/sumanta_roy/CS6910_assignment_1/runs/vx8ivsg3</a>"
      ],
      "text/plain": [
       "<IPython.core.display.HTML object>"
      ]
     },
     "metadata": {},
     "output_type": "display_data"
    },
    {
     "name": "stdout",
     "output_type": "stream",
     "text": [
      "Epoch: 1/10; Train Loss: 0.12256232047128277; Val Loss: 0.1103978444853455\n",
      "Epoch: 2/10; Train Loss: 0.0992281552449438; Val Loss: 0.09090723951103137\n",
      "Epoch: 3/10; Train Loss: 0.08519641058839471; Val Loss: 0.08204641041409669\n",
      "Epoch: 4/10; Train Loss: 0.07840064108674513; Val Loss: 0.07659160640205144\n",
      "Epoch: 5/10; Train Loss: 0.074640027219991; Val Loss: 0.07278469176387431\n",
      "Epoch: 6/10; Train Loss: 0.0719269101797694; Val Loss: 0.06995264601036051\n",
      "Epoch: 7/10; Train Loss: 0.06955042633471967; Val Loss: 0.0677391377951709\n",
      "Epoch: 8/10; Train Loss: 0.06733443118216573; Val Loss: 0.0659392986348777\n",
      "Epoch: 9/10; Train Loss: 0.06524937542771611; Val Loss: 0.06443750889854652\n",
      "Epoch: 10/10; Train Loss: 0.06328453249678437; Val Loss: 0.06316170998466532\n"
     ]
    },
    {
     "data": {
      "application/vnd.jupyter.widget-view+json": {
       "model_id": "",
       "version_major": 2,
       "version_minor": 0
      },
      "text/plain": [
       "VBox(children=(Label(value='0.001 MB of 0.001 MB uploaded\\r'), FloatProgress(value=1.0, max=1.0)))"
      ]
     },
     "metadata": {},
     "output_type": "display_data"
    },
    {
     "data": {
      "text/html": [
       "<style>\n",
       "    table.wandb td:nth-child(1) { padding: 0 10px; text-align: left ; width: auto;} td:nth-child(2) {text-align: left ; width: 100%}\n",
       "    .wandb-row { display: flex; flex-direction: row; flex-wrap: wrap; justify-content: flex-start; width: 100% }\n",
       "    .wandb-col { display: flex; flex-direction: column; flex-basis: 100%; flex: 1; padding: 10px; }\n",
       "    </style>\n",
       "<div class=\"wandb-row\"><div class=\"wandb-col\"><h3>Run history:</h3><br/><table class=\"wandb\"><tr><td>epoch</td><td>▁▁▁▁▂▂▂▂▃▃▃▃▃▃▃▃▄▄▄▄▅▅▅▅▆▆▆▆▆▆▆▆▇▇▇▇████</td></tr><tr><td>train_accuracy</td><td>▁▂▅▄▅▅▃▄▅▅▆▅▅▆▆▆▅▄▅▇▆▅▆▆▆▆▅▇▅█▇▆▇▆▆▅▇▆█▇</td></tr><tr><td>train_loss</td><td>█▅▄▄▄▄▄▃▃▄▂▃▃▂▃▄▂▄▂▂▂▃▂▂▃▂▃▂▂▁▂▂▂▂▃▃▁▂▁▂</td></tr><tr><td>val_accuracy</td><td>▁▄▅▆▆▆▇▇▇▇▇▇▇▇▇▇▇███████████████████████</td></tr><tr><td>validation_loss</td><td>█▅▄▃▃▃▂▂▂▂▂▂▂▂▂▂▂▁▁▁▁▁▁▁▁▁▁▁▁▁▁▁▁▁▁▁▁▁▁▁</td></tr></table><br/></div><div class=\"wandb-col\"><h3>Run summary:</h3><br/><table class=\"wandb\"><tr><td>epoch</td><td>10</td></tr><tr><td>train_accuracy</td><td>71.875</td></tr><tr><td>train_loss</td><td>0.06328</td></tr><tr><td>val_accuracy</td><td>76.68333</td></tr><tr><td>validation_loss</td><td>0.06316</td></tr></table><br/></div></div>"
      ],
      "text/plain": [
       "<IPython.core.display.HTML object>"
      ]
     },
     "metadata": {},
     "output_type": "display_data"
    },
    {
     "data": {
      "text/html": [
       " View run <strong style=\"color:#cdcd00\">clean-sweep-42</strong> at: <a href='https://wandb.ai/sumanta_roy/CS6910_assignment_1/runs/vx8ivsg3' target=\"_blank\">https://wandb.ai/sumanta_roy/CS6910_assignment_1/runs/vx8ivsg3</a><br/>Synced 6 W&B file(s), 0 media file(s), 0 artifact file(s) and 0 other file(s)"
      ],
      "text/plain": [
       "<IPython.core.display.HTML object>"
      ]
     },
     "metadata": {},
     "output_type": "display_data"
    },
    {
     "data": {
      "text/html": [
       "Find logs at: <code>./wandb/run-20240317_060845-vx8ivsg3/logs</code>"
      ],
      "text/plain": [
       "<IPython.core.display.HTML object>"
      ]
     },
     "metadata": {},
     "output_type": "display_data"
    },
    {
     "name": "stderr",
     "output_type": "stream",
     "text": [
      "\u001b[34m\u001b[1mwandb\u001b[0m: Agent Starting Run: dzfoml6v with config:\n",
      "\u001b[34m\u001b[1mwandb\u001b[0m: \tactivation: tanh\n",
      "\u001b[34m\u001b[1mwandb\u001b[0m: \tbatch_size: 16\n",
      "\u001b[34m\u001b[1mwandb\u001b[0m: \tepochs: 10\n",
      "\u001b[34m\u001b[1mwandb\u001b[0m: \thidden_layers: 5\n",
      "\u001b[34m\u001b[1mwandb\u001b[0m: \thidden_size: 128\n",
      "\u001b[34m\u001b[1mwandb\u001b[0m: \tloss: cross_entropy\n",
      "\u001b[34m\u001b[1mwandb\u001b[0m: \tlr: 0.001\n",
      "\u001b[34m\u001b[1mwandb\u001b[0m: \toptimizer: nesterov\n",
      "\u001b[34m\u001b[1mwandb\u001b[0m: \tw_init: glorot\n",
      "\u001b[34m\u001b[1mwandb\u001b[0m: \tweight_decay: 0.5\n"
     ]
    },
    {
     "data": {
      "text/html": [
       "Tracking run with wandb version 0.16.4"
      ],
      "text/plain": [
       "<IPython.core.display.HTML object>"
      ]
     },
     "metadata": {},
     "output_type": "display_data"
    },
    {
     "data": {
      "text/html": [
       "Run data is saved locally in <code>/Users/sumanta/Desktop/Numpy project/cross_entropy_lesspasses/wandb/run-20240317_061005-dzfoml6v</code>"
      ],
      "text/plain": [
       "<IPython.core.display.HTML object>"
      ]
     },
     "metadata": {},
     "output_type": "display_data"
    },
    {
     "data": {
      "text/html": [
       "Syncing run <strong><a href='https://wandb.ai/sumanta_roy/CS6910_assignment_1/runs/dzfoml6v' target=\"_blank\">classic-sweep-43</a></strong> to <a href='https://wandb.ai/sumanta_roy/CS6910_assignment_1' target=\"_blank\">Weights & Biases</a> (<a href='https://wandb.me/run' target=\"_blank\">docs</a>)<br/>Sweep page: <a href='https://wandb.ai/sumanta_roy/CS6910_assignment_1/sweeps/ff8houdp' target=\"_blank\">https://wandb.ai/sumanta_roy/CS6910_assignment_1/sweeps/ff8houdp</a>"
      ],
      "text/plain": [
       "<IPython.core.display.HTML object>"
      ]
     },
     "metadata": {},
     "output_type": "display_data"
    },
    {
     "data": {
      "text/html": [
       " View project at <a href='https://wandb.ai/sumanta_roy/CS6910_assignment_1' target=\"_blank\">https://wandb.ai/sumanta_roy/CS6910_assignment_1</a>"
      ],
      "text/plain": [
       "<IPython.core.display.HTML object>"
      ]
     },
     "metadata": {},
     "output_type": "display_data"
    },
    {
     "data": {
      "text/html": [
       " View sweep at <a href='https://wandb.ai/sumanta_roy/CS6910_assignment_1/sweeps/ff8houdp' target=\"_blank\">https://wandb.ai/sumanta_roy/CS6910_assignment_1/sweeps/ff8houdp</a>"
      ],
      "text/plain": [
       "<IPython.core.display.HTML object>"
      ]
     },
     "metadata": {},
     "output_type": "display_data"
    },
    {
     "data": {
      "text/html": [
       " View run at <a href='https://wandb.ai/sumanta_roy/CS6910_assignment_1/runs/dzfoml6v' target=\"_blank\">https://wandb.ai/sumanta_roy/CS6910_assignment_1/runs/dzfoml6v</a>"
      ],
      "text/plain": [
       "<IPython.core.display.HTML object>"
      ]
     },
     "metadata": {},
     "output_type": "display_data"
    },
    {
     "name": "stdout",
     "output_type": "stream",
     "text": [
      "Epoch: 1/10; Train Loss: 2.1080422797647906; Val Loss: 0.06605698991026443\n",
      "Epoch: 2/10; Train Loss: 0.8856427959519518; Val Loss: 0.061585589030744084\n",
      "Epoch: 3/10; Train Loss: 0.6931559894608412; Val Loss: 0.06009498283312528\n",
      "Epoch: 4/10; Train Loss: 0.6614278141114541; Val Loss: 0.05950608635998771\n",
      "Epoch: 5/10; Train Loss: 0.6555740666004156; Val Loss: 0.05916694935022211\n",
      "Epoch: 6/10; Train Loss: 0.6535449847875288; Val Loss: 0.05892973969158406\n",
      "Epoch: 7/10; Train Loss: 0.65232014460432; Val Loss: 0.05875061031804387\n",
      "Epoch: 8/10; Train Loss: 0.6514052180321463; Val Loss: 0.058608865436698465\n",
      "Epoch: 9/10; Train Loss: 0.6506754176538897; Val Loss: 0.05849232399101367\n",
      "Epoch: 10/10; Train Loss: 0.6500790442017158; Val Loss: 0.05839392054405868\n"
     ]
    },
    {
     "data": {
      "application/vnd.jupyter.widget-view+json": {
       "model_id": "",
       "version_major": 2,
       "version_minor": 0
      },
      "text/plain": [
       "VBox(children=(Label(value='0.001 MB of 0.027 MB uploaded\\r'), FloatProgress(value=0.027372003971067933, max=1…"
      ]
     },
     "metadata": {},
     "output_type": "display_data"
    },
    {
     "data": {
      "text/html": [
       "<style>\n",
       "    table.wandb td:nth-child(1) { padding: 0 10px; text-align: left ; width: auto;} td:nth-child(2) {text-align: left ; width: 100%}\n",
       "    .wandb-row { display: flex; flex-direction: row; flex-wrap: wrap; justify-content: flex-start; width: 100% }\n",
       "    .wandb-col { display: flex; flex-direction: column; flex-basis: 100%; flex: 1; padding: 10px; }\n",
       "    </style>\n",
       "<div class=\"wandb-row\"><div class=\"wandb-col\"><h3>Run history:</h3><br/><table class=\"wandb\"><tr><td>epoch</td><td>▁▁▁▁▂▂▂▂▃▃▃▃▃▃▃▃▄▄▄▄▅▅▅▅▆▆▆▆▆▆▆▆▇▇▇▇████</td></tr><tr><td>train_accuracy</td><td>▂▇▇▆█▆▇▅▂▅▂▇▅▇▃▃▆▁▅▂▁▅▃▅▆▇▁▅▅▇▃▅▆▇▃▂▇▅▇▂</td></tr><tr><td>train_loss</td><td>█▆▃▃▂▂▁▁▁▁▁▁▁▁▁▁▁▁▁▁▁▁▁▁▁▁▁▁▁▁▁▁▁▁▁▁▁▁▁▁</td></tr><tr><td>val_accuracy</td><td>▁▅▇██▇▇▇█▇███▇▇█▇▇▇▇▇█▇█▇██▇█▇█▇▆▇█▇███▆</td></tr><tr><td>validation_loss</td><td>█▄▃▂▂▂▂▂▁▁▁▁▁▁▁▁▁▁▁▁▁▁▁▁▁▁▁▁▁▁▁▁▂▁▁▁▁▁▁▁</td></tr></table><br/></div><div class=\"wandb-col\"><h3>Run summary:</h3><br/><table class=\"wandb\"><tr><td>epoch</td><td>10</td></tr><tr><td>train_accuracy</td><td>87.5</td></tr><tr><td>train_loss</td><td>0.65008</td></tr><tr><td>val_accuracy</td><td>80.7</td></tr><tr><td>validation_loss</td><td>0.05839</td></tr></table><br/></div></div>"
      ],
      "text/plain": [
       "<IPython.core.display.HTML object>"
      ]
     },
     "metadata": {},
     "output_type": "display_data"
    },
    {
     "data": {
      "text/html": [
       " View run <strong style=\"color:#cdcd00\">classic-sweep-43</strong> at: <a href='https://wandb.ai/sumanta_roy/CS6910_assignment_1/runs/dzfoml6v' target=\"_blank\">https://wandb.ai/sumanta_roy/CS6910_assignment_1/runs/dzfoml6v</a><br/>Synced 6 W&B file(s), 0 media file(s), 0 artifact file(s) and 0 other file(s)"
      ],
      "text/plain": [
       "<IPython.core.display.HTML object>"
      ]
     },
     "metadata": {},
     "output_type": "display_data"
    },
    {
     "data": {
      "text/html": [
       "Find logs at: <code>./wandb/run-20240317_061005-dzfoml6v/logs</code>"
      ],
      "text/plain": [
       "<IPython.core.display.HTML object>"
      ]
     },
     "metadata": {},
     "output_type": "display_data"
    },
    {
     "name": "stderr",
     "output_type": "stream",
     "text": [
      "\u001b[34m\u001b[1mwandb\u001b[0m: Agent Starting Run: ftihtvie with config:\n",
      "\u001b[34m\u001b[1mwandb\u001b[0m: \tactivation: tanh\n",
      "\u001b[34m\u001b[1mwandb\u001b[0m: \tbatch_size: 16\n",
      "\u001b[34m\u001b[1mwandb\u001b[0m: \tepochs: 10\n",
      "\u001b[34m\u001b[1mwandb\u001b[0m: \thidden_layers: 5\n",
      "\u001b[34m\u001b[1mwandb\u001b[0m: \thidden_size: 64\n",
      "\u001b[34m\u001b[1mwandb\u001b[0m: \tloss: cross_entropy\n",
      "\u001b[34m\u001b[1mwandb\u001b[0m: \tlr: 0.0001\n",
      "\u001b[34m\u001b[1mwandb\u001b[0m: \toptimizer: nesterov\n",
      "\u001b[34m\u001b[1mwandb\u001b[0m: \tw_init: glorot\n",
      "\u001b[34m\u001b[1mwandb\u001b[0m: \tweight_decay: 0.5\n"
     ]
    },
    {
     "data": {
      "text/html": [
       "Tracking run with wandb version 0.16.4"
      ],
      "text/plain": [
       "<IPython.core.display.HTML object>"
      ]
     },
     "metadata": {},
     "output_type": "display_data"
    },
    {
     "data": {
      "text/html": [
       "Run data is saved locally in <code>/Users/sumanta/Desktop/Numpy project/cross_entropy_lesspasses/wandb/run-20240317_061359-ftihtvie</code>"
      ],
      "text/plain": [
       "<IPython.core.display.HTML object>"
      ]
     },
     "metadata": {},
     "output_type": "display_data"
    },
    {
     "data": {
      "text/html": [
       "Syncing run <strong><a href='https://wandb.ai/sumanta_roy/CS6910_assignment_1/runs/ftihtvie' target=\"_blank\">daily-sweep-44</a></strong> to <a href='https://wandb.ai/sumanta_roy/CS6910_assignment_1' target=\"_blank\">Weights & Biases</a> (<a href='https://wandb.me/run' target=\"_blank\">docs</a>)<br/>Sweep page: <a href='https://wandb.ai/sumanta_roy/CS6910_assignment_1/sweeps/ff8houdp' target=\"_blank\">https://wandb.ai/sumanta_roy/CS6910_assignment_1/sweeps/ff8houdp</a>"
      ],
      "text/plain": [
       "<IPython.core.display.HTML object>"
      ]
     },
     "metadata": {},
     "output_type": "display_data"
    },
    {
     "data": {
      "text/html": [
       " View project at <a href='https://wandb.ai/sumanta_roy/CS6910_assignment_1' target=\"_blank\">https://wandb.ai/sumanta_roy/CS6910_assignment_1</a>"
      ],
      "text/plain": [
       "<IPython.core.display.HTML object>"
      ]
     },
     "metadata": {},
     "output_type": "display_data"
    },
    {
     "data": {
      "text/html": [
       " View sweep at <a href='https://wandb.ai/sumanta_roy/CS6910_assignment_1/sweeps/ff8houdp' target=\"_blank\">https://wandb.ai/sumanta_roy/CS6910_assignment_1/sweeps/ff8houdp</a>"
      ],
      "text/plain": [
       "<IPython.core.display.HTML object>"
      ]
     },
     "metadata": {},
     "output_type": "display_data"
    },
    {
     "data": {
      "text/html": [
       " View run at <a href='https://wandb.ai/sumanta_roy/CS6910_assignment_1/runs/ftihtvie' target=\"_blank\">https://wandb.ai/sumanta_roy/CS6910_assignment_1/runs/ftihtvie</a>"
      ],
      "text/plain": [
       "<IPython.core.display.HTML object>"
      ]
     },
     "metadata": {},
     "output_type": "display_data"
    },
    {
     "name": "stdout",
     "output_type": "stream",
     "text": [
      "Epoch: 1/10; Train Loss: 5.166289526397618; Val Loss: 0.1098758075787539\n",
      "Epoch: 2/10; Train Loss: 4.322748617818952; Val Loss: 0.09100027444745212\n",
      "Epoch: 3/10; Train Loss: 3.6417442150251027; Val Loss: 0.08276145728459083\n",
      "Epoch: 4/10; Train Loss: 3.0931380539352222; Val Loss: 0.07776400769951575\n",
      "Epoch: 5/10; Train Loss: 2.65014085653806; Val Loss: 0.07439284603805857\n",
      "Epoch: 6/10; Train Loss: 2.2911315520357247; Val Loss: 0.07195669252669004\n",
      "Epoch: 7/10; Train Loss: 1.9992833252880682; Val Loss: 0.0700891231252857\n",
      "Epoch: 8/10; Train Loss: 1.7614746143120277; Val Loss: 0.06858931128356584\n",
      "Epoch: 9/10; Train Loss: 1.5673827965382476; Val Loss: 0.06734744571249358\n",
      "Epoch: 10/10; Train Loss: 1.4088270710161421; Val Loss: 0.06630093527058896\n"
     ]
    },
    {
     "data": {
      "application/vnd.jupyter.widget-view+json": {
       "model_id": "",
       "version_major": 2,
       "version_minor": 0
      },
      "text/plain": [
       "VBox(children=(Label(value='0.001 MB of 0.001 MB uploaded\\r'), FloatProgress(value=1.0, max=1.0)))"
      ]
     },
     "metadata": {},
     "output_type": "display_data"
    },
    {
     "data": {
      "text/html": [
       "<style>\n",
       "    table.wandb td:nth-child(1) { padding: 0 10px; text-align: left ; width: auto;} td:nth-child(2) {text-align: left ; width: 100%}\n",
       "    .wandb-row { display: flex; flex-direction: row; flex-wrap: wrap; justify-content: flex-start; width: 100% }\n",
       "    .wandb-col { display: flex; flex-direction: column; flex-basis: 100%; flex: 1; padding: 10px; }\n",
       "    </style>\n",
       "<div class=\"wandb-row\"><div class=\"wandb-col\"><h3>Run history:</h3><br/><table class=\"wandb\"><tr><td>epoch</td><td>▁▁▁▁▂▂▂▂▃▃▃▃▃▃▃▃▄▄▄▄▅▅▅▅▆▆▆▆▆▆▆▆▇▇▇▇████</td></tr><tr><td>train_accuracy</td><td>▁▄▆▆█▆▅▄▃▅▅▆▆▇▆▆▇▃▆▆▆▆▆▇▇▇▃▇▆█▆▆█▇▆▆█▆▇▇</td></tr><tr><td>train_loss</td><td>██▇▇▆▆▆▆▅▅▅▄▄▄▄▄▃▃▃▃▃▃▂▂▂▂▂▂▂▂▂▂▁▁▁▁▁▁▁▁</td></tr><tr><td>val_accuracy</td><td>▁▄▅▅▆▆▆▇▇▇▇▇▇▇██████████████████████████</td></tr><tr><td>validation_loss</td><td>█▆▄▃▃▃▂▂▂▂▂▂▂▂▂▂▂▁▁▁▁▁▁▁▁▁▁▁▁▁▁▁▁▁▁▁▁▁▁▁</td></tr></table><br/></div><div class=\"wandb-col\"><h3>Run summary:</h3><br/><table class=\"wandb\"><tr><td>epoch</td><td>10</td></tr><tr><td>train_accuracy</td><td>87.5</td></tr><tr><td>train_loss</td><td>1.40883</td></tr><tr><td>val_accuracy</td><td>80.21667</td></tr><tr><td>validation_loss</td><td>0.0663</td></tr></table><br/></div></div>"
      ],
      "text/plain": [
       "<IPython.core.display.HTML object>"
      ]
     },
     "metadata": {},
     "output_type": "display_data"
    },
    {
     "data": {
      "text/html": [
       " View run <strong style=\"color:#cdcd00\">daily-sweep-44</strong> at: <a href='https://wandb.ai/sumanta_roy/CS6910_assignment_1/runs/ftihtvie' target=\"_blank\">https://wandb.ai/sumanta_roy/CS6910_assignment_1/runs/ftihtvie</a><br/>Synced 6 W&B file(s), 0 media file(s), 0 artifact file(s) and 0 other file(s)"
      ],
      "text/plain": [
       "<IPython.core.display.HTML object>"
      ]
     },
     "metadata": {},
     "output_type": "display_data"
    },
    {
     "data": {
      "text/html": [
       "Find logs at: <code>./wandb/run-20240317_061359-ftihtvie/logs</code>"
      ],
      "text/plain": [
       "<IPython.core.display.HTML object>"
      ]
     },
     "metadata": {},
     "output_type": "display_data"
    },
    {
     "name": "stderr",
     "output_type": "stream",
     "text": [
      "\u001b[34m\u001b[1mwandb\u001b[0m: Agent Starting Run: 42ckdcvs with config:\n",
      "\u001b[34m\u001b[1mwandb\u001b[0m: \tactivation: tanh\n",
      "\u001b[34m\u001b[1mwandb\u001b[0m: \tbatch_size: 16\n",
      "\u001b[34m\u001b[1mwandb\u001b[0m: \tepochs: 10\n",
      "\u001b[34m\u001b[1mwandb\u001b[0m: \thidden_layers: 5\n",
      "\u001b[34m\u001b[1mwandb\u001b[0m: \thidden_size: 128\n",
      "\u001b[34m\u001b[1mwandb\u001b[0m: \tloss: cross_entropy\n",
      "\u001b[34m\u001b[1mwandb\u001b[0m: \tlr: 0.001\n",
      "\u001b[34m\u001b[1mwandb\u001b[0m: \toptimizer: nesterov\n",
      "\u001b[34m\u001b[1mwandb\u001b[0m: \tw_init: random\n",
      "\u001b[34m\u001b[1mwandb\u001b[0m: \tweight_decay: 0.0005\n"
     ]
    },
    {
     "data": {
      "text/html": [
       "Tracking run with wandb version 0.16.4"
      ],
      "text/plain": [
       "<IPython.core.display.HTML object>"
      ]
     },
     "metadata": {},
     "output_type": "display_data"
    },
    {
     "data": {
      "text/html": [
       "Run data is saved locally in <code>/Users/sumanta/Desktop/Numpy project/cross_entropy_lesspasses/wandb/run-20240317_061606-42ckdcvs</code>"
      ],
      "text/plain": [
       "<IPython.core.display.HTML object>"
      ]
     },
     "metadata": {},
     "output_type": "display_data"
    },
    {
     "data": {
      "text/html": [
       "Syncing run <strong><a href='https://wandb.ai/sumanta_roy/CS6910_assignment_1/runs/42ckdcvs' target=\"_blank\">good-sweep-45</a></strong> to <a href='https://wandb.ai/sumanta_roy/CS6910_assignment_1' target=\"_blank\">Weights & Biases</a> (<a href='https://wandb.me/run' target=\"_blank\">docs</a>)<br/>Sweep page: <a href='https://wandb.ai/sumanta_roy/CS6910_assignment_1/sweeps/ff8houdp' target=\"_blank\">https://wandb.ai/sumanta_roy/CS6910_assignment_1/sweeps/ff8houdp</a>"
      ],
      "text/plain": [
       "<IPython.core.display.HTML object>"
      ]
     },
     "metadata": {},
     "output_type": "display_data"
    },
    {
     "data": {
      "text/html": [
       " View project at <a href='https://wandb.ai/sumanta_roy/CS6910_assignment_1' target=\"_blank\">https://wandb.ai/sumanta_roy/CS6910_assignment_1</a>"
      ],
      "text/plain": [
       "<IPython.core.display.HTML object>"
      ]
     },
     "metadata": {},
     "output_type": "display_data"
    },
    {
     "data": {
      "text/html": [
       " View sweep at <a href='https://wandb.ai/sumanta_roy/CS6910_assignment_1/sweeps/ff8houdp' target=\"_blank\">https://wandb.ai/sumanta_roy/CS6910_assignment_1/sweeps/ff8houdp</a>"
      ],
      "text/plain": [
       "<IPython.core.display.HTML object>"
      ]
     },
     "metadata": {},
     "output_type": "display_data"
    },
    {
     "data": {
      "text/html": [
       " View run at <a href='https://wandb.ai/sumanta_roy/CS6910_assignment_1/runs/42ckdcvs' target=\"_blank\">https://wandb.ai/sumanta_roy/CS6910_assignment_1/runs/42ckdcvs</a>"
      ],
      "text/plain": [
       "<IPython.core.display.HTML object>"
      ]
     },
     "metadata": {},
     "output_type": "display_data"
    },
    {
     "name": "stdout",
     "output_type": "stream",
     "text": [
      "Epoch: 1/10; Train Loss: 0.25461672200912633; Val Loss: 0.06265588301504361\n",
      "Epoch: 2/10; Train Loss: 0.2438542876532994; Val Loss: 0.05357536037274301\n",
      "Epoch: 3/10; Train Loss: 0.23959513232133905; Val Loss: 0.05034785087746395\n",
      "Epoch: 4/10; Train Loss: 0.23936533896281614; Val Loss: 0.048230982704832705\n",
      "Epoch: 5/10; Train Loss: 0.23912344901477753; Val Loss: 0.04727908565312953\n",
      "Epoch: 6/10; Train Loss: 0.2370838973508852; Val Loss: 0.04664330749383228\n",
      "Epoch: 7/10; Train Loss: 0.23813356308349629; Val Loss: 0.046159689009491606\n",
      "Epoch: 8/10; Train Loss: 0.239152998879016; Val Loss: 0.045898369061836704\n",
      "Epoch: 9/10; Train Loss: 0.23925850912477914; Val Loss: 0.04561053819450077\n",
      "Epoch: 10/10; Train Loss: 0.2394243580468774; Val Loss: 0.04539733531367075\n"
     ]
    },
    {
     "data": {
      "application/vnd.jupyter.widget-view+json": {
       "model_id": "",
       "version_major": 2,
       "version_minor": 0
      },
      "text/plain": [
       "VBox(children=(Label(value='0.001 MB of 0.001 MB uploaded\\r'), FloatProgress(value=1.0, max=1.0)))"
      ]
     },
     "metadata": {},
     "output_type": "display_data"
    },
    {
     "data": {
      "text/html": [
       "<style>\n",
       "    table.wandb td:nth-child(1) { padding: 0 10px; text-align: left ; width: auto;} td:nth-child(2) {text-align: left ; width: 100%}\n",
       "    .wandb-row { display: flex; flex-direction: row; flex-wrap: wrap; justify-content: flex-start; width: 100% }\n",
       "    .wandb-col { display: flex; flex-direction: column; flex-basis: 100%; flex: 1; padding: 10px; }\n",
       "    </style>\n",
       "<div class=\"wandb-row\"><div class=\"wandb-col\"><h3>Run history:</h3><br/><table class=\"wandb\"><tr><td>epoch</td><td>▁▁▁▁▂▂▂▂▃▃▃▃▃▃▃▃▄▄▄▄▅▅▅▅▆▆▆▆▆▆▆▆▇▇▇▇████</td></tr><tr><td>train_accuracy</td><td>▂▆▃▅▇▆▇▆▄▁▅▆▆▇▆▅▇▂▅▄▆▆▅▇▇▇▅▅▄▆▆▅▇▇▅▆▆▆█▇</td></tr><tr><td>train_loss</td><td>█▄█▄▃▄▂▃▅█▅▃▄▁▃▄▃▇▄▆▃▃▃▂▂▁▆▅▄▂▃▄▂▃▆▄▂▃▁▂</td></tr><tr><td>val_accuracy</td><td>▁▄▅▆▆▆▇▇▇▇▇▇▇█▇▇▇█▇▇████▇███████████████</td></tr><tr><td>validation_loss</td><td>█▅▃▃▃▂▂▂▂▂▂▂▂▁▁▁▁▁▁▁▁▁▁▁▂▁▁▁▁▁▁▁▁▁▁▁▁▁▁▁</td></tr></table><br/></div><div class=\"wandb-col\"><h3>Run summary:</h3><br/><table class=\"wandb\"><tr><td>epoch</td><td>10</td></tr><tr><td>train_accuracy</td><td>93.75</td></tr><tr><td>train_loss</td><td>0.23942</td></tr><tr><td>val_accuracy</td><td>84.63333</td></tr><tr><td>validation_loss</td><td>0.0454</td></tr></table><br/></div></div>"
      ],
      "text/plain": [
       "<IPython.core.display.HTML object>"
      ]
     },
     "metadata": {},
     "output_type": "display_data"
    },
    {
     "data": {
      "text/html": [
       " View run <strong style=\"color:#cdcd00\">good-sweep-45</strong> at: <a href='https://wandb.ai/sumanta_roy/CS6910_assignment_1/runs/42ckdcvs' target=\"_blank\">https://wandb.ai/sumanta_roy/CS6910_assignment_1/runs/42ckdcvs</a><br/>Synced 6 W&B file(s), 0 media file(s), 0 artifact file(s) and 0 other file(s)"
      ],
      "text/plain": [
       "<IPython.core.display.HTML object>"
      ]
     },
     "metadata": {},
     "output_type": "display_data"
    },
    {
     "data": {
      "text/html": [
       "Find logs at: <code>./wandb/run-20240317_061606-42ckdcvs/logs</code>"
      ],
      "text/plain": [
       "<IPython.core.display.HTML object>"
      ]
     },
     "metadata": {},
     "output_type": "display_data"
    },
    {
     "name": "stderr",
     "output_type": "stream",
     "text": [
      "\u001b[34m\u001b[1mwandb\u001b[0m: Agent Starting Run: get6y4rj with config:\n",
      "\u001b[34m\u001b[1mwandb\u001b[0m: \tactivation: tanh\n",
      "\u001b[34m\u001b[1mwandb\u001b[0m: \tbatch_size: 16\n",
      "\u001b[34m\u001b[1mwandb\u001b[0m: \tepochs: 10\n",
      "\u001b[34m\u001b[1mwandb\u001b[0m: \thidden_layers: 5\n",
      "\u001b[34m\u001b[1mwandb\u001b[0m: \thidden_size: 64\n",
      "\u001b[34m\u001b[1mwandb\u001b[0m: \tloss: cross_entropy\n",
      "\u001b[34m\u001b[1mwandb\u001b[0m: \tlr: 0.0001\n",
      "\u001b[34m\u001b[1mwandb\u001b[0m: \toptimizer: adam\n",
      "\u001b[34m\u001b[1mwandb\u001b[0m: \tw_init: random\n",
      "\u001b[34m\u001b[1mwandb\u001b[0m: \tweight_decay: 0\n"
     ]
    },
    {
     "data": {
      "text/html": [
       "Tracking run with wandb version 0.16.4"
      ],
      "text/plain": [
       "<IPython.core.display.HTML object>"
      ]
     },
     "metadata": {},
     "output_type": "display_data"
    },
    {
     "data": {
      "text/html": [
       "Run data is saved locally in <code>/Users/sumanta/Desktop/Numpy project/cross_entropy_lesspasses/wandb/run-20240317_062011-get6y4rj</code>"
      ],
      "text/plain": [
       "<IPython.core.display.HTML object>"
      ]
     },
     "metadata": {},
     "output_type": "display_data"
    },
    {
     "data": {
      "text/html": [
       "Syncing run <strong><a href='https://wandb.ai/sumanta_roy/CS6910_assignment_1/runs/get6y4rj' target=\"_blank\">glowing-sweep-46</a></strong> to <a href='https://wandb.ai/sumanta_roy/CS6910_assignment_1' target=\"_blank\">Weights & Biases</a> (<a href='https://wandb.me/run' target=\"_blank\">docs</a>)<br/>Sweep page: <a href='https://wandb.ai/sumanta_roy/CS6910_assignment_1/sweeps/ff8houdp' target=\"_blank\">https://wandb.ai/sumanta_roy/CS6910_assignment_1/sweeps/ff8houdp</a>"
      ],
      "text/plain": [
       "<IPython.core.display.HTML object>"
      ]
     },
     "metadata": {},
     "output_type": "display_data"
    },
    {
     "data": {
      "text/html": [
       " View project at <a href='https://wandb.ai/sumanta_roy/CS6910_assignment_1' target=\"_blank\">https://wandb.ai/sumanta_roy/CS6910_assignment_1</a>"
      ],
      "text/plain": [
       "<IPython.core.display.HTML object>"
      ]
     },
     "metadata": {},
     "output_type": "display_data"
    },
    {
     "data": {
      "text/html": [
       " View sweep at <a href='https://wandb.ai/sumanta_roy/CS6910_assignment_1/sweeps/ff8houdp' target=\"_blank\">https://wandb.ai/sumanta_roy/CS6910_assignment_1/sweeps/ff8houdp</a>"
      ],
      "text/plain": [
       "<IPython.core.display.HTML object>"
      ]
     },
     "metadata": {},
     "output_type": "display_data"
    },
    {
     "data": {
      "text/html": [
       " View run at <a href='https://wandb.ai/sumanta_roy/CS6910_assignment_1/runs/get6y4rj' target=\"_blank\">https://wandb.ai/sumanta_roy/CS6910_assignment_1/runs/get6y4rj</a>"
      ],
      "text/plain": [
       "<IPython.core.display.HTML object>"
      ]
     },
     "metadata": {},
     "output_type": "display_data"
    },
    {
     "name": "stdout",
     "output_type": "stream",
     "text": [
      "Epoch: 1/10; Train Loss: 0.06614739318550429; Val Loss: 0.08294715910773404\n",
      "Epoch: 2/10; Train Loss: 0.051092734698605057; Val Loss: 0.07140800610714614\n",
      "Epoch: 3/10; Train Loss: 0.04517246532795737; Val Loss: 0.06550394635913692\n",
      "Epoch: 4/10; Train Loss: 0.040145314277783076; Val Loss: 0.06167614886731955\n",
      "Epoch: 5/10; Train Loss: 0.035654143725410155; Val Loss: 0.05891886127723934\n",
      "Epoch: 6/10; Train Loss: 0.03217876415753186; Val Loss: 0.05674407093981544\n",
      "Epoch: 7/10; Train Loss: 0.030059811219697353; Val Loss: 0.054960568982714675\n",
      "Epoch: 8/10; Train Loss: 0.029209632226416964; Val Loss: 0.05344380277302409\n",
      "Epoch: 9/10; Train Loss: 0.029165894463534126; Val Loss: 0.052151620940732515\n",
      "Epoch: 10/10; Train Loss: 0.029510684736322967; Val Loss: 0.05105326857865389\n"
     ]
    },
    {
     "data": {
      "application/vnd.jupyter.widget-view+json": {
       "model_id": "",
       "version_major": 2,
       "version_minor": 0
      },
      "text/plain": [
       "VBox(children=(Label(value='0.001 MB of 0.001 MB uploaded\\r'), FloatProgress(value=1.0, max=1.0)))"
      ]
     },
     "metadata": {},
     "output_type": "display_data"
    },
    {
     "data": {
      "text/html": [
       "<style>\n",
       "    table.wandb td:nth-child(1) { padding: 0 10px; text-align: left ; width: auto;} td:nth-child(2) {text-align: left ; width: 100%}\n",
       "    .wandb-row { display: flex; flex-direction: row; flex-wrap: wrap; justify-content: flex-start; width: 100% }\n",
       "    .wandb-col { display: flex; flex-direction: column; flex-basis: 100%; flex: 1; padding: 10px; }\n",
       "    </style>\n",
       "<div class=\"wandb-row\"><div class=\"wandb-col\"><h3>Run history:</h3><br/><table class=\"wandb\"><tr><td>epoch</td><td>▁▁▁▁▂▂▂▂▃▃▃▃▃▃▃▃▄▄▄▄▅▅▅▅▆▆▆▆▆▆▆▆▇▇▇▇████</td></tr><tr><td>train_accuracy</td><td>▁▄▅▅▇▅▅▂▃▅▄▆▁▆▅▆▅▃▅▄▃▅▅▆▅▇▁▅▄█▆▅▅▇▄▅▇▄▅▅</td></tr><tr><td>train_loss</td><td>█▄▅▃▂▄▃▆▅▄▄▃▅▃▅▅▂▆▃▅▄▆▃▂▅▂▆▄▃▁▂▃▃▂▅▄▁▃▁▃</td></tr><tr><td>val_accuracy</td><td>▁▃▄▅▅▆▆▆▆▆▆▇▇▇▇▇▇▇▇▇▇▇▇▇▇▇██████████████</td></tr><tr><td>validation_loss</td><td>█▅▄▄▃▃▃▃▃▂▂▂▂▂▂▂▂▂▂▂▂▂▂▁▁▁▁▁▁▁▁▁▁▁▁▁▁▁▁▁</td></tr></table><br/></div><div class=\"wandb-col\"><h3>Run summary:</h3><br/><table class=\"wandb\"><tr><td>epoch</td><td>10</td></tr><tr><td>train_accuracy</td><td>93.75</td></tr><tr><td>train_loss</td><td>0.02951</td></tr><tr><td>val_accuracy</td><td>81.66667</td></tr><tr><td>validation_loss</td><td>0.05105</td></tr></table><br/></div></div>"
      ],
      "text/plain": [
       "<IPython.core.display.HTML object>"
      ]
     },
     "metadata": {},
     "output_type": "display_data"
    },
    {
     "data": {
      "text/html": [
       " View run <strong style=\"color:#cdcd00\">glowing-sweep-46</strong> at: <a href='https://wandb.ai/sumanta_roy/CS6910_assignment_1/runs/get6y4rj' target=\"_blank\">https://wandb.ai/sumanta_roy/CS6910_assignment_1/runs/get6y4rj</a><br/>Synced 6 W&B file(s), 0 media file(s), 0 artifact file(s) and 0 other file(s)"
      ],
      "text/plain": [
       "<IPython.core.display.HTML object>"
      ]
     },
     "metadata": {},
     "output_type": "display_data"
    },
    {
     "data": {
      "text/html": [
       "Find logs at: <code>./wandb/run-20240317_062011-get6y4rj/logs</code>"
      ],
      "text/plain": [
       "<IPython.core.display.HTML object>"
      ]
     },
     "metadata": {},
     "output_type": "display_data"
    },
    {
     "name": "stderr",
     "output_type": "stream",
     "text": [
      "\u001b[34m\u001b[1mwandb\u001b[0m: Sweep Agent: Waiting for job.\n",
      "\u001b[34m\u001b[1mwandb\u001b[0m: Job received.\n",
      "\u001b[34m\u001b[1mwandb\u001b[0m: Agent Starting Run: t6w41a0l with config:\n",
      "\u001b[34m\u001b[1mwandb\u001b[0m: \tactivation: tanh\n",
      "\u001b[34m\u001b[1mwandb\u001b[0m: \tbatch_size: 16\n",
      "\u001b[34m\u001b[1mwandb\u001b[0m: \tepochs: 5\n",
      "\u001b[34m\u001b[1mwandb\u001b[0m: \thidden_layers: 4\n",
      "\u001b[34m\u001b[1mwandb\u001b[0m: \thidden_size: 64\n",
      "\u001b[34m\u001b[1mwandb\u001b[0m: \tloss: cross_entropy\n",
      "\u001b[34m\u001b[1mwandb\u001b[0m: \tlr: 0.001\n",
      "\u001b[34m\u001b[1mwandb\u001b[0m: \toptimizer: nadam\n",
      "\u001b[34m\u001b[1mwandb\u001b[0m: \tw_init: random\n",
      "\u001b[34m\u001b[1mwandb\u001b[0m: \tweight_decay: 0.0005\n"
     ]
    },
    {
     "data": {
      "text/html": [
       "Tracking run with wandb version 0.16.4"
      ],
      "text/plain": [
       "<IPython.core.display.HTML object>"
      ]
     },
     "metadata": {},
     "output_type": "display_data"
    },
    {
     "data": {
      "text/html": [
       "Run data is saved locally in <code>/Users/sumanta/Desktop/Numpy project/cross_entropy_lesspasses/wandb/run-20240317_062212-t6w41a0l</code>"
      ],
      "text/plain": [
       "<IPython.core.display.HTML object>"
      ]
     },
     "metadata": {},
     "output_type": "display_data"
    },
    {
     "data": {
      "text/html": [
       "Syncing run <strong><a href='https://wandb.ai/sumanta_roy/CS6910_assignment_1/runs/t6w41a0l' target=\"_blank\">grateful-sweep-47</a></strong> to <a href='https://wandb.ai/sumanta_roy/CS6910_assignment_1' target=\"_blank\">Weights & Biases</a> (<a href='https://wandb.me/run' target=\"_blank\">docs</a>)<br/>Sweep page: <a href='https://wandb.ai/sumanta_roy/CS6910_assignment_1/sweeps/ff8houdp' target=\"_blank\">https://wandb.ai/sumanta_roy/CS6910_assignment_1/sweeps/ff8houdp</a>"
      ],
      "text/plain": [
       "<IPython.core.display.HTML object>"
      ]
     },
     "metadata": {},
     "output_type": "display_data"
    },
    {
     "data": {
      "text/html": [
       " View project at <a href='https://wandb.ai/sumanta_roy/CS6910_assignment_1' target=\"_blank\">https://wandb.ai/sumanta_roy/CS6910_assignment_1</a>"
      ],
      "text/plain": [
       "<IPython.core.display.HTML object>"
      ]
     },
     "metadata": {},
     "output_type": "display_data"
    },
    {
     "data": {
      "text/html": [
       " View sweep at <a href='https://wandb.ai/sumanta_roy/CS6910_assignment_1/sweeps/ff8houdp' target=\"_blank\">https://wandb.ai/sumanta_roy/CS6910_assignment_1/sweeps/ff8houdp</a>"
      ],
      "text/plain": [
       "<IPython.core.display.HTML object>"
      ]
     },
     "metadata": {},
     "output_type": "display_data"
    },
    {
     "data": {
      "text/html": [
       " View run at <a href='https://wandb.ai/sumanta_roy/CS6910_assignment_1/runs/t6w41a0l' target=\"_blank\">https://wandb.ai/sumanta_roy/CS6910_assignment_1/runs/t6w41a0l</a>"
      ],
      "text/plain": [
       "<IPython.core.display.HTML object>"
      ]
     },
     "metadata": {},
     "output_type": "display_data"
    },
    {
     "name": "stdout",
     "output_type": "stream",
     "text": [
      "Epoch: 1/5; Train Loss: 0.12171272325307686; Val Loss: 0.06717494069871235\n",
      "Epoch: 2/5; Train Loss: 0.11951419736988592; Val Loss: 0.058404836357715255\n",
      "Epoch: 3/5; Train Loss: 0.12080829011716257; Val Loss: 0.05379900386968235\n",
      "Epoch: 4/5; Train Loss: 0.12001867747893358; Val Loss: 0.05080524104734602\n",
      "Epoch: 5/5; Train Loss: 0.11852120045270628; Val Loss: 0.04877973053868079\n"
     ]
    },
    {
     "data": {
      "application/vnd.jupyter.widget-view+json": {
       "model_id": "",
       "version_major": 2,
       "version_minor": 0
      },
      "text/plain": [
       "VBox(children=(Label(value='0.001 MB of 0.001 MB uploaded\\r'), FloatProgress(value=1.0, max=1.0)))"
      ]
     },
     "metadata": {},
     "output_type": "display_data"
    },
    {
     "data": {
      "text/html": [
       "<style>\n",
       "    table.wandb td:nth-child(1) { padding: 0 10px; text-align: left ; width: auto;} td:nth-child(2) {text-align: left ; width: 100%}\n",
       "    .wandb-row { display: flex; flex-direction: row; flex-wrap: wrap; justify-content: flex-start; width: 100% }\n",
       "    .wandb-col { display: flex; flex-direction: column; flex-basis: 100%; flex: 1; padding: 10px; }\n",
       "    </style>\n",
       "<div class=\"wandb-row\"><div class=\"wandb-col\"><h3>Run history:</h3><br/><table class=\"wandb\"><tr><td>epoch</td><td>▁▁▁▁▁▁▁▁▃▃▃▃▃▃▃▃▅▅▅▅▅▅▅▅▆▆▆▆▆▆▆▆████████</td></tr><tr><td>train_accuracy</td><td>▁▃▃▆▁▅▅▁▃▅▁▅▃▇▅▁▃▃▅▅▃▃▂▅▂▆▅▅▇▅▆▆▆▇▁▅▆▂▃█</td></tr><tr><td>train_loss</td><td>▇▆▄▄█▄▃▅▅▄▅▄▅▃▃▄▄▅▃▂▃▄▅▄▃▅▄▄▂▃▂▃▂▂▇▄▂▅▆▁</td></tr><tr><td>val_accuracy</td><td>▁▄▅▆▆▆▆▇▇▇▇▇▇▇▇▇▇▇▇▇▇▇██████████████████</td></tr><tr><td>validation_loss</td><td>█▅▄▃▃▃▃▂▂▂▂▂▂▂▂▂▂▂▂▂▁▁▁▁▁▁▁▁▁▁▁▁▁▁▁▁▁▁▁▁</td></tr></table><br/></div><div class=\"wandb-col\"><h3>Run summary:</h3><br/><table class=\"wandb\"><tr><td>epoch</td><td>5</td></tr><tr><td>train_accuracy</td><td>81.25</td></tr><tr><td>train_loss</td><td>0.11852</td></tr><tr><td>val_accuracy</td><td>82.25</td></tr><tr><td>validation_loss</td><td>0.04878</td></tr></table><br/></div></div>"
      ],
      "text/plain": [
       "<IPython.core.display.HTML object>"
      ]
     },
     "metadata": {},
     "output_type": "display_data"
    },
    {
     "data": {
      "text/html": [
       " View run <strong style=\"color:#cdcd00\">grateful-sweep-47</strong> at: <a href='https://wandb.ai/sumanta_roy/CS6910_assignment_1/runs/t6w41a0l' target=\"_blank\">https://wandb.ai/sumanta_roy/CS6910_assignment_1/runs/t6w41a0l</a><br/>Synced 6 W&B file(s), 0 media file(s), 0 artifact file(s) and 0 other file(s)"
      ],
      "text/plain": [
       "<IPython.core.display.HTML object>"
      ]
     },
     "metadata": {},
     "output_type": "display_data"
    },
    {
     "data": {
      "text/html": [
       "Find logs at: <code>./wandb/run-20240317_062212-t6w41a0l/logs</code>"
      ],
      "text/plain": [
       "<IPython.core.display.HTML object>"
      ]
     },
     "metadata": {},
     "output_type": "display_data"
    },
    {
     "name": "stderr",
     "output_type": "stream",
     "text": [
      "\u001b[34m\u001b[1mwandb\u001b[0m: Agent Starting Run: vcivd7i1 with config:\n",
      "\u001b[34m\u001b[1mwandb\u001b[0m: \tactivation: tanh\n",
      "\u001b[34m\u001b[1mwandb\u001b[0m: \tbatch_size: 32\n",
      "\u001b[34m\u001b[1mwandb\u001b[0m: \tepochs: 10\n",
      "\u001b[34m\u001b[1mwandb\u001b[0m: \thidden_layers: 4\n",
      "\u001b[34m\u001b[1mwandb\u001b[0m: \thidden_size: 128\n",
      "\u001b[34m\u001b[1mwandb\u001b[0m: \tloss: cross_entropy\n",
      "\u001b[34m\u001b[1mwandb\u001b[0m: \tlr: 0.001\n",
      "\u001b[34m\u001b[1mwandb\u001b[0m: \toptimizer: nadam\n",
      "\u001b[34m\u001b[1mwandb\u001b[0m: \tw_init: random\n",
      "\u001b[34m\u001b[1mwandb\u001b[0m: \tweight_decay: 0\n"
     ]
    },
    {
     "data": {
      "text/html": [
       "Tracking run with wandb version 0.16.4"
      ],
      "text/plain": [
       "<IPython.core.display.HTML object>"
      ]
     },
     "metadata": {},
     "output_type": "display_data"
    },
    {
     "data": {
      "text/html": [
       "Run data is saved locally in <code>/Users/sumanta/Desktop/Numpy project/cross_entropy_lesspasses/wandb/run-20240317_062317-vcivd7i1</code>"
      ],
      "text/plain": [
       "<IPython.core.display.HTML object>"
      ]
     },
     "metadata": {},
     "output_type": "display_data"
    },
    {
     "data": {
      "text/html": [
       "Syncing run <strong><a href='https://wandb.ai/sumanta_roy/CS6910_assignment_1/runs/vcivd7i1' target=\"_blank\">good-sweep-48</a></strong> to <a href='https://wandb.ai/sumanta_roy/CS6910_assignment_1' target=\"_blank\">Weights & Biases</a> (<a href='https://wandb.me/run' target=\"_blank\">docs</a>)<br/>Sweep page: <a href='https://wandb.ai/sumanta_roy/CS6910_assignment_1/sweeps/ff8houdp' target=\"_blank\">https://wandb.ai/sumanta_roy/CS6910_assignment_1/sweeps/ff8houdp</a>"
      ],
      "text/plain": [
       "<IPython.core.display.HTML object>"
      ]
     },
     "metadata": {},
     "output_type": "display_data"
    },
    {
     "data": {
      "text/html": [
       " View project at <a href='https://wandb.ai/sumanta_roy/CS6910_assignment_1' target=\"_blank\">https://wandb.ai/sumanta_roy/CS6910_assignment_1</a>"
      ],
      "text/plain": [
       "<IPython.core.display.HTML object>"
      ]
     },
     "metadata": {},
     "output_type": "display_data"
    },
    {
     "data": {
      "text/html": [
       " View sweep at <a href='https://wandb.ai/sumanta_roy/CS6910_assignment_1/sweeps/ff8houdp' target=\"_blank\">https://wandb.ai/sumanta_roy/CS6910_assignment_1/sweeps/ff8houdp</a>"
      ],
      "text/plain": [
       "<IPython.core.display.HTML object>"
      ]
     },
     "metadata": {},
     "output_type": "display_data"
    },
    {
     "data": {
      "text/html": [
       " View run at <a href='https://wandb.ai/sumanta_roy/CS6910_assignment_1/runs/vcivd7i1' target=\"_blank\">https://wandb.ai/sumanta_roy/CS6910_assignment_1/runs/vcivd7i1</a>"
      ],
      "text/plain": [
       "<IPython.core.display.HTML object>"
      ]
     },
     "metadata": {},
     "output_type": "display_data"
    },
    {
     "name": "stdout",
     "output_type": "stream",
     "text": [
      "Epoch: 1/10; Train Loss: 0.04212335201779306; Val Loss: 0.07346754649265291\n",
      "Epoch: 2/10; Train Loss: 0.03629139200406489; Val Loss: 0.0639979553234046\n",
      "Epoch: 3/10; Train Loss: 0.03259460872298523; Val Loss: 0.059396301596826316\n",
      "Epoch: 4/10; Train Loss: 0.03198714214849807; Val Loss: 0.05658795411950669\n",
      "Epoch: 5/10; Train Loss: 0.03230468301616861; Val Loss: 0.05451428206933758\n",
      "Epoch: 6/10; Train Loss: 0.03231923161434444; Val Loss: 0.052847225814139254\n",
      "Epoch: 7/10; Train Loss: 0.03206847421913177; Val Loss: 0.05151644424201126\n",
      "Epoch: 8/10; Train Loss: 0.03164244251885946; Val Loss: 0.05046071848616583\n",
      "Epoch: 9/10; Train Loss: 0.031080251921960584; Val Loss: 0.049594157712605884\n",
      "Epoch: 10/10; Train Loss: 0.030411272315285787; Val Loss: 0.048861870197126164\n"
     ]
    },
    {
     "data": {
      "application/vnd.jupyter.widget-view+json": {
       "model_id": "",
       "version_major": 2,
       "version_minor": 0
      },
      "text/plain": [
       "VBox(children=(Label(value='0.001 MB of 0.001 MB uploaded\\r'), FloatProgress(value=1.0, max=1.0)))"
      ]
     },
     "metadata": {},
     "output_type": "display_data"
    },
    {
     "data": {
      "text/html": [
       "<style>\n",
       "    table.wandb td:nth-child(1) { padding: 0 10px; text-align: left ; width: auto;} td:nth-child(2) {text-align: left ; width: 100%}\n",
       "    .wandb-row { display: flex; flex-direction: row; flex-wrap: wrap; justify-content: flex-start; width: 100% }\n",
       "    .wandb-col { display: flex; flex-direction: column; flex-basis: 100%; flex: 1; padding: 10px; }\n",
       "    </style>\n",
       "<div class=\"wandb-row\"><div class=\"wandb-col\"><h3>Run history:</h3><br/><table class=\"wandb\"><tr><td>epoch</td><td>▁▁▁▁▂▂▂▂▃▃▃▃▃▃▃▃▄▄▄▄▅▅▅▅▆▆▆▆▆▆▆▆▇▇▇▇████</td></tr><tr><td>train_accuracy</td><td>▁▃▂▆▅▄▄▅▇▄▅▅▄▅▇▅▆▄▅▆▅▅▅▇▆▆▅▇▇█▇▅▇█▇▅▇▆██</td></tr><tr><td>train_loss</td><td>▇██▆▅▅▅▆▃▆▃▄▄▃▃▄▃▅▄▄▅▄▃▂▄▃▇▂▃▁▃▄▂▂▃▄▂▃▂▁</td></tr><tr><td>val_accuracy</td><td>▁▄▅▅▆▆▆▆▇▇▇▇▇▇▇▇▇▇▇▇▇███████████████████</td></tr><tr><td>validation_loss</td><td>█▅▄▄▃▃▃▃▂▂▂▂▂▂▂▂▂▂▂▂▁▁▁▁▁▁▁▁▁▁▁▁▁▁▁▁▁▁▁▁</td></tr></table><br/></div><div class=\"wandb-col\"><h3>Run summary:</h3><br/><table class=\"wandb\"><tr><td>epoch</td><td>10</td></tr><tr><td>train_accuracy</td><td>87.5</td></tr><tr><td>train_loss</td><td>0.03041</td></tr><tr><td>val_accuracy</td><td>81.78333</td></tr><tr><td>validation_loss</td><td>0.04886</td></tr></table><br/></div></div>"
      ],
      "text/plain": [
       "<IPython.core.display.HTML object>"
      ]
     },
     "metadata": {},
     "output_type": "display_data"
    },
    {
     "data": {
      "text/html": [
       " View run <strong style=\"color:#cdcd00\">good-sweep-48</strong> at: <a href='https://wandb.ai/sumanta_roy/CS6910_assignment_1/runs/vcivd7i1' target=\"_blank\">https://wandb.ai/sumanta_roy/CS6910_assignment_1/runs/vcivd7i1</a><br/>Synced 6 W&B file(s), 0 media file(s), 0 artifact file(s) and 0 other file(s)"
      ],
      "text/plain": [
       "<IPython.core.display.HTML object>"
      ]
     },
     "metadata": {},
     "output_type": "display_data"
    },
    {
     "data": {
      "text/html": [
       "Find logs at: <code>./wandb/run-20240317_062317-vcivd7i1/logs</code>"
      ],
      "text/plain": [
       "<IPython.core.display.HTML object>"
      ]
     },
     "metadata": {},
     "output_type": "display_data"
    },
    {
     "name": "stderr",
     "output_type": "stream",
     "text": [
      "\u001b[34m\u001b[1mwandb\u001b[0m: Sweep Agent: Waiting for job.\n",
      "\u001b[34m\u001b[1mwandb\u001b[0m: Job received.\n",
      "\u001b[34m\u001b[1mwandb\u001b[0m: Agent Starting Run: nx3t878n with config:\n",
      "\u001b[34m\u001b[1mwandb\u001b[0m: \tactivation: tanh\n",
      "\u001b[34m\u001b[1mwandb\u001b[0m: \tbatch_size: 16\n",
      "\u001b[34m\u001b[1mwandb\u001b[0m: \tepochs: 10\n",
      "\u001b[34m\u001b[1mwandb\u001b[0m: \thidden_layers: 5\n",
      "\u001b[34m\u001b[1mwandb\u001b[0m: \thidden_size: 128\n",
      "\u001b[34m\u001b[1mwandb\u001b[0m: \tloss: cross_entropy\n",
      "\u001b[34m\u001b[1mwandb\u001b[0m: \tlr: 0.0001\n",
      "\u001b[34m\u001b[1mwandb\u001b[0m: \toptimizer: adam\n",
      "\u001b[34m\u001b[1mwandb\u001b[0m: \tw_init: glorot\n",
      "\u001b[34m\u001b[1mwandb\u001b[0m: \tweight_decay: 0\n"
     ]
    },
    {
     "data": {
      "text/html": [
       "Tracking run with wandb version 0.16.4"
      ],
      "text/plain": [
       "<IPython.core.display.HTML object>"
      ]
     },
     "metadata": {},
     "output_type": "display_data"
    },
    {
     "data": {
      "text/html": [
       "Run data is saved locally in <code>/Users/sumanta/Desktop/Numpy project/cross_entropy_lesspasses/wandb/run-20240317_062634-nx3t878n</code>"
      ],
      "text/plain": [
       "<IPython.core.display.HTML object>"
      ]
     },
     "metadata": {},
     "output_type": "display_data"
    },
    {
     "data": {
      "text/html": [
       "Syncing run <strong><a href='https://wandb.ai/sumanta_roy/CS6910_assignment_1/runs/nx3t878n' target=\"_blank\">youthful-sweep-49</a></strong> to <a href='https://wandb.ai/sumanta_roy/CS6910_assignment_1' target=\"_blank\">Weights & Biases</a> (<a href='https://wandb.me/run' target=\"_blank\">docs</a>)<br/>Sweep page: <a href='https://wandb.ai/sumanta_roy/CS6910_assignment_1/sweeps/ff8houdp' target=\"_blank\">https://wandb.ai/sumanta_roy/CS6910_assignment_1/sweeps/ff8houdp</a>"
      ],
      "text/plain": [
       "<IPython.core.display.HTML object>"
      ]
     },
     "metadata": {},
     "output_type": "display_data"
    },
    {
     "data": {
      "text/html": [
       " View project at <a href='https://wandb.ai/sumanta_roy/CS6910_assignment_1' target=\"_blank\">https://wandb.ai/sumanta_roy/CS6910_assignment_1</a>"
      ],
      "text/plain": [
       "<IPython.core.display.HTML object>"
      ]
     },
     "metadata": {},
     "output_type": "display_data"
    },
    {
     "data": {
      "text/html": [
       " View sweep at <a href='https://wandb.ai/sumanta_roy/CS6910_assignment_1/sweeps/ff8houdp' target=\"_blank\">https://wandb.ai/sumanta_roy/CS6910_assignment_1/sweeps/ff8houdp</a>"
      ],
      "text/plain": [
       "<IPython.core.display.HTML object>"
      ]
     },
     "metadata": {},
     "output_type": "display_data"
    },
    {
     "data": {
      "text/html": [
       " View run at <a href='https://wandb.ai/sumanta_roy/CS6910_assignment_1/runs/nx3t878n' target=\"_blank\">https://wandb.ai/sumanta_roy/CS6910_assignment_1/runs/nx3t878n</a>"
      ],
      "text/plain": [
       "<IPython.core.display.HTML object>"
      ]
     },
     "metadata": {},
     "output_type": "display_data"
    },
    {
     "name": "stdout",
     "output_type": "stream",
     "text": [
      "Epoch: 1/10; Train Loss: 0.038520130598748724; Val Loss: 0.04445720713148643\n",
      "Epoch: 2/10; Train Loss: 0.035552772914914814; Val Loss: 0.04064378928343549\n",
      "Epoch: 3/10; Train Loss: 0.034465673365540184; Val Loss: 0.03856113198185\n",
      "Epoch: 4/10; Train Loss: 0.03372261624880167; Val Loss: 0.03713854517334498\n",
      "Epoch: 5/10; Train Loss: 0.03295263249824643; Val Loss: 0.03607055770852644\n",
      "Epoch: 6/10; Train Loss: 0.03210435050247913; Val Loss: 0.03522901324076952\n",
      "Epoch: 7/10; Train Loss: 0.031215997315076044; Val Loss: 0.03454791269848669\n",
      "Epoch: 8/10; Train Loss: 0.030341956268201287; Val Loss: 0.03398663520002969\n",
      "Epoch: 9/10; Train Loss: 0.029526428011222267; Val Loss: 0.0335171977258818\n",
      "Epoch: 10/10; Train Loss: 0.028798292987914097; Val Loss: 0.03311923232287651\n"
     ]
    },
    {
     "data": {
      "application/vnd.jupyter.widget-view+json": {
       "model_id": "",
       "version_major": 2,
       "version_minor": 0
      },
      "text/plain": [
       "VBox(children=(Label(value='0.001 MB of 0.001 MB uploaded\\r'), FloatProgress(value=1.0, max=1.0)))"
      ]
     },
     "metadata": {},
     "output_type": "display_data"
    },
    {
     "data": {
      "text/html": [
       "<style>\n",
       "    table.wandb td:nth-child(1) { padding: 0 10px; text-align: left ; width: auto;} td:nth-child(2) {text-align: left ; width: 100%}\n",
       "    .wandb-row { display: flex; flex-direction: row; flex-wrap: wrap; justify-content: flex-start; width: 100% }\n",
       "    .wandb-col { display: flex; flex-direction: column; flex-basis: 100%; flex: 1; padding: 10px; }\n",
       "    </style>\n",
       "<div class=\"wandb-row\"><div class=\"wandb-col\"><h3>Run history:</h3><br/><table class=\"wandb\"><tr><td>epoch</td><td>▁▁▁▁▂▂▂▂▃▃▃▃▃▃▃▃▄▄▄▄▅▅▅▅▆▆▆▆▆▆▆▆▇▇▇▇████</td></tr><tr><td>train_accuracy</td><td>▁█▅▅▆▅█▆▁▅▃▆▅██▁▆▁▅▁▅▅▅▆▆▆▁▃▅▆▃▁▅▅▃▃▆▁▆▅</td></tr><tr><td>train_loss</td><td>▇▃▄▃▂▄▂▃█▄▄▃▄▁▂▇▂▆▄▇▄▆▃▂▄▂▅▇▄▂▃▆▃▃▇▅▁▄▃▄</td></tr><tr><td>val_accuracy</td><td>▁▃▅▅▆▆▆▇▇▇▇▇▇▇▇▇▇▇▇▇████▇███▇███▇███▇███</td></tr><tr><td>validation_loss</td><td>█▅▄▃▃▃▃▂▂▂▂▂▂▂▂▂▂▂▂▂▁▂▁▁▂▁▁▁▁▁▁▁▂▁▁▁▂▁▁▁</td></tr></table><br/></div><div class=\"wandb-col\"><h3>Run summary:</h3><br/><table class=\"wandb\"><tr><td>epoch</td><td>10</td></tr><tr><td>train_accuracy</td><td>93.75</td></tr><tr><td>train_loss</td><td>0.0288</td></tr><tr><td>val_accuracy</td><td>88.13333</td></tr><tr><td>validation_loss</td><td>0.03312</td></tr></table><br/></div></div>"
      ],
      "text/plain": [
       "<IPython.core.display.HTML object>"
      ]
     },
     "metadata": {},
     "output_type": "display_data"
    },
    {
     "data": {
      "text/html": [
       " View run <strong style=\"color:#cdcd00\">youthful-sweep-49</strong> at: <a href='https://wandb.ai/sumanta_roy/CS6910_assignment_1/runs/nx3t878n' target=\"_blank\">https://wandb.ai/sumanta_roy/CS6910_assignment_1/runs/nx3t878n</a><br/>Synced 6 W&B file(s), 0 media file(s), 0 artifact file(s) and 0 other file(s)"
      ],
      "text/plain": [
       "<IPython.core.display.HTML object>"
      ]
     },
     "metadata": {},
     "output_type": "display_data"
    },
    {
     "data": {
      "text/html": [
       "Find logs at: <code>./wandb/run-20240317_062634-nx3t878n/logs</code>"
      ],
      "text/plain": [
       "<IPython.core.display.HTML object>"
      ]
     },
     "metadata": {},
     "output_type": "display_data"
    },
    {
     "name": "stderr",
     "output_type": "stream",
     "text": [
      "\u001b[34m\u001b[1mwandb\u001b[0m: Agent Starting Run: 5411lp8r with config:\n",
      "\u001b[34m\u001b[1mwandb\u001b[0m: \tactivation: tanh\n",
      "\u001b[34m\u001b[1mwandb\u001b[0m: \tbatch_size: 16\n",
      "\u001b[34m\u001b[1mwandb\u001b[0m: \tepochs: 10\n",
      "\u001b[34m\u001b[1mwandb\u001b[0m: \thidden_layers: 4\n",
      "\u001b[34m\u001b[1mwandb\u001b[0m: \thidden_size: 128\n",
      "\u001b[34m\u001b[1mwandb\u001b[0m: \tloss: cross_entropy\n",
      "\u001b[34m\u001b[1mwandb\u001b[0m: \tlr: 0.001\n",
      "\u001b[34m\u001b[1mwandb\u001b[0m: \toptimizer: rmsprop\n",
      "\u001b[34m\u001b[1mwandb\u001b[0m: \tw_init: glorot\n",
      "\u001b[34m\u001b[1mwandb\u001b[0m: \tweight_decay: 0\n"
     ]
    },
    {
     "data": {
      "text/html": [
       "Tracking run with wandb version 0.16.4"
      ],
      "text/plain": [
       "<IPython.core.display.HTML object>"
      ]
     },
     "metadata": {},
     "output_type": "display_data"
    },
    {
     "data": {
      "text/html": [
       "Run data is saved locally in <code>/Users/sumanta/Desktop/Numpy project/cross_entropy_lesspasses/wandb/run-20240317_063036-5411lp8r</code>"
      ],
      "text/plain": [
       "<IPython.core.display.HTML object>"
      ]
     },
     "metadata": {},
     "output_type": "display_data"
    },
    {
     "data": {
      "text/html": [
       "Syncing run <strong><a href='https://wandb.ai/sumanta_roy/CS6910_assignment_1/runs/5411lp8r' target=\"_blank\">hopeful-sweep-50</a></strong> to <a href='https://wandb.ai/sumanta_roy/CS6910_assignment_1' target=\"_blank\">Weights & Biases</a> (<a href='https://wandb.me/run' target=\"_blank\">docs</a>)<br/>Sweep page: <a href='https://wandb.ai/sumanta_roy/CS6910_assignment_1/sweeps/ff8houdp' target=\"_blank\">https://wandb.ai/sumanta_roy/CS6910_assignment_1/sweeps/ff8houdp</a>"
      ],
      "text/plain": [
       "<IPython.core.display.HTML object>"
      ]
     },
     "metadata": {},
     "output_type": "display_data"
    },
    {
     "data": {
      "text/html": [
       " View project at <a href='https://wandb.ai/sumanta_roy/CS6910_assignment_1' target=\"_blank\">https://wandb.ai/sumanta_roy/CS6910_assignment_1</a>"
      ],
      "text/plain": [
       "<IPython.core.display.HTML object>"
      ]
     },
     "metadata": {},
     "output_type": "display_data"
    },
    {
     "data": {
      "text/html": [
       " View sweep at <a href='https://wandb.ai/sumanta_roy/CS6910_assignment_1/sweeps/ff8houdp' target=\"_blank\">https://wandb.ai/sumanta_roy/CS6910_assignment_1/sweeps/ff8houdp</a>"
      ],
      "text/plain": [
       "<IPython.core.display.HTML object>"
      ]
     },
     "metadata": {},
     "output_type": "display_data"
    },
    {
     "data": {
      "text/html": [
       " View run at <a href='https://wandb.ai/sumanta_roy/CS6910_assignment_1/runs/5411lp8r' target=\"_blank\">https://wandb.ai/sumanta_roy/CS6910_assignment_1/runs/5411lp8r</a>"
      ],
      "text/plain": [
       "<IPython.core.display.HTML object>"
      ]
     },
     "metadata": {},
     "output_type": "display_data"
    },
    {
     "name": "stdout",
     "output_type": "stream",
     "text": [
      "Epoch: 1/10; Train Loss: 0.023730997369103616; Val Loss: 0.040503147677725206\n",
      "Epoch: 2/10; Train Loss: 0.023930961849089875; Val Loss: 0.03680028792963786\n",
      "Epoch: 3/10; Train Loss: 0.026217733094211448; Val Loss: 0.035483448025612305\n",
      "Epoch: 4/10; Train Loss: 0.026579053777762863; Val Loss: 0.035925460836537686\n",
      "Epoch: 5/10; Train Loss: 0.02718703297796664; Val Loss: 0.03654156195013852\n",
      "Epoch: 6/10; Train Loss: 0.02874939933783056; Val Loss: 0.037314653900391154\n",
      "Epoch: 7/10; Train Loss: 0.02537884309784667; Val Loss: 0.036503208164101124\n",
      "Epoch: 8/10; Train Loss: 0.023840980176997737; Val Loss: 0.03627057514708423\n",
      "Epoch: 9/10; Train Loss: 0.021461835092039853; Val Loss: 0.036522333370790125\n",
      "Epoch: 10/10; Train Loss: 0.023266149097122095; Val Loss: 0.03845266143475646\n"
     ]
    },
    {
     "data": {
      "application/vnd.jupyter.widget-view+json": {
       "model_id": "",
       "version_major": 2,
       "version_minor": 0
      },
      "text/plain": [
       "VBox(children=(Label(value='0.001 MB of 0.001 MB uploaded\\r'), FloatProgress(value=1.0, max=1.0)))"
      ]
     },
     "metadata": {},
     "output_type": "display_data"
    },
    {
     "data": {
      "text/html": [
       "<style>\n",
       "    table.wandb td:nth-child(1) { padding: 0 10px; text-align: left ; width: auto;} td:nth-child(2) {text-align: left ; width: 100%}\n",
       "    .wandb-row { display: flex; flex-direction: row; flex-wrap: wrap; justify-content: flex-start; width: 100% }\n",
       "    .wandb-col { display: flex; flex-direction: column; flex-basis: 100%; flex: 1; padding: 10px; }\n",
       "    </style>\n",
       "<div class=\"wandb-row\"><div class=\"wandb-col\"><h3>Run history:</h3><br/><table class=\"wandb\"><tr><td>epoch</td><td>▁▁▁▁▂▂▂▂▃▃▃▃▃▃▃▃▄▄▄▄▅▅▅▅▆▆▆▆▆▆▆▆▇▇▇▇████</td></tr><tr><td>train_accuracy</td><td>▅▆▆▅▆▁▆▆▁▃▃▆██▆▅█▁▆▁▅▆▆█▆█▃▅▃▅▃▃▆▃▁▅█▃▆▅</td></tr><tr><td>train_loss</td><td>▄▂▃▃▂▄▃▂▇▄▅▂▂▁▃▅▂▅▃█▅▃▂▂▃▁▆▅▅▂▄▃▁▄▇▃▁▄▂▃</td></tr><tr><td>val_accuracy</td><td>▁▂▄▅▅▅▅▆▇▇▆▆▇▇▇▇▇▇▇▇▇▇███▇▇██▇▇█▇▇▆▇▇▆▇█</td></tr><tr><td>validation_loss</td><td>█▇▄▃▃▄▄▃▂▂▂▃▂▁▂▂▁▂▂▁▂▂▂▁▁▂▂▁▁▂▂▁▂▂▃▂▂▃▂▂</td></tr></table><br/></div><div class=\"wandb-col\"><h3>Run summary:</h3><br/><table class=\"wandb\"><tr><td>epoch</td><td>10</td></tr><tr><td>train_accuracy</td><td>93.75</td></tr><tr><td>train_loss</td><td>0.02327</td></tr><tr><td>val_accuracy</td><td>87.2</td></tr><tr><td>validation_loss</td><td>0.03845</td></tr></table><br/></div></div>"
      ],
      "text/plain": [
       "<IPython.core.display.HTML object>"
      ]
     },
     "metadata": {},
     "output_type": "display_data"
    },
    {
     "data": {
      "text/html": [
       " View run <strong style=\"color:#cdcd00\">hopeful-sweep-50</strong> at: <a href='https://wandb.ai/sumanta_roy/CS6910_assignment_1/runs/5411lp8r' target=\"_blank\">https://wandb.ai/sumanta_roy/CS6910_assignment_1/runs/5411lp8r</a><br/>Synced 6 W&B file(s), 0 media file(s), 0 artifact file(s) and 0 other file(s)"
      ],
      "text/plain": [
       "<IPython.core.display.HTML object>"
      ]
     },
     "metadata": {},
     "output_type": "display_data"
    },
    {
     "data": {
      "text/html": [
       "Find logs at: <code>./wandb/run-20240317_063036-5411lp8r/logs</code>"
      ],
      "text/plain": [
       "<IPython.core.display.HTML object>"
      ]
     },
     "metadata": {},
     "output_type": "display_data"
    },
    {
     "name": "stderr",
     "output_type": "stream",
     "text": [
      "\u001b[34m\u001b[1mwandb\u001b[0m: Agent Starting Run: 9v6pj8ac with config:\n",
      "\u001b[34m\u001b[1mwandb\u001b[0m: \tactivation: tanh\n",
      "\u001b[34m\u001b[1mwandb\u001b[0m: \tbatch_size: 16\n",
      "\u001b[34m\u001b[1mwandb\u001b[0m: \tepochs: 10\n",
      "\u001b[34m\u001b[1mwandb\u001b[0m: \thidden_layers: 4\n",
      "\u001b[34m\u001b[1mwandb\u001b[0m: \thidden_size: 128\n",
      "\u001b[34m\u001b[1mwandb\u001b[0m: \tloss: cross_entropy\n",
      "\u001b[34m\u001b[1mwandb\u001b[0m: \tlr: 0.001\n",
      "\u001b[34m\u001b[1mwandb\u001b[0m: \toptimizer: momentum\n",
      "\u001b[34m\u001b[1mwandb\u001b[0m: \tw_init: random\n",
      "\u001b[34m\u001b[1mwandb\u001b[0m: \tweight_decay: 0.0005\n"
     ]
    },
    {
     "data": {
      "text/html": [
       "Tracking run with wandb version 0.16.4"
      ],
      "text/plain": [
       "<IPython.core.display.HTML object>"
      ]
     },
     "metadata": {},
     "output_type": "display_data"
    },
    {
     "data": {
      "text/html": [
       "Run data is saved locally in <code>/Users/sumanta/Desktop/Numpy project/cross_entropy_lesspasses/wandb/run-20240317_063336-9v6pj8ac</code>"
      ],
      "text/plain": [
       "<IPython.core.display.HTML object>"
      ]
     },
     "metadata": {},
     "output_type": "display_data"
    },
    {
     "data": {
      "text/html": [
       "Syncing run <strong><a href='https://wandb.ai/sumanta_roy/CS6910_assignment_1/runs/9v6pj8ac' target=\"_blank\">unique-sweep-51</a></strong> to <a href='https://wandb.ai/sumanta_roy/CS6910_assignment_1' target=\"_blank\">Weights & Biases</a> (<a href='https://wandb.me/run' target=\"_blank\">docs</a>)<br/>Sweep page: <a href='https://wandb.ai/sumanta_roy/CS6910_assignment_1/sweeps/ff8houdp' target=\"_blank\">https://wandb.ai/sumanta_roy/CS6910_assignment_1/sweeps/ff8houdp</a>"
      ],
      "text/plain": [
       "<IPython.core.display.HTML object>"
      ]
     },
     "metadata": {},
     "output_type": "display_data"
    },
    {
     "data": {
      "text/html": [
       " View project at <a href='https://wandb.ai/sumanta_roy/CS6910_assignment_1' target=\"_blank\">https://wandb.ai/sumanta_roy/CS6910_assignment_1</a>"
      ],
      "text/plain": [
       "<IPython.core.display.HTML object>"
      ]
     },
     "metadata": {},
     "output_type": "display_data"
    },
    {
     "data": {
      "text/html": [
       " View sweep at <a href='https://wandb.ai/sumanta_roy/CS6910_assignment_1/sweeps/ff8houdp' target=\"_blank\">https://wandb.ai/sumanta_roy/CS6910_assignment_1/sweeps/ff8houdp</a>"
      ],
      "text/plain": [
       "<IPython.core.display.HTML object>"
      ]
     },
     "metadata": {},
     "output_type": "display_data"
    },
    {
     "data": {
      "text/html": [
       " View run at <a href='https://wandb.ai/sumanta_roy/CS6910_assignment_1/runs/9v6pj8ac' target=\"_blank\">https://wandb.ai/sumanta_roy/CS6910_assignment_1/runs/9v6pj8ac</a>"
      ],
      "text/plain": [
       "<IPython.core.display.HTML object>"
      ]
     },
     "metadata": {},
     "output_type": "display_data"
    },
    {
     "name": "stdout",
     "output_type": "stream",
     "text": [
      "Epoch: 1/10; Train Loss: 0.24414354498114302; Val Loss: 0.056772569480321604\n",
      "Epoch: 2/10; Train Loss: 0.2399691036361207; Val Loss: 0.051140169036017\n",
      "Epoch: 3/10; Train Loss: 0.236516965947427; Val Loss: 0.04866177310429255\n",
      "Epoch: 4/10; Train Loss: 0.23308965361465617; Val Loss: 0.04703051974062739\n",
      "Epoch: 5/10; Train Loss: 0.22932750671206167; Val Loss: 0.045928477144908976\n",
      "Epoch: 6/10; Train Loss: 0.22656784021878912; Val Loss: 0.04509767808614907\n",
      "Epoch: 7/10; Train Loss: 0.2260659006802493; Val Loss: 0.044530974336946576\n",
      "Epoch: 8/10; Train Loss: 0.22622627012076763; Val Loss: 0.04415820126781198\n",
      "Epoch: 9/10; Train Loss: 0.2261418521342345; Val Loss: 0.04387872207388727\n",
      "Epoch: 10/10; Train Loss: 0.22559562797465427; Val Loss: 0.04366979747049607\n"
     ]
    },
    {
     "data": {
      "application/vnd.jupyter.widget-view+json": {
       "model_id": "",
       "version_major": 2,
       "version_minor": 0
      },
      "text/plain": [
       "VBox(children=(Label(value='0.001 MB of 0.001 MB uploaded\\r'), FloatProgress(value=1.0, max=1.0)))"
      ]
     },
     "metadata": {},
     "output_type": "display_data"
    },
    {
     "data": {
      "text/html": [
       "<style>\n",
       "    table.wandb td:nth-child(1) { padding: 0 10px; text-align: left ; width: auto;} td:nth-child(2) {text-align: left ; width: 100%}\n",
       "    .wandb-row { display: flex; flex-direction: row; flex-wrap: wrap; justify-content: flex-start; width: 100% }\n",
       "    .wandb-col { display: flex; flex-direction: column; flex-basis: 100%; flex: 1; padding: 10px; }\n",
       "    </style>\n",
       "<div class=\"wandb-row\"><div class=\"wandb-col\"><h3>Run history:</h3><br/><table class=\"wandb\"><tr><td>epoch</td><td>▁▁▁▁▂▂▂▂▃▃▃▃▃▃▃▃▄▄▄▄▅▅▅▅▆▆▆▆▆▆▆▆▇▇▇▇████</td></tr><tr><td>train_accuracy</td><td>▂▄▃▇▆▅▆▅▂▄▅▇▇▇▆▄▆▅▇▄▆▅▆▇▆█▁▄▅▇▆▆▆▆▃▅▆▆▇▇</td></tr><tr><td>train_loss</td><td>█▅▅▂▃▄▃▄▆▅▄▃▃▂▃▅▃▄▃▄▃▇▂▂▃▁▇▅▄▂▃▃▄▄▅▄▂▃▁▃</td></tr><tr><td>val_accuracy</td><td>▁▄▆▆▆▆▇▇▇▇▇▇▇▇▇█▇▇▇▇████▇███████████████</td></tr><tr><td>validation_loss</td><td>█▅▃▃▃▂▂▂▂▂▂▂▂▂▁▁▁▁▁▁▁▁▁▁▂▁▁▁▁▁▁▁▁▁▁▁▁▁▁▁</td></tr></table><br/></div><div class=\"wandb-col\"><h3>Run summary:</h3><br/><table class=\"wandb\"><tr><td>epoch</td><td>10</td></tr><tr><td>train_accuracy</td><td>75.0</td></tr><tr><td>train_loss</td><td>0.2256</td></tr><tr><td>val_accuracy</td><td>84.48333</td></tr><tr><td>validation_loss</td><td>0.04367</td></tr></table><br/></div></div>"
      ],
      "text/plain": [
       "<IPython.core.display.HTML object>"
      ]
     },
     "metadata": {},
     "output_type": "display_data"
    },
    {
     "data": {
      "text/html": [
       " View run <strong style=\"color:#cdcd00\">unique-sweep-51</strong> at: <a href='https://wandb.ai/sumanta_roy/CS6910_assignment_1/runs/9v6pj8ac' target=\"_blank\">https://wandb.ai/sumanta_roy/CS6910_assignment_1/runs/9v6pj8ac</a><br/>Synced 6 W&B file(s), 0 media file(s), 0 artifact file(s) and 0 other file(s)"
      ],
      "text/plain": [
       "<IPython.core.display.HTML object>"
      ]
     },
     "metadata": {},
     "output_type": "display_data"
    },
    {
     "data": {
      "text/html": [
       "Find logs at: <code>./wandb/run-20240317_063336-9v6pj8ac/logs</code>"
      ],
      "text/plain": [
       "<IPython.core.display.HTML object>"
      ]
     },
     "metadata": {},
     "output_type": "display_data"
    },
    {
     "name": "stderr",
     "output_type": "stream",
     "text": [
      "\u001b[34m\u001b[1mwandb\u001b[0m: Agent Starting Run: 71s6bhrw with config:\n",
      "\u001b[34m\u001b[1mwandb\u001b[0m: \tactivation: tanh\n",
      "\u001b[34m\u001b[1mwandb\u001b[0m: \tbatch_size: 16\n",
      "\u001b[34m\u001b[1mwandb\u001b[0m: \tepochs: 10\n",
      "\u001b[34m\u001b[1mwandb\u001b[0m: \thidden_layers: 5\n",
      "\u001b[34m\u001b[1mwandb\u001b[0m: \thidden_size: 128\n",
      "\u001b[34m\u001b[1mwandb\u001b[0m: \tloss: cross_entropy\n",
      "\u001b[34m\u001b[1mwandb\u001b[0m: \tlr: 0.0001\n",
      "\u001b[34m\u001b[1mwandb\u001b[0m: \toptimizer: nadam\n",
      "\u001b[34m\u001b[1mwandb\u001b[0m: \tw_init: glorot\n",
      "\u001b[34m\u001b[1mwandb\u001b[0m: \tweight_decay: 0.0005\n"
     ]
    },
    {
     "data": {
      "text/html": [
       "Tracking run with wandb version 0.16.4"
      ],
      "text/plain": [
       "<IPython.core.display.HTML object>"
      ]
     },
     "metadata": {},
     "output_type": "display_data"
    },
    {
     "data": {
      "text/html": [
       "Run data is saved locally in <code>/Users/sumanta/Desktop/Numpy project/cross_entropy_lesspasses/wandb/run-20240317_063631-71s6bhrw</code>"
      ],
      "text/plain": [
       "<IPython.core.display.HTML object>"
      ]
     },
     "metadata": {},
     "output_type": "display_data"
    },
    {
     "data": {
      "text/html": [
       "Syncing run <strong><a href='https://wandb.ai/sumanta_roy/CS6910_assignment_1/runs/71s6bhrw' target=\"_blank\">splendid-sweep-52</a></strong> to <a href='https://wandb.ai/sumanta_roy/CS6910_assignment_1' target=\"_blank\">Weights & Biases</a> (<a href='https://wandb.me/run' target=\"_blank\">docs</a>)<br/>Sweep page: <a href='https://wandb.ai/sumanta_roy/CS6910_assignment_1/sweeps/ff8houdp' target=\"_blank\">https://wandb.ai/sumanta_roy/CS6910_assignment_1/sweeps/ff8houdp</a>"
      ],
      "text/plain": [
       "<IPython.core.display.HTML object>"
      ]
     },
     "metadata": {},
     "output_type": "display_data"
    },
    {
     "data": {
      "text/html": [
       " View project at <a href='https://wandb.ai/sumanta_roy/CS6910_assignment_1' target=\"_blank\">https://wandb.ai/sumanta_roy/CS6910_assignment_1</a>"
      ],
      "text/plain": [
       "<IPython.core.display.HTML object>"
      ]
     },
     "metadata": {},
     "output_type": "display_data"
    },
    {
     "data": {
      "text/html": [
       " View sweep at <a href='https://wandb.ai/sumanta_roy/CS6910_assignment_1/sweeps/ff8houdp' target=\"_blank\">https://wandb.ai/sumanta_roy/CS6910_assignment_1/sweeps/ff8houdp</a>"
      ],
      "text/plain": [
       "<IPython.core.display.HTML object>"
      ]
     },
     "metadata": {},
     "output_type": "display_data"
    },
    {
     "data": {
      "text/html": [
       " View run at <a href='https://wandb.ai/sumanta_roy/CS6910_assignment_1/runs/71s6bhrw' target=\"_blank\">https://wandb.ai/sumanta_roy/CS6910_assignment_1/runs/71s6bhrw</a>"
      ],
      "text/plain": [
       "<IPython.core.display.HTML object>"
      ]
     },
     "metadata": {},
     "output_type": "display_data"
    },
    {
     "name": "stdout",
     "output_type": "stream",
     "text": [
      "Epoch: 1/10; Train Loss: 0.060258115328401377; Val Loss: 0.06888931114966888\n",
      "Epoch: 2/10; Train Loss: 0.058458080613072276; Val Loss: 0.0561867958229549\n",
      "Epoch: 3/10; Train Loss: 0.06142750028309367; Val Loss: 0.05056185385694678\n",
      "Epoch: 4/10; Train Loss: 0.0626339854481699; Val Loss: 0.047567436244459624\n",
      "Epoch: 5/10; Train Loss: 0.062447745328661125; Val Loss: 0.045657794156239294\n",
      "Epoch: 6/10; Train Loss: 0.06166650890687127; Val Loss: 0.04426822261438284\n",
      "Epoch: 7/10; Train Loss: 0.060710730588058676; Val Loss: 0.04317225082147673\n",
      "Epoch: 8/10; Train Loss: 0.0597575398165699; Val Loss: 0.042265609873518774\n",
      "Epoch: 9/10; Train Loss: 0.05887285296891914; Val Loss: 0.04149333539586364\n",
      "Epoch: 10/10; Train Loss: 0.05807618703399798; Val Loss: 0.04082295036435625\n"
     ]
    },
    {
     "data": {
      "application/vnd.jupyter.widget-view+json": {
       "model_id": "",
       "version_major": 2,
       "version_minor": 0
      },
      "text/plain": [
       "VBox(children=(Label(value='0.001 MB of 0.001 MB uploaded\\r'), FloatProgress(value=1.0, max=1.0)))"
      ]
     },
     "metadata": {},
     "output_type": "display_data"
    },
    {
     "data": {
      "text/html": [
       "<style>\n",
       "    table.wandb td:nth-child(1) { padding: 0 10px; text-align: left ; width: auto;} td:nth-child(2) {text-align: left ; width: 100%}\n",
       "    .wandb-row { display: flex; flex-direction: row; flex-wrap: wrap; justify-content: flex-start; width: 100% }\n",
       "    .wandb-col { display: flex; flex-direction: column; flex-basis: 100%; flex: 1; padding: 10px; }\n",
       "    </style>\n",
       "<div class=\"wandb-row\"><div class=\"wandb-col\"><h3>Run history:</h3><br/><table class=\"wandb\"><tr><td>epoch</td><td>▁▁▁▁▂▂▂▂▃▃▃▃▃▃▃▃▄▄▄▄▅▅▅▅▆▆▆▆▆▆▆▆▇▇▇▇████</td></tr><tr><td>train_accuracy</td><td>▂▅▇▇█▄█▄▂▅▄▇▅█▇▇▇▂▅▄▇▅▄▇██▁▇▂▇▇▄▇█▄▄█▂█▅</td></tr><tr><td>train_loss</td><td>█▄▄▃▂▃▃▃▅▃▃▂▃▁▂▄▂▅▂▄▃▄▃▁▂▁▅▃▄▁▂▄▂▁▄▃▁▃▂▃</td></tr><tr><td>val_accuracy</td><td>▁▂▄▅▅▆▆▆▇▇▇▇▇▇▇▇▇▇▇▇▇███████████████████</td></tr><tr><td>validation_loss</td><td>█▅▄▃▃▃▂▂▂▂▂▂▂▂▂▂▁▁▁▁▁▁▁▁▁▁▁▁▁▁▁▁▁▁▁▁▁▁▁▁</td></tr></table><br/></div><div class=\"wandb-col\"><h3>Run summary:</h3><br/><table class=\"wandb\"><tr><td>epoch</td><td>10</td></tr><tr><td>train_accuracy</td><td>87.5</td></tr><tr><td>train_loss</td><td>0.05808</td></tr><tr><td>val_accuracy</td><td>85.21667</td></tr><tr><td>validation_loss</td><td>0.04082</td></tr></table><br/></div></div>"
      ],
      "text/plain": [
       "<IPython.core.display.HTML object>"
      ]
     },
     "metadata": {},
     "output_type": "display_data"
    },
    {
     "data": {
      "text/html": [
       " View run <strong style=\"color:#cdcd00\">splendid-sweep-52</strong> at: <a href='https://wandb.ai/sumanta_roy/CS6910_assignment_1/runs/71s6bhrw' target=\"_blank\">https://wandb.ai/sumanta_roy/CS6910_assignment_1/runs/71s6bhrw</a><br/>Synced 6 W&B file(s), 0 media file(s), 0 artifact file(s) and 0 other file(s)"
      ],
      "text/plain": [
       "<IPython.core.display.HTML object>"
      ]
     },
     "metadata": {},
     "output_type": "display_data"
    },
    {
     "data": {
      "text/html": [
       "Find logs at: <code>./wandb/run-20240317_063631-71s6bhrw/logs</code>"
      ],
      "text/plain": [
       "<IPython.core.display.HTML object>"
      ]
     },
     "metadata": {},
     "output_type": "display_data"
    },
    {
     "name": "stderr",
     "output_type": "stream",
     "text": [
      "\u001b[34m\u001b[1mwandb\u001b[0m: Agent Starting Run: h76jx16e with config:\n",
      "\u001b[34m\u001b[1mwandb\u001b[0m: \tactivation: tanh\n",
      "\u001b[34m\u001b[1mwandb\u001b[0m: \tbatch_size: 32\n",
      "\u001b[34m\u001b[1mwandb\u001b[0m: \tepochs: 10\n",
      "\u001b[34m\u001b[1mwandb\u001b[0m: \thidden_layers: 5\n",
      "\u001b[34m\u001b[1mwandb\u001b[0m: \thidden_size: 64\n",
      "\u001b[34m\u001b[1mwandb\u001b[0m: \tloss: cross_entropy\n",
      "\u001b[34m\u001b[1mwandb\u001b[0m: \tlr: 0.0001\n",
      "\u001b[34m\u001b[1mwandb\u001b[0m: \toptimizer: rmsprop\n",
      "\u001b[34m\u001b[1mwandb\u001b[0m: \tw_init: random\n",
      "\u001b[34m\u001b[1mwandb\u001b[0m: \tweight_decay: 0.0005\n"
     ]
    },
    {
     "data": {
      "text/html": [
       "Tracking run with wandb version 0.16.4"
      ],
      "text/plain": [
       "<IPython.core.display.HTML object>"
      ]
     },
     "metadata": {},
     "output_type": "display_data"
    },
    {
     "data": {
      "text/html": [
       "Run data is saved locally in <code>/Users/sumanta/Desktop/Numpy project/cross_entropy_lesspasses/wandb/run-20240317_064106-h76jx16e</code>"
      ],
      "text/plain": [
       "<IPython.core.display.HTML object>"
      ]
     },
     "metadata": {},
     "output_type": "display_data"
    },
    {
     "data": {
      "text/html": [
       "Syncing run <strong><a href='https://wandb.ai/sumanta_roy/CS6910_assignment_1/runs/h76jx16e' target=\"_blank\">glorious-sweep-53</a></strong> to <a href='https://wandb.ai/sumanta_roy/CS6910_assignment_1' target=\"_blank\">Weights & Biases</a> (<a href='https://wandb.me/run' target=\"_blank\">docs</a>)<br/>Sweep page: <a href='https://wandb.ai/sumanta_roy/CS6910_assignment_1/sweeps/ff8houdp' target=\"_blank\">https://wandb.ai/sumanta_roy/CS6910_assignment_1/sweeps/ff8houdp</a>"
      ],
      "text/plain": [
       "<IPython.core.display.HTML object>"
      ]
     },
     "metadata": {},
     "output_type": "display_data"
    },
    {
     "data": {
      "text/html": [
       " View project at <a href='https://wandb.ai/sumanta_roy/CS6910_assignment_1' target=\"_blank\">https://wandb.ai/sumanta_roy/CS6910_assignment_1</a>"
      ],
      "text/plain": [
       "<IPython.core.display.HTML object>"
      ]
     },
     "metadata": {},
     "output_type": "display_data"
    },
    {
     "data": {
      "text/html": [
       " View sweep at <a href='https://wandb.ai/sumanta_roy/CS6910_assignment_1/sweeps/ff8houdp' target=\"_blank\">https://wandb.ai/sumanta_roy/CS6910_assignment_1/sweeps/ff8houdp</a>"
      ],
      "text/plain": [
       "<IPython.core.display.HTML object>"
      ]
     },
     "metadata": {},
     "output_type": "display_data"
    },
    {
     "data": {
      "text/html": [
       " View run at <a href='https://wandb.ai/sumanta_roy/CS6910_assignment_1/runs/h76jx16e' target=\"_blank\">https://wandb.ai/sumanta_roy/CS6910_assignment_1/runs/h76jx16e</a>"
      ],
      "text/plain": [
       "<IPython.core.display.HTML object>"
      ]
     },
     "metadata": {},
     "output_type": "display_data"
    },
    {
     "name": "stdout",
     "output_type": "stream",
     "text": [
      "Epoch: 1/10; Train Loss: 0.11690996209523427; Val Loss: 0.07941454263438519\n",
      "Epoch: 2/10; Train Loss: 0.10502777057513321; Val Loss: 0.06503753998583792\n",
      "Epoch: 3/10; Train Loss: 0.09804202914756695; Val Loss: 0.059229813544306634\n",
      "Epoch: 4/10; Train Loss: 0.09421334131519904; Val Loss: 0.05595003181733622\n",
      "Epoch: 5/10; Train Loss: 0.09169030806035322; Val Loss: 0.053726154570603334\n",
      "Epoch: 6/10; Train Loss: 0.08955517009139484; Val Loss: 0.052081619702415455\n",
      "Epoch: 7/10; Train Loss: 0.08788816982589143; Val Loss: 0.05081729874784195\n",
      "Epoch: 8/10; Train Loss: 0.08679142720132144; Val Loss: 0.049807074668678085\n",
      "Epoch: 9/10; Train Loss: 0.08615993657724483; Val Loss: 0.04896084147506135\n",
      "Epoch: 10/10; Train Loss: 0.08576128750958689; Val Loss: 0.04823372740247001\n"
     ]
    },
    {
     "data": {
      "application/vnd.jupyter.widget-view+json": {
       "model_id": "",
       "version_major": 2,
       "version_minor": 0
      },
      "text/plain": [
       "VBox(children=(Label(value='0.001 MB of 0.027 MB uploaded\\r'), FloatProgress(value=0.02735454609878818, max=1.…"
      ]
     },
     "metadata": {},
     "output_type": "display_data"
    },
    {
     "data": {
      "text/html": [
       "<style>\n",
       "    table.wandb td:nth-child(1) { padding: 0 10px; text-align: left ; width: auto;} td:nth-child(2) {text-align: left ; width: 100%}\n",
       "    .wandb-row { display: flex; flex-direction: row; flex-wrap: wrap; justify-content: flex-start; width: 100% }\n",
       "    .wandb-col { display: flex; flex-direction: column; flex-basis: 100%; flex: 1; padding: 10px; }\n",
       "    </style>\n",
       "<div class=\"wandb-row\"><div class=\"wandb-col\"><h3>Run history:</h3><br/><table class=\"wandb\"><tr><td>epoch</td><td>▁▁▁▁▂▂▂▂▃▃▃▃▃▃▃▃▄▄▄▄▅▅▅▅▆▆▆▆▆▆▆▆▇▇▇▇████</td></tr><tr><td>train_accuracy</td><td>▁▅▄▇▆▅▆▇▆▆▆▆▆▇▆▆▇▅▇▅▆▆▆▇▆▆▅▇▆█▆▆▇▆▆▇▇▇▇█</td></tr><tr><td>train_loss</td><td>█▄▃▂▂▃▂▂▂▂▂▂▂▂▂▂▁▄▂▃▂▂▂▁▂▂▂▂▂▁▂▂▂▂▂▂▁▂▁▁</td></tr><tr><td>val_accuracy</td><td>▁▄▆▆▆▇▇▇▇▇▇▇▇███████████████████████████</td></tr><tr><td>validation_loss</td><td>█▅▃▃▂▂▂▂▂▂▂▂▂▁▁▁▁▁▁▁▁▁▁▁▁▁▁▁▁▁▁▁▁▁▁▁▁▁▁▁</td></tr></table><br/></div><div class=\"wandb-col\"><h3>Run summary:</h3><br/><table class=\"wandb\"><tr><td>epoch</td><td>10</td></tr><tr><td>train_accuracy</td><td>81.25</td></tr><tr><td>train_loss</td><td>0.08576</td></tr><tr><td>val_accuracy</td><td>82.35</td></tr><tr><td>validation_loss</td><td>0.04823</td></tr></table><br/></div></div>"
      ],
      "text/plain": [
       "<IPython.core.display.HTML object>"
      ]
     },
     "metadata": {},
     "output_type": "display_data"
    },
    {
     "data": {
      "text/html": [
       " View run <strong style=\"color:#cdcd00\">glorious-sweep-53</strong> at: <a href='https://wandb.ai/sumanta_roy/CS6910_assignment_1/runs/h76jx16e' target=\"_blank\">https://wandb.ai/sumanta_roy/CS6910_assignment_1/runs/h76jx16e</a><br/>Synced 6 W&B file(s), 0 media file(s), 0 artifact file(s) and 0 other file(s)"
      ],
      "text/plain": [
       "<IPython.core.display.HTML object>"
      ]
     },
     "metadata": {},
     "output_type": "display_data"
    },
    {
     "data": {
      "text/html": [
       "Find logs at: <code>./wandb/run-20240317_064106-h76jx16e/logs</code>"
      ],
      "text/plain": [
       "<IPython.core.display.HTML object>"
      ]
     },
     "metadata": {},
     "output_type": "display_data"
    },
    {
     "name": "stderr",
     "output_type": "stream",
     "text": [
      "\u001b[34m\u001b[1mwandb\u001b[0m: Agent Starting Run: k9y255zs with config:\n",
      "\u001b[34m\u001b[1mwandb\u001b[0m: \tactivation: tanh\n",
      "\u001b[34m\u001b[1mwandb\u001b[0m: \tbatch_size: 16\n",
      "\u001b[34m\u001b[1mwandb\u001b[0m: \tepochs: 10\n",
      "\u001b[34m\u001b[1mwandb\u001b[0m: \thidden_layers: 4\n",
      "\u001b[34m\u001b[1mwandb\u001b[0m: \thidden_size: 128\n",
      "\u001b[34m\u001b[1mwandb\u001b[0m: \tloss: cross_entropy\n",
      "\u001b[34m\u001b[1mwandb\u001b[0m: \tlr: 0.001\n",
      "\u001b[34m\u001b[1mwandb\u001b[0m: \toptimizer: nadam\n",
      "\u001b[34m\u001b[1mwandb\u001b[0m: \tw_init: random\n",
      "\u001b[34m\u001b[1mwandb\u001b[0m: \tweight_decay: 0\n"
     ]
    },
    {
     "data": {
      "text/html": [
       "Tracking run with wandb version 0.16.4"
      ],
      "text/plain": [
       "<IPython.core.display.HTML object>"
      ]
     },
     "metadata": {},
     "output_type": "display_data"
    },
    {
     "data": {
      "text/html": [
       "Run data is saved locally in <code>/Users/sumanta/Desktop/Numpy project/cross_entropy_lesspasses/wandb/run-20240317_064225-k9y255zs</code>"
      ],
      "text/plain": [
       "<IPython.core.display.HTML object>"
      ]
     },
     "metadata": {},
     "output_type": "display_data"
    },
    {
     "data": {
      "text/html": [
       "Syncing run <strong><a href='https://wandb.ai/sumanta_roy/CS6910_assignment_1/runs/k9y255zs' target=\"_blank\">daily-sweep-54</a></strong> to <a href='https://wandb.ai/sumanta_roy/CS6910_assignment_1' target=\"_blank\">Weights & Biases</a> (<a href='https://wandb.me/run' target=\"_blank\">docs</a>)<br/>Sweep page: <a href='https://wandb.ai/sumanta_roy/CS6910_assignment_1/sweeps/ff8houdp' target=\"_blank\">https://wandb.ai/sumanta_roy/CS6910_assignment_1/sweeps/ff8houdp</a>"
      ],
      "text/plain": [
       "<IPython.core.display.HTML object>"
      ]
     },
     "metadata": {},
     "output_type": "display_data"
    },
    {
     "data": {
      "text/html": [
       " View project at <a href='https://wandb.ai/sumanta_roy/CS6910_assignment_1' target=\"_blank\">https://wandb.ai/sumanta_roy/CS6910_assignment_1</a>"
      ],
      "text/plain": [
       "<IPython.core.display.HTML object>"
      ]
     },
     "metadata": {},
     "output_type": "display_data"
    },
    {
     "data": {
      "text/html": [
       " View sweep at <a href='https://wandb.ai/sumanta_roy/CS6910_assignment_1/sweeps/ff8houdp' target=\"_blank\">https://wandb.ai/sumanta_roy/CS6910_assignment_1/sweeps/ff8houdp</a>"
      ],
      "text/plain": [
       "<IPython.core.display.HTML object>"
      ]
     },
     "metadata": {},
     "output_type": "display_data"
    },
    {
     "data": {
      "text/html": [
       " View run at <a href='https://wandb.ai/sumanta_roy/CS6910_assignment_1/runs/k9y255zs' target=\"_blank\">https://wandb.ai/sumanta_roy/CS6910_assignment_1/runs/k9y255zs</a>"
      ],
      "text/plain": [
       "<IPython.core.display.HTML object>"
      ]
     },
     "metadata": {},
     "output_type": "display_data"
    },
    {
     "name": "stdout",
     "output_type": "stream",
     "text": [
      "Epoch: 1/10; Train Loss: 0.06422699620012176; Val Loss: 0.06914026803242729\n",
      "Epoch: 2/10; Train Loss: 0.04798189050454787; Val Loss: 0.06020435155160055\n",
      "Epoch: 3/10; Train Loss: 0.04862181644940691; Val Loss: 0.05595634659800093\n",
      "Epoch: 4/10; Train Loss: 0.04735941078765142; Val Loss: 0.05336240284198615\n",
      "Epoch: 5/10; Train Loss: 0.044155728926489814; Val Loss: 0.051471946781111964\n",
      "Epoch: 6/10; Train Loss: 0.042342504198148084; Val Loss: 0.05000808036805665\n",
      "Epoch: 7/10; Train Loss: 0.04178034349393017; Val Loss: 0.048855882670339405\n",
      "Epoch: 8/10; Train Loss: 0.04163768257959473; Val Loss: 0.047962196201944605\n",
      "Epoch: 9/10; Train Loss: 0.04146756593530228; Val Loss: 0.04724863464091809\n",
      "Epoch: 10/10; Train Loss: 0.04125068149290746; Val Loss: 0.04668408395924968\n"
     ]
    },
    {
     "data": {
      "application/vnd.jupyter.widget-view+json": {
       "model_id": "",
       "version_major": 2,
       "version_minor": 0
      },
      "text/plain": [
       "VBox(children=(Label(value='0.001 MB of 0.001 MB uploaded\\r'), FloatProgress(value=1.0, max=1.0)))"
      ]
     },
     "metadata": {},
     "output_type": "display_data"
    },
    {
     "data": {
      "text/html": [
       "<style>\n",
       "    table.wandb td:nth-child(1) { padding: 0 10px; text-align: left ; width: auto;} td:nth-child(2) {text-align: left ; width: 100%}\n",
       "    .wandb-row { display: flex; flex-direction: row; flex-wrap: wrap; justify-content: flex-start; width: 100% }\n",
       "    .wandb-col { display: flex; flex-direction: column; flex-basis: 100%; flex: 1; padding: 10px; }\n",
       "    </style>\n",
       "<div class=\"wandb-row\"><div class=\"wandb-col\"><h3>Run history:</h3><br/><table class=\"wandb\"><tr><td>epoch</td><td>▁▁▁▁▂▂▂▂▃▃▃▃▃▃▃▃▄▄▄▄▅▅▅▅▆▆▆▆▆▆▆▆▇▇▇▇████</td></tr><tr><td>train_accuracy</td><td>▄▅▄▇▅▅█▅▄▅▅▅▅▆▅▅▅▃▅▅▆▆▅▆█▇▁▅▅▆▆▅▇█▅▅▆▇█▇</td></tr><tr><td>train_loss</td><td>▄▅▆▂▃▅▁▄▅▃▃▃▃▂▄█▄▄▄▅▂▄▃▁▁▁▅▄▂▁▂▅▁▁▄▆▂▂▁▁</td></tr><tr><td>val_accuracy</td><td>▁▄▅▅▆▆▆▆▇▇▇▇▇▇▇▇▇▇▇▇▇███████████████████</td></tr><tr><td>validation_loss</td><td>█▅▄▃▃▃▃▂▂▂▂▂▂▂▂▂▂▂▂▁▁▁▁▁▁▁▁▁▁▁▁▁▁▁▁▁▁▁▁▁</td></tr></table><br/></div><div class=\"wandb-col\"><h3>Run summary:</h3><br/><table class=\"wandb\"><tr><td>epoch</td><td>10</td></tr><tr><td>train_accuracy</td><td>93.75</td></tr><tr><td>train_loss</td><td>0.04125</td></tr><tr><td>val_accuracy</td><td>83.83333</td></tr><tr><td>validation_loss</td><td>0.04668</td></tr></table><br/></div></div>"
      ],
      "text/plain": [
       "<IPython.core.display.HTML object>"
      ]
     },
     "metadata": {},
     "output_type": "display_data"
    },
    {
     "data": {
      "text/html": [
       " View run <strong style=\"color:#cdcd00\">daily-sweep-54</strong> at: <a href='https://wandb.ai/sumanta_roy/CS6910_assignment_1/runs/k9y255zs' target=\"_blank\">https://wandb.ai/sumanta_roy/CS6910_assignment_1/runs/k9y255zs</a><br/>Synced 6 W&B file(s), 0 media file(s), 0 artifact file(s) and 0 other file(s)"
      ],
      "text/plain": [
       "<IPython.core.display.HTML object>"
      ]
     },
     "metadata": {},
     "output_type": "display_data"
    },
    {
     "data": {
      "text/html": [
       "Find logs at: <code>./wandb/run-20240317_064225-k9y255zs/logs</code>"
      ],
      "text/plain": [
       "<IPython.core.display.HTML object>"
      ]
     },
     "metadata": {},
     "output_type": "display_data"
    },
    {
     "name": "stderr",
     "output_type": "stream",
     "text": [
      "\u001b[34m\u001b[1mwandb\u001b[0m: Agent Starting Run: dkxunaa4 with config:\n",
      "\u001b[34m\u001b[1mwandb\u001b[0m: \tactivation: tanh\n",
      "\u001b[34m\u001b[1mwandb\u001b[0m: \tbatch_size: 16\n",
      "\u001b[34m\u001b[1mwandb\u001b[0m: \tepochs: 10\n",
      "\u001b[34m\u001b[1mwandb\u001b[0m: \thidden_layers: 4\n",
      "\u001b[34m\u001b[1mwandb\u001b[0m: \thidden_size: 32\n",
      "\u001b[34m\u001b[1mwandb\u001b[0m: \tloss: cross_entropy\n",
      "\u001b[34m\u001b[1mwandb\u001b[0m: \tlr: 0.001\n",
      "\u001b[34m\u001b[1mwandb\u001b[0m: \toptimizer: rmsprop\n",
      "\u001b[34m\u001b[1mwandb\u001b[0m: \tw_init: random\n",
      "\u001b[34m\u001b[1mwandb\u001b[0m: \tweight_decay: 0\n"
     ]
    },
    {
     "data": {
      "text/html": [
       "Tracking run with wandb version 0.16.4"
      ],
      "text/plain": [
       "<IPython.core.display.HTML object>"
      ]
     },
     "metadata": {},
     "output_type": "display_data"
    },
    {
     "data": {
      "text/html": [
       "Run data is saved locally in <code>/Users/sumanta/Desktop/Numpy project/cross_entropy_lesspasses/wandb/run-20240317_064619-dkxunaa4</code>"
      ],
      "text/plain": [
       "<IPython.core.display.HTML object>"
      ]
     },
     "metadata": {},
     "output_type": "display_data"
    },
    {
     "data": {
      "text/html": [
       "Syncing run <strong><a href='https://wandb.ai/sumanta_roy/CS6910_assignment_1/runs/dkxunaa4' target=\"_blank\">bumbling-sweep-55</a></strong> to <a href='https://wandb.ai/sumanta_roy/CS6910_assignment_1' target=\"_blank\">Weights & Biases</a> (<a href='https://wandb.me/run' target=\"_blank\">docs</a>)<br/>Sweep page: <a href='https://wandb.ai/sumanta_roy/CS6910_assignment_1/sweeps/ff8houdp' target=\"_blank\">https://wandb.ai/sumanta_roy/CS6910_assignment_1/sweeps/ff8houdp</a>"
      ],
      "text/plain": [
       "<IPython.core.display.HTML object>"
      ]
     },
     "metadata": {},
     "output_type": "display_data"
    },
    {
     "data": {
      "text/html": [
       " View project at <a href='https://wandb.ai/sumanta_roy/CS6910_assignment_1' target=\"_blank\">https://wandb.ai/sumanta_roy/CS6910_assignment_1</a>"
      ],
      "text/plain": [
       "<IPython.core.display.HTML object>"
      ]
     },
     "metadata": {},
     "output_type": "display_data"
    },
    {
     "data": {
      "text/html": [
       " View sweep at <a href='https://wandb.ai/sumanta_roy/CS6910_assignment_1/sweeps/ff8houdp' target=\"_blank\">https://wandb.ai/sumanta_roy/CS6910_assignment_1/sweeps/ff8houdp</a>"
      ],
      "text/plain": [
       "<IPython.core.display.HTML object>"
      ]
     },
     "metadata": {},
     "output_type": "display_data"
    },
    {
     "data": {
      "text/html": [
       " View run at <a href='https://wandb.ai/sumanta_roy/CS6910_assignment_1/runs/dkxunaa4' target=\"_blank\">https://wandb.ai/sumanta_roy/CS6910_assignment_1/runs/dkxunaa4</a>"
      ],
      "text/plain": [
       "<IPython.core.display.HTML object>"
      ]
     },
     "metadata": {},
     "output_type": "display_data"
    },
    {
     "name": "stdout",
     "output_type": "stream",
     "text": [
      "Epoch: 1/10; Train Loss: 0.0295519064932869; Val Loss: 0.05095751540407857\n",
      "Epoch: 2/10; Train Loss: 0.026920874908314428; Val Loss: 0.045796788321156585\n",
      "Epoch: 3/10; Train Loss: 0.034909166451648016; Val Loss: 0.04332560637821408\n",
      "Epoch: 4/10; Train Loss: 0.03892572709044768; Val Loss: 0.042231675694460506\n",
      "Epoch: 5/10; Train Loss: 0.041038610010769444; Val Loss: 0.04111765088728798\n",
      "Epoch: 6/10; Train Loss: 0.0399366874075; Val Loss: 0.040444651992423045\n",
      "Epoch: 7/10; Train Loss: 0.03647925502575571; Val Loss: 0.03986795837095303\n",
      "Epoch: 8/10; Train Loss: 0.041404356068793696; Val Loss: 0.03944256942297018\n",
      "Epoch: 9/10; Train Loss: 0.042626712081457366; Val Loss: 0.039296359529803114\n",
      "Epoch: 10/10; Train Loss: 0.0428069181843235; Val Loss: 0.03917776625231152\n"
     ]
    },
    {
     "data": {
      "application/vnd.jupyter.widget-view+json": {
       "model_id": "",
       "version_major": 2,
       "version_minor": 0
      },
      "text/plain": [
       "VBox(children=(Label(value='0.001 MB of 0.001 MB uploaded\\r'), FloatProgress(value=1.0, max=1.0)))"
      ]
     },
     "metadata": {},
     "output_type": "display_data"
    },
    {
     "data": {
      "text/html": [
       "<style>\n",
       "    table.wandb td:nth-child(1) { padding: 0 10px; text-align: left ; width: auto;} td:nth-child(2) {text-align: left ; width: 100%}\n",
       "    .wandb-row { display: flex; flex-direction: row; flex-wrap: wrap; justify-content: flex-start; width: 100% }\n",
       "    .wandb-col { display: flex; flex-direction: column; flex-basis: 100%; flex: 1; padding: 10px; }\n",
       "    </style>\n",
       "<div class=\"wandb-row\"><div class=\"wandb-col\"><h3>Run history:</h3><br/><table class=\"wandb\"><tr><td>epoch</td><td>▁▁▁▁▂▂▂▂▃▃▃▃▃▃▃▃▄▄▄▄▅▅▅▅▆▆▆▆▆▆▆▆▇▇▇▇████</td></tr><tr><td>train_accuracy</td><td>▄▅▅▄▇▅█▇▄▂▂▇▄██▂▇▁▅▂▅▅▄▅▇█▁▄▅▇▄▄▇▅▁▅▇▄▅▇</td></tr><tr><td>train_loss</td><td>▆▃▄▃▃▃▂▂▄▅▄▂▃▁▂▅▂▆▃▅▃▅▃▂▂▁▇▅▄▂▂▅▂▂█▄▁▄▂▃</td></tr><tr><td>val_accuracy</td><td>▁▄▅▆▆▆▇▇▇▇▇▇▇▇▇█▇██▇██████▇██▇██▇███████</td></tr><tr><td>validation_loss</td><td>█▅▄▃▃▂▂▂▂▂▂▂▂▁▂▁▁▁▁▂▁▁▁▁▁▁▂▁▁▁▂▁▁▁▁▁▁▁▁▁</td></tr></table><br/></div><div class=\"wandb-col\"><h3>Run summary:</h3><br/><table class=\"wandb\"><tr><td>epoch</td><td>10</td></tr><tr><td>train_accuracy</td><td>87.5</td></tr><tr><td>train_loss</td><td>0.04281</td></tr><tr><td>val_accuracy</td><td>86.88333</td></tr><tr><td>validation_loss</td><td>0.03918</td></tr></table><br/></div></div>"
      ],
      "text/plain": [
       "<IPython.core.display.HTML object>"
      ]
     },
     "metadata": {},
     "output_type": "display_data"
    },
    {
     "data": {
      "text/html": [
       " View run <strong style=\"color:#cdcd00\">bumbling-sweep-55</strong> at: <a href='https://wandb.ai/sumanta_roy/CS6910_assignment_1/runs/dkxunaa4' target=\"_blank\">https://wandb.ai/sumanta_roy/CS6910_assignment_1/runs/dkxunaa4</a><br/>Synced 6 W&B file(s), 0 media file(s), 0 artifact file(s) and 0 other file(s)"
      ],
      "text/plain": [
       "<IPython.core.display.HTML object>"
      ]
     },
     "metadata": {},
     "output_type": "display_data"
    },
    {
     "data": {
      "text/html": [
       "Find logs at: <code>./wandb/run-20240317_064619-dkxunaa4/logs</code>"
      ],
      "text/plain": [
       "<IPython.core.display.HTML object>"
      ]
     },
     "metadata": {},
     "output_type": "display_data"
    },
    {
     "name": "stderr",
     "output_type": "stream",
     "text": [
      "\u001b[34m\u001b[1mwandb\u001b[0m: Agent Starting Run: ahlxmp32 with config:\n",
      "\u001b[34m\u001b[1mwandb\u001b[0m: \tactivation: tanh\n",
      "\u001b[34m\u001b[1mwandb\u001b[0m: \tbatch_size: 16\n",
      "\u001b[34m\u001b[1mwandb\u001b[0m: \tepochs: 10\n",
      "\u001b[34m\u001b[1mwandb\u001b[0m: \thidden_layers: 4\n",
      "\u001b[34m\u001b[1mwandb\u001b[0m: \thidden_size: 128\n",
      "\u001b[34m\u001b[1mwandb\u001b[0m: \tloss: cross_entropy\n",
      "\u001b[34m\u001b[1mwandb\u001b[0m: \tlr: 0.001\n",
      "\u001b[34m\u001b[1mwandb\u001b[0m: \toptimizer: adam\n",
      "\u001b[34m\u001b[1mwandb\u001b[0m: \tw_init: random\n",
      "\u001b[34m\u001b[1mwandb\u001b[0m: \tweight_decay: 0\n"
     ]
    },
    {
     "data": {
      "text/html": [
       "Tracking run with wandb version 0.16.4"
      ],
      "text/plain": [
       "<IPython.core.display.HTML object>"
      ]
     },
     "metadata": {},
     "output_type": "display_data"
    },
    {
     "data": {
      "text/html": [
       "Run data is saved locally in <code>/Users/sumanta/Desktop/Numpy project/cross_entropy_lesspasses/wandb/run-20240317_064732-ahlxmp32</code>"
      ],
      "text/plain": [
       "<IPython.core.display.HTML object>"
      ]
     },
     "metadata": {},
     "output_type": "display_data"
    },
    {
     "data": {
      "text/html": [
       "Syncing run <strong><a href='https://wandb.ai/sumanta_roy/CS6910_assignment_1/runs/ahlxmp32' target=\"_blank\">worthy-sweep-56</a></strong> to <a href='https://wandb.ai/sumanta_roy/CS6910_assignment_1' target=\"_blank\">Weights & Biases</a> (<a href='https://wandb.me/run' target=\"_blank\">docs</a>)<br/>Sweep page: <a href='https://wandb.ai/sumanta_roy/CS6910_assignment_1/sweeps/ff8houdp' target=\"_blank\">https://wandb.ai/sumanta_roy/CS6910_assignment_1/sweeps/ff8houdp</a>"
      ],
      "text/plain": [
       "<IPython.core.display.HTML object>"
      ]
     },
     "metadata": {},
     "output_type": "display_data"
    },
    {
     "data": {
      "text/html": [
       " View project at <a href='https://wandb.ai/sumanta_roy/CS6910_assignment_1' target=\"_blank\">https://wandb.ai/sumanta_roy/CS6910_assignment_1</a>"
      ],
      "text/plain": [
       "<IPython.core.display.HTML object>"
      ]
     },
     "metadata": {},
     "output_type": "display_data"
    },
    {
     "data": {
      "text/html": [
       " View sweep at <a href='https://wandb.ai/sumanta_roy/CS6910_assignment_1/sweeps/ff8houdp' target=\"_blank\">https://wandb.ai/sumanta_roy/CS6910_assignment_1/sweeps/ff8houdp</a>"
      ],
      "text/plain": [
       "<IPython.core.display.HTML object>"
      ]
     },
     "metadata": {},
     "output_type": "display_data"
    },
    {
     "data": {
      "text/html": [
       " View run at <a href='https://wandb.ai/sumanta_roy/CS6910_assignment_1/runs/ahlxmp32' target=\"_blank\">https://wandb.ai/sumanta_roy/CS6910_assignment_1/runs/ahlxmp32</a>"
      ],
      "text/plain": [
       "<IPython.core.display.HTML object>"
      ]
     },
     "metadata": {},
     "output_type": "display_data"
    },
    {
     "name": "stdout",
     "output_type": "stream",
     "text": [
      "Epoch: 1/10; Train Loss: 0.03971773650708832; Val Loss: 0.04967722758965243\n",
      "Epoch: 2/10; Train Loss: 0.03756277178451041; Val Loss: 0.044416517552065375\n",
      "Epoch: 3/10; Train Loss: 0.037877987762901896; Val Loss: 0.04207451797247794\n",
      "Epoch: 4/10; Train Loss: 0.037118283384254915; Val Loss: 0.04093247539832009\n",
      "Epoch: 5/10; Train Loss: 0.03294670545930208; Val Loss: 0.03993288714844984\n",
      "Epoch: 6/10; Train Loss: 0.03283380339828983; Val Loss: 0.039710971102125174\n",
      "Epoch: 7/10; Train Loss: 0.029801253522475098; Val Loss: 0.0394308828988464\n",
      "Epoch: 8/10; Train Loss: 0.023960313604406154; Val Loss: 0.039472041418956036\n",
      "Epoch: 9/10; Train Loss: 0.030124788285180244; Val Loss: 0.04026334542846019\n",
      "Epoch: 10/10; Train Loss: 0.026991042060791122; Val Loss: 0.03981151777635334\n"
     ]
    },
    {
     "data": {
      "application/vnd.jupyter.widget-view+json": {
       "model_id": "",
       "version_major": 2,
       "version_minor": 0
      },
      "text/plain": [
       "VBox(children=(Label(value='0.001 MB of 0.027 MB uploaded\\r'), FloatProgress(value=0.027310403457192448, max=1…"
      ]
     },
     "metadata": {},
     "output_type": "display_data"
    },
    {
     "data": {
      "text/html": [
       "<style>\n",
       "    table.wandb td:nth-child(1) { padding: 0 10px; text-align: left ; width: auto;} td:nth-child(2) {text-align: left ; width: 100%}\n",
       "    .wandb-row { display: flex; flex-direction: row; flex-wrap: wrap; justify-content: flex-start; width: 100% }\n",
       "    .wandb-col { display: flex; flex-direction: column; flex-basis: 100%; flex: 1; padding: 10px; }\n",
       "    </style>\n",
       "<div class=\"wandb-row\"><div class=\"wandb-col\"><h3>Run history:</h3><br/><table class=\"wandb\"><tr><td>epoch</td><td>▁▁▁▁▂▂▂▂▃▃▃▃▃▃▃▃▄▄▄▄▅▅▅▅▆▆▆▆▆▆▆▆▇▇▇▇████</td></tr><tr><td>train_accuracy</td><td>▂▅▅▇▇▃▆▆▃▇▃▆▆██▂▇▁▆▃▅▆▅▇█▇▃▅▅▆▇▅█▆▂▃▇▆█▇</td></tr><tr><td>train_loss</td><td>▇▄▅▃▃▅▂▂▅▃▄▃▃▁▂▅▂▆▅▇▅▄▃▂▁▂▅▆▄▂▃▅▂▃█▇▂▃▁▂</td></tr><tr><td>val_accuracy</td><td>▁▃▅▅▆▆▆▆▇▇▇▇▇▇▇▇▇▇▇▇█▇▇▇▇███▇▇██▇▇██▇███</td></tr><tr><td>validation_loss</td><td>█▆▄▄▃▃▃▃▂▂▂▂▂▂▁▁▂▁▁▁▁▁▁▁▂▁▁▁▂▁▁▁▂▂▁▁▂▁▁▁</td></tr></table><br/></div><div class=\"wandb-col\"><h3>Run summary:</h3><br/><table class=\"wandb\"><tr><td>epoch</td><td>10</td></tr><tr><td>train_accuracy</td><td>93.75</td></tr><tr><td>train_loss</td><td>0.02699</td></tr><tr><td>val_accuracy</td><td>86.56667</td></tr><tr><td>validation_loss</td><td>0.03981</td></tr></table><br/></div></div>"
      ],
      "text/plain": [
       "<IPython.core.display.HTML object>"
      ]
     },
     "metadata": {},
     "output_type": "display_data"
    },
    {
     "data": {
      "text/html": [
       " View run <strong style=\"color:#cdcd00\">worthy-sweep-56</strong> at: <a href='https://wandb.ai/sumanta_roy/CS6910_assignment_1/runs/ahlxmp32' target=\"_blank\">https://wandb.ai/sumanta_roy/CS6910_assignment_1/runs/ahlxmp32</a><br/>Synced 6 W&B file(s), 0 media file(s), 0 artifact file(s) and 0 other file(s)"
      ],
      "text/plain": [
       "<IPython.core.display.HTML object>"
      ]
     },
     "metadata": {},
     "output_type": "display_data"
    },
    {
     "data": {
      "text/html": [
       "Find logs at: <code>./wandb/run-20240317_064732-ahlxmp32/logs</code>"
      ],
      "text/plain": [
       "<IPython.core.display.HTML object>"
      ]
     },
     "metadata": {},
     "output_type": "display_data"
    },
    {
     "name": "stderr",
     "output_type": "stream",
     "text": [
      "\u001b[34m\u001b[1mwandb\u001b[0m: Agent Starting Run: eamvki6g with config:\n",
      "\u001b[34m\u001b[1mwandb\u001b[0m: \tactivation: tanh\n",
      "\u001b[34m\u001b[1mwandb\u001b[0m: \tbatch_size: 16\n",
      "\u001b[34m\u001b[1mwandb\u001b[0m: \tepochs: 10\n",
      "\u001b[34m\u001b[1mwandb\u001b[0m: \thidden_layers: 5\n",
      "\u001b[34m\u001b[1mwandb\u001b[0m: \thidden_size: 64\n",
      "\u001b[34m\u001b[1mwandb\u001b[0m: \tloss: cross_entropy\n",
      "\u001b[34m\u001b[1mwandb\u001b[0m: \tlr: 0.0001\n",
      "\u001b[34m\u001b[1mwandb\u001b[0m: \toptimizer: nadam\n",
      "\u001b[34m\u001b[1mwandb\u001b[0m: \tw_init: random\n",
      "\u001b[34m\u001b[1mwandb\u001b[0m: \tweight_decay: 0\n"
     ]
    },
    {
     "data": {
      "text/html": [
       "Tracking run with wandb version 0.16.4"
      ],
      "text/plain": [
       "<IPython.core.display.HTML object>"
      ]
     },
     "metadata": {},
     "output_type": "display_data"
    },
    {
     "data": {
      "text/html": [
       "Run data is saved locally in <code>/Users/sumanta/Desktop/Numpy project/cross_entropy_lesspasses/wandb/run-20240317_065059-eamvki6g</code>"
      ],
      "text/plain": [
       "<IPython.core.display.HTML object>"
      ]
     },
     "metadata": {},
     "output_type": "display_data"
    },
    {
     "data": {
      "text/html": [
       "Syncing run <strong><a href='https://wandb.ai/sumanta_roy/CS6910_assignment_1/runs/eamvki6g' target=\"_blank\">dashing-sweep-57</a></strong> to <a href='https://wandb.ai/sumanta_roy/CS6910_assignment_1' target=\"_blank\">Weights & Biases</a> (<a href='https://wandb.me/run' target=\"_blank\">docs</a>)<br/>Sweep page: <a href='https://wandb.ai/sumanta_roy/CS6910_assignment_1/sweeps/ff8houdp' target=\"_blank\">https://wandb.ai/sumanta_roy/CS6910_assignment_1/sweeps/ff8houdp</a>"
      ],
      "text/plain": [
       "<IPython.core.display.HTML object>"
      ]
     },
     "metadata": {},
     "output_type": "display_data"
    },
    {
     "data": {
      "text/html": [
       " View project at <a href='https://wandb.ai/sumanta_roy/CS6910_assignment_1' target=\"_blank\">https://wandb.ai/sumanta_roy/CS6910_assignment_1</a>"
      ],
      "text/plain": [
       "<IPython.core.display.HTML object>"
      ]
     },
     "metadata": {},
     "output_type": "display_data"
    },
    {
     "data": {
      "text/html": [
       " View sweep at <a href='https://wandb.ai/sumanta_roy/CS6910_assignment_1/sweeps/ff8houdp' target=\"_blank\">https://wandb.ai/sumanta_roy/CS6910_assignment_1/sweeps/ff8houdp</a>"
      ],
      "text/plain": [
       "<IPython.core.display.HTML object>"
      ]
     },
     "metadata": {},
     "output_type": "display_data"
    },
    {
     "data": {
      "text/html": [
       " View run at <a href='https://wandb.ai/sumanta_roy/CS6910_assignment_1/runs/eamvki6g' target=\"_blank\">https://wandb.ai/sumanta_roy/CS6910_assignment_1/runs/eamvki6g</a>"
      ],
      "text/plain": [
       "<IPython.core.display.HTML object>"
      ]
     },
     "metadata": {},
     "output_type": "display_data"
    },
    {
     "name": "stdout",
     "output_type": "stream",
     "text": [
      "Epoch: 1/10; Train Loss: 0.13989785702107185; Val Loss: 0.15947838480925453\n",
      "Epoch: 2/10; Train Loss: 0.10123578156559032; Val Loss: 0.12225779153911281\n",
      "Epoch: 3/10; Train Loss: 0.08629651312616216; Val Loss: 0.10402939591371053\n",
      "Epoch: 4/10; Train Loss: 0.07614588879821056; Val Loss: 0.09314218347906585\n",
      "Epoch: 5/10; Train Loss: 0.06863835740164265; Val Loss: 0.08587192458375588\n",
      "Epoch: 6/10; Train Loss: 0.0635778860099324; Val Loss: 0.0806816133355324\n",
      "Epoch: 7/10; Train Loss: 0.05978130481405249; Val Loss: 0.07681024579865459\n",
      "Epoch: 8/10; Train Loss: 0.05658764686701358; Val Loss: 0.07381925665050115\n",
      "Epoch: 9/10; Train Loss: 0.053851515483272584; Val Loss: 0.0714322762658591\n",
      "Epoch: 10/10; Train Loss: 0.051464805983735776; Val Loss: 0.06946957585598329\n"
     ]
    },
    {
     "data": {
      "application/vnd.jupyter.widget-view+json": {
       "model_id": "",
       "version_major": 2,
       "version_minor": 0
      },
      "text/plain": [
       "VBox(children=(Label(value='0.001 MB of 0.001 MB uploaded\\r'), FloatProgress(value=1.0, max=1.0)))"
      ]
     },
     "metadata": {},
     "output_type": "display_data"
    },
    {
     "data": {
      "text/html": [
       "<style>\n",
       "    table.wandb td:nth-child(1) { padding: 0 10px; text-align: left ; width: auto;} td:nth-child(2) {text-align: left ; width: 100%}\n",
       "    .wandb-row { display: flex; flex-direction: row; flex-wrap: wrap; justify-content: flex-start; width: 100% }\n",
       "    .wandb-col { display: flex; flex-direction: column; flex-basis: 100%; flex: 1; padding: 10px; }\n",
       "    </style>\n",
       "<div class=\"wandb-row\"><div class=\"wandb-col\"><h3>Run history:</h3><br/><table class=\"wandb\"><tr><td>epoch</td><td>▁▁▁▁▂▂▂▂▃▃▃▃▃▃▃▃▄▄▄▄▅▅▅▅▆▆▆▆▆▆▆▆▇▇▇▇████</td></tr><tr><td>train_accuracy</td><td>▁▂▅▃▆▅▅▂▆▆▆▅▅▇▅▃▆▅▇▅▅▅▆▆▆▆▅▇▅▆▇▆█▇▆█▇▇▇▅</td></tr><tr><td>train_loss</td><td>█▆▄▅▃▃▄▄▄▄▂▃▄▂▃▅▂▃▂▃▂▃▂▃▃▃▄▂▃▂▁▂▁▂▃▁▁▂▂▂</td></tr><tr><td>val_accuracy</td><td>▁▂▄▄▅▅▆▆▆▆▆▇▇▇▇▇▇▇▇▇▇▇▇█████████████████</td></tr><tr><td>validation_loss</td><td>█▆▅▄▄▃▃▃▃▂▂▂▂▂▂▂▂▂▂▂▁▁▁▁▁▁▁▁▁▁▁▁▁▁▁▁▁▁▁▁</td></tr></table><br/></div><div class=\"wandb-col\"><h3>Run summary:</h3><br/><table class=\"wandb\"><tr><td>epoch</td><td>10</td></tr><tr><td>train_accuracy</td><td>81.25</td></tr><tr><td>train_loss</td><td>0.05146</td></tr><tr><td>val_accuracy</td><td>75.16667</td></tr><tr><td>validation_loss</td><td>0.06947</td></tr></table><br/></div></div>"
      ],
      "text/plain": [
       "<IPython.core.display.HTML object>"
      ]
     },
     "metadata": {},
     "output_type": "display_data"
    },
    {
     "data": {
      "text/html": [
       " View run <strong style=\"color:#cdcd00\">dashing-sweep-57</strong> at: <a href='https://wandb.ai/sumanta_roy/CS6910_assignment_1/runs/eamvki6g' target=\"_blank\">https://wandb.ai/sumanta_roy/CS6910_assignment_1/runs/eamvki6g</a><br/>Synced 6 W&B file(s), 0 media file(s), 0 artifact file(s) and 0 other file(s)"
      ],
      "text/plain": [
       "<IPython.core.display.HTML object>"
      ]
     },
     "metadata": {},
     "output_type": "display_data"
    },
    {
     "data": {
      "text/html": [
       "Find logs at: <code>./wandb/run-20240317_065059-eamvki6g/logs</code>"
      ],
      "text/plain": [
       "<IPython.core.display.HTML object>"
      ]
     },
     "metadata": {},
     "output_type": "display_data"
    },
    {
     "name": "stderr",
     "output_type": "stream",
     "text": [
      "\u001b[34m\u001b[1mwandb\u001b[0m: Sweep Agent: Waiting for job.\n",
      "\u001b[34m\u001b[1mwandb\u001b[0m: Job received.\n",
      "\u001b[34m\u001b[1mwandb\u001b[0m: Agent Starting Run: btij2hdb with config:\n",
      "\u001b[34m\u001b[1mwandb\u001b[0m: \tactivation: tanh\n",
      "\u001b[34m\u001b[1mwandb\u001b[0m: \tbatch_size: 16\n",
      "\u001b[34m\u001b[1mwandb\u001b[0m: \tepochs: 10\n",
      "\u001b[34m\u001b[1mwandb\u001b[0m: \thidden_layers: 4\n",
      "\u001b[34m\u001b[1mwandb\u001b[0m: \thidden_size: 128\n",
      "\u001b[34m\u001b[1mwandb\u001b[0m: \tloss: cross_entropy\n",
      "\u001b[34m\u001b[1mwandb\u001b[0m: \tlr: 0.001\n",
      "\u001b[34m\u001b[1mwandb\u001b[0m: \toptimizer: adam\n",
      "\u001b[34m\u001b[1mwandb\u001b[0m: \tw_init: random\n",
      "\u001b[34m\u001b[1mwandb\u001b[0m: \tweight_decay: 0.0005\n"
     ]
    },
    {
     "data": {
      "text/html": [
       "Tracking run with wandb version 0.16.4"
      ],
      "text/plain": [
       "<IPython.core.display.HTML object>"
      ]
     },
     "metadata": {},
     "output_type": "display_data"
    },
    {
     "data": {
      "text/html": [
       "Run data is saved locally in <code>/Users/sumanta/Desktop/Numpy project/cross_entropy_lesspasses/wandb/run-20240317_065305-btij2hdb</code>"
      ],
      "text/plain": [
       "<IPython.core.display.HTML object>"
      ]
     },
     "metadata": {},
     "output_type": "display_data"
    },
    {
     "data": {
      "text/html": [
       "Syncing run <strong><a href='https://wandb.ai/sumanta_roy/CS6910_assignment_1/runs/btij2hdb' target=\"_blank\">comfy-sweep-58</a></strong> to <a href='https://wandb.ai/sumanta_roy/CS6910_assignment_1' target=\"_blank\">Weights & Biases</a> (<a href='https://wandb.me/run' target=\"_blank\">docs</a>)<br/>Sweep page: <a href='https://wandb.ai/sumanta_roy/CS6910_assignment_1/sweeps/ff8houdp' target=\"_blank\">https://wandb.ai/sumanta_roy/CS6910_assignment_1/sweeps/ff8houdp</a>"
      ],
      "text/plain": [
       "<IPython.core.display.HTML object>"
      ]
     },
     "metadata": {},
     "output_type": "display_data"
    },
    {
     "data": {
      "text/html": [
       " View project at <a href='https://wandb.ai/sumanta_roy/CS6910_assignment_1' target=\"_blank\">https://wandb.ai/sumanta_roy/CS6910_assignment_1</a>"
      ],
      "text/plain": [
       "<IPython.core.display.HTML object>"
      ]
     },
     "metadata": {},
     "output_type": "display_data"
    },
    {
     "data": {
      "text/html": [
       " View sweep at <a href='https://wandb.ai/sumanta_roy/CS6910_assignment_1/sweeps/ff8houdp' target=\"_blank\">https://wandb.ai/sumanta_roy/CS6910_assignment_1/sweeps/ff8houdp</a>"
      ],
      "text/plain": [
       "<IPython.core.display.HTML object>"
      ]
     },
     "metadata": {},
     "output_type": "display_data"
    },
    {
     "data": {
      "text/html": [
       " View run at <a href='https://wandb.ai/sumanta_roy/CS6910_assignment_1/runs/btij2hdb' target=\"_blank\">https://wandb.ai/sumanta_roy/CS6910_assignment_1/runs/btij2hdb</a>"
      ],
      "text/plain": [
       "<IPython.core.display.HTML object>"
      ]
     },
     "metadata": {},
     "output_type": "display_data"
    },
    {
     "name": "stdout",
     "output_type": "stream",
     "text": [
      "Epoch: 1/10; Train Loss: 0.24929766581939317; Val Loss: 0.05116806582558076\n",
      "Epoch: 2/10; Train Loss: 0.2509344263662293; Val Loss: 0.04706489856632705\n",
      "Epoch: 3/10; Train Loss: 0.223474292955788; Val Loss: 0.04456799843377673\n",
      "Epoch: 4/10; Train Loss: 0.22176354690371802; Val Loss: 0.042551261618759065\n",
      "Epoch: 5/10; Train Loss: 0.21215007261058083; Val Loss: 0.04299573687509054\n",
      "Epoch: 6/10; Train Loss: 0.20488771391643185; Val Loss: 0.042965307865105586\n",
      "Epoch: 7/10; Train Loss: 0.1996700154343118; Val Loss: 0.04241222556844435\n",
      "Epoch: 8/10; Train Loss: 0.204620602701164; Val Loss: 0.042017466473849185\n",
      "Epoch: 9/10; Train Loss: 0.1921679300213131; Val Loss: 0.0419797024519469\n",
      "Epoch: 10/10; Train Loss: 0.19261506385892263; Val Loss: 0.04169331003881572\n"
     ]
    },
    {
     "data": {
      "application/vnd.jupyter.widget-view+json": {
       "model_id": "",
       "version_major": 2,
       "version_minor": 0
      },
      "text/plain": [
       "VBox(children=(Label(value='0.001 MB of 0.001 MB uploaded\\r'), FloatProgress(value=1.0, max=1.0)))"
      ]
     },
     "metadata": {},
     "output_type": "display_data"
    },
    {
     "data": {
      "text/html": [
       "<style>\n",
       "    table.wandb td:nth-child(1) { padding: 0 10px; text-align: left ; width: auto;} td:nth-child(2) {text-align: left ; width: 100%}\n",
       "    .wandb-row { display: flex; flex-direction: row; flex-wrap: wrap; justify-content: flex-start; width: 100% }\n",
       "    .wandb-col { display: flex; flex-direction: column; flex-basis: 100%; flex: 1; padding: 10px; }\n",
       "    </style>\n",
       "<div class=\"wandb-row\"><div class=\"wandb-col\"><h3>Run history:</h3><br/><table class=\"wandb\"><tr><td>epoch</td><td>▁▁▁▁▂▂▂▂▃▃▃▃▃▃▃▃▄▄▄▄▅▅▅▅▆▆▆▆▆▆▆▆▇▇▇▇████</td></tr><tr><td>train_accuracy</td><td>▂▇▂▂▇▇▅▅▄▄▄▅▇█▅▅█▄▄▂▇▇▄█▇▇▂▂▂█▅▂█▄▁▄▇▄▅▅</td></tr><tr><td>train_loss</td><td>█▅▇▇▅▅▅▅▆▇▅▅▄▂▄▆▂▅▅▆▃▄▄▂▂▂▆▆▄▁▂▅▁▃▇▃▁▃▂▄</td></tr><tr><td>val_accuracy</td><td>▁▃▅▆▆▆▆▇▇▇▇▇▇▇▇▇▇▇▇▇███▇▇███████████████</td></tr><tr><td>validation_loss</td><td>█▆▄▃▃▃▃▂▂▂▂▂▂▂▁▂▂▁▁▁▁▁▁▁▂▁▁▁▁▁▁▁▁▁▁▁▂▁▁▂</td></tr></table><br/></div><div class=\"wandb-col\"><h3>Run summary:</h3><br/><table class=\"wandb\"><tr><td>epoch</td><td>10</td></tr><tr><td>train_accuracy</td><td>93.75</td></tr><tr><td>train_loss</td><td>0.19262</td></tr><tr><td>val_accuracy</td><td>86.76667</td></tr><tr><td>validation_loss</td><td>0.04169</td></tr></table><br/></div></div>"
      ],
      "text/plain": [
       "<IPython.core.display.HTML object>"
      ]
     },
     "metadata": {},
     "output_type": "display_data"
    },
    {
     "data": {
      "text/html": [
       " View run <strong style=\"color:#cdcd00\">comfy-sweep-58</strong> at: <a href='https://wandb.ai/sumanta_roy/CS6910_assignment_1/runs/btij2hdb' target=\"_blank\">https://wandb.ai/sumanta_roy/CS6910_assignment_1/runs/btij2hdb</a><br/>Synced 6 W&B file(s), 0 media file(s), 0 artifact file(s) and 0 other file(s)"
      ],
      "text/plain": [
       "<IPython.core.display.HTML object>"
      ]
     },
     "metadata": {},
     "output_type": "display_data"
    },
    {
     "data": {
      "text/html": [
       "Find logs at: <code>./wandb/run-20240317_065305-btij2hdb/logs</code>"
      ],
      "text/plain": [
       "<IPython.core.display.HTML object>"
      ]
     },
     "metadata": {},
     "output_type": "display_data"
    },
    {
     "name": "stderr",
     "output_type": "stream",
     "text": [
      "\u001b[34m\u001b[1mwandb\u001b[0m: Agent Starting Run: 3ojapkrp with config:\n",
      "\u001b[34m\u001b[1mwandb\u001b[0m: \tactivation: tanh\n",
      "\u001b[34m\u001b[1mwandb\u001b[0m: \tbatch_size: 32\n",
      "\u001b[34m\u001b[1mwandb\u001b[0m: \tepochs: 10\n",
      "\u001b[34m\u001b[1mwandb\u001b[0m: \thidden_layers: 4\n",
      "\u001b[34m\u001b[1mwandb\u001b[0m: \thidden_size: 128\n",
      "\u001b[34m\u001b[1mwandb\u001b[0m: \tloss: cross_entropy\n",
      "\u001b[34m\u001b[1mwandb\u001b[0m: \tlr: 0.0001\n",
      "\u001b[34m\u001b[1mwandb\u001b[0m: \toptimizer: adam\n",
      "\u001b[34m\u001b[1mwandb\u001b[0m: \tw_init: random\n",
      "\u001b[34m\u001b[1mwandb\u001b[0m: \tweight_decay: 0.0005\n"
     ]
    },
    {
     "data": {
      "text/html": [
       "Tracking run with wandb version 0.16.4"
      ],
      "text/plain": [
       "<IPython.core.display.HTML object>"
      ]
     },
     "metadata": {},
     "output_type": "display_data"
    },
    {
     "data": {
      "text/html": [
       "Run data is saved locally in <code>/Users/sumanta/Desktop/Numpy project/cross_entropy_lesspasses/wandb/run-20240317_065632-3ojapkrp</code>"
      ],
      "text/plain": [
       "<IPython.core.display.HTML object>"
      ]
     },
     "metadata": {},
     "output_type": "display_data"
    },
    {
     "data": {
      "text/html": [
       "Syncing run <strong><a href='https://wandb.ai/sumanta_roy/CS6910_assignment_1/runs/3ojapkrp' target=\"_blank\">royal-sweep-59</a></strong> to <a href='https://wandb.ai/sumanta_roy/CS6910_assignment_1' target=\"_blank\">Weights & Biases</a> (<a href='https://wandb.me/run' target=\"_blank\">docs</a>)<br/>Sweep page: <a href='https://wandb.ai/sumanta_roy/CS6910_assignment_1/sweeps/ff8houdp' target=\"_blank\">https://wandb.ai/sumanta_roy/CS6910_assignment_1/sweeps/ff8houdp</a>"
      ],
      "text/plain": [
       "<IPython.core.display.HTML object>"
      ]
     },
     "metadata": {},
     "output_type": "display_data"
    },
    {
     "data": {
      "text/html": [
       " View project at <a href='https://wandb.ai/sumanta_roy/CS6910_assignment_1' target=\"_blank\">https://wandb.ai/sumanta_roy/CS6910_assignment_1</a>"
      ],
      "text/plain": [
       "<IPython.core.display.HTML object>"
      ]
     },
     "metadata": {},
     "output_type": "display_data"
    },
    {
     "data": {
      "text/html": [
       " View sweep at <a href='https://wandb.ai/sumanta_roy/CS6910_assignment_1/sweeps/ff8houdp' target=\"_blank\">https://wandb.ai/sumanta_roy/CS6910_assignment_1/sweeps/ff8houdp</a>"
      ],
      "text/plain": [
       "<IPython.core.display.HTML object>"
      ]
     },
     "metadata": {},
     "output_type": "display_data"
    },
    {
     "data": {
      "text/html": [
       " View run at <a href='https://wandb.ai/sumanta_roy/CS6910_assignment_1/runs/3ojapkrp' target=\"_blank\">https://wandb.ai/sumanta_roy/CS6910_assignment_1/runs/3ojapkrp</a>"
      ],
      "text/plain": [
       "<IPython.core.display.HTML object>"
      ]
     },
     "metadata": {},
     "output_type": "display_data"
    },
    {
     "name": "stdout",
     "output_type": "stream",
     "text": [
      "Epoch: 1/10; Train Loss: 0.1755672832503427; Val Loss: 0.08569453117873307\n",
      "Epoch: 2/10; Train Loss: 0.16008344825300858; Val Loss: 0.07259913067987625\n",
      "Epoch: 3/10; Train Loss: 0.15141116914164773; Val Loss: 0.06593837286397558\n",
      "Epoch: 4/10; Train Loss: 0.14683948519030418; Val Loss: 0.06176487533067561\n",
      "Epoch: 5/10; Train Loss: 0.14387872440229008; Val Loss: 0.05892881148071597\n",
      "Epoch: 6/10; Train Loss: 0.1411850139488822; Val Loss: 0.056850084579451184\n",
      "Epoch: 7/10; Train Loss: 0.13882858301000245; Val Loss: 0.0552281082426252\n",
      "Epoch: 8/10; Train Loss: 0.1366796554775843; Val Loss: 0.05391868091421492\n",
      "Epoch: 9/10; Train Loss: 0.13460733364444966; Val Loss: 0.05283483158455837\n",
      "Epoch: 10/10; Train Loss: 0.13264086547444437; Val Loss: 0.051910297332553264\n"
     ]
    },
    {
     "data": {
      "application/vnd.jupyter.widget-view+json": {
       "model_id": "",
       "version_major": 2,
       "version_minor": 0
      },
      "text/plain": [
       "VBox(children=(Label(value='0.001 MB of 0.001 MB uploaded\\r'), FloatProgress(value=1.0, max=1.0)))"
      ]
     },
     "metadata": {},
     "output_type": "display_data"
    },
    {
     "data": {
      "text/html": [
       "<style>\n",
       "    table.wandb td:nth-child(1) { padding: 0 10px; text-align: left ; width: auto;} td:nth-child(2) {text-align: left ; width: 100%}\n",
       "    .wandb-row { display: flex; flex-direction: row; flex-wrap: wrap; justify-content: flex-start; width: 100% }\n",
       "    .wandb-col { display: flex; flex-direction: column; flex-basis: 100%; flex: 1; padding: 10px; }\n",
       "    </style>\n",
       "<div class=\"wandb-row\"><div class=\"wandb-col\"><h3>Run history:</h3><br/><table class=\"wandb\"><tr><td>epoch</td><td>▁▁▁▁▂▂▂▂▃▃▃▃▃▃▃▃▄▄▄▄▅▅▅▅▆▆▆▆▆▆▆▆▇▇▇▇████</td></tr><tr><td>train_accuracy</td><td>▁▄▅▄▅▄▆▄▄▆▅▅▆▄▅▅▆▅▅▄▇▅▅▇▅▆▄▅▇█▅▅▇▇▆▇█▇██</td></tr><tr><td>train_loss</td><td>█▅▄▄▂▄▃▃▃▃▃▃▃▂▃▃▂▅▃▄▃▃▂▂▃▃▄▃▂▁▂▂▂▂▃▂▁▃▂▁</td></tr><tr><td>val_accuracy</td><td>▁▄▅▅▆▆▆▆▇▇▇▇▇▇▇▇▇▇▇█▇███████████████████</td></tr><tr><td>validation_loss</td><td>█▅▄▃▃▃▃▂▂▂▂▂▂▂▂▂▂▂▁▁▁▁▁▁▁▁▁▁▁▁▁▁▁▁▁▁▁▁▁▁</td></tr></table><br/></div><div class=\"wandb-col\"><h3>Run summary:</h3><br/><table class=\"wandb\"><tr><td>epoch</td><td>10</td></tr><tr><td>train_accuracy</td><td>81.25</td></tr><tr><td>train_loss</td><td>0.13264</td></tr><tr><td>val_accuracy</td><td>81.61667</td></tr><tr><td>validation_loss</td><td>0.05191</td></tr></table><br/></div></div>"
      ],
      "text/plain": [
       "<IPython.core.display.HTML object>"
      ]
     },
     "metadata": {},
     "output_type": "display_data"
    },
    {
     "data": {
      "text/html": [
       " View run <strong style=\"color:#cdcd00\">royal-sweep-59</strong> at: <a href='https://wandb.ai/sumanta_roy/CS6910_assignment_1/runs/3ojapkrp' target=\"_blank\">https://wandb.ai/sumanta_roy/CS6910_assignment_1/runs/3ojapkrp</a><br/>Synced 6 W&B file(s), 0 media file(s), 0 artifact file(s) and 0 other file(s)"
      ],
      "text/plain": [
       "<IPython.core.display.HTML object>"
      ]
     },
     "metadata": {},
     "output_type": "display_data"
    },
    {
     "data": {
      "text/html": [
       "Find logs at: <code>./wandb/run-20240317_065632-3ojapkrp/logs</code>"
      ],
      "text/plain": [
       "<IPython.core.display.HTML object>"
      ]
     },
     "metadata": {},
     "output_type": "display_data"
    },
    {
     "name": "stderr",
     "output_type": "stream",
     "text": [
      "\u001b[34m\u001b[1mwandb\u001b[0m: Sweep Agent: Waiting for job.\n",
      "\u001b[34m\u001b[1mwandb\u001b[0m: Job received.\n",
      "\u001b[34m\u001b[1mwandb\u001b[0m: Agent Starting Run: y4avkio6 with config:\n",
      "\u001b[34m\u001b[1mwandb\u001b[0m: \tactivation: tanh\n",
      "\u001b[34m\u001b[1mwandb\u001b[0m: \tbatch_size: 16\n",
      "\u001b[34m\u001b[1mwandb\u001b[0m: \tepochs: 10\n",
      "\u001b[34m\u001b[1mwandb\u001b[0m: \thidden_layers: 4\n",
      "\u001b[34m\u001b[1mwandb\u001b[0m: \thidden_size: 128\n",
      "\u001b[34m\u001b[1mwandb\u001b[0m: \tloss: cross_entropy\n",
      "\u001b[34m\u001b[1mwandb\u001b[0m: \tlr: 0.001\n",
      "\u001b[34m\u001b[1mwandb\u001b[0m: \toptimizer: nadam\n",
      "\u001b[34m\u001b[1mwandb\u001b[0m: \tw_init: random\n",
      "\u001b[34m\u001b[1mwandb\u001b[0m: \tweight_decay: 0.0005\n"
     ]
    },
    {
     "data": {
      "text/html": [
       "Tracking run with wandb version 0.16.4"
      ],
      "text/plain": [
       "<IPython.core.display.HTML object>"
      ]
     },
     "metadata": {},
     "output_type": "display_data"
    },
    {
     "data": {
      "text/html": [
       "Run data is saved locally in <code>/Users/sumanta/Desktop/Numpy project/cross_entropy_lesspasses/wandb/run-20240317_065921-y4avkio6</code>"
      ],
      "text/plain": [
       "<IPython.core.display.HTML object>"
      ]
     },
     "metadata": {},
     "output_type": "display_data"
    },
    {
     "data": {
      "text/html": [
       "Syncing run <strong><a href='https://wandb.ai/sumanta_roy/CS6910_assignment_1/runs/y4avkio6' target=\"_blank\">fast-sweep-60</a></strong> to <a href='https://wandb.ai/sumanta_roy/CS6910_assignment_1' target=\"_blank\">Weights & Biases</a> (<a href='https://wandb.me/run' target=\"_blank\">docs</a>)<br/>Sweep page: <a href='https://wandb.ai/sumanta_roy/CS6910_assignment_1/sweeps/ff8houdp' target=\"_blank\">https://wandb.ai/sumanta_roy/CS6910_assignment_1/sweeps/ff8houdp</a>"
      ],
      "text/plain": [
       "<IPython.core.display.HTML object>"
      ]
     },
     "metadata": {},
     "output_type": "display_data"
    },
    {
     "data": {
      "text/html": [
       " View project at <a href='https://wandb.ai/sumanta_roy/CS6910_assignment_1' target=\"_blank\">https://wandb.ai/sumanta_roy/CS6910_assignment_1</a>"
      ],
      "text/plain": [
       "<IPython.core.display.HTML object>"
      ]
     },
     "metadata": {},
     "output_type": "display_data"
    },
    {
     "data": {
      "text/html": [
       " View sweep at <a href='https://wandb.ai/sumanta_roy/CS6910_assignment_1/sweeps/ff8houdp' target=\"_blank\">https://wandb.ai/sumanta_roy/CS6910_assignment_1/sweeps/ff8houdp</a>"
      ],
      "text/plain": [
       "<IPython.core.display.HTML object>"
      ]
     },
     "metadata": {},
     "output_type": "display_data"
    },
    {
     "data": {
      "text/html": [
       " View run at <a href='https://wandb.ai/sumanta_roy/CS6910_assignment_1/runs/y4avkio6' target=\"_blank\">https://wandb.ai/sumanta_roy/CS6910_assignment_1/runs/y4avkio6</a>"
      ],
      "text/plain": [
       "<IPython.core.display.HTML object>"
      ]
     },
     "metadata": {},
     "output_type": "display_data"
    },
    {
     "name": "stdout",
     "output_type": "stream",
     "text": [
      "Epoch: 1/10; Train Loss: 0.24634744685685256; Val Loss: 0.0673105491138713\n",
      "Epoch: 2/10; Train Loss: 0.23347714479854345; Val Loss: 0.05849471778357452\n",
      "Epoch: 3/10; Train Loss: 0.2306273677219814; Val Loss: 0.054515702351986765\n",
      "Epoch: 4/10; Train Loss: 0.22928079115498404; Val Loss: 0.05187894934857998\n",
      "Epoch: 5/10; Train Loss: 0.22670960009608537; Val Loss: 0.050039778483069695\n",
      "Epoch: 6/10; Train Loss: 0.22365626182324658; Val Loss: 0.048666617341824085\n",
      "Epoch: 7/10; Train Loss: 0.22062106973997045; Val Loss: 0.04762594727328342\n",
      "Epoch: 8/10; Train Loss: 0.21782194497815532; Val Loss: 0.04683212527234594\n",
      "Epoch: 9/10; Train Loss: 0.21510047876517863; Val Loss: 0.04621274207576212\n",
      "Epoch: 10/10; Train Loss: 0.21228492449740852; Val Loss: 0.04571193350671619\n"
     ]
    },
    {
     "data": {
      "application/vnd.jupyter.widget-view+json": {
       "model_id": "",
       "version_major": 2,
       "version_minor": 0
      },
      "text/plain": [
       "VBox(children=(Label(value='0.001 MB of 0.001 MB uploaded\\r'), FloatProgress(value=1.0, max=1.0)))"
      ]
     },
     "metadata": {},
     "output_type": "display_data"
    },
    {
     "data": {
      "text/html": [
       "<style>\n",
       "    table.wandb td:nth-child(1) { padding: 0 10px; text-align: left ; width: auto;} td:nth-child(2) {text-align: left ; width: 100%}\n",
       "    .wandb-row { display: flex; flex-direction: row; flex-wrap: wrap; justify-content: flex-start; width: 100% }\n",
       "    .wandb-col { display: flex; flex-direction: column; flex-basis: 100%; flex: 1; padding: 10px; }\n",
       "    </style>\n",
       "<div class=\"wandb-row\"><div class=\"wandb-col\"><h3>Run history:</h3><br/><table class=\"wandb\"><tr><td>epoch</td><td>▁▁▁▁▂▂▂▂▃▃▃▃▃▃▃▃▄▄▄▄▅▅▅▅▆▆▆▆▆▆▆▆▇▇▇▇████</td></tr><tr><td>train_accuracy</td><td>▁▄▅▆▅▄▆▆▅▄▅▄▄█▅▄▅▃▅▄▅▆▆▆▅█▄▄▄█▆▅▇▆▃▄▇▅█▇</td></tr><tr><td>train_loss</td><td>█▃▃▃▄▄▃▄▄▅▃▃▄▁▃▄▃▄▄▅▄▄▂▂▂▁▄▄▃▁▃▃▁▂▅▃▁▃▁▂</td></tr><tr><td>val_accuracy</td><td>▁▄▅▅▆▆▆▇▇▇▇▇▇▇▇▇█▇▇▇████████████████████</td></tr><tr><td>validation_loss</td><td>█▅▄▃▃▃▂▂▂▂▂▂▂▂▂▂▂▁▁▁▁▁▁▁▁▁▁▁▁▁▁▁▁▁▁▁▁▁▁▁</td></tr></table><br/></div><div class=\"wandb-col\"><h3>Run summary:</h3><br/><table class=\"wandb\"><tr><td>epoch</td><td>10</td></tr><tr><td>train_accuracy</td><td>93.75</td></tr><tr><td>train_loss</td><td>0.21228</td></tr><tr><td>val_accuracy</td><td>84.16667</td></tr><tr><td>validation_loss</td><td>0.04571</td></tr></table><br/></div></div>"
      ],
      "text/plain": [
       "<IPython.core.display.HTML object>"
      ]
     },
     "metadata": {},
     "output_type": "display_data"
    },
    {
     "data": {
      "text/html": [
       " View run <strong style=\"color:#cdcd00\">fast-sweep-60</strong> at: <a href='https://wandb.ai/sumanta_roy/CS6910_assignment_1/runs/y4avkio6' target=\"_blank\">https://wandb.ai/sumanta_roy/CS6910_assignment_1/runs/y4avkio6</a><br/>Synced 6 W&B file(s), 0 media file(s), 0 artifact file(s) and 0 other file(s)"
      ],
      "text/plain": [
       "<IPython.core.display.HTML object>"
      ]
     },
     "metadata": {},
     "output_type": "display_data"
    },
    {
     "data": {
      "text/html": [
       "Find logs at: <code>./wandb/run-20240317_065921-y4avkio6/logs</code>"
      ],
      "text/plain": [
       "<IPython.core.display.HTML object>"
      ]
     },
     "metadata": {},
     "output_type": "display_data"
    },
    {
     "name": "stderr",
     "output_type": "stream",
     "text": [
      "\u001b[34m\u001b[1mwandb\u001b[0m: Agent Starting Run: rzuku8na with config:\n",
      "\u001b[34m\u001b[1mwandb\u001b[0m: \tactivation: tanh\n",
      "\u001b[34m\u001b[1mwandb\u001b[0m: \tbatch_size: 16\n",
      "\u001b[34m\u001b[1mwandb\u001b[0m: \tepochs: 10\n",
      "\u001b[34m\u001b[1mwandb\u001b[0m: \thidden_layers: 5\n",
      "\u001b[34m\u001b[1mwandb\u001b[0m: \thidden_size: 128\n",
      "\u001b[34m\u001b[1mwandb\u001b[0m: \tloss: cross_entropy\n",
      "\u001b[34m\u001b[1mwandb\u001b[0m: \tlr: 0.0001\n",
      "\u001b[34m\u001b[1mwandb\u001b[0m: \toptimizer: rmsprop\n",
      "\u001b[34m\u001b[1mwandb\u001b[0m: \tw_init: random\n",
      "\u001b[34m\u001b[1mwandb\u001b[0m: \tweight_decay: 0.0005\n"
     ]
    },
    {
     "data": {
      "text/html": [
       "Tracking run with wandb version 0.16.4"
      ],
      "text/plain": [
       "<IPython.core.display.HTML object>"
      ]
     },
     "metadata": {},
     "output_type": "display_data"
    },
    {
     "data": {
      "text/html": [
       "Run data is saved locally in <code>/Users/sumanta/Desktop/Numpy project/cross_entropy_lesspasses/wandb/run-20240317_070315-rzuku8na</code>"
      ],
      "text/plain": [
       "<IPython.core.display.HTML object>"
      ]
     },
     "metadata": {},
     "output_type": "display_data"
    },
    {
     "data": {
      "text/html": [
       "Syncing run <strong><a href='https://wandb.ai/sumanta_roy/CS6910_assignment_1/runs/rzuku8na' target=\"_blank\">ancient-sweep-61</a></strong> to <a href='https://wandb.ai/sumanta_roy/CS6910_assignment_1' target=\"_blank\">Weights & Biases</a> (<a href='https://wandb.me/run' target=\"_blank\">docs</a>)<br/>Sweep page: <a href='https://wandb.ai/sumanta_roy/CS6910_assignment_1/sweeps/ff8houdp' target=\"_blank\">https://wandb.ai/sumanta_roy/CS6910_assignment_1/sweeps/ff8houdp</a>"
      ],
      "text/plain": [
       "<IPython.core.display.HTML object>"
      ]
     },
     "metadata": {},
     "output_type": "display_data"
    },
    {
     "data": {
      "text/html": [
       " View project at <a href='https://wandb.ai/sumanta_roy/CS6910_assignment_1' target=\"_blank\">https://wandb.ai/sumanta_roy/CS6910_assignment_1</a>"
      ],
      "text/plain": [
       "<IPython.core.display.HTML object>"
      ]
     },
     "metadata": {},
     "output_type": "display_data"
    },
    {
     "data": {
      "text/html": [
       " View sweep at <a href='https://wandb.ai/sumanta_roy/CS6910_assignment_1/sweeps/ff8houdp' target=\"_blank\">https://wandb.ai/sumanta_roy/CS6910_assignment_1/sweeps/ff8houdp</a>"
      ],
      "text/plain": [
       "<IPython.core.display.HTML object>"
      ]
     },
     "metadata": {},
     "output_type": "display_data"
    },
    {
     "data": {
      "text/html": [
       " View run at <a href='https://wandb.ai/sumanta_roy/CS6910_assignment_1/runs/rzuku8na' target=\"_blank\">https://wandb.ai/sumanta_roy/CS6910_assignment_1/runs/rzuku8na</a>"
      ],
      "text/plain": [
       "<IPython.core.display.HTML object>"
      ]
     },
     "metadata": {},
     "output_type": "display_data"
    },
    {
     "name": "stdout",
     "output_type": "stream",
     "text": [
      "Epoch: 1/10; Train Loss: 0.2697036552786939; Val Loss: 0.07311044166126418\n",
      "Epoch: 2/10; Train Loss: 0.2610285060930425; Val Loss: 0.06172402835124203\n",
      "Epoch: 3/10; Train Loss: 0.2624227076251548; Val Loss: 0.05717586147971719\n",
      "Epoch: 4/10; Train Loss: 0.2604831069179296; Val Loss: 0.05448691872350403\n",
      "Epoch: 5/10; Train Loss: 0.2566777434589849; Val Loss: 0.05306770616831461\n",
      "Epoch: 6/10; Train Loss: 0.25366588672785384; Val Loss: 0.05207157799980491\n",
      "Epoch: 7/10; Train Loss: 0.24995525996366547; Val Loss: 0.051154889712292005\n",
      "Epoch: 8/10; Train Loss: 0.24694619152546776; Val Loss: 0.050369185498876215\n",
      "Epoch: 9/10; Train Loss: 0.24450934437096677; Val Loss: 0.04971555391587514\n",
      "Epoch: 10/10; Train Loss: 0.24214783956538385; Val Loss: 0.049191234522058494\n"
     ]
    },
    {
     "data": {
      "application/vnd.jupyter.widget-view+json": {
       "model_id": "",
       "version_major": 2,
       "version_minor": 0
      },
      "text/plain": [
       "VBox(children=(Label(value='0.001 MB of 0.001 MB uploaded\\r'), FloatProgress(value=1.0, max=1.0)))"
      ]
     },
     "metadata": {},
     "output_type": "display_data"
    },
    {
     "data": {
      "text/html": [
       "<style>\n",
       "    table.wandb td:nth-child(1) { padding: 0 10px; text-align: left ; width: auto;} td:nth-child(2) {text-align: left ; width: 100%}\n",
       "    .wandb-row { display: flex; flex-direction: row; flex-wrap: wrap; justify-content: flex-start; width: 100% }\n",
       "    .wandb-col { display: flex; flex-direction: column; flex-basis: 100%; flex: 1; padding: 10px; }\n",
       "    </style>\n",
       "<div class=\"wandb-row\"><div class=\"wandb-col\"><h3>Run history:</h3><br/><table class=\"wandb\"><tr><td>epoch</td><td>▁▁▁▁▂▂▂▂▃▃▃▃▃▃▃▃▄▄▄▄▅▅▅▅▆▆▆▆▆▆▆▆▇▇▇▇████</td></tr><tr><td>train_accuracy</td><td>▁▃▆▆▆▆▇▄▄▆▅█▆▆▆▆▇▆▆▅▅▅▆▇█▆▄▅▅▇▆▆▆▆▅▄▇▅▆▇</td></tr><tr><td>train_loss</td><td>█▄▃▃▂▃▂▃▄▃▃▁▃▂▃▄▂▃▃▅▃▄▃▁▁▂▅▃▃▁▂▃▂▂▄▃▁▂▂▂</td></tr><tr><td>val_accuracy</td><td>▁▄▆▆▆▇▇▇▇▇▇▇▇▇▇██▇██████████████████████</td></tr><tr><td>validation_loss</td><td>█▄▃▃▂▂▂▂▂▂▂▁▁▁▁▁▁▁▁▁▁▁▁▁▁▁▁▁▁▁▁▁▁▁▁▁▁▁▁▁</td></tr></table><br/></div><div class=\"wandb-col\"><h3>Run summary:</h3><br/><table class=\"wandb\"><tr><td>epoch</td><td>10</td></tr><tr><td>train_accuracy</td><td>87.5</td></tr><tr><td>train_loss</td><td>0.24215</td></tr><tr><td>val_accuracy</td><td>82.7</td></tr><tr><td>validation_loss</td><td>0.04919</td></tr></table><br/></div></div>"
      ],
      "text/plain": [
       "<IPython.core.display.HTML object>"
      ]
     },
     "metadata": {},
     "output_type": "display_data"
    },
    {
     "data": {
      "text/html": [
       " View run <strong style=\"color:#cdcd00\">ancient-sweep-61</strong> at: <a href='https://wandb.ai/sumanta_roy/CS6910_assignment_1/runs/rzuku8na' target=\"_blank\">https://wandb.ai/sumanta_roy/CS6910_assignment_1/runs/rzuku8na</a><br/>Synced 6 W&B file(s), 0 media file(s), 0 artifact file(s) and 0 other file(s)"
      ],
      "text/plain": [
       "<IPython.core.display.HTML object>"
      ]
     },
     "metadata": {},
     "output_type": "display_data"
    },
    {
     "data": {
      "text/html": [
       "Find logs at: <code>./wandb/run-20240317_070315-rzuku8na/logs</code>"
      ],
      "text/plain": [
       "<IPython.core.display.HTML object>"
      ]
     },
     "metadata": {},
     "output_type": "display_data"
    },
    {
     "name": "stderr",
     "output_type": "stream",
     "text": [
      "\u001b[34m\u001b[1mwandb\u001b[0m: Agent Starting Run: s0m9ns7b with config:\n",
      "\u001b[34m\u001b[1mwandb\u001b[0m: \tactivation: tanh\n",
      "\u001b[34m\u001b[1mwandb\u001b[0m: \tbatch_size: 16\n",
      "\u001b[34m\u001b[1mwandb\u001b[0m: \tepochs: 10\n",
      "\u001b[34m\u001b[1mwandb\u001b[0m: \thidden_layers: 5\n",
      "\u001b[34m\u001b[1mwandb\u001b[0m: \thidden_size: 64\n",
      "\u001b[34m\u001b[1mwandb\u001b[0m: \tloss: cross_entropy\n",
      "\u001b[34m\u001b[1mwandb\u001b[0m: \tlr: 0.0001\n",
      "\u001b[34m\u001b[1mwandb\u001b[0m: \toptimizer: rmsprop\n",
      "\u001b[34m\u001b[1mwandb\u001b[0m: \tw_init: glorot\n",
      "\u001b[34m\u001b[1mwandb\u001b[0m: \tweight_decay: 0.0005\n"
     ]
    },
    {
     "data": {
      "text/html": [
       "Tracking run with wandb version 0.16.4"
      ],
      "text/plain": [
       "<IPython.core.display.HTML object>"
      ]
     },
     "metadata": {},
     "output_type": "display_data"
    },
    {
     "data": {
      "text/html": [
       "Run data is saved locally in <code>/Users/sumanta/Desktop/Numpy project/cross_entropy_lesspasses/wandb/run-20240317_070633-s0m9ns7b</code>"
      ],
      "text/plain": [
       "<IPython.core.display.HTML object>"
      ]
     },
     "metadata": {},
     "output_type": "display_data"
    },
    {
     "data": {
      "text/html": [
       "Syncing run <strong><a href='https://wandb.ai/sumanta_roy/CS6910_assignment_1/runs/s0m9ns7b' target=\"_blank\">hardy-sweep-62</a></strong> to <a href='https://wandb.ai/sumanta_roy/CS6910_assignment_1' target=\"_blank\">Weights & Biases</a> (<a href='https://wandb.me/run' target=\"_blank\">docs</a>)<br/>Sweep page: <a href='https://wandb.ai/sumanta_roy/CS6910_assignment_1/sweeps/ff8houdp' target=\"_blank\">https://wandb.ai/sumanta_roy/CS6910_assignment_1/sweeps/ff8houdp</a>"
      ],
      "text/plain": [
       "<IPython.core.display.HTML object>"
      ]
     },
     "metadata": {},
     "output_type": "display_data"
    },
    {
     "data": {
      "text/html": [
       " View project at <a href='https://wandb.ai/sumanta_roy/CS6910_assignment_1' target=\"_blank\">https://wandb.ai/sumanta_roy/CS6910_assignment_1</a>"
      ],
      "text/plain": [
       "<IPython.core.display.HTML object>"
      ]
     },
     "metadata": {},
     "output_type": "display_data"
    },
    {
     "data": {
      "text/html": [
       " View sweep at <a href='https://wandb.ai/sumanta_roy/CS6910_assignment_1/sweeps/ff8houdp' target=\"_blank\">https://wandb.ai/sumanta_roy/CS6910_assignment_1/sweeps/ff8houdp</a>"
      ],
      "text/plain": [
       "<IPython.core.display.HTML object>"
      ]
     },
     "metadata": {},
     "output_type": "display_data"
    },
    {
     "data": {
      "text/html": [
       " View run at <a href='https://wandb.ai/sumanta_roy/CS6910_assignment_1/runs/s0m9ns7b' target=\"_blank\">https://wandb.ai/sumanta_roy/CS6910_assignment_1/runs/s0m9ns7b</a>"
      ],
      "text/plain": [
       "<IPython.core.display.HTML object>"
      ]
     },
     "metadata": {},
     "output_type": "display_data"
    },
    {
     "name": "stdout",
     "output_type": "stream",
     "text": [
      "Epoch: 1/10; Train Loss: 0.03879206306031214; Val Loss: 0.047270024447983894\n",
      "Epoch: 2/10; Train Loss: 0.037649747179235825; Val Loss: 0.04190635947928343\n",
      "Epoch: 3/10; Train Loss: 0.03632339111865153; Val Loss: 0.039283495460747254\n",
      "Epoch: 4/10; Train Loss: 0.035349541187595604; Val Loss: 0.03767055658757331\n",
      "Epoch: 5/10; Train Loss: 0.03465964546606504; Val Loss: 0.03655483491675513\n",
      "Epoch: 6/10; Train Loss: 0.03415413207575181; Val Loss: 0.03570139962442049\n",
      "Epoch: 7/10; Train Loss: 0.03379409599058678; Val Loss: 0.035006537678702966\n",
      "Epoch: 8/10; Train Loss: 0.033546800202528426; Val Loss: 0.03442473348786111\n",
      "Epoch: 9/10; Train Loss: 0.033390094974885855; Val Loss: 0.03393281352834595\n",
      "Epoch: 10/10; Train Loss: 0.033306096020092796; Val Loss: 0.033513506898434936\n"
     ]
    },
    {
     "data": {
      "application/vnd.jupyter.widget-view+json": {
       "model_id": "",
       "version_major": 2,
       "version_minor": 0
      },
      "text/plain": [
       "VBox(children=(Label(value='0.001 MB of 0.001 MB uploaded\\r'), FloatProgress(value=1.0, max=1.0)))"
      ]
     },
     "metadata": {},
     "output_type": "display_data"
    },
    {
     "data": {
      "text/html": [
       "<style>\n",
       "    table.wandb td:nth-child(1) { padding: 0 10px; text-align: left ; width: auto;} td:nth-child(2) {text-align: left ; width: 100%}\n",
       "    .wandb-row { display: flex; flex-direction: row; flex-wrap: wrap; justify-content: flex-start; width: 100% }\n",
       "    .wandb-col { display: flex; flex-direction: column; flex-basis: 100%; flex: 1; padding: 10px; }\n",
       "    </style>\n",
       "<div class=\"wandb-row\"><div class=\"wandb-col\"><h3>Run history:</h3><br/><table class=\"wandb\"><tr><td>epoch</td><td>▁▁▁▁▂▂▂▂▃▃▃▃▃▃▃▃▄▄▄▄▅▅▅▅▆▆▆▆▆▆▆▆▇▇▇▇████</td></tr><tr><td>train_accuracy</td><td>▁▆▇▆▇▅█▇▃▃▃▇▇██▅▇▂▇▃▆▅▆█▇█▃▅▅█▅▅▇▆▃▅▇▆▇▆</td></tr><tr><td>train_loss</td><td>█▃▃▃▂▃▂▃▆▄▃▂▃▁▂▅▂▅▃▅▃▅▃▁▂▁▄▅▄▂▂▄▂▃▆▄▁▃▂▃</td></tr><tr><td>val_accuracy</td><td>▁▄▆▆▆▇▇▇▇▇▇▇▇▇▇███▇▇████████████▇███████</td></tr><tr><td>validation_loss</td><td>█▄▃▂▂▂▂▂▂▂▂▂▂▂▁▁▁▁▁▁▁▁▁▁▁▁▁▁▁▁▁▁▁▁▁▁▁▁▁▁</td></tr></table><br/></div><div class=\"wandb-col\"><h3>Run summary:</h3><br/><table class=\"wandb\"><tr><td>epoch</td><td>10</td></tr><tr><td>train_accuracy</td><td>93.75</td></tr><tr><td>train_loss</td><td>0.03331</td></tr><tr><td>val_accuracy</td><td>87.88333</td></tr><tr><td>validation_loss</td><td>0.03351</td></tr></table><br/></div></div>"
      ],
      "text/plain": [
       "<IPython.core.display.HTML object>"
      ]
     },
     "metadata": {},
     "output_type": "display_data"
    },
    {
     "data": {
      "text/html": [
       " View run <strong style=\"color:#cdcd00\">hardy-sweep-62</strong> at: <a href='https://wandb.ai/sumanta_roy/CS6910_assignment_1/runs/s0m9ns7b' target=\"_blank\">https://wandb.ai/sumanta_roy/CS6910_assignment_1/runs/s0m9ns7b</a><br/>Synced 6 W&B file(s), 0 media file(s), 0 artifact file(s) and 0 other file(s)"
      ],
      "text/plain": [
       "<IPython.core.display.HTML object>"
      ]
     },
     "metadata": {},
     "output_type": "display_data"
    },
    {
     "data": {
      "text/html": [
       "Find logs at: <code>./wandb/run-20240317_070633-s0m9ns7b/logs</code>"
      ],
      "text/plain": [
       "<IPython.core.display.HTML object>"
      ]
     },
     "metadata": {},
     "output_type": "display_data"
    },
    {
     "name": "stderr",
     "output_type": "stream",
     "text": [
      "\u001b[34m\u001b[1mwandb\u001b[0m: Agent Starting Run: ppzow5yl with config:\n",
      "\u001b[34m\u001b[1mwandb\u001b[0m: \tactivation: tanh\n",
      "\u001b[34m\u001b[1mwandb\u001b[0m: \tbatch_size: 16\n",
      "\u001b[34m\u001b[1mwandb\u001b[0m: \tepochs: 10\n",
      "\u001b[34m\u001b[1mwandb\u001b[0m: \thidden_layers: 4\n",
      "\u001b[34m\u001b[1mwandb\u001b[0m: \thidden_size: 128\n",
      "\u001b[34m\u001b[1mwandb\u001b[0m: \tloss: cross_entropy\n",
      "\u001b[34m\u001b[1mwandb\u001b[0m: \tlr: 0.001\n",
      "\u001b[34m\u001b[1mwandb\u001b[0m: \toptimizer: adam\n",
      "\u001b[34m\u001b[1mwandb\u001b[0m: \tw_init: random\n",
      "\u001b[34m\u001b[1mwandb\u001b[0m: \tweight_decay: 0.0005\n"
     ]
    },
    {
     "data": {
      "text/html": [
       "Tracking run with wandb version 0.16.4"
      ],
      "text/plain": [
       "<IPython.core.display.HTML object>"
      ]
     },
     "metadata": {},
     "output_type": "display_data"
    },
    {
     "data": {
      "text/html": [
       "Run data is saved locally in <code>/Users/sumanta/Desktop/Numpy project/cross_entropy_lesspasses/wandb/run-20240317_070818-ppzow5yl</code>"
      ],
      "text/plain": [
       "<IPython.core.display.HTML object>"
      ]
     },
     "metadata": {},
     "output_type": "display_data"
    },
    {
     "data": {
      "text/html": [
       "Syncing run <strong><a href='https://wandb.ai/sumanta_roy/CS6910_assignment_1/runs/ppzow5yl' target=\"_blank\">polar-sweep-63</a></strong> to <a href='https://wandb.ai/sumanta_roy/CS6910_assignment_1' target=\"_blank\">Weights & Biases</a> (<a href='https://wandb.me/run' target=\"_blank\">docs</a>)<br/>Sweep page: <a href='https://wandb.ai/sumanta_roy/CS6910_assignment_1/sweeps/ff8houdp' target=\"_blank\">https://wandb.ai/sumanta_roy/CS6910_assignment_1/sweeps/ff8houdp</a>"
      ],
      "text/plain": [
       "<IPython.core.display.HTML object>"
      ]
     },
     "metadata": {},
     "output_type": "display_data"
    },
    {
     "data": {
      "text/html": [
       " View project at <a href='https://wandb.ai/sumanta_roy/CS6910_assignment_1' target=\"_blank\">https://wandb.ai/sumanta_roy/CS6910_assignment_1</a>"
      ],
      "text/plain": [
       "<IPython.core.display.HTML object>"
      ]
     },
     "metadata": {},
     "output_type": "display_data"
    },
    {
     "data": {
      "text/html": [
       " View sweep at <a href='https://wandb.ai/sumanta_roy/CS6910_assignment_1/sweeps/ff8houdp' target=\"_blank\">https://wandb.ai/sumanta_roy/CS6910_assignment_1/sweeps/ff8houdp</a>"
      ],
      "text/plain": [
       "<IPython.core.display.HTML object>"
      ]
     },
     "metadata": {},
     "output_type": "display_data"
    },
    {
     "data": {
      "text/html": [
       " View run at <a href='https://wandb.ai/sumanta_roy/CS6910_assignment_1/runs/ppzow5yl' target=\"_blank\">https://wandb.ai/sumanta_roy/CS6910_assignment_1/runs/ppzow5yl</a>"
      ],
      "text/plain": [
       "<IPython.core.display.HTML object>"
      ]
     },
     "metadata": {},
     "output_type": "display_data"
    },
    {
     "name": "stdout",
     "output_type": "stream",
     "text": [
      "Epoch: 1/10; Train Loss: 0.21945609885651382; Val Loss: 0.050220932447886314\n",
      "Epoch: 2/10; Train Loss: 0.21543401305843068; Val Loss: 0.04520785272462013\n",
      "Epoch: 3/10; Train Loss: 0.20247530588200024; Val Loss: 0.04332635800061054\n",
      "Epoch: 4/10; Train Loss: 0.20118502135051008; Val Loss: 0.04097319145507533\n",
      "Epoch: 5/10; Train Loss: 0.19444408243059771; Val Loss: 0.03992254243836105\n",
      "Epoch: 6/10; Train Loss: 0.19136043113357046; Val Loss: 0.039507814846187705\n",
      "Epoch: 7/10; Train Loss: 0.18301902248284893; Val Loss: 0.0388323797678226\n",
      "Epoch: 8/10; Train Loss: 0.17635638162225403; Val Loss: 0.03995479339482653\n",
      "Epoch: 9/10; Train Loss: 0.17748176791822098; Val Loss: 0.03926609828703132\n",
      "Epoch: 10/10; Train Loss: 0.17550888730261255; Val Loss: 0.03912561886674916\n"
     ]
    },
    {
     "data": {
      "application/vnd.jupyter.widget-view+json": {
       "model_id": "",
       "version_major": 2,
       "version_minor": 0
      },
      "text/plain": [
       "VBox(children=(Label(value='0.001 MB of 0.001 MB uploaded\\r'), FloatProgress(value=1.0, max=1.0)))"
      ]
     },
     "metadata": {},
     "output_type": "display_data"
    },
    {
     "data": {
      "text/html": [
       "<style>\n",
       "    table.wandb td:nth-child(1) { padding: 0 10px; text-align: left ; width: auto;} td:nth-child(2) {text-align: left ; width: 100%}\n",
       "    .wandb-row { display: flex; flex-direction: row; flex-wrap: wrap; justify-content: flex-start; width: 100% }\n",
       "    .wandb-col { display: flex; flex-direction: column; flex-basis: 100%; flex: 1; padding: 10px; }\n",
       "    </style>\n",
       "<div class=\"wandb-row\"><div class=\"wandb-col\"><h3>Run history:</h3><br/><table class=\"wandb\"><tr><td>epoch</td><td>▁▁▁▁▂▂▂▂▃▃▃▃▃▃▃▃▄▄▄▄▅▅▅▅▆▆▆▆▆▆▆▆▇▇▇▇████</td></tr><tr><td>train_accuracy</td><td>▇▁▅▇▇▅▆▆▅▃▅█▇▇▆▅▆▅▆▅▆▆▇▇▆▇▂▆▆▇▆▅█▆▃▆▇▅▇▆</td></tr><tr><td>train_loss</td><td>▆█▇▅▄▆▅▄▆▅▅▄▄▃▅▆▃▅▅▆▄▅▃▂▃▂▅▅▃▂▂▃▁▂█▃▁▃▁▁</td></tr><tr><td>val_accuracy</td><td>▁▃▅▅▆▆▆▆▇▇▇▇▇▇▇▇█▇▇██▇██▇█▇█████▇███▇███</td></tr><tr><td>validation_loss</td><td>█▆▄▃▃▃▃▂▂▂▂▂▁▂▁▂▁▁▂▁▁▁▁▁▂▁▁▁▁▁▁▁▁▁▁▁▂▁▁▁</td></tr></table><br/></div><div class=\"wandb-col\"><h3>Run summary:</h3><br/><table class=\"wandb\"><tr><td>epoch</td><td>10</td></tr><tr><td>train_accuracy</td><td>93.75</td></tr><tr><td>train_loss</td><td>0.17551</td></tr><tr><td>val_accuracy</td><td>86.48333</td></tr><tr><td>validation_loss</td><td>0.03913</td></tr></table><br/></div></div>"
      ],
      "text/plain": [
       "<IPython.core.display.HTML object>"
      ]
     },
     "metadata": {},
     "output_type": "display_data"
    },
    {
     "data": {
      "text/html": [
       " View run <strong style=\"color:#cdcd00\">polar-sweep-63</strong> at: <a href='https://wandb.ai/sumanta_roy/CS6910_assignment_1/runs/ppzow5yl' target=\"_blank\">https://wandb.ai/sumanta_roy/CS6910_assignment_1/runs/ppzow5yl</a><br/>Synced 6 W&B file(s), 0 media file(s), 0 artifact file(s) and 0 other file(s)"
      ],
      "text/plain": [
       "<IPython.core.display.HTML object>"
      ]
     },
     "metadata": {},
     "output_type": "display_data"
    },
    {
     "data": {
      "text/html": [
       "Find logs at: <code>./wandb/run-20240317_070818-ppzow5yl/logs</code>"
      ],
      "text/plain": [
       "<IPython.core.display.HTML object>"
      ]
     },
     "metadata": {},
     "output_type": "display_data"
    },
    {
     "name": "stderr",
     "output_type": "stream",
     "text": [
      "\u001b[34m\u001b[1mwandb\u001b[0m: Agent Starting Run: 018lwqc9 with config:\n",
      "\u001b[34m\u001b[1mwandb\u001b[0m: \tactivation: tanh\n",
      "\u001b[34m\u001b[1mwandb\u001b[0m: \tbatch_size: 16\n",
      "\u001b[34m\u001b[1mwandb\u001b[0m: \tepochs: 10\n",
      "\u001b[34m\u001b[1mwandb\u001b[0m: \thidden_layers: 4\n",
      "\u001b[34m\u001b[1mwandb\u001b[0m: \thidden_size: 64\n",
      "\u001b[34m\u001b[1mwandb\u001b[0m: \tloss: cross_entropy\n",
      "\u001b[34m\u001b[1mwandb\u001b[0m: \tlr: 0.0001\n",
      "\u001b[34m\u001b[1mwandb\u001b[0m: \toptimizer: rmsprop\n",
      "\u001b[34m\u001b[1mwandb\u001b[0m: \tw_init: random\n",
      "\u001b[34m\u001b[1mwandb\u001b[0m: \tweight_decay: 0.0005\n"
     ]
    },
    {
     "data": {
      "text/html": [
       "Tracking run with wandb version 0.16.4"
      ],
      "text/plain": [
       "<IPython.core.display.HTML object>"
      ]
     },
     "metadata": {},
     "output_type": "display_data"
    },
    {
     "data": {
      "text/html": [
       "Run data is saved locally in <code>/Users/sumanta/Desktop/Numpy project/cross_entropy_lesspasses/wandb/run-20240317_071150-018lwqc9</code>"
      ],
      "text/plain": [
       "<IPython.core.display.HTML object>"
      ]
     },
     "metadata": {},
     "output_type": "display_data"
    },
    {
     "data": {
      "text/html": [
       "Syncing run <strong><a href='https://wandb.ai/sumanta_roy/CS6910_assignment_1/runs/018lwqc9' target=\"_blank\">logical-sweep-64</a></strong> to <a href='https://wandb.ai/sumanta_roy/CS6910_assignment_1' target=\"_blank\">Weights & Biases</a> (<a href='https://wandb.me/run' target=\"_blank\">docs</a>)<br/>Sweep page: <a href='https://wandb.ai/sumanta_roy/CS6910_assignment_1/sweeps/ff8houdp' target=\"_blank\">https://wandb.ai/sumanta_roy/CS6910_assignment_1/sweeps/ff8houdp</a>"
      ],
      "text/plain": [
       "<IPython.core.display.HTML object>"
      ]
     },
     "metadata": {},
     "output_type": "display_data"
    },
    {
     "data": {
      "text/html": [
       " View project at <a href='https://wandb.ai/sumanta_roy/CS6910_assignment_1' target=\"_blank\">https://wandb.ai/sumanta_roy/CS6910_assignment_1</a>"
      ],
      "text/plain": [
       "<IPython.core.display.HTML object>"
      ]
     },
     "metadata": {},
     "output_type": "display_data"
    },
    {
     "data": {
      "text/html": [
       " View sweep at <a href='https://wandb.ai/sumanta_roy/CS6910_assignment_1/sweeps/ff8houdp' target=\"_blank\">https://wandb.ai/sumanta_roy/CS6910_assignment_1/sweeps/ff8houdp</a>"
      ],
      "text/plain": [
       "<IPython.core.display.HTML object>"
      ]
     },
     "metadata": {},
     "output_type": "display_data"
    },
    {
     "data": {
      "text/html": [
       " View run at <a href='https://wandb.ai/sumanta_roy/CS6910_assignment_1/runs/018lwqc9' target=\"_blank\">https://wandb.ai/sumanta_roy/CS6910_assignment_1/runs/018lwqc9</a>"
      ],
      "text/plain": [
       "<IPython.core.display.HTML object>"
      ]
     },
     "metadata": {},
     "output_type": "display_data"
    },
    {
     "name": "stdout",
     "output_type": "stream",
     "text": [
      "Epoch: 1/10; Train Loss: 0.12344439435071612; Val Loss: 0.06825616287473991\n",
      "Epoch: 2/10; Train Loss: 0.1255978295469901; Val Loss: 0.0591488725722583\n",
      "Epoch: 3/10; Train Loss: 0.13267354225693093; Val Loss: 0.05476312913085256\n",
      "Epoch: 4/10; Train Loss: 0.13866298735915902; Val Loss: 0.052027395867981996\n",
      "Epoch: 5/10; Train Loss: 0.14172023828874208; Val Loss: 0.05008496171609502\n",
      "Epoch: 6/10; Train Loss: 0.14252080535840403; Val Loss: 0.04857178940537151\n",
      "Epoch: 7/10; Train Loss: 0.14126527282415777; Val Loss: 0.04738257790707613\n",
      "Epoch: 8/10; Train Loss: 0.1394670577928631; Val Loss: 0.04640570371822048\n",
      "Epoch: 9/10; Train Loss: 0.1375994021632696; Val Loss: 0.04557236864585883\n",
      "Epoch: 10/10; Train Loss: 0.13559888158156125; Val Loss: 0.04485583369539887\n"
     ]
    },
    {
     "data": {
      "application/vnd.jupyter.widget-view+json": {
       "model_id": "",
       "version_major": 2,
       "version_minor": 0
      },
      "text/plain": [
       "VBox(children=(Label(value='0.001 MB of 0.001 MB uploaded\\r'), FloatProgress(value=1.0, max=1.0)))"
      ]
     },
     "metadata": {},
     "output_type": "display_data"
    },
    {
     "data": {
      "text/html": [
       "<style>\n",
       "    table.wandb td:nth-child(1) { padding: 0 10px; text-align: left ; width: auto;} td:nth-child(2) {text-align: left ; width: 100%}\n",
       "    .wandb-row { display: flex; flex-direction: row; flex-wrap: wrap; justify-content: flex-start; width: 100% }\n",
       "    .wandb-col { display: flex; flex-direction: column; flex-basis: 100%; flex: 1; padding: 10px; }\n",
       "    </style>\n",
       "<div class=\"wandb-row\"><div class=\"wandb-col\"><h3>Run history:</h3><br/><table class=\"wandb\"><tr><td>epoch</td><td>▁▁▁▁▂▂▂▂▃▃▃▃▃▃▃▃▄▄▄▄▅▅▅▅▆▆▆▆▆▆▆▆▇▇▇▇████</td></tr><tr><td>train_accuracy</td><td>▅▅▆▆▇▄▇▄▄▅▄▆▆▆▆▄▆▅▆▅▆▆▅▇▆▇▁▅▅▇▆▅▇▆▅▅█▅▇▄</td></tr><tr><td>train_loss</td><td>▇▄▃▄▂▅▃▅▅▄▅▃▃▂▃▅▂▅▃▄▃▄▄▁▃▂█▄▄▂▃▄▂▃▅▄▁▃▂▃</td></tr><tr><td>val_accuracy</td><td>▁▄▆▆▆▇▇▇▇▇▇▇▇▇▇▇▇█▇█████████████████████</td></tr><tr><td>validation_loss</td><td>█▄▃▃▂▂▂▂▂▂▂▂▂▂▂▂▁▁▁▁▁▁▁▁▁▁▁▁▁▁▁▁▁▁▁▁▁▁▁▁</td></tr></table><br/></div><div class=\"wandb-col\"><h3>Run summary:</h3><br/><table class=\"wandb\"><tr><td>epoch</td><td>10</td></tr><tr><td>train_accuracy</td><td>81.25</td></tr><tr><td>train_loss</td><td>0.1356</td></tr><tr><td>val_accuracy</td><td>83.8</td></tr><tr><td>validation_loss</td><td>0.04486</td></tr></table><br/></div></div>"
      ],
      "text/plain": [
       "<IPython.core.display.HTML object>"
      ]
     },
     "metadata": {},
     "output_type": "display_data"
    },
    {
     "data": {
      "text/html": [
       " View run <strong style=\"color:#cdcd00\">logical-sweep-64</strong> at: <a href='https://wandb.ai/sumanta_roy/CS6910_assignment_1/runs/018lwqc9' target=\"_blank\">https://wandb.ai/sumanta_roy/CS6910_assignment_1/runs/018lwqc9</a><br/>Synced 6 W&B file(s), 0 media file(s), 0 artifact file(s) and 0 other file(s)"
      ],
      "text/plain": [
       "<IPython.core.display.HTML object>"
      ]
     },
     "metadata": {},
     "output_type": "display_data"
    },
    {
     "data": {
      "text/html": [
       "Find logs at: <code>./wandb/run-20240317_071150-018lwqc9/logs</code>"
      ],
      "text/plain": [
       "<IPython.core.display.HTML object>"
      ]
     },
     "metadata": {},
     "output_type": "display_data"
    },
    {
     "name": "stderr",
     "output_type": "stream",
     "text": [
      "\u001b[34m\u001b[1mwandb\u001b[0m: Agent Starting Run: j96hykna with config:\n",
      "\u001b[34m\u001b[1mwandb\u001b[0m: \tactivation: tanh\n",
      "\u001b[34m\u001b[1mwandb\u001b[0m: \tbatch_size: 16\n",
      "\u001b[34m\u001b[1mwandb\u001b[0m: \tepochs: 10\n",
      "\u001b[34m\u001b[1mwandb\u001b[0m: \thidden_layers: 5\n",
      "\u001b[34m\u001b[1mwandb\u001b[0m: \thidden_size: 128\n",
      "\u001b[34m\u001b[1mwandb\u001b[0m: \tloss: cross_entropy\n",
      "\u001b[34m\u001b[1mwandb\u001b[0m: \tlr: 0.0001\n",
      "\u001b[34m\u001b[1mwandb\u001b[0m: \toptimizer: adam\n",
      "\u001b[34m\u001b[1mwandb\u001b[0m: \tw_init: random\n",
      "\u001b[34m\u001b[1mwandb\u001b[0m: \tweight_decay: 0\n"
     ]
    },
    {
     "data": {
      "application/vnd.jupyter.widget-view+json": {
       "model_id": "5126aa8538ee4286a91e3503953686b5",
       "version_major": 2,
       "version_minor": 0
      },
      "text/plain": [
       "VBox(children=(Label(value='Waiting for wandb.init()...\\r'), FloatProgress(value=0.011167603244474675, max=1.0…"
      ]
     },
     "metadata": {},
     "output_type": "display_data"
    },
    {
     "data": {
      "text/html": [
       "Tracking run with wandb version 0.16.4"
      ],
      "text/plain": [
       "<IPython.core.display.HTML object>"
      ]
     },
     "metadata": {},
     "output_type": "display_data"
    },
    {
     "data": {
      "text/html": [
       "Run data is saved locally in <code>/Users/sumanta/Desktop/Numpy project/cross_entropy_lesspasses/wandb/run-20240317_071325-j96hykna</code>"
      ],
      "text/plain": [
       "<IPython.core.display.HTML object>"
      ]
     },
     "metadata": {},
     "output_type": "display_data"
    },
    {
     "data": {
      "text/html": [
       "Syncing run <strong><a href='https://wandb.ai/sumanta_roy/CS6910_assignment_1/runs/j96hykna' target=\"_blank\">laced-sweep-65</a></strong> to <a href='https://wandb.ai/sumanta_roy/CS6910_assignment_1' target=\"_blank\">Weights & Biases</a> (<a href='https://wandb.me/run' target=\"_blank\">docs</a>)<br/>Sweep page: <a href='https://wandb.ai/sumanta_roy/CS6910_assignment_1/sweeps/ff8houdp' target=\"_blank\">https://wandb.ai/sumanta_roy/CS6910_assignment_1/sweeps/ff8houdp</a>"
      ],
      "text/plain": [
       "<IPython.core.display.HTML object>"
      ]
     },
     "metadata": {},
     "output_type": "display_data"
    },
    {
     "data": {
      "text/html": [
       " View project at <a href='https://wandb.ai/sumanta_roy/CS6910_assignment_1' target=\"_blank\">https://wandb.ai/sumanta_roy/CS6910_assignment_1</a>"
      ],
      "text/plain": [
       "<IPython.core.display.HTML object>"
      ]
     },
     "metadata": {},
     "output_type": "display_data"
    },
    {
     "data": {
      "text/html": [
       " View sweep at <a href='https://wandb.ai/sumanta_roy/CS6910_assignment_1/sweeps/ff8houdp' target=\"_blank\">https://wandb.ai/sumanta_roy/CS6910_assignment_1/sweeps/ff8houdp</a>"
      ],
      "text/plain": [
       "<IPython.core.display.HTML object>"
      ]
     },
     "metadata": {},
     "output_type": "display_data"
    },
    {
     "data": {
      "text/html": [
       " View run at <a href='https://wandb.ai/sumanta_roy/CS6910_assignment_1/runs/j96hykna' target=\"_blank\">https://wandb.ai/sumanta_roy/CS6910_assignment_1/runs/j96hykna</a>"
      ],
      "text/plain": [
       "<IPython.core.display.HTML object>"
      ]
     },
     "metadata": {},
     "output_type": "display_data"
    },
    {
     "name": "stdout",
     "output_type": "stream",
     "text": [
      "Epoch: 1/10; Train Loss: 0.089102314440713; Val Loss: 0.0950537771947897\n",
      "Epoch: 2/10; Train Loss: 0.07618102179087426; Val Loss: 0.0781874431487436\n",
      "Epoch: 3/10; Train Loss: 0.05789264048446254; Val Loss: 0.07071435700348079\n",
      "Epoch: 4/10; Train Loss: 0.04393502473433892; Val Loss: 0.06585341895280025\n",
      "Epoch: 5/10; Train Loss: 0.039077572133434865; Val Loss: 0.06253374751382046\n",
      "Epoch: 6/10; Train Loss: 0.037360172728273494; Val Loss: 0.06027212997134704\n",
      "Epoch: 7/10; Train Loss: 0.03626275964740544; Val Loss: 0.058590098921692646\n",
      "Epoch: 8/10; Train Loss: 0.03517099200534445; Val Loss: 0.057247098015858235\n",
      "Epoch: 9/10; Train Loss: 0.03418956187392937; Val Loss: 0.05614458064413627\n",
      "Epoch: 10/10; Train Loss: 0.03333610336883707; Val Loss: 0.055234581158490795\n"
     ]
    },
    {
     "data": {
      "application/vnd.jupyter.widget-view+json": {
       "model_id": "",
       "version_major": 2,
       "version_minor": 0
      },
      "text/plain": [
       "VBox(children=(Label(value='0.001 MB of 0.001 MB uploaded\\r'), FloatProgress(value=1.0, max=1.0)))"
      ]
     },
     "metadata": {},
     "output_type": "display_data"
    },
    {
     "data": {
      "text/html": [
       "<style>\n",
       "    table.wandb td:nth-child(1) { padding: 0 10px; text-align: left ; width: auto;} td:nth-child(2) {text-align: left ; width: 100%}\n",
       "    .wandb-row { display: flex; flex-direction: row; flex-wrap: wrap; justify-content: flex-start; width: 100% }\n",
       "    .wandb-col { display: flex; flex-direction: column; flex-basis: 100%; flex: 1; padding: 10px; }\n",
       "    </style>\n",
       "<div class=\"wandb-row\"><div class=\"wandb-col\"><h3>Run history:</h3><br/><table class=\"wandb\"><tr><td>epoch</td><td>▁▁▁▁▂▂▂▂▃▃▃▃▃▃▃▃▄▄▄▄▅▅▅▅▆▆▆▆▆▆▆▆▇▇▇▇████</td></tr><tr><td>train_accuracy</td><td>▁▄▅▅█▃█▅▅▅▆▇▆█▆▆▆▅▅▆▆▅▆█▇▆▆▇▆▆▇▆▆█▆▆██▇▆</td></tr><tr><td>train_loss</td><td>█▅▃▃▂▃▂▃▃▃▂▁▂▁▃▃▁▃▃▂▂▅▂▁▁▂▂▂▂▂▁▂▁▁▂▃▁▁▁▁</td></tr><tr><td>val_accuracy</td><td>▁▄▅▅▆▆▆▆▆▇▇▇▇▇▇▇▇▇▇▇▇▇▇▇████████████████</td></tr><tr><td>validation_loss</td><td>█▅▄▃▃▃▂▂▂▂▂▂▂▂▂▂▁▁▁▁▁▁▁▁▁▁▁▁▁▁▁▁▁▁▁▁▁▁▁▁</td></tr></table><br/></div><div class=\"wandb-col\"><h3>Run summary:</h3><br/><table class=\"wandb\"><tr><td>epoch</td><td>10</td></tr><tr><td>train_accuracy</td><td>87.5</td></tr><tr><td>train_loss</td><td>0.03334</td></tr><tr><td>val_accuracy</td><td>81.01667</td></tr><tr><td>validation_loss</td><td>0.05523</td></tr></table><br/></div></div>"
      ],
      "text/plain": [
       "<IPython.core.display.HTML object>"
      ]
     },
     "metadata": {},
     "output_type": "display_data"
    },
    {
     "data": {
      "text/html": [
       " View run <strong style=\"color:#cdcd00\">laced-sweep-65</strong> at: <a href='https://wandb.ai/sumanta_roy/CS6910_assignment_1/runs/j96hykna' target=\"_blank\">https://wandb.ai/sumanta_roy/CS6910_assignment_1/runs/j96hykna</a><br/>Synced 6 W&B file(s), 0 media file(s), 0 artifact file(s) and 0 other file(s)"
      ],
      "text/plain": [
       "<IPython.core.display.HTML object>"
      ]
     },
     "metadata": {},
     "output_type": "display_data"
    },
    {
     "data": {
      "text/html": [
       "Find logs at: <code>./wandb/run-20240317_071325-j96hykna/logs</code>"
      ],
      "text/plain": [
       "<IPython.core.display.HTML object>"
      ]
     },
     "metadata": {},
     "output_type": "display_data"
    },
    {
     "name": "stderr",
     "output_type": "stream",
     "text": [
      "\u001b[34m\u001b[1mwandb\u001b[0m: Agent Starting Run: y18nqmgl with config:\n",
      "\u001b[34m\u001b[1mwandb\u001b[0m: \tactivation: tanh\n",
      "\u001b[34m\u001b[1mwandb\u001b[0m: \tbatch_size: 32\n",
      "\u001b[34m\u001b[1mwandb\u001b[0m: \tepochs: 10\n",
      "\u001b[34m\u001b[1mwandb\u001b[0m: \thidden_layers: 4\n",
      "\u001b[34m\u001b[1mwandb\u001b[0m: \thidden_size: 64\n",
      "\u001b[34m\u001b[1mwandb\u001b[0m: \tloss: cross_entropy\n",
      "\u001b[34m\u001b[1mwandb\u001b[0m: \tlr: 0.0001\n",
      "\u001b[34m\u001b[1mwandb\u001b[0m: \toptimizer: rmsprop\n",
      "\u001b[34m\u001b[1mwandb\u001b[0m: \tw_init: random\n",
      "\u001b[34m\u001b[1mwandb\u001b[0m: \tweight_decay: 0.5\n"
     ]
    },
    {
     "data": {
      "application/vnd.jupyter.widget-view+json": {
       "model_id": "91af5051e7c04c899b5cc5e76bfeed29",
       "version_major": 2,
       "version_minor": 0
      },
      "text/plain": [
       "VBox(children=(Label(value='Waiting for wandb.init()...\\r'), FloatProgress(value=0.011143318988858179, max=1.0…"
      ]
     },
     "metadata": {},
     "output_type": "display_data"
    },
    {
     "data": {
      "text/html": [
       "Tracking run with wandb version 0.16.4"
      ],
      "text/plain": [
       "<IPython.core.display.HTML object>"
      ]
     },
     "metadata": {},
     "output_type": "display_data"
    },
    {
     "data": {
      "text/html": [
       "Run data is saved locally in <code>/Users/sumanta/Desktop/Numpy project/cross_entropy_lesspasses/wandb/run-20240317_071725-y18nqmgl</code>"
      ],
      "text/plain": [
       "<IPython.core.display.HTML object>"
      ]
     },
     "metadata": {},
     "output_type": "display_data"
    },
    {
     "data": {
      "text/html": [
       "Syncing run <strong><a href='https://wandb.ai/sumanta_roy/CS6910_assignment_1/runs/y18nqmgl' target=\"_blank\">honest-sweep-66</a></strong> to <a href='https://wandb.ai/sumanta_roy/CS6910_assignment_1' target=\"_blank\">Weights & Biases</a> (<a href='https://wandb.me/run' target=\"_blank\">docs</a>)<br/>Sweep page: <a href='https://wandb.ai/sumanta_roy/CS6910_assignment_1/sweeps/ff8houdp' target=\"_blank\">https://wandb.ai/sumanta_roy/CS6910_assignment_1/sweeps/ff8houdp</a>"
      ],
      "text/plain": [
       "<IPython.core.display.HTML object>"
      ]
     },
     "metadata": {},
     "output_type": "display_data"
    },
    {
     "data": {
      "text/html": [
       " View project at <a href='https://wandb.ai/sumanta_roy/CS6910_assignment_1' target=\"_blank\">https://wandb.ai/sumanta_roy/CS6910_assignment_1</a>"
      ],
      "text/plain": [
       "<IPython.core.display.HTML object>"
      ]
     },
     "metadata": {},
     "output_type": "display_data"
    },
    {
     "data": {
      "text/html": [
       " View sweep at <a href='https://wandb.ai/sumanta_roy/CS6910_assignment_1/sweeps/ff8houdp' target=\"_blank\">https://wandb.ai/sumanta_roy/CS6910_assignment_1/sweeps/ff8houdp</a>"
      ],
      "text/plain": [
       "<IPython.core.display.HTML object>"
      ]
     },
     "metadata": {},
     "output_type": "display_data"
    },
    {
     "data": {
      "text/html": [
       " View run at <a href='https://wandb.ai/sumanta_roy/CS6910_assignment_1/runs/y18nqmgl' target=\"_blank\">https://wandb.ai/sumanta_roy/CS6910_assignment_1/runs/y18nqmgl</a>"
      ],
      "text/plain": [
       "<IPython.core.display.HTML object>"
      ]
     },
     "metadata": {},
     "output_type": "display_data"
    },
    {
     "name": "stdout",
     "output_type": "stream",
     "text": [
      "Epoch: 1/10; Train Loss: 28.657867595014107; Val Loss: 0.22525437579257931\n",
      "Epoch: 2/10; Train Loss: 19.231298302830375; Val Loss: 0.16235942806089532\n",
      "Epoch: 3/10; Train Loss: 12.839581578089263; Val Loss: 0.12330426995124441\n",
      "Epoch: 4/10; Train Loss: 8.610456424244859; Val Loss: 0.09805972667849522\n",
      "Epoch: 5/10; Train Loss: 5.840627758047786; Val Loss: 0.08176059993053139\n",
      "Epoch: 6/10; Train Loss: 4.034660738636561; Val Loss: 0.07115855050382607\n",
      "Epoch: 7/10; Train Loss: 2.8573384276639544; Val Loss: 0.06417741117971626\n",
      "Epoch: 8/10; Train Loss: 2.0875307963169756; Val Loss: 0.05953041299023192\n",
      "Epoch: 9/10; Train Loss: 1.5810498551074283; Val Loss: 0.056393331054359945\n",
      "Epoch: 10/10; Train Loss: 1.2449054898681047; Val Loss: 0.054233911520567696\n"
     ]
    },
    {
     "data": {
      "application/vnd.jupyter.widget-view+json": {
       "model_id": "",
       "version_major": 2,
       "version_minor": 0
      },
      "text/plain": [
       "VBox(children=(Label(value='0.008 MB of 0.027 MB uploaded\\r'), FloatProgress(value=0.28083356960589734, max=1.…"
      ]
     },
     "metadata": {},
     "output_type": "display_data"
    },
    {
     "data": {
      "text/html": [
       "<style>\n",
       "    table.wandb td:nth-child(1) { padding: 0 10px; text-align: left ; width: auto;} td:nth-child(2) {text-align: left ; width: 100%}\n",
       "    .wandb-row { display: flex; flex-direction: row; flex-wrap: wrap; justify-content: flex-start; width: 100% }\n",
       "    .wandb-col { display: flex; flex-direction: column; flex-basis: 100%; flex: 1; padding: 10px; }\n",
       "    </style>\n",
       "<div class=\"wandb-row\"><div class=\"wandb-col\"><h3>Run history:</h3><br/><table class=\"wandb\"><tr><td>epoch</td><td>▁▁▁▁▂▂▂▂▃▃▃▃▃▃▃▃▄▄▄▄▅▅▅▅▆▆▆▆▆▆▆▆▇▇▇▇████</td></tr><tr><td>train_accuracy</td><td>▁▄▄▅▆▅▆▆▇▄▆█▅▆▆▅▅▅▇▅▆▅▆▆▆▆▄▇▅▇▆▆▇▇▇▅▇▆██</td></tr><tr><td>train_loss</td><td>██▇▆▆▅▅▅▄▄▄▃▃▃▃▂▂▂▂▂▂▂▂▂▁▁▁▁▁▁▁▁▁▁▁▁▁▁▁▁</td></tr><tr><td>val_accuracy</td><td>▁▄▆▆▆▇▇▇▇▇▇▇▇▇██████████████████████████</td></tr><tr><td>validation_loss</td><td>█▆▅▅▄▄▄▃▃▃▃▂▂▂▂▂▂▂▂▂▂▁▁▁▁▁▁▁▁▁▁▁▁▁▁▁▁▁▁▁</td></tr></table><br/></div><div class=\"wandb-col\"><h3>Run summary:</h3><br/><table class=\"wandb\"><tr><td>epoch</td><td>10</td></tr><tr><td>train_accuracy</td><td>84.375</td></tr><tr><td>train_loss</td><td>1.24491</td></tr><tr><td>val_accuracy</td><td>84.51667</td></tr><tr><td>validation_loss</td><td>0.05423</td></tr></table><br/></div></div>"
      ],
      "text/plain": [
       "<IPython.core.display.HTML object>"
      ]
     },
     "metadata": {},
     "output_type": "display_data"
    },
    {
     "data": {
      "text/html": [
       " View run <strong style=\"color:#cdcd00\">honest-sweep-66</strong> at: <a href='https://wandb.ai/sumanta_roy/CS6910_assignment_1/runs/y18nqmgl' target=\"_blank\">https://wandb.ai/sumanta_roy/CS6910_assignment_1/runs/y18nqmgl</a><br/>Synced 6 W&B file(s), 0 media file(s), 0 artifact file(s) and 0 other file(s)"
      ],
      "text/plain": [
       "<IPython.core.display.HTML object>"
      ]
     },
     "metadata": {},
     "output_type": "display_data"
    },
    {
     "data": {
      "text/html": [
       "Find logs at: <code>./wandb/run-20240317_071725-y18nqmgl/logs</code>"
      ],
      "text/plain": [
       "<IPython.core.display.HTML object>"
      ]
     },
     "metadata": {},
     "output_type": "display_data"
    },
    {
     "name": "stderr",
     "output_type": "stream",
     "text": [
      "\u001b[34m\u001b[1mwandb\u001b[0m: Agent Starting Run: 9j0siud2 with config:\n",
      "\u001b[34m\u001b[1mwandb\u001b[0m: \tactivation: tanh\n",
      "\u001b[34m\u001b[1mwandb\u001b[0m: \tbatch_size: 16\n",
      "\u001b[34m\u001b[1mwandb\u001b[0m: \tepochs: 10\n",
      "\u001b[34m\u001b[1mwandb\u001b[0m: \thidden_layers: 5\n",
      "\u001b[34m\u001b[1mwandb\u001b[0m: \thidden_size: 64\n",
      "\u001b[34m\u001b[1mwandb\u001b[0m: \tloss: cross_entropy\n",
      "\u001b[34m\u001b[1mwandb\u001b[0m: \tlr: 0.001\n",
      "\u001b[34m\u001b[1mwandb\u001b[0m: \toptimizer: adam\n",
      "\u001b[34m\u001b[1mwandb\u001b[0m: \tw_init: random\n",
      "\u001b[34m\u001b[1mwandb\u001b[0m: \tweight_decay: 0.0005\n"
     ]
    },
    {
     "data": {
      "text/html": [
       "Tracking run with wandb version 0.16.4"
      ],
      "text/plain": [
       "<IPython.core.display.HTML object>"
      ]
     },
     "metadata": {},
     "output_type": "display_data"
    },
    {
     "data": {
      "text/html": [
       "Run data is saved locally in <code>/Users/sumanta/Desktop/Numpy project/cross_entropy_lesspasses/wandb/run-20240317_071841-9j0siud2</code>"
      ],
      "text/plain": [
       "<IPython.core.display.HTML object>"
      ]
     },
     "metadata": {},
     "output_type": "display_data"
    },
    {
     "data": {
      "text/html": [
       "Syncing run <strong><a href='https://wandb.ai/sumanta_roy/CS6910_assignment_1/runs/9j0siud2' target=\"_blank\">worthy-sweep-67</a></strong> to <a href='https://wandb.ai/sumanta_roy/CS6910_assignment_1' target=\"_blank\">Weights & Biases</a> (<a href='https://wandb.me/run' target=\"_blank\">docs</a>)<br/>Sweep page: <a href='https://wandb.ai/sumanta_roy/CS6910_assignment_1/sweeps/ff8houdp' target=\"_blank\">https://wandb.ai/sumanta_roy/CS6910_assignment_1/sweeps/ff8houdp</a>"
      ],
      "text/plain": [
       "<IPython.core.display.HTML object>"
      ]
     },
     "metadata": {},
     "output_type": "display_data"
    },
    {
     "data": {
      "text/html": [
       " View project at <a href='https://wandb.ai/sumanta_roy/CS6910_assignment_1' target=\"_blank\">https://wandb.ai/sumanta_roy/CS6910_assignment_1</a>"
      ],
      "text/plain": [
       "<IPython.core.display.HTML object>"
      ]
     },
     "metadata": {},
     "output_type": "display_data"
    },
    {
     "data": {
      "text/html": [
       " View sweep at <a href='https://wandb.ai/sumanta_roy/CS6910_assignment_1/sweeps/ff8houdp' target=\"_blank\">https://wandb.ai/sumanta_roy/CS6910_assignment_1/sweeps/ff8houdp</a>"
      ],
      "text/plain": [
       "<IPython.core.display.HTML object>"
      ]
     },
     "metadata": {},
     "output_type": "display_data"
    },
    {
     "data": {
      "text/html": [
       " View run at <a href='https://wandb.ai/sumanta_roy/CS6910_assignment_1/runs/9j0siud2' target=\"_blank\">https://wandb.ai/sumanta_roy/CS6910_assignment_1/runs/9j0siud2</a>"
      ],
      "text/plain": [
       "<IPython.core.display.HTML object>"
      ]
     },
     "metadata": {},
     "output_type": "display_data"
    },
    {
     "name": "stdout",
     "output_type": "stream",
     "text": [
      "Epoch: 1/10; Train Loss: 0.12023395457636912; Val Loss: 0.0497578821271585\n",
      "Epoch: 2/10; Train Loss: 0.11465138159818979; Val Loss: 0.04493748714351082\n",
      "Epoch: 3/10; Train Loss: 0.11145822828575627; Val Loss: 0.04337552225771529\n",
      "Epoch: 4/10; Train Loss: 0.10799086619082454; Val Loss: 0.04178767602721378\n",
      "Epoch: 5/10; Train Loss: 0.10539938720299134; Val Loss: 0.040540368872598966\n",
      "Epoch: 6/10; Train Loss: 0.1034324238877276; Val Loss: 0.040836157706320715\n",
      "Epoch: 7/10; Train Loss: 0.10485046880661905; Val Loss: 0.04066643646848536\n",
      "Epoch: 8/10; Train Loss: 0.10012043754969203; Val Loss: 0.040777072636266676\n",
      "Epoch: 9/10; Train Loss: 0.09754024401100779; Val Loss: 0.040313078812782406\n",
      "Epoch: 10/10; Train Loss: 0.09877401289976326; Val Loss: 0.040284626576222754\n"
     ]
    },
    {
     "data": {
      "application/vnd.jupyter.widget-view+json": {
       "model_id": "",
       "version_major": 2,
       "version_minor": 0
      },
      "text/plain": [
       "VBox(children=(Label(value='0.001 MB of 0.001 MB uploaded\\r'), FloatProgress(value=1.0, max=1.0)))"
      ]
     },
     "metadata": {},
     "output_type": "display_data"
    },
    {
     "data": {
      "text/html": [
       "<style>\n",
       "    table.wandb td:nth-child(1) { padding: 0 10px; text-align: left ; width: auto;} td:nth-child(2) {text-align: left ; width: 100%}\n",
       "    .wandb-row { display: flex; flex-direction: row; flex-wrap: wrap; justify-content: flex-start; width: 100% }\n",
       "    .wandb-col { display: flex; flex-direction: column; flex-basis: 100%; flex: 1; padding: 10px; }\n",
       "    </style>\n",
       "<div class=\"wandb-row\"><div class=\"wandb-col\"><h3>Run history:</h3><br/><table class=\"wandb\"><tr><td>epoch</td><td>▁▁▁▁▂▂▂▂▃▃▃▃▃▃▃▃▄▄▄▄▅▅▅▅▆▆▆▆▆▆▆▆▇▇▇▇████</td></tr><tr><td>train_accuracy</td><td>▂▇▄▇▅▂▄▄▅▄▁▅▅█▄▁▇▅▅▄▄▄▅█▄▇▂▄▄▇▅▄▄▇▂▂▇▂▇▇</td></tr><tr><td>train_loss</td><td>▇▄▆▄▄▇▅▄▆▆▆▃▃▁▆▇▂▇▄▆▆▆▃▁▃▃▅▆▃▁▃▅▃▃█▆▂▄▁▁</td></tr><tr><td>val_accuracy</td><td>▁▃▅▅▆▆▆▆▇▆▇▇▇▇▇▇█▇▇▇█▇██████▇███▇▇██▇▇██</td></tr><tr><td>validation_loss</td><td>█▅▄▃▃▃▃▂▂▂▂▂▂▂▂▂▁▂▂▁▁▂▁▁▂▁▁▁▂▁▁▁▂▂▁▁▂▁▁▁</td></tr></table><br/></div><div class=\"wandb-col\"><h3>Run summary:</h3><br/><table class=\"wandb\"><tr><td>epoch</td><td>10</td></tr><tr><td>train_accuracy</td><td>93.75</td></tr><tr><td>train_loss</td><td>0.09877</td></tr><tr><td>val_accuracy</td><td>85.98333</td></tr><tr><td>validation_loss</td><td>0.04028</td></tr></table><br/></div></div>"
      ],
      "text/plain": [
       "<IPython.core.display.HTML object>"
      ]
     },
     "metadata": {},
     "output_type": "display_data"
    },
    {
     "data": {
      "text/html": [
       " View run <strong style=\"color:#cdcd00\">worthy-sweep-67</strong> at: <a href='https://wandb.ai/sumanta_roy/CS6910_assignment_1/runs/9j0siud2' target=\"_blank\">https://wandb.ai/sumanta_roy/CS6910_assignment_1/runs/9j0siud2</a><br/>Synced 6 W&B file(s), 0 media file(s), 0 artifact file(s) and 0 other file(s)"
      ],
      "text/plain": [
       "<IPython.core.display.HTML object>"
      ]
     },
     "metadata": {},
     "output_type": "display_data"
    },
    {
     "data": {
      "text/html": [
       "Find logs at: <code>./wandb/run-20240317_071841-9j0siud2/logs</code>"
      ],
      "text/plain": [
       "<IPython.core.display.HTML object>"
      ]
     },
     "metadata": {},
     "output_type": "display_data"
    },
    {
     "name": "stderr",
     "output_type": "stream",
     "text": [
      "\u001b[34m\u001b[1mwandb\u001b[0m: Sweep Agent: Waiting for job.\n",
      "\u001b[34m\u001b[1mwandb\u001b[0m: Job received.\n",
      "\u001b[34m\u001b[1mwandb\u001b[0m: Agent Starting Run: t40nmj8s with config:\n",
      "\u001b[34m\u001b[1mwandb\u001b[0m: \tactivation: tanh\n",
      "\u001b[34m\u001b[1mwandb\u001b[0m: \tbatch_size: 32\n",
      "\u001b[34m\u001b[1mwandb\u001b[0m: \tepochs: 10\n",
      "\u001b[34m\u001b[1mwandb\u001b[0m: \thidden_layers: 5\n",
      "\u001b[34m\u001b[1mwandb\u001b[0m: \thidden_size: 128\n",
      "\u001b[34m\u001b[1mwandb\u001b[0m: \tloss: cross_entropy\n",
      "\u001b[34m\u001b[1mwandb\u001b[0m: \tlr: 0.0001\n",
      "\u001b[34m\u001b[1mwandb\u001b[0m: \toptimizer: adam\n",
      "\u001b[34m\u001b[1mwandb\u001b[0m: \tw_init: random\n",
      "\u001b[34m\u001b[1mwandb\u001b[0m: \tweight_decay: 0\n"
     ]
    },
    {
     "data": {
      "text/html": [
       "Tracking run with wandb version 0.16.4"
      ],
      "text/plain": [
       "<IPython.core.display.HTML object>"
      ]
     },
     "metadata": {},
     "output_type": "display_data"
    },
    {
     "data": {
      "text/html": [
       "Run data is saved locally in <code>/Users/sumanta/Desktop/Numpy project/cross_entropy_lesspasses/wandb/run-20240317_072053-t40nmj8s</code>"
      ],
      "text/plain": [
       "<IPython.core.display.HTML object>"
      ]
     },
     "metadata": {},
     "output_type": "display_data"
    },
    {
     "data": {
      "text/html": [
       "Syncing run <strong><a href='https://wandb.ai/sumanta_roy/CS6910_assignment_1/runs/t40nmj8s' target=\"_blank\">playful-sweep-68</a></strong> to <a href='https://wandb.ai/sumanta_roy/CS6910_assignment_1' target=\"_blank\">Weights & Biases</a> (<a href='https://wandb.me/run' target=\"_blank\">docs</a>)<br/>Sweep page: <a href='https://wandb.ai/sumanta_roy/CS6910_assignment_1/sweeps/ff8houdp' target=\"_blank\">https://wandb.ai/sumanta_roy/CS6910_assignment_1/sweeps/ff8houdp</a>"
      ],
      "text/plain": [
       "<IPython.core.display.HTML object>"
      ]
     },
     "metadata": {},
     "output_type": "display_data"
    },
    {
     "data": {
      "text/html": [
       " View project at <a href='https://wandb.ai/sumanta_roy/CS6910_assignment_1' target=\"_blank\">https://wandb.ai/sumanta_roy/CS6910_assignment_1</a>"
      ],
      "text/plain": [
       "<IPython.core.display.HTML object>"
      ]
     },
     "metadata": {},
     "output_type": "display_data"
    },
    {
     "data": {
      "text/html": [
       " View sweep at <a href='https://wandb.ai/sumanta_roy/CS6910_assignment_1/sweeps/ff8houdp' target=\"_blank\">https://wandb.ai/sumanta_roy/CS6910_assignment_1/sweeps/ff8houdp</a>"
      ],
      "text/plain": [
       "<IPython.core.display.HTML object>"
      ]
     },
     "metadata": {},
     "output_type": "display_data"
    },
    {
     "data": {
      "text/html": [
       " View run at <a href='https://wandb.ai/sumanta_roy/CS6910_assignment_1/runs/t40nmj8s' target=\"_blank\">https://wandb.ai/sumanta_roy/CS6910_assignment_1/runs/t40nmj8s</a>"
      ],
      "text/plain": [
       "<IPython.core.display.HTML object>"
      ]
     },
     "metadata": {},
     "output_type": "display_data"
    },
    {
     "name": "stdout",
     "output_type": "stream",
     "text": [
      "Epoch: 1/10; Train Loss: 0.05649239066616837; Val Loss: 0.09748018189257579\n",
      "Epoch: 2/10; Train Loss: 0.043296982590165414; Val Loss: 0.08230509701458212\n",
      "Epoch: 3/10; Train Loss: 0.043587898915893875; Val Loss: 0.07448680461782535\n",
      "Epoch: 4/10; Train Loss: 0.0407713010441565; Val Loss: 0.0701262616597003\n",
      "Epoch: 5/10; Train Loss: 0.03799945474100316; Val Loss: 0.06727398845643778\n",
      "Epoch: 6/10; Train Loss: 0.036531232424329416; Val Loss: 0.06507303586967754\n",
      "Epoch: 7/10; Train Loss: 0.03524070232433054; Val Loss: 0.0632674838409377\n",
      "Epoch: 8/10; Train Loss: 0.03381795849679161; Val Loss: 0.061784566898117906\n",
      "Epoch: 9/10; Train Loss: 0.03240073831047801; Val Loss: 0.06056831847009995\n",
      "Epoch: 10/10; Train Loss: 0.031085707546427022; Val Loss: 0.05955441734477455\n"
     ]
    },
    {
     "data": {
      "application/vnd.jupyter.widget-view+json": {
       "model_id": "",
       "version_major": 2,
       "version_minor": 0
      },
      "text/plain": [
       "VBox(children=(Label(value='0.001 MB of 0.001 MB uploaded\\r'), FloatProgress(value=1.0, max=1.0)))"
      ]
     },
     "metadata": {},
     "output_type": "display_data"
    },
    {
     "data": {
      "text/html": [
       "<style>\n",
       "    table.wandb td:nth-child(1) { padding: 0 10px; text-align: left ; width: auto;} td:nth-child(2) {text-align: left ; width: 100%}\n",
       "    .wandb-row { display: flex; flex-direction: row; flex-wrap: wrap; justify-content: flex-start; width: 100% }\n",
       "    .wandb-col { display: flex; flex-direction: column; flex-basis: 100%; flex: 1; padding: 10px; }\n",
       "    </style>\n",
       "<div class=\"wandb-row\"><div class=\"wandb-col\"><h3>Run history:</h3><br/><table class=\"wandb\"><tr><td>epoch</td><td>▁▁▁▁▂▂▂▂▃▃▃▃▃▃▃▃▄▄▄▄▅▅▅▅▆▆▆▆▆▆▆▆▇▇▇▇████</td></tr><tr><td>train_accuracy</td><td>▁▁▅▅▇▅▃▅▆▆▅▄▄▆▇▄▅▆▇▆▇▅▆▆▆▆▄▇▆█▇▆▆▇▅█▇▆▇▇</td></tr><tr><td>train_loss</td><td>█▆▄▄▂▄▅▄▃▃▃▃▅▃▂▅▂▃▂▂▁▅▂▂▃▃▄▂▂▁▂▂▃▂▃▁▂▃▂▃</td></tr><tr><td>val_accuracy</td><td>▁▄▅▅▆▆▆▆▇▇▇▇▇▇▇▇▇▇▇▇████████████████████</td></tr><tr><td>validation_loss</td><td>█▅▄▃▃▃▂▂▂▂▂▂▂▂▂▂▂▂▁▁▁▁▁▁▁▁▁▁▁▁▁▁▁▁▁▁▁▁▁▁</td></tr></table><br/></div><div class=\"wandb-col\"><h3>Run summary:</h3><br/><table class=\"wandb\"><tr><td>epoch</td><td>10</td></tr><tr><td>train_accuracy</td><td>81.25</td></tr><tr><td>train_loss</td><td>0.03109</td></tr><tr><td>val_accuracy</td><td>79.76667</td></tr><tr><td>validation_loss</td><td>0.05955</td></tr></table><br/></div></div>"
      ],
      "text/plain": [
       "<IPython.core.display.HTML object>"
      ]
     },
     "metadata": {},
     "output_type": "display_data"
    },
    {
     "data": {
      "text/html": [
       " View run <strong style=\"color:#cdcd00\">playful-sweep-68</strong> at: <a href='https://wandb.ai/sumanta_roy/CS6910_assignment_1/runs/t40nmj8s' target=\"_blank\">https://wandb.ai/sumanta_roy/CS6910_assignment_1/runs/t40nmj8s</a><br/>Synced 6 W&B file(s), 0 media file(s), 0 artifact file(s) and 0 other file(s)"
      ],
      "text/plain": [
       "<IPython.core.display.HTML object>"
      ]
     },
     "metadata": {},
     "output_type": "display_data"
    },
    {
     "data": {
      "text/html": [
       "Find logs at: <code>./wandb/run-20240317_072053-t40nmj8s/logs</code>"
      ],
      "text/plain": [
       "<IPython.core.display.HTML object>"
      ]
     },
     "metadata": {},
     "output_type": "display_data"
    },
    {
     "name": "stderr",
     "output_type": "stream",
     "text": [
      "\u001b[34m\u001b[1mwandb\u001b[0m: Sweep Agent: Waiting for job.\n",
      "\u001b[34m\u001b[1mwandb\u001b[0m: Job received.\n",
      "\u001b[34m\u001b[1mwandb\u001b[0m: Agent Starting Run: 132in6ys with config:\n",
      "\u001b[34m\u001b[1mwandb\u001b[0m: \tactivation: tanh\n",
      "\u001b[34m\u001b[1mwandb\u001b[0m: \tbatch_size: 16\n",
      "\u001b[34m\u001b[1mwandb\u001b[0m: \tepochs: 10\n",
      "\u001b[34m\u001b[1mwandb\u001b[0m: \thidden_layers: 3\n",
      "\u001b[34m\u001b[1mwandb\u001b[0m: \thidden_size: 64\n",
      "\u001b[34m\u001b[1mwandb\u001b[0m: \tloss: cross_entropy\n",
      "\u001b[34m\u001b[1mwandb\u001b[0m: \tlr: 0.001\n",
      "\u001b[34m\u001b[1mwandb\u001b[0m: \toptimizer: adam\n",
      "\u001b[34m\u001b[1mwandb\u001b[0m: \tw_init: random\n",
      "\u001b[34m\u001b[1mwandb\u001b[0m: \tweight_decay: 0\n"
     ]
    },
    {
     "data": {
      "text/html": [
       "Tracking run with wandb version 0.16.4"
      ],
      "text/plain": [
       "<IPython.core.display.HTML object>"
      ]
     },
     "metadata": {},
     "output_type": "display_data"
    },
    {
     "data": {
      "text/html": [
       "Run data is saved locally in <code>/Users/sumanta/Desktop/Numpy project/cross_entropy_lesspasses/wandb/run-20240317_072413-132in6ys</code>"
      ],
      "text/plain": [
       "<IPython.core.display.HTML object>"
      ]
     },
     "metadata": {},
     "output_type": "display_data"
    },
    {
     "data": {
      "text/html": [
       "Syncing run <strong><a href='https://wandb.ai/sumanta_roy/CS6910_assignment_1/runs/132in6ys' target=\"_blank\">bright-sweep-69</a></strong> to <a href='https://wandb.ai/sumanta_roy/CS6910_assignment_1' target=\"_blank\">Weights & Biases</a> (<a href='https://wandb.me/run' target=\"_blank\">docs</a>)<br/>Sweep page: <a href='https://wandb.ai/sumanta_roy/CS6910_assignment_1/sweeps/ff8houdp' target=\"_blank\">https://wandb.ai/sumanta_roy/CS6910_assignment_1/sweeps/ff8houdp</a>"
      ],
      "text/plain": [
       "<IPython.core.display.HTML object>"
      ]
     },
     "metadata": {},
     "output_type": "display_data"
    },
    {
     "data": {
      "text/html": [
       " View project at <a href='https://wandb.ai/sumanta_roy/CS6910_assignment_1' target=\"_blank\">https://wandb.ai/sumanta_roy/CS6910_assignment_1</a>"
      ],
      "text/plain": [
       "<IPython.core.display.HTML object>"
      ]
     },
     "metadata": {},
     "output_type": "display_data"
    },
    {
     "data": {
      "text/html": [
       " View sweep at <a href='https://wandb.ai/sumanta_roy/CS6910_assignment_1/sweeps/ff8houdp' target=\"_blank\">https://wandb.ai/sumanta_roy/CS6910_assignment_1/sweeps/ff8houdp</a>"
      ],
      "text/plain": [
       "<IPython.core.display.HTML object>"
      ]
     },
     "metadata": {},
     "output_type": "display_data"
    },
    {
     "data": {
      "text/html": [
       " View run at <a href='https://wandb.ai/sumanta_roy/CS6910_assignment_1/runs/132in6ys' target=\"_blank\">https://wandb.ai/sumanta_roy/CS6910_assignment_1/runs/132in6ys</a>"
      ],
      "text/plain": [
       "<IPython.core.display.HTML object>"
      ]
     },
     "metadata": {},
     "output_type": "display_data"
    },
    {
     "name": "stdout",
     "output_type": "stream",
     "text": [
      "Epoch: 1/10; Train Loss: 0.04057533714094149; Val Loss: 0.04928797706327174\n",
      "Epoch: 2/10; Train Loss: 0.039828499184863905; Val Loss: 0.04506472101206404\n",
      "Epoch: 3/10; Train Loss: 0.03865989057079457; Val Loss: 0.04261376125364942\n",
      "Epoch: 4/10; Train Loss: 0.0411501590514269; Val Loss: 0.04151874838477209\n",
      "Epoch: 5/10; Train Loss: 0.04019045743933118; Val Loss: 0.04054985296611158\n",
      "Epoch: 6/10; Train Loss: 0.038027779116987605; Val Loss: 0.039780273477392\n",
      "Epoch: 7/10; Train Loss: 0.03716823175731033; Val Loss: 0.03922023640982945\n",
      "Epoch: 8/10; Train Loss: 0.03765237159929793; Val Loss: 0.03898731124503861\n",
      "Epoch: 9/10; Train Loss: 0.037668701200045604; Val Loss: 0.03881396474232177\n",
      "Epoch: 10/10; Train Loss: 0.03759860795996813; Val Loss: 0.038734028721633305\n"
     ]
    },
    {
     "data": {
      "application/vnd.jupyter.widget-view+json": {
       "model_id": "",
       "version_major": 2,
       "version_minor": 0
      },
      "text/plain": [
       "VBox(children=(Label(value='0.001 MB of 0.001 MB uploaded\\r'), FloatProgress(value=1.0, max=1.0)))"
      ]
     },
     "metadata": {},
     "output_type": "display_data"
    },
    {
     "data": {
      "text/html": [
       "<style>\n",
       "    table.wandb td:nth-child(1) { padding: 0 10px; text-align: left ; width: auto;} td:nth-child(2) {text-align: left ; width: 100%}\n",
       "    .wandb-row { display: flex; flex-direction: row; flex-wrap: wrap; justify-content: flex-start; width: 100% }\n",
       "    .wandb-col { display: flex; flex-direction: column; flex-basis: 100%; flex: 1; padding: 10px; }\n",
       "    </style>\n",
       "<div class=\"wandb-row\"><div class=\"wandb-col\"><h3>Run history:</h3><br/><table class=\"wandb\"><tr><td>epoch</td><td>▁▁▁▁▂▂▂▂▃▃▃▃▃▃▃▃▄▄▄▄▅▅▅▅▆▆▆▆▆▆▆▆▇▇▇▇████</td></tr><tr><td>train_accuracy</td><td>▆▇▆▆▇▆▇▇▂▃▆▇▆█▃▃▇▂▆▃▆▅▃▆▇▆▁▆▃█▅▆▇▇▃▆▇▃▆▆</td></tr><tr><td>train_loss</td><td>▆▃▅▄▃▄▂▂▆▆▃▂▄▁▅▆▂█▅▇▄▄▄▂▂▂█▆▆▁▄▄▂▂▆▄▂▅▃▃</td></tr><tr><td>val_accuracy</td><td>▁▃▅▅▆▆▆▆▇▇▇▇▇▇▇▇▇▇▇██▇█▇▇████▇▇█████████</td></tr><tr><td>validation_loss</td><td>█▆▄▄▃▃▃▂▂▂▂▂▂▂▂▂▂▂▁▁▁▁▁▁▂▁▁▁▁▁▁▁▁▁▁▁▂▁▁▁</td></tr></table><br/></div><div class=\"wandb-col\"><h3>Run summary:</h3><br/><table class=\"wandb\"><tr><td>epoch</td><td>10</td></tr><tr><td>train_accuracy</td><td>87.5</td></tr><tr><td>train_loss</td><td>0.0376</td></tr><tr><td>val_accuracy</td><td>86.3</td></tr><tr><td>validation_loss</td><td>0.03873</td></tr></table><br/></div></div>"
      ],
      "text/plain": [
       "<IPython.core.display.HTML object>"
      ]
     },
     "metadata": {},
     "output_type": "display_data"
    },
    {
     "data": {
      "text/html": [
       " View run <strong style=\"color:#cdcd00\">bright-sweep-69</strong> at: <a href='https://wandb.ai/sumanta_roy/CS6910_assignment_1/runs/132in6ys' target=\"_blank\">https://wandb.ai/sumanta_roy/CS6910_assignment_1/runs/132in6ys</a><br/>Synced 6 W&B file(s), 0 media file(s), 0 artifact file(s) and 0 other file(s)"
      ],
      "text/plain": [
       "<IPython.core.display.HTML object>"
      ]
     },
     "metadata": {},
     "output_type": "display_data"
    },
    {
     "data": {
      "text/html": [
       "Find logs at: <code>./wandb/run-20240317_072413-132in6ys/logs</code>"
      ],
      "text/plain": [
       "<IPython.core.display.HTML object>"
      ]
     },
     "metadata": {},
     "output_type": "display_data"
    },
    {
     "name": "stderr",
     "output_type": "stream",
     "text": [
      "\u001b[34m\u001b[1mwandb\u001b[0m: Agent Starting Run: r1r1em34 with config:\n",
      "\u001b[34m\u001b[1mwandb\u001b[0m: \tactivation: tanh\n",
      "\u001b[34m\u001b[1mwandb\u001b[0m: \tbatch_size: 32\n",
      "\u001b[34m\u001b[1mwandb\u001b[0m: \tepochs: 10\n",
      "\u001b[34m\u001b[1mwandb\u001b[0m: \thidden_layers: 5\n",
      "\u001b[34m\u001b[1mwandb\u001b[0m: \thidden_size: 64\n",
      "\u001b[34m\u001b[1mwandb\u001b[0m: \tloss: cross_entropy\n",
      "\u001b[34m\u001b[1mwandb\u001b[0m: \tlr: 0.0001\n",
      "\u001b[34m\u001b[1mwandb\u001b[0m: \toptimizer: adam\n",
      "\u001b[34m\u001b[1mwandb\u001b[0m: \tw_init: random\n",
      "\u001b[34m\u001b[1mwandb\u001b[0m: \tweight_decay: 0.0005\n"
     ]
    },
    {
     "data": {
      "text/html": [
       "Tracking run with wandb version 0.16.4"
      ],
      "text/plain": [
       "<IPython.core.display.HTML object>"
      ]
     },
     "metadata": {},
     "output_type": "display_data"
    },
    {
     "data": {
      "text/html": [
       "Run data is saved locally in <code>/Users/sumanta/Desktop/Numpy project/cross_entropy_lesspasses/wandb/run-20240317_072615-r1r1em34</code>"
      ],
      "text/plain": [
       "<IPython.core.display.HTML object>"
      ]
     },
     "metadata": {},
     "output_type": "display_data"
    },
    {
     "data": {
      "text/html": [
       "Syncing run <strong><a href='https://wandb.ai/sumanta_roy/CS6910_assignment_1/runs/r1r1em34' target=\"_blank\">trim-sweep-70</a></strong> to <a href='https://wandb.ai/sumanta_roy/CS6910_assignment_1' target=\"_blank\">Weights & Biases</a> (<a href='https://wandb.me/run' target=\"_blank\">docs</a>)<br/>Sweep page: <a href='https://wandb.ai/sumanta_roy/CS6910_assignment_1/sweeps/ff8houdp' target=\"_blank\">https://wandb.ai/sumanta_roy/CS6910_assignment_1/sweeps/ff8houdp</a>"
      ],
      "text/plain": [
       "<IPython.core.display.HTML object>"
      ]
     },
     "metadata": {},
     "output_type": "display_data"
    },
    {
     "data": {
      "text/html": [
       " View project at <a href='https://wandb.ai/sumanta_roy/CS6910_assignment_1' target=\"_blank\">https://wandb.ai/sumanta_roy/CS6910_assignment_1</a>"
      ],
      "text/plain": [
       "<IPython.core.display.HTML object>"
      ]
     },
     "metadata": {},
     "output_type": "display_data"
    },
    {
     "data": {
      "text/html": [
       " View sweep at <a href='https://wandb.ai/sumanta_roy/CS6910_assignment_1/sweeps/ff8houdp' target=\"_blank\">https://wandb.ai/sumanta_roy/CS6910_assignment_1/sweeps/ff8houdp</a>"
      ],
      "text/plain": [
       "<IPython.core.display.HTML object>"
      ]
     },
     "metadata": {},
     "output_type": "display_data"
    },
    {
     "data": {
      "text/html": [
       " View run at <a href='https://wandb.ai/sumanta_roy/CS6910_assignment_1/runs/r1r1em34' target=\"_blank\">https://wandb.ai/sumanta_roy/CS6910_assignment_1/runs/r1r1em34</a>"
      ],
      "text/plain": [
       "<IPython.core.display.HTML object>"
      ]
     },
     "metadata": {},
     "output_type": "display_data"
    },
    {
     "name": "stdout",
     "output_type": "stream",
     "text": [
      "Epoch: 1/10; Train Loss: 0.0980949999762743; Val Loss: 0.08778637173701123\n",
      "Epoch: 2/10; Train Loss: 0.0848324272724906; Val Loss: 0.0746447290750033\n",
      "Epoch: 3/10; Train Loss: 0.07993415191289113; Val Loss: 0.06837674962004246\n",
      "Epoch: 4/10; Train Loss: 0.07724973664594706; Val Loss: 0.06446445058921521\n",
      "Epoch: 5/10; Train Loss: 0.07481827484384147; Val Loss: 0.06166355920306634\n",
      "Epoch: 6/10; Train Loss: 0.07270912794558478; Val Loss: 0.05950117213904964\n",
      "Epoch: 7/10; Train Loss: 0.07099106384294301; Val Loss: 0.05774766213754378\n",
      "Epoch: 8/10; Train Loss: 0.06955270342371267; Val Loss: 0.05627820344957547\n",
      "Epoch: 9/10; Train Loss: 0.06831955942075578; Val Loss: 0.05502999080030618\n",
      "Epoch: 10/10; Train Loss: 0.06722365655457496; Val Loss: 0.053954884309106776\n"
     ]
    },
    {
     "data": {
      "application/vnd.jupyter.widget-view+json": {
       "model_id": "",
       "version_major": 2,
       "version_minor": 0
      },
      "text/plain": [
       "VBox(children=(Label(value='0.001 MB of 0.001 MB uploaded\\r'), FloatProgress(value=1.0, max=1.0)))"
      ]
     },
     "metadata": {},
     "output_type": "display_data"
    },
    {
     "data": {
      "text/html": [
       "<style>\n",
       "    table.wandb td:nth-child(1) { padding: 0 10px; text-align: left ; width: auto;} td:nth-child(2) {text-align: left ; width: 100%}\n",
       "    .wandb-row { display: flex; flex-direction: row; flex-wrap: wrap; justify-content: flex-start; width: 100% }\n",
       "    .wandb-col { display: flex; flex-direction: column; flex-basis: 100%; flex: 1; padding: 10px; }\n",
       "    </style>\n",
       "<div class=\"wandb-row\"><div class=\"wandb-col\"><h3>Run history:</h3><br/><table class=\"wandb\"><tr><td>epoch</td><td>▁▁▁▁▂▂▂▂▃▃▃▃▃▃▃▃▄▄▄▄▅▅▅▅▆▆▆▆▆▆▆▆▇▇▇▇████</td></tr><tr><td>train_accuracy</td><td>▁▅▃▇▅▅▄▆▅▅▅▅▅▅▆▅▆▃▅▅▇▆▇▅▆▆▅▆▇█▆▆▇▆▆▇▇▅▇▇</td></tr><tr><td>train_loss</td><td>█▄▅▃▃▄▄▃▃▄▃▃▃▂▃▄▃▅▃▃▂▃▃▃▃▄▄▂▃▁▂▂▂▂▃▂▁▂▁▂</td></tr><tr><td>val_accuracy</td><td>▁▄▅▆▆▆▆▇▇▇▇▇▇▇▇▇▇▇▇▇▇▇██████████████████</td></tr><tr><td>validation_loss</td><td>█▅▄▃▃▃▃▂▂▂▂▂▂▂▂▂▂▂▂▂▁▁▁▁▁▁▁▁▁▁▁▁▁▁▁▁▁▁▁▁</td></tr></table><br/></div><div class=\"wandb-col\"><h3>Run summary:</h3><br/><table class=\"wandb\"><tr><td>epoch</td><td>10</td></tr><tr><td>train_accuracy</td><td>90.625</td></tr><tr><td>train_loss</td><td>0.06722</td></tr><tr><td>val_accuracy</td><td>80.41667</td></tr><tr><td>validation_loss</td><td>0.05395</td></tr></table><br/></div></div>"
      ],
      "text/plain": [
       "<IPython.core.display.HTML object>"
      ]
     },
     "metadata": {},
     "output_type": "display_data"
    },
    {
     "data": {
      "text/html": [
       " View run <strong style=\"color:#cdcd00\">trim-sweep-70</strong> at: <a href='https://wandb.ai/sumanta_roy/CS6910_assignment_1/runs/r1r1em34' target=\"_blank\">https://wandb.ai/sumanta_roy/CS6910_assignment_1/runs/r1r1em34</a><br/>Synced 6 W&B file(s), 0 media file(s), 0 artifact file(s) and 0 other file(s)"
      ],
      "text/plain": [
       "<IPython.core.display.HTML object>"
      ]
     },
     "metadata": {},
     "output_type": "display_data"
    },
    {
     "data": {
      "text/html": [
       "Find logs at: <code>./wandb/run-20240317_072615-r1r1em34/logs</code>"
      ],
      "text/plain": [
       "<IPython.core.display.HTML object>"
      ]
     },
     "metadata": {},
     "output_type": "display_data"
    },
    {
     "name": "stderr",
     "output_type": "stream",
     "text": [
      "\u001b[34m\u001b[1mwandb\u001b[0m: Agent Starting Run: nerfzmsh with config:\n",
      "\u001b[34m\u001b[1mwandb\u001b[0m: \tactivation: tanh\n",
      "\u001b[34m\u001b[1mwandb\u001b[0m: \tbatch_size: 32\n",
      "\u001b[34m\u001b[1mwandb\u001b[0m: \tepochs: 10\n",
      "\u001b[34m\u001b[1mwandb\u001b[0m: \thidden_layers: 5\n",
      "\u001b[34m\u001b[1mwandb\u001b[0m: \thidden_size: 128\n",
      "\u001b[34m\u001b[1mwandb\u001b[0m: \tloss: cross_entropy\n",
      "\u001b[34m\u001b[1mwandb\u001b[0m: \tlr: 0.0001\n",
      "\u001b[34m\u001b[1mwandb\u001b[0m: \toptimizer: nadam\n",
      "\u001b[34m\u001b[1mwandb\u001b[0m: \tw_init: glorot\n",
      "\u001b[34m\u001b[1mwandb\u001b[0m: \tweight_decay: 0\n"
     ]
    },
    {
     "data": {
      "text/html": [
       "Tracking run with wandb version 0.16.4"
      ],
      "text/plain": [
       "<IPython.core.display.HTML object>"
      ]
     },
     "metadata": {},
     "output_type": "display_data"
    },
    {
     "data": {
      "text/html": [
       "Run data is saved locally in <code>/Users/sumanta/Desktop/Numpy project/cross_entropy_lesspasses/wandb/run-20240317_072750-nerfzmsh</code>"
      ],
      "text/plain": [
       "<IPython.core.display.HTML object>"
      ]
     },
     "metadata": {},
     "output_type": "display_data"
    },
    {
     "data": {
      "text/html": [
       "Syncing run <strong><a href='https://wandb.ai/sumanta_roy/CS6910_assignment_1/runs/nerfzmsh' target=\"_blank\">splendid-sweep-71</a></strong> to <a href='https://wandb.ai/sumanta_roy/CS6910_assignment_1' target=\"_blank\">Weights & Biases</a> (<a href='https://wandb.me/run' target=\"_blank\">docs</a>)<br/>Sweep page: <a href='https://wandb.ai/sumanta_roy/CS6910_assignment_1/sweeps/ff8houdp' target=\"_blank\">https://wandb.ai/sumanta_roy/CS6910_assignment_1/sweeps/ff8houdp</a>"
      ],
      "text/plain": [
       "<IPython.core.display.HTML object>"
      ]
     },
     "metadata": {},
     "output_type": "display_data"
    },
    {
     "data": {
      "text/html": [
       " View project at <a href='https://wandb.ai/sumanta_roy/CS6910_assignment_1' target=\"_blank\">https://wandb.ai/sumanta_roy/CS6910_assignment_1</a>"
      ],
      "text/plain": [
       "<IPython.core.display.HTML object>"
      ]
     },
     "metadata": {},
     "output_type": "display_data"
    },
    {
     "data": {
      "text/html": [
       " View sweep at <a href='https://wandb.ai/sumanta_roy/CS6910_assignment_1/sweeps/ff8houdp' target=\"_blank\">https://wandb.ai/sumanta_roy/CS6910_assignment_1/sweeps/ff8houdp</a>"
      ],
      "text/plain": [
       "<IPython.core.display.HTML object>"
      ]
     },
     "metadata": {},
     "output_type": "display_data"
    },
    {
     "data": {
      "text/html": [
       " View run at <a href='https://wandb.ai/sumanta_roy/CS6910_assignment_1/runs/nerfzmsh' target=\"_blank\">https://wandb.ai/sumanta_roy/CS6910_assignment_1/runs/nerfzmsh</a>"
      ],
      "text/plain": [
       "<IPython.core.display.HTML object>"
      ]
     },
     "metadata": {},
     "output_type": "display_data"
    },
    {
     "name": "stdout",
     "output_type": "stream",
     "text": [
      "Epoch: 1/10; Train Loss: 0.07223789498638684; Val Loss: 0.0735180190640654\n",
      "Epoch: 2/10; Train Loss: 0.0568320927758891; Val Loss: 0.061016373928254666\n",
      "Epoch: 3/10; Train Loss: 0.050140636896705004; Val Loss: 0.054992097318023236\n",
      "Epoch: 4/10; Train Loss: 0.046664481205557405; Val Loss: 0.051435966963395974\n",
      "Epoch: 5/10; Train Loss: 0.04455181071249735; Val Loss: 0.04907466416423974\n",
      "Epoch: 6/10; Train Loss: 0.04311206511657284; Val Loss: 0.047356572795407274\n",
      "Epoch: 7/10; Train Loss: 0.04205252919251899; Val Loss: 0.04601812465770003\n",
      "Epoch: 8/10; Train Loss: 0.04123456428552663; Val Loss: 0.04492565816440085\n",
      "Epoch: 9/10; Train Loss: 0.04058611555005843; Val Loss: 0.044006970020522757\n",
      "Epoch: 10/10; Train Loss: 0.0400652383097861; Val Loss: 0.043219569964924986\n"
     ]
    },
    {
     "data": {
      "application/vnd.jupyter.widget-view+json": {
       "model_id": "",
       "version_major": 2,
       "version_minor": 0
      },
      "text/plain": [
       "VBox(children=(Label(value='0.001 MB of 0.009 MB uploaded\\r'), FloatProgress(value=0.07912268115199345, max=1.…"
      ]
     },
     "metadata": {},
     "output_type": "display_data"
    },
    {
     "data": {
      "text/html": [
       "<style>\n",
       "    table.wandb td:nth-child(1) { padding: 0 10px; text-align: left ; width: auto;} td:nth-child(2) {text-align: left ; width: 100%}\n",
       "    .wandb-row { display: flex; flex-direction: row; flex-wrap: wrap; justify-content: flex-start; width: 100% }\n",
       "    .wandb-col { display: flex; flex-direction: column; flex-basis: 100%; flex: 1; padding: 10px; }\n",
       "    </style>\n",
       "<div class=\"wandb-row\"><div class=\"wandb-col\"><h3>Run history:</h3><br/><table class=\"wandb\"><tr><td>epoch</td><td>▁▁▁▁▂▂▂▂▃▃▃▃▃▃▃▃▄▄▄▄▅▅▅▅▆▆▆▆▆▆▆▆▇▇▇▇████</td></tr><tr><td>train_accuracy</td><td>▁▆▅▇▅▇▅▃▄▅▅▆▅▇▇▅▅▄▆▅▆▅▆▆▅▇▃▅▅█▅▆▇▇▇▆▇▅▇▇</td></tr><tr><td>train_loss</td><td>█▅▅▃▃▃▄▄▃▃▃▃▃▂▂▄▂▅▂▃▂▄▂▂▃▃▅▃▃▁▃▃▂▂▂▃▂▃▁▂</td></tr><tr><td>val_accuracy</td><td>▁▃▄▅▆▆▆▆▇▇▇▇▇▇▇▇▇▇▇█████████████████████</td></tr><tr><td>validation_loss</td><td>█▅▄▄▃▃▃▂▂▂▂▂▂▂▂▂▂▂▁▁▁▁▁▁▁▁▁▁▁▁▁▁▁▁▁▁▁▁▁▁</td></tr></table><br/></div><div class=\"wandb-col\"><h3>Run summary:</h3><br/><table class=\"wandb\"><tr><td>epoch</td><td>10</td></tr><tr><td>train_accuracy</td><td>84.375</td></tr><tr><td>train_loss</td><td>0.04007</td></tr><tr><td>val_accuracy</td><td>84.36667</td></tr><tr><td>validation_loss</td><td>0.04322</td></tr></table><br/></div></div>"
      ],
      "text/plain": [
       "<IPython.core.display.HTML object>"
      ]
     },
     "metadata": {},
     "output_type": "display_data"
    },
    {
     "data": {
      "text/html": [
       " View run <strong style=\"color:#cdcd00\">splendid-sweep-71</strong> at: <a href='https://wandb.ai/sumanta_roy/CS6910_assignment_1/runs/nerfzmsh' target=\"_blank\">https://wandb.ai/sumanta_roy/CS6910_assignment_1/runs/nerfzmsh</a><br/>Synced 6 W&B file(s), 0 media file(s), 0 artifact file(s) and 0 other file(s)"
      ],
      "text/plain": [
       "<IPython.core.display.HTML object>"
      ]
     },
     "metadata": {},
     "output_type": "display_data"
    },
    {
     "data": {
      "text/html": [
       "Find logs at: <code>./wandb/run-20240317_072750-nerfzmsh/logs</code>"
      ],
      "text/plain": [
       "<IPython.core.display.HTML object>"
      ]
     },
     "metadata": {},
     "output_type": "display_data"
    },
    {
     "name": "stderr",
     "output_type": "stream",
     "text": [
      "\u001b[34m\u001b[1mwandb\u001b[0m: Sweep Agent: Waiting for job.\n",
      "\u001b[34m\u001b[1mwandb\u001b[0m: Job received.\n",
      "\u001b[34m\u001b[1mwandb\u001b[0m: Agent Starting Run: 43damxx5 with config:\n",
      "\u001b[34m\u001b[1mwandb\u001b[0m: \tactivation: tanh\n",
      "\u001b[34m\u001b[1mwandb\u001b[0m: \tbatch_size: 32\n",
      "\u001b[34m\u001b[1mwandb\u001b[0m: \tepochs: 10\n",
      "\u001b[34m\u001b[1mwandb\u001b[0m: \thidden_layers: 5\n",
      "\u001b[34m\u001b[1mwandb\u001b[0m: \thidden_size: 64\n",
      "\u001b[34m\u001b[1mwandb\u001b[0m: \tloss: cross_entropy\n",
      "\u001b[34m\u001b[1mwandb\u001b[0m: \tlr: 0.001\n",
      "\u001b[34m\u001b[1mwandb\u001b[0m: \toptimizer: adam\n",
      "\u001b[34m\u001b[1mwandb\u001b[0m: \tw_init: random\n",
      "\u001b[34m\u001b[1mwandb\u001b[0m: \tweight_decay: 0\n"
     ]
    },
    {
     "data": {
      "text/html": [
       "Tracking run with wandb version 0.16.4"
      ],
      "text/plain": [
       "<IPython.core.display.HTML object>"
      ]
     },
     "metadata": {},
     "output_type": "display_data"
    },
    {
     "data": {
      "text/html": [
       "Run data is saved locally in <code>/Users/sumanta/Desktop/Numpy project/cross_entropy_lesspasses/wandb/run-20240317_073143-43damxx5</code>"
      ],
      "text/plain": [
       "<IPython.core.display.HTML object>"
      ]
     },
     "metadata": {},
     "output_type": "display_data"
    },
    {
     "data": {
      "text/html": [
       "Syncing run <strong><a href='https://wandb.ai/sumanta_roy/CS6910_assignment_1/runs/43damxx5' target=\"_blank\">morning-sweep-72</a></strong> to <a href='https://wandb.ai/sumanta_roy/CS6910_assignment_1' target=\"_blank\">Weights & Biases</a> (<a href='https://wandb.me/run' target=\"_blank\">docs</a>)<br/>Sweep page: <a href='https://wandb.ai/sumanta_roy/CS6910_assignment_1/sweeps/ff8houdp' target=\"_blank\">https://wandb.ai/sumanta_roy/CS6910_assignment_1/sweeps/ff8houdp</a>"
      ],
      "text/plain": [
       "<IPython.core.display.HTML object>"
      ]
     },
     "metadata": {},
     "output_type": "display_data"
    },
    {
     "data": {
      "text/html": [
       " View project at <a href='https://wandb.ai/sumanta_roy/CS6910_assignment_1' target=\"_blank\">https://wandb.ai/sumanta_roy/CS6910_assignment_1</a>"
      ],
      "text/plain": [
       "<IPython.core.display.HTML object>"
      ]
     },
     "metadata": {},
     "output_type": "display_data"
    },
    {
     "data": {
      "text/html": [
       " View sweep at <a href='https://wandb.ai/sumanta_roy/CS6910_assignment_1/sweeps/ff8houdp' target=\"_blank\">https://wandb.ai/sumanta_roy/CS6910_assignment_1/sweeps/ff8houdp</a>"
      ],
      "text/plain": [
       "<IPython.core.display.HTML object>"
      ]
     },
     "metadata": {},
     "output_type": "display_data"
    },
    {
     "data": {
      "text/html": [
       " View run at <a href='https://wandb.ai/sumanta_roy/CS6910_assignment_1/runs/43damxx5' target=\"_blank\">https://wandb.ai/sumanta_roy/CS6910_assignment_1/runs/43damxx5</a>"
      ],
      "text/plain": [
       "<IPython.core.display.HTML object>"
      ]
     },
     "metadata": {},
     "output_type": "display_data"
    },
    {
     "name": "stdout",
     "output_type": "stream",
     "text": [
      "Epoch: 1/10; Train Loss: 0.03986976977708996; Val Loss: 0.05118908753817425\n",
      "Epoch: 2/10; Train Loss: 0.039667381776324305; Val Loss: 0.04613577917827063\n",
      "Epoch: 3/10; Train Loss: 0.03787328032480524; Val Loss: 0.0439848498070039\n",
      "Epoch: 4/10; Train Loss: 0.038488608006714393; Val Loss: 0.04248814147299075\n",
      "Epoch: 5/10; Train Loss: 0.03805583797788127; Val Loss: 0.04187333942042033\n",
      "Epoch: 6/10; Train Loss: 0.036955220524976184; Val Loss: 0.041562480201736356\n",
      "Epoch: 7/10; Train Loss: 0.03637081366009044; Val Loss: 0.04130639082619519\n",
      "Epoch: 8/10; Train Loss: 0.035653666072684706; Val Loss: 0.04112725590222725\n",
      "Epoch: 9/10; Train Loss: 0.03478559709564614; Val Loss: 0.0409408583326153\n",
      "Epoch: 10/10; Train Loss: 0.03406936167348021; Val Loss: 0.040895396316236676\n"
     ]
    },
    {
     "data": {
      "application/vnd.jupyter.widget-view+json": {
       "model_id": "",
       "version_major": 2,
       "version_minor": 0
      },
      "text/plain": [
       "VBox(children=(Label(value='0.001 MB of 0.027 MB uploaded\\r'), FloatProgress(value=0.02735260770975057, max=1.…"
      ]
     },
     "metadata": {},
     "output_type": "display_data"
    },
    {
     "data": {
      "text/html": [
       "<style>\n",
       "    table.wandb td:nth-child(1) { padding: 0 10px; text-align: left ; width: auto;} td:nth-child(2) {text-align: left ; width: 100%}\n",
       "    .wandb-row { display: flex; flex-direction: row; flex-wrap: wrap; justify-content: flex-start; width: 100% }\n",
       "    .wandb-col { display: flex; flex-direction: column; flex-basis: 100%; flex: 1; padding: 10px; }\n",
       "    </style>\n",
       "<div class=\"wandb-row\"><div class=\"wandb-col\"><h3>Run history:</h3><br/><table class=\"wandb\"><tr><td>epoch</td><td>▁▁▁▁▂▂▂▂▃▃▃▃▃▃▃▃▄▄▄▄▅▅▅▅▆▆▆▆▆▆▆▆▇▇▇▇████</td></tr><tr><td>train_accuracy</td><td>▂▁▃▇▆▅▅▅▄▄▃▅▅▆▆▄▅▂▆▅▅▅▄▇▅▅▁▃▅█▆▄▇▅▅▇▇▅▇█</td></tr><tr><td>train_loss</td><td>█▇█▃▃▃▄▃▅▅▅▃▃▂▂▆▃█▃▆▃▆▃▂▄▃▇▅▃▁▃▃▃▄▅▃▁▃▂▂</td></tr><tr><td>val_accuracy</td><td>▁▃▅▅▆▆▆▆▇▇▇▇▇▇▇▇█▇▇▇▇███▇██▇████████████</td></tr><tr><td>validation_loss</td><td>█▆▄▄▃▃▃▂▂▂▂▂▂▂▂▂▁▁▁▁▁▁▁▁▁▁▁▁▁▁▁▁▁▁▁▁▁▁▁▁</td></tr></table><br/></div><div class=\"wandb-col\"><h3>Run summary:</h3><br/><table class=\"wandb\"><tr><td>epoch</td><td>10</td></tr><tr><td>train_accuracy</td><td>87.5</td></tr><tr><td>train_loss</td><td>0.03407</td></tr><tr><td>val_accuracy</td><td>85.73333</td></tr><tr><td>validation_loss</td><td>0.0409</td></tr></table><br/></div></div>"
      ],
      "text/plain": [
       "<IPython.core.display.HTML object>"
      ]
     },
     "metadata": {},
     "output_type": "display_data"
    },
    {
     "data": {
      "text/html": [
       " View run <strong style=\"color:#cdcd00\">morning-sweep-72</strong> at: <a href='https://wandb.ai/sumanta_roy/CS6910_assignment_1/runs/43damxx5' target=\"_blank\">https://wandb.ai/sumanta_roy/CS6910_assignment_1/runs/43damxx5</a><br/>Synced 6 W&B file(s), 0 media file(s), 0 artifact file(s) and 0 other file(s)"
      ],
      "text/plain": [
       "<IPython.core.display.HTML object>"
      ]
     },
     "metadata": {},
     "output_type": "display_data"
    },
    {
     "data": {
      "text/html": [
       "Find logs at: <code>./wandb/run-20240317_073143-43damxx5/logs</code>"
      ],
      "text/plain": [
       "<IPython.core.display.HTML object>"
      ]
     },
     "metadata": {},
     "output_type": "display_data"
    },
    {
     "name": "stderr",
     "output_type": "stream",
     "text": [
      "\u001b[34m\u001b[1mwandb\u001b[0m: Agent Starting Run: rbkbuxcy with config:\n",
      "\u001b[34m\u001b[1mwandb\u001b[0m: \tactivation: tanh\n",
      "\u001b[34m\u001b[1mwandb\u001b[0m: \tbatch_size: 16\n",
      "\u001b[34m\u001b[1mwandb\u001b[0m: \tepochs: 10\n",
      "\u001b[34m\u001b[1mwandb\u001b[0m: \thidden_layers: 5\n",
      "\u001b[34m\u001b[1mwandb\u001b[0m: \thidden_size: 128\n",
      "\u001b[34m\u001b[1mwandb\u001b[0m: \tloss: cross_entropy\n",
      "\u001b[34m\u001b[1mwandb\u001b[0m: \tlr: 0.0001\n",
      "\u001b[34m\u001b[1mwandb\u001b[0m: \toptimizer: adam\n",
      "\u001b[34m\u001b[1mwandb\u001b[0m: \tw_init: random\n",
      "\u001b[34m\u001b[1mwandb\u001b[0m: \tweight_decay: 0.0005\n"
     ]
    },
    {
     "data": {
      "text/html": [
       "Tracking run with wandb version 0.16.4"
      ],
      "text/plain": [
       "<IPython.core.display.HTML object>"
      ]
     },
     "metadata": {},
     "output_type": "display_data"
    },
    {
     "data": {
      "text/html": [
       "Run data is saved locally in <code>/Users/sumanta/Desktop/Numpy project/cross_entropy_lesspasses/wandb/run-20240317_073316-rbkbuxcy</code>"
      ],
      "text/plain": [
       "<IPython.core.display.HTML object>"
      ]
     },
     "metadata": {},
     "output_type": "display_data"
    },
    {
     "data": {
      "text/html": [
       "Syncing run <strong><a href='https://wandb.ai/sumanta_roy/CS6910_assignment_1/runs/rbkbuxcy' target=\"_blank\">happy-sweep-73</a></strong> to <a href='https://wandb.ai/sumanta_roy/CS6910_assignment_1' target=\"_blank\">Weights & Biases</a> (<a href='https://wandb.me/run' target=\"_blank\">docs</a>)<br/>Sweep page: <a href='https://wandb.ai/sumanta_roy/CS6910_assignment_1/sweeps/ff8houdp' target=\"_blank\">https://wandb.ai/sumanta_roy/CS6910_assignment_1/sweeps/ff8houdp</a>"
      ],
      "text/plain": [
       "<IPython.core.display.HTML object>"
      ]
     },
     "metadata": {},
     "output_type": "display_data"
    },
    {
     "data": {
      "text/html": [
       " View project at <a href='https://wandb.ai/sumanta_roy/CS6910_assignment_1' target=\"_blank\">https://wandb.ai/sumanta_roy/CS6910_assignment_1</a>"
      ],
      "text/plain": [
       "<IPython.core.display.HTML object>"
      ]
     },
     "metadata": {},
     "output_type": "display_data"
    },
    {
     "data": {
      "text/html": [
       " View sweep at <a href='https://wandb.ai/sumanta_roy/CS6910_assignment_1/sweeps/ff8houdp' target=\"_blank\">https://wandb.ai/sumanta_roy/CS6910_assignment_1/sweeps/ff8houdp</a>"
      ],
      "text/plain": [
       "<IPython.core.display.HTML object>"
      ]
     },
     "metadata": {},
     "output_type": "display_data"
    },
    {
     "data": {
      "text/html": [
       " View run at <a href='https://wandb.ai/sumanta_roy/CS6910_assignment_1/runs/rbkbuxcy' target=\"_blank\">https://wandb.ai/sumanta_roy/CS6910_assignment_1/runs/rbkbuxcy</a>"
      ],
      "text/plain": [
       "<IPython.core.display.HTML object>"
      ]
     },
     "metadata": {},
     "output_type": "display_data"
    },
    {
     "name": "stdout",
     "output_type": "stream",
     "text": [
      "Epoch: 1/10; Train Loss: 0.270351438198729; Val Loss: 0.09187698559750616\n",
      "Epoch: 2/10; Train Loss: 0.2528317851676891; Val Loss: 0.07704267303553683\n",
      "Epoch: 3/10; Train Loss: 0.25071876155610623; Val Loss: 0.07075015337299664\n",
      "Epoch: 4/10; Train Loss: 0.2520498164974043; Val Loss: 0.06656262412616892\n",
      "Epoch: 5/10; Train Loss: 0.2539100773650389; Val Loss: 0.06346233976909599\n",
      "Epoch: 6/10; Train Loss: 0.2542865768038926; Val Loss: 0.06113395410006592\n",
      "Epoch: 7/10; Train Loss: 0.25260623863436676; Val Loss: 0.05941153823601388\n",
      "Epoch: 8/10; Train Loss: 0.2509181197476914; Val Loss: 0.0581533574935886\n",
      "Epoch: 9/10; Train Loss: 0.24955801104794312; Val Loss: 0.05718054501263917\n",
      "Epoch: 10/10; Train Loss: 0.24860767664403297; Val Loss: 0.056347771391041857\n"
     ]
    },
    {
     "data": {
      "application/vnd.jupyter.widget-view+json": {
       "model_id": "",
       "version_major": 2,
       "version_minor": 0
      },
      "text/plain": [
       "VBox(children=(Label(value='0.001 MB of 0.001 MB uploaded\\r'), FloatProgress(value=1.0, max=1.0)))"
      ]
     },
     "metadata": {},
     "output_type": "display_data"
    },
    {
     "data": {
      "text/html": [
       "<style>\n",
       "    table.wandb td:nth-child(1) { padding: 0 10px; text-align: left ; width: auto;} td:nth-child(2) {text-align: left ; width: 100%}\n",
       "    .wandb-row { display: flex; flex-direction: row; flex-wrap: wrap; justify-content: flex-start; width: 100% }\n",
       "    .wandb-col { display: flex; flex-direction: column; flex-basis: 100%; flex: 1; padding: 10px; }\n",
       "    </style>\n",
       "<div class=\"wandb-row\"><div class=\"wandb-col\"><h3>Run history:</h3><br/><table class=\"wandb\"><tr><td>epoch</td><td>▁▁▁▁▂▂▂▂▃▃▃▃▃▃▃▃▄▄▄▄▅▅▅▅▆▆▆▆▆▆▆▆▇▇▇▇████</td></tr><tr><td>train_accuracy</td><td>▃▃▅▆▆▇▅▁▁▆▄▆▄▇▆▄█▃▆▆▆▇▇▇▆▇▅▆▆▆▆▅▆▇▅▆▅▆██</td></tr><tr><td>train_loss</td><td>█▆▄▃▂▂▄▄▇▄▃▂▄▂▃▆▁▄▂▃▂▃▂▁▃▁▄▂▂▁▂▃▂▁▄▃▁▂▂▁</td></tr><tr><td>val_accuracy</td><td>▁▄▅▅▆▆▆▆▇▇▇▇▇▇▇▇▇▇▇▇████████████████████</td></tr><tr><td>validation_loss</td><td>█▅▄▃▃▃▂▂▂▂▂▂▂▂▂▂▂▁▁▁▁▁▁▁▁▁▁▁▁▁▁▁▁▁▁▁▁▁▁▁</td></tr></table><br/></div><div class=\"wandb-col\"><h3>Run summary:</h3><br/><table class=\"wandb\"><tr><td>epoch</td><td>10</td></tr><tr><td>train_accuracy</td><td>93.75</td></tr><tr><td>train_loss</td><td>0.24861</td></tr><tr><td>val_accuracy</td><td>80.28333</td></tr><tr><td>validation_loss</td><td>0.05635</td></tr></table><br/></div></div>"
      ],
      "text/plain": [
       "<IPython.core.display.HTML object>"
      ]
     },
     "metadata": {},
     "output_type": "display_data"
    },
    {
     "data": {
      "text/html": [
       " View run <strong style=\"color:#cdcd00\">happy-sweep-73</strong> at: <a href='https://wandb.ai/sumanta_roy/CS6910_assignment_1/runs/rbkbuxcy' target=\"_blank\">https://wandb.ai/sumanta_roy/CS6910_assignment_1/runs/rbkbuxcy</a><br/>Synced 6 W&B file(s), 0 media file(s), 0 artifact file(s) and 0 other file(s)"
      ],
      "text/plain": [
       "<IPython.core.display.HTML object>"
      ]
     },
     "metadata": {},
     "output_type": "display_data"
    },
    {
     "data": {
      "text/html": [
       "Find logs at: <code>./wandb/run-20240317_073316-rbkbuxcy/logs</code>"
      ],
      "text/plain": [
       "<IPython.core.display.HTML object>"
      ]
     },
     "metadata": {},
     "output_type": "display_data"
    },
    {
     "name": "stderr",
     "output_type": "stream",
     "text": [
      "\u001b[34m\u001b[1mwandb\u001b[0m: Sweep Agent: Waiting for job.\n",
      "\u001b[34m\u001b[1mwandb\u001b[0m: Job received.\n",
      "\u001b[34m\u001b[1mwandb\u001b[0m: Agent Starting Run: 1x7fjlcq with config:\n",
      "\u001b[34m\u001b[1mwandb\u001b[0m: \tactivation: tanh\n",
      "\u001b[34m\u001b[1mwandb\u001b[0m: \tbatch_size: 16\n",
      "\u001b[34m\u001b[1mwandb\u001b[0m: \tepochs: 10\n",
      "\u001b[34m\u001b[1mwandb\u001b[0m: \thidden_layers: 3\n",
      "\u001b[34m\u001b[1mwandb\u001b[0m: \thidden_size: 64\n",
      "\u001b[34m\u001b[1mwandb\u001b[0m: \tloss: cross_entropy\n",
      "\u001b[34m\u001b[1mwandb\u001b[0m: \tlr: 0.001\n",
      "\u001b[34m\u001b[1mwandb\u001b[0m: \toptimizer: nesterov\n",
      "\u001b[34m\u001b[1mwandb\u001b[0m: \tw_init: random\n",
      "\u001b[34m\u001b[1mwandb\u001b[0m: \tweight_decay: 0\n"
     ]
    },
    {
     "data": {
      "text/html": [
       "Tracking run with wandb version 0.16.4"
      ],
      "text/plain": [
       "<IPython.core.display.HTML object>"
      ]
     },
     "metadata": {},
     "output_type": "display_data"
    },
    {
     "data": {
      "text/html": [
       "Run data is saved locally in <code>/Users/sumanta/Desktop/Numpy project/cross_entropy_lesspasses/wandb/run-20240317_073713-1x7fjlcq</code>"
      ],
      "text/plain": [
       "<IPython.core.display.HTML object>"
      ]
     },
     "metadata": {},
     "output_type": "display_data"
    },
    {
     "data": {
      "text/html": [
       "Syncing run <strong><a href='https://wandb.ai/sumanta_roy/CS6910_assignment_1/runs/1x7fjlcq' target=\"_blank\">gallant-sweep-74</a></strong> to <a href='https://wandb.ai/sumanta_roy/CS6910_assignment_1' target=\"_blank\">Weights & Biases</a> (<a href='https://wandb.me/run' target=\"_blank\">docs</a>)<br/>Sweep page: <a href='https://wandb.ai/sumanta_roy/CS6910_assignment_1/sweeps/ff8houdp' target=\"_blank\">https://wandb.ai/sumanta_roy/CS6910_assignment_1/sweeps/ff8houdp</a>"
      ],
      "text/plain": [
       "<IPython.core.display.HTML object>"
      ]
     },
     "metadata": {},
     "output_type": "display_data"
    },
    {
     "data": {
      "text/html": [
       " View project at <a href='https://wandb.ai/sumanta_roy/CS6910_assignment_1' target=\"_blank\">https://wandb.ai/sumanta_roy/CS6910_assignment_1</a>"
      ],
      "text/plain": [
       "<IPython.core.display.HTML object>"
      ]
     },
     "metadata": {},
     "output_type": "display_data"
    },
    {
     "data": {
      "text/html": [
       " View sweep at <a href='https://wandb.ai/sumanta_roy/CS6910_assignment_1/sweeps/ff8houdp' target=\"_blank\">https://wandb.ai/sumanta_roy/CS6910_assignment_1/sweeps/ff8houdp</a>"
      ],
      "text/plain": [
       "<IPython.core.display.HTML object>"
      ]
     },
     "metadata": {},
     "output_type": "display_data"
    },
    {
     "data": {
      "text/html": [
       " View run at <a href='https://wandb.ai/sumanta_roy/CS6910_assignment_1/runs/1x7fjlcq' target=\"_blank\">https://wandb.ai/sumanta_roy/CS6910_assignment_1/runs/1x7fjlcq</a>"
      ],
      "text/plain": [
       "<IPython.core.display.HTML object>"
      ]
     },
     "metadata": {},
     "output_type": "display_data"
    },
    {
     "name": "stdout",
     "output_type": "stream",
     "text": [
      "Epoch: 1/10; Train Loss: 0.030575922461869465; Val Loss: 0.05908886448198225\n",
      "Epoch: 2/10; Train Loss: 0.03202266860725298; Val Loss: 0.052314673658359956\n",
      "Epoch: 3/10; Train Loss: 0.03374946529338279; Val Loss: 0.0490089201407221\n",
      "Epoch: 4/10; Train Loss: 0.03396938381229619; Val Loss: 0.046915116065416096\n",
      "Epoch: 5/10; Train Loss: 0.033348171915024045; Val Loss: 0.0454490683542061\n",
      "Epoch: 6/10; Train Loss: 0.03241493893955995; Val Loss: 0.04434300599010773\n",
      "Epoch: 7/10; Train Loss: 0.03123704780242933; Val Loss: 0.04344634642820881\n",
      "Epoch: 8/10; Train Loss: 0.030249197345517637; Val Loss: 0.04270256732568973\n",
      "Epoch: 9/10; Train Loss: 0.029657050883897345; Val Loss: 0.042089342064968976\n",
      "Epoch: 10/10; Train Loss: 0.029441084930510637; Val Loss: 0.04157935957389393\n"
     ]
    },
    {
     "data": {
      "application/vnd.jupyter.widget-view+json": {
       "model_id": "",
       "version_major": 2,
       "version_minor": 0
      },
      "text/plain": [
       "VBox(children=(Label(value='0.001 MB of 0.001 MB uploaded\\r'), FloatProgress(value=1.0, max=1.0)))"
      ]
     },
     "metadata": {},
     "output_type": "display_data"
    },
    {
     "data": {
      "text/html": [
       "<style>\n",
       "    table.wandb td:nth-child(1) { padding: 0 10px; text-align: left ; width: auto;} td:nth-child(2) {text-align: left ; width: 100%}\n",
       "    .wandb-row { display: flex; flex-direction: row; flex-wrap: wrap; justify-content: flex-start; width: 100% }\n",
       "    .wandb-col { display: flex; flex-direction: column; flex-basis: 100%; flex: 1; padding: 10px; }\n",
       "    </style>\n",
       "<div class=\"wandb-row\"><div class=\"wandb-col\"><h3>Run history:</h3><br/><table class=\"wandb\"><tr><td>epoch</td><td>▁▁▁▁▂▂▂▂▃▃▃▃▃▃▃▃▄▄▄▄▅▅▅▅▆▆▆▆▆▆▆▆▇▇▇▇████</td></tr><tr><td>train_accuracy</td><td>▅▆▆▇▇▅▅▆▄▅▅▇▅▇▆▄▇▅▅▅▆▅▆▇▆▇▁▅▅█▆▅▇▆▄▅▇▅▅▆</td></tr><tr><td>train_loss</td><td>▇▄▄▃▂▄▄▃▇▄▄▂▃▂▃▅▄▆▄▆▃▆▂▂▄▂█▅▅▁▃▄▂▄█▆▁▄▃▃</td></tr><tr><td>val_accuracy</td><td>▁▄▅▆▆▆▆▇▇▇▇▇▇▇▇▇▇▇████▇█▇███████████████</td></tr><tr><td>validation_loss</td><td>█▅▄▃▃▃▂▂▂▂▂▂▂▂▂▂▂▂▁▁▁▁▁▁▂▁▁▁▁▁▁▁▁▁▁▁▁▁▁▁</td></tr></table><br/></div><div class=\"wandb-col\"><h3>Run summary:</h3><br/><table class=\"wandb\"><tr><td>epoch</td><td>10</td></tr><tr><td>train_accuracy</td><td>93.75</td></tr><tr><td>train_loss</td><td>0.02944</td></tr><tr><td>val_accuracy</td><td>85.01667</td></tr><tr><td>validation_loss</td><td>0.04158</td></tr></table><br/></div></div>"
      ],
      "text/plain": [
       "<IPython.core.display.HTML object>"
      ]
     },
     "metadata": {},
     "output_type": "display_data"
    },
    {
     "data": {
      "text/html": [
       " View run <strong style=\"color:#cdcd00\">gallant-sweep-74</strong> at: <a href='https://wandb.ai/sumanta_roy/CS6910_assignment_1/runs/1x7fjlcq' target=\"_blank\">https://wandb.ai/sumanta_roy/CS6910_assignment_1/runs/1x7fjlcq</a><br/>Synced 6 W&B file(s), 0 media file(s), 0 artifact file(s) and 0 other file(s)"
      ],
      "text/plain": [
       "<IPython.core.display.HTML object>"
      ]
     },
     "metadata": {},
     "output_type": "display_data"
    },
    {
     "data": {
      "text/html": [
       "Find logs at: <code>./wandb/run-20240317_073713-1x7fjlcq/logs</code>"
      ],
      "text/plain": [
       "<IPython.core.display.HTML object>"
      ]
     },
     "metadata": {},
     "output_type": "display_data"
    },
    {
     "name": "stderr",
     "output_type": "stream",
     "text": [
      "\u001b[34m\u001b[1mwandb\u001b[0m: Agent Starting Run: a7u627pp with config:\n",
      "\u001b[34m\u001b[1mwandb\u001b[0m: \tactivation: tanh\n",
      "\u001b[34m\u001b[1mwandb\u001b[0m: \tbatch_size: 16\n",
      "\u001b[34m\u001b[1mwandb\u001b[0m: \tepochs: 10\n",
      "\u001b[34m\u001b[1mwandb\u001b[0m: \thidden_layers: 4\n",
      "\u001b[34m\u001b[1mwandb\u001b[0m: \thidden_size: 32\n",
      "\u001b[34m\u001b[1mwandb\u001b[0m: \tloss: cross_entropy\n",
      "\u001b[34m\u001b[1mwandb\u001b[0m: \tlr: 0.001\n",
      "\u001b[34m\u001b[1mwandb\u001b[0m: \toptimizer: rmsprop\n",
      "\u001b[34m\u001b[1mwandb\u001b[0m: \tw_init: random\n",
      "\u001b[34m\u001b[1mwandb\u001b[0m: \tweight_decay: 0\n"
     ]
    },
    {
     "data": {
      "text/html": [
       "Tracking run with wandb version 0.16.4"
      ],
      "text/plain": [
       "<IPython.core.display.HTML object>"
      ]
     },
     "metadata": {},
     "output_type": "display_data"
    },
    {
     "data": {
      "text/html": [
       "Run data is saved locally in <code>/Users/sumanta/Desktop/Numpy project/cross_entropy_lesspasses/wandb/run-20240317_073858-a7u627pp</code>"
      ],
      "text/plain": [
       "<IPython.core.display.HTML object>"
      ]
     },
     "metadata": {},
     "output_type": "display_data"
    },
    {
     "data": {
      "text/html": [
       "Syncing run <strong><a href='https://wandb.ai/sumanta_roy/CS6910_assignment_1/runs/a7u627pp' target=\"_blank\">iconic-sweep-75</a></strong> to <a href='https://wandb.ai/sumanta_roy/CS6910_assignment_1' target=\"_blank\">Weights & Biases</a> (<a href='https://wandb.me/run' target=\"_blank\">docs</a>)<br/>Sweep page: <a href='https://wandb.ai/sumanta_roy/CS6910_assignment_1/sweeps/ff8houdp' target=\"_blank\">https://wandb.ai/sumanta_roy/CS6910_assignment_1/sweeps/ff8houdp</a>"
      ],
      "text/plain": [
       "<IPython.core.display.HTML object>"
      ]
     },
     "metadata": {},
     "output_type": "display_data"
    },
    {
     "data": {
      "text/html": [
       " View project at <a href='https://wandb.ai/sumanta_roy/CS6910_assignment_1' target=\"_blank\">https://wandb.ai/sumanta_roy/CS6910_assignment_1</a>"
      ],
      "text/plain": [
       "<IPython.core.display.HTML object>"
      ]
     },
     "metadata": {},
     "output_type": "display_data"
    },
    {
     "data": {
      "text/html": [
       " View sweep at <a href='https://wandb.ai/sumanta_roy/CS6910_assignment_1/sweeps/ff8houdp' target=\"_blank\">https://wandb.ai/sumanta_roy/CS6910_assignment_1/sweeps/ff8houdp</a>"
      ],
      "text/plain": [
       "<IPython.core.display.HTML object>"
      ]
     },
     "metadata": {},
     "output_type": "display_data"
    },
    {
     "data": {
      "text/html": [
       " View run at <a href='https://wandb.ai/sumanta_roy/CS6910_assignment_1/runs/a7u627pp' target=\"_blank\">https://wandb.ai/sumanta_roy/CS6910_assignment_1/runs/a7u627pp</a>"
      ],
      "text/plain": [
       "<IPython.core.display.HTML object>"
      ]
     },
     "metadata": {},
     "output_type": "display_data"
    },
    {
     "name": "stdout",
     "output_type": "stream",
     "text": [
      "Epoch: 1/10; Train Loss: 0.027194205225430194; Val Loss: 0.05291249267975017\n",
      "Epoch: 2/10; Train Loss: 0.031064574032482955; Val Loss: 0.049391332982915766\n",
      "Epoch: 3/10; Train Loss: 0.031824651651378946; Val Loss: 0.046029771800419304\n",
      "Epoch: 4/10; Train Loss: 0.02409039364272024; Val Loss: 0.04592362369457517\n",
      "Epoch: 5/10; Train Loss: 0.02844191151299828; Val Loss: 0.04635244622365338\n",
      "Epoch: 6/10; Train Loss: 0.02290661998292868; Val Loss: 0.04548949242487595\n",
      "Epoch: 7/10; Train Loss: 0.021660970734386043; Val Loss: 0.043259325150704436\n",
      "Epoch: 8/10; Train Loss: 0.020580055510506103; Val Loss: 0.043019485343807555\n",
      "Epoch: 9/10; Train Loss: 0.019783021197816223; Val Loss: 0.043107480119926884\n",
      "Epoch: 10/10; Train Loss: 0.020402358254484224; Val Loss: 0.04289945697685759\n"
     ]
    },
    {
     "data": {
      "application/vnd.jupyter.widget-view+json": {
       "model_id": "",
       "version_major": 2,
       "version_minor": 0
      },
      "text/plain": [
       "VBox(children=(Label(value='0.001 MB of 0.001 MB uploaded\\r'), FloatProgress(value=1.0, max=1.0)))"
      ]
     },
     "metadata": {},
     "output_type": "display_data"
    },
    {
     "data": {
      "text/html": [
       "<style>\n",
       "    table.wandb td:nth-child(1) { padding: 0 10px; text-align: left ; width: auto;} td:nth-child(2) {text-align: left ; width: 100%}\n",
       "    .wandb-row { display: flex; flex-direction: row; flex-wrap: wrap; justify-content: flex-start; width: 100% }\n",
       "    .wandb-col { display: flex; flex-direction: column; flex-basis: 100%; flex: 1; padding: 10px; }\n",
       "    </style>\n",
       "<div class=\"wandb-row\"><div class=\"wandb-col\"><h3>Run history:</h3><br/><table class=\"wandb\"><tr><td>epoch</td><td>▁▁▁▁▂▂▂▂▃▃▃▃▃▃▃▃▄▄▄▄▅▅▅▅▆▆▆▆▆▆▆▆▇▇▇▇████</td></tr><tr><td>train_accuracy</td><td>▂▆▇▅▇▇▆▆▃▅▃▇▃█▅▆▆▂▅▃▅▆▅▆▆█▂▆▅▇▅▆▅▆▃▁▆▃▇▆</td></tr><tr><td>train_loss</td><td>▇▄▃▄▂▃▂▃█▅▆▂▄▁▄▅▃█▄▆▆▅▅▂▇▁█▄▃▂▄▅▄▃▇█▂▄▃▄</td></tr><tr><td>val_accuracy</td><td>▁▃▅▆▆▆▆▇▇▇▇▇▇▇▇▇▇▇▇▇██▇█▇▇▇██▇██▇██▇█▇██</td></tr><tr><td>validation_loss</td><td>█▅▄▃▃▂▂▂▂▂▂▂▂▂▂▂▁▁▁▂▁▁▁▁▂▁▂▁▁▂▁▁▂▁▁▁▁▁▁▁</td></tr></table><br/></div><div class=\"wandb-col\"><h3>Run summary:</h3><br/><table class=\"wandb\"><tr><td>epoch</td><td>10</td></tr><tr><td>train_accuracy</td><td>93.75</td></tr><tr><td>train_loss</td><td>0.0204</td></tr><tr><td>val_accuracy</td><td>85.53333</td></tr><tr><td>validation_loss</td><td>0.0429</td></tr></table><br/></div></div>"
      ],
      "text/plain": [
       "<IPython.core.display.HTML object>"
      ]
     },
     "metadata": {},
     "output_type": "display_data"
    },
    {
     "data": {
      "text/html": [
       " View run <strong style=\"color:#cdcd00\">iconic-sweep-75</strong> at: <a href='https://wandb.ai/sumanta_roy/CS6910_assignment_1/runs/a7u627pp' target=\"_blank\">https://wandb.ai/sumanta_roy/CS6910_assignment_1/runs/a7u627pp</a><br/>Synced 6 W&B file(s), 0 media file(s), 0 artifact file(s) and 0 other file(s)"
      ],
      "text/plain": [
       "<IPython.core.display.HTML object>"
      ]
     },
     "metadata": {},
     "output_type": "display_data"
    },
    {
     "data": {
      "text/html": [
       "Find logs at: <code>./wandb/run-20240317_073858-a7u627pp/logs</code>"
      ],
      "text/plain": [
       "<IPython.core.display.HTML object>"
      ]
     },
     "metadata": {},
     "output_type": "display_data"
    },
    {
     "name": "stderr",
     "output_type": "stream",
     "text": [
      "\u001b[34m\u001b[1mwandb\u001b[0m: Agent Starting Run: mboy555b with config:\n",
      "\u001b[34m\u001b[1mwandb\u001b[0m: \tactivation: tanh\n",
      "\u001b[34m\u001b[1mwandb\u001b[0m: \tbatch_size: 16\n",
      "\u001b[34m\u001b[1mwandb\u001b[0m: \tepochs: 10\n",
      "\u001b[34m\u001b[1mwandb\u001b[0m: \thidden_layers: 5\n",
      "\u001b[34m\u001b[1mwandb\u001b[0m: \thidden_size: 64\n",
      "\u001b[34m\u001b[1mwandb\u001b[0m: \tloss: cross_entropy\n",
      "\u001b[34m\u001b[1mwandb\u001b[0m: \tlr: 0.001\n",
      "\u001b[34m\u001b[1mwandb\u001b[0m: \toptimizer: adam\n",
      "\u001b[34m\u001b[1mwandb\u001b[0m: \tw_init: random\n",
      "\u001b[34m\u001b[1mwandb\u001b[0m: \tweight_decay: 0.0005\n"
     ]
    },
    {
     "data": {
      "text/html": [
       "Tracking run with wandb version 0.16.4"
      ],
      "text/plain": [
       "<IPython.core.display.HTML object>"
      ]
     },
     "metadata": {},
     "output_type": "display_data"
    },
    {
     "data": {
      "text/html": [
       "Run data is saved locally in <code>/Users/sumanta/Desktop/Numpy project/cross_entropy_lesspasses/wandb/run-20240317_074007-mboy555b</code>"
      ],
      "text/plain": [
       "<IPython.core.display.HTML object>"
      ]
     },
     "metadata": {},
     "output_type": "display_data"
    },
    {
     "data": {
      "text/html": [
       "Syncing run <strong><a href='https://wandb.ai/sumanta_roy/CS6910_assignment_1/runs/mboy555b' target=\"_blank\">dazzling-sweep-76</a></strong> to <a href='https://wandb.ai/sumanta_roy/CS6910_assignment_1' target=\"_blank\">Weights & Biases</a> (<a href='https://wandb.me/run' target=\"_blank\">docs</a>)<br/>Sweep page: <a href='https://wandb.ai/sumanta_roy/CS6910_assignment_1/sweeps/ff8houdp' target=\"_blank\">https://wandb.ai/sumanta_roy/CS6910_assignment_1/sweeps/ff8houdp</a>"
      ],
      "text/plain": [
       "<IPython.core.display.HTML object>"
      ]
     },
     "metadata": {},
     "output_type": "display_data"
    },
    {
     "data": {
      "text/html": [
       " View project at <a href='https://wandb.ai/sumanta_roy/CS6910_assignment_1' target=\"_blank\">https://wandb.ai/sumanta_roy/CS6910_assignment_1</a>"
      ],
      "text/plain": [
       "<IPython.core.display.HTML object>"
      ]
     },
     "metadata": {},
     "output_type": "display_data"
    },
    {
     "data": {
      "text/html": [
       " View sweep at <a href='https://wandb.ai/sumanta_roy/CS6910_assignment_1/sweeps/ff8houdp' target=\"_blank\">https://wandb.ai/sumanta_roy/CS6910_assignment_1/sweeps/ff8houdp</a>"
      ],
      "text/plain": [
       "<IPython.core.display.HTML object>"
      ]
     },
     "metadata": {},
     "output_type": "display_data"
    },
    {
     "data": {
      "text/html": [
       " View run at <a href='https://wandb.ai/sumanta_roy/CS6910_assignment_1/runs/mboy555b' target=\"_blank\">https://wandb.ai/sumanta_roy/CS6910_assignment_1/runs/mboy555b</a>"
      ],
      "text/plain": [
       "<IPython.core.display.HTML object>"
      ]
     },
     "metadata": {},
     "output_type": "display_data"
    },
    {
     "name": "stdout",
     "output_type": "stream",
     "text": [
      "Epoch: 1/10; Train Loss: 0.11521739942117812; Val Loss: 0.05067516175766765\n",
      "Epoch: 2/10; Train Loss: 0.11095574135713368; Val Loss: 0.046033980929747614\n",
      "Epoch: 3/10; Train Loss: 0.10754448616509682; Val Loss: 0.04339396221302539\n",
      "Epoch: 4/10; Train Loss: 0.1083158314341579; Val Loss: 0.04130015173286728\n",
      "Epoch: 5/10; Train Loss: 0.10582778343924806; Val Loss: 0.040019011048761426\n",
      "Epoch: 6/10; Train Loss: 0.10316151002041923; Val Loss: 0.03935955505884753\n",
      "Epoch: 7/10; Train Loss: 0.10332366349141882; Val Loss: 0.039208637213121726\n",
      "Epoch: 8/10; Train Loss: 0.10048337402371177; Val Loss: 0.0391212060062423\n",
      "Epoch: 9/10; Train Loss: 0.0997142626971872; Val Loss: 0.03917859065588222\n",
      "Epoch: 10/10; Train Loss: 0.09975525217865855; Val Loss: 0.03936988657630221\n"
     ]
    },
    {
     "data": {
      "application/vnd.jupyter.widget-view+json": {
       "model_id": "",
       "version_major": 2,
       "version_minor": 0
      },
      "text/plain": [
       "VBox(children=(Label(value='0.001 MB of 0.001 MB uploaded\\r'), FloatProgress(value=1.0, max=1.0)))"
      ]
     },
     "metadata": {},
     "output_type": "display_data"
    },
    {
     "data": {
      "text/html": [
       "<style>\n",
       "    table.wandb td:nth-child(1) { padding: 0 10px; text-align: left ; width: auto;} td:nth-child(2) {text-align: left ; width: 100%}\n",
       "    .wandb-row { display: flex; flex-direction: row; flex-wrap: wrap; justify-content: flex-start; width: 100% }\n",
       "    .wandb-col { display: flex; flex-direction: column; flex-basis: 100%; flex: 1; padding: 10px; }\n",
       "    </style>\n",
       "<div class=\"wandb-row\"><div class=\"wandb-col\"><h3>Run history:</h3><br/><table class=\"wandb\"><tr><td>epoch</td><td>▁▁▁▁▂▂▂▂▃▃▃▃▃▃▃▃▄▄▄▄▅▅▅▅▆▆▆▆▆▆▆▆▇▇▇▇████</td></tr><tr><td>train_accuracy</td><td>▄▅▄▅▅▇▄▇▄▂▄▅▇▇▇▂▅▅▂▂▂▄▄██▇▂▄▄▇▅▂▅▇▁▅▇▄▅▅</td></tr><tr><td>train_loss</td><td>█▅▆▄▄▃▅▃▆▆▄▃▃▁▃▇▃▄▅█▅▅▄▁▂▂▇▅▃▁▃▅▂▂▇▃▁▄▃▃</td></tr><tr><td>val_accuracy</td><td>▁▃▅▅▆▆▆▇▇▇▆▇▇▇▇▇▇▇██▇█▇▇▇██████▇████████</td></tr><tr><td>validation_loss</td><td>█▆▄▄▃▃▃▂▂▂▂▂▂▂▂▂▂▁▁▁▁▁▁▂▂▁▁▁▁▁▁▁▁▁▁▁▁▁▁▁</td></tr></table><br/></div><div class=\"wandb-col\"><h3>Run summary:</h3><br/><table class=\"wandb\"><tr><td>epoch</td><td>10</td></tr><tr><td>train_accuracy</td><td>93.75</td></tr><tr><td>train_loss</td><td>0.09976</td></tr><tr><td>val_accuracy</td><td>86.1</td></tr><tr><td>validation_loss</td><td>0.03937</td></tr></table><br/></div></div>"
      ],
      "text/plain": [
       "<IPython.core.display.HTML object>"
      ]
     },
     "metadata": {},
     "output_type": "display_data"
    },
    {
     "data": {
      "text/html": [
       " View run <strong style=\"color:#cdcd00\">dazzling-sweep-76</strong> at: <a href='https://wandb.ai/sumanta_roy/CS6910_assignment_1/runs/mboy555b' target=\"_blank\">https://wandb.ai/sumanta_roy/CS6910_assignment_1/runs/mboy555b</a><br/>Synced 6 W&B file(s), 0 media file(s), 0 artifact file(s) and 0 other file(s)"
      ],
      "text/plain": [
       "<IPython.core.display.HTML object>"
      ]
     },
     "metadata": {},
     "output_type": "display_data"
    },
    {
     "data": {
      "text/html": [
       "Find logs at: <code>./wandb/run-20240317_074007-mboy555b/logs</code>"
      ],
      "text/plain": [
       "<IPython.core.display.HTML object>"
      ]
     },
     "metadata": {},
     "output_type": "display_data"
    },
    {
     "name": "stderr",
     "output_type": "stream",
     "text": [
      "\u001b[34m\u001b[1mwandb\u001b[0m: Sweep Agent: Waiting for job.\n",
      "\u001b[34m\u001b[1mwandb\u001b[0m: Job received.\n",
      "\u001b[34m\u001b[1mwandb\u001b[0m: Agent Starting Run: xnmt971w with config:\n",
      "\u001b[34m\u001b[1mwandb\u001b[0m: \tactivation: tanh\n",
      "\u001b[34m\u001b[1mwandb\u001b[0m: \tbatch_size: 16\n",
      "\u001b[34m\u001b[1mwandb\u001b[0m: \tepochs: 10\n",
      "\u001b[34m\u001b[1mwandb\u001b[0m: \thidden_layers: 4\n",
      "\u001b[34m\u001b[1mwandb\u001b[0m: \thidden_size: 128\n",
      "\u001b[34m\u001b[1mwandb\u001b[0m: \tloss: cross_entropy\n",
      "\u001b[34m\u001b[1mwandb\u001b[0m: \tlr: 0.0001\n",
      "\u001b[34m\u001b[1mwandb\u001b[0m: \toptimizer: adam\n",
      "\u001b[34m\u001b[1mwandb\u001b[0m: \tw_init: glorot\n",
      "\u001b[34m\u001b[1mwandb\u001b[0m: \tweight_decay: 0.0005\n"
     ]
    },
    {
     "data": {
      "text/html": [
       "Tracking run with wandb version 0.16.4"
      ],
      "text/plain": [
       "<IPython.core.display.HTML object>"
      ]
     },
     "metadata": {},
     "output_type": "display_data"
    },
    {
     "data": {
      "text/html": [
       "Run data is saved locally in <code>/Users/sumanta/Desktop/Numpy project/cross_entropy_lesspasses/wandb/run-20240317_074209-xnmt971w</code>"
      ],
      "text/plain": [
       "<IPython.core.display.HTML object>"
      ]
     },
     "metadata": {},
     "output_type": "display_data"
    },
    {
     "data": {
      "text/html": [
       "Syncing run <strong><a href='https://wandb.ai/sumanta_roy/CS6910_assignment_1/runs/xnmt971w' target=\"_blank\">chocolate-sweep-77</a></strong> to <a href='https://wandb.ai/sumanta_roy/CS6910_assignment_1' target=\"_blank\">Weights & Biases</a> (<a href='https://wandb.me/run' target=\"_blank\">docs</a>)<br/>Sweep page: <a href='https://wandb.ai/sumanta_roy/CS6910_assignment_1/sweeps/ff8houdp' target=\"_blank\">https://wandb.ai/sumanta_roy/CS6910_assignment_1/sweeps/ff8houdp</a>"
      ],
      "text/plain": [
       "<IPython.core.display.HTML object>"
      ]
     },
     "metadata": {},
     "output_type": "display_data"
    },
    {
     "data": {
      "text/html": [
       " View project at <a href='https://wandb.ai/sumanta_roy/CS6910_assignment_1' target=\"_blank\">https://wandb.ai/sumanta_roy/CS6910_assignment_1</a>"
      ],
      "text/plain": [
       "<IPython.core.display.HTML object>"
      ]
     },
     "metadata": {},
     "output_type": "display_data"
    },
    {
     "data": {
      "text/html": [
       " View sweep at <a href='https://wandb.ai/sumanta_roy/CS6910_assignment_1/sweeps/ff8houdp' target=\"_blank\">https://wandb.ai/sumanta_roy/CS6910_assignment_1/sweeps/ff8houdp</a>"
      ],
      "text/plain": [
       "<IPython.core.display.HTML object>"
      ]
     },
     "metadata": {},
     "output_type": "display_data"
    },
    {
     "data": {
      "text/html": [
       " View run at <a href='https://wandb.ai/sumanta_roy/CS6910_assignment_1/runs/xnmt971w' target=\"_blank\">https://wandb.ai/sumanta_roy/CS6910_assignment_1/runs/xnmt971w</a>"
      ],
      "text/plain": [
       "<IPython.core.display.HTML object>"
      ]
     },
     "metadata": {},
     "output_type": "display_data"
    },
    {
     "name": "stdout",
     "output_type": "stream",
     "text": [
      "Epoch: 1/10; Train Loss: 0.05377712913876443; Val Loss: 0.0450229148740122\n",
      "Epoch: 2/10; Train Loss: 0.052878151767561665; Val Loss: 0.04085681629742173\n",
      "Epoch: 3/10; Train Loss: 0.051618463392016034; Val Loss: 0.038702717650214456\n",
      "Epoch: 4/10; Train Loss: 0.05070367652909044; Val Loss: 0.03727722573526298\n",
      "Epoch: 5/10; Train Loss: 0.05001438400882445; Val Loss: 0.03623128836736377\n",
      "Epoch: 6/10; Train Loss: 0.049517942593536896; Val Loss: 0.035419503612474444\n",
      "Epoch: 7/10; Train Loss: 0.04915707453453731; Val Loss: 0.03476601932950478\n",
      "Epoch: 8/10; Train Loss: 0.04887242032795188; Val Loss: 0.03422565365695818\n",
      "Epoch: 9/10; Train Loss: 0.04862690724834097; Val Loss: 0.033769236265371864\n",
      "Epoch: 10/10; Train Loss: 0.04839840349328119; Val Loss: 0.03337669155956928\n"
     ]
    },
    {
     "data": {
      "application/vnd.jupyter.widget-view+json": {
       "model_id": "",
       "version_major": 2,
       "version_minor": 0
      },
      "text/plain": [
       "VBox(children=(Label(value='0.001 MB of 0.001 MB uploaded\\r'), FloatProgress(value=1.0, max=1.0)))"
      ]
     },
     "metadata": {},
     "output_type": "display_data"
    },
    {
     "data": {
      "text/html": [
       "<style>\n",
       "    table.wandb td:nth-child(1) { padding: 0 10px; text-align: left ; width: auto;} td:nth-child(2) {text-align: left ; width: 100%}\n",
       "    .wandb-row { display: flex; flex-direction: row; flex-wrap: wrap; justify-content: flex-start; width: 100% }\n",
       "    .wandb-col { display: flex; flex-direction: column; flex-basis: 100%; flex: 1; padding: 10px; }\n",
       "    </style>\n",
       "<div class=\"wandb-row\"><div class=\"wandb-col\"><h3>Run history:</h3><br/><table class=\"wandb\"><tr><td>epoch</td><td>▁▁▁▁▂▂▂▂▃▃▃▃▃▃▃▃▄▄▄▄▅▅▅▅▆▆▆▆▆▆▆▆▇▇▇▇████</td></tr><tr><td>train_accuracy</td><td>▁█▅▅▅▄█▄▂▄▄▇▅██▂▅▄▄▂▅▄▅▇▇▇▂▄▄█▄▂▇▅▁▂▇▂▇▄</td></tr><tr><td>train_loss</td><td>▇▂▃▃▃▄▂▃█▄▄▂▃▁▂▆▂▇▅▇▄▅▄▂▄▂▅▇▄▂▃▅▃▃█▅▂▄▃▄</td></tr><tr><td>val_accuracy</td><td>▁▄▅▅▆▆▆▆▇▇▇▇▇▇▇▇▇▇▇▇████▇███████████████</td></tr><tr><td>validation_loss</td><td>█▅▄▃▃▃▃▂▂▂▂▂▂▂▂▂▂▂▂▂▁▁▁▁▂▁▁▁▁▁▁▁▁▁▁▁▁▁▁▁</td></tr></table><br/></div><div class=\"wandb-col\"><h3>Run summary:</h3><br/><table class=\"wandb\"><tr><td>epoch</td><td>10</td></tr><tr><td>train_accuracy</td><td>93.75</td></tr><tr><td>train_loss</td><td>0.0484</td></tr><tr><td>val_accuracy</td><td>88.26667</td></tr><tr><td>validation_loss</td><td>0.03338</td></tr></table><br/></div></div>"
      ],
      "text/plain": [
       "<IPython.core.display.HTML object>"
      ]
     },
     "metadata": {},
     "output_type": "display_data"
    },
    {
     "data": {
      "text/html": [
       " View run <strong style=\"color:#cdcd00\">chocolate-sweep-77</strong> at: <a href='https://wandb.ai/sumanta_roy/CS6910_assignment_1/runs/xnmt971w' target=\"_blank\">https://wandb.ai/sumanta_roy/CS6910_assignment_1/runs/xnmt971w</a><br/>Synced 6 W&B file(s), 0 media file(s), 0 artifact file(s) and 0 other file(s)"
      ],
      "text/plain": [
       "<IPython.core.display.HTML object>"
      ]
     },
     "metadata": {},
     "output_type": "display_data"
    },
    {
     "data": {
      "text/html": [
       "Find logs at: <code>./wandb/run-20240317_074209-xnmt971w/logs</code>"
      ],
      "text/plain": [
       "<IPython.core.display.HTML object>"
      ]
     },
     "metadata": {},
     "output_type": "display_data"
    },
    {
     "name": "stderr",
     "output_type": "stream",
     "text": [
      "\u001b[34m\u001b[1mwandb\u001b[0m: Agent Starting Run: heu9f56i with config:\n",
      "\u001b[34m\u001b[1mwandb\u001b[0m: \tactivation: tanh\n",
      "\u001b[34m\u001b[1mwandb\u001b[0m: \tbatch_size: 16\n",
      "\u001b[34m\u001b[1mwandb\u001b[0m: \tepochs: 10\n",
      "\u001b[34m\u001b[1mwandb\u001b[0m: \thidden_layers: 5\n",
      "\u001b[34m\u001b[1mwandb\u001b[0m: \thidden_size: 128\n",
      "\u001b[34m\u001b[1mwandb\u001b[0m: \tloss: cross_entropy\n",
      "\u001b[34m\u001b[1mwandb\u001b[0m: \tlr: 0.001\n",
      "\u001b[34m\u001b[1mwandb\u001b[0m: \toptimizer: adam\n",
      "\u001b[34m\u001b[1mwandb\u001b[0m: \tw_init: random\n",
      "\u001b[34m\u001b[1mwandb\u001b[0m: \tweight_decay: 0.0005\n"
     ]
    },
    {
     "data": {
      "text/html": [
       "Tracking run with wandb version 0.16.4"
      ],
      "text/plain": [
       "<IPython.core.display.HTML object>"
      ]
     },
     "metadata": {},
     "output_type": "display_data"
    },
    {
     "data": {
      "text/html": [
       "Run data is saved locally in <code>/Users/sumanta/Desktop/Numpy project/cross_entropy_lesspasses/wandb/run-20240317_074547-heu9f56i</code>"
      ],
      "text/plain": [
       "<IPython.core.display.HTML object>"
      ]
     },
     "metadata": {},
     "output_type": "display_data"
    },
    {
     "data": {
      "text/html": [
       "Syncing run <strong><a href='https://wandb.ai/sumanta_roy/CS6910_assignment_1/runs/heu9f56i' target=\"_blank\">lyric-sweep-78</a></strong> to <a href='https://wandb.ai/sumanta_roy/CS6910_assignment_1' target=\"_blank\">Weights & Biases</a> (<a href='https://wandb.me/run' target=\"_blank\">docs</a>)<br/>Sweep page: <a href='https://wandb.ai/sumanta_roy/CS6910_assignment_1/sweeps/ff8houdp' target=\"_blank\">https://wandb.ai/sumanta_roy/CS6910_assignment_1/sweeps/ff8houdp</a>"
      ],
      "text/plain": [
       "<IPython.core.display.HTML object>"
      ]
     },
     "metadata": {},
     "output_type": "display_data"
    },
    {
     "data": {
      "text/html": [
       " View project at <a href='https://wandb.ai/sumanta_roy/CS6910_assignment_1' target=\"_blank\">https://wandb.ai/sumanta_roy/CS6910_assignment_1</a>"
      ],
      "text/plain": [
       "<IPython.core.display.HTML object>"
      ]
     },
     "metadata": {},
     "output_type": "display_data"
    },
    {
     "data": {
      "text/html": [
       " View sweep at <a href='https://wandb.ai/sumanta_roy/CS6910_assignment_1/sweeps/ff8houdp' target=\"_blank\">https://wandb.ai/sumanta_roy/CS6910_assignment_1/sweeps/ff8houdp</a>"
      ],
      "text/plain": [
       "<IPython.core.display.HTML object>"
      ]
     },
     "metadata": {},
     "output_type": "display_data"
    },
    {
     "data": {
      "text/html": [
       " View run at <a href='https://wandb.ai/sumanta_roy/CS6910_assignment_1/runs/heu9f56i' target=\"_blank\">https://wandb.ai/sumanta_roy/CS6910_assignment_1/runs/heu9f56i</a>"
      ],
      "text/plain": [
       "<IPython.core.display.HTML object>"
      ]
     },
     "metadata": {},
     "output_type": "display_data"
    },
    {
     "name": "stdout",
     "output_type": "stream",
     "text": [
      "Epoch: 1/10; Train Loss: 0.24389226152035326; Val Loss: 0.05288278676066923\n",
      "Epoch: 2/10; Train Loss: 0.24101299631089043; Val Loss: 0.04680570692546829\n",
      "Epoch: 3/10; Train Loss: 0.23460490441122284; Val Loss: 0.043213109264820526\n",
      "Epoch: 4/10; Train Loss: 0.22943400057432167; Val Loss: 0.0424796576100289\n",
      "Epoch: 5/10; Train Loss: 0.21726337668688428; Val Loss: 0.040395932911042105\n",
      "Epoch: 6/10; Train Loss: 0.22378943701635712; Val Loss: 0.0404530349747347\n",
      "Epoch: 7/10; Train Loss: 0.21351634480691084; Val Loss: 0.04036605822203716\n",
      "Epoch: 8/10; Train Loss: 0.20650360486064195; Val Loss: 0.039564243079396974\n",
      "Epoch: 9/10; Train Loss: 0.21028404772787423; Val Loss: 0.03942892066041471\n",
      "Epoch: 10/10; Train Loss: 0.20352332296036024; Val Loss: 0.03878460588463262\n"
     ]
    },
    {
     "data": {
      "application/vnd.jupyter.widget-view+json": {
       "model_id": "",
       "version_major": 2,
       "version_minor": 0
      },
      "text/plain": [
       "VBox(children=(Label(value='0.001 MB of 0.001 MB uploaded\\r'), FloatProgress(value=1.0, max=1.0)))"
      ]
     },
     "metadata": {},
     "output_type": "display_data"
    },
    {
     "data": {
      "text/html": [
       "<style>\n",
       "    table.wandb td:nth-child(1) { padding: 0 10px; text-align: left ; width: auto;} td:nth-child(2) {text-align: left ; width: 100%}\n",
       "    .wandb-row { display: flex; flex-direction: row; flex-wrap: wrap; justify-content: flex-start; width: 100% }\n",
       "    .wandb-col { display: flex; flex-direction: column; flex-basis: 100%; flex: 1; padding: 10px; }\n",
       "    </style>\n",
       "<div class=\"wandb-row\"><div class=\"wandb-col\"><h3>Run history:</h3><br/><table class=\"wandb\"><tr><td>epoch</td><td>▁▁▁▁▂▂▂▂▃▃▃▃▃▃▃▃▄▄▄▄▅▅▅▅▆▆▆▆▆▆▆▆▇▇▇▇████</td></tr><tr><td>train_accuracy</td><td>▂▇▄▅▇▁█▅▂▅▄█▄█▄▄█▁▅▂▄▄▄█▇▇▂▂▇█▅▁▅▇▂▅▇▅▇▇</td></tr><tr><td>train_loss</td><td>█▅▆▅▅▆▄▄▇▅▅▃▄▂▄▅▂▆▄▅▄▅▄▂▂▂▅▅▂▁▃▃▃▂▅▃▁▂▁▁</td></tr><tr><td>val_accuracy</td><td>▁▃▅▆▆▆▆▆▇▇▇▇▇▇▇▇▇▇▇██▇▇▇▇█▇██▇██▇▇██████</td></tr><tr><td>validation_loss</td><td>█▆▄▃▃▃▃▃▂▂▂▂▂▂▂▂▂▂▂▁▁▂▁▂▂▁▁▁▁▂▂▁▂▁▁▁▁▁▁▁</td></tr></table><br/></div><div class=\"wandb-col\"><h3>Run summary:</h3><br/><table class=\"wandb\"><tr><td>epoch</td><td>10</td></tr><tr><td>train_accuracy</td><td>93.75</td></tr><tr><td>train_loss</td><td>0.20352</td></tr><tr><td>val_accuracy</td><td>86.6</td></tr><tr><td>validation_loss</td><td>0.03878</td></tr></table><br/></div></div>"
      ],
      "text/plain": [
       "<IPython.core.display.HTML object>"
      ]
     },
     "metadata": {},
     "output_type": "display_data"
    },
    {
     "data": {
      "text/html": [
       " View run <strong style=\"color:#cdcd00\">lyric-sweep-78</strong> at: <a href='https://wandb.ai/sumanta_roy/CS6910_assignment_1/runs/heu9f56i' target=\"_blank\">https://wandb.ai/sumanta_roy/CS6910_assignment_1/runs/heu9f56i</a><br/>Synced 6 W&B file(s), 0 media file(s), 0 artifact file(s) and 0 other file(s)"
      ],
      "text/plain": [
       "<IPython.core.display.HTML object>"
      ]
     },
     "metadata": {},
     "output_type": "display_data"
    },
    {
     "data": {
      "text/html": [
       "Find logs at: <code>./wandb/run-20240317_074547-heu9f56i/logs</code>"
      ],
      "text/plain": [
       "<IPython.core.display.HTML object>"
      ]
     },
     "metadata": {},
     "output_type": "display_data"
    },
    {
     "name": "stderr",
     "output_type": "stream",
     "text": [
      "\u001b[34m\u001b[1mwandb\u001b[0m: Agent Starting Run: 0zwzt5et with config:\n",
      "\u001b[34m\u001b[1mwandb\u001b[0m: \tactivation: tanh\n",
      "\u001b[34m\u001b[1mwandb\u001b[0m: \tbatch_size: 16\n",
      "\u001b[34m\u001b[1mwandb\u001b[0m: \tepochs: 10\n",
      "\u001b[34m\u001b[1mwandb\u001b[0m: \thidden_layers: 5\n",
      "\u001b[34m\u001b[1mwandb\u001b[0m: \thidden_size: 64\n",
      "\u001b[34m\u001b[1mwandb\u001b[0m: \tloss: cross_entropy\n",
      "\u001b[34m\u001b[1mwandb\u001b[0m: \tlr: 0.0001\n",
      "\u001b[34m\u001b[1mwandb\u001b[0m: \toptimizer: nesterov\n",
      "\u001b[34m\u001b[1mwandb\u001b[0m: \tw_init: random\n",
      "\u001b[34m\u001b[1mwandb\u001b[0m: \tweight_decay: 0\n"
     ]
    },
    {
     "data": {
      "text/html": [
       "Tracking run with wandb version 0.16.4"
      ],
      "text/plain": [
       "<IPython.core.display.HTML object>"
      ]
     },
     "metadata": {},
     "output_type": "display_data"
    },
    {
     "data": {
      "text/html": [
       "Run data is saved locally in <code>/Users/sumanta/Desktop/Numpy project/cross_entropy_lesspasses/wandb/run-20240317_074950-0zwzt5et</code>"
      ],
      "text/plain": [
       "<IPython.core.display.HTML object>"
      ]
     },
     "metadata": {},
     "output_type": "display_data"
    },
    {
     "data": {
      "text/html": [
       "Syncing run <strong><a href='https://wandb.ai/sumanta_roy/CS6910_assignment_1/runs/0zwzt5et' target=\"_blank\">chocolate-sweep-79</a></strong> to <a href='https://wandb.ai/sumanta_roy/CS6910_assignment_1' target=\"_blank\">Weights & Biases</a> (<a href='https://wandb.me/run' target=\"_blank\">docs</a>)<br/>Sweep page: <a href='https://wandb.ai/sumanta_roy/CS6910_assignment_1/sweeps/ff8houdp' target=\"_blank\">https://wandb.ai/sumanta_roy/CS6910_assignment_1/sweeps/ff8houdp</a>"
      ],
      "text/plain": [
       "<IPython.core.display.HTML object>"
      ]
     },
     "metadata": {},
     "output_type": "display_data"
    },
    {
     "data": {
      "text/html": [
       " View project at <a href='https://wandb.ai/sumanta_roy/CS6910_assignment_1' target=\"_blank\">https://wandb.ai/sumanta_roy/CS6910_assignment_1</a>"
      ],
      "text/plain": [
       "<IPython.core.display.HTML object>"
      ]
     },
     "metadata": {},
     "output_type": "display_data"
    },
    {
     "data": {
      "text/html": [
       " View sweep at <a href='https://wandb.ai/sumanta_roy/CS6910_assignment_1/sweeps/ff8houdp' target=\"_blank\">https://wandb.ai/sumanta_roy/CS6910_assignment_1/sweeps/ff8houdp</a>"
      ],
      "text/plain": [
       "<IPython.core.display.HTML object>"
      ]
     },
     "metadata": {},
     "output_type": "display_data"
    },
    {
     "data": {
      "text/html": [
       " View run at <a href='https://wandb.ai/sumanta_roy/CS6910_assignment_1/runs/0zwzt5et' target=\"_blank\">https://wandb.ai/sumanta_roy/CS6910_assignment_1/runs/0zwzt5et</a>"
      ],
      "text/plain": [
       "<IPython.core.display.HTML object>"
      ]
     },
     "metadata": {},
     "output_type": "display_data"
    },
    {
     "name": "stdout",
     "output_type": "stream",
     "text": [
      "Epoch: 1/10; Train Loss: 0.05867364352593489; Val Loss: 0.09466125885829983\n",
      "Epoch: 2/10; Train Loss: 0.03854550930215341; Val Loss: 0.0784805493656336\n",
      "Epoch: 3/10; Train Loss: 0.03525780094152318; Val Loss: 0.0713231275941628\n",
      "Epoch: 4/10; Train Loss: 0.03501645792603482; Val Loss: 0.06699162571972085\n",
      "Epoch: 5/10; Train Loss: 0.035275320564701576; Val Loss: 0.06403237848082052\n",
      "Epoch: 6/10; Train Loss: 0.03557118961017948; Val Loss: 0.061833899027737955\n",
      "Epoch: 7/10; Train Loss: 0.03575819414398741; Val Loss: 0.06011196836227462\n",
      "Epoch: 8/10; Train Loss: 0.03587977493802935; Val Loss: 0.05872369062809521\n",
      "Epoch: 9/10; Train Loss: 0.03598214453377909; Val Loss: 0.057583610161116634\n",
      "Epoch: 10/10; Train Loss: 0.03611309459398244; Val Loss: 0.05662929618556311\n"
     ]
    },
    {
     "data": {
      "application/vnd.jupyter.widget-view+json": {
       "model_id": "",
       "version_major": 2,
       "version_minor": 0
      },
      "text/plain": [
       "VBox(children=(Label(value='0.001 MB of 0.001 MB uploaded\\r'), FloatProgress(value=1.0, max=1.0)))"
      ]
     },
     "metadata": {},
     "output_type": "display_data"
    },
    {
     "data": {
      "text/html": [
       "<style>\n",
       "    table.wandb td:nth-child(1) { padding: 0 10px; text-align: left ; width: auto;} td:nth-child(2) {text-align: left ; width: 100%}\n",
       "    .wandb-row { display: flex; flex-direction: row; flex-wrap: wrap; justify-content: flex-start; width: 100% }\n",
       "    .wandb-col { display: flex; flex-direction: column; flex-basis: 100%; flex: 1; padding: 10px; }\n",
       "    </style>\n",
       "<div class=\"wandb-row\"><div class=\"wandb-col\"><h3>Run history:</h3><br/><table class=\"wandb\"><tr><td>epoch</td><td>▁▁▁▁▂▂▂▂▃▃▃▃▃▃▃▃▄▄▄▄▅▅▅▅▆▆▆▆▆▆▆▆▇▇▇▇████</td></tr><tr><td>train_accuracy</td><td>▁▅▆▂▇▇█▆▆▇▅█▅▇▆▄█▅▅▅▆▅▇▇▆▇▄▇▅█▆▅▇█▇▅▇▇█▇</td></tr><tr><td>train_loss</td><td>█▃▃▃▂▃▂▂▃▂▂▂▂▂▂▃▁▃▂▂▃▂▂▁▃▁▃▂▃▁▂▂▁▂▂▃▁▂▁▂</td></tr><tr><td>val_accuracy</td><td>▁▄▆▆▆▇▇▇▇▇▇▇▇▇▇▇████████████████████████</td></tr><tr><td>validation_loss</td><td>█▅▃▃▂▂▂▂▂▂▂▂▂▂▁▁▁▁▁▁▁▁▁▁▁▁▁▁▁▁▁▁▁▁▁▁▁▁▁▁</td></tr></table><br/></div><div class=\"wandb-col\"><h3>Run summary:</h3><br/><table class=\"wandb\"><tr><td>epoch</td><td>10</td></tr><tr><td>train_accuracy</td><td>81.25</td></tr><tr><td>train_loss</td><td>0.03611</td></tr><tr><td>val_accuracy</td><td>79.81667</td></tr><tr><td>validation_loss</td><td>0.05663</td></tr></table><br/></div></div>"
      ],
      "text/plain": [
       "<IPython.core.display.HTML object>"
      ]
     },
     "metadata": {},
     "output_type": "display_data"
    },
    {
     "data": {
      "text/html": [
       " View run <strong style=\"color:#cdcd00\">chocolate-sweep-79</strong> at: <a href='https://wandb.ai/sumanta_roy/CS6910_assignment_1/runs/0zwzt5et' target=\"_blank\">https://wandb.ai/sumanta_roy/CS6910_assignment_1/runs/0zwzt5et</a><br/>Synced 6 W&B file(s), 0 media file(s), 0 artifact file(s) and 0 other file(s)"
      ],
      "text/plain": [
       "<IPython.core.display.HTML object>"
      ]
     },
     "metadata": {},
     "output_type": "display_data"
    },
    {
     "data": {
      "text/html": [
       "Find logs at: <code>./wandb/run-20240317_074950-0zwzt5et/logs</code>"
      ],
      "text/plain": [
       "<IPython.core.display.HTML object>"
      ]
     },
     "metadata": {},
     "output_type": "display_data"
    },
    {
     "name": "stderr",
     "output_type": "stream",
     "text": [
      "\u001b[34m\u001b[1mwandb\u001b[0m: Agent Starting Run: kp7o7o84 with config:\n",
      "\u001b[34m\u001b[1mwandb\u001b[0m: \tactivation: tanh\n",
      "\u001b[34m\u001b[1mwandb\u001b[0m: \tbatch_size: 16\n",
      "\u001b[34m\u001b[1mwandb\u001b[0m: \tepochs: 10\n",
      "\u001b[34m\u001b[1mwandb\u001b[0m: \thidden_layers: 5\n",
      "\u001b[34m\u001b[1mwandb\u001b[0m: \thidden_size: 64\n",
      "\u001b[34m\u001b[1mwandb\u001b[0m: \tloss: cross_entropy\n",
      "\u001b[34m\u001b[1mwandb\u001b[0m: \tlr: 0.0001\n",
      "\u001b[34m\u001b[1mwandb\u001b[0m: \toptimizer: rmsprop\n",
      "\u001b[34m\u001b[1mwandb\u001b[0m: \tw_init: random\n",
      "\u001b[34m\u001b[1mwandb\u001b[0m: \tweight_decay: 0.0005\n"
     ]
    },
    {
     "data": {
      "text/html": [
       "Tracking run with wandb version 0.16.4"
      ],
      "text/plain": [
       "<IPython.core.display.HTML object>"
      ]
     },
     "metadata": {},
     "output_type": "display_data"
    },
    {
     "data": {
      "text/html": [
       "Run data is saved locally in <code>/Users/sumanta/Desktop/Numpy project/cross_entropy_lesspasses/wandb/run-20240317_075151-kp7o7o84</code>"
      ],
      "text/plain": [
       "<IPython.core.display.HTML object>"
      ]
     },
     "metadata": {},
     "output_type": "display_data"
    },
    {
     "data": {
      "text/html": [
       "Syncing run <strong><a href='https://wandb.ai/sumanta_roy/CS6910_assignment_1/runs/kp7o7o84' target=\"_blank\">glad-sweep-80</a></strong> to <a href='https://wandb.ai/sumanta_roy/CS6910_assignment_1' target=\"_blank\">Weights & Biases</a> (<a href='https://wandb.me/run' target=\"_blank\">docs</a>)<br/>Sweep page: <a href='https://wandb.ai/sumanta_roy/CS6910_assignment_1/sweeps/ff8houdp' target=\"_blank\">https://wandb.ai/sumanta_roy/CS6910_assignment_1/sweeps/ff8houdp</a>"
      ],
      "text/plain": [
       "<IPython.core.display.HTML object>"
      ]
     },
     "metadata": {},
     "output_type": "display_data"
    },
    {
     "data": {
      "text/html": [
       " View project at <a href='https://wandb.ai/sumanta_roy/CS6910_assignment_1' target=\"_blank\">https://wandb.ai/sumanta_roy/CS6910_assignment_1</a>"
      ],
      "text/plain": [
       "<IPython.core.display.HTML object>"
      ]
     },
     "metadata": {},
     "output_type": "display_data"
    },
    {
     "data": {
      "text/html": [
       " View sweep at <a href='https://wandb.ai/sumanta_roy/CS6910_assignment_1/sweeps/ff8houdp' target=\"_blank\">https://wandb.ai/sumanta_roy/CS6910_assignment_1/sweeps/ff8houdp</a>"
      ],
      "text/plain": [
       "<IPython.core.display.HTML object>"
      ]
     },
     "metadata": {},
     "output_type": "display_data"
    },
    {
     "data": {
      "text/html": [
       " View run at <a href='https://wandb.ai/sumanta_roy/CS6910_assignment_1/runs/kp7o7o84' target=\"_blank\">https://wandb.ai/sumanta_roy/CS6910_assignment_1/runs/kp7o7o84</a>"
      ],
      "text/plain": [
       "<IPython.core.display.HTML object>"
      ]
     },
     "metadata": {},
     "output_type": "display_data"
    },
    {
     "name": "stdout",
     "output_type": "stream",
     "text": [
      "Epoch: 1/10; Train Loss: 0.1487940915030488; Val Loss: 0.07271834862498007\n",
      "Epoch: 2/10; Train Loss: 0.13155272822133432; Val Loss: 0.061670348707760135\n",
      "Epoch: 3/10; Train Loss: 0.12676109795019208; Val Loss: 0.05651254973540149\n",
      "Epoch: 4/10; Train Loss: 0.12131781647852234; Val Loss: 0.05346385637207847\n",
      "Epoch: 5/10; Train Loss: 0.11781300458689586; Val Loss: 0.05141438790844441\n",
      "Epoch: 6/10; Train Loss: 0.11519436333909702; Val Loss: 0.04988691822116577\n",
      "Epoch: 7/10; Train Loss: 0.11311543639625615; Val Loss: 0.04865442963980093\n",
      "Epoch: 8/10; Train Loss: 0.11126146073525563; Val Loss: 0.04766906387874708\n",
      "Epoch: 9/10; Train Loss: 0.10959233605510056; Val Loss: 0.04689211404470815\n",
      "Epoch: 10/10; Train Loss: 0.10818742446672491; Val Loss: 0.04626345383525891\n"
     ]
    },
    {
     "data": {
      "application/vnd.jupyter.widget-view+json": {
       "model_id": "",
       "version_major": 2,
       "version_minor": 0
      },
      "text/plain": [
       "VBox(children=(Label(value='0.001 MB of 0.001 MB uploaded\\r'), FloatProgress(value=1.0, max=1.0)))"
      ]
     },
     "metadata": {},
     "output_type": "display_data"
    },
    {
     "data": {
      "text/html": [
       "<style>\n",
       "    table.wandb td:nth-child(1) { padding: 0 10px; text-align: left ; width: auto;} td:nth-child(2) {text-align: left ; width: 100%}\n",
       "    .wandb-row { display: flex; flex-direction: row; flex-wrap: wrap; justify-content: flex-start; width: 100% }\n",
       "    .wandb-col { display: flex; flex-direction: column; flex-basis: 100%; flex: 1; padding: 10px; }\n",
       "    </style>\n",
       "<div class=\"wandb-row\"><div class=\"wandb-col\"><h3>Run history:</h3><br/><table class=\"wandb\"><tr><td>epoch</td><td>▁▁▁▁▂▂▂▂▃▃▃▃▃▃▃▃▄▄▄▄▅▅▅▅▆▆▆▆▆▆▆▆▇▇▇▇████</td></tr><tr><td>train_accuracy</td><td>▁█▄▇▇▅█▅▃▅▇▆▅▇▆▆▇▆▅▅▇▇▆█▆▇▅▆▇▇▇▆██▆▆█▆▇▆</td></tr><tr><td>train_loss</td><td>█▃▄▃▂▃▂▄▄▃▂▃▃▂▃▃▁▄▃▄▃▂▂▁▂▁▅▃▃▁▂▃▁▁▄▃▁▂▂▂</td></tr><tr><td>val_accuracy</td><td>▁▄▅▆▆▆▇▇▇▇▇▇▇▇▇█████████████████████████</td></tr><tr><td>validation_loss</td><td>█▄▃▃▂▂▂▂▂▂▂▂▂▂▂▁▁▁▁▁▁▁▁▁▁▁▁▁▁▁▁▁▁▁▁▁▁▁▁▁</td></tr></table><br/></div><div class=\"wandb-col\"><h3>Run summary:</h3><br/><table class=\"wandb\"><tr><td>epoch</td><td>10</td></tr><tr><td>train_accuracy</td><td>93.75</td></tr><tr><td>train_loss</td><td>0.10819</td></tr><tr><td>val_accuracy</td><td>83.4</td></tr><tr><td>validation_loss</td><td>0.04626</td></tr></table><br/></div></div>"
      ],
      "text/plain": [
       "<IPython.core.display.HTML object>"
      ]
     },
     "metadata": {},
     "output_type": "display_data"
    },
    {
     "data": {
      "text/html": [
       " View run <strong style=\"color:#cdcd00\">glad-sweep-80</strong> at: <a href='https://wandb.ai/sumanta_roy/CS6910_assignment_1/runs/kp7o7o84' target=\"_blank\">https://wandb.ai/sumanta_roy/CS6910_assignment_1/runs/kp7o7o84</a><br/>Synced 6 W&B file(s), 0 media file(s), 0 artifact file(s) and 0 other file(s)"
      ],
      "text/plain": [
       "<IPython.core.display.HTML object>"
      ]
     },
     "metadata": {},
     "output_type": "display_data"
    },
    {
     "data": {
      "text/html": [
       "Find logs at: <code>./wandb/run-20240317_075151-kp7o7o84/logs</code>"
      ],
      "text/plain": [
       "<IPython.core.display.HTML object>"
      ]
     },
     "metadata": {},
     "output_type": "display_data"
    },
    {
     "name": "stderr",
     "output_type": "stream",
     "text": [
      "\u001b[34m\u001b[1mwandb\u001b[0m: Agent Starting Run: ivbi9r1a with config:\n",
      "\u001b[34m\u001b[1mwandb\u001b[0m: \tactivation: tanh\n",
      "\u001b[34m\u001b[1mwandb\u001b[0m: \tbatch_size: 32\n",
      "\u001b[34m\u001b[1mwandb\u001b[0m: \tepochs: 10\n",
      "\u001b[34m\u001b[1mwandb\u001b[0m: \thidden_layers: 4\n",
      "\u001b[34m\u001b[1mwandb\u001b[0m: \thidden_size: 128\n",
      "\u001b[34m\u001b[1mwandb\u001b[0m: \tloss: cross_entropy\n",
      "\u001b[34m\u001b[1mwandb\u001b[0m: \tlr: 0.0001\n",
      "\u001b[34m\u001b[1mwandb\u001b[0m: \toptimizer: adam\n",
      "\u001b[34m\u001b[1mwandb\u001b[0m: \tw_init: glorot\n",
      "\u001b[34m\u001b[1mwandb\u001b[0m: \tweight_decay: 0.0005\n"
     ]
    },
    {
     "data": {
      "text/html": [
       "Tracking run with wandb version 0.16.4"
      ],
      "text/plain": [
       "<IPython.core.display.HTML object>"
      ]
     },
     "metadata": {},
     "output_type": "display_data"
    },
    {
     "data": {
      "text/html": [
       "Run data is saved locally in <code>/Users/sumanta/Desktop/Numpy project/cross_entropy_lesspasses/wandb/run-20240317_075337-ivbi9r1a</code>"
      ],
      "text/plain": [
       "<IPython.core.display.HTML object>"
      ]
     },
     "metadata": {},
     "output_type": "display_data"
    },
    {
     "data": {
      "text/html": [
       "Syncing run <strong><a href='https://wandb.ai/sumanta_roy/CS6910_assignment_1/runs/ivbi9r1a' target=\"_blank\">floral-sweep-81</a></strong> to <a href='https://wandb.ai/sumanta_roy/CS6910_assignment_1' target=\"_blank\">Weights & Biases</a> (<a href='https://wandb.me/run' target=\"_blank\">docs</a>)<br/>Sweep page: <a href='https://wandb.ai/sumanta_roy/CS6910_assignment_1/sweeps/ff8houdp' target=\"_blank\">https://wandb.ai/sumanta_roy/CS6910_assignment_1/sweeps/ff8houdp</a>"
      ],
      "text/plain": [
       "<IPython.core.display.HTML object>"
      ]
     },
     "metadata": {},
     "output_type": "display_data"
    },
    {
     "data": {
      "text/html": [
       " View project at <a href='https://wandb.ai/sumanta_roy/CS6910_assignment_1' target=\"_blank\">https://wandb.ai/sumanta_roy/CS6910_assignment_1</a>"
      ],
      "text/plain": [
       "<IPython.core.display.HTML object>"
      ]
     },
     "metadata": {},
     "output_type": "display_data"
    },
    {
     "data": {
      "text/html": [
       " View sweep at <a href='https://wandb.ai/sumanta_roy/CS6910_assignment_1/sweeps/ff8houdp' target=\"_blank\">https://wandb.ai/sumanta_roy/CS6910_assignment_1/sweeps/ff8houdp</a>"
      ],
      "text/plain": [
       "<IPython.core.display.HTML object>"
      ]
     },
     "metadata": {},
     "output_type": "display_data"
    },
    {
     "data": {
      "text/html": [
       " View run at <a href='https://wandb.ai/sumanta_roy/CS6910_assignment_1/runs/ivbi9r1a' target=\"_blank\">https://wandb.ai/sumanta_roy/CS6910_assignment_1/runs/ivbi9r1a</a>"
      ],
      "text/plain": [
       "<IPython.core.display.HTML object>"
      ]
     },
     "metadata": {},
     "output_type": "display_data"
    },
    {
     "name": "stdout",
     "output_type": "stream",
     "text": [
      "Epoch: 1/10; Train Loss: 0.04595149753092959; Val Loss: 0.047124101012707906\n",
      "Epoch: 2/10; Train Loss: 0.04297637736669428; Val Loss: 0.04287807901316344\n",
      "Epoch: 3/10; Train Loss: 0.04160541835897058; Val Loss: 0.04068507998827802\n",
      "Epoch: 4/10; Train Loss: 0.0407493496984839; Val Loss: 0.039186515535492406\n",
      "Epoch: 5/10; Train Loss: 0.04017123572863994; Val Loss: 0.03804441761124801\n",
      "Epoch: 6/10; Train Loss: 0.03976969801985216; Val Loss: 0.03712318551830293\n",
      "Epoch: 7/10; Train Loss: 0.03948201917993865; Val Loss: 0.03635456444391947\n",
      "Epoch: 8/10; Train Loss: 0.03926906678104455; Val Loss: 0.03569878029679214\n",
      "Epoch: 9/10; Train Loss: 0.03910372518783031; Val Loss: 0.035129871413519254\n",
      "Epoch: 10/10; Train Loss: 0.03896514711176123; Val Loss: 0.03462991151232392\n"
     ]
    },
    {
     "data": {
      "application/vnd.jupyter.widget-view+json": {
       "model_id": "",
       "version_major": 2,
       "version_minor": 0
      },
      "text/plain": [
       "VBox(children=(Label(value='0.001 MB of 0.001 MB uploaded\\r'), FloatProgress(value=1.0, max=1.0)))"
      ]
     },
     "metadata": {},
     "output_type": "display_data"
    },
    {
     "data": {
      "text/html": [
       "<style>\n",
       "    table.wandb td:nth-child(1) { padding: 0 10px; text-align: left ; width: auto;} td:nth-child(2) {text-align: left ; width: 100%}\n",
       "    .wandb-row { display: flex; flex-direction: row; flex-wrap: wrap; justify-content: flex-start; width: 100% }\n",
       "    .wandb-col { display: flex; flex-direction: column; flex-basis: 100%; flex: 1; padding: 10px; }\n",
       "    </style>\n",
       "<div class=\"wandb-row\"><div class=\"wandb-col\"><h3>Run history:</h3><br/><table class=\"wandb\"><tr><td>epoch</td><td>▁▁▁▁▂▂▂▂▃▃▃▃▃▃▃▃▄▄▄▄▅▅▅▅▆▆▆▆▆▆▆▆▇▇▇▇████</td></tr><tr><td>train_accuracy</td><td>▁▃▃▆▅▅▄▃▃▄▅▆▅▆▇▃▅▃▆▃▃▄▅▆▃▄▂▅▃█▄▅▆▆▄▆▇▃▆▄</td></tr><tr><td>train_loss</td><td>█▅▆▂▄▃▄▄▅▄▃▃▃▂▂▅▃█▃▅▃▆▂▂▅▃▅▄▄▁▅▄▃▃▄▃▂▆▁▃</td></tr><tr><td>val_accuracy</td><td>▁▄▅▅▆▆▆▆▇▇▇▇▇▇▇▇▇▇▇▇▇▇▇▇▇███████████████</td></tr><tr><td>validation_loss</td><td>█▅▄▃▃▃▃▂▂▂▂▂▂▂▂▂▂▂▂▂▁▂▁▁▂▁▁▁▁▁▁▁▁▁▁▁▁▁▁▁</td></tr></table><br/></div><div class=\"wandb-col\"><h3>Run summary:</h3><br/><table class=\"wandb\"><tr><td>epoch</td><td>10</td></tr><tr><td>train_accuracy</td><td>87.5</td></tr><tr><td>train_loss</td><td>0.03897</td></tr><tr><td>val_accuracy</td><td>87.78333</td></tr><tr><td>validation_loss</td><td>0.03463</td></tr></table><br/></div></div>"
      ],
      "text/plain": [
       "<IPython.core.display.HTML object>"
      ]
     },
     "metadata": {},
     "output_type": "display_data"
    },
    {
     "data": {
      "text/html": [
       " View run <strong style=\"color:#cdcd00\">floral-sweep-81</strong> at: <a href='https://wandb.ai/sumanta_roy/CS6910_assignment_1/runs/ivbi9r1a' target=\"_blank\">https://wandb.ai/sumanta_roy/CS6910_assignment_1/runs/ivbi9r1a</a><br/>Synced 6 W&B file(s), 0 media file(s), 0 artifact file(s) and 0 other file(s)"
      ],
      "text/plain": [
       "<IPython.core.display.HTML object>"
      ]
     },
     "metadata": {},
     "output_type": "display_data"
    },
    {
     "data": {
      "text/html": [
       "Find logs at: <code>./wandb/run-20240317_075337-ivbi9r1a/logs</code>"
      ],
      "text/plain": [
       "<IPython.core.display.HTML object>"
      ]
     },
     "metadata": {},
     "output_type": "display_data"
    },
    {
     "name": "stderr",
     "output_type": "stream",
     "text": [
      "\u001b[34m\u001b[1mwandb\u001b[0m: Agent Starting Run: 9yf58fwh with config:\n",
      "\u001b[34m\u001b[1mwandb\u001b[0m: \tactivation: tanh\n",
      "\u001b[34m\u001b[1mwandb\u001b[0m: \tbatch_size: 32\n",
      "\u001b[34m\u001b[1mwandb\u001b[0m: \tepochs: 10\n",
      "\u001b[34m\u001b[1mwandb\u001b[0m: \thidden_layers: 5\n",
      "\u001b[34m\u001b[1mwandb\u001b[0m: \thidden_size: 128\n",
      "\u001b[34m\u001b[1mwandb\u001b[0m: \tloss: cross_entropy\n",
      "\u001b[34m\u001b[1mwandb\u001b[0m: \tlr: 0.0001\n",
      "\u001b[34m\u001b[1mwandb\u001b[0m: \toptimizer: rmsprop\n",
      "\u001b[34m\u001b[1mwandb\u001b[0m: \tw_init: random\n",
      "\u001b[34m\u001b[1mwandb\u001b[0m: \tweight_decay: 0\n"
     ]
    },
    {
     "data": {
      "text/html": [
       "Tracking run with wandb version 0.16.4"
      ],
      "text/plain": [
       "<IPython.core.display.HTML object>"
      ]
     },
     "metadata": {},
     "output_type": "display_data"
    },
    {
     "data": {
      "text/html": [
       "Run data is saved locally in <code>/Users/sumanta/Desktop/Numpy project/cross_entropy_lesspasses/wandb/run-20240317_075622-9yf58fwh</code>"
      ],
      "text/plain": [
       "<IPython.core.display.HTML object>"
      ]
     },
     "metadata": {},
     "output_type": "display_data"
    },
    {
     "data": {
      "text/html": [
       "Syncing run <strong><a href='https://wandb.ai/sumanta_roy/CS6910_assignment_1/runs/9yf58fwh' target=\"_blank\">gentle-sweep-82</a></strong> to <a href='https://wandb.ai/sumanta_roy/CS6910_assignment_1' target=\"_blank\">Weights & Biases</a> (<a href='https://wandb.me/run' target=\"_blank\">docs</a>)<br/>Sweep page: <a href='https://wandb.ai/sumanta_roy/CS6910_assignment_1/sweeps/ff8houdp' target=\"_blank\">https://wandb.ai/sumanta_roy/CS6910_assignment_1/sweeps/ff8houdp</a>"
      ],
      "text/plain": [
       "<IPython.core.display.HTML object>"
      ]
     },
     "metadata": {},
     "output_type": "display_data"
    },
    {
     "data": {
      "text/html": [
       " View project at <a href='https://wandb.ai/sumanta_roy/CS6910_assignment_1' target=\"_blank\">https://wandb.ai/sumanta_roy/CS6910_assignment_1</a>"
      ],
      "text/plain": [
       "<IPython.core.display.HTML object>"
      ]
     },
     "metadata": {},
     "output_type": "display_data"
    },
    {
     "data": {
      "text/html": [
       " View sweep at <a href='https://wandb.ai/sumanta_roy/CS6910_assignment_1/sweeps/ff8houdp' target=\"_blank\">https://wandb.ai/sumanta_roy/CS6910_assignment_1/sweeps/ff8houdp</a>"
      ],
      "text/plain": [
       "<IPython.core.display.HTML object>"
      ]
     },
     "metadata": {},
     "output_type": "display_data"
    },
    {
     "data": {
      "text/html": [
       " View run at <a href='https://wandb.ai/sumanta_roy/CS6910_assignment_1/runs/9yf58fwh' target=\"_blank\">https://wandb.ai/sumanta_roy/CS6910_assignment_1/runs/9yf58fwh</a>"
      ],
      "text/plain": [
       "<IPython.core.display.HTML object>"
      ]
     },
     "metadata": {},
     "output_type": "display_data"
    },
    {
     "name": "stdout",
     "output_type": "stream",
     "text": [
      "Epoch: 1/10; Train Loss: 0.07489454516228737; Val Loss: 0.08130918353620065\n",
      "Epoch: 2/10; Train Loss: 0.05056847583935085; Val Loss: 0.06829642641559529\n",
      "Epoch: 3/10; Train Loss: 0.04321148592624778; Val Loss: 0.06293103175842983\n",
      "Epoch: 4/10; Train Loss: 0.03677066985559542; Val Loss: 0.06033725104498393\n",
      "Epoch: 5/10; Train Loss: 0.030642563968964677; Val Loss: 0.05841436558823054\n",
      "Epoch: 6/10; Train Loss: 0.025956160312192833; Val Loss: 0.05703167666503429\n",
      "Epoch: 7/10; Train Loss: 0.023432166745159383; Val Loss: 0.05604473169064752\n",
      "Epoch: 8/10; Train Loss: 0.02223686540367676; Val Loss: 0.05523734603854597\n",
      "Epoch: 9/10; Train Loss: 0.021538908861810726; Val Loss: 0.054541918173452074\n",
      "Epoch: 10/10; Train Loss: 0.021085180676272963; Val Loss: 0.05391245410623899\n"
     ]
    },
    {
     "data": {
      "application/vnd.jupyter.widget-view+json": {
       "model_id": "",
       "version_major": 2,
       "version_minor": 0
      },
      "text/plain": [
       "VBox(children=(Label(value='0.001 MB of 0.027 MB uploaded\\r'), FloatProgress(value=0.027342919883828008, max=1…"
      ]
     },
     "metadata": {},
     "output_type": "display_data"
    },
    {
     "data": {
      "text/html": [
       "<style>\n",
       "    table.wandb td:nth-child(1) { padding: 0 10px; text-align: left ; width: auto;} td:nth-child(2) {text-align: left ; width: 100%}\n",
       "    .wandb-row { display: flex; flex-direction: row; flex-wrap: wrap; justify-content: flex-start; width: 100% }\n",
       "    .wandb-col { display: flex; flex-direction: column; flex-basis: 100%; flex: 1; padding: 10px; }\n",
       "    </style>\n",
       "<div class=\"wandb-row\"><div class=\"wandb-col\"><h3>Run history:</h3><br/><table class=\"wandb\"><tr><td>epoch</td><td>▁▁▁▁▂▂▂▂▃▃▃▃▃▃▃▃▄▄▄▄▅▅▅▅▆▆▆▆▆▆▆▆▇▇▇▇████</td></tr><tr><td>train_accuracy</td><td>▁▁▃▅▄▄▃▄▅▅▂▆▄▅▄▂▅▄▆▅▅▄▇▇▆▃▅▅▆▇▆▅█▇▆▇▇▆█▇</td></tr><tr><td>train_loss</td><td>██▆▄▃▄▅▃▃▄▄▂▃▃▃▄▂▅▃▄▃▄▂▂▂▄▃▃▂▁▂▃▂▂▂▂▂▂▁▂</td></tr><tr><td>val_accuracy</td><td>▁▄▆▆▇▇▇▇▇▇▇▇▇███████████████████████████</td></tr><tr><td>validation_loss</td><td>█▄▃▂▂▂▂▂▂▂▁▁▁▁▁▁▁▁▁▁▁▁▁▁▁▁▁▁▁▁▁▁▁▁▁▁▁▁▁▁</td></tr></table><br/></div><div class=\"wandb-col\"><h3>Run summary:</h3><br/><table class=\"wandb\"><tr><td>epoch</td><td>10</td></tr><tr><td>train_accuracy</td><td>90.625</td></tr><tr><td>train_loss</td><td>0.02109</td></tr><tr><td>val_accuracy</td><td>80.81667</td></tr><tr><td>validation_loss</td><td>0.05391</td></tr></table><br/></div></div>"
      ],
      "text/plain": [
       "<IPython.core.display.HTML object>"
      ]
     },
     "metadata": {},
     "output_type": "display_data"
    },
    {
     "data": {
      "text/html": [
       " View run <strong style=\"color:#cdcd00\">gentle-sweep-82</strong> at: <a href='https://wandb.ai/sumanta_roy/CS6910_assignment_1/runs/9yf58fwh' target=\"_blank\">https://wandb.ai/sumanta_roy/CS6910_assignment_1/runs/9yf58fwh</a><br/>Synced 6 W&B file(s), 0 media file(s), 0 artifact file(s) and 0 other file(s)"
      ],
      "text/plain": [
       "<IPython.core.display.HTML object>"
      ]
     },
     "metadata": {},
     "output_type": "display_data"
    },
    {
     "data": {
      "text/html": [
       "Find logs at: <code>./wandb/run-20240317_075622-9yf58fwh/logs</code>"
      ],
      "text/plain": [
       "<IPython.core.display.HTML object>"
      ]
     },
     "metadata": {},
     "output_type": "display_data"
    },
    {
     "name": "stderr",
     "output_type": "stream",
     "text": [
      "\u001b[34m\u001b[1mwandb\u001b[0m: Agent Starting Run: tcqih3so with config:\n",
      "\u001b[34m\u001b[1mwandb\u001b[0m: \tactivation: tanh\n",
      "\u001b[34m\u001b[1mwandb\u001b[0m: \tbatch_size: 16\n",
      "\u001b[34m\u001b[1mwandb\u001b[0m: \tepochs: 10\n",
      "\u001b[34m\u001b[1mwandb\u001b[0m: \thidden_layers: 5\n",
      "\u001b[34m\u001b[1mwandb\u001b[0m: \thidden_size: 128\n",
      "\u001b[34m\u001b[1mwandb\u001b[0m: \tloss: cross_entropy\n",
      "\u001b[34m\u001b[1mwandb\u001b[0m: \tlr: 0.001\n",
      "\u001b[34m\u001b[1mwandb\u001b[0m: \toptimizer: adam\n",
      "\u001b[34m\u001b[1mwandb\u001b[0m: \tw_init: glorot\n",
      "\u001b[34m\u001b[1mwandb\u001b[0m: \tweight_decay: 0.0005\n"
     ]
    },
    {
     "data": {
      "text/html": [
       "Tracking run with wandb version 0.16.4"
      ],
      "text/plain": [
       "<IPython.core.display.HTML object>"
      ]
     },
     "metadata": {},
     "output_type": "display_data"
    },
    {
     "data": {
      "text/html": [
       "Run data is saved locally in <code>/Users/sumanta/Desktop/Numpy project/cross_entropy_lesspasses/wandb/run-20240317_075917-tcqih3so</code>"
      ],
      "text/plain": [
       "<IPython.core.display.HTML object>"
      ]
     },
     "metadata": {},
     "output_type": "display_data"
    },
    {
     "data": {
      "text/html": [
       "Syncing run <strong><a href='https://wandb.ai/sumanta_roy/CS6910_assignment_1/runs/tcqih3so' target=\"_blank\">vivid-sweep-83</a></strong> to <a href='https://wandb.ai/sumanta_roy/CS6910_assignment_1' target=\"_blank\">Weights & Biases</a> (<a href='https://wandb.me/run' target=\"_blank\">docs</a>)<br/>Sweep page: <a href='https://wandb.ai/sumanta_roy/CS6910_assignment_1/sweeps/ff8houdp' target=\"_blank\">https://wandb.ai/sumanta_roy/CS6910_assignment_1/sweeps/ff8houdp</a>"
      ],
      "text/plain": [
       "<IPython.core.display.HTML object>"
      ]
     },
     "metadata": {},
     "output_type": "display_data"
    },
    {
     "data": {
      "text/html": [
       " View project at <a href='https://wandb.ai/sumanta_roy/CS6910_assignment_1' target=\"_blank\">https://wandb.ai/sumanta_roy/CS6910_assignment_1</a>"
      ],
      "text/plain": [
       "<IPython.core.display.HTML object>"
      ]
     },
     "metadata": {},
     "output_type": "display_data"
    },
    {
     "data": {
      "text/html": [
       " View sweep at <a href='https://wandb.ai/sumanta_roy/CS6910_assignment_1/sweeps/ff8houdp' target=\"_blank\">https://wandb.ai/sumanta_roy/CS6910_assignment_1/sweeps/ff8houdp</a>"
      ],
      "text/plain": [
       "<IPython.core.display.HTML object>"
      ]
     },
     "metadata": {},
     "output_type": "display_data"
    },
    {
     "data": {
      "text/html": [
       " View run at <a href='https://wandb.ai/sumanta_roy/CS6910_assignment_1/runs/tcqih3so' target=\"_blank\">https://wandb.ai/sumanta_roy/CS6910_assignment_1/runs/tcqih3so</a>"
      ],
      "text/plain": [
       "<IPython.core.display.HTML object>"
      ]
     },
     "metadata": {},
     "output_type": "display_data"
    },
    {
     "name": "stdout",
     "output_type": "stream",
     "text": [
      "Epoch: 1/10; Train Loss: 0.04704892507358642; Val Loss: 0.03826695569726696\n",
      "Epoch: 2/10; Train Loss: 0.047149127020786996; Val Loss: 0.034817517777743334\n",
      "Epoch: 3/10; Train Loss: 0.04816441278004191; Val Loss: 0.03336175540614348\n",
      "Epoch: 4/10; Train Loss: 0.0483534083262636; Val Loss: 0.032469140015895966\n",
      "Epoch: 5/10; Train Loss: 0.04770362810980367; Val Loss: 0.03178923660106713\n",
      "Epoch: 6/10; Train Loss: 0.04866823863922245; Val Loss: 0.031938976711091714\n",
      "Epoch: 7/10; Train Loss: 0.04946923689239603; Val Loss: 0.0318080268998731\n",
      "Epoch: 8/10; Train Loss: 0.051153994664987934; Val Loss: 0.03235293745959022\n",
      "Epoch: 9/10; Train Loss: 0.05366608602630529; Val Loss: 0.033140436766888375\n",
      "Epoch: 10/10; Train Loss: 0.056525176433487416; Val Loss: 0.0332365573917734\n"
     ]
    },
    {
     "data": {
      "application/vnd.jupyter.widget-view+json": {
       "model_id": "",
       "version_major": 2,
       "version_minor": 0
      },
      "text/plain": [
       "VBox(children=(Label(value='0.001 MB of 0.001 MB uploaded\\r'), FloatProgress(value=1.0, max=1.0)))"
      ]
     },
     "metadata": {},
     "output_type": "display_data"
    },
    {
     "data": {
      "text/html": [
       "<style>\n",
       "    table.wandb td:nth-child(1) { padding: 0 10px; text-align: left ; width: auto;} td:nth-child(2) {text-align: left ; width: 100%}\n",
       "    .wandb-row { display: flex; flex-direction: row; flex-wrap: wrap; justify-content: flex-start; width: 100% }\n",
       "    .wandb-col { display: flex; flex-direction: column; flex-basis: 100%; flex: 1; padding: 10px; }\n",
       "    </style>\n",
       "<div class=\"wandb-row\"><div class=\"wandb-col\"><h3>Run history:</h3><br/><table class=\"wandb\"><tr><td>epoch</td><td>▁▁▁▁▂▂▂▂▃▃▃▃▃▃▃▃▄▄▄▄▅▅▅▅▆▆▆▆▆▆▆▆▇▇▇▇████</td></tr><tr><td>train_accuracy</td><td>▁█▅▅▇▅▇▇▂▅▄▇▅██▂▅▄▇▂▅▅▄██▇▅▂▅▇▄▄█▇▂▅▇▅▇█</td></tr><tr><td>train_loss</td><td>▅▂▃▃▂▃▂▂▇▄▄▂▄▁▂▅▂▅▄▆▄▅▃▂▂▃▄▇▄▂▃▄▂▃█▃▂▃▃▃</td></tr><tr><td>val_accuracy</td><td>▁▅▆▆▇▇▇▇▇▇▇▇▇█▇▇▇█▇█▇█▇▇█████▇██▇███▇▇██</td></tr><tr><td>validation_loss</td><td>█▄▃▃▂▂▂▂▂▁▂▂▂▁▁▁▂▁▁▁▁▁▁▁▂▁▁▁▁▂▁▁▂▁▁▁▂▂▁▂</td></tr></table><br/></div><div class=\"wandb-col\"><h3>Run summary:</h3><br/><table class=\"wandb\"><tr><td>epoch</td><td>10</td></tr><tr><td>train_accuracy</td><td>87.5</td></tr><tr><td>train_loss</td><td>0.05653</td></tr><tr><td>val_accuracy</td><td>88.63333</td></tr><tr><td>validation_loss</td><td>0.03324</td></tr></table><br/></div></div>"
      ],
      "text/plain": [
       "<IPython.core.display.HTML object>"
      ]
     },
     "metadata": {},
     "output_type": "display_data"
    },
    {
     "data": {
      "text/html": [
       " View run <strong style=\"color:#cdcd00\">vivid-sweep-83</strong> at: <a href='https://wandb.ai/sumanta_roy/CS6910_assignment_1/runs/tcqih3so' target=\"_blank\">https://wandb.ai/sumanta_roy/CS6910_assignment_1/runs/tcqih3so</a><br/>Synced 6 W&B file(s), 0 media file(s), 0 artifact file(s) and 0 other file(s)"
      ],
      "text/plain": [
       "<IPython.core.display.HTML object>"
      ]
     },
     "metadata": {},
     "output_type": "display_data"
    },
    {
     "data": {
      "text/html": [
       "Find logs at: <code>./wandb/run-20240317_075917-tcqih3so/logs</code>"
      ],
      "text/plain": [
       "<IPython.core.display.HTML object>"
      ]
     },
     "metadata": {},
     "output_type": "display_data"
    },
    {
     "name": "stderr",
     "output_type": "stream",
     "text": [
      "\u001b[34m\u001b[1mwandb\u001b[0m: Agent Starting Run: jm5o5yms with config:\n",
      "\u001b[34m\u001b[1mwandb\u001b[0m: \tactivation: tanh\n",
      "\u001b[34m\u001b[1mwandb\u001b[0m: \tbatch_size: 32\n",
      "\u001b[34m\u001b[1mwandb\u001b[0m: \tepochs: 10\n",
      "\u001b[34m\u001b[1mwandb\u001b[0m: \thidden_layers: 3\n",
      "\u001b[34m\u001b[1mwandb\u001b[0m: \thidden_size: 64\n",
      "\u001b[34m\u001b[1mwandb\u001b[0m: \tloss: cross_entropy\n",
      "\u001b[34m\u001b[1mwandb\u001b[0m: \tlr: 0.0001\n",
      "\u001b[34m\u001b[1mwandb\u001b[0m: \toptimizer: adam\n",
      "\u001b[34m\u001b[1mwandb\u001b[0m: \tw_init: random\n",
      "\u001b[34m\u001b[1mwandb\u001b[0m: \tweight_decay: 0.0005\n"
     ]
    },
    {
     "data": {
      "text/html": [
       "Tracking run with wandb version 0.16.4"
      ],
      "text/plain": [
       "<IPython.core.display.HTML object>"
      ]
     },
     "metadata": {},
     "output_type": "display_data"
    },
    {
     "data": {
      "text/html": [
       "Run data is saved locally in <code>/Users/sumanta/Desktop/Numpy project/cross_entropy_lesspasses/wandb/run-20240317_080325-jm5o5yms</code>"
      ],
      "text/plain": [
       "<IPython.core.display.HTML object>"
      ]
     },
     "metadata": {},
     "output_type": "display_data"
    },
    {
     "data": {
      "text/html": [
       "Syncing run <strong><a href='https://wandb.ai/sumanta_roy/CS6910_assignment_1/runs/jm5o5yms' target=\"_blank\">autumn-sweep-84</a></strong> to <a href='https://wandb.ai/sumanta_roy/CS6910_assignment_1' target=\"_blank\">Weights & Biases</a> (<a href='https://wandb.me/run' target=\"_blank\">docs</a>)<br/>Sweep page: <a href='https://wandb.ai/sumanta_roy/CS6910_assignment_1/sweeps/ff8houdp' target=\"_blank\">https://wandb.ai/sumanta_roy/CS6910_assignment_1/sweeps/ff8houdp</a>"
      ],
      "text/plain": [
       "<IPython.core.display.HTML object>"
      ]
     },
     "metadata": {},
     "output_type": "display_data"
    },
    {
     "data": {
      "text/html": [
       " View project at <a href='https://wandb.ai/sumanta_roy/CS6910_assignment_1' target=\"_blank\">https://wandb.ai/sumanta_roy/CS6910_assignment_1</a>"
      ],
      "text/plain": [
       "<IPython.core.display.HTML object>"
      ]
     },
     "metadata": {},
     "output_type": "display_data"
    },
    {
     "data": {
      "text/html": [
       " View sweep at <a href='https://wandb.ai/sumanta_roy/CS6910_assignment_1/sweeps/ff8houdp' target=\"_blank\">https://wandb.ai/sumanta_roy/CS6910_assignment_1/sweeps/ff8houdp</a>"
      ],
      "text/plain": [
       "<IPython.core.display.HTML object>"
      ]
     },
     "metadata": {},
     "output_type": "display_data"
    },
    {
     "data": {
      "text/html": [
       " View run at <a href='https://wandb.ai/sumanta_roy/CS6910_assignment_1/runs/jm5o5yms' target=\"_blank\">https://wandb.ai/sumanta_roy/CS6910_assignment_1/runs/jm5o5yms</a>"
      ],
      "text/plain": [
       "<IPython.core.display.HTML object>"
      ]
     },
     "metadata": {},
     "output_type": "display_data"
    },
    {
     "name": "stdout",
     "output_type": "stream",
     "text": [
      "Epoch: 1/10; Train Loss: 0.14205145170346095; Val Loss: 0.08830321387625285\n",
      "Epoch: 2/10; Train Loss: 0.11658191935059405; Val Loss: 0.07322397169213898\n",
      "Epoch: 3/10; Train Loss: 0.10290424130999923; Val Loss: 0.066139132799659\n",
      "Epoch: 4/10; Train Loss: 0.09429947094552585; Val Loss: 0.0618383589677262\n",
      "Epoch: 5/10; Train Loss: 0.08849052172041322; Val Loss: 0.058835090905591664\n",
      "Epoch: 6/10; Train Loss: 0.08441778275256115; Val Loss: 0.05658955230667689\n",
      "Epoch: 7/10; Train Loss: 0.08152093027903942; Val Loss: 0.05482984257524264\n",
      "Epoch: 8/10; Train Loss: 0.07952825712500618; Val Loss: 0.05339935730176336\n",
      "Epoch: 9/10; Train Loss: 0.0783077117927051; Val Loss: 0.052184279936584865\n",
      "Epoch: 10/10; Train Loss: 0.07768165768206867; Val Loss: 0.05112140311852729\n"
     ]
    },
    {
     "data": {
      "application/vnd.jupyter.widget-view+json": {
       "model_id": "",
       "version_major": 2,
       "version_minor": 0
      },
      "text/plain": [
       "VBox(children=(Label(value='0.001 MB of 0.027 MB uploaded\\r'), FloatProgress(value=0.02735260770975057, max=1.…"
      ]
     },
     "metadata": {},
     "output_type": "display_data"
    },
    {
     "data": {
      "text/html": [
       "<style>\n",
       "    table.wandb td:nth-child(1) { padding: 0 10px; text-align: left ; width: auto;} td:nth-child(2) {text-align: left ; width: 100%}\n",
       "    .wandb-row { display: flex; flex-direction: row; flex-wrap: wrap; justify-content: flex-start; width: 100% }\n",
       "    .wandb-col { display: flex; flex-direction: column; flex-basis: 100%; flex: 1; padding: 10px; }\n",
       "    </style>\n",
       "<div class=\"wandb-row\"><div class=\"wandb-col\"><h3>Run history:</h3><br/><table class=\"wandb\"><tr><td>epoch</td><td>▁▁▁▁▂▂▂▂▃▃▃▃▃▃▃▃▄▄▄▄▅▅▅▅▆▆▆▆▆▆▆▆▇▇▇▇████</td></tr><tr><td>train_accuracy</td><td>▁▄▅▇▆▄▇▆▆▆▆▅▅▆▇▅▆▅▇▆▇▆▆▇▇█▅▇▆█▆▆█▇▇▇▇▆██</td></tr><tr><td>train_loss</td><td>█▅▄▃▃▄▂▃▃▃▃▃▄▂▂▃▃▄▂▃▂▃▂▂▂▂▄▂▃▁▂▂▁▂▂▃▂▂▁▂</td></tr><tr><td>val_accuracy</td><td>▁▄▅▆▆▆▇▇▇▇▇▇▇▇▇▇▇▇▇█████████████████████</td></tr><tr><td>validation_loss</td><td>█▅▄▃▃▃▂▂▂▂▂▂▂▂▂▂▂▂▁▁▁▁▁▁▁▁▁▁▁▁▁▁▁▁▁▁▁▁▁▁</td></tr></table><br/></div><div class=\"wandb-col\"><h3>Run summary:</h3><br/><table class=\"wandb\"><tr><td>epoch</td><td>10</td></tr><tr><td>train_accuracy</td><td>90.625</td></tr><tr><td>train_loss</td><td>0.07768</td></tr><tr><td>val_accuracy</td><td>81.51667</td></tr><tr><td>validation_loss</td><td>0.05112</td></tr></table><br/></div></div>"
      ],
      "text/plain": [
       "<IPython.core.display.HTML object>"
      ]
     },
     "metadata": {},
     "output_type": "display_data"
    },
    {
     "data": {
      "text/html": [
       " View run <strong style=\"color:#cdcd00\">autumn-sweep-84</strong> at: <a href='https://wandb.ai/sumanta_roy/CS6910_assignment_1/runs/jm5o5yms' target=\"_blank\">https://wandb.ai/sumanta_roy/CS6910_assignment_1/runs/jm5o5yms</a><br/>Synced 6 W&B file(s), 0 media file(s), 0 artifact file(s) and 0 other file(s)"
      ],
      "text/plain": [
       "<IPython.core.display.HTML object>"
      ]
     },
     "metadata": {},
     "output_type": "display_data"
    },
    {
     "data": {
      "text/html": [
       "Find logs at: <code>./wandb/run-20240317_080325-jm5o5yms/logs</code>"
      ],
      "text/plain": [
       "<IPython.core.display.HTML object>"
      ]
     },
     "metadata": {},
     "output_type": "display_data"
    },
    {
     "name": "stderr",
     "output_type": "stream",
     "text": [
      "\u001b[34m\u001b[1mwandb\u001b[0m: Agent Starting Run: z3g7vrzd with config:\n",
      "\u001b[34m\u001b[1mwandb\u001b[0m: \tactivation: tanh\n",
      "\u001b[34m\u001b[1mwandb\u001b[0m: \tbatch_size: 16\n",
      "\u001b[34m\u001b[1mwandb\u001b[0m: \tepochs: 10\n",
      "\u001b[34m\u001b[1mwandb\u001b[0m: \thidden_layers: 5\n",
      "\u001b[34m\u001b[1mwandb\u001b[0m: \thidden_size: 128\n",
      "\u001b[34m\u001b[1mwandb\u001b[0m: \tloss: cross_entropy\n",
      "\u001b[34m\u001b[1mwandb\u001b[0m: \tlr: 0.0001\n",
      "\u001b[34m\u001b[1mwandb\u001b[0m: \toptimizer: adam\n",
      "\u001b[34m\u001b[1mwandb\u001b[0m: \tw_init: glorot\n",
      "\u001b[34m\u001b[1mwandb\u001b[0m: \tweight_decay: 0.0005\n"
     ]
    },
    {
     "data": {
      "text/html": [
       "Tracking run with wandb version 0.16.4"
      ],
      "text/plain": [
       "<IPython.core.display.HTML object>"
      ]
     },
     "metadata": {},
     "output_type": "display_data"
    },
    {
     "data": {
      "text/html": [
       "Run data is saved locally in <code>/Users/sumanta/Desktop/Numpy project/cross_entropy_lesspasses/wandb/run-20240317_080439-z3g7vrzd</code>"
      ],
      "text/plain": [
       "<IPython.core.display.HTML object>"
      ]
     },
     "metadata": {},
     "output_type": "display_data"
    },
    {
     "data": {
      "text/html": [
       "Syncing run <strong><a href='https://wandb.ai/sumanta_roy/CS6910_assignment_1/runs/z3g7vrzd' target=\"_blank\">colorful-sweep-85</a></strong> to <a href='https://wandb.ai/sumanta_roy/CS6910_assignment_1' target=\"_blank\">Weights & Biases</a> (<a href='https://wandb.me/run' target=\"_blank\">docs</a>)<br/>Sweep page: <a href='https://wandb.ai/sumanta_roy/CS6910_assignment_1/sweeps/ff8houdp' target=\"_blank\">https://wandb.ai/sumanta_roy/CS6910_assignment_1/sweeps/ff8houdp</a>"
      ],
      "text/plain": [
       "<IPython.core.display.HTML object>"
      ]
     },
     "metadata": {},
     "output_type": "display_data"
    },
    {
     "data": {
      "text/html": [
       " View project at <a href='https://wandb.ai/sumanta_roy/CS6910_assignment_1' target=\"_blank\">https://wandb.ai/sumanta_roy/CS6910_assignment_1</a>"
      ],
      "text/plain": [
       "<IPython.core.display.HTML object>"
      ]
     },
     "metadata": {},
     "output_type": "display_data"
    },
    {
     "data": {
      "text/html": [
       " View sweep at <a href='https://wandb.ai/sumanta_roy/CS6910_assignment_1/sweeps/ff8houdp' target=\"_blank\">https://wandb.ai/sumanta_roy/CS6910_assignment_1/sweeps/ff8houdp</a>"
      ],
      "text/plain": [
       "<IPython.core.display.HTML object>"
      ]
     },
     "metadata": {},
     "output_type": "display_data"
    },
    {
     "data": {
      "text/html": [
       " View run at <a href='https://wandb.ai/sumanta_roy/CS6910_assignment_1/runs/z3g7vrzd' target=\"_blank\">https://wandb.ai/sumanta_roy/CS6910_assignment_1/runs/z3g7vrzd</a>"
      ],
      "text/plain": [
       "<IPython.core.display.HTML object>"
      ]
     },
     "metadata": {},
     "output_type": "display_data"
    },
    {
     "name": "stdout",
     "output_type": "stream",
     "text": [
      "Epoch: 1/10; Train Loss: 0.05252076583505023; Val Loss: 0.04411555804941554\n",
      "Epoch: 2/10; Train Loss: 0.05015742417248885; Val Loss: 0.040312847414110745\n",
      "Epoch: 3/10; Train Loss: 0.04893301096086876; Val Loss: 0.03832258530512745\n",
      "Epoch: 4/10; Train Loss: 0.04798065032405722; Val Loss: 0.036986595920694816\n",
      "Epoch: 5/10; Train Loss: 0.0471330008744643; Val Loss: 0.035985400962015496\n",
      "Epoch: 6/10; Train Loss: 0.04635295567821526; Val Loss: 0.0351982840890122\n",
      "Epoch: 7/10; Train Loss: 0.04564101800228381; Val Loss: 0.03456370140466453\n",
      "Epoch: 8/10; Train Loss: 0.04500415691400412; Val Loss: 0.034042287922842564\n",
      "Epoch: 9/10; Train Loss: 0.04445084260141734; Val Loss: 0.03360664559576245\n",
      "Epoch: 10/10; Train Loss: 0.04399023875350162; Val Loss: 0.033236962763978785\n"
     ]
    },
    {
     "data": {
      "application/vnd.jupyter.widget-view+json": {
       "model_id": "",
       "version_major": 2,
       "version_minor": 0
      },
      "text/plain": [
       "VBox(children=(Label(value='0.001 MB of 0.001 MB uploaded\\r'), FloatProgress(value=1.0, max=1.0)))"
      ]
     },
     "metadata": {},
     "output_type": "display_data"
    },
    {
     "data": {
      "text/html": [
       "<style>\n",
       "    table.wandb td:nth-child(1) { padding: 0 10px; text-align: left ; width: auto;} td:nth-child(2) {text-align: left ; width: 100%}\n",
       "    .wandb-row { display: flex; flex-direction: row; flex-wrap: wrap; justify-content: flex-start; width: 100% }\n",
       "    .wandb-col { display: flex; flex-direction: column; flex-basis: 100%; flex: 1; padding: 10px; }\n",
       "    </style>\n",
       "<div class=\"wandb-row\"><div class=\"wandb-col\"><h3>Run history:</h3><br/><table class=\"wandb\"><tr><td>epoch</td><td>▁▁▁▁▂▂▂▂▃▃▃▃▃▃▃▃▄▄▄▄▅▅▅▅▆▆▆▆▆▆▆▆▇▇▇▇████</td></tr><tr><td>train_accuracy</td><td>▁▇▅▅▇▅▇▅▁▄▅▅▇█▇▂▇▁▅▂▅▅▅▇▇█▂▄▄█▅▂▅▇▂▄▇▁▇▇</td></tr><tr><td>train_loss</td><td>▇▃▄▃▂▃▂▃█▄▃▃▃▁▂▆▃▆▅▇▄▅▄▂▃▂▅▇▅▂▃▆▃▃█▅▂▄▃▄</td></tr><tr><td>val_accuracy</td><td>▁▃▅▅▆▆▆▆▇▇▇▇▇▇▇▇▇█▇▇█▇▇█▇█▇█████▇███████</td></tr><tr><td>validation_loss</td><td>█▅▄▃▃▃▃▂▂▂▂▂▂▂▂▂▂▂▂▂▁▁▁▁▂▁▁▁▁▁▁▁▂▁▁▁▁▁▁▁</td></tr></table><br/></div><div class=\"wandb-col\"><h3>Run summary:</h3><br/><table class=\"wandb\"><tr><td>epoch</td><td>10</td></tr><tr><td>train_accuracy</td><td>81.25</td></tr><tr><td>train_loss</td><td>0.04399</td></tr><tr><td>val_accuracy</td><td>88.05</td></tr><tr><td>validation_loss</td><td>0.03324</td></tr></table><br/></div></div>"
      ],
      "text/plain": [
       "<IPython.core.display.HTML object>"
      ]
     },
     "metadata": {},
     "output_type": "display_data"
    },
    {
     "data": {
      "text/html": [
       " View run <strong style=\"color:#cdcd00\">colorful-sweep-85</strong> at: <a href='https://wandb.ai/sumanta_roy/CS6910_assignment_1/runs/z3g7vrzd' target=\"_blank\">https://wandb.ai/sumanta_roy/CS6910_assignment_1/runs/z3g7vrzd</a><br/>Synced 6 W&B file(s), 0 media file(s), 0 artifact file(s) and 0 other file(s)"
      ],
      "text/plain": [
       "<IPython.core.display.HTML object>"
      ]
     },
     "metadata": {},
     "output_type": "display_data"
    },
    {
     "data": {
      "text/html": [
       "Find logs at: <code>./wandb/run-20240317_080439-z3g7vrzd/logs</code>"
      ],
      "text/plain": [
       "<IPython.core.display.HTML object>"
      ]
     },
     "metadata": {},
     "output_type": "display_data"
    },
    {
     "name": "stderr",
     "output_type": "stream",
     "text": [
      "\u001b[34m\u001b[1mwandb\u001b[0m: Agent Starting Run: hw1zqy39 with config:\n",
      "\u001b[34m\u001b[1mwandb\u001b[0m: \tactivation: tanh\n",
      "\u001b[34m\u001b[1mwandb\u001b[0m: \tbatch_size: 16\n",
      "\u001b[34m\u001b[1mwandb\u001b[0m: \tepochs: 10\n",
      "\u001b[34m\u001b[1mwandb\u001b[0m: \thidden_layers: 4\n",
      "\u001b[34m\u001b[1mwandb\u001b[0m: \thidden_size: 64\n",
      "\u001b[34m\u001b[1mwandb\u001b[0m: \tloss: cross_entropy\n",
      "\u001b[34m\u001b[1mwandb\u001b[0m: \tlr: 0.0001\n",
      "\u001b[34m\u001b[1mwandb\u001b[0m: \toptimizer: adam\n",
      "\u001b[34m\u001b[1mwandb\u001b[0m: \tw_init: random\n",
      "\u001b[34m\u001b[1mwandb\u001b[0m: \tweight_decay: 0.0005\n"
     ]
    },
    {
     "data": {
      "text/html": [
       "Tracking run with wandb version 0.16.4"
      ],
      "text/plain": [
       "<IPython.core.display.HTML object>"
      ]
     },
     "metadata": {},
     "output_type": "display_data"
    },
    {
     "data": {
      "text/html": [
       "Run data is saved locally in <code>/Users/sumanta/Desktop/Numpy project/cross_entropy_lesspasses/wandb/run-20240317_080823-hw1zqy39</code>"
      ],
      "text/plain": [
       "<IPython.core.display.HTML object>"
      ]
     },
     "metadata": {},
     "output_type": "display_data"
    },
    {
     "data": {
      "text/html": [
       "Syncing run <strong><a href='https://wandb.ai/sumanta_roy/CS6910_assignment_1/runs/hw1zqy39' target=\"_blank\">vague-sweep-86</a></strong> to <a href='https://wandb.ai/sumanta_roy/CS6910_assignment_1' target=\"_blank\">Weights & Biases</a> (<a href='https://wandb.me/run' target=\"_blank\">docs</a>)<br/>Sweep page: <a href='https://wandb.ai/sumanta_roy/CS6910_assignment_1/sweeps/ff8houdp' target=\"_blank\">https://wandb.ai/sumanta_roy/CS6910_assignment_1/sweeps/ff8houdp</a>"
      ],
      "text/plain": [
       "<IPython.core.display.HTML object>"
      ]
     },
     "metadata": {},
     "output_type": "display_data"
    },
    {
     "data": {
      "text/html": [
       " View project at <a href='https://wandb.ai/sumanta_roy/CS6910_assignment_1' target=\"_blank\">https://wandb.ai/sumanta_roy/CS6910_assignment_1</a>"
      ],
      "text/plain": [
       "<IPython.core.display.HTML object>"
      ]
     },
     "metadata": {},
     "output_type": "display_data"
    },
    {
     "data": {
      "text/html": [
       " View sweep at <a href='https://wandb.ai/sumanta_roy/CS6910_assignment_1/sweeps/ff8houdp' target=\"_blank\">https://wandb.ai/sumanta_roy/CS6910_assignment_1/sweeps/ff8houdp</a>"
      ],
      "text/plain": [
       "<IPython.core.display.HTML object>"
      ]
     },
     "metadata": {},
     "output_type": "display_data"
    },
    {
     "data": {
      "text/html": [
       " View run at <a href='https://wandb.ai/sumanta_roy/CS6910_assignment_1/runs/hw1zqy39' target=\"_blank\">https://wandb.ai/sumanta_roy/CS6910_assignment_1/runs/hw1zqy39</a>"
      ],
      "text/plain": [
       "<IPython.core.display.HTML object>"
      ]
     },
     "metadata": {},
     "output_type": "display_data"
    },
    {
     "name": "stdout",
     "output_type": "stream",
     "text": [
      "Epoch: 1/10; Train Loss: 0.14352525800910557; Val Loss: 0.08056150936591192\n",
      "Epoch: 2/10; Train Loss: 0.1251409445300064; Val Loss: 0.06811647413050098\n",
      "Epoch: 3/10; Train Loss: 0.11896792001072704; Val Loss: 0.06191464325407165\n",
      "Epoch: 4/10; Train Loss: 0.11564710596519369; Val Loss: 0.058054256250161126\n",
      "Epoch: 5/10; Train Loss: 0.11331921452605803; Val Loss: 0.05536548335014367\n",
      "Epoch: 6/10; Train Loss: 0.11142952629379539; Val Loss: 0.053359045787306984\n",
      "Epoch: 7/10; Train Loss: 0.1097973318053806; Val Loss: 0.05179559600901999\n",
      "Epoch: 8/10; Train Loss: 0.10837282634262352; Val Loss: 0.05054264012457693\n",
      "Epoch: 9/10; Train Loss: 0.10713545058392296; Val Loss: 0.04951360136533119\n",
      "Epoch: 10/10; Train Loss: 0.10608873041267533; Val Loss: 0.04863669804164021\n"
     ]
    },
    {
     "data": {
      "application/vnd.jupyter.widget-view+json": {
       "model_id": "",
       "version_major": 2,
       "version_minor": 0
      },
      "text/plain": [
       "VBox(children=(Label(value='0.001 MB of 0.001 MB uploaded\\r'), FloatProgress(value=1.0, max=1.0)))"
      ]
     },
     "metadata": {},
     "output_type": "display_data"
    },
    {
     "data": {
      "text/html": [
       "<style>\n",
       "    table.wandb td:nth-child(1) { padding: 0 10px; text-align: left ; width: auto;} td:nth-child(2) {text-align: left ; width: 100%}\n",
       "    .wandb-row { display: flex; flex-direction: row; flex-wrap: wrap; justify-content: flex-start; width: 100% }\n",
       "    .wandb-col { display: flex; flex-direction: column; flex-basis: 100%; flex: 1; padding: 10px; }\n",
       "    </style>\n",
       "<div class=\"wandb-row\"><div class=\"wandb-col\"><h3>Run history:</h3><br/><table class=\"wandb\"><tr><td>epoch</td><td>▁▁▁▁▂▂▂▂▃▃▃▃▃▃▃▃▄▄▄▄▅▅▅▅▆▆▆▆▆▆▆▆▇▇▇▇████</td></tr><tr><td>train_accuracy</td><td>▃▅▅▅▅▁▆▄▄▄▅▅▃█▅▅▆▃▅▄▅▆▅▅▅▅▃▅▄▇▅▅▅▅▄▆▆▃▇▆</td></tr><tr><td>train_loss</td><td>█▅▆▄▃▇▃▄▅▄▃▃▅▁▃▄▂▅▃▅▃▄▃▃▃▃▇▄▄▂▂▄▃▃▆▄▂▄▂▂</td></tr><tr><td>val_accuracy</td><td>▁▄▅▆▆▆▆▇▇▇▇▇▇▇▇▇▇▇▇▇████████████████████</td></tr><tr><td>validation_loss</td><td>█▅▄▃▃▃▃▂▂▂▂▂▂▂▂▂▂▂▂▁▁▁▁▁▁▁▁▁▁▁▁▁▁▁▁▁▁▁▁▁</td></tr></table><br/></div><div class=\"wandb-col\"><h3>Run summary:</h3><br/><table class=\"wandb\"><tr><td>epoch</td><td>10</td></tr><tr><td>train_accuracy</td><td>93.75</td></tr><tr><td>train_loss</td><td>0.10609</td></tr><tr><td>val_accuracy</td><td>82.01667</td></tr><tr><td>validation_loss</td><td>0.04864</td></tr></table><br/></div></div>"
      ],
      "text/plain": [
       "<IPython.core.display.HTML object>"
      ]
     },
     "metadata": {},
     "output_type": "display_data"
    },
    {
     "data": {
      "text/html": [
       " View run <strong style=\"color:#cdcd00\">vague-sweep-86</strong> at: <a href='https://wandb.ai/sumanta_roy/CS6910_assignment_1/runs/hw1zqy39' target=\"_blank\">https://wandb.ai/sumanta_roy/CS6910_assignment_1/runs/hw1zqy39</a><br/>Synced 6 W&B file(s), 0 media file(s), 0 artifact file(s) and 0 other file(s)"
      ],
      "text/plain": [
       "<IPython.core.display.HTML object>"
      ]
     },
     "metadata": {},
     "output_type": "display_data"
    },
    {
     "data": {
      "text/html": [
       "Find logs at: <code>./wandb/run-20240317_080823-hw1zqy39/logs</code>"
      ],
      "text/plain": [
       "<IPython.core.display.HTML object>"
      ]
     },
     "metadata": {},
     "output_type": "display_data"
    },
    {
     "name": "stderr",
     "output_type": "stream",
     "text": [
      "\u001b[34m\u001b[1mwandb\u001b[0m: Agent Starting Run: qgeo7dfj with config:\n",
      "\u001b[34m\u001b[1mwandb\u001b[0m: \tactivation: tanh\n",
      "\u001b[34m\u001b[1mwandb\u001b[0m: \tbatch_size: 64\n",
      "\u001b[34m\u001b[1mwandb\u001b[0m: \tepochs: 10\n",
      "\u001b[34m\u001b[1mwandb\u001b[0m: \thidden_layers: 5\n",
      "\u001b[34m\u001b[1mwandb\u001b[0m: \thidden_size: 64\n",
      "\u001b[34m\u001b[1mwandb\u001b[0m: \tloss: cross_entropy\n",
      "\u001b[34m\u001b[1mwandb\u001b[0m: \tlr: 0.001\n",
      "\u001b[34m\u001b[1mwandb\u001b[0m: \toptimizer: nadam\n",
      "\u001b[34m\u001b[1mwandb\u001b[0m: \tw_init: random\n",
      "\u001b[34m\u001b[1mwandb\u001b[0m: \tweight_decay: 0.0005\n"
     ]
    },
    {
     "data": {
      "application/vnd.jupyter.widget-view+json": {
       "model_id": "d45360cccbd74fdf906b03513d877af9",
       "version_major": 2,
       "version_minor": 0
      },
      "text/plain": [
       "VBox(children=(Label(value='Waiting for wandb.init()...\\r'), FloatProgress(value=0.011136129166698084, max=1.0…"
      ]
     },
     "metadata": {},
     "output_type": "display_data"
    },
    {
     "data": {
      "text/html": [
       "Tracking run with wandb version 0.16.4"
      ],
      "text/plain": [
       "<IPython.core.display.HTML object>"
      ]
     },
     "metadata": {},
     "output_type": "display_data"
    },
    {
     "data": {
      "text/html": [
       "Run data is saved locally in <code>/Users/sumanta/Desktop/Numpy project/cross_entropy_lesspasses/wandb/run-20240317_081009-qgeo7dfj</code>"
      ],
      "text/plain": [
       "<IPython.core.display.HTML object>"
      ]
     },
     "metadata": {},
     "output_type": "display_data"
    },
    {
     "data": {
      "text/html": [
       "Syncing run <strong><a href='https://wandb.ai/sumanta_roy/CS6910_assignment_1/runs/qgeo7dfj' target=\"_blank\">eager-sweep-87</a></strong> to <a href='https://wandb.ai/sumanta_roy/CS6910_assignment_1' target=\"_blank\">Weights & Biases</a> (<a href='https://wandb.me/run' target=\"_blank\">docs</a>)<br/>Sweep page: <a href='https://wandb.ai/sumanta_roy/CS6910_assignment_1/sweeps/ff8houdp' target=\"_blank\">https://wandb.ai/sumanta_roy/CS6910_assignment_1/sweeps/ff8houdp</a>"
      ],
      "text/plain": [
       "<IPython.core.display.HTML object>"
      ]
     },
     "metadata": {},
     "output_type": "display_data"
    },
    {
     "data": {
      "text/html": [
       " View project at <a href='https://wandb.ai/sumanta_roy/CS6910_assignment_1' target=\"_blank\">https://wandb.ai/sumanta_roy/CS6910_assignment_1</a>"
      ],
      "text/plain": [
       "<IPython.core.display.HTML object>"
      ]
     },
     "metadata": {},
     "output_type": "display_data"
    },
    {
     "data": {
      "text/html": [
       " View sweep at <a href='https://wandb.ai/sumanta_roy/CS6910_assignment_1/sweeps/ff8houdp' target=\"_blank\">https://wandb.ai/sumanta_roy/CS6910_assignment_1/sweeps/ff8houdp</a>"
      ],
      "text/plain": [
       "<IPython.core.display.HTML object>"
      ]
     },
     "metadata": {},
     "output_type": "display_data"
    },
    {
     "data": {
      "text/html": [
       " View run at <a href='https://wandb.ai/sumanta_roy/CS6910_assignment_1/runs/qgeo7dfj' target=\"_blank\">https://wandb.ai/sumanta_roy/CS6910_assignment_1/runs/qgeo7dfj</a>"
      ],
      "text/plain": [
       "<IPython.core.display.HTML object>"
      ]
     },
     "metadata": {},
     "output_type": "display_data"
    },
    {
     "name": "stdout",
     "output_type": "stream",
     "text": [
      "Epoch: 1/10; Train Loss: 0.09321795553740567; Val Loss: 0.07559796291728496\n",
      "Epoch: 2/10; Train Loss: 0.08870338401423751; Val Loss: 0.06653381459442143\n",
      "Epoch: 3/10; Train Loss: 0.08707850657640376; Val Loss: 0.0619839953790122\n",
      "Epoch: 4/10; Train Loss: 0.08504361895964183; Val Loss: 0.058981881508950514\n",
      "Epoch: 5/10; Train Loss: 0.08291924355437916; Val Loss: 0.05675535310686703\n",
      "Epoch: 6/10; Train Loss: 0.08102343522380838; Val Loss: 0.054985479580073056\n",
      "Epoch: 7/10; Train Loss: 0.07920129637295391; Val Loss: 0.05352264197862344\n",
      "Epoch: 8/10; Train Loss: 0.07729140756789876; Val Loss: 0.05228748837282494\n",
      "Epoch: 9/10; Train Loss: 0.07530244578435094; Val Loss: 0.051235780858987105\n",
      "Epoch: 10/10; Train Loss: 0.07331012668068618; Val Loss: 0.050311400549148406\n"
     ]
    },
    {
     "data": {
      "application/vnd.jupyter.widget-view+json": {
       "model_id": "",
       "version_major": 2,
       "version_minor": 0
      },
      "text/plain": [
       "VBox(children=(Label(value='0.001 MB of 0.027 MB uploaded\\r'), FloatProgress(value=0.027310403457192448, max=1…"
      ]
     },
     "metadata": {},
     "output_type": "display_data"
    },
    {
     "data": {
      "text/html": [
       "<style>\n",
       "    table.wandb td:nth-child(1) { padding: 0 10px; text-align: left ; width: auto;} td:nth-child(2) {text-align: left ; width: 100%}\n",
       "    .wandb-row { display: flex; flex-direction: row; flex-wrap: wrap; justify-content: flex-start; width: 100% }\n",
       "    .wandb-col { display: flex; flex-direction: column; flex-basis: 100%; flex: 1; padding: 10px; }\n",
       "    </style>\n",
       "<div class=\"wandb-row\"><div class=\"wandb-col\"><h3>Run history:</h3><br/><table class=\"wandb\"><tr><td>epoch</td><td>▁▁▁▁▂▂▂▂▃▃▃▃▃▃▃▃▄▄▄▄▅▅▅▅▆▆▆▆▆▆▆▆▇▇▇▇████</td></tr><tr><td>train_accuracy</td><td>▁▆▅▅▄▆▅▄▅▆▆▆▅▆▇▇▆▆▆▄▆▇▇▆▇▅▅▆▆▆█▇▇▅▇▇▇█▆▇</td></tr><tr><td>train_loss</td><td>█▄▄▄▄▃▃▅▃▃▃▂▄▂▂▂▂▂▂▅▂▂▂▂▃▃▃▂▂▃▂▂▂▃▁▂▂▁▂▁</td></tr><tr><td>val_accuracy</td><td>▁▄▅▆▆▆▆▆▇▇▇▇▇▇▇▇▇▇▇▇▇▇▇▇████████████████</td></tr><tr><td>validation_loss</td><td>█▅▄▃▃▃▂▂▂▂▂▂▂▂▂▂▂▂▂▂▁▁▁▁▁▁▁▁▁▁▁▁▁▁▁▁▁▁▁▁</td></tr></table><br/></div><div class=\"wandb-col\"><h3>Run summary:</h3><br/><table class=\"wandb\"><tr><td>epoch</td><td>10</td></tr><tr><td>train_accuracy</td><td>82.8125</td></tr><tr><td>train_loss</td><td>0.07331</td></tr><tr><td>val_accuracy</td><td>82.38333</td></tr><tr><td>validation_loss</td><td>0.05031</td></tr></table><br/></div></div>"
      ],
      "text/plain": [
       "<IPython.core.display.HTML object>"
      ]
     },
     "metadata": {},
     "output_type": "display_data"
    },
    {
     "data": {
      "text/html": [
       " View run <strong style=\"color:#cdcd00\">eager-sweep-87</strong> at: <a href='https://wandb.ai/sumanta_roy/CS6910_assignment_1/runs/qgeo7dfj' target=\"_blank\">https://wandb.ai/sumanta_roy/CS6910_assignment_1/runs/qgeo7dfj</a><br/>Synced 6 W&B file(s), 0 media file(s), 0 artifact file(s) and 0 other file(s)"
      ],
      "text/plain": [
       "<IPython.core.display.HTML object>"
      ]
     },
     "metadata": {},
     "output_type": "display_data"
    },
    {
     "data": {
      "text/html": [
       "Find logs at: <code>./wandb/run-20240317_081009-qgeo7dfj/logs</code>"
      ],
      "text/plain": [
       "<IPython.core.display.HTML object>"
      ]
     },
     "metadata": {},
     "output_type": "display_data"
    },
    {
     "name": "stderr",
     "output_type": "stream",
     "text": [
      "\u001b[34m\u001b[1mwandb\u001b[0m: Agent Starting Run: 7qcvaaqu with config:\n",
      "\u001b[34m\u001b[1mwandb\u001b[0m: \tactivation: tanh\n",
      "\u001b[34m\u001b[1mwandb\u001b[0m: \tbatch_size: 32\n",
      "\u001b[34m\u001b[1mwandb\u001b[0m: \tepochs: 10\n",
      "\u001b[34m\u001b[1mwandb\u001b[0m: \thidden_layers: 4\n",
      "\u001b[34m\u001b[1mwandb\u001b[0m: \thidden_size: 128\n",
      "\u001b[34m\u001b[1mwandb\u001b[0m: \tloss: cross_entropy\n",
      "\u001b[34m\u001b[1mwandb\u001b[0m: \tlr: 0.0001\n",
      "\u001b[34m\u001b[1mwandb\u001b[0m: \toptimizer: nadam\n",
      "\u001b[34m\u001b[1mwandb\u001b[0m: \tw_init: glorot\n",
      "\u001b[34m\u001b[1mwandb\u001b[0m: \tweight_decay: 0.0005\n"
     ]
    },
    {
     "data": {
      "text/html": [
       "Tracking run with wandb version 0.16.4"
      ],
      "text/plain": [
       "<IPython.core.display.HTML object>"
      ]
     },
     "metadata": {},
     "output_type": "display_data"
    },
    {
     "data": {
      "text/html": [
       "Run data is saved locally in <code>/Users/sumanta/Desktop/Numpy project/cross_entropy_lesspasses/wandb/run-20240317_081126-7qcvaaqu</code>"
      ],
      "text/plain": [
       "<IPython.core.display.HTML object>"
      ]
     },
     "metadata": {},
     "output_type": "display_data"
    },
    {
     "data": {
      "text/html": [
       "Syncing run <strong><a href='https://wandb.ai/sumanta_roy/CS6910_assignment_1/runs/7qcvaaqu' target=\"_blank\">golden-sweep-88</a></strong> to <a href='https://wandb.ai/sumanta_roy/CS6910_assignment_1' target=\"_blank\">Weights & Biases</a> (<a href='https://wandb.me/run' target=\"_blank\">docs</a>)<br/>Sweep page: <a href='https://wandb.ai/sumanta_roy/CS6910_assignment_1/sweeps/ff8houdp' target=\"_blank\">https://wandb.ai/sumanta_roy/CS6910_assignment_1/sweeps/ff8houdp</a>"
      ],
      "text/plain": [
       "<IPython.core.display.HTML object>"
      ]
     },
     "metadata": {},
     "output_type": "display_data"
    },
    {
     "data": {
      "text/html": [
       " View project at <a href='https://wandb.ai/sumanta_roy/CS6910_assignment_1' target=\"_blank\">https://wandb.ai/sumanta_roy/CS6910_assignment_1</a>"
      ],
      "text/plain": [
       "<IPython.core.display.HTML object>"
      ]
     },
     "metadata": {},
     "output_type": "display_data"
    },
    {
     "data": {
      "text/html": [
       " View sweep at <a href='https://wandb.ai/sumanta_roy/CS6910_assignment_1/sweeps/ff8houdp' target=\"_blank\">https://wandb.ai/sumanta_roy/CS6910_assignment_1/sweeps/ff8houdp</a>"
      ],
      "text/plain": [
       "<IPython.core.display.HTML object>"
      ]
     },
     "metadata": {},
     "output_type": "display_data"
    },
    {
     "data": {
      "text/html": [
       " View run at <a href='https://wandb.ai/sumanta_roy/CS6910_assignment_1/runs/7qcvaaqu' target=\"_blank\">https://wandb.ai/sumanta_roy/CS6910_assignment_1/runs/7qcvaaqu</a>"
      ],
      "text/plain": [
       "<IPython.core.display.HTML object>"
      ]
     },
     "metadata": {},
     "output_type": "display_data"
    },
    {
     "name": "stdout",
     "output_type": "stream",
     "text": [
      "Epoch: 1/10; Train Loss: 0.08086188027255012; Val Loss: 0.07732575403359504\n",
      "Epoch: 2/10; Train Loss: 0.06451124417902328; Val Loss: 0.06420693947123929\n",
      "Epoch: 3/10; Train Loss: 0.056145527634210636; Val Loss: 0.05730954012930754\n",
      "Epoch: 4/10; Train Loss: 0.05140227500836779; Val Loss: 0.053028347813626704\n",
      "Epoch: 5/10; Train Loss: 0.0484892883128997; Val Loss: 0.05016645084356447\n",
      "Epoch: 6/10; Train Loss: 0.04652261131887761; Val Loss: 0.048136413845025726\n",
      "Epoch: 7/10; Train Loss: 0.045084084455043; Val Loss: 0.04662307018338247\n",
      "Epoch: 8/10; Train Loss: 0.04396363407229021; Val Loss: 0.04544738828035178\n",
      "Epoch: 9/10; Train Loss: 0.04304864721906413; Val Loss: 0.044500858162922735\n",
      "Epoch: 10/10; Train Loss: 0.04227703075906979; Val Loss: 0.04371451732854655\n"
     ]
    },
    {
     "data": {
      "application/vnd.jupyter.widget-view+json": {
       "model_id": "",
       "version_major": 2,
       "version_minor": 0
      },
      "text/plain": [
       "VBox(children=(Label(value='0.001 MB of 0.001 MB uploaded\\r'), FloatProgress(value=1.0, max=1.0)))"
      ]
     },
     "metadata": {},
     "output_type": "display_data"
    },
    {
     "data": {
      "text/html": [
       "<style>\n",
       "    table.wandb td:nth-child(1) { padding: 0 10px; text-align: left ; width: auto;} td:nth-child(2) {text-align: left ; width: 100%}\n",
       "    .wandb-row { display: flex; flex-direction: row; flex-wrap: wrap; justify-content: flex-start; width: 100% }\n",
       "    .wandb-col { display: flex; flex-direction: column; flex-basis: 100%; flex: 1; padding: 10px; }\n",
       "    </style>\n",
       "<div class=\"wandb-row\"><div class=\"wandb-col\"><h3>Run history:</h3><br/><table class=\"wandb\"><tr><td>epoch</td><td>▁▁▁▁▂▂▂▂▃▃▃▃▃▃▃▃▄▄▄▄▅▅▅▅▆▆▆▆▆▆▆▆▇▇▇▇████</td></tr><tr><td>train_accuracy</td><td>▁▄▃▆▆▄▅▄▆▅▅▆▅▆▇▅▆▃▇▅▇▆▆▆▆▆▄▇▅▇▆▆▇▇▇▆▇▄█▇</td></tr><tr><td>train_loss</td><td>█▆▅▄▃▄▃▄▄▃▃▃▄▂▂▄▃▅▂▃▂▄▂▂▃▃▄▂▃▁▂▂▂▂▂▂▂▄▂▂</td></tr><tr><td>val_accuracy</td><td>▁▃▄▅▅▅▆▆▆▇▇▇▇▇▇▇▇▇▇▇▇▇██████████████████</td></tr><tr><td>validation_loss</td><td>█▅▄▄▃▃▃▃▂▂▂▂▂▂▂▂▂▂▂▁▁▁▁▁▁▁▁▁▁▁▁▁▁▁▁▁▁▁▁▁</td></tr></table><br/></div><div class=\"wandb-col\"><h3>Run summary:</h3><br/><table class=\"wandb\"><tr><td>epoch</td><td>10</td></tr><tr><td>train_accuracy</td><td>87.5</td></tr><tr><td>train_loss</td><td>0.04228</td></tr><tr><td>val_accuracy</td><td>84.48333</td></tr><tr><td>validation_loss</td><td>0.04371</td></tr></table><br/></div></div>"
      ],
      "text/plain": [
       "<IPython.core.display.HTML object>"
      ]
     },
     "metadata": {},
     "output_type": "display_data"
    },
    {
     "data": {
      "text/html": [
       " View run <strong style=\"color:#cdcd00\">golden-sweep-88</strong> at: <a href='https://wandb.ai/sumanta_roy/CS6910_assignment_1/runs/7qcvaaqu' target=\"_blank\">https://wandb.ai/sumanta_roy/CS6910_assignment_1/runs/7qcvaaqu</a><br/>Synced 6 W&B file(s), 0 media file(s), 0 artifact file(s) and 0 other file(s)"
      ],
      "text/plain": [
       "<IPython.core.display.HTML object>"
      ]
     },
     "metadata": {},
     "output_type": "display_data"
    },
    {
     "data": {
      "text/html": [
       "Find logs at: <code>./wandb/run-20240317_081126-7qcvaaqu/logs</code>"
      ],
      "text/plain": [
       "<IPython.core.display.HTML object>"
      ]
     },
     "metadata": {},
     "output_type": "display_data"
    },
    {
     "name": "stderr",
     "output_type": "stream",
     "text": [
      "\u001b[34m\u001b[1mwandb\u001b[0m: Agent Starting Run: i6gdtb5q with config:\n",
      "\u001b[34m\u001b[1mwandb\u001b[0m: \tactivation: tanh\n",
      "\u001b[34m\u001b[1mwandb\u001b[0m: \tbatch_size: 32\n",
      "\u001b[34m\u001b[1mwandb\u001b[0m: \tepochs: 10\n",
      "\u001b[34m\u001b[1mwandb\u001b[0m: \thidden_layers: 5\n",
      "\u001b[34m\u001b[1mwandb\u001b[0m: \thidden_size: 64\n",
      "\u001b[34m\u001b[1mwandb\u001b[0m: \tloss: cross_entropy\n",
      "\u001b[34m\u001b[1mwandb\u001b[0m: \tlr: 0.001\n",
      "\u001b[34m\u001b[1mwandb\u001b[0m: \toptimizer: nadam\n",
      "\u001b[34m\u001b[1mwandb\u001b[0m: \tw_init: random\n",
      "\u001b[34m\u001b[1mwandb\u001b[0m: \tweight_decay: 0.0005\n"
     ]
    },
    {
     "data": {
      "text/html": [
       "Tracking run with wandb version 0.16.4"
      ],
      "text/plain": [
       "<IPython.core.display.HTML object>"
      ]
     },
     "metadata": {},
     "output_type": "display_data"
    },
    {
     "data": {
      "text/html": [
       "Run data is saved locally in <code>/Users/sumanta/Desktop/Numpy project/cross_entropy_lesspasses/wandb/run-20240317_081415-i6gdtb5q</code>"
      ],
      "text/plain": [
       "<IPython.core.display.HTML object>"
      ]
     },
     "metadata": {},
     "output_type": "display_data"
    },
    {
     "data": {
      "text/html": [
       "Syncing run <strong><a href='https://wandb.ai/sumanta_roy/CS6910_assignment_1/runs/i6gdtb5q' target=\"_blank\">eager-sweep-89</a></strong> to <a href='https://wandb.ai/sumanta_roy/CS6910_assignment_1' target=\"_blank\">Weights & Biases</a> (<a href='https://wandb.me/run' target=\"_blank\">docs</a>)<br/>Sweep page: <a href='https://wandb.ai/sumanta_roy/CS6910_assignment_1/sweeps/ff8houdp' target=\"_blank\">https://wandb.ai/sumanta_roy/CS6910_assignment_1/sweeps/ff8houdp</a>"
      ],
      "text/plain": [
       "<IPython.core.display.HTML object>"
      ]
     },
     "metadata": {},
     "output_type": "display_data"
    },
    {
     "data": {
      "text/html": [
       " View project at <a href='https://wandb.ai/sumanta_roy/CS6910_assignment_1' target=\"_blank\">https://wandb.ai/sumanta_roy/CS6910_assignment_1</a>"
      ],
      "text/plain": [
       "<IPython.core.display.HTML object>"
      ]
     },
     "metadata": {},
     "output_type": "display_data"
    },
    {
     "data": {
      "text/html": [
       " View sweep at <a href='https://wandb.ai/sumanta_roy/CS6910_assignment_1/sweeps/ff8houdp' target=\"_blank\">https://wandb.ai/sumanta_roy/CS6910_assignment_1/sweeps/ff8houdp</a>"
      ],
      "text/plain": [
       "<IPython.core.display.HTML object>"
      ]
     },
     "metadata": {},
     "output_type": "display_data"
    },
    {
     "data": {
      "text/html": [
       " View run at <a href='https://wandb.ai/sumanta_roy/CS6910_assignment_1/runs/i6gdtb5q' target=\"_blank\">https://wandb.ai/sumanta_roy/CS6910_assignment_1/runs/i6gdtb5q</a>"
      ],
      "text/plain": [
       "<IPython.core.display.HTML object>"
      ]
     },
     "metadata": {},
     "output_type": "display_data"
    },
    {
     "name": "stdout",
     "output_type": "stream",
     "text": [
      "Epoch: 1/10; Train Loss: 0.12251871186275273; Val Loss: 0.07373449307699766\n",
      "Epoch: 2/10; Train Loss: 0.10744379561313602; Val Loss: 0.06420010995265904\n",
      "Epoch: 3/10; Train Loss: 0.10280099815382457; Val Loss: 0.05906672487174759\n",
      "Epoch: 4/10; Train Loss: 0.10040792849220875; Val Loss: 0.05562283379326008\n",
      "Epoch: 5/10; Train Loss: 0.0983102319613255; Val Loss: 0.05309388199059559\n",
      "Epoch: 6/10; Train Loss: 0.09643360872231059; Val Loss: 0.05117590496139371\n",
      "Epoch: 7/10; Train Loss: 0.09514103175288616; Val Loss: 0.0496784340572436\n",
      "Epoch: 8/10; Train Loss: 0.09426624594334765; Val Loss: 0.04847209973621111\n",
      "Epoch: 9/10; Train Loss: 0.09357463967276712; Val Loss: 0.047474045683685684\n",
      "Epoch: 10/10; Train Loss: 0.0929426025678115; Val Loss: 0.04663339616990226\n"
     ]
    },
    {
     "data": {
      "application/vnd.jupyter.widget-view+json": {
       "model_id": "",
       "version_major": 2,
       "version_minor": 0
      },
      "text/plain": [
       "VBox(children=(Label(value='0.001 MB of 0.001 MB uploaded\\r'), FloatProgress(value=1.0, max=1.0)))"
      ]
     },
     "metadata": {},
     "output_type": "display_data"
    },
    {
     "data": {
      "text/html": [
       "<style>\n",
       "    table.wandb td:nth-child(1) { padding: 0 10px; text-align: left ; width: auto;} td:nth-child(2) {text-align: left ; width: 100%}\n",
       "    .wandb-row { display: flex; flex-direction: row; flex-wrap: wrap; justify-content: flex-start; width: 100% }\n",
       "    .wandb-col { display: flex; flex-direction: column; flex-basis: 100%; flex: 1; padding: 10px; }\n",
       "    </style>\n",
       "<div class=\"wandb-row\"><div class=\"wandb-col\"><h3>Run history:</h3><br/><table class=\"wandb\"><tr><td>epoch</td><td>▁▁▁▁▂▂▂▂▃▃▃▃▃▃▃▃▄▄▄▄▅▅▅▅▆▆▆▆▆▆▆▆▇▇▇▇████</td></tr><tr><td>train_accuracy</td><td>▁▅▄▆▅▇▄▃▅▅▃▅▅▇▆▄▇▂▇▄▆▅▇█▅▅▃▇▄█▇▅▇▆▇▇▆▆▇▆</td></tr><tr><td>train_loss</td><td>█▅▅▄▄▃▅▅▄▃▄▄▄▁▃▆▂█▃▅▂▅▁▁▃▃▅▂▃▁▃▃▂▂▃▂▂▂▁▃</td></tr><tr><td>val_accuracy</td><td>▁▃▄▅▅▅▆▆▆▆▆▇▇▇▇▇▇▇▇▇▇▇▇▇████████████████</td></tr><tr><td>validation_loss</td><td>█▅▄▄▃▃▃▃▃▂▂▂▂▂▂▂▂▂▂▂▂▂▁▁▁▁▁▁▁▁▁▁▁▁▁▁▁▁▁▁</td></tr></table><br/></div><div class=\"wandb-col\"><h3>Run summary:</h3><br/><table class=\"wandb\"><tr><td>epoch</td><td>10</td></tr><tr><td>train_accuracy</td><td>87.5</td></tr><tr><td>train_loss</td><td>0.09294</td></tr><tr><td>val_accuracy</td><td>83.65</td></tr><tr><td>validation_loss</td><td>0.04663</td></tr></table><br/></div></div>"
      ],
      "text/plain": [
       "<IPython.core.display.HTML object>"
      ]
     },
     "metadata": {},
     "output_type": "display_data"
    },
    {
     "data": {
      "text/html": [
       " View run <strong style=\"color:#cdcd00\">eager-sweep-89</strong> at: <a href='https://wandb.ai/sumanta_roy/CS6910_assignment_1/runs/i6gdtb5q' target=\"_blank\">https://wandb.ai/sumanta_roy/CS6910_assignment_1/runs/i6gdtb5q</a><br/>Synced 6 W&B file(s), 0 media file(s), 0 artifact file(s) and 0 other file(s)"
      ],
      "text/plain": [
       "<IPython.core.display.HTML object>"
      ]
     },
     "metadata": {},
     "output_type": "display_data"
    },
    {
     "data": {
      "text/html": [
       "Find logs at: <code>./wandb/run-20240317_081415-i6gdtb5q/logs</code>"
      ],
      "text/plain": [
       "<IPython.core.display.HTML object>"
      ]
     },
     "metadata": {},
     "output_type": "display_data"
    },
    {
     "name": "stderr",
     "output_type": "stream",
     "text": [
      "\u001b[34m\u001b[1mwandb\u001b[0m: Agent Starting Run: h5u3fchn with config:\n",
      "\u001b[34m\u001b[1mwandb\u001b[0m: \tactivation: tanh\n",
      "\u001b[34m\u001b[1mwandb\u001b[0m: \tbatch_size: 32\n",
      "\u001b[34m\u001b[1mwandb\u001b[0m: \tepochs: 10\n",
      "\u001b[34m\u001b[1mwandb\u001b[0m: \thidden_layers: 5\n",
      "\u001b[34m\u001b[1mwandb\u001b[0m: \thidden_size: 128\n",
      "\u001b[34m\u001b[1mwandb\u001b[0m: \tloss: cross_entropy\n",
      "\u001b[34m\u001b[1mwandb\u001b[0m: \tlr: 0.0001\n",
      "\u001b[34m\u001b[1mwandb\u001b[0m: \toptimizer: nadam\n",
      "\u001b[34m\u001b[1mwandb\u001b[0m: \tw_init: glorot\n",
      "\u001b[34m\u001b[1mwandb\u001b[0m: \tweight_decay: 0\n"
     ]
    },
    {
     "data": {
      "text/html": [
       "Tracking run with wandb version 0.16.4"
      ],
      "text/plain": [
       "<IPython.core.display.HTML object>"
      ]
     },
     "metadata": {},
     "output_type": "display_data"
    },
    {
     "data": {
      "text/html": [
       "Run data is saved locally in <code>/Users/sumanta/Desktop/Numpy project/cross_entropy_lesspasses/wandb/run-20240317_081539-h5u3fchn</code>"
      ],
      "text/plain": [
       "<IPython.core.display.HTML object>"
      ]
     },
     "metadata": {},
     "output_type": "display_data"
    },
    {
     "data": {
      "text/html": [
       "Syncing run <strong><a href='https://wandb.ai/sumanta_roy/CS6910_assignment_1/runs/h5u3fchn' target=\"_blank\">flowing-sweep-90</a></strong> to <a href='https://wandb.ai/sumanta_roy/CS6910_assignment_1' target=\"_blank\">Weights & Biases</a> (<a href='https://wandb.me/run' target=\"_blank\">docs</a>)<br/>Sweep page: <a href='https://wandb.ai/sumanta_roy/CS6910_assignment_1/sweeps/ff8houdp' target=\"_blank\">https://wandb.ai/sumanta_roy/CS6910_assignment_1/sweeps/ff8houdp</a>"
      ],
      "text/plain": [
       "<IPython.core.display.HTML object>"
      ]
     },
     "metadata": {},
     "output_type": "display_data"
    },
    {
     "data": {
      "text/html": [
       " View project at <a href='https://wandb.ai/sumanta_roy/CS6910_assignment_1' target=\"_blank\">https://wandb.ai/sumanta_roy/CS6910_assignment_1</a>"
      ],
      "text/plain": [
       "<IPython.core.display.HTML object>"
      ]
     },
     "metadata": {},
     "output_type": "display_data"
    },
    {
     "data": {
      "text/html": [
       " View sweep at <a href='https://wandb.ai/sumanta_roy/CS6910_assignment_1/sweeps/ff8houdp' target=\"_blank\">https://wandb.ai/sumanta_roy/CS6910_assignment_1/sweeps/ff8houdp</a>"
      ],
      "text/plain": [
       "<IPython.core.display.HTML object>"
      ]
     },
     "metadata": {},
     "output_type": "display_data"
    },
    {
     "data": {
      "text/html": [
       " View run at <a href='https://wandb.ai/sumanta_roy/CS6910_assignment_1/runs/h5u3fchn' target=\"_blank\">https://wandb.ai/sumanta_roy/CS6910_assignment_1/runs/h5u3fchn</a>"
      ],
      "text/plain": [
       "<IPython.core.display.HTML object>"
      ]
     },
     "metadata": {},
     "output_type": "display_data"
    },
    {
     "name": "stdout",
     "output_type": "stream",
     "text": [
      "Epoch: 1/10; Train Loss: 0.07581518124099583; Val Loss: 0.07562161722350878\n",
      "Epoch: 2/10; Train Loss: 0.05975146333303499; Val Loss: 0.06183113286859299\n",
      "Epoch: 3/10; Train Loss: 0.05288883538421507; Val Loss: 0.055026224853854805\n",
      "Epoch: 4/10; Train Loss: 0.04937179590048625; Val Loss: 0.05102562953277163\n",
      "Epoch: 5/10; Train Loss: 0.047279578123522556; Val Loss: 0.048467363662585326\n",
      "Epoch: 6/10; Train Loss: 0.04578430286457793; Val Loss: 0.04668627934974898\n",
      "Epoch: 7/10; Train Loss: 0.044561823480775906; Val Loss: 0.04534791004567171\n",
      "Epoch: 8/10; Train Loss: 0.043497241981046174; Val Loss: 0.044282728697195045\n",
      "Epoch: 9/10; Train Loss: 0.04254963241569852; Val Loss: 0.04340024521484503\n",
      "Epoch: 10/10; Train Loss: 0.041701139631792325; Val Loss: 0.04264846091199468\n"
     ]
    },
    {
     "data": {
      "application/vnd.jupyter.widget-view+json": {
       "model_id": "",
       "version_major": 2,
       "version_minor": 0
      },
      "text/plain": [
       "VBox(children=(Label(value='0.001 MB of 0.027 MB uploaded\\r'), FloatProgress(value=0.027309436100878437, max=1…"
      ]
     },
     "metadata": {},
     "output_type": "display_data"
    },
    {
     "data": {
      "text/html": [
       "<style>\n",
       "    table.wandb td:nth-child(1) { padding: 0 10px; text-align: left ; width: auto;} td:nth-child(2) {text-align: left ; width: 100%}\n",
       "    .wandb-row { display: flex; flex-direction: row; flex-wrap: wrap; justify-content: flex-start; width: 100% }\n",
       "    .wandb-col { display: flex; flex-direction: column; flex-basis: 100%; flex: 1; padding: 10px; }\n",
       "    </style>\n",
       "<div class=\"wandb-row\"><div class=\"wandb-col\"><h3>Run history:</h3><br/><table class=\"wandb\"><tr><td>epoch</td><td>▁▁▁▁▂▂▂▂▃▃▃▃▃▃▃▃▄▄▄▄▅▅▅▅▆▆▆▆▆▆▆▆▇▇▇▇████</td></tr><tr><td>train_accuracy</td><td>▁▅▄▆▅▆▆▅▆▆▆▇▅▇▆▆▆▄▇▅▆▆▆▇▆▆▄▆▅█▆▇▇▇▆▅▇▆█▇</td></tr><tr><td>train_loss</td><td>█▅▅▃▃▃▃▄▃▃▃▃▃▂▂▄▂▅▂▃▂▃▂▂▃▂▄▂▃▁▃▃▂▂▂▂▂▃▁▂</td></tr><tr><td>val_accuracy</td><td>▁▄▅▅▆▆▆▆▇▇▇▇▇▇▇▇▇▇▇▇▇███████████████████</td></tr><tr><td>validation_loss</td><td>█▅▄▄▃▃▃▂▂▂▂▂▂▂▂▂▂▁▁▁▁▁▁▁▁▁▁▁▁▁▁▁▁▁▁▁▁▁▁▁</td></tr></table><br/></div><div class=\"wandb-col\"><h3>Run summary:</h3><br/><table class=\"wandb\"><tr><td>epoch</td><td>10</td></tr><tr><td>train_accuracy</td><td>84.375</td></tr><tr><td>train_loss</td><td>0.0417</td></tr><tr><td>val_accuracy</td><td>84.58333</td></tr><tr><td>validation_loss</td><td>0.04265</td></tr></table><br/></div></div>"
      ],
      "text/plain": [
       "<IPython.core.display.HTML object>"
      ]
     },
     "metadata": {},
     "output_type": "display_data"
    },
    {
     "data": {
      "text/html": [
       " View run <strong style=\"color:#cdcd00\">flowing-sweep-90</strong> at: <a href='https://wandb.ai/sumanta_roy/CS6910_assignment_1/runs/h5u3fchn' target=\"_blank\">https://wandb.ai/sumanta_roy/CS6910_assignment_1/runs/h5u3fchn</a><br/>Synced 6 W&B file(s), 0 media file(s), 0 artifact file(s) and 0 other file(s)"
      ],
      "text/plain": [
       "<IPython.core.display.HTML object>"
      ]
     },
     "metadata": {},
     "output_type": "display_data"
    },
    {
     "data": {
      "text/html": [
       "Find logs at: <code>./wandb/run-20240317_081539-h5u3fchn/logs</code>"
      ],
      "text/plain": [
       "<IPython.core.display.HTML object>"
      ]
     },
     "metadata": {},
     "output_type": "display_data"
    },
    {
     "name": "stderr",
     "output_type": "stream",
     "text": [
      "\u001b[34m\u001b[1mwandb\u001b[0m: Sweep Agent: Waiting for job.\n",
      "\u001b[34m\u001b[1mwandb\u001b[0m: Job received.\n",
      "\u001b[34m\u001b[1mwandb\u001b[0m: Agent Starting Run: 9re6x6qa with config:\n",
      "\u001b[34m\u001b[1mwandb\u001b[0m: \tactivation: tanh\n",
      "\u001b[34m\u001b[1mwandb\u001b[0m: \tbatch_size: 16\n",
      "\u001b[34m\u001b[1mwandb\u001b[0m: \tepochs: 10\n",
      "\u001b[34m\u001b[1mwandb\u001b[0m: \thidden_layers: 4\n",
      "\u001b[34m\u001b[1mwandb\u001b[0m: \thidden_size: 128\n",
      "\u001b[34m\u001b[1mwandb\u001b[0m: \tloss: cross_entropy\n",
      "\u001b[34m\u001b[1mwandb\u001b[0m: \tlr: 0.0001\n",
      "\u001b[34m\u001b[1mwandb\u001b[0m: \toptimizer: rmsprop\n",
      "\u001b[34m\u001b[1mwandb\u001b[0m: \tw_init: random\n",
      "\u001b[34m\u001b[1mwandb\u001b[0m: \tweight_decay: 0\n"
     ]
    },
    {
     "data": {
      "text/html": [
       "Tracking run with wandb version 0.16.4"
      ],
      "text/plain": [
       "<IPython.core.display.HTML object>"
      ]
     },
     "metadata": {},
     "output_type": "display_data"
    },
    {
     "data": {
      "text/html": [
       "Run data is saved locally in <code>/Users/sumanta/Desktop/Numpy project/cross_entropy_lesspasses/wandb/run-20240317_081910-9re6x6qa</code>"
      ],
      "text/plain": [
       "<IPython.core.display.HTML object>"
      ]
     },
     "metadata": {},
     "output_type": "display_data"
    },
    {
     "data": {
      "text/html": [
       "Syncing run <strong><a href='https://wandb.ai/sumanta_roy/CS6910_assignment_1/runs/9re6x6qa' target=\"_blank\">blooming-sweep-91</a></strong> to <a href='https://wandb.ai/sumanta_roy/CS6910_assignment_1' target=\"_blank\">Weights & Biases</a> (<a href='https://wandb.me/run' target=\"_blank\">docs</a>)<br/>Sweep page: <a href='https://wandb.ai/sumanta_roy/CS6910_assignment_1/sweeps/ff8houdp' target=\"_blank\">https://wandb.ai/sumanta_roy/CS6910_assignment_1/sweeps/ff8houdp</a>"
      ],
      "text/plain": [
       "<IPython.core.display.HTML object>"
      ]
     },
     "metadata": {},
     "output_type": "display_data"
    },
    {
     "data": {
      "text/html": [
       " View project at <a href='https://wandb.ai/sumanta_roy/CS6910_assignment_1' target=\"_blank\">https://wandb.ai/sumanta_roy/CS6910_assignment_1</a>"
      ],
      "text/plain": [
       "<IPython.core.display.HTML object>"
      ]
     },
     "metadata": {},
     "output_type": "display_data"
    },
    {
     "data": {
      "text/html": [
       " View sweep at <a href='https://wandb.ai/sumanta_roy/CS6910_assignment_1/sweeps/ff8houdp' target=\"_blank\">https://wandb.ai/sumanta_roy/CS6910_assignment_1/sweeps/ff8houdp</a>"
      ],
      "text/plain": [
       "<IPython.core.display.HTML object>"
      ]
     },
     "metadata": {},
     "output_type": "display_data"
    },
    {
     "data": {
      "text/html": [
       " View run at <a href='https://wandb.ai/sumanta_roy/CS6910_assignment_1/runs/9re6x6qa' target=\"_blank\">https://wandb.ai/sumanta_roy/CS6910_assignment_1/runs/9re6x6qa</a>"
      ],
      "text/plain": [
       "<IPython.core.display.HTML object>"
      ]
     },
     "metadata": {},
     "output_type": "display_data"
    },
    {
     "name": "stdout",
     "output_type": "stream",
     "text": [
      "Epoch: 1/10; Train Loss: 0.055079492320647974; Val Loss: 0.066183068908504\n",
      "Epoch: 2/10; Train Loss: 0.02930870431064856; Val Loss: 0.05709452943181335\n",
      "Epoch: 3/10; Train Loss: 0.020663630441310234; Val Loss: 0.05302633698113582\n",
      "Epoch: 4/10; Train Loss: 0.01742217716695721; Val Loss: 0.05077296073263242\n",
      "Epoch: 5/10; Train Loss: 0.017095080533297342; Val Loss: 0.049119641722127495\n",
      "Epoch: 6/10; Train Loss: 0.017153034283339127; Val Loss: 0.04792291451911874\n",
      "Epoch: 7/10; Train Loss: 0.01697081298117621; Val Loss: 0.04704839527717752\n",
      "Epoch: 8/10; Train Loss: 0.016605999351466075; Val Loss: 0.04640200184235802\n",
      "Epoch: 9/10; Train Loss: 0.016073926021543946; Val Loss: 0.04588735595388031\n",
      "Epoch: 10/10; Train Loss: 0.015474461785097145; Val Loss: 0.04547166721246686\n"
     ]
    },
    {
     "data": {
      "application/vnd.jupyter.widget-view+json": {
       "model_id": "",
       "version_major": 2,
       "version_minor": 0
      },
      "text/plain": [
       "VBox(children=(Label(value='0.001 MB of 0.001 MB uploaded\\r'), FloatProgress(value=1.0, max=1.0)))"
      ]
     },
     "metadata": {},
     "output_type": "display_data"
    },
    {
     "data": {
      "text/html": [
       "<style>\n",
       "    table.wandb td:nth-child(1) { padding: 0 10px; text-align: left ; width: auto;} td:nth-child(2) {text-align: left ; width: 100%}\n",
       "    .wandb-row { display: flex; flex-direction: row; flex-wrap: wrap; justify-content: flex-start; width: 100% }\n",
       "    .wandb-col { display: flex; flex-direction: column; flex-basis: 100%; flex: 1; padding: 10px; }\n",
       "    </style>\n",
       "<div class=\"wandb-row\"><div class=\"wandb-col\"><h3>Run history:</h3><br/><table class=\"wandb\"><tr><td>epoch</td><td>▁▁▁▁▂▂▂▂▃▃▃▃▃▃▃▃▄▄▄▄▅▅▅▅▆▆▆▆▆▆▆▆▇▇▇▇████</td></tr><tr><td>train_accuracy</td><td>▁▅▅▆▇▅▇▆▄▅▅▅▇▇▅▅▅▅▅▅▆▆▅▇▇█▃▆▆▅▅▅▆▅▃▅▇▄▇▆</td></tr><tr><td>train_loss</td><td>█▄▅▅▂▃▂▃▆▅▃▃▂▁▃▆▄▅▄▆▄▄▄▂▃▁▆▄▃▂▂▅▃▂▇▄▁▄▁▂</td></tr><tr><td>val_accuracy</td><td>▁▄▆▆▇▇▇▇▇▇▇▇████████████████████████████</td></tr><tr><td>validation_loss</td><td>█▄▃▃▂▂▂▂▂▂▂▁▁▁▁▁▁▁▁▁▁▁▁▁▁▁▁▁▁▁▁▁▁▁▁▁▁▁▁▁</td></tr></table><br/></div><div class=\"wandb-col\"><h3>Run summary:</h3><br/><table class=\"wandb\"><tr><td>epoch</td><td>10</td></tr><tr><td>train_accuracy</td><td>100.0</td></tr><tr><td>train_loss</td><td>0.01547</td></tr><tr><td>val_accuracy</td><td>84.35</td></tr><tr><td>validation_loss</td><td>0.04547</td></tr></table><br/></div></div>"
      ],
      "text/plain": [
       "<IPython.core.display.HTML object>"
      ]
     },
     "metadata": {},
     "output_type": "display_data"
    },
    {
     "data": {
      "text/html": [
       " View run <strong style=\"color:#cdcd00\">blooming-sweep-91</strong> at: <a href='https://wandb.ai/sumanta_roy/CS6910_assignment_1/runs/9re6x6qa' target=\"_blank\">https://wandb.ai/sumanta_roy/CS6910_assignment_1/runs/9re6x6qa</a><br/>Synced 6 W&B file(s), 0 media file(s), 0 artifact file(s) and 0 other file(s)"
      ],
      "text/plain": [
       "<IPython.core.display.HTML object>"
      ]
     },
     "metadata": {},
     "output_type": "display_data"
    },
    {
     "data": {
      "text/html": [
       "Find logs at: <code>./wandb/run-20240317_081910-9re6x6qa/logs</code>"
      ],
      "text/plain": [
       "<IPython.core.display.HTML object>"
      ]
     },
     "metadata": {},
     "output_type": "display_data"
    },
    {
     "name": "stderr",
     "output_type": "stream",
     "text": [
      "\u001b[34m\u001b[1mwandb\u001b[0m: Agent Starting Run: 5c3zlyc5 with config:\n",
      "\u001b[34m\u001b[1mwandb\u001b[0m: \tactivation: tanh\n",
      "\u001b[34m\u001b[1mwandb\u001b[0m: \tbatch_size: 16\n",
      "\u001b[34m\u001b[1mwandb\u001b[0m: \tepochs: 10\n",
      "\u001b[34m\u001b[1mwandb\u001b[0m: \thidden_layers: 4\n",
      "\u001b[34m\u001b[1mwandb\u001b[0m: \thidden_size: 128\n",
      "\u001b[34m\u001b[1mwandb\u001b[0m: \tloss: cross_entropy\n",
      "\u001b[34m\u001b[1mwandb\u001b[0m: \tlr: 0.001\n",
      "\u001b[34m\u001b[1mwandb\u001b[0m: \toptimizer: rmsprop\n",
      "\u001b[34m\u001b[1mwandb\u001b[0m: \tw_init: random\n",
      "\u001b[34m\u001b[1mwandb\u001b[0m: \tweight_decay: 0\n"
     ]
    },
    {
     "data": {
      "text/html": [
       "Tracking run with wandb version 0.16.4"
      ],
      "text/plain": [
       "<IPython.core.display.HTML object>"
      ]
     },
     "metadata": {},
     "output_type": "display_data"
    },
    {
     "data": {
      "text/html": [
       "Run data is saved locally in <code>/Users/sumanta/Desktop/Numpy project/cross_entropy_lesspasses/wandb/run-20240317_082218-5c3zlyc5</code>"
      ],
      "text/plain": [
       "<IPython.core.display.HTML object>"
      ]
     },
     "metadata": {},
     "output_type": "display_data"
    },
    {
     "data": {
      "text/html": [
       "Syncing run <strong><a href='https://wandb.ai/sumanta_roy/CS6910_assignment_1/runs/5c3zlyc5' target=\"_blank\">toasty-sweep-92</a></strong> to <a href='https://wandb.ai/sumanta_roy/CS6910_assignment_1' target=\"_blank\">Weights & Biases</a> (<a href='https://wandb.me/run' target=\"_blank\">docs</a>)<br/>Sweep page: <a href='https://wandb.ai/sumanta_roy/CS6910_assignment_1/sweeps/ff8houdp' target=\"_blank\">https://wandb.ai/sumanta_roy/CS6910_assignment_1/sweeps/ff8houdp</a>"
      ],
      "text/plain": [
       "<IPython.core.display.HTML object>"
      ]
     },
     "metadata": {},
     "output_type": "display_data"
    },
    {
     "data": {
      "text/html": [
       " View project at <a href='https://wandb.ai/sumanta_roy/CS6910_assignment_1' target=\"_blank\">https://wandb.ai/sumanta_roy/CS6910_assignment_1</a>"
      ],
      "text/plain": [
       "<IPython.core.display.HTML object>"
      ]
     },
     "metadata": {},
     "output_type": "display_data"
    },
    {
     "data": {
      "text/html": [
       " View sweep at <a href='https://wandb.ai/sumanta_roy/CS6910_assignment_1/sweeps/ff8houdp' target=\"_blank\">https://wandb.ai/sumanta_roy/CS6910_assignment_1/sweeps/ff8houdp</a>"
      ],
      "text/plain": [
       "<IPython.core.display.HTML object>"
      ]
     },
     "metadata": {},
     "output_type": "display_data"
    },
    {
     "data": {
      "text/html": [
       " View run at <a href='https://wandb.ai/sumanta_roy/CS6910_assignment_1/runs/5c3zlyc5' target=\"_blank\">https://wandb.ai/sumanta_roy/CS6910_assignment_1/runs/5c3zlyc5</a>"
      ],
      "text/plain": [
       "<IPython.core.display.HTML object>"
      ]
     },
     "metadata": {},
     "output_type": "display_data"
    },
    {
     "name": "stdout",
     "output_type": "stream",
     "text": [
      "Epoch: 1/10; Train Loss: 0.030572264874173007; Val Loss: 0.05084934194942642\n",
      "Epoch: 2/10; Train Loss: 0.03749043734611567; Val Loss: 0.04803698827311312\n",
      "Epoch: 3/10; Train Loss: 0.03030386429827044; Val Loss: 0.0445986426501646\n",
      "Epoch: 4/10; Train Loss: 0.027673127805195392; Val Loss: 0.04129892938024091\n",
      "Epoch: 5/10; Train Loss: 0.021054889035133036; Val Loss: 0.04217548345317023\n",
      "Epoch: 6/10; Train Loss: 0.026364175225372582; Val Loss: 0.03969088836203489\n",
      "Epoch: 7/10; Train Loss: 0.02178326520296869; Val Loss: 0.04115174416047022\n",
      "Epoch: 8/10; Train Loss: 0.021600361368614502; Val Loss: 0.03987185112049505\n",
      "Epoch: 9/10; Train Loss: 0.016964291202658827; Val Loss: 0.03917880644005711\n",
      "Epoch: 10/10; Train Loss: 0.024736789322762232; Val Loss: 0.03855354243452553\n"
     ]
    },
    {
     "data": {
      "application/vnd.jupyter.widget-view+json": {
       "model_id": "",
       "version_major": 2,
       "version_minor": 0
      },
      "text/plain": [
       "VBox(children=(Label(value='0.001 MB of 0.001 MB uploaded\\r'), FloatProgress(value=1.0, max=1.0)))"
      ]
     },
     "metadata": {},
     "output_type": "display_data"
    },
    {
     "data": {
      "text/html": [
       "<style>\n",
       "    table.wandb td:nth-child(1) { padding: 0 10px; text-align: left ; width: auto;} td:nth-child(2) {text-align: left ; width: 100%}\n",
       "    .wandb-row { display: flex; flex-direction: row; flex-wrap: wrap; justify-content: flex-start; width: 100% }\n",
       "    .wandb-col { display: flex; flex-direction: column; flex-basis: 100%; flex: 1; padding: 10px; }\n",
       "    </style>\n",
       "<div class=\"wandb-row\"><div class=\"wandb-col\"><h3>Run history:</h3><br/><table class=\"wandb\"><tr><td>epoch</td><td>▁▁▁▁▂▂▂▂▃▃▃▃▃▃▃▃▄▄▄▄▅▅▅▅▆▆▆▆▆▆▆▆▇▇▇▇████</td></tr><tr><td>train_accuracy</td><td>▁▆▆▇▇▇▆▇▅▆▃█▅█▆▁█▃▆▅▃▅▅██▇▁▃▅▆▅▅█▆▃▂▇▅▆▆</td></tr><tr><td>train_loss</td><td>█▃▄▃▂▃▃▃▅▄▅▂▄▁▃▇▁▅▄▆▅▅▃▂▂▁█▅▄▃▃▅▁▃█▅▁▄▃▃</td></tr><tr><td>val_accuracy</td><td>▁▃▅▆▆▆▆▅▇▇▇▇▇▇▇▇█████████▇▇█████▇███████</td></tr><tr><td>validation_loss</td><td>█▆▄▃▃▃▃▃▂▂▂▂▁▁▂▁▁▁▁▁▁▁▁▁▁▁▁▁▁▁▁▁▂▁▁▁▁▁▁▁</td></tr></table><br/></div><div class=\"wandb-col\"><h3>Run summary:</h3><br/><table class=\"wandb\"><tr><td>epoch</td><td>10</td></tr><tr><td>train_accuracy</td><td>93.75</td></tr><tr><td>train_loss</td><td>0.02474</td></tr><tr><td>val_accuracy</td><td>87.0</td></tr><tr><td>validation_loss</td><td>0.03855</td></tr></table><br/></div></div>"
      ],
      "text/plain": [
       "<IPython.core.display.HTML object>"
      ]
     },
     "metadata": {},
     "output_type": "display_data"
    },
    {
     "data": {
      "text/html": [
       " View run <strong style=\"color:#cdcd00\">toasty-sweep-92</strong> at: <a href='https://wandb.ai/sumanta_roy/CS6910_assignment_1/runs/5c3zlyc5' target=\"_blank\">https://wandb.ai/sumanta_roy/CS6910_assignment_1/runs/5c3zlyc5</a><br/>Synced 6 W&B file(s), 0 media file(s), 0 artifact file(s) and 0 other file(s)"
      ],
      "text/plain": [
       "<IPython.core.display.HTML object>"
      ]
     },
     "metadata": {},
     "output_type": "display_data"
    },
    {
     "data": {
      "text/html": [
       "Find logs at: <code>./wandb/run-20240317_082218-5c3zlyc5/logs</code>"
      ],
      "text/plain": [
       "<IPython.core.display.HTML object>"
      ]
     },
     "metadata": {},
     "output_type": "display_data"
    },
    {
     "name": "stderr",
     "output_type": "stream",
     "text": [
      "\u001b[34m\u001b[1mwandb\u001b[0m: Sweep Agent: Waiting for job.\n",
      "\u001b[34m\u001b[1mwandb\u001b[0m: Job received.\n",
      "\u001b[34m\u001b[1mwandb\u001b[0m: Agent Starting Run: vbom2m4a with config:\n",
      "\u001b[34m\u001b[1mwandb\u001b[0m: \tactivation: tanh\n",
      "\u001b[34m\u001b[1mwandb\u001b[0m: \tbatch_size: 16\n",
      "\u001b[34m\u001b[1mwandb\u001b[0m: \tepochs: 10\n",
      "\u001b[34m\u001b[1mwandb\u001b[0m: \thidden_layers: 5\n",
      "\u001b[34m\u001b[1mwandb\u001b[0m: \thidden_size: 128\n",
      "\u001b[34m\u001b[1mwandb\u001b[0m: \tloss: cross_entropy\n",
      "\u001b[34m\u001b[1mwandb\u001b[0m: \tlr: 0.001\n",
      "\u001b[34m\u001b[1mwandb\u001b[0m: \toptimizer: rmsprop\n",
      "\u001b[34m\u001b[1mwandb\u001b[0m: \tw_init: random\n",
      "\u001b[34m\u001b[1mwandb\u001b[0m: \tweight_decay: 0.0005\n"
     ]
    },
    {
     "data": {
      "text/html": [
       "Tracking run with wandb version 0.16.4"
      ],
      "text/plain": [
       "<IPython.core.display.HTML object>"
      ]
     },
     "metadata": {},
     "output_type": "display_data"
    },
    {
     "data": {
      "text/html": [
       "Run data is saved locally in <code>/Users/sumanta/Desktop/Numpy project/cross_entropy_lesspasses/wandb/run-20240317_082534-vbom2m4a</code>"
      ],
      "text/plain": [
       "<IPython.core.display.HTML object>"
      ]
     },
     "metadata": {},
     "output_type": "display_data"
    },
    {
     "data": {
      "text/html": [
       "Syncing run <strong><a href='https://wandb.ai/sumanta_roy/CS6910_assignment_1/runs/vbom2m4a' target=\"_blank\">spring-sweep-93</a></strong> to <a href='https://wandb.ai/sumanta_roy/CS6910_assignment_1' target=\"_blank\">Weights & Biases</a> (<a href='https://wandb.me/run' target=\"_blank\">docs</a>)<br/>Sweep page: <a href='https://wandb.ai/sumanta_roy/CS6910_assignment_1/sweeps/ff8houdp' target=\"_blank\">https://wandb.ai/sumanta_roy/CS6910_assignment_1/sweeps/ff8houdp</a>"
      ],
      "text/plain": [
       "<IPython.core.display.HTML object>"
      ]
     },
     "metadata": {},
     "output_type": "display_data"
    },
    {
     "data": {
      "text/html": [
       " View project at <a href='https://wandb.ai/sumanta_roy/CS6910_assignment_1' target=\"_blank\">https://wandb.ai/sumanta_roy/CS6910_assignment_1</a>"
      ],
      "text/plain": [
       "<IPython.core.display.HTML object>"
      ]
     },
     "metadata": {},
     "output_type": "display_data"
    },
    {
     "data": {
      "text/html": [
       " View sweep at <a href='https://wandb.ai/sumanta_roy/CS6910_assignment_1/sweeps/ff8houdp' target=\"_blank\">https://wandb.ai/sumanta_roy/CS6910_assignment_1/sweeps/ff8houdp</a>"
      ],
      "text/plain": [
       "<IPython.core.display.HTML object>"
      ]
     },
     "metadata": {},
     "output_type": "display_data"
    },
    {
     "data": {
      "text/html": [
       " View run at <a href='https://wandb.ai/sumanta_roy/CS6910_assignment_1/runs/vbom2m4a' target=\"_blank\">https://wandb.ai/sumanta_roy/CS6910_assignment_1/runs/vbom2m4a</a>"
      ],
      "text/plain": [
       "<IPython.core.display.HTML object>"
      ]
     },
     "metadata": {},
     "output_type": "display_data"
    },
    {
     "name": "stdout",
     "output_type": "stream",
     "text": [
      "Epoch: 1/10; Train Loss: 0.24333534529930895; Val Loss: 0.05609337594037234\n",
      "Epoch: 2/10; Train Loss: 0.24652317216508593; Val Loss: 0.04719184624382222\n",
      "Epoch: 3/10; Train Loss: 0.2500558864100887; Val Loss: 0.04560815779417095\n",
      "Epoch: 4/10; Train Loss: 0.2529895936415885; Val Loss: 0.04590085223965157\n",
      "Epoch: 5/10; Train Loss: 0.24281795172937148; Val Loss: 0.041400624522621665\n",
      "Epoch: 6/10; Train Loss: 0.24234035710854812; Val Loss: 0.0406274579595642\n",
      "Epoch: 7/10; Train Loss: 0.2297688182176558; Val Loss: 0.039878165178046\n",
      "Epoch: 8/10; Train Loss: 0.233257804321974; Val Loss: 0.039724394869517884\n",
      "Epoch: 9/10; Train Loss: 0.2254426919519251; Val Loss: 0.03991692849006763\n",
      "Epoch: 10/10; Train Loss: 0.21593179488729677; Val Loss: 0.03752674167679172\n"
     ]
    },
    {
     "data": {
      "application/vnd.jupyter.widget-view+json": {
       "model_id": "",
       "version_major": 2,
       "version_minor": 0
      },
      "text/plain": [
       "VBox(children=(Label(value='0.001 MB of 0.001 MB uploaded\\r'), FloatProgress(value=1.0, max=1.0)))"
      ]
     },
     "metadata": {},
     "output_type": "display_data"
    },
    {
     "data": {
      "text/html": [
       "<style>\n",
       "    table.wandb td:nth-child(1) { padding: 0 10px; text-align: left ; width: auto;} td:nth-child(2) {text-align: left ; width: 100%}\n",
       "    .wandb-row { display: flex; flex-direction: row; flex-wrap: wrap; justify-content: flex-start; width: 100% }\n",
       "    .wandb-col { display: flex; flex-direction: column; flex-basis: 100%; flex: 1; padding: 10px; }\n",
       "    </style>\n",
       "<div class=\"wandb-row\"><div class=\"wandb-col\"><h3>Run history:</h3><br/><table class=\"wandb\"><tr><td>epoch</td><td>▁▁▁▁▂▂▂▂▃▃▃▃▃▃▃▃▄▄▄▄▅▅▅▅▆▆▆▆▆▆▆▆▇▇▇▇████</td></tr><tr><td>train_accuracy</td><td>▄█▇▄▅▄▅▇▅▂▂▇▄█▄▅▅▂▅▂▅▅▄█▄█▁▄▁▅▄▄▄▇▂▂▇▅▅█</td></tr><tr><td>train_loss</td><td>▆▃▅▄▄▄▄▃▄▆▆▃▄▂▅▄▄▄▄▅▃▆▄▂▄▁█▄▄▂▂▅▃▂▄▃▁▃▂▁</td></tr><tr><td>val_accuracy</td><td>▁▄▅▆▆▆▆▆▆▇▇▇▇▇▇▇▇█▇▇███▇████▇▇▇█▇███████</td></tr><tr><td>validation_loss</td><td>█▆▄▃▃▃▃▃▃▂▂▂▂▂▂▁▂▁▂▂▁▁▁▁▁▁▁▁▁▁▁▁▂▁▁▁▁▁▁▁</td></tr></table><br/></div><div class=\"wandb-col\"><h3>Run summary:</h3><br/><table class=\"wandb\"><tr><td>epoch</td><td>10</td></tr><tr><td>train_accuracy</td><td>93.75</td></tr><tr><td>train_loss</td><td>0.21593</td></tr><tr><td>val_accuracy</td><td>87.26667</td></tr><tr><td>validation_loss</td><td>0.03753</td></tr></table><br/></div></div>"
      ],
      "text/plain": [
       "<IPython.core.display.HTML object>"
      ]
     },
     "metadata": {},
     "output_type": "display_data"
    },
    {
     "data": {
      "text/html": [
       " View run <strong style=\"color:#cdcd00\">spring-sweep-93</strong> at: <a href='https://wandb.ai/sumanta_roy/CS6910_assignment_1/runs/vbom2m4a' target=\"_blank\">https://wandb.ai/sumanta_roy/CS6910_assignment_1/runs/vbom2m4a</a><br/>Synced 6 W&B file(s), 0 media file(s), 0 artifact file(s) and 0 other file(s)"
      ],
      "text/plain": [
       "<IPython.core.display.HTML object>"
      ]
     },
     "metadata": {},
     "output_type": "display_data"
    },
    {
     "data": {
      "text/html": [
       "Find logs at: <code>./wandb/run-20240317_082534-vbom2m4a/logs</code>"
      ],
      "text/plain": [
       "<IPython.core.display.HTML object>"
      ]
     },
     "metadata": {},
     "output_type": "display_data"
    },
    {
     "name": "stderr",
     "output_type": "stream",
     "text": [
      "\u001b[34m\u001b[1mwandb\u001b[0m: Agent Starting Run: g0x1gbja with config:\n",
      "\u001b[34m\u001b[1mwandb\u001b[0m: \tactivation: tanh\n",
      "\u001b[34m\u001b[1mwandb\u001b[0m: \tbatch_size: 16\n",
      "\u001b[34m\u001b[1mwandb\u001b[0m: \tepochs: 10\n",
      "\u001b[34m\u001b[1mwandb\u001b[0m: \thidden_layers: 5\n",
      "\u001b[34m\u001b[1mwandb\u001b[0m: \thidden_size: 128\n",
      "\u001b[34m\u001b[1mwandb\u001b[0m: \tloss: cross_entropy\n",
      "\u001b[34m\u001b[1mwandb\u001b[0m: \tlr: 0.0001\n",
      "\u001b[34m\u001b[1mwandb\u001b[0m: \toptimizer: adam\n",
      "\u001b[34m\u001b[1mwandb\u001b[0m: \tw_init: glorot\n",
      "\u001b[34m\u001b[1mwandb\u001b[0m: \tweight_decay: 0\n"
     ]
    },
    {
     "data": {
      "text/html": [
       "Tracking run with wandb version 0.16.4"
      ],
      "text/plain": [
       "<IPython.core.display.HTML object>"
      ]
     },
     "metadata": {},
     "output_type": "display_data"
    },
    {
     "data": {
      "text/html": [
       "Run data is saved locally in <code>/Users/sumanta/Desktop/Numpy project/cross_entropy_lesspasses/wandb/run-20240317_082906-g0x1gbja</code>"
      ],
      "text/plain": [
       "<IPython.core.display.HTML object>"
      ]
     },
     "metadata": {},
     "output_type": "display_data"
    },
    {
     "data": {
      "text/html": [
       "Syncing run <strong><a href='https://wandb.ai/sumanta_roy/CS6910_assignment_1/runs/g0x1gbja' target=\"_blank\">autumn-sweep-94</a></strong> to <a href='https://wandb.ai/sumanta_roy/CS6910_assignment_1' target=\"_blank\">Weights & Biases</a> (<a href='https://wandb.me/run' target=\"_blank\">docs</a>)<br/>Sweep page: <a href='https://wandb.ai/sumanta_roy/CS6910_assignment_1/sweeps/ff8houdp' target=\"_blank\">https://wandb.ai/sumanta_roy/CS6910_assignment_1/sweeps/ff8houdp</a>"
      ],
      "text/plain": [
       "<IPython.core.display.HTML object>"
      ]
     },
     "metadata": {},
     "output_type": "display_data"
    },
    {
     "data": {
      "text/html": [
       " View project at <a href='https://wandb.ai/sumanta_roy/CS6910_assignment_1' target=\"_blank\">https://wandb.ai/sumanta_roy/CS6910_assignment_1</a>"
      ],
      "text/plain": [
       "<IPython.core.display.HTML object>"
      ]
     },
     "metadata": {},
     "output_type": "display_data"
    },
    {
     "data": {
      "text/html": [
       " View sweep at <a href='https://wandb.ai/sumanta_roy/CS6910_assignment_1/sweeps/ff8houdp' target=\"_blank\">https://wandb.ai/sumanta_roy/CS6910_assignment_1/sweeps/ff8houdp</a>"
      ],
      "text/plain": [
       "<IPython.core.display.HTML object>"
      ]
     },
     "metadata": {},
     "output_type": "display_data"
    },
    {
     "data": {
      "text/html": [
       " View run at <a href='https://wandb.ai/sumanta_roy/CS6910_assignment_1/runs/g0x1gbja' target=\"_blank\">https://wandb.ai/sumanta_roy/CS6910_assignment_1/runs/g0x1gbja</a>"
      ],
      "text/plain": [
       "<IPython.core.display.HTML object>"
      ]
     },
     "metadata": {},
     "output_type": "display_data"
    },
    {
     "name": "stdout",
     "output_type": "stream",
     "text": [
      "Epoch: 1/10; Train Loss: 0.039909519906979427; Val Loss: 0.04449870601636618\n",
      "Epoch: 2/10; Train Loss: 0.035852859355056915; Val Loss: 0.04044205143435952\n",
      "Epoch: 3/10; Train Loss: 0.034067830777588216; Val Loss: 0.038392143988364186\n",
      "Epoch: 4/10; Train Loss: 0.0329878482962595; Val Loss: 0.03703760845507376\n",
      "Epoch: 5/10; Train Loss: 0.03207822750351677; Val Loss: 0.036042120140995594\n",
      "Epoch: 6/10; Train Loss: 0.031317548560192705; Val Loss: 0.035264484270344586\n",
      "Epoch: 7/10; Train Loss: 0.03068163435759701; Val Loss: 0.034634124446261724\n",
      "Epoch: 8/10; Train Loss: 0.03015335823348897; Val Loss: 0.03411115619093754\n",
      "Epoch: 9/10; Train Loss: 0.029717815071393226; Val Loss: 0.03367034247445788\n",
      "Epoch: 10/10; Train Loss: 0.029358908150916047; Val Loss: 0.03329439962320388\n"
     ]
    },
    {
     "data": {
      "application/vnd.jupyter.widget-view+json": {
       "model_id": "",
       "version_major": 2,
       "version_minor": 0
      },
      "text/plain": [
       "VBox(children=(Label(value='0.001 MB of 0.027 MB uploaded\\r'), FloatProgress(value=0.027341951478661235, max=1…"
      ]
     },
     "metadata": {},
     "output_type": "display_data"
    },
    {
     "data": {
      "text/html": [
       "<style>\n",
       "    table.wandb td:nth-child(1) { padding: 0 10px; text-align: left ; width: auto;} td:nth-child(2) {text-align: left ; width: 100%}\n",
       "    .wandb-row { display: flex; flex-direction: row; flex-wrap: wrap; justify-content: flex-start; width: 100% }\n",
       "    .wandb-col { display: flex; flex-direction: column; flex-basis: 100%; flex: 1; padding: 10px; }\n",
       "    </style>\n",
       "<div class=\"wandb-row\"><div class=\"wandb-col\"><h3>Run history:</h3><br/><table class=\"wandb\"><tr><td>epoch</td><td>▁▁▁▁▂▂▂▂▃▃▃▃▃▃▃▃▄▄▄▄▅▅▅▅▆▆▆▆▆▆▆▆▇▇▇▇████</td></tr><tr><td>train_accuracy</td><td>▃▇▇▆▇▅█▅▃▆▅▇▇██▃▇▁▅▃▅▆▅▇▇▇▂▅▆█▇▃▇▆▅▆▇▃▇▆</td></tr><tr><td>train_loss</td><td>▆▃▃▃▃▃▂▄█▄▃▂▃▁▂▅▃▇▄▇▅▆▃▂▃▂▆▇▃▂▃▅▂▃▆▄▂▄▂▃</td></tr><tr><td>val_accuracy</td><td>▁▃▅▅▆▆▆▆▆▇▇▇▇▇▇▇▇▇▇▇█▇██▇███▇███████████</td></tr><tr><td>validation_loss</td><td>█▅▄▃▃▃▃▂▂▂▂▂▂▂▂▂▂▂▂▂▁▁▁▁▂▁▁▁▁▁▁▁▁▁▁▁▁▁▁▁</td></tr></table><br/></div><div class=\"wandb-col\"><h3>Run summary:</h3><br/><table class=\"wandb\"><tr><td>epoch</td><td>10</td></tr><tr><td>train_accuracy</td><td>93.75</td></tr><tr><td>train_loss</td><td>0.02936</td></tr><tr><td>val_accuracy</td><td>88.08333</td></tr><tr><td>validation_loss</td><td>0.03329</td></tr></table><br/></div></div>"
      ],
      "text/plain": [
       "<IPython.core.display.HTML object>"
      ]
     },
     "metadata": {},
     "output_type": "display_data"
    },
    {
     "data": {
      "text/html": [
       " View run <strong style=\"color:#cdcd00\">autumn-sweep-94</strong> at: <a href='https://wandb.ai/sumanta_roy/CS6910_assignment_1/runs/g0x1gbja' target=\"_blank\">https://wandb.ai/sumanta_roy/CS6910_assignment_1/runs/g0x1gbja</a><br/>Synced 6 W&B file(s), 0 media file(s), 0 artifact file(s) and 0 other file(s)"
      ],
      "text/plain": [
       "<IPython.core.display.HTML object>"
      ]
     },
     "metadata": {},
     "output_type": "display_data"
    },
    {
     "data": {
      "text/html": [
       "Find logs at: <code>./wandb/run-20240317_082906-g0x1gbja/logs</code>"
      ],
      "text/plain": [
       "<IPython.core.display.HTML object>"
      ]
     },
     "metadata": {},
     "output_type": "display_data"
    },
    {
     "name": "stderr",
     "output_type": "stream",
     "text": [
      "\u001b[34m\u001b[1mwandb\u001b[0m: Agent Starting Run: p5co7u2l with config:\n",
      "\u001b[34m\u001b[1mwandb\u001b[0m: \tactivation: tanh\n",
      "\u001b[34m\u001b[1mwandb\u001b[0m: \tbatch_size: 16\n",
      "\u001b[34m\u001b[1mwandb\u001b[0m: \tepochs: 10\n",
      "\u001b[34m\u001b[1mwandb\u001b[0m: \thidden_layers: 5\n",
      "\u001b[34m\u001b[1mwandb\u001b[0m: \thidden_size: 128\n",
      "\u001b[34m\u001b[1mwandb\u001b[0m: \tloss: cross_entropy\n",
      "\u001b[34m\u001b[1mwandb\u001b[0m: \tlr: 0.001\n",
      "\u001b[34m\u001b[1mwandb\u001b[0m: \toptimizer: rmsprop\n",
      "\u001b[34m\u001b[1mwandb\u001b[0m: \tw_init: glorot\n",
      "\u001b[34m\u001b[1mwandb\u001b[0m: \tweight_decay: 0\n"
     ]
    },
    {
     "data": {
      "text/html": [
       "Tracking run with wandb version 0.16.4"
      ],
      "text/plain": [
       "<IPython.core.display.HTML object>"
      ]
     },
     "metadata": {},
     "output_type": "display_data"
    },
    {
     "data": {
      "text/html": [
       "Run data is saved locally in <code>/Users/sumanta/Desktop/Numpy project/cross_entropy_lesspasses/wandb/run-20240317_083303-p5co7u2l</code>"
      ],
      "text/plain": [
       "<IPython.core.display.HTML object>"
      ]
     },
     "metadata": {},
     "output_type": "display_data"
    },
    {
     "data": {
      "text/html": [
       "Syncing run <strong><a href='https://wandb.ai/sumanta_roy/CS6910_assignment_1/runs/p5co7u2l' target=\"_blank\">glad-sweep-95</a></strong> to <a href='https://wandb.ai/sumanta_roy/CS6910_assignment_1' target=\"_blank\">Weights & Biases</a> (<a href='https://wandb.me/run' target=\"_blank\">docs</a>)<br/>Sweep page: <a href='https://wandb.ai/sumanta_roy/CS6910_assignment_1/sweeps/ff8houdp' target=\"_blank\">https://wandb.ai/sumanta_roy/CS6910_assignment_1/sweeps/ff8houdp</a>"
      ],
      "text/plain": [
       "<IPython.core.display.HTML object>"
      ]
     },
     "metadata": {},
     "output_type": "display_data"
    },
    {
     "data": {
      "text/html": [
       " View project at <a href='https://wandb.ai/sumanta_roy/CS6910_assignment_1' target=\"_blank\">https://wandb.ai/sumanta_roy/CS6910_assignment_1</a>"
      ],
      "text/plain": [
       "<IPython.core.display.HTML object>"
      ]
     },
     "metadata": {},
     "output_type": "display_data"
    },
    {
     "data": {
      "text/html": [
       " View sweep at <a href='https://wandb.ai/sumanta_roy/CS6910_assignment_1/sweeps/ff8houdp' target=\"_blank\">https://wandb.ai/sumanta_roy/CS6910_assignment_1/sweeps/ff8houdp</a>"
      ],
      "text/plain": [
       "<IPython.core.display.HTML object>"
      ]
     },
     "metadata": {},
     "output_type": "display_data"
    },
    {
     "data": {
      "text/html": [
       " View run at <a href='https://wandb.ai/sumanta_roy/CS6910_assignment_1/runs/p5co7u2l' target=\"_blank\">https://wandb.ai/sumanta_roy/CS6910_assignment_1/runs/p5co7u2l</a>"
      ],
      "text/plain": [
       "<IPython.core.display.HTML object>"
      ]
     },
     "metadata": {},
     "output_type": "display_data"
    },
    {
     "name": "stdout",
     "output_type": "stream",
     "text": [
      "Epoch: 1/10; Train Loss: 0.02879449470162445; Val Loss: 0.041062710577948205\n",
      "Epoch: 2/10; Train Loss: 0.030425030864867288; Val Loss: 0.03929808115721006\n",
      "Epoch: 3/10; Train Loss: 0.029437532231830932; Val Loss: 0.03801325021488578\n",
      "Epoch: 4/10; Train Loss: 0.0297548147074966; Val Loss: 0.03773718042484636\n",
      "Epoch: 5/10; Train Loss: 0.030160832150458665; Val Loss: 0.037506726385166056\n",
      "Epoch: 6/10; Train Loss: 0.02677762824210265; Val Loss: 0.03664755827854317\n",
      "Epoch: 7/10; Train Loss: 0.0332366216543729; Val Loss: 0.03526165463126502\n",
      "Epoch: 8/10; Train Loss: 0.031618992693166974; Val Loss: 0.037178870042633365\n",
      "Epoch: 9/10; Train Loss: 0.03010922058059583; Val Loss: 0.035427417512858876\n",
      "Epoch: 10/10; Train Loss: 0.028091965242626367; Val Loss: 0.035994327648212414\n"
     ]
    },
    {
     "data": {
      "application/vnd.jupyter.widget-view+json": {
       "model_id": "",
       "version_major": 2,
       "version_minor": 0
      },
      "text/plain": [
       "VBox(children=(Label(value='0.001 MB of 0.027 MB uploaded\\r'), FloatProgress(value=0.02735260770975057, max=1.…"
      ]
     },
     "metadata": {},
     "output_type": "display_data"
    },
    {
     "data": {
      "text/html": [
       "<style>\n",
       "    table.wandb td:nth-child(1) { padding: 0 10px; text-align: left ; width: auto;} td:nth-child(2) {text-align: left ; width: 100%}\n",
       "    .wandb-row { display: flex; flex-direction: row; flex-wrap: wrap; justify-content: flex-start; width: 100% }\n",
       "    .wandb-col { display: flex; flex-direction: column; flex-basis: 100%; flex: 1; padding: 10px; }\n",
       "    </style>\n",
       "<div class=\"wandb-row\"><div class=\"wandb-col\"><h3>Run history:</h3><br/><table class=\"wandb\"><tr><td>epoch</td><td>▁▁▁▁▂▂▂▂▃▃▃▃▃▃▃▃▄▄▄▄▅▅▅▅▆▆▆▆▆▆▆▆▇▇▇▇████</td></tr><tr><td>train_accuracy</td><td>▄▅▇▅▇▄▄▇▂▄▄▇▇█▇▂▇▂▇▄▅▅▄███▅▅▅█▅▅█▇▁▄█▅█▅</td></tr><tr><td>train_loss</td><td>▅▃▃▃▂▄▃▃█▄▆▂▃▁▄▆▂▇▃▇▅▆▃▂▂▁▅▆▅▂▂▃▁▃█▄▁▄▁▂</td></tr><tr><td>val_accuracy</td><td>▁▂▅▆▆▆▇▆▇▇▇▆▇█▇▇▇▇▇█▇████▇▇██▇▇█▇█▇▇▇▇██</td></tr><tr><td>validation_loss</td><td>█▇▃▃▃▃▂▃▂▁▂▃▂▁▂▂▁▂▁▁▁▁▁▁▂▂▂▁▁▂▂▁▂▁▃▂▂▂▂▂</td></tr></table><br/></div><div class=\"wandb-col\"><h3>Run summary:</h3><br/><table class=\"wandb\"><tr><td>epoch</td><td>10</td></tr><tr><td>train_accuracy</td><td>93.75</td></tr><tr><td>train_loss</td><td>0.02809</td></tr><tr><td>val_accuracy</td><td>87.4</td></tr><tr><td>validation_loss</td><td>0.03599</td></tr></table><br/></div></div>"
      ],
      "text/plain": [
       "<IPython.core.display.HTML object>"
      ]
     },
     "metadata": {},
     "output_type": "display_data"
    },
    {
     "data": {
      "text/html": [
       " View run <strong style=\"color:#cdcd00\">glad-sweep-95</strong> at: <a href='https://wandb.ai/sumanta_roy/CS6910_assignment_1/runs/p5co7u2l' target=\"_blank\">https://wandb.ai/sumanta_roy/CS6910_assignment_1/runs/p5co7u2l</a><br/>Synced 6 W&B file(s), 0 media file(s), 0 artifact file(s) and 0 other file(s)"
      ],
      "text/plain": [
       "<IPython.core.display.HTML object>"
      ]
     },
     "metadata": {},
     "output_type": "display_data"
    },
    {
     "data": {
      "text/html": [
       "Find logs at: <code>./wandb/run-20240317_083303-p5co7u2l/logs</code>"
      ],
      "text/plain": [
       "<IPython.core.display.HTML object>"
      ]
     },
     "metadata": {},
     "output_type": "display_data"
    },
    {
     "name": "stderr",
     "output_type": "stream",
     "text": [
      "\u001b[34m\u001b[1mwandb\u001b[0m: Agent Starting Run: fo7k1tlb with config:\n",
      "\u001b[34m\u001b[1mwandb\u001b[0m: \tactivation: tanh\n",
      "\u001b[34m\u001b[1mwandb\u001b[0m: \tbatch_size: 32\n",
      "\u001b[34m\u001b[1mwandb\u001b[0m: \tepochs: 10\n",
      "\u001b[34m\u001b[1mwandb\u001b[0m: \thidden_layers: 4\n",
      "\u001b[34m\u001b[1mwandb\u001b[0m: \thidden_size: 64\n",
      "\u001b[34m\u001b[1mwandb\u001b[0m: \tloss: cross_entropy\n",
      "\u001b[34m\u001b[1mwandb\u001b[0m: \tlr: 0.0001\n",
      "\u001b[34m\u001b[1mwandb\u001b[0m: \toptimizer: adam\n",
      "\u001b[34m\u001b[1mwandb\u001b[0m: \tw_init: random\n",
      "\u001b[34m\u001b[1mwandb\u001b[0m: \tweight_decay: 0\n"
     ]
    },
    {
     "data": {
      "text/html": [
       "Tracking run with wandb version 0.16.4"
      ],
      "text/plain": [
       "<IPython.core.display.HTML object>"
      ]
     },
     "metadata": {},
     "output_type": "display_data"
    },
    {
     "data": {
      "text/html": [
       "Run data is saved locally in <code>/Users/sumanta/Desktop/Numpy project/cross_entropy_lesspasses/wandb/run-20240317_083702-fo7k1tlb</code>"
      ],
      "text/plain": [
       "<IPython.core.display.HTML object>"
      ]
     },
     "metadata": {},
     "output_type": "display_data"
    },
    {
     "data": {
      "text/html": [
       "Syncing run <strong><a href='https://wandb.ai/sumanta_roy/CS6910_assignment_1/runs/fo7k1tlb' target=\"_blank\">woven-sweep-96</a></strong> to <a href='https://wandb.ai/sumanta_roy/CS6910_assignment_1' target=\"_blank\">Weights & Biases</a> (<a href='https://wandb.me/run' target=\"_blank\">docs</a>)<br/>Sweep page: <a href='https://wandb.ai/sumanta_roy/CS6910_assignment_1/sweeps/ff8houdp' target=\"_blank\">https://wandb.ai/sumanta_roy/CS6910_assignment_1/sweeps/ff8houdp</a>"
      ],
      "text/plain": [
       "<IPython.core.display.HTML object>"
      ]
     },
     "metadata": {},
     "output_type": "display_data"
    },
    {
     "data": {
      "text/html": [
       " View project at <a href='https://wandb.ai/sumanta_roy/CS6910_assignment_1' target=\"_blank\">https://wandb.ai/sumanta_roy/CS6910_assignment_1</a>"
      ],
      "text/plain": [
       "<IPython.core.display.HTML object>"
      ]
     },
     "metadata": {},
     "output_type": "display_data"
    },
    {
     "data": {
      "text/html": [
       " View sweep at <a href='https://wandb.ai/sumanta_roy/CS6910_assignment_1/sweeps/ff8houdp' target=\"_blank\">https://wandb.ai/sumanta_roy/CS6910_assignment_1/sweeps/ff8houdp</a>"
      ],
      "text/plain": [
       "<IPython.core.display.HTML object>"
      ]
     },
     "metadata": {},
     "output_type": "display_data"
    },
    {
     "data": {
      "text/html": [
       " View run at <a href='https://wandb.ai/sumanta_roy/CS6910_assignment_1/runs/fo7k1tlb' target=\"_blank\">https://wandb.ai/sumanta_roy/CS6910_assignment_1/runs/fo7k1tlb</a>"
      ],
      "text/plain": [
       "<IPython.core.display.HTML object>"
      ]
     },
     "metadata": {},
     "output_type": "display_data"
    },
    {
     "name": "stdout",
     "output_type": "stream",
     "text": [
      "Epoch: 1/10; Train Loss: 0.08317255883339987; Val Loss: 0.08493716480630842\n",
      "Epoch: 2/10; Train Loss: 0.06144023386725739; Val Loss: 0.0729244920921211\n",
      "Epoch: 3/10; Train Loss: 0.051827935543796964; Val Loss: 0.06658251054223223\n",
      "Epoch: 4/10; Train Loss: 0.04678971286954022; Val Loss: 0.062417108320123114\n",
      "Epoch: 5/10; Train Loss: 0.04358199662465014; Val Loss: 0.05942670706061417\n",
      "Epoch: 6/10; Train Loss: 0.04102173204445458; Val Loss: 0.05715708719057614\n",
      "Epoch: 7/10; Train Loss: 0.038743729428291136; Val Loss: 0.05535409097166374\n",
      "Epoch: 8/10; Train Loss: 0.03674272271113389; Val Loss: 0.053870712965006555\n",
      "Epoch: 9/10; Train Loss: 0.035107699734818316; Val Loss: 0.05262918926123783\n",
      "Epoch: 10/10; Train Loss: 0.033832921397837244; Val Loss: 0.05157591490726009\n"
     ]
    },
    {
     "data": {
      "application/vnd.jupyter.widget-view+json": {
       "model_id": "",
       "version_major": 2,
       "version_minor": 0
      },
      "text/plain": [
       "VBox(children=(Label(value='0.001 MB of 0.001 MB uploaded\\r'), FloatProgress(value=1.0, max=1.0)))"
      ]
     },
     "metadata": {},
     "output_type": "display_data"
    },
    {
     "data": {
      "text/html": [
       "<style>\n",
       "    table.wandb td:nth-child(1) { padding: 0 10px; text-align: left ; width: auto;} td:nth-child(2) {text-align: left ; width: 100%}\n",
       "    .wandb-row { display: flex; flex-direction: row; flex-wrap: wrap; justify-content: flex-start; width: 100% }\n",
       "    .wandb-col { display: flex; flex-direction: column; flex-basis: 100%; flex: 1; padding: 10px; }\n",
       "    </style>\n",
       "<div class=\"wandb-row\"><div class=\"wandb-col\"><h3>Run history:</h3><br/><table class=\"wandb\"><tr><td>epoch</td><td>▁▁▁▁▂▂▂▂▃▃▃▃▃▃▃▃▄▄▄▄▅▅▅▅▆▆▆▆▆▆▆▆▇▇▇▇████</td></tr><tr><td>train_accuracy</td><td>▁▃▅▅▆▅▆▅▅▆▆▆▅▆▇▆▅▅▆▅▆▆▇▆▆▇▄▆▄▇▆▆█▆▇▇▆▆██</td></tr><tr><td>train_loss</td><td>█▆▅▄▃▄▃▃▃▄▃▃▃▃▂▃▃▅▃▃▂▄▂▂▃▂▃▂▃▁▂▃▂▂▂▂▂▂▁▁</td></tr><tr><td>val_accuracy</td><td>▁▄▅▅▆▆▆▆▇▇▇▇▇▇▇▇▇▇▇▇▇▇██████████████████</td></tr><tr><td>validation_loss</td><td>█▅▄▄▃▃▃▃▂▂▂▂▂▂▂▂▂▂▂▂▂▁▁▁▁▁▁▁▁▁▁▁▁▁▁▁▁▁▁▁</td></tr></table><br/></div><div class=\"wandb-col\"><h3>Run summary:</h3><br/><table class=\"wandb\"><tr><td>epoch</td><td>10</td></tr><tr><td>train_accuracy</td><td>81.25</td></tr><tr><td>train_loss</td><td>0.03383</td></tr><tr><td>val_accuracy</td><td>81.23333</td></tr><tr><td>validation_loss</td><td>0.05158</td></tr></table><br/></div></div>"
      ],
      "text/plain": [
       "<IPython.core.display.HTML object>"
      ]
     },
     "metadata": {},
     "output_type": "display_data"
    },
    {
     "data": {
      "text/html": [
       " View run <strong style=\"color:#cdcd00\">woven-sweep-96</strong> at: <a href='https://wandb.ai/sumanta_roy/CS6910_assignment_1/runs/fo7k1tlb' target=\"_blank\">https://wandb.ai/sumanta_roy/CS6910_assignment_1/runs/fo7k1tlb</a><br/>Synced 6 W&B file(s), 0 media file(s), 0 artifact file(s) and 0 other file(s)"
      ],
      "text/plain": [
       "<IPython.core.display.HTML object>"
      ]
     },
     "metadata": {},
     "output_type": "display_data"
    },
    {
     "data": {
      "text/html": [
       "Find logs at: <code>./wandb/run-20240317_083702-fo7k1tlb/logs</code>"
      ],
      "text/plain": [
       "<IPython.core.display.HTML object>"
      ]
     },
     "metadata": {},
     "output_type": "display_data"
    },
    {
     "name": "stderr",
     "output_type": "stream",
     "text": [
      "\u001b[34m\u001b[1mwandb\u001b[0m: Agent Starting Run: vur889jj with config:\n",
      "\u001b[34m\u001b[1mwandb\u001b[0m: \tactivation: tanh\n",
      "\u001b[34m\u001b[1mwandb\u001b[0m: \tbatch_size: 16\n",
      "\u001b[34m\u001b[1mwandb\u001b[0m: \tepochs: 10\n",
      "\u001b[34m\u001b[1mwandb\u001b[0m: \thidden_layers: 3\n",
      "\u001b[34m\u001b[1mwandb\u001b[0m: \thidden_size: 128\n",
      "\u001b[34m\u001b[1mwandb\u001b[0m: \tloss: cross_entropy\n",
      "\u001b[34m\u001b[1mwandb\u001b[0m: \tlr: 0.001\n",
      "\u001b[34m\u001b[1mwandb\u001b[0m: \toptimizer: adam\n",
      "\u001b[34m\u001b[1mwandb\u001b[0m: \tw_init: random\n",
      "\u001b[34m\u001b[1mwandb\u001b[0m: \tweight_decay: 0.0005\n"
     ]
    },
    {
     "data": {
      "text/html": [
       "Tracking run with wandb version 0.16.4"
      ],
      "text/plain": [
       "<IPython.core.display.HTML object>"
      ]
     },
     "metadata": {},
     "output_type": "display_data"
    },
    {
     "data": {
      "text/html": [
       "Run data is saved locally in <code>/Users/sumanta/Desktop/Numpy project/cross_entropy_lesspasses/wandb/run-20240317_083842-vur889jj</code>"
      ],
      "text/plain": [
       "<IPython.core.display.HTML object>"
      ]
     },
     "metadata": {},
     "output_type": "display_data"
    },
    {
     "data": {
      "text/html": [
       "Syncing run <strong><a href='https://wandb.ai/sumanta_roy/CS6910_assignment_1/runs/vur889jj' target=\"_blank\">lilac-sweep-97</a></strong> to <a href='https://wandb.ai/sumanta_roy/CS6910_assignment_1' target=\"_blank\">Weights & Biases</a> (<a href='https://wandb.me/run' target=\"_blank\">docs</a>)<br/>Sweep page: <a href='https://wandb.ai/sumanta_roy/CS6910_assignment_1/sweeps/ff8houdp' target=\"_blank\">https://wandb.ai/sumanta_roy/CS6910_assignment_1/sweeps/ff8houdp</a>"
      ],
      "text/plain": [
       "<IPython.core.display.HTML object>"
      ]
     },
     "metadata": {},
     "output_type": "display_data"
    },
    {
     "data": {
      "text/html": [
       " View project at <a href='https://wandb.ai/sumanta_roy/CS6910_assignment_1' target=\"_blank\">https://wandb.ai/sumanta_roy/CS6910_assignment_1</a>"
      ],
      "text/plain": [
       "<IPython.core.display.HTML object>"
      ]
     },
     "metadata": {},
     "output_type": "display_data"
    },
    {
     "data": {
      "text/html": [
       " View sweep at <a href='https://wandb.ai/sumanta_roy/CS6910_assignment_1/sweeps/ff8houdp' target=\"_blank\">https://wandb.ai/sumanta_roy/CS6910_assignment_1/sweeps/ff8houdp</a>"
      ],
      "text/plain": [
       "<IPython.core.display.HTML object>"
      ]
     },
     "metadata": {},
     "output_type": "display_data"
    },
    {
     "data": {
      "text/html": [
       " View run at <a href='https://wandb.ai/sumanta_roy/CS6910_assignment_1/runs/vur889jj' target=\"_blank\">https://wandb.ai/sumanta_roy/CS6910_assignment_1/runs/vur889jj</a>"
      ],
      "text/plain": [
       "<IPython.core.display.HTML object>"
      ]
     },
     "metadata": {},
     "output_type": "display_data"
    },
    {
     "name": "stdout",
     "output_type": "stream",
     "text": [
      "Epoch: 1/10; Train Loss: 0.20474974836214477; Val Loss: 0.047666801153635564\n",
      "Epoch: 2/10; Train Loss: 0.19799485201456593; Val Loss: 0.04192593839373297\n",
      "Epoch: 3/10; Train Loss: 0.18540784884358283; Val Loss: 0.03988498618057446\n",
      "Epoch: 4/10; Train Loss: 0.17889463970968664; Val Loss: 0.038984835700635656\n",
      "Epoch: 5/10; Train Loss: 0.16930703896022511; Val Loss: 0.03853992153785784\n",
      "Epoch: 6/10; Train Loss: 0.1651799050151817; Val Loss: 0.038583809562134294\n",
      "Epoch: 7/10; Train Loss: 0.1595557166203865; Val Loss: 0.038487621825867756\n",
      "Epoch: 8/10; Train Loss: 0.15870750448493695; Val Loss: 0.038362826486724705\n",
      "Epoch: 9/10; Train Loss: 0.15980731022742903; Val Loss: 0.03895063769699151\n",
      "Epoch: 10/10; Train Loss: 0.15877004265013486; Val Loss: 0.03839448923632622\n"
     ]
    },
    {
     "data": {
      "application/vnd.jupyter.widget-view+json": {
       "model_id": "",
       "version_major": 2,
       "version_minor": 0
      },
      "text/plain": [
       "VBox(children=(Label(value='0.008 MB of 0.027 MB uploaded\\r'), FloatProgress(value=0.2806843540788495, max=1.0…"
      ]
     },
     "metadata": {},
     "output_type": "display_data"
    },
    {
     "data": {
      "text/html": [
       "<style>\n",
       "    table.wandb td:nth-child(1) { padding: 0 10px; text-align: left ; width: auto;} td:nth-child(2) {text-align: left ; width: 100%}\n",
       "    .wandb-row { display: flex; flex-direction: row; flex-wrap: wrap; justify-content: flex-start; width: 100% }\n",
       "    .wandb-col { display: flex; flex-direction: column; flex-basis: 100%; flex: 1; padding: 10px; }\n",
       "    </style>\n",
       "<div class=\"wandb-row\"><div class=\"wandb-col\"><h3>Run history:</h3><br/><table class=\"wandb\"><tr><td>epoch</td><td>▁▁▁▁▂▂▂▂▃▃▃▃▃▃▃▃▄▄▄▄▅▅▅▅▆▆▆▆▆▆▆▆▇▇▇▇████</td></tr><tr><td>train_accuracy</td><td>▁█▃▅▆▅▅▅▁▃▅▆▃██▁▅▁▅▁▅▃▅█▆█▃▃▃▆▃▁▆▆▁▃▆▅▆▆</td></tr><tr><td>train_loss</td><td>█▄█▅▅▅▅▄▇▅▄▃▅▂▃▅▃▆▄▇▄▇▃▂▂▁▅▄▃▁▄▄▂▂▇▄▁▂▁▂</td></tr><tr><td>val_accuracy</td><td>▁▃▅▅▆▆▆▆▇▇▇▆▇▇▇▇▇▇▇▇██▇▇▇████▇█▇▇▇██████</td></tr><tr><td>validation_loss</td><td>█▅▄▄▃▃▃▂▂▂▂▂▂▂▂▂▂▁▂▁▁▁▁▁▂▁▁▁▁▁▁▁▂▁▁▁▂▁▁▁</td></tr></table><br/></div><div class=\"wandb-col\"><h3>Run summary:</h3><br/><table class=\"wandb\"><tr><td>epoch</td><td>10</td></tr><tr><td>train_accuracy</td><td>93.75</td></tr><tr><td>train_loss</td><td>0.15877</td></tr><tr><td>val_accuracy</td><td>87.13333</td></tr><tr><td>validation_loss</td><td>0.03839</td></tr></table><br/></div></div>"
      ],
      "text/plain": [
       "<IPython.core.display.HTML object>"
      ]
     },
     "metadata": {},
     "output_type": "display_data"
    },
    {
     "data": {
      "text/html": [
       " View run <strong style=\"color:#cdcd00\">lilac-sweep-97</strong> at: <a href='https://wandb.ai/sumanta_roy/CS6910_assignment_1/runs/vur889jj' target=\"_blank\">https://wandb.ai/sumanta_roy/CS6910_assignment_1/runs/vur889jj</a><br/>Synced 6 W&B file(s), 0 media file(s), 0 artifact file(s) and 0 other file(s)"
      ],
      "text/plain": [
       "<IPython.core.display.HTML object>"
      ]
     },
     "metadata": {},
     "output_type": "display_data"
    },
    {
     "data": {
      "text/html": [
       "Find logs at: <code>./wandb/run-20240317_083842-vur889jj/logs</code>"
      ],
      "text/plain": [
       "<IPython.core.display.HTML object>"
      ]
     },
     "metadata": {},
     "output_type": "display_data"
    },
    {
     "name": "stderr",
     "output_type": "stream",
     "text": [
      "\u001b[34m\u001b[1mwandb\u001b[0m: Agent Starting Run: vytivg9u with config:\n",
      "\u001b[34m\u001b[1mwandb\u001b[0m: \tactivation: tanh\n",
      "\u001b[34m\u001b[1mwandb\u001b[0m: \tbatch_size: 16\n",
      "\u001b[34m\u001b[1mwandb\u001b[0m: \tepochs: 10\n",
      "\u001b[34m\u001b[1mwandb\u001b[0m: \thidden_layers: 4\n",
      "\u001b[34m\u001b[1mwandb\u001b[0m: \thidden_size: 128\n",
      "\u001b[34m\u001b[1mwandb\u001b[0m: \tloss: cross_entropy\n",
      "\u001b[34m\u001b[1mwandb\u001b[0m: \tlr: 0.001\n",
      "\u001b[34m\u001b[1mwandb\u001b[0m: \toptimizer: nesterov\n",
      "\u001b[34m\u001b[1mwandb\u001b[0m: \tw_init: random\n",
      "\u001b[34m\u001b[1mwandb\u001b[0m: \tweight_decay: 0\n"
     ]
    },
    {
     "data": {
      "text/html": [
       "Tracking run with wandb version 0.16.4"
      ],
      "text/plain": [
       "<IPython.core.display.HTML object>"
      ]
     },
     "metadata": {},
     "output_type": "display_data"
    },
    {
     "data": {
      "text/html": [
       "Run data is saved locally in <code>/Users/sumanta/Desktop/Numpy project/cross_entropy_lesspasses/wandb/run-20240317_084209-vytivg9u</code>"
      ],
      "text/plain": [
       "<IPython.core.display.HTML object>"
      ]
     },
     "metadata": {},
     "output_type": "display_data"
    },
    {
     "data": {
      "text/html": [
       "Syncing run <strong><a href='https://wandb.ai/sumanta_roy/CS6910_assignment_1/runs/vytivg9u' target=\"_blank\">solar-sweep-98</a></strong> to <a href='https://wandb.ai/sumanta_roy/CS6910_assignment_1' target=\"_blank\">Weights & Biases</a> (<a href='https://wandb.me/run' target=\"_blank\">docs</a>)<br/>Sweep page: <a href='https://wandb.ai/sumanta_roy/CS6910_assignment_1/sweeps/ff8houdp' target=\"_blank\">https://wandb.ai/sumanta_roy/CS6910_assignment_1/sweeps/ff8houdp</a>"
      ],
      "text/plain": [
       "<IPython.core.display.HTML object>"
      ]
     },
     "metadata": {},
     "output_type": "display_data"
    },
    {
     "data": {
      "text/html": [
       " View project at <a href='https://wandb.ai/sumanta_roy/CS6910_assignment_1' target=\"_blank\">https://wandb.ai/sumanta_roy/CS6910_assignment_1</a>"
      ],
      "text/plain": [
       "<IPython.core.display.HTML object>"
      ]
     },
     "metadata": {},
     "output_type": "display_data"
    },
    {
     "data": {
      "text/html": [
       " View sweep at <a href='https://wandb.ai/sumanta_roy/CS6910_assignment_1/sweeps/ff8houdp' target=\"_blank\">https://wandb.ai/sumanta_roy/CS6910_assignment_1/sweeps/ff8houdp</a>"
      ],
      "text/plain": [
       "<IPython.core.display.HTML object>"
      ]
     },
     "metadata": {},
     "output_type": "display_data"
    },
    {
     "data": {
      "text/html": [
       " View run at <a href='https://wandb.ai/sumanta_roy/CS6910_assignment_1/runs/vytivg9u' target=\"_blank\">https://wandb.ai/sumanta_roy/CS6910_assignment_1/runs/vytivg9u</a>"
      ],
      "text/plain": [
       "<IPython.core.display.HTML object>"
      ]
     },
     "metadata": {},
     "output_type": "display_data"
    },
    {
     "name": "stdout",
     "output_type": "stream",
     "text": [
      "Epoch: 1/10; Train Loss: 0.03590853183072319; Val Loss: 0.05765401206619098\n",
      "Epoch: 2/10; Train Loss: 0.032302496673773086; Val Loss: 0.05194735147906803\n",
      "Epoch: 3/10; Train Loss: 0.03325618566999304; Val Loss: 0.04900059008774561\n",
      "Epoch: 4/10; Train Loss: 0.0307931553973119; Val Loss: 0.04766635611251428\n",
      "Epoch: 5/10; Train Loss: 0.028732461475840597; Val Loss: 0.046644849628278404\n",
      "Epoch: 6/10; Train Loss: 0.02756156132451077; Val Loss: 0.04583035846824974\n",
      "Epoch: 7/10; Train Loss: 0.02689803850984502; Val Loss: 0.045150594786045266\n",
      "Epoch: 8/10; Train Loss: 0.02670822299369539; Val Loss: 0.04461029982865497\n",
      "Epoch: 9/10; Train Loss: 0.02652474074455815; Val Loss: 0.044224245023278715\n",
      "Epoch: 10/10; Train Loss: 0.026211781124876037; Val Loss: 0.043967021720540074\n"
     ]
    },
    {
     "data": {
      "application/vnd.jupyter.widget-view+json": {
       "model_id": "",
       "version_major": 2,
       "version_minor": 0
      },
      "text/plain": [
       "VBox(children=(Label(value='0.001 MB of 0.001 MB uploaded\\r'), FloatProgress(value=1.0, max=1.0)))"
      ]
     },
     "metadata": {},
     "output_type": "display_data"
    },
    {
     "data": {
      "text/html": [
       "<style>\n",
       "    table.wandb td:nth-child(1) { padding: 0 10px; text-align: left ; width: auto;} td:nth-child(2) {text-align: left ; width: 100%}\n",
       "    .wandb-row { display: flex; flex-direction: row; flex-wrap: wrap; justify-content: flex-start; width: 100% }\n",
       "    .wandb-col { display: flex; flex-direction: column; flex-basis: 100%; flex: 1; padding: 10px; }\n",
       "    </style>\n",
       "<div class=\"wandb-row\"><div class=\"wandb-col\"><h3>Run history:</h3><br/><table class=\"wandb\"><tr><td>epoch</td><td>▁▁▁▁▂▂▂▂▃▃▃▃▃▃▃▃▄▄▄▄▅▅▅▅▆▆▆▆▆▆▆▆▇▇▇▇████</td></tr><tr><td>train_accuracy</td><td>▁▇▄▂▇▂▅▄▂▂▄▄▄█▇▂▅▄▅▂▅▅▇▇▇█▁▂▂▇▅▄▇▅▁▅▇▇▄▅</td></tr><tr><td>train_loss</td><td>▆▂▅▄▂▄▃▃▇▄▃▂▄▁▂▅▂▄▄█▄▅▂▂▂▁▆▄▄▂▂▄▂▃█▄▁▃▃▃</td></tr><tr><td>val_accuracy</td><td>▁▄▅▅▆▆▆▆▇▇▇▇▇▇▇▇▇█▇█████████▇███████████</td></tr><tr><td>validation_loss</td><td>█▅▄▃▃▃▂▂▂▂▂▂▂▂▂▂▂▁▁▁▁▁▁▁▁▁▁▁▁▁▁▁▁▁▁▁▁▁▁▁</td></tr></table><br/></div><div class=\"wandb-col\"><h3>Run summary:</h3><br/><table class=\"wandb\"><tr><td>epoch</td><td>10</td></tr><tr><td>train_accuracy</td><td>93.75</td></tr><tr><td>train_loss</td><td>0.02621</td></tr><tr><td>val_accuracy</td><td>84.61667</td></tr><tr><td>validation_loss</td><td>0.04397</td></tr></table><br/></div></div>"
      ],
      "text/plain": [
       "<IPython.core.display.HTML object>"
      ]
     },
     "metadata": {},
     "output_type": "display_data"
    },
    {
     "data": {
      "text/html": [
       " View run <strong style=\"color:#cdcd00\">solar-sweep-98</strong> at: <a href='https://wandb.ai/sumanta_roy/CS6910_assignment_1/runs/vytivg9u' target=\"_blank\">https://wandb.ai/sumanta_roy/CS6910_assignment_1/runs/vytivg9u</a><br/>Synced 6 W&B file(s), 0 media file(s), 0 artifact file(s) and 0 other file(s)"
      ],
      "text/plain": [
       "<IPython.core.display.HTML object>"
      ]
     },
     "metadata": {},
     "output_type": "display_data"
    },
    {
     "data": {
      "text/html": [
       "Find logs at: <code>./wandb/run-20240317_084209-vytivg9u/logs</code>"
      ],
      "text/plain": [
       "<IPython.core.display.HTML object>"
      ]
     },
     "metadata": {},
     "output_type": "display_data"
    },
    {
     "name": "stderr",
     "output_type": "stream",
     "text": [
      "\u001b[34m\u001b[1mwandb\u001b[0m: Agent Starting Run: 07h4i9bu with config:\n",
      "\u001b[34m\u001b[1mwandb\u001b[0m: \tactivation: tanh\n",
      "\u001b[34m\u001b[1mwandb\u001b[0m: \tbatch_size: 16\n",
      "\u001b[34m\u001b[1mwandb\u001b[0m: \tepochs: 10\n",
      "\u001b[34m\u001b[1mwandb\u001b[0m: \thidden_layers: 4\n",
      "\u001b[34m\u001b[1mwandb\u001b[0m: \thidden_size: 64\n",
      "\u001b[34m\u001b[1mwandb\u001b[0m: \tloss: cross_entropy\n",
      "\u001b[34m\u001b[1mwandb\u001b[0m: \tlr: 0.0001\n",
      "\u001b[34m\u001b[1mwandb\u001b[0m: \toptimizer: adam\n",
      "\u001b[34m\u001b[1mwandb\u001b[0m: \tw_init: random\n",
      "\u001b[34m\u001b[1mwandb\u001b[0m: \tweight_decay: 0\n"
     ]
    },
    {
     "data": {
      "text/html": [
       "Tracking run with wandb version 0.16.4"
      ],
      "text/plain": [
       "<IPython.core.display.HTML object>"
      ]
     },
     "metadata": {},
     "output_type": "display_data"
    },
    {
     "data": {
      "text/html": [
       "Run data is saved locally in <code>/Users/sumanta/Desktop/Numpy project/cross_entropy_lesspasses/wandb/run-20240317_084602-07h4i9bu</code>"
      ],
      "text/plain": [
       "<IPython.core.display.HTML object>"
      ]
     },
     "metadata": {},
     "output_type": "display_data"
    },
    {
     "data": {
      "text/html": [
       "Syncing run <strong><a href='https://wandb.ai/sumanta_roy/CS6910_assignment_1/runs/07h4i9bu' target=\"_blank\">proud-sweep-99</a></strong> to <a href='https://wandb.ai/sumanta_roy/CS6910_assignment_1' target=\"_blank\">Weights & Biases</a> (<a href='https://wandb.me/run' target=\"_blank\">docs</a>)<br/>Sweep page: <a href='https://wandb.ai/sumanta_roy/CS6910_assignment_1/sweeps/ff8houdp' target=\"_blank\">https://wandb.ai/sumanta_roy/CS6910_assignment_1/sweeps/ff8houdp</a>"
      ],
      "text/plain": [
       "<IPython.core.display.HTML object>"
      ]
     },
     "metadata": {},
     "output_type": "display_data"
    },
    {
     "data": {
      "text/html": [
       " View project at <a href='https://wandb.ai/sumanta_roy/CS6910_assignment_1' target=\"_blank\">https://wandb.ai/sumanta_roy/CS6910_assignment_1</a>"
      ],
      "text/plain": [
       "<IPython.core.display.HTML object>"
      ]
     },
     "metadata": {},
     "output_type": "display_data"
    },
    {
     "data": {
      "text/html": [
       " View sweep at <a href='https://wandb.ai/sumanta_roy/CS6910_assignment_1/sweeps/ff8houdp' target=\"_blank\">https://wandb.ai/sumanta_roy/CS6910_assignment_1/sweeps/ff8houdp</a>"
      ],
      "text/plain": [
       "<IPython.core.display.HTML object>"
      ]
     },
     "metadata": {},
     "output_type": "display_data"
    },
    {
     "data": {
      "text/html": [
       " View run at <a href='https://wandb.ai/sumanta_roy/CS6910_assignment_1/runs/07h4i9bu' target=\"_blank\">https://wandb.ai/sumanta_roy/CS6910_assignment_1/runs/07h4i9bu</a>"
      ],
      "text/plain": [
       "<IPython.core.display.HTML object>"
      ]
     },
     "metadata": {},
     "output_type": "display_data"
    },
    {
     "name": "stdout",
     "output_type": "stream",
     "text": [
      "Epoch: 1/10; Train Loss: 0.05955906053404773; Val Loss: 0.08269543075584126\n",
      "Epoch: 2/10; Train Loss: 0.04388619156017602; Val Loss: 0.06949922286024761\n",
      "Epoch: 3/10; Train Loss: 0.039630228313567974; Val Loss: 0.06280219194428592\n",
      "Epoch: 4/10; Train Loss: 0.03912929549604494; Val Loss: 0.05845874411578922\n",
      "Epoch: 5/10; Train Loss: 0.03960010352004057; Val Loss: 0.055439536861855744\n",
      "Epoch: 6/10; Train Loss: 0.04026354858110908; Val Loss: 0.053211705099740554\n",
      "Epoch: 7/10; Train Loss: 0.04052361718948167; Val Loss: 0.0514905549087524\n",
      "Epoch: 8/10; Train Loss: 0.04031802885854832; Val Loss: 0.050108306264498505\n",
      "Epoch: 9/10; Train Loss: 0.039899324868385634; Val Loss: 0.04896242383237469\n",
      "Epoch: 10/10; Train Loss: 0.039459836053284625; Val Loss: 0.04798621169206377\n"
     ]
    },
    {
     "data": {
      "application/vnd.jupyter.widget-view+json": {
       "model_id": "",
       "version_major": 2,
       "version_minor": 0
      },
      "text/plain": [
       "VBox(children=(Label(value='0.001 MB of 0.001 MB uploaded\\r'), FloatProgress(value=1.0, max=1.0)))"
      ]
     },
     "metadata": {},
     "output_type": "display_data"
    },
    {
     "data": {
      "text/html": [
       "<style>\n",
       "    table.wandb td:nth-child(1) { padding: 0 10px; text-align: left ; width: auto;} td:nth-child(2) {text-align: left ; width: 100%}\n",
       "    .wandb-row { display: flex; flex-direction: row; flex-wrap: wrap; justify-content: flex-start; width: 100% }\n",
       "    .wandb-col { display: flex; flex-direction: column; flex-basis: 100%; flex: 1; padding: 10px; }\n",
       "    </style>\n",
       "<div class=\"wandb-row\"><div class=\"wandb-col\"><h3>Run history:</h3><br/><table class=\"wandb\"><tr><td>epoch</td><td>▁▁▁▁▂▂▂▂▃▃▃▃▃▃▃▃▄▄▄▄▅▅▅▅▆▆▆▆▆▆▆▆▇▇▇▇████</td></tr><tr><td>train_accuracy</td><td>▃▄▄▅▅▁▆▅▃▃▄▅▃▇▅▅▅▃▅▅▆▅▄▆▅▆▄▅▄█▅▆▆▇▄▆▇▇▇▇</td></tr><tr><td>train_loss</td><td>█▆▅▄▃▇▃▃▅▆▄▃▆▁▂▅▃▅▃▄▂▅▄▁▃▂▆▄▅▁▃▃▂▂▄▃▁▂▂▂</td></tr><tr><td>val_accuracy</td><td>▁▄▅▅▆▆▆▆▇▇▇▇▇▇▇▇▇▇▇▇▇▇▇█████████████████</td></tr><tr><td>validation_loss</td><td>█▅▄▄▃▃▃▂▂▂▂▂▂▂▂▂▂▂▂▂▁▁▁▁▁▁▁▁▁▁▁▁▁▁▁▁▁▁▁▁</td></tr></table><br/></div><div class=\"wandb-col\"><h3>Run summary:</h3><br/><table class=\"wandb\"><tr><td>epoch</td><td>10</td></tr><tr><td>train_accuracy</td><td>81.25</td></tr><tr><td>train_loss</td><td>0.03946</td></tr><tr><td>val_accuracy</td><td>82.26667</td></tr><tr><td>validation_loss</td><td>0.04799</td></tr></table><br/></div></div>"
      ],
      "text/plain": [
       "<IPython.core.display.HTML object>"
      ]
     },
     "metadata": {},
     "output_type": "display_data"
    },
    {
     "data": {
      "text/html": [
       " View run <strong style=\"color:#cdcd00\">proud-sweep-99</strong> at: <a href='https://wandb.ai/sumanta_roy/CS6910_assignment_1/runs/07h4i9bu' target=\"_blank\">https://wandb.ai/sumanta_roy/CS6910_assignment_1/runs/07h4i9bu</a><br/>Synced 6 W&B file(s), 0 media file(s), 0 artifact file(s) and 0 other file(s)"
      ],
      "text/plain": [
       "<IPython.core.display.HTML object>"
      ]
     },
     "metadata": {},
     "output_type": "display_data"
    },
    {
     "data": {
      "text/html": [
       "Find logs at: <code>./wandb/run-20240317_084602-07h4i9bu/logs</code>"
      ],
      "text/plain": [
       "<IPython.core.display.HTML object>"
      ]
     },
     "metadata": {},
     "output_type": "display_data"
    },
    {
     "name": "stderr",
     "output_type": "stream",
     "text": [
      "\u001b[34m\u001b[1mwandb\u001b[0m: Sweep Agent: Waiting for job.\n",
      "\u001b[34m\u001b[1mwandb\u001b[0m: Job received.\n",
      "\u001b[34m\u001b[1mwandb\u001b[0m: Agent Starting Run: barle754 with config:\n",
      "\u001b[34m\u001b[1mwandb\u001b[0m: \tactivation: tanh\n",
      "\u001b[34m\u001b[1mwandb\u001b[0m: \tbatch_size: 16\n",
      "\u001b[34m\u001b[1mwandb\u001b[0m: \tepochs: 10\n",
      "\u001b[34m\u001b[1mwandb\u001b[0m: \thidden_layers: 5\n",
      "\u001b[34m\u001b[1mwandb\u001b[0m: \thidden_size: 128\n",
      "\u001b[34m\u001b[1mwandb\u001b[0m: \tloss: cross_entropy\n",
      "\u001b[34m\u001b[1mwandb\u001b[0m: \tlr: 0.0001\n",
      "\u001b[34m\u001b[1mwandb\u001b[0m: \toptimizer: rmsprop\n",
      "\u001b[34m\u001b[1mwandb\u001b[0m: \tw_init: glorot\n",
      "\u001b[34m\u001b[1mwandb\u001b[0m: \tweight_decay: 0\n"
     ]
    },
    {
     "data": {
      "text/html": [
       "Tracking run with wandb version 0.16.4"
      ],
      "text/plain": [
       "<IPython.core.display.HTML object>"
      ]
     },
     "metadata": {},
     "output_type": "display_data"
    },
    {
     "data": {
      "text/html": [
       "Run data is saved locally in <code>/Users/sumanta/Desktop/Numpy project/cross_entropy_lesspasses/wandb/run-20240317_084758-barle754</code>"
      ],
      "text/plain": [
       "<IPython.core.display.HTML object>"
      ]
     },
     "metadata": {},
     "output_type": "display_data"
    },
    {
     "data": {
      "text/html": [
       "Syncing run <strong><a href='https://wandb.ai/sumanta_roy/CS6910_assignment_1/runs/barle754' target=\"_blank\">pleasant-sweep-100</a></strong> to <a href='https://wandb.ai/sumanta_roy/CS6910_assignment_1' target=\"_blank\">Weights & Biases</a> (<a href='https://wandb.me/run' target=\"_blank\">docs</a>)<br/>Sweep page: <a href='https://wandb.ai/sumanta_roy/CS6910_assignment_1/sweeps/ff8houdp' target=\"_blank\">https://wandb.ai/sumanta_roy/CS6910_assignment_1/sweeps/ff8houdp</a>"
      ],
      "text/plain": [
       "<IPython.core.display.HTML object>"
      ]
     },
     "metadata": {},
     "output_type": "display_data"
    },
    {
     "data": {
      "text/html": [
       " View project at <a href='https://wandb.ai/sumanta_roy/CS6910_assignment_1' target=\"_blank\">https://wandb.ai/sumanta_roy/CS6910_assignment_1</a>"
      ],
      "text/plain": [
       "<IPython.core.display.HTML object>"
      ]
     },
     "metadata": {},
     "output_type": "display_data"
    },
    {
     "data": {
      "text/html": [
       " View sweep at <a href='https://wandb.ai/sumanta_roy/CS6910_assignment_1/sweeps/ff8houdp' target=\"_blank\">https://wandb.ai/sumanta_roy/CS6910_assignment_1/sweeps/ff8houdp</a>"
      ],
      "text/plain": [
       "<IPython.core.display.HTML object>"
      ]
     },
     "metadata": {},
     "output_type": "display_data"
    },
    {
     "data": {
      "text/html": [
       " View run at <a href='https://wandb.ai/sumanta_roy/CS6910_assignment_1/runs/barle754' target=\"_blank\">https://wandb.ai/sumanta_roy/CS6910_assignment_1/runs/barle754</a>"
      ],
      "text/plain": [
       "<IPython.core.display.HTML object>"
      ]
     },
     "metadata": {},
     "output_type": "display_data"
    },
    {
     "name": "stdout",
     "output_type": "stream",
     "text": [
      "Epoch: 1/10; Train Loss: 0.028268502074031088; Val Loss: 0.04495164120770936\n",
      "Epoch: 2/10; Train Loss: 0.02720845740721466; Val Loss: 0.040393023849688514\n",
      "Epoch: 3/10; Train Loss: 0.027479103921179488; Val Loss: 0.03806154662572946\n",
      "Epoch: 4/10; Train Loss: 0.027364712897486886; Val Loss: 0.036616175983262354\n",
      "Epoch: 5/10; Train Loss: 0.026820102080613917; Val Loss: 0.03558319423939058\n",
      "Epoch: 6/10; Train Loss: 0.02604465797927167; Val Loss: 0.034788013617610476\n",
      "Epoch: 7/10; Train Loss: 0.02525877229996338; Val Loss: 0.03415864630850453\n",
      "Epoch: 8/10; Train Loss: 0.024589613570378813; Val Loss: 0.03365800569016463\n",
      "Epoch: 9/10; Train Loss: 0.024074743672907763; Val Loss: 0.03325689490834302\n",
      "Epoch: 10/10; Train Loss: 0.023707051087889088; Val Loss: 0.03292941443618901\n"
     ]
    },
    {
     "data": {
      "application/vnd.jupyter.widget-view+json": {
       "model_id": "",
       "version_major": 2,
       "version_minor": 0
      },
      "text/plain": [
       "VBox(children=(Label(value='0.001 MB of 0.027 MB uploaded\\r'), FloatProgress(value=0.027350669595408487, max=1…"
      ]
     },
     "metadata": {},
     "output_type": "display_data"
    },
    {
     "data": {
      "text/html": [
       "<style>\n",
       "    table.wandb td:nth-child(1) { padding: 0 10px; text-align: left ; width: auto;} td:nth-child(2) {text-align: left ; width: 100%}\n",
       "    .wandb-row { display: flex; flex-direction: row; flex-wrap: wrap; justify-content: flex-start; width: 100% }\n",
       "    .wandb-col { display: flex; flex-direction: column; flex-basis: 100%; flex: 1; padding: 10px; }\n",
       "    </style>\n",
       "<div class=\"wandb-row\"><div class=\"wandb-col\"><h3>Run history:</h3><br/><table class=\"wandb\"><tr><td>epoch</td><td>▁▁▁▁▂▂▂▂▃▃▃▃▃▃▃▃▄▄▄▄▅▅▅▅▆▆▆▆▆▆▆▆▇▇▇▇████</td></tr><tr><td>train_accuracy</td><td>▂▇█▅▇▅▇▇▂▄▄▇▇██▂▇▁▇▄▅▅▇▇▇▇▁▄▄▇▅▄▅▇▁▅▇▄▇▇</td></tr><tr><td>train_loss</td><td>█▃▃▃▂▃▃▃▆▄▃▂▃▁▂▅▂▅▄▇▄▅▃▂▄▂▅▇▄▂▂▅▃▃▇▄▁▃▂▃</td></tr><tr><td>val_accuracy</td><td>▁▄▆▇▇▇▇▇▇▇▇▇▇▇▇▇██▇▇████████████▇███████</td></tr><tr><td>validation_loss</td><td>█▄▃▃▂▂▂▂▂▂▂▂▂▂▁▂▁▁▁▂▁▁▁▁▁▁▁▁▁▁▁▁▂▁▁▁▁▁▁▁</td></tr></table><br/></div><div class=\"wandb-col\"><h3>Run summary:</h3><br/><table class=\"wandb\"><tr><td>epoch</td><td>10</td></tr><tr><td>train_accuracy</td><td>93.75</td></tr><tr><td>train_loss</td><td>0.02371</td></tr><tr><td>val_accuracy</td><td>88.35</td></tr><tr><td>validation_loss</td><td>0.03293</td></tr></table><br/></div></div>"
      ],
      "text/plain": [
       "<IPython.core.display.HTML object>"
      ]
     },
     "metadata": {},
     "output_type": "display_data"
    },
    {
     "data": {
      "text/html": [
       " View run <strong style=\"color:#cdcd00\">pleasant-sweep-100</strong> at: <a href='https://wandb.ai/sumanta_roy/CS6910_assignment_1/runs/barle754' target=\"_blank\">https://wandb.ai/sumanta_roy/CS6910_assignment_1/runs/barle754</a><br/>Synced 6 W&B file(s), 0 media file(s), 0 artifact file(s) and 0 other file(s)"
      ],
      "text/plain": [
       "<IPython.core.display.HTML object>"
      ]
     },
     "metadata": {},
     "output_type": "display_data"
    },
    {
     "data": {
      "text/html": [
       "Find logs at: <code>./wandb/run-20240317_084758-barle754/logs</code>"
      ],
      "text/plain": [
       "<IPython.core.display.HTML object>"
      ]
     },
     "metadata": {},
     "output_type": "display_data"
    },
    {
     "name": "stdout",
     "output_type": "stream",
     "text": [
      "Error in callback <bound method _WandbInit._pause_backend of <wandb.sdk.wandb_init._WandbInit object at 0x287377610>> (for post_run_cell), with arguments args (<ExecutionResult object at 1146bdbd0, execution_count=1 error_before_exec=None error_in_exec=None info=<ExecutionInfo object at 11465f150, raw_cell=\"from gradient_descent_wandb import *\n",
      "from keras.da..\" store_history=True silent=False shell_futures=True cell_id=6b7f7570-b5de-4b6f-b832-bcd72d87c5d4> result=None>,),kwargs {}:\n"
     ]
    },
    {
     "ename": "BrokenPipeError",
     "evalue": "[Errno 32] Broken pipe",
     "output_type": "error",
     "traceback": [
      "\u001b[0;31m---------------------------------------------------------------------------\u001b[0m",
      "\u001b[0;31mBrokenPipeError\u001b[0m                           Traceback (most recent call last)",
      "File \u001b[0;32m/opt/anaconda3/lib/python3.11/site-packages/wandb/sdk/wandb_init.py:438\u001b[0m, in \u001b[0;36m_WandbInit._pause_backend\u001b[0;34m(self, *args, **kwargs)\u001b[0m\n\u001b[1;32m    436\u001b[0m \u001b[38;5;28;01mif\u001b[39;00m \u001b[38;5;28mself\u001b[39m\u001b[38;5;241m.\u001b[39mbackend\u001b[38;5;241m.\u001b[39minterface \u001b[38;5;129;01mis\u001b[39;00m \u001b[38;5;129;01mnot\u001b[39;00m \u001b[38;5;28;01mNone\u001b[39;00m:\n\u001b[1;32m    437\u001b[0m     logger\u001b[38;5;241m.\u001b[39minfo(\u001b[38;5;124m\"\u001b[39m\u001b[38;5;124mpausing backend\u001b[39m\u001b[38;5;124m\"\u001b[39m)  \u001b[38;5;66;03m# type: ignore\u001b[39;00m\n\u001b[0;32m--> 438\u001b[0m     \u001b[38;5;28mself\u001b[39m\u001b[38;5;241m.\u001b[39mbackend\u001b[38;5;241m.\u001b[39minterface\u001b[38;5;241m.\u001b[39mpublish_pause()\n",
      "File \u001b[0;32m/opt/anaconda3/lib/python3.11/site-packages/wandb/sdk/interface/interface.py:659\u001b[0m, in \u001b[0;36mInterfaceBase.publish_pause\u001b[0;34m(self)\u001b[0m\n\u001b[1;32m    657\u001b[0m \u001b[38;5;28;01mdef\u001b[39;00m \u001b[38;5;21mpublish_pause\u001b[39m(\u001b[38;5;28mself\u001b[39m) \u001b[38;5;241m-\u001b[39m\u001b[38;5;241m>\u001b[39m \u001b[38;5;28;01mNone\u001b[39;00m:\n\u001b[1;32m    658\u001b[0m     pause \u001b[38;5;241m=\u001b[39m pb\u001b[38;5;241m.\u001b[39mPauseRequest()\n\u001b[0;32m--> 659\u001b[0m     \u001b[38;5;28mself\u001b[39m\u001b[38;5;241m.\u001b[39m_publish_pause(pause)\n",
      "File \u001b[0;32m/opt/anaconda3/lib/python3.11/site-packages/wandb/sdk/interface/interface_shared.py:355\u001b[0m, in \u001b[0;36mInterfaceShared._publish_pause\u001b[0;34m(self, pause)\u001b[0m\n\u001b[1;32m    353\u001b[0m \u001b[38;5;28;01mdef\u001b[39;00m \u001b[38;5;21m_publish_pause\u001b[39m(\u001b[38;5;28mself\u001b[39m, pause: pb\u001b[38;5;241m.\u001b[39mPauseRequest) \u001b[38;5;241m-\u001b[39m\u001b[38;5;241m>\u001b[39m \u001b[38;5;28;01mNone\u001b[39;00m:\n\u001b[1;32m    354\u001b[0m     rec \u001b[38;5;241m=\u001b[39m \u001b[38;5;28mself\u001b[39m\u001b[38;5;241m.\u001b[39m_make_request(pause\u001b[38;5;241m=\u001b[39mpause)\n\u001b[0;32m--> 355\u001b[0m     \u001b[38;5;28mself\u001b[39m\u001b[38;5;241m.\u001b[39m_publish(rec)\n",
      "File \u001b[0;32m/opt/anaconda3/lib/python3.11/site-packages/wandb/sdk/interface/interface_sock.py:51\u001b[0m, in \u001b[0;36mInterfaceSock._publish\u001b[0;34m(self, record, local)\u001b[0m\n\u001b[1;32m     49\u001b[0m \u001b[38;5;28;01mdef\u001b[39;00m \u001b[38;5;21m_publish\u001b[39m(\u001b[38;5;28mself\u001b[39m, record: \u001b[38;5;124m\"\u001b[39m\u001b[38;5;124mpb.Record\u001b[39m\u001b[38;5;124m\"\u001b[39m, local: Optional[\u001b[38;5;28mbool\u001b[39m] \u001b[38;5;241m=\u001b[39m \u001b[38;5;28;01mNone\u001b[39;00m) \u001b[38;5;241m-\u001b[39m\u001b[38;5;241m>\u001b[39m \u001b[38;5;28;01mNone\u001b[39;00m:\n\u001b[1;32m     50\u001b[0m     \u001b[38;5;28mself\u001b[39m\u001b[38;5;241m.\u001b[39m_assign(record)\n\u001b[0;32m---> 51\u001b[0m     \u001b[38;5;28mself\u001b[39m\u001b[38;5;241m.\u001b[39m_sock_client\u001b[38;5;241m.\u001b[39msend_record_publish(record)\n",
      "File \u001b[0;32m/opt/anaconda3/lib/python3.11/site-packages/wandb/sdk/lib/sock_client.py:221\u001b[0m, in \u001b[0;36mSockClient.send_record_publish\u001b[0;34m(self, record)\u001b[0m\n\u001b[1;32m    219\u001b[0m server_req \u001b[38;5;241m=\u001b[39m spb\u001b[38;5;241m.\u001b[39mServerRequest()\n\u001b[1;32m    220\u001b[0m server_req\u001b[38;5;241m.\u001b[39mrecord_publish\u001b[38;5;241m.\u001b[39mCopyFrom(record)\n\u001b[0;32m--> 221\u001b[0m \u001b[38;5;28mself\u001b[39m\u001b[38;5;241m.\u001b[39msend_server_request(server_req)\n",
      "File \u001b[0;32m/opt/anaconda3/lib/python3.11/site-packages/wandb/sdk/lib/sock_client.py:155\u001b[0m, in \u001b[0;36mSockClient.send_server_request\u001b[0;34m(self, msg)\u001b[0m\n\u001b[1;32m    154\u001b[0m \u001b[38;5;28;01mdef\u001b[39;00m \u001b[38;5;21msend_server_request\u001b[39m(\u001b[38;5;28mself\u001b[39m, msg: Any) \u001b[38;5;241m-\u001b[39m\u001b[38;5;241m>\u001b[39m \u001b[38;5;28;01mNone\u001b[39;00m:\n\u001b[0;32m--> 155\u001b[0m     \u001b[38;5;28mself\u001b[39m\u001b[38;5;241m.\u001b[39m_send_message(msg)\n",
      "File \u001b[0;32m/opt/anaconda3/lib/python3.11/site-packages/wandb/sdk/lib/sock_client.py:152\u001b[0m, in \u001b[0;36mSockClient._send_message\u001b[0;34m(self, msg)\u001b[0m\n\u001b[1;32m    150\u001b[0m header \u001b[38;5;241m=\u001b[39m struct\u001b[38;5;241m.\u001b[39mpack(\u001b[38;5;124m\"\u001b[39m\u001b[38;5;124m<BI\u001b[39m\u001b[38;5;124m\"\u001b[39m, \u001b[38;5;28mord\u001b[39m(\u001b[38;5;124m\"\u001b[39m\u001b[38;5;124mW\u001b[39m\u001b[38;5;124m\"\u001b[39m), raw_size)\n\u001b[1;32m    151\u001b[0m \u001b[38;5;28;01mwith\u001b[39;00m \u001b[38;5;28mself\u001b[39m\u001b[38;5;241m.\u001b[39m_lock:\n\u001b[0;32m--> 152\u001b[0m     \u001b[38;5;28mself\u001b[39m\u001b[38;5;241m.\u001b[39m_sendall_with_error_handle(header \u001b[38;5;241m+\u001b[39m data)\n",
      "File \u001b[0;32m/opt/anaconda3/lib/python3.11/site-packages/wandb/sdk/lib/sock_client.py:130\u001b[0m, in \u001b[0;36mSockClient._sendall_with_error_handle\u001b[0;34m(self, data)\u001b[0m\n\u001b[1;32m    128\u001b[0m start_time \u001b[38;5;241m=\u001b[39m time\u001b[38;5;241m.\u001b[39mmonotonic()\n\u001b[1;32m    129\u001b[0m \u001b[38;5;28;01mtry\u001b[39;00m:\n\u001b[0;32m--> 130\u001b[0m     sent \u001b[38;5;241m=\u001b[39m \u001b[38;5;28mself\u001b[39m\u001b[38;5;241m.\u001b[39m_sock\u001b[38;5;241m.\u001b[39msend(data)\n\u001b[1;32m    131\u001b[0m     \u001b[38;5;66;03m# sent equal to 0 indicates a closed socket\u001b[39;00m\n\u001b[1;32m    132\u001b[0m     \u001b[38;5;28;01mif\u001b[39;00m sent \u001b[38;5;241m==\u001b[39m \u001b[38;5;241m0\u001b[39m:\n",
      "\u001b[0;31mBrokenPipeError\u001b[0m: [Errno 32] Broken pipe"
     ]
    }
   ],
   "source": [
    "from gradient_descent_wandb import *\n",
    "from keras.datasets import fashion_mnist\n",
    "import matplotlib.pyplot as plt\n",
    "import numpy as np\n",
    "import wandb\n",
    "from types import SimpleNamespace\n",
    "import random\n",
    "\n",
    "(train_images, train_labels), (test_images, test_labels) = fashion_mnist.load_data()\n",
    "\n",
    "X = train_images.reshape(train_images.shape[0], -1).T/225\n",
    "Y = train_labels\n",
    "X_test = test_images.reshape(test_images.shape[0], -1).T/225\n",
    "Y_test = test_labels\n",
    "\n",
    "validation_ratio = 0.1 #percentage of data for validation\n",
    "num_validation_samples = int(validation_ratio * X.shape[1])\n",
    "indices = np.random.permutation(X.shape[1]) #shuffling the indices\n",
    "\n",
    "validation_indices = indices[:num_validation_samples]\n",
    "training_indices = indices[num_validation_samples:]\n",
    "\n",
    "X_train = X[:, training_indices]\n",
    "Y_train = Y[training_indices]\n",
    "X_val = X[:, validation_indices]\n",
    "Y_val = Y[validation_indices]\n",
    "\n",
    "print(\"Number of training samples: \" + str(X_train.shape[1]))\n",
    "print(\"Number of validation samples: \" + str(X_val.shape[1]))\n",
    "print(\"Number of testing samples: \" + str(X_test.shape[1]))\n",
    "\n",
    "wandb.login(key='4734e60951ce310dbe17484eeeb5b3366b54850f')\n",
    "\n",
    "sweep_config = {\n",
    "    'method': 'bayes',\n",
    "    'name': 'sweep cross entropy jupiter (corrected)',\n",
    "    'metric': {\n",
    "      'name': 'val_accuracy',\n",
    "      'goal': 'maximize'\n",
    "    },\n",
    "    'parameters': {\n",
    "        'epochs': {\n",
    "            'values': [5,10]\n",
    "        },\n",
    "         'hidden_size':{\n",
    "            'values':[32,64,128]\n",
    "        },\n",
    "        'hidden_layers':{\n",
    "            'values':[3,4,5]\n",
    "        },\n",
    "        'activation': {\n",
    "            'values': ['sigmoid','relu','tanh']\n",
    "        },\n",
    "        'loss': {\n",
    "            'values': ['cross_entropy']\n",
    "        },\n",
    "        'weight_decay': {\n",
    "            'values': [0,0.0005,0.5]\n",
    "        },\n",
    "        'optimizer': {\n",
    "            'values': ['sgd','momentum','nesterov','rmsprop','adam','nadam']\n",
    "        },\n",
    "        'lr': {\n",
    "            'values': [1e-3,1e-4]\n",
    "        },\n",
    "        'batch_size': {\n",
    "            'values': [16,32,64] \n",
    "        },\n",
    "        'w_init': {\n",
    "            'values':['glorot','random'] \n",
    "        },\n",
    "    }\n",
    "}\n",
    "\n",
    "sweep_id = wandb.sweep(sweep=sweep_config, project='CS6910_assignment_1')\n",
    "wandb.init(project='CS6910_assignment_1', entity='sumanta_roy')\n",
    "\n",
    "def main():\n",
    "    '''\n",
    "    WandB calls main function each time with differnet combination.\n",
    "\n",
    "    We can retrive the same and use the same values for our hypermeters.\n",
    "\n",
    "    '''\n",
    "\n",
    "    with wandb.init() as run:\n",
    "\n",
    "        run_name=\"-ac_\"+wandb.config.activation+\" -hs\"+str(wandb.config.hidden_size)+\" -hl\"+str(wandb.config.hidden_layers)+\" -epch\"+str(wandb.config.epochs)+\" -bs\"+str(wandb.config.batch_size)+\" -init\"+str(wandb.config.w_init)+\" -init\"+str(wandb.config.lr)+\" -l2d\"+str(wandb.config.weight_decay)\n",
    "        wandb.run.name=run_name\n",
    "        #obj=NN(wandb.config['num_layers'],wandb.config['hidden_size'])\n",
    "\n",
    "        max_epochs=wandb.config.epochs\n",
    "        no_hidden_layers=wandb.config.hidden_layers\n",
    "        size_of_hidden_layer=wandb.config.hidden_size\n",
    "        weight_decay = wandb.config.weight_decay\n",
    "        alpha=wandb.config.lr\n",
    "        opt=wandb.config.optimizer #'sgd','momentum','nesterov','rmsprop','adam','nadam'\n",
    "        batch_size=wandb.config.batch_size\n",
    "        weight=wandb.config.w_init #glorot,random\n",
    "        activation=wandb.config.activation #sigmoid,tanh,relu\n",
    "\n",
    "        input_size,output_size = 784,10\n",
    "        layer_sizes = [input_size] + [size_of_hidden_layer] * no_hidden_layers + [output_size]\n",
    "        beta=0.9\n",
    "        epsilon=1e-4\n",
    "        beta1=0.9\n",
    "        beta2=0.999\n",
    "\n",
    "        w = 80 #No of accuracy checks per epoch\n",
    "        \n",
    "        if opt == 'sgd':\n",
    "          params = stochastic_gradient_descent(w,weight, activation, weight_decay, X_train, Y_train, X_val, Y_val, max_epochs, alpha, layer_sizes, batch_size)\n",
    "        elif opt == 'momentum':\n",
    "          params = momentum_gradient_descent(w,weight, activation, weight_decay, X_train, Y_train, X_val, Y_val, max_epochs, alpha, beta, layer_sizes, batch_size)\n",
    "        elif opt == 'nesterov':\n",
    "          params = nesterov_gradient_descent(w,weight, activation, weight_decay, X_train, Y_train, X_val, Y_val, max_epochs, alpha, beta, layer_sizes, batch_size)\n",
    "        elif opt == 'rmsprop':\n",
    "          params = stochastic_gradient_descent_with_RMSProp(w,weight, activation, weight_decay, X_train, Y_train, X_val, Y_val,max_epochs, alpha, layer_sizes, batch_size, epsilon, beta)\n",
    "        elif opt == 'adam':\n",
    "          params = stochastic_gradient_descent_with_adam(w,weight, activation, weight_decay, X_train, Y_train, X_val, Y_val, max_epochs, alpha, layer_sizes, batch_size, epsilon, beta1, beta2)\n",
    "        elif opt == 'nadam':\n",
    "          params = stochastic_gradient_descent_with_nadam(w,weight, activation, weight_decay, X_train, Y_train, X_val, Y_val, max_epochs, alpha, layer_sizes, batch_size, epsilon, beta1, beta2)\n",
    "        else:\n",
    "          raise ValueError(f\"Invalid optimizer option: {opt}\")\n",
    "\n",
    "wandb.agent(sweep_id, function=main,count=100) # calls main function for count number of times.\n",
    "wandb.finish()\n"
   ]
  }
 ],
 "metadata": {
  "kernelspec": {
   "display_name": "Python 3 (ipykernel)",
   "language": "python",
   "name": "python3"
  },
  "language_info": {
   "codemirror_mode": {
    "name": "ipython",
    "version": 3
   },
   "file_extension": ".py",
   "mimetype": "text/x-python",
   "name": "python",
   "nbconvert_exporter": "python",
   "pygments_lexer": "ipython3",
   "version": "3.11.7"
  }
 },
 "nbformat": 4,
 "nbformat_minor": 5
}
