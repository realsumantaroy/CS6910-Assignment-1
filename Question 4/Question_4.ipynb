{
 "cells": [
  {
   "cell_type": "code",
   "execution_count": 1,
   "id": "2a75aff0-b0d8-4e6d-92cb-b08663fe3561",
   "metadata": {},
   "outputs": [
    {
     "name": "stdout",
     "output_type": "stream",
     "text": [
      "Requirement already satisfied: wandb in /opt/anaconda3/lib/python3.11/site-packages (0.16.4)\n",
      "Requirement already satisfied: Click!=8.0.0,>=7.1 in /opt/anaconda3/lib/python3.11/site-packages (from wandb) (8.1.7)\n",
      "Requirement already satisfied: GitPython!=3.1.29,>=1.0.0 in /opt/anaconda3/lib/python3.11/site-packages (from wandb) (3.1.37)\n",
      "Requirement already satisfied: requests<3,>=2.0.0 in /opt/anaconda3/lib/python3.11/site-packages (from wandb) (2.31.0)\n",
      "Requirement already satisfied: psutil>=5.0.0 in /opt/anaconda3/lib/python3.11/site-packages (from wandb) (5.9.0)\n",
      "Requirement already satisfied: sentry-sdk>=1.0.0 in /opt/anaconda3/lib/python3.11/site-packages (from wandb) (1.42.0)\n",
      "Requirement already satisfied: docker-pycreds>=0.4.0 in /opt/anaconda3/lib/python3.11/site-packages (from wandb) (0.4.0)\n",
      "Requirement already satisfied: PyYAML in /opt/anaconda3/lib/python3.11/site-packages (from wandb) (6.0.1)\n",
      "Requirement already satisfied: setproctitle in /opt/anaconda3/lib/python3.11/site-packages (from wandb) (1.3.3)\n",
      "Requirement already satisfied: setuptools in /opt/anaconda3/lib/python3.11/site-packages (from wandb) (68.2.2)\n",
      "Requirement already satisfied: appdirs>=1.4.3 in /opt/anaconda3/lib/python3.11/site-packages (from wandb) (1.4.4)\n",
      "Requirement already satisfied: protobuf!=4.21.0,<5,>=3.19.0 in /opt/anaconda3/lib/python3.11/site-packages (from wandb) (3.20.3)\n",
      "Requirement already satisfied: six>=1.4.0 in /opt/anaconda3/lib/python3.11/site-packages (from docker-pycreds>=0.4.0->wandb) (1.16.0)\n",
      "Requirement already satisfied: gitdb<5,>=4.0.1 in /opt/anaconda3/lib/python3.11/site-packages (from GitPython!=3.1.29,>=1.0.0->wandb) (4.0.7)\n",
      "Requirement already satisfied: charset-normalizer<4,>=2 in /opt/anaconda3/lib/python3.11/site-packages (from requests<3,>=2.0.0->wandb) (2.0.4)\n",
      "Requirement already satisfied: idna<4,>=2.5 in /opt/anaconda3/lib/python3.11/site-packages (from requests<3,>=2.0.0->wandb) (3.4)\n",
      "Requirement already satisfied: urllib3<3,>=1.21.1 in /opt/anaconda3/lib/python3.11/site-packages (from requests<3,>=2.0.0->wandb) (2.0.7)\n",
      "Requirement already satisfied: certifi>=2017.4.17 in /opt/anaconda3/lib/python3.11/site-packages (from requests<3,>=2.0.0->wandb) (2024.2.2)\n",
      "Requirement already satisfied: smmap<5,>=3.0.1 in /opt/anaconda3/lib/python3.11/site-packages (from gitdb<5,>=4.0.1->GitPython!=3.1.29,>=1.0.0->wandb) (4.0.0)\n",
      "Note: you may need to restart the kernel to use updated packages.\n"
     ]
    }
   ],
   "source": [
    "pip install wandb"
   ]
  },
  {
   "cell_type": "code",
   "execution_count": 2,
   "id": "6b7f7570-b5de-4b6f-b832-bcd72d87c5d4",
   "metadata": {},
   "outputs": [
    {
     "name": "stdout",
     "output_type": "stream",
     "text": [
      "Number of training samples: 54000\n",
      "Number of validation samples: 6000\n",
      "Number of testing samples: 10000\n"
     ]
    },
    {
     "name": "stderr",
     "output_type": "stream",
     "text": [
      "\u001b[34m\u001b[1mwandb\u001b[0m: Currently logged in as: \u001b[33msumanta_roy\u001b[0m. Use \u001b[1m`wandb login --relogin`\u001b[0m to force relogin\n",
      "\u001b[34m\u001b[1mwandb\u001b[0m: \u001b[33mWARNING\u001b[0m If you're specifying your api key in code, ensure this code is not shared publicly.\n",
      "\u001b[34m\u001b[1mwandb\u001b[0m: \u001b[33mWARNING\u001b[0m Consider setting the WANDB_API_KEY environment variable, or running `wandb login` from the command line.\n",
      "\u001b[34m\u001b[1mwandb\u001b[0m: Appending key for api.wandb.ai to your netrc file: /Users/sumanta/.netrc\n"
     ]
    },
    {
     "name": "stdout",
     "output_type": "stream",
     "text": [
      "Create sweep with ID: mefq3vzl\n",
      "Sweep URL: https://wandb.ai/sumanta_roy/CS6910_assignment_1/sweeps/mefq3vzl\n"
     ]
    },
    {
     "data": {
      "text/html": [
       "Changes to your `wandb` environment variables will be ignored because your `wandb` session has already started. For more information on how to modify your settings with `wandb.init()` arguments, please refer to <a href='https://wandb.me/wandb-init' target=\"_blank\">the W&B docs</a>."
      ],
      "text/plain": [
       "<IPython.core.display.HTML object>"
      ]
     },
     "metadata": {},
     "output_type": "display_data"
    },
    {
     "data": {
      "text/html": [
       "Tracking run with wandb version 0.16.4"
      ],
      "text/plain": [
       "<IPython.core.display.HTML object>"
      ]
     },
     "metadata": {},
     "output_type": "display_data"
    },
    {
     "data": {
      "text/html": [
       "Run data is saved locally in <code>/Users/sumanta/Desktop/Numpy project/cross_entropy_lesspasses/wandb/run-20240317_090813-jd01tcol</code>"
      ],
      "text/plain": [
       "<IPython.core.display.HTML object>"
      ]
     },
     "metadata": {},
     "output_type": "display_data"
    },
    {
     "data": {
      "text/html": [
       "Syncing run <strong><a href='https://wandb.ai/sumanta_roy/CS6910_assignment_1/runs/jd01tcol' target=\"_blank\">avid-star-241</a></strong> to <a href='https://wandb.ai/sumanta_roy/CS6910_assignment_1' target=\"_blank\">Weights & Biases</a> (<a href='https://wandb.me/run' target=\"_blank\">docs</a>)<br/>"
      ],
      "text/plain": [
       "<IPython.core.display.HTML object>"
      ]
     },
     "metadata": {},
     "output_type": "display_data"
    },
    {
     "data": {
      "text/html": [
       " View project at <a href='https://wandb.ai/sumanta_roy/CS6910_assignment_1' target=\"_blank\">https://wandb.ai/sumanta_roy/CS6910_assignment_1</a>"
      ],
      "text/plain": [
       "<IPython.core.display.HTML object>"
      ]
     },
     "metadata": {},
     "output_type": "display_data"
    },
    {
     "data": {
      "text/html": [
       " View run at <a href='https://wandb.ai/sumanta_roy/CS6910_assignment_1/runs/jd01tcol' target=\"_blank\">https://wandb.ai/sumanta_roy/CS6910_assignment_1/runs/jd01tcol</a>"
      ],
      "text/plain": [
       "<IPython.core.display.HTML object>"
      ]
     },
     "metadata": {},
     "output_type": "display_data"
    },
    {
     "name": "stderr",
     "output_type": "stream",
     "text": [
      "\u001b[34m\u001b[1mwandb\u001b[0m: \u001b[33mWARNING\u001b[0m Calling wandb.login() after wandb.init() has no effect.\n"
     ]
    },
    {
     "name": "stdout",
     "output_type": "stream",
     "text": [
      "VBox(children=(Label(value='0.001 MB of 0.001 MB uploaded\\r'), FloatProgress(value=1.0, max=1.0)))\n",
      "<IPython.core.display.HTML object>\n",
      "<IPython.core.display.HTML object>\n"
     ]
    },
    {
     "name": "stderr",
     "output_type": "stream",
     "text": [
      "\u001b[34m\u001b[1mwandb\u001b[0m: Agent Starting Run: ylz9aeqw with config:\n",
      "\u001b[34m\u001b[1mwandb\u001b[0m: \tactivation: tanh\n",
      "\u001b[34m\u001b[1mwandb\u001b[0m: \tbatch_size: 64\n",
      "\u001b[34m\u001b[1mwandb\u001b[0m: \tepochs: 5\n",
      "\u001b[34m\u001b[1mwandb\u001b[0m: \thidden_layers: 3\n",
      "\u001b[34m\u001b[1mwandb\u001b[0m: \thidden_size: 128\n",
      "\u001b[34m\u001b[1mwandb\u001b[0m: \tloss: cross_entropy\n",
      "\u001b[34m\u001b[1mwandb\u001b[0m: \tlr: 0.0001\n",
      "\u001b[34m\u001b[1mwandb\u001b[0m: \toptimizer: nesterov\n",
      "\u001b[34m\u001b[1mwandb\u001b[0m: \tw_init: glorot\n",
      "\u001b[34m\u001b[1mwandb\u001b[0m: \tweight_decay: 0.5\n"
     ]
    },
    {
     "data": {
      "text/html": [
       "Tracking run with wandb version 0.16.4"
      ],
      "text/plain": [
       "<IPython.core.display.HTML object>"
      ]
     },
     "metadata": {},
     "output_type": "display_data"
    },
    {
     "data": {
      "text/html": [
       "Run data is saved locally in <code>/Users/sumanta/Desktop/Numpy project/cross_entropy_lesspasses/wandb/run-20240317_090823-ylz9aeqw</code>"
      ],
      "text/plain": [
       "<IPython.core.display.HTML object>"
      ]
     },
     "metadata": {},
     "output_type": "display_data"
    },
    {
     "data": {
      "text/html": [
       "Syncing run <strong><a href='https://wandb.ai/sumanta_roy/CS6910_assignment_1/runs/ylz9aeqw' target=\"_blank\">restful-sweep-1</a></strong> to <a href='https://wandb.ai/sumanta_roy/CS6910_assignment_1' target=\"_blank\">Weights & Biases</a> (<a href='https://wandb.me/run' target=\"_blank\">docs</a>)<br/>Sweep page: <a href='https://wandb.ai/sumanta_roy/CS6910_assignment_1/sweeps/mefq3vzl' target=\"_blank\">https://wandb.ai/sumanta_roy/CS6910_assignment_1/sweeps/mefq3vzl</a>"
      ],
      "text/plain": [
       "<IPython.core.display.HTML object>"
      ]
     },
     "metadata": {},
     "output_type": "display_data"
    },
    {
     "data": {
      "text/html": [
       " View project at <a href='https://wandb.ai/sumanta_roy/CS6910_assignment_1' target=\"_blank\">https://wandb.ai/sumanta_roy/CS6910_assignment_1</a>"
      ],
      "text/plain": [
       "<IPython.core.display.HTML object>"
      ]
     },
     "metadata": {},
     "output_type": "display_data"
    },
    {
     "data": {
      "text/html": [
       " View sweep at <a href='https://wandb.ai/sumanta_roy/CS6910_assignment_1/sweeps/mefq3vzl' target=\"_blank\">https://wandb.ai/sumanta_roy/CS6910_assignment_1/sweeps/mefq3vzl</a>"
      ],
      "text/plain": [
       "<IPython.core.display.HTML object>"
      ]
     },
     "metadata": {},
     "output_type": "display_data"
    },
    {
     "data": {
      "text/html": [
       " View run at <a href='https://wandb.ai/sumanta_roy/CS6910_assignment_1/runs/ylz9aeqw' target=\"_blank\">https://wandb.ai/sumanta_roy/CS6910_assignment_1/runs/ylz9aeqw</a>"
      ],
      "text/plain": [
       "<IPython.core.display.HTML object>"
      ]
     },
     "metadata": {},
     "output_type": "display_data"
    },
    {
     "name": "stderr",
     "output_type": "stream",
     "text": [
      "Exception in thread ChkStopThr:\n",
      "Traceback (most recent call last):\n",
      "  File \"/opt/anaconda3/lib/python3.11/threading.py\", line 1045, in _bootstrap_inner\n",
      "Exception in thread NetStatThr:\n",
      "Traceback (most recent call last):\n",
      "  File \"/opt/anaconda3/lib/python3.11/threading.py\", line 1045, in _bootstrap_inner\n",
      "    self.run()\n",
      "  File \"/opt/anaconda3/lib/python3.11/threading.py\", line 982, in run\n",
      "    self._target(*self._args, **self._kwargs)\n",
      "  File \"/opt/anaconda3/lib/python3.11/site-packages/wandb/sdk/wandb_run.py\", line 268, in check_network_status\n",
      "    self._loop_check_status(\n",
      "  File \"/opt/anaconda3/lib/python3.11/site-packages/wandb/sdk/wandb_run.py\", line 224, in _loop_check_status\n",
      "    local_handle = request()\n",
      "                   ^^^^^^^^^\n",
      "  File \"/opt/anaconda3/lib/python3.11/site-packages/wandb/sdk/interface/interface.py\", line 795, in deliver_network_status\n",
      "    return self._deliver_network_status(status)\n",
      "           ^^^^^^    self.run()\n",
      "  File \"/opt/anaconda3/lib/python3.11/threading.py\", line 982, in run\n",
      "    self._target(*self._args, **self._kwargs)\n",
      "  File \"/opt/anaconda3/lib/python3.11/site-packages/wandb/sdk/wandb_run.py\", line 286, in check_stop_status\n",
      "    self._loop_check_status(Exception in thread ^IntMsgThr\n",
      "  File \"/opt/anaconda3/lib/python3.11/site-packages/wandb/sdk/wandb_run.py\", line 224, in _loop_check_status\n",
      "    local_handle = request()\n",
      "                   ^^^^^^^^^\n",
      "  File \"/opt/anaconda3/lib/python3.11/site-packages/wandb/sdk/interface/interface.py\", line 787, in deliver_stop_status\n",
      "    return self._deliver_stop_status(status)\n",
      "          ^:\n",
      "Traceback (most recent call last):\n",
      "  File \"/opt/anaconda3/lib/python3.11/threading.py\", line 1045, in _bootstrap_inner\n",
      "    self.run()\n",
      "  File \"/opt/anaconda3/lib/python3.11/threading.py\", line 982, in run\n",
      "    self._target(*self._args, **self._kwargs)\n",
      "  File \"/opt/anaconda3/lib/python3.11/site-packages/wandb/sdk/wandb_run.py\", line 300, in check_internal_messages\n",
      "    ^self._loop_check_status(\n",
      "  File \"/opt/anaconda3/lib/python3.11/site-packages/wandb/sdk/wandb_run.py\", line 224, in _loop_check_status\n",
      " ^^    local_handle = request()\n",
      "^^^^ ^^ ^^ ^^ ^^ ^^ ^^ ^^ ^^ ^^ ^^ ^^ ^^ ^^ ^^ ^^ ^^ ^^ ^^ ^^^^^^^^^^^^^^^^^^^^^\n",
      "^^^^  File \"/opt/anaconda3/lib/python3.11/site-packages/wandb/sdk/interface/interface_shared.py\", line 500, in _deliver_network_status\n",
      "^\n",
      "^\n",
      "  File \"/opt/anaconda3/lib/python3.11/site-packages/wandb/sdk/interface/interface.py\", line 803, in deliver_internal_messages\n",
      "      File \"/opt/anaconda3/lib/python3.11/site-packages/wandb/sdk/interface/interface_shared.py\", line 484, in _deliver_stop_status\n",
      "return self._deliver_record(record)    \n",
      "    return self._deliver_internal_messages(internal_message)return self._deliver_record(record)\n",
      " \n",
      "                             ^  ^ ^^^^^^^^^^^^^^^^^^^^^^^^^^^^^^^^^^^^^^^^^^^^^^^^^^^^^^^^^^^^^^^^^^^^^^^^^^^^^^^\n",
      "^^^^  File \"/opt/anaconda3/lib/python3.11/site-packages/wandb/sdk/interface/interface_shared.py\", line 449, in _deliver_record\n",
      "\n",
      "^^  File \"/opt/anaconda3/lib/python3.11/site-packages/wandb/sdk/interface/interface_shared.py\", line 449, in _deliver_record\n",
      "^^    ^    handle = mailbox._deliver_record(record, interface=self)^handle = mailbox._deliver_record(record, interface=self)\n",
      "^\n",
      "^ ^  ^  ^  ^  ^  ^  ^  ^  ^  ^  ^  ^  \n",
      " ^^^  File \"/opt/anaconda3/lib/python3.11/site-packages/wandb/sdk/interface/interface_shared.py\", line 506, in _deliver_internal_messages\n",
      "^^^^^^^^    ^^return self._deliver_record(record)^^\n",
      "^^^^ ^^ ^^ ^^ ^^ ^^ ^^ ^^ ^^ ^^ ^^ ^^^^^^^^^^^^^^^^^^^^^^^^^^^^^^^^^^^^^^^^^^^^^^^^^^^^^^^^^^^^^^^^^^^^^^^^^^^^^^^^^^\n",
      "^\n",
      "\n",
      "  File \"/opt/anaconda3/lib/python3.11/site-packages/wandb/sdk/lib/mailbox.py\", line 455, in _deliver_record\n",
      "  File \"/opt/anaconda3/lib/python3.11/site-packages/wandb/sdk/lib/mailbox.py\", line 455, in _deliver_record\n",
      "  File \"/opt/anaconda3/lib/python3.11/site-packages/wandb/sdk/interface/interface_shared.py\", line 449, in _deliver_record\n",
      "        interface._publish(record)    interface._publish(record)\n",
      "handle = mailbox._deliver_record(record, interface=self)\n",
      "\n",
      "  File \"/opt/anaconda3/lib/python3.11/site-packages/wandb/sdk/interface/interface_sock.py\", line 51, in _publish\n",
      "  File \"/opt/anaconda3/lib/python3.11/site-packages/wandb/sdk/interface/interface_sock.py\", line 51, in _publish\n",
      "           self._sock_client.send_record_publish(record) self._sock_client.send_record_publish(record)\n",
      " \n",
      "   File \"/opt/anaconda3/lib/python3.11/site-packages/wandb/sdk/lib/sock_client.py\", line 221, in send_record_publish\n",
      "   File \"/opt/anaconda3/lib/python3.11/site-packages/wandb/sdk/lib/sock_client.py\", line 221, in send_record_publish\n",
      "       self.send_server_request(server_req)     \n",
      "self.send_server_request(server_req) \n",
      "   File \"/opt/anaconda3/lib/python3.11/site-packages/wandb/sdk/lib/sock_client.py\", line 155, in send_server_request\n",
      "^  File \"/opt/anaconda3/lib/python3.11/site-packages/wandb/sdk/lib/sock_client.py\", line 155, in send_server_request\n",
      "^^        ^self._send_message(msg)self._send_message(msg)^\n",
      "\n",
      "^^  File \"/opt/anaconda3/lib/python3.11/site-packages/wandb/sdk/lib/sock_client.py\", line 152, in _send_message\n",
      "  File \"/opt/anaconda3/lib/python3.11/site-packages/wandb/sdk/lib/sock_client.py\", line 152, in _send_message\n",
      "^^    ^    self._sendall_with_error_handle(header + data)^self._sendall_with_error_handle(header + data)\n",
      "^\n",
      "^  File \"/opt/anaconda3/lib/python3.11/site-packages/wandb/sdk/lib/sock_client.py\", line 130, in _sendall_with_error_handle\n",
      "^  File \"/opt/anaconda3/lib/python3.11/site-packages/wandb/sdk/lib/sock_client.py\", line 130, in _sendall_with_error_handle\n",
      "^^    ^sent = self._sock.send(data)    ^\n",
      "sent = self._sock.send(data)^\n",
      "^ ^  ^  ^  ^  ^  ^  ^  ^  ^  ^  ^^ ^^^^^^^^^^^^^^^^^^^^^^^^^^^^^^^^^^^^^^^^^^^^^^^^\n",
      "^^^^  File \"/opt/anaconda3/lib/python3.11/site-packages/wandb/sdk/lib/mailbox.py\", line 455, in _deliver_record\n",
      "^^^^\n",
      "^    \n",
      "BrokenPipeErrorinterface._publish(record): \n",
      "BrokenPipeError[Errno 32] Broken pipe: \n",
      "  File \"/opt/anaconda3/lib/python3.11/site-packages/wandb/sdk/interface/interface_sock.py\", line 51, in _publish\n",
      "[Errno 32] Broken pipe\n",
      "    self._sock_client.send_record_publish(record)\n",
      "  File \"/opt/anaconda3/lib/python3.11/site-packages/wandb/sdk/lib/sock_client.py\", line 221, in send_record_publish\n",
      "    self.send_server_request(server_req)\n",
      "  File \"/opt/anaconda3/lib/python3.11/site-packages/wandb/sdk/lib/sock_client.py\", line 155, in send_server_request\n",
      "    self._send_message(msg)\n",
      "  File \"/opt/anaconda3/lib/python3.11/site-packages/wandb/sdk/lib/sock_client.py\", line 152, in _send_message\n",
      "    self._sendall_with_error_handle(header + data)\n",
      "  File \"/opt/anaconda3/lib/python3.11/site-packages/wandb/sdk/lib/sock_client.py\", line 130, in _sendall_with_error_handle\n",
      "    sent = self._sock.send(data)\n",
      "           ^^^^^^^^^^^^^^^^^^^^^\n",
      "BrokenPipeError: [Errno 32] Broken pipe\n"
     ]
    },
    {
     "name": "stdout",
     "output_type": "stream",
     "text": [
      "Epoch: 1/5; Train Loss: 2.024232334518056; Val Loss: 0.14374872606962996\n",
      "Epoch: 2/5; Train Loss: 1.9814316196771893; Val Loss: 0.11503337766682353\n",
      "Epoch: 3/5; Train Loss: 1.952339027456253; Val Loss: 0.10225143537943471\n",
      "Epoch: 4/5; Train Loss: 1.927551728085353; Val Loss: 0.09468145487124334\n",
      "Epoch: 5/5; Train Loss: 1.904755347387421; Val Loss: 0.08950958192608557\n"
     ]
    },
    {
     "data": {
      "application/vnd.jupyter.widget-view+json": {
       "model_id": "",
       "version_major": 2,
       "version_minor": 0
      },
      "text/plain": [
       "VBox(children=(Label(value='0.001 MB of 0.001 MB uploaded\\r'), FloatProgress(value=1.0, max=1.0)))"
      ]
     },
     "metadata": {},
     "output_type": "display_data"
    },
    {
     "data": {
      "text/html": [
       "<style>\n",
       "    table.wandb td:nth-child(1) { padding: 0 10px; text-align: left ; width: auto;} td:nth-child(2) {text-align: left ; width: 100%}\n",
       "    .wandb-row { display: flex; flex-direction: row; flex-wrap: wrap; justify-content: flex-start; width: 100% }\n",
       "    .wandb-col { display: flex; flex-direction: column; flex-basis: 100%; flex: 1; padding: 10px; }\n",
       "    </style>\n",
       "<div class=\"wandb-row\"><div class=\"wandb-col\"><h3>Run history:</h3><br/><table class=\"wandb\"><tr><td>epoch</td><td>▁▁▁▁▁▁▁▁▃▃▃▃▃▃▃▃▅▅▅▅▅▅▅▅▆▆▆▆▆▆▆▆████████</td></tr><tr><td>train_accuracy</td><td>▁▂▃▅▅▆▆▇▆▆▇▇▇▇▇▇█▇▆▇▇█▇▇▇▇▇▇▇▇█▇██▇▇▇█▇█</td></tr><tr><td>train_loss</td><td>██▇▆▆▅▅▅▄▅▄▄▄▄▄▃▃▃▃▃▃▂▃▂▂▂▂▂▂▂▂▂▂▂▂▁▁▁▁▁</td></tr><tr><td>val_accuracy</td><td>▁▃▄▅▆▆▇▇▇▇▇▇▇▇▇▇▇▇▇▇▇▇██████████████████</td></tr><tr><td>validation_loss</td><td>█▇▆▅▅▄▄▃▃▃▃▃▂▂▂▂▂▂▂▂▂▂▂▂▂▁▁▁▁▁▁▁▁▁▁▁▁▁▁▁</td></tr></table><br/></div><div class=\"wandb-col\"><h3>Run summary:</h3><br/><table class=\"wandb\"><tr><td>epoch</td><td>5</td></tr><tr><td>train_accuracy</td><td>82.8125</td></tr><tr><td>train_loss</td><td>1.90476</td></tr><tr><td>val_accuracy</td><td>77.63333</td></tr><tr><td>validation_loss</td><td>0.08951</td></tr></table><br/></div></div>"
      ],
      "text/plain": [
       "<IPython.core.display.HTML object>"
      ]
     },
     "metadata": {},
     "output_type": "display_data"
    },
    {
     "data": {
      "text/html": [
       " View run <strong style=\"color:#cdcd00\">restful-sweep-1</strong> at: <a href='https://wandb.ai/sumanta_roy/CS6910_assignment_1/runs/ylz9aeqw' target=\"_blank\">https://wandb.ai/sumanta_roy/CS6910_assignment_1/runs/ylz9aeqw</a><br/>Synced 6 W&B file(s), 0 media file(s), 0 artifact file(s) and 0 other file(s)"
      ],
      "text/plain": [
       "<IPython.core.display.HTML object>"
      ]
     },
     "metadata": {},
     "output_type": "display_data"
    },
    {
     "data": {
      "text/html": [
       "Find logs at: <code>./wandb/run-20240317_090823-ylz9aeqw/logs</code>"
      ],
      "text/plain": [
       "<IPython.core.display.HTML object>"
      ]
     },
     "metadata": {},
     "output_type": "display_data"
    },
    {
     "name": "stderr",
     "output_type": "stream",
     "text": [
      "\u001b[34m\u001b[1mwandb\u001b[0m: Sweep Agent: Waiting for job.\n",
      "\u001b[34m\u001b[1mwandb\u001b[0m: Job received.\n",
      "\u001b[34m\u001b[1mwandb\u001b[0m: Agent Starting Run: 8xzjvz31 with config:\n",
      "\u001b[34m\u001b[1mwandb\u001b[0m: \tactivation: tanh\n",
      "\u001b[34m\u001b[1mwandb\u001b[0m: \tbatch_size: 64\n",
      "\u001b[34m\u001b[1mwandb\u001b[0m: \tepochs: 5\n",
      "\u001b[34m\u001b[1mwandb\u001b[0m: \thidden_layers: 3\n",
      "\u001b[34m\u001b[1mwandb\u001b[0m: \thidden_size: 128\n",
      "\u001b[34m\u001b[1mwandb\u001b[0m: \tloss: cross_entropy\n",
      "\u001b[34m\u001b[1mwandb\u001b[0m: \tlr: 0.0001\n",
      "\u001b[34m\u001b[1mwandb\u001b[0m: \toptimizer: sgd\n",
      "\u001b[34m\u001b[1mwandb\u001b[0m: \tw_init: glorot\n",
      "\u001b[34m\u001b[1mwandb\u001b[0m: \tweight_decay: 0.0005\n"
     ]
    },
    {
     "data": {
      "text/html": [
       "Tracking run with wandb version 0.16.4"
      ],
      "text/plain": [
       "<IPython.core.display.HTML object>"
      ]
     },
     "metadata": {},
     "output_type": "display_data"
    },
    {
     "data": {
      "text/html": [
       "Run data is saved locally in <code>/Users/sumanta/Desktop/Numpy project/cross_entropy_lesspasses/wandb/run-20240317_090933-8xzjvz31</code>"
      ],
      "text/plain": [
       "<IPython.core.display.HTML object>"
      ]
     },
     "metadata": {},
     "output_type": "display_data"
    },
    {
     "data": {
      "text/html": [
       "Syncing run <strong><a href='https://wandb.ai/sumanta_roy/CS6910_assignment_1/runs/8xzjvz31' target=\"_blank\">twilight-sweep-2</a></strong> to <a href='https://wandb.ai/sumanta_roy/CS6910_assignment_1' target=\"_blank\">Weights & Biases</a> (<a href='https://wandb.me/run' target=\"_blank\">docs</a>)<br/>Sweep page: <a href='https://wandb.ai/sumanta_roy/CS6910_assignment_1/sweeps/mefq3vzl' target=\"_blank\">https://wandb.ai/sumanta_roy/CS6910_assignment_1/sweeps/mefq3vzl</a>"
      ],
      "text/plain": [
       "<IPython.core.display.HTML object>"
      ]
     },
     "metadata": {},
     "output_type": "display_data"
    },
    {
     "data": {
      "text/html": [
       " View project at <a href='https://wandb.ai/sumanta_roy/CS6910_assignment_1' target=\"_blank\">https://wandb.ai/sumanta_roy/CS6910_assignment_1</a>"
      ],
      "text/plain": [
       "<IPython.core.display.HTML object>"
      ]
     },
     "metadata": {},
     "output_type": "display_data"
    },
    {
     "data": {
      "text/html": [
       " View sweep at <a href='https://wandb.ai/sumanta_roy/CS6910_assignment_1/sweeps/mefq3vzl' target=\"_blank\">https://wandb.ai/sumanta_roy/CS6910_assignment_1/sweeps/mefq3vzl</a>"
      ],
      "text/plain": [
       "<IPython.core.display.HTML object>"
      ]
     },
     "metadata": {},
     "output_type": "display_data"
    },
    {
     "data": {
      "text/html": [
       " View run at <a href='https://wandb.ai/sumanta_roy/CS6910_assignment_1/runs/8xzjvz31' target=\"_blank\">https://wandb.ai/sumanta_roy/CS6910_assignment_1/runs/8xzjvz31</a>"
      ],
      "text/plain": [
       "<IPython.core.display.HTML object>"
      ]
     },
     "metadata": {},
     "output_type": "display_data"
    },
    {
     "name": "stdout",
     "output_type": "stream",
     "text": [
      "Epoch: 1/5; Train Loss: 0.20060129572609825; Val Loss: 0.2022527124244042\n",
      "Epoch: 2/5; Train Loss: 0.18142333086969886; Val Loss: 0.18373333601087477\n",
      "Epoch: 3/5; Train Loss: 0.16646047637757808; Val Loss: 0.16921738137959427\n",
      "Epoch: 4/5; Train Loss: 0.15455006724222883; Val Loss: 0.1575632109207668\n",
      "Epoch: 5/5; Train Loss: 0.14487368383412555; Val Loss: 0.14802611149662984\n"
     ]
    },
    {
     "data": {
      "application/vnd.jupyter.widget-view+json": {
       "model_id": "",
       "version_major": 2,
       "version_minor": 0
      },
      "text/plain": [
       "VBox(children=(Label(value='0.001 MB of 0.001 MB uploaded\\r'), FloatProgress(value=1.0, max=1.0)))"
      ]
     },
     "metadata": {},
     "output_type": "display_data"
    },
    {
     "data": {
      "text/html": [
       "<style>\n",
       "    table.wandb td:nth-child(1) { padding: 0 10px; text-align: left ; width: auto;} td:nth-child(2) {text-align: left ; width: 100%}\n",
       "    .wandb-row { display: flex; flex-direction: row; flex-wrap: wrap; justify-content: flex-start; width: 100% }\n",
       "    .wandb-col { display: flex; flex-direction: column; flex-basis: 100%; flex: 1; padding: 10px; }\n",
       "    </style>\n",
       "<div class=\"wandb-row\"><div class=\"wandb-col\"><h3>Run history:</h3><br/><table class=\"wandb\"><tr><td>epoch</td><td>▁▁▁▁▁▁▁▁▃▃▃▃▃▃▃▃▅▅▅▅▅▅▅▅▆▆▆▆▆▆▆▆████████</td></tr><tr><td>train_accuracy</td><td>▁▂▂▂▃▄▄▄▄▄▃▄▅▅▅▄▆▅▅▆▅▇▆▇▇▇▇▇▆▇▇▇▇▇▆█▇▇█▇</td></tr><tr><td>train_loss</td><td>██▇▇▇▆▆▆▆▆▆▅▅▅▄▄▄▄▄▃▄▃▃▂▃▃▂▂▂▂▃▂▃▂▂▁▁▁▁▁</td></tr><tr><td>val_accuracy</td><td>▁▁▁▂▂▃▃▃▄▄▄▄▅▅▅▅▅▆▆▆▆▆▆▆▇▇▇▇▇▇▇▇▇███████</td></tr><tr><td>validation_loss</td><td>██▇▇▇▆▆▆▆▅▅▅▅▅▄▄▄▄▄▄▃▃▃▃▃▃▂▂▂▂▂▂▂▂▂▁▁▁▁▁</td></tr></table><br/></div><div class=\"wandb-col\"><h3>Run summary:</h3><br/><table class=\"wandb\"><tr><td>epoch</td><td>5</td></tr><tr><td>train_accuracy</td><td>62.5</td></tr><tr><td>train_loss</td><td>0.14487</td></tr><tr><td>val_accuracy</td><td>59.31667</td></tr><tr><td>validation_loss</td><td>0.14803</td></tr></table><br/></div></div>"
      ],
      "text/plain": [
       "<IPython.core.display.HTML object>"
      ]
     },
     "metadata": {},
     "output_type": "display_data"
    },
    {
     "data": {
      "text/html": [
       " View run <strong style=\"color:#cdcd00\">twilight-sweep-2</strong> at: <a href='https://wandb.ai/sumanta_roy/CS6910_assignment_1/runs/8xzjvz31' target=\"_blank\">https://wandb.ai/sumanta_roy/CS6910_assignment_1/runs/8xzjvz31</a><br/>Synced 6 W&B file(s), 0 media file(s), 0 artifact file(s) and 0 other file(s)"
      ],
      "text/plain": [
       "<IPython.core.display.HTML object>"
      ]
     },
     "metadata": {},
     "output_type": "display_data"
    },
    {
     "data": {
      "text/html": [
       "Find logs at: <code>./wandb/run-20240317_090933-8xzjvz31/logs</code>"
      ],
      "text/plain": [
       "<IPython.core.display.HTML object>"
      ]
     },
     "metadata": {},
     "output_type": "display_data"
    },
    {
     "name": "stderr",
     "output_type": "stream",
     "text": [
      "\u001b[34m\u001b[1mwandb\u001b[0m: Sweep Agent: Waiting for job.\n",
      "\u001b[34m\u001b[1mwandb\u001b[0m: Job received.\n",
      "\u001b[34m\u001b[1mwandb\u001b[0m: Agent Starting Run: tzbtcejs with config:\n",
      "\u001b[34m\u001b[1mwandb\u001b[0m: \tactivation: relu\n",
      "\u001b[34m\u001b[1mwandb\u001b[0m: \tbatch_size: 64\n",
      "\u001b[34m\u001b[1mwandb\u001b[0m: \tepochs: 10\n",
      "\u001b[34m\u001b[1mwandb\u001b[0m: \thidden_layers: 3\n",
      "\u001b[34m\u001b[1mwandb\u001b[0m: \thidden_size: 64\n",
      "\u001b[34m\u001b[1mwandb\u001b[0m: \tloss: cross_entropy\n",
      "\u001b[34m\u001b[1mwandb\u001b[0m: \tlr: 0.0001\n",
      "\u001b[34m\u001b[1mwandb\u001b[0m: \toptimizer: adam\n",
      "\u001b[34m\u001b[1mwandb\u001b[0m: \tw_init: glorot\n",
      "\u001b[34m\u001b[1mwandb\u001b[0m: \tweight_decay: 0\n"
     ]
    },
    {
     "data": {
      "text/html": [
       "Tracking run with wandb version 0.16.4"
      ],
      "text/plain": [
       "<IPython.core.display.HTML object>"
      ]
     },
     "metadata": {},
     "output_type": "display_data"
    },
    {
     "data": {
      "text/html": [
       "Run data is saved locally in <code>/Users/sumanta/Desktop/Numpy project/cross_entropy_lesspasses/wandb/run-20240317_091032-tzbtcejs</code>"
      ],
      "text/plain": [
       "<IPython.core.display.HTML object>"
      ]
     },
     "metadata": {},
     "output_type": "display_data"
    },
    {
     "data": {
      "text/html": [
       "Syncing run <strong><a href='https://wandb.ai/sumanta_roy/CS6910_assignment_1/runs/tzbtcejs' target=\"_blank\">northern-sweep-3</a></strong> to <a href='https://wandb.ai/sumanta_roy/CS6910_assignment_1' target=\"_blank\">Weights & Biases</a> (<a href='https://wandb.me/run' target=\"_blank\">docs</a>)<br/>Sweep page: <a href='https://wandb.ai/sumanta_roy/CS6910_assignment_1/sweeps/mefq3vzl' target=\"_blank\">https://wandb.ai/sumanta_roy/CS6910_assignment_1/sweeps/mefq3vzl</a>"
      ],
      "text/plain": [
       "<IPython.core.display.HTML object>"
      ]
     },
     "metadata": {},
     "output_type": "display_data"
    },
    {
     "data": {
      "text/html": [
       " View project at <a href='https://wandb.ai/sumanta_roy/CS6910_assignment_1' target=\"_blank\">https://wandb.ai/sumanta_roy/CS6910_assignment_1</a>"
      ],
      "text/plain": [
       "<IPython.core.display.HTML object>"
      ]
     },
     "metadata": {},
     "output_type": "display_data"
    },
    {
     "data": {
      "text/html": [
       " View sweep at <a href='https://wandb.ai/sumanta_roy/CS6910_assignment_1/sweeps/mefq3vzl' target=\"_blank\">https://wandb.ai/sumanta_roy/CS6910_assignment_1/sweeps/mefq3vzl</a>"
      ],
      "text/plain": [
       "<IPython.core.display.HTML object>"
      ]
     },
     "metadata": {},
     "output_type": "display_data"
    },
    {
     "data": {
      "text/html": [
       " View run at <a href='https://wandb.ai/sumanta_roy/CS6910_assignment_1/runs/tzbtcejs' target=\"_blank\">https://wandb.ai/sumanta_roy/CS6910_assignment_1/runs/tzbtcejs</a>"
      ],
      "text/plain": [
       "<IPython.core.display.HTML object>"
      ]
     },
     "metadata": {},
     "output_type": "display_data"
    },
    {
     "name": "stdout",
     "output_type": "stream",
     "text": [
      "Epoch: 1/10; Train Loss: 0.059757124422894624; Val Loss: 0.06421609900871578\n",
      "Epoch: 2/10; Train Loss: 0.05369147207627645; Val Loss: 0.055357278102778046\n",
      "Epoch: 3/10; Train Loss: 0.05139712468089254; Val Loss: 0.05125054372037861\n",
      "Epoch: 4/10; Train Loss: 0.04986440258033324; Val Loss: 0.04871436026277858\n",
      "Epoch: 5/10; Train Loss: 0.04859186547605008; Val Loss: 0.04697900944398445\n",
      "Epoch: 6/10; Train Loss: 0.04760822952795683; Val Loss: 0.04563143029159858\n",
      "Epoch: 7/10; Train Loss: 0.04656763878363237; Val Loss: 0.04452811823254397\n",
      "Epoch: 8/10; Train Loss: 0.04588313528889306; Val Loss: 0.043574863035163475\n",
      "Epoch: 9/10; Train Loss: 0.04510853409439847; Val Loss: 0.04281762100557435\n",
      "Epoch: 10/10; Train Loss: 0.04412166641703141; Val Loss: 0.04216776994547262\n"
     ]
    },
    {
     "data": {
      "application/vnd.jupyter.widget-view+json": {
       "model_id": "",
       "version_major": 2,
       "version_minor": 0
      },
      "text/plain": [
       "VBox(children=(Label(value='0.001 MB of 0.001 MB uploaded\\r'), FloatProgress(value=1.0, max=1.0)))"
      ]
     },
     "metadata": {},
     "output_type": "display_data"
    },
    {
     "data": {
      "text/html": [
       "<style>\n",
       "    table.wandb td:nth-child(1) { padding: 0 10px; text-align: left ; width: auto;} td:nth-child(2) {text-align: left ; width: 100%}\n",
       "    .wandb-row { display: flex; flex-direction: row; flex-wrap: wrap; justify-content: flex-start; width: 100% }\n",
       "    .wandb-col { display: flex; flex-direction: column; flex-basis: 100%; flex: 1; padding: 10px; }\n",
       "    </style>\n",
       "<div class=\"wandb-row\"><div class=\"wandb-col\"><h3>Run history:</h3><br/><table class=\"wandb\"><tr><td>epoch</td><td>▁▁▁▁▂▂▂▂▃▃▃▃▃▃▃▃▄▄▄▄▅▅▅▅▆▆▆▆▆▆▆▆▇▇▇▇████</td></tr><tr><td>train_accuracy</td><td>▃▁▅▅▄▆▅▆▆▄▅▅▇▆▆▆▅▆▆▆▇▇▆▆▇▆▇▆▆▆▆▆▆█▆▇▅▇▆▆</td></tr><tr><td>train_loss</td><td>█▅▃▃▃▃▃▃▂▃▃▂▂▃▂▃▂▂▁▃▂▂▂▂▂▁▁▂▂▂▂▂▁▁▂▂▂▁▁▂</td></tr><tr><td>val_accuracy</td><td>▁▄▅▆▆▆▇▇▇▇▇▇▇▇▇█▇███████████████████████</td></tr><tr><td>validation_loss</td><td>█▄▃▃▂▂▂▂▂▂▂▂▂▂▁▁▁▁▁▁▁▁▁▁▁▁▁▁▁▁▁▁▁▁▁▁▁▁▁▁</td></tr></table><br/></div><div class=\"wandb-col\"><h3>Run summary:</h3><br/><table class=\"wandb\"><tr><td>epoch</td><td>10</td></tr><tr><td>train_accuracy</td><td>81.25</td></tr><tr><td>train_loss</td><td>0.04412</td></tr><tr><td>val_accuracy</td><td>85.55</td></tr><tr><td>validation_loss</td><td>0.04217</td></tr></table><br/></div></div>"
      ],
      "text/plain": [
       "<IPython.core.display.HTML object>"
      ]
     },
     "metadata": {},
     "output_type": "display_data"
    },
    {
     "data": {
      "text/html": [
       " View run <strong style=\"color:#cdcd00\">northern-sweep-3</strong> at: <a href='https://wandb.ai/sumanta_roy/CS6910_assignment_1/runs/tzbtcejs' target=\"_blank\">https://wandb.ai/sumanta_roy/CS6910_assignment_1/runs/tzbtcejs</a><br/>Synced 6 W&B file(s), 0 media file(s), 0 artifact file(s) and 0 other file(s)"
      ],
      "text/plain": [
       "<IPython.core.display.HTML object>"
      ]
     },
     "metadata": {},
     "output_type": "display_data"
    },
    {
     "data": {
      "text/html": [
       "Find logs at: <code>./wandb/run-20240317_091032-tzbtcejs/logs</code>"
      ],
      "text/plain": [
       "<IPython.core.display.HTML object>"
      ]
     },
     "metadata": {},
     "output_type": "display_data"
    },
    {
     "name": "stderr",
     "output_type": "stream",
     "text": [
      "\u001b[34m\u001b[1mwandb\u001b[0m: Agent Starting Run: zcztzzl7 with config:\n",
      "\u001b[34m\u001b[1mwandb\u001b[0m: \tactivation: relu\n",
      "\u001b[34m\u001b[1mwandb\u001b[0m: \tbatch_size: 16\n",
      "\u001b[34m\u001b[1mwandb\u001b[0m: \tepochs: 5\n",
      "\u001b[34m\u001b[1mwandb\u001b[0m: \thidden_layers: 3\n",
      "\u001b[34m\u001b[1mwandb\u001b[0m: \thidden_size: 32\n",
      "\u001b[34m\u001b[1mwandb\u001b[0m: \tloss: cross_entropy\n",
      "\u001b[34m\u001b[1mwandb\u001b[0m: \tlr: 0.001\n",
      "\u001b[34m\u001b[1mwandb\u001b[0m: \toptimizer: momentum\n",
      "\u001b[34m\u001b[1mwandb\u001b[0m: \tw_init: glorot\n",
      "\u001b[34m\u001b[1mwandb\u001b[0m: \tweight_decay: 0.0005\n"
     ]
    },
    {
     "data": {
      "text/html": [
       "Tracking run with wandb version 0.16.4"
      ],
      "text/plain": [
       "<IPython.core.display.HTML object>"
      ]
     },
     "metadata": {},
     "output_type": "display_data"
    },
    {
     "data": {
      "text/html": [
       "Run data is saved locally in <code>/Users/sumanta/Desktop/Numpy project/cross_entropy_lesspasses/wandb/run-20240317_091118-zcztzzl7</code>"
      ],
      "text/plain": [
       "<IPython.core.display.HTML object>"
      ]
     },
     "metadata": {},
     "output_type": "display_data"
    },
    {
     "data": {
      "text/html": [
       "Syncing run <strong><a href='https://wandb.ai/sumanta_roy/CS6910_assignment_1/runs/zcztzzl7' target=\"_blank\">likely-sweep-4</a></strong> to <a href='https://wandb.ai/sumanta_roy/CS6910_assignment_1' target=\"_blank\">Weights & Biases</a> (<a href='https://wandb.me/run' target=\"_blank\">docs</a>)<br/>Sweep page: <a href='https://wandb.ai/sumanta_roy/CS6910_assignment_1/sweeps/mefq3vzl' target=\"_blank\">https://wandb.ai/sumanta_roy/CS6910_assignment_1/sweeps/mefq3vzl</a>"
      ],
      "text/plain": [
       "<IPython.core.display.HTML object>"
      ]
     },
     "metadata": {},
     "output_type": "display_data"
    },
    {
     "data": {
      "text/html": [
       " View project at <a href='https://wandb.ai/sumanta_roy/CS6910_assignment_1' target=\"_blank\">https://wandb.ai/sumanta_roy/CS6910_assignment_1</a>"
      ],
      "text/plain": [
       "<IPython.core.display.HTML object>"
      ]
     },
     "metadata": {},
     "output_type": "display_data"
    },
    {
     "data": {
      "text/html": [
       " View sweep at <a href='https://wandb.ai/sumanta_roy/CS6910_assignment_1/sweeps/mefq3vzl' target=\"_blank\">https://wandb.ai/sumanta_roy/CS6910_assignment_1/sweeps/mefq3vzl</a>"
      ],
      "text/plain": [
       "<IPython.core.display.HTML object>"
      ]
     },
     "metadata": {},
     "output_type": "display_data"
    },
    {
     "data": {
      "text/html": [
       " View run at <a href='https://wandb.ai/sumanta_roy/CS6910_assignment_1/runs/zcztzzl7' target=\"_blank\">https://wandb.ai/sumanta_roy/CS6910_assignment_1/runs/zcztzzl7</a>"
      ],
      "text/plain": [
       "<IPython.core.display.HTML object>"
      ]
     },
     "metadata": {},
     "output_type": "display_data"
    },
    {
     "name": "stdout",
     "output_type": "stream",
     "text": [
      "Epoch: 1/5; Train Loss: 0.018837030382705643; Val Loss: 0.048989900908689224\n",
      "Epoch: 2/5; Train Loss: 0.017396271312645182; Val Loss: 0.04306471617999048\n",
      "Epoch: 3/5; Train Loss: 0.01801384251413177; Val Loss: 0.04018067192357952\n",
      "Epoch: 4/5; Train Loss: 0.01843357134255694; Val Loss: 0.038965952626571945\n",
      "Epoch: 5/5; Train Loss: 0.018213109047856734; Val Loss: 0.03786581134235171\n"
     ]
    },
    {
     "data": {
      "application/vnd.jupyter.widget-view+json": {
       "model_id": "0d5cca36c0094cd38596574d2b6a1ad9",
       "version_major": 2,
       "version_minor": 0
      },
      "text/plain": [
       "VBox(children=(Label(value='0.001 MB of 0.027 MB uploaded\\r'), FloatProgress(value=0.027700035880875492, max=1…"
      ]
     },
     "metadata": {},
     "output_type": "display_data"
    },
    {
     "data": {
      "text/html": [
       "<style>\n",
       "    table.wandb td:nth-child(1) { padding: 0 10px; text-align: left ; width: auto;} td:nth-child(2) {text-align: left ; width: 100%}\n",
       "    .wandb-row { display: flex; flex-direction: row; flex-wrap: wrap; justify-content: flex-start; width: 100% }\n",
       "    .wandb-col { display: flex; flex-direction: column; flex-basis: 100%; flex: 1; padding: 10px; }\n",
       "    </style>\n",
       "<div class=\"wandb-row\"><div class=\"wandb-col\"><h3>Run history:</h3><br/><table class=\"wandb\"><tr><td>epoch</td><td>▁▁▁▁▁▁▁▁▃▃▃▃▃▃▃▃▅▅▅▅▅▅▅▅▆▆▆▆▆▆▆▆████████</td></tr><tr><td>train_accuracy</td><td>▁▅▅▅▅▅▆▃▅▅▇▇▇▆▇▇▆▆▇▆▆▆█▅▅▆▇▇▅▇█▇▅▇▇████▇</td></tr><tr><td>train_loss</td><td>█▅▃▃▅▃▂▄▃▄▂▂▂▄▂▂▂▂▂▄▃▂▁▃▃▃▃▃▃▂▁▂▄▃▂▁▁▁▁▂</td></tr><tr><td>val_accuracy</td><td>▁▆▇▇▇▇▇▇▇▇█▇████████████████████████████</td></tr><tr><td>validation_loss</td><td>█▃▂▂▂▂▂▂▂▂▁▁▁▁▁▁▁▁▁▁▁▁▁▁▁▁▁▁▁▁▁▁▁▁▁▁▁▁▁▁</td></tr></table><br/></div><div class=\"wandb-col\"><h3>Run summary:</h3><br/><table class=\"wandb\"><tr><td>epoch</td><td>5</td></tr><tr><td>train_accuracy</td><td>93.75</td></tr><tr><td>train_loss</td><td>0.01821</td></tr><tr><td>val_accuracy</td><td>86.28333</td></tr><tr><td>validation_loss</td><td>0.03787</td></tr></table><br/></div></div>"
      ],
      "text/plain": [
       "<IPython.core.display.HTML object>"
      ]
     },
     "metadata": {},
     "output_type": "display_data"
    },
    {
     "data": {
      "text/html": [
       " View run <strong style=\"color:#cdcd00\">likely-sweep-4</strong> at: <a href='https://wandb.ai/sumanta_roy/CS6910_assignment_1/runs/zcztzzl7' target=\"_blank\">https://wandb.ai/sumanta_roy/CS6910_assignment_1/runs/zcztzzl7</a><br/>Synced 6 W&B file(s), 0 media file(s), 0 artifact file(s) and 0 other file(s)"
      ],
      "text/plain": [
       "<IPython.core.display.HTML object>"
      ]
     },
     "metadata": {},
     "output_type": "display_data"
    },
    {
     "data": {
      "text/html": [
       "Find logs at: <code>./wandb/run-20240317_091118-zcztzzl7/logs</code>"
      ],
      "text/plain": [
       "<IPython.core.display.HTML object>"
      ]
     },
     "metadata": {},
     "output_type": "display_data"
    },
    {
     "name": "stderr",
     "output_type": "stream",
     "text": [
      "\u001b[34m\u001b[1mwandb\u001b[0m: Agent Starting Run: 351cq5j9 with config:\n",
      "\u001b[34m\u001b[1mwandb\u001b[0m: \tactivation: tanh\n",
      "\u001b[34m\u001b[1mwandb\u001b[0m: \tbatch_size: 16\n",
      "\u001b[34m\u001b[1mwandb\u001b[0m: \tepochs: 5\n",
      "\u001b[34m\u001b[1mwandb\u001b[0m: \thidden_layers: 4\n",
      "\u001b[34m\u001b[1mwandb\u001b[0m: \thidden_size: 32\n",
      "\u001b[34m\u001b[1mwandb\u001b[0m: \tloss: cross_entropy\n",
      "\u001b[34m\u001b[1mwandb\u001b[0m: \tlr: 0.001\n",
      "\u001b[34m\u001b[1mwandb\u001b[0m: \toptimizer: rmsprop\n",
      "\u001b[34m\u001b[1mwandb\u001b[0m: \tw_init: glorot\n",
      "\u001b[34m\u001b[1mwandb\u001b[0m: \tweight_decay: 0.5\n"
     ]
    },
    {
     "data": {
      "text/html": [
       "Tracking run with wandb version 0.16.4"
      ],
      "text/plain": [
       "<IPython.core.display.HTML object>"
      ]
     },
     "metadata": {},
     "output_type": "display_data"
    },
    {
     "data": {
      "text/html": [
       "Run data is saved locally in <code>/Users/sumanta/Desktop/Numpy project/cross_entropy_lesspasses/wandb/run-20240317_091150-351cq5j9</code>"
      ],
      "text/plain": [
       "<IPython.core.display.HTML object>"
      ]
     },
     "metadata": {},
     "output_type": "display_data"
    },
    {
     "data": {
      "text/html": [
       "Syncing run <strong><a href='https://wandb.ai/sumanta_roy/CS6910_assignment_1/runs/351cq5j9' target=\"_blank\">zany-sweep-5</a></strong> to <a href='https://wandb.ai/sumanta_roy/CS6910_assignment_1' target=\"_blank\">Weights & Biases</a> (<a href='https://wandb.me/run' target=\"_blank\">docs</a>)<br/>Sweep page: <a href='https://wandb.ai/sumanta_roy/CS6910_assignment_1/sweeps/mefq3vzl' target=\"_blank\">https://wandb.ai/sumanta_roy/CS6910_assignment_1/sweeps/mefq3vzl</a>"
      ],
      "text/plain": [
       "<IPython.core.display.HTML object>"
      ]
     },
     "metadata": {},
     "output_type": "display_data"
    },
    {
     "data": {
      "text/html": [
       " View project at <a href='https://wandb.ai/sumanta_roy/CS6910_assignment_1' target=\"_blank\">https://wandb.ai/sumanta_roy/CS6910_assignment_1</a>"
      ],
      "text/plain": [
       "<IPython.core.display.HTML object>"
      ]
     },
     "metadata": {},
     "output_type": "display_data"
    },
    {
     "data": {
      "text/html": [
       " View sweep at <a href='https://wandb.ai/sumanta_roy/CS6910_assignment_1/sweeps/mefq3vzl' target=\"_blank\">https://wandb.ai/sumanta_roy/CS6910_assignment_1/sweeps/mefq3vzl</a>"
      ],
      "text/plain": [
       "<IPython.core.display.HTML object>"
      ]
     },
     "metadata": {},
     "output_type": "display_data"
    },
    {
     "data": {
      "text/html": [
       " View run at <a href='https://wandb.ai/sumanta_roy/CS6910_assignment_1/runs/351cq5j9' target=\"_blank\">https://wandb.ai/sumanta_roy/CS6910_assignment_1/runs/351cq5j9</a>"
      ],
      "text/plain": [
       "<IPython.core.display.HTML object>"
      ]
     },
     "metadata": {},
     "output_type": "display_data"
    },
    {
     "name": "stdout",
     "output_type": "stream",
     "text": [
      "Epoch: 1/5; Train Loss: 0.6329052077180402; Val Loss: 0.07233777682710897\n",
      "Epoch: 2/5; Train Loss: 0.6217644598003381; Val Loss: 0.07199934169420646\n",
      "Epoch: 3/5; Train Loss: 0.6199682227821005; Val Loss: 0.07189205249791167\n",
      "Epoch: 4/5; Train Loss: 0.6193041356949238; Val Loss: 0.07184592889106717\n",
      "Epoch: 5/5; Train Loss: 0.6190308733323584; Val Loss: 0.07182357307418093\n"
     ]
    },
    {
     "data": {
      "application/vnd.jupyter.widget-view+json": {
       "model_id": "ec1f408422bd4adca7f44e2ae00d2dbc",
       "version_major": 2,
       "version_minor": 0
      },
      "text/plain": [
       "VBox(children=(Label(value='0.001 MB of 0.001 MB uploaded\\r'), FloatProgress(value=1.0, max=1.0)))"
      ]
     },
     "metadata": {},
     "output_type": "display_data"
    },
    {
     "data": {
      "text/html": [
       "<style>\n",
       "    table.wandb td:nth-child(1) { padding: 0 10px; text-align: left ; width: auto;} td:nth-child(2) {text-align: left ; width: 100%}\n",
       "    .wandb-row { display: flex; flex-direction: row; flex-wrap: wrap; justify-content: flex-start; width: 100% }\n",
       "    .wandb-col { display: flex; flex-direction: column; flex-basis: 100%; flex: 1; padding: 10px; }\n",
       "    </style>\n",
       "<div class=\"wandb-row\"><div class=\"wandb-col\"><h3>Run history:</h3><br/><table class=\"wandb\"><tr><td>epoch</td><td>▁▁▁▁▁▁▁▁▃▃▃▃▃▃▃▃▅▅▅▅▅▅▅▅▆▆▆▆▆▆▆▆████████</td></tr><tr><td>train_accuracy</td><td>▁▄▅█▂▄▅▅▅▅▅▅▅▃▇▇▅▅▆▅▄▅▆▄▅▅▅▅▅▄▇▅▃▄▅▇▇▅▇▆</td></tr><tr><td>train_loss</td><td>█▃▂▂▂▁▁▁▁▁▁▁▁▁▁▁▁▁▁▁▁▁▁▁▁▁▁▁▁▁▁▁▁▁▁▁▁▁▁▁</td></tr><tr><td>val_accuracy</td><td>▁▆▇██▇▇█▇▆▄▇▇▇▇▆▇▇▇█▆▇▄█▇█▅▇▇▅▇▇▇▅▇▇▅▆█▆</td></tr><tr><td>validation_loss</td><td>█▃▂▂▂▁▂▁▂▁▃▂▂▂▂▂▁▁▂▁▂▂▄▁▁▁▃▁▁▂▁▁▁▂▂▁▃▂▁▂</td></tr></table><br/></div><div class=\"wandb-col\"><h3>Run summary:</h3><br/><table class=\"wandb\"><tr><td>epoch</td><td>5</td></tr><tr><td>train_accuracy</td><td>93.75</td></tr><tr><td>train_loss</td><td>0.61903</td></tr><tr><td>val_accuracy</td><td>75.83333</td></tr><tr><td>validation_loss</td><td>0.07182</td></tr></table><br/></div></div>"
      ],
      "text/plain": [
       "<IPython.core.display.HTML object>"
      ]
     },
     "metadata": {},
     "output_type": "display_data"
    },
    {
     "data": {
      "text/html": [
       " View run <strong style=\"color:#cdcd00\">zany-sweep-5</strong> at: <a href='https://wandb.ai/sumanta_roy/CS6910_assignment_1/runs/351cq5j9' target=\"_blank\">https://wandb.ai/sumanta_roy/CS6910_assignment_1/runs/351cq5j9</a><br/>Synced 6 W&B file(s), 0 media file(s), 0 artifact file(s) and 0 other file(s)"
      ],
      "text/plain": [
       "<IPython.core.display.HTML object>"
      ]
     },
     "metadata": {},
     "output_type": "display_data"
    },
    {
     "data": {
      "text/html": [
       "Find logs at: <code>./wandb/run-20240317_091150-351cq5j9/logs</code>"
      ],
      "text/plain": [
       "<IPython.core.display.HTML object>"
      ]
     },
     "metadata": {},
     "output_type": "display_data"
    },
    {
     "name": "stderr",
     "output_type": "stream",
     "text": [
      "\u001b[34m\u001b[1mwandb\u001b[0m: Sweep Agent: Waiting for job.\n",
      "\u001b[34m\u001b[1mwandb\u001b[0m: Job received.\n",
      "\u001b[34m\u001b[1mwandb\u001b[0m: Agent Starting Run: ja6ts73m with config:\n",
      "\u001b[34m\u001b[1mwandb\u001b[0m: \tactivation: sigmoid\n",
      "\u001b[34m\u001b[1mwandb\u001b[0m: \tbatch_size: 32\n",
      "\u001b[34m\u001b[1mwandb\u001b[0m: \tepochs: 10\n",
      "\u001b[34m\u001b[1mwandb\u001b[0m: \thidden_layers: 5\n",
      "\u001b[34m\u001b[1mwandb\u001b[0m: \thidden_size: 32\n",
      "\u001b[34m\u001b[1mwandb\u001b[0m: \tloss: cross_entropy\n",
      "\u001b[34m\u001b[1mwandb\u001b[0m: \tlr: 0.001\n",
      "\u001b[34m\u001b[1mwandb\u001b[0m: \toptimizer: nadam\n",
      "\u001b[34m\u001b[1mwandb\u001b[0m: \tw_init: random\n",
      "\u001b[34m\u001b[1mwandb\u001b[0m: \tweight_decay: 0\n"
     ]
    },
    {
     "data": {
      "text/html": [
       "Tracking run with wandb version 0.16.4"
      ],
      "text/plain": [
       "<IPython.core.display.HTML object>"
      ]
     },
     "metadata": {},
     "output_type": "display_data"
    },
    {
     "data": {
      "text/html": [
       "Run data is saved locally in <code>/Users/sumanta/Desktop/Numpy project/cross_entropy_lesspasses/wandb/run-20240317_091235-ja6ts73m</code>"
      ],
      "text/plain": [
       "<IPython.core.display.HTML object>"
      ]
     },
     "metadata": {},
     "output_type": "display_data"
    },
    {
     "data": {
      "text/html": [
       "Syncing run <strong><a href='https://wandb.ai/sumanta_roy/CS6910_assignment_1/runs/ja6ts73m' target=\"_blank\">atomic-sweep-6</a></strong> to <a href='https://wandb.ai/sumanta_roy/CS6910_assignment_1' target=\"_blank\">Weights & Biases</a> (<a href='https://wandb.me/run' target=\"_blank\">docs</a>)<br/>Sweep page: <a href='https://wandb.ai/sumanta_roy/CS6910_assignment_1/sweeps/mefq3vzl' target=\"_blank\">https://wandb.ai/sumanta_roy/CS6910_assignment_1/sweeps/mefq3vzl</a>"
      ],
      "text/plain": [
       "<IPython.core.display.HTML object>"
      ]
     },
     "metadata": {},
     "output_type": "display_data"
    },
    {
     "data": {
      "text/html": [
       " View project at <a href='https://wandb.ai/sumanta_roy/CS6910_assignment_1' target=\"_blank\">https://wandb.ai/sumanta_roy/CS6910_assignment_1</a>"
      ],
      "text/plain": [
       "<IPython.core.display.HTML object>"
      ]
     },
     "metadata": {},
     "output_type": "display_data"
    },
    {
     "data": {
      "text/html": [
       " View sweep at <a href='https://wandb.ai/sumanta_roy/CS6910_assignment_1/sweeps/mefq3vzl' target=\"_blank\">https://wandb.ai/sumanta_roy/CS6910_assignment_1/sweeps/mefq3vzl</a>"
      ],
      "text/plain": [
       "<IPython.core.display.HTML object>"
      ]
     },
     "metadata": {},
     "output_type": "display_data"
    },
    {
     "data": {
      "text/html": [
       " View run at <a href='https://wandb.ai/sumanta_roy/CS6910_assignment_1/runs/ja6ts73m' target=\"_blank\">https://wandb.ai/sumanta_roy/CS6910_assignment_1/runs/ja6ts73m</a>"
      ],
      "text/plain": [
       "<IPython.core.display.HTML object>"
      ]
     },
     "metadata": {},
     "output_type": "display_data"
    },
    {
     "name": "stdout",
     "output_type": "stream",
     "text": [
      "Epoch: 1/10; Train Loss: 0.21686316881268447; Val Loss: 0.21801981633404527\n",
      "Epoch: 2/10; Train Loss: 0.1772328417108246; Val Loss: 0.18048480877163295\n",
      "Epoch: 3/10; Train Loss: 0.14386936357842384; Val Loss: 0.1499656874330151\n",
      "Epoch: 4/10; Train Loss: 0.12551908630278075; Val Loss: 0.13293437689781293\n",
      "Epoch: 5/10; Train Loss: 0.11371119737150286; Val Loss: 0.12245150671277602\n",
      "Epoch: 6/10; Train Loss: 0.1035702514675052; Val Loss: 0.11401297491506147\n",
      "Epoch: 7/10; Train Loss: 0.09362499592735678; Val Loss: 0.10631453833582093\n",
      "Epoch: 8/10; Train Loss: 0.08484166242070508; Val Loss: 0.10018839023700396\n",
      "Epoch: 9/10; Train Loss: 0.077121489906777; Val Loss: 0.0952264322136333\n",
      "Epoch: 10/10; Train Loss: 0.06966984649491974; Val Loss: 0.0907503801344192\n"
     ]
    },
    {
     "data": {
      "application/vnd.jupyter.widget-view+json": {
       "model_id": "4710474e83bf4079bf414554313bee5e",
       "version_major": 2,
       "version_minor": 0
      },
      "text/plain": [
       "VBox(children=(Label(value='0.001 MB of 0.027 MB uploaded\\r'), FloatProgress(value=0.027304600347062363, max=1…"
      ]
     },
     "metadata": {},
     "output_type": "display_data"
    },
    {
     "data": {
      "text/html": [
       "<style>\n",
       "    table.wandb td:nth-child(1) { padding: 0 10px; text-align: left ; width: auto;} td:nth-child(2) {text-align: left ; width: 100%}\n",
       "    .wandb-row { display: flex; flex-direction: row; flex-wrap: wrap; justify-content: flex-start; width: 100% }\n",
       "    .wandb-col { display: flex; flex-direction: column; flex-basis: 100%; flex: 1; padding: 10px; }\n",
       "    </style>\n",
       "<div class=\"wandb-row\"><div class=\"wandb-col\"><h3>Run history:</h3><br/><table class=\"wandb\"><tr><td>epoch</td><td>▁▁▁▁▂▂▂▂▃▃▃▃▃▃▃▃▄▄▄▄▅▅▅▅▆▆▆▆▆▆▆▆▇▇▇▇████</td></tr><tr><td>train_accuracy</td><td>▁▂▄▄▅▄▃▅▃▅▄▄▇▄▅▆▆▆▆▆▅▅▆▅▅▆▇▆▇▆▇▆██▇▇▆▅▆█</td></tr><tr><td>train_loss</td><td>███▇▇▇▆▆▆▅▅▄▄▄▄▃▃▃▃▃▃▃▃▂▃▃▂▃▂▂▂▂▂▂▁▂▂▂▂▁</td></tr><tr><td>val_accuracy</td><td>▁▁▅▄▄▄▄▄▅▅▅▅▅▅▅▅▆▆▆▆▆▆▇▇▇▇▇▇▇▇██████████</td></tr><tr><td>validation_loss</td><td>████▇▇▆▆▅▅▅▄▄▄▃▃▃▃▃▃▃▂▂▂▂▂▂▂▂▂▂▁▁▁▁▁▁▁▁▁</td></tr></table><br/></div><div class=\"wandb-col\"><h3>Run summary:</h3><br/><table class=\"wandb\"><tr><td>epoch</td><td>10</td></tr><tr><td>train_accuracy</td><td>87.5</td></tr><tr><td>train_loss</td><td>0.06967</td></tr><tr><td>val_accuracy</td><td>64.48333</td></tr><tr><td>validation_loss</td><td>0.09075</td></tr></table><br/></div></div>"
      ],
      "text/plain": [
       "<IPython.core.display.HTML object>"
      ]
     },
     "metadata": {},
     "output_type": "display_data"
    },
    {
     "data": {
      "text/html": [
       " View run <strong style=\"color:#cdcd00\">atomic-sweep-6</strong> at: <a href='https://wandb.ai/sumanta_roy/CS6910_assignment_1/runs/ja6ts73m' target=\"_blank\">https://wandb.ai/sumanta_roy/CS6910_assignment_1/runs/ja6ts73m</a><br/>Synced 6 W&B file(s), 0 media file(s), 0 artifact file(s) and 0 other file(s)"
      ],
      "text/plain": [
       "<IPython.core.display.HTML object>"
      ]
     },
     "metadata": {},
     "output_type": "display_data"
    },
    {
     "data": {
      "text/html": [
       "Find logs at: <code>./wandb/run-20240317_091235-ja6ts73m/logs</code>"
      ],
      "text/plain": [
       "<IPython.core.display.HTML object>"
      ]
     },
     "metadata": {},
     "output_type": "display_data"
    },
    {
     "name": "stderr",
     "output_type": "stream",
     "text": [
      "\u001b[34m\u001b[1mwandb\u001b[0m: Agent Starting Run: 4ojncco5 with config:\n",
      "\u001b[34m\u001b[1mwandb\u001b[0m: \tactivation: sigmoid\n",
      "\u001b[34m\u001b[1mwandb\u001b[0m: \tbatch_size: 32\n",
      "\u001b[34m\u001b[1mwandb\u001b[0m: \tepochs: 10\n",
      "\u001b[34m\u001b[1mwandb\u001b[0m: \thidden_layers: 5\n",
      "\u001b[34m\u001b[1mwandb\u001b[0m: \thidden_size: 64\n",
      "\u001b[34m\u001b[1mwandb\u001b[0m: \tloss: cross_entropy\n",
      "\u001b[34m\u001b[1mwandb\u001b[0m: \tlr: 0.001\n",
      "\u001b[34m\u001b[1mwandb\u001b[0m: \toptimizer: sgd\n",
      "\u001b[34m\u001b[1mwandb\u001b[0m: \tw_init: glorot\n",
      "\u001b[34m\u001b[1mwandb\u001b[0m: \tweight_decay: 0.5\n"
     ]
    },
    {
     "data": {
      "text/html": [
       "Tracking run with wandb version 0.16.4"
      ],
      "text/plain": [
       "<IPython.core.display.HTML object>"
      ]
     },
     "metadata": {},
     "output_type": "display_data"
    },
    {
     "data": {
      "text/html": [
       "Run data is saved locally in <code>/Users/sumanta/Desktop/Numpy project/cross_entropy_lesspasses/wandb/run-20240317_091329-4ojncco5</code>"
      ],
      "text/plain": [
       "<IPython.core.display.HTML object>"
      ]
     },
     "metadata": {},
     "output_type": "display_data"
    },
    {
     "data": {
      "text/html": [
       "Syncing run <strong><a href='https://wandb.ai/sumanta_roy/CS6910_assignment_1/runs/4ojncco5' target=\"_blank\">decent-sweep-7</a></strong> to <a href='https://wandb.ai/sumanta_roy/CS6910_assignment_1' target=\"_blank\">Weights & Biases</a> (<a href='https://wandb.me/run' target=\"_blank\">docs</a>)<br/>Sweep page: <a href='https://wandb.ai/sumanta_roy/CS6910_assignment_1/sweeps/mefq3vzl' target=\"_blank\">https://wandb.ai/sumanta_roy/CS6910_assignment_1/sweeps/mefq3vzl</a>"
      ],
      "text/plain": [
       "<IPython.core.display.HTML object>"
      ]
     },
     "metadata": {},
     "output_type": "display_data"
    },
    {
     "data": {
      "text/html": [
       " View project at <a href='https://wandb.ai/sumanta_roy/CS6910_assignment_1' target=\"_blank\">https://wandb.ai/sumanta_roy/CS6910_assignment_1</a>"
      ],
      "text/plain": [
       "<IPython.core.display.HTML object>"
      ]
     },
     "metadata": {},
     "output_type": "display_data"
    },
    {
     "data": {
      "text/html": [
       " View sweep at <a href='https://wandb.ai/sumanta_roy/CS6910_assignment_1/sweeps/mefq3vzl' target=\"_blank\">https://wandb.ai/sumanta_roy/CS6910_assignment_1/sweeps/mefq3vzl</a>"
      ],
      "text/plain": [
       "<IPython.core.display.HTML object>"
      ]
     },
     "metadata": {},
     "output_type": "display_data"
    },
    {
     "data": {
      "text/html": [
       " View run at <a href='https://wandb.ai/sumanta_roy/CS6910_assignment_1/runs/4ojncco5' target=\"_blank\">https://wandb.ai/sumanta_roy/CS6910_assignment_1/runs/4ojncco5</a>"
      ],
      "text/plain": [
       "<IPython.core.display.HTML object>"
      ]
     },
     "metadata": {},
     "output_type": "display_data"
    },
    {
     "name": "stdout",
     "output_type": "stream",
     "text": [
      "Epoch: 1/10; Train Loss: 3.1396849841979613; Val Loss: 0.24584029119442272\n",
      "Epoch: 2/10; Train Loss: 2.991269719653976; Val Loss: 0.24499946886153018\n",
      "Epoch: 3/10; Train Loss: 2.8495241196356114; Val Loss: 0.24424457280080716\n",
      "Epoch: 4/10; Train Loss: 2.7150167804495506; Val Loss: 0.2435283090296716\n",
      "Epoch: 5/10; Train Loss: 2.587413510633478; Val Loss: 0.2428487967002647\n",
      "Epoch: 6/10; Train Loss: 2.4663613536333475; Val Loss: 0.24220413497841387\n",
      "Epoch: 7/10; Train Loss: 2.3515240926067147; Val Loss: 0.24159253060673713\n",
      "Epoch: 8/10; Train Loss: 2.2425827192973076; Val Loss: 0.24101228552199547\n",
      "Epoch: 9/10; Train Loss: 2.13923459985709; Val Loss: 0.24046179045340177\n",
      "Epoch: 10/10; Train Loss: 2.041192633993546; Val Loss: 0.23993951979816408\n"
     ]
    },
    {
     "data": {
      "application/vnd.jupyter.widget-view+json": {
       "model_id": "ab0fa37f5de242219c2fe86f372824d4",
       "version_major": 2,
       "version_minor": 0
      },
      "text/plain": [
       "VBox(children=(Label(value='0.001 MB of 0.001 MB uploaded\\r'), FloatProgress(value=1.0, max=1.0)))"
      ]
     },
     "metadata": {},
     "output_type": "display_data"
    },
    {
     "data": {
      "text/html": [
       "<style>\n",
       "    table.wandb td:nth-child(1) { padding: 0 10px; text-align: left ; width: auto;} td:nth-child(2) {text-align: left ; width: 100%}\n",
       "    .wandb-row { display: flex; flex-direction: row; flex-wrap: wrap; justify-content: flex-start; width: 100% }\n",
       "    .wandb-col { display: flex; flex-direction: column; flex-basis: 100%; flex: 1; padding: 10px; }\n",
       "    </style>\n",
       "<div class=\"wandb-row\"><div class=\"wandb-col\"><h3>Run history:</h3><br/><table class=\"wandb\"><tr><td>epoch</td><td>▁▁▁▁▂▂▂▂▃▃▃▃▃▃▃▃▄▄▄▄▅▅▅▅▆▆▆▆▆▆▆▆▇▇▇▇████</td></tr><tr><td>train_accuracy</td><td>▄▂▅▄▄▇▄▃▃▄▅▄▅▁▅▂▇▂▄▅▅▄▃▄▄▇▅▃▅█▅▆▅▃▄▃▄▃▃▃</td></tr><tr><td>train_loss</td><td>███▇▇▇▇▇▆▆▆▆▅▅▅▅▅▅▄▄▄▄▄▃▃▃▃▃▃▂▂▂▂▂▂▂▁▁▁▁</td></tr><tr><td>val_accuracy</td><td>▆▆▆▆▆▆▆▆▁█▆▆▁██▆▁▆▆▆▁▆▆▆▁▆█▆▁▆▆▆▆▆█▆▁█▆▆</td></tr><tr><td>validation_loss</td><td>█▅▄▃▃▃▃▃▃▃▃▃▃▃▃▂▂▂▂▂▂▂▂▂▂▂▂▂▂▂▁▁▁▁▁▁▁▁▁▁</td></tr></table><br/></div><div class=\"wandb-col\"><h3>Run summary:</h3><br/><table class=\"wandb\"><tr><td>epoch</td><td>10</td></tr><tr><td>train_accuracy</td><td>18.75</td></tr><tr><td>train_loss</td><td>2.04119</td></tr><tr><td>val_accuracy</td><td>9.98333</td></tr><tr><td>validation_loss</td><td>0.23994</td></tr></table><br/></div></div>"
      ],
      "text/plain": [
       "<IPython.core.display.HTML object>"
      ]
     },
     "metadata": {},
     "output_type": "display_data"
    },
    {
     "data": {
      "text/html": [
       " View run <strong style=\"color:#cdcd00\">decent-sweep-7</strong> at: <a href='https://wandb.ai/sumanta_roy/CS6910_assignment_1/runs/4ojncco5' target=\"_blank\">https://wandb.ai/sumanta_roy/CS6910_assignment_1/runs/4ojncco5</a><br/>Synced 6 W&B file(s), 0 media file(s), 0 artifact file(s) and 0 other file(s)"
      ],
      "text/plain": [
       "<IPython.core.display.HTML object>"
      ]
     },
     "metadata": {},
     "output_type": "display_data"
    },
    {
     "data": {
      "text/html": [
       "Find logs at: <code>./wandb/run-20240317_091329-4ojncco5/logs</code>"
      ],
      "text/plain": [
       "<IPython.core.display.HTML object>"
      ]
     },
     "metadata": {},
     "output_type": "display_data"
    },
    {
     "name": "stderr",
     "output_type": "stream",
     "text": [
      "\u001b[34m\u001b[1mwandb\u001b[0m: Agent Starting Run: rkuqkjau with config:\n",
      "\u001b[34m\u001b[1mwandb\u001b[0m: \tactivation: sigmoid\n",
      "\u001b[34m\u001b[1mwandb\u001b[0m: \tbatch_size: 64\n",
      "\u001b[34m\u001b[1mwandb\u001b[0m: \tepochs: 10\n",
      "\u001b[34m\u001b[1mwandb\u001b[0m: \thidden_layers: 4\n",
      "\u001b[34m\u001b[1mwandb\u001b[0m: \thidden_size: 128\n",
      "\u001b[34m\u001b[1mwandb\u001b[0m: \tloss: cross_entropy\n",
      "\u001b[34m\u001b[1mwandb\u001b[0m: \tlr: 0.001\n",
      "\u001b[34m\u001b[1mwandb\u001b[0m: \toptimizer: nesterov\n",
      "\u001b[34m\u001b[1mwandb\u001b[0m: \tw_init: random\n",
      "\u001b[34m\u001b[1mwandb\u001b[0m: \tweight_decay: 0.5\n"
     ]
    },
    {
     "data": {
      "text/html": [
       "Tracking run with wandb version 0.16.4"
      ],
      "text/plain": [
       "<IPython.core.display.HTML object>"
      ]
     },
     "metadata": {},
     "output_type": "display_data"
    },
    {
     "data": {
      "text/html": [
       "Run data is saved locally in <code>/Users/sumanta/Desktop/Numpy project/cross_entropy_lesspasses/wandb/run-20240317_091437-rkuqkjau</code>"
      ],
      "text/plain": [
       "<IPython.core.display.HTML object>"
      ]
     },
     "metadata": {},
     "output_type": "display_data"
    },
    {
     "data": {
      "text/html": [
       "Syncing run <strong><a href='https://wandb.ai/sumanta_roy/CS6910_assignment_1/runs/rkuqkjau' target=\"_blank\">atomic-sweep-8</a></strong> to <a href='https://wandb.ai/sumanta_roy/CS6910_assignment_1' target=\"_blank\">Weights & Biases</a> (<a href='https://wandb.me/run' target=\"_blank\">docs</a>)<br/>Sweep page: <a href='https://wandb.ai/sumanta_roy/CS6910_assignment_1/sweeps/mefq3vzl' target=\"_blank\">https://wandb.ai/sumanta_roy/CS6910_assignment_1/sweeps/mefq3vzl</a>"
      ],
      "text/plain": [
       "<IPython.core.display.HTML object>"
      ]
     },
     "metadata": {},
     "output_type": "display_data"
    },
    {
     "data": {
      "text/html": [
       " View project at <a href='https://wandb.ai/sumanta_roy/CS6910_assignment_1' target=\"_blank\">https://wandb.ai/sumanta_roy/CS6910_assignment_1</a>"
      ],
      "text/plain": [
       "<IPython.core.display.HTML object>"
      ]
     },
     "metadata": {},
     "output_type": "display_data"
    },
    {
     "data": {
      "text/html": [
       " View sweep at <a href='https://wandb.ai/sumanta_roy/CS6910_assignment_1/sweeps/mefq3vzl' target=\"_blank\">https://wandb.ai/sumanta_roy/CS6910_assignment_1/sweeps/mefq3vzl</a>"
      ],
      "text/plain": [
       "<IPython.core.display.HTML object>"
      ]
     },
     "metadata": {},
     "output_type": "display_data"
    },
    {
     "data": {
      "text/html": [
       " View run at <a href='https://wandb.ai/sumanta_roy/CS6910_assignment_1/runs/rkuqkjau' target=\"_blank\">https://wandb.ai/sumanta_roy/CS6910_assignment_1/runs/rkuqkjau</a>"
      ],
      "text/plain": [
       "<IPython.core.display.HTML object>"
      ]
     },
     "metadata": {},
     "output_type": "display_data"
    },
    {
     "name": "stdout",
     "output_type": "stream",
     "text": [
      "Epoch: 1/10; Train Loss: 43.258870450627484; Val Loss: 0.6475387923741377\n",
      "Epoch: 2/10; Train Loss: 37.99060943340119; Val Loss: 0.5572648105883926\n",
      "Epoch: 3/10; Train Loss: 33.39802336209459; Val Loss: 0.48810423794616886\n",
      "Epoch: 4/10; Train Loss: 29.3838070855072; Val Loss: 0.432187977417082\n",
      "Epoch: 5/10; Train Loss: 25.86954655940806; Val Loss: 0.386365087560228\n",
      "Epoch: 6/10; Train Loss: 22.790363608319304; Val Loss: 0.3482531738993649\n",
      "Epoch: 7/10; Train Loss: 20.091636380325333; Val Loss: 0.3160658644726823\n",
      "Epoch: 8/10; Train Loss: 17.726326480546987; Val Loss: 0.28853511683086375\n",
      "Epoch: 9/10; Train Loss: 15.653334200689907; Val Loss: 0.2647891613893204\n",
      "Epoch: 10/10; Train Loss: 13.836557968784037; Val Loss: 0.2441974888254928\n"
     ]
    },
    {
     "data": {
      "application/vnd.jupyter.widget-view+json": {
       "model_id": "349b2cb9b67f41f781bb149e1821bb3a",
       "version_major": 2,
       "version_minor": 0
      },
      "text/plain": [
       "VBox(children=(Label(value='0.001 MB of 0.001 MB uploaded\\r'), FloatProgress(value=1.0, max=1.0)))"
      ]
     },
     "metadata": {},
     "output_type": "display_data"
    },
    {
     "data": {
      "text/html": [
       "<style>\n",
       "    table.wandb td:nth-child(1) { padding: 0 10px; text-align: left ; width: auto;} td:nth-child(2) {text-align: left ; width: 100%}\n",
       "    .wandb-row { display: flex; flex-direction: row; flex-wrap: wrap; justify-content: flex-start; width: 100% }\n",
       "    .wandb-col { display: flex; flex-direction: column; flex-basis: 100%; flex: 1; padding: 10px; }\n",
       "    </style>\n",
       "<div class=\"wandb-row\"><div class=\"wandb-col\"><h3>Run history:</h3><br/><table class=\"wandb\"><tr><td>epoch</td><td>▁▁▁▁▂▂▂▂▃▃▃▃▃▃▃▃▄▄▄▄▅▅▅▅▆▆▆▆▆▆▆▆▇▇▇▇████</td></tr><tr><td>train_accuracy</td><td>▁▁▄▅▅▆▆▆▆▆▇▇█▆▆▇▆▆▇▇▇▅▇▆▆▆█▇█▇▇▆▆▇▆█▇█▆▆</td></tr><tr><td>train_loss</td><td>██▇▇▇▇▆▆▆▆▅▅▅▅▄▄▄▄▄▃▃▃▃▃▃▃▂▂▂▂▂▂▂▂▁▁▁▁▁▁</td></tr><tr><td>val_accuracy</td><td>▁▂▄▅▆▆▇▇▇▇██████████████████████████████</td></tr><tr><td>validation_loss</td><td>██▇▇▇▆▆▆▅▅▅▅▄▄▄▄▃▃▃▃▃▃▃▃▂▂▂▂▂▂▂▂▂▁▁▁▁▁▁▁</td></tr></table><br/></div><div class=\"wandb-col\"><h3>Run summary:</h3><br/><table class=\"wandb\"><tr><td>epoch</td><td>10</td></tr><tr><td>train_accuracy</td><td>68.75</td></tr><tr><td>train_loss</td><td>13.83656</td></tr><tr><td>val_accuracy</td><td>68.81667</td></tr><tr><td>validation_loss</td><td>0.2442</td></tr></table><br/></div></div>"
      ],
      "text/plain": [
       "<IPython.core.display.HTML object>"
      ]
     },
     "metadata": {},
     "output_type": "display_data"
    },
    {
     "data": {
      "text/html": [
       " View run <strong style=\"color:#cdcd00\">atomic-sweep-8</strong> at: <a href='https://wandb.ai/sumanta_roy/CS6910_assignment_1/runs/rkuqkjau' target=\"_blank\">https://wandb.ai/sumanta_roy/CS6910_assignment_1/runs/rkuqkjau</a><br/>Synced 6 W&B file(s), 0 media file(s), 0 artifact file(s) and 0 other file(s)"
      ],
      "text/plain": [
       "<IPython.core.display.HTML object>"
      ]
     },
     "metadata": {},
     "output_type": "display_data"
    },
    {
     "data": {
      "text/html": [
       "Find logs at: <code>./wandb/run-20240317_091437-rkuqkjau/logs</code>"
      ],
      "text/plain": [
       "<IPython.core.display.HTML object>"
      ]
     },
     "metadata": {},
     "output_type": "display_data"
    },
    {
     "name": "stderr",
     "output_type": "stream",
     "text": [
      "\u001b[34m\u001b[1mwandb\u001b[0m: Agent Starting Run: 24vh0brs with config:\n",
      "\u001b[34m\u001b[1mwandb\u001b[0m: \tactivation: relu\n",
      "\u001b[34m\u001b[1mwandb\u001b[0m: \tbatch_size: 64\n",
      "\u001b[34m\u001b[1mwandb\u001b[0m: \tepochs: 5\n",
      "\u001b[34m\u001b[1mwandb\u001b[0m: \thidden_layers: 5\n",
      "\u001b[34m\u001b[1mwandb\u001b[0m: \thidden_size: 32\n",
      "\u001b[34m\u001b[1mwandb\u001b[0m: \tloss: cross_entropy\n",
      "\u001b[34m\u001b[1mwandb\u001b[0m: \tlr: 0.0001\n",
      "\u001b[34m\u001b[1mwandb\u001b[0m: \toptimizer: nadam\n",
      "\u001b[34m\u001b[1mwandb\u001b[0m: \tw_init: glorot\n",
      "\u001b[34m\u001b[1mwandb\u001b[0m: \tweight_decay: 0.0005\n"
     ]
    },
    {
     "data": {
      "text/html": [
       "Tracking run with wandb version 0.16.4"
      ],
      "text/plain": [
       "<IPython.core.display.HTML object>"
      ]
     },
     "metadata": {},
     "output_type": "display_data"
    },
    {
     "data": {
      "text/html": [
       "Run data is saved locally in <code>/Users/sumanta/Desktop/Numpy project/cross_entropy_lesspasses/wandb/run-20240317_091706-24vh0brs</code>"
      ],
      "text/plain": [
       "<IPython.core.display.HTML object>"
      ]
     },
     "metadata": {},
     "output_type": "display_data"
    },
    {
     "data": {
      "text/html": [
       "Syncing run <strong><a href='https://wandb.ai/sumanta_roy/CS6910_assignment_1/runs/24vh0brs' target=\"_blank\">worldly-sweep-9</a></strong> to <a href='https://wandb.ai/sumanta_roy/CS6910_assignment_1' target=\"_blank\">Weights & Biases</a> (<a href='https://wandb.me/run' target=\"_blank\">docs</a>)<br/>Sweep page: <a href='https://wandb.ai/sumanta_roy/CS6910_assignment_1/sweeps/mefq3vzl' target=\"_blank\">https://wandb.ai/sumanta_roy/CS6910_assignment_1/sweeps/mefq3vzl</a>"
      ],
      "text/plain": [
       "<IPython.core.display.HTML object>"
      ]
     },
     "metadata": {},
     "output_type": "display_data"
    },
    {
     "data": {
      "text/html": [
       " View project at <a href='https://wandb.ai/sumanta_roy/CS6910_assignment_1' target=\"_blank\">https://wandb.ai/sumanta_roy/CS6910_assignment_1</a>"
      ],
      "text/plain": [
       "<IPython.core.display.HTML object>"
      ]
     },
     "metadata": {},
     "output_type": "display_data"
    },
    {
     "data": {
      "text/html": [
       " View sweep at <a href='https://wandb.ai/sumanta_roy/CS6910_assignment_1/sweeps/mefq3vzl' target=\"_blank\">https://wandb.ai/sumanta_roy/CS6910_assignment_1/sweeps/mefq3vzl</a>"
      ],
      "text/plain": [
       "<IPython.core.display.HTML object>"
      ]
     },
     "metadata": {},
     "output_type": "display_data"
    },
    {
     "data": {
      "text/html": [
       " View run at <a href='https://wandb.ai/sumanta_roy/CS6910_assignment_1/runs/24vh0brs' target=\"_blank\">https://wandb.ai/sumanta_roy/CS6910_assignment_1/runs/24vh0brs</a>"
      ],
      "text/plain": [
       "<IPython.core.display.HTML object>"
      ]
     },
     "metadata": {},
     "output_type": "display_data"
    },
    {
     "name": "stdout",
     "output_type": "stream",
     "text": [
      "Epoch: 1/5; Train Loss: 0.19404339944339946; Val Loss: 0.19239567400581276\n",
      "Epoch: 2/5; Train Loss: 0.16895681957297762; Val Loss: 0.16812729663920636\n",
      "Epoch: 3/5; Train Loss: 0.1489313689446035; Val Loss: 0.14868993302488231\n",
      "Epoch: 4/5; Train Loss: 0.13322960788239; Val Loss: 0.13337318499791662\n",
      "Epoch: 5/5; Train Loss: 0.12040145173419921; Val Loss: 0.12108779174003724\n"
     ]
    },
    {
     "data": {
      "application/vnd.jupyter.widget-view+json": {
       "model_id": "227c6fbb634c49439cb7bd2ff334312f",
       "version_major": 2,
       "version_minor": 0
      },
      "text/plain": [
       "VBox(children=(Label(value='0.001 MB of 0.001 MB uploaded\\r'), FloatProgress(value=1.0, max=1.0)))"
      ]
     },
     "metadata": {},
     "output_type": "display_data"
    },
    {
     "data": {
      "text/html": [
       "<style>\n",
       "    table.wandb td:nth-child(1) { padding: 0 10px; text-align: left ; width: auto;} td:nth-child(2) {text-align: left ; width: 100%}\n",
       "    .wandb-row { display: flex; flex-direction: row; flex-wrap: wrap; justify-content: flex-start; width: 100% }\n",
       "    .wandb-col { display: flex; flex-direction: column; flex-basis: 100%; flex: 1; padding: 10px; }\n",
       "    </style>\n",
       "<div class=\"wandb-row\"><div class=\"wandb-col\"><h3>Run history:</h3><br/><table class=\"wandb\"><tr><td>epoch</td><td>▁▁▁▁▁▁▁▁▃▃▃▃▃▃▃▃▅▅▅▅▅▅▅▅▆▆▆▆▆▆▆▆████████</td></tr><tr><td>train_accuracy</td><td>▁▁▂▃▂▃▃▃▃▂▃▄▄▄▄▅▄▅▄▆▆▇▇▇▆▆▇▆▆▆▆▆▆█▇█▇▇▆▇</td></tr><tr><td>train_loss</td><td>██▇▇▇▆▆▆▆▆▆▄▄▅▄▄▅▄▄▃▄▂▃▂▃▂▂▃▃▃▂▂▂▁▂▁▂▁▁▁</td></tr><tr><td>val_accuracy</td><td>▁▂▃▃▃▄▄▄▄▄▄▄▄▅▅▅▆▆▆▇▇▇▇▇▇▇▇▇▇███████████</td></tr><tr><td>validation_loss</td><td>██▇▇▇▆▆▆▆▅▅▅▅▅▄▄▄▄▄▃▃▃▃▃▃▃▂▂▂▂▂▂▂▂▂▁▁▁▁▁</td></tr></table><br/></div><div class=\"wandb-col\"><h3>Run summary:</h3><br/><table class=\"wandb\"><tr><td>epoch</td><td>5</td></tr><tr><td>train_accuracy</td><td>64.0625</td></tr><tr><td>train_loss</td><td>0.1204</td></tr><tr><td>val_accuracy</td><td>60.11667</td></tr><tr><td>validation_loss</td><td>0.12109</td></tr></table><br/></div></div>"
      ],
      "text/plain": [
       "<IPython.core.display.HTML object>"
      ]
     },
     "metadata": {},
     "output_type": "display_data"
    },
    {
     "data": {
      "text/html": [
       " View run <strong style=\"color:#cdcd00\">worldly-sweep-9</strong> at: <a href='https://wandb.ai/sumanta_roy/CS6910_assignment_1/runs/24vh0brs' target=\"_blank\">https://wandb.ai/sumanta_roy/CS6910_assignment_1/runs/24vh0brs</a><br/>Synced 6 W&B file(s), 0 media file(s), 0 artifact file(s) and 0 other file(s)"
      ],
      "text/plain": [
       "<IPython.core.display.HTML object>"
      ]
     },
     "metadata": {},
     "output_type": "display_data"
    },
    {
     "data": {
      "text/html": [
       "Find logs at: <code>./wandb/run-20240317_091706-24vh0brs/logs</code>"
      ],
      "text/plain": [
       "<IPython.core.display.HTML object>"
      ]
     },
     "metadata": {},
     "output_type": "display_data"
    },
    {
     "name": "stderr",
     "output_type": "stream",
     "text": [
      "\u001b[34m\u001b[1mwandb\u001b[0m: Agent Starting Run: jv5zn9aj with config:\n",
      "\u001b[34m\u001b[1mwandb\u001b[0m: \tactivation: sigmoid\n",
      "\u001b[34m\u001b[1mwandb\u001b[0m: \tbatch_size: 32\n",
      "\u001b[34m\u001b[1mwandb\u001b[0m: \tepochs: 10\n",
      "\u001b[34m\u001b[1mwandb\u001b[0m: \thidden_layers: 3\n",
      "\u001b[34m\u001b[1mwandb\u001b[0m: \thidden_size: 128\n",
      "\u001b[34m\u001b[1mwandb\u001b[0m: \tloss: cross_entropy\n",
      "\u001b[34m\u001b[1mwandb\u001b[0m: \tlr: 0.0001\n",
      "\u001b[34m\u001b[1mwandb\u001b[0m: \toptimizer: sgd\n",
      "\u001b[34m\u001b[1mwandb\u001b[0m: \tw_init: random\n",
      "\u001b[34m\u001b[1mwandb\u001b[0m: \tweight_decay: 0.5\n"
     ]
    },
    {
     "data": {
      "text/html": [
       "Tracking run with wandb version 0.16.4"
      ],
      "text/plain": [
       "<IPython.core.display.HTML object>"
      ]
     },
     "metadata": {},
     "output_type": "display_data"
    },
    {
     "data": {
      "text/html": [
       "Run data is saved locally in <code>/Users/sumanta/Desktop/Numpy project/cross_entropy_lesspasses/wandb/run-20240317_091738-jv5zn9aj</code>"
      ],
      "text/plain": [
       "<IPython.core.display.HTML object>"
      ]
     },
     "metadata": {},
     "output_type": "display_data"
    },
    {
     "data": {
      "text/html": [
       "Syncing run <strong><a href='https://wandb.ai/sumanta_roy/CS6910_assignment_1/runs/jv5zn9aj' target=\"_blank\">genial-sweep-10</a></strong> to <a href='https://wandb.ai/sumanta_roy/CS6910_assignment_1' target=\"_blank\">Weights & Biases</a> (<a href='https://wandb.me/run' target=\"_blank\">docs</a>)<br/>Sweep page: <a href='https://wandb.ai/sumanta_roy/CS6910_assignment_1/sweeps/mefq3vzl' target=\"_blank\">https://wandb.ai/sumanta_roy/CS6910_assignment_1/sweeps/mefq3vzl</a>"
      ],
      "text/plain": [
       "<IPython.core.display.HTML object>"
      ]
     },
     "metadata": {},
     "output_type": "display_data"
    },
    {
     "data": {
      "text/html": [
       " View project at <a href='https://wandb.ai/sumanta_roy/CS6910_assignment_1' target=\"_blank\">https://wandb.ai/sumanta_roy/CS6910_assignment_1</a>"
      ],
      "text/plain": [
       "<IPython.core.display.HTML object>"
      ]
     },
     "metadata": {},
     "output_type": "display_data"
    },
    {
     "data": {
      "text/html": [
       " View sweep at <a href='https://wandb.ai/sumanta_roy/CS6910_assignment_1/sweeps/mefq3vzl' target=\"_blank\">https://wandb.ai/sumanta_roy/CS6910_assignment_1/sweeps/mefq3vzl</a>"
      ],
      "text/plain": [
       "<IPython.core.display.HTML object>"
      ]
     },
     "metadata": {},
     "output_type": "display_data"
    },
    {
     "data": {
      "text/html": [
       " View run at <a href='https://wandb.ai/sumanta_roy/CS6910_assignment_1/runs/jv5zn9aj' target=\"_blank\">https://wandb.ai/sumanta_roy/CS6910_assignment_1/runs/jv5zn9aj</a>"
      ],
      "text/plain": [
       "<IPython.core.display.HTML object>"
      ]
     },
     "metadata": {},
     "output_type": "display_data"
    },
    {
     "name": "stdout",
     "output_type": "stream",
     "text": [
      "Epoch: 1/10; Train Loss: 87.1224755848535; Val Loss: 0.7426329616340888\n",
      "Epoch: 2/10; Train Loss: 86.64335935590745; Val Loss: 0.7130461138772684\n",
      "Epoch: 3/10; Train Loss: 86.1804413085541; Val Loss: 0.7003316088716415\n",
      "Epoch: 4/10; Train Loss: 85.72401792537973; Val Loss: 0.6932170161742143\n",
      "Epoch: 5/10; Train Loss: 85.27073553427624; Val Loss: 0.6875131741357738\n",
      "Epoch: 6/10; Train Loss: 84.8200564317683; Val Loss: 0.6822114824980223\n",
      "Epoch: 7/10; Train Loss: 84.371971994797; Val Loss: 0.6770989820429127\n",
      "Epoch: 8/10; Train Loss: 83.92649673399737; Val Loss: 0.672121245913826\n",
      "Epoch: 9/10; Train Loss: 83.48362142824517; Val Loss: 0.6672569443124181\n",
      "Epoch: 10/10; Train Loss: 83.04332383705211; Val Loss: 0.6624935487720183\n"
     ]
    },
    {
     "data": {
      "application/vnd.jupyter.widget-view+json": {
       "model_id": "c82af10d96324b5a947420d2715e2259",
       "version_major": 2,
       "version_minor": 0
      },
      "text/plain": [
       "VBox(children=(Label(value='0.001 MB of 0.027 MB uploaded\\r'), FloatProgress(value=0.027377828214767006, max=1…"
      ]
     },
     "metadata": {},
     "output_type": "display_data"
    },
    {
     "data": {
      "text/html": [
       "<style>\n",
       "    table.wandb td:nth-child(1) { padding: 0 10px; text-align: left ; width: auto;} td:nth-child(2) {text-align: left ; width: 100%}\n",
       "    .wandb-row { display: flex; flex-direction: row; flex-wrap: wrap; justify-content: flex-start; width: 100% }\n",
       "    .wandb-col { display: flex; flex-direction: column; flex-basis: 100%; flex: 1; padding: 10px; }\n",
       "    </style>\n",
       "<div class=\"wandb-row\"><div class=\"wandb-col\"><h3>Run history:</h3><br/><table class=\"wandb\"><tr><td>epoch</td><td>▁▁▁▁▂▂▂▂▃▃▃▃▃▃▃▃▄▄▄▄▅▅▅▅▆▆▆▆▆▆▆▆▇▇▇▇████</td></tr><tr><td>train_accuracy</td><td>▄▄▄▅▄▂▃▂▃▄▂▃▄▃▁▂▂▄▃▅▁▃▄▅▅▅█▅▅▆▅█▅▅▅▅▅▆▇▇</td></tr><tr><td>train_loss</td><td>███▇▇▇▇▇▆▆▆▆▆▆▅▅▅▅▅▄▄▄▄▄▄▃▃▃▃▃▃▂▂▂▂▂▂▁▁▁</td></tr><tr><td>val_accuracy</td><td>▃▂▂▂▁▁▁▁▁▁▁▂▂▂▂▃▃▃▃▃▃▃▄▄▄▅▅▅▅▆▆▆▆▆▇▇▇▇██</td></tr><tr><td>validation_loss</td><td>█▇▆▅▅▄▄▄▃▃▃▃▃▃▃▃▂▂▂▂▂▂▂▂▂▂▂▂▂▂▂▁▁▁▁▁▁▁▁▁</td></tr></table><br/></div><div class=\"wandb-col\"><h3>Run summary:</h3><br/><table class=\"wandb\"><tr><td>epoch</td><td>10</td></tr><tr><td>train_accuracy</td><td>25.0</td></tr><tr><td>train_loss</td><td>83.04332</td></tr><tr><td>val_accuracy</td><td>17.65</td></tr><tr><td>validation_loss</td><td>0.66249</td></tr></table><br/></div></div>"
      ],
      "text/plain": [
       "<IPython.core.display.HTML object>"
      ]
     },
     "metadata": {},
     "output_type": "display_data"
    },
    {
     "data": {
      "text/html": [
       " View run <strong style=\"color:#cdcd00\">genial-sweep-10</strong> at: <a href='https://wandb.ai/sumanta_roy/CS6910_assignment_1/runs/jv5zn9aj' target=\"_blank\">https://wandb.ai/sumanta_roy/CS6910_assignment_1/runs/jv5zn9aj</a><br/>Synced 6 W&B file(s), 0 media file(s), 0 artifact file(s) and 0 other file(s)"
      ],
      "text/plain": [
       "<IPython.core.display.HTML object>"
      ]
     },
     "metadata": {},
     "output_type": "display_data"
    },
    {
     "data": {
      "text/html": [
       "Find logs at: <code>./wandb/run-20240317_091738-jv5zn9aj/logs</code>"
      ],
      "text/plain": [
       "<IPython.core.display.HTML object>"
      ]
     },
     "metadata": {},
     "output_type": "display_data"
    },
    {
     "name": "stderr",
     "output_type": "stream",
     "text": [
      "\u001b[34m\u001b[1mwandb\u001b[0m: Agent Starting Run: 1msqs13f with config:\n",
      "\u001b[34m\u001b[1mwandb\u001b[0m: \tactivation: tanh\n",
      "\u001b[34m\u001b[1mwandb\u001b[0m: \tbatch_size: 64\n",
      "\u001b[34m\u001b[1mwandb\u001b[0m: \tepochs: 5\n",
      "\u001b[34m\u001b[1mwandb\u001b[0m: \thidden_layers: 4\n",
      "\u001b[34m\u001b[1mwandb\u001b[0m: \thidden_size: 128\n",
      "\u001b[34m\u001b[1mwandb\u001b[0m: \tloss: cross_entropy\n",
      "\u001b[34m\u001b[1mwandb\u001b[0m: \tlr: 0.0001\n",
      "\u001b[34m\u001b[1mwandb\u001b[0m: \toptimizer: rmsprop\n",
      "\u001b[34m\u001b[1mwandb\u001b[0m: \tw_init: glorot\n",
      "\u001b[34m\u001b[1mwandb\u001b[0m: \tweight_decay: 0.5\n"
     ]
    },
    {
     "data": {
      "text/html": [
       "Tracking run with wandb version 0.16.4"
      ],
      "text/plain": [
       "<IPython.core.display.HTML object>"
      ]
     },
     "metadata": {},
     "output_type": "display_data"
    },
    {
     "data": {
      "text/html": [
       "Run data is saved locally in <code>/Users/sumanta/Desktop/Numpy project/cross_entropy_lesspasses/wandb/run-20240317_091949-1msqs13f</code>"
      ],
      "text/plain": [
       "<IPython.core.display.HTML object>"
      ]
     },
     "metadata": {},
     "output_type": "display_data"
    },
    {
     "data": {
      "text/html": [
       "Syncing run <strong><a href='https://wandb.ai/sumanta_roy/CS6910_assignment_1/runs/1msqs13f' target=\"_blank\">visionary-sweep-11</a></strong> to <a href='https://wandb.ai/sumanta_roy/CS6910_assignment_1' target=\"_blank\">Weights & Biases</a> (<a href='https://wandb.me/run' target=\"_blank\">docs</a>)<br/>Sweep page: <a href='https://wandb.ai/sumanta_roy/CS6910_assignment_1/sweeps/mefq3vzl' target=\"_blank\">https://wandb.ai/sumanta_roy/CS6910_assignment_1/sweeps/mefq3vzl</a>"
      ],
      "text/plain": [
       "<IPython.core.display.HTML object>"
      ]
     },
     "metadata": {},
     "output_type": "display_data"
    },
    {
     "data": {
      "text/html": [
       " View project at <a href='https://wandb.ai/sumanta_roy/CS6910_assignment_1' target=\"_blank\">https://wandb.ai/sumanta_roy/CS6910_assignment_1</a>"
      ],
      "text/plain": [
       "<IPython.core.display.HTML object>"
      ]
     },
     "metadata": {},
     "output_type": "display_data"
    },
    {
     "data": {
      "text/html": [
       " View sweep at <a href='https://wandb.ai/sumanta_roy/CS6910_assignment_1/sweeps/mefq3vzl' target=\"_blank\">https://wandb.ai/sumanta_roy/CS6910_assignment_1/sweeps/mefq3vzl</a>"
      ],
      "text/plain": [
       "<IPython.core.display.HTML object>"
      ]
     },
     "metadata": {},
     "output_type": "display_data"
    },
    {
     "data": {
      "text/html": [
       " View run at <a href='https://wandb.ai/sumanta_roy/CS6910_assignment_1/runs/1msqs13f' target=\"_blank\">https://wandb.ai/sumanta_roy/CS6910_assignment_1/runs/1msqs13f</a>"
      ],
      "text/plain": [
       "<IPython.core.display.HTML object>"
      ]
     },
     "metadata": {},
     "output_type": "display_data"
    },
    {
     "name": "stdout",
     "output_type": "stream",
     "text": [
      "Epoch: 1/5; Train Loss: 2.2761059435446986; Val Loss: 0.08196459613317306\n",
      "Epoch: 2/5; Train Loss: 2.052465817473105; Val Loss: 0.07133760697830725\n",
      "Epoch: 3/5; Train Loss: 1.851044369879122; Val Loss: 0.06628721053927766\n",
      "Epoch: 4/5; Train Loss: 1.6716669371586517; Val Loss: 0.06287678469500003\n",
      "Epoch: 5/5; Train Loss: 1.5129953937933918; Val Loss: 0.06026382022342981\n"
     ]
    },
    {
     "data": {
      "application/vnd.jupyter.widget-view+json": {
       "model_id": "4edd3ed9f4a74ecaa4e31827251ff32b",
       "version_major": 2,
       "version_minor": 0
      },
      "text/plain": [
       "VBox(children=(Label(value='0.001 MB of 0.001 MB uploaded\\r'), FloatProgress(value=1.0, max=1.0)))"
      ]
     },
     "metadata": {},
     "output_type": "display_data"
    },
    {
     "data": {
      "text/html": [
       "<style>\n",
       "    table.wandb td:nth-child(1) { padding: 0 10px; text-align: left ; width: auto;} td:nth-child(2) {text-align: left ; width: 100%}\n",
       "    .wandb-row { display: flex; flex-direction: row; flex-wrap: wrap; justify-content: flex-start; width: 100% }\n",
       "    .wandb-col { display: flex; flex-direction: column; flex-basis: 100%; flex: 1; padding: 10px; }\n",
       "    </style>\n",
       "<div class=\"wandb-row\"><div class=\"wandb-col\"><h3>Run history:</h3><br/><table class=\"wandb\"><tr><td>epoch</td><td>▁▁▁▁▁▁▁▁▃▃▃▃▃▃▃▃▅▅▅▅▅▅▅▅▆▆▆▆▆▆▆▆████████</td></tr><tr><td>train_accuracy</td><td>▁▄▃▅▅▅▆▆▅▄▇▇▆▆▆▆▇▅▇▇▆▇▆▆▇▇▇█▇▇▇█▇▆▇▇▇█▇█</td></tr><tr><td>train_loss</td><td>██▇▇▇▇▆▆▆▆▆▅▅▅▅▅▄▄▄▄▄▄▃▃▃▃▃▃▃▂▂▂▂▂▂▂▁▁▁▁</td></tr><tr><td>val_accuracy</td><td>▁▅▆▆▇▇▇▇▇▇▇▇████████████████████████████</td></tr><tr><td>validation_loss</td><td>█▅▄▃▃▂▂▂▂▂▂▂▂▂▂▂▂▁▁▁▁▁▁▁▁▁▁▁▁▁▁▁▁▁▁▁▁▁▁▁</td></tr></table><br/></div><div class=\"wandb-col\"><h3>Run summary:</h3><br/><table class=\"wandb\"><tr><td>epoch</td><td>5</td></tr><tr><td>train_accuracy</td><td>84.375</td></tr><tr><td>train_loss</td><td>1.513</td></tr><tr><td>val_accuracy</td><td>84.85</td></tr><tr><td>validation_loss</td><td>0.06026</td></tr></table><br/></div></div>"
      ],
      "text/plain": [
       "<IPython.core.display.HTML object>"
      ]
     },
     "metadata": {},
     "output_type": "display_data"
    },
    {
     "data": {
      "text/html": [
       " View run <strong style=\"color:#cdcd00\">visionary-sweep-11</strong> at: <a href='https://wandb.ai/sumanta_roy/CS6910_assignment_1/runs/1msqs13f' target=\"_blank\">https://wandb.ai/sumanta_roy/CS6910_assignment_1/runs/1msqs13f</a><br/>Synced 6 W&B file(s), 0 media file(s), 0 artifact file(s) and 0 other file(s)"
      ],
      "text/plain": [
       "<IPython.core.display.HTML object>"
      ]
     },
     "metadata": {},
     "output_type": "display_data"
    },
    {
     "data": {
      "text/html": [
       "Find logs at: <code>./wandb/run-20240317_091949-1msqs13f/logs</code>"
      ],
      "text/plain": [
       "<IPython.core.display.HTML object>"
      ]
     },
     "metadata": {},
     "output_type": "display_data"
    },
    {
     "name": "stderr",
     "output_type": "stream",
     "text": [
      "\u001b[34m\u001b[1mwandb\u001b[0m: Agent Starting Run: i5umzvkz with config:\n",
      "\u001b[34m\u001b[1mwandb\u001b[0m: \tactivation: tanh\n",
      "\u001b[34m\u001b[1mwandb\u001b[0m: \tbatch_size: 32\n",
      "\u001b[34m\u001b[1mwandb\u001b[0m: \tepochs: 5\n",
      "\u001b[34m\u001b[1mwandb\u001b[0m: \thidden_layers: 3\n",
      "\u001b[34m\u001b[1mwandb\u001b[0m: \thidden_size: 64\n",
      "\u001b[34m\u001b[1mwandb\u001b[0m: \tloss: cross_entropy\n",
      "\u001b[34m\u001b[1mwandb\u001b[0m: \tlr: 0.0001\n",
      "\u001b[34m\u001b[1mwandb\u001b[0m: \toptimizer: nesterov\n",
      "\u001b[34m\u001b[1mwandb\u001b[0m: \tw_init: glorot\n",
      "\u001b[34m\u001b[1mwandb\u001b[0m: \tweight_decay: 0.0005\n"
     ]
    },
    {
     "data": {
      "text/html": [
       "Tracking run with wandb version 0.16.4"
      ],
      "text/plain": [
       "<IPython.core.display.HTML object>"
      ]
     },
     "metadata": {},
     "output_type": "display_data"
    },
    {
     "data": {
      "text/html": [
       "Run data is saved locally in <code>/Users/sumanta/Desktop/Numpy project/cross_entropy_lesspasses/wandb/run-20240317_092053-i5umzvkz</code>"
      ],
      "text/plain": [
       "<IPython.core.display.HTML object>"
      ]
     },
     "metadata": {},
     "output_type": "display_data"
    },
    {
     "data": {
      "text/html": [
       "Syncing run <strong><a href='https://wandb.ai/sumanta_roy/CS6910_assignment_1/runs/i5umzvkz' target=\"_blank\">wobbly-sweep-12</a></strong> to <a href='https://wandb.ai/sumanta_roy/CS6910_assignment_1' target=\"_blank\">Weights & Biases</a> (<a href='https://wandb.me/run' target=\"_blank\">docs</a>)<br/>Sweep page: <a href='https://wandb.ai/sumanta_roy/CS6910_assignment_1/sweeps/mefq3vzl' target=\"_blank\">https://wandb.ai/sumanta_roy/CS6910_assignment_1/sweeps/mefq3vzl</a>"
      ],
      "text/plain": [
       "<IPython.core.display.HTML object>"
      ]
     },
     "metadata": {},
     "output_type": "display_data"
    },
    {
     "data": {
      "text/html": [
       " View project at <a href='https://wandb.ai/sumanta_roy/CS6910_assignment_1' target=\"_blank\">https://wandb.ai/sumanta_roy/CS6910_assignment_1</a>"
      ],
      "text/plain": [
       "<IPython.core.display.HTML object>"
      ]
     },
     "metadata": {},
     "output_type": "display_data"
    },
    {
     "data": {
      "text/html": [
       " View sweep at <a href='https://wandb.ai/sumanta_roy/CS6910_assignment_1/sweeps/mefq3vzl' target=\"_blank\">https://wandb.ai/sumanta_roy/CS6910_assignment_1/sweeps/mefq3vzl</a>"
      ],
      "text/plain": [
       "<IPython.core.display.HTML object>"
      ]
     },
     "metadata": {},
     "output_type": "display_data"
    },
    {
     "data": {
      "text/html": [
       " View run at <a href='https://wandb.ai/sumanta_roy/CS6910_assignment_1/runs/i5umzvkz' target=\"_blank\">https://wandb.ai/sumanta_roy/CS6910_assignment_1/runs/i5umzvkz</a>"
      ],
      "text/plain": [
       "<IPython.core.display.HTML object>"
      ]
     },
     "metadata": {},
     "output_type": "display_data"
    },
    {
     "name": "stdout",
     "output_type": "stream",
     "text": [
      "Epoch: 1/5; Train Loss: 0.09579713808973703; Val Loss: 0.11219215953074521\n",
      "Epoch: 2/5; Train Loss: 0.0610680369130197; Val Loss: 0.08485488716750998\n",
      "Epoch: 3/5; Train Loss: 0.04588674573592812; Val Loss: 0.0722153705782027\n",
      "Epoch: 4/5; Train Loss: 0.03788893266976312; Val Loss: 0.06483439950822836\n",
      "Epoch: 5/5; Train Loss: 0.03314303546188328; Val Loss: 0.06000373638820089\n"
     ]
    },
    {
     "data": {
      "application/vnd.jupyter.widget-view+json": {
       "model_id": "cd160a931f9d4947b571773521bc24c5",
       "version_major": 2,
       "version_minor": 0
      },
      "text/plain": [
       "VBox(children=(Label(value='0.001 MB of 0.001 MB uploaded\\r'), FloatProgress(value=1.0, max=1.0)))"
      ]
     },
     "metadata": {},
     "output_type": "display_data"
    },
    {
     "data": {
      "text/html": [
       "<style>\n",
       "    table.wandb td:nth-child(1) { padding: 0 10px; text-align: left ; width: auto;} td:nth-child(2) {text-align: left ; width: 100%}\n",
       "    .wandb-row { display: flex; flex-direction: row; flex-wrap: wrap; justify-content: flex-start; width: 100% }\n",
       "    .wandb-col { display: flex; flex-direction: column; flex-basis: 100%; flex: 1; padding: 10px; }\n",
       "    </style>\n",
       "<div class=\"wandb-row\"><div class=\"wandb-col\"><h3>Run history:</h3><br/><table class=\"wandb\"><tr><td>epoch</td><td>▁▁▁▁▁▁▁▁▃▃▃▃▃▃▃▃▅▅▅▅▅▅▅▅▆▆▆▆▆▆▆▆████████</td></tr><tr><td>train_accuracy</td><td>▁▃▄▄▅▄▆▅▆▆▇▅▆▆█▇▇▆▇▆▅▇▇▆▆▇█▇▆▇▇▆▆▇▇█▇▆█▇</td></tr><tr><td>train_loss</td><td>█▇▆▆▅▅▄▄▄▃▃▄▃▃▂▂▂▃▂▃▃▂▂▂▂▂▂▂▂▂▂▂▂▂▁▁▁▁▁▁</td></tr><tr><td>val_accuracy</td><td>▁▃▅▅▆▆▆▆▆▇▇▇▇▇▇▇▇▇▇▇████████████████████</td></tr><tr><td>validation_loss</td><td>█▇▆▅▄▄▄▃▃▃▃▃▂▂▂▂▂▂▂▂▂▂▂▂▁▁▁▁▁▁▁▁▁▁▁▁▁▁▁▁</td></tr></table><br/></div><div class=\"wandb-col\"><h3>Run summary:</h3><br/><table class=\"wandb\"><tr><td>epoch</td><td>5</td></tr><tr><td>train_accuracy</td><td>93.75</td></tr><tr><td>train_loss</td><td>0.03314</td></tr><tr><td>val_accuracy</td><td>80.33333</td></tr><tr><td>validation_loss</td><td>0.06</td></tr></table><br/></div></div>"
      ],
      "text/plain": [
       "<IPython.core.display.HTML object>"
      ]
     },
     "metadata": {},
     "output_type": "display_data"
    },
    {
     "data": {
      "text/html": [
       " View run <strong style=\"color:#cdcd00\">wobbly-sweep-12</strong> at: <a href='https://wandb.ai/sumanta_roy/CS6910_assignment_1/runs/i5umzvkz' target=\"_blank\">https://wandb.ai/sumanta_roy/CS6910_assignment_1/runs/i5umzvkz</a><br/>Synced 6 W&B file(s), 0 media file(s), 0 artifact file(s) and 0 other file(s)"
      ],
      "text/plain": [
       "<IPython.core.display.HTML object>"
      ]
     },
     "metadata": {},
     "output_type": "display_data"
    },
    {
     "data": {
      "text/html": [
       "Find logs at: <code>./wandb/run-20240317_092053-i5umzvkz/logs</code>"
      ],
      "text/plain": [
       "<IPython.core.display.HTML object>"
      ]
     },
     "metadata": {},
     "output_type": "display_data"
    },
    {
     "name": "stderr",
     "output_type": "stream",
     "text": [
      "\u001b[34m\u001b[1mwandb\u001b[0m: Agent Starting Run: 43gdvqfd with config:\n",
      "\u001b[34m\u001b[1mwandb\u001b[0m: \tactivation: tanh\n",
      "\u001b[34m\u001b[1mwandb\u001b[0m: \tbatch_size: 32\n",
      "\u001b[34m\u001b[1mwandb\u001b[0m: \tepochs: 5\n",
      "\u001b[34m\u001b[1mwandb\u001b[0m: \thidden_layers: 3\n",
      "\u001b[34m\u001b[1mwandb\u001b[0m: \thidden_size: 32\n",
      "\u001b[34m\u001b[1mwandb\u001b[0m: \tloss: cross_entropy\n",
      "\u001b[34m\u001b[1mwandb\u001b[0m: \tlr: 0.0001\n",
      "\u001b[34m\u001b[1mwandb\u001b[0m: \toptimizer: rmsprop\n",
      "\u001b[34m\u001b[1mwandb\u001b[0m: \tw_init: glorot\n",
      "\u001b[34m\u001b[1mwandb\u001b[0m: \tweight_decay: 0.0005\n"
     ]
    },
    {
     "data": {
      "text/html": [
       "Tracking run with wandb version 0.16.4"
      ],
      "text/plain": [
       "<IPython.core.display.HTML object>"
      ]
     },
     "metadata": {},
     "output_type": "display_data"
    },
    {
     "data": {
      "text/html": [
       "Run data is saved locally in <code>/Users/sumanta/Desktop/Numpy project/cross_entropy_lesspasses/wandb/run-20240317_092131-43gdvqfd</code>"
      ],
      "text/plain": [
       "<IPython.core.display.HTML object>"
      ]
     },
     "metadata": {},
     "output_type": "display_data"
    },
    {
     "data": {
      "text/html": [
       "Syncing run <strong><a href='https://wandb.ai/sumanta_roy/CS6910_assignment_1/runs/43gdvqfd' target=\"_blank\">graceful-sweep-13</a></strong> to <a href='https://wandb.ai/sumanta_roy/CS6910_assignment_1' target=\"_blank\">Weights & Biases</a> (<a href='https://wandb.me/run' target=\"_blank\">docs</a>)<br/>Sweep page: <a href='https://wandb.ai/sumanta_roy/CS6910_assignment_1/sweeps/mefq3vzl' target=\"_blank\">https://wandb.ai/sumanta_roy/CS6910_assignment_1/sweeps/mefq3vzl</a>"
      ],
      "text/plain": [
       "<IPython.core.display.HTML object>"
      ]
     },
     "metadata": {},
     "output_type": "display_data"
    },
    {
     "data": {
      "text/html": [
       " View project at <a href='https://wandb.ai/sumanta_roy/CS6910_assignment_1' target=\"_blank\">https://wandb.ai/sumanta_roy/CS6910_assignment_1</a>"
      ],
      "text/plain": [
       "<IPython.core.display.HTML object>"
      ]
     },
     "metadata": {},
     "output_type": "display_data"
    },
    {
     "data": {
      "text/html": [
       " View sweep at <a href='https://wandb.ai/sumanta_roy/CS6910_assignment_1/sweeps/mefq3vzl' target=\"_blank\">https://wandb.ai/sumanta_roy/CS6910_assignment_1/sweeps/mefq3vzl</a>"
      ],
      "text/plain": [
       "<IPython.core.display.HTML object>"
      ]
     },
     "metadata": {},
     "output_type": "display_data"
    },
    {
     "data": {
      "text/html": [
       " View run at <a href='https://wandb.ai/sumanta_roy/CS6910_assignment_1/runs/43gdvqfd' target=\"_blank\">https://wandb.ai/sumanta_roy/CS6910_assignment_1/runs/43gdvqfd</a>"
      ],
      "text/plain": [
       "<IPython.core.display.HTML object>"
      ]
     },
     "metadata": {},
     "output_type": "display_data"
    },
    {
     "name": "stdout",
     "output_type": "stream",
     "text": [
      "Epoch: 1/5; Train Loss: 0.046775361784633755; Val Loss: 0.07186325566665254\n",
      "Epoch: 2/5; Train Loss: 0.030327350065981813; Val Loss: 0.05539516223911132\n",
      "Epoch: 3/5; Train Loss: 0.025031762784438607; Val Loss: 0.04889717882354274\n",
      "Epoch: 4/5; Train Loss: 0.022924445410426004; Val Loss: 0.045574409809237715\n",
      "Epoch: 5/5; Train Loss: 0.02175145231001238; Val Loss: 0.043471048737899504\n"
     ]
    },
    {
     "data": {
      "application/vnd.jupyter.widget-view+json": {
       "model_id": "219c1296bc96406e90d593780945de95",
       "version_major": 2,
       "version_minor": 0
      },
      "text/plain": [
       "VBox(children=(Label(value='0.001 MB of 0.001 MB uploaded\\r'), FloatProgress(value=1.0, max=1.0)))"
      ]
     },
     "metadata": {},
     "output_type": "display_data"
    },
    {
     "data": {
      "text/html": [
       "<style>\n",
       "    table.wandb td:nth-child(1) { padding: 0 10px; text-align: left ; width: auto;} td:nth-child(2) {text-align: left ; width: 100%}\n",
       "    .wandb-row { display: flex; flex-direction: row; flex-wrap: wrap; justify-content: flex-start; width: 100% }\n",
       "    .wandb-col { display: flex; flex-direction: column; flex-basis: 100%; flex: 1; padding: 10px; }\n",
       "    </style>\n",
       "<div class=\"wandb-row\"><div class=\"wandb-col\"><h3>Run history:</h3><br/><table class=\"wandb\"><tr><td>epoch</td><td>▁▁▁▁▁▁▁▁▃▃▃▃▃▃▃▃▅▅▅▅▅▅▅▅▆▆▆▆▆▆▆▆████████</td></tr><tr><td>train_accuracy</td><td>▁▅▄▆▅▄▆▄▆▆▆▅▆▆██▇▆▇▇▆▆▇▆▆▆█▇▆▆▇▆▆▆██▇▇▇▇</td></tr><tr><td>train_loss</td><td>█▅▅▄▄▄▃▃▃▃▂▃▃▃▁▁▂▂▂▃▂▃▂▂▂▂▁▁▂▂▂▂▂▂▁▁▁▁▁▁</td></tr><tr><td>val_accuracy</td><td>▁▅▅▆▆▆▇▇▇▇▇▇▇▇▇▇████████████████████████</td></tr><tr><td>validation_loss</td><td>█▆▄▄▃▃▃▂▂▂▂▂▂▂▂▂▂▂▁▁▁▁▁▁▁▁▁▁▁▁▁▁▁▁▁▁▁▁▁▁</td></tr></table><br/></div><div class=\"wandb-col\"><h3>Run summary:</h3><br/><table class=\"wandb\"><tr><td>epoch</td><td>5</td></tr><tr><td>train_accuracy</td><td>93.75</td></tr><tr><td>train_loss</td><td>0.02175</td></tr><tr><td>val_accuracy</td><td>84.65</td></tr><tr><td>validation_loss</td><td>0.04347</td></tr></table><br/></div></div>"
      ],
      "text/plain": [
       "<IPython.core.display.HTML object>"
      ]
     },
     "metadata": {},
     "output_type": "display_data"
    },
    {
     "data": {
      "text/html": [
       " View run <strong style=\"color:#cdcd00\">graceful-sweep-13</strong> at: <a href='https://wandb.ai/sumanta_roy/CS6910_assignment_1/runs/43gdvqfd' target=\"_blank\">https://wandb.ai/sumanta_roy/CS6910_assignment_1/runs/43gdvqfd</a><br/>Synced 6 W&B file(s), 0 media file(s), 0 artifact file(s) and 0 other file(s)"
      ],
      "text/plain": [
       "<IPython.core.display.HTML object>"
      ]
     },
     "metadata": {},
     "output_type": "display_data"
    },
    {
     "data": {
      "text/html": [
       "Find logs at: <code>./wandb/run-20240317_092131-43gdvqfd/logs</code>"
      ],
      "text/plain": [
       "<IPython.core.display.HTML object>"
      ]
     },
     "metadata": {},
     "output_type": "display_data"
    },
    {
     "name": "stderr",
     "output_type": "stream",
     "text": [
      "\u001b[34m\u001b[1mwandb\u001b[0m: Agent Starting Run: zm8065o4 with config:\n",
      "\u001b[34m\u001b[1mwandb\u001b[0m: \tactivation: tanh\n",
      "\u001b[34m\u001b[1mwandb\u001b[0m: \tbatch_size: 64\n",
      "\u001b[34m\u001b[1mwandb\u001b[0m: \tepochs: 5\n",
      "\u001b[34m\u001b[1mwandb\u001b[0m: \thidden_layers: 3\n",
      "\u001b[34m\u001b[1mwandb\u001b[0m: \thidden_size: 128\n",
      "\u001b[34m\u001b[1mwandb\u001b[0m: \tloss: cross_entropy\n",
      "\u001b[34m\u001b[1mwandb\u001b[0m: \tlr: 0.0001\n",
      "\u001b[34m\u001b[1mwandb\u001b[0m: \toptimizer: nadam\n",
      "\u001b[34m\u001b[1mwandb\u001b[0m: \tw_init: glorot\n",
      "\u001b[34m\u001b[1mwandb\u001b[0m: \tweight_decay: 0.5\n"
     ]
    },
    {
     "data": {
      "text/html": [
       "Tracking run with wandb version 0.16.4"
      ],
      "text/plain": [
       "<IPython.core.display.HTML object>"
      ]
     },
     "metadata": {},
     "output_type": "display_data"
    },
    {
     "data": {
      "text/html": [
       "Run data is saved locally in <code>/Users/sumanta/Desktop/Numpy project/cross_entropy_lesspasses/wandb/run-20240317_092158-zm8065o4</code>"
      ],
      "text/plain": [
       "<IPython.core.display.HTML object>"
      ]
     },
     "metadata": {},
     "output_type": "display_data"
    },
    {
     "data": {
      "text/html": [
       "Syncing run <strong><a href='https://wandb.ai/sumanta_roy/CS6910_assignment_1/runs/zm8065o4' target=\"_blank\">floral-sweep-14</a></strong> to <a href='https://wandb.ai/sumanta_roy/CS6910_assignment_1' target=\"_blank\">Weights & Biases</a> (<a href='https://wandb.me/run' target=\"_blank\">docs</a>)<br/>Sweep page: <a href='https://wandb.ai/sumanta_roy/CS6910_assignment_1/sweeps/mefq3vzl' target=\"_blank\">https://wandb.ai/sumanta_roy/CS6910_assignment_1/sweeps/mefq3vzl</a>"
      ],
      "text/plain": [
       "<IPython.core.display.HTML object>"
      ]
     },
     "metadata": {},
     "output_type": "display_data"
    },
    {
     "data": {
      "text/html": [
       " View project at <a href='https://wandb.ai/sumanta_roy/CS6910_assignment_1' target=\"_blank\">https://wandb.ai/sumanta_roy/CS6910_assignment_1</a>"
      ],
      "text/plain": [
       "<IPython.core.display.HTML object>"
      ]
     },
     "metadata": {},
     "output_type": "display_data"
    },
    {
     "data": {
      "text/html": [
       " View sweep at <a href='https://wandb.ai/sumanta_roy/CS6910_assignment_1/sweeps/mefq3vzl' target=\"_blank\">https://wandb.ai/sumanta_roy/CS6910_assignment_1/sweeps/mefq3vzl</a>"
      ],
      "text/plain": [
       "<IPython.core.display.HTML object>"
      ]
     },
     "metadata": {},
     "output_type": "display_data"
    },
    {
     "data": {
      "text/html": [
       " View run at <a href='https://wandb.ai/sumanta_roy/CS6910_assignment_1/runs/zm8065o4' target=\"_blank\">https://wandb.ai/sumanta_roy/CS6910_assignment_1/runs/zm8065o4</a>"
      ],
      "text/plain": [
       "<IPython.core.display.HTML object>"
      ]
     },
     "metadata": {},
     "output_type": "display_data"
    },
    {
     "name": "stdout",
     "output_type": "stream",
     "text": [
      "Epoch: 1/5; Train Loss: 1.9546629287555994; Val Loss: 0.1131212571156722\n",
      "Epoch: 2/5; Train Loss: 1.890220954100145; Val Loss: 0.09676900894379221\n",
      "Epoch: 3/5; Train Loss: 1.8372892563376362; Val Loss: 0.08820594492559393\n",
      "Epoch: 4/5; Train Loss: 1.7887078355370873; Val Loss: 0.08255477819099796\n",
      "Epoch: 5/5; Train Loss: 1.7426845288566681; Val Loss: 0.07843636069582646\n"
     ]
    },
    {
     "data": {
      "application/vnd.jupyter.widget-view+json": {
       "model_id": "6b84f96392fa4f1a85d37eff628a9e1d",
       "version_major": 2,
       "version_minor": 0
      },
      "text/plain": [
       "VBox(children=(Label(value='0.001 MB of 0.001 MB uploaded\\r'), FloatProgress(value=1.0, max=1.0)))"
      ]
     },
     "metadata": {},
     "output_type": "display_data"
    },
    {
     "data": {
      "text/html": [
       "<style>\n",
       "    table.wandb td:nth-child(1) { padding: 0 10px; text-align: left ; width: auto;} td:nth-child(2) {text-align: left ; width: 100%}\n",
       "    .wandb-row { display: flex; flex-direction: row; flex-wrap: wrap; justify-content: flex-start; width: 100% }\n",
       "    .wandb-col { display: flex; flex-direction: column; flex-basis: 100%; flex: 1; padding: 10px; }\n",
       "    </style>\n",
       "<div class=\"wandb-row\"><div class=\"wandb-col\"><h3>Run history:</h3><br/><table class=\"wandb\"><tr><td>epoch</td><td>▁▁▁▁▁▁▁▁▃▃▃▃▃▃▃▃▅▅▅▅▅▅▅▅▆▆▆▆▆▆▆▆████████</td></tr><tr><td>train_accuracy</td><td>▁▅▅▆▅▆▇▆▅▅▇█▇▆▆▆▇▇▆█▆█▇▇▇█▇██▇█▇█▇▆▇▇██▇</td></tr><tr><td>train_loss</td><td>█▇▇▆▆▅▅▅▅▅▅▄▄▄▄▄▄▄▄▃▃▃▃▃▃▃▃▂▂▂▂▂▂▂▂▂▁▁▁▁</td></tr><tr><td>val_accuracy</td><td>▁▅▅▆▆▆▆▆▇▇▇▇▇▇▇▇▇▇▇▇▇▇▇▇████████████████</td></tr><tr><td>validation_loss</td><td>█▆▅▄▄▃▃▃▃▃▃▂▂▂▂▂▂▂▂▂▂▂▂▂▁▁▁▁▁▁▁▁▁▁▁▁▁▁▁▁</td></tr></table><br/></div><div class=\"wandb-col\"><h3>Run summary:</h3><br/><table class=\"wandb\"><tr><td>epoch</td><td>5</td></tr><tr><td>train_accuracy</td><td>81.25</td></tr><tr><td>train_loss</td><td>1.74268</td></tr><tr><td>val_accuracy</td><td>81.13333</td></tr><tr><td>validation_loss</td><td>0.07844</td></tr></table><br/></div></div>"
      ],
      "text/plain": [
       "<IPython.core.display.HTML object>"
      ]
     },
     "metadata": {},
     "output_type": "display_data"
    },
    {
     "data": {
      "text/html": [
       " View run <strong style=\"color:#cdcd00\">floral-sweep-14</strong> at: <a href='https://wandb.ai/sumanta_roy/CS6910_assignment_1/runs/zm8065o4' target=\"_blank\">https://wandb.ai/sumanta_roy/CS6910_assignment_1/runs/zm8065o4</a><br/>Synced 6 W&B file(s), 0 media file(s), 0 artifact file(s) and 0 other file(s)"
      ],
      "text/plain": [
       "<IPython.core.display.HTML object>"
      ]
     },
     "metadata": {},
     "output_type": "display_data"
    },
    {
     "data": {
      "text/html": [
       "Find logs at: <code>./wandb/run-20240317_092158-zm8065o4/logs</code>"
      ],
      "text/plain": [
       "<IPython.core.display.HTML object>"
      ]
     },
     "metadata": {},
     "output_type": "display_data"
    },
    {
     "name": "stderr",
     "output_type": "stream",
     "text": [
      "\u001b[34m\u001b[1mwandb\u001b[0m: Agent Starting Run: qsouyzr6 with config:\n",
      "\u001b[34m\u001b[1mwandb\u001b[0m: \tactivation: tanh\n",
      "\u001b[34m\u001b[1mwandb\u001b[0m: \tbatch_size: 32\n",
      "\u001b[34m\u001b[1mwandb\u001b[0m: \tepochs: 10\n",
      "\u001b[34m\u001b[1mwandb\u001b[0m: \thidden_layers: 3\n",
      "\u001b[34m\u001b[1mwandb\u001b[0m: \thidden_size: 32\n",
      "\u001b[34m\u001b[1mwandb\u001b[0m: \tloss: cross_entropy\n",
      "\u001b[34m\u001b[1mwandb\u001b[0m: \tlr: 0.0001\n",
      "\u001b[34m\u001b[1mwandb\u001b[0m: \toptimizer: nadam\n",
      "\u001b[34m\u001b[1mwandb\u001b[0m: \tw_init: random\n",
      "\u001b[34m\u001b[1mwandb\u001b[0m: \tweight_decay: 0\n"
     ]
    },
    {
     "data": {
      "text/html": [
       "Tracking run with wandb version 0.16.4"
      ],
      "text/plain": [
       "<IPython.core.display.HTML object>"
      ]
     },
     "metadata": {},
     "output_type": "display_data"
    },
    {
     "data": {
      "text/html": [
       "Run data is saved locally in <code>/Users/sumanta/Desktop/Numpy project/cross_entropy_lesspasses/wandb/run-20240317_092256-qsouyzr6</code>"
      ],
      "text/plain": [
       "<IPython.core.display.HTML object>"
      ]
     },
     "metadata": {},
     "output_type": "display_data"
    },
    {
     "data": {
      "text/html": [
       "Syncing run <strong><a href='https://wandb.ai/sumanta_roy/CS6910_assignment_1/runs/qsouyzr6' target=\"_blank\">rare-sweep-15</a></strong> to <a href='https://wandb.ai/sumanta_roy/CS6910_assignment_1' target=\"_blank\">Weights & Biases</a> (<a href='https://wandb.me/run' target=\"_blank\">docs</a>)<br/>Sweep page: <a href='https://wandb.ai/sumanta_roy/CS6910_assignment_1/sweeps/mefq3vzl' target=\"_blank\">https://wandb.ai/sumanta_roy/CS6910_assignment_1/sweeps/mefq3vzl</a>"
      ],
      "text/plain": [
       "<IPython.core.display.HTML object>"
      ]
     },
     "metadata": {},
     "output_type": "display_data"
    },
    {
     "data": {
      "text/html": [
       " View project at <a href='https://wandb.ai/sumanta_roy/CS6910_assignment_1' target=\"_blank\">https://wandb.ai/sumanta_roy/CS6910_assignment_1</a>"
      ],
      "text/plain": [
       "<IPython.core.display.HTML object>"
      ]
     },
     "metadata": {},
     "output_type": "display_data"
    },
    {
     "data": {
      "text/html": [
       " View sweep at <a href='https://wandb.ai/sumanta_roy/CS6910_assignment_1/sweeps/mefq3vzl' target=\"_blank\">https://wandb.ai/sumanta_roy/CS6910_assignment_1/sweeps/mefq3vzl</a>"
      ],
      "text/plain": [
       "<IPython.core.display.HTML object>"
      ]
     },
     "metadata": {},
     "output_type": "display_data"
    },
    {
     "data": {
      "text/html": [
       " View run at <a href='https://wandb.ai/sumanta_roy/CS6910_assignment_1/runs/qsouyzr6' target=\"_blank\">https://wandb.ai/sumanta_roy/CS6910_assignment_1/runs/qsouyzr6</a>"
      ],
      "text/plain": [
       "<IPython.core.display.HTML object>"
      ]
     },
     "metadata": {},
     "output_type": "display_data"
    },
    {
     "name": "stdout",
     "output_type": "stream",
     "text": [
      "Epoch: 1/10; Train Loss: 0.16109845397396425; Val Loss: 0.17592111900300367\n",
      "Epoch: 2/10; Train Loss: 0.13524929255245452; Val Loss: 0.15470246312457564\n",
      "Epoch: 3/10; Train Loss: 0.11956213324825801; Val Loss: 0.1411416812190206\n",
      "Epoch: 4/10; Train Loss: 0.10901361337495638; Val Loss: 0.13040171366314002\n",
      "Epoch: 5/10; Train Loss: 0.10085161987486843; Val Loss: 0.12138517919812057\n",
      "Epoch: 6/10; Train Loss: 0.09479208873970872; Val Loss: 0.1138079449588038\n",
      "Epoch: 7/10; Train Loss: 0.0895861330044113; Val Loss: 0.10746470314830862\n",
      "Epoch: 8/10; Train Loss: 0.08463144708545342; Val Loss: 0.10207838729406418\n",
      "Epoch: 9/10; Train Loss: 0.07987702651733827; Val Loss: 0.09744953091818566\n",
      "Epoch: 10/10; Train Loss: 0.07546708810785874; Val Loss: 0.0934494249139835\n"
     ]
    },
    {
     "data": {
      "application/vnd.jupyter.widget-view+json": {
       "model_id": "cd2722b33b8a46a2bfcb56d5a043a85d",
       "version_major": 2,
       "version_minor": 0
      },
      "text/plain": [
       "VBox(children=(Label(value='0.001 MB of 0.027 MB uploaded\\r'), FloatProgress(value=0.02734776293882178, max=1.…"
      ]
     },
     "metadata": {},
     "output_type": "display_data"
    },
    {
     "data": {
      "text/html": [
       "<style>\n",
       "    table.wandb td:nth-child(1) { padding: 0 10px; text-align: left ; width: auto;} td:nth-child(2) {text-align: left ; width: 100%}\n",
       "    .wandb-row { display: flex; flex-direction: row; flex-wrap: wrap; justify-content: flex-start; width: 100% }\n",
       "    .wandb-col { display: flex; flex-direction: column; flex-basis: 100%; flex: 1; padding: 10px; }\n",
       "    </style>\n",
       "<div class=\"wandb-row\"><div class=\"wandb-col\"><h3>Run history:</h3><br/><table class=\"wandb\"><tr><td>epoch</td><td>▁▁▁▁▂▂▂▂▃▃▃▃▃▃▃▃▄▄▄▄▅▅▅▅▆▆▆▆▆▆▆▆▇▇▇▇████</td></tr><tr><td>train_accuracy</td><td>▁▁▁▄▄▄▃▅▅▄▆▅▄▆▅▆▅▅▅▅▆▇▆▆▆▆▆▆▆▆▇▆▅▆▇▆▆▇▇█</td></tr><tr><td>train_loss</td><td>█▇▆▅▄▄▄▄▃▄▃▄▃▃▃▃▃▃▃▂▂▂▃▂▃▂▂▂▂▂▂▂▃▂▁▂▂▁▁▁</td></tr><tr><td>val_accuracy</td><td>▁▂▃▃▄▄▄▅▅▅▅▆▆▆▆▆▆▆▆▇▇▇▇▇▇▇▇▇▇▇██████████</td></tr><tr><td>validation_loss</td><td>█▇▆▆▅▅▄▄▄▄▄▃▃▃▃▃▃▃▃▂▂▂▂▂▂▂▂▂▂▂▂▁▁▁▁▁▁▁▁▁</td></tr></table><br/></div><div class=\"wandb-col\"><h3>Run summary:</h3><br/><table class=\"wandb\"><tr><td>epoch</td><td>10</td></tr><tr><td>train_accuracy</td><td>78.125</td></tr><tr><td>train_loss</td><td>0.07547</td></tr><tr><td>val_accuracy</td><td>70.5</td></tr><tr><td>validation_loss</td><td>0.09345</td></tr></table><br/></div></div>"
      ],
      "text/plain": [
       "<IPython.core.display.HTML object>"
      ]
     },
     "metadata": {},
     "output_type": "display_data"
    },
    {
     "data": {
      "text/html": [
       " View run <strong style=\"color:#cdcd00\">rare-sweep-15</strong> at: <a href='https://wandb.ai/sumanta_roy/CS6910_assignment_1/runs/qsouyzr6' target=\"_blank\">https://wandb.ai/sumanta_roy/CS6910_assignment_1/runs/qsouyzr6</a><br/>Synced 6 W&B file(s), 0 media file(s), 0 artifact file(s) and 0 other file(s)"
      ],
      "text/plain": [
       "<IPython.core.display.HTML object>"
      ]
     },
     "metadata": {},
     "output_type": "display_data"
    },
    {
     "data": {
      "text/html": [
       "Find logs at: <code>./wandb/run-20240317_092256-qsouyzr6/logs</code>"
      ],
      "text/plain": [
       "<IPython.core.display.HTML object>"
      ]
     },
     "metadata": {},
     "output_type": "display_data"
    },
    {
     "name": "stderr",
     "output_type": "stream",
     "text": [
      "\u001b[34m\u001b[1mwandb\u001b[0m: Sweep Agent: Waiting for job.\n",
      "\u001b[34m\u001b[1mwandb\u001b[0m: Job received.\n",
      "\u001b[34m\u001b[1mwandb\u001b[0m: Agent Starting Run: jfpf8jxb with config:\n",
      "\u001b[34m\u001b[1mwandb\u001b[0m: \tactivation: tanh\n",
      "\u001b[34m\u001b[1mwandb\u001b[0m: \tbatch_size: 16\n",
      "\u001b[34m\u001b[1mwandb\u001b[0m: \tepochs: 5\n",
      "\u001b[34m\u001b[1mwandb\u001b[0m: \thidden_layers: 3\n",
      "\u001b[34m\u001b[1mwandb\u001b[0m: \thidden_size: 64\n",
      "\u001b[34m\u001b[1mwandb\u001b[0m: \tloss: cross_entropy\n",
      "\u001b[34m\u001b[1mwandb\u001b[0m: \tlr: 0.001\n",
      "\u001b[34m\u001b[1mwandb\u001b[0m: \toptimizer: rmsprop\n",
      "\u001b[34m\u001b[1mwandb\u001b[0m: \tw_init: random\n",
      "\u001b[34m\u001b[1mwandb\u001b[0m: \tweight_decay: 0.0005\n"
     ]
    },
    {
     "data": {
      "text/html": [
       "Tracking run with wandb version 0.16.4"
      ],
      "text/plain": [
       "<IPython.core.display.HTML object>"
      ]
     },
     "metadata": {},
     "output_type": "display_data"
    },
    {
     "data": {
      "text/html": [
       "Run data is saved locally in <code>/Users/sumanta/Desktop/Numpy project/cross_entropy_lesspasses/wandb/run-20240317_092348-jfpf8jxb</code>"
      ],
      "text/plain": [
       "<IPython.core.display.HTML object>"
      ]
     },
     "metadata": {},
     "output_type": "display_data"
    },
    {
     "data": {
      "text/html": [
       "Syncing run <strong><a href='https://wandb.ai/sumanta_roy/CS6910_assignment_1/runs/jfpf8jxb' target=\"_blank\">playful-sweep-16</a></strong> to <a href='https://wandb.ai/sumanta_roy/CS6910_assignment_1' target=\"_blank\">Weights & Biases</a> (<a href='https://wandb.me/run' target=\"_blank\">docs</a>)<br/>Sweep page: <a href='https://wandb.ai/sumanta_roy/CS6910_assignment_1/sweeps/mefq3vzl' target=\"_blank\">https://wandb.ai/sumanta_roy/CS6910_assignment_1/sweeps/mefq3vzl</a>"
      ],
      "text/plain": [
       "<IPython.core.display.HTML object>"
      ]
     },
     "metadata": {},
     "output_type": "display_data"
    },
    {
     "data": {
      "text/html": [
       " View project at <a href='https://wandb.ai/sumanta_roy/CS6910_assignment_1' target=\"_blank\">https://wandb.ai/sumanta_roy/CS6910_assignment_1</a>"
      ],
      "text/plain": [
       "<IPython.core.display.HTML object>"
      ]
     },
     "metadata": {},
     "output_type": "display_data"
    },
    {
     "data": {
      "text/html": [
       " View sweep at <a href='https://wandb.ai/sumanta_roy/CS6910_assignment_1/sweeps/mefq3vzl' target=\"_blank\">https://wandb.ai/sumanta_roy/CS6910_assignment_1/sweeps/mefq3vzl</a>"
      ],
      "text/plain": [
       "<IPython.core.display.HTML object>"
      ]
     },
     "metadata": {},
     "output_type": "display_data"
    },
    {
     "data": {
      "text/html": [
       " View run at <a href='https://wandb.ai/sumanta_roy/CS6910_assignment_1/runs/jfpf8jxb' target=\"_blank\">https://wandb.ai/sumanta_roy/CS6910_assignment_1/runs/jfpf8jxb</a>"
      ],
      "text/plain": [
       "<IPython.core.display.HTML object>"
      ]
     },
     "metadata": {},
     "output_type": "display_data"
    },
    {
     "name": "stdout",
     "output_type": "stream",
     "text": [
      "Epoch: 1/5; Train Loss: 0.10461585756459542; Val Loss: 0.04647972040620771\n",
      "Epoch: 2/5; Train Loss: 0.10157991345842048; Val Loss: 0.04292963613989534\n",
      "Epoch: 3/5; Train Loss: 0.09345084746851748; Val Loss: 0.03973987755359824\n",
      "Epoch: 4/5; Train Loss: 0.08650524386252541; Val Loss: 0.039006668906010344\n",
      "Epoch: 5/5; Train Loss: 0.0813309000660036; Val Loss: 0.03797956060761177\n"
     ]
    },
    {
     "data": {
      "application/vnd.jupyter.widget-view+json": {
       "model_id": "bba98021526c4fd89cb9641494125a12",
       "version_major": 2,
       "version_minor": 0
      },
      "text/plain": [
       "VBox(children=(Label(value='0.001 MB of 0.001 MB uploaded\\r'), FloatProgress(value=1.0, max=1.0)))"
      ]
     },
     "metadata": {},
     "output_type": "display_data"
    },
    {
     "data": {
      "text/html": [
       "<style>\n",
       "    table.wandb td:nth-child(1) { padding: 0 10px; text-align: left ; width: auto;} td:nth-child(2) {text-align: left ; width: 100%}\n",
       "    .wandb-row { display: flex; flex-direction: row; flex-wrap: wrap; justify-content: flex-start; width: 100% }\n",
       "    .wandb-col { display: flex; flex-direction: column; flex-basis: 100%; flex: 1; padding: 10px; }\n",
       "    </style>\n",
       "<div class=\"wandb-row\"><div class=\"wandb-col\"><h3>Run history:</h3><br/><table class=\"wandb\"><tr><td>epoch</td><td>▁▁▁▁▁▁▁▁▃▃▃▃▃▃▃▃▅▅▅▅▅▅▅▅▆▆▆▆▆▆▆▆████████</td></tr><tr><td>train_accuracy</td><td>▁▄▇▅▆▆▆▃▃▅▇▇▆▄▆▇▇▆▇▅▄▄█▄▅▆▇▆▄▇▇▆▄▆▆█▇▇█▇</td></tr><tr><td>train_loss</td><td>█▆▄▄▅▄▃▅▅▄▃▃▂▄▃▂▃▃▂▇▄▅▁▅▄▄▄▃▅▁▂▂▄▃▃▁▂▂▂▃</td></tr><tr><td>val_accuracy</td><td>▁▄▅▆▆▇▆▇▇▇▇▇▇▇▇▇█▇▇█▇█▇███▇▇████████████</td></tr><tr><td>validation_loss</td><td>█▄▃▃▃▂▂▂▂▂▂▂▂▂▂▁▁▁▂▁▂▁▂▁▁▁▂▁▁▁▁▁▁▁▁▁▁▁▁▁</td></tr></table><br/></div><div class=\"wandb-col\"><h3>Run summary:</h3><br/><table class=\"wandb\"><tr><td>epoch</td><td>5</td></tr><tr><td>train_accuracy</td><td>100.0</td></tr><tr><td>train_loss</td><td>0.08133</td></tr><tr><td>val_accuracy</td><td>86.65</td></tr><tr><td>validation_loss</td><td>0.03798</td></tr></table><br/></div></div>"
      ],
      "text/plain": [
       "<IPython.core.display.HTML object>"
      ]
     },
     "metadata": {},
     "output_type": "display_data"
    },
    {
     "data": {
      "text/html": [
       " View run <strong style=\"color:#cdcd00\">playful-sweep-16</strong> at: <a href='https://wandb.ai/sumanta_roy/CS6910_assignment_1/runs/jfpf8jxb' target=\"_blank\">https://wandb.ai/sumanta_roy/CS6910_assignment_1/runs/jfpf8jxb</a><br/>Synced 6 W&B file(s), 0 media file(s), 0 artifact file(s) and 0 other file(s)"
      ],
      "text/plain": [
       "<IPython.core.display.HTML object>"
      ]
     },
     "metadata": {},
     "output_type": "display_data"
    },
    {
     "data": {
      "text/html": [
       "Find logs at: <code>./wandb/run-20240317_092348-jfpf8jxb/logs</code>"
      ],
      "text/plain": [
       "<IPython.core.display.HTML object>"
      ]
     },
     "metadata": {},
     "output_type": "display_data"
    },
    {
     "name": "stderr",
     "output_type": "stream",
     "text": [
      "\u001b[34m\u001b[1mwandb\u001b[0m: Agent Starting Run: 5kteish0 with config:\n",
      "\u001b[34m\u001b[1mwandb\u001b[0m: \tactivation: tanh\n",
      "\u001b[34m\u001b[1mwandb\u001b[0m: \tbatch_size: 16\n",
      "\u001b[34m\u001b[1mwandb\u001b[0m: \tepochs: 5\n",
      "\u001b[34m\u001b[1mwandb\u001b[0m: \thidden_layers: 4\n",
      "\u001b[34m\u001b[1mwandb\u001b[0m: \thidden_size: 64\n",
      "\u001b[34m\u001b[1mwandb\u001b[0m: \tloss: cross_entropy\n",
      "\u001b[34m\u001b[1mwandb\u001b[0m: \tlr: 0.001\n",
      "\u001b[34m\u001b[1mwandb\u001b[0m: \toptimizer: rmsprop\n",
      "\u001b[34m\u001b[1mwandb\u001b[0m: \tw_init: glorot\n",
      "\u001b[34m\u001b[1mwandb\u001b[0m: \tweight_decay: 0.0005\n"
     ]
    },
    {
     "data": {
      "text/html": [
       "Tracking run with wandb version 0.16.4"
      ],
      "text/plain": [
       "<IPython.core.display.HTML object>"
      ]
     },
     "metadata": {},
     "output_type": "display_data"
    },
    {
     "data": {
      "text/html": [
       "Run data is saved locally in <code>/Users/sumanta/Desktop/Numpy project/cross_entropy_lesspasses/wandb/run-20240317_092431-5kteish0</code>"
      ],
      "text/plain": [
       "<IPython.core.display.HTML object>"
      ]
     },
     "metadata": {},
     "output_type": "display_data"
    },
    {
     "data": {
      "text/html": [
       "Syncing run <strong><a href='https://wandb.ai/sumanta_roy/CS6910_assignment_1/runs/5kteish0' target=\"_blank\">comic-sweep-17</a></strong> to <a href='https://wandb.ai/sumanta_roy/CS6910_assignment_1' target=\"_blank\">Weights & Biases</a> (<a href='https://wandb.me/run' target=\"_blank\">docs</a>)<br/>Sweep page: <a href='https://wandb.ai/sumanta_roy/CS6910_assignment_1/sweeps/mefq3vzl' target=\"_blank\">https://wandb.ai/sumanta_roy/CS6910_assignment_1/sweeps/mefq3vzl</a>"
      ],
      "text/plain": [
       "<IPython.core.display.HTML object>"
      ]
     },
     "metadata": {},
     "output_type": "display_data"
    },
    {
     "data": {
      "text/html": [
       " View project at <a href='https://wandb.ai/sumanta_roy/CS6910_assignment_1' target=\"_blank\">https://wandb.ai/sumanta_roy/CS6910_assignment_1</a>"
      ],
      "text/plain": [
       "<IPython.core.display.HTML object>"
      ]
     },
     "metadata": {},
     "output_type": "display_data"
    },
    {
     "data": {
      "text/html": [
       " View sweep at <a href='https://wandb.ai/sumanta_roy/CS6910_assignment_1/sweeps/mefq3vzl' target=\"_blank\">https://wandb.ai/sumanta_roy/CS6910_assignment_1/sweeps/mefq3vzl</a>"
      ],
      "text/plain": [
       "<IPython.core.display.HTML object>"
      ]
     },
     "metadata": {},
     "output_type": "display_data"
    },
    {
     "data": {
      "text/html": [
       " View run at <a href='https://wandb.ai/sumanta_roy/CS6910_assignment_1/runs/5kteish0' target=\"_blank\">https://wandb.ai/sumanta_roy/CS6910_assignment_1/runs/5kteish0</a>"
      ],
      "text/plain": [
       "<IPython.core.display.HTML object>"
      ]
     },
     "metadata": {},
     "output_type": "display_data"
    },
    {
     "name": "stdout",
     "output_type": "stream",
     "text": [
      "Epoch: 1/5; Train Loss: 0.016396255035189815; Val Loss: 0.040658826703721805\n",
      "Epoch: 2/5; Train Loss: 0.014761453789126395; Val Loss: 0.036828129792069536\n",
      "Epoch: 3/5; Train Loss: 0.014680300176272709; Val Loss: 0.034648346928790964\n",
      "Epoch: 4/5; Train Loss: 0.015465648039704677; Val Loss: 0.034140641682601544\n",
      "Epoch: 5/5; Train Loss: 0.016031784153452407; Val Loss: 0.03402010918374427\n"
     ]
    },
    {
     "data": {
      "application/vnd.jupyter.widget-view+json": {
       "model_id": "522693af60fb47e9bdaf54a0194880ca",
       "version_major": 2,
       "version_minor": 0
      },
      "text/plain": [
       "VBox(children=(Label(value='0.001 MB of 0.001 MB uploaded\\r'), FloatProgress(value=1.0, max=1.0)))"
      ]
     },
     "metadata": {},
     "output_type": "display_data"
    },
    {
     "data": {
      "text/html": [
       "<style>\n",
       "    table.wandb td:nth-child(1) { padding: 0 10px; text-align: left ; width: auto;} td:nth-child(2) {text-align: left ; width: 100%}\n",
       "    .wandb-row { display: flex; flex-direction: row; flex-wrap: wrap; justify-content: flex-start; width: 100% }\n",
       "    .wandb-col { display: flex; flex-direction: column; flex-basis: 100%; flex: 1; padding: 10px; }\n",
       "    </style>\n",
       "<div class=\"wandb-row\"><div class=\"wandb-col\"><h3>Run history:</h3><br/><table class=\"wandb\"><tr><td>epoch</td><td>▁▁▁▁▁▁▁▁▃▃▃▃▃▃▃▃▅▅▅▅▅▅▅▅▆▆▆▆▆▆▆▆████████</td></tr><tr><td>train_accuracy</td><td>▁▁▇▅▂▂▇▄▇▄▅█▄▅█▇▇▅▄▅▄▂▇▂▅▅▅▇▅██▇▂█▇█▇▇▇▇</td></tr><tr><td>train_loss</td><td>█▆▂▂▄▃▂▄▃▄▃▂▃▄▁▂▂▂▂▄▄▄▁▄▃▄▃▂▃▁▁▂▃▂▂▁▂▂▂▃</td></tr><tr><td>val_accuracy</td><td>▁▅▆▆▇▇▇▇▇▇▆▇▇▇▇███▇█▇████▇█▇██████▇█████</td></tr><tr><td>validation_loss</td><td>█▄▃▃▂▂▂▂▂▂▃▂▂▁▁▁▁▁▂▁▂▁▁▁▁▁▁▁▁▂▁▁▁▁▁▁▁▁▁▁</td></tr></table><br/></div><div class=\"wandb-col\"><h3>Run summary:</h3><br/><table class=\"wandb\"><tr><td>epoch</td><td>5</td></tr><tr><td>train_accuracy</td><td>100.0</td></tr><tr><td>train_loss</td><td>0.01603</td></tr><tr><td>val_accuracy</td><td>87.91667</td></tr><tr><td>validation_loss</td><td>0.03402</td></tr></table><br/></div></div>"
      ],
      "text/plain": [
       "<IPython.core.display.HTML object>"
      ]
     },
     "metadata": {},
     "output_type": "display_data"
    },
    {
     "data": {
      "text/html": [
       " View run <strong style=\"color:#cdcd00\">comic-sweep-17</strong> at: <a href='https://wandb.ai/sumanta_roy/CS6910_assignment_1/runs/5kteish0' target=\"_blank\">https://wandb.ai/sumanta_roy/CS6910_assignment_1/runs/5kteish0</a><br/>Synced 6 W&B file(s), 0 media file(s), 0 artifact file(s) and 0 other file(s)"
      ],
      "text/plain": [
       "<IPython.core.display.HTML object>"
      ]
     },
     "metadata": {},
     "output_type": "display_data"
    },
    {
     "data": {
      "text/html": [
       "Find logs at: <code>./wandb/run-20240317_092431-5kteish0/logs</code>"
      ],
      "text/plain": [
       "<IPython.core.display.HTML object>"
      ]
     },
     "metadata": {},
     "output_type": "display_data"
    },
    {
     "name": "stderr",
     "output_type": "stream",
     "text": [
      "\u001b[34m\u001b[1mwandb\u001b[0m: Sweep Agent: Waiting for job.\n",
      "\u001b[34m\u001b[1mwandb\u001b[0m: Job received.\n",
      "\u001b[34m\u001b[1mwandb\u001b[0m: Agent Starting Run: ak6pjrh0 with config:\n",
      "\u001b[34m\u001b[1mwandb\u001b[0m: \tactivation: tanh\n",
      "\u001b[34m\u001b[1mwandb\u001b[0m: \tbatch_size: 16\n",
      "\u001b[34m\u001b[1mwandb\u001b[0m: \tepochs: 5\n",
      "\u001b[34m\u001b[1mwandb\u001b[0m: \thidden_layers: 3\n",
      "\u001b[34m\u001b[1mwandb\u001b[0m: \thidden_size: 64\n",
      "\u001b[34m\u001b[1mwandb\u001b[0m: \tloss: cross_entropy\n",
      "\u001b[34m\u001b[1mwandb\u001b[0m: \tlr: 0.0001\n",
      "\u001b[34m\u001b[1mwandb\u001b[0m: \toptimizer: adam\n",
      "\u001b[34m\u001b[1mwandb\u001b[0m: \tw_init: random\n",
      "\u001b[34m\u001b[1mwandb\u001b[0m: \tweight_decay: 0.0005\n"
     ]
    },
    {
     "data": {
      "text/html": [
       "Tracking run with wandb version 0.16.4"
      ],
      "text/plain": [
       "<IPython.core.display.HTML object>"
      ]
     },
     "metadata": {},
     "output_type": "display_data"
    },
    {
     "data": {
      "text/html": [
       "Run data is saved locally in <code>/Users/sumanta/Desktop/Numpy project/cross_entropy_lesspasses/wandb/run-20240317_092531-ak6pjrh0</code>"
      ],
      "text/plain": [
       "<IPython.core.display.HTML object>"
      ]
     },
     "metadata": {},
     "output_type": "display_data"
    },
    {
     "data": {
      "text/html": [
       "Syncing run <strong><a href='https://wandb.ai/sumanta_roy/CS6910_assignment_1/runs/ak6pjrh0' target=\"_blank\">deft-sweep-18</a></strong> to <a href='https://wandb.ai/sumanta_roy/CS6910_assignment_1' target=\"_blank\">Weights & Biases</a> (<a href='https://wandb.me/run' target=\"_blank\">docs</a>)<br/>Sweep page: <a href='https://wandb.ai/sumanta_roy/CS6910_assignment_1/sweeps/mefq3vzl' target=\"_blank\">https://wandb.ai/sumanta_roy/CS6910_assignment_1/sweeps/mefq3vzl</a>"
      ],
      "text/plain": [
       "<IPython.core.display.HTML object>"
      ]
     },
     "metadata": {},
     "output_type": "display_data"
    },
    {
     "data": {
      "text/html": [
       " View project at <a href='https://wandb.ai/sumanta_roy/CS6910_assignment_1' target=\"_blank\">https://wandb.ai/sumanta_roy/CS6910_assignment_1</a>"
      ],
      "text/plain": [
       "<IPython.core.display.HTML object>"
      ]
     },
     "metadata": {},
     "output_type": "display_data"
    },
    {
     "data": {
      "text/html": [
       " View sweep at <a href='https://wandb.ai/sumanta_roy/CS6910_assignment_1/sweeps/mefq3vzl' target=\"_blank\">https://wandb.ai/sumanta_roy/CS6910_assignment_1/sweeps/mefq3vzl</a>"
      ],
      "text/plain": [
       "<IPython.core.display.HTML object>"
      ]
     },
     "metadata": {},
     "output_type": "display_data"
    },
    {
     "data": {
      "text/html": [
       " View run at <a href='https://wandb.ai/sumanta_roy/CS6910_assignment_1/runs/ak6pjrh0' target=\"_blank\">https://wandb.ai/sumanta_roy/CS6910_assignment_1/runs/ak6pjrh0</a>"
      ],
      "text/plain": [
       "<IPython.core.display.HTML object>"
      ]
     },
     "metadata": {},
     "output_type": "display_data"
    },
    {
     "name": "stdout",
     "output_type": "stream",
     "text": [
      "Epoch: 1/5; Train Loss: 0.1102847488780678; Val Loss: 0.07968658017408446\n",
      "Epoch: 2/5; Train Loss: 0.09680799197208026; Val Loss: 0.06816256851309914\n",
      "Epoch: 3/5; Train Loss: 0.09207065863917746; Val Loss: 0.06209811760682868\n",
      "Epoch: 4/5; Train Loss: 0.09023178933168273; Val Loss: 0.05823832134064572\n",
      "Epoch: 5/5; Train Loss: 0.08898102548113905; Val Loss: 0.055476982382637305\n"
     ]
    },
    {
     "data": {
      "application/vnd.jupyter.widget-view+json": {
       "model_id": "3af0f848bcf84bba9b9ce7d307e67aa9",
       "version_major": 2,
       "version_minor": 0
      },
      "text/plain": [
       "VBox(children=(Label(value='0.001 MB of 0.027 MB uploaded\\r'), FloatProgress(value=0.02770798937621133, max=1.…"
      ]
     },
     "metadata": {},
     "output_type": "display_data"
    },
    {
     "data": {
      "text/html": [
       "<style>\n",
       "    table.wandb td:nth-child(1) { padding: 0 10px; text-align: left ; width: auto;} td:nth-child(2) {text-align: left ; width: 100%}\n",
       "    .wandb-row { display: flex; flex-direction: row; flex-wrap: wrap; justify-content: flex-start; width: 100% }\n",
       "    .wandb-col { display: flex; flex-direction: column; flex-basis: 100%; flex: 1; padding: 10px; }\n",
       "    </style>\n",
       "<div class=\"wandb-row\"><div class=\"wandb-col\"><h3>Run history:</h3><br/><table class=\"wandb\"><tr><td>epoch</td><td>▁▁▁▁▁▁▁▁▃▃▃▃▃▃▃▃▅▅▅▅▅▅▅▅▆▆▆▆▆▆▆▆████████</td></tr><tr><td>train_accuracy</td><td>▂▂▃▄▂▂▇▅▅▅▆▅▇▂▇█▇▆▇▅▁▅█▅▅▅▅▅▅▅▇▆▅▄█▇▇▇▇▇</td></tr><tr><td>train_loss</td><td>█▅▅▅▆▆▃▅▅▄▃▄▃▇▂▁▂▂▂▅▅▄▂▄▃▄▃▃▄▄▂▃▃▅▂▂▁▂▂▃</td></tr><tr><td>val_accuracy</td><td>▁▄▅▆▆▆▆▇▇▇▇▇▇▇▇▇▇▇▇▇████████████████████</td></tr><tr><td>validation_loss</td><td>█▅▄▃▃▃▂▂▂▂▂▂▂▂▂▂▂▂▂▁▁▁▁▁▁▁▁▁▁▁▁▁▁▁▁▁▁▁▁▁</td></tr></table><br/></div><div class=\"wandb-col\"><h3>Run summary:</h3><br/><table class=\"wandb\"><tr><td>epoch</td><td>5</td></tr><tr><td>train_accuracy</td><td>100.0</td></tr><tr><td>train_loss</td><td>0.08898</td></tr><tr><td>val_accuracy</td><td>80.71667</td></tr><tr><td>validation_loss</td><td>0.05548</td></tr></table><br/></div></div>"
      ],
      "text/plain": [
       "<IPython.core.display.HTML object>"
      ]
     },
     "metadata": {},
     "output_type": "display_data"
    },
    {
     "data": {
      "text/html": [
       " View run <strong style=\"color:#cdcd00\">deft-sweep-18</strong> at: <a href='https://wandb.ai/sumanta_roy/CS6910_assignment_1/runs/ak6pjrh0' target=\"_blank\">https://wandb.ai/sumanta_roy/CS6910_assignment_1/runs/ak6pjrh0</a><br/>Synced 6 W&B file(s), 0 media file(s), 0 artifact file(s) and 0 other file(s)"
      ],
      "text/plain": [
       "<IPython.core.display.HTML object>"
      ]
     },
     "metadata": {},
     "output_type": "display_data"
    },
    {
     "data": {
      "text/html": [
       "Find logs at: <code>./wandb/run-20240317_092531-ak6pjrh0/logs</code>"
      ],
      "text/plain": [
       "<IPython.core.display.HTML object>"
      ]
     },
     "metadata": {},
     "output_type": "display_data"
    },
    {
     "name": "stderr",
     "output_type": "stream",
     "text": [
      "\u001b[34m\u001b[1mwandb\u001b[0m: Agent Starting Run: vg0f3vga with config:\n",
      "\u001b[34m\u001b[1mwandb\u001b[0m: \tactivation: tanh\n",
      "\u001b[34m\u001b[1mwandb\u001b[0m: \tbatch_size: 16\n",
      "\u001b[34m\u001b[1mwandb\u001b[0m: \tepochs: 5\n",
      "\u001b[34m\u001b[1mwandb\u001b[0m: \thidden_layers: 3\n",
      "\u001b[34m\u001b[1mwandb\u001b[0m: \thidden_size: 128\n",
      "\u001b[34m\u001b[1mwandb\u001b[0m: \tloss: cross_entropy\n",
      "\u001b[34m\u001b[1mwandb\u001b[0m: \tlr: 0.001\n",
      "\u001b[34m\u001b[1mwandb\u001b[0m: \toptimizer: nadam\n",
      "\u001b[34m\u001b[1mwandb\u001b[0m: \tw_init: random\n",
      "\u001b[34m\u001b[1mwandb\u001b[0m: \tweight_decay: 0.0005\n"
     ]
    },
    {
     "data": {
      "text/html": [
       "Tracking run with wandb version 0.16.4"
      ],
      "text/plain": [
       "<IPython.core.display.HTML object>"
      ]
     },
     "metadata": {},
     "output_type": "display_data"
    },
    {
     "data": {
      "text/html": [
       "Run data is saved locally in <code>/Users/sumanta/Desktop/Numpy project/cross_entropy_lesspasses/wandb/run-20240317_092622-vg0f3vga</code>"
      ],
      "text/plain": [
       "<IPython.core.display.HTML object>"
      ]
     },
     "metadata": {},
     "output_type": "display_data"
    },
    {
     "data": {
      "text/html": [
       "Syncing run <strong><a href='https://wandb.ai/sumanta_roy/CS6910_assignment_1/runs/vg0f3vga' target=\"_blank\">helpful-sweep-19</a></strong> to <a href='https://wandb.ai/sumanta_roy/CS6910_assignment_1' target=\"_blank\">Weights & Biases</a> (<a href='https://wandb.me/run' target=\"_blank\">docs</a>)<br/>Sweep page: <a href='https://wandb.ai/sumanta_roy/CS6910_assignment_1/sweeps/mefq3vzl' target=\"_blank\">https://wandb.ai/sumanta_roy/CS6910_assignment_1/sweeps/mefq3vzl</a>"
      ],
      "text/plain": [
       "<IPython.core.display.HTML object>"
      ]
     },
     "metadata": {},
     "output_type": "display_data"
    },
    {
     "data": {
      "text/html": [
       " View project at <a href='https://wandb.ai/sumanta_roy/CS6910_assignment_1' target=\"_blank\">https://wandb.ai/sumanta_roy/CS6910_assignment_1</a>"
      ],
      "text/plain": [
       "<IPython.core.display.HTML object>"
      ]
     },
     "metadata": {},
     "output_type": "display_data"
    },
    {
     "data": {
      "text/html": [
       " View sweep at <a href='https://wandb.ai/sumanta_roy/CS6910_assignment_1/sweeps/mefq3vzl' target=\"_blank\">https://wandb.ai/sumanta_roy/CS6910_assignment_1/sweeps/mefq3vzl</a>"
      ],
      "text/plain": [
       "<IPython.core.display.HTML object>"
      ]
     },
     "metadata": {},
     "output_type": "display_data"
    },
    {
     "data": {
      "text/html": [
       " View run at <a href='https://wandb.ai/sumanta_roy/CS6910_assignment_1/runs/vg0f3vga' target=\"_blank\">https://wandb.ai/sumanta_roy/CS6910_assignment_1/runs/vg0f3vga</a>"
      ],
      "text/plain": [
       "<IPython.core.display.HTML object>"
      ]
     },
     "metadata": {},
     "output_type": "display_data"
    },
    {
     "name": "stdout",
     "output_type": "stream",
     "text": [
      "Epoch: 1/5; Train Loss: 0.19702445843119387; Val Loss: 0.062020772893680604\n",
      "Epoch: 2/5; Train Loss: 0.18838020737306635; Val Loss: 0.054854431150338515\n",
      "Epoch: 3/5; Train Loss: 0.18266433915904373; Val Loss: 0.05099229063483836\n",
      "Epoch: 4/5; Train Loss: 0.17873617031230304; Val Loss: 0.04858180280913768\n",
      "Epoch: 5/5; Train Loss: 0.17614142557329387; Val Loss: 0.04690613901669591\n"
     ]
    },
    {
     "data": {
      "application/vnd.jupyter.widget-view+json": {
       "model_id": "4bb2961f557e42559f2ccb93f769f12e",
       "version_major": 2,
       "version_minor": 0
      },
      "text/plain": [
       "VBox(children=(Label(value='0.001 MB of 0.001 MB uploaded\\r'), FloatProgress(value=1.0, max=1.0)))"
      ]
     },
     "metadata": {},
     "output_type": "display_data"
    },
    {
     "data": {
      "text/html": [
       "<style>\n",
       "    table.wandb td:nth-child(1) { padding: 0 10px; text-align: left ; width: auto;} td:nth-child(2) {text-align: left ; width: 100%}\n",
       "    .wandb-row { display: flex; flex-direction: row; flex-wrap: wrap; justify-content: flex-start; width: 100% }\n",
       "    .wandb-col { display: flex; flex-direction: column; flex-basis: 100%; flex: 1; padding: 10px; }\n",
       "    </style>\n",
       "<div class=\"wandb-row\"><div class=\"wandb-col\"><h3>Run history:</h3><br/><table class=\"wandb\"><tr><td>epoch</td><td>▁▁▁▁▁▁▁▁▃▃▃▃▃▃▃▃▅▅▅▅▅▅▅▅▆▆▆▆▆▆▆▆████████</td></tr><tr><td>train_accuracy</td><td>▁▄▆▇▄▅▇▄▅▅▇▅▆▅▇▇▇▇▇▅▆▅▇▅▅▇▇▇▅▇▇▆▆▅▇▇█▇▇▇</td></tr><tr><td>train_loss</td><td>█▆▄▃▅▅▂▅▄▅▂▄▃▆▃▂▂▃▂▅▃▃▂▄▃▄▃▃▃▂▂▃▄▅▄▂▁▂▁▂</td></tr><tr><td>val_accuracy</td><td>▁▄▅▅▆▆▆▆▇▇▇▇▇▇▇▇▇▇▇▇▇███████████████████</td></tr><tr><td>validation_loss</td><td>█▅▄▃▃▃▂▂▂▂▂▂▂▂▂▂▂▂▂▂▂▁▁▁▁▁▁▁▁▁▁▁▁▁▁▁▁▁▁▁</td></tr></table><br/></div><div class=\"wandb-col\"><h3>Run summary:</h3><br/><table class=\"wandb\"><tr><td>epoch</td><td>5</td></tr><tr><td>train_accuracy</td><td>100.0</td></tr><tr><td>train_loss</td><td>0.17614</td></tr><tr><td>val_accuracy</td><td>83.81667</td></tr><tr><td>validation_loss</td><td>0.04691</td></tr></table><br/></div></div>"
      ],
      "text/plain": [
       "<IPython.core.display.HTML object>"
      ]
     },
     "metadata": {},
     "output_type": "display_data"
    },
    {
     "data": {
      "text/html": [
       " View run <strong style=\"color:#cdcd00\">helpful-sweep-19</strong> at: <a href='https://wandb.ai/sumanta_roy/CS6910_assignment_1/runs/vg0f3vga' target=\"_blank\">https://wandb.ai/sumanta_roy/CS6910_assignment_1/runs/vg0f3vga</a><br/>Synced 6 W&B file(s), 0 media file(s), 0 artifact file(s) and 0 other file(s)"
      ],
      "text/plain": [
       "<IPython.core.display.HTML object>"
      ]
     },
     "metadata": {},
     "output_type": "display_data"
    },
    {
     "data": {
      "text/html": [
       "Find logs at: <code>./wandb/run-20240317_092622-vg0f3vga/logs</code>"
      ],
      "text/plain": [
       "<IPython.core.display.HTML object>"
      ]
     },
     "metadata": {},
     "output_type": "display_data"
    },
    {
     "name": "stderr",
     "output_type": "stream",
     "text": [
      "\u001b[34m\u001b[1mwandb\u001b[0m: Agent Starting Run: otuauriz with config:\n",
      "\u001b[34m\u001b[1mwandb\u001b[0m: \tactivation: tanh\n",
      "\u001b[34m\u001b[1mwandb\u001b[0m: \tbatch_size: 16\n",
      "\u001b[34m\u001b[1mwandb\u001b[0m: \tepochs: 10\n",
      "\u001b[34m\u001b[1mwandb\u001b[0m: \thidden_layers: 3\n",
      "\u001b[34m\u001b[1mwandb\u001b[0m: \thidden_size: 128\n",
      "\u001b[34m\u001b[1mwandb\u001b[0m: \tloss: cross_entropy\n",
      "\u001b[34m\u001b[1mwandb\u001b[0m: \tlr: 0.001\n",
      "\u001b[34m\u001b[1mwandb\u001b[0m: \toptimizer: rmsprop\n",
      "\u001b[34m\u001b[1mwandb\u001b[0m: \tw_init: glorot\n",
      "\u001b[34m\u001b[1mwandb\u001b[0m: \tweight_decay: 0\n"
     ]
    },
    {
     "data": {
      "application/vnd.jupyter.widget-view+json": {
       "model_id": "e952b88bf41740e6b2e206bdd185e49f",
       "version_major": 2,
       "version_minor": 0
      },
      "text/plain": [
       "VBox(children=(Label(value='Waiting for wandb.init()...\\r'), FloatProgress(value=0.011251762955604741, max=1.0…"
      ]
     },
     "metadata": {},
     "output_type": "display_data"
    },
    {
     "data": {
      "text/html": [
       "Tracking run with wandb version 0.16.4"
      ],
      "text/plain": [
       "<IPython.core.display.HTML object>"
      ]
     },
     "metadata": {},
     "output_type": "display_data"
    },
    {
     "data": {
      "text/html": [
       "Run data is saved locally in <code>/Users/sumanta/Desktop/Numpy project/cross_entropy_lesspasses/wandb/run-20240317_092755-otuauriz</code>"
      ],
      "text/plain": [
       "<IPython.core.display.HTML object>"
      ]
     },
     "metadata": {},
     "output_type": "display_data"
    },
    {
     "data": {
      "text/html": [
       "Syncing run <strong><a href='https://wandb.ai/sumanta_roy/CS6910_assignment_1/runs/otuauriz' target=\"_blank\">cerulean-sweep-20</a></strong> to <a href='https://wandb.ai/sumanta_roy/CS6910_assignment_1' target=\"_blank\">Weights & Biases</a> (<a href='https://wandb.me/run' target=\"_blank\">docs</a>)<br/>Sweep page: <a href='https://wandb.ai/sumanta_roy/CS6910_assignment_1/sweeps/mefq3vzl' target=\"_blank\">https://wandb.ai/sumanta_roy/CS6910_assignment_1/sweeps/mefq3vzl</a>"
      ],
      "text/plain": [
       "<IPython.core.display.HTML object>"
      ]
     },
     "metadata": {},
     "output_type": "display_data"
    },
    {
     "data": {
      "text/html": [
       " View project at <a href='https://wandb.ai/sumanta_roy/CS6910_assignment_1' target=\"_blank\">https://wandb.ai/sumanta_roy/CS6910_assignment_1</a>"
      ],
      "text/plain": [
       "<IPython.core.display.HTML object>"
      ]
     },
     "metadata": {},
     "output_type": "display_data"
    },
    {
     "data": {
      "text/html": [
       " View sweep at <a href='https://wandb.ai/sumanta_roy/CS6910_assignment_1/sweeps/mefq3vzl' target=\"_blank\">https://wandb.ai/sumanta_roy/CS6910_assignment_1/sweeps/mefq3vzl</a>"
      ],
      "text/plain": [
       "<IPython.core.display.HTML object>"
      ]
     },
     "metadata": {},
     "output_type": "display_data"
    },
    {
     "data": {
      "text/html": [
       " View run at <a href='https://wandb.ai/sumanta_roy/CS6910_assignment_1/runs/otuauriz' target=\"_blank\">https://wandb.ai/sumanta_roy/CS6910_assignment_1/runs/otuauriz</a>"
      ],
      "text/plain": [
       "<IPython.core.display.HTML object>"
      ]
     },
     "metadata": {},
     "output_type": "display_data"
    },
    {
     "name": "stdout",
     "output_type": "stream",
     "text": [
      "Epoch: 1/10; Train Loss: 0.012004790427650425; Val Loss: 0.03946044545330044\n",
      "Epoch: 2/10; Train Loss: 0.008658016409733372; Val Loss: 0.03631724336472319\n",
      "Epoch: 3/10; Train Loss: 0.00677111509785792; Val Loss: 0.03512427928303503\n",
      "Epoch: 4/10; Train Loss: 0.0056581982858860975; Val Loss: 0.034376976962005854\n",
      "Epoch: 5/10; Train Loss: 0.0043002695203052405; Val Loss: 0.034230592378638396\n",
      "Epoch: 6/10; Train Loss: 0.0035401182085891387; Val Loss: 0.03385570290540854\n",
      "Epoch: 7/10; Train Loss: 0.002999293903403799; Val Loss: 0.03409153816768516\n",
      "Epoch: 8/10; Train Loss: 0.002856462600041255; Val Loss: 0.03371980827133472\n",
      "Epoch: 9/10; Train Loss: 0.002554773297307873; Val Loss: 0.03408601363536721\n",
      "Epoch: 10/10; Train Loss: 0.0030682907905970605; Val Loss: 0.03443026042488687\n"
     ]
    },
    {
     "data": {
      "application/vnd.jupyter.widget-view+json": {
       "model_id": "67e5f0e35ca54193897ba823915da82a",
       "version_major": 2,
       "version_minor": 0
      },
      "text/plain": [
       "VBox(children=(Label(value='0.001 MB of 0.001 MB uploaded\\r'), FloatProgress(value=1.0, max=1.0)))"
      ]
     },
     "metadata": {},
     "output_type": "display_data"
    },
    {
     "data": {
      "text/html": [
       "<style>\n",
       "    table.wandb td:nth-child(1) { padding: 0 10px; text-align: left ; width: auto;} td:nth-child(2) {text-align: left ; width: 100%}\n",
       "    .wandb-row { display: flex; flex-direction: row; flex-wrap: wrap; justify-content: flex-start; width: 100% }\n",
       "    .wandb-col { display: flex; flex-direction: column; flex-basis: 100%; flex: 1; padding: 10px; }\n",
       "    </style>\n",
       "<div class=\"wandb-row\"><div class=\"wandb-col\"><h3>Run history:</h3><br/><table class=\"wandb\"><tr><td>epoch</td><td>▁▁▁▁▂▂▂▂▃▃▃▃▃▃▃▃▄▄▄▄▅▅▅▅▆▆▆▆▆▆▆▆▇▇▇▇████</td></tr><tr><td>train_accuracy</td><td>▁█▇▇▇▅▇▇▇▄▅▇▅▅▅▇▂▅▄▇▅▅▅▅▇▄▅▄▇▄█▇▇▅█▅▅▅▇▅</td></tr><tr><td>train_loss</td><td>█▃▂▃▃▄▃▂▃▃▄▂▃▅▄▂▆▄▄▃▄▅▄▄▂▅▄▄▂▆▁▂▂▃▁▃▃▃▂▃</td></tr><tr><td>val_accuracy</td><td>▁▄▅▄▅▄▆▇▇▇▅▇▇▆▇▇▇▇█▇█▇█▇█████▇▇███▇██▇██</td></tr><tr><td>validation_loss</td><td>█▆▅▄▄▅▂▂▂▁▃▂▁▂▁▂▂▂▁▂▁▂▁▂▁▁▁▂▂▂▂▁▁▂▂▁▁▃▂▁</td></tr></table><br/></div><div class=\"wandb-col\"><h3>Run summary:</h3><br/><table class=\"wandb\"><tr><td>epoch</td><td>10</td></tr><tr><td>train_accuracy</td><td>100.0</td></tr><tr><td>train_loss</td><td>0.00307</td></tr><tr><td>val_accuracy</td><td>89.01667</td></tr><tr><td>validation_loss</td><td>0.03443</td></tr></table><br/></div></div>"
      ],
      "text/plain": [
       "<IPython.core.display.HTML object>"
      ]
     },
     "metadata": {},
     "output_type": "display_data"
    },
    {
     "data": {
      "text/html": [
       " View run <strong style=\"color:#cdcd00\">cerulean-sweep-20</strong> at: <a href='https://wandb.ai/sumanta_roy/CS6910_assignment_1/runs/otuauriz' target=\"_blank\">https://wandb.ai/sumanta_roy/CS6910_assignment_1/runs/otuauriz</a><br/>Synced 6 W&B file(s), 0 media file(s), 0 artifact file(s) and 0 other file(s)"
      ],
      "text/plain": [
       "<IPython.core.display.HTML object>"
      ]
     },
     "metadata": {},
     "output_type": "display_data"
    },
    {
     "data": {
      "text/html": [
       "Find logs at: <code>./wandb/run-20240317_092755-otuauriz/logs</code>"
      ],
      "text/plain": [
       "<IPython.core.display.HTML object>"
      ]
     },
     "metadata": {},
     "output_type": "display_data"
    },
    {
     "name": "stderr",
     "output_type": "stream",
     "text": [
      "\u001b[34m\u001b[1mwandb\u001b[0m: Agent Starting Run: rcxmzjvx with config:\n",
      "\u001b[34m\u001b[1mwandb\u001b[0m: \tactivation: tanh\n",
      "\u001b[34m\u001b[1mwandb\u001b[0m: \tbatch_size: 16\n",
      "\u001b[34m\u001b[1mwandb\u001b[0m: \tepochs: 5\n",
      "\u001b[34m\u001b[1mwandb\u001b[0m: \thidden_layers: 3\n",
      "\u001b[34m\u001b[1mwandb\u001b[0m: \thidden_size: 64\n",
      "\u001b[34m\u001b[1mwandb\u001b[0m: \tloss: cross_entropy\n",
      "\u001b[34m\u001b[1mwandb\u001b[0m: \tlr: 0.001\n",
      "\u001b[34m\u001b[1mwandb\u001b[0m: \toptimizer: nadam\n",
      "\u001b[34m\u001b[1mwandb\u001b[0m: \tw_init: glorot\n",
      "\u001b[34m\u001b[1mwandb\u001b[0m: \tweight_decay: 0\n"
     ]
    },
    {
     "data": {
      "text/html": [
       "Tracking run with wandb version 0.16.4"
      ],
      "text/plain": [
       "<IPython.core.display.HTML object>"
      ]
     },
     "metadata": {},
     "output_type": "display_data"
    },
    {
     "data": {
      "text/html": [
       "Run data is saved locally in <code>/Users/sumanta/Desktop/Numpy project/cross_entropy_lesspasses/wandb/run-20240317_093014-rcxmzjvx</code>"
      ],
      "text/plain": [
       "<IPython.core.display.HTML object>"
      ]
     },
     "metadata": {},
     "output_type": "display_data"
    },
    {
     "data": {
      "text/html": [
       "Syncing run <strong><a href='https://wandb.ai/sumanta_roy/CS6910_assignment_1/runs/rcxmzjvx' target=\"_blank\">swept-sweep-21</a></strong> to <a href='https://wandb.ai/sumanta_roy/CS6910_assignment_1' target=\"_blank\">Weights & Biases</a> (<a href='https://wandb.me/run' target=\"_blank\">docs</a>)<br/>Sweep page: <a href='https://wandb.ai/sumanta_roy/CS6910_assignment_1/sweeps/mefq3vzl' target=\"_blank\">https://wandb.ai/sumanta_roy/CS6910_assignment_1/sweeps/mefq3vzl</a>"
      ],
      "text/plain": [
       "<IPython.core.display.HTML object>"
      ]
     },
     "metadata": {},
     "output_type": "display_data"
    },
    {
     "data": {
      "text/html": [
       " View project at <a href='https://wandb.ai/sumanta_roy/CS6910_assignment_1' target=\"_blank\">https://wandb.ai/sumanta_roy/CS6910_assignment_1</a>"
      ],
      "text/plain": [
       "<IPython.core.display.HTML object>"
      ]
     },
     "metadata": {},
     "output_type": "display_data"
    },
    {
     "data": {
      "text/html": [
       " View sweep at <a href='https://wandb.ai/sumanta_roy/CS6910_assignment_1/sweeps/mefq3vzl' target=\"_blank\">https://wandb.ai/sumanta_roy/CS6910_assignment_1/sweeps/mefq3vzl</a>"
      ],
      "text/plain": [
       "<IPython.core.display.HTML object>"
      ]
     },
     "metadata": {},
     "output_type": "display_data"
    },
    {
     "data": {
      "text/html": [
       " View run at <a href='https://wandb.ai/sumanta_roy/CS6910_assignment_1/runs/rcxmzjvx' target=\"_blank\">https://wandb.ai/sumanta_roy/CS6910_assignment_1/runs/rcxmzjvx</a>"
      ],
      "text/plain": [
       "<IPython.core.display.HTML object>"
      ]
     },
     "metadata": {},
     "output_type": "display_data"
    },
    {
     "name": "stdout",
     "output_type": "stream",
     "text": [
      "Epoch: 1/5; Train Loss: 0.010211028123932677; Val Loss: 0.04660015288788078\n",
      "Epoch: 2/5; Train Loss: 0.010197590692251296; Val Loss: 0.042034588275702604\n",
      "Epoch: 3/5; Train Loss: 0.010566263616076956; Val Loss: 0.03964837898877469\n",
      "Epoch: 4/5; Train Loss: 0.010905286886095267; Val Loss: 0.038060204514546246\n",
      "Epoch: 5/5; Train Loss: 0.011190651685293807; Val Loss: 0.036900842210717405\n"
     ]
    },
    {
     "data": {
      "application/vnd.jupyter.widget-view+json": {
       "model_id": "93c095d591134fb4ac113dd09e62432e",
       "version_major": 2,
       "version_minor": 0
      },
      "text/plain": [
       "VBox(children=(Label(value='0.001 MB of 0.001 MB uploaded\\r'), FloatProgress(value=1.0, max=1.0)))"
      ]
     },
     "metadata": {},
     "output_type": "display_data"
    },
    {
     "data": {
      "text/html": [
       "<style>\n",
       "    table.wandb td:nth-child(1) { padding: 0 10px; text-align: left ; width: auto;} td:nth-child(2) {text-align: left ; width: 100%}\n",
       "    .wandb-row { display: flex; flex-direction: row; flex-wrap: wrap; justify-content: flex-start; width: 100% }\n",
       "    .wandb-col { display: flex; flex-direction: column; flex-basis: 100%; flex: 1; padding: 10px; }\n",
       "    </style>\n",
       "<div class=\"wandb-row\"><div class=\"wandb-col\"><h3>Run history:</h3><br/><table class=\"wandb\"><tr><td>epoch</td><td>▁▁▁▁▁▁▁▁▃▃▃▃▃▃▃▃▅▅▅▅▅▅▅▅▆▆▆▆▆▆▆▆████████</td></tr><tr><td>train_accuracy</td><td>▁▃▆▇▄▅▆▄▃▄▇▆▆▅▆▇▇▆▇▅▅▄▇▅▆▅▆▆▄█▆▆▄▇▆█▇▇▇▇</td></tr><tr><td>train_loss</td><td>█▇▄▃▆▄▃▅▆▅▃▃▃▆▂▂▃▂▂▄▄▄▁▄▄▄▃▂▄▂▂▃▄▃▃▁▁▂▂▃</td></tr><tr><td>val_accuracy</td><td>▁▄▅▆▆▇▇▇▇▇▇▇▇▇▇▇▇▇▇▇▇███████████████████</td></tr><tr><td>validation_loss</td><td>█▅▄▃▃▃▂▂▂▂▂▂▂▂▂▂▂▂▂▂▂▁▁▁▁▁▁▁▁▁▁▁▁▁▁▁▁▁▁▁</td></tr></table><br/></div><div class=\"wandb-col\"><h3>Run summary:</h3><br/><table class=\"wandb\"><tr><td>epoch</td><td>5</td></tr><tr><td>train_accuracy</td><td>93.75</td></tr><tr><td>train_loss</td><td>0.01119</td></tr><tr><td>val_accuracy</td><td>87.05</td></tr><tr><td>validation_loss</td><td>0.0369</td></tr></table><br/></div></div>"
      ],
      "text/plain": [
       "<IPython.core.display.HTML object>"
      ]
     },
     "metadata": {},
     "output_type": "display_data"
    },
    {
     "data": {
      "text/html": [
       " View run <strong style=\"color:#cdcd00\">swept-sweep-21</strong> at: <a href='https://wandb.ai/sumanta_roy/CS6910_assignment_1/runs/rcxmzjvx' target=\"_blank\">https://wandb.ai/sumanta_roy/CS6910_assignment_1/runs/rcxmzjvx</a><br/>Synced 6 W&B file(s), 0 media file(s), 0 artifact file(s) and 0 other file(s)"
      ],
      "text/plain": [
       "<IPython.core.display.HTML object>"
      ]
     },
     "metadata": {},
     "output_type": "display_data"
    },
    {
     "data": {
      "text/html": [
       "Find logs at: <code>./wandb/run-20240317_093014-rcxmzjvx/logs</code>"
      ],
      "text/plain": [
       "<IPython.core.display.HTML object>"
      ]
     },
     "metadata": {},
     "output_type": "display_data"
    },
    {
     "name": "stderr",
     "output_type": "stream",
     "text": [
      "\u001b[34m\u001b[1mwandb\u001b[0m: Agent Starting Run: sreo3nd0 with config:\n",
      "\u001b[34m\u001b[1mwandb\u001b[0m: \tactivation: tanh\n",
      "\u001b[34m\u001b[1mwandb\u001b[0m: \tbatch_size: 16\n",
      "\u001b[34m\u001b[1mwandb\u001b[0m: \tepochs: 5\n",
      "\u001b[34m\u001b[1mwandb\u001b[0m: \thidden_layers: 3\n",
      "\u001b[34m\u001b[1mwandb\u001b[0m: \thidden_size: 64\n",
      "\u001b[34m\u001b[1mwandb\u001b[0m: \tloss: cross_entropy\n",
      "\u001b[34m\u001b[1mwandb\u001b[0m: \tlr: 0.001\n",
      "\u001b[34m\u001b[1mwandb\u001b[0m: \toptimizer: adam\n",
      "\u001b[34m\u001b[1mwandb\u001b[0m: \tw_init: glorot\n",
      "\u001b[34m\u001b[1mwandb\u001b[0m: \tweight_decay: 0.0005\n"
     ]
    },
    {
     "data": {
      "text/html": [
       "Tracking run with wandb version 0.16.4"
      ],
      "text/plain": [
       "<IPython.core.display.HTML object>"
      ]
     },
     "metadata": {},
     "output_type": "display_data"
    },
    {
     "data": {
      "text/html": [
       "Run data is saved locally in <code>/Users/sumanta/Desktop/Numpy project/cross_entropy_lesspasses/wandb/run-20240317_093106-sreo3nd0</code>"
      ],
      "text/plain": [
       "<IPython.core.display.HTML object>"
      ]
     },
     "metadata": {},
     "output_type": "display_data"
    },
    {
     "data": {
      "text/html": [
       "Syncing run <strong><a href='https://wandb.ai/sumanta_roy/CS6910_assignment_1/runs/sreo3nd0' target=\"_blank\">fragrant-sweep-22</a></strong> to <a href='https://wandb.ai/sumanta_roy/CS6910_assignment_1' target=\"_blank\">Weights & Biases</a> (<a href='https://wandb.me/run' target=\"_blank\">docs</a>)<br/>Sweep page: <a href='https://wandb.ai/sumanta_roy/CS6910_assignment_1/sweeps/mefq3vzl' target=\"_blank\">https://wandb.ai/sumanta_roy/CS6910_assignment_1/sweeps/mefq3vzl</a>"
      ],
      "text/plain": [
       "<IPython.core.display.HTML object>"
      ]
     },
     "metadata": {},
     "output_type": "display_data"
    },
    {
     "data": {
      "text/html": [
       " View project at <a href='https://wandb.ai/sumanta_roy/CS6910_assignment_1' target=\"_blank\">https://wandb.ai/sumanta_roy/CS6910_assignment_1</a>"
      ],
      "text/plain": [
       "<IPython.core.display.HTML object>"
      ]
     },
     "metadata": {},
     "output_type": "display_data"
    },
    {
     "data": {
      "text/html": [
       " View sweep at <a href='https://wandb.ai/sumanta_roy/CS6910_assignment_1/sweeps/mefq3vzl' target=\"_blank\">https://wandb.ai/sumanta_roy/CS6910_assignment_1/sweeps/mefq3vzl</a>"
      ],
      "text/plain": [
       "<IPython.core.display.HTML object>"
      ]
     },
     "metadata": {},
     "output_type": "display_data"
    },
    {
     "data": {
      "text/html": [
       " View run at <a href='https://wandb.ai/sumanta_roy/CS6910_assignment_1/runs/sreo3nd0' target=\"_blank\">https://wandb.ai/sumanta_roy/CS6910_assignment_1/runs/sreo3nd0</a>"
      ],
      "text/plain": [
       "<IPython.core.display.HTML object>"
      ]
     },
     "metadata": {},
     "output_type": "display_data"
    },
    {
     "name": "stdout",
     "output_type": "stream",
     "text": [
      "Epoch: 1/5; Train Loss: 0.012657050161160258; Val Loss: 0.037335036838349336\n",
      "Epoch: 2/5; Train Loss: 0.012648240113492956; Val Loss: 0.03487521182186364\n",
      "Epoch: 3/5; Train Loss: 0.012619358023500109; Val Loss: 0.03365813771374429\n",
      "Epoch: 4/5; Train Loss: 0.012865076394321787; Val Loss: 0.03299710494775856\n",
      "Epoch: 5/5; Train Loss: 0.013484521014627642; Val Loss: 0.03266404205662898\n"
     ]
    },
    {
     "data": {
      "application/vnd.jupyter.widget-view+json": {
       "model_id": "7b98eb1942c84c16914561fcaaa0c3ab",
       "version_major": 2,
       "version_minor": 0
      },
      "text/plain": [
       "VBox(children=(Label(value='0.001 MB of 0.001 MB uploaded\\r'), FloatProgress(value=1.0, max=1.0)))"
      ]
     },
     "metadata": {},
     "output_type": "display_data"
    },
    {
     "data": {
      "text/html": [
       "<style>\n",
       "    table.wandb td:nth-child(1) { padding: 0 10px; text-align: left ; width: auto;} td:nth-child(2) {text-align: left ; width: 100%}\n",
       "    .wandb-row { display: flex; flex-direction: row; flex-wrap: wrap; justify-content: flex-start; width: 100% }\n",
       "    .wandb-col { display: flex; flex-direction: column; flex-basis: 100%; flex: 1; padding: 10px; }\n",
       "    </style>\n",
       "<div class=\"wandb-row\"><div class=\"wandb-col\"><h3>Run history:</h3><br/><table class=\"wandb\"><tr><td>epoch</td><td>▁▁▁▁▁▁▁▁▃▃▃▃▃▃▃▃▅▅▅▅▅▅▅▅▆▆▆▆▆▆▆▆████████</td></tr><tr><td>train_accuracy</td><td>▁▄▇▅▂▄▅▄▁▂▇█▅▄▅▇▅▇▅▅▅▂█▂▄▅▅▅▂▇█▅▂▅▇█████</td></tr><tr><td>train_loss</td><td>█▆▃▃▆▃▃▅▅▅▃▃▃▄▂▂▃▃▂▅▅▄▁▅▄▄▄▃▄▂▁▃▄▃▃▁▁▂▁▂</td></tr><tr><td>val_accuracy</td><td>▁▄▆▆▇▇▇▇▇▇▇▇▇▇▇▇▇▇▇█▇███▇███████████▇███</td></tr><tr><td>validation_loss</td><td>█▅▄▃▃▃▃▂▂▂▂▂▂▂▂▂▂▂▂▂▂▂▂▂▂▁▁▁▁▁▁▁▁▁▁▁▂▁▁▁</td></tr></table><br/></div><div class=\"wandb-col\"><h3>Run summary:</h3><br/><table class=\"wandb\"><tr><td>epoch</td><td>5</td></tr><tr><td>train_accuracy</td><td>100.0</td></tr><tr><td>train_loss</td><td>0.01348</td></tr><tr><td>val_accuracy</td><td>88.66667</td></tr><tr><td>validation_loss</td><td>0.03266</td></tr></table><br/></div></div>"
      ],
      "text/plain": [
       "<IPython.core.display.HTML object>"
      ]
     },
     "metadata": {},
     "output_type": "display_data"
    },
    {
     "data": {
      "text/html": [
       " View run <strong style=\"color:#cdcd00\">fragrant-sweep-22</strong> at: <a href='https://wandb.ai/sumanta_roy/CS6910_assignment_1/runs/sreo3nd0' target=\"_blank\">https://wandb.ai/sumanta_roy/CS6910_assignment_1/runs/sreo3nd0</a><br/>Synced 6 W&B file(s), 0 media file(s), 0 artifact file(s) and 0 other file(s)"
      ],
      "text/plain": [
       "<IPython.core.display.HTML object>"
      ]
     },
     "metadata": {},
     "output_type": "display_data"
    },
    {
     "data": {
      "text/html": [
       "Find logs at: <code>./wandb/run-20240317_093106-sreo3nd0/logs</code>"
      ],
      "text/plain": [
       "<IPython.core.display.HTML object>"
      ]
     },
     "metadata": {},
     "output_type": "display_data"
    },
    {
     "name": "stderr",
     "output_type": "stream",
     "text": [
      "\u001b[34m\u001b[1mwandb\u001b[0m: Agent Starting Run: 2ygch15i with config:\n",
      "\u001b[34m\u001b[1mwandb\u001b[0m: \tactivation: relu\n",
      "\u001b[34m\u001b[1mwandb\u001b[0m: \tbatch_size: 16\n",
      "\u001b[34m\u001b[1mwandb\u001b[0m: \tepochs: 5\n",
      "\u001b[34m\u001b[1mwandb\u001b[0m: \thidden_layers: 3\n",
      "\u001b[34m\u001b[1mwandb\u001b[0m: \thidden_size: 32\n",
      "\u001b[34m\u001b[1mwandb\u001b[0m: \tloss: cross_entropy\n",
      "\u001b[34m\u001b[1mwandb\u001b[0m: \tlr: 0.0001\n",
      "\u001b[34m\u001b[1mwandb\u001b[0m: \toptimizer: rmsprop\n",
      "\u001b[34m\u001b[1mwandb\u001b[0m: \tw_init: glorot\n",
      "\u001b[34m\u001b[1mwandb\u001b[0m: \tweight_decay: 0\n"
     ]
    },
    {
     "data": {
      "application/vnd.jupyter.widget-view+json": {
       "model_id": "61baa10874fa484db6d133a7f72d79cd",
       "version_major": 2,
       "version_minor": 0
      },
      "text/plain": [
       "VBox(children=(Label(value='Waiting for wandb.init()...\\r'), FloatProgress(value=0.011223064344408663, max=1.0…"
      ]
     },
     "metadata": {},
     "output_type": "display_data"
    },
    {
     "data": {
      "text/html": [
       "Tracking run with wandb version 0.16.4"
      ],
      "text/plain": [
       "<IPython.core.display.HTML object>"
      ]
     },
     "metadata": {},
     "output_type": "display_data"
    },
    {
     "data": {
      "text/html": [
       "Run data is saved locally in <code>/Users/sumanta/Desktop/Numpy project/cross_entropy_lesspasses/wandb/run-20240317_093154-2ygch15i</code>"
      ],
      "text/plain": [
       "<IPython.core.display.HTML object>"
      ]
     },
     "metadata": {},
     "output_type": "display_data"
    },
    {
     "data": {
      "text/html": [
       "Syncing run <strong><a href='https://wandb.ai/sumanta_roy/CS6910_assignment_1/runs/2ygch15i' target=\"_blank\">flowing-sweep-23</a></strong> to <a href='https://wandb.ai/sumanta_roy/CS6910_assignment_1' target=\"_blank\">Weights & Biases</a> (<a href='https://wandb.me/run' target=\"_blank\">docs</a>)<br/>Sweep page: <a href='https://wandb.ai/sumanta_roy/CS6910_assignment_1/sweeps/mefq3vzl' target=\"_blank\">https://wandb.ai/sumanta_roy/CS6910_assignment_1/sweeps/mefq3vzl</a>"
      ],
      "text/plain": [
       "<IPython.core.display.HTML object>"
      ]
     },
     "metadata": {},
     "output_type": "display_data"
    },
    {
     "data": {
      "text/html": [
       " View project at <a href='https://wandb.ai/sumanta_roy/CS6910_assignment_1' target=\"_blank\">https://wandb.ai/sumanta_roy/CS6910_assignment_1</a>"
      ],
      "text/plain": [
       "<IPython.core.display.HTML object>"
      ]
     },
     "metadata": {},
     "output_type": "display_data"
    },
    {
     "data": {
      "text/html": [
       " View sweep at <a href='https://wandb.ai/sumanta_roy/CS6910_assignment_1/sweeps/mefq3vzl' target=\"_blank\">https://wandb.ai/sumanta_roy/CS6910_assignment_1/sweeps/mefq3vzl</a>"
      ],
      "text/plain": [
       "<IPython.core.display.HTML object>"
      ]
     },
     "metadata": {},
     "output_type": "display_data"
    },
    {
     "data": {
      "text/html": [
       " View run at <a href='https://wandb.ai/sumanta_roy/CS6910_assignment_1/runs/2ygch15i' target=\"_blank\">https://wandb.ai/sumanta_roy/CS6910_assignment_1/runs/2ygch15i</a>"
      ],
      "text/plain": [
       "<IPython.core.display.HTML object>"
      ]
     },
     "metadata": {},
     "output_type": "display_data"
    },
    {
     "name": "stdout",
     "output_type": "stream",
     "text": [
      "Epoch: 1/5; Train Loss: 0.025501094992557323; Val Loss: 0.06078933458117444\n",
      "Epoch: 2/5; Train Loss: 0.014345521999887858; Val Loss: 0.0501051651288034\n",
      "Epoch: 3/5; Train Loss: 0.012621811620418796; Val Loss: 0.04594509294300181\n",
      "Epoch: 4/5; Train Loss: 0.011964332629597745; Val Loss: 0.04368647071476331\n",
      "Epoch: 5/5; Train Loss: 0.012277361684906285; Val Loss: 0.04221973632084273\n"
     ]
    },
    {
     "data": {
      "application/vnd.jupyter.widget-view+json": {
       "model_id": "64d75708f601486ab204b215e9df9cd9",
       "version_major": 2,
       "version_minor": 0
      },
      "text/plain": [
       "VBox(children=(Label(value='0.001 MB of 0.001 MB uploaded\\r'), FloatProgress(value=1.0, max=1.0)))"
      ]
     },
     "metadata": {},
     "output_type": "display_data"
    },
    {
     "data": {
      "text/html": [
       "<style>\n",
       "    table.wandb td:nth-child(1) { padding: 0 10px; text-align: left ; width: auto;} td:nth-child(2) {text-align: left ; width: 100%}\n",
       "    .wandb-row { display: flex; flex-direction: row; flex-wrap: wrap; justify-content: flex-start; width: 100% }\n",
       "    .wandb-col { display: flex; flex-direction: column; flex-basis: 100%; flex: 1; padding: 10px; }\n",
       "    </style>\n",
       "<div class=\"wandb-row\"><div class=\"wandb-col\"><h3>Run history:</h3><br/><table class=\"wandb\"><tr><td>epoch</td><td>▁▁▁▁▁▁▁▁▃▃▃▃▃▃▃▃▅▅▅▅▅▅▅▅▆▆▆▆▆▆▆▆████████</td></tr><tr><td>train_accuracy</td><td>▁▁▂▅▂▅▅▂▄▆▇▆▆▅█▇▇▇▇▅▆▅█▅▇▇▇▇▅▆▇▇▅▇▇█▇▇█▇</td></tr><tr><td>train_loss</td><td>█▆▅▃▅▃▃▄▃▄▂▃▂▅▁▂▂▂▂▄▃▃▁▂▂▂▂▂▂▂▁▂▃▃▂▁▁▁▁▂</td></tr><tr><td>val_accuracy</td><td>▁▃▅▅▆▆▇▇▇▇▇▇▇▇▇█████████████████████████</td></tr><tr><td>validation_loss</td><td>█▅▃▃▂▂▂▂▂▂▂▂▂▁▁▁▁▁▁▁▁▁▁▁▁▁▁▁▁▁▁▁▁▁▁▁▁▁▁▁</td></tr></table><br/></div><div class=\"wandb-col\"><h3>Run summary:</h3><br/><table class=\"wandb\"><tr><td>epoch</td><td>5</td></tr><tr><td>train_accuracy</td><td>93.75</td></tr><tr><td>train_loss</td><td>0.01228</td></tr><tr><td>val_accuracy</td><td>85.9</td></tr><tr><td>validation_loss</td><td>0.04222</td></tr></table><br/></div></div>"
      ],
      "text/plain": [
       "<IPython.core.display.HTML object>"
      ]
     },
     "metadata": {},
     "output_type": "display_data"
    },
    {
     "data": {
      "text/html": [
       " View run <strong style=\"color:#cdcd00\">flowing-sweep-23</strong> at: <a href='https://wandb.ai/sumanta_roy/CS6910_assignment_1/runs/2ygch15i' target=\"_blank\">https://wandb.ai/sumanta_roy/CS6910_assignment_1/runs/2ygch15i</a><br/>Synced 6 W&B file(s), 0 media file(s), 0 artifact file(s) and 0 other file(s)"
      ],
      "text/plain": [
       "<IPython.core.display.HTML object>"
      ]
     },
     "metadata": {},
     "output_type": "display_data"
    },
    {
     "data": {
      "text/html": [
       "Find logs at: <code>./wandb/run-20240317_093154-2ygch15i/logs</code>"
      ],
      "text/plain": [
       "<IPython.core.display.HTML object>"
      ]
     },
     "metadata": {},
     "output_type": "display_data"
    },
    {
     "name": "stderr",
     "output_type": "stream",
     "text": [
      "\u001b[34m\u001b[1mwandb\u001b[0m: Agent Starting Run: 3zj48c2d with config:\n",
      "\u001b[34m\u001b[1mwandb\u001b[0m: \tactivation: tanh\n",
      "\u001b[34m\u001b[1mwandb\u001b[0m: \tbatch_size: 16\n",
      "\u001b[34m\u001b[1mwandb\u001b[0m: \tepochs: 5\n",
      "\u001b[34m\u001b[1mwandb\u001b[0m: \thidden_layers: 3\n",
      "\u001b[34m\u001b[1mwandb\u001b[0m: \thidden_size: 64\n",
      "\u001b[34m\u001b[1mwandb\u001b[0m: \tloss: cross_entropy\n",
      "\u001b[34m\u001b[1mwandb\u001b[0m: \tlr: 0.001\n",
      "\u001b[34m\u001b[1mwandb\u001b[0m: \toptimizer: adam\n",
      "\u001b[34m\u001b[1mwandb\u001b[0m: \tw_init: glorot\n",
      "\u001b[34m\u001b[1mwandb\u001b[0m: \tweight_decay: 0.0005\n"
     ]
    },
    {
     "data": {
      "text/html": [
       "Tracking run with wandb version 0.16.4"
      ],
      "text/plain": [
       "<IPython.core.display.HTML object>"
      ]
     },
     "metadata": {},
     "output_type": "display_data"
    },
    {
     "data": {
      "text/html": [
       "Run data is saved locally in <code>/Users/sumanta/Desktop/Numpy project/cross_entropy_lesspasses/wandb/run-20240317_093226-3zj48c2d</code>"
      ],
      "text/plain": [
       "<IPython.core.display.HTML object>"
      ]
     },
     "metadata": {},
     "output_type": "display_data"
    },
    {
     "data": {
      "text/html": [
       "Syncing run <strong><a href='https://wandb.ai/sumanta_roy/CS6910_assignment_1/runs/3zj48c2d' target=\"_blank\">rural-sweep-24</a></strong> to <a href='https://wandb.ai/sumanta_roy/CS6910_assignment_1' target=\"_blank\">Weights & Biases</a> (<a href='https://wandb.me/run' target=\"_blank\">docs</a>)<br/>Sweep page: <a href='https://wandb.ai/sumanta_roy/CS6910_assignment_1/sweeps/mefq3vzl' target=\"_blank\">https://wandb.ai/sumanta_roy/CS6910_assignment_1/sweeps/mefq3vzl</a>"
      ],
      "text/plain": [
       "<IPython.core.display.HTML object>"
      ]
     },
     "metadata": {},
     "output_type": "display_data"
    },
    {
     "data": {
      "text/html": [
       " View project at <a href='https://wandb.ai/sumanta_roy/CS6910_assignment_1' target=\"_blank\">https://wandb.ai/sumanta_roy/CS6910_assignment_1</a>"
      ],
      "text/plain": [
       "<IPython.core.display.HTML object>"
      ]
     },
     "metadata": {},
     "output_type": "display_data"
    },
    {
     "data": {
      "text/html": [
       " View sweep at <a href='https://wandb.ai/sumanta_roy/CS6910_assignment_1/sweeps/mefq3vzl' target=\"_blank\">https://wandb.ai/sumanta_roy/CS6910_assignment_1/sweeps/mefq3vzl</a>"
      ],
      "text/plain": [
       "<IPython.core.display.HTML object>"
      ]
     },
     "metadata": {},
     "output_type": "display_data"
    },
    {
     "data": {
      "text/html": [
       " View run at <a href='https://wandb.ai/sumanta_roy/CS6910_assignment_1/runs/3zj48c2d' target=\"_blank\">https://wandb.ai/sumanta_roy/CS6910_assignment_1/runs/3zj48c2d</a>"
      ],
      "text/plain": [
       "<IPython.core.display.HTML object>"
      ]
     },
     "metadata": {},
     "output_type": "display_data"
    },
    {
     "name": "stdout",
     "output_type": "stream",
     "text": [
      "Epoch: 1/5; Train Loss: 0.011881143641959975; Val Loss: 0.03765004940117599\n",
      "Epoch: 2/5; Train Loss: 0.01310203250905077; Val Loss: 0.03532873236431794\n",
      "Epoch: 3/5; Train Loss: 0.013930778930722233; Val Loss: 0.03413690224995113\n",
      "Epoch: 4/5; Train Loss: 0.013881809684422052; Val Loss: 0.03323243996133157\n",
      "Epoch: 5/5; Train Loss: 0.013767818931075912; Val Loss: 0.032716770299781914\n"
     ]
    },
    {
     "data": {
      "application/vnd.jupyter.widget-view+json": {
       "model_id": "3a3b9e0c091045b58d0cc243cd2606ff",
       "version_major": 2,
       "version_minor": 0
      },
      "text/plain": [
       "VBox(children=(Label(value='0.001 MB of 0.009 MB uploaded\\r'), FloatProgress(value=0.0821976149914821, max=1.0…"
      ]
     },
     "metadata": {},
     "output_type": "display_data"
    },
    {
     "data": {
      "text/html": [
       "<style>\n",
       "    table.wandb td:nth-child(1) { padding: 0 10px; text-align: left ; width: auto;} td:nth-child(2) {text-align: left ; width: 100%}\n",
       "    .wandb-row { display: flex; flex-direction: row; flex-wrap: wrap; justify-content: flex-start; width: 100% }\n",
       "    .wandb-col { display: flex; flex-direction: column; flex-basis: 100%; flex: 1; padding: 10px; }\n",
       "    </style>\n",
       "<div class=\"wandb-row\"><div class=\"wandb-col\"><h3>Run history:</h3><br/><table class=\"wandb\"><tr><td>epoch</td><td>▁▁▁▁▁▁▁▁▃▃▃▃▃▃▃▃▅▅▅▅▅▅▅▅▆▆▆▆▆▆▆▆████████</td></tr><tr><td>train_accuracy</td><td>▁▅▇▇▅▃▆▆▃▃▇█▆▅▇▆▇█▆▆▆▅█▆▅▆▆▆▂▇█▆▅▆▆██▇█▇</td></tr><tr><td>train_loss</td><td>█▆▃▂▅▄▃▄▅▄▃▂▂▅▂▂▃▂▃▃▅▄▁▄▄▃▄▃▄▂▁▂▃▃▃▁▁▂▁▂</td></tr><tr><td>val_accuracy</td><td>▁▅▆▆▇▇▇▇▇▇▇▇▇▇▇▇▇▇▇▇▇█▇▇▇████▇██████▇███</td></tr><tr><td>validation_loss</td><td>█▅▄▃▃▂▃▂▂▂▂▂▂▂▂▂▂▂▂▂▂▁▂▂▂▁▁▁▁▁▁▁▁▁▁▁▂▁▁▁</td></tr></table><br/></div><div class=\"wandb-col\"><h3>Run summary:</h3><br/><table class=\"wandb\"><tr><td>epoch</td><td>5</td></tr><tr><td>train_accuracy</td><td>100.0</td></tr><tr><td>train_loss</td><td>0.01377</td></tr><tr><td>val_accuracy</td><td>88.68333</td></tr><tr><td>validation_loss</td><td>0.03272</td></tr></table><br/></div></div>"
      ],
      "text/plain": [
       "<IPython.core.display.HTML object>"
      ]
     },
     "metadata": {},
     "output_type": "display_data"
    },
    {
     "data": {
      "text/html": [
       " View run <strong style=\"color:#cdcd00\">rural-sweep-24</strong> at: <a href='https://wandb.ai/sumanta_roy/CS6910_assignment_1/runs/3zj48c2d' target=\"_blank\">https://wandb.ai/sumanta_roy/CS6910_assignment_1/runs/3zj48c2d</a><br/>Synced 6 W&B file(s), 0 media file(s), 0 artifact file(s) and 0 other file(s)"
      ],
      "text/plain": [
       "<IPython.core.display.HTML object>"
      ]
     },
     "metadata": {},
     "output_type": "display_data"
    },
    {
     "data": {
      "text/html": [
       "Find logs at: <code>./wandb/run-20240317_093226-3zj48c2d/logs</code>"
      ],
      "text/plain": [
       "<IPython.core.display.HTML object>"
      ]
     },
     "metadata": {},
     "output_type": "display_data"
    },
    {
     "name": "stderr",
     "output_type": "stream",
     "text": [
      "\u001b[34m\u001b[1mwandb\u001b[0m: Sweep Agent: Waiting for job.\n",
      "\u001b[34m\u001b[1mwandb\u001b[0m: Job received.\n",
      "\u001b[34m\u001b[1mwandb\u001b[0m: Agent Starting Run: xmhl38uf with config:\n",
      "\u001b[34m\u001b[1mwandb\u001b[0m: \tactivation: tanh\n",
      "\u001b[34m\u001b[1mwandb\u001b[0m: \tbatch_size: 16\n",
      "\u001b[34m\u001b[1mwandb\u001b[0m: \tepochs: 5\n",
      "\u001b[34m\u001b[1mwandb\u001b[0m: \thidden_layers: 3\n",
      "\u001b[34m\u001b[1mwandb\u001b[0m: \thidden_size: 64\n",
      "\u001b[34m\u001b[1mwandb\u001b[0m: \tloss: cross_entropy\n",
      "\u001b[34m\u001b[1mwandb\u001b[0m: \tlr: 0.001\n",
      "\u001b[34m\u001b[1mwandb\u001b[0m: \toptimizer: rmsprop\n",
      "\u001b[34m\u001b[1mwandb\u001b[0m: \tw_init: random\n",
      "\u001b[34m\u001b[1mwandb\u001b[0m: \tweight_decay: 0.0005\n"
     ]
    },
    {
     "data": {
      "text/html": [
       "Tracking run with wandb version 0.16.4"
      ],
      "text/plain": [
       "<IPython.core.display.HTML object>"
      ]
     },
     "metadata": {},
     "output_type": "display_data"
    },
    {
     "data": {
      "text/html": [
       "Run data is saved locally in <code>/Users/sumanta/Desktop/Numpy project/cross_entropy_lesspasses/wandb/run-20240317_093330-xmhl38uf</code>"
      ],
      "text/plain": [
       "<IPython.core.display.HTML object>"
      ]
     },
     "metadata": {},
     "output_type": "display_data"
    },
    {
     "data": {
      "text/html": [
       "Syncing run <strong><a href='https://wandb.ai/sumanta_roy/CS6910_assignment_1/runs/xmhl38uf' target=\"_blank\">jumping-sweep-25</a></strong> to <a href='https://wandb.ai/sumanta_roy/CS6910_assignment_1' target=\"_blank\">Weights & Biases</a> (<a href='https://wandb.me/run' target=\"_blank\">docs</a>)<br/>Sweep page: <a href='https://wandb.ai/sumanta_roy/CS6910_assignment_1/sweeps/mefq3vzl' target=\"_blank\">https://wandb.ai/sumanta_roy/CS6910_assignment_1/sweeps/mefq3vzl</a>"
      ],
      "text/plain": [
       "<IPython.core.display.HTML object>"
      ]
     },
     "metadata": {},
     "output_type": "display_data"
    },
    {
     "data": {
      "text/html": [
       " View project at <a href='https://wandb.ai/sumanta_roy/CS6910_assignment_1' target=\"_blank\">https://wandb.ai/sumanta_roy/CS6910_assignment_1</a>"
      ],
      "text/plain": [
       "<IPython.core.display.HTML object>"
      ]
     },
     "metadata": {},
     "output_type": "display_data"
    },
    {
     "data": {
      "text/html": [
       " View sweep at <a href='https://wandb.ai/sumanta_roy/CS6910_assignment_1/sweeps/mefq3vzl' target=\"_blank\">https://wandb.ai/sumanta_roy/CS6910_assignment_1/sweeps/mefq3vzl</a>"
      ],
      "text/plain": [
       "<IPython.core.display.HTML object>"
      ]
     },
     "metadata": {},
     "output_type": "display_data"
    },
    {
     "data": {
      "text/html": [
       " View run at <a href='https://wandb.ai/sumanta_roy/CS6910_assignment_1/runs/xmhl38uf' target=\"_blank\">https://wandb.ai/sumanta_roy/CS6910_assignment_1/runs/xmhl38uf</a>"
      ],
      "text/plain": [
       "<IPython.core.display.HTML object>"
      ]
     },
     "metadata": {},
     "output_type": "display_data"
    },
    {
     "name": "stdout",
     "output_type": "stream",
     "text": [
      "Epoch: 1/5; Train Loss: 0.10830490674202742; Val Loss: 0.04729086185528219\n",
      "Epoch: 2/5; Train Loss: 0.09856063389795303; Val Loss: 0.042937239459970404\n",
      "Epoch: 3/5; Train Loss: 0.08786024518451886; Val Loss: 0.040745738178597314\n",
      "Epoch: 4/5; Train Loss: 0.08372017238714737; Val Loss: 0.03946905581966069\n",
      "Epoch: 5/5; Train Loss: 0.0836701167572429; Val Loss: 0.038910275306479024\n"
     ]
    },
    {
     "data": {
      "application/vnd.jupyter.widget-view+json": {
       "model_id": "fed29495195a4e5c8e770db07b2f86b1",
       "version_major": 2,
       "version_minor": 0
      },
      "text/plain": [
       "VBox(children=(Label(value='0.001 MB of 0.001 MB uploaded\\r'), FloatProgress(value=1.0, max=1.0)))"
      ]
     },
     "metadata": {},
     "output_type": "display_data"
    },
    {
     "data": {
      "text/html": [
       "<style>\n",
       "    table.wandb td:nth-child(1) { padding: 0 10px; text-align: left ; width: auto;} td:nth-child(2) {text-align: left ; width: 100%}\n",
       "    .wandb-row { display: flex; flex-direction: row; flex-wrap: wrap; justify-content: flex-start; width: 100% }\n",
       "    .wandb-col { display: flex; flex-direction: column; flex-basis: 100%; flex: 1; padding: 10px; }\n",
       "    </style>\n",
       "<div class=\"wandb-row\"><div class=\"wandb-col\"><h3>Run history:</h3><br/><table class=\"wandb\"><tr><td>epoch</td><td>▁▁▁▁▁▁▁▁▃▃▃▃▃▃▃▃▅▅▅▅▅▅▅▅▆▆▆▆▆▆▆▆████████</td></tr><tr><td>train_accuracy</td><td>▁▂▆▇▃▅▃▂▁▅▇▅▇▃█▇▆▆▆▅▅▅█▅▆▇▆▇▆▇▇▇▃▆▆█▇▇▇▅</td></tr><tr><td>train_loss</td><td>█▇▅▃▅▅▄▆▅▆▃▃▂█▁▂▃▂▂▅▄▄▁▄▃▃▃▃▃▂▁▂▄▃▄▁▁▂▂▃</td></tr><tr><td>val_accuracy</td><td>▁▅▆▆▇▇▇▇▇▇▇▇▇▇█▇█▇▇█▇▇█████▇█████████▇██</td></tr><tr><td>validation_loss</td><td>█▅▃▃▃▂▂▂▂▂▂▂▂▂▂▂▁▂▂▁▂▂▁▁▁▁▁▁▁▁▁▁▁▁▁▁▁▁▁▁</td></tr></table><br/></div><div class=\"wandb-col\"><h3>Run summary:</h3><br/><table class=\"wandb\"><tr><td>epoch</td><td>5</td></tr><tr><td>train_accuracy</td><td>100.0</td></tr><tr><td>train_loss</td><td>0.08367</td></tr><tr><td>val_accuracy</td><td>86.66667</td></tr><tr><td>validation_loss</td><td>0.03891</td></tr></table><br/></div></div>"
      ],
      "text/plain": [
       "<IPython.core.display.HTML object>"
      ]
     },
     "metadata": {},
     "output_type": "display_data"
    },
    {
     "data": {
      "text/html": [
       " View run <strong style=\"color:#cdcd00\">jumping-sweep-25</strong> at: <a href='https://wandb.ai/sumanta_roy/CS6910_assignment_1/runs/xmhl38uf' target=\"_blank\">https://wandb.ai/sumanta_roy/CS6910_assignment_1/runs/xmhl38uf</a><br/>Synced 6 W&B file(s), 0 media file(s), 0 artifact file(s) and 0 other file(s)"
      ],
      "text/plain": [
       "<IPython.core.display.HTML object>"
      ]
     },
     "metadata": {},
     "output_type": "display_data"
    },
    {
     "data": {
      "text/html": [
       "Find logs at: <code>./wandb/run-20240317_093330-xmhl38uf/logs</code>"
      ],
      "text/plain": [
       "<IPython.core.display.HTML object>"
      ]
     },
     "metadata": {},
     "output_type": "display_data"
    },
    {
     "name": "stderr",
     "output_type": "stream",
     "text": [
      "\u001b[34m\u001b[1mwandb\u001b[0m: Agent Starting Run: gn9p8kng with config:\n",
      "\u001b[34m\u001b[1mwandb\u001b[0m: \tactivation: tanh\n",
      "\u001b[34m\u001b[1mwandb\u001b[0m: \tbatch_size: 16\n",
      "\u001b[34m\u001b[1mwandb\u001b[0m: \tepochs: 5\n",
      "\u001b[34m\u001b[1mwandb\u001b[0m: \thidden_layers: 3\n",
      "\u001b[34m\u001b[1mwandb\u001b[0m: \thidden_size: 32\n",
      "\u001b[34m\u001b[1mwandb\u001b[0m: \tloss: cross_entropy\n",
      "\u001b[34m\u001b[1mwandb\u001b[0m: \tlr: 0.001\n",
      "\u001b[34m\u001b[1mwandb\u001b[0m: \toptimizer: nesterov\n",
      "\u001b[34m\u001b[1mwandb\u001b[0m: \tw_init: glorot\n",
      "\u001b[34m\u001b[1mwandb\u001b[0m: \tweight_decay: 0.5\n"
     ]
    },
    {
     "data": {
      "text/html": [
       "Tracking run with wandb version 0.16.4"
      ],
      "text/plain": [
       "<IPython.core.display.HTML object>"
      ]
     },
     "metadata": {},
     "output_type": "display_data"
    },
    {
     "data": {
      "text/html": [
       "Run data is saved locally in <code>/Users/sumanta/Desktop/Numpy project/cross_entropy_lesspasses/wandb/run-20240317_093412-gn9p8kng</code>"
      ],
      "text/plain": [
       "<IPython.core.display.HTML object>"
      ]
     },
     "metadata": {},
     "output_type": "display_data"
    },
    {
     "data": {
      "text/html": [
       "Syncing run <strong><a href='https://wandb.ai/sumanta_roy/CS6910_assignment_1/runs/gn9p8kng' target=\"_blank\">radiant-sweep-26</a></strong> to <a href='https://wandb.ai/sumanta_roy/CS6910_assignment_1' target=\"_blank\">Weights & Biases</a> (<a href='https://wandb.me/run' target=\"_blank\">docs</a>)<br/>Sweep page: <a href='https://wandb.ai/sumanta_roy/CS6910_assignment_1/sweeps/mefq3vzl' target=\"_blank\">https://wandb.ai/sumanta_roy/CS6910_assignment_1/sweeps/mefq3vzl</a>"
      ],
      "text/plain": [
       "<IPython.core.display.HTML object>"
      ]
     },
     "metadata": {},
     "output_type": "display_data"
    },
    {
     "data": {
      "text/html": [
       " View project at <a href='https://wandb.ai/sumanta_roy/CS6910_assignment_1' target=\"_blank\">https://wandb.ai/sumanta_roy/CS6910_assignment_1</a>"
      ],
      "text/plain": [
       "<IPython.core.display.HTML object>"
      ]
     },
     "metadata": {},
     "output_type": "display_data"
    },
    {
     "data": {
      "text/html": [
       " View sweep at <a href='https://wandb.ai/sumanta_roy/CS6910_assignment_1/sweeps/mefq3vzl' target=\"_blank\">https://wandb.ai/sumanta_roy/CS6910_assignment_1/sweeps/mefq3vzl</a>"
      ],
      "text/plain": [
       "<IPython.core.display.HTML object>"
      ]
     },
     "metadata": {},
     "output_type": "display_data"
    },
    {
     "data": {
      "text/html": [
       " View run at <a href='https://wandb.ai/sumanta_roy/CS6910_assignment_1/runs/gn9p8kng' target=\"_blank\">https://wandb.ai/sumanta_roy/CS6910_assignment_1/runs/gn9p8kng</a>"
      ],
      "text/plain": [
       "<IPython.core.display.HTML object>"
      ]
     },
     "metadata": {},
     "output_type": "display_data"
    },
    {
     "name": "stdout",
     "output_type": "stream",
     "text": [
      "Epoch: 1/5; Train Loss: 0.8090159292674414; Val Loss: 0.07516000003541982\n",
      "Epoch: 2/5; Train Loss: 0.621308562204122; Val Loss: 0.0694938308036628\n",
      "Epoch: 3/5; Train Loss: 0.5811220312300577; Val Loss: 0.06755174740952075\n",
      "Epoch: 4/5; Train Loss: 0.5647862565294466; Val Loss: 0.06664818535706539\n",
      "Epoch: 5/5; Train Loss: 0.556247042336722; Val Loss: 0.06608517070479569\n"
     ]
    },
    {
     "data": {
      "application/vnd.jupyter.widget-view+json": {
       "model_id": "a1035e3f5c884dba9da8ab5d6882bf30",
       "version_major": 2,
       "version_minor": 0
      },
      "text/plain": [
       "VBox(children=(Label(value='0.001 MB of 0.001 MB uploaded\\r'), FloatProgress(value=1.0, max=1.0)))"
      ]
     },
     "metadata": {},
     "output_type": "display_data"
    },
    {
     "data": {
      "text/html": [
       "<style>\n",
       "    table.wandb td:nth-child(1) { padding: 0 10px; text-align: left ; width: auto;} td:nth-child(2) {text-align: left ; width: 100%}\n",
       "    .wandb-row { display: flex; flex-direction: row; flex-wrap: wrap; justify-content: flex-start; width: 100% }\n",
       "    .wandb-col { display: flex; flex-direction: column; flex-basis: 100%; flex: 1; padding: 10px; }\n",
       "    </style>\n",
       "<div class=\"wandb-row\"><div class=\"wandb-col\"><h3>Run history:</h3><br/><table class=\"wandb\"><tr><td>epoch</td><td>▁▁▁▁▁▁▁▁▃▃▃▃▃▃▃▃▅▅▅▅▅▅▅▅▆▆▆▆▆▆▆▆████████</td></tr><tr><td>train_accuracy</td><td>▁▃▃▅▃▄▆▄▅▄▆▆▆▃▆▆▆▆▇▅▅▆█▅▆▆▇▆▄▆▇▄▄▃▆▇▇▅▇▆</td></tr><tr><td>train_loss</td><td>█▇▅▄▄▃▃▂▂▂▂▂▂▂▁▁▁▁▁▁▁▁▁▁▁▁▁▁▁▁▁▁▁▁▁▁▁▁▁▁</td></tr><tr><td>val_accuracy</td><td>▁▄▅▆▇▇▇▇█▇▇█████████████████████████████</td></tr><tr><td>validation_loss</td><td>█▄▃▃▂▂▂▂▂▂▂▂▁▁▁▁▁▁▁▁▁▁▁▁▁▁▁▁▁▁▁▁▁▁▁▁▁▁▁▁</td></tr></table><br/></div><div class=\"wandb-col\"><h3>Run summary:</h3><br/><table class=\"wandb\"><tr><td>epoch</td><td>5</td></tr><tr><td>train_accuracy</td><td>100.0</td></tr><tr><td>train_loss</td><td>0.55625</td></tr><tr><td>val_accuracy</td><td>80.35</td></tr><tr><td>validation_loss</td><td>0.06609</td></tr></table><br/></div></div>"
      ],
      "text/plain": [
       "<IPython.core.display.HTML object>"
      ]
     },
     "metadata": {},
     "output_type": "display_data"
    },
    {
     "data": {
      "text/html": [
       " View run <strong style=\"color:#cdcd00\">radiant-sweep-26</strong> at: <a href='https://wandb.ai/sumanta_roy/CS6910_assignment_1/runs/gn9p8kng' target=\"_blank\">https://wandb.ai/sumanta_roy/CS6910_assignment_1/runs/gn9p8kng</a><br/>Synced 6 W&B file(s), 0 media file(s), 0 artifact file(s) and 0 other file(s)"
      ],
      "text/plain": [
       "<IPython.core.display.HTML object>"
      ]
     },
     "metadata": {},
     "output_type": "display_data"
    },
    {
     "data": {
      "text/html": [
       "Find logs at: <code>./wandb/run-20240317_093412-gn9p8kng/logs</code>"
      ],
      "text/plain": [
       "<IPython.core.display.HTML object>"
      ]
     },
     "metadata": {},
     "output_type": "display_data"
    },
    {
     "name": "stderr",
     "output_type": "stream",
     "text": [
      "\u001b[34m\u001b[1mwandb\u001b[0m: Agent Starting Run: dkdaaydn with config:\n",
      "\u001b[34m\u001b[1mwandb\u001b[0m: \tactivation: tanh\n",
      "\u001b[34m\u001b[1mwandb\u001b[0m: \tbatch_size: 16\n",
      "\u001b[34m\u001b[1mwandb\u001b[0m: \tepochs: 10\n",
      "\u001b[34m\u001b[1mwandb\u001b[0m: \thidden_layers: 3\n",
      "\u001b[34m\u001b[1mwandb\u001b[0m: \thidden_size: 64\n",
      "\u001b[34m\u001b[1mwandb\u001b[0m: \tloss: cross_entropy\n",
      "\u001b[34m\u001b[1mwandb\u001b[0m: \tlr: 0.001\n",
      "\u001b[34m\u001b[1mwandb\u001b[0m: \toptimizer: adam\n",
      "\u001b[34m\u001b[1mwandb\u001b[0m: \tw_init: glorot\n",
      "\u001b[34m\u001b[1mwandb\u001b[0m: \tweight_decay: 0\n"
     ]
    },
    {
     "data": {
      "text/html": [
       "Tracking run with wandb version 0.16.4"
      ],
      "text/plain": [
       "<IPython.core.display.HTML object>"
      ]
     },
     "metadata": {},
     "output_type": "display_data"
    },
    {
     "data": {
      "text/html": [
       "Run data is saved locally in <code>/Users/sumanta/Desktop/Numpy project/cross_entropy_lesspasses/wandb/run-20240317_093455-dkdaaydn</code>"
      ],
      "text/plain": [
       "<IPython.core.display.HTML object>"
      ]
     },
     "metadata": {},
     "output_type": "display_data"
    },
    {
     "data": {
      "text/html": [
       "Syncing run <strong><a href='https://wandb.ai/sumanta_roy/CS6910_assignment_1/runs/dkdaaydn' target=\"_blank\">classic-sweep-27</a></strong> to <a href='https://wandb.ai/sumanta_roy/CS6910_assignment_1' target=\"_blank\">Weights & Biases</a> (<a href='https://wandb.me/run' target=\"_blank\">docs</a>)<br/>Sweep page: <a href='https://wandb.ai/sumanta_roy/CS6910_assignment_1/sweeps/mefq3vzl' target=\"_blank\">https://wandb.ai/sumanta_roy/CS6910_assignment_1/sweeps/mefq3vzl</a>"
      ],
      "text/plain": [
       "<IPython.core.display.HTML object>"
      ]
     },
     "metadata": {},
     "output_type": "display_data"
    },
    {
     "data": {
      "text/html": [
       " View project at <a href='https://wandb.ai/sumanta_roy/CS6910_assignment_1' target=\"_blank\">https://wandb.ai/sumanta_roy/CS6910_assignment_1</a>"
      ],
      "text/plain": [
       "<IPython.core.display.HTML object>"
      ]
     },
     "metadata": {},
     "output_type": "display_data"
    },
    {
     "data": {
      "text/html": [
       " View sweep at <a href='https://wandb.ai/sumanta_roy/CS6910_assignment_1/sweeps/mefq3vzl' target=\"_blank\">https://wandb.ai/sumanta_roy/CS6910_assignment_1/sweeps/mefq3vzl</a>"
      ],
      "text/plain": [
       "<IPython.core.display.HTML object>"
      ]
     },
     "metadata": {},
     "output_type": "display_data"
    },
    {
     "data": {
      "text/html": [
       " View run at <a href='https://wandb.ai/sumanta_roy/CS6910_assignment_1/runs/dkdaaydn' target=\"_blank\">https://wandb.ai/sumanta_roy/CS6910_assignment_1/runs/dkdaaydn</a>"
      ],
      "text/plain": [
       "<IPython.core.display.HTML object>"
      ]
     },
     "metadata": {},
     "output_type": "display_data"
    },
    {
     "name": "stdout",
     "output_type": "stream",
     "text": [
      "Epoch: 1/10; Train Loss: 0.007915655043058575; Val Loss: 0.037084761280154956\n",
      "Epoch: 2/10; Train Loss: 0.007929305100102405; Val Loss: 0.03480986896774094\n",
      "Epoch: 3/10; Train Loss: 0.007689580454410867; Val Loss: 0.033756470736770836\n",
      "Epoch: 4/10; Train Loss: 0.007362364999884741; Val Loss: 0.03301727281733859\n",
      "Epoch: 5/10; Train Loss: 0.007014654781103176; Val Loss: 0.032540124812907446\n",
      "Epoch: 6/10; Train Loss: 0.006759300358604359; Val Loss: 0.03220384029783078\n",
      "Epoch: 7/10; Train Loss: 0.006445385736936269; Val Loss: 0.03198075812771183\n",
      "Epoch: 8/10; Train Loss: 0.005904315354150621; Val Loss: 0.03184923649686929\n",
      "Epoch: 9/10; Train Loss: 0.005469783866530291; Val Loss: 0.03189493619369432\n",
      "Epoch: 10/10; Train Loss: 0.005290931568408573; Val Loss: 0.032024542512772695\n"
     ]
    },
    {
     "data": {
      "application/vnd.jupyter.widget-view+json": {
       "model_id": "4f625d987676419dbee1921fff473db3",
       "version_major": 2,
       "version_minor": 0
      },
      "text/plain": [
       "VBox(children=(Label(value='0.001 MB of 0.001 MB uploaded\\r'), FloatProgress(value=1.0, max=1.0)))"
      ]
     },
     "metadata": {},
     "output_type": "display_data"
    },
    {
     "data": {
      "text/html": [
       "<style>\n",
       "    table.wandb td:nth-child(1) { padding: 0 10px; text-align: left ; width: auto;} td:nth-child(2) {text-align: left ; width: 100%}\n",
       "    .wandb-row { display: flex; flex-direction: row; flex-wrap: wrap; justify-content: flex-start; width: 100% }\n",
       "    .wandb-col { display: flex; flex-direction: column; flex-basis: 100%; flex: 1; padding: 10px; }\n",
       "    </style>\n",
       "<div class=\"wandb-row\"><div class=\"wandb-col\"><h3>Run history:</h3><br/><table class=\"wandb\"><tr><td>epoch</td><td>▁▁▁▁▂▂▂▂▃▃▃▃▃▃▃▃▄▄▄▄▅▅▅▅▆▆▆▆▆▆▆▆▇▇▇▇████</td></tr><tr><td>train_accuracy</td><td>▁▇█▅▇▇▇▇▇▅▄▅▄▇▄▇▄▅▄▇▅▄▅▅▇▅▅▄▇▄█▅▇▇█▅▅▅▅▄</td></tr><tr><td>train_loss</td><td>█▄▁▄▄▃▄▂▄▃▆▃▅▅▆▄▅▅▄▂▄▆▅▅▃▅▅▅▃▄▁▃▃▂▁▃▅▃▅▅</td></tr><tr><td>val_accuracy</td><td>▁▅▄▆▆▆▆▇▇▇▆▆▇▇▇▇▇▇█▇█▇▇▇█████▇██████▇██▇</td></tr><tr><td>validation_loss</td><td>█▅▄▃▃▂▃▂▂▂▃▂▂▂▁▁▂▂▁▂▁▂▂▁▁▁▁▁▁▂▁▂▂▁▁▁▂▁▂▁</td></tr></table><br/></div><div class=\"wandb-col\"><h3>Run summary:</h3><br/><table class=\"wandb\"><tr><td>epoch</td><td>10</td></tr><tr><td>train_accuracy</td><td>100.0</td></tr><tr><td>train_loss</td><td>0.00529</td></tr><tr><td>val_accuracy</td><td>88.9</td></tr><tr><td>validation_loss</td><td>0.03202</td></tr></table><br/></div></div>"
      ],
      "text/plain": [
       "<IPython.core.display.HTML object>"
      ]
     },
     "metadata": {},
     "output_type": "display_data"
    },
    {
     "data": {
      "text/html": [
       " View run <strong style=\"color:#cdcd00\">classic-sweep-27</strong> at: <a href='https://wandb.ai/sumanta_roy/CS6910_assignment_1/runs/dkdaaydn' target=\"_blank\">https://wandb.ai/sumanta_roy/CS6910_assignment_1/runs/dkdaaydn</a><br/>Synced 6 W&B file(s), 0 media file(s), 0 artifact file(s) and 0 other file(s)"
      ],
      "text/plain": [
       "<IPython.core.display.HTML object>"
      ]
     },
     "metadata": {},
     "output_type": "display_data"
    },
    {
     "data": {
      "text/html": [
       "Find logs at: <code>./wandb/run-20240317_093455-dkdaaydn/logs</code>"
      ],
      "text/plain": [
       "<IPython.core.display.HTML object>"
      ]
     },
     "metadata": {},
     "output_type": "display_data"
    },
    {
     "name": "stderr",
     "output_type": "stream",
     "text": [
      "\u001b[34m\u001b[1mwandb\u001b[0m: Agent Starting Run: cxgaa8m8 with config:\n",
      "\u001b[34m\u001b[1mwandb\u001b[0m: \tactivation: tanh\n",
      "\u001b[34m\u001b[1mwandb\u001b[0m: \tbatch_size: 32\n",
      "\u001b[34m\u001b[1mwandb\u001b[0m: \tepochs: 5\n",
      "\u001b[34m\u001b[1mwandb\u001b[0m: \thidden_layers: 3\n",
      "\u001b[34m\u001b[1mwandb\u001b[0m: \thidden_size: 32\n",
      "\u001b[34m\u001b[1mwandb\u001b[0m: \tloss: cross_entropy\n",
      "\u001b[34m\u001b[1mwandb\u001b[0m: \tlr: 0.001\n",
      "\u001b[34m\u001b[1mwandb\u001b[0m: \toptimizer: nesterov\n",
      "\u001b[34m\u001b[1mwandb\u001b[0m: \tw_init: random\n",
      "\u001b[34m\u001b[1mwandb\u001b[0m: \tweight_decay: 0\n"
     ]
    },
    {
     "data": {
      "text/html": [
       "Tracking run with wandb version 0.16.4"
      ],
      "text/plain": [
       "<IPython.core.display.HTML object>"
      ]
     },
     "metadata": {},
     "output_type": "display_data"
    },
    {
     "data": {
      "text/html": [
       "Run data is saved locally in <code>/Users/sumanta/Desktop/Numpy project/cross_entropy_lesspasses/wandb/run-20240317_093619-cxgaa8m8</code>"
      ],
      "text/plain": [
       "<IPython.core.display.HTML object>"
      ]
     },
     "metadata": {},
     "output_type": "display_data"
    },
    {
     "data": {
      "text/html": [
       "Syncing run <strong><a href='https://wandb.ai/sumanta_roy/CS6910_assignment_1/runs/cxgaa8m8' target=\"_blank\">prime-sweep-28</a></strong> to <a href='https://wandb.ai/sumanta_roy/CS6910_assignment_1' target=\"_blank\">Weights & Biases</a> (<a href='https://wandb.me/run' target=\"_blank\">docs</a>)<br/>Sweep page: <a href='https://wandb.ai/sumanta_roy/CS6910_assignment_1/sweeps/mefq3vzl' target=\"_blank\">https://wandb.ai/sumanta_roy/CS6910_assignment_1/sweeps/mefq3vzl</a>"
      ],
      "text/plain": [
       "<IPython.core.display.HTML object>"
      ]
     },
     "metadata": {},
     "output_type": "display_data"
    },
    {
     "data": {
      "text/html": [
       " View project at <a href='https://wandb.ai/sumanta_roy/CS6910_assignment_1' target=\"_blank\">https://wandb.ai/sumanta_roy/CS6910_assignment_1</a>"
      ],
      "text/plain": [
       "<IPython.core.display.HTML object>"
      ]
     },
     "metadata": {},
     "output_type": "display_data"
    },
    {
     "data": {
      "text/html": [
       " View sweep at <a href='https://wandb.ai/sumanta_roy/CS6910_assignment_1/sweeps/mefq3vzl' target=\"_blank\">https://wandb.ai/sumanta_roy/CS6910_assignment_1/sweeps/mefq3vzl</a>"
      ],
      "text/plain": [
       "<IPython.core.display.HTML object>"
      ]
     },
     "metadata": {},
     "output_type": "display_data"
    },
    {
     "data": {
      "text/html": [
       " View run at <a href='https://wandb.ai/sumanta_roy/CS6910_assignment_1/runs/cxgaa8m8' target=\"_blank\">https://wandb.ai/sumanta_roy/CS6910_assignment_1/runs/cxgaa8m8</a>"
      ],
      "text/plain": [
       "<IPython.core.display.HTML object>"
      ]
     },
     "metadata": {},
     "output_type": "display_data"
    },
    {
     "name": "stdout",
     "output_type": "stream",
     "text": [
      "Epoch: 1/5; Train Loss: 0.04179497715259505; Val Loss: 0.07556332379243004\n",
      "Epoch: 2/5; Train Loss: 0.03595702325018943; Val Loss: 0.06350088796384881\n",
      "Epoch: 3/5; Train Loss: 0.03308157048301279; Val Loss: 0.05776284797497095\n",
      "Epoch: 4/5; Train Loss: 0.0305370284023729; Val Loss: 0.05430206505306476\n",
      "Epoch: 5/5; Train Loss: 0.02830745778768177; Val Loss: 0.05200051391348758\n"
     ]
    },
    {
     "data": {
      "application/vnd.jupyter.widget-view+json": {
       "model_id": "32667316701946fc8af19c1b0c0a20dd",
       "version_major": 2,
       "version_minor": 0
      },
      "text/plain": [
       "VBox(children=(Label(value='0.001 MB of 0.001 MB uploaded\\r'), FloatProgress(value=1.0, max=1.0)))"
      ]
     },
     "metadata": {},
     "output_type": "display_data"
    },
    {
     "data": {
      "text/html": [
       "<style>\n",
       "    table.wandb td:nth-child(1) { padding: 0 10px; text-align: left ; width: auto;} td:nth-child(2) {text-align: left ; width: 100%}\n",
       "    .wandb-row { display: flex; flex-direction: row; flex-wrap: wrap; justify-content: flex-start; width: 100% }\n",
       "    .wandb-col { display: flex; flex-direction: column; flex-basis: 100%; flex: 1; padding: 10px; }\n",
       "    </style>\n",
       "<div class=\"wandb-row\"><div class=\"wandb-col\"><h3>Run history:</h3><br/><table class=\"wandb\"><tr><td>epoch</td><td>▁▁▁▁▁▁▁▁▃▃▃▃▃▃▃▃▅▅▅▅▅▅▅▅▆▆▆▆▆▆▆▆████████</td></tr><tr><td>train_accuracy</td><td>▁▃▅▅▅▄▅▆▆▆▇▅▆▆▇▇▇▅▆▆▆▇▇▆▅▆▇▇▇▆▇▆▆▆▇█▇▆█▆</td></tr><tr><td>train_loss</td><td>█▆▄▄▄▄▃▃▃▃▂▃▃▃▁▁▁▃▂▃▂▂▂▃▃▃▂▁▂▂▂▂▂▂▁▁▁▂▁▂</td></tr><tr><td>val_accuracy</td><td>▁▄▆▆▆▇▇▇▇▇▇▇▇▇▇▇████████████████████████</td></tr><tr><td>validation_loss</td><td>█▅▄▃▃▂▂▂▂▂▂▂▂▂▂▂▁▁▁▁▁▁▁▁▁▁▁▁▁▁▁▁▁▁▁▁▁▁▁▁</td></tr></table><br/></div><div class=\"wandb-col\"><h3>Run summary:</h3><br/><table class=\"wandb\"><tr><td>epoch</td><td>5</td></tr><tr><td>train_accuracy</td><td>93.75</td></tr><tr><td>train_loss</td><td>0.02831</td></tr><tr><td>val_accuracy</td><td>81.56667</td></tr><tr><td>validation_loss</td><td>0.052</td></tr></table><br/></div></div>"
      ],
      "text/plain": [
       "<IPython.core.display.HTML object>"
      ]
     },
     "metadata": {},
     "output_type": "display_data"
    },
    {
     "data": {
      "text/html": [
       " View run <strong style=\"color:#cdcd00\">prime-sweep-28</strong> at: <a href='https://wandb.ai/sumanta_roy/CS6910_assignment_1/runs/cxgaa8m8' target=\"_blank\">https://wandb.ai/sumanta_roy/CS6910_assignment_1/runs/cxgaa8m8</a><br/>Synced 6 W&B file(s), 0 media file(s), 0 artifact file(s) and 0 other file(s)"
      ],
      "text/plain": [
       "<IPython.core.display.HTML object>"
      ]
     },
     "metadata": {},
     "output_type": "display_data"
    },
    {
     "data": {
      "text/html": [
       "Find logs at: <code>./wandb/run-20240317_093619-cxgaa8m8/logs</code>"
      ],
      "text/plain": [
       "<IPython.core.display.HTML object>"
      ]
     },
     "metadata": {},
     "output_type": "display_data"
    },
    {
     "name": "stderr",
     "output_type": "stream",
     "text": [
      "\u001b[34m\u001b[1mwandb\u001b[0m: Agent Starting Run: a1yekky6 with config:\n",
      "\u001b[34m\u001b[1mwandb\u001b[0m: \tactivation: tanh\n",
      "\u001b[34m\u001b[1mwandb\u001b[0m: \tbatch_size: 16\n",
      "\u001b[34m\u001b[1mwandb\u001b[0m: \tepochs: 10\n",
      "\u001b[34m\u001b[1mwandb\u001b[0m: \thidden_layers: 3\n",
      "\u001b[34m\u001b[1mwandb\u001b[0m: \thidden_size: 64\n",
      "\u001b[34m\u001b[1mwandb\u001b[0m: \tloss: cross_entropy\n",
      "\u001b[34m\u001b[1mwandb\u001b[0m: \tlr: 0.001\n",
      "\u001b[34m\u001b[1mwandb\u001b[0m: \toptimizer: nesterov\n",
      "\u001b[34m\u001b[1mwandb\u001b[0m: \tw_init: glorot\n",
      "\u001b[34m\u001b[1mwandb\u001b[0m: \tweight_decay: 0\n"
     ]
    },
    {
     "data": {
      "text/html": [
       "Tracking run with wandb version 0.16.4"
      ],
      "text/plain": [
       "<IPython.core.display.HTML object>"
      ]
     },
     "metadata": {},
     "output_type": "display_data"
    },
    {
     "data": {
      "text/html": [
       "Run data is saved locally in <code>/Users/sumanta/Desktop/Numpy project/cross_entropy_lesspasses/wandb/run-20240317_093651-a1yekky6</code>"
      ],
      "text/plain": [
       "<IPython.core.display.HTML object>"
      ]
     },
     "metadata": {},
     "output_type": "display_data"
    },
    {
     "data": {
      "text/html": [
       "Syncing run <strong><a href='https://wandb.ai/sumanta_roy/CS6910_assignment_1/runs/a1yekky6' target=\"_blank\">wobbly-sweep-29</a></strong> to <a href='https://wandb.ai/sumanta_roy/CS6910_assignment_1' target=\"_blank\">Weights & Biases</a> (<a href='https://wandb.me/run' target=\"_blank\">docs</a>)<br/>Sweep page: <a href='https://wandb.ai/sumanta_roy/CS6910_assignment_1/sweeps/mefq3vzl' target=\"_blank\">https://wandb.ai/sumanta_roy/CS6910_assignment_1/sweeps/mefq3vzl</a>"
      ],
      "text/plain": [
       "<IPython.core.display.HTML object>"
      ]
     },
     "metadata": {},
     "output_type": "display_data"
    },
    {
     "data": {
      "text/html": [
       " View project at <a href='https://wandb.ai/sumanta_roy/CS6910_assignment_1' target=\"_blank\">https://wandb.ai/sumanta_roy/CS6910_assignment_1</a>"
      ],
      "text/plain": [
       "<IPython.core.display.HTML object>"
      ]
     },
     "metadata": {},
     "output_type": "display_data"
    },
    {
     "data": {
      "text/html": [
       " View sweep at <a href='https://wandb.ai/sumanta_roy/CS6910_assignment_1/sweeps/mefq3vzl' target=\"_blank\">https://wandb.ai/sumanta_roy/CS6910_assignment_1/sweeps/mefq3vzl</a>"
      ],
      "text/plain": [
       "<IPython.core.display.HTML object>"
      ]
     },
     "metadata": {},
     "output_type": "display_data"
    },
    {
     "data": {
      "text/html": [
       " View run at <a href='https://wandb.ai/sumanta_roy/CS6910_assignment_1/runs/a1yekky6' target=\"_blank\">https://wandb.ai/sumanta_roy/CS6910_assignment_1/runs/a1yekky6</a>"
      ],
      "text/plain": [
       "<IPython.core.display.HTML object>"
      ]
     },
     "metadata": {},
     "output_type": "display_data"
    },
    {
     "name": "stdout",
     "output_type": "stream",
     "text": [
      "Epoch: 1/10; Train Loss: 0.012114417152991618; Val Loss: 0.043992408179573964\n",
      "Epoch: 2/10; Train Loss: 0.012056956641716923; Val Loss: 0.039508136278040666\n",
      "Epoch: 3/10; Train Loss: 0.01241042098863558; Val Loss: 0.037497042395108024\n",
      "Epoch: 4/10; Train Loss: 0.012087632934699102; Val Loss: 0.03622334621915787\n",
      "Epoch: 5/10; Train Loss: 0.011161087210138546; Val Loss: 0.035295178964259474\n",
      "Epoch: 6/10; Train Loss: 0.010071732445888642; Val Loss: 0.034566931845583515\n",
      "Epoch: 7/10; Train Loss: 0.009106131441451022; Val Loss: 0.03397632527301029\n",
      "Epoch: 8/10; Train Loss: 0.008359057724698086; Val Loss: 0.03348757206301425\n",
      "Epoch: 9/10; Train Loss: 0.007798825441658298; Val Loss: 0.03307823798044647\n",
      "Epoch: 10/10; Train Loss: 0.0073765337298783065; Val Loss: 0.032734851851452994\n"
     ]
    },
    {
     "data": {
      "application/vnd.jupyter.widget-view+json": {
       "model_id": "1713ee9339a2438082ee174da1aacd69",
       "version_major": 2,
       "version_minor": 0
      },
      "text/plain": [
       "VBox(children=(Label(value='0.001 MB of 0.027 MB uploaded\\r'), FloatProgress(value=0.027278516841211436, max=1…"
      ]
     },
     "metadata": {},
     "output_type": "display_data"
    },
    {
     "data": {
      "text/html": [
       "<style>\n",
       "    table.wandb td:nth-child(1) { padding: 0 10px; text-align: left ; width: auto;} td:nth-child(2) {text-align: left ; width: 100%}\n",
       "    .wandb-row { display: flex; flex-direction: row; flex-wrap: wrap; justify-content: flex-start; width: 100% }\n",
       "    .wandb-col { display: flex; flex-direction: column; flex-basis: 100%; flex: 1; padding: 10px; }\n",
       "    </style>\n",
       "<div class=\"wandb-row\"><div class=\"wandb-col\"><h3>Run history:</h3><br/><table class=\"wandb\"><tr><td>epoch</td><td>▁▁▁▁▂▂▂▂▃▃▃▃▃▃▃▃▄▄▄▄▅▅▅▅▆▆▆▆▆▆▆▆▇▇▇▇████</td></tr><tr><td>train_accuracy</td><td>▁▆▇▆▃▇▇▇▆▅▅▆▆▅▆▆▅▆▅▇▆▅▆▆▆▆▆▅▅▂█▅▅▇█▆▅▇▅▅</td></tr><tr><td>train_loss</td><td>█▄▂▃▄▂▃▂▃▃▄▂▃▃▃▃▄▃▃▁▃▄▃▃▃▃▃▃▃▄▁▂▃▂▁▃▃▂▃▂</td></tr><tr><td>val_accuracy</td><td>▁▄▆▆▆▆▇▇▇▇▇▇▇▇▇▇▇▇█▇█▇█▇████████████████</td></tr><tr><td>validation_loss</td><td>█▄▃▃▂▂▂▂▂▂▂▂▂▁▁▁▂▁▁▁▁▁▁▁▁▁▁▁▁▁▁▁▁▁▁▁▁▁▁▁</td></tr></table><br/></div><div class=\"wandb-col\"><h3>Run summary:</h3><br/><table class=\"wandb\"><tr><td>epoch</td><td>10</td></tr><tr><td>train_accuracy</td><td>100.0</td></tr><tr><td>train_loss</td><td>0.00738</td></tr><tr><td>val_accuracy</td><td>88.73333</td></tr><tr><td>validation_loss</td><td>0.03273</td></tr></table><br/></div></div>"
      ],
      "text/plain": [
       "<IPython.core.display.HTML object>"
      ]
     },
     "metadata": {},
     "output_type": "display_data"
    },
    {
     "data": {
      "text/html": [
       " View run <strong style=\"color:#cdcd00\">wobbly-sweep-29</strong> at: <a href='https://wandb.ai/sumanta_roy/CS6910_assignment_1/runs/a1yekky6' target=\"_blank\">https://wandb.ai/sumanta_roy/CS6910_assignment_1/runs/a1yekky6</a><br/>Synced 6 W&B file(s), 0 media file(s), 0 artifact file(s) and 0 other file(s)"
      ],
      "text/plain": [
       "<IPython.core.display.HTML object>"
      ]
     },
     "metadata": {},
     "output_type": "display_data"
    },
    {
     "data": {
      "text/html": [
       "Find logs at: <code>./wandb/run-20240317_093651-a1yekky6/logs</code>"
      ],
      "text/plain": [
       "<IPython.core.display.HTML object>"
      ]
     },
     "metadata": {},
     "output_type": "display_data"
    },
    {
     "name": "stderr",
     "output_type": "stream",
     "text": [
      "\u001b[34m\u001b[1mwandb\u001b[0m: Sweep Agent: Waiting for job.\n",
      "\u001b[34m\u001b[1mwandb\u001b[0m: Job received.\n",
      "\u001b[34m\u001b[1mwandb\u001b[0m: Agent Starting Run: kj9qe8xf with config:\n",
      "\u001b[34m\u001b[1mwandb\u001b[0m: \tactivation: tanh\n",
      "\u001b[34m\u001b[1mwandb\u001b[0m: \tbatch_size: 16\n",
      "\u001b[34m\u001b[1mwandb\u001b[0m: \tepochs: 5\n",
      "\u001b[34m\u001b[1mwandb\u001b[0m: \thidden_layers: 3\n",
      "\u001b[34m\u001b[1mwandb\u001b[0m: \thidden_size: 32\n",
      "\u001b[34m\u001b[1mwandb\u001b[0m: \tloss: cross_entropy\n",
      "\u001b[34m\u001b[1mwandb\u001b[0m: \tlr: 0.0001\n",
      "\u001b[34m\u001b[1mwandb\u001b[0m: \toptimizer: rmsprop\n",
      "\u001b[34m\u001b[1mwandb\u001b[0m: \tw_init: random\n",
      "\u001b[34m\u001b[1mwandb\u001b[0m: \tweight_decay: 0\n"
     ]
    },
    {
     "data": {
      "text/html": [
       "Tracking run with wandb version 0.16.4"
      ],
      "text/plain": [
       "<IPython.core.display.HTML object>"
      ]
     },
     "metadata": {},
     "output_type": "display_data"
    },
    {
     "data": {
      "text/html": [
       "Run data is saved locally in <code>/Users/sumanta/Desktop/Numpy project/cross_entropy_lesspasses/wandb/run-20240317_093826-kj9qe8xf</code>"
      ],
      "text/plain": [
       "<IPython.core.display.HTML object>"
      ]
     },
     "metadata": {},
     "output_type": "display_data"
    },
    {
     "data": {
      "text/html": [
       "Syncing run <strong><a href='https://wandb.ai/sumanta_roy/CS6910_assignment_1/runs/kj9qe8xf' target=\"_blank\">soft-sweep-30</a></strong> to <a href='https://wandb.ai/sumanta_roy/CS6910_assignment_1' target=\"_blank\">Weights & Biases</a> (<a href='https://wandb.me/run' target=\"_blank\">docs</a>)<br/>Sweep page: <a href='https://wandb.ai/sumanta_roy/CS6910_assignment_1/sweeps/mefq3vzl' target=\"_blank\">https://wandb.ai/sumanta_roy/CS6910_assignment_1/sweeps/mefq3vzl</a>"
      ],
      "text/plain": [
       "<IPython.core.display.HTML object>"
      ]
     },
     "metadata": {},
     "output_type": "display_data"
    },
    {
     "data": {
      "text/html": [
       " View project at <a href='https://wandb.ai/sumanta_roy/CS6910_assignment_1' target=\"_blank\">https://wandb.ai/sumanta_roy/CS6910_assignment_1</a>"
      ],
      "text/plain": [
       "<IPython.core.display.HTML object>"
      ]
     },
     "metadata": {},
     "output_type": "display_data"
    },
    {
     "data": {
      "text/html": [
       " View sweep at <a href='https://wandb.ai/sumanta_roy/CS6910_assignment_1/sweeps/mefq3vzl' target=\"_blank\">https://wandb.ai/sumanta_roy/CS6910_assignment_1/sweeps/mefq3vzl</a>"
      ],
      "text/plain": [
       "<IPython.core.display.HTML object>"
      ]
     },
     "metadata": {},
     "output_type": "display_data"
    },
    {
     "data": {
      "text/html": [
       " View run at <a href='https://wandb.ai/sumanta_roy/CS6910_assignment_1/runs/kj9qe8xf' target=\"_blank\">https://wandb.ai/sumanta_roy/CS6910_assignment_1/runs/kj9qe8xf</a>"
      ],
      "text/plain": [
       "<IPython.core.display.HTML object>"
      ]
     },
     "metadata": {},
     "output_type": "display_data"
    },
    {
     "name": "stdout",
     "output_type": "stream",
     "text": [
      "Epoch: 1/5; Train Loss: 0.03100902167290196; Val Loss: 0.08275095138447626\n",
      "Epoch: 2/5; Train Loss: 0.019020477337428617; Val Loss: 0.06764136915808922\n",
      "Epoch: 3/5; Train Loss: 0.015216341907379635; Val Loss: 0.060905423092837155\n",
      "Epoch: 4/5; Train Loss: 0.013372953645219465; Val Loss: 0.05685680570113575\n",
      "Epoch: 5/5; Train Loss: 0.012272613620866171; Val Loss: 0.054081313429394234\n"
     ]
    },
    {
     "data": {
      "application/vnd.jupyter.widget-view+json": {
       "model_id": "570d5e4d5b5a41a7b54d03069a87dddf",
       "version_major": 2,
       "version_minor": 0
      },
      "text/plain": [
       "VBox(children=(Label(value='0.001 MB of 0.027 MB uploaded\\r'), FloatProgress(value=0.027703017906484374, max=1…"
      ]
     },
     "metadata": {},
     "output_type": "display_data"
    },
    {
     "data": {
      "text/html": [
       "<style>\n",
       "    table.wandb td:nth-child(1) { padding: 0 10px; text-align: left ; width: auto;} td:nth-child(2) {text-align: left ; width: 100%}\n",
       "    .wandb-row { display: flex; flex-direction: row; flex-wrap: wrap; justify-content: flex-start; width: 100% }\n",
       "    .wandb-col { display: flex; flex-direction: column; flex-basis: 100%; flex: 1; padding: 10px; }\n",
       "    </style>\n",
       "<div class=\"wandb-row\"><div class=\"wandb-col\"><h3>Run history:</h3><br/><table class=\"wandb\"><tr><td>epoch</td><td>▁▁▁▁▁▁▁▁▃▃▃▃▃▃▃▃▅▅▅▅▅▅▅▅▆▆▆▆▆▆▆▆████████</td></tr><tr><td>train_accuracy</td><td>▁▂▄▄▃▅▄▃▄▆▆▆▇▄▆█▆▇▇▆▅▆▇▆▇▆▆▇▆▅▇▆▄▅▇█▇▆▇▆</td></tr><tr><td>train_loss</td><td>█▇▆▄▆▄▄▅▄▄▃▃▂▄▃▁▂▂▂▃▃▂▁▃▂▃▂▂▂▂▁▃▄▄▂▁▁▂▂▂</td></tr><tr><td>val_accuracy</td><td>▁▃▅▆▆▆▆▇▇▇▇▇▇▇▇▇▇▇██████████████████████</td></tr><tr><td>validation_loss</td><td>█▆▄▃▃▃▂▂▂▂▂▂▂▂▂▂▂▁▁▁▁▁▁▁▁▁▁▁▁▁▁▁▁▁▁▁▁▁▁▁</td></tr></table><br/></div><div class=\"wandb-col\"><h3>Run summary:</h3><br/><table class=\"wandb\"><tr><td>epoch</td><td>5</td></tr><tr><td>train_accuracy</td><td>93.75</td></tr><tr><td>train_loss</td><td>0.01227</td></tr><tr><td>val_accuracy</td><td>81.13333</td></tr><tr><td>validation_loss</td><td>0.05408</td></tr></table><br/></div></div>"
      ],
      "text/plain": [
       "<IPython.core.display.HTML object>"
      ]
     },
     "metadata": {},
     "output_type": "display_data"
    },
    {
     "data": {
      "text/html": [
       " View run <strong style=\"color:#cdcd00\">soft-sweep-30</strong> at: <a href='https://wandb.ai/sumanta_roy/CS6910_assignment_1/runs/kj9qe8xf' target=\"_blank\">https://wandb.ai/sumanta_roy/CS6910_assignment_1/runs/kj9qe8xf</a><br/>Synced 6 W&B file(s), 0 media file(s), 0 artifact file(s) and 0 other file(s)"
      ],
      "text/plain": [
       "<IPython.core.display.HTML object>"
      ]
     },
     "metadata": {},
     "output_type": "display_data"
    },
    {
     "data": {
      "text/html": [
       "Find logs at: <code>./wandb/run-20240317_093826-kj9qe8xf/logs</code>"
      ],
      "text/plain": [
       "<IPython.core.display.HTML object>"
      ]
     },
     "metadata": {},
     "output_type": "display_data"
    },
    {
     "name": "stderr",
     "output_type": "stream",
     "text": [
      "\u001b[34m\u001b[1mwandb\u001b[0m: Agent Starting Run: dxejxyha with config:\n",
      "\u001b[34m\u001b[1mwandb\u001b[0m: \tactivation: tanh\n",
      "\u001b[34m\u001b[1mwandb\u001b[0m: \tbatch_size: 16\n",
      "\u001b[34m\u001b[1mwandb\u001b[0m: \tepochs: 10\n",
      "\u001b[34m\u001b[1mwandb\u001b[0m: \thidden_layers: 3\n",
      "\u001b[34m\u001b[1mwandb\u001b[0m: \thidden_size: 64\n",
      "\u001b[34m\u001b[1mwandb\u001b[0m: \tloss: cross_entropy\n",
      "\u001b[34m\u001b[1mwandb\u001b[0m: \tlr: 0.0001\n",
      "\u001b[34m\u001b[1mwandb\u001b[0m: \toptimizer: rmsprop\n",
      "\u001b[34m\u001b[1mwandb\u001b[0m: \tw_init: glorot\n",
      "\u001b[34m\u001b[1mwandb\u001b[0m: \tweight_decay: 0.0005\n"
     ]
    },
    {
     "data": {
      "text/html": [
       "Tracking run with wandb version 0.16.4"
      ],
      "text/plain": [
       "<IPython.core.display.HTML object>"
      ]
     },
     "metadata": {},
     "output_type": "display_data"
    },
    {
     "data": {
      "text/html": [
       "Run data is saved locally in <code>/Users/sumanta/Desktop/Numpy project/cross_entropy_lesspasses/wandb/run-20240317_093859-dxejxyha</code>"
      ],
      "text/plain": [
       "<IPython.core.display.HTML object>"
      ]
     },
     "metadata": {},
     "output_type": "display_data"
    },
    {
     "data": {
      "text/html": [
       "Syncing run <strong><a href='https://wandb.ai/sumanta_roy/CS6910_assignment_1/runs/dxejxyha' target=\"_blank\">golden-sweep-31</a></strong> to <a href='https://wandb.ai/sumanta_roy/CS6910_assignment_1' target=\"_blank\">Weights & Biases</a> (<a href='https://wandb.me/run' target=\"_blank\">docs</a>)<br/>Sweep page: <a href='https://wandb.ai/sumanta_roy/CS6910_assignment_1/sweeps/mefq3vzl' target=\"_blank\">https://wandb.ai/sumanta_roy/CS6910_assignment_1/sweeps/mefq3vzl</a>"
      ],
      "text/plain": [
       "<IPython.core.display.HTML object>"
      ]
     },
     "metadata": {},
     "output_type": "display_data"
    },
    {
     "data": {
      "text/html": [
       " View project at <a href='https://wandb.ai/sumanta_roy/CS6910_assignment_1' target=\"_blank\">https://wandb.ai/sumanta_roy/CS6910_assignment_1</a>"
      ],
      "text/plain": [
       "<IPython.core.display.HTML object>"
      ]
     },
     "metadata": {},
     "output_type": "display_data"
    },
    {
     "data": {
      "text/html": [
       " View sweep at <a href='https://wandb.ai/sumanta_roy/CS6910_assignment_1/sweeps/mefq3vzl' target=\"_blank\">https://wandb.ai/sumanta_roy/CS6910_assignment_1/sweeps/mefq3vzl</a>"
      ],
      "text/plain": [
       "<IPython.core.display.HTML object>"
      ]
     },
     "metadata": {},
     "output_type": "display_data"
    },
    {
     "data": {
      "text/html": [
       " View run at <a href='https://wandb.ai/sumanta_roy/CS6910_assignment_1/runs/dxejxyha' target=\"_blank\">https://wandb.ai/sumanta_roy/CS6910_assignment_1/runs/dxejxyha</a>"
      ],
      "text/plain": [
       "<IPython.core.display.HTML object>"
      ]
     },
     "metadata": {},
     "output_type": "display_data"
    },
    {
     "name": "stdout",
     "output_type": "stream",
     "text": [
      "Epoch: 1/10; Train Loss: 0.015405467389080284; Val Loss: 0.04909791958919664\n",
      "Epoch: 2/10; Train Loss: 0.013390238727472388; Val Loss: 0.04285822752618836\n",
      "Epoch: 3/10; Train Loss: 0.013256119551378955; Val Loss: 0.0403025148837562\n",
      "Epoch: 4/10; Train Loss: 0.01338654758828608; Val Loss: 0.0387122637987582\n",
      "Epoch: 5/10; Train Loss: 0.013678113806483694; Val Loss: 0.03757947948176403\n",
      "Epoch: 6/10; Train Loss: 0.013948282642296365; Val Loss: 0.03672238195264487\n",
      "Epoch: 7/10; Train Loss: 0.014117954781389178; Val Loss: 0.036052038196823635\n",
      "Epoch: 8/10; Train Loss: 0.014187364844822165; Val Loss: 0.03551416007946937\n",
      "Epoch: 9/10; Train Loss: 0.014181799696457298; Val Loss: 0.035071151038292434\n",
      "Epoch: 10/10; Train Loss: 0.014132803978439927; Val Loss: 0.034697120075346075\n"
     ]
    },
    {
     "data": {
      "application/vnd.jupyter.widget-view+json": {
       "model_id": "24168a89ea834f168e488c7a157d3fc6",
       "version_major": 2,
       "version_minor": 0
      },
      "text/plain": [
       "VBox(children=(Label(value='0.001 MB of 0.001 MB uploaded\\r'), FloatProgress(value=1.0, max=1.0)))"
      ]
     },
     "metadata": {},
     "output_type": "display_data"
    },
    {
     "data": {
      "text/html": [
       "<style>\n",
       "    table.wandb td:nth-child(1) { padding: 0 10px; text-align: left ; width: auto;} td:nth-child(2) {text-align: left ; width: 100%}\n",
       "    .wandb-row { display: flex; flex-direction: row; flex-wrap: wrap; justify-content: flex-start; width: 100% }\n",
       "    .wandb-col { display: flex; flex-direction: column; flex-basis: 100%; flex: 1; padding: 10px; }\n",
       "    </style>\n",
       "<div class=\"wandb-row\"><div class=\"wandb-col\"><h3>Run history:</h3><br/><table class=\"wandb\"><tr><td>epoch</td><td>▁▁▁▁▂▂▂▂▃▃▃▃▃▃▃▃▄▄▄▄▅▅▅▅▆▆▆▆▆▆▆▆▇▇▇▇████</td></tr><tr><td>train_accuracy</td><td>▁▃█▇▅▇██▇▆▆█▆▆▅▇▂█▆█▆▆▅▇▆▆▇▅▅▅█▇▆██▇▆▇▇▇</td></tr><tr><td>train_loss</td><td>█▅▂▃▃▂▂▁▂▃▃▁▂▃▃▂▄▂▂▁▃▃▃▃▂▄▃▄▄▃▂▂▂▁▁▂▃▂▂▂</td></tr><tr><td>val_accuracy</td><td>▁▄▆▆▆▆▇▇▇▇▇▇▇▇▇▇▇██████▇██████████▇█████</td></tr><tr><td>validation_loss</td><td>█▄▃▃▂▂▂▂▂▂▂▂▂▁▁▁▁▁▁▁▁▁▁▁▁▁▁▁▁▁▁▁▁▁▁▁▁▁▁▁</td></tr></table><br/></div><div class=\"wandb-col\"><h3>Run summary:</h3><br/><table class=\"wandb\"><tr><td>epoch</td><td>10</td></tr><tr><td>train_accuracy</td><td>100.0</td></tr><tr><td>train_loss</td><td>0.01413</td></tr><tr><td>val_accuracy</td><td>88.01667</td></tr><tr><td>validation_loss</td><td>0.0347</td></tr></table><br/></div></div>"
      ],
      "text/plain": [
       "<IPython.core.display.HTML object>"
      ]
     },
     "metadata": {},
     "output_type": "display_data"
    },
    {
     "data": {
      "text/html": [
       " View run <strong style=\"color:#cdcd00\">golden-sweep-31</strong> at: <a href='https://wandb.ai/sumanta_roy/CS6910_assignment_1/runs/dxejxyha' target=\"_blank\">https://wandb.ai/sumanta_roy/CS6910_assignment_1/runs/dxejxyha</a><br/>Synced 6 W&B file(s), 0 media file(s), 0 artifact file(s) and 0 other file(s)"
      ],
      "text/plain": [
       "<IPython.core.display.HTML object>"
      ]
     },
     "metadata": {},
     "output_type": "display_data"
    },
    {
     "data": {
      "text/html": [
       "Find logs at: <code>./wandb/run-20240317_093859-dxejxyha/logs</code>"
      ],
      "text/plain": [
       "<IPython.core.display.HTML object>"
      ]
     },
     "metadata": {},
     "output_type": "display_data"
    },
    {
     "name": "stderr",
     "output_type": "stream",
     "text": [
      "\u001b[34m\u001b[1mwandb\u001b[0m: Agent Starting Run: nktlew8d with config:\n",
      "\u001b[34m\u001b[1mwandb\u001b[0m: \tactivation: tanh\n",
      "\u001b[34m\u001b[1mwandb\u001b[0m: \tbatch_size: 16\n",
      "\u001b[34m\u001b[1mwandb\u001b[0m: \tepochs: 10\n",
      "\u001b[34m\u001b[1mwandb\u001b[0m: \thidden_layers: 3\n",
      "\u001b[34m\u001b[1mwandb\u001b[0m: \thidden_size: 64\n",
      "\u001b[34m\u001b[1mwandb\u001b[0m: \tloss: cross_entropy\n",
      "\u001b[34m\u001b[1mwandb\u001b[0m: \tlr: 0.0001\n",
      "\u001b[34m\u001b[1mwandb\u001b[0m: \toptimizer: rmsprop\n",
      "\u001b[34m\u001b[1mwandb\u001b[0m: \tw_init: glorot\n",
      "\u001b[34m\u001b[1mwandb\u001b[0m: \tweight_decay: 0\n"
     ]
    },
    {
     "data": {
      "text/html": [
       "Tracking run with wandb version 0.16.4"
      ],
      "text/plain": [
       "<IPython.core.display.HTML object>"
      ]
     },
     "metadata": {},
     "output_type": "display_data"
    },
    {
     "data": {
      "text/html": [
       "Run data is saved locally in <code>/Users/sumanta/Desktop/Numpy project/cross_entropy_lesspasses/wandb/run-20240317_094013-nktlew8d</code>"
      ],
      "text/plain": [
       "<IPython.core.display.HTML object>"
      ]
     },
     "metadata": {},
     "output_type": "display_data"
    },
    {
     "data": {
      "text/html": [
       "Syncing run <strong><a href='https://wandb.ai/sumanta_roy/CS6910_assignment_1/runs/nktlew8d' target=\"_blank\">misty-sweep-32</a></strong> to <a href='https://wandb.ai/sumanta_roy/CS6910_assignment_1' target=\"_blank\">Weights & Biases</a> (<a href='https://wandb.me/run' target=\"_blank\">docs</a>)<br/>Sweep page: <a href='https://wandb.ai/sumanta_roy/CS6910_assignment_1/sweeps/mefq3vzl' target=\"_blank\">https://wandb.ai/sumanta_roy/CS6910_assignment_1/sweeps/mefq3vzl</a>"
      ],
      "text/plain": [
       "<IPython.core.display.HTML object>"
      ]
     },
     "metadata": {},
     "output_type": "display_data"
    },
    {
     "data": {
      "text/html": [
       " View project at <a href='https://wandb.ai/sumanta_roy/CS6910_assignment_1' target=\"_blank\">https://wandb.ai/sumanta_roy/CS6910_assignment_1</a>"
      ],
      "text/plain": [
       "<IPython.core.display.HTML object>"
      ]
     },
     "metadata": {},
     "output_type": "display_data"
    },
    {
     "data": {
      "text/html": [
       " View sweep at <a href='https://wandb.ai/sumanta_roy/CS6910_assignment_1/sweeps/mefq3vzl' target=\"_blank\">https://wandb.ai/sumanta_roy/CS6910_assignment_1/sweeps/mefq3vzl</a>"
      ],
      "text/plain": [
       "<IPython.core.display.HTML object>"
      ]
     },
     "metadata": {},
     "output_type": "display_data"
    },
    {
     "data": {
      "text/html": [
       " View run at <a href='https://wandb.ai/sumanta_roy/CS6910_assignment_1/runs/nktlew8d' target=\"_blank\">https://wandb.ai/sumanta_roy/CS6910_assignment_1/runs/nktlew8d</a>"
      ],
      "text/plain": [
       "<IPython.core.display.HTML object>"
      ]
     },
     "metadata": {},
     "output_type": "display_data"
    },
    {
     "name": "stdout",
     "output_type": "stream",
     "text": [
      "Epoch: 1/10; Train Loss: 0.012866007273440172; Val Loss: 0.04843155691465223\n",
      "Epoch: 2/10; Train Loss: 0.009190300618640599; Val Loss: 0.04258614530946803\n",
      "Epoch: 3/10; Train Loss: 0.008741349518291993; Val Loss: 0.04028542484655334\n",
      "Epoch: 4/10; Train Loss: 0.008598654220733587; Val Loss: 0.038842056755954556\n",
      "Epoch: 5/10; Train Loss: 0.008426743450401177; Val Loss: 0.03777569272237403\n",
      "Epoch: 6/10; Train Loss: 0.008235410635563652; Val Loss: 0.03693345498049297\n",
      "Epoch: 7/10; Train Loss: 0.00804611533710226; Val Loss: 0.03624583267397703\n",
      "Epoch: 8/10; Train Loss: 0.007873868227552485; Val Loss: 0.03567446216999094\n",
      "Epoch: 9/10; Train Loss: 0.0077285672524836455; Val Loss: 0.03519509457491793\n",
      "Epoch: 10/10; Train Loss: 0.007613063688541972; Val Loss: 0.03479005590477211\n"
     ]
    },
    {
     "data": {
      "application/vnd.jupyter.widget-view+json": {
       "model_id": "4717b7d8ea464d3dbd6006a8cbedc99c",
       "version_major": 2,
       "version_minor": 0
      },
      "text/plain": [
       "VBox(children=(Label(value='0.001 MB of 0.001 MB uploaded\\r'), FloatProgress(value=1.0, max=1.0)))"
      ]
     },
     "metadata": {},
     "output_type": "display_data"
    },
    {
     "data": {
      "text/html": [
       "<style>\n",
       "    table.wandb td:nth-child(1) { padding: 0 10px; text-align: left ; width: auto;} td:nth-child(2) {text-align: left ; width: 100%}\n",
       "    .wandb-row { display: flex; flex-direction: row; flex-wrap: wrap; justify-content: flex-start; width: 100% }\n",
       "    .wandb-col { display: flex; flex-direction: column; flex-basis: 100%; flex: 1; padding: 10px; }\n",
       "    </style>\n",
       "<div class=\"wandb-row\"><div class=\"wandb-col\"><h3>Run history:</h3><br/><table class=\"wandb\"><tr><td>epoch</td><td>▁▁▁▁▂▂▂▂▃▃▃▃▃▃▃▃▄▄▄▄▅▅▅▅▆▆▆▆▆▆▆▆▇▇▇▇████</td></tr><tr><td>train_accuracy</td><td>▂▂█▇▅▇███▅▅▇▅▅▄▇▄▇██▅▅▄█▅▇▅▄▄▁█▇▅██▇▅▅▇▇</td></tr><tr><td>train_loss</td><td>█▅▂▃▃▂▂▁▂▃▃▁▃▃▃▂▄▂▂▁▃▃▃▂▃▃▄▃▄▄▁▂▃▁▁▂▃▂▂▂</td></tr><tr><td>val_accuracy</td><td>▁▄▆▆▇▇▇▇▇▇▇▇▇▇██▇███████████████████████</td></tr><tr><td>validation_loss</td><td>█▅▃▃▂▂▂▂▂▂▂▂▂▁▁▁▁▁▁▁▁▁▁▁▁▁▁▁▁▁▁▁▁▁▁▁▁▁▁▁</td></tr></table><br/></div><div class=\"wandb-col\"><h3>Run summary:</h3><br/><table class=\"wandb\"><tr><td>epoch</td><td>10</td></tr><tr><td>train_accuracy</td><td>100.0</td></tr><tr><td>train_loss</td><td>0.00761</td></tr><tr><td>val_accuracy</td><td>87.95</td></tr><tr><td>validation_loss</td><td>0.03479</td></tr></table><br/></div></div>"
      ],
      "text/plain": [
       "<IPython.core.display.HTML object>"
      ]
     },
     "metadata": {},
     "output_type": "display_data"
    },
    {
     "data": {
      "text/html": [
       " View run <strong style=\"color:#cdcd00\">misty-sweep-32</strong> at: <a href='https://wandb.ai/sumanta_roy/CS6910_assignment_1/runs/nktlew8d' target=\"_blank\">https://wandb.ai/sumanta_roy/CS6910_assignment_1/runs/nktlew8d</a><br/>Synced 6 W&B file(s), 0 media file(s), 0 artifact file(s) and 0 other file(s)"
      ],
      "text/plain": [
       "<IPython.core.display.HTML object>"
      ]
     },
     "metadata": {},
     "output_type": "display_data"
    },
    {
     "data": {
      "text/html": [
       "Find logs at: <code>./wandb/run-20240317_094013-nktlew8d/logs</code>"
      ],
      "text/plain": [
       "<IPython.core.display.HTML object>"
      ]
     },
     "metadata": {},
     "output_type": "display_data"
    },
    {
     "name": "stderr",
     "output_type": "stream",
     "text": [
      "\u001b[34m\u001b[1mwandb\u001b[0m: Sweep Agent: Waiting for job.\n",
      "\u001b[34m\u001b[1mwandb\u001b[0m: Job received.\n",
      "\u001b[34m\u001b[1mwandb\u001b[0m: Agent Starting Run: 6p4o2cw5 with config:\n",
      "\u001b[34m\u001b[1mwandb\u001b[0m: \tactivation: tanh\n",
      "\u001b[34m\u001b[1mwandb\u001b[0m: \tbatch_size: 16\n",
      "\u001b[34m\u001b[1mwandb\u001b[0m: \tepochs: 10\n",
      "\u001b[34m\u001b[1mwandb\u001b[0m: \thidden_layers: 3\n",
      "\u001b[34m\u001b[1mwandb\u001b[0m: \thidden_size: 64\n",
      "\u001b[34m\u001b[1mwandb\u001b[0m: \tloss: cross_entropy\n",
      "\u001b[34m\u001b[1mwandb\u001b[0m: \tlr: 0.001\n",
      "\u001b[34m\u001b[1mwandb\u001b[0m: \toptimizer: nesterov\n",
      "\u001b[34m\u001b[1mwandb\u001b[0m: \tw_init: glorot\n",
      "\u001b[34m\u001b[1mwandb\u001b[0m: \tweight_decay: 0\n"
     ]
    },
    {
     "data": {
      "text/html": [
       "Tracking run with wandb version 0.16.4"
      ],
      "text/plain": [
       "<IPython.core.display.HTML object>"
      ]
     },
     "metadata": {},
     "output_type": "display_data"
    },
    {
     "data": {
      "text/html": [
       "Run data is saved locally in <code>/Users/sumanta/Desktop/Numpy project/cross_entropy_lesspasses/wandb/run-20240317_094134-6p4o2cw5</code>"
      ],
      "text/plain": [
       "<IPython.core.display.HTML object>"
      ]
     },
     "metadata": {},
     "output_type": "display_data"
    },
    {
     "data": {
      "text/html": [
       "Syncing run <strong><a href='https://wandb.ai/sumanta_roy/CS6910_assignment_1/runs/6p4o2cw5' target=\"_blank\">classic-sweep-33</a></strong> to <a href='https://wandb.ai/sumanta_roy/CS6910_assignment_1' target=\"_blank\">Weights & Biases</a> (<a href='https://wandb.me/run' target=\"_blank\">docs</a>)<br/>Sweep page: <a href='https://wandb.ai/sumanta_roy/CS6910_assignment_1/sweeps/mefq3vzl' target=\"_blank\">https://wandb.ai/sumanta_roy/CS6910_assignment_1/sweeps/mefq3vzl</a>"
      ],
      "text/plain": [
       "<IPython.core.display.HTML object>"
      ]
     },
     "metadata": {},
     "output_type": "display_data"
    },
    {
     "data": {
      "text/html": [
       " View project at <a href='https://wandb.ai/sumanta_roy/CS6910_assignment_1' target=\"_blank\">https://wandb.ai/sumanta_roy/CS6910_assignment_1</a>"
      ],
      "text/plain": [
       "<IPython.core.display.HTML object>"
      ]
     },
     "metadata": {},
     "output_type": "display_data"
    },
    {
     "data": {
      "text/html": [
       " View sweep at <a href='https://wandb.ai/sumanta_roy/CS6910_assignment_1/sweeps/mefq3vzl' target=\"_blank\">https://wandb.ai/sumanta_roy/CS6910_assignment_1/sweeps/mefq3vzl</a>"
      ],
      "text/plain": [
       "<IPython.core.display.HTML object>"
      ]
     },
     "metadata": {},
     "output_type": "display_data"
    },
    {
     "data": {
      "text/html": [
       " View run at <a href='https://wandb.ai/sumanta_roy/CS6910_assignment_1/runs/6p4o2cw5' target=\"_blank\">https://wandb.ai/sumanta_roy/CS6910_assignment_1/runs/6p4o2cw5</a>"
      ],
      "text/plain": [
       "<IPython.core.display.HTML object>"
      ]
     },
     "metadata": {},
     "output_type": "display_data"
    },
    {
     "name": "stdout",
     "output_type": "stream",
     "text": [
      "Epoch: 1/10; Train Loss: 0.012247755038610877; Val Loss: 0.04477752534689307\n",
      "Epoch: 2/10; Train Loss: 0.010644976712975648; Val Loss: 0.04028743581133153\n",
      "Epoch: 3/10; Train Loss: 0.010295050879385344; Val Loss: 0.03815142210981637\n",
      "Epoch: 4/10; Train Loss: 0.010006713591439197; Val Loss: 0.036748559079943274\n",
      "Epoch: 5/10; Train Loss: 0.009700113364676207; Val Loss: 0.035714158601342076\n",
      "Epoch: 6/10; Train Loss: 0.009444936991149113; Val Loss: 0.03492830271347793\n",
      "Epoch: 7/10; Train Loss: 0.009256791187117617; Val Loss: 0.03431784191451534\n",
      "Epoch: 8/10; Train Loss: 0.009081746604592617; Val Loss: 0.0338286308505606\n",
      "Epoch: 9/10; Train Loss: 0.008875738067450357; Val Loss: 0.033422979814412265\n",
      "Epoch: 10/10; Train Loss: 0.008634371647521951; Val Loss: 0.03307675640184304\n"
     ]
    },
    {
     "data": {
      "application/vnd.jupyter.widget-view+json": {
       "model_id": "527696cf213a4ed194150c006bca5b6d",
       "version_major": 2,
       "version_minor": 0
      },
      "text/plain": [
       "VBox(children=(Label(value='0.001 MB of 0.001 MB uploaded\\r'), FloatProgress(value=1.0, max=1.0)))"
      ]
     },
     "metadata": {},
     "output_type": "display_data"
    },
    {
     "data": {
      "text/html": [
       "<style>\n",
       "    table.wandb td:nth-child(1) { padding: 0 10px; text-align: left ; width: auto;} td:nth-child(2) {text-align: left ; width: 100%}\n",
       "    .wandb-row { display: flex; flex-direction: row; flex-wrap: wrap; justify-content: flex-start; width: 100% }\n",
       "    .wandb-col { display: flex; flex-direction: column; flex-basis: 100%; flex: 1; padding: 10px; }\n",
       "    </style>\n",
       "<div class=\"wandb-row\"><div class=\"wandb-col\"><h3>Run history:</h3><br/><table class=\"wandb\"><tr><td>epoch</td><td>▁▁▁▁▂▂▂▂▃▃▃▃▃▃▃▃▄▄▄▄▅▅▅▅▆▆▆▆▆▆▆▆▇▇▇▇████</td></tr><tr><td>train_accuracy</td><td>▁▅▇▅█▆▇▆▆▃▆▆▅▆▅▆▅▆▃█▆▅▅▆▇▆▆▅▃▃▆▆▇▆▇▆▅▇▆▆</td></tr><tr><td>train_loss</td><td>█▄▁▃▂▂▂▂▃▃▄▁▄▄▄▂▄▃▃▁▃▄▄▃▂▄▃▃▃▅▁▂▂▁▁▂▃▂▃▂</td></tr><tr><td>val_accuracy</td><td>▁▄▆▆▆▇▇▇▇▇▇▇▇▇▇▇▇▇███▇█▇████████████████</td></tr><tr><td>validation_loss</td><td>█▅▃▃▃▂▂▂▂▂▂▂▂▂▂▁▂▂▁▁▁▁▁▁▁▁▁▁▁▁▁▁▁▁▁▁▁▁▁▁</td></tr></table><br/></div><div class=\"wandb-col\"><h3>Run summary:</h3><br/><table class=\"wandb\"><tr><td>epoch</td><td>10</td></tr><tr><td>train_accuracy</td><td>100.0</td></tr><tr><td>train_loss</td><td>0.00863</td></tr><tr><td>val_accuracy</td><td>88.6</td></tr><tr><td>validation_loss</td><td>0.03308</td></tr></table><br/></div></div>"
      ],
      "text/plain": [
       "<IPython.core.display.HTML object>"
      ]
     },
     "metadata": {},
     "output_type": "display_data"
    },
    {
     "data": {
      "text/html": [
       " View run <strong style=\"color:#cdcd00\">classic-sweep-33</strong> at: <a href='https://wandb.ai/sumanta_roy/CS6910_assignment_1/runs/6p4o2cw5' target=\"_blank\">https://wandb.ai/sumanta_roy/CS6910_assignment_1/runs/6p4o2cw5</a><br/>Synced 6 W&B file(s), 0 media file(s), 0 artifact file(s) and 0 other file(s)"
      ],
      "text/plain": [
       "<IPython.core.display.HTML object>"
      ]
     },
     "metadata": {},
     "output_type": "display_data"
    },
    {
     "data": {
      "text/html": [
       "Find logs at: <code>./wandb/run-20240317_094134-6p4o2cw5/logs</code>"
      ],
      "text/plain": [
       "<IPython.core.display.HTML object>"
      ]
     },
     "metadata": {},
     "output_type": "display_data"
    },
    {
     "name": "stderr",
     "output_type": "stream",
     "text": [
      "\u001b[34m\u001b[1mwandb\u001b[0m: Agent Starting Run: 03zz60cp with config:\n",
      "\u001b[34m\u001b[1mwandb\u001b[0m: \tactivation: tanh\n",
      "\u001b[34m\u001b[1mwandb\u001b[0m: \tbatch_size: 16\n",
      "\u001b[34m\u001b[1mwandb\u001b[0m: \tepochs: 5\n",
      "\u001b[34m\u001b[1mwandb\u001b[0m: \thidden_layers: 3\n",
      "\u001b[34m\u001b[1mwandb\u001b[0m: \thidden_size: 64\n",
      "\u001b[34m\u001b[1mwandb\u001b[0m: \tloss: cross_entropy\n",
      "\u001b[34m\u001b[1mwandb\u001b[0m: \tlr: 0.001\n",
      "\u001b[34m\u001b[1mwandb\u001b[0m: \toptimizer: rmsprop\n",
      "\u001b[34m\u001b[1mwandb\u001b[0m: \tw_init: glorot\n",
      "\u001b[34m\u001b[1mwandb\u001b[0m: \tweight_decay: 0.0005\n"
     ]
    },
    {
     "data": {
      "text/html": [
       "Tracking run with wandb version 0.16.4"
      ],
      "text/plain": [
       "<IPython.core.display.HTML object>"
      ]
     },
     "metadata": {},
     "output_type": "display_data"
    },
    {
     "data": {
      "text/html": [
       "Run data is saved locally in <code>/Users/sumanta/Desktop/Numpy project/cross_entropy_lesspasses/wandb/run-20240317_094300-03zz60cp</code>"
      ],
      "text/plain": [
       "<IPython.core.display.HTML object>"
      ]
     },
     "metadata": {},
     "output_type": "display_data"
    },
    {
     "data": {
      "text/html": [
       "Syncing run <strong><a href='https://wandb.ai/sumanta_roy/CS6910_assignment_1/runs/03zz60cp' target=\"_blank\">vague-sweep-34</a></strong> to <a href='https://wandb.ai/sumanta_roy/CS6910_assignment_1' target=\"_blank\">Weights & Biases</a> (<a href='https://wandb.me/run' target=\"_blank\">docs</a>)<br/>Sweep page: <a href='https://wandb.ai/sumanta_roy/CS6910_assignment_1/sweeps/mefq3vzl' target=\"_blank\">https://wandb.ai/sumanta_roy/CS6910_assignment_1/sweeps/mefq3vzl</a>"
      ],
      "text/plain": [
       "<IPython.core.display.HTML object>"
      ]
     },
     "metadata": {},
     "output_type": "display_data"
    },
    {
     "data": {
      "text/html": [
       " View project at <a href='https://wandb.ai/sumanta_roy/CS6910_assignment_1' target=\"_blank\">https://wandb.ai/sumanta_roy/CS6910_assignment_1</a>"
      ],
      "text/plain": [
       "<IPython.core.display.HTML object>"
      ]
     },
     "metadata": {},
     "output_type": "display_data"
    },
    {
     "data": {
      "text/html": [
       " View sweep at <a href='https://wandb.ai/sumanta_roy/CS6910_assignment_1/sweeps/mefq3vzl' target=\"_blank\">https://wandb.ai/sumanta_roy/CS6910_assignment_1/sweeps/mefq3vzl</a>"
      ],
      "text/plain": [
       "<IPython.core.display.HTML object>"
      ]
     },
     "metadata": {},
     "output_type": "display_data"
    },
    {
     "data": {
      "text/html": [
       " View run at <a href='https://wandb.ai/sumanta_roy/CS6910_assignment_1/runs/03zz60cp' target=\"_blank\">https://wandb.ai/sumanta_roy/CS6910_assignment_1/runs/03zz60cp</a>"
      ],
      "text/plain": [
       "<IPython.core.display.HTML object>"
      ]
     },
     "metadata": {},
     "output_type": "display_data"
    },
    {
     "name": "stdout",
     "output_type": "stream",
     "text": [
      "Epoch: 1/5; Train Loss: 0.016112190132505574; Val Loss: 0.04092586541160109\n",
      "Epoch: 2/5; Train Loss: 0.014850421602273175; Val Loss: 0.037194772719424896\n",
      "Epoch: 3/5; Train Loss: 0.013766183263562201; Val Loss: 0.035868995458955145\n",
      "Epoch: 4/5; Train Loss: 0.014301313644311855; Val Loss: 0.03503308855416433\n",
      "Epoch: 5/5; Train Loss: 0.014961183497659094; Val Loss: 0.03500860308662104\n"
     ]
    },
    {
     "data": {
      "application/vnd.jupyter.widget-view+json": {
       "model_id": "7105a4fa2d0a4d0b90b58d83d9a9a9bb",
       "version_major": 2,
       "version_minor": 0
      },
      "text/plain": [
       "VBox(children=(Label(value='0.001 MB of 0.001 MB uploaded\\r'), FloatProgress(value=1.0, max=1.0)))"
      ]
     },
     "metadata": {},
     "output_type": "display_data"
    },
    {
     "data": {
      "text/html": [
       "<style>\n",
       "    table.wandb td:nth-child(1) { padding: 0 10px; text-align: left ; width: auto;} td:nth-child(2) {text-align: left ; width: 100%}\n",
       "    .wandb-row { display: flex; flex-direction: row; flex-wrap: wrap; justify-content: flex-start; width: 100% }\n",
       "    .wandb-col { display: flex; flex-direction: column; flex-basis: 100%; flex: 1; padding: 10px; }\n",
       "    </style>\n",
       "<div class=\"wandb-row\"><div class=\"wandb-col\"><h3>Run history:</h3><br/><table class=\"wandb\"><tr><td>epoch</td><td>▁▁▁▁▁▁▁▁▃▃▃▃▃▃▃▃▅▅▅▅▅▅▅▅▆▆▆▆▆▆▆▆████████</td></tr><tr><td>train_accuracy</td><td>▁▂▇▇▂▂▇▂▇▄▅█▄▅▇▇▇▅▄▅▄▄█▂▄▅▇▇▅█▇▅▄▇▅██▇▇▇</td></tr><tr><td>train_loss</td><td>█▅▂▂▅▃▂▄▃▄▂▂▃▂▂▂▂▂▃▄▃▄▁▄▃▄▃▂▃▁▁▂▃▃▃▁▁▁▂▃</td></tr><tr><td>val_accuracy</td><td>▁▅▆▆▇▇▇▇▇▇▇▇▇▇████▇█▇█████▇█████████████</td></tr><tr><td>validation_loss</td><td>█▄▃▃▂▂▂▂▂▂▂▂▂▂▁▁▁▂▂▁▂▁▁▁▁▁▂▁▁▁▁▁▁▁▁▁▁▁▁▁</td></tr></table><br/></div><div class=\"wandb-col\"><h3>Run summary:</h3><br/><table class=\"wandb\"><tr><td>epoch</td><td>5</td></tr><tr><td>train_accuracy</td><td>100.0</td></tr><tr><td>train_loss</td><td>0.01496</td></tr><tr><td>val_accuracy</td><td>87.91667</td></tr><tr><td>validation_loss</td><td>0.03501</td></tr></table><br/></div></div>"
      ],
      "text/plain": [
       "<IPython.core.display.HTML object>"
      ]
     },
     "metadata": {},
     "output_type": "display_data"
    },
    {
     "data": {
      "text/html": [
       " View run <strong style=\"color:#cdcd00\">vague-sweep-34</strong> at: <a href='https://wandb.ai/sumanta_roy/CS6910_assignment_1/runs/03zz60cp' target=\"_blank\">https://wandb.ai/sumanta_roy/CS6910_assignment_1/runs/03zz60cp</a><br/>Synced 6 W&B file(s), 0 media file(s), 0 artifact file(s) and 0 other file(s)"
      ],
      "text/plain": [
       "<IPython.core.display.HTML object>"
      ]
     },
     "metadata": {},
     "output_type": "display_data"
    },
    {
     "data": {
      "text/html": [
       "Find logs at: <code>./wandb/run-20240317_094300-03zz60cp/logs</code>"
      ],
      "text/plain": [
       "<IPython.core.display.HTML object>"
      ]
     },
     "metadata": {},
     "output_type": "display_data"
    },
    {
     "name": "stderr",
     "output_type": "stream",
     "text": [
      "\u001b[34m\u001b[1mwandb\u001b[0m: Agent Starting Run: 99l3lut5 with config:\n",
      "\u001b[34m\u001b[1mwandb\u001b[0m: \tactivation: tanh\n",
      "\u001b[34m\u001b[1mwandb\u001b[0m: \tbatch_size: 16\n",
      "\u001b[34m\u001b[1mwandb\u001b[0m: \tepochs: 10\n",
      "\u001b[34m\u001b[1mwandb\u001b[0m: \thidden_layers: 3\n",
      "\u001b[34m\u001b[1mwandb\u001b[0m: \thidden_size: 32\n",
      "\u001b[34m\u001b[1mwandb\u001b[0m: \tloss: cross_entropy\n",
      "\u001b[34m\u001b[1mwandb\u001b[0m: \tlr: 0.0001\n",
      "\u001b[34m\u001b[1mwandb\u001b[0m: \toptimizer: rmsprop\n",
      "\u001b[34m\u001b[1mwandb\u001b[0m: \tw_init: glorot\n",
      "\u001b[34m\u001b[1mwandb\u001b[0m: \tweight_decay: 0.0005\n"
     ]
    },
    {
     "data": {
      "text/html": [
       "Tracking run with wandb version 0.16.4"
      ],
      "text/plain": [
       "<IPython.core.display.HTML object>"
      ]
     },
     "metadata": {},
     "output_type": "display_data"
    },
    {
     "data": {
      "text/html": [
       "Run data is saved locally in <code>/Users/sumanta/Desktop/Numpy project/cross_entropy_lesspasses/wandb/run-20240317_094343-99l3lut5</code>"
      ],
      "text/plain": [
       "<IPython.core.display.HTML object>"
      ]
     },
     "metadata": {},
     "output_type": "display_data"
    },
    {
     "data": {
      "text/html": [
       "Syncing run <strong><a href='https://wandb.ai/sumanta_roy/CS6910_assignment_1/runs/99l3lut5' target=\"_blank\">fancy-sweep-35</a></strong> to <a href='https://wandb.ai/sumanta_roy/CS6910_assignment_1' target=\"_blank\">Weights & Biases</a> (<a href='https://wandb.me/run' target=\"_blank\">docs</a>)<br/>Sweep page: <a href='https://wandb.ai/sumanta_roy/CS6910_assignment_1/sweeps/mefq3vzl' target=\"_blank\">https://wandb.ai/sumanta_roy/CS6910_assignment_1/sweeps/mefq3vzl</a>"
      ],
      "text/plain": [
       "<IPython.core.display.HTML object>"
      ]
     },
     "metadata": {},
     "output_type": "display_data"
    },
    {
     "data": {
      "text/html": [
       " View project at <a href='https://wandb.ai/sumanta_roy/CS6910_assignment_1' target=\"_blank\">https://wandb.ai/sumanta_roy/CS6910_assignment_1</a>"
      ],
      "text/plain": [
       "<IPython.core.display.HTML object>"
      ]
     },
     "metadata": {},
     "output_type": "display_data"
    },
    {
     "data": {
      "text/html": [
       " View sweep at <a href='https://wandb.ai/sumanta_roy/CS6910_assignment_1/sweeps/mefq3vzl' target=\"_blank\">https://wandb.ai/sumanta_roy/CS6910_assignment_1/sweeps/mefq3vzl</a>"
      ],
      "text/plain": [
       "<IPython.core.display.HTML object>"
      ]
     },
     "metadata": {},
     "output_type": "display_data"
    },
    {
     "data": {
      "text/html": [
       " View run at <a href='https://wandb.ai/sumanta_roy/CS6910_assignment_1/runs/99l3lut5' target=\"_blank\">https://wandb.ai/sumanta_roy/CS6910_assignment_1/runs/99l3lut5</a>"
      ],
      "text/plain": [
       "<IPython.core.display.HTML object>"
      ]
     },
     "metadata": {},
     "output_type": "display_data"
    },
    {
     "name": "stdout",
     "output_type": "stream",
     "text": [
      "Epoch: 1/10; Train Loss: 0.022608937677982808; Val Loss: 0.05713130991718367\n",
      "Epoch: 2/10; Train Loss: 0.014470051127419909; Val Loss: 0.047644885385127865\n",
      "Epoch: 3/10; Train Loss: 0.013284100558136721; Val Loss: 0.04396115128517887\n",
      "Epoch: 4/10; Train Loss: 0.013033967350730239; Val Loss: 0.0418055282805721\n",
      "Epoch: 5/10; Train Loss: 0.012946608594679304; Val Loss: 0.04033442203176051\n",
      "Epoch: 6/10; Train Loss: 0.012868161410255728; Val Loss: 0.0392515840199434\n",
      "Epoch: 7/10; Train Loss: 0.012775163419992509; Val Loss: 0.038414264150518705\n",
      "Epoch: 8/10; Train Loss: 0.012698714599017722; Val Loss: 0.0377418008802683\n",
      "Epoch: 9/10; Train Loss: 0.0126667278383992; Val Loss: 0.03718634134019045\n",
      "Epoch: 10/10; Train Loss: 0.01268175088668723; Val Loss: 0.03671942686629579\n"
     ]
    },
    {
     "data": {
      "application/vnd.jupyter.widget-view+json": {
       "model_id": "79b2ed92a8a743439ef3185e059953f0",
       "version_major": 2,
       "version_minor": 0
      },
      "text/plain": [
       "VBox(children=(Label(value='0.001 MB of 0.027 MB uploaded\\r'), FloatProgress(value=0.027319697076933967, max=1…"
      ]
     },
     "metadata": {},
     "output_type": "display_data"
    },
    {
     "data": {
      "text/html": [
       "<style>\n",
       "    table.wandb td:nth-child(1) { padding: 0 10px; text-align: left ; width: auto;} td:nth-child(2) {text-align: left ; width: 100%}\n",
       "    .wandb-row { display: flex; flex-direction: row; flex-wrap: wrap; justify-content: flex-start; width: 100% }\n",
       "    .wandb-col { display: flex; flex-direction: column; flex-basis: 100%; flex: 1; padding: 10px; }\n",
       "    </style>\n",
       "<div class=\"wandb-row\"><div class=\"wandb-col\"><h3>Run history:</h3><br/><table class=\"wandb\"><tr><td>epoch</td><td>▁▁▁▁▂▂▂▂▃▃▃▃▃▃▃▃▄▄▄▄▅▅▅▅▆▆▆▆▆▆▆▆▇▇▇▇████</td></tr><tr><td>train_accuracy</td><td>▁▄▇▅▂▆▆█▆▄▆▆▆▄▃▆▄▇▅█▅▅▅▆▅▆▅▄▄▃▇▆▅▇▇▄▅▆▅▆</td></tr><tr><td>train_loss</td><td>█▅▂▂▄▂▂▁▂▃▃▁▂▂▃▂▃▂▂▁▂▄▃▂▃▄▃▃▃▃▂▂▃▁▁▃▃▂▃▁</td></tr><tr><td>val_accuracy</td><td>▁▃▅▆▆▆▇▇▇▇▇▇▇▇█▇████████████████████████</td></tr><tr><td>validation_loss</td><td>█▅▃▃▂▂▂▂▂▂▂▂▁▁▁▁▁▁▁▁▁▁▁▁▁▁▁▁▁▁▁▁▁▁▁▁▁▁▁▁</td></tr></table><br/></div><div class=\"wandb-col\"><h3>Run summary:</h3><br/><table class=\"wandb\"><tr><td>epoch</td><td>10</td></tr><tr><td>train_accuracy</td><td>100.0</td></tr><tr><td>train_loss</td><td>0.01268</td></tr><tr><td>val_accuracy</td><td>86.93333</td></tr><tr><td>validation_loss</td><td>0.03672</td></tr></table><br/></div></div>"
      ],
      "text/plain": [
       "<IPython.core.display.HTML object>"
      ]
     },
     "metadata": {},
     "output_type": "display_data"
    },
    {
     "data": {
      "text/html": [
       " View run <strong style=\"color:#cdcd00\">fancy-sweep-35</strong> at: <a href='https://wandb.ai/sumanta_roy/CS6910_assignment_1/runs/99l3lut5' target=\"_blank\">https://wandb.ai/sumanta_roy/CS6910_assignment_1/runs/99l3lut5</a><br/>Synced 6 W&B file(s), 0 media file(s), 0 artifact file(s) and 0 other file(s)"
      ],
      "text/plain": [
       "<IPython.core.display.HTML object>"
      ]
     },
     "metadata": {},
     "output_type": "display_data"
    },
    {
     "data": {
      "text/html": [
       "Find logs at: <code>./wandb/run-20240317_094343-99l3lut5/logs</code>"
      ],
      "text/plain": [
       "<IPython.core.display.HTML object>"
      ]
     },
     "metadata": {},
     "output_type": "display_data"
    },
    {
     "name": "stderr",
     "output_type": "stream",
     "text": [
      "\u001b[34m\u001b[1mwandb\u001b[0m: Sweep Agent: Waiting for job.\n",
      "\u001b[34m\u001b[1mwandb\u001b[0m: Job received.\n",
      "\u001b[34m\u001b[1mwandb\u001b[0m: Agent Starting Run: ezds7zyb with config:\n",
      "\u001b[34m\u001b[1mwandb\u001b[0m: \tactivation: tanh\n",
      "\u001b[34m\u001b[1mwandb\u001b[0m: \tbatch_size: 16\n",
      "\u001b[34m\u001b[1mwandb\u001b[0m: \tepochs: 5\n",
      "\u001b[34m\u001b[1mwandb\u001b[0m: \thidden_layers: 3\n",
      "\u001b[34m\u001b[1mwandb\u001b[0m: \thidden_size: 32\n",
      "\u001b[34m\u001b[1mwandb\u001b[0m: \tloss: cross_entropy\n",
      "\u001b[34m\u001b[1mwandb\u001b[0m: \tlr: 0.001\n",
      "\u001b[34m\u001b[1mwandb\u001b[0m: \toptimizer: nesterov\n",
      "\u001b[34m\u001b[1mwandb\u001b[0m: \tw_init: glorot\n",
      "\u001b[34m\u001b[1mwandb\u001b[0m: \tweight_decay: 0\n"
     ]
    },
    {
     "data": {
      "text/html": [
       "Tracking run with wandb version 0.16.4"
      ],
      "text/plain": [
       "<IPython.core.display.HTML object>"
      ]
     },
     "metadata": {},
     "output_type": "display_data"
    },
    {
     "data": {
      "text/html": [
       "Run data is saved locally in <code>/Users/sumanta/Desktop/Numpy project/cross_entropy_lesspasses/wandb/run-20240317_094446-ezds7zyb</code>"
      ],
      "text/plain": [
       "<IPython.core.display.HTML object>"
      ]
     },
     "metadata": {},
     "output_type": "display_data"
    },
    {
     "data": {
      "text/html": [
       "Syncing run <strong><a href='https://wandb.ai/sumanta_roy/CS6910_assignment_1/runs/ezds7zyb' target=\"_blank\">cool-sweep-36</a></strong> to <a href='https://wandb.ai/sumanta_roy/CS6910_assignment_1' target=\"_blank\">Weights & Biases</a> (<a href='https://wandb.me/run' target=\"_blank\">docs</a>)<br/>Sweep page: <a href='https://wandb.ai/sumanta_roy/CS6910_assignment_1/sweeps/mefq3vzl' target=\"_blank\">https://wandb.ai/sumanta_roy/CS6910_assignment_1/sweeps/mefq3vzl</a>"
      ],
      "text/plain": [
       "<IPython.core.display.HTML object>"
      ]
     },
     "metadata": {},
     "output_type": "display_data"
    },
    {
     "data": {
      "text/html": [
       " View project at <a href='https://wandb.ai/sumanta_roy/CS6910_assignment_1' target=\"_blank\">https://wandb.ai/sumanta_roy/CS6910_assignment_1</a>"
      ],
      "text/plain": [
       "<IPython.core.display.HTML object>"
      ]
     },
     "metadata": {},
     "output_type": "display_data"
    },
    {
     "data": {
      "text/html": [
       " View sweep at <a href='https://wandb.ai/sumanta_roy/CS6910_assignment_1/sweeps/mefq3vzl' target=\"_blank\">https://wandb.ai/sumanta_roy/CS6910_assignment_1/sweeps/mefq3vzl</a>"
      ],
      "text/plain": [
       "<IPython.core.display.HTML object>"
      ]
     },
     "metadata": {},
     "output_type": "display_data"
    },
    {
     "data": {
      "text/html": [
       " View run at <a href='https://wandb.ai/sumanta_roy/CS6910_assignment_1/runs/ezds7zyb' target=\"_blank\">https://wandb.ai/sumanta_roy/CS6910_assignment_1/runs/ezds7zyb</a>"
      ],
      "text/plain": [
       "<IPython.core.display.HTML object>"
      ]
     },
     "metadata": {},
     "output_type": "display_data"
    },
    {
     "name": "stdout",
     "output_type": "stream",
     "text": [
      "Epoch: 1/5; Train Loss: 0.0156571627310991; Val Loss: 0.046246192615745085\n",
      "Epoch: 2/5; Train Loss: 0.011660462855039947; Val Loss: 0.04106777839714792\n",
      "Epoch: 3/5; Train Loss: 0.010904623426938917; Val Loss: 0.038638144970144686\n",
      "Epoch: 4/5; Train Loss: 0.01034177287862595; Val Loss: 0.03715377504605572\n",
      "Epoch: 5/5; Train Loss: 0.009843282896307294; Val Loss: 0.036077626871728184\n"
     ]
    },
    {
     "data": {
      "application/vnd.jupyter.widget-view+json": {
       "model_id": "cf01eeed30f9411f9a990b88175e65a5",
       "version_major": 2,
       "version_minor": 0
      },
      "text/plain": [
       "VBox(children=(Label(value='0.001 MB of 0.001 MB uploaded\\r'), FloatProgress(value=1.0, max=1.0)))"
      ]
     },
     "metadata": {},
     "output_type": "display_data"
    },
    {
     "data": {
      "text/html": [
       "<style>\n",
       "    table.wandb td:nth-child(1) { padding: 0 10px; text-align: left ; width: auto;} td:nth-child(2) {text-align: left ; width: 100%}\n",
       "    .wandb-row { display: flex; flex-direction: row; flex-wrap: wrap; justify-content: flex-start; width: 100% }\n",
       "    .wandb-col { display: flex; flex-direction: column; flex-basis: 100%; flex: 1; padding: 10px; }\n",
       "    </style>\n",
       "<div class=\"wandb-row\"><div class=\"wandb-col\"><h3>Run history:</h3><br/><table class=\"wandb\"><tr><td>epoch</td><td>▁▁▁▁▁▁▁▁▃▃▃▃▃▃▃▃▅▅▅▅▅▅▅▅▆▆▆▆▆▆▆▆████████</td></tr><tr><td>train_accuracy</td><td>▁▂▅▅▃▄▅▅▃▅▆▆▅▅█▇▆▅▆▅▅▅█▅▅▅▆▆▃█▇▅▄▅▆██▇█▇</td></tr><tr><td>train_loss</td><td>█▆▄▃▅▃▃▄▄▄▂▃▂▄▂▂▂▃▃▄▄▃▁▃▃▄▃▂▄▂▂▂▃▃▃▁▁▂▁▂</td></tr><tr><td>val_accuracy</td><td>▁▃▆▆▇▇▇▇▇▇▇▇▇▇▇█▇▇▇▇▇███████████████▇███</td></tr><tr><td>validation_loss</td><td>█▄▃▃▂▂▂▂▂▂▂▁▁▁▁▁▁▁▁▁▁▁▁▁▁▁▁▁▁▁▁▁▁▁▁▁▁▁▁▁</td></tr></table><br/></div><div class=\"wandb-col\"><h3>Run summary:</h3><br/><table class=\"wandb\"><tr><td>epoch</td><td>5</td></tr><tr><td>train_accuracy</td><td>100.0</td></tr><tr><td>train_loss</td><td>0.00984</td></tr><tr><td>val_accuracy</td><td>87.15</td></tr><tr><td>validation_loss</td><td>0.03608</td></tr></table><br/></div></div>"
      ],
      "text/plain": [
       "<IPython.core.display.HTML object>"
      ]
     },
     "metadata": {},
     "output_type": "display_data"
    },
    {
     "data": {
      "text/html": [
       " View run <strong style=\"color:#cdcd00\">cool-sweep-36</strong> at: <a href='https://wandb.ai/sumanta_roy/CS6910_assignment_1/runs/ezds7zyb' target=\"_blank\">https://wandb.ai/sumanta_roy/CS6910_assignment_1/runs/ezds7zyb</a><br/>Synced 6 W&B file(s), 0 media file(s), 0 artifact file(s) and 0 other file(s)"
      ],
      "text/plain": [
       "<IPython.core.display.HTML object>"
      ]
     },
     "metadata": {},
     "output_type": "display_data"
    },
    {
     "data": {
      "text/html": [
       "Find logs at: <code>./wandb/run-20240317_094446-ezds7zyb/logs</code>"
      ],
      "text/plain": [
       "<IPython.core.display.HTML object>"
      ]
     },
     "metadata": {},
     "output_type": "display_data"
    },
    {
     "name": "stderr",
     "output_type": "stream",
     "text": [
      "\u001b[34m\u001b[1mwandb\u001b[0m: Agent Starting Run: 3la5em39 with config:\n",
      "\u001b[34m\u001b[1mwandb\u001b[0m: \tactivation: tanh\n",
      "\u001b[34m\u001b[1mwandb\u001b[0m: \tbatch_size: 16\n",
      "\u001b[34m\u001b[1mwandb\u001b[0m: \tepochs: 10\n",
      "\u001b[34m\u001b[1mwandb\u001b[0m: \thidden_layers: 3\n",
      "\u001b[34m\u001b[1mwandb\u001b[0m: \thidden_size: 32\n",
      "\u001b[34m\u001b[1mwandb\u001b[0m: \tloss: cross_entropy\n",
      "\u001b[34m\u001b[1mwandb\u001b[0m: \tlr: 0.001\n",
      "\u001b[34m\u001b[1mwandb\u001b[0m: \toptimizer: rmsprop\n",
      "\u001b[34m\u001b[1mwandb\u001b[0m: \tw_init: glorot\n",
      "\u001b[34m\u001b[1mwandb\u001b[0m: \tweight_decay: 0.0005\n"
     ]
    },
    {
     "data": {
      "text/html": [
       "Tracking run with wandb version 0.16.4"
      ],
      "text/plain": [
       "<IPython.core.display.HTML object>"
      ]
     },
     "metadata": {},
     "output_type": "display_data"
    },
    {
     "data": {
      "text/html": [
       "Run data is saved locally in <code>/Users/sumanta/Desktop/Numpy project/cross_entropy_lesspasses/wandb/run-20240317_094530-3la5em39</code>"
      ],
      "text/plain": [
       "<IPython.core.display.HTML object>"
      ]
     },
     "metadata": {},
     "output_type": "display_data"
    },
    {
     "data": {
      "text/html": [
       "Syncing run <strong><a href='https://wandb.ai/sumanta_roy/CS6910_assignment_1/runs/3la5em39' target=\"_blank\">cosmic-sweep-37</a></strong> to <a href='https://wandb.ai/sumanta_roy/CS6910_assignment_1' target=\"_blank\">Weights & Biases</a> (<a href='https://wandb.me/run' target=\"_blank\">docs</a>)<br/>Sweep page: <a href='https://wandb.ai/sumanta_roy/CS6910_assignment_1/sweeps/mefq3vzl' target=\"_blank\">https://wandb.ai/sumanta_roy/CS6910_assignment_1/sweeps/mefq3vzl</a>"
      ],
      "text/plain": [
       "<IPython.core.display.HTML object>"
      ]
     },
     "metadata": {},
     "output_type": "display_data"
    },
    {
     "data": {
      "text/html": [
       " View project at <a href='https://wandb.ai/sumanta_roy/CS6910_assignment_1' target=\"_blank\">https://wandb.ai/sumanta_roy/CS6910_assignment_1</a>"
      ],
      "text/plain": [
       "<IPython.core.display.HTML object>"
      ]
     },
     "metadata": {},
     "output_type": "display_data"
    },
    {
     "data": {
      "text/html": [
       " View sweep at <a href='https://wandb.ai/sumanta_roy/CS6910_assignment_1/sweeps/mefq3vzl' target=\"_blank\">https://wandb.ai/sumanta_roy/CS6910_assignment_1/sweeps/mefq3vzl</a>"
      ],
      "text/plain": [
       "<IPython.core.display.HTML object>"
      ]
     },
     "metadata": {},
     "output_type": "display_data"
    },
    {
     "data": {
      "text/html": [
       " View run at <a href='https://wandb.ai/sumanta_roy/CS6910_assignment_1/runs/3la5em39' target=\"_blank\">https://wandb.ai/sumanta_roy/CS6910_assignment_1/runs/3la5em39</a>"
      ],
      "text/plain": [
       "<IPython.core.display.HTML object>"
      ]
     },
     "metadata": {},
     "output_type": "display_data"
    },
    {
     "name": "stdout",
     "output_type": "stream",
     "text": [
      "Epoch: 1/10; Train Loss: 0.012814980234074846; Val Loss: 0.0402745414516944\n",
      "Epoch: 2/10; Train Loss: 0.013546090111152986; Val Loss: 0.03729575003874389\n",
      "Epoch: 3/10; Train Loss: 0.015410360193548613; Val Loss: 0.036638744575160136\n",
      "Epoch: 4/10; Train Loss: 0.014428612466241345; Val Loss: 0.03616028471748031\n",
      "Epoch: 5/10; Train Loss: 0.013891477091748858; Val Loss: 0.03573271654857666\n",
      "Epoch: 6/10; Train Loss: 0.014091967212109289; Val Loss: 0.0358731486924141\n",
      "Epoch: 7/10; Train Loss: 0.014173400584847905; Val Loss: 0.03575315743659364\n",
      "Epoch: 8/10; Train Loss: 0.0137515123765545; Val Loss: 0.035334081014967905\n",
      "Epoch: 9/10; Train Loss: 0.013979243175319064; Val Loss: 0.03521716758372946\n",
      "Epoch: 10/10; Train Loss: 0.014569732020019342; Val Loss: 0.035174636082021295\n"
     ]
    },
    {
     "data": {
      "application/vnd.jupyter.widget-view+json": {
       "model_id": "a9c959f0e03442a0afa4b69657b086cd",
       "version_major": 2,
       "version_minor": 0
      },
      "text/plain": [
       "VBox(children=(Label(value='0.001 MB of 0.027 MB uploaded\\r'), FloatProgress(value=0.02731583044370533, max=1.…"
      ]
     },
     "metadata": {},
     "output_type": "display_data"
    },
    {
     "data": {
      "text/html": [
       "<style>\n",
       "    table.wandb td:nth-child(1) { padding: 0 10px; text-align: left ; width: auto;} td:nth-child(2) {text-align: left ; width: 100%}\n",
       "    .wandb-row { display: flex; flex-direction: row; flex-wrap: wrap; justify-content: flex-start; width: 100% }\n",
       "    .wandb-col { display: flex; flex-direction: column; flex-basis: 100%; flex: 1; padding: 10px; }\n",
       "    </style>\n",
       "<div class=\"wandb-row\"><div class=\"wandb-col\"><h3>Run history:</h3><br/><table class=\"wandb\"><tr><td>epoch</td><td>▁▁▁▁▂▂▂▂▃▃▃▃▃▃▃▃▄▄▄▄▅▅▅▅▆▆▆▆▆▆▆▆▇▇▇▇████</td></tr><tr><td>train_accuracy</td><td>▁▇▇▇▄▅▇█▅▅▄█▄▄▄▅▂▇▅▅▂▅▅▅▇▅▅▄▄▂▇▄▅▅▇▄▄▅▇▄</td></tr><tr><td>train_loss</td><td>█▃▂▂▄▂▃▁▂▃▄▁▃▅▄▂▇▂▂▂▅▃▄▃▂▄▃▄▅▅▁▃▄▃▂▃▃▄▂▄</td></tr><tr><td>val_accuracy</td><td>▁▅▆▆▅▅▆▇▇▇▆▇▇▇▇▇▇██▇▇▇█▇▇████▇█▇████████</td></tr><tr><td>validation_loss</td><td>█▅▄▃▃▃▃▂▂▂▃▂▂▂▂▁▂▁▁▁▂▂▁▂▂▁▁▂▂▂▂▂▁▁▁▁▁▂▁▁</td></tr></table><br/></div><div class=\"wandb-col\"><h3>Run summary:</h3><br/><table class=\"wandb\"><tr><td>epoch</td><td>10</td></tr><tr><td>train_accuracy</td><td>100.0</td></tr><tr><td>train_loss</td><td>0.01457</td></tr><tr><td>val_accuracy</td><td>88.15</td></tr><tr><td>validation_loss</td><td>0.03517</td></tr></table><br/></div></div>"
      ],
      "text/plain": [
       "<IPython.core.display.HTML object>"
      ]
     },
     "metadata": {},
     "output_type": "display_data"
    },
    {
     "data": {
      "text/html": [
       " View run <strong style=\"color:#cdcd00\">cosmic-sweep-37</strong> at: <a href='https://wandb.ai/sumanta_roy/CS6910_assignment_1/runs/3la5em39' target=\"_blank\">https://wandb.ai/sumanta_roy/CS6910_assignment_1/runs/3la5em39</a><br/>Synced 6 W&B file(s), 0 media file(s), 0 artifact file(s) and 0 other file(s)"
      ],
      "text/plain": [
       "<IPython.core.display.HTML object>"
      ]
     },
     "metadata": {},
     "output_type": "display_data"
    },
    {
     "data": {
      "text/html": [
       "Find logs at: <code>./wandb/run-20240317_094530-3la5em39/logs</code>"
      ],
      "text/plain": [
       "<IPython.core.display.HTML object>"
      ]
     },
     "metadata": {},
     "output_type": "display_data"
    },
    {
     "name": "stderr",
     "output_type": "stream",
     "text": [
      "\u001b[34m\u001b[1mwandb\u001b[0m: Agent Starting Run: tism5w6q with config:\n",
      "\u001b[34m\u001b[1mwandb\u001b[0m: \tactivation: tanh\n",
      "\u001b[34m\u001b[1mwandb\u001b[0m: \tbatch_size: 16\n",
      "\u001b[34m\u001b[1mwandb\u001b[0m: \tepochs: 10\n",
      "\u001b[34m\u001b[1mwandb\u001b[0m: \thidden_layers: 3\n",
      "\u001b[34m\u001b[1mwandb\u001b[0m: \thidden_size: 32\n",
      "\u001b[34m\u001b[1mwandb\u001b[0m: \tloss: cross_entropy\n",
      "\u001b[34m\u001b[1mwandb\u001b[0m: \tlr: 0.001\n",
      "\u001b[34m\u001b[1mwandb\u001b[0m: \toptimizer: rmsprop\n",
      "\u001b[34m\u001b[1mwandb\u001b[0m: \tw_init: glorot\n",
      "\u001b[34m\u001b[1mwandb\u001b[0m: \tweight_decay: 0.0005\n"
     ]
    },
    {
     "data": {
      "text/html": [
       "Tracking run with wandb version 0.16.4"
      ],
      "text/plain": [
       "<IPython.core.display.HTML object>"
      ]
     },
     "metadata": {},
     "output_type": "display_data"
    },
    {
     "data": {
      "text/html": [
       "Run data is saved locally in <code>/Users/sumanta/Desktop/Numpy project/cross_entropy_lesspasses/wandb/run-20240317_094628-tism5w6q</code>"
      ],
      "text/plain": [
       "<IPython.core.display.HTML object>"
      ]
     },
     "metadata": {},
     "output_type": "display_data"
    },
    {
     "data": {
      "text/html": [
       "Syncing run <strong><a href='https://wandb.ai/sumanta_roy/CS6910_assignment_1/runs/tism5w6q' target=\"_blank\">honest-sweep-38</a></strong> to <a href='https://wandb.ai/sumanta_roy/CS6910_assignment_1' target=\"_blank\">Weights & Biases</a> (<a href='https://wandb.me/run' target=\"_blank\">docs</a>)<br/>Sweep page: <a href='https://wandb.ai/sumanta_roy/CS6910_assignment_1/sweeps/mefq3vzl' target=\"_blank\">https://wandb.ai/sumanta_roy/CS6910_assignment_1/sweeps/mefq3vzl</a>"
      ],
      "text/plain": [
       "<IPython.core.display.HTML object>"
      ]
     },
     "metadata": {},
     "output_type": "display_data"
    },
    {
     "data": {
      "text/html": [
       " View project at <a href='https://wandb.ai/sumanta_roy/CS6910_assignment_1' target=\"_blank\">https://wandb.ai/sumanta_roy/CS6910_assignment_1</a>"
      ],
      "text/plain": [
       "<IPython.core.display.HTML object>"
      ]
     },
     "metadata": {},
     "output_type": "display_data"
    },
    {
     "data": {
      "text/html": [
       " View sweep at <a href='https://wandb.ai/sumanta_roy/CS6910_assignment_1/sweeps/mefq3vzl' target=\"_blank\">https://wandb.ai/sumanta_roy/CS6910_assignment_1/sweeps/mefq3vzl</a>"
      ],
      "text/plain": [
       "<IPython.core.display.HTML object>"
      ]
     },
     "metadata": {},
     "output_type": "display_data"
    },
    {
     "data": {
      "text/html": [
       " View run at <a href='https://wandb.ai/sumanta_roy/CS6910_assignment_1/runs/tism5w6q' target=\"_blank\">https://wandb.ai/sumanta_roy/CS6910_assignment_1/runs/tism5w6q</a>"
      ],
      "text/plain": [
       "<IPython.core.display.HTML object>"
      ]
     },
     "metadata": {},
     "output_type": "display_data"
    },
    {
     "name": "stdout",
     "output_type": "stream",
     "text": [
      "Epoch: 1/10; Train Loss: 0.011601737523055173; Val Loss: 0.04060065142096316\n",
      "Epoch: 2/10; Train Loss: 0.01162102133388052; Val Loss: 0.037800390628259156\n",
      "Epoch: 3/10; Train Loss: 0.011625707980818568; Val Loss: 0.037033675603013023\n",
      "Epoch: 4/10; Train Loss: 0.012499015062412584; Val Loss: 0.03673461746896926\n",
      "Epoch: 5/10; Train Loss: 0.01348447456285332; Val Loss: 0.03672565542568036\n",
      "Epoch: 6/10; Train Loss: 0.014291449205139929; Val Loss: 0.036575226802944096\n",
      "Epoch: 7/10; Train Loss: 0.014181630685164627; Val Loss: 0.03640960204003101\n",
      "Epoch: 8/10; Train Loss: 0.013890892393301074; Val Loss: 0.036481197741266076\n",
      "Epoch: 9/10; Train Loss: 0.014102998808442832; Val Loss: 0.03647228456567541\n",
      "Epoch: 10/10; Train Loss: 0.015077623772347646; Val Loss: 0.03642953545218588\n"
     ]
    },
    {
     "data": {
      "application/vnd.jupyter.widget-view+json": {
       "model_id": "e104dee9098447a9bb3e4064a81f4523",
       "version_major": 2,
       "version_minor": 0
      },
      "text/plain": [
       "VBox(children=(Label(value='0.001 MB of 0.001 MB uploaded\\r'), FloatProgress(value=1.0, max=1.0)))"
      ]
     },
     "metadata": {},
     "output_type": "display_data"
    },
    {
     "data": {
      "text/html": [
       "<style>\n",
       "    table.wandb td:nth-child(1) { padding: 0 10px; text-align: left ; width: auto;} td:nth-child(2) {text-align: left ; width: 100%}\n",
       "    .wandb-row { display: flex; flex-direction: row; flex-wrap: wrap; justify-content: flex-start; width: 100% }\n",
       "    .wandb-col { display: flex; flex-direction: column; flex-basis: 100%; flex: 1; padding: 10px; }\n",
       "    </style>\n",
       "<div class=\"wandb-row\"><div class=\"wandb-col\"><h3>Run history:</h3><br/><table class=\"wandb\"><tr><td>epoch</td><td>▁▁▁▁▂▂▂▂▃▃▃▃▃▃▃▃▄▄▄▄▅▅▅▅▆▆▆▆▆▆▆▆▇▇▇▇████</td></tr><tr><td>train_accuracy</td><td>▁▇▇▇▅▇▇▄▇▅▄▅▅▄▅▅▂▇▄▇▄▅▇▇▇▄▅▂▅▄█▇▄▇▇▄▄▅▅▅</td></tr><tr><td>train_loss</td><td>█▂▁▂▃▃▄▂▂▃▄▁▄▄▃▂▆▄▂▁▆▄▃▄▃▅▅▄▃▅▁▁▄▂▅▄▅▅▄▄</td></tr><tr><td>val_accuracy</td><td>▁▄▆▆▆▅▆▆▇▇▆▇▇▇▇▇▇▇▇█▇██▇▇████▇▇█▇███████</td></tr><tr><td>validation_loss</td><td>█▄▃▃▃▃▂▂▂▂▃▂▁▂▁▁▂▂▂▁▂▁▁▁▁▁▁▁▁▂▂▁▁▁▁▁▁▂▁▁</td></tr></table><br/></div><div class=\"wandb-col\"><h3>Run summary:</h3><br/><table class=\"wandb\"><tr><td>epoch</td><td>10</td></tr><tr><td>train_accuracy</td><td>100.0</td></tr><tr><td>train_loss</td><td>0.01508</td></tr><tr><td>val_accuracy</td><td>87.26667</td></tr><tr><td>validation_loss</td><td>0.03643</td></tr></table><br/></div></div>"
      ],
      "text/plain": [
       "<IPython.core.display.HTML object>"
      ]
     },
     "metadata": {},
     "output_type": "display_data"
    },
    {
     "data": {
      "text/html": [
       " View run <strong style=\"color:#cdcd00\">honest-sweep-38</strong> at: <a href='https://wandb.ai/sumanta_roy/CS6910_assignment_1/runs/tism5w6q' target=\"_blank\">https://wandb.ai/sumanta_roy/CS6910_assignment_1/runs/tism5w6q</a><br/>Synced 6 W&B file(s), 0 media file(s), 0 artifact file(s) and 0 other file(s)"
      ],
      "text/plain": [
       "<IPython.core.display.HTML object>"
      ]
     },
     "metadata": {},
     "output_type": "display_data"
    },
    {
     "data": {
      "text/html": [
       "Find logs at: <code>./wandb/run-20240317_094628-tism5w6q/logs</code>"
      ],
      "text/plain": [
       "<IPython.core.display.HTML object>"
      ]
     },
     "metadata": {},
     "output_type": "display_data"
    },
    {
     "name": "stderr",
     "output_type": "stream",
     "text": [
      "\u001b[34m\u001b[1mwandb\u001b[0m: Sweep Agent: Waiting for job.\n",
      "\u001b[34m\u001b[1mwandb\u001b[0m: Job received.\n",
      "\u001b[34m\u001b[1mwandb\u001b[0m: Agent Starting Run: 8lcylshi with config:\n",
      "\u001b[34m\u001b[1mwandb\u001b[0m: \tactivation: relu\n",
      "\u001b[34m\u001b[1mwandb\u001b[0m: \tbatch_size: 16\n",
      "\u001b[34m\u001b[1mwandb\u001b[0m: \tepochs: 5\n",
      "\u001b[34m\u001b[1mwandb\u001b[0m: \thidden_layers: 3\n",
      "\u001b[34m\u001b[1mwandb\u001b[0m: \thidden_size: 32\n",
      "\u001b[34m\u001b[1mwandb\u001b[0m: \tloss: cross_entropy\n",
      "\u001b[34m\u001b[1mwandb\u001b[0m: \tlr: 0.0001\n",
      "\u001b[34m\u001b[1mwandb\u001b[0m: \toptimizer: adam\n",
      "\u001b[34m\u001b[1mwandb\u001b[0m: \tw_init: glorot\n",
      "\u001b[34m\u001b[1mwandb\u001b[0m: \tweight_decay: 0.0005\n"
     ]
    },
    {
     "data": {
      "text/html": [
       "Tracking run with wandb version 0.16.4"
      ],
      "text/plain": [
       "<IPython.core.display.HTML object>"
      ]
     },
     "metadata": {},
     "output_type": "display_data"
    },
    {
     "data": {
      "text/html": [
       "Run data is saved locally in <code>/Users/sumanta/Desktop/Numpy project/cross_entropy_lesspasses/wandb/run-20240317_094731-8lcylshi</code>"
      ],
      "text/plain": [
       "<IPython.core.display.HTML object>"
      ]
     },
     "metadata": {},
     "output_type": "display_data"
    },
    {
     "data": {
      "text/html": [
       "Syncing run <strong><a href='https://wandb.ai/sumanta_roy/CS6910_assignment_1/runs/8lcylshi' target=\"_blank\">graceful-sweep-39</a></strong> to <a href='https://wandb.ai/sumanta_roy/CS6910_assignment_1' target=\"_blank\">Weights & Biases</a> (<a href='https://wandb.me/run' target=\"_blank\">docs</a>)<br/>Sweep page: <a href='https://wandb.ai/sumanta_roy/CS6910_assignment_1/sweeps/mefq3vzl' target=\"_blank\">https://wandb.ai/sumanta_roy/CS6910_assignment_1/sweeps/mefq3vzl</a>"
      ],
      "text/plain": [
       "<IPython.core.display.HTML object>"
      ]
     },
     "metadata": {},
     "output_type": "display_data"
    },
    {
     "data": {
      "text/html": [
       " View project at <a href='https://wandb.ai/sumanta_roy/CS6910_assignment_1' target=\"_blank\">https://wandb.ai/sumanta_roy/CS6910_assignment_1</a>"
      ],
      "text/plain": [
       "<IPython.core.display.HTML object>"
      ]
     },
     "metadata": {},
     "output_type": "display_data"
    },
    {
     "data": {
      "text/html": [
       " View sweep at <a href='https://wandb.ai/sumanta_roy/CS6910_assignment_1/sweeps/mefq3vzl' target=\"_blank\">https://wandb.ai/sumanta_roy/CS6910_assignment_1/sweeps/mefq3vzl</a>"
      ],
      "text/plain": [
       "<IPython.core.display.HTML object>"
      ]
     },
     "metadata": {},
     "output_type": "display_data"
    },
    {
     "data": {
      "text/html": [
       " View run at <a href='https://wandb.ai/sumanta_roy/CS6910_assignment_1/runs/8lcylshi' target=\"_blank\">https://wandb.ai/sumanta_roy/CS6910_assignment_1/runs/8lcylshi</a>"
      ],
      "text/plain": [
       "<IPython.core.display.HTML object>"
      ]
     },
     "metadata": {},
     "output_type": "display_data"
    },
    {
     "name": "stdout",
     "output_type": "stream",
     "text": [
      "Epoch: 1/5; Train Loss: 0.03645950929894353; Val Loss: 0.07015008599742631\n",
      "Epoch: 2/5; Train Loss: 0.02402282720702493; Val Loss: 0.0586814673898833\n",
      "Epoch: 3/5; Train Loss: 0.019517369552227874; Val Loss: 0.05284063275751655\n",
      "Epoch: 4/5; Train Loss: 0.017490873529413777; Val Loss: 0.04933195268092605\n",
      "Epoch: 5/5; Train Loss: 0.015951679019886054; Val Loss: 0.04694715868244713\n"
     ]
    },
    {
     "data": {
      "application/vnd.jupyter.widget-view+json": {
       "model_id": "da8a246f2f994cfc8b6d39e108ed8c31",
       "version_major": 2,
       "version_minor": 0
      },
      "text/plain": [
       "VBox(children=(Label(value='0.001 MB of 0.001 MB uploaded\\r'), FloatProgress(value=1.0, max=1.0)))"
      ]
     },
     "metadata": {},
     "output_type": "display_data"
    },
    {
     "data": {
      "text/html": [
       "<style>\n",
       "    table.wandb td:nth-child(1) { padding: 0 10px; text-align: left ; width: auto;} td:nth-child(2) {text-align: left ; width: 100%}\n",
       "    .wandb-row { display: flex; flex-direction: row; flex-wrap: wrap; justify-content: flex-start; width: 100% }\n",
       "    .wandb-col { display: flex; flex-direction: column; flex-basis: 100%; flex: 1; padding: 10px; }\n",
       "    </style>\n",
       "<div class=\"wandb-row\"><div class=\"wandb-col\"><h3>Run history:</h3><br/><table class=\"wandb\"><tr><td>epoch</td><td>▁▁▁▁▁▁▁▁▃▃▃▃▃▃▃▃▅▅▅▅▅▅▅▅▆▆▆▆▆▆▆▆████████</td></tr><tr><td>train_accuracy</td><td>▁▂▃▃▄▄▆▄▃▆▇▅▆▅▆▇▆▆▇▆▅▇█▅▇▆▇▆▅▇▇▅▃▅▇▇▇▇▇▇</td></tr><tr><td>train_loss</td><td>█▆▄▄▅▃▃▄▄▄▂▃▃▆▂▁▃▂▂▄▃▂▁▃▂▂▂▂▃▂▁▃▃▃▂▁▁▁▁▂</td></tr><tr><td>val_accuracy</td><td>▁▄▆▆▆▆▇▇▇▇▇▇▇▇▇▇████████████████████████</td></tr><tr><td>validation_loss</td><td>█▅▄▃▃▃▂▂▂▂▂▂▂▂▂▂▂▂▁▁▁▁▁▁▁▁▁▁▁▁▁▁▁▁▁▁▁▁▁▁</td></tr></table><br/></div><div class=\"wandb-col\"><h3>Run summary:</h3><br/><table class=\"wandb\"><tr><td>epoch</td><td>5</td></tr><tr><td>train_accuracy</td><td>100.0</td></tr><tr><td>train_loss</td><td>0.01595</td></tr><tr><td>val_accuracy</td><td>84.48333</td></tr><tr><td>validation_loss</td><td>0.04695</td></tr></table><br/></div></div>"
      ],
      "text/plain": [
       "<IPython.core.display.HTML object>"
      ]
     },
     "metadata": {},
     "output_type": "display_data"
    },
    {
     "data": {
      "text/html": [
       " View run <strong style=\"color:#cdcd00\">graceful-sweep-39</strong> at: <a href='https://wandb.ai/sumanta_roy/CS6910_assignment_1/runs/8lcylshi' target=\"_blank\">https://wandb.ai/sumanta_roy/CS6910_assignment_1/runs/8lcylshi</a><br/>Synced 6 W&B file(s), 0 media file(s), 0 artifact file(s) and 0 other file(s)"
      ],
      "text/plain": [
       "<IPython.core.display.HTML object>"
      ]
     },
     "metadata": {},
     "output_type": "display_data"
    },
    {
     "data": {
      "text/html": [
       "Find logs at: <code>./wandb/run-20240317_094731-8lcylshi/logs</code>"
      ],
      "text/plain": [
       "<IPython.core.display.HTML object>"
      ]
     },
     "metadata": {},
     "output_type": "display_data"
    },
    {
     "name": "stderr",
     "output_type": "stream",
     "text": [
      "\u001b[34m\u001b[1mwandb\u001b[0m: Agent Starting Run: wj1z3272 with config:\n",
      "\u001b[34m\u001b[1mwandb\u001b[0m: \tactivation: tanh\n",
      "\u001b[34m\u001b[1mwandb\u001b[0m: \tbatch_size: 16\n",
      "\u001b[34m\u001b[1mwandb\u001b[0m: \tepochs: 10\n",
      "\u001b[34m\u001b[1mwandb\u001b[0m: \thidden_layers: 3\n",
      "\u001b[34m\u001b[1mwandb\u001b[0m: \thidden_size: 64\n",
      "\u001b[34m\u001b[1mwandb\u001b[0m: \tloss: cross_entropy\n",
      "\u001b[34m\u001b[1mwandb\u001b[0m: \tlr: 0.001\n",
      "\u001b[34m\u001b[1mwandb\u001b[0m: \toptimizer: adam\n",
      "\u001b[34m\u001b[1mwandb\u001b[0m: \tw_init: glorot\n",
      "\u001b[34m\u001b[1mwandb\u001b[0m: \tweight_decay: 0\n"
     ]
    },
    {
     "data": {
      "text/html": [
       "Tracking run with wandb version 0.16.4"
      ],
      "text/plain": [
       "<IPython.core.display.HTML object>"
      ]
     },
     "metadata": {},
     "output_type": "display_data"
    },
    {
     "data": {
      "text/html": [
       "Run data is saved locally in <code>/Users/sumanta/Desktop/Numpy project/cross_entropy_lesspasses/wandb/run-20240317_094809-wj1z3272</code>"
      ],
      "text/plain": [
       "<IPython.core.display.HTML object>"
      ]
     },
     "metadata": {},
     "output_type": "display_data"
    },
    {
     "data": {
      "text/html": [
       "Syncing run <strong><a href='https://wandb.ai/sumanta_roy/CS6910_assignment_1/runs/wj1z3272' target=\"_blank\">dandy-sweep-40</a></strong> to <a href='https://wandb.ai/sumanta_roy/CS6910_assignment_1' target=\"_blank\">Weights & Biases</a> (<a href='https://wandb.me/run' target=\"_blank\">docs</a>)<br/>Sweep page: <a href='https://wandb.ai/sumanta_roy/CS6910_assignment_1/sweeps/mefq3vzl' target=\"_blank\">https://wandb.ai/sumanta_roy/CS6910_assignment_1/sweeps/mefq3vzl</a>"
      ],
      "text/plain": [
       "<IPython.core.display.HTML object>"
      ]
     },
     "metadata": {},
     "output_type": "display_data"
    },
    {
     "data": {
      "text/html": [
       " View project at <a href='https://wandb.ai/sumanta_roy/CS6910_assignment_1' target=\"_blank\">https://wandb.ai/sumanta_roy/CS6910_assignment_1</a>"
      ],
      "text/plain": [
       "<IPython.core.display.HTML object>"
      ]
     },
     "metadata": {},
     "output_type": "display_data"
    },
    {
     "data": {
      "text/html": [
       " View sweep at <a href='https://wandb.ai/sumanta_roy/CS6910_assignment_1/sweeps/mefq3vzl' target=\"_blank\">https://wandb.ai/sumanta_roy/CS6910_assignment_1/sweeps/mefq3vzl</a>"
      ],
      "text/plain": [
       "<IPython.core.display.HTML object>"
      ]
     },
     "metadata": {},
     "output_type": "display_data"
    },
    {
     "data": {
      "text/html": [
       " View run at <a href='https://wandb.ai/sumanta_roy/CS6910_assignment_1/runs/wj1z3272' target=\"_blank\">https://wandb.ai/sumanta_roy/CS6910_assignment_1/runs/wj1z3272</a>"
      ],
      "text/plain": [
       "<IPython.core.display.HTML object>"
      ]
     },
     "metadata": {},
     "output_type": "display_data"
    },
    {
     "name": "stdout",
     "output_type": "stream",
     "text": [
      "Epoch: 1/10; Train Loss: 0.0069541887109552765; Val Loss: 0.037364503182382276\n",
      "Epoch: 2/10; Train Loss: 0.008803930388828861; Val Loss: 0.034650401973299244\n",
      "Epoch: 3/10; Train Loss: 0.009236974229834612; Val Loss: 0.03349641111818884\n",
      "Epoch: 4/10; Train Loss: 0.008645512563008158; Val Loss: 0.032880762471102144\n",
      "Epoch: 5/10; Train Loss: 0.007823536159375855; Val Loss: 0.03239855916459742\n",
      "Epoch: 6/10; Train Loss: 0.00713755501878104; Val Loss: 0.03201215995069105\n",
      "Epoch: 7/10; Train Loss: 0.006563419530705647; Val Loss: 0.03191313822481305\n",
      "Epoch: 8/10; Train Loss: 0.0060260942589692845; Val Loss: 0.03200700882647505\n",
      "Epoch: 9/10; Train Loss: 0.005532521316536684; Val Loss: 0.03229254903030128\n",
      "Epoch: 10/10; Train Loss: 0.005161842565801863; Val Loss: 0.03261109357783732\n"
     ]
    },
    {
     "data": {
      "application/vnd.jupyter.widget-view+json": {
       "model_id": "d2a264882ec5488887076bbfece55190",
       "version_major": 2,
       "version_minor": 0
      },
      "text/plain": [
       "VBox(children=(Label(value='0.001 MB of 0.001 MB uploaded\\r'), FloatProgress(value=1.0, max=1.0)))"
      ]
     },
     "metadata": {},
     "output_type": "display_data"
    },
    {
     "data": {
      "text/html": [
       "<style>\n",
       "    table.wandb td:nth-child(1) { padding: 0 10px; text-align: left ; width: auto;} td:nth-child(2) {text-align: left ; width: 100%}\n",
       "    .wandb-row { display: flex; flex-direction: row; flex-wrap: wrap; justify-content: flex-start; width: 100% }\n",
       "    .wandb-col { display: flex; flex-direction: column; flex-basis: 100%; flex: 1; padding: 10px; }\n",
       "    </style>\n",
       "<div class=\"wandb-row\"><div class=\"wandb-col\"><h3>Run history:</h3><br/><table class=\"wandb\"><tr><td>epoch</td><td>▁▁▁▁▂▂▂▂▃▃▃▃▃▃▃▃▄▄▄▄▅▅▅▅▆▆▆▆▆▆▆▆▇▇▇▇████</td></tr><tr><td>train_accuracy</td><td>▁▇█▆▆▇▇▆▆▇▅▆▆▅▅▆▅▆▆█▇▆▆▇▇▇▆▅▇▃█▆▇▇▇▆▅▆▆▇</td></tr><tr><td>train_loss</td><td>█▄▁▄▄▃▄▃▃▃▆▃▄▅▅▄▅▄▃▁▃▄▆▃▃▆▄▅▂▆▁▄▃▂▁▃▅▄▄▃</td></tr><tr><td>val_accuracy</td><td>▁▄▄▆▆▇▆▇▆▇▆▆▇▇██▇██▇▇▇▇██████▇██████████</td></tr><tr><td>validation_loss</td><td>█▅▄▃▃▂▃▂▃▂▂▂▂▂▁▁▂▁▁▂▁▁▂▁▁▁▁▁▁▂▁▂▂▁▁▁▁▁▂▁</td></tr></table><br/></div><div class=\"wandb-col\"><h3>Run summary:</h3><br/><table class=\"wandb\"><tr><td>epoch</td><td>10</td></tr><tr><td>train_accuracy</td><td>100.0</td></tr><tr><td>train_loss</td><td>0.00516</td></tr><tr><td>val_accuracy</td><td>89.21667</td></tr><tr><td>validation_loss</td><td>0.03261</td></tr></table><br/></div></div>"
      ],
      "text/plain": [
       "<IPython.core.display.HTML object>"
      ]
     },
     "metadata": {},
     "output_type": "display_data"
    },
    {
     "data": {
      "text/html": [
       " View run <strong style=\"color:#cdcd00\">dandy-sweep-40</strong> at: <a href='https://wandb.ai/sumanta_roy/CS6910_assignment_1/runs/wj1z3272' target=\"_blank\">https://wandb.ai/sumanta_roy/CS6910_assignment_1/runs/wj1z3272</a><br/>Synced 6 W&B file(s), 0 media file(s), 0 artifact file(s) and 0 other file(s)"
      ],
      "text/plain": [
       "<IPython.core.display.HTML object>"
      ]
     },
     "metadata": {},
     "output_type": "display_data"
    },
    {
     "data": {
      "text/html": [
       "Find logs at: <code>./wandb/run-20240317_094809-wj1z3272/logs</code>"
      ],
      "text/plain": [
       "<IPython.core.display.HTML object>"
      ]
     },
     "metadata": {},
     "output_type": "display_data"
    },
    {
     "name": "stderr",
     "output_type": "stream",
     "text": [
      "\u001b[34m\u001b[1mwandb\u001b[0m: Agent Starting Run: ytd2zl91 with config:\n",
      "\u001b[34m\u001b[1mwandb\u001b[0m: \tactivation: tanh\n",
      "\u001b[34m\u001b[1mwandb\u001b[0m: \tbatch_size: 16\n",
      "\u001b[34m\u001b[1mwandb\u001b[0m: \tepochs: 5\n",
      "\u001b[34m\u001b[1mwandb\u001b[0m: \thidden_layers: 3\n",
      "\u001b[34m\u001b[1mwandb\u001b[0m: \thidden_size: 64\n",
      "\u001b[34m\u001b[1mwandb\u001b[0m: \tloss: cross_entropy\n",
      "\u001b[34m\u001b[1mwandb\u001b[0m: \tlr: 0.001\n",
      "\u001b[34m\u001b[1mwandb\u001b[0m: \toptimizer: momentum\n",
      "\u001b[34m\u001b[1mwandb\u001b[0m: \tw_init: random\n",
      "\u001b[34m\u001b[1mwandb\u001b[0m: \tweight_decay: 0\n"
     ]
    },
    {
     "data": {
      "text/html": [
       "Tracking run with wandb version 0.16.4"
      ],
      "text/plain": [
       "<IPython.core.display.HTML object>"
      ]
     },
     "metadata": {},
     "output_type": "display_data"
    },
    {
     "data": {
      "text/html": [
       "Run data is saved locally in <code>/Users/sumanta/Desktop/Numpy project/cross_entropy_lesspasses/wandb/run-20240317_094929-ytd2zl91</code>"
      ],
      "text/plain": [
       "<IPython.core.display.HTML object>"
      ]
     },
     "metadata": {},
     "output_type": "display_data"
    },
    {
     "data": {
      "text/html": [
       "Syncing run <strong><a href='https://wandb.ai/sumanta_roy/CS6910_assignment_1/runs/ytd2zl91' target=\"_blank\">crimson-sweep-41</a></strong> to <a href='https://wandb.ai/sumanta_roy/CS6910_assignment_1' target=\"_blank\">Weights & Biases</a> (<a href='https://wandb.me/run' target=\"_blank\">docs</a>)<br/>Sweep page: <a href='https://wandb.ai/sumanta_roy/CS6910_assignment_1/sweeps/mefq3vzl' target=\"_blank\">https://wandb.ai/sumanta_roy/CS6910_assignment_1/sweeps/mefq3vzl</a>"
      ],
      "text/plain": [
       "<IPython.core.display.HTML object>"
      ]
     },
     "metadata": {},
     "output_type": "display_data"
    },
    {
     "data": {
      "text/html": [
       " View project at <a href='https://wandb.ai/sumanta_roy/CS6910_assignment_1' target=\"_blank\">https://wandb.ai/sumanta_roy/CS6910_assignment_1</a>"
      ],
      "text/plain": [
       "<IPython.core.display.HTML object>"
      ]
     },
     "metadata": {},
     "output_type": "display_data"
    },
    {
     "data": {
      "text/html": [
       " View sweep at <a href='https://wandb.ai/sumanta_roy/CS6910_assignment_1/sweeps/mefq3vzl' target=\"_blank\">https://wandb.ai/sumanta_roy/CS6910_assignment_1/sweeps/mefq3vzl</a>"
      ],
      "text/plain": [
       "<IPython.core.display.HTML object>"
      ]
     },
     "metadata": {},
     "output_type": "display_data"
    },
    {
     "data": {
      "text/html": [
       " View run at <a href='https://wandb.ai/sumanta_roy/CS6910_assignment_1/runs/ytd2zl91' target=\"_blank\">https://wandb.ai/sumanta_roy/CS6910_assignment_1/runs/ytd2zl91</a>"
      ],
      "text/plain": [
       "<IPython.core.display.HTML object>"
      ]
     },
     "metadata": {},
     "output_type": "display_data"
    },
    {
     "name": "stdout",
     "output_type": "stream",
     "text": [
      "Epoch: 1/5; Train Loss: 0.039609481308150465; Val Loss: 0.05819970514041618\n",
      "Epoch: 2/5; Train Loss: 0.03462162315661751; Val Loss: 0.051632464113921576\n",
      "Epoch: 3/5; Train Loss: 0.03067728345101216; Val Loss: 0.04864624971467841\n",
      "Epoch: 4/5; Train Loss: 0.027272387848756307; Val Loss: 0.04672774176849388\n",
      "Epoch: 5/5; Train Loss: 0.024946146939145965; Val Loss: 0.045293518989296025\n"
     ]
    },
    {
     "data": {
      "application/vnd.jupyter.widget-view+json": {
       "model_id": "15a93befc9534344b012b5628c0db0af",
       "version_major": 2,
       "version_minor": 0
      },
      "text/plain": [
       "VBox(children=(Label(value='0.001 MB of 0.001 MB uploaded\\r'), FloatProgress(value=1.0, max=1.0)))"
      ]
     },
     "metadata": {},
     "output_type": "display_data"
    },
    {
     "data": {
      "text/html": [
       "<style>\n",
       "    table.wandb td:nth-child(1) { padding: 0 10px; text-align: left ; width: auto;} td:nth-child(2) {text-align: left ; width: 100%}\n",
       "    .wandb-row { display: flex; flex-direction: row; flex-wrap: wrap; justify-content: flex-start; width: 100% }\n",
       "    .wandb-col { display: flex; flex-direction: column; flex-basis: 100%; flex: 1; padding: 10px; }\n",
       "    </style>\n",
       "<div class=\"wandb-row\"><div class=\"wandb-col\"><h3>Run history:</h3><br/><table class=\"wandb\"><tr><td>epoch</td><td>▁▁▁▁▁▁▁▁▃▃▃▃▃▃▃▃▅▅▅▅▅▅▅▅▆▆▆▆▆▆▆▆████████</td></tr><tr><td>train_accuracy</td><td>▁▄▅▆▃▅▆▅▅▅▆▆▆▄▇▇▇▇▇▇▅▅█▆▄▇▇▇▆▇▇▆▃▅▆█▇▆█▆</td></tr><tr><td>train_loss</td><td>█▅▄▃▆▄▃▄▄▃▃▃▂▅▂▂▂▂▂▄▃▄▁▃▄▃▂▃▃▂▂▂▄▄▄▁▁▃▁▃</td></tr><tr><td>val_accuracy</td><td>▁▄▆▆▆▇▇▇▇▇▇▇▇▇▇▇▇▇██████████████████████</td></tr><tr><td>validation_loss</td><td>█▄▃▃▂▂▂▂▂▂▂▂▂▂▂▁▁▁▁▁▁▁▁▁▁▁▁▁▁▁▁▁▁▁▁▁▁▁▁▁</td></tr></table><br/></div><div class=\"wandb-col\"><h3>Run summary:</h3><br/><table class=\"wandb\"><tr><td>epoch</td><td>5</td></tr><tr><td>train_accuracy</td><td>87.5</td></tr><tr><td>train_loss</td><td>0.02495</td></tr><tr><td>val_accuracy</td><td>84.21667</td></tr><tr><td>validation_loss</td><td>0.04529</td></tr></table><br/></div></div>"
      ],
      "text/plain": [
       "<IPython.core.display.HTML object>"
      ]
     },
     "metadata": {},
     "output_type": "display_data"
    },
    {
     "data": {
      "text/html": [
       " View run <strong style=\"color:#cdcd00\">crimson-sweep-41</strong> at: <a href='https://wandb.ai/sumanta_roy/CS6910_assignment_1/runs/ytd2zl91' target=\"_blank\">https://wandb.ai/sumanta_roy/CS6910_assignment_1/runs/ytd2zl91</a><br/>Synced 6 W&B file(s), 0 media file(s), 0 artifact file(s) and 0 other file(s)"
      ],
      "text/plain": [
       "<IPython.core.display.HTML object>"
      ]
     },
     "metadata": {},
     "output_type": "display_data"
    },
    {
     "data": {
      "text/html": [
       "Find logs at: <code>./wandb/run-20240317_094929-ytd2zl91/logs</code>"
      ],
      "text/plain": [
       "<IPython.core.display.HTML object>"
      ]
     },
     "metadata": {},
     "output_type": "display_data"
    },
    {
     "name": "stderr",
     "output_type": "stream",
     "text": [
      "\u001b[34m\u001b[1mwandb\u001b[0m: Agent Starting Run: k6jgj2no with config:\n",
      "\u001b[34m\u001b[1mwandb\u001b[0m: \tactivation: tanh\n",
      "\u001b[34m\u001b[1mwandb\u001b[0m: \tbatch_size: 16\n",
      "\u001b[34m\u001b[1mwandb\u001b[0m: \tepochs: 10\n",
      "\u001b[34m\u001b[1mwandb\u001b[0m: \thidden_layers: 3\n",
      "\u001b[34m\u001b[1mwandb\u001b[0m: \thidden_size: 64\n",
      "\u001b[34m\u001b[1mwandb\u001b[0m: \tloss: cross_entropy\n",
      "\u001b[34m\u001b[1mwandb\u001b[0m: \tlr: 0.001\n",
      "\u001b[34m\u001b[1mwandb\u001b[0m: \toptimizer: adam\n",
      "\u001b[34m\u001b[1mwandb\u001b[0m: \tw_init: glorot\n",
      "\u001b[34m\u001b[1mwandb\u001b[0m: \tweight_decay: 0\n"
     ]
    },
    {
     "data": {
      "text/html": [
       "Tracking run with wandb version 0.16.4"
      ],
      "text/plain": [
       "<IPython.core.display.HTML object>"
      ]
     },
     "metadata": {},
     "output_type": "display_data"
    },
    {
     "data": {
      "text/html": [
       "Run data is saved locally in <code>/Users/sumanta/Desktop/Numpy project/cross_entropy_lesspasses/wandb/run-20240317_095011-k6jgj2no</code>"
      ],
      "text/plain": [
       "<IPython.core.display.HTML object>"
      ]
     },
     "metadata": {},
     "output_type": "display_data"
    },
    {
     "data": {
      "text/html": [
       "Syncing run <strong><a href='https://wandb.ai/sumanta_roy/CS6910_assignment_1/runs/k6jgj2no' target=\"_blank\">vivid-sweep-42</a></strong> to <a href='https://wandb.ai/sumanta_roy/CS6910_assignment_1' target=\"_blank\">Weights & Biases</a> (<a href='https://wandb.me/run' target=\"_blank\">docs</a>)<br/>Sweep page: <a href='https://wandb.ai/sumanta_roy/CS6910_assignment_1/sweeps/mefq3vzl' target=\"_blank\">https://wandb.ai/sumanta_roy/CS6910_assignment_1/sweeps/mefq3vzl</a>"
      ],
      "text/plain": [
       "<IPython.core.display.HTML object>"
      ]
     },
     "metadata": {},
     "output_type": "display_data"
    },
    {
     "data": {
      "text/html": [
       " View project at <a href='https://wandb.ai/sumanta_roy/CS6910_assignment_1' target=\"_blank\">https://wandb.ai/sumanta_roy/CS6910_assignment_1</a>"
      ],
      "text/plain": [
       "<IPython.core.display.HTML object>"
      ]
     },
     "metadata": {},
     "output_type": "display_data"
    },
    {
     "data": {
      "text/html": [
       " View sweep at <a href='https://wandb.ai/sumanta_roy/CS6910_assignment_1/sweeps/mefq3vzl' target=\"_blank\">https://wandb.ai/sumanta_roy/CS6910_assignment_1/sweeps/mefq3vzl</a>"
      ],
      "text/plain": [
       "<IPython.core.display.HTML object>"
      ]
     },
     "metadata": {},
     "output_type": "display_data"
    },
    {
     "data": {
      "text/html": [
       " View run at <a href='https://wandb.ai/sumanta_roy/CS6910_assignment_1/runs/k6jgj2no' target=\"_blank\">https://wandb.ai/sumanta_roy/CS6910_assignment_1/runs/k6jgj2no</a>"
      ],
      "text/plain": [
       "<IPython.core.display.HTML object>"
      ]
     },
     "metadata": {},
     "output_type": "display_data"
    },
    {
     "name": "stdout",
     "output_type": "stream",
     "text": [
      "Epoch: 1/10; Train Loss: 0.007569400879729351; Val Loss: 0.03768077162124509\n",
      "Epoch: 2/10; Train Loss: 0.00734478543268004; Val Loss: 0.03520062681778733\n",
      "Epoch: 3/10; Train Loss: 0.007280087680696377; Val Loss: 0.03407953686626059\n",
      "Epoch: 4/10; Train Loss: 0.006954932647310079; Val Loss: 0.033473873140282114\n",
      "Epoch: 5/10; Train Loss: 0.006850446619029564; Val Loss: 0.032978217521087684\n",
      "Epoch: 6/10; Train Loss: 0.006405607467047025; Val Loss: 0.032709192082627445\n",
      "Epoch: 7/10; Train Loss: 0.005865824511885736; Val Loss: 0.03257833963903558\n",
      "Epoch: 8/10; Train Loss: 0.005290913183351927; Val Loss: 0.0325013047868772\n",
      "Epoch: 9/10; Train Loss: 0.004912229245847444; Val Loss: 0.03248898719021074\n",
      "Epoch: 10/10; Train Loss: 0.004674860838338546; Val Loss: 0.03251075101455719\n"
     ]
    },
    {
     "data": {
      "application/vnd.jupyter.widget-view+json": {
       "model_id": "6f905a2568f040c6a5334251d001541a",
       "version_major": 2,
       "version_minor": 0
      },
      "text/plain": [
       "VBox(children=(Label(value='0.001 MB of 0.001 MB uploaded\\r'), FloatProgress(value=1.0, max=1.0)))"
      ]
     },
     "metadata": {},
     "output_type": "display_data"
    },
    {
     "data": {
      "text/html": [
       "<style>\n",
       "    table.wandb td:nth-child(1) { padding: 0 10px; text-align: left ; width: auto;} td:nth-child(2) {text-align: left ; width: 100%}\n",
       "    .wandb-row { display: flex; flex-direction: row; flex-wrap: wrap; justify-content: flex-start; width: 100% }\n",
       "    .wandb-col { display: flex; flex-direction: column; flex-basis: 100%; flex: 1; padding: 10px; }\n",
       "    </style>\n",
       "<div class=\"wandb-row\"><div class=\"wandb-col\"><h3>Run history:</h3><br/><table class=\"wandb\"><tr><td>epoch</td><td>▁▁▁▁▂▂▂▂▃▃▃▃▃▃▃▃▄▄▄▄▅▅▅▅▆▆▆▆▆▆▆▆▇▇▇▇████</td></tr><tr><td>train_accuracy</td><td>▁▇█▅▇▇▅▇▅▇▁▅▅▄▅▅▂▇▅█▅▅▅▇▇▅▅▄▇▅▇▅▇▇█▅▅▇▇▇</td></tr><tr><td>train_loss</td><td>█▄▁▄▄▄▃▃▄▃█▃▆▆▅▄▅▄▄▂▄▅▆▄▃▇▅▅▃▅▂▃▃▃▁▄▄▄▃▃</td></tr><tr><td>val_accuracy</td><td>▁▄▅▆▆▆▆▇▆▇▆▆▆▇▇▇▇▇█▇▇▇▇▇▇████▇██▇█▇█████</td></tr><tr><td>validation_loss</td><td>█▅▄▃▃▃▃▂▃▂▃▂▂▂▁▁▂▂▁▂▁▂▁▁▁▁▁▁▁▁▁▁▁▁▁▁▁▁▁▁</td></tr></table><br/></div><div class=\"wandb-col\"><h3>Run summary:</h3><br/><table class=\"wandb\"><tr><td>epoch</td><td>10</td></tr><tr><td>train_accuracy</td><td>100.0</td></tr><tr><td>train_loss</td><td>0.00467</td></tr><tr><td>val_accuracy</td><td>88.93333</td></tr><tr><td>validation_loss</td><td>0.03251</td></tr></table><br/></div></div>"
      ],
      "text/plain": [
       "<IPython.core.display.HTML object>"
      ]
     },
     "metadata": {},
     "output_type": "display_data"
    },
    {
     "data": {
      "text/html": [
       " View run <strong style=\"color:#cdcd00\">vivid-sweep-42</strong> at: <a href='https://wandb.ai/sumanta_roy/CS6910_assignment_1/runs/k6jgj2no' target=\"_blank\">https://wandb.ai/sumanta_roy/CS6910_assignment_1/runs/k6jgj2no</a><br/>Synced 6 W&B file(s), 0 media file(s), 0 artifact file(s) and 0 other file(s)"
      ],
      "text/plain": [
       "<IPython.core.display.HTML object>"
      ]
     },
     "metadata": {},
     "output_type": "display_data"
    },
    {
     "data": {
      "text/html": [
       "Find logs at: <code>./wandb/run-20240317_095011-k6jgj2no/logs</code>"
      ],
      "text/plain": [
       "<IPython.core.display.HTML object>"
      ]
     },
     "metadata": {},
     "output_type": "display_data"
    },
    {
     "name": "stderr",
     "output_type": "stream",
     "text": [
      "\u001b[34m\u001b[1mwandb\u001b[0m: Agent Starting Run: lw25r41k with config:\n",
      "\u001b[34m\u001b[1mwandb\u001b[0m: \tactivation: tanh\n",
      "\u001b[34m\u001b[1mwandb\u001b[0m: \tbatch_size: 16\n",
      "\u001b[34m\u001b[1mwandb\u001b[0m: \tepochs: 10\n",
      "\u001b[34m\u001b[1mwandb\u001b[0m: \thidden_layers: 3\n",
      "\u001b[34m\u001b[1mwandb\u001b[0m: \thidden_size: 128\n",
      "\u001b[34m\u001b[1mwandb\u001b[0m: \tloss: cross_entropy\n",
      "\u001b[34m\u001b[1mwandb\u001b[0m: \tlr: 0.0001\n",
      "\u001b[34m\u001b[1mwandb\u001b[0m: \toptimizer: nadam\n",
      "\u001b[34m\u001b[1mwandb\u001b[0m: \tw_init: glorot\n",
      "\u001b[34m\u001b[1mwandb\u001b[0m: \tweight_decay: 0.0005\n"
     ]
    },
    {
     "data": {
      "text/html": [
       "Tracking run with wandb version 0.16.4"
      ],
      "text/plain": [
       "<IPython.core.display.HTML object>"
      ]
     },
     "metadata": {},
     "output_type": "display_data"
    },
    {
     "data": {
      "text/html": [
       "Run data is saved locally in <code>/Users/sumanta/Desktop/Numpy project/cross_entropy_lesspasses/wandb/run-20240317_095131-lw25r41k</code>"
      ],
      "text/plain": [
       "<IPython.core.display.HTML object>"
      ]
     },
     "metadata": {},
     "output_type": "display_data"
    },
    {
     "data": {
      "text/html": [
       "Syncing run <strong><a href='https://wandb.ai/sumanta_roy/CS6910_assignment_1/runs/lw25r41k' target=\"_blank\">stoic-sweep-43</a></strong> to <a href='https://wandb.ai/sumanta_roy/CS6910_assignment_1' target=\"_blank\">Weights & Biases</a> (<a href='https://wandb.me/run' target=\"_blank\">docs</a>)<br/>Sweep page: <a href='https://wandb.ai/sumanta_roy/CS6910_assignment_1/sweeps/mefq3vzl' target=\"_blank\">https://wandb.ai/sumanta_roy/CS6910_assignment_1/sweeps/mefq3vzl</a>"
      ],
      "text/plain": [
       "<IPython.core.display.HTML object>"
      ]
     },
     "metadata": {},
     "output_type": "display_data"
    },
    {
     "data": {
      "text/html": [
       " View project at <a href='https://wandb.ai/sumanta_roy/CS6910_assignment_1' target=\"_blank\">https://wandb.ai/sumanta_roy/CS6910_assignment_1</a>"
      ],
      "text/plain": [
       "<IPython.core.display.HTML object>"
      ]
     },
     "metadata": {},
     "output_type": "display_data"
    },
    {
     "data": {
      "text/html": [
       " View sweep at <a href='https://wandb.ai/sumanta_roy/CS6910_assignment_1/sweeps/mefq3vzl' target=\"_blank\">https://wandb.ai/sumanta_roy/CS6910_assignment_1/sweeps/mefq3vzl</a>"
      ],
      "text/plain": [
       "<IPython.core.display.HTML object>"
      ]
     },
     "metadata": {},
     "output_type": "display_data"
    },
    {
     "data": {
      "text/html": [
       " View run at <a href='https://wandb.ai/sumanta_roy/CS6910_assignment_1/runs/lw25r41k' target=\"_blank\">https://wandb.ai/sumanta_roy/CS6910_assignment_1/runs/lw25r41k</a>"
      ],
      "text/plain": [
       "<IPython.core.display.HTML object>"
      ]
     },
     "metadata": {},
     "output_type": "display_data"
    },
    {
     "name": "stdout",
     "output_type": "stream",
     "text": [
      "Epoch: 1/10; Train Loss: 0.05543651680803075; Val Loss: 0.07601537516950134\n",
      "Epoch: 2/10; Train Loss: 0.0364806041586307; Val Loss: 0.061961976689489356\n",
      "Epoch: 3/10; Train Loss: 0.029404873100736452; Val Loss: 0.055234470324102\n",
      "Epoch: 4/10; Train Loss: 0.026120349649150623; Val Loss: 0.05134901061129865\n",
      "Epoch: 5/10; Train Loss: 0.024332863828868324; Val Loss: 0.04884099742258548\n",
      "Epoch: 6/10; Train Loss: 0.023262536442027845; Val Loss: 0.047079476166663886\n",
      "Epoch: 7/10; Train Loss: 0.022583778496020925; Val Loss: 0.045759304238645826\n",
      "Epoch: 8/10; Train Loss: 0.022132894304917272; Val Loss: 0.04471978922619354\n",
      "Epoch: 9/10; Train Loss: 0.021820222151641123; Val Loss: 0.04386963058380341\n",
      "Epoch: 10/10; Train Loss: 0.021595400681699548; Val Loss: 0.04315363122037806\n"
     ]
    },
    {
     "data": {
      "application/vnd.jupyter.widget-view+json": {
       "model_id": "a8326f4bebae471bb395a516a0ad7733",
       "version_major": 2,
       "version_minor": 0
      },
      "text/plain": [
       "VBox(children=(Label(value='0.001 MB of 0.001 MB uploaded\\r'), FloatProgress(value=1.0, max=1.0)))"
      ]
     },
     "metadata": {},
     "output_type": "display_data"
    },
    {
     "data": {
      "text/html": [
       "<style>\n",
       "    table.wandb td:nth-child(1) { padding: 0 10px; text-align: left ; width: auto;} td:nth-child(2) {text-align: left ; width: 100%}\n",
       "    .wandb-row { display: flex; flex-direction: row; flex-wrap: wrap; justify-content: flex-start; width: 100% }\n",
       "    .wandb-col { display: flex; flex-direction: column; flex-basis: 100%; flex: 1; padding: 10px; }\n",
       "    </style>\n",
       "<div class=\"wandb-row\"><div class=\"wandb-col\"><h3>Run history:</h3><br/><table class=\"wandb\"><tr><td>epoch</td><td>▁▁▁▁▂▂▂▂▃▃▃▃▃▃▃▃▄▄▄▄▅▅▅▅▆▆▆▆▆▆▆▆▇▇▇▇████</td></tr><tr><td>train_accuracy</td><td>▂▁▃▅▃▇▄▅▆▄▃▅▆▅▃▅▄▇▄█▄▅▄▄▂▅▆▄▃▃▆▆▆█▇▄▄▅▅▆</td></tr><tr><td>train_loss</td><td>█▆▄▃▄▃▃▂▂▃▄▂▂▃▄▂▃▁▂▁▃▃▃▃▅▃▂▃▄▃▂▂▃▁▁▃▃▂▄▂</td></tr><tr><td>val_accuracy</td><td>▁▂▃▄▅▅▆▆▆▇▇▇▇▇▇▇▇▇▇▇████████████████████</td></tr><tr><td>validation_loss</td><td>█▅▄▄▃▃▃▂▂▂▂▂▂▂▂▂▂▁▁▁▁▁▁▁▁▁▁▁▁▁▁▁▁▁▁▁▁▁▁▁</td></tr></table><br/></div><div class=\"wandb-col\"><h3>Run summary:</h3><br/><table class=\"wandb\"><tr><td>epoch</td><td>10</td></tr><tr><td>train_accuracy</td><td>93.75</td></tr><tr><td>train_loss</td><td>0.0216</td></tr><tr><td>val_accuracy</td><td>84.95</td></tr><tr><td>validation_loss</td><td>0.04315</td></tr></table><br/></div></div>"
      ],
      "text/plain": [
       "<IPython.core.display.HTML object>"
      ]
     },
     "metadata": {},
     "output_type": "display_data"
    },
    {
     "data": {
      "text/html": [
       " View run <strong style=\"color:#cdcd00\">stoic-sweep-43</strong> at: <a href='https://wandb.ai/sumanta_roy/CS6910_assignment_1/runs/lw25r41k' target=\"_blank\">https://wandb.ai/sumanta_roy/CS6910_assignment_1/runs/lw25r41k</a><br/>Synced 6 W&B file(s), 0 media file(s), 0 artifact file(s) and 0 other file(s)"
      ],
      "text/plain": [
       "<IPython.core.display.HTML object>"
      ]
     },
     "metadata": {},
     "output_type": "display_data"
    },
    {
     "data": {
      "text/html": [
       "Find logs at: <code>./wandb/run-20240317_095131-lw25r41k/logs</code>"
      ],
      "text/plain": [
       "<IPython.core.display.HTML object>"
      ]
     },
     "metadata": {},
     "output_type": "display_data"
    },
    {
     "name": "stderr",
     "output_type": "stream",
     "text": [
      "\u001b[34m\u001b[1mwandb\u001b[0m: Sweep Agent: Waiting for job.\n",
      "\u001b[34m\u001b[1mwandb\u001b[0m: Job received.\n",
      "\u001b[34m\u001b[1mwandb\u001b[0m: Agent Starting Run: jcu2wooi with config:\n",
      "\u001b[34m\u001b[1mwandb\u001b[0m: \tactivation: tanh\n",
      "\u001b[34m\u001b[1mwandb\u001b[0m: \tbatch_size: 16\n",
      "\u001b[34m\u001b[1mwandb\u001b[0m: \tepochs: 5\n",
      "\u001b[34m\u001b[1mwandb\u001b[0m: \thidden_layers: 3\n",
      "\u001b[34m\u001b[1mwandb\u001b[0m: \thidden_size: 64\n",
      "\u001b[34m\u001b[1mwandb\u001b[0m: \tloss: cross_entropy\n",
      "\u001b[34m\u001b[1mwandb\u001b[0m: \tlr: 0.001\n",
      "\u001b[34m\u001b[1mwandb\u001b[0m: \toptimizer: rmsprop\n",
      "\u001b[34m\u001b[1mwandb\u001b[0m: \tw_init: random\n",
      "\u001b[34m\u001b[1mwandb\u001b[0m: \tweight_decay: 0.0005\n"
     ]
    },
    {
     "data": {
      "text/html": [
       "Tracking run with wandb version 0.16.4"
      ],
      "text/plain": [
       "<IPython.core.display.HTML object>"
      ]
     },
     "metadata": {},
     "output_type": "display_data"
    },
    {
     "data": {
      "text/html": [
       "Run data is saved locally in <code>/Users/sumanta/Desktop/Numpy project/cross_entropy_lesspasses/wandb/run-20240317_095430-jcu2wooi</code>"
      ],
      "text/plain": [
       "<IPython.core.display.HTML object>"
      ]
     },
     "metadata": {},
     "output_type": "display_data"
    },
    {
     "data": {
      "text/html": [
       "Syncing run <strong><a href='https://wandb.ai/sumanta_roy/CS6910_assignment_1/runs/jcu2wooi' target=\"_blank\">faithful-sweep-44</a></strong> to <a href='https://wandb.ai/sumanta_roy/CS6910_assignment_1' target=\"_blank\">Weights & Biases</a> (<a href='https://wandb.me/run' target=\"_blank\">docs</a>)<br/>Sweep page: <a href='https://wandb.ai/sumanta_roy/CS6910_assignment_1/sweeps/mefq3vzl' target=\"_blank\">https://wandb.ai/sumanta_roy/CS6910_assignment_1/sweeps/mefq3vzl</a>"
      ],
      "text/plain": [
       "<IPython.core.display.HTML object>"
      ]
     },
     "metadata": {},
     "output_type": "display_data"
    },
    {
     "data": {
      "text/html": [
       " View project at <a href='https://wandb.ai/sumanta_roy/CS6910_assignment_1' target=\"_blank\">https://wandb.ai/sumanta_roy/CS6910_assignment_1</a>"
      ],
      "text/plain": [
       "<IPython.core.display.HTML object>"
      ]
     },
     "metadata": {},
     "output_type": "display_data"
    },
    {
     "data": {
      "text/html": [
       " View sweep at <a href='https://wandb.ai/sumanta_roy/CS6910_assignment_1/sweeps/mefq3vzl' target=\"_blank\">https://wandb.ai/sumanta_roy/CS6910_assignment_1/sweeps/mefq3vzl</a>"
      ],
      "text/plain": [
       "<IPython.core.display.HTML object>"
      ]
     },
     "metadata": {},
     "output_type": "display_data"
    },
    {
     "data": {
      "text/html": [
       " View run at <a href='https://wandb.ai/sumanta_roy/CS6910_assignment_1/runs/jcu2wooi' target=\"_blank\">https://wandb.ai/sumanta_roy/CS6910_assignment_1/runs/jcu2wooi</a>"
      ],
      "text/plain": [
       "<IPython.core.display.HTML object>"
      ]
     },
     "metadata": {},
     "output_type": "display_data"
    },
    {
     "name": "stdout",
     "output_type": "stream",
     "text": [
      "Epoch: 1/5; Train Loss: 0.0886695124628924; Val Loss: 0.046028229526959535\n",
      "Epoch: 2/5; Train Loss: 0.0898298993926437; Val Loss: 0.04168079256080598\n",
      "Epoch: 3/5; Train Loss: 0.08319711533140778; Val Loss: 0.040611962702381606\n",
      "Epoch: 4/5; Train Loss: 0.07960197010786618; Val Loss: 0.039929073807690244\n",
      "Epoch: 5/5; Train Loss: 0.07974123448557946; Val Loss: 0.039455921814163464\n"
     ]
    },
    {
     "data": {
      "application/vnd.jupyter.widget-view+json": {
       "model_id": "b29f7fa3f7b44b53acfc7663c6aed58b",
       "version_major": 2,
       "version_minor": 0
      },
      "text/plain": [
       "VBox(children=(Label(value='0.001 MB of 0.001 MB uploaded\\r'), FloatProgress(value=1.0, max=1.0)))"
      ]
     },
     "metadata": {},
     "output_type": "display_data"
    },
    {
     "data": {
      "text/html": [
       "<style>\n",
       "    table.wandb td:nth-child(1) { padding: 0 10px; text-align: left ; width: auto;} td:nth-child(2) {text-align: left ; width: 100%}\n",
       "    .wandb-row { display: flex; flex-direction: row; flex-wrap: wrap; justify-content: flex-start; width: 100% }\n",
       "    .wandb-col { display: flex; flex-direction: column; flex-basis: 100%; flex: 1; padding: 10px; }\n",
       "    </style>\n",
       "<div class=\"wandb-row\"><div class=\"wandb-col\"><h3>Run history:</h3><br/><table class=\"wandb\"><tr><td>epoch</td><td>▁▁▁▁▁▁▁▁▃▃▃▃▃▃▃▃▅▅▅▅▅▅▅▅▆▆▆▆▆▆▆▆████████</td></tr><tr><td>train_accuracy</td><td>▁▂▆▅▃▃▆▂▁▅▇▇▆▅▇▇▆▇▆▃▆▇█▃▅▆▅▇▆▇▇▆▅▆▅██▇█▇</td></tr><tr><td>train_loss</td><td>█▇▃▃▅▅▂▅▄▄▃▃▂▄▂▂▃▂▂▄▃▂▁▃▃▂▃▂▃▃▁▂▄▃▂▂▁▁▁▂</td></tr><tr><td>val_accuracy</td><td>▁▅▆▆▇▇▇▇▇▇▇▇▇▇████▇█████████████████████</td></tr><tr><td>validation_loss</td><td>█▄▃▃▂▂▂▂▂▂▂▂▂▂▁▁▂▂▂▁▂▁▁▁▁▁▁▁▁▁▁▁▁▁▁▁▁▁▁▁</td></tr></table><br/></div><div class=\"wandb-col\"><h3>Run summary:</h3><br/><table class=\"wandb\"><tr><td>epoch</td><td>5</td></tr><tr><td>train_accuracy</td><td>100.0</td></tr><tr><td>train_loss</td><td>0.07974</td></tr><tr><td>val_accuracy</td><td>86.31667</td></tr><tr><td>validation_loss</td><td>0.03946</td></tr></table><br/></div></div>"
      ],
      "text/plain": [
       "<IPython.core.display.HTML object>"
      ]
     },
     "metadata": {},
     "output_type": "display_data"
    },
    {
     "data": {
      "text/html": [
       " View run <strong style=\"color:#cdcd00\">faithful-sweep-44</strong> at: <a href='https://wandb.ai/sumanta_roy/CS6910_assignment_1/runs/jcu2wooi' target=\"_blank\">https://wandb.ai/sumanta_roy/CS6910_assignment_1/runs/jcu2wooi</a><br/>Synced 6 W&B file(s), 0 media file(s), 0 artifact file(s) and 0 other file(s)"
      ],
      "text/plain": [
       "<IPython.core.display.HTML object>"
      ]
     },
     "metadata": {},
     "output_type": "display_data"
    },
    {
     "data": {
      "text/html": [
       "Find logs at: <code>./wandb/run-20240317_095430-jcu2wooi/logs</code>"
      ],
      "text/plain": [
       "<IPython.core.display.HTML object>"
      ]
     },
     "metadata": {},
     "output_type": "display_data"
    },
    {
     "name": "stderr",
     "output_type": "stream",
     "text": [
      "\u001b[34m\u001b[1mwandb\u001b[0m: Agent Starting Run: scsakqb7 with config:\n",
      "\u001b[34m\u001b[1mwandb\u001b[0m: \tactivation: tanh\n",
      "\u001b[34m\u001b[1mwandb\u001b[0m: \tbatch_size: 16\n",
      "\u001b[34m\u001b[1mwandb\u001b[0m: \tepochs: 10\n",
      "\u001b[34m\u001b[1mwandb\u001b[0m: \thidden_layers: 3\n",
      "\u001b[34m\u001b[1mwandb\u001b[0m: \thidden_size: 128\n",
      "\u001b[34m\u001b[1mwandb\u001b[0m: \tloss: cross_entropy\n",
      "\u001b[34m\u001b[1mwandb\u001b[0m: \tlr: 0.001\n",
      "\u001b[34m\u001b[1mwandb\u001b[0m: \toptimizer: rmsprop\n",
      "\u001b[34m\u001b[1mwandb\u001b[0m: \tw_init: glorot\n",
      "\u001b[34m\u001b[1mwandb\u001b[0m: \tweight_decay: 0\n"
     ]
    },
    {
     "data": {
      "text/html": [
       "Tracking run with wandb version 0.16.4"
      ],
      "text/plain": [
       "<IPython.core.display.HTML object>"
      ]
     },
     "metadata": {},
     "output_type": "display_data"
    },
    {
     "data": {
      "text/html": [
       "Run data is saved locally in <code>/Users/sumanta/Desktop/Numpy project/cross_entropy_lesspasses/wandb/run-20240317_095514-scsakqb7</code>"
      ],
      "text/plain": [
       "<IPython.core.display.HTML object>"
      ]
     },
     "metadata": {},
     "output_type": "display_data"
    },
    {
     "data": {
      "text/html": [
       "Syncing run <strong><a href='https://wandb.ai/sumanta_roy/CS6910_assignment_1/runs/scsakqb7' target=\"_blank\">elated-sweep-45</a></strong> to <a href='https://wandb.ai/sumanta_roy/CS6910_assignment_1' target=\"_blank\">Weights & Biases</a> (<a href='https://wandb.me/run' target=\"_blank\">docs</a>)<br/>Sweep page: <a href='https://wandb.ai/sumanta_roy/CS6910_assignment_1/sweeps/mefq3vzl' target=\"_blank\">https://wandb.ai/sumanta_roy/CS6910_assignment_1/sweeps/mefq3vzl</a>"
      ],
      "text/plain": [
       "<IPython.core.display.HTML object>"
      ]
     },
     "metadata": {},
     "output_type": "display_data"
    },
    {
     "data": {
      "text/html": [
       " View project at <a href='https://wandb.ai/sumanta_roy/CS6910_assignment_1' target=\"_blank\">https://wandb.ai/sumanta_roy/CS6910_assignment_1</a>"
      ],
      "text/plain": [
       "<IPython.core.display.HTML object>"
      ]
     },
     "metadata": {},
     "output_type": "display_data"
    },
    {
     "data": {
      "text/html": [
       " View sweep at <a href='https://wandb.ai/sumanta_roy/CS6910_assignment_1/sweeps/mefq3vzl' target=\"_blank\">https://wandb.ai/sumanta_roy/CS6910_assignment_1/sweeps/mefq3vzl</a>"
      ],
      "text/plain": [
       "<IPython.core.display.HTML object>"
      ]
     },
     "metadata": {},
     "output_type": "display_data"
    },
    {
     "data": {
      "text/html": [
       " View run at <a href='https://wandb.ai/sumanta_roy/CS6910_assignment_1/runs/scsakqb7' target=\"_blank\">https://wandb.ai/sumanta_roy/CS6910_assignment_1/runs/scsakqb7</a>"
      ],
      "text/plain": [
       "<IPython.core.display.HTML object>"
      ]
     },
     "metadata": {},
     "output_type": "display_data"
    },
    {
     "name": "stdout",
     "output_type": "stream",
     "text": [
      "Epoch: 1/10; Train Loss: 0.008747889247473935; Val Loss: 0.04038807650498045\n",
      "Epoch: 2/10; Train Loss: 0.00698702852148398; Val Loss: 0.03626010920861425\n",
      "Epoch: 3/10; Train Loss: 0.005547371733968; Val Loss: 0.03470608818324887\n",
      "Epoch: 4/10; Train Loss: 0.004501195576897909; Val Loss: 0.03414362645521492\n",
      "Epoch: 5/10; Train Loss: 0.0038296762106777406; Val Loss: 0.03391298989406179\n",
      "Epoch: 6/10; Train Loss: 0.003509895407199657; Val Loss: 0.033715834042396566\n",
      "Epoch: 7/10; Train Loss: 0.00290494663251614; Val Loss: 0.03387118366777225\n",
      "Epoch: 8/10; Train Loss: 0.002268859605181706; Val Loss: 0.03453733426497794\n",
      "Epoch: 9/10; Train Loss: 0.002136514784471489; Val Loss: 0.03502198907174578\n",
      "Epoch: 10/10; Train Loss: 0.0017925544250965736; Val Loss: 0.03630436832918188\n"
     ]
    },
    {
     "data": {
      "application/vnd.jupyter.widget-view+json": {
       "model_id": "5f9ac7997373468db96fcbcb7a5ce94e",
       "version_major": 2,
       "version_minor": 0
      },
      "text/plain": [
       "VBox(children=(Label(value='0.001 MB of 0.001 MB uploaded\\r'), FloatProgress(value=1.0, max=1.0)))"
      ]
     },
     "metadata": {},
     "output_type": "display_data"
    },
    {
     "data": {
      "text/html": [
       "<style>\n",
       "    table.wandb td:nth-child(1) { padding: 0 10px; text-align: left ; width: auto;} td:nth-child(2) {text-align: left ; width: 100%}\n",
       "    .wandb-row { display: flex; flex-direction: row; flex-wrap: wrap; justify-content: flex-start; width: 100% }\n",
       "    .wandb-col { display: flex; flex-direction: column; flex-basis: 100%; flex: 1; padding: 10px; }\n",
       "    </style>\n",
       "<div class=\"wandb-row\"><div class=\"wandb-col\"><h3>Run history:</h3><br/><table class=\"wandb\"><tr><td>epoch</td><td>▁▁▁▁▂▂▂▂▃▃▃▃▃▃▃▃▄▄▄▄▅▅▅▅▆▆▆▆▆▆▆▆▇▇▇▇████</td></tr><tr><td>train_accuracy</td><td>▁▇▇▇▆▆▇▇▇▆▆▇▆▅▆▇▄▇▇▆▆▆▇▇▇▆▆▅▇▄█▇▇▆█▆▆▅█▆</td></tr><tr><td>train_loss</td><td>█▃▂▂▄▅▃▂▃▃▅▂▃▅▃▂▇▄▂▃▃▅▃▄▂▅▄▄▂▆▁▂▂▃▁▄▄▅▂▄</td></tr><tr><td>val_accuracy</td><td>▁▄▅▅▅▃▆▆▇▇▆▇▇▇▇▇▆▆█▇█▇██▇███▇▇██▇█▇██▇██</td></tr><tr><td>validation_loss</td><td>█▆▄▄▄▅▂▂▂▂▃▁▁▃▁▂▂▂▁▂▁▂▂▁▂▁▁▂▂▂▂▁▂▂▂▂▂▂▂▁</td></tr></table><br/></div><div class=\"wandb-col\"><h3>Run summary:</h3><br/><table class=\"wandb\"><tr><td>epoch</td><td>10</td></tr><tr><td>train_accuracy</td><td>100.0</td></tr><tr><td>train_loss</td><td>0.00179</td></tr><tr><td>val_accuracy</td><td>87.76667</td></tr><tr><td>validation_loss</td><td>0.0363</td></tr></table><br/></div></div>"
      ],
      "text/plain": [
       "<IPython.core.display.HTML object>"
      ]
     },
     "metadata": {},
     "output_type": "display_data"
    },
    {
     "data": {
      "text/html": [
       " View run <strong style=\"color:#cdcd00\">elated-sweep-45</strong> at: <a href='https://wandb.ai/sumanta_roy/CS6910_assignment_1/runs/scsakqb7' target=\"_blank\">https://wandb.ai/sumanta_roy/CS6910_assignment_1/runs/scsakqb7</a><br/>Synced 6 W&B file(s), 0 media file(s), 0 artifact file(s) and 0 other file(s)"
      ],
      "text/plain": [
       "<IPython.core.display.HTML object>"
      ]
     },
     "metadata": {},
     "output_type": "display_data"
    },
    {
     "data": {
      "text/html": [
       "Find logs at: <code>./wandb/run-20240317_095514-scsakqb7/logs</code>"
      ],
      "text/plain": [
       "<IPython.core.display.HTML object>"
      ]
     },
     "metadata": {},
     "output_type": "display_data"
    },
    {
     "name": "stderr",
     "output_type": "stream",
     "text": [
      "\u001b[34m\u001b[1mwandb\u001b[0m: Sweep Agent: Waiting for job.\n",
      "\u001b[34m\u001b[1mwandb\u001b[0m: Job received.\n",
      "\u001b[34m\u001b[1mwandb\u001b[0m: Agent Starting Run: s2vlrfvn with config:\n",
      "\u001b[34m\u001b[1mwandb\u001b[0m: \tactivation: relu\n",
      "\u001b[34m\u001b[1mwandb\u001b[0m: \tbatch_size: 16\n",
      "\u001b[34m\u001b[1mwandb\u001b[0m: \tepochs: 5\n",
      "\u001b[34m\u001b[1mwandb\u001b[0m: \thidden_layers: 3\n",
      "\u001b[34m\u001b[1mwandb\u001b[0m: \thidden_size: 128\n",
      "\u001b[34m\u001b[1mwandb\u001b[0m: \tloss: cross_entropy\n",
      "\u001b[34m\u001b[1mwandb\u001b[0m: \tlr: 0.001\n",
      "\u001b[34m\u001b[1mwandb\u001b[0m: \toptimizer: rmsprop\n",
      "\u001b[34m\u001b[1mwandb\u001b[0m: \tw_init: glorot\n",
      "\u001b[34m\u001b[1mwandb\u001b[0m: \tweight_decay: 0.0005\n"
     ]
    },
    {
     "data": {
      "text/html": [
       "Tracking run with wandb version 0.16.4"
      ],
      "text/plain": [
       "<IPython.core.display.HTML object>"
      ]
     },
     "metadata": {},
     "output_type": "display_data"
    },
    {
     "data": {
      "text/html": [
       "Run data is saved locally in <code>/Users/sumanta/Desktop/Numpy project/cross_entropy_lesspasses/wandb/run-20240317_095736-s2vlrfvn</code>"
      ],
      "text/plain": [
       "<IPython.core.display.HTML object>"
      ]
     },
     "metadata": {},
     "output_type": "display_data"
    },
    {
     "data": {
      "text/html": [
       "Syncing run <strong><a href='https://wandb.ai/sumanta_roy/CS6910_assignment_1/runs/s2vlrfvn' target=\"_blank\">dandy-sweep-46</a></strong> to <a href='https://wandb.ai/sumanta_roy/CS6910_assignment_1' target=\"_blank\">Weights & Biases</a> (<a href='https://wandb.me/run' target=\"_blank\">docs</a>)<br/>Sweep page: <a href='https://wandb.ai/sumanta_roy/CS6910_assignment_1/sweeps/mefq3vzl' target=\"_blank\">https://wandb.ai/sumanta_roy/CS6910_assignment_1/sweeps/mefq3vzl</a>"
      ],
      "text/plain": [
       "<IPython.core.display.HTML object>"
      ]
     },
     "metadata": {},
     "output_type": "display_data"
    },
    {
     "data": {
      "text/html": [
       " View project at <a href='https://wandb.ai/sumanta_roy/CS6910_assignment_1' target=\"_blank\">https://wandb.ai/sumanta_roy/CS6910_assignment_1</a>"
      ],
      "text/plain": [
       "<IPython.core.display.HTML object>"
      ]
     },
     "metadata": {},
     "output_type": "display_data"
    },
    {
     "data": {
      "text/html": [
       " View sweep at <a href='https://wandb.ai/sumanta_roy/CS6910_assignment_1/sweeps/mefq3vzl' target=\"_blank\">https://wandb.ai/sumanta_roy/CS6910_assignment_1/sweeps/mefq3vzl</a>"
      ],
      "text/plain": [
       "<IPython.core.display.HTML object>"
      ]
     },
     "metadata": {},
     "output_type": "display_data"
    },
    {
     "data": {
      "text/html": [
       " View run at <a href='https://wandb.ai/sumanta_roy/CS6910_assignment_1/runs/s2vlrfvn' target=\"_blank\">https://wandb.ai/sumanta_roy/CS6910_assignment_1/runs/s2vlrfvn</a>"
      ],
      "text/plain": [
       "<IPython.core.display.HTML object>"
      ]
     },
     "metadata": {},
     "output_type": "display_data"
    },
    {
     "name": "stdout",
     "output_type": "stream",
     "text": [
      "Epoch: 1/5; Train Loss: 0.01688297206917639; Val Loss: 0.03852431012257521\n",
      "Epoch: 2/5; Train Loss: 0.023200631440970433; Val Loss: 0.035620697632312195\n",
      "Epoch: 3/5; Train Loss: 0.02246084226564269; Val Loss: 0.035447680074651426\n",
      "Epoch: 4/5; Train Loss: 0.02106074860995552; Val Loss: 0.03424563743167872\n",
      "Epoch: 5/5; Train Loss: 0.017931910570281873; Val Loss: 0.03629252508864586\n"
     ]
    },
    {
     "data": {
      "application/vnd.jupyter.widget-view+json": {
       "model_id": "aa5f9be9a80a4df891457f576eff4c18",
       "version_major": 2,
       "version_minor": 0
      },
      "text/plain": [
       "VBox(children=(Label(value='0.001 MB of 0.001 MB uploaded\\r'), FloatProgress(value=1.0, max=1.0)))"
      ]
     },
     "metadata": {},
     "output_type": "display_data"
    },
    {
     "data": {
      "text/html": [
       "<style>\n",
       "    table.wandb td:nth-child(1) { padding: 0 10px; text-align: left ; width: auto;} td:nth-child(2) {text-align: left ; width: 100%}\n",
       "    .wandb-row { display: flex; flex-direction: row; flex-wrap: wrap; justify-content: flex-start; width: 100% }\n",
       "    .wandb-col { display: flex; flex-direction: column; flex-basis: 100%; flex: 1; padding: 10px; }\n",
       "    </style>\n",
       "<div class=\"wandb-row\"><div class=\"wandb-col\"><h3>Run history:</h3><br/><table class=\"wandb\"><tr><td>epoch</td><td>▁▁▁▁▁▁▁▁▃▃▃▃▃▃▃▃▅▅▅▅▅▅▅▅▆▆▆▆▆▆▆▆████████</td></tr><tr><td>train_accuracy</td><td>▁▁▅▅▅▁▅▄▄▄▅▇▅▅▇▇▇▅▇▇▄▂█▄▄▅▇▇▇▇█▇▂▅▇██▇▇▇</td></tr><tr><td>train_loss</td><td>█▅▃▂▅▃▂▄▃▃▃▂▂▃▁▂▂▂▂▃▃▄▁▃▃▄▂▂▂▂▁▂▃▂▂▁▁▃▂▂</td></tr><tr><td>val_accuracy</td><td>▁▅▆▇▇▇▇█▇▇▇▇█▇█▇██▇█▇█████▇█████████████</td></tr><tr><td>validation_loss</td><td>█▄▃▂▂▂▂▁▂▁▂▁▁▁▁▁▁▁▂▁▂▁▁▁▁▁▁▁▁▁▁▁▁▁▁▁▁▁▁▁</td></tr></table><br/></div><div class=\"wandb-col\"><h3>Run summary:</h3><br/><table class=\"wandb\"><tr><td>epoch</td><td>5</td></tr><tr><td>train_accuracy</td><td>100.0</td></tr><tr><td>train_loss</td><td>0.01793</td></tr><tr><td>val_accuracy</td><td>87.83333</td></tr><tr><td>validation_loss</td><td>0.03629</td></tr></table><br/></div></div>"
      ],
      "text/plain": [
       "<IPython.core.display.HTML object>"
      ]
     },
     "metadata": {},
     "output_type": "display_data"
    },
    {
     "data": {
      "text/html": [
       " View run <strong style=\"color:#cdcd00\">dandy-sweep-46</strong> at: <a href='https://wandb.ai/sumanta_roy/CS6910_assignment_1/runs/s2vlrfvn' target=\"_blank\">https://wandb.ai/sumanta_roy/CS6910_assignment_1/runs/s2vlrfvn</a><br/>Synced 6 W&B file(s), 0 media file(s), 0 artifact file(s) and 0 other file(s)"
      ],
      "text/plain": [
       "<IPython.core.display.HTML object>"
      ]
     },
     "metadata": {},
     "output_type": "display_data"
    },
    {
     "data": {
      "text/html": [
       "Find logs at: <code>./wandb/run-20240317_095736-s2vlrfvn/logs</code>"
      ],
      "text/plain": [
       "<IPython.core.display.HTML object>"
      ]
     },
     "metadata": {},
     "output_type": "display_data"
    },
    {
     "name": "stderr",
     "output_type": "stream",
     "text": [
      "\u001b[34m\u001b[1mwandb\u001b[0m: Agent Starting Run: w70l0q5c with config:\n",
      "\u001b[34m\u001b[1mwandb\u001b[0m: \tactivation: tanh\n",
      "\u001b[34m\u001b[1mwandb\u001b[0m: \tbatch_size: 16\n",
      "\u001b[34m\u001b[1mwandb\u001b[0m: \tepochs: 5\n",
      "\u001b[34m\u001b[1mwandb\u001b[0m: \thidden_layers: 3\n",
      "\u001b[34m\u001b[1mwandb\u001b[0m: \thidden_size: 128\n",
      "\u001b[34m\u001b[1mwandb\u001b[0m: \tloss: cross_entropy\n",
      "\u001b[34m\u001b[1mwandb\u001b[0m: \tlr: 0.001\n",
      "\u001b[34m\u001b[1mwandb\u001b[0m: \toptimizer: rmsprop\n",
      "\u001b[34m\u001b[1mwandb\u001b[0m: \tw_init: glorot\n",
      "\u001b[34m\u001b[1mwandb\u001b[0m: \tweight_decay: 0\n"
     ]
    },
    {
     "data": {
      "text/html": [
       "Tracking run with wandb version 0.16.4"
      ],
      "text/plain": [
       "<IPython.core.display.HTML object>"
      ]
     },
     "metadata": {},
     "output_type": "display_data"
    },
    {
     "data": {
      "text/html": [
       "Run data is saved locally in <code>/Users/sumanta/Desktop/Numpy project/cross_entropy_lesspasses/wandb/run-20240317_095846-w70l0q5c</code>"
      ],
      "text/plain": [
       "<IPython.core.display.HTML object>"
      ]
     },
     "metadata": {},
     "output_type": "display_data"
    },
    {
     "data": {
      "text/html": [
       "Syncing run <strong><a href='https://wandb.ai/sumanta_roy/CS6910_assignment_1/runs/w70l0q5c' target=\"_blank\">desert-sweep-47</a></strong> to <a href='https://wandb.ai/sumanta_roy/CS6910_assignment_1' target=\"_blank\">Weights & Biases</a> (<a href='https://wandb.me/run' target=\"_blank\">docs</a>)<br/>Sweep page: <a href='https://wandb.ai/sumanta_roy/CS6910_assignment_1/sweeps/mefq3vzl' target=\"_blank\">https://wandb.ai/sumanta_roy/CS6910_assignment_1/sweeps/mefq3vzl</a>"
      ],
      "text/plain": [
       "<IPython.core.display.HTML object>"
      ]
     },
     "metadata": {},
     "output_type": "display_data"
    },
    {
     "data": {
      "text/html": [
       " View project at <a href='https://wandb.ai/sumanta_roy/CS6910_assignment_1' target=\"_blank\">https://wandb.ai/sumanta_roy/CS6910_assignment_1</a>"
      ],
      "text/plain": [
       "<IPython.core.display.HTML object>"
      ]
     },
     "metadata": {},
     "output_type": "display_data"
    },
    {
     "data": {
      "text/html": [
       " View sweep at <a href='https://wandb.ai/sumanta_roy/CS6910_assignment_1/sweeps/mefq3vzl' target=\"_blank\">https://wandb.ai/sumanta_roy/CS6910_assignment_1/sweeps/mefq3vzl</a>"
      ],
      "text/plain": [
       "<IPython.core.display.HTML object>"
      ]
     },
     "metadata": {},
     "output_type": "display_data"
    },
    {
     "data": {
      "text/html": [
       " View run at <a href='https://wandb.ai/sumanta_roy/CS6910_assignment_1/runs/w70l0q5c' target=\"_blank\">https://wandb.ai/sumanta_roy/CS6910_assignment_1/runs/w70l0q5c</a>"
      ],
      "text/plain": [
       "<IPython.core.display.HTML object>"
      ]
     },
     "metadata": {},
     "output_type": "display_data"
    },
    {
     "name": "stdout",
     "output_type": "stream",
     "text": [
      "Epoch: 1/5; Train Loss: 0.010015364558034248; Val Loss: 0.040246749846343334\n",
      "Epoch: 2/5; Train Loss: 0.007096944415041851; Val Loss: 0.03724744482202995\n",
      "Epoch: 3/5; Train Loss: 0.005442029842565728; Val Loss: 0.035462465930362785\n",
      "Epoch: 4/5; Train Loss: 0.004506723424679926; Val Loss: 0.03498308937880715\n",
      "Epoch: 5/5; Train Loss: 0.004676748668082287; Val Loss: 0.03461011955606803\n"
     ]
    },
    {
     "data": {
      "application/vnd.jupyter.widget-view+json": {
       "model_id": "3c91d639f2c64018a56dd965dd3078ef",
       "version_major": 2,
       "version_minor": 0
      },
      "text/plain": [
       "VBox(children=(Label(value='0.001 MB of 0.027 MB uploaded\\r'), FloatProgress(value=0.02770500628027992, max=1.…"
      ]
     },
     "metadata": {},
     "output_type": "display_data"
    },
    {
     "data": {
      "text/html": [
       "<style>\n",
       "    table.wandb td:nth-child(1) { padding: 0 10px; text-align: left ; width: auto;} td:nth-child(2) {text-align: left ; width: 100%}\n",
       "    .wandb-row { display: flex; flex-direction: row; flex-wrap: wrap; justify-content: flex-start; width: 100% }\n",
       "    .wandb-col { display: flex; flex-direction: column; flex-basis: 100%; flex: 1; padding: 10px; }\n",
       "    </style>\n",
       "<div class=\"wandb-row\"><div class=\"wandb-col\"><h3>Run history:</h3><br/><table class=\"wandb\"><tr><td>epoch</td><td>▁▁▁▁▁▁▁▁▃▃▃▃▃▃▃▃▅▅▅▅▅▅▅▅▆▆▆▆▆▆▆▆████████</td></tr><tr><td>train_accuracy</td><td>▂▁▇▇▃▅▇▃▅▅▆▅▆▆▇▇▇▆▆▅▆▅▇▃▆▆▆▇▆█▇▇▅▇▅█▇█▇▇</td></tr><tr><td>train_loss</td><td>█▆▂▂▅▄▂▅▃▄▃▃▃▄▂▂▂▂▃▄▄▄▁▄▃▄▃▂▂▁▁▂▃▂▂▁▁▁▂▂</td></tr><tr><td>val_accuracy</td><td>▁▄▆▆▆▇▆▇▇▇▆▇▇▇▇▇██▇█▇▇▇███▇▇██▇███▇█████</td></tr><tr><td>validation_loss</td><td>█▄▃▃▂▂▂▂▂▂▃▂▂▁▂▁▁▁▂▁▂▂▁▁▁▁▂▂▁▂▂▁▁▁▁▁▁▁▁▁</td></tr></table><br/></div><div class=\"wandb-col\"><h3>Run summary:</h3><br/><table class=\"wandb\"><tr><td>epoch</td><td>5</td></tr><tr><td>train_accuracy</td><td>100.0</td></tr><tr><td>train_loss</td><td>0.00468</td></tr><tr><td>val_accuracy</td><td>87.88333</td></tr><tr><td>validation_loss</td><td>0.03461</td></tr></table><br/></div></div>"
      ],
      "text/plain": [
       "<IPython.core.display.HTML object>"
      ]
     },
     "metadata": {},
     "output_type": "display_data"
    },
    {
     "data": {
      "text/html": [
       " View run <strong style=\"color:#cdcd00\">desert-sweep-47</strong> at: <a href='https://wandb.ai/sumanta_roy/CS6910_assignment_1/runs/w70l0q5c' target=\"_blank\">https://wandb.ai/sumanta_roy/CS6910_assignment_1/runs/w70l0q5c</a><br/>Synced 6 W&B file(s), 0 media file(s), 0 artifact file(s) and 0 other file(s)"
      ],
      "text/plain": [
       "<IPython.core.display.HTML object>"
      ]
     },
     "metadata": {},
     "output_type": "display_data"
    },
    {
     "data": {
      "text/html": [
       "Find logs at: <code>./wandb/run-20240317_095846-w70l0q5c/logs</code>"
      ],
      "text/plain": [
       "<IPython.core.display.HTML object>"
      ]
     },
     "metadata": {},
     "output_type": "display_data"
    },
    {
     "name": "stderr",
     "output_type": "stream",
     "text": [
      "\u001b[34m\u001b[1mwandb\u001b[0m: Agent Starting Run: utg6oesm with config:\n",
      "\u001b[34m\u001b[1mwandb\u001b[0m: \tactivation: relu\n",
      "\u001b[34m\u001b[1mwandb\u001b[0m: \tbatch_size: 16\n",
      "\u001b[34m\u001b[1mwandb\u001b[0m: \tepochs: 5\n",
      "\u001b[34m\u001b[1mwandb\u001b[0m: \thidden_layers: 3\n",
      "\u001b[34m\u001b[1mwandb\u001b[0m: \thidden_size: 64\n",
      "\u001b[34m\u001b[1mwandb\u001b[0m: \tloss: cross_entropy\n",
      "\u001b[34m\u001b[1mwandb\u001b[0m: \tlr: 0.0001\n",
      "\u001b[34m\u001b[1mwandb\u001b[0m: \toptimizer: nadam\n",
      "\u001b[34m\u001b[1mwandb\u001b[0m: \tw_init: glorot\n",
      "\u001b[34m\u001b[1mwandb\u001b[0m: \tweight_decay: 0\n"
     ]
    },
    {
     "data": {
      "text/html": [
       "Tracking run with wandb version 0.16.4"
      ],
      "text/plain": [
       "<IPython.core.display.HTML object>"
      ]
     },
     "metadata": {},
     "output_type": "display_data"
    },
    {
     "data": {
      "text/html": [
       "Run data is saved locally in <code>/Users/sumanta/Desktop/Numpy project/cross_entropy_lesspasses/wandb/run-20240317_100001-utg6oesm</code>"
      ],
      "text/plain": [
       "<IPython.core.display.HTML object>"
      ]
     },
     "metadata": {},
     "output_type": "display_data"
    },
    {
     "data": {
      "text/html": [
       "Syncing run <strong><a href='https://wandb.ai/sumanta_roy/CS6910_assignment_1/runs/utg6oesm' target=\"_blank\">rose-sweep-48</a></strong> to <a href='https://wandb.ai/sumanta_roy/CS6910_assignment_1' target=\"_blank\">Weights & Biases</a> (<a href='https://wandb.me/run' target=\"_blank\">docs</a>)<br/>Sweep page: <a href='https://wandb.ai/sumanta_roy/CS6910_assignment_1/sweeps/mefq3vzl' target=\"_blank\">https://wandb.ai/sumanta_roy/CS6910_assignment_1/sweeps/mefq3vzl</a>"
      ],
      "text/plain": [
       "<IPython.core.display.HTML object>"
      ]
     },
     "metadata": {},
     "output_type": "display_data"
    },
    {
     "data": {
      "text/html": [
       " View project at <a href='https://wandb.ai/sumanta_roy/CS6910_assignment_1' target=\"_blank\">https://wandb.ai/sumanta_roy/CS6910_assignment_1</a>"
      ],
      "text/plain": [
       "<IPython.core.display.HTML object>"
      ]
     },
     "metadata": {},
     "output_type": "display_data"
    },
    {
     "data": {
      "text/html": [
       " View sweep at <a href='https://wandb.ai/sumanta_roy/CS6910_assignment_1/sweeps/mefq3vzl' target=\"_blank\">https://wandb.ai/sumanta_roy/CS6910_assignment_1/sweeps/mefq3vzl</a>"
      ],
      "text/plain": [
       "<IPython.core.display.HTML object>"
      ]
     },
     "metadata": {},
     "output_type": "display_data"
    },
    {
     "data": {
      "text/html": [
       " View run at <a href='https://wandb.ai/sumanta_roy/CS6910_assignment_1/runs/utg6oesm' target=\"_blank\">https://wandb.ai/sumanta_roy/CS6910_assignment_1/runs/utg6oesm</a>"
      ],
      "text/plain": [
       "<IPython.core.display.HTML object>"
      ]
     },
     "metadata": {},
     "output_type": "display_data"
    },
    {
     "name": "stdout",
     "output_type": "stream",
     "text": [
      "Epoch: 1/5; Train Loss: 0.08844254350136549; Val Loss: 0.10291233021132692\n",
      "Epoch: 2/5; Train Loss: 0.05219106204131822; Val Loss: 0.07979348719919759\n",
      "Epoch: 3/5; Train Loss: 0.037490230992454826; Val Loss: 0.07016309132899844\n",
      "Epoch: 4/5; Train Loss: 0.03017623641939271; Val Loss: 0.06456084805325438\n",
      "Epoch: 5/5; Train Loss: 0.025854135226068508; Val Loss: 0.06065314510421036\n"
     ]
    },
    {
     "data": {
      "application/vnd.jupyter.widget-view+json": {
       "model_id": "8befca8f67a64d9da7652b0bada3658a",
       "version_major": 2,
       "version_minor": 0
      },
      "text/plain": [
       "VBox(children=(Label(value='0.001 MB of 0.001 MB uploaded\\r'), FloatProgress(value=1.0, max=1.0)))"
      ]
     },
     "metadata": {},
     "output_type": "display_data"
    },
    {
     "data": {
      "text/html": [
       "<style>\n",
       "    table.wandb td:nth-child(1) { padding: 0 10px; text-align: left ; width: auto;} td:nth-child(2) {text-align: left ; width: 100%}\n",
       "    .wandb-row { display: flex; flex-direction: row; flex-wrap: wrap; justify-content: flex-start; width: 100% }\n",
       "    .wandb-col { display: flex; flex-direction: column; flex-basis: 100%; flex: 1; padding: 10px; }\n",
       "    </style>\n",
       "<div class=\"wandb-row\"><div class=\"wandb-col\"><h3>Run history:</h3><br/><table class=\"wandb\"><tr><td>epoch</td><td>▁▁▁▁▁▁▁▁▃▃▃▃▃▃▃▃▅▅▅▅▅▅▅▅▆▆▆▆▆▆▆▆████████</td></tr><tr><td>train_accuracy</td><td>▁▄▃▂▂▄▆▃▄▅▅▅▅▄▆▆▅▇▆▆▄▅▇▆▆▆▇▇▄▇▇▅▅▄▅▆▇▅█▆</td></tr><tr><td>train_loss</td><td>█▇▆▆▆▅▄▄▅▄▃▃▃▅▂▂▃▂▂▃▃▂▁▂▂▂▂▂▃▂▁▃▃▄▁▁▁▂▁▂</td></tr><tr><td>val_accuracy</td><td>▁▃▅▆▆▆▆▇▇▇▇▇▇▇▇▇▇▇▇▇▇▇▇█████████████████</td></tr><tr><td>validation_loss</td><td>█▇▆▅▄▄▃▃▃▃▃▂▂▂▂▂▂▂▂▂▂▂▁▁▁▁▁▁▁▁▁▁▁▁▁▁▁▁▁▁</td></tr></table><br/></div><div class=\"wandb-col\"><h3>Run summary:</h3><br/><table class=\"wandb\"><tr><td>epoch</td><td>5</td></tr><tr><td>train_accuracy</td><td>93.75</td></tr><tr><td>train_loss</td><td>0.02585</td></tr><tr><td>val_accuracy</td><td>79.66667</td></tr><tr><td>validation_loss</td><td>0.06065</td></tr></table><br/></div></div>"
      ],
      "text/plain": [
       "<IPython.core.display.HTML object>"
      ]
     },
     "metadata": {},
     "output_type": "display_data"
    },
    {
     "data": {
      "text/html": [
       " View run <strong style=\"color:#cdcd00\">rose-sweep-48</strong> at: <a href='https://wandb.ai/sumanta_roy/CS6910_assignment_1/runs/utg6oesm' target=\"_blank\">https://wandb.ai/sumanta_roy/CS6910_assignment_1/runs/utg6oesm</a><br/>Synced 6 W&B file(s), 0 media file(s), 0 artifact file(s) and 0 other file(s)"
      ],
      "text/plain": [
       "<IPython.core.display.HTML object>"
      ]
     },
     "metadata": {},
     "output_type": "display_data"
    },
    {
     "data": {
      "text/html": [
       "Find logs at: <code>./wandb/run-20240317_100001-utg6oesm/logs</code>"
      ],
      "text/plain": [
       "<IPython.core.display.HTML object>"
      ]
     },
     "metadata": {},
     "output_type": "display_data"
    },
    {
     "name": "stderr",
     "output_type": "stream",
     "text": [
      "\u001b[34m\u001b[1mwandb\u001b[0m: Agent Starting Run: q1vnue2j with config:\n",
      "\u001b[34m\u001b[1mwandb\u001b[0m: \tactivation: relu\n",
      "\u001b[34m\u001b[1mwandb\u001b[0m: \tbatch_size: 16\n",
      "\u001b[34m\u001b[1mwandb\u001b[0m: \tepochs: 5\n",
      "\u001b[34m\u001b[1mwandb\u001b[0m: \thidden_layers: 3\n",
      "\u001b[34m\u001b[1mwandb\u001b[0m: \thidden_size: 64\n",
      "\u001b[34m\u001b[1mwandb\u001b[0m: \tloss: cross_entropy\n",
      "\u001b[34m\u001b[1mwandb\u001b[0m: \tlr: 0.001\n",
      "\u001b[34m\u001b[1mwandb\u001b[0m: \toptimizer: rmsprop\n",
      "\u001b[34m\u001b[1mwandb\u001b[0m: \tw_init: glorot\n",
      "\u001b[34m\u001b[1mwandb\u001b[0m: \tweight_decay: 0.0005\n"
     ]
    },
    {
     "data": {
      "text/html": [
       "Tracking run with wandb version 0.16.4"
      ],
      "text/plain": [
       "<IPython.core.display.HTML object>"
      ]
     },
     "metadata": {},
     "output_type": "display_data"
    },
    {
     "data": {
      "text/html": [
       "Run data is saved locally in <code>/Users/sumanta/Desktop/Numpy project/cross_entropy_lesspasses/wandb/run-20240317_100050-q1vnue2j</code>"
      ],
      "text/plain": [
       "<IPython.core.display.HTML object>"
      ]
     },
     "metadata": {},
     "output_type": "display_data"
    },
    {
     "data": {
      "text/html": [
       "Syncing run <strong><a href='https://wandb.ai/sumanta_roy/CS6910_assignment_1/runs/q1vnue2j' target=\"_blank\">splendid-sweep-49</a></strong> to <a href='https://wandb.ai/sumanta_roy/CS6910_assignment_1' target=\"_blank\">Weights & Biases</a> (<a href='https://wandb.me/run' target=\"_blank\">docs</a>)<br/>Sweep page: <a href='https://wandb.ai/sumanta_roy/CS6910_assignment_1/sweeps/mefq3vzl' target=\"_blank\">https://wandb.ai/sumanta_roy/CS6910_assignment_1/sweeps/mefq3vzl</a>"
      ],
      "text/plain": [
       "<IPython.core.display.HTML object>"
      ]
     },
     "metadata": {},
     "output_type": "display_data"
    },
    {
     "data": {
      "text/html": [
       " View project at <a href='https://wandb.ai/sumanta_roy/CS6910_assignment_1' target=\"_blank\">https://wandb.ai/sumanta_roy/CS6910_assignment_1</a>"
      ],
      "text/plain": [
       "<IPython.core.display.HTML object>"
      ]
     },
     "metadata": {},
     "output_type": "display_data"
    },
    {
     "data": {
      "text/html": [
       " View sweep at <a href='https://wandb.ai/sumanta_roy/CS6910_assignment_1/sweeps/mefq3vzl' target=\"_blank\">https://wandb.ai/sumanta_roy/CS6910_assignment_1/sweeps/mefq3vzl</a>"
      ],
      "text/plain": [
       "<IPython.core.display.HTML object>"
      ]
     },
     "metadata": {},
     "output_type": "display_data"
    },
    {
     "data": {
      "text/html": [
       " View run at <a href='https://wandb.ai/sumanta_roy/CS6910_assignment_1/runs/q1vnue2j' target=\"_blank\">https://wandb.ai/sumanta_roy/CS6910_assignment_1/runs/q1vnue2j</a>"
      ],
      "text/plain": [
       "<IPython.core.display.HTML object>"
      ]
     },
     "metadata": {},
     "output_type": "display_data"
    },
    {
     "name": "stdout",
     "output_type": "stream",
     "text": [
      "Epoch: 1/5; Train Loss: 0.01485638503402173; Val Loss: 0.039793705307661034\n",
      "Epoch: 2/5; Train Loss: 0.014706698071330493; Val Loss: 0.03713280697268258\n",
      "Epoch: 3/5; Train Loss: 0.013801486653358435; Val Loss: 0.036232526226980234\n",
      "Epoch: 4/5; Train Loss: 0.015475075755703654; Val Loss: 0.0358412128155324\n",
      "Epoch: 5/5; Train Loss: 0.01501501243214872; Val Loss: 0.03513832127978595\n"
     ]
    },
    {
     "data": {
      "application/vnd.jupyter.widget-view+json": {
       "model_id": "9814d82088ba467cb5c4c2186f79d904",
       "version_major": 2,
       "version_minor": 0
      },
      "text/plain": [
       "VBox(children=(Label(value='0.001 MB of 0.001 MB uploaded\\r'), FloatProgress(value=1.0, max=1.0)))"
      ]
     },
     "metadata": {},
     "output_type": "display_data"
    },
    {
     "data": {
      "text/html": [
       "<style>\n",
       "    table.wandb td:nth-child(1) { padding: 0 10px; text-align: left ; width: auto;} td:nth-child(2) {text-align: left ; width: 100%}\n",
       "    .wandb-row { display: flex; flex-direction: row; flex-wrap: wrap; justify-content: flex-start; width: 100% }\n",
       "    .wandb-col { display: flex; flex-direction: column; flex-basis: 100%; flex: 1; padding: 10px; }\n",
       "    </style>\n",
       "<div class=\"wandb-row\"><div class=\"wandb-col\"><h3>Run history:</h3><br/><table class=\"wandb\"><tr><td>epoch</td><td>▁▁▁▁▁▁▁▁▃▃▃▃▃▃▃▃▅▅▅▅▅▅▅▅▆▆▆▆▆▆▆▆████████</td></tr><tr><td>train_accuracy</td><td>▁▁▇▇▄▂▇▂▂▄▅▇▄▅▅▇▇▅▄▅▅▄█▄▄▅▅▅▅██▅▅▅▅█▇▇▇▇</td></tr><tr><td>train_loss</td><td>█▆▂▂▅▄▂▅▄▄▃▂▃▃▂▂▃▂▂▃▄▄▁▄▃▄▃▂▃▂▁▂▃▃▂▁▁▃▂▂</td></tr><tr><td>val_accuracy</td><td>▁▅▆▆▇▇▇▇▇▇▆▇▇▇▇▇█▇▇█▇█████▇▇██▇█████████</td></tr><tr><td>validation_loss</td><td>█▄▃▃▂▂▂▁▂▂▂▂▂▁▁▁▁▂▂▁▂▁▁▁▁▁▁▁▁▂▁▁▁▁▁▁▁▁▁▁</td></tr></table><br/></div><div class=\"wandb-col\"><h3>Run summary:</h3><br/><table class=\"wandb\"><tr><td>epoch</td><td>5</td></tr><tr><td>train_accuracy</td><td>100.0</td></tr><tr><td>train_loss</td><td>0.01502</td></tr><tr><td>val_accuracy</td><td>87.96667</td></tr><tr><td>validation_loss</td><td>0.03514</td></tr></table><br/></div></div>"
      ],
      "text/plain": [
       "<IPython.core.display.HTML object>"
      ]
     },
     "metadata": {},
     "output_type": "display_data"
    },
    {
     "data": {
      "text/html": [
       " View run <strong style=\"color:#cdcd00\">splendid-sweep-49</strong> at: <a href='https://wandb.ai/sumanta_roy/CS6910_assignment_1/runs/q1vnue2j' target=\"_blank\">https://wandb.ai/sumanta_roy/CS6910_assignment_1/runs/q1vnue2j</a><br/>Synced 6 W&B file(s), 0 media file(s), 0 artifact file(s) and 0 other file(s)"
      ],
      "text/plain": [
       "<IPython.core.display.HTML object>"
      ]
     },
     "metadata": {},
     "output_type": "display_data"
    },
    {
     "data": {
      "text/html": [
       "Find logs at: <code>./wandb/run-20240317_100050-q1vnue2j/logs</code>"
      ],
      "text/plain": [
       "<IPython.core.display.HTML object>"
      ]
     },
     "metadata": {},
     "output_type": "display_data"
    },
    {
     "name": "stderr",
     "output_type": "stream",
     "text": [
      "\u001b[34m\u001b[1mwandb\u001b[0m: Agent Starting Run: 9rpywus3 with config:\n",
      "\u001b[34m\u001b[1mwandb\u001b[0m: \tactivation: tanh\n",
      "\u001b[34m\u001b[1mwandb\u001b[0m: \tbatch_size: 32\n",
      "\u001b[34m\u001b[1mwandb\u001b[0m: \tepochs: 10\n",
      "\u001b[34m\u001b[1mwandb\u001b[0m: \thidden_layers: 3\n",
      "\u001b[34m\u001b[1mwandb\u001b[0m: \thidden_size: 64\n",
      "\u001b[34m\u001b[1mwandb\u001b[0m: \tloss: cross_entropy\n",
      "\u001b[34m\u001b[1mwandb\u001b[0m: \tlr: 0.001\n",
      "\u001b[34m\u001b[1mwandb\u001b[0m: \toptimizer: nadam\n",
      "\u001b[34m\u001b[1mwandb\u001b[0m: \tw_init: glorot\n",
      "\u001b[34m\u001b[1mwandb\u001b[0m: \tweight_decay: 0\n"
     ]
    },
    {
     "data": {
      "text/html": [
       "Tracking run with wandb version 0.16.4"
      ],
      "text/plain": [
       "<IPython.core.display.HTML object>"
      ]
     },
     "metadata": {},
     "output_type": "display_data"
    },
    {
     "data": {
      "text/html": [
       "Run data is saved locally in <code>/Users/sumanta/Desktop/Numpy project/cross_entropy_lesspasses/wandb/run-20240317_100131-9rpywus3</code>"
      ],
      "text/plain": [
       "<IPython.core.display.HTML object>"
      ]
     },
     "metadata": {},
     "output_type": "display_data"
    },
    {
     "data": {
      "text/html": [
       "Syncing run <strong><a href='https://wandb.ai/sumanta_roy/CS6910_assignment_1/runs/9rpywus3' target=\"_blank\">fiery-sweep-50</a></strong> to <a href='https://wandb.ai/sumanta_roy/CS6910_assignment_1' target=\"_blank\">Weights & Biases</a> (<a href='https://wandb.me/run' target=\"_blank\">docs</a>)<br/>Sweep page: <a href='https://wandb.ai/sumanta_roy/CS6910_assignment_1/sweeps/mefq3vzl' target=\"_blank\">https://wandb.ai/sumanta_roy/CS6910_assignment_1/sweeps/mefq3vzl</a>"
      ],
      "text/plain": [
       "<IPython.core.display.HTML object>"
      ]
     },
     "metadata": {},
     "output_type": "display_data"
    },
    {
     "data": {
      "text/html": [
       " View project at <a href='https://wandb.ai/sumanta_roy/CS6910_assignment_1' target=\"_blank\">https://wandb.ai/sumanta_roy/CS6910_assignment_1</a>"
      ],
      "text/plain": [
       "<IPython.core.display.HTML object>"
      ]
     },
     "metadata": {},
     "output_type": "display_data"
    },
    {
     "data": {
      "text/html": [
       " View sweep at <a href='https://wandb.ai/sumanta_roy/CS6910_assignment_1/sweeps/mefq3vzl' target=\"_blank\">https://wandb.ai/sumanta_roy/CS6910_assignment_1/sweeps/mefq3vzl</a>"
      ],
      "text/plain": [
       "<IPython.core.display.HTML object>"
      ]
     },
     "metadata": {},
     "output_type": "display_data"
    },
    {
     "data": {
      "text/html": [
       " View run at <a href='https://wandb.ai/sumanta_roy/CS6910_assignment_1/runs/9rpywus3' target=\"_blank\">https://wandb.ai/sumanta_roy/CS6910_assignment_1/runs/9rpywus3</a>"
      ],
      "text/plain": [
       "<IPython.core.display.HTML object>"
      ]
     },
     "metadata": {},
     "output_type": "display_data"
    },
    {
     "name": "stdout",
     "output_type": "stream",
     "text": [
      "Epoch: 1/10; Train Loss: 0.020117160700637682; Val Loss: 0.04795726324192309\n",
      "Epoch: 2/10; Train Loss: 0.016489024326415046; Val Loss: 0.043073955564324064\n",
      "Epoch: 3/10; Train Loss: 0.015005561514602434; Val Loss: 0.040719721061386153\n",
      "Epoch: 4/10; Train Loss: 0.01404059254798638; Val Loss: 0.03917947679270184\n",
      "Epoch: 5/10; Train Loss: 0.013326143375494048; Val Loss: 0.03805784599333304\n",
      "Epoch: 6/10; Train Loss: 0.012774130549829552; Val Loss: 0.037197701191364264\n",
      "Epoch: 7/10; Train Loss: 0.012341724850559939; Val Loss: 0.036515020716755345\n",
      "Epoch: 8/10; Train Loss: 0.01200076020448294; Val Loss: 0.03595832673414772\n",
      "Epoch: 9/10; Train Loss: 0.011727285583012666; Val Loss: 0.035493982450507486\n",
      "Epoch: 10/10; Train Loss: 0.011502271135014529; Val Loss: 0.03509893207735911\n"
     ]
    },
    {
     "data": {
      "application/vnd.jupyter.widget-view+json": {
       "model_id": "7718c60d5aa640b79af26c71f20c9402",
       "version_major": 2,
       "version_minor": 0
      },
      "text/plain": [
       "VBox(children=(Label(value='0.001 MB of 0.001 MB uploaded\\r'), FloatProgress(value=1.0, max=1.0)))"
      ]
     },
     "metadata": {},
     "output_type": "display_data"
    },
    {
     "data": {
      "text/html": [
       "<style>\n",
       "    table.wandb td:nth-child(1) { padding: 0 10px; text-align: left ; width: auto;} td:nth-child(2) {text-align: left ; width: 100%}\n",
       "    .wandb-row { display: flex; flex-direction: row; flex-wrap: wrap; justify-content: flex-start; width: 100% }\n",
       "    .wandb-col { display: flex; flex-direction: column; flex-basis: 100%; flex: 1; padding: 10px; }\n",
       "    </style>\n",
       "<div class=\"wandb-row\"><div class=\"wandb-col\"><h3>Run history:</h3><br/><table class=\"wandb\"><tr><td>epoch</td><td>▁▁▁▁▂▂▂▂▃▃▃▃▃▃▃▃▄▄▄▄▅▅▅▅▆▆▆▆▆▆▆▆▇▇▇▇████</td></tr><tr><td>train_accuracy</td><td>▁▅▆▆█▆██▆▆▃▆▆▆▃▆▇█▇▆▄▆▅▆▄▆▅▅▆▆█▆▇██▆▄▄▆▆</td></tr><tr><td>train_loss</td><td>█▅▃▄▂▄▂▁▂▅▅▂▄▃▄▃▃▁▂▂▅▄▄▄▅▃▅▄▂▃▁▂▂▂▁▃▄▃▃▂</td></tr><tr><td>val_accuracy</td><td>▁▄▆▆▆▆▇▇▇▇▇▇▇▇▇▇▇▇▇▇████████████████████</td></tr><tr><td>validation_loss</td><td>█▅▄▃▃▃▂▂▂▂▂▂▂▂▂▂▂▂▁▁▁▁▁▁▁▁▁▁▁▁▁▁▁▁▁▁▁▁▁▁</td></tr></table><br/></div><div class=\"wandb-col\"><h3>Run summary:</h3><br/><table class=\"wandb\"><tr><td>epoch</td><td>10</td></tr><tr><td>train_accuracy</td><td>96.875</td></tr><tr><td>train_loss</td><td>0.0115</td></tr><tr><td>val_accuracy</td><td>87.95</td></tr><tr><td>validation_loss</td><td>0.0351</td></tr></table><br/></div></div>"
      ],
      "text/plain": [
       "<IPython.core.display.HTML object>"
      ]
     },
     "metadata": {},
     "output_type": "display_data"
    },
    {
     "data": {
      "text/html": [
       " View run <strong style=\"color:#cdcd00\">fiery-sweep-50</strong> at: <a href='https://wandb.ai/sumanta_roy/CS6910_assignment_1/runs/9rpywus3' target=\"_blank\">https://wandb.ai/sumanta_roy/CS6910_assignment_1/runs/9rpywus3</a><br/>Synced 6 W&B file(s), 0 media file(s), 0 artifact file(s) and 0 other file(s)"
      ],
      "text/plain": [
       "<IPython.core.display.HTML object>"
      ]
     },
     "metadata": {},
     "output_type": "display_data"
    },
    {
     "data": {
      "text/html": [
       "Find logs at: <code>./wandb/run-20240317_100131-9rpywus3/logs</code>"
      ],
      "text/plain": [
       "<IPython.core.display.HTML object>"
      ]
     },
     "metadata": {},
     "output_type": "display_data"
    },
    {
     "name": "stderr",
     "output_type": "stream",
     "text": [
      "\u001b[34m\u001b[1mwandb\u001b[0m: Agent Starting Run: gpv3upzb with config:\n",
      "\u001b[34m\u001b[1mwandb\u001b[0m: \tactivation: tanh\n",
      "\u001b[34m\u001b[1mwandb\u001b[0m: \tbatch_size: 32\n",
      "\u001b[34m\u001b[1mwandb\u001b[0m: \tepochs: 10\n",
      "\u001b[34m\u001b[1mwandb\u001b[0m: \thidden_layers: 3\n",
      "\u001b[34m\u001b[1mwandb\u001b[0m: \thidden_size: 32\n",
      "\u001b[34m\u001b[1mwandb\u001b[0m: \tloss: cross_entropy\n",
      "\u001b[34m\u001b[1mwandb\u001b[0m: \tlr: 0.0001\n",
      "\u001b[34m\u001b[1mwandb\u001b[0m: \toptimizer: rmsprop\n",
      "\u001b[34m\u001b[1mwandb\u001b[0m: \tw_init: glorot\n",
      "\u001b[34m\u001b[1mwandb\u001b[0m: \tweight_decay: 0.0005\n"
     ]
    },
    {
     "data": {
      "text/html": [
       "Tracking run with wandb version 0.16.4"
      ],
      "text/plain": [
       "<IPython.core.display.HTML object>"
      ]
     },
     "metadata": {},
     "output_type": "display_data"
    },
    {
     "data": {
      "text/html": [
       "Run data is saved locally in <code>/Users/sumanta/Desktop/Numpy project/cross_entropy_lesspasses/wandb/run-20240317_100235-gpv3upzb</code>"
      ],
      "text/plain": [
       "<IPython.core.display.HTML object>"
      ]
     },
     "metadata": {},
     "output_type": "display_data"
    },
    {
     "data": {
      "text/html": [
       "Syncing run <strong><a href='https://wandb.ai/sumanta_roy/CS6910_assignment_1/runs/gpv3upzb' target=\"_blank\">devout-sweep-51</a></strong> to <a href='https://wandb.ai/sumanta_roy/CS6910_assignment_1' target=\"_blank\">Weights & Biases</a> (<a href='https://wandb.me/run' target=\"_blank\">docs</a>)<br/>Sweep page: <a href='https://wandb.ai/sumanta_roy/CS6910_assignment_1/sweeps/mefq3vzl' target=\"_blank\">https://wandb.ai/sumanta_roy/CS6910_assignment_1/sweeps/mefq3vzl</a>"
      ],
      "text/plain": [
       "<IPython.core.display.HTML object>"
      ]
     },
     "metadata": {},
     "output_type": "display_data"
    },
    {
     "data": {
      "text/html": [
       " View project at <a href='https://wandb.ai/sumanta_roy/CS6910_assignment_1' target=\"_blank\">https://wandb.ai/sumanta_roy/CS6910_assignment_1</a>"
      ],
      "text/plain": [
       "<IPython.core.display.HTML object>"
      ]
     },
     "metadata": {},
     "output_type": "display_data"
    },
    {
     "data": {
      "text/html": [
       " View sweep at <a href='https://wandb.ai/sumanta_roy/CS6910_assignment_1/sweeps/mefq3vzl' target=\"_blank\">https://wandb.ai/sumanta_roy/CS6910_assignment_1/sweeps/mefq3vzl</a>"
      ],
      "text/plain": [
       "<IPython.core.display.HTML object>"
      ]
     },
     "metadata": {},
     "output_type": "display_data"
    },
    {
     "data": {
      "text/html": [
       " View run at <a href='https://wandb.ai/sumanta_roy/CS6910_assignment_1/runs/gpv3upzb' target=\"_blank\">https://wandb.ai/sumanta_roy/CS6910_assignment_1/runs/gpv3upzb</a>"
      ],
      "text/plain": [
       "<IPython.core.display.HTML object>"
      ]
     },
     "metadata": {},
     "output_type": "display_data"
    },
    {
     "name": "stdout",
     "output_type": "stream",
     "text": [
      "Epoch: 1/10; Train Loss: 0.042371677516554726; Val Loss: 0.07010669676599336\n",
      "Epoch: 2/10; Train Loss: 0.026963914901407503; Val Loss: 0.05381785420188918\n",
      "Epoch: 3/10; Train Loss: 0.02266537172648827; Val Loss: 0.04827837720655564\n",
      "Epoch: 4/10; Train Loss: 0.020538933674071374; Val Loss: 0.04531325618941494\n",
      "Epoch: 5/10; Train Loss: 0.019138543057629215; Val Loss: 0.04337895147218544\n",
      "Epoch: 6/10; Train Loss: 0.018101711766594846; Val Loss: 0.04197972326055001\n",
      "Epoch: 7/10; Train Loss: 0.01727788731603881; Val Loss: 0.04089817180320404\n",
      "Epoch: 8/10; Train Loss: 0.01658748716706342; Val Loss: 0.0400232914465993\n",
      "Epoch: 9/10; Train Loss: 0.015986294629768937; Val Loss: 0.03929218119752956\n",
      "Epoch: 10/10; Train Loss: 0.015448797291089495; Val Loss: 0.03866661164282053\n"
     ]
    },
    {
     "data": {
      "application/vnd.jupyter.widget-view+json": {
       "model_id": "e3352de0564f4d7eacdb0603d713b7ec",
       "version_major": 2,
       "version_minor": 0
      },
      "text/plain": [
       "VBox(children=(Label(value='0.001 MB of 0.001 MB uploaded\\r'), FloatProgress(value=1.0, max=1.0)))"
      ]
     },
     "metadata": {},
     "output_type": "display_data"
    },
    {
     "data": {
      "text/html": [
       "<style>\n",
       "    table.wandb td:nth-child(1) { padding: 0 10px; text-align: left ; width: auto;} td:nth-child(2) {text-align: left ; width: 100%}\n",
       "    .wandb-row { display: flex; flex-direction: row; flex-wrap: wrap; justify-content: flex-start; width: 100% }\n",
       "    .wandb-col { display: flex; flex-direction: column; flex-basis: 100%; flex: 1; padding: 10px; }\n",
       "    </style>\n",
       "<div class=\"wandb-row\"><div class=\"wandb-col\"><h3>Run history:</h3><br/><table class=\"wandb\"><tr><td>epoch</td><td>▁▁▁▁▂▂▂▂▃▃▃▃▃▃▃▃▄▄▄▄▅▅▅▅▆▆▆▆▆▆▆▆▇▇▇▇████</td></tr><tr><td>train_accuracy</td><td>▁▄▆▅▆▆▇▇▇▅▅▆▅▆▆▇▇█▇█▅▆▇▅▅▆▅▅▆▆▇▆▇▇▇▅▅▅▆▆</td></tr><tr><td>train_loss</td><td>█▅▄▄▃▃▂▂▂▃▃▂▂▂▂▂▂▁▁▁▂▃▂▂▃▂▃▃▂▂▁▂▁▁▁▂▂▂▂▁</td></tr><tr><td>val_accuracy</td><td>▁▄▅▆▆▇▇▇▇▇▇▇▇███████████████████████████</td></tr><tr><td>validation_loss</td><td>█▅▄▃▃▂▂▂▂▂▂▂▂▁▁▁▁▁▁▁▁▁▁▁▁▁▁▁▁▁▁▁▁▁▁▁▁▁▁▁</td></tr></table><br/></div><div class=\"wandb-col\"><h3>Run summary:</h3><br/><table class=\"wandb\"><tr><td>epoch</td><td>10</td></tr><tr><td>train_accuracy</td><td>96.875</td></tr><tr><td>train_loss</td><td>0.01545</td></tr><tr><td>val_accuracy</td><td>86.58333</td></tr><tr><td>validation_loss</td><td>0.03867</td></tr></table><br/></div></div>"
      ],
      "text/plain": [
       "<IPython.core.display.HTML object>"
      ]
     },
     "metadata": {},
     "output_type": "display_data"
    },
    {
     "data": {
      "text/html": [
       " View run <strong style=\"color:#cdcd00\">devout-sweep-51</strong> at: <a href='https://wandb.ai/sumanta_roy/CS6910_assignment_1/runs/gpv3upzb' target=\"_blank\">https://wandb.ai/sumanta_roy/CS6910_assignment_1/runs/gpv3upzb</a><br/>Synced 6 W&B file(s), 0 media file(s), 0 artifact file(s) and 0 other file(s)"
      ],
      "text/plain": [
       "<IPython.core.display.HTML object>"
      ]
     },
     "metadata": {},
     "output_type": "display_data"
    },
    {
     "data": {
      "text/html": [
       "Find logs at: <code>./wandb/run-20240317_100235-gpv3upzb/logs</code>"
      ],
      "text/plain": [
       "<IPython.core.display.HTML object>"
      ]
     },
     "metadata": {},
     "output_type": "display_data"
    },
    {
     "name": "stderr",
     "output_type": "stream",
     "text": [
      "\u001b[34m\u001b[1mwandb\u001b[0m: Agent Starting Run: dr2lksk4 with config:\n",
      "\u001b[34m\u001b[1mwandb\u001b[0m: \tactivation: tanh\n",
      "\u001b[34m\u001b[1mwandb\u001b[0m: \tbatch_size: 16\n",
      "\u001b[34m\u001b[1mwandb\u001b[0m: \tepochs: 10\n",
      "\u001b[34m\u001b[1mwandb\u001b[0m: \thidden_layers: 3\n",
      "\u001b[34m\u001b[1mwandb\u001b[0m: \thidden_size: 32\n",
      "\u001b[34m\u001b[1mwandb\u001b[0m: \tloss: cross_entropy\n",
      "\u001b[34m\u001b[1mwandb\u001b[0m: \tlr: 0.001\n",
      "\u001b[34m\u001b[1mwandb\u001b[0m: \toptimizer: adam\n",
      "\u001b[34m\u001b[1mwandb\u001b[0m: \tw_init: glorot\n",
      "\u001b[34m\u001b[1mwandb\u001b[0m: \tweight_decay: 0\n"
     ]
    },
    {
     "data": {
      "text/html": [
       "Tracking run with wandb version 0.16.4"
      ],
      "text/plain": [
       "<IPython.core.display.HTML object>"
      ]
     },
     "metadata": {},
     "output_type": "display_data"
    },
    {
     "data": {
      "text/html": [
       "Run data is saved locally in <code>/Users/sumanta/Desktop/Numpy project/cross_entropy_lesspasses/wandb/run-20240317_100318-dr2lksk4</code>"
      ],
      "text/plain": [
       "<IPython.core.display.HTML object>"
      ]
     },
     "metadata": {},
     "output_type": "display_data"
    },
    {
     "data": {
      "text/html": [
       "Syncing run <strong><a href='https://wandb.ai/sumanta_roy/CS6910_assignment_1/runs/dr2lksk4' target=\"_blank\">easy-sweep-52</a></strong> to <a href='https://wandb.ai/sumanta_roy/CS6910_assignment_1' target=\"_blank\">Weights & Biases</a> (<a href='https://wandb.me/run' target=\"_blank\">docs</a>)<br/>Sweep page: <a href='https://wandb.ai/sumanta_roy/CS6910_assignment_1/sweeps/mefq3vzl' target=\"_blank\">https://wandb.ai/sumanta_roy/CS6910_assignment_1/sweeps/mefq3vzl</a>"
      ],
      "text/plain": [
       "<IPython.core.display.HTML object>"
      ]
     },
     "metadata": {},
     "output_type": "display_data"
    },
    {
     "data": {
      "text/html": [
       " View project at <a href='https://wandb.ai/sumanta_roy/CS6910_assignment_1' target=\"_blank\">https://wandb.ai/sumanta_roy/CS6910_assignment_1</a>"
      ],
      "text/plain": [
       "<IPython.core.display.HTML object>"
      ]
     },
     "metadata": {},
     "output_type": "display_data"
    },
    {
     "data": {
      "text/html": [
       " View sweep at <a href='https://wandb.ai/sumanta_roy/CS6910_assignment_1/sweeps/mefq3vzl' target=\"_blank\">https://wandb.ai/sumanta_roy/CS6910_assignment_1/sweeps/mefq3vzl</a>"
      ],
      "text/plain": [
       "<IPython.core.display.HTML object>"
      ]
     },
     "metadata": {},
     "output_type": "display_data"
    },
    {
     "data": {
      "text/html": [
       " View run at <a href='https://wandb.ai/sumanta_roy/CS6910_assignment_1/runs/dr2lksk4' target=\"_blank\">https://wandb.ai/sumanta_roy/CS6910_assignment_1/runs/dr2lksk4</a>"
      ],
      "text/plain": [
       "<IPython.core.display.HTML object>"
      ]
     },
     "metadata": {},
     "output_type": "display_data"
    },
    {
     "name": "stdout",
     "output_type": "stream",
     "text": [
      "Epoch: 1/10; Train Loss: 0.0072325362670553435; Val Loss: 0.04031304760595374\n",
      "Epoch: 2/10; Train Loss: 0.006420880727822198; Val Loss: 0.03751815757842763\n",
      "Epoch: 3/10; Train Loss: 0.006617939148188983; Val Loss: 0.036088548776359454\n",
      "Epoch: 4/10; Train Loss: 0.007294325730118579; Val Loss: 0.035345617098542385\n",
      "Epoch: 5/10; Train Loss: 0.007435838064953971; Val Loss: 0.03489519345959123\n",
      "Epoch: 6/10; Train Loss: 0.007255205667152595; Val Loss: 0.03455878805072164\n",
      "Epoch: 7/10; Train Loss: 0.0070898714462663565; Val Loss: 0.03429575253274955\n",
      "Epoch: 8/10; Train Loss: 0.007049133968744901; Val Loss: 0.034121089575734745\n",
      "Epoch: 9/10; Train Loss: 0.007004433881191566; Val Loss: 0.03404180633065897\n",
      "Epoch: 10/10; Train Loss: 0.006772555704104377; Val Loss: 0.03405035277493357\n"
     ]
    },
    {
     "data": {
      "application/vnd.jupyter.widget-view+json": {
       "model_id": "a4d10f3fbf754ccc899108f6072ee407",
       "version_major": 2,
       "version_minor": 0
      },
      "text/plain": [
       "VBox(children=(Label(value='0.001 MB of 0.001 MB uploaded\\r'), FloatProgress(value=1.0, max=1.0)))"
      ]
     },
     "metadata": {},
     "output_type": "display_data"
    },
    {
     "data": {
      "text/html": [
       "<style>\n",
       "    table.wandb td:nth-child(1) { padding: 0 10px; text-align: left ; width: auto;} td:nth-child(2) {text-align: left ; width: 100%}\n",
       "    .wandb-row { display: flex; flex-direction: row; flex-wrap: wrap; justify-content: flex-start; width: 100% }\n",
       "    .wandb-col { display: flex; flex-direction: column; flex-basis: 100%; flex: 1; padding: 10px; }\n",
       "    </style>\n",
       "<div class=\"wandb-row\"><div class=\"wandb-col\"><h3>Run history:</h3><br/><table class=\"wandb\"><tr><td>epoch</td><td>▁▁▁▁▂▂▂▂▃▃▃▃▃▃▃▃▄▄▄▄▅▅▅▅▆▆▆▆▆▆▆▆▇▇▇▇████</td></tr><tr><td>train_accuracy</td><td>▁▅▇▅▄▇▇▅▅▄▁▇▄▅▅▅▂▅▄█▅▅▄▇▇▇▅▄▇▂▇▅▇▅▇▇▄▅▅▅</td></tr><tr><td>train_loss</td><td>█▃▁▃▄▂▃▂▃▃▆▂▄▃▃▃▄▂▃▁▄▄▄▃▃▃▄▄▂▅▁▂▃▂▁▃▅▃▃▂</td></tr><tr><td>val_accuracy</td><td>▁▅▅▆▆▆▆▇▆▇▆▇▇▇▇▇▇▇█▇▇█▇▇▇▇███▇████▇█████</td></tr><tr><td>validation_loss</td><td>█▅▄▃▃▂▂▂▃▂▃▂▂▂▁▂▂▁▁▂▁▁▂▁▁▁▁▁▁▁▁▁▂▁▁▁▁▁▁▁</td></tr></table><br/></div><div class=\"wandb-col\"><h3>Run summary:</h3><br/><table class=\"wandb\"><tr><td>epoch</td><td>10</td></tr><tr><td>train_accuracy</td><td>100.0</td></tr><tr><td>train_loss</td><td>0.00677</td></tr><tr><td>val_accuracy</td><td>88.46667</td></tr><tr><td>validation_loss</td><td>0.03405</td></tr></table><br/></div></div>"
      ],
      "text/plain": [
       "<IPython.core.display.HTML object>"
      ]
     },
     "metadata": {},
     "output_type": "display_data"
    },
    {
     "data": {
      "text/html": [
       " View run <strong style=\"color:#cdcd00\">easy-sweep-52</strong> at: <a href='https://wandb.ai/sumanta_roy/CS6910_assignment_1/runs/dr2lksk4' target=\"_blank\">https://wandb.ai/sumanta_roy/CS6910_assignment_1/runs/dr2lksk4</a><br/>Synced 6 W&B file(s), 0 media file(s), 0 artifact file(s) and 0 other file(s)"
      ],
      "text/plain": [
       "<IPython.core.display.HTML object>"
      ]
     },
     "metadata": {},
     "output_type": "display_data"
    },
    {
     "data": {
      "text/html": [
       "Find logs at: <code>./wandb/run-20240317_100318-dr2lksk4/logs</code>"
      ],
      "text/plain": [
       "<IPython.core.display.HTML object>"
      ]
     },
     "metadata": {},
     "output_type": "display_data"
    },
    {
     "name": "stderr",
     "output_type": "stream",
     "text": [
      "\u001b[34m\u001b[1mwandb\u001b[0m: Agent Starting Run: pmkjc8it with config:\n",
      "\u001b[34m\u001b[1mwandb\u001b[0m: \tactivation: tanh\n",
      "\u001b[34m\u001b[1mwandb\u001b[0m: \tbatch_size: 16\n",
      "\u001b[34m\u001b[1mwandb\u001b[0m: \tepochs: 10\n",
      "\u001b[34m\u001b[1mwandb\u001b[0m: \thidden_layers: 3\n",
      "\u001b[34m\u001b[1mwandb\u001b[0m: \thidden_size: 32\n",
      "\u001b[34m\u001b[1mwandb\u001b[0m: \tloss: cross_entropy\n",
      "\u001b[34m\u001b[1mwandb\u001b[0m: \tlr: 0.0001\n",
      "\u001b[34m\u001b[1mwandb\u001b[0m: \toptimizer: rmsprop\n",
      "\u001b[34m\u001b[1mwandb\u001b[0m: \tw_init: glorot\n",
      "\u001b[34m\u001b[1mwandb\u001b[0m: \tweight_decay: 0\n"
     ]
    },
    {
     "data": {
      "text/html": [
       "Tracking run with wandb version 0.16.4"
      ],
      "text/plain": [
       "<IPython.core.display.HTML object>"
      ]
     },
     "metadata": {},
     "output_type": "display_data"
    },
    {
     "data": {
      "text/html": [
       "Run data is saved locally in <code>/Users/sumanta/Desktop/Numpy project/cross_entropy_lesspasses/wandb/run-20240317_100417-pmkjc8it</code>"
      ],
      "text/plain": [
       "<IPython.core.display.HTML object>"
      ]
     },
     "metadata": {},
     "output_type": "display_data"
    },
    {
     "data": {
      "text/html": [
       "Syncing run <strong><a href='https://wandb.ai/sumanta_roy/CS6910_assignment_1/runs/pmkjc8it' target=\"_blank\">toasty-sweep-53</a></strong> to <a href='https://wandb.ai/sumanta_roy/CS6910_assignment_1' target=\"_blank\">Weights & Biases</a> (<a href='https://wandb.me/run' target=\"_blank\">docs</a>)<br/>Sweep page: <a href='https://wandb.ai/sumanta_roy/CS6910_assignment_1/sweeps/mefq3vzl' target=\"_blank\">https://wandb.ai/sumanta_roy/CS6910_assignment_1/sweeps/mefq3vzl</a>"
      ],
      "text/plain": [
       "<IPython.core.display.HTML object>"
      ]
     },
     "metadata": {},
     "output_type": "display_data"
    },
    {
     "data": {
      "text/html": [
       " View project at <a href='https://wandb.ai/sumanta_roy/CS6910_assignment_1' target=\"_blank\">https://wandb.ai/sumanta_roy/CS6910_assignment_1</a>"
      ],
      "text/plain": [
       "<IPython.core.display.HTML object>"
      ]
     },
     "metadata": {},
     "output_type": "display_data"
    },
    {
     "data": {
      "text/html": [
       " View sweep at <a href='https://wandb.ai/sumanta_roy/CS6910_assignment_1/sweeps/mefq3vzl' target=\"_blank\">https://wandb.ai/sumanta_roy/CS6910_assignment_1/sweeps/mefq3vzl</a>"
      ],
      "text/plain": [
       "<IPython.core.display.HTML object>"
      ]
     },
     "metadata": {},
     "output_type": "display_data"
    },
    {
     "data": {
      "text/html": [
       " View run at <a href='https://wandb.ai/sumanta_roy/CS6910_assignment_1/runs/pmkjc8it' target=\"_blank\">https://wandb.ai/sumanta_roy/CS6910_assignment_1/runs/pmkjc8it</a>"
      ],
      "text/plain": [
       "<IPython.core.display.HTML object>"
      ]
     },
     "metadata": {},
     "output_type": "display_data"
    },
    {
     "name": "stdout",
     "output_type": "stream",
     "text": [
      "Epoch: 1/10; Train Loss: 0.021719824184808022; Val Loss: 0.05512840090303469\n",
      "Epoch: 2/10; Train Loss: 0.015423677209373043; Val Loss: 0.04606051726613347\n",
      "Epoch: 3/10; Train Loss: 0.013715473616140289; Val Loss: 0.04268118526623619\n",
      "Epoch: 4/10; Train Loss: 0.012964870075158808; Val Loss: 0.04071388217785397\n",
      "Epoch: 5/10; Train Loss: 0.012609078377225857; Val Loss: 0.03935750369538772\n",
      "Epoch: 6/10; Train Loss: 0.012453635435445566; Val Loss: 0.038349567591751135\n",
      "Epoch: 7/10; Train Loss: 0.012372192036006603; Val Loss: 0.03756803998686447\n",
      "Epoch: 8/10; Train Loss: 0.012301960798014903; Val Loss: 0.03694444259483977\n",
      "Epoch: 9/10; Train Loss: 0.012231054190989655; Val Loss: 0.0364365343841148\n",
      "Epoch: 10/10; Train Loss: 0.012165968913341194; Val Loss: 0.03601552764063207\n"
     ]
    },
    {
     "data": {
      "application/vnd.jupyter.widget-view+json": {
       "model_id": "1e70c8e536d54ebf905aab6dc1770db5",
       "version_major": 2,
       "version_minor": 0
      },
      "text/plain": [
       "VBox(children=(Label(value='0.001 MB of 0.001 MB uploaded\\r'), FloatProgress(value=1.0, max=1.0)))"
      ]
     },
     "metadata": {},
     "output_type": "display_data"
    },
    {
     "data": {
      "text/html": [
       "<style>\n",
       "    table.wandb td:nth-child(1) { padding: 0 10px; text-align: left ; width: auto;} td:nth-child(2) {text-align: left ; width: 100%}\n",
       "    .wandb-row { display: flex; flex-direction: row; flex-wrap: wrap; justify-content: flex-start; width: 100% }\n",
       "    .wandb-col { display: flex; flex-direction: column; flex-basis: 100%; flex: 1; padding: 10px; }\n",
       "    </style>\n",
       "<div class=\"wandb-row\"><div class=\"wandb-col\"><h3>Run history:</h3><br/><table class=\"wandb\"><tr><td>epoch</td><td>▁▁▁▁▂▂▂▂▃▃▃▃▃▃▃▃▄▄▄▄▅▅▅▅▆▆▆▆▆▆▆▆▇▇▇▇████</td></tr><tr><td>train_accuracy</td><td>▁▂▇▅▆▇▇▇▆▃▄▇▆▄▄▇▃▇▅█▅▅▆▆▄▅▆▄▄▃▆▆▅▆▇▅▅▆▆▅</td></tr><tr><td>train_loss</td><td>█▅▂▃▃▂▂▁▂▃▃▁▂▂▃▂▄▁▂▁▃▂▂▂▃▄▃▂▃▃▂▂▂▁▁▂▃▂▂▂</td></tr><tr><td>val_accuracy</td><td>▁▄▆▆▆▇▇▇▇▇▇▇▇█▇▇████████████████████████</td></tr><tr><td>validation_loss</td><td>█▅▃▂▂▂▂▂▂▂▂▁▁▁▁▁▁▁▁▁▁▁▁▁▁▁▁▁▁▁▁▁▁▁▁▁▁▁▁▁</td></tr></table><br/></div><div class=\"wandb-col\"><h3>Run summary:</h3><br/><table class=\"wandb\"><tr><td>epoch</td><td>10</td></tr><tr><td>train_accuracy</td><td>93.75</td></tr><tr><td>train_loss</td><td>0.01217</td></tr><tr><td>val_accuracy</td><td>87.3</td></tr><tr><td>validation_loss</td><td>0.03602</td></tr></table><br/></div></div>"
      ],
      "text/plain": [
       "<IPython.core.display.HTML object>"
      ]
     },
     "metadata": {},
     "output_type": "display_data"
    },
    {
     "data": {
      "text/html": [
       " View run <strong style=\"color:#cdcd00\">toasty-sweep-53</strong> at: <a href='https://wandb.ai/sumanta_roy/CS6910_assignment_1/runs/pmkjc8it' target=\"_blank\">https://wandb.ai/sumanta_roy/CS6910_assignment_1/runs/pmkjc8it</a><br/>Synced 6 W&B file(s), 0 media file(s), 0 artifact file(s) and 0 other file(s)"
      ],
      "text/plain": [
       "<IPython.core.display.HTML object>"
      ]
     },
     "metadata": {},
     "output_type": "display_data"
    },
    {
     "data": {
      "text/html": [
       "Find logs at: <code>./wandb/run-20240317_100417-pmkjc8it/logs</code>"
      ],
      "text/plain": [
       "<IPython.core.display.HTML object>"
      ]
     },
     "metadata": {},
     "output_type": "display_data"
    },
    {
     "name": "stderr",
     "output_type": "stream",
     "text": [
      "\u001b[34m\u001b[1mwandb\u001b[0m: Agent Starting Run: a9wd49ci with config:\n",
      "\u001b[34m\u001b[1mwandb\u001b[0m: \tactivation: relu\n",
      "\u001b[34m\u001b[1mwandb\u001b[0m: \tbatch_size: 16\n",
      "\u001b[34m\u001b[1mwandb\u001b[0m: \tepochs: 5\n",
      "\u001b[34m\u001b[1mwandb\u001b[0m: \thidden_layers: 3\n",
      "\u001b[34m\u001b[1mwandb\u001b[0m: \thidden_size: 64\n",
      "\u001b[34m\u001b[1mwandb\u001b[0m: \tloss: cross_entropy\n",
      "\u001b[34m\u001b[1mwandb\u001b[0m: \tlr: 0.001\n",
      "\u001b[34m\u001b[1mwandb\u001b[0m: \toptimizer: nadam\n",
      "\u001b[34m\u001b[1mwandb\u001b[0m: \tw_init: glorot\n",
      "\u001b[34m\u001b[1mwandb\u001b[0m: \tweight_decay: 0\n"
     ]
    },
    {
     "data": {
      "text/html": [
       "Tracking run with wandb version 0.16.4"
      ],
      "text/plain": [
       "<IPython.core.display.HTML object>"
      ]
     },
     "metadata": {},
     "output_type": "display_data"
    },
    {
     "data": {
      "text/html": [
       "Run data is saved locally in <code>/Users/sumanta/Desktop/Numpy project/cross_entropy_lesspasses/wandb/run-20240317_100515-a9wd49ci</code>"
      ],
      "text/plain": [
       "<IPython.core.display.HTML object>"
      ]
     },
     "metadata": {},
     "output_type": "display_data"
    },
    {
     "data": {
      "text/html": [
       "Syncing run <strong><a href='https://wandb.ai/sumanta_roy/CS6910_assignment_1/runs/a9wd49ci' target=\"_blank\">bumbling-sweep-54</a></strong> to <a href='https://wandb.ai/sumanta_roy/CS6910_assignment_1' target=\"_blank\">Weights & Biases</a> (<a href='https://wandb.me/run' target=\"_blank\">docs</a>)<br/>Sweep page: <a href='https://wandb.ai/sumanta_roy/CS6910_assignment_1/sweeps/mefq3vzl' target=\"_blank\">https://wandb.ai/sumanta_roy/CS6910_assignment_1/sweeps/mefq3vzl</a>"
      ],
      "text/plain": [
       "<IPython.core.display.HTML object>"
      ]
     },
     "metadata": {},
     "output_type": "display_data"
    },
    {
     "data": {
      "text/html": [
       " View project at <a href='https://wandb.ai/sumanta_roy/CS6910_assignment_1' target=\"_blank\">https://wandb.ai/sumanta_roy/CS6910_assignment_1</a>"
      ],
      "text/plain": [
       "<IPython.core.display.HTML object>"
      ]
     },
     "metadata": {},
     "output_type": "display_data"
    },
    {
     "data": {
      "text/html": [
       " View sweep at <a href='https://wandb.ai/sumanta_roy/CS6910_assignment_1/sweeps/mefq3vzl' target=\"_blank\">https://wandb.ai/sumanta_roy/CS6910_assignment_1/sweeps/mefq3vzl</a>"
      ],
      "text/plain": [
       "<IPython.core.display.HTML object>"
      ]
     },
     "metadata": {},
     "output_type": "display_data"
    },
    {
     "data": {
      "text/html": [
       " View run at <a href='https://wandb.ai/sumanta_roy/CS6910_assignment_1/runs/a9wd49ci' target=\"_blank\">https://wandb.ai/sumanta_roy/CS6910_assignment_1/runs/a9wd49ci</a>"
      ],
      "text/plain": [
       "<IPython.core.display.HTML object>"
      ]
     },
     "metadata": {},
     "output_type": "display_data"
    },
    {
     "name": "stdout",
     "output_type": "stream",
     "text": [
      "Epoch: 1/5; Train Loss: 0.014176907436141254; Val Loss: 0.04869042191440399\n",
      "Epoch: 2/5; Train Loss: 0.012315886335839793; Val Loss: 0.043220591588791\n",
      "Epoch: 3/5; Train Loss: 0.011689731650732432; Val Loss: 0.040620060712802275\n",
      "Epoch: 4/5; Train Loss: 0.011036688559039626; Val Loss: 0.039005302831091354\n",
      "Epoch: 5/5; Train Loss: 0.011037176840263285; Val Loss: 0.03784979128089359\n"
     ]
    },
    {
     "data": {
      "application/vnd.jupyter.widget-view+json": {
       "model_id": "c3f46b163706414ab1bbcace229ee37c",
       "version_major": 2,
       "version_minor": 0
      },
      "text/plain": [
       "VBox(children=(Label(value='0.001 MB of 0.001 MB uploaded\\r'), FloatProgress(value=1.0, max=1.0)))"
      ]
     },
     "metadata": {},
     "output_type": "display_data"
    },
    {
     "data": {
      "text/html": [
       "<style>\n",
       "    table.wandb td:nth-child(1) { padding: 0 10px; text-align: left ; width: auto;} td:nth-child(2) {text-align: left ; width: 100%}\n",
       "    .wandb-row { display: flex; flex-direction: row; flex-wrap: wrap; justify-content: flex-start; width: 100% }\n",
       "    .wandb-col { display: flex; flex-direction: column; flex-basis: 100%; flex: 1; padding: 10px; }\n",
       "    </style>\n",
       "<div class=\"wandb-row\"><div class=\"wandb-col\"><h3>Run history:</h3><br/><table class=\"wandb\"><tr><td>epoch</td><td>▁▁▁▁▁▁▁▁▃▃▃▃▃▃▃▃▅▅▅▅▅▅▅▅▆▆▆▆▆▆▆▆████████</td></tr><tr><td>train_accuracy</td><td>▁▃▃█▂▅▅▅▃▅▆▇▅▄█▇▆▇▇▅▄▆█▅▆▅▇▆▄██▆▄▆▇▇▇▇█▇</td></tr><tr><td>train_loss</td><td>█▆▄▃▇▄▃▄▅▅▂▄▃▆▁▂▃▂▂▅▄▃▁▄▃▃▃▃▄▂▁▃▅▃▂▁▁▂▁▃</td></tr><tr><td>val_accuracy</td><td>▁▄▅▆▆▇▇▇▇▇▇▇▇▇▇▇█▇██████████████████████</td></tr><tr><td>validation_loss</td><td>█▅▄▃▃▃▂▂▂▂▂▂▂▂▂▂▂▂▂▁▂▁▁▁▁▁▁▁▁▁▁▁▁▁▁▁▁▁▁▁</td></tr></table><br/></div><div class=\"wandb-col\"><h3>Run summary:</h3><br/><table class=\"wandb\"><tr><td>epoch</td><td>5</td></tr><tr><td>train_accuracy</td><td>93.75</td></tr><tr><td>train_loss</td><td>0.01104</td></tr><tr><td>val_accuracy</td><td>86.88333</td></tr><tr><td>validation_loss</td><td>0.03785</td></tr></table><br/></div></div>"
      ],
      "text/plain": [
       "<IPython.core.display.HTML object>"
      ]
     },
     "metadata": {},
     "output_type": "display_data"
    },
    {
     "data": {
      "text/html": [
       " View run <strong style=\"color:#cdcd00\">bumbling-sweep-54</strong> at: <a href='https://wandb.ai/sumanta_roy/CS6910_assignment_1/runs/a9wd49ci' target=\"_blank\">https://wandb.ai/sumanta_roy/CS6910_assignment_1/runs/a9wd49ci</a><br/>Synced 6 W&B file(s), 0 media file(s), 0 artifact file(s) and 0 other file(s)"
      ],
      "text/plain": [
       "<IPython.core.display.HTML object>"
      ]
     },
     "metadata": {},
     "output_type": "display_data"
    },
    {
     "data": {
      "text/html": [
       "Find logs at: <code>./wandb/run-20240317_100515-a9wd49ci/logs</code>"
      ],
      "text/plain": [
       "<IPython.core.display.HTML object>"
      ]
     },
     "metadata": {},
     "output_type": "display_data"
    },
    {
     "name": "stderr",
     "output_type": "stream",
     "text": [
      "\u001b[34m\u001b[1mwandb\u001b[0m: Agent Starting Run: wuvd7fe9 with config:\n",
      "\u001b[34m\u001b[1mwandb\u001b[0m: \tactivation: relu\n",
      "\u001b[34m\u001b[1mwandb\u001b[0m: \tbatch_size: 16\n",
      "\u001b[34m\u001b[1mwandb\u001b[0m: \tepochs: 5\n",
      "\u001b[34m\u001b[1mwandb\u001b[0m: \thidden_layers: 3\n",
      "\u001b[34m\u001b[1mwandb\u001b[0m: \thidden_size: 64\n",
      "\u001b[34m\u001b[1mwandb\u001b[0m: \tloss: cross_entropy\n",
      "\u001b[34m\u001b[1mwandb\u001b[0m: \tlr: 0.001\n",
      "\u001b[34m\u001b[1mwandb\u001b[0m: \toptimizer: nesterov\n",
      "\u001b[34m\u001b[1mwandb\u001b[0m: \tw_init: glorot\n",
      "\u001b[34m\u001b[1mwandb\u001b[0m: \tweight_decay: 0.0005\n"
     ]
    },
    {
     "data": {
      "text/html": [
       "Tracking run with wandb version 0.16.4"
      ],
      "text/plain": [
       "<IPython.core.display.HTML object>"
      ]
     },
     "metadata": {},
     "output_type": "display_data"
    },
    {
     "data": {
      "text/html": [
       "Run data is saved locally in <code>/Users/sumanta/Desktop/Numpy project/cross_entropy_lesspasses/wandb/run-20240317_100603-wuvd7fe9</code>"
      ],
      "text/plain": [
       "<IPython.core.display.HTML object>"
      ]
     },
     "metadata": {},
     "output_type": "display_data"
    },
    {
     "data": {
      "text/html": [
       "Syncing run <strong><a href='https://wandb.ai/sumanta_roy/CS6910_assignment_1/runs/wuvd7fe9' target=\"_blank\">frosty-sweep-55</a></strong> to <a href='https://wandb.ai/sumanta_roy/CS6910_assignment_1' target=\"_blank\">Weights & Biases</a> (<a href='https://wandb.me/run' target=\"_blank\">docs</a>)<br/>Sweep page: <a href='https://wandb.ai/sumanta_roy/CS6910_assignment_1/sweeps/mefq3vzl' target=\"_blank\">https://wandb.ai/sumanta_roy/CS6910_assignment_1/sweeps/mefq3vzl</a>"
      ],
      "text/plain": [
       "<IPython.core.display.HTML object>"
      ]
     },
     "metadata": {},
     "output_type": "display_data"
    },
    {
     "data": {
      "text/html": [
       " View project at <a href='https://wandb.ai/sumanta_roy/CS6910_assignment_1' target=\"_blank\">https://wandb.ai/sumanta_roy/CS6910_assignment_1</a>"
      ],
      "text/plain": [
       "<IPython.core.display.HTML object>"
      ]
     },
     "metadata": {},
     "output_type": "display_data"
    },
    {
     "data": {
      "text/html": [
       " View sweep at <a href='https://wandb.ai/sumanta_roy/CS6910_assignment_1/sweeps/mefq3vzl' target=\"_blank\">https://wandb.ai/sumanta_roy/CS6910_assignment_1/sweeps/mefq3vzl</a>"
      ],
      "text/plain": [
       "<IPython.core.display.HTML object>"
      ]
     },
     "metadata": {},
     "output_type": "display_data"
    },
    {
     "data": {
      "text/html": [
       " View run at <a href='https://wandb.ai/sumanta_roy/CS6910_assignment_1/runs/wuvd7fe9' target=\"_blank\">https://wandb.ai/sumanta_roy/CS6910_assignment_1/runs/wuvd7fe9</a>"
      ],
      "text/plain": [
       "<IPython.core.display.HTML object>"
      ]
     },
     "metadata": {},
     "output_type": "display_data"
    },
    {
     "name": "stdout",
     "output_type": "stream",
     "text": [
      "Epoch: 1/5; Train Loss: 0.015177611992855862; Val Loss: 0.04537243542044832\n",
      "Epoch: 2/5; Train Loss: 0.016552360171710863; Val Loss: 0.04021330583404336\n",
      "Epoch: 3/5; Train Loss: 0.018183408238599135; Val Loss: 0.03777830640840692\n",
      "Epoch: 4/5; Train Loss: 0.02076174859838107; Val Loss: 0.0363454794903097\n",
      "Epoch: 5/5; Train Loss: 0.01992809924067796; Val Loss: 0.035328329834000666\n"
     ]
    },
    {
     "data": {
      "application/vnd.jupyter.widget-view+json": {
       "model_id": "f57f5cbe16b74c9684a4366cfc12625e",
       "version_major": 2,
       "version_minor": 0
      },
      "text/plain": [
       "VBox(children=(Label(value='0.001 MB of 0.001 MB uploaded\\r'), FloatProgress(value=1.0, max=1.0)))"
      ]
     },
     "metadata": {},
     "output_type": "display_data"
    },
    {
     "data": {
      "text/html": [
       "<style>\n",
       "    table.wandb td:nth-child(1) { padding: 0 10px; text-align: left ; width: auto;} td:nth-child(2) {text-align: left ; width: 100%}\n",
       "    .wandb-row { display: flex; flex-direction: row; flex-wrap: wrap; justify-content: flex-start; width: 100% }\n",
       "    .wandb-col { display: flex; flex-direction: column; flex-basis: 100%; flex: 1; padding: 10px; }\n",
       "    </style>\n",
       "<div class=\"wandb-row\"><div class=\"wandb-col\"><h3>Run history:</h3><br/><table class=\"wandb\"><tr><td>epoch</td><td>▁▁▁▁▁▁▁▁▃▃▃▃▃▃▃▃▅▅▅▅▅▅▅▅▆▆▆▆▆▆▆▆████████</td></tr><tr><td>train_accuracy</td><td>▁▄▃▆▃▅▇▄▃▄▆▆▅▅▇▇▆▆▆▅▅▄█▄▆▅▇▆▃▇▆▇▄▄▆██▇▇▇</td></tr><tr><td>train_loss</td><td>█▅▃▃▅▃▃▄▃▄▂▂▂▄▂▂▂▂▂▄▃▃▁▃▂▃▂▂▃▂▂▂▃▄▂▁▁▂▁▂</td></tr><tr><td>val_accuracy</td><td>▁▄▆▆▇▇▇▇▇▇▇▇▇█▇▇██▇█████████████████████</td></tr><tr><td>validation_loss</td><td>█▃▃▃▂▂▂▂▂▂▁▁▂▁▁▁▁▁▁▁▁▁▁▁▁▁▁▁▁▁▁▁▁▁▁▁▁▁▁▁</td></tr></table><br/></div><div class=\"wandb-col\"><h3>Run summary:</h3><br/><table class=\"wandb\"><tr><td>epoch</td><td>5</td></tr><tr><td>train_accuracy</td><td>93.75</td></tr><tr><td>train_loss</td><td>0.01993</td></tr><tr><td>val_accuracy</td><td>87.4</td></tr><tr><td>validation_loss</td><td>0.03533</td></tr></table><br/></div></div>"
      ],
      "text/plain": [
       "<IPython.core.display.HTML object>"
      ]
     },
     "metadata": {},
     "output_type": "display_data"
    },
    {
     "data": {
      "text/html": [
       " View run <strong style=\"color:#cdcd00\">frosty-sweep-55</strong> at: <a href='https://wandb.ai/sumanta_roy/CS6910_assignment_1/runs/wuvd7fe9' target=\"_blank\">https://wandb.ai/sumanta_roy/CS6910_assignment_1/runs/wuvd7fe9</a><br/>Synced 6 W&B file(s), 0 media file(s), 0 artifact file(s) and 0 other file(s)"
      ],
      "text/plain": [
       "<IPython.core.display.HTML object>"
      ]
     },
     "metadata": {},
     "output_type": "display_data"
    },
    {
     "data": {
      "text/html": [
       "Find logs at: <code>./wandb/run-20240317_100603-wuvd7fe9/logs</code>"
      ],
      "text/plain": [
       "<IPython.core.display.HTML object>"
      ]
     },
     "metadata": {},
     "output_type": "display_data"
    },
    {
     "name": "stderr",
     "output_type": "stream",
     "text": [
      "\u001b[34m\u001b[1mwandb\u001b[0m: Agent Starting Run: t18aredi with config:\n",
      "\u001b[34m\u001b[1mwandb\u001b[0m: \tactivation: tanh\n",
      "\u001b[34m\u001b[1mwandb\u001b[0m: \tbatch_size: 16\n",
      "\u001b[34m\u001b[1mwandb\u001b[0m: \tepochs: 10\n",
      "\u001b[34m\u001b[1mwandb\u001b[0m: \thidden_layers: 3\n",
      "\u001b[34m\u001b[1mwandb\u001b[0m: \thidden_size: 64\n",
      "\u001b[34m\u001b[1mwandb\u001b[0m: \tloss: cross_entropy\n",
      "\u001b[34m\u001b[1mwandb\u001b[0m: \tlr: 0.001\n",
      "\u001b[34m\u001b[1mwandb\u001b[0m: \toptimizer: rmsprop\n",
      "\u001b[34m\u001b[1mwandb\u001b[0m: \tw_init: glorot\n",
      "\u001b[34m\u001b[1mwandb\u001b[0m: \tweight_decay: 0.0005\n"
     ]
    },
    {
     "data": {
      "text/html": [
       "Tracking run with wandb version 0.16.4"
      ],
      "text/plain": [
       "<IPython.core.display.HTML object>"
      ]
     },
     "metadata": {},
     "output_type": "display_data"
    },
    {
     "data": {
      "text/html": [
       "Run data is saved locally in <code>/Users/sumanta/Desktop/Numpy project/cross_entropy_lesspasses/wandb/run-20240317_100651-t18aredi</code>"
      ],
      "text/plain": [
       "<IPython.core.display.HTML object>"
      ]
     },
     "metadata": {},
     "output_type": "display_data"
    },
    {
     "data": {
      "text/html": [
       "Syncing run <strong><a href='https://wandb.ai/sumanta_roy/CS6910_assignment_1/runs/t18aredi' target=\"_blank\">likely-sweep-56</a></strong> to <a href='https://wandb.ai/sumanta_roy/CS6910_assignment_1' target=\"_blank\">Weights & Biases</a> (<a href='https://wandb.me/run' target=\"_blank\">docs</a>)<br/>Sweep page: <a href='https://wandb.ai/sumanta_roy/CS6910_assignment_1/sweeps/mefq3vzl' target=\"_blank\">https://wandb.ai/sumanta_roy/CS6910_assignment_1/sweeps/mefq3vzl</a>"
      ],
      "text/plain": [
       "<IPython.core.display.HTML object>"
      ]
     },
     "metadata": {},
     "output_type": "display_data"
    },
    {
     "data": {
      "text/html": [
       " View project at <a href='https://wandb.ai/sumanta_roy/CS6910_assignment_1' target=\"_blank\">https://wandb.ai/sumanta_roy/CS6910_assignment_1</a>"
      ],
      "text/plain": [
       "<IPython.core.display.HTML object>"
      ]
     },
     "metadata": {},
     "output_type": "display_data"
    },
    {
     "data": {
      "text/html": [
       " View sweep at <a href='https://wandb.ai/sumanta_roy/CS6910_assignment_1/sweeps/mefq3vzl' target=\"_blank\">https://wandb.ai/sumanta_roy/CS6910_assignment_1/sweeps/mefq3vzl</a>"
      ],
      "text/plain": [
       "<IPython.core.display.HTML object>"
      ]
     },
     "metadata": {},
     "output_type": "display_data"
    },
    {
     "data": {
      "text/html": [
       " View run at <a href='https://wandb.ai/sumanta_roy/CS6910_assignment_1/runs/t18aredi' target=\"_blank\">https://wandb.ai/sumanta_roy/CS6910_assignment_1/runs/t18aredi</a>"
      ],
      "text/plain": [
       "<IPython.core.display.HTML object>"
      ]
     },
     "metadata": {},
     "output_type": "display_data"
    },
    {
     "name": "stdout",
     "output_type": "stream",
     "text": [
      "Epoch: 1/10; Train Loss: 0.01603950046595759; Val Loss: 0.03946692709231765\n",
      "Epoch: 2/10; Train Loss: 0.015855639145635047; Val Loss: 0.03645137128022999\n",
      "Epoch: 3/10; Train Loss: 0.015340927509135304; Val Loss: 0.035875174030610635\n",
      "Epoch: 4/10; Train Loss: 0.01553193199812632; Val Loss: 0.035817768123516336\n",
      "Epoch: 5/10; Train Loss: 0.015426460763487432; Val Loss: 0.035517570688440844\n",
      "Epoch: 6/10; Train Loss: 0.014888526463045629; Val Loss: 0.03507010997569541\n",
      "Epoch: 7/10; Train Loss: 0.014318677498281286; Val Loss: 0.03461447845362368\n",
      "Epoch: 8/10; Train Loss: 0.015190993931505234; Val Loss: 0.035032394968635444\n",
      "Epoch: 9/10; Train Loss: 0.015536307527991147; Val Loss: 0.03580526644349215\n",
      "Epoch: 10/10; Train Loss: 0.01584086717396953; Val Loss: 0.036264995020610105\n"
     ]
    },
    {
     "data": {
      "application/vnd.jupyter.widget-view+json": {
       "model_id": "c43033fe3f904e4787fc0af9f72cdee3",
       "version_major": 2,
       "version_minor": 0
      },
      "text/plain": [
       "VBox(children=(Label(value='0.001 MB of 0.001 MB uploaded\\r'), FloatProgress(value=1.0, max=1.0)))"
      ]
     },
     "metadata": {},
     "output_type": "display_data"
    },
    {
     "data": {
      "text/html": [
       "<style>\n",
       "    table.wandb td:nth-child(1) { padding: 0 10px; text-align: left ; width: auto;} td:nth-child(2) {text-align: left ; width: 100%}\n",
       "    .wandb-row { display: flex; flex-direction: row; flex-wrap: wrap; justify-content: flex-start; width: 100% }\n",
       "    .wandb-col { display: flex; flex-direction: column; flex-basis: 100%; flex: 1; padding: 10px; }\n",
       "    </style>\n",
       "<div class=\"wandb-row\"><div class=\"wandb-col\"><h3>Run history:</h3><br/><table class=\"wandb\"><tr><td>epoch</td><td>▁▁▁▁▂▂▂▂▃▃▃▃▃▃▃▃▄▄▄▄▅▅▅▅▆▆▆▆▆▆▆▆▇▇▇▇████</td></tr><tr><td>train_accuracy</td><td>▁▇▇▅▅▅▇█▇▇▅▇▅▄▄▇▂▇▅▇▄▅▄▅▇▄▅▄▇▄█▅▇▇▇▅▅▄▅▅</td></tr><tr><td>train_loss</td><td>█▃▂▃▄▄▃▁▃▂▅▂▃▄▄▂▇▃▂▃▅▅▃▅▂▆▆▄▂▅▁▂▂▃▁▄▄▄▄▄</td></tr><tr><td>val_accuracy</td><td>▁▄▅▄▅▅▆▆▇▇▆▇▇▇▇▇▆▆█▇▇███▇████▇██████████</td></tr><tr><td>validation_loss</td><td>█▅▄▄▄▄▃▃▂▁▃▂▂▂▁▂▃▂▁▂▂▁▁▁▂▁▁▂▁▂▁▁▁▁▂▂▁▂▂▁</td></tr></table><br/></div><div class=\"wandb-col\"><h3>Run summary:</h3><br/><table class=\"wandb\"><tr><td>epoch</td><td>10</td></tr><tr><td>train_accuracy</td><td>100.0</td></tr><tr><td>train_loss</td><td>0.01584</td></tr><tr><td>val_accuracy</td><td>87.8</td></tr><tr><td>validation_loss</td><td>0.03626</td></tr></table><br/></div></div>"
      ],
      "text/plain": [
       "<IPython.core.display.HTML object>"
      ]
     },
     "metadata": {},
     "output_type": "display_data"
    },
    {
     "data": {
      "text/html": [
       " View run <strong style=\"color:#cdcd00\">likely-sweep-56</strong> at: <a href='https://wandb.ai/sumanta_roy/CS6910_assignment_1/runs/t18aredi' target=\"_blank\">https://wandb.ai/sumanta_roy/CS6910_assignment_1/runs/t18aredi</a><br/>Synced 6 W&B file(s), 0 media file(s), 0 artifact file(s) and 0 other file(s)"
      ],
      "text/plain": [
       "<IPython.core.display.HTML object>"
      ]
     },
     "metadata": {},
     "output_type": "display_data"
    },
    {
     "data": {
      "text/html": [
       "Find logs at: <code>./wandb/run-20240317_100651-t18aredi/logs</code>"
      ],
      "text/plain": [
       "<IPython.core.display.HTML object>"
      ]
     },
     "metadata": {},
     "output_type": "display_data"
    },
    {
     "name": "stderr",
     "output_type": "stream",
     "text": [
      "\u001b[34m\u001b[1mwandb\u001b[0m: Agent Starting Run: 2hxxg7w1 with config:\n",
      "\u001b[34m\u001b[1mwandb\u001b[0m: \tactivation: tanh\n",
      "\u001b[34m\u001b[1mwandb\u001b[0m: \tbatch_size: 16\n",
      "\u001b[34m\u001b[1mwandb\u001b[0m: \tepochs: 10\n",
      "\u001b[34m\u001b[1mwandb\u001b[0m: \thidden_layers: 3\n",
      "\u001b[34m\u001b[1mwandb\u001b[0m: \thidden_size: 64\n",
      "\u001b[34m\u001b[1mwandb\u001b[0m: \tloss: cross_entropy\n",
      "\u001b[34m\u001b[1mwandb\u001b[0m: \tlr: 0.0001\n",
      "\u001b[34m\u001b[1mwandb\u001b[0m: \toptimizer: adam\n",
      "\u001b[34m\u001b[1mwandb\u001b[0m: \tw_init: glorot\n",
      "\u001b[34m\u001b[1mwandb\u001b[0m: \tweight_decay: 0\n"
     ]
    },
    {
     "data": {
      "text/html": [
       "Tracking run with wandb version 0.16.4"
      ],
      "text/plain": [
       "<IPython.core.display.HTML object>"
      ]
     },
     "metadata": {},
     "output_type": "display_data"
    },
    {
     "data": {
      "text/html": [
       "Run data is saved locally in <code>/Users/sumanta/Desktop/Numpy project/cross_entropy_lesspasses/wandb/run-20240317_100805-2hxxg7w1</code>"
      ],
      "text/plain": [
       "<IPython.core.display.HTML object>"
      ]
     },
     "metadata": {},
     "output_type": "display_data"
    },
    {
     "data": {
      "text/html": [
       "Syncing run <strong><a href='https://wandb.ai/sumanta_roy/CS6910_assignment_1/runs/2hxxg7w1' target=\"_blank\">solar-sweep-57</a></strong> to <a href='https://wandb.ai/sumanta_roy/CS6910_assignment_1' target=\"_blank\">Weights & Biases</a> (<a href='https://wandb.me/run' target=\"_blank\">docs</a>)<br/>Sweep page: <a href='https://wandb.ai/sumanta_roy/CS6910_assignment_1/sweeps/mefq3vzl' target=\"_blank\">https://wandb.ai/sumanta_roy/CS6910_assignment_1/sweeps/mefq3vzl</a>"
      ],
      "text/plain": [
       "<IPython.core.display.HTML object>"
      ]
     },
     "metadata": {},
     "output_type": "display_data"
    },
    {
     "data": {
      "text/html": [
       " View project at <a href='https://wandb.ai/sumanta_roy/CS6910_assignment_1' target=\"_blank\">https://wandb.ai/sumanta_roy/CS6910_assignment_1</a>"
      ],
      "text/plain": [
       "<IPython.core.display.HTML object>"
      ]
     },
     "metadata": {},
     "output_type": "display_data"
    },
    {
     "data": {
      "text/html": [
       " View sweep at <a href='https://wandb.ai/sumanta_roy/CS6910_assignment_1/sweeps/mefq3vzl' target=\"_blank\">https://wandb.ai/sumanta_roy/CS6910_assignment_1/sweeps/mefq3vzl</a>"
      ],
      "text/plain": [
       "<IPython.core.display.HTML object>"
      ]
     },
     "metadata": {},
     "output_type": "display_data"
    },
    {
     "data": {
      "text/html": [
       " View run at <a href='https://wandb.ai/sumanta_roy/CS6910_assignment_1/runs/2hxxg7w1' target=\"_blank\">https://wandb.ai/sumanta_roy/CS6910_assignment_1/runs/2hxxg7w1</a>"
      ],
      "text/plain": [
       "<IPython.core.display.HTML object>"
      ]
     },
     "metadata": {},
     "output_type": "display_data"
    },
    {
     "name": "stdout",
     "output_type": "stream",
     "text": [
      "Epoch: 1/10; Train Loss: 0.01745987553241602; Val Loss: 0.054806835307301086\n",
      "Epoch: 2/10; Train Loss: 0.012361576300998451; Val Loss: 0.04689135394531884\n",
      "Epoch: 3/10; Train Loss: 0.01139034869898653; Val Loss: 0.04359898365923273\n",
      "Epoch: 4/10; Train Loss: 0.011422223520996413; Val Loss: 0.04166875453399454\n",
      "Epoch: 5/10; Train Loss: 0.011714145774004602; Val Loss: 0.0403272370645219\n",
      "Epoch: 6/10; Train Loss: 0.012090743384426906; Val Loss: 0.039303011494374505\n",
      "Epoch: 7/10; Train Loss: 0.012485496276881437; Val Loss: 0.038479499575072434\n",
      "Epoch: 8/10; Train Loss: 0.01284826383495292; Val Loss: 0.03779676535538835\n",
      "Epoch: 9/10; Train Loss: 0.01315032635986892; Val Loss: 0.037219141703125\n",
      "Epoch: 10/10; Train Loss: 0.013386504355245788; Val Loss: 0.0367232209136867\n"
     ]
    },
    {
     "data": {
      "application/vnd.jupyter.widget-view+json": {
       "model_id": "60b7c055fe5e48cda906f70abf991f7d",
       "version_major": 2,
       "version_minor": 0
      },
      "text/plain": [
       "VBox(children=(Label(value='0.001 MB of 0.001 MB uploaded\\r'), FloatProgress(value=1.0, max=1.0)))"
      ]
     },
     "metadata": {},
     "output_type": "display_data"
    },
    {
     "data": {
      "text/html": [
       "<style>\n",
       "    table.wandb td:nth-child(1) { padding: 0 10px; text-align: left ; width: auto;} td:nth-child(2) {text-align: left ; width: 100%}\n",
       "    .wandb-row { display: flex; flex-direction: row; flex-wrap: wrap; justify-content: flex-start; width: 100% }\n",
       "    .wandb-col { display: flex; flex-direction: column; flex-basis: 100%; flex: 1; padding: 10px; }\n",
       "    </style>\n",
       "<div class=\"wandb-row\"><div class=\"wandb-col\"><h3>Run history:</h3><br/><table class=\"wandb\"><tr><td>epoch</td><td>▁▁▁▁▂▂▂▂▃▃▃▃▃▃▃▃▄▄▄▄▅▅▅▅▆▆▆▆▆▆▆▆▇▇▇▇████</td></tr><tr><td>train_accuracy</td><td>▂▁▇▅▇▇▇█▆▄▅▆▅▅▂▆▄▆▆▇▅▆▅▇▄▆▆▅▅▄▇▆▆▆█▆▅▅▅▇</td></tr><tr><td>train_loss</td><td>█▅▂▃▃▂▃▂▃▄▄▂▃▃▄▃▄▃▂▁▄▃▃▃▄▄▃▃▄▄▂▃▃▂▁▂▃▂▄▂</td></tr><tr><td>val_accuracy</td><td>▁▃▅▆▆▆▇▇▇▇▇▇▇▇▇▇▇███████████████████████</td></tr><tr><td>validation_loss</td><td>█▅▄▃▃▃▂▂▂▂▂▂▂▂▂▂▂▁▁▁▁▁▁▁▁▁▁▁▁▁▁▁▁▁▁▁▁▁▁▁</td></tr></table><br/></div><div class=\"wandb-col\"><h3>Run summary:</h3><br/><table class=\"wandb\"><tr><td>epoch</td><td>10</td></tr><tr><td>train_accuracy</td><td>93.75</td></tr><tr><td>train_loss</td><td>0.01339</td></tr><tr><td>val_accuracy</td><td>86.96667</td></tr><tr><td>validation_loss</td><td>0.03672</td></tr></table><br/></div></div>"
      ],
      "text/plain": [
       "<IPython.core.display.HTML object>"
      ]
     },
     "metadata": {},
     "output_type": "display_data"
    },
    {
     "data": {
      "text/html": [
       " View run <strong style=\"color:#cdcd00\">solar-sweep-57</strong> at: <a href='https://wandb.ai/sumanta_roy/CS6910_assignment_1/runs/2hxxg7w1' target=\"_blank\">https://wandb.ai/sumanta_roy/CS6910_assignment_1/runs/2hxxg7w1</a><br/>Synced 6 W&B file(s), 0 media file(s), 0 artifact file(s) and 0 other file(s)"
      ],
      "text/plain": [
       "<IPython.core.display.HTML object>"
      ]
     },
     "metadata": {},
     "output_type": "display_data"
    },
    {
     "data": {
      "text/html": [
       "Find logs at: <code>./wandb/run-20240317_100805-2hxxg7w1/logs</code>"
      ],
      "text/plain": [
       "<IPython.core.display.HTML object>"
      ]
     },
     "metadata": {},
     "output_type": "display_data"
    },
    {
     "name": "stderr",
     "output_type": "stream",
     "text": [
      "\u001b[34m\u001b[1mwandb\u001b[0m: Agent Starting Run: 7tdjbd61 with config:\n",
      "\u001b[34m\u001b[1mwandb\u001b[0m: \tactivation: tanh\n",
      "\u001b[34m\u001b[1mwandb\u001b[0m: \tbatch_size: 16\n",
      "\u001b[34m\u001b[1mwandb\u001b[0m: \tepochs: 10\n",
      "\u001b[34m\u001b[1mwandb\u001b[0m: \thidden_layers: 3\n",
      "\u001b[34m\u001b[1mwandb\u001b[0m: \thidden_size: 64\n",
      "\u001b[34m\u001b[1mwandb\u001b[0m: \tloss: cross_entropy\n",
      "\u001b[34m\u001b[1mwandb\u001b[0m: \tlr: 0.0001\n",
      "\u001b[34m\u001b[1mwandb\u001b[0m: \toptimizer: nadam\n",
      "\u001b[34m\u001b[1mwandb\u001b[0m: \tw_init: glorot\n",
      "\u001b[34m\u001b[1mwandb\u001b[0m: \tweight_decay: 0.5\n"
     ]
    },
    {
     "data": {
      "text/html": [
       "Tracking run with wandb version 0.16.4"
      ],
      "text/plain": [
       "<IPython.core.display.HTML object>"
      ]
     },
     "metadata": {},
     "output_type": "display_data"
    },
    {
     "data": {
      "text/html": [
       "Run data is saved locally in <code>/Users/sumanta/Desktop/Numpy project/cross_entropy_lesspasses/wandb/run-20240317_100931-7tdjbd61</code>"
      ],
      "text/plain": [
       "<IPython.core.display.HTML object>"
      ]
     },
     "metadata": {},
     "output_type": "display_data"
    },
    {
     "data": {
      "text/html": [
       "Syncing run <strong><a href='https://wandb.ai/sumanta_roy/CS6910_assignment_1/runs/7tdjbd61' target=\"_blank\">devoted-sweep-58</a></strong> to <a href='https://wandb.ai/sumanta_roy/CS6910_assignment_1' target=\"_blank\">Weights & Biases</a> (<a href='https://wandb.me/run' target=\"_blank\">docs</a>)<br/>Sweep page: <a href='https://wandb.ai/sumanta_roy/CS6910_assignment_1/sweeps/mefq3vzl' target=\"_blank\">https://wandb.ai/sumanta_roy/CS6910_assignment_1/sweeps/mefq3vzl</a>"
      ],
      "text/plain": [
       "<IPython.core.display.HTML object>"
      ]
     },
     "metadata": {},
     "output_type": "display_data"
    },
    {
     "data": {
      "text/html": [
       " View project at <a href='https://wandb.ai/sumanta_roy/CS6910_assignment_1' target=\"_blank\">https://wandb.ai/sumanta_roy/CS6910_assignment_1</a>"
      ],
      "text/plain": [
       "<IPython.core.display.HTML object>"
      ]
     },
     "metadata": {},
     "output_type": "display_data"
    },
    {
     "data": {
      "text/html": [
       " View sweep at <a href='https://wandb.ai/sumanta_roy/CS6910_assignment_1/sweeps/mefq3vzl' target=\"_blank\">https://wandb.ai/sumanta_roy/CS6910_assignment_1/sweeps/mefq3vzl</a>"
      ],
      "text/plain": [
       "<IPython.core.display.HTML object>"
      ]
     },
     "metadata": {},
     "output_type": "display_data"
    },
    {
     "data": {
      "text/html": [
       " View run at <a href='https://wandb.ai/sumanta_roy/CS6910_assignment_1/runs/7tdjbd61' target=\"_blank\">https://wandb.ai/sumanta_roy/CS6910_assignment_1/runs/7tdjbd61</a>"
      ],
      "text/plain": [
       "<IPython.core.display.HTML object>"
      ]
     },
     "metadata": {},
     "output_type": "display_data"
    },
    {
     "name": "stdout",
     "output_type": "stream",
     "text": [
      "Epoch: 1/10; Train Loss: 3.4921645012444524; Val Loss: 0.1166123029298934\n",
      "Epoch: 2/10; Train Loss: 3.0302342395342943; Val Loss: 0.0975727825810856\n",
      "Epoch: 3/10; Train Loss: 2.6453607091580453; Val Loss: 0.08816122510292337\n",
      "Epoch: 4/10; Train Loss: 2.328615583361431; Val Loss: 0.08246511899852563\n",
      "Epoch: 5/10; Train Loss: 2.065855517701548; Val Loss: 0.0786076658745446\n",
      "Epoch: 6/10; Train Loss: 1.8457556608206585; Val Loss: 0.07579799825096004\n",
      "Epoch: 7/10; Train Loss: 1.6607468910448504; Val Loss: 0.07364601263752035\n",
      "Epoch: 8/10; Train Loss: 1.5051015735726112; Val Loss: 0.07193671814405778\n",
      "Epoch: 9/10; Train Loss: 1.374141253358161; Val Loss: 0.07054233591794129\n",
      "Epoch: 10/10; Train Loss: 1.2639294282517668; Val Loss: 0.06938246868733265\n"
     ]
    },
    {
     "data": {
      "application/vnd.jupyter.widget-view+json": {
       "model_id": "d0b18003ce494399b54ee6281970a05d",
       "version_major": 2,
       "version_minor": 0
      },
      "text/plain": [
       "VBox(children=(Label(value='0.001 MB of 0.001 MB uploaded\\r'), FloatProgress(value=1.0, max=1.0)))"
      ]
     },
     "metadata": {},
     "output_type": "display_data"
    },
    {
     "data": {
      "text/html": [
       "<style>\n",
       "    table.wandb td:nth-child(1) { padding: 0 10px; text-align: left ; width: auto;} td:nth-child(2) {text-align: left ; width: 100%}\n",
       "    .wandb-row { display: flex; flex-direction: row; flex-wrap: wrap; justify-content: flex-start; width: 100% }\n",
       "    .wandb-col { display: flex; flex-direction: column; flex-basis: 100%; flex: 1; padding: 10px; }\n",
       "    </style>\n",
       "<div class=\"wandb-row\"><div class=\"wandb-col\"><h3>Run history:</h3><br/><table class=\"wandb\"><tr><td>epoch</td><td>▁▁▁▁▂▂▂▂▃▃▃▃▃▃▃▃▄▄▄▄▅▅▅▅▆▆▆▆▆▆▆▆▇▇▇▇████</td></tr><tr><td>train_accuracy</td><td>▁▅▆▅▄▆▆▆▆▅▅▅▆▆▅▆▆▆▅▇▆▆▆▆▅▆▇▆▆▅▇▇▅█▆▅▆▆▆▇</td></tr><tr><td>train_loss</td><td>██▇▇▆▆▆▆▅▅▅▅▄▄▄▄▄▃▃▃▃▃▃▃▃▂▂▂▂▂▂▂▂▁▁▁▁▁▁▁</td></tr><tr><td>val_accuracy</td><td>▁▅▅▆▆▆▆▆▇▇▇▇▇▇▇▇▇▇▇▇████████████████████</td></tr><tr><td>validation_loss</td><td>█▆▅▄▄▃▃▃▃▂▂▂▂▂▂▂▂▂▂▂▁▁▁▁▁▁▁▁▁▁▁▁▁▁▁▁▁▁▁▁</td></tr></table><br/></div><div class=\"wandb-col\"><h3>Run summary:</h3><br/><table class=\"wandb\"><tr><td>epoch</td><td>10</td></tr><tr><td>train_accuracy</td><td>100.0</td></tr><tr><td>train_loss</td><td>1.26393</td></tr><tr><td>val_accuracy</td><td>80.91667</td></tr><tr><td>validation_loss</td><td>0.06938</td></tr></table><br/></div></div>"
      ],
      "text/plain": [
       "<IPython.core.display.HTML object>"
      ]
     },
     "metadata": {},
     "output_type": "display_data"
    },
    {
     "data": {
      "text/html": [
       " View run <strong style=\"color:#cdcd00\">devoted-sweep-58</strong> at: <a href='https://wandb.ai/sumanta_roy/CS6910_assignment_1/runs/7tdjbd61' target=\"_blank\">https://wandb.ai/sumanta_roy/CS6910_assignment_1/runs/7tdjbd61</a><br/>Synced 6 W&B file(s), 0 media file(s), 0 artifact file(s) and 0 other file(s)"
      ],
      "text/plain": [
       "<IPython.core.display.HTML object>"
      ]
     },
     "metadata": {},
     "output_type": "display_data"
    },
    {
     "data": {
      "text/html": [
       "Find logs at: <code>./wandb/run-20240317_100931-7tdjbd61/logs</code>"
      ],
      "text/plain": [
       "<IPython.core.display.HTML object>"
      ]
     },
     "metadata": {},
     "output_type": "display_data"
    },
    {
     "name": "stderr",
     "output_type": "stream",
     "text": [
      "\u001b[34m\u001b[1mwandb\u001b[0m: Agent Starting Run: pdgm8edi with config:\n",
      "\u001b[34m\u001b[1mwandb\u001b[0m: \tactivation: tanh\n",
      "\u001b[34m\u001b[1mwandb\u001b[0m: \tbatch_size: 64\n",
      "\u001b[34m\u001b[1mwandb\u001b[0m: \tepochs: 10\n",
      "\u001b[34m\u001b[1mwandb\u001b[0m: \thidden_layers: 3\n",
      "\u001b[34m\u001b[1mwandb\u001b[0m: \thidden_size: 64\n",
      "\u001b[34m\u001b[1mwandb\u001b[0m: \tloss: cross_entropy\n",
      "\u001b[34m\u001b[1mwandb\u001b[0m: \tlr: 0.0001\n",
      "\u001b[34m\u001b[1mwandb\u001b[0m: \toptimizer: nadam\n",
      "\u001b[34m\u001b[1mwandb\u001b[0m: \tw_init: glorot\n",
      "\u001b[34m\u001b[1mwandb\u001b[0m: \tweight_decay: 0.0005\n"
     ]
    },
    {
     "data": {
      "text/html": [
       "Tracking run with wandb version 0.16.4"
      ],
      "text/plain": [
       "<IPython.core.display.HTML object>"
      ]
     },
     "metadata": {},
     "output_type": "display_data"
    },
    {
     "data": {
      "text/html": [
       "Run data is saved locally in <code>/Users/sumanta/Desktop/Numpy project/cross_entropy_lesspasses/wandb/run-20240317_101105-pdgm8edi</code>"
      ],
      "text/plain": [
       "<IPython.core.display.HTML object>"
      ]
     },
     "metadata": {},
     "output_type": "display_data"
    },
    {
     "data": {
      "text/html": [
       "Syncing run <strong><a href='https://wandb.ai/sumanta_roy/CS6910_assignment_1/runs/pdgm8edi' target=\"_blank\">lively-sweep-59</a></strong> to <a href='https://wandb.ai/sumanta_roy/CS6910_assignment_1' target=\"_blank\">Weights & Biases</a> (<a href='https://wandb.me/run' target=\"_blank\">docs</a>)<br/>Sweep page: <a href='https://wandb.ai/sumanta_roy/CS6910_assignment_1/sweeps/mefq3vzl' target=\"_blank\">https://wandb.ai/sumanta_roy/CS6910_assignment_1/sweeps/mefq3vzl</a>"
      ],
      "text/plain": [
       "<IPython.core.display.HTML object>"
      ]
     },
     "metadata": {},
     "output_type": "display_data"
    },
    {
     "data": {
      "text/html": [
       " View project at <a href='https://wandb.ai/sumanta_roy/CS6910_assignment_1' target=\"_blank\">https://wandb.ai/sumanta_roy/CS6910_assignment_1</a>"
      ],
      "text/plain": [
       "<IPython.core.display.HTML object>"
      ]
     },
     "metadata": {},
     "output_type": "display_data"
    },
    {
     "data": {
      "text/html": [
       " View sweep at <a href='https://wandb.ai/sumanta_roy/CS6910_assignment_1/sweeps/mefq3vzl' target=\"_blank\">https://wandb.ai/sumanta_roy/CS6910_assignment_1/sweeps/mefq3vzl</a>"
      ],
      "text/plain": [
       "<IPython.core.display.HTML object>"
      ]
     },
     "metadata": {},
     "output_type": "display_data"
    },
    {
     "data": {
      "text/html": [
       " View run at <a href='https://wandb.ai/sumanta_roy/CS6910_assignment_1/runs/pdgm8edi' target=\"_blank\">https://wandb.ai/sumanta_roy/CS6910_assignment_1/runs/pdgm8edi</a>"
      ],
      "text/plain": [
       "<IPython.core.display.HTML object>"
      ]
     },
     "metadata": {},
     "output_type": "display_data"
    },
    {
     "name": "stdout",
     "output_type": "stream",
     "text": [
      "Epoch: 1/10; Train Loss: 0.11868480761137679; Val Loss: 0.12140955857078317\n",
      "Epoch: 2/10; Train Loss: 0.0988092487775602; Val Loss: 0.10172531336963749\n",
      "Epoch: 3/10; Train Loss: 0.0871563448189269; Val Loss: 0.0905704117936434\n",
      "Epoch: 4/10; Train Loss: 0.07906318065102887; Val Loss: 0.08291178807229363\n",
      "Epoch: 5/10; Train Loss: 0.07302358704622638; Val Loss: 0.0771503589734315\n",
      "Epoch: 6/10; Train Loss: 0.06837947830304288; Val Loss: 0.07259750307979952\n",
      "Epoch: 7/10; Train Loss: 0.06475256593854467; Val Loss: 0.06888221733840022\n",
      "Epoch: 8/10; Train Loss: 0.06188975584788581; Val Loss: 0.0657824805257222\n",
      "Epoch: 9/10; Train Loss: 0.05960756964443596; Val Loss: 0.06315632993794718\n",
      "Epoch: 10/10; Train Loss: 0.05776788251228742; Val Loss: 0.060907447356667255\n"
     ]
    },
    {
     "data": {
      "application/vnd.jupyter.widget-view+json": {
       "model_id": "90d3c75060784929bf44119aedb34bd2",
       "version_major": 2,
       "version_minor": 0
      },
      "text/plain": [
       "VBox(children=(Label(value='0.001 MB of 0.027 MB uploaded\\r'), FloatProgress(value=0.027328401005345324, max=1…"
      ]
     },
     "metadata": {},
     "output_type": "display_data"
    },
    {
     "data": {
      "text/html": [
       "<style>\n",
       "    table.wandb td:nth-child(1) { padding: 0 10px; text-align: left ; width: auto;} td:nth-child(2) {text-align: left ; width: 100%}\n",
       "    .wandb-row { display: flex; flex-direction: row; flex-wrap: wrap; justify-content: flex-start; width: 100% }\n",
       "    .wandb-col { display: flex; flex-direction: column; flex-basis: 100%; flex: 1; padding: 10px; }\n",
       "    </style>\n",
       "<div class=\"wandb-row\"><div class=\"wandb-col\"><h3>Run history:</h3><br/><table class=\"wandb\"><tr><td>epoch</td><td>▁▁▁▁▂▂▂▂▃▃▃▃▃▃▃▃▄▄▄▄▅▅▅▅▆▆▆▆▆▆▆▆▇▇▇▇████</td></tr><tr><td>train_accuracy</td><td>▁▁▄▆▄▅▃▃▆▅▅▅▆▅▅▄▅▅▆▅█▅▆▆▇▆▇▆▅▆▆▅▆▇▆█▆▇▇▅</td></tr><tr><td>train_loss</td><td>█▇▅▄▅▄▄▄▄▃▄▃▃▃▃▃▃▃▂▃▂▃▂▂▂▂▁▂▂▂▂▂▂▁▂▁▂▁▂▂</td></tr><tr><td>val_accuracy</td><td>▁▃▅▅▅▅▆▆▆▆▆▆▆▇▇▇▇▇▇▇▇▇▇▇▇▇██████████████</td></tr><tr><td>validation_loss</td><td>█▆▅▅▄▄▄▃▃▃▃▃▃▂▂▂▂▂▂▂▂▂▂▂▂▂▁▁▁▁▁▁▁▁▁▁▁▁▁▁</td></tr></table><br/></div><div class=\"wandb-col\"><h3>Run summary:</h3><br/><table class=\"wandb\"><tr><td>epoch</td><td>10</td></tr><tr><td>train_accuracy</td><td>82.8125</td></tr><tr><td>train_loss</td><td>0.05777</td></tr><tr><td>val_accuracy</td><td>80.56667</td></tr><tr><td>validation_loss</td><td>0.06091</td></tr></table><br/></div></div>"
      ],
      "text/plain": [
       "<IPython.core.display.HTML object>"
      ]
     },
     "metadata": {},
     "output_type": "display_data"
    },
    {
     "data": {
      "text/html": [
       " View run <strong style=\"color:#cdcd00\">lively-sweep-59</strong> at: <a href='https://wandb.ai/sumanta_roy/CS6910_assignment_1/runs/pdgm8edi' target=\"_blank\">https://wandb.ai/sumanta_roy/CS6910_assignment_1/runs/pdgm8edi</a><br/>Synced 6 W&B file(s), 0 media file(s), 0 artifact file(s) and 0 other file(s)"
      ],
      "text/plain": [
       "<IPython.core.display.HTML object>"
      ]
     },
     "metadata": {},
     "output_type": "display_data"
    },
    {
     "data": {
      "text/html": [
       "Find logs at: <code>./wandb/run-20240317_101105-pdgm8edi/logs</code>"
      ],
      "text/plain": [
       "<IPython.core.display.HTML object>"
      ]
     },
     "metadata": {},
     "output_type": "display_data"
    },
    {
     "name": "stderr",
     "output_type": "stream",
     "text": [
      "\u001b[34m\u001b[1mwandb\u001b[0m: Sweep Agent: Waiting for job.\n",
      "\u001b[34m\u001b[1mwandb\u001b[0m: Job received.\n",
      "\u001b[34m\u001b[1mwandb\u001b[0m: Agent Starting Run: tlj8x5ey with config:\n",
      "\u001b[34m\u001b[1mwandb\u001b[0m: \tactivation: relu\n",
      "\u001b[34m\u001b[1mwandb\u001b[0m: \tbatch_size: 16\n",
      "\u001b[34m\u001b[1mwandb\u001b[0m: \tepochs: 5\n",
      "\u001b[34m\u001b[1mwandb\u001b[0m: \thidden_layers: 3\n",
      "\u001b[34m\u001b[1mwandb\u001b[0m: \thidden_size: 64\n",
      "\u001b[34m\u001b[1mwandb\u001b[0m: \tloss: cross_entropy\n",
      "\u001b[34m\u001b[1mwandb\u001b[0m: \tlr: 0.001\n",
      "\u001b[34m\u001b[1mwandb\u001b[0m: \toptimizer: rmsprop\n",
      "\u001b[34m\u001b[1mwandb\u001b[0m: \tw_init: glorot\n",
      "\u001b[34m\u001b[1mwandb\u001b[0m: \tweight_decay: 0.0005\n"
     ]
    },
    {
     "data": {
      "text/html": [
       "Tracking run with wandb version 0.16.4"
      ],
      "text/plain": [
       "<IPython.core.display.HTML object>"
      ]
     },
     "metadata": {},
     "output_type": "display_data"
    },
    {
     "data": {
      "text/html": [
       "Run data is saved locally in <code>/Users/sumanta/Desktop/Numpy project/cross_entropy_lesspasses/wandb/run-20240317_101204-tlj8x5ey</code>"
      ],
      "text/plain": [
       "<IPython.core.display.HTML object>"
      ]
     },
     "metadata": {},
     "output_type": "display_data"
    },
    {
     "data": {
      "text/html": [
       "Syncing run <strong><a href='https://wandb.ai/sumanta_roy/CS6910_assignment_1/runs/tlj8x5ey' target=\"_blank\">pious-sweep-60</a></strong> to <a href='https://wandb.ai/sumanta_roy/CS6910_assignment_1' target=\"_blank\">Weights & Biases</a> (<a href='https://wandb.me/run' target=\"_blank\">docs</a>)<br/>Sweep page: <a href='https://wandb.ai/sumanta_roy/CS6910_assignment_1/sweeps/mefq3vzl' target=\"_blank\">https://wandb.ai/sumanta_roy/CS6910_assignment_1/sweeps/mefq3vzl</a>"
      ],
      "text/plain": [
       "<IPython.core.display.HTML object>"
      ]
     },
     "metadata": {},
     "output_type": "display_data"
    },
    {
     "data": {
      "text/html": [
       " View project at <a href='https://wandb.ai/sumanta_roy/CS6910_assignment_1' target=\"_blank\">https://wandb.ai/sumanta_roy/CS6910_assignment_1</a>"
      ],
      "text/plain": [
       "<IPython.core.display.HTML object>"
      ]
     },
     "metadata": {},
     "output_type": "display_data"
    },
    {
     "data": {
      "text/html": [
       " View sweep at <a href='https://wandb.ai/sumanta_roy/CS6910_assignment_1/sweeps/mefq3vzl' target=\"_blank\">https://wandb.ai/sumanta_roy/CS6910_assignment_1/sweeps/mefq3vzl</a>"
      ],
      "text/plain": [
       "<IPython.core.display.HTML object>"
      ]
     },
     "metadata": {},
     "output_type": "display_data"
    },
    {
     "data": {
      "text/html": [
       " View run at <a href='https://wandb.ai/sumanta_roy/CS6910_assignment_1/runs/tlj8x5ey' target=\"_blank\">https://wandb.ai/sumanta_roy/CS6910_assignment_1/runs/tlj8x5ey</a>"
      ],
      "text/plain": [
       "<IPython.core.display.HTML object>"
      ]
     },
     "metadata": {},
     "output_type": "display_data"
    },
    {
     "name": "stdout",
     "output_type": "stream",
     "text": [
      "Epoch: 1/5; Train Loss: 0.01611057373753342; Val Loss: 0.039592044785819985\n",
      "Epoch: 2/5; Train Loss: 0.014581902087228212; Val Loss: 0.036243793542517\n",
      "Epoch: 3/5; Train Loss: 0.015203545051151537; Val Loss: 0.03456571578170455\n",
      "Epoch: 4/5; Train Loss: 0.01186176767683256; Val Loss: 0.03557627570908277\n",
      "Epoch: 5/5; Train Loss: 0.01562586240809884; Val Loss: 0.03715271053289406\n"
     ]
    },
    {
     "data": {
      "application/vnd.jupyter.widget-view+json": {
       "model_id": "af3111f0890045a88357af8cb1514f4c",
       "version_major": 2,
       "version_minor": 0
      },
      "text/plain": [
       "VBox(children=(Label(value='0.001 MB of 0.027 MB uploaded\\r'), FloatProgress(value=0.02770500628027992, max=1.…"
      ]
     },
     "metadata": {},
     "output_type": "display_data"
    },
    {
     "data": {
      "text/html": [
       "<style>\n",
       "    table.wandb td:nth-child(1) { padding: 0 10px; text-align: left ; width: auto;} td:nth-child(2) {text-align: left ; width: 100%}\n",
       "    .wandb-row { display: flex; flex-direction: row; flex-wrap: wrap; justify-content: flex-start; width: 100% }\n",
       "    .wandb-col { display: flex; flex-direction: column; flex-basis: 100%; flex: 1; padding: 10px; }\n",
       "    </style>\n",
       "<div class=\"wandb-row\"><div class=\"wandb-col\"><h3>Run history:</h3><br/><table class=\"wandb\"><tr><td>epoch</td><td>▁▁▁▁▁▁▁▁▃▃▃▃▃▃▃▃▅▅▅▅▅▅▅▅▆▆▆▆▆▆▆▆████████</td></tr><tr><td>train_accuracy</td><td>▁▂▅▇▄▂▇▄▅▄▅█▄▄▇▇▇▅▄▅▅▂█▂▅▅▇▇▅█▅▇▅▅▇█▇▇▇▇</td></tr><tr><td>train_loss</td><td>█▅▃▂▄▄▂▄▃▃▃▂▂▄▂▂▂▂▂▄▃▅▁▄▃▄▃▂▂▁▂▂▃▂▂▁▁▂▂▃</td></tr><tr><td>val_accuracy</td><td>▁▄▆▆▇▇▇▇▇▇▆▇▇▇▇▇█▇▇█▇▇▇███▇██▇████▇██▇██</td></tr><tr><td>validation_loss</td><td>█▄▃▃▂▂▂▂▂▁▂▁▁▁▁▁▁▁▂▁▂▁▁▁▁▁▁▁▁▁▁▁▁▁▁▁▁▁▁▁</td></tr></table><br/></div><div class=\"wandb-col\"><h3>Run summary:</h3><br/><table class=\"wandb\"><tr><td>epoch</td><td>5</td></tr><tr><td>train_accuracy</td><td>100.0</td></tr><tr><td>train_loss</td><td>0.01563</td></tr><tr><td>val_accuracy</td><td>87.48333</td></tr><tr><td>validation_loss</td><td>0.03715</td></tr></table><br/></div></div>"
      ],
      "text/plain": [
       "<IPython.core.display.HTML object>"
      ]
     },
     "metadata": {},
     "output_type": "display_data"
    },
    {
     "data": {
      "text/html": [
       " View run <strong style=\"color:#cdcd00\">pious-sweep-60</strong> at: <a href='https://wandb.ai/sumanta_roy/CS6910_assignment_1/runs/tlj8x5ey' target=\"_blank\">https://wandb.ai/sumanta_roy/CS6910_assignment_1/runs/tlj8x5ey</a><br/>Synced 6 W&B file(s), 0 media file(s), 0 artifact file(s) and 0 other file(s)"
      ],
      "text/plain": [
       "<IPython.core.display.HTML object>"
      ]
     },
     "metadata": {},
     "output_type": "display_data"
    },
    {
     "data": {
      "text/html": [
       "Find logs at: <code>./wandb/run-20240317_101204-tlj8x5ey/logs</code>"
      ],
      "text/plain": [
       "<IPython.core.display.HTML object>"
      ]
     },
     "metadata": {},
     "output_type": "display_data"
    },
    {
     "name": "stderr",
     "output_type": "stream",
     "text": [
      "\u001b[34m\u001b[1mwandb\u001b[0m: Agent Starting Run: 92na3lnk with config:\n",
      "\u001b[34m\u001b[1mwandb\u001b[0m: \tactivation: tanh\n",
      "\u001b[34m\u001b[1mwandb\u001b[0m: \tbatch_size: 64\n",
      "\u001b[34m\u001b[1mwandb\u001b[0m: \tepochs: 10\n",
      "\u001b[34m\u001b[1mwandb\u001b[0m: \thidden_layers: 3\n",
      "\u001b[34m\u001b[1mwandb\u001b[0m: \thidden_size: 64\n",
      "\u001b[34m\u001b[1mwandb\u001b[0m: \tloss: cross_entropy\n",
      "\u001b[34m\u001b[1mwandb\u001b[0m: \tlr: 0.001\n",
      "\u001b[34m\u001b[1mwandb\u001b[0m: \toptimizer: nadam\n",
      "\u001b[34m\u001b[1mwandb\u001b[0m: \tw_init: glorot\n",
      "\u001b[34m\u001b[1mwandb\u001b[0m: \tweight_decay: 0\n"
     ]
    },
    {
     "data": {
      "text/html": [
       "Tracking run with wandb version 0.16.4"
      ],
      "text/plain": [
       "<IPython.core.display.HTML object>"
      ]
     },
     "metadata": {},
     "output_type": "display_data"
    },
    {
     "data": {
      "text/html": [
       "Run data is saved locally in <code>/Users/sumanta/Desktop/Numpy project/cross_entropy_lesspasses/wandb/run-20240317_101242-92na3lnk</code>"
      ],
      "text/plain": [
       "<IPython.core.display.HTML object>"
      ]
     },
     "metadata": {},
     "output_type": "display_data"
    },
    {
     "data": {
      "text/html": [
       "Syncing run <strong><a href='https://wandb.ai/sumanta_roy/CS6910_assignment_1/runs/92na3lnk' target=\"_blank\">silver-sweep-61</a></strong> to <a href='https://wandb.ai/sumanta_roy/CS6910_assignment_1' target=\"_blank\">Weights & Biases</a> (<a href='https://wandb.me/run' target=\"_blank\">docs</a>)<br/>Sweep page: <a href='https://wandb.ai/sumanta_roy/CS6910_assignment_1/sweeps/mefq3vzl' target=\"_blank\">https://wandb.ai/sumanta_roy/CS6910_assignment_1/sweeps/mefq3vzl</a>"
      ],
      "text/plain": [
       "<IPython.core.display.HTML object>"
      ]
     },
     "metadata": {},
     "output_type": "display_data"
    },
    {
     "data": {
      "text/html": [
       " View project at <a href='https://wandb.ai/sumanta_roy/CS6910_assignment_1' target=\"_blank\">https://wandb.ai/sumanta_roy/CS6910_assignment_1</a>"
      ],
      "text/plain": [
       "<IPython.core.display.HTML object>"
      ]
     },
     "metadata": {},
     "output_type": "display_data"
    },
    {
     "data": {
      "text/html": [
       " View sweep at <a href='https://wandb.ai/sumanta_roy/CS6910_assignment_1/sweeps/mefq3vzl' target=\"_blank\">https://wandb.ai/sumanta_roy/CS6910_assignment_1/sweeps/mefq3vzl</a>"
      ],
      "text/plain": [
       "<IPython.core.display.HTML object>"
      ]
     },
     "metadata": {},
     "output_type": "display_data"
    },
    {
     "data": {
      "text/html": [
       " View run at <a href='https://wandb.ai/sumanta_roy/CS6910_assignment_1/runs/92na3lnk' target=\"_blank\">https://wandb.ai/sumanta_roy/CS6910_assignment_1/runs/92na3lnk</a>"
      ],
      "text/plain": [
       "<IPython.core.display.HTML object>"
      ]
     },
     "metadata": {},
     "output_type": "display_data"
    },
    {
     "name": "stdout",
     "output_type": "stream",
     "text": [
      "Epoch: 1/10; Train Loss: 0.05282788024978489; Val Loss: 0.05071705479028735\n",
      "Epoch: 2/10; Train Loss: 0.04682871682149455; Val Loss: 0.045020133821522174\n",
      "Epoch: 3/10; Train Loss: 0.043285537919243444; Val Loss: 0.04249796567291855\n",
      "Epoch: 4/10; Train Loss: 0.040581381472084246; Val Loss: 0.04091130782532604\n",
      "Epoch: 5/10; Train Loss: 0.03836505727369466; Val Loss: 0.03975998616007543\n",
      "Epoch: 6/10; Train Loss: 0.036522348786410974; Val Loss: 0.03885959649293717\n",
      "Epoch: 7/10; Train Loss: 0.034980716671943725; Val Loss: 0.03812258781491314\n",
      "Epoch: 8/10; Train Loss: 0.03368191780840307; Val Loss: 0.03750146045642564\n",
      "Epoch: 9/10; Train Loss: 0.032576186080761994; Val Loss: 0.03696653872241771\n",
      "Epoch: 10/10; Train Loss: 0.031620331047795214; Val Loss: 0.03649820733853634\n"
     ]
    },
    {
     "data": {
      "application/vnd.jupyter.widget-view+json": {
       "model_id": "c1d00609891b4e05b14d196bf7be8130",
       "version_major": 2,
       "version_minor": 0
      },
      "text/plain": [
       "VBox(children=(Label(value='0.001 MB of 0.001 MB uploaded\\r'), FloatProgress(value=1.0, max=1.0)))"
      ]
     },
     "metadata": {},
     "output_type": "display_data"
    },
    {
     "data": {
      "text/html": [
       "<style>\n",
       "    table.wandb td:nth-child(1) { padding: 0 10px; text-align: left ; width: auto;} td:nth-child(2) {text-align: left ; width: 100%}\n",
       "    .wandb-row { display: flex; flex-direction: row; flex-wrap: wrap; justify-content: flex-start; width: 100% }\n",
       "    .wandb-col { display: flex; flex-direction: column; flex-basis: 100%; flex: 1; padding: 10px; }\n",
       "    </style>\n",
       "<div class=\"wandb-row\"><div class=\"wandb-col\"><h3>Run history:</h3><br/><table class=\"wandb\"><tr><td>epoch</td><td>▁▁▁▁▂▂▂▂▃▃▃▃▃▃▃▃▄▄▄▄▅▅▅▅▆▆▆▆▆▆▆▆▇▇▇▇████</td></tr><tr><td>train_accuracy</td><td>▂▁▅▅▆▅▅▅▇▄▆▄▇▇▆▅▅▅▆▆▆▇▆▆▇▇▇▆▇▇▆▅▅█▅▇▆█▇▇</td></tr><tr><td>train_loss</td><td>█▇▄▄▄▄▄▅▃▅▃▄▂▃▃▅▃▃▃▃▃▂▃▃▂▂▂▂▂▃▃▃▃▁▃▂▃▁▂▃</td></tr><tr><td>val_accuracy</td><td>▁▄▅▆▆▇▇▇▇▇▇▇▇▇▇▇▇▇▇▇█▇█▇████████████████</td></tr><tr><td>validation_loss</td><td>█▅▄▃▃▃▂▂▂▂▂▂▂▂▂▂▂▁▁▁▁▁▁▁▁▁▁▁▁▁▁▁▁▁▁▁▁▁▁▁</td></tr></table><br/></div><div class=\"wandb-col\"><h3>Run summary:</h3><br/><table class=\"wandb\"><tr><td>epoch</td><td>10</td></tr><tr><td>train_accuracy</td><td>93.75</td></tr><tr><td>train_loss</td><td>0.03162</td></tr><tr><td>val_accuracy</td><td>87.03333</td></tr><tr><td>validation_loss</td><td>0.0365</td></tr></table><br/></div></div>"
      ],
      "text/plain": [
       "<IPython.core.display.HTML object>"
      ]
     },
     "metadata": {},
     "output_type": "display_data"
    },
    {
     "data": {
      "text/html": [
       " View run <strong style=\"color:#cdcd00\">silver-sweep-61</strong> at: <a href='https://wandb.ai/sumanta_roy/CS6910_assignment_1/runs/92na3lnk' target=\"_blank\">https://wandb.ai/sumanta_roy/CS6910_assignment_1/runs/92na3lnk</a><br/>Synced 6 W&B file(s), 0 media file(s), 0 artifact file(s) and 0 other file(s)"
      ],
      "text/plain": [
       "<IPython.core.display.HTML object>"
      ]
     },
     "metadata": {},
     "output_type": "display_data"
    },
    {
     "data": {
      "text/html": [
       "Find logs at: <code>./wandb/run-20240317_101242-92na3lnk/logs</code>"
      ],
      "text/plain": [
       "<IPython.core.display.HTML object>"
      ]
     },
     "metadata": {},
     "output_type": "display_data"
    },
    {
     "name": "stderr",
     "output_type": "stream",
     "text": [
      "\u001b[34m\u001b[1mwandb\u001b[0m: Agent Starting Run: eux0vniy with config:\n",
      "\u001b[34m\u001b[1mwandb\u001b[0m: \tactivation: tanh\n",
      "\u001b[34m\u001b[1mwandb\u001b[0m: \tbatch_size: 16\n",
      "\u001b[34m\u001b[1mwandb\u001b[0m: \tepochs: 10\n",
      "\u001b[34m\u001b[1mwandb\u001b[0m: \thidden_layers: 3\n",
      "\u001b[34m\u001b[1mwandb\u001b[0m: \thidden_size: 64\n",
      "\u001b[34m\u001b[1mwandb\u001b[0m: \tloss: cross_entropy\n",
      "\u001b[34m\u001b[1mwandb\u001b[0m: \tlr: 0.0001\n",
      "\u001b[34m\u001b[1mwandb\u001b[0m: \toptimizer: nesterov\n",
      "\u001b[34m\u001b[1mwandb\u001b[0m: \tw_init: glorot\n",
      "\u001b[34m\u001b[1mwandb\u001b[0m: \tweight_decay: 0.0005\n"
     ]
    },
    {
     "data": {
      "text/html": [
       "Tracking run with wandb version 0.16.4"
      ],
      "text/plain": [
       "<IPython.core.display.HTML object>"
      ]
     },
     "metadata": {},
     "output_type": "display_data"
    },
    {
     "data": {
      "text/html": [
       "Run data is saved locally in <code>/Users/sumanta/Desktop/Numpy project/cross_entropy_lesspasses/wandb/run-20240317_101335-eux0vniy</code>"
      ],
      "text/plain": [
       "<IPython.core.display.HTML object>"
      ]
     },
     "metadata": {},
     "output_type": "display_data"
    },
    {
     "data": {
      "text/html": [
       "Syncing run <strong><a href='https://wandb.ai/sumanta_roy/CS6910_assignment_1/runs/eux0vniy' target=\"_blank\">twilight-sweep-62</a></strong> to <a href='https://wandb.ai/sumanta_roy/CS6910_assignment_1' target=\"_blank\">Weights & Biases</a> (<a href='https://wandb.me/run' target=\"_blank\">docs</a>)<br/>Sweep page: <a href='https://wandb.ai/sumanta_roy/CS6910_assignment_1/sweeps/mefq3vzl' target=\"_blank\">https://wandb.ai/sumanta_roy/CS6910_assignment_1/sweeps/mefq3vzl</a>"
      ],
      "text/plain": [
       "<IPython.core.display.HTML object>"
      ]
     },
     "metadata": {},
     "output_type": "display_data"
    },
    {
     "data": {
      "text/html": [
       " View project at <a href='https://wandb.ai/sumanta_roy/CS6910_assignment_1' target=\"_blank\">https://wandb.ai/sumanta_roy/CS6910_assignment_1</a>"
      ],
      "text/plain": [
       "<IPython.core.display.HTML object>"
      ]
     },
     "metadata": {},
     "output_type": "display_data"
    },
    {
     "data": {
      "text/html": [
       " View sweep at <a href='https://wandb.ai/sumanta_roy/CS6910_assignment_1/sweeps/mefq3vzl' target=\"_blank\">https://wandb.ai/sumanta_roy/CS6910_assignment_1/sweeps/mefq3vzl</a>"
      ],
      "text/plain": [
       "<IPython.core.display.HTML object>"
      ]
     },
     "metadata": {},
     "output_type": "display_data"
    },
    {
     "data": {
      "text/html": [
       " View run at <a href='https://wandb.ai/sumanta_roy/CS6910_assignment_1/runs/eux0vniy' target=\"_blank\">https://wandb.ai/sumanta_roy/CS6910_assignment_1/runs/eux0vniy</a>"
      ],
      "text/plain": [
       "<IPython.core.display.HTML object>"
      ]
     },
     "metadata": {},
     "output_type": "display_data"
    },
    {
     "name": "stdout",
     "output_type": "stream",
     "text": [
      "Epoch: 1/10; Train Loss: 0.05645473952934693; Val Loss: 0.08191654640525224\n",
      "Epoch: 2/10; Train Loss: 0.03644145666377702; Val Loss: 0.0655063527065235\n",
      "Epoch: 3/10; Train Loss: 0.02915564972127314; Val Loss: 0.05737304452442414\n",
      "Epoch: 4/10; Train Loss: 0.026224530791908677; Val Loss: 0.052612488942773934\n",
      "Epoch: 5/10; Train Loss: 0.02472372591632785; Val Loss: 0.04963074593282948\n",
      "Epoch: 6/10; Train Loss: 0.023750679100721327; Val Loss: 0.04761193127058154\n",
      "Epoch: 7/10; Train Loss: 0.02303577851855287; Val Loss: 0.046136018156424534\n",
      "Epoch: 8/10; Train Loss: 0.02247777577173253; Val Loss: 0.04498725752544714\n",
      "Epoch: 9/10; Train Loss: 0.022023277587501073; Val Loss: 0.04405120449847357\n",
      "Epoch: 10/10; Train Loss: 0.02163787903390334; Val Loss: 0.04326353387862153\n"
     ]
    },
    {
     "data": {
      "application/vnd.jupyter.widget-view+json": {
       "model_id": "9a4d7d4d6c7a46199ab0df417547f9ba",
       "version_major": 2,
       "version_minor": 0
      },
      "text/plain": [
       "VBox(children=(Label(value='0.001 MB of 0.001 MB uploaded\\r'), FloatProgress(value=1.0, max=1.0)))"
      ]
     },
     "metadata": {},
     "output_type": "display_data"
    },
    {
     "data": {
      "text/html": [
       "<style>\n",
       "    table.wandb td:nth-child(1) { padding: 0 10px; text-align: left ; width: auto;} td:nth-child(2) {text-align: left ; width: 100%}\n",
       "    .wandb-row { display: flex; flex-direction: row; flex-wrap: wrap; justify-content: flex-start; width: 100% }\n",
       "    .wandb-col { display: flex; flex-direction: column; flex-basis: 100%; flex: 1; padding: 10px; }\n",
       "    </style>\n",
       "<div class=\"wandb-row\"><div class=\"wandb-col\"><h3>Run history:</h3><br/><table class=\"wandb\"><tr><td>epoch</td><td>▁▁▁▁▂▂▂▂▃▃▃▃▃▃▃▃▄▄▄▄▅▅▅▅▆▆▆▆▆▆▆▆▇▇▇▇████</td></tr><tr><td>train_accuracy</td><td>▁▃▅▅▄▇▆▆▅▅▅▇▆▆▅▆▅▇▆█▆▆▆▇▅▅▇▅▄▄▆▇▇▇█▆▅▆▆▇</td></tr><tr><td>train_loss</td><td>█▆▃▃▄▂▃▂▂▃▃▂▂▃▃▂▃▂▂▁▂▂▂▂▄▃▂▂▃▃▁▁▂▁▁▂▂▂▃▁</td></tr><tr><td>val_accuracy</td><td>▁▄▅▅▆▆▆▇▇▇▇▇▇▇▇▇▇███████████████████████</td></tr><tr><td>validation_loss</td><td>█▅▄▃▃▃▂▂▂▂▂▂▂▂▂▁▁▁▁▁▁▁▁▁▁▁▁▁▁▁▁▁▁▁▁▁▁▁▁▁</td></tr></table><br/></div><div class=\"wandb-col\"><h3>Run summary:</h3><br/><table class=\"wandb\"><tr><td>epoch</td><td>10</td></tr><tr><td>train_accuracy</td><td>87.5</td></tr><tr><td>train_loss</td><td>0.02164</td></tr><tr><td>val_accuracy</td><td>85.23333</td></tr><tr><td>validation_loss</td><td>0.04326</td></tr></table><br/></div></div>"
      ],
      "text/plain": [
       "<IPython.core.display.HTML object>"
      ]
     },
     "metadata": {},
     "output_type": "display_data"
    },
    {
     "data": {
      "text/html": [
       " View run <strong style=\"color:#cdcd00\">twilight-sweep-62</strong> at: <a href='https://wandb.ai/sumanta_roy/CS6910_assignment_1/runs/eux0vniy' target=\"_blank\">https://wandb.ai/sumanta_roy/CS6910_assignment_1/runs/eux0vniy</a><br/>Synced 6 W&B file(s), 0 media file(s), 0 artifact file(s) and 0 other file(s)"
      ],
      "text/plain": [
       "<IPython.core.display.HTML object>"
      ]
     },
     "metadata": {},
     "output_type": "display_data"
    },
    {
     "data": {
      "text/html": [
       "Find logs at: <code>./wandb/run-20240317_101335-eux0vniy/logs</code>"
      ],
      "text/plain": [
       "<IPython.core.display.HTML object>"
      ]
     },
     "metadata": {},
     "output_type": "display_data"
    },
    {
     "name": "stderr",
     "output_type": "stream",
     "text": [
      "\u001b[34m\u001b[1mwandb\u001b[0m: Agent Starting Run: y3ls67hw with config:\n",
      "\u001b[34m\u001b[1mwandb\u001b[0m: \tactivation: tanh\n",
      "\u001b[34m\u001b[1mwandb\u001b[0m: \tbatch_size: 16\n",
      "\u001b[34m\u001b[1mwandb\u001b[0m: \tepochs: 10\n",
      "\u001b[34m\u001b[1mwandb\u001b[0m: \thidden_layers: 3\n",
      "\u001b[34m\u001b[1mwandb\u001b[0m: \thidden_size: 32\n",
      "\u001b[34m\u001b[1mwandb\u001b[0m: \tloss: cross_entropy\n",
      "\u001b[34m\u001b[1mwandb\u001b[0m: \tlr: 0.0001\n",
      "\u001b[34m\u001b[1mwandb\u001b[0m: \toptimizer: adam\n",
      "\u001b[34m\u001b[1mwandb\u001b[0m: \tw_init: glorot\n",
      "\u001b[34m\u001b[1mwandb\u001b[0m: \tweight_decay: 0\n"
     ]
    },
    {
     "data": {
      "text/html": [
       "Tracking run with wandb version 0.16.4"
      ],
      "text/plain": [
       "<IPython.core.display.HTML object>"
      ]
     },
     "metadata": {},
     "output_type": "display_data"
    },
    {
     "data": {
      "text/html": [
       "Run data is saved locally in <code>/Users/sumanta/Desktop/Numpy project/cross_entropy_lesspasses/wandb/run-20240317_101505-y3ls67hw</code>"
      ],
      "text/plain": [
       "<IPython.core.display.HTML object>"
      ]
     },
     "metadata": {},
     "output_type": "display_data"
    },
    {
     "data": {
      "text/html": [
       "Syncing run <strong><a href='https://wandb.ai/sumanta_roy/CS6910_assignment_1/runs/y3ls67hw' target=\"_blank\">earthy-sweep-63</a></strong> to <a href='https://wandb.ai/sumanta_roy/CS6910_assignment_1' target=\"_blank\">Weights & Biases</a> (<a href='https://wandb.me/run' target=\"_blank\">docs</a>)<br/>Sweep page: <a href='https://wandb.ai/sumanta_roy/CS6910_assignment_1/sweeps/mefq3vzl' target=\"_blank\">https://wandb.ai/sumanta_roy/CS6910_assignment_1/sweeps/mefq3vzl</a>"
      ],
      "text/plain": [
       "<IPython.core.display.HTML object>"
      ]
     },
     "metadata": {},
     "output_type": "display_data"
    },
    {
     "data": {
      "text/html": [
       " View project at <a href='https://wandb.ai/sumanta_roy/CS6910_assignment_1' target=\"_blank\">https://wandb.ai/sumanta_roy/CS6910_assignment_1</a>"
      ],
      "text/plain": [
       "<IPython.core.display.HTML object>"
      ]
     },
     "metadata": {},
     "output_type": "display_data"
    },
    {
     "data": {
      "text/html": [
       " View sweep at <a href='https://wandb.ai/sumanta_roy/CS6910_assignment_1/sweeps/mefq3vzl' target=\"_blank\">https://wandb.ai/sumanta_roy/CS6910_assignment_1/sweeps/mefq3vzl</a>"
      ],
      "text/plain": [
       "<IPython.core.display.HTML object>"
      ]
     },
     "metadata": {},
     "output_type": "display_data"
    },
    {
     "data": {
      "text/html": [
       " View run at <a href='https://wandb.ai/sumanta_roy/CS6910_assignment_1/runs/y3ls67hw' target=\"_blank\">https://wandb.ai/sumanta_roy/CS6910_assignment_1/runs/y3ls67hw</a>"
      ],
      "text/plain": [
       "<IPython.core.display.HTML object>"
      ]
     },
     "metadata": {},
     "output_type": "display_data"
    },
    {
     "name": "stdout",
     "output_type": "stream",
     "text": [
      "Epoch: 1/10; Train Loss: 0.03522453165157381; Val Loss: 0.07410598893967665\n",
      "Epoch: 2/10; Train Loss: 0.020770788158550317; Val Loss: 0.058323348391936716\n",
      "Epoch: 3/10; Train Loss: 0.015676574548125904; Val Loss: 0.05150101541988324\n",
      "Epoch: 4/10; Train Loss: 0.013187411303618507; Val Loss: 0.04773464660764098\n",
      "Epoch: 5/10; Train Loss: 0.011872053544578097; Val Loss: 0.045304758556361686\n",
      "Epoch: 6/10; Train Loss: 0.01117384312176195; Val Loss: 0.043584520952069536\n",
      "Epoch: 7/10; Train Loss: 0.010790068212155269; Val Loss: 0.04230103834319954\n",
      "Epoch: 8/10; Train Loss: 0.010540922370936737; Val Loss: 0.0413046164929778\n",
      "Epoch: 9/10; Train Loss: 0.01034104994141138; Val Loss: 0.040502153997436195\n",
      "Epoch: 10/10; Train Loss: 0.010164761460377716; Val Loss: 0.03983494836948534\n"
     ]
    },
    {
     "data": {
      "application/vnd.jupyter.widget-view+json": {
       "model_id": "2ceac23884204c1b89134c0cc2ea65fc",
       "version_major": 2,
       "version_minor": 0
      },
      "text/plain": [
       "VBox(children=(Label(value='0.001 MB of 0.001 MB uploaded\\r'), FloatProgress(value=1.0, max=1.0)))"
      ]
     },
     "metadata": {},
     "output_type": "display_data"
    },
    {
     "data": {
      "text/html": [
       "<style>\n",
       "    table.wandb td:nth-child(1) { padding: 0 10px; text-align: left ; width: auto;} td:nth-child(2) {text-align: left ; width: 100%}\n",
       "    .wandb-row { display: flex; flex-direction: row; flex-wrap: wrap; justify-content: flex-start; width: 100% }\n",
       "    .wandb-col { display: flex; flex-direction: column; flex-basis: 100%; flex: 1; padding: 10px; }\n",
       "    </style>\n",
       "<div class=\"wandb-row\"><div class=\"wandb-col\"><h3>Run history:</h3><br/><table class=\"wandb\"><tr><td>epoch</td><td>▁▁▁▁▂▂▂▂▃▃▃▃▃▃▃▃▄▄▄▄▅▅▅▅▆▆▆▆▆▆▆▆▇▇▇▇████</td></tr><tr><td>train_accuracy</td><td>▁▁▆▄▂▆▆▆▆▄▄▆▅▄▄▅▅▇▆▇▅▅▆▅▄▅▅▅▄▄▆▆▆█▇▄▅▆▅▇</td></tr><tr><td>train_loss</td><td>█▆▃▃▄▃▃▂▂▃▃▁▂▃▄▂▃▂▂▁▂▃▂▂▃▃▂▂▄▃▁▂▂▁▁▂▃▂▃▁</td></tr><tr><td>val_accuracy</td><td>▁▃▄▅▅▅▆▆▆▇▇▇▇▇▇▇▇▇▇▇████████████████████</td></tr><tr><td>validation_loss</td><td>█▆▄▄▃▃▃▂▂▂▂▂▂▂▂▂▂▁▁▁▁▁▁▁▁▁▁▁▁▁▁▁▁▁▁▁▁▁▁▁</td></tr></table><br/></div><div class=\"wandb-col\"><h3>Run summary:</h3><br/><table class=\"wandb\"><tr><td>epoch</td><td>10</td></tr><tr><td>train_accuracy</td><td>100.0</td></tr><tr><td>train_loss</td><td>0.01016</td></tr><tr><td>val_accuracy</td><td>86.33333</td></tr><tr><td>validation_loss</td><td>0.03983</td></tr></table><br/></div></div>"
      ],
      "text/plain": [
       "<IPython.core.display.HTML object>"
      ]
     },
     "metadata": {},
     "output_type": "display_data"
    },
    {
     "data": {
      "text/html": [
       " View run <strong style=\"color:#cdcd00\">earthy-sweep-63</strong> at: <a href='https://wandb.ai/sumanta_roy/CS6910_assignment_1/runs/y3ls67hw' target=\"_blank\">https://wandb.ai/sumanta_roy/CS6910_assignment_1/runs/y3ls67hw</a><br/>Synced 6 W&B file(s), 0 media file(s), 0 artifact file(s) and 0 other file(s)"
      ],
      "text/plain": [
       "<IPython.core.display.HTML object>"
      ]
     },
     "metadata": {},
     "output_type": "display_data"
    },
    {
     "data": {
      "text/html": [
       "Find logs at: <code>./wandb/run-20240317_101505-y3ls67hw/logs</code>"
      ],
      "text/plain": [
       "<IPython.core.display.HTML object>"
      ]
     },
     "metadata": {},
     "output_type": "display_data"
    },
    {
     "name": "stderr",
     "output_type": "stream",
     "text": [
      "\u001b[34m\u001b[1mwandb\u001b[0m: Agent Starting Run: fpe2fpi6 with config:\n",
      "\u001b[34m\u001b[1mwandb\u001b[0m: \tactivation: tanh\n",
      "\u001b[34m\u001b[1mwandb\u001b[0m: \tbatch_size: 16\n",
      "\u001b[34m\u001b[1mwandb\u001b[0m: \tepochs: 10\n",
      "\u001b[34m\u001b[1mwandb\u001b[0m: \thidden_layers: 3\n",
      "\u001b[34m\u001b[1mwandb\u001b[0m: \thidden_size: 32\n",
      "\u001b[34m\u001b[1mwandb\u001b[0m: \tloss: cross_entropy\n",
      "\u001b[34m\u001b[1mwandb\u001b[0m: \tlr: 0.001\n",
      "\u001b[34m\u001b[1mwandb\u001b[0m: \toptimizer: nadam\n",
      "\u001b[34m\u001b[1mwandb\u001b[0m: \tw_init: glorot\n",
      "\u001b[34m\u001b[1mwandb\u001b[0m: \tweight_decay: 0.0005\n"
     ]
    },
    {
     "data": {
      "text/html": [
       "Tracking run with wandb version 0.16.4"
      ],
      "text/plain": [
       "<IPython.core.display.HTML object>"
      ]
     },
     "metadata": {},
     "output_type": "display_data"
    },
    {
     "data": {
      "text/html": [
       "Run data is saved locally in <code>/Users/sumanta/Desktop/Numpy project/cross_entropy_lesspasses/wandb/run-20240317_101606-fpe2fpi6</code>"
      ],
      "text/plain": [
       "<IPython.core.display.HTML object>"
      ]
     },
     "metadata": {},
     "output_type": "display_data"
    },
    {
     "data": {
      "text/html": [
       "Syncing run <strong><a href='https://wandb.ai/sumanta_roy/CS6910_assignment_1/runs/fpe2fpi6' target=\"_blank\">glorious-sweep-64</a></strong> to <a href='https://wandb.ai/sumanta_roy/CS6910_assignment_1' target=\"_blank\">Weights & Biases</a> (<a href='https://wandb.me/run' target=\"_blank\">docs</a>)<br/>Sweep page: <a href='https://wandb.ai/sumanta_roy/CS6910_assignment_1/sweeps/mefq3vzl' target=\"_blank\">https://wandb.ai/sumanta_roy/CS6910_assignment_1/sweeps/mefq3vzl</a>"
      ],
      "text/plain": [
       "<IPython.core.display.HTML object>"
      ]
     },
     "metadata": {},
     "output_type": "display_data"
    },
    {
     "data": {
      "text/html": [
       " View project at <a href='https://wandb.ai/sumanta_roy/CS6910_assignment_1' target=\"_blank\">https://wandb.ai/sumanta_roy/CS6910_assignment_1</a>"
      ],
      "text/plain": [
       "<IPython.core.display.HTML object>"
      ]
     },
     "metadata": {},
     "output_type": "display_data"
    },
    {
     "data": {
      "text/html": [
       " View sweep at <a href='https://wandb.ai/sumanta_roy/CS6910_assignment_1/sweeps/mefq3vzl' target=\"_blank\">https://wandb.ai/sumanta_roy/CS6910_assignment_1/sweeps/mefq3vzl</a>"
      ],
      "text/plain": [
       "<IPython.core.display.HTML object>"
      ]
     },
     "metadata": {},
     "output_type": "display_data"
    },
    {
     "data": {
      "text/html": [
       " View run at <a href='https://wandb.ai/sumanta_roy/CS6910_assignment_1/runs/fpe2fpi6' target=\"_blank\">https://wandb.ai/sumanta_roy/CS6910_assignment_1/runs/fpe2fpi6</a>"
      ],
      "text/plain": [
       "<IPython.core.display.HTML object>"
      ]
     },
     "metadata": {},
     "output_type": "display_data"
    },
    {
     "name": "stdout",
     "output_type": "stream",
     "text": [
      "Epoch: 1/10; Train Loss: 0.021702444730293702; Val Loss: 0.054656246828132936\n",
      "Epoch: 2/10; Train Loss: 0.016057855348460392; Val Loss: 0.04661426907112329\n",
      "Epoch: 3/10; Train Loss: 0.014804024492050972; Val Loss: 0.0430586354808639\n",
      "Epoch: 4/10; Train Loss: 0.014461305371099678; Val Loss: 0.04093938355886853\n",
      "Epoch: 5/10; Train Loss: 0.014325061576244833; Val Loss: 0.03953283078441324\n",
      "Epoch: 6/10; Train Loss: 0.014246777637207518; Val Loss: 0.038529448410107886\n",
      "Epoch: 7/10; Train Loss: 0.014206020266690352; Val Loss: 0.03777160128611468\n",
      "Epoch: 8/10; Train Loss: 0.014194615456484075; Val Loss: 0.037173267204697824\n",
      "Epoch: 9/10; Train Loss: 0.014206317279217347; Val Loss: 0.03668403878507289\n",
      "Epoch: 10/10; Train Loss: 0.01423616630031843; Val Loss: 0.03627231129243938\n"
     ]
    },
    {
     "data": {
      "application/vnd.jupyter.widget-view+json": {
       "model_id": "7d1b1cdab9aa4c46ba208ed45e038d40",
       "version_major": 2,
       "version_minor": 0
      },
      "text/plain": [
       "VBox(children=(Label(value='0.001 MB of 0.001 MB uploaded\\r'), FloatProgress(value=1.0, max=1.0)))"
      ]
     },
     "metadata": {},
     "output_type": "display_data"
    },
    {
     "data": {
      "text/html": [
       "<style>\n",
       "    table.wandb td:nth-child(1) { padding: 0 10px; text-align: left ; width: auto;} td:nth-child(2) {text-align: left ; width: 100%}\n",
       "    .wandb-row { display: flex; flex-direction: row; flex-wrap: wrap; justify-content: flex-start; width: 100% }\n",
       "    .wandb-col { display: flex; flex-direction: column; flex-basis: 100%; flex: 1; padding: 10px; }\n",
       "    </style>\n",
       "<div class=\"wandb-row\"><div class=\"wandb-col\"><h3>Run history:</h3><br/><table class=\"wandb\"><tr><td>epoch</td><td>▁▁▁▁▂▂▂▂▃▃▃▃▃▃▃▃▄▄▄▄▅▅▅▅▆▆▆▆▆▆▆▆▇▇▇▇████</td></tr><tr><td>train_accuracy</td><td>▁▂▇▇▆▇▇█▇▃▅▇▆▆▂▆▂▇▅▇▅▆▆▆▃▅▆▅▅▃▆▆▆▇▆▆▅▆▅▇</td></tr><tr><td>train_loss</td><td>█▆▂▃▃▂▃▁▂▄▄▁▃▃▄▂▄▁▂▁▃▃▃▃▄▄▃▃▄▃▂▂▂▁▁▃▃▂▄▂</td></tr><tr><td>val_accuracy</td><td>▁▄▆▆▆▇▇▇▇▇▇▇▇█▇█████████████████████████</td></tr><tr><td>validation_loss</td><td>█▅▄▃▃▂▂▂▂▂▂▂▂▂▂▁▂▁▁▁▁▁▁▁▁▁▁▁▁▁▁▁▁▁▁▁▁▁▁▁</td></tr></table><br/></div><div class=\"wandb-col\"><h3>Run summary:</h3><br/><table class=\"wandb\"><tr><td>epoch</td><td>10</td></tr><tr><td>train_accuracy</td><td>93.75</td></tr><tr><td>train_loss</td><td>0.01424</td></tr><tr><td>val_accuracy</td><td>87.25</td></tr><tr><td>validation_loss</td><td>0.03627</td></tr></table><br/></div></div>"
      ],
      "text/plain": [
       "<IPython.core.display.HTML object>"
      ]
     },
     "metadata": {},
     "output_type": "display_data"
    },
    {
     "data": {
      "text/html": [
       " View run <strong style=\"color:#cdcd00\">glorious-sweep-64</strong> at: <a href='https://wandb.ai/sumanta_roy/CS6910_assignment_1/runs/fpe2fpi6' target=\"_blank\">https://wandb.ai/sumanta_roy/CS6910_assignment_1/runs/fpe2fpi6</a><br/>Synced 6 W&B file(s), 0 media file(s), 0 artifact file(s) and 0 other file(s)"
      ],
      "text/plain": [
       "<IPython.core.display.HTML object>"
      ]
     },
     "metadata": {},
     "output_type": "display_data"
    },
    {
     "data": {
      "text/html": [
       "Find logs at: <code>./wandb/run-20240317_101606-fpe2fpi6/logs</code>"
      ],
      "text/plain": [
       "<IPython.core.display.HTML object>"
      ]
     },
     "metadata": {},
     "output_type": "display_data"
    },
    {
     "name": "stderr",
     "output_type": "stream",
     "text": [
      "\u001b[34m\u001b[1mwandb\u001b[0m: Agent Starting Run: x5tpuxwg with config:\n",
      "\u001b[34m\u001b[1mwandb\u001b[0m: \tactivation: tanh\n",
      "\u001b[34m\u001b[1mwandb\u001b[0m: \tbatch_size: 16\n",
      "\u001b[34m\u001b[1mwandb\u001b[0m: \tepochs: 10\n",
      "\u001b[34m\u001b[1mwandb\u001b[0m: \thidden_layers: 3\n",
      "\u001b[34m\u001b[1mwandb\u001b[0m: \thidden_size: 32\n",
      "\u001b[34m\u001b[1mwandb\u001b[0m: \tloss: cross_entropy\n",
      "\u001b[34m\u001b[1mwandb\u001b[0m: \tlr: 0.001\n",
      "\u001b[34m\u001b[1mwandb\u001b[0m: \toptimizer: rmsprop\n",
      "\u001b[34m\u001b[1mwandb\u001b[0m: \tw_init: glorot\n",
      "\u001b[34m\u001b[1mwandb\u001b[0m: \tweight_decay: 0.0005\n"
     ]
    },
    {
     "data": {
      "text/html": [
       "Tracking run with wandb version 0.16.4"
      ],
      "text/plain": [
       "<IPython.core.display.HTML object>"
      ]
     },
     "metadata": {},
     "output_type": "display_data"
    },
    {
     "data": {
      "text/html": [
       "Run data is saved locally in <code>/Users/sumanta/Desktop/Numpy project/cross_entropy_lesspasses/wandb/run-20240317_101710-x5tpuxwg</code>"
      ],
      "text/plain": [
       "<IPython.core.display.HTML object>"
      ]
     },
     "metadata": {},
     "output_type": "display_data"
    },
    {
     "data": {
      "text/html": [
       "Syncing run <strong><a href='https://wandb.ai/sumanta_roy/CS6910_assignment_1/runs/x5tpuxwg' target=\"_blank\">lucky-sweep-65</a></strong> to <a href='https://wandb.ai/sumanta_roy/CS6910_assignment_1' target=\"_blank\">Weights & Biases</a> (<a href='https://wandb.me/run' target=\"_blank\">docs</a>)<br/>Sweep page: <a href='https://wandb.ai/sumanta_roy/CS6910_assignment_1/sweeps/mefq3vzl' target=\"_blank\">https://wandb.ai/sumanta_roy/CS6910_assignment_1/sweeps/mefq3vzl</a>"
      ],
      "text/plain": [
       "<IPython.core.display.HTML object>"
      ]
     },
     "metadata": {},
     "output_type": "display_data"
    },
    {
     "data": {
      "text/html": [
       " View project at <a href='https://wandb.ai/sumanta_roy/CS6910_assignment_1' target=\"_blank\">https://wandb.ai/sumanta_roy/CS6910_assignment_1</a>"
      ],
      "text/plain": [
       "<IPython.core.display.HTML object>"
      ]
     },
     "metadata": {},
     "output_type": "display_data"
    },
    {
     "data": {
      "text/html": [
       " View sweep at <a href='https://wandb.ai/sumanta_roy/CS6910_assignment_1/sweeps/mefq3vzl' target=\"_blank\">https://wandb.ai/sumanta_roy/CS6910_assignment_1/sweeps/mefq3vzl</a>"
      ],
      "text/plain": [
       "<IPython.core.display.HTML object>"
      ]
     },
     "metadata": {},
     "output_type": "display_data"
    },
    {
     "data": {
      "text/html": [
       " View run at <a href='https://wandb.ai/sumanta_roy/CS6910_assignment_1/runs/x5tpuxwg' target=\"_blank\">https://wandb.ai/sumanta_roy/CS6910_assignment_1/runs/x5tpuxwg</a>"
      ],
      "text/plain": [
       "<IPython.core.display.HTML object>"
      ]
     },
     "metadata": {},
     "output_type": "display_data"
    },
    {
     "name": "stdout",
     "output_type": "stream",
     "text": [
      "Epoch: 1/10; Train Loss: 0.01515594922436763; Val Loss: 0.04113218160872353\n",
      "Epoch: 2/10; Train Loss: 0.015158245653403247; Val Loss: 0.03771970541750823\n",
      "Epoch: 3/10; Train Loss: 0.01548875995860094; Val Loss: 0.036457290672251265\n",
      "Epoch: 4/10; Train Loss: 0.014781367539802602; Val Loss: 0.035486170827422295\n",
      "Epoch: 5/10; Train Loss: 0.015082452487034034; Val Loss: 0.034855540783398316\n",
      "Epoch: 6/10; Train Loss: 0.015781271243254878; Val Loss: 0.03473812166881333\n",
      "Epoch: 7/10; Train Loss: 0.015446161883670515; Val Loss: 0.0351107352855058\n",
      "Epoch: 8/10; Train Loss: 0.014978622166313738; Val Loss: 0.03504648296304043\n",
      "Epoch: 9/10; Train Loss: 0.014562119191176021; Val Loss: 0.03525255795902888\n",
      "Epoch: 10/10; Train Loss: 0.01475949222773908; Val Loss: 0.035390860273885605\n"
     ]
    },
    {
     "data": {
      "application/vnd.jupyter.widget-view+json": {
       "model_id": "9c398cefcf274e75ae8667b53dd0d2d5",
       "version_major": 2,
       "version_minor": 0
      },
      "text/plain": [
       "VBox(children=(Label(value='0.001 MB of 0.001 MB uploaded\\r'), FloatProgress(value=1.0, max=1.0)))"
      ]
     },
     "metadata": {},
     "output_type": "display_data"
    },
    {
     "data": {
      "text/html": [
       "<style>\n",
       "    table.wandb td:nth-child(1) { padding: 0 10px; text-align: left ; width: auto;} td:nth-child(2) {text-align: left ; width: 100%}\n",
       "    .wandb-row { display: flex; flex-direction: row; flex-wrap: wrap; justify-content: flex-start; width: 100% }\n",
       "    .wandb-col { display: flex; flex-direction: column; flex-basis: 100%; flex: 1; padding: 10px; }\n",
       "    </style>\n",
       "<div class=\"wandb-row\"><div class=\"wandb-col\"><h3>Run history:</h3><br/><table class=\"wandb\"><tr><td>epoch</td><td>▁▁▁▁▂▂▂▂▃▃▃▃▃▃▃▃▄▄▄▄▅▅▅▅▆▆▆▆▆▆▆▆▇▇▇▇████</td></tr><tr><td>train_accuracy</td><td>▁▇▇▇▇▇▇█▇▅▆▇▆▅▆▇▂▇▆▇▅▆▆▆▆▆▆▅▅▃█▆▅▇█▅▆▆▇▆</td></tr><tr><td>train_loss</td><td>█▃▁▂▃▂▃▁▃▃▄▁▃▆▃▂▆▂▃▂▄▅▃▃▃▄▄▅▃▄▁▃▅▂▁▄▃▃▂▃</td></tr><tr><td>val_accuracy</td><td>▁▅▆▆▆▆▆▇▇▇▆▇▇▇█▇▇▇█▇▇▇█▇▇████▇▇██▇▇██▇██</td></tr><tr><td>validation_loss</td><td>█▄▃▃▃▃▃▂▂▂▃▂▂▃▁▂▂▁▁▂▁▂▁▂▂▁▁▁▂▂▁▁▁▂▂▁▁▂▁▁</td></tr></table><br/></div><div class=\"wandb-col\"><h3>Run summary:</h3><br/><table class=\"wandb\"><tr><td>epoch</td><td>10</td></tr><tr><td>train_accuracy</td><td>100.0</td></tr><tr><td>train_loss</td><td>0.01476</td></tr><tr><td>val_accuracy</td><td>87.8</td></tr><tr><td>validation_loss</td><td>0.03539</td></tr></table><br/></div></div>"
      ],
      "text/plain": [
       "<IPython.core.display.HTML object>"
      ]
     },
     "metadata": {},
     "output_type": "display_data"
    },
    {
     "data": {
      "text/html": [
       " View run <strong style=\"color:#cdcd00\">lucky-sweep-65</strong> at: <a href='https://wandb.ai/sumanta_roy/CS6910_assignment_1/runs/x5tpuxwg' target=\"_blank\">https://wandb.ai/sumanta_roy/CS6910_assignment_1/runs/x5tpuxwg</a><br/>Synced 6 W&B file(s), 0 media file(s), 0 artifact file(s) and 0 other file(s)"
      ],
      "text/plain": [
       "<IPython.core.display.HTML object>"
      ]
     },
     "metadata": {},
     "output_type": "display_data"
    },
    {
     "data": {
      "text/html": [
       "Find logs at: <code>./wandb/run-20240317_101710-x5tpuxwg/logs</code>"
      ],
      "text/plain": [
       "<IPython.core.display.HTML object>"
      ]
     },
     "metadata": {},
     "output_type": "display_data"
    },
    {
     "name": "stderr",
     "output_type": "stream",
     "text": [
      "\u001b[34m\u001b[1mwandb\u001b[0m: Sweep Agent: Waiting for job.\n",
      "\u001b[34m\u001b[1mwandb\u001b[0m: Job received.\n",
      "\u001b[34m\u001b[1mwandb\u001b[0m: Agent Starting Run: 8xa7lt42 with config:\n",
      "\u001b[34m\u001b[1mwandb\u001b[0m: \tactivation: tanh\n",
      "\u001b[34m\u001b[1mwandb\u001b[0m: \tbatch_size: 16\n",
      "\u001b[34m\u001b[1mwandb\u001b[0m: \tepochs: 5\n",
      "\u001b[34m\u001b[1mwandb\u001b[0m: \thidden_layers: 3\n",
      "\u001b[34m\u001b[1mwandb\u001b[0m: \thidden_size: 64\n",
      "\u001b[34m\u001b[1mwandb\u001b[0m: \tloss: cross_entropy\n",
      "\u001b[34m\u001b[1mwandb\u001b[0m: \tlr: 0.001\n",
      "\u001b[34m\u001b[1mwandb\u001b[0m: \toptimizer: nadam\n",
      "\u001b[34m\u001b[1mwandb\u001b[0m: \tw_init: random\n",
      "\u001b[34m\u001b[1mwandb\u001b[0m: \tweight_decay: 0.0005\n"
     ]
    },
    {
     "data": {
      "text/html": [
       "Tracking run with wandb version 0.16.4"
      ],
      "text/plain": [
       "<IPython.core.display.HTML object>"
      ]
     },
     "metadata": {},
     "output_type": "display_data"
    },
    {
     "data": {
      "text/html": [
       "Run data is saved locally in <code>/Users/sumanta/Desktop/Numpy project/cross_entropy_lesspasses/wandb/run-20240317_101814-8xa7lt42</code>"
      ],
      "text/plain": [
       "<IPython.core.display.HTML object>"
      ]
     },
     "metadata": {},
     "output_type": "display_data"
    },
    {
     "data": {
      "text/html": [
       "Syncing run <strong><a href='https://wandb.ai/sumanta_roy/CS6910_assignment_1/runs/8xa7lt42' target=\"_blank\">fast-sweep-66</a></strong> to <a href='https://wandb.ai/sumanta_roy/CS6910_assignment_1' target=\"_blank\">Weights & Biases</a> (<a href='https://wandb.me/run' target=\"_blank\">docs</a>)<br/>Sweep page: <a href='https://wandb.ai/sumanta_roy/CS6910_assignment_1/sweeps/mefq3vzl' target=\"_blank\">https://wandb.ai/sumanta_roy/CS6910_assignment_1/sweeps/mefq3vzl</a>"
      ],
      "text/plain": [
       "<IPython.core.display.HTML object>"
      ]
     },
     "metadata": {},
     "output_type": "display_data"
    },
    {
     "data": {
      "text/html": [
       " View project at <a href='https://wandb.ai/sumanta_roy/CS6910_assignment_1' target=\"_blank\">https://wandb.ai/sumanta_roy/CS6910_assignment_1</a>"
      ],
      "text/plain": [
       "<IPython.core.display.HTML object>"
      ]
     },
     "metadata": {},
     "output_type": "display_data"
    },
    {
     "data": {
      "text/html": [
       " View sweep at <a href='https://wandb.ai/sumanta_roy/CS6910_assignment_1/sweeps/mefq3vzl' target=\"_blank\">https://wandb.ai/sumanta_roy/CS6910_assignment_1/sweeps/mefq3vzl</a>"
      ],
      "text/plain": [
       "<IPython.core.display.HTML object>"
      ]
     },
     "metadata": {},
     "output_type": "display_data"
    },
    {
     "data": {
      "text/html": [
       " View run at <a href='https://wandb.ai/sumanta_roy/CS6910_assignment_1/runs/8xa7lt42' target=\"_blank\">https://wandb.ai/sumanta_roy/CS6910_assignment_1/runs/8xa7lt42</a>"
      ],
      "text/plain": [
       "<IPython.core.display.HTML object>"
      ]
     },
     "metadata": {},
     "output_type": "display_data"
    },
    {
     "name": "stdout",
     "output_type": "stream",
     "text": [
      "Epoch: 1/5; Train Loss: 0.09533485681183528; Val Loss: 0.06595502617206694\n",
      "Epoch: 2/5; Train Loss: 0.08746609822752645; Val Loss: 0.05704899936418707\n",
      "Epoch: 3/5; Train Loss: 0.08398638131268611; Val Loss: 0.05269975614945849\n",
      "Epoch: 4/5; Train Loss: 0.08199233823607063; Val Loss: 0.049974885178824584\n",
      "Epoch: 5/5; Train Loss: 0.08075861140630845; Val Loss: 0.04800490514797292\n"
     ]
    },
    {
     "data": {
      "application/vnd.jupyter.widget-view+json": {
       "model_id": "1778c59c9f124a58bd332fba95d57eed",
       "version_major": 2,
       "version_minor": 0
      },
      "text/plain": [
       "VBox(children=(Label(value='0.001 MB of 0.027 MB uploaded\\r'), FloatProgress(value=0.027685015619950445, max=1…"
      ]
     },
     "metadata": {},
     "output_type": "display_data"
    },
    {
     "data": {
      "text/html": [
       "<style>\n",
       "    table.wandb td:nth-child(1) { padding: 0 10px; text-align: left ; width: auto;} td:nth-child(2) {text-align: left ; width: 100%}\n",
       "    .wandb-row { display: flex; flex-direction: row; flex-wrap: wrap; justify-content: flex-start; width: 100% }\n",
       "    .wandb-col { display: flex; flex-direction: column; flex-basis: 100%; flex: 1; padding: 10px; }\n",
       "    </style>\n",
       "<div class=\"wandb-row\"><div class=\"wandb-col\"><h3>Run history:</h3><br/><table class=\"wandb\"><tr><td>epoch</td><td>▁▁▁▁▁▁▁▁▃▃▃▃▃▃▃▃▅▅▅▅▅▅▅▅▆▆▆▆▆▆▆▆████████</td></tr><tr><td>train_accuracy</td><td>▁▂▄▂▂▆▅▅▄▅▆▅▇▅▇▇▇▅▇▆▅▅█▆▅▆▅▆▅▇█▆▅▄█▇▇▆▇▇</td></tr><tr><td>train_loss</td><td>█▆▄▅▇▄▃▄▅▃▃▃▂▄▂▁▂▂▁▄▂▄▁▃▃▃▃▃▃▂▁▃▃▅▁▂▁▃▂▂</td></tr><tr><td>val_accuracy</td><td>▁▄▅▅▆▆▆▆▇▇▇▇▇▇▇▇▇▇▇▇▇▇██████████████████</td></tr><tr><td>validation_loss</td><td>█▅▄▃▃▃▃▂▂▂▂▂▂▂▂▂▂▂▂▁▂▁▁▁▁▁▁▁▁▁▁▁▁▁▁▁▁▁▁▁</td></tr></table><br/></div><div class=\"wandb-col\"><h3>Run summary:</h3><br/><table class=\"wandb\"><tr><td>epoch</td><td>5</td></tr><tr><td>train_accuracy</td><td>100.0</td></tr><tr><td>train_loss</td><td>0.08076</td></tr><tr><td>val_accuracy</td><td>83.15</td></tr><tr><td>validation_loss</td><td>0.048</td></tr></table><br/></div></div>"
      ],
      "text/plain": [
       "<IPython.core.display.HTML object>"
      ]
     },
     "metadata": {},
     "output_type": "display_data"
    },
    {
     "data": {
      "text/html": [
       " View run <strong style=\"color:#cdcd00\">fast-sweep-66</strong> at: <a href='https://wandb.ai/sumanta_roy/CS6910_assignment_1/runs/8xa7lt42' target=\"_blank\">https://wandb.ai/sumanta_roy/CS6910_assignment_1/runs/8xa7lt42</a><br/>Synced 6 W&B file(s), 0 media file(s), 0 artifact file(s) and 0 other file(s)"
      ],
      "text/plain": [
       "<IPython.core.display.HTML object>"
      ]
     },
     "metadata": {},
     "output_type": "display_data"
    },
    {
     "data": {
      "text/html": [
       "Find logs at: <code>./wandb/run-20240317_101814-8xa7lt42/logs</code>"
      ],
      "text/plain": [
       "<IPython.core.display.HTML object>"
      ]
     },
     "metadata": {},
     "output_type": "display_data"
    },
    {
     "name": "stderr",
     "output_type": "stream",
     "text": [
      "\u001b[34m\u001b[1mwandb\u001b[0m: Agent Starting Run: 07x5rhw9 with config:\n",
      "\u001b[34m\u001b[1mwandb\u001b[0m: \tactivation: tanh\n",
      "\u001b[34m\u001b[1mwandb\u001b[0m: \tbatch_size: 16\n",
      "\u001b[34m\u001b[1mwandb\u001b[0m: \tepochs: 10\n",
      "\u001b[34m\u001b[1mwandb\u001b[0m: \thidden_layers: 3\n",
      "\u001b[34m\u001b[1mwandb\u001b[0m: \thidden_size: 64\n",
      "\u001b[34m\u001b[1mwandb\u001b[0m: \tloss: cross_entropy\n",
      "\u001b[34m\u001b[1mwandb\u001b[0m: \tlr: 0.001\n",
      "\u001b[34m\u001b[1mwandb\u001b[0m: \toptimizer: nadam\n",
      "\u001b[34m\u001b[1mwandb\u001b[0m: \tw_init: glorot\n",
      "\u001b[34m\u001b[1mwandb\u001b[0m: \tweight_decay: 0.0005\n"
     ]
    },
    {
     "data": {
      "text/html": [
       "Tracking run with wandb version 0.16.4"
      ],
      "text/plain": [
       "<IPython.core.display.HTML object>"
      ]
     },
     "metadata": {},
     "output_type": "display_data"
    },
    {
     "data": {
      "text/html": [
       "Run data is saved locally in <code>/Users/sumanta/Desktop/Numpy project/cross_entropy_lesspasses/wandb/run-20240317_101907-07x5rhw9</code>"
      ],
      "text/plain": [
       "<IPython.core.display.HTML object>"
      ]
     },
     "metadata": {},
     "output_type": "display_data"
    },
    {
     "data": {
      "text/html": [
       "Syncing run <strong><a href='https://wandb.ai/sumanta_roy/CS6910_assignment_1/runs/07x5rhw9' target=\"_blank\">different-sweep-67</a></strong> to <a href='https://wandb.ai/sumanta_roy/CS6910_assignment_1' target=\"_blank\">Weights & Biases</a> (<a href='https://wandb.me/run' target=\"_blank\">docs</a>)<br/>Sweep page: <a href='https://wandb.ai/sumanta_roy/CS6910_assignment_1/sweeps/mefq3vzl' target=\"_blank\">https://wandb.ai/sumanta_roy/CS6910_assignment_1/sweeps/mefq3vzl</a>"
      ],
      "text/plain": [
       "<IPython.core.display.HTML object>"
      ]
     },
     "metadata": {},
     "output_type": "display_data"
    },
    {
     "data": {
      "text/html": [
       " View project at <a href='https://wandb.ai/sumanta_roy/CS6910_assignment_1' target=\"_blank\">https://wandb.ai/sumanta_roy/CS6910_assignment_1</a>"
      ],
      "text/plain": [
       "<IPython.core.display.HTML object>"
      ]
     },
     "metadata": {},
     "output_type": "display_data"
    },
    {
     "data": {
      "text/html": [
       " View sweep at <a href='https://wandb.ai/sumanta_roy/CS6910_assignment_1/sweeps/mefq3vzl' target=\"_blank\">https://wandb.ai/sumanta_roy/CS6910_assignment_1/sweeps/mefq3vzl</a>"
      ],
      "text/plain": [
       "<IPython.core.display.HTML object>"
      ]
     },
     "metadata": {},
     "output_type": "display_data"
    },
    {
     "data": {
      "text/html": [
       " View run at <a href='https://wandb.ai/sumanta_roy/CS6910_assignment_1/runs/07x5rhw9' target=\"_blank\">https://wandb.ai/sumanta_roy/CS6910_assignment_1/runs/07x5rhw9</a>"
      ],
      "text/plain": [
       "<IPython.core.display.HTML object>"
      ]
     },
     "metadata": {},
     "output_type": "display_data"
    },
    {
     "name": "stdout",
     "output_type": "stream",
     "text": [
      "Epoch: 1/10; Train Loss: 0.017798213183614915; Val Loss: 0.046186969403788886\n",
      "Epoch: 2/10; Train Loss: 0.016562331139119032; Val Loss: 0.04184205818647851\n",
      "Epoch: 3/10; Train Loss: 0.016742768057710772; Val Loss: 0.03971076874620496\n",
      "Epoch: 4/10; Train Loss: 0.016982431781208066; Val Loss: 0.03826805833756542\n",
      "Epoch: 5/10; Train Loss: 0.01718892767393825; Val Loss: 0.037186803411002466\n",
      "Epoch: 6/10; Train Loss: 0.017408838871917638; Val Loss: 0.03634560726927671\n",
      "Epoch: 7/10; Train Loss: 0.017683067624601295; Val Loss: 0.0356741754296694\n",
      "Epoch: 8/10; Train Loss: 0.018000910705708452; Val Loss: 0.0351238164520418\n",
      "Epoch: 9/10; Train Loss: 0.01832135602966675; Val Loss: 0.034662515870869264\n",
      "Epoch: 10/10; Train Loss: 0.018609505833879998; Val Loss: 0.034269442486482254\n"
     ]
    },
    {
     "data": {
      "application/vnd.jupyter.widget-view+json": {
       "model_id": "e32d72f360514c4598b30cc762da982d",
       "version_major": 2,
       "version_minor": 0
      },
      "text/plain": [
       "VBox(children=(Label(value='0.001 MB of 0.001 MB uploaded\\r'), FloatProgress(value=1.0, max=1.0)))"
      ]
     },
     "metadata": {},
     "output_type": "display_data"
    },
    {
     "data": {
      "text/html": [
       "<style>\n",
       "    table.wandb td:nth-child(1) { padding: 0 10px; text-align: left ; width: auto;} td:nth-child(2) {text-align: left ; width: 100%}\n",
       "    .wandb-row { display: flex; flex-direction: row; flex-wrap: wrap; justify-content: flex-start; width: 100% }\n",
       "    .wandb-col { display: flex; flex-direction: column; flex-basis: 100%; flex: 1; padding: 10px; }\n",
       "    </style>\n",
       "<div class=\"wandb-row\"><div class=\"wandb-col\"><h3>Run history:</h3><br/><table class=\"wandb\"><tr><td>epoch</td><td>▁▁▁▁▂▂▂▂▃▃▃▃▃▃▃▃▄▄▄▄▅▅▅▅▆▆▆▆▆▆▆▆▇▇▇▇████</td></tr><tr><td>train_accuracy</td><td>▁▇█▇▇█▇▇▇▂▄▇▇▅▂█▂█▇█▅▇▅█▅▇▇▄▄▂▇▇▅██▇▅▇▇▇</td></tr><tr><td>train_loss</td><td>█▄▂▃▄▂▃▁▃▄▄▂▃▄▄▃▆▃▂▁▄▄▃▄▄▅▄▄▃▆▂▃▃▂▁▃▃▂▄▂</td></tr><tr><td>val_accuracy</td><td>▁▄▆▆▆▆▇▇▇▇▇▇▇▇▇▇▇█████████████████▇█████</td></tr><tr><td>validation_loss</td><td>█▅▄▃▃▃▂▂▂▂▂▂▂▂▂▂▂▂▂▁▁▁▁▁▁▁▁▁▁▁▁▁▁▁▁▁▁▁▁▁</td></tr></table><br/></div><div class=\"wandb-col\"><h3>Run summary:</h3><br/><table class=\"wandb\"><tr><td>epoch</td><td>10</td></tr><tr><td>train_accuracy</td><td>93.75</td></tr><tr><td>train_loss</td><td>0.01861</td></tr><tr><td>val_accuracy</td><td>88.1</td></tr><tr><td>validation_loss</td><td>0.03427</td></tr></table><br/></div></div>"
      ],
      "text/plain": [
       "<IPython.core.display.HTML object>"
      ]
     },
     "metadata": {},
     "output_type": "display_data"
    },
    {
     "data": {
      "text/html": [
       " View run <strong style=\"color:#cdcd00\">different-sweep-67</strong> at: <a href='https://wandb.ai/sumanta_roy/CS6910_assignment_1/runs/07x5rhw9' target=\"_blank\">https://wandb.ai/sumanta_roy/CS6910_assignment_1/runs/07x5rhw9</a><br/>Synced 6 W&B file(s), 0 media file(s), 0 artifact file(s) and 0 other file(s)"
      ],
      "text/plain": [
       "<IPython.core.display.HTML object>"
      ]
     },
     "metadata": {},
     "output_type": "display_data"
    },
    {
     "data": {
      "text/html": [
       "Find logs at: <code>./wandb/run-20240317_101907-07x5rhw9/logs</code>"
      ],
      "text/plain": [
       "<IPython.core.display.HTML object>"
      ]
     },
     "metadata": {},
     "output_type": "display_data"
    },
    {
     "name": "stderr",
     "output_type": "stream",
     "text": [
      "\u001b[34m\u001b[1mwandb\u001b[0m: Agent Starting Run: 44vs46fs with config:\n",
      "\u001b[34m\u001b[1mwandb\u001b[0m: \tactivation: tanh\n",
      "\u001b[34m\u001b[1mwandb\u001b[0m: \tbatch_size: 16\n",
      "\u001b[34m\u001b[1mwandb\u001b[0m: \tepochs: 10\n",
      "\u001b[34m\u001b[1mwandb\u001b[0m: \thidden_layers: 3\n",
      "\u001b[34m\u001b[1mwandb\u001b[0m: \thidden_size: 128\n",
      "\u001b[34m\u001b[1mwandb\u001b[0m: \tloss: cross_entropy\n",
      "\u001b[34m\u001b[1mwandb\u001b[0m: \tlr: 0.001\n",
      "\u001b[34m\u001b[1mwandb\u001b[0m: \toptimizer: adam\n",
      "\u001b[34m\u001b[1mwandb\u001b[0m: \tw_init: glorot\n",
      "\u001b[34m\u001b[1mwandb\u001b[0m: \tweight_decay: 0.0005\n"
     ]
    },
    {
     "data": {
      "text/html": [
       "Tracking run with wandb version 0.16.4"
      ],
      "text/plain": [
       "<IPython.core.display.HTML object>"
      ]
     },
     "metadata": {},
     "output_type": "display_data"
    },
    {
     "data": {
      "text/html": [
       "Run data is saved locally in <code>/Users/sumanta/Desktop/Numpy project/cross_entropy_lesspasses/wandb/run-20240317_102037-44vs46fs</code>"
      ],
      "text/plain": [
       "<IPython.core.display.HTML object>"
      ]
     },
     "metadata": {},
     "output_type": "display_data"
    },
    {
     "data": {
      "text/html": [
       "Syncing run <strong><a href='https://wandb.ai/sumanta_roy/CS6910_assignment_1/runs/44vs46fs' target=\"_blank\">likely-sweep-68</a></strong> to <a href='https://wandb.ai/sumanta_roy/CS6910_assignment_1' target=\"_blank\">Weights & Biases</a> (<a href='https://wandb.me/run' target=\"_blank\">docs</a>)<br/>Sweep page: <a href='https://wandb.ai/sumanta_roy/CS6910_assignment_1/sweeps/mefq3vzl' target=\"_blank\">https://wandb.ai/sumanta_roy/CS6910_assignment_1/sweeps/mefq3vzl</a>"
      ],
      "text/plain": [
       "<IPython.core.display.HTML object>"
      ]
     },
     "metadata": {},
     "output_type": "display_data"
    },
    {
     "data": {
      "text/html": [
       " View project at <a href='https://wandb.ai/sumanta_roy/CS6910_assignment_1' target=\"_blank\">https://wandb.ai/sumanta_roy/CS6910_assignment_1</a>"
      ],
      "text/plain": [
       "<IPython.core.display.HTML object>"
      ]
     },
     "metadata": {},
     "output_type": "display_data"
    },
    {
     "data": {
      "text/html": [
       " View sweep at <a href='https://wandb.ai/sumanta_roy/CS6910_assignment_1/sweeps/mefq3vzl' target=\"_blank\">https://wandb.ai/sumanta_roy/CS6910_assignment_1/sweeps/mefq3vzl</a>"
      ],
      "text/plain": [
       "<IPython.core.display.HTML object>"
      ]
     },
     "metadata": {},
     "output_type": "display_data"
    },
    {
     "data": {
      "text/html": [
       " View run at <a href='https://wandb.ai/sumanta_roy/CS6910_assignment_1/runs/44vs46fs' target=\"_blank\">https://wandb.ai/sumanta_roy/CS6910_assignment_1/runs/44vs46fs</a>"
      ],
      "text/plain": [
       "<IPython.core.display.HTML object>"
      ]
     },
     "metadata": {},
     "output_type": "display_data"
    },
    {
     "name": "stdout",
     "output_type": "stream",
     "text": [
      "Epoch: 1/10; Train Loss: 0.017225657728782554; Val Loss: 0.03656670955920241\n",
      "Epoch: 2/10; Train Loss: 0.016960747049405138; Val Loss: 0.034258021229031065\n",
      "Epoch: 3/10; Train Loss: 0.017968908338083817; Val Loss: 0.03325549420669962\n",
      "Epoch: 4/10; Train Loss: 0.01884369088706117; Val Loss: 0.03254264200213863\n",
      "Epoch: 5/10; Train Loss: 0.019122261562451223; Val Loss: 0.03215741587356763\n",
      "Epoch: 6/10; Train Loss: 0.01950249202462922; Val Loss: 0.03189798101233545\n",
      "Epoch: 7/10; Train Loss: 0.02009694319595444; Val Loss: 0.03144427689157194\n",
      "Epoch: 8/10; Train Loss: 0.02116848855145413; Val Loss: 0.031235723894947925\n",
      "Epoch: 9/10; Train Loss: 0.022257463707999775; Val Loss: 0.031419069264585715\n",
      "Epoch: 10/10; Train Loss: 0.023268299986438725; Val Loss: 0.03201406340518642\n"
     ]
    },
    {
     "data": {
      "application/vnd.jupyter.widget-view+json": {
       "model_id": "73ad1f6c11bf43c39dc681b0a414e148",
       "version_major": 2,
       "version_minor": 0
      },
      "text/plain": [
       "VBox(children=(Label(value='0.001 MB of 0.001 MB uploaded\\r'), FloatProgress(value=1.0, max=1.0)))"
      ]
     },
     "metadata": {},
     "output_type": "display_data"
    },
    {
     "data": {
      "text/html": [
       "<style>\n",
       "    table.wandb td:nth-child(1) { padding: 0 10px; text-align: left ; width: auto;} td:nth-child(2) {text-align: left ; width: 100%}\n",
       "    .wandb-row { display: flex; flex-direction: row; flex-wrap: wrap; justify-content: flex-start; width: 100% }\n",
       "    .wandb-col { display: flex; flex-direction: column; flex-basis: 100%; flex: 1; padding: 10px; }\n",
       "    </style>\n",
       "<div class=\"wandb-row\"><div class=\"wandb-col\"><h3>Run history:</h3><br/><table class=\"wandb\"><tr><td>epoch</td><td>▁▁▁▁▂▂▂▂▃▃▃▃▃▃▃▃▄▄▄▄▅▅▅▅▆▆▆▆▆▆▆▆▇▇▇▇████</td></tr><tr><td>train_accuracy</td><td>▁▅█▅▆▆▆▆▆▅▁▆▅▅▁▅▃▅▃▆▅▅▅▅▆▆▅▅▆▁█▆▆▆█▅▅▅▆▃</td></tr><tr><td>train_loss</td><td>█▅▁▄▄▄▄▃▄▃█▄▅▆▆▃▅▄▄▂▄▆▆▇▄▆▆▅▃▇▂▃▄▃▂▄▅▅▃▅</td></tr><tr><td>val_accuracy</td><td>▁▅▆▆▆▇▆▆▇▇▆▆▇▇▇█▇▇█▇█▇█▇█▇███▇██▇███████</td></tr><tr><td>validation_loss</td><td>█▅▃▃▃▂▃▂▂▂▃▃▂▁▂▁▂▂▁▂▁▂▁▂▁▂▁▁▁▁▁▁▂▁▁▂▂▁▁▁</td></tr></table><br/></div><div class=\"wandb-col\"><h3>Run summary:</h3><br/><table class=\"wandb\"><tr><td>epoch</td><td>10</td></tr><tr><td>train_accuracy</td><td>100.0</td></tr><tr><td>train_loss</td><td>0.02327</td></tr><tr><td>val_accuracy</td><td>89.25</td></tr><tr><td>validation_loss</td><td>0.03201</td></tr></table><br/></div></div>"
      ],
      "text/plain": [
       "<IPython.core.display.HTML object>"
      ]
     },
     "metadata": {},
     "output_type": "display_data"
    },
    {
     "data": {
      "text/html": [
       " View run <strong style=\"color:#cdcd00\">likely-sweep-68</strong> at: <a href='https://wandb.ai/sumanta_roy/CS6910_assignment_1/runs/44vs46fs' target=\"_blank\">https://wandb.ai/sumanta_roy/CS6910_assignment_1/runs/44vs46fs</a><br/>Synced 6 W&B file(s), 0 media file(s), 0 artifact file(s) and 0 other file(s)"
      ],
      "text/plain": [
       "<IPython.core.display.HTML object>"
      ]
     },
     "metadata": {},
     "output_type": "display_data"
    },
    {
     "data": {
      "text/html": [
       "Find logs at: <code>./wandb/run-20240317_102037-44vs46fs/logs</code>"
      ],
      "text/plain": [
       "<IPython.core.display.HTML object>"
      ]
     },
     "metadata": {},
     "output_type": "display_data"
    },
    {
     "name": "stderr",
     "output_type": "stream",
     "text": [
      "\u001b[34m\u001b[1mwandb\u001b[0m: Sweep Agent: Waiting for job.\n",
      "\u001b[34m\u001b[1mwandb\u001b[0m: Job received.\n",
      "\u001b[34m\u001b[1mwandb\u001b[0m: Agent Starting Run: jmwsl8t4 with config:\n",
      "\u001b[34m\u001b[1mwandb\u001b[0m: \tactivation: tanh\n",
      "\u001b[34m\u001b[1mwandb\u001b[0m: \tbatch_size: 16\n",
      "\u001b[34m\u001b[1mwandb\u001b[0m: \tepochs: 5\n",
      "\u001b[34m\u001b[1mwandb\u001b[0m: \thidden_layers: 3\n",
      "\u001b[34m\u001b[1mwandb\u001b[0m: \thidden_size: 128\n",
      "\u001b[34m\u001b[1mwandb\u001b[0m: \tloss: cross_entropy\n",
      "\u001b[34m\u001b[1mwandb\u001b[0m: \tlr: 0.001\n",
      "\u001b[34m\u001b[1mwandb\u001b[0m: \toptimizer: nadam\n",
      "\u001b[34m\u001b[1mwandb\u001b[0m: \tw_init: glorot\n",
      "\u001b[34m\u001b[1mwandb\u001b[0m: \tweight_decay: 0.0005\n"
     ]
    },
    {
     "data": {
      "text/html": [
       "Tracking run with wandb version 0.16.4"
      ],
      "text/plain": [
       "<IPython.core.display.HTML object>"
      ]
     },
     "metadata": {},
     "output_type": "display_data"
    },
    {
     "data": {
      "text/html": [
       "Run data is saved locally in <code>/Users/sumanta/Desktop/Numpy project/cross_entropy_lesspasses/wandb/run-20240317_102321-jmwsl8t4</code>"
      ],
      "text/plain": [
       "<IPython.core.display.HTML object>"
      ]
     },
     "metadata": {},
     "output_type": "display_data"
    },
    {
     "data": {
      "text/html": [
       "Syncing run <strong><a href='https://wandb.ai/sumanta_roy/CS6910_assignment_1/runs/jmwsl8t4' target=\"_blank\">leafy-sweep-69</a></strong> to <a href='https://wandb.ai/sumanta_roy/CS6910_assignment_1' target=\"_blank\">Weights & Biases</a> (<a href='https://wandb.me/run' target=\"_blank\">docs</a>)<br/>Sweep page: <a href='https://wandb.ai/sumanta_roy/CS6910_assignment_1/sweeps/mefq3vzl' target=\"_blank\">https://wandb.ai/sumanta_roy/CS6910_assignment_1/sweeps/mefq3vzl</a>"
      ],
      "text/plain": [
       "<IPython.core.display.HTML object>"
      ]
     },
     "metadata": {},
     "output_type": "display_data"
    },
    {
     "data": {
      "text/html": [
       " View project at <a href='https://wandb.ai/sumanta_roy/CS6910_assignment_1' target=\"_blank\">https://wandb.ai/sumanta_roy/CS6910_assignment_1</a>"
      ],
      "text/plain": [
       "<IPython.core.display.HTML object>"
      ]
     },
     "metadata": {},
     "output_type": "display_data"
    },
    {
     "data": {
      "text/html": [
       " View sweep at <a href='https://wandb.ai/sumanta_roy/CS6910_assignment_1/sweeps/mefq3vzl' target=\"_blank\">https://wandb.ai/sumanta_roy/CS6910_assignment_1/sweeps/mefq3vzl</a>"
      ],
      "text/plain": [
       "<IPython.core.display.HTML object>"
      ]
     },
     "metadata": {},
     "output_type": "display_data"
    },
    {
     "data": {
      "text/html": [
       " View run at <a href='https://wandb.ai/sumanta_roy/CS6910_assignment_1/runs/jmwsl8t4' target=\"_blank\">https://wandb.ai/sumanta_roy/CS6910_assignment_1/runs/jmwsl8t4</a>"
      ],
      "text/plain": [
       "<IPython.core.display.HTML object>"
      ]
     },
     "metadata": {},
     "output_type": "display_data"
    },
    {
     "name": "stdout",
     "output_type": "stream",
     "text": [
      "Epoch: 1/5; Train Loss: 0.018191368723798278; Val Loss: 0.04247115494409321\n",
      "Epoch: 2/5; Train Loss: 0.017569514161864242; Val Loss: 0.03921767696911833\n",
      "Epoch: 3/5; Train Loss: 0.01741445406722794; Val Loss: 0.03740279492822048\n",
      "Epoch: 4/5; Train Loss: 0.017447451370050673; Val Loss: 0.036146657148273684\n",
      "Epoch: 5/5; Train Loss: 0.017560469779516398; Val Loss: 0.03519946455176635\n"
     ]
    },
    {
     "data": {
      "application/vnd.jupyter.widget-view+json": {
       "model_id": "6ac9836fe8d5480fa148ec8bd8151e10",
       "version_major": 2,
       "version_minor": 0
      },
      "text/plain": [
       "VBox(children=(Label(value='0.001 MB of 0.001 MB uploaded\\r'), FloatProgress(value=1.0, max=1.0)))"
      ]
     },
     "metadata": {},
     "output_type": "display_data"
    },
    {
     "data": {
      "text/html": [
       "<style>\n",
       "    table.wandb td:nth-child(1) { padding: 0 10px; text-align: left ; width: auto;} td:nth-child(2) {text-align: left ; width: 100%}\n",
       "    .wandb-row { display: flex; flex-direction: row; flex-wrap: wrap; justify-content: flex-start; width: 100% }\n",
       "    .wandb-col { display: flex; flex-direction: column; flex-basis: 100%; flex: 1; padding: 10px; }\n",
       "    </style>\n",
       "<div class=\"wandb-row\"><div class=\"wandb-col\"><h3>Run history:</h3><br/><table class=\"wandb\"><tr><td>epoch</td><td>▁▁▁▁▁▁▁▁▃▃▃▃▃▃▃▃▅▅▅▅▅▅▅▅▆▆▆▆▆▆▆▆████████</td></tr><tr><td>train_accuracy</td><td>▁▄▇▇▃▄▆▅▃▅▆▇▅▅█▇▆▇▆▅▄▅▇▄▆▆▆▆▄█▇▆▄▅▆██▇█▆</td></tr><tr><td>train_loss</td><td>█▇▄▃▆▄▃▅▆▄▃▃▃▅▂▂▃▃▃▆▅▄▁▅▄▄▄▃▄▂▂▃▄▄▃▁▁▂▂▃</td></tr><tr><td>val_accuracy</td><td>▁▄▆▆▇▇▇▇▇▇▇▇▇▇▇▇▇▇▇▇▇▇▇█████████████████</td></tr><tr><td>validation_loss</td><td>█▅▄▃▃▃▃▂▂▂▂▂▂▂▂▂▂▂▂▂▂▂▁▁▁▁▁▁▁▁▁▁▁▁▁▁▁▁▁▁</td></tr></table><br/></div><div class=\"wandb-col\"><h3>Run summary:</h3><br/><table class=\"wandb\"><tr><td>epoch</td><td>5</td></tr><tr><td>train_accuracy</td><td>100.0</td></tr><tr><td>train_loss</td><td>0.01756</td></tr><tr><td>val_accuracy</td><td>87.66667</td></tr><tr><td>validation_loss</td><td>0.0352</td></tr></table><br/></div></div>"
      ],
      "text/plain": [
       "<IPython.core.display.HTML object>"
      ]
     },
     "metadata": {},
     "output_type": "display_data"
    },
    {
     "data": {
      "text/html": [
       " View run <strong style=\"color:#cdcd00\">leafy-sweep-69</strong> at: <a href='https://wandb.ai/sumanta_roy/CS6910_assignment_1/runs/jmwsl8t4' target=\"_blank\">https://wandb.ai/sumanta_roy/CS6910_assignment_1/runs/jmwsl8t4</a><br/>Synced 6 W&B file(s), 0 media file(s), 0 artifact file(s) and 0 other file(s)"
      ],
      "text/plain": [
       "<IPython.core.display.HTML object>"
      ]
     },
     "metadata": {},
     "output_type": "display_data"
    },
    {
     "data": {
      "text/html": [
       "Find logs at: <code>./wandb/run-20240317_102321-jmwsl8t4/logs</code>"
      ],
      "text/plain": [
       "<IPython.core.display.HTML object>"
      ]
     },
     "metadata": {},
     "output_type": "display_data"
    },
    {
     "name": "stderr",
     "output_type": "stream",
     "text": [
      "\u001b[34m\u001b[1mwandb\u001b[0m: Agent Starting Run: ucsz93p7 with config:\n",
      "\u001b[34m\u001b[1mwandb\u001b[0m: \tactivation: tanh\n",
      "\u001b[34m\u001b[1mwandb\u001b[0m: \tbatch_size: 16\n",
      "\u001b[34m\u001b[1mwandb\u001b[0m: \tepochs: 10\n",
      "\u001b[34m\u001b[1mwandb\u001b[0m: \thidden_layers: 3\n",
      "\u001b[34m\u001b[1mwandb\u001b[0m: \thidden_size: 64\n",
      "\u001b[34m\u001b[1mwandb\u001b[0m: \tloss: cross_entropy\n",
      "\u001b[34m\u001b[1mwandb\u001b[0m: \tlr: 0.001\n",
      "\u001b[34m\u001b[1mwandb\u001b[0m: \toptimizer: nadam\n",
      "\u001b[34m\u001b[1mwandb\u001b[0m: \tw_init: glorot\n",
      "\u001b[34m\u001b[1mwandb\u001b[0m: \tweight_decay: 0\n"
     ]
    },
    {
     "data": {
      "text/html": [
       "Tracking run with wandb version 0.16.4"
      ],
      "text/plain": [
       "<IPython.core.display.HTML object>"
      ]
     },
     "metadata": {},
     "output_type": "display_data"
    },
    {
     "data": {
      "text/html": [
       "Run data is saved locally in <code>/Users/sumanta/Desktop/Numpy project/cross_entropy_lesspasses/wandb/run-20240317_102457-ucsz93p7</code>"
      ],
      "text/plain": [
       "<IPython.core.display.HTML object>"
      ]
     },
     "metadata": {},
     "output_type": "display_data"
    },
    {
     "data": {
      "text/html": [
       "Syncing run <strong><a href='https://wandb.ai/sumanta_roy/CS6910_assignment_1/runs/ucsz93p7' target=\"_blank\">deft-sweep-70</a></strong> to <a href='https://wandb.ai/sumanta_roy/CS6910_assignment_1' target=\"_blank\">Weights & Biases</a> (<a href='https://wandb.me/run' target=\"_blank\">docs</a>)<br/>Sweep page: <a href='https://wandb.ai/sumanta_roy/CS6910_assignment_1/sweeps/mefq3vzl' target=\"_blank\">https://wandb.ai/sumanta_roy/CS6910_assignment_1/sweeps/mefq3vzl</a>"
      ],
      "text/plain": [
       "<IPython.core.display.HTML object>"
      ]
     },
     "metadata": {},
     "output_type": "display_data"
    },
    {
     "data": {
      "text/html": [
       " View project at <a href='https://wandb.ai/sumanta_roy/CS6910_assignment_1' target=\"_blank\">https://wandb.ai/sumanta_roy/CS6910_assignment_1</a>"
      ],
      "text/plain": [
       "<IPython.core.display.HTML object>"
      ]
     },
     "metadata": {},
     "output_type": "display_data"
    },
    {
     "data": {
      "text/html": [
       " View sweep at <a href='https://wandb.ai/sumanta_roy/CS6910_assignment_1/sweeps/mefq3vzl' target=\"_blank\">https://wandb.ai/sumanta_roy/CS6910_assignment_1/sweeps/mefq3vzl</a>"
      ],
      "text/plain": [
       "<IPython.core.display.HTML object>"
      ]
     },
     "metadata": {},
     "output_type": "display_data"
    },
    {
     "data": {
      "text/html": [
       " View run at <a href='https://wandb.ai/sumanta_roy/CS6910_assignment_1/runs/ucsz93p7' target=\"_blank\">https://wandb.ai/sumanta_roy/CS6910_assignment_1/runs/ucsz93p7</a>"
      ],
      "text/plain": [
       "<IPython.core.display.HTML object>"
      ]
     },
     "metadata": {},
     "output_type": "display_data"
    },
    {
     "name": "stdout",
     "output_type": "stream",
     "text": [
      "Epoch: 1/10; Train Loss: 0.014018087020116666; Val Loss: 0.046591674290910746\n",
      "Epoch: 2/10; Train Loss: 0.01284733704259682; Val Loss: 0.041909773216474884\n",
      "Epoch: 3/10; Train Loss: 0.012817049353893006; Val Loss: 0.03963275182668476\n",
      "Epoch: 4/10; Train Loss: 0.013015799199375913; Val Loss: 0.03815127484777811\n",
      "Epoch: 5/10; Train Loss: 0.013160617285846377; Val Loss: 0.03706326273268234\n",
      "Epoch: 6/10; Train Loss: 0.013198954636973754; Val Loss: 0.03621092963552341\n",
      "Epoch: 7/10; Train Loss: 0.01317021916697517; Val Loss: 0.03551896325254863\n",
      "Epoch: 8/10; Train Loss: 0.013115264330037369; Val Loss: 0.034943707537479204\n",
      "Epoch: 9/10; Train Loss: 0.013054099988343573; Val Loss: 0.03445669281866204\n",
      "Epoch: 10/10; Train Loss: 0.012990549337571664; Val Loss: 0.03403865681340661\n"
     ]
    },
    {
     "data": {
      "application/vnd.jupyter.widget-view+json": {
       "model_id": "b45b56925af24142997d390a8e2c0b6c",
       "version_major": 2,
       "version_minor": 0
      },
      "text/plain": [
       "VBox(children=(Label(value='0.001 MB of 0.001 MB uploaded\\r'), FloatProgress(value=1.0, max=1.0)))"
      ]
     },
     "metadata": {},
     "output_type": "display_data"
    },
    {
     "data": {
      "text/html": [
       "<style>\n",
       "    table.wandb td:nth-child(1) { padding: 0 10px; text-align: left ; width: auto;} td:nth-child(2) {text-align: left ; width: 100%}\n",
       "    .wandb-row { display: flex; flex-direction: row; flex-wrap: wrap; justify-content: flex-start; width: 100% }\n",
       "    .wandb-col { display: flex; flex-direction: column; flex-basis: 100%; flex: 1; padding: 10px; }\n",
       "    </style>\n",
       "<div class=\"wandb-row\"><div class=\"wandb-col\"><h3>Run history:</h3><br/><table class=\"wandb\"><tr><td>epoch</td><td>▁▁▁▁▂▂▂▂▃▃▃▃▃▃▃▃▄▄▄▄▅▅▅▅▆▆▆▆▆▆▆▆▇▇▇▇████</td></tr><tr><td>train_accuracy</td><td>▁██▆▆█▆█▆▅▅▆▆▅▃▆▅█▆█▅▆▆▆▅▆▆▃▅▃▆▆▅██▆▅▆▆▅</td></tr><tr><td>train_loss</td><td>█▄▂▃▄▂▃▂▃▄▄▂▄▄▅▃▆▃▂▁▄▄▄▄▃▅▃▄▃▆▂▃▂▁▁▃▄▃▄▂</td></tr><tr><td>val_accuracy</td><td>▁▄▆▆▆▆▇▇▇▇▇▇▇▇▇▇▇▇▇▇████████████████████</td></tr><tr><td>validation_loss</td><td>█▅▄▃▃▃▃▂▂▂▂▂▂▂▂▂▂▂▂▁▁▁▁▁▁▁▁▁▁▁▁▁▁▁▁▁▁▁▁▁</td></tr></table><br/></div><div class=\"wandb-col\"><h3>Run summary:</h3><br/><table class=\"wandb\"><tr><td>epoch</td><td>10</td></tr><tr><td>train_accuracy</td><td>93.75</td></tr><tr><td>train_loss</td><td>0.01299</td></tr><tr><td>val_accuracy</td><td>87.98333</td></tr><tr><td>validation_loss</td><td>0.03404</td></tr></table><br/></div></div>"
      ],
      "text/plain": [
       "<IPython.core.display.HTML object>"
      ]
     },
     "metadata": {},
     "output_type": "display_data"
    },
    {
     "data": {
      "text/html": [
       " View run <strong style=\"color:#cdcd00\">deft-sweep-70</strong> at: <a href='https://wandb.ai/sumanta_roy/CS6910_assignment_1/runs/ucsz93p7' target=\"_blank\">https://wandb.ai/sumanta_roy/CS6910_assignment_1/runs/ucsz93p7</a><br/>Synced 6 W&B file(s), 0 media file(s), 0 artifact file(s) and 0 other file(s)"
      ],
      "text/plain": [
       "<IPython.core.display.HTML object>"
      ]
     },
     "metadata": {},
     "output_type": "display_data"
    },
    {
     "data": {
      "text/html": [
       "Find logs at: <code>./wandb/run-20240317_102457-ucsz93p7/logs</code>"
      ],
      "text/plain": [
       "<IPython.core.display.HTML object>"
      ]
     },
     "metadata": {},
     "output_type": "display_data"
    },
    {
     "name": "stderr",
     "output_type": "stream",
     "text": [
      "\u001b[34m\u001b[1mwandb\u001b[0m: Agent Starting Run: mc2otfl7 with config:\n",
      "\u001b[34m\u001b[1mwandb\u001b[0m: \tactivation: relu\n",
      "\u001b[34m\u001b[1mwandb\u001b[0m: \tbatch_size: 16\n",
      "\u001b[34m\u001b[1mwandb\u001b[0m: \tepochs: 5\n",
      "\u001b[34m\u001b[1mwandb\u001b[0m: \thidden_layers: 3\n",
      "\u001b[34m\u001b[1mwandb\u001b[0m: \thidden_size: 32\n",
      "\u001b[34m\u001b[1mwandb\u001b[0m: \tloss: cross_entropy\n",
      "\u001b[34m\u001b[1mwandb\u001b[0m: \tlr: 0.001\n",
      "\u001b[34m\u001b[1mwandb\u001b[0m: \toptimizer: nesterov\n",
      "\u001b[34m\u001b[1mwandb\u001b[0m: \tw_init: glorot\n",
      "\u001b[34m\u001b[1mwandb\u001b[0m: \tweight_decay: 0.0005\n"
     ]
    },
    {
     "data": {
      "text/html": [
       "Tracking run with wandb version 0.16.4"
      ],
      "text/plain": [
       "<IPython.core.display.HTML object>"
      ]
     },
     "metadata": {},
     "output_type": "display_data"
    },
    {
     "data": {
      "text/html": [
       "Run data is saved locally in <code>/Users/sumanta/Desktop/Numpy project/cross_entropy_lesspasses/wandb/run-20240317_102632-mc2otfl7</code>"
      ],
      "text/plain": [
       "<IPython.core.display.HTML object>"
      ]
     },
     "metadata": {},
     "output_type": "display_data"
    },
    {
     "data": {
      "text/html": [
       "Syncing run <strong><a href='https://wandb.ai/sumanta_roy/CS6910_assignment_1/runs/mc2otfl7' target=\"_blank\">wandering-sweep-71</a></strong> to <a href='https://wandb.ai/sumanta_roy/CS6910_assignment_1' target=\"_blank\">Weights & Biases</a> (<a href='https://wandb.me/run' target=\"_blank\">docs</a>)<br/>Sweep page: <a href='https://wandb.ai/sumanta_roy/CS6910_assignment_1/sweeps/mefq3vzl' target=\"_blank\">https://wandb.ai/sumanta_roy/CS6910_assignment_1/sweeps/mefq3vzl</a>"
      ],
      "text/plain": [
       "<IPython.core.display.HTML object>"
      ]
     },
     "metadata": {},
     "output_type": "display_data"
    },
    {
     "data": {
      "text/html": [
       " View project at <a href='https://wandb.ai/sumanta_roy/CS6910_assignment_1' target=\"_blank\">https://wandb.ai/sumanta_roy/CS6910_assignment_1</a>"
      ],
      "text/plain": [
       "<IPython.core.display.HTML object>"
      ]
     },
     "metadata": {},
     "output_type": "display_data"
    },
    {
     "data": {
      "text/html": [
       " View sweep at <a href='https://wandb.ai/sumanta_roy/CS6910_assignment_1/sweeps/mefq3vzl' target=\"_blank\">https://wandb.ai/sumanta_roy/CS6910_assignment_1/sweeps/mefq3vzl</a>"
      ],
      "text/plain": [
       "<IPython.core.display.HTML object>"
      ]
     },
     "metadata": {},
     "output_type": "display_data"
    },
    {
     "data": {
      "text/html": [
       " View run at <a href='https://wandb.ai/sumanta_roy/CS6910_assignment_1/runs/mc2otfl7' target=\"_blank\">https://wandb.ai/sumanta_roy/CS6910_assignment_1/runs/mc2otfl7</a>"
      ],
      "text/plain": [
       "<IPython.core.display.HTML object>"
      ]
     },
     "metadata": {},
     "output_type": "display_data"
    },
    {
     "name": "stdout",
     "output_type": "stream",
     "text": [
      "Epoch: 1/5; Train Loss: 0.011836423560412371; Val Loss: 0.04666634811188621\n",
      "Epoch: 2/5; Train Loss: 0.012883565359206255; Val Loss: 0.041799851882162446\n",
      "Epoch: 3/5; Train Loss: 0.013265885345055812; Val Loss: 0.03929632244177072\n",
      "Epoch: 4/5; Train Loss: 0.012077526303624962; Val Loss: 0.03765444673911471\n",
      "Epoch: 5/5; Train Loss: 0.012137751176849105; Val Loss: 0.036511862322242454\n"
     ]
    },
    {
     "data": {
      "application/vnd.jupyter.widget-view+json": {
       "model_id": "ef487f096d46419f808c21f33e221255",
       "version_major": 2,
       "version_minor": 0
      },
      "text/plain": [
       "VBox(children=(Label(value='0.001 MB of 0.027 MB uploaded\\r'), FloatProgress(value=0.027697054497183654, max=1…"
      ]
     },
     "metadata": {},
     "output_type": "display_data"
    },
    {
     "data": {
      "text/html": [
       "<style>\n",
       "    table.wandb td:nth-child(1) { padding: 0 10px; text-align: left ; width: auto;} td:nth-child(2) {text-align: left ; width: 100%}\n",
       "    .wandb-row { display: flex; flex-direction: row; flex-wrap: wrap; justify-content: flex-start; width: 100% }\n",
       "    .wandb-col { display: flex; flex-direction: column; flex-basis: 100%; flex: 1; padding: 10px; }\n",
       "    </style>\n",
       "<div class=\"wandb-row\"><div class=\"wandb-col\"><h3>Run history:</h3><br/><table class=\"wandb\"><tr><td>epoch</td><td>▁▁▁▁▁▁▁▁▃▃▃▃▃▃▃▃▅▅▅▅▅▅▅▅▆▆▆▆▆▆▆▆████████</td></tr><tr><td>train_accuracy</td><td>▁▅▅▇▅▆▇▅▅▆▇▇▇▇▇▇▇▇▇▇▆▇█▇▇▇▇▇▆▇█▇▅▇▇██▇▇▇</td></tr><tr><td>train_loss</td><td>█▄▃▃▅▂▂▄▄▄▂▃▂▃▂▂▂▂▂▄▃▂▁▃▂▃▃▂▃▂▁▂▃▃▂▁▁▂▁▂</td></tr><tr><td>val_accuracy</td><td>▁▅▆▆▇▇▇▇██▇█████████████████████████████</td></tr><tr><td>validation_loss</td><td>█▃▃▂▂▂▂▂▁▁▁▁▁▁▁▁▁▁▁▁▁▁▁▁▁▁▁▁▁▁▁▁▁▁▁▁▁▁▁▁</td></tr></table><br/></div><div class=\"wandb-col\"><h3>Run summary:</h3><br/><table class=\"wandb\"><tr><td>epoch</td><td>5</td></tr><tr><td>train_accuracy</td><td>100.0</td></tr><tr><td>train_loss</td><td>0.01214</td></tr><tr><td>val_accuracy</td><td>86.98333</td></tr><tr><td>validation_loss</td><td>0.03651</td></tr></table><br/></div></div>"
      ],
      "text/plain": [
       "<IPython.core.display.HTML object>"
      ]
     },
     "metadata": {},
     "output_type": "display_data"
    },
    {
     "data": {
      "text/html": [
       " View run <strong style=\"color:#cdcd00\">wandering-sweep-71</strong> at: <a href='https://wandb.ai/sumanta_roy/CS6910_assignment_1/runs/mc2otfl7' target=\"_blank\">https://wandb.ai/sumanta_roy/CS6910_assignment_1/runs/mc2otfl7</a><br/>Synced 6 W&B file(s), 0 media file(s), 0 artifact file(s) and 0 other file(s)"
      ],
      "text/plain": [
       "<IPython.core.display.HTML object>"
      ]
     },
     "metadata": {},
     "output_type": "display_data"
    },
    {
     "data": {
      "text/html": [
       "Find logs at: <code>./wandb/run-20240317_102632-mc2otfl7/logs</code>"
      ],
      "text/plain": [
       "<IPython.core.display.HTML object>"
      ]
     },
     "metadata": {},
     "output_type": "display_data"
    },
    {
     "name": "stderr",
     "output_type": "stream",
     "text": [
      "\u001b[34m\u001b[1mwandb\u001b[0m: Agent Starting Run: 2bafzc8p with config:\n",
      "\u001b[34m\u001b[1mwandb\u001b[0m: \tactivation: tanh\n",
      "\u001b[34m\u001b[1mwandb\u001b[0m: \tbatch_size: 16\n",
      "\u001b[34m\u001b[1mwandb\u001b[0m: \tepochs: 10\n",
      "\u001b[34m\u001b[1mwandb\u001b[0m: \thidden_layers: 3\n",
      "\u001b[34m\u001b[1mwandb\u001b[0m: \thidden_size: 32\n",
      "\u001b[34m\u001b[1mwandb\u001b[0m: \tloss: cross_entropy\n",
      "\u001b[34m\u001b[1mwandb\u001b[0m: \tlr: 0.001\n",
      "\u001b[34m\u001b[1mwandb\u001b[0m: \toptimizer: nesterov\n",
      "\u001b[34m\u001b[1mwandb\u001b[0m: \tw_init: glorot\n",
      "\u001b[34m\u001b[1mwandb\u001b[0m: \tweight_decay: 0\n"
     ]
    },
    {
     "data": {
      "text/html": [
       "Tracking run with wandb version 0.16.4"
      ],
      "text/plain": [
       "<IPython.core.display.HTML object>"
      ]
     },
     "metadata": {},
     "output_type": "display_data"
    },
    {
     "data": {
      "text/html": [
       "Run data is saved locally in <code>/Users/sumanta/Desktop/Numpy project/cross_entropy_lesspasses/wandb/run-20240317_102709-2bafzc8p</code>"
      ],
      "text/plain": [
       "<IPython.core.display.HTML object>"
      ]
     },
     "metadata": {},
     "output_type": "display_data"
    },
    {
     "data": {
      "text/html": [
       "Syncing run <strong><a href='https://wandb.ai/sumanta_roy/CS6910_assignment_1/runs/2bafzc8p' target=\"_blank\">snowy-sweep-72</a></strong> to <a href='https://wandb.ai/sumanta_roy/CS6910_assignment_1' target=\"_blank\">Weights & Biases</a> (<a href='https://wandb.me/run' target=\"_blank\">docs</a>)<br/>Sweep page: <a href='https://wandb.ai/sumanta_roy/CS6910_assignment_1/sweeps/mefq3vzl' target=\"_blank\">https://wandb.ai/sumanta_roy/CS6910_assignment_1/sweeps/mefq3vzl</a>"
      ],
      "text/plain": [
       "<IPython.core.display.HTML object>"
      ]
     },
     "metadata": {},
     "output_type": "display_data"
    },
    {
     "data": {
      "text/html": [
       " View project at <a href='https://wandb.ai/sumanta_roy/CS6910_assignment_1' target=\"_blank\">https://wandb.ai/sumanta_roy/CS6910_assignment_1</a>"
      ],
      "text/plain": [
       "<IPython.core.display.HTML object>"
      ]
     },
     "metadata": {},
     "output_type": "display_data"
    },
    {
     "data": {
      "text/html": [
       " View sweep at <a href='https://wandb.ai/sumanta_roy/CS6910_assignment_1/sweeps/mefq3vzl' target=\"_blank\">https://wandb.ai/sumanta_roy/CS6910_assignment_1/sweeps/mefq3vzl</a>"
      ],
      "text/plain": [
       "<IPython.core.display.HTML object>"
      ]
     },
     "metadata": {},
     "output_type": "display_data"
    },
    {
     "data": {
      "text/html": [
       " View run at <a href='https://wandb.ai/sumanta_roy/CS6910_assignment_1/runs/2bafzc8p' target=\"_blank\">https://wandb.ai/sumanta_roy/CS6910_assignment_1/runs/2bafzc8p</a>"
      ],
      "text/plain": [
       "<IPython.core.display.HTML object>"
      ]
     },
     "metadata": {},
     "output_type": "display_data"
    },
    {
     "name": "stdout",
     "output_type": "stream",
     "text": [
      "Epoch: 1/10; Train Loss: 0.013751360998129413; Val Loss: 0.046967829346987164\n",
      "Epoch: 2/10; Train Loss: 0.012060639563723049; Val Loss: 0.041550007491268956\n",
      "Epoch: 3/10; Train Loss: 0.01112434267538596; Val Loss: 0.0390299337463819\n",
      "Epoch: 4/10; Train Loss: 0.010021021972025129; Val Loss: 0.037482046250727215\n",
      "Epoch: 5/10; Train Loss: 0.008946669015351627; Val Loss: 0.03644987267391766\n",
      "Epoch: 6/10; Train Loss: 0.00800769474840834; Val Loss: 0.03572949622917581\n",
      "Epoch: 7/10; Train Loss: 0.007204199465509284; Val Loss: 0.03520623699719044\n",
      "Epoch: 8/10; Train Loss: 0.006548435655859245; Val Loss: 0.034800123560982714\n",
      "Epoch: 9/10; Train Loss: 0.006046295676796706; Val Loss: 0.03447019163593959\n",
      "Epoch: 10/10; Train Loss: 0.0056871432336152074; Val Loss: 0.0341981941983043\n"
     ]
    },
    {
     "data": {
      "application/vnd.jupyter.widget-view+json": {
       "model_id": "e32fe602900f46feb9bcd563baf4b231",
       "version_major": 2,
       "version_minor": 0
      },
      "text/plain": [
       "VBox(children=(Label(value='0.001 MB of 0.001 MB uploaded\\r'), FloatProgress(value=1.0, max=1.0)))"
      ]
     },
     "metadata": {},
     "output_type": "display_data"
    },
    {
     "data": {
      "text/html": [
       "<style>\n",
       "    table.wandb td:nth-child(1) { padding: 0 10px; text-align: left ; width: auto;} td:nth-child(2) {text-align: left ; width: 100%}\n",
       "    .wandb-row { display: flex; flex-direction: row; flex-wrap: wrap; justify-content: flex-start; width: 100% }\n",
       "    .wandb-col { display: flex; flex-direction: column; flex-basis: 100%; flex: 1; padding: 10px; }\n",
       "    </style>\n",
       "<div class=\"wandb-row\"><div class=\"wandb-col\"><h3>Run history:</h3><br/><table class=\"wandb\"><tr><td>epoch</td><td>▁▁▁▁▂▂▂▂▃▃▃▃▃▃▃▃▄▄▄▄▅▅▅▅▆▆▆▆▆▆▆▆▇▇▇▇████</td></tr><tr><td>train_accuracy</td><td>▁▁▇▄█▅▇▇▅▄▄▇▅▄▂▅▁▅▂█▄▅▂▅▅▅▅▂▂▂▅▄▇█▇▅▄█▇▇</td></tr><tr><td>train_loss</td><td>█▅▁▃▃▂▃▁▂▃▄▁▃▃▃▃▄▄▃▁▄▃▄▃▃▃▃▃▃▄▂▂▂▂▁▃▃▂▃▂</td></tr><tr><td>val_accuracy</td><td>▁▄▆▆▆▆▇▇▇▇▇▇▇▇▇▇▇▇█▇█▇▇▇████████████████</td></tr><tr><td>validation_loss</td><td>█▄▃▃▂▂▂▂▂▂▂▂▂▁▁▁▂▁▁▁▁▁▁▁▁▁▁▁▁▁▁▁▁▁▁▁▁▁▁▁</td></tr></table><br/></div><div class=\"wandb-col\"><h3>Run summary:</h3><br/><table class=\"wandb\"><tr><td>epoch</td><td>10</td></tr><tr><td>train_accuracy</td><td>100.0</td></tr><tr><td>train_loss</td><td>0.00569</td></tr><tr><td>val_accuracy</td><td>88.1</td></tr><tr><td>validation_loss</td><td>0.0342</td></tr></table><br/></div></div>"
      ],
      "text/plain": [
       "<IPython.core.display.HTML object>"
      ]
     },
     "metadata": {},
     "output_type": "display_data"
    },
    {
     "data": {
      "text/html": [
       " View run <strong style=\"color:#cdcd00\">snowy-sweep-72</strong> at: <a href='https://wandb.ai/sumanta_roy/CS6910_assignment_1/runs/2bafzc8p' target=\"_blank\">https://wandb.ai/sumanta_roy/CS6910_assignment_1/runs/2bafzc8p</a><br/>Synced 6 W&B file(s), 0 media file(s), 0 artifact file(s) and 0 other file(s)"
      ],
      "text/plain": [
       "<IPython.core.display.HTML object>"
      ]
     },
     "metadata": {},
     "output_type": "display_data"
    },
    {
     "data": {
      "text/html": [
       "Find logs at: <code>./wandb/run-20240317_102709-2bafzc8p/logs</code>"
      ],
      "text/plain": [
       "<IPython.core.display.HTML object>"
      ]
     },
     "metadata": {},
     "output_type": "display_data"
    },
    {
     "name": "stderr",
     "output_type": "stream",
     "text": [
      "\u001b[34m\u001b[1mwandb\u001b[0m: Agent Starting Run: mx6r89tx with config:\n",
      "\u001b[34m\u001b[1mwandb\u001b[0m: \tactivation: relu\n",
      "\u001b[34m\u001b[1mwandb\u001b[0m: \tbatch_size: 16\n",
      "\u001b[34m\u001b[1mwandb\u001b[0m: \tepochs: 5\n",
      "\u001b[34m\u001b[1mwandb\u001b[0m: \thidden_layers: 3\n",
      "\u001b[34m\u001b[1mwandb\u001b[0m: \thidden_size: 64\n",
      "\u001b[34m\u001b[1mwandb\u001b[0m: \tloss: cross_entropy\n",
      "\u001b[34m\u001b[1mwandb\u001b[0m: \tlr: 0.001\n",
      "\u001b[34m\u001b[1mwandb\u001b[0m: \toptimizer: adam\n",
      "\u001b[34m\u001b[1mwandb\u001b[0m: \tw_init: glorot\n",
      "\u001b[34m\u001b[1mwandb\u001b[0m: \tweight_decay: 0\n"
     ]
    },
    {
     "data": {
      "text/html": [
       "Tracking run with wandb version 0.16.4"
      ],
      "text/plain": [
       "<IPython.core.display.HTML object>"
      ]
     },
     "metadata": {},
     "output_type": "display_data"
    },
    {
     "data": {
      "text/html": [
       "Run data is saved locally in <code>/Users/sumanta/Desktop/Numpy project/cross_entropy_lesspasses/wandb/run-20240317_102818-mx6r89tx</code>"
      ],
      "text/plain": [
       "<IPython.core.display.HTML object>"
      ]
     },
     "metadata": {},
     "output_type": "display_data"
    },
    {
     "data": {
      "text/html": [
       "Syncing run <strong><a href='https://wandb.ai/sumanta_roy/CS6910_assignment_1/runs/mx6r89tx' target=\"_blank\">dashing-sweep-73</a></strong> to <a href='https://wandb.ai/sumanta_roy/CS6910_assignment_1' target=\"_blank\">Weights & Biases</a> (<a href='https://wandb.me/run' target=\"_blank\">docs</a>)<br/>Sweep page: <a href='https://wandb.ai/sumanta_roy/CS6910_assignment_1/sweeps/mefq3vzl' target=\"_blank\">https://wandb.ai/sumanta_roy/CS6910_assignment_1/sweeps/mefq3vzl</a>"
      ],
      "text/plain": [
       "<IPython.core.display.HTML object>"
      ]
     },
     "metadata": {},
     "output_type": "display_data"
    },
    {
     "data": {
      "text/html": [
       " View project at <a href='https://wandb.ai/sumanta_roy/CS6910_assignment_1' target=\"_blank\">https://wandb.ai/sumanta_roy/CS6910_assignment_1</a>"
      ],
      "text/plain": [
       "<IPython.core.display.HTML object>"
      ]
     },
     "metadata": {},
     "output_type": "display_data"
    },
    {
     "data": {
      "text/html": [
       " View sweep at <a href='https://wandb.ai/sumanta_roy/CS6910_assignment_1/sweeps/mefq3vzl' target=\"_blank\">https://wandb.ai/sumanta_roy/CS6910_assignment_1/sweeps/mefq3vzl</a>"
      ],
      "text/plain": [
       "<IPython.core.display.HTML object>"
      ]
     },
     "metadata": {},
     "output_type": "display_data"
    },
    {
     "data": {
      "text/html": [
       " View run at <a href='https://wandb.ai/sumanta_roy/CS6910_assignment_1/runs/mx6r89tx' target=\"_blank\">https://wandb.ai/sumanta_roy/CS6910_assignment_1/runs/mx6r89tx</a>"
      ],
      "text/plain": [
       "<IPython.core.display.HTML object>"
      ]
     },
     "metadata": {},
     "output_type": "display_data"
    },
    {
     "name": "stdout",
     "output_type": "stream",
     "text": [
      "Epoch: 1/5; Train Loss: 0.008363939031887573; Val Loss: 0.039893490334478934\n",
      "Epoch: 2/5; Train Loss: 0.008915509323554529; Val Loss: 0.03625272211529481\n",
      "Epoch: 3/5; Train Loss: 0.009147313854104324; Val Loss: 0.03467098480557777\n",
      "Epoch: 4/5; Train Loss: 0.008379730788887565; Val Loss: 0.033974907198685865\n",
      "Epoch: 5/5; Train Loss: 0.00716089107669856; Val Loss: 0.033099978212186326\n"
     ]
    },
    {
     "data": {
      "application/vnd.jupyter.widget-view+json": {
       "model_id": "0f93661f6d334a199ad3fc0000addcb3",
       "version_major": 2,
       "version_minor": 0
      },
      "text/plain": [
       "VBox(children=(Label(value='0.001 MB of 0.001 MB uploaded\\r'), FloatProgress(value=1.0, max=1.0)))"
      ]
     },
     "metadata": {},
     "output_type": "display_data"
    },
    {
     "data": {
      "text/html": [
       "<style>\n",
       "    table.wandb td:nth-child(1) { padding: 0 10px; text-align: left ; width: auto;} td:nth-child(2) {text-align: left ; width: 100%}\n",
       "    .wandb-row { display: flex; flex-direction: row; flex-wrap: wrap; justify-content: flex-start; width: 100% }\n",
       "    .wandb-col { display: flex; flex-direction: column; flex-basis: 100%; flex: 1; padding: 10px; }\n",
       "    </style>\n",
       "<div class=\"wandb-row\"><div class=\"wandb-col\"><h3>Run history:</h3><br/><table class=\"wandb\"><tr><td>epoch</td><td>▁▁▁▁▁▁▁▁▃▃▃▃▃▃▃▃▅▅▅▅▅▅▅▅▆▆▆▆▆▆▆▆████████</td></tr><tr><td>train_accuracy</td><td>▁▃▆▇▄▄▇▄▃▄▇█▇▅▇▇▇▆▆▆▅▅█▅▆▆▆▆▄▇█▆▅▅▆██▇▇█</td></tr><tr><td>train_loss</td><td>█▆▃▃▅▃▃▄▄▅▂▂▂▄▂▂▃▂▂▅▄▄▁▃▃▄▄▃▄▂▁▃▃▃▃▁▁▂▁▃</td></tr><tr><td>val_accuracy</td><td>▁▄▆▆▇▇▇▇▇▇▇▇▇▇▇▇▇▇▇▇▇▇██▇███████▇█▇▇▇▇██</td></tr><tr><td>validation_loss</td><td>█▅▄▃▃▃▃▂▂▃▂▂▂▂▂▂▂▂▂▂▂▂▁▁▂▁▁▁▁▁▁▁▁▁▂▁▂▁▁▁</td></tr></table><br/></div><div class=\"wandb-col\"><h3>Run summary:</h3><br/><table class=\"wandb\"><tr><td>epoch</td><td>5</td></tr><tr><td>train_accuracy</td><td>100.0</td></tr><tr><td>train_loss</td><td>0.00716</td></tr><tr><td>val_accuracy</td><td>88.35</td></tr><tr><td>validation_loss</td><td>0.0331</td></tr></table><br/></div></div>"
      ],
      "text/plain": [
       "<IPython.core.display.HTML object>"
      ]
     },
     "metadata": {},
     "output_type": "display_data"
    },
    {
     "data": {
      "text/html": [
       " View run <strong style=\"color:#cdcd00\">dashing-sweep-73</strong> at: <a href='https://wandb.ai/sumanta_roy/CS6910_assignment_1/runs/mx6r89tx' target=\"_blank\">https://wandb.ai/sumanta_roy/CS6910_assignment_1/runs/mx6r89tx</a><br/>Synced 6 W&B file(s), 0 media file(s), 0 artifact file(s) and 0 other file(s)"
      ],
      "text/plain": [
       "<IPython.core.display.HTML object>"
      ]
     },
     "metadata": {},
     "output_type": "display_data"
    },
    {
     "data": {
      "text/html": [
       "Find logs at: <code>./wandb/run-20240317_102818-mx6r89tx/logs</code>"
      ],
      "text/plain": [
       "<IPython.core.display.HTML object>"
      ]
     },
     "metadata": {},
     "output_type": "display_data"
    },
    {
     "name": "stderr",
     "output_type": "stream",
     "text": [
      "\u001b[34m\u001b[1mwandb\u001b[0m: Agent Starting Run: x80c71qh with config:\n",
      "\u001b[34m\u001b[1mwandb\u001b[0m: \tactivation: tanh\n",
      "\u001b[34m\u001b[1mwandb\u001b[0m: \tbatch_size: 16\n",
      "\u001b[34m\u001b[1mwandb\u001b[0m: \tepochs: 10\n",
      "\u001b[34m\u001b[1mwandb\u001b[0m: \thidden_layers: 3\n",
      "\u001b[34m\u001b[1mwandb\u001b[0m: \thidden_size: 64\n",
      "\u001b[34m\u001b[1mwandb\u001b[0m: \tloss: cross_entropy\n",
      "\u001b[34m\u001b[1mwandb\u001b[0m: \tlr: 0.0001\n",
      "\u001b[34m\u001b[1mwandb\u001b[0m: \toptimizer: adam\n",
      "\u001b[34m\u001b[1mwandb\u001b[0m: \tw_init: glorot\n",
      "\u001b[34m\u001b[1mwandb\u001b[0m: \tweight_decay: 0.0005\n"
     ]
    },
    {
     "data": {
      "text/html": [
       "Tracking run with wandb version 0.16.4"
      ],
      "text/plain": [
       "<IPython.core.display.HTML object>"
      ]
     },
     "metadata": {},
     "output_type": "display_data"
    },
    {
     "data": {
      "text/html": [
       "Run data is saved locally in <code>/Users/sumanta/Desktop/Numpy project/cross_entropy_lesspasses/wandb/run-20240317_102905-x80c71qh</code>"
      ],
      "text/plain": [
       "<IPython.core.display.HTML object>"
      ]
     },
     "metadata": {},
     "output_type": "display_data"
    },
    {
     "data": {
      "text/html": [
       "Syncing run <strong><a href='https://wandb.ai/sumanta_roy/CS6910_assignment_1/runs/x80c71qh' target=\"_blank\">splendid-sweep-74</a></strong> to <a href='https://wandb.ai/sumanta_roy/CS6910_assignment_1' target=\"_blank\">Weights & Biases</a> (<a href='https://wandb.me/run' target=\"_blank\">docs</a>)<br/>Sweep page: <a href='https://wandb.ai/sumanta_roy/CS6910_assignment_1/sweeps/mefq3vzl' target=\"_blank\">https://wandb.ai/sumanta_roy/CS6910_assignment_1/sweeps/mefq3vzl</a>"
      ],
      "text/plain": [
       "<IPython.core.display.HTML object>"
      ]
     },
     "metadata": {},
     "output_type": "display_data"
    },
    {
     "data": {
      "text/html": [
       " View project at <a href='https://wandb.ai/sumanta_roy/CS6910_assignment_1' target=\"_blank\">https://wandb.ai/sumanta_roy/CS6910_assignment_1</a>"
      ],
      "text/plain": [
       "<IPython.core.display.HTML object>"
      ]
     },
     "metadata": {},
     "output_type": "display_data"
    },
    {
     "data": {
      "text/html": [
       " View sweep at <a href='https://wandb.ai/sumanta_roy/CS6910_assignment_1/sweeps/mefq3vzl' target=\"_blank\">https://wandb.ai/sumanta_roy/CS6910_assignment_1/sweeps/mefq3vzl</a>"
      ],
      "text/plain": [
       "<IPython.core.display.HTML object>"
      ]
     },
     "metadata": {},
     "output_type": "display_data"
    },
    {
     "data": {
      "text/html": [
       " View run at <a href='https://wandb.ai/sumanta_roy/CS6910_assignment_1/runs/x80c71qh' target=\"_blank\">https://wandb.ai/sumanta_roy/CS6910_assignment_1/runs/x80c71qh</a>"
      ],
      "text/plain": [
       "<IPython.core.display.HTML object>"
      ]
     },
     "metadata": {},
     "output_type": "display_data"
    },
    {
     "name": "stdout",
     "output_type": "stream",
     "text": [
      "Epoch: 1/10; Train Loss: 0.024260335593624862; Val Loss: 0.053449294627785054\n",
      "Epoch: 2/10; Train Loss: 0.01868617993692747; Val Loss: 0.04620916362253778\n",
      "Epoch: 3/10; Train Loss: 0.017182681456627873; Val Loss: 0.04314939096653759\n",
      "Epoch: 4/10; Train Loss: 0.01693781382482527; Val Loss: 0.04130963234153175\n",
      "Epoch: 5/10; Train Loss: 0.017006438807248447; Val Loss: 0.04000639151247775\n",
      "Epoch: 6/10; Train Loss: 0.017108237948552808; Val Loss: 0.03900409456831602\n",
      "Epoch: 7/10; Train Loss: 0.01716698303598469; Val Loss: 0.038196336582837755\n",
      "Epoch: 8/10; Train Loss: 0.017167620980325593; Val Loss: 0.03752520042876948\n",
      "Epoch: 9/10; Train Loss: 0.017118022377280044; Val Loss: 0.03695560215751906\n",
      "Epoch: 10/10; Train Loss: 0.017035557134538765; Val Loss: 0.03646460417816804\n"
     ]
    },
    {
     "data": {
      "application/vnd.jupyter.widget-view+json": {
       "model_id": "bdc823eefe004773965f12880f624edf",
       "version_major": 2,
       "version_minor": 0
      },
      "text/plain": [
       "VBox(children=(Label(value='0.001 MB of 0.027 MB uploaded\\r'), FloatProgress(value=0.027319697076933967, max=1…"
      ]
     },
     "metadata": {},
     "output_type": "display_data"
    },
    {
     "data": {
      "text/html": [
       "<style>\n",
       "    table.wandb td:nth-child(1) { padding: 0 10px; text-align: left ; width: auto;} td:nth-child(2) {text-align: left ; width: 100%}\n",
       "    .wandb-row { display: flex; flex-direction: row; flex-wrap: wrap; justify-content: flex-start; width: 100% }\n",
       "    .wandb-col { display: flex; flex-direction: column; flex-basis: 100%; flex: 1; padding: 10px; }\n",
       "    </style>\n",
       "<div class=\"wandb-row\"><div class=\"wandb-col\"><h3>Run history:</h3><br/><table class=\"wandb\"><tr><td>epoch</td><td>▁▁▁▁▂▂▂▂▃▃▃▃▃▃▃▃▄▄▄▄▅▅▅▅▆▆▆▆▆▆▆▆▇▇▇▇████</td></tr><tr><td>train_accuracy</td><td>▁▅▇▅▃▇▇█▆▂▅▆▅▅▃▆▅▇▅▇▅▆▅▇▅▆▆▅▃▂▆▆▆▇▇▆▃▇▅▆</td></tr><tr><td>train_loss</td><td>█▅▂▃▄▂▃▂▂▃▃▂▃▃▄▂▄▂▂▁▃▃▃▃▄▄▃▃▄▄▁▃▃▁▁▃▃▂▃▂</td></tr><tr><td>val_accuracy</td><td>▁▃▅▆▆▇▇▇▇▇▇▇▇▇▇▇▇█▇█████████████████████</td></tr><tr><td>validation_loss</td><td>█▅▄▃▃▃▂▂▂▂▂▂▂▂▂▂▂▁▁▁▁▁▁▁▁▁▁▁▁▁▁▁▁▁▁▁▁▁▁▁</td></tr></table><br/></div><div class=\"wandb-col\"><h3>Run summary:</h3><br/><table class=\"wandb\"><tr><td>epoch</td><td>10</td></tr><tr><td>train_accuracy</td><td>93.75</td></tr><tr><td>train_loss</td><td>0.01704</td></tr><tr><td>val_accuracy</td><td>87.26667</td></tr><tr><td>validation_loss</td><td>0.03646</td></tr></table><br/></div></div>"
      ],
      "text/plain": [
       "<IPython.core.display.HTML object>"
      ]
     },
     "metadata": {},
     "output_type": "display_data"
    },
    {
     "data": {
      "text/html": [
       " View run <strong style=\"color:#cdcd00\">splendid-sweep-74</strong> at: <a href='https://wandb.ai/sumanta_roy/CS6910_assignment_1/runs/x80c71qh' target=\"_blank\">https://wandb.ai/sumanta_roy/CS6910_assignment_1/runs/x80c71qh</a><br/>Synced 6 W&B file(s), 0 media file(s), 0 artifact file(s) and 0 other file(s)"
      ],
      "text/plain": [
       "<IPython.core.display.HTML object>"
      ]
     },
     "metadata": {},
     "output_type": "display_data"
    },
    {
     "data": {
      "text/html": [
       "Find logs at: <code>./wandb/run-20240317_102905-x80c71qh/logs</code>"
      ],
      "text/plain": [
       "<IPython.core.display.HTML object>"
      ]
     },
     "metadata": {},
     "output_type": "display_data"
    },
    {
     "name": "stderr",
     "output_type": "stream",
     "text": [
      "\u001b[34m\u001b[1mwandb\u001b[0m: Sweep Agent: Waiting for job.\n",
      "\u001b[34m\u001b[1mwandb\u001b[0m: Job received.\n",
      "\u001b[34m\u001b[1mwandb\u001b[0m: Agent Starting Run: yfqig38w with config:\n",
      "\u001b[34m\u001b[1mwandb\u001b[0m: \tactivation: relu\n",
      "\u001b[34m\u001b[1mwandb\u001b[0m: \tbatch_size: 16\n",
      "\u001b[34m\u001b[1mwandb\u001b[0m: \tepochs: 5\n",
      "\u001b[34m\u001b[1mwandb\u001b[0m: \thidden_layers: 3\n",
      "\u001b[34m\u001b[1mwandb\u001b[0m: \thidden_size: 128\n",
      "\u001b[34m\u001b[1mwandb\u001b[0m: \tloss: cross_entropy\n",
      "\u001b[34m\u001b[1mwandb\u001b[0m: \tlr: 0.001\n",
      "\u001b[34m\u001b[1mwandb\u001b[0m: \toptimizer: nesterov\n",
      "\u001b[34m\u001b[1mwandb\u001b[0m: \tw_init: random\n",
      "\u001b[34m\u001b[1mwandb\u001b[0m: \tweight_decay: 0\n"
     ]
    },
    {
     "data": {
      "text/html": [
       "Tracking run with wandb version 0.16.4"
      ],
      "text/plain": [
       "<IPython.core.display.HTML object>"
      ]
     },
     "metadata": {},
     "output_type": "display_data"
    },
    {
     "data": {
      "text/html": [
       "Run data is saved locally in <code>/Users/sumanta/Desktop/Numpy project/cross_entropy_lesspasses/wandb/run-20240317_103034-yfqig38w</code>"
      ],
      "text/plain": [
       "<IPython.core.display.HTML object>"
      ]
     },
     "metadata": {},
     "output_type": "display_data"
    },
    {
     "data": {
      "text/html": [
       "Syncing run <strong><a href='https://wandb.ai/sumanta_roy/CS6910_assignment_1/runs/yfqig38w' target=\"_blank\">silver-sweep-75</a></strong> to <a href='https://wandb.ai/sumanta_roy/CS6910_assignment_1' target=\"_blank\">Weights & Biases</a> (<a href='https://wandb.me/run' target=\"_blank\">docs</a>)<br/>Sweep page: <a href='https://wandb.ai/sumanta_roy/CS6910_assignment_1/sweeps/mefq3vzl' target=\"_blank\">https://wandb.ai/sumanta_roy/CS6910_assignment_1/sweeps/mefq3vzl</a>"
      ],
      "text/plain": [
       "<IPython.core.display.HTML object>"
      ]
     },
     "metadata": {},
     "output_type": "display_data"
    },
    {
     "data": {
      "text/html": [
       " View project at <a href='https://wandb.ai/sumanta_roy/CS6910_assignment_1' target=\"_blank\">https://wandb.ai/sumanta_roy/CS6910_assignment_1</a>"
      ],
      "text/plain": [
       "<IPython.core.display.HTML object>"
      ]
     },
     "metadata": {},
     "output_type": "display_data"
    },
    {
     "data": {
      "text/html": [
       " View sweep at <a href='https://wandb.ai/sumanta_roy/CS6910_assignment_1/sweeps/mefq3vzl' target=\"_blank\">https://wandb.ai/sumanta_roy/CS6910_assignment_1/sweeps/mefq3vzl</a>"
      ],
      "text/plain": [
       "<IPython.core.display.HTML object>"
      ]
     },
     "metadata": {},
     "output_type": "display_data"
    },
    {
     "data": {
      "text/html": [
       " View run at <a href='https://wandb.ai/sumanta_roy/CS6910_assignment_1/runs/yfqig38w' target=\"_blank\">https://wandb.ai/sumanta_roy/CS6910_assignment_1/runs/yfqig38w</a>"
      ],
      "text/plain": [
       "<IPython.core.display.HTML object>"
      ]
     },
     "metadata": {},
     "output_type": "display_data"
    },
    {
     "name": "stdout",
     "output_type": "stream",
     "text": [
      "Epoch: 1/5; Train Loss: 0.012937878432532334; Val Loss: 0.05473383787966301\n",
      "Epoch: 2/5; Train Loss: 0.011175708921340231; Val Loss: 0.04896085197053627\n",
      "Epoch: 3/5; Train Loss: 0.008653895642767051; Val Loss: 0.04618748012472967\n",
      "Epoch: 4/5; Train Loss: 0.007053263708924867; Val Loss: 0.044641549048152956\n",
      "Epoch: 5/5; Train Loss: 0.006606109842437502; Val Loss: 0.043519267981871855\n"
     ]
    },
    {
     "data": {
      "application/vnd.jupyter.widget-view+json": {
       "model_id": "015b8aaf103d4e16a53af7c729a01a86",
       "version_major": 2,
       "version_minor": 0
      },
      "text/plain": [
       "VBox(children=(Label(value='0.001 MB of 0.001 MB uploaded\\r'), FloatProgress(value=1.0, max=1.0)))"
      ]
     },
     "metadata": {},
     "output_type": "display_data"
    },
    {
     "data": {
      "text/html": [
       "<style>\n",
       "    table.wandb td:nth-child(1) { padding: 0 10px; text-align: left ; width: auto;} td:nth-child(2) {text-align: left ; width: 100%}\n",
       "    .wandb-row { display: flex; flex-direction: row; flex-wrap: wrap; justify-content: flex-start; width: 100% }\n",
       "    .wandb-col { display: flex; flex-direction: column; flex-basis: 100%; flex: 1; padding: 10px; }\n",
       "    </style>\n",
       "<div class=\"wandb-row\"><div class=\"wandb-col\"><h3>Run history:</h3><br/><table class=\"wandb\"><tr><td>epoch</td><td>▁▁▁▁▁▁▁▁▃▃▃▃▃▃▃▃▅▅▅▅▅▅▅▅▆▆▆▆▆▆▆▆████████</td></tr><tr><td>train_accuracy</td><td>▁▅▅▅▃▆▅▅▄▅▇▆▅▅█▆▆▆▇▅▄▆▇▆▇▆▆▆▅▆▇▅▅▄▆▇▇█▇▇</td></tr><tr><td>train_loss</td><td>█▃▂▂▂▁▂▂▂▂▁▂▁▂▁▁▁▁▁▂▂▂▁▂▁▁▁▂▂▁▁▂▂▂▁▁▁▁▁▁</td></tr><tr><td>val_accuracy</td><td>▁▂▅▅▅▆▆▆▇▇▇▇▇▇▇▇▇▇▇▇▇▇▇██████▇▇█████▇███</td></tr><tr><td>validation_loss</td><td>█▃▂▂▂▂▂▁▁▁▁▁▁▁▁▁▁▁▁▁▁▁▁▁▁▁▁▁▁▁▁▁▁▁▁▁▁▁▁▁</td></tr></table><br/></div><div class=\"wandb-col\"><h3>Run summary:</h3><br/><table class=\"wandb\"><tr><td>epoch</td><td>5</td></tr><tr><td>train_accuracy</td><td>100.0</td></tr><tr><td>train_loss</td><td>0.00661</td></tr><tr><td>val_accuracy</td><td>84.78333</td></tr><tr><td>validation_loss</td><td>0.04352</td></tr></table><br/></div></div>"
      ],
      "text/plain": [
       "<IPython.core.display.HTML object>"
      ]
     },
     "metadata": {},
     "output_type": "display_data"
    },
    {
     "data": {
      "text/html": [
       " View run <strong style=\"color:#cdcd00\">silver-sweep-75</strong> at: <a href='https://wandb.ai/sumanta_roy/CS6910_assignment_1/runs/yfqig38w' target=\"_blank\">https://wandb.ai/sumanta_roy/CS6910_assignment_1/runs/yfqig38w</a><br/>Synced 6 W&B file(s), 0 media file(s), 0 artifact file(s) and 0 other file(s)"
      ],
      "text/plain": [
       "<IPython.core.display.HTML object>"
      ]
     },
     "metadata": {},
     "output_type": "display_data"
    },
    {
     "data": {
      "text/html": [
       "Find logs at: <code>./wandb/run-20240317_103034-yfqig38w/logs</code>"
      ],
      "text/plain": [
       "<IPython.core.display.HTML object>"
      ]
     },
     "metadata": {},
     "output_type": "display_data"
    },
    {
     "name": "stderr",
     "output_type": "stream",
     "text": [
      "\u001b[34m\u001b[1mwandb\u001b[0m: Sweep Agent: Waiting for job.\n",
      "\u001b[34m\u001b[1mwandb\u001b[0m: Job received.\n",
      "\u001b[34m\u001b[1mwandb\u001b[0m: Agent Starting Run: 56w9atji with config:\n",
      "\u001b[34m\u001b[1mwandb\u001b[0m: \tactivation: tanh\n",
      "\u001b[34m\u001b[1mwandb\u001b[0m: \tbatch_size: 16\n",
      "\u001b[34m\u001b[1mwandb\u001b[0m: \tepochs: 5\n",
      "\u001b[34m\u001b[1mwandb\u001b[0m: \thidden_layers: 3\n",
      "\u001b[34m\u001b[1mwandb\u001b[0m: \thidden_size: 64\n",
      "\u001b[34m\u001b[1mwandb\u001b[0m: \tloss: cross_entropy\n",
      "\u001b[34m\u001b[1mwandb\u001b[0m: \tlr: 0.001\n",
      "\u001b[34m\u001b[1mwandb\u001b[0m: \toptimizer: rmsprop\n",
      "\u001b[34m\u001b[1mwandb\u001b[0m: \tw_init: glorot\n",
      "\u001b[34m\u001b[1mwandb\u001b[0m: \tweight_decay: 0\n"
     ]
    },
    {
     "data": {
      "text/html": [
       "Tracking run with wandb version 0.16.4"
      ],
      "text/plain": [
       "<IPython.core.display.HTML object>"
      ]
     },
     "metadata": {},
     "output_type": "display_data"
    },
    {
     "data": {
      "text/html": [
       "Run data is saved locally in <code>/Users/sumanta/Desktop/Numpy project/cross_entropy_lesspasses/wandb/run-20240317_103157-56w9atji</code>"
      ],
      "text/plain": [
       "<IPython.core.display.HTML object>"
      ]
     },
     "metadata": {},
     "output_type": "display_data"
    },
    {
     "data": {
      "text/html": [
       "Syncing run <strong><a href='https://wandb.ai/sumanta_roy/CS6910_assignment_1/runs/56w9atji' target=\"_blank\">bumbling-sweep-76</a></strong> to <a href='https://wandb.ai/sumanta_roy/CS6910_assignment_1' target=\"_blank\">Weights & Biases</a> (<a href='https://wandb.me/run' target=\"_blank\">docs</a>)<br/>Sweep page: <a href='https://wandb.ai/sumanta_roy/CS6910_assignment_1/sweeps/mefq3vzl' target=\"_blank\">https://wandb.ai/sumanta_roy/CS6910_assignment_1/sweeps/mefq3vzl</a>"
      ],
      "text/plain": [
       "<IPython.core.display.HTML object>"
      ]
     },
     "metadata": {},
     "output_type": "display_data"
    },
    {
     "data": {
      "text/html": [
       " View project at <a href='https://wandb.ai/sumanta_roy/CS6910_assignment_1' target=\"_blank\">https://wandb.ai/sumanta_roy/CS6910_assignment_1</a>"
      ],
      "text/plain": [
       "<IPython.core.display.HTML object>"
      ]
     },
     "metadata": {},
     "output_type": "display_data"
    },
    {
     "data": {
      "text/html": [
       " View sweep at <a href='https://wandb.ai/sumanta_roy/CS6910_assignment_1/sweeps/mefq3vzl' target=\"_blank\">https://wandb.ai/sumanta_roy/CS6910_assignment_1/sweeps/mefq3vzl</a>"
      ],
      "text/plain": [
       "<IPython.core.display.HTML object>"
      ]
     },
     "metadata": {},
     "output_type": "display_data"
    },
    {
     "data": {
      "text/html": [
       " View run at <a href='https://wandb.ai/sumanta_roy/CS6910_assignment_1/runs/56w9atji' target=\"_blank\">https://wandb.ai/sumanta_roy/CS6910_assignment_1/runs/56w9atji</a>"
      ],
      "text/plain": [
       "<IPython.core.display.HTML object>"
      ]
     },
     "metadata": {},
     "output_type": "display_data"
    },
    {
     "name": "stdout",
     "output_type": "stream",
     "text": [
      "Epoch: 1/5; Train Loss: 0.010005253877244168; Val Loss: 0.04021243898638477\n",
      "Epoch: 2/5; Train Loss: 0.009144434795675307; Val Loss: 0.03779322969737223\n",
      "Epoch: 3/5; Train Loss: 0.0075928995123881226; Val Loss: 0.03644752611817284\n",
      "Epoch: 4/5; Train Loss: 0.005777979732150445; Val Loss: 0.03581677353859448\n",
      "Epoch: 5/5; Train Loss: 0.004614997520634513; Val Loss: 0.0355483200787129\n"
     ]
    },
    {
     "data": {
      "application/vnd.jupyter.widget-view+json": {
       "model_id": "04059ca89e9f49de838de9860d5423e2",
       "version_major": 2,
       "version_minor": 0
      },
      "text/plain": [
       "VBox(children=(Label(value='0.001 MB of 0.001 MB uploaded\\r'), FloatProgress(value=1.0, max=1.0)))"
      ]
     },
     "metadata": {},
     "output_type": "display_data"
    },
    {
     "data": {
      "text/html": [
       "<style>\n",
       "    table.wandb td:nth-child(1) { padding: 0 10px; text-align: left ; width: auto;} td:nth-child(2) {text-align: left ; width: 100%}\n",
       "    .wandb-row { display: flex; flex-direction: row; flex-wrap: wrap; justify-content: flex-start; width: 100% }\n",
       "    .wandb-col { display: flex; flex-direction: column; flex-basis: 100%; flex: 1; padding: 10px; }\n",
       "    </style>\n",
       "<div class=\"wandb-row\"><div class=\"wandb-col\"><h3>Run history:</h3><br/><table class=\"wandb\"><tr><td>epoch</td><td>▁▁▁▁▁▁▁▁▃▃▃▃▃▃▃▃▅▅▅▅▅▅▅▅▆▆▆▆▆▆▆▆████████</td></tr><tr><td>train_accuracy</td><td>▁▃▇▇▃▅▇▂▆▅▆█▅▆▇▇▇▇▅▅▅▅▇▃▆▆▆▆▆██▇▅▇▇█▇█▇▆</td></tr><tr><td>train_loss</td><td>█▅▂▂▄▄▂▅▃▄▃▂▃▃▂▂▃▂▂▄▃▄▁▃▃▄▃▂▃▁▁▂▃▂▃▁▁▁▂▂</td></tr><tr><td>val_accuracy</td><td>▁▅▆▇▇▇▇▇▇▇▇▇▇▇▇▇█▇▇█▇██████▇██▇███▇█████</td></tr><tr><td>validation_loss</td><td>█▄▃▃▂▂▂▂▂▂▂▂▂▂▂▂▁▂▂▁▂▁▁▁▁▁▁▂▁▂▁▁▁▁▁▁▁▁▁▁</td></tr></table><br/></div><div class=\"wandb-col\"><h3>Run summary:</h3><br/><table class=\"wandb\"><tr><td>epoch</td><td>5</td></tr><tr><td>train_accuracy</td><td>100.0</td></tr><tr><td>train_loss</td><td>0.00461</td></tr><tr><td>val_accuracy</td><td>87.75</td></tr><tr><td>validation_loss</td><td>0.03555</td></tr></table><br/></div></div>"
      ],
      "text/plain": [
       "<IPython.core.display.HTML object>"
      ]
     },
     "metadata": {},
     "output_type": "display_data"
    },
    {
     "data": {
      "text/html": [
       " View run <strong style=\"color:#cdcd00\">bumbling-sweep-76</strong> at: <a href='https://wandb.ai/sumanta_roy/CS6910_assignment_1/runs/56w9atji' target=\"_blank\">https://wandb.ai/sumanta_roy/CS6910_assignment_1/runs/56w9atji</a><br/>Synced 6 W&B file(s), 0 media file(s), 0 artifact file(s) and 0 other file(s)"
      ],
      "text/plain": [
       "<IPython.core.display.HTML object>"
      ]
     },
     "metadata": {},
     "output_type": "display_data"
    },
    {
     "data": {
      "text/html": [
       "Find logs at: <code>./wandb/run-20240317_103157-56w9atji/logs</code>"
      ],
      "text/plain": [
       "<IPython.core.display.HTML object>"
      ]
     },
     "metadata": {},
     "output_type": "display_data"
    },
    {
     "name": "stderr",
     "output_type": "stream",
     "text": [
      "\u001b[34m\u001b[1mwandb\u001b[0m: Agent Starting Run: 7pdpq9nv with config:\n",
      "\u001b[34m\u001b[1mwandb\u001b[0m: \tactivation: tanh\n",
      "\u001b[34m\u001b[1mwandb\u001b[0m: \tbatch_size: 16\n",
      "\u001b[34m\u001b[1mwandb\u001b[0m: \tepochs: 10\n",
      "\u001b[34m\u001b[1mwandb\u001b[0m: \thidden_layers: 3\n",
      "\u001b[34m\u001b[1mwandb\u001b[0m: \thidden_size: 128\n",
      "\u001b[34m\u001b[1mwandb\u001b[0m: \tloss: cross_entropy\n",
      "\u001b[34m\u001b[1mwandb\u001b[0m: \tlr: 0.001\n",
      "\u001b[34m\u001b[1mwandb\u001b[0m: \toptimizer: nadam\n",
      "\u001b[34m\u001b[1mwandb\u001b[0m: \tw_init: glorot\n",
      "\u001b[34m\u001b[1mwandb\u001b[0m: \tweight_decay: 0\n"
     ]
    },
    {
     "data": {
      "text/html": [
       "Tracking run with wandb version 0.16.4"
      ],
      "text/plain": [
       "<IPython.core.display.HTML object>"
      ]
     },
     "metadata": {},
     "output_type": "display_data"
    },
    {
     "data": {
      "text/html": [
       "Run data is saved locally in <code>/Users/sumanta/Desktop/Numpy project/cross_entropy_lesspasses/wandb/run-20240317_103240-7pdpq9nv</code>"
      ],
      "text/plain": [
       "<IPython.core.display.HTML object>"
      ]
     },
     "metadata": {},
     "output_type": "display_data"
    },
    {
     "data": {
      "text/html": [
       "Syncing run <strong><a href='https://wandb.ai/sumanta_roy/CS6910_assignment_1/runs/7pdpq9nv' target=\"_blank\">prime-sweep-77</a></strong> to <a href='https://wandb.ai/sumanta_roy/CS6910_assignment_1' target=\"_blank\">Weights & Biases</a> (<a href='https://wandb.me/run' target=\"_blank\">docs</a>)<br/>Sweep page: <a href='https://wandb.ai/sumanta_roy/CS6910_assignment_1/sweeps/mefq3vzl' target=\"_blank\">https://wandb.ai/sumanta_roy/CS6910_assignment_1/sweeps/mefq3vzl</a>"
      ],
      "text/plain": [
       "<IPython.core.display.HTML object>"
      ]
     },
     "metadata": {},
     "output_type": "display_data"
    },
    {
     "data": {
      "text/html": [
       " View project at <a href='https://wandb.ai/sumanta_roy/CS6910_assignment_1' target=\"_blank\">https://wandb.ai/sumanta_roy/CS6910_assignment_1</a>"
      ],
      "text/plain": [
       "<IPython.core.display.HTML object>"
      ]
     },
     "metadata": {},
     "output_type": "display_data"
    },
    {
     "data": {
      "text/html": [
       " View sweep at <a href='https://wandb.ai/sumanta_roy/CS6910_assignment_1/sweeps/mefq3vzl' target=\"_blank\">https://wandb.ai/sumanta_roy/CS6910_assignment_1/sweeps/mefq3vzl</a>"
      ],
      "text/plain": [
       "<IPython.core.display.HTML object>"
      ]
     },
     "metadata": {},
     "output_type": "display_data"
    },
    {
     "data": {
      "text/html": [
       " View run at <a href='https://wandb.ai/sumanta_roy/CS6910_assignment_1/runs/7pdpq9nv' target=\"_blank\">https://wandb.ai/sumanta_roy/CS6910_assignment_1/runs/7pdpq9nv</a>"
      ],
      "text/plain": [
       "<IPython.core.display.HTML object>"
      ]
     },
     "metadata": {},
     "output_type": "display_data"
    },
    {
     "name": "stdout",
     "output_type": "stream",
     "text": [
      "Epoch: 1/10; Train Loss: 0.009076838750093224; Val Loss: 0.04200055085309695\n",
      "Epoch: 2/10; Train Loss: 0.008407520278605645; Val Loss: 0.03871846966564172\n",
      "Epoch: 3/10; Train Loss: 0.008127614686594615; Val Loss: 0.03696593896546735\n",
      "Epoch: 4/10; Train Loss: 0.007959048471619202; Val Loss: 0.03577460880870536\n",
      "Epoch: 5/10; Train Loss: 0.007831986376534912; Val Loss: 0.034882080944142725\n",
      "Epoch: 6/10; Train Loss: 0.007704908716570931; Val Loss: 0.03417301054400193\n",
      "Epoch: 7/10; Train Loss: 0.007568116818611806; Val Loss: 0.033587148479098085\n",
      "Epoch: 8/10; Train Loss: 0.007427680413068291; Val Loss: 0.03309028049810962\n",
      "Epoch: 9/10; Train Loss: 0.007295008126845979; Val Loss: 0.03266177410393016\n",
      "Epoch: 10/10; Train Loss: 0.007178399902146404; Val Loss: 0.03228946494599364\n"
     ]
    },
    {
     "data": {
      "application/vnd.jupyter.widget-view+json": {
       "model_id": "7ad942c82a0240a7a616c298dc343616",
       "version_major": 2,
       "version_minor": 0
      },
      "text/plain": [
       "VBox(children=(Label(value='0.001 MB of 0.027 MB uploaded\\r'), FloatProgress(value=0.027330335964881228, max=1…"
      ]
     },
     "metadata": {},
     "output_type": "display_data"
    },
    {
     "data": {
      "text/html": [
       "<style>\n",
       "    table.wandb td:nth-child(1) { padding: 0 10px; text-align: left ; width: auto;} td:nth-child(2) {text-align: left ; width: 100%}\n",
       "    .wandb-row { display: flex; flex-direction: row; flex-wrap: wrap; justify-content: flex-start; width: 100% }\n",
       "    .wandb-col { display: flex; flex-direction: column; flex-basis: 100%; flex: 1; padding: 10px; }\n",
       "    </style>\n",
       "<div class=\"wandb-row\"><div class=\"wandb-col\"><h3>Run history:</h3><br/><table class=\"wandb\"><tr><td>epoch</td><td>▁▁▁▁▂▂▂▂▃▃▃▃▃▃▃▃▄▄▄▄▅▅▅▅▆▆▆▆▆▆▆▆▇▇▇▇████</td></tr><tr><td>train_accuracy</td><td>▁▆▆▆▆▆▆▆▆▃▅▅▅▃▅▅▅▅▃█▁▅▃▆▃▅▅▁▃▃▅▅▃▅▆▅▃▅▅▃</td></tr><tr><td>train_loss</td><td>█▄▁▃▄▃▃▂▃▄▅▂▄▅▄▃▆▃▃▁▅▅▄▃▄▅▅▅▄▅▂▂▃▂▁▃▄▃▂▃</td></tr><tr><td>val_accuracy</td><td>▁▄▅▆▅▅▆▆▆▆▆▆▇▇▇▇▇▇▇▇▇▇▇▇▇▇▇█▇█▇▇██▇█████</td></tr><tr><td>validation_loss</td><td>█▅▄▄▃▃▃▃▃▂▃▂▂▂▂▂▂▂▂▂▂▂▂▂▂▂▁▁▁▁▁▁▁▁▁▁▁▁▁▁</td></tr></table><br/></div><div class=\"wandb-col\"><h3>Run summary:</h3><br/><table class=\"wandb\"><tr><td>epoch</td><td>10</td></tr><tr><td>train_accuracy</td><td>100.0</td></tr><tr><td>train_loss</td><td>0.00718</td></tr><tr><td>val_accuracy</td><td>88.85</td></tr><tr><td>validation_loss</td><td>0.03229</td></tr></table><br/></div></div>"
      ],
      "text/plain": [
       "<IPython.core.display.HTML object>"
      ]
     },
     "metadata": {},
     "output_type": "display_data"
    },
    {
     "data": {
      "text/html": [
       " View run <strong style=\"color:#cdcd00\">prime-sweep-77</strong> at: <a href='https://wandb.ai/sumanta_roy/CS6910_assignment_1/runs/7pdpq9nv' target=\"_blank\">https://wandb.ai/sumanta_roy/CS6910_assignment_1/runs/7pdpq9nv</a><br/>Synced 6 W&B file(s), 0 media file(s), 0 artifact file(s) and 0 other file(s)"
      ],
      "text/plain": [
       "<IPython.core.display.HTML object>"
      ]
     },
     "metadata": {},
     "output_type": "display_data"
    },
    {
     "data": {
      "text/html": [
       "Find logs at: <code>./wandb/run-20240317_103240-7pdpq9nv/logs</code>"
      ],
      "text/plain": [
       "<IPython.core.display.HTML object>"
      ]
     },
     "metadata": {},
     "output_type": "display_data"
    },
    {
     "name": "stderr",
     "output_type": "stream",
     "text": [
      "\u001b[34m\u001b[1mwandb\u001b[0m: Sweep Agent: Waiting for job.\n",
      "\u001b[34m\u001b[1mwandb\u001b[0m: Job received.\n",
      "\u001b[34m\u001b[1mwandb\u001b[0m: Agent Starting Run: wksy473b with config:\n",
      "\u001b[34m\u001b[1mwandb\u001b[0m: \tactivation: tanh\n",
      "\u001b[34m\u001b[1mwandb\u001b[0m: \tbatch_size: 16\n",
      "\u001b[34m\u001b[1mwandb\u001b[0m: \tepochs: 10\n",
      "\u001b[34m\u001b[1mwandb\u001b[0m: \thidden_layers: 3\n",
      "\u001b[34m\u001b[1mwandb\u001b[0m: \thidden_size: 64\n",
      "\u001b[34m\u001b[1mwandb\u001b[0m: \tloss: cross_entropy\n",
      "\u001b[34m\u001b[1mwandb\u001b[0m: \tlr: 0.001\n",
      "\u001b[34m\u001b[1mwandb\u001b[0m: \toptimizer: rmsprop\n",
      "\u001b[34m\u001b[1mwandb\u001b[0m: \tw_init: glorot\n",
      "\u001b[34m\u001b[1mwandb\u001b[0m: \tweight_decay: 0\n"
     ]
    },
    {
     "data": {
      "text/html": [
       "Tracking run with wandb version 0.16.4"
      ],
      "text/plain": [
       "<IPython.core.display.HTML object>"
      ]
     },
     "metadata": {},
     "output_type": "display_data"
    },
    {
     "data": {
      "text/html": [
       "Run data is saved locally in <code>/Users/sumanta/Desktop/Numpy project/cross_entropy_lesspasses/wandb/run-20240317_103540-wksy473b</code>"
      ],
      "text/plain": [
       "<IPython.core.display.HTML object>"
      ]
     },
     "metadata": {},
     "output_type": "display_data"
    },
    {
     "data": {
      "text/html": [
       "Syncing run <strong><a href='https://wandb.ai/sumanta_roy/CS6910_assignment_1/runs/wksy473b' target=\"_blank\">flowing-sweep-78</a></strong> to <a href='https://wandb.ai/sumanta_roy/CS6910_assignment_1' target=\"_blank\">Weights & Biases</a> (<a href='https://wandb.me/run' target=\"_blank\">docs</a>)<br/>Sweep page: <a href='https://wandb.ai/sumanta_roy/CS6910_assignment_1/sweeps/mefq3vzl' target=\"_blank\">https://wandb.ai/sumanta_roy/CS6910_assignment_1/sweeps/mefq3vzl</a>"
      ],
      "text/plain": [
       "<IPython.core.display.HTML object>"
      ]
     },
     "metadata": {},
     "output_type": "display_data"
    },
    {
     "data": {
      "text/html": [
       " View project at <a href='https://wandb.ai/sumanta_roy/CS6910_assignment_1' target=\"_blank\">https://wandb.ai/sumanta_roy/CS6910_assignment_1</a>"
      ],
      "text/plain": [
       "<IPython.core.display.HTML object>"
      ]
     },
     "metadata": {},
     "output_type": "display_data"
    },
    {
     "data": {
      "text/html": [
       " View sweep at <a href='https://wandb.ai/sumanta_roy/CS6910_assignment_1/sweeps/mefq3vzl' target=\"_blank\">https://wandb.ai/sumanta_roy/CS6910_assignment_1/sweeps/mefq3vzl</a>"
      ],
      "text/plain": [
       "<IPython.core.display.HTML object>"
      ]
     },
     "metadata": {},
     "output_type": "display_data"
    },
    {
     "data": {
      "text/html": [
       " View run at <a href='https://wandb.ai/sumanta_roy/CS6910_assignment_1/runs/wksy473b' target=\"_blank\">https://wandb.ai/sumanta_roy/CS6910_assignment_1/runs/wksy473b</a>"
      ],
      "text/plain": [
       "<IPython.core.display.HTML object>"
      ]
     },
     "metadata": {},
     "output_type": "display_data"
    },
    {
     "name": "stdout",
     "output_type": "stream",
     "text": [
      "Epoch: 1/10; Train Loss: 0.007330641732188869; Val Loss: 0.039889296372026546\n",
      "Epoch: 2/10; Train Loss: 0.007345052418154166; Val Loss: 0.036647679531722745\n",
      "Epoch: 3/10; Train Loss: 0.0051565758097068285; Val Loss: 0.035400738517515296\n",
      "Epoch: 4/10; Train Loss: 0.00475991088377375; Val Loss: 0.034763385489554745\n",
      "Epoch: 5/10; Train Loss: 0.0049378871586985475; Val Loss: 0.03442867700260219\n",
      "Epoch: 6/10; Train Loss: 0.004920233999838387; Val Loss: 0.034300300953521205\n",
      "Epoch: 7/10; Train Loss: 0.00426546739661501; Val Loss: 0.03446823110527761\n",
      "Epoch: 8/10; Train Loss: 0.003998933660486243; Val Loss: 0.034446716965428156\n",
      "Epoch: 9/10; Train Loss: 0.004063684635379899; Val Loss: 0.034372913124659475\n",
      "Epoch: 10/10; Train Loss: 0.0039380478601618455; Val Loss: 0.034526732382784864\n"
     ]
    },
    {
     "data": {
      "application/vnd.jupyter.widget-view+json": {
       "model_id": "8469ae985a8f4b6db38b3548b98e5f78",
       "version_major": 2,
       "version_minor": 0
      },
      "text/plain": [
       "VBox(children=(Label(value='0.001 MB of 0.001 MB uploaded\\r'), FloatProgress(value=1.0, max=1.0)))"
      ]
     },
     "metadata": {},
     "output_type": "display_data"
    },
    {
     "data": {
      "text/html": [
       "<style>\n",
       "    table.wandb td:nth-child(1) { padding: 0 10px; text-align: left ; width: auto;} td:nth-child(2) {text-align: left ; width: 100%}\n",
       "    .wandb-row { display: flex; flex-direction: row; flex-wrap: wrap; justify-content: flex-start; width: 100% }\n",
       "    .wandb-col { display: flex; flex-direction: column; flex-basis: 100%; flex: 1; padding: 10px; }\n",
       "    </style>\n",
       "<div class=\"wandb-row\"><div class=\"wandb-col\"><h3>Run history:</h3><br/><table class=\"wandb\"><tr><td>epoch</td><td>▁▁▁▁▂▂▂▂▃▃▃▃▃▃▃▃▄▄▄▄▅▅▅▅▆▆▆▆▆▆▆▆▇▇▇▇████</td></tr><tr><td>train_accuracy</td><td>▁▄▇▇▄▇▇█▇▇▄▇▅▄▄▇▂▇▅█▄▅▅▇▄▇▄▄▇▄█▄█▇█▅▅▇▇▅</td></tr><tr><td>train_loss</td><td>█▄▂▂▄▃▃▂▃▂▄▂▄▅▄▂▆▂▃▂▄▅▅▂▃▄▅▄▃▅▁▃▂▂▁▄▃▃▂▃</td></tr><tr><td>val_accuracy</td><td>▁▄▅▆▆▅▆▆▇▇▆▇▇▇▇▇▆▇█▇█▇▇█▇████▇▇██▇▇██▇██</td></tr><tr><td>validation_loss</td><td>█▆▄▃▃▃▃▃▂▂▃▂▂▂▁▂▂▂▁▂▁▂▁▁▂▁▂▁▂▁▂▂▁▂▂▁▁▂▁▁</td></tr></table><br/></div><div class=\"wandb-col\"><h3>Run summary:</h3><br/><table class=\"wandb\"><tr><td>epoch</td><td>10</td></tr><tr><td>train_accuracy</td><td>100.0</td></tr><tr><td>train_loss</td><td>0.00394</td></tr><tr><td>val_accuracy</td><td>88.61667</td></tr><tr><td>validation_loss</td><td>0.03453</td></tr></table><br/></div></div>"
      ],
      "text/plain": [
       "<IPython.core.display.HTML object>"
      ]
     },
     "metadata": {},
     "output_type": "display_data"
    },
    {
     "data": {
      "text/html": [
       " View run <strong style=\"color:#cdcd00\">flowing-sweep-78</strong> at: <a href='https://wandb.ai/sumanta_roy/CS6910_assignment_1/runs/wksy473b' target=\"_blank\">https://wandb.ai/sumanta_roy/CS6910_assignment_1/runs/wksy473b</a><br/>Synced 6 W&B file(s), 0 media file(s), 0 artifact file(s) and 0 other file(s)"
      ],
      "text/plain": [
       "<IPython.core.display.HTML object>"
      ]
     },
     "metadata": {},
     "output_type": "display_data"
    },
    {
     "data": {
      "text/html": [
       "Find logs at: <code>./wandb/run-20240317_103540-wksy473b/logs</code>"
      ],
      "text/plain": [
       "<IPython.core.display.HTML object>"
      ]
     },
     "metadata": {},
     "output_type": "display_data"
    },
    {
     "name": "stderr",
     "output_type": "stream",
     "text": [
      "\u001b[34m\u001b[1mwandb\u001b[0m: Agent Starting Run: wzpv8yxp with config:\n",
      "\u001b[34m\u001b[1mwandb\u001b[0m: \tactivation: tanh\n",
      "\u001b[34m\u001b[1mwandb\u001b[0m: \tbatch_size: 16\n",
      "\u001b[34m\u001b[1mwandb\u001b[0m: \tepochs: 10\n",
      "\u001b[34m\u001b[1mwandb\u001b[0m: \thidden_layers: 3\n",
      "\u001b[34m\u001b[1mwandb\u001b[0m: \thidden_size: 64\n",
      "\u001b[34m\u001b[1mwandb\u001b[0m: \tloss: cross_entropy\n",
      "\u001b[34m\u001b[1mwandb\u001b[0m: \tlr: 0.001\n",
      "\u001b[34m\u001b[1mwandb\u001b[0m: \toptimizer: rmsprop\n",
      "\u001b[34m\u001b[1mwandb\u001b[0m: \tw_init: random\n",
      "\u001b[34m\u001b[1mwandb\u001b[0m: \tweight_decay: 0\n"
     ]
    },
    {
     "data": {
      "text/html": [
       "Tracking run with wandb version 0.16.4"
      ],
      "text/plain": [
       "<IPython.core.display.HTML object>"
      ]
     },
     "metadata": {},
     "output_type": "display_data"
    },
    {
     "data": {
      "text/html": [
       "Run data is saved locally in <code>/Users/sumanta/Desktop/Numpy project/cross_entropy_lesspasses/wandb/run-20240317_103655-wzpv8yxp</code>"
      ],
      "text/plain": [
       "<IPython.core.display.HTML object>"
      ]
     },
     "metadata": {},
     "output_type": "display_data"
    },
    {
     "data": {
      "text/html": [
       "Syncing run <strong><a href='https://wandb.ai/sumanta_roy/CS6910_assignment_1/runs/wzpv8yxp' target=\"_blank\">jolly-sweep-79</a></strong> to <a href='https://wandb.ai/sumanta_roy/CS6910_assignment_1' target=\"_blank\">Weights & Biases</a> (<a href='https://wandb.me/run' target=\"_blank\">docs</a>)<br/>Sweep page: <a href='https://wandb.ai/sumanta_roy/CS6910_assignment_1/sweeps/mefq3vzl' target=\"_blank\">https://wandb.ai/sumanta_roy/CS6910_assignment_1/sweeps/mefq3vzl</a>"
      ],
      "text/plain": [
       "<IPython.core.display.HTML object>"
      ]
     },
     "metadata": {},
     "output_type": "display_data"
    },
    {
     "data": {
      "text/html": [
       " View project at <a href='https://wandb.ai/sumanta_roy/CS6910_assignment_1' target=\"_blank\">https://wandb.ai/sumanta_roy/CS6910_assignment_1</a>"
      ],
      "text/plain": [
       "<IPython.core.display.HTML object>"
      ]
     },
     "metadata": {},
     "output_type": "display_data"
    },
    {
     "data": {
      "text/html": [
       " View sweep at <a href='https://wandb.ai/sumanta_roy/CS6910_assignment_1/sweeps/mefq3vzl' target=\"_blank\">https://wandb.ai/sumanta_roy/CS6910_assignment_1/sweeps/mefq3vzl</a>"
      ],
      "text/plain": [
       "<IPython.core.display.HTML object>"
      ]
     },
     "metadata": {},
     "output_type": "display_data"
    },
    {
     "data": {
      "text/html": [
       " View run at <a href='https://wandb.ai/sumanta_roy/CS6910_assignment_1/runs/wzpv8yxp' target=\"_blank\">https://wandb.ai/sumanta_roy/CS6910_assignment_1/runs/wzpv8yxp</a>"
      ],
      "text/plain": [
       "<IPython.core.display.HTML object>"
      ]
     },
     "metadata": {},
     "output_type": "display_data"
    },
    {
     "name": "stdout",
     "output_type": "stream",
     "text": [
      "Epoch: 1/10; Train Loss: 0.011151189307997533; Val Loss: 0.048324972577762006\n",
      "Epoch: 2/10; Train Loss: 0.007667047222560277; Val Loss: 0.042890636822063996\n",
      "Epoch: 3/10; Train Loss: 0.008377623366024304; Val Loss: 0.041267393397242266\n",
      "Epoch: 4/10; Train Loss: 0.0068526687328025245; Val Loss: 0.03995438135493672\n",
      "Epoch: 5/10; Train Loss: 0.006349667992522995; Val Loss: 0.039239358681038054\n",
      "Epoch: 6/10; Train Loss: 0.006099273513253697; Val Loss: 0.03846879928571352\n",
      "Epoch: 7/10; Train Loss: 0.004191520862679614; Val Loss: 0.03812525060186276\n",
      "Epoch: 8/10; Train Loss: 0.004079996321192703; Val Loss: 0.0377589888100103\n",
      "Epoch: 9/10; Train Loss: 0.0035485292458409625; Val Loss: 0.03739410704860091\n",
      "Epoch: 10/10; Train Loss: 0.0032712343517621355; Val Loss: 0.037879165301751665\n"
     ]
    },
    {
     "data": {
      "application/vnd.jupyter.widget-view+json": {
       "model_id": "ace00cec2dad4fa79c517c7f2af52691",
       "version_major": 2,
       "version_minor": 0
      },
      "text/plain": [
       "VBox(children=(Label(value='0.001 MB of 0.001 MB uploaded\\r'), FloatProgress(value=1.0, max=1.0)))"
      ]
     },
     "metadata": {},
     "output_type": "display_data"
    },
    {
     "data": {
      "text/html": [
       "<style>\n",
       "    table.wandb td:nth-child(1) { padding: 0 10px; text-align: left ; width: auto;} td:nth-child(2) {text-align: left ; width: 100%}\n",
       "    .wandb-row { display: flex; flex-direction: row; flex-wrap: wrap; justify-content: flex-start; width: 100% }\n",
       "    .wandb-col { display: flex; flex-direction: column; flex-basis: 100%; flex: 1; padding: 10px; }\n",
       "    </style>\n",
       "<div class=\"wandb-row\"><div class=\"wandb-col\"><h3>Run history:</h3><br/><table class=\"wandb\"><tr><td>epoch</td><td>▁▁▁▁▂▂▂▂▃▃▃▃▃▃▃▃▄▄▄▄▅▅▅▅▆▆▆▆▆▆▆▆▇▇▇▇████</td></tr><tr><td>train_accuracy</td><td>▁▅▆▆▅▆▆█▆▆▆▅▅▆█▆▅▇▅▇▅▆▅▇▇▇▆▆▆▅▇▅▆▇█▅▅▆▅▆</td></tr><tr><td>train_loss</td><td>█▃▂▃▆▃▂▁▃▃▄▂▄▃▃▂▄▂▃▁▅▃▅▂▂▃▃▃▂▄▂▄▂▁▁▃▃▂▃▂</td></tr><tr><td>val_accuracy</td><td>▁▄▅▅▅▅▆▇▇▇▆▇▇▇▇▇▇▇▇▇▇▇▇██▇▇██▇████▇██▇██</td></tr><tr><td>validation_loss</td><td>█▆▄▄▃▃▃▂▂▂▂▂▂▂▁▂▂▁▂▁▁▂▁▁▁▁▂▁▁▂▂▁▁▁▂▁▁▂▁▁</td></tr></table><br/></div><div class=\"wandb-col\"><h3>Run summary:</h3><br/><table class=\"wandb\"><tr><td>epoch</td><td>10</td></tr><tr><td>train_accuracy</td><td>100.0</td></tr><tr><td>train_loss</td><td>0.00327</td></tr><tr><td>val_accuracy</td><td>87.15</td></tr><tr><td>validation_loss</td><td>0.03788</td></tr></table><br/></div></div>"
      ],
      "text/plain": [
       "<IPython.core.display.HTML object>"
      ]
     },
     "metadata": {},
     "output_type": "display_data"
    },
    {
     "data": {
      "text/html": [
       " View run <strong style=\"color:#cdcd00\">jolly-sweep-79</strong> at: <a href='https://wandb.ai/sumanta_roy/CS6910_assignment_1/runs/wzpv8yxp' target=\"_blank\">https://wandb.ai/sumanta_roy/CS6910_assignment_1/runs/wzpv8yxp</a><br/>Synced 6 W&B file(s), 0 media file(s), 0 artifact file(s) and 0 other file(s)"
      ],
      "text/plain": [
       "<IPython.core.display.HTML object>"
      ]
     },
     "metadata": {},
     "output_type": "display_data"
    },
    {
     "data": {
      "text/html": [
       "Find logs at: <code>./wandb/run-20240317_103655-wzpv8yxp/logs</code>"
      ],
      "text/plain": [
       "<IPython.core.display.HTML object>"
      ]
     },
     "metadata": {},
     "output_type": "display_data"
    },
    {
     "name": "stderr",
     "output_type": "stream",
     "text": [
      "\u001b[34m\u001b[1mwandb\u001b[0m: Agent Starting Run: 0eitr3gm with config:\n",
      "\u001b[34m\u001b[1mwandb\u001b[0m: \tactivation: tanh\n",
      "\u001b[34m\u001b[1mwandb\u001b[0m: \tbatch_size: 16\n",
      "\u001b[34m\u001b[1mwandb\u001b[0m: \tepochs: 5\n",
      "\u001b[34m\u001b[1mwandb\u001b[0m: \thidden_layers: 4\n",
      "\u001b[34m\u001b[1mwandb\u001b[0m: \thidden_size: 128\n",
      "\u001b[34m\u001b[1mwandb\u001b[0m: \tloss: cross_entropy\n",
      "\u001b[34m\u001b[1mwandb\u001b[0m: \tlr: 0.001\n",
      "\u001b[34m\u001b[1mwandb\u001b[0m: \toptimizer: nadam\n",
      "\u001b[34m\u001b[1mwandb\u001b[0m: \tw_init: glorot\n",
      "\u001b[34m\u001b[1mwandb\u001b[0m: \tweight_decay: 0\n"
     ]
    },
    {
     "data": {
      "text/html": [
       "Tracking run with wandb version 0.16.4"
      ],
      "text/plain": [
       "<IPython.core.display.HTML object>"
      ]
     },
     "metadata": {},
     "output_type": "display_data"
    },
    {
     "data": {
      "text/html": [
       "Run data is saved locally in <code>/Users/sumanta/Desktop/Numpy project/cross_entropy_lesspasses/wandb/run-20240317_103809-0eitr3gm</code>"
      ],
      "text/plain": [
       "<IPython.core.display.HTML object>"
      ]
     },
     "metadata": {},
     "output_type": "display_data"
    },
    {
     "data": {
      "text/html": [
       "Syncing run <strong><a href='https://wandb.ai/sumanta_roy/CS6910_assignment_1/runs/0eitr3gm' target=\"_blank\">graceful-sweep-80</a></strong> to <a href='https://wandb.ai/sumanta_roy/CS6910_assignment_1' target=\"_blank\">Weights & Biases</a> (<a href='https://wandb.me/run' target=\"_blank\">docs</a>)<br/>Sweep page: <a href='https://wandb.ai/sumanta_roy/CS6910_assignment_1/sweeps/mefq3vzl' target=\"_blank\">https://wandb.ai/sumanta_roy/CS6910_assignment_1/sweeps/mefq3vzl</a>"
      ],
      "text/plain": [
       "<IPython.core.display.HTML object>"
      ]
     },
     "metadata": {},
     "output_type": "display_data"
    },
    {
     "data": {
      "text/html": [
       " View project at <a href='https://wandb.ai/sumanta_roy/CS6910_assignment_1' target=\"_blank\">https://wandb.ai/sumanta_roy/CS6910_assignment_1</a>"
      ],
      "text/plain": [
       "<IPython.core.display.HTML object>"
      ]
     },
     "metadata": {},
     "output_type": "display_data"
    },
    {
     "data": {
      "text/html": [
       " View sweep at <a href='https://wandb.ai/sumanta_roy/CS6910_assignment_1/sweeps/mefq3vzl' target=\"_blank\">https://wandb.ai/sumanta_roy/CS6910_assignment_1/sweeps/mefq3vzl</a>"
      ],
      "text/plain": [
       "<IPython.core.display.HTML object>"
      ]
     },
     "metadata": {},
     "output_type": "display_data"
    },
    {
     "data": {
      "text/html": [
       " View run at <a href='https://wandb.ai/sumanta_roy/CS6910_assignment_1/runs/0eitr3gm' target=\"_blank\">https://wandb.ai/sumanta_roy/CS6910_assignment_1/runs/0eitr3gm</a>"
      ],
      "text/plain": [
       "<IPython.core.display.HTML object>"
      ]
     },
     "metadata": {},
     "output_type": "display_data"
    },
    {
     "name": "stdout",
     "output_type": "stream",
     "text": [
      "Epoch: 1/5; Train Loss: 0.010807219136972957; Val Loss: 0.042505902176218184\n",
      "Epoch: 2/5; Train Loss: 0.009281268606262409; Val Loss: 0.03894102861240261\n",
      "Epoch: 3/5; Train Loss: 0.008662909965364101; Val Loss: 0.0370403026524852\n",
      "Epoch: 4/5; Train Loss: 0.008365028527314513; Val Loss: 0.035804463844769076\n",
      "Epoch: 5/5; Train Loss: 0.008231472351436748; Val Loss: 0.034908287186441435\n"
     ]
    },
    {
     "data": {
      "application/vnd.jupyter.widget-view+json": {
       "model_id": "8b94e2873366418b80e4f583cd5a2633",
       "version_major": 2,
       "version_minor": 0
      },
      "text/plain": [
       "VBox(children=(Label(value='0.001 MB of 0.027 MB uploaded\\r'), FloatProgress(value=0.02770600057421763, max=1.…"
      ]
     },
     "metadata": {},
     "output_type": "display_data"
    },
    {
     "data": {
      "text/html": [
       "<style>\n",
       "    table.wandb td:nth-child(1) { padding: 0 10px; text-align: left ; width: auto;} td:nth-child(2) {text-align: left ; width: 100%}\n",
       "    .wandb-row { display: flex; flex-direction: row; flex-wrap: wrap; justify-content: flex-start; width: 100% }\n",
       "    .wandb-col { display: flex; flex-direction: column; flex-basis: 100%; flex: 1; padding: 10px; }\n",
       "    </style>\n",
       "<div class=\"wandb-row\"><div class=\"wandb-col\"><h3>Run history:</h3><br/><table class=\"wandb\"><tr><td>epoch</td><td>▁▁▁▁▁▁▁▁▃▃▃▃▃▃▃▃▅▅▅▅▅▅▅▅▆▆▆▆▆▆▆▆████████</td></tr><tr><td>train_accuracy</td><td>▁▄▇▅▃▄▇▄▃▄▆▆▆▅▇▆▆▆▆▅▆▅█▅▆▅▇▆▇██▇▅▆▆██▇█▇</td></tr><tr><td>train_loss</td><td>█▇▃▃▅▄▃▅▅▅▃▃▃▅▂▂▃▂▂▅▄▄▁▄▄▄▄▃▃▂▂▃▃▃▃▁▁▂▁▃</td></tr><tr><td>val_accuracy</td><td>▁▄▆▆▆▆▆▇▇▇▆▇▇▇▇▇▇▇▇▇▇███▇████▇███████▇██</td></tr><tr><td>validation_loss</td><td>█▅▄▃▃▃▃▂▂▂▂▂▂▂▂▂▂▂▂▂▂▂▂▂▂▁▁▁▁▁▁▁▁▁▁▁▁▁▁▁</td></tr></table><br/></div><div class=\"wandb-col\"><h3>Run summary:</h3><br/><table class=\"wandb\"><tr><td>epoch</td><td>5</td></tr><tr><td>train_accuracy</td><td>100.0</td></tr><tr><td>train_loss</td><td>0.00823</td></tr><tr><td>val_accuracy</td><td>87.66667</td></tr><tr><td>validation_loss</td><td>0.03491</td></tr></table><br/></div></div>"
      ],
      "text/plain": [
       "<IPython.core.display.HTML object>"
      ]
     },
     "metadata": {},
     "output_type": "display_data"
    },
    {
     "data": {
      "text/html": [
       " View run <strong style=\"color:#cdcd00\">graceful-sweep-80</strong> at: <a href='https://wandb.ai/sumanta_roy/CS6910_assignment_1/runs/0eitr3gm' target=\"_blank\">https://wandb.ai/sumanta_roy/CS6910_assignment_1/runs/0eitr3gm</a><br/>Synced 6 W&B file(s), 0 media file(s), 0 artifact file(s) and 0 other file(s)"
      ],
      "text/plain": [
       "<IPython.core.display.HTML object>"
      ]
     },
     "metadata": {},
     "output_type": "display_data"
    },
    {
     "data": {
      "text/html": [
       "Find logs at: <code>./wandb/run-20240317_103809-0eitr3gm/logs</code>"
      ],
      "text/plain": [
       "<IPython.core.display.HTML object>"
      ]
     },
     "metadata": {},
     "output_type": "display_data"
    },
    {
     "name": "stderr",
     "output_type": "stream",
     "text": [
      "\u001b[34m\u001b[1mwandb\u001b[0m: Sweep Agent: Waiting for job.\n",
      "\u001b[34m\u001b[1mwandb\u001b[0m: Job received.\n",
      "\u001b[34m\u001b[1mwandb\u001b[0m: Agent Starting Run: 5mpi19x8 with config:\n",
      "\u001b[34m\u001b[1mwandb\u001b[0m: \tactivation: tanh\n",
      "\u001b[34m\u001b[1mwandb\u001b[0m: \tbatch_size: 32\n",
      "\u001b[34m\u001b[1mwandb\u001b[0m: \tepochs: 10\n",
      "\u001b[34m\u001b[1mwandb\u001b[0m: \thidden_layers: 3\n",
      "\u001b[34m\u001b[1mwandb\u001b[0m: \thidden_size: 32\n",
      "\u001b[34m\u001b[1mwandb\u001b[0m: \tloss: cross_entropy\n",
      "\u001b[34m\u001b[1mwandb\u001b[0m: \tlr: 0.0001\n",
      "\u001b[34m\u001b[1mwandb\u001b[0m: \toptimizer: rmsprop\n",
      "\u001b[34m\u001b[1mwandb\u001b[0m: \tw_init: glorot\n",
      "\u001b[34m\u001b[1mwandb\u001b[0m: \tweight_decay: 0.0005\n"
     ]
    },
    {
     "data": {
      "text/html": [
       "Tracking run with wandb version 0.16.4"
      ],
      "text/plain": [
       "<IPython.core.display.HTML object>"
      ]
     },
     "metadata": {},
     "output_type": "display_data"
    },
    {
     "data": {
      "text/html": [
       "Run data is saved locally in <code>/Users/sumanta/Desktop/Numpy project/cross_entropy_lesspasses/wandb/run-20240317_104000-5mpi19x8</code>"
      ],
      "text/plain": [
       "<IPython.core.display.HTML object>"
      ]
     },
     "metadata": {},
     "output_type": "display_data"
    },
    {
     "data": {
      "text/html": [
       "Syncing run <strong><a href='https://wandb.ai/sumanta_roy/CS6910_assignment_1/runs/5mpi19x8' target=\"_blank\">floral-sweep-81</a></strong> to <a href='https://wandb.ai/sumanta_roy/CS6910_assignment_1' target=\"_blank\">Weights & Biases</a> (<a href='https://wandb.me/run' target=\"_blank\">docs</a>)<br/>Sweep page: <a href='https://wandb.ai/sumanta_roy/CS6910_assignment_1/sweeps/mefq3vzl' target=\"_blank\">https://wandb.ai/sumanta_roy/CS6910_assignment_1/sweeps/mefq3vzl</a>"
      ],
      "text/plain": [
       "<IPython.core.display.HTML object>"
      ]
     },
     "metadata": {},
     "output_type": "display_data"
    },
    {
     "data": {
      "text/html": [
       " View project at <a href='https://wandb.ai/sumanta_roy/CS6910_assignment_1' target=\"_blank\">https://wandb.ai/sumanta_roy/CS6910_assignment_1</a>"
      ],
      "text/plain": [
       "<IPython.core.display.HTML object>"
      ]
     },
     "metadata": {},
     "output_type": "display_data"
    },
    {
     "data": {
      "text/html": [
       " View sweep at <a href='https://wandb.ai/sumanta_roy/CS6910_assignment_1/sweeps/mefq3vzl' target=\"_blank\">https://wandb.ai/sumanta_roy/CS6910_assignment_1/sweeps/mefq3vzl</a>"
      ],
      "text/plain": [
       "<IPython.core.display.HTML object>"
      ]
     },
     "metadata": {},
     "output_type": "display_data"
    },
    {
     "data": {
      "text/html": [
       " View run at <a href='https://wandb.ai/sumanta_roy/CS6910_assignment_1/runs/5mpi19x8' target=\"_blank\">https://wandb.ai/sumanta_roy/CS6910_assignment_1/runs/5mpi19x8</a>"
      ],
      "text/plain": [
       "<IPython.core.display.HTML object>"
      ]
     },
     "metadata": {},
     "output_type": "display_data"
    },
    {
     "name": "stdout",
     "output_type": "stream",
     "text": [
      "Epoch: 1/10; Train Loss: 0.04022921810851684; Val Loss: 0.06790968809180141\n",
      "Epoch: 2/10; Train Loss: 0.02576611544483221; Val Loss: 0.0525277849125527\n",
      "Epoch: 3/10; Train Loss: 0.021700537784675414; Val Loss: 0.04692934175024348\n",
      "Epoch: 4/10; Train Loss: 0.019693751150290532; Val Loss: 0.044057501695275954\n",
      "Epoch: 5/10; Train Loss: 0.018372363742905087; Val Loss: 0.04223332120698431\n",
      "Epoch: 6/10; Train Loss: 0.01738181981595169; Val Loss: 0.040929430755747065\n",
      "Epoch: 7/10; Train Loss: 0.016563024449988625; Val Loss: 0.03993447033052164\n",
      "Epoch: 8/10; Train Loss: 0.015819249033197445; Val Loss: 0.03914403628085868\n",
      "Epoch: 9/10; Train Loss: 0.015103738579762407; Val Loss: 0.038498621895794345\n",
      "Epoch: 10/10; Train Loss: 0.01440961592005776; Val Loss: 0.03796093925795192\n"
     ]
    },
    {
     "data": {
      "application/vnd.jupyter.widget-view+json": {
       "model_id": "5591c93fc2bd41cc89c24c124b0e64ad",
       "version_major": 2,
       "version_minor": 0
      },
      "text/plain": [
       "VBox(children=(Label(value='0.001 MB of 0.001 MB uploaded\\r'), FloatProgress(value=1.0, max=1.0)))"
      ]
     },
     "metadata": {},
     "output_type": "display_data"
    },
    {
     "data": {
      "text/html": [
       "<style>\n",
       "    table.wandb td:nth-child(1) { padding: 0 10px; text-align: left ; width: auto;} td:nth-child(2) {text-align: left ; width: 100%}\n",
       "    .wandb-row { display: flex; flex-direction: row; flex-wrap: wrap; justify-content: flex-start; width: 100% }\n",
       "    .wandb-col { display: flex; flex-direction: column; flex-basis: 100%; flex: 1; padding: 10px; }\n",
       "    </style>\n",
       "<div class=\"wandb-row\"><div class=\"wandb-col\"><h3>Run history:</h3><br/><table class=\"wandb\"><tr><td>epoch</td><td>▁▁▁▁▂▂▂▂▃▃▃▃▃▃▃▃▄▄▄▄▅▅▅▅▆▆▆▆▆▆▆▆▇▇▇▇████</td></tr><tr><td>train_accuracy</td><td>▁▃▅▅▇▆█▆▆▅▄▆▅▆▅▆▆▇▇▇▅▅▆▅▅▆▅▅▆▆█▆▆▆▇▇▅▆▅▆</td></tr><tr><td>train_loss</td><td>█▅▄▄▂▃▂▂▂▃▃▂▂▂▃▂▂▁▁▂▃▃▂▃▃▃▃▃▂▂▁▂▂▂▁▂▃▂▂▂</td></tr><tr><td>val_accuracy</td><td>▁▃▅▆▆▆▇▇▇▇▇▇▇▇██████████████████████████</td></tr><tr><td>validation_loss</td><td>█▅▄▃▃▂▂▂▂▂▂▂▂▁▁▁▁▁▁▁▁▁▁▁▁▁▁▁▁▁▁▁▁▁▁▁▁▁▁▁</td></tr></table><br/></div><div class=\"wandb-col\"><h3>Run summary:</h3><br/><table class=\"wandb\"><tr><td>epoch</td><td>10</td></tr><tr><td>train_accuracy</td><td>93.75</td></tr><tr><td>train_loss</td><td>0.01441</td></tr><tr><td>val_accuracy</td><td>86.83333</td></tr><tr><td>validation_loss</td><td>0.03796</td></tr></table><br/></div></div>"
      ],
      "text/plain": [
       "<IPython.core.display.HTML object>"
      ]
     },
     "metadata": {},
     "output_type": "display_data"
    },
    {
     "data": {
      "text/html": [
       " View run <strong style=\"color:#cdcd00\">floral-sweep-81</strong> at: <a href='https://wandb.ai/sumanta_roy/CS6910_assignment_1/runs/5mpi19x8' target=\"_blank\">https://wandb.ai/sumanta_roy/CS6910_assignment_1/runs/5mpi19x8</a><br/>Synced 6 W&B file(s), 0 media file(s), 0 artifact file(s) and 0 other file(s)"
      ],
      "text/plain": [
       "<IPython.core.display.HTML object>"
      ]
     },
     "metadata": {},
     "output_type": "display_data"
    },
    {
     "data": {
      "text/html": [
       "Find logs at: <code>./wandb/run-20240317_104000-5mpi19x8/logs</code>"
      ],
      "text/plain": [
       "<IPython.core.display.HTML object>"
      ]
     },
     "metadata": {},
     "output_type": "display_data"
    },
    {
     "name": "stderr",
     "output_type": "stream",
     "text": [
      "\u001b[34m\u001b[1mwandb\u001b[0m: Agent Starting Run: ihsbgdjn with config:\n",
      "\u001b[34m\u001b[1mwandb\u001b[0m: \tactivation: tanh\n",
      "\u001b[34m\u001b[1mwandb\u001b[0m: \tbatch_size: 16\n",
      "\u001b[34m\u001b[1mwandb\u001b[0m: \tepochs: 5\n",
      "\u001b[34m\u001b[1mwandb\u001b[0m: \thidden_layers: 3\n",
      "\u001b[34m\u001b[1mwandb\u001b[0m: \thidden_size: 32\n",
      "\u001b[34m\u001b[1mwandb\u001b[0m: \tloss: cross_entropy\n",
      "\u001b[34m\u001b[1mwandb\u001b[0m: \tlr: 0.0001\n",
      "\u001b[34m\u001b[1mwandb\u001b[0m: \toptimizer: nesterov\n",
      "\u001b[34m\u001b[1mwandb\u001b[0m: \tw_init: glorot\n",
      "\u001b[34m\u001b[1mwandb\u001b[0m: \tweight_decay: 0.0005\n"
     ]
    },
    {
     "data": {
      "text/html": [
       "Tracking run with wandb version 0.16.4"
      ],
      "text/plain": [
       "<IPython.core.display.HTML object>"
      ]
     },
     "metadata": {},
     "output_type": "display_data"
    },
    {
     "data": {
      "text/html": [
       "Run data is saved locally in <code>/Users/sumanta/Desktop/Numpy project/cross_entropy_lesspasses/wandb/run-20240317_104044-ihsbgdjn</code>"
      ],
      "text/plain": [
       "<IPython.core.display.HTML object>"
      ]
     },
     "metadata": {},
     "output_type": "display_data"
    },
    {
     "data": {
      "text/html": [
       "Syncing run <strong><a href='https://wandb.ai/sumanta_roy/CS6910_assignment_1/runs/ihsbgdjn' target=\"_blank\">lively-sweep-82</a></strong> to <a href='https://wandb.ai/sumanta_roy/CS6910_assignment_1' target=\"_blank\">Weights & Biases</a> (<a href='https://wandb.me/run' target=\"_blank\">docs</a>)<br/>Sweep page: <a href='https://wandb.ai/sumanta_roy/CS6910_assignment_1/sweeps/mefq3vzl' target=\"_blank\">https://wandb.ai/sumanta_roy/CS6910_assignment_1/sweeps/mefq3vzl</a>"
      ],
      "text/plain": [
       "<IPython.core.display.HTML object>"
      ]
     },
     "metadata": {},
     "output_type": "display_data"
    },
    {
     "data": {
      "text/html": [
       " View project at <a href='https://wandb.ai/sumanta_roy/CS6910_assignment_1' target=\"_blank\">https://wandb.ai/sumanta_roy/CS6910_assignment_1</a>"
      ],
      "text/plain": [
       "<IPython.core.display.HTML object>"
      ]
     },
     "metadata": {},
     "output_type": "display_data"
    },
    {
     "data": {
      "text/html": [
       " View sweep at <a href='https://wandb.ai/sumanta_roy/CS6910_assignment_1/sweeps/mefq3vzl' target=\"_blank\">https://wandb.ai/sumanta_roy/CS6910_assignment_1/sweeps/mefq3vzl</a>"
      ],
      "text/plain": [
       "<IPython.core.display.HTML object>"
      ]
     },
     "metadata": {},
     "output_type": "display_data"
    },
    {
     "data": {
      "text/html": [
       " View run at <a href='https://wandb.ai/sumanta_roy/CS6910_assignment_1/runs/ihsbgdjn' target=\"_blank\">https://wandb.ai/sumanta_roy/CS6910_assignment_1/runs/ihsbgdjn</a>"
      ],
      "text/plain": [
       "<IPython.core.display.HTML object>"
      ]
     },
     "metadata": {},
     "output_type": "display_data"
    },
    {
     "name": "stdout",
     "output_type": "stream",
     "text": [
      "Epoch: 1/5; Train Loss: 0.06603354941198783; Val Loss: 0.09635211008044652\n",
      "Epoch: 2/5; Train Loss: 0.03981187391832441; Val Loss: 0.07577545020533324\n",
      "Epoch: 3/5; Train Loss: 0.02894928702271712; Val Loss: 0.06554118579202621\n",
      "Epoch: 4/5; Train Loss: 0.023869629304001428; Val Loss: 0.05907340380397261\n",
      "Epoch: 5/5; Train Loss: 0.021235365094016745; Val Loss: 0.054761102202160385\n"
     ]
    },
    {
     "data": {
      "application/vnd.jupyter.widget-view+json": {
       "model_id": "c3b2b1f032f14178aa80210ab29d822e",
       "version_major": 2,
       "version_minor": 0
      },
      "text/plain": [
       "VBox(children=(Label(value='0.001 MB of 0.001 MB uploaded\\r'), FloatProgress(value=1.0, max=1.0)))"
      ]
     },
     "metadata": {},
     "output_type": "display_data"
    },
    {
     "data": {
      "text/html": [
       "<style>\n",
       "    table.wandb td:nth-child(1) { padding: 0 10px; text-align: left ; width: auto;} td:nth-child(2) {text-align: left ; width: 100%}\n",
       "    .wandb-row { display: flex; flex-direction: row; flex-wrap: wrap; justify-content: flex-start; width: 100% }\n",
       "    .wandb-col { display: flex; flex-direction: column; flex-basis: 100%; flex: 1; padding: 10px; }\n",
       "    </style>\n",
       "<div class=\"wandb-row\"><div class=\"wandb-col\"><h3>Run history:</h3><br/><table class=\"wandb\"><tr><td>epoch</td><td>▁▁▁▁▁▁▁▁▃▃▃▃▃▃▃▃▅▅▅▅▅▅▅▅▆▆▆▆▆▆▆▆████████</td></tr><tr><td>train_accuracy</td><td>▁▃▁▂▂▄▇▅▃▆▅▅▆▃▆▆▆▆▆▆▅▆█▆▆▆▇▆▄▇▇▅▄▄▇▇▇▇▇▇</td></tr><tr><td>train_loss</td><td>█▇▆▅▆▅▃▅▅▄▃▃▂▄▂▂▂▂▂▃▃▂▂▃▂▂▂▂▃▁▁▃▃▄▂▁▁▁▁▂</td></tr><tr><td>val_accuracy</td><td>▁▄▅▅▆▆▆▆▇▇▇▇▇▇▇▇▇▇▇▇▇▇██████████████████</td></tr><tr><td>validation_loss</td><td>█▆▅▅▄▄▃▃▃▃▃▂▂▂▂▂▂▂▂▂▂▂▂▂▁▁▁▁▁▁▁▁▁▁▁▁▁▁▁▁</td></tr></table><br/></div><div class=\"wandb-col\"><h3>Run summary:</h3><br/><table class=\"wandb\"><tr><td>epoch</td><td>5</td></tr><tr><td>train_accuracy</td><td>100.0</td></tr><tr><td>train_loss</td><td>0.02124</td></tr><tr><td>val_accuracy</td><td>81.71667</td></tr><tr><td>validation_loss</td><td>0.05476</td></tr></table><br/></div></div>"
      ],
      "text/plain": [
       "<IPython.core.display.HTML object>"
      ]
     },
     "metadata": {},
     "output_type": "display_data"
    },
    {
     "data": {
      "text/html": [
       " View run <strong style=\"color:#cdcd00\">lively-sweep-82</strong> at: <a href='https://wandb.ai/sumanta_roy/CS6910_assignment_1/runs/ihsbgdjn' target=\"_blank\">https://wandb.ai/sumanta_roy/CS6910_assignment_1/runs/ihsbgdjn</a><br/>Synced 6 W&B file(s), 0 media file(s), 0 artifact file(s) and 0 other file(s)"
      ],
      "text/plain": [
       "<IPython.core.display.HTML object>"
      ]
     },
     "metadata": {},
     "output_type": "display_data"
    },
    {
     "data": {
      "text/html": [
       "Find logs at: <code>./wandb/run-20240317_104044-ihsbgdjn/logs</code>"
      ],
      "text/plain": [
       "<IPython.core.display.HTML object>"
      ]
     },
     "metadata": {},
     "output_type": "display_data"
    },
    {
     "name": "stderr",
     "output_type": "stream",
     "text": [
      "\u001b[34m\u001b[1mwandb\u001b[0m: Agent Starting Run: f20wdqcg with config:\n",
      "\u001b[34m\u001b[1mwandb\u001b[0m: \tactivation: tanh\n",
      "\u001b[34m\u001b[1mwandb\u001b[0m: \tbatch_size: 16\n",
      "\u001b[34m\u001b[1mwandb\u001b[0m: \tepochs: 10\n",
      "\u001b[34m\u001b[1mwandb\u001b[0m: \thidden_layers: 3\n",
      "\u001b[34m\u001b[1mwandb\u001b[0m: \thidden_size: 128\n",
      "\u001b[34m\u001b[1mwandb\u001b[0m: \tloss: cross_entropy\n",
      "\u001b[34m\u001b[1mwandb\u001b[0m: \tlr: 0.001\n",
      "\u001b[34m\u001b[1mwandb\u001b[0m: \toptimizer: rmsprop\n",
      "\u001b[34m\u001b[1mwandb\u001b[0m: \tw_init: glorot\n",
      "\u001b[34m\u001b[1mwandb\u001b[0m: \tweight_decay: 0.0005\n"
     ]
    },
    {
     "data": {
      "text/html": [
       "Tracking run with wandb version 0.16.4"
      ],
      "text/plain": [
       "<IPython.core.display.HTML object>"
      ]
     },
     "metadata": {},
     "output_type": "display_data"
    },
    {
     "data": {
      "text/html": [
       "Run data is saved locally in <code>/Users/sumanta/Desktop/Numpy project/cross_entropy_lesspasses/wandb/run-20240317_104125-f20wdqcg</code>"
      ],
      "text/plain": [
       "<IPython.core.display.HTML object>"
      ]
     },
     "metadata": {},
     "output_type": "display_data"
    },
    {
     "data": {
      "text/html": [
       "Syncing run <strong><a href='https://wandb.ai/sumanta_roy/CS6910_assignment_1/runs/f20wdqcg' target=\"_blank\">noble-sweep-83</a></strong> to <a href='https://wandb.ai/sumanta_roy/CS6910_assignment_1' target=\"_blank\">Weights & Biases</a> (<a href='https://wandb.me/run' target=\"_blank\">docs</a>)<br/>Sweep page: <a href='https://wandb.ai/sumanta_roy/CS6910_assignment_1/sweeps/mefq3vzl' target=\"_blank\">https://wandb.ai/sumanta_roy/CS6910_assignment_1/sweeps/mefq3vzl</a>"
      ],
      "text/plain": [
       "<IPython.core.display.HTML object>"
      ]
     },
     "metadata": {},
     "output_type": "display_data"
    },
    {
     "data": {
      "text/html": [
       " View project at <a href='https://wandb.ai/sumanta_roy/CS6910_assignment_1' target=\"_blank\">https://wandb.ai/sumanta_roy/CS6910_assignment_1</a>"
      ],
      "text/plain": [
       "<IPython.core.display.HTML object>"
      ]
     },
     "metadata": {},
     "output_type": "display_data"
    },
    {
     "data": {
      "text/html": [
       " View sweep at <a href='https://wandb.ai/sumanta_roy/CS6910_assignment_1/sweeps/mefq3vzl' target=\"_blank\">https://wandb.ai/sumanta_roy/CS6910_assignment_1/sweeps/mefq3vzl</a>"
      ],
      "text/plain": [
       "<IPython.core.display.HTML object>"
      ]
     },
     "metadata": {},
     "output_type": "display_data"
    },
    {
     "data": {
      "text/html": [
       " View run at <a href='https://wandb.ai/sumanta_roy/CS6910_assignment_1/runs/f20wdqcg' target=\"_blank\">https://wandb.ai/sumanta_roy/CS6910_assignment_1/runs/f20wdqcg</a>"
      ],
      "text/plain": [
       "<IPython.core.display.HTML object>"
      ]
     },
     "metadata": {},
     "output_type": "display_data"
    },
    {
     "name": "stdout",
     "output_type": "stream",
     "text": [
      "Epoch: 1/10; Train Loss: 0.020961975606508525; Val Loss: 0.04009167468737561\n",
      "Epoch: 2/10; Train Loss: 0.019593424042376732; Val Loss: 0.036887616399611245\n",
      "Epoch: 3/10; Train Loss: 0.018185489561427386; Val Loss: 0.03589337101807124\n",
      "Epoch: 4/10; Train Loss: 0.01842264579972931; Val Loss: 0.0351756409615613\n",
      "Epoch: 5/10; Train Loss: 0.019036877689574468; Val Loss: 0.034737434588662325\n",
      "Epoch: 6/10; Train Loss: 0.019543845934443988; Val Loss: 0.03452041557218195\n",
      "Epoch: 7/10; Train Loss: 0.020086459877158173; Val Loss: 0.03428358543353073\n",
      "Epoch: 8/10; Train Loss: 0.02112064377929618; Val Loss: 0.03469848197655423\n",
      "Epoch: 9/10; Train Loss: 0.021342310499197582; Val Loss: 0.03586668266940821\n",
      "Epoch: 10/10; Train Loss: 0.02183252560358982; Val Loss: 0.036184171809469284\n"
     ]
    },
    {
     "data": {
      "application/vnd.jupyter.widget-view+json": {
       "model_id": "bf4f6a0f57fc4ffa98fe093e9bc4465f",
       "version_major": 2,
       "version_minor": 0
      },
      "text/plain": [
       "VBox(children=(Label(value='0.001 MB of 0.001 MB uploaded\\r'), FloatProgress(value=1.0, max=1.0)))"
      ]
     },
     "metadata": {},
     "output_type": "display_data"
    },
    {
     "data": {
      "text/html": [
       "<style>\n",
       "    table.wandb td:nth-child(1) { padding: 0 10px; text-align: left ; width: auto;} td:nth-child(2) {text-align: left ; width: 100%}\n",
       "    .wandb-row { display: flex; flex-direction: row; flex-wrap: wrap; justify-content: flex-start; width: 100% }\n",
       "    .wandb-col { display: flex; flex-direction: column; flex-basis: 100%; flex: 1; padding: 10px; }\n",
       "    </style>\n",
       "<div class=\"wandb-row\"><div class=\"wandb-col\"><h3>Run history:</h3><br/><table class=\"wandb\"><tr><td>epoch</td><td>▁▁▁▁▂▂▂▂▃▃▃▃▃▃▃▃▄▄▄▄▅▅▅▅▆▆▆▆▆▆▆▆▇▇▇▇████</td></tr><tr><td>train_accuracy</td><td>▂▇▇▅▄▅▇█▇▇▅▇▅▄▅▇▂▇▅▇▄▅▅▇▇▅▅▂▇▁█▅▅▇█▄▅▇█▅</td></tr><tr><td>train_loss</td><td>█▂▁▂▄▃▃▂▃▂▄▂▃▅▃▂▇▃▃▂▄▄▅▃▂▄▄▅▂▇▁▃▃▂▁▃▄▃▂▃</td></tr><tr><td>val_accuracy</td><td>▁▄▅▅▅▄▆▆▇▇▆▇▇▇▇▇▇▇▇▇▇▇█▇▇█▇▇▇▇▇██▇▇██▇██</td></tr><tr><td>validation_loss</td><td>█▆▄▄▄▅▃▂▂▁▃▁▁▂▁▂▂▂▁▂▂▂▁▁▂▁▁▂▂▂▂▁▂▂▂▂▁▂▂▁</td></tr></table><br/></div><div class=\"wandb-col\"><h3>Run summary:</h3><br/><table class=\"wandb\"><tr><td>epoch</td><td>10</td></tr><tr><td>train_accuracy</td><td>100.0</td></tr><tr><td>train_loss</td><td>0.02183</td></tr><tr><td>val_accuracy</td><td>88.08333</td></tr><tr><td>validation_loss</td><td>0.03618</td></tr></table><br/></div></div>"
      ],
      "text/plain": [
       "<IPython.core.display.HTML object>"
      ]
     },
     "metadata": {},
     "output_type": "display_data"
    },
    {
     "data": {
      "text/html": [
       " View run <strong style=\"color:#cdcd00\">noble-sweep-83</strong> at: <a href='https://wandb.ai/sumanta_roy/CS6910_assignment_1/runs/f20wdqcg' target=\"_blank\">https://wandb.ai/sumanta_roy/CS6910_assignment_1/runs/f20wdqcg</a><br/>Synced 6 W&B file(s), 0 media file(s), 0 artifact file(s) and 0 other file(s)"
      ],
      "text/plain": [
       "<IPython.core.display.HTML object>"
      ]
     },
     "metadata": {},
     "output_type": "display_data"
    },
    {
     "data": {
      "text/html": [
       "Find logs at: <code>./wandb/run-20240317_104125-f20wdqcg/logs</code>"
      ],
      "text/plain": [
       "<IPython.core.display.HTML object>"
      ]
     },
     "metadata": {},
     "output_type": "display_data"
    },
    {
     "name": "stderr",
     "output_type": "stream",
     "text": [
      "\u001b[34m\u001b[1mwandb\u001b[0m: Agent Starting Run: j6syhm73 with config:\n",
      "\u001b[34m\u001b[1mwandb\u001b[0m: \tactivation: tanh\n",
      "\u001b[34m\u001b[1mwandb\u001b[0m: \tbatch_size: 16\n",
      "\u001b[34m\u001b[1mwandb\u001b[0m: \tepochs: 10\n",
      "\u001b[34m\u001b[1mwandb\u001b[0m: \thidden_layers: 3\n",
      "\u001b[34m\u001b[1mwandb\u001b[0m: \thidden_size: 32\n",
      "\u001b[34m\u001b[1mwandb\u001b[0m: \tloss: cross_entropy\n",
      "\u001b[34m\u001b[1mwandb\u001b[0m: \tlr: 0.001\n",
      "\u001b[34m\u001b[1mwandb\u001b[0m: \toptimizer: nadam\n",
      "\u001b[34m\u001b[1mwandb\u001b[0m: \tw_init: glorot\n",
      "\u001b[34m\u001b[1mwandb\u001b[0m: \tweight_decay: 0\n"
     ]
    },
    {
     "data": {
      "text/html": [
       "Tracking run with wandb version 0.16.4"
      ],
      "text/plain": [
       "<IPython.core.display.HTML object>"
      ]
     },
     "metadata": {},
     "output_type": "display_data"
    },
    {
     "data": {
      "text/html": [
       "Run data is saved locally in <code>/Users/sumanta/Desktop/Numpy project/cross_entropy_lesspasses/wandb/run-20240317_104344-j6syhm73</code>"
      ],
      "text/plain": [
       "<IPython.core.display.HTML object>"
      ]
     },
     "metadata": {},
     "output_type": "display_data"
    },
    {
     "data": {
      "text/html": [
       "Syncing run <strong><a href='https://wandb.ai/sumanta_roy/CS6910_assignment_1/runs/j6syhm73' target=\"_blank\">usual-sweep-84</a></strong> to <a href='https://wandb.ai/sumanta_roy/CS6910_assignment_1' target=\"_blank\">Weights & Biases</a> (<a href='https://wandb.me/run' target=\"_blank\">docs</a>)<br/>Sweep page: <a href='https://wandb.ai/sumanta_roy/CS6910_assignment_1/sweeps/mefq3vzl' target=\"_blank\">https://wandb.ai/sumanta_roy/CS6910_assignment_1/sweeps/mefq3vzl</a>"
      ],
      "text/plain": [
       "<IPython.core.display.HTML object>"
      ]
     },
     "metadata": {},
     "output_type": "display_data"
    },
    {
     "data": {
      "text/html": [
       " View project at <a href='https://wandb.ai/sumanta_roy/CS6910_assignment_1' target=\"_blank\">https://wandb.ai/sumanta_roy/CS6910_assignment_1</a>"
      ],
      "text/plain": [
       "<IPython.core.display.HTML object>"
      ]
     },
     "metadata": {},
     "output_type": "display_data"
    },
    {
     "data": {
      "text/html": [
       " View sweep at <a href='https://wandb.ai/sumanta_roy/CS6910_assignment_1/sweeps/mefq3vzl' target=\"_blank\">https://wandb.ai/sumanta_roy/CS6910_assignment_1/sweeps/mefq3vzl</a>"
      ],
      "text/plain": [
       "<IPython.core.display.HTML object>"
      ]
     },
     "metadata": {},
     "output_type": "display_data"
    },
    {
     "data": {
      "text/html": [
       " View run at <a href='https://wandb.ai/sumanta_roy/CS6910_assignment_1/runs/j6syhm73' target=\"_blank\">https://wandb.ai/sumanta_roy/CS6910_assignment_1/runs/j6syhm73</a>"
      ],
      "text/plain": [
       "<IPython.core.display.HTML object>"
      ]
     },
     "metadata": {},
     "output_type": "display_data"
    },
    {
     "name": "stdout",
     "output_type": "stream",
     "text": [
      "Epoch: 1/10; Train Loss: 0.020972003650916792; Val Loss: 0.05480617616456359\n",
      "Epoch: 2/10; Train Loss: 0.01419171681266232; Val Loss: 0.04656647340801162\n",
      "Epoch: 3/10; Train Loss: 0.011168783902692037; Val Loss: 0.04309588629496366\n",
      "Epoch: 4/10; Train Loss: 0.009706114804026788; Val Loss: 0.04100802201059861\n",
      "Epoch: 5/10; Train Loss: 0.008856211771833518; Val Loss: 0.039566004569039\n",
      "Epoch: 6/10; Train Loss: 0.00827070562815973; Val Loss: 0.03849973329740611\n",
      "Epoch: 7/10; Train Loss: 0.007830615433152218; Val Loss: 0.03767648554356002\n",
      "Epoch: 8/10; Train Loss: 0.0074909220495518345; Val Loss: 0.03702017871435234\n",
      "Epoch: 9/10; Train Loss: 0.007227947485558968; Val Loss: 0.036483743414658355\n",
      "Epoch: 10/10; Train Loss: 0.0070260305304812075; Val Loss: 0.036036610072302334\n"
     ]
    },
    {
     "data": {
      "application/vnd.jupyter.widget-view+json": {
       "model_id": "7a2d6b3a3db842618b1ca04d862b5a99",
       "version_major": 2,
       "version_minor": 0
      },
      "text/plain": [
       "VBox(children=(Label(value='0.001 MB of 0.001 MB uploaded\\r'), FloatProgress(value=1.0, max=1.0)))"
      ]
     },
     "metadata": {},
     "output_type": "display_data"
    },
    {
     "data": {
      "text/html": [
       "<style>\n",
       "    table.wandb td:nth-child(1) { padding: 0 10px; text-align: left ; width: auto;} td:nth-child(2) {text-align: left ; width: 100%}\n",
       "    .wandb-row { display: flex; flex-direction: row; flex-wrap: wrap; justify-content: flex-start; width: 100% }\n",
       "    .wandb-col { display: flex; flex-direction: column; flex-basis: 100%; flex: 1; padding: 10px; }\n",
       "    </style>\n",
       "<div class=\"wandb-row\"><div class=\"wandb-col\"><h3>Run history:</h3><br/><table class=\"wandb\"><tr><td>epoch</td><td>▁▁▁▁▂▂▂▂▃▃▃▃▃▃▃▃▄▄▄▄▅▅▅▅▆▆▆▆▆▆▆▆▇▇▇▇████</td></tr><tr><td>train_accuracy</td><td>▁▂▇▅▆▇▆▇▆▂▃▆▆▃▁▆▂▆▇█▅▆▅▇▆▆▅▃▃▅▆▆▅▇█▃▅▆▅▅</td></tr><tr><td>train_loss</td><td>█▆▃▄▄▃▄▂▃▄▄▂▃▃▄▃▅▂▂▁▄▃▃▃▄▅▃▃▄▄▂▃▃▂▁▃▃▃▃▃</td></tr><tr><td>val_accuracy</td><td>▁▃▅▆▆▆▇▇▇▇▇▇▇▇▇▇████████████████████████</td></tr><tr><td>validation_loss</td><td>█▅▄▃▃▃▂▂▂▂▂▂▂▂▂▂▂▁▁▁▁▁▁▁▁▁▁▁▁▁▁▁▁▁▁▁▁▁▁▁</td></tr></table><br/></div><div class=\"wandb-col\"><h3>Run summary:</h3><br/><table class=\"wandb\"><tr><td>epoch</td><td>10</td></tr><tr><td>train_accuracy</td><td>100.0</td></tr><tr><td>train_loss</td><td>0.00703</td></tr><tr><td>val_accuracy</td><td>87.05</td></tr><tr><td>validation_loss</td><td>0.03604</td></tr></table><br/></div></div>"
      ],
      "text/plain": [
       "<IPython.core.display.HTML object>"
      ]
     },
     "metadata": {},
     "output_type": "display_data"
    },
    {
     "data": {
      "text/html": [
       " View run <strong style=\"color:#cdcd00\">usual-sweep-84</strong> at: <a href='https://wandb.ai/sumanta_roy/CS6910_assignment_1/runs/j6syhm73' target=\"_blank\">https://wandb.ai/sumanta_roy/CS6910_assignment_1/runs/j6syhm73</a><br/>Synced 6 W&B file(s), 0 media file(s), 0 artifact file(s) and 0 other file(s)"
      ],
      "text/plain": [
       "<IPython.core.display.HTML object>"
      ]
     },
     "metadata": {},
     "output_type": "display_data"
    },
    {
     "data": {
      "text/html": [
       "Find logs at: <code>./wandb/run-20240317_104344-j6syhm73/logs</code>"
      ],
      "text/plain": [
       "<IPython.core.display.HTML object>"
      ]
     },
     "metadata": {},
     "output_type": "display_data"
    },
    {
     "name": "stderr",
     "output_type": "stream",
     "text": [
      "\u001b[34m\u001b[1mwandb\u001b[0m: Agent Starting Run: qmaxifo5 with config:\n",
      "\u001b[34m\u001b[1mwandb\u001b[0m: \tactivation: sigmoid\n",
      "\u001b[34m\u001b[1mwandb\u001b[0m: \tbatch_size: 16\n",
      "\u001b[34m\u001b[1mwandb\u001b[0m: \tepochs: 5\n",
      "\u001b[34m\u001b[1mwandb\u001b[0m: \thidden_layers: 3\n",
      "\u001b[34m\u001b[1mwandb\u001b[0m: \thidden_size: 32\n",
      "\u001b[34m\u001b[1mwandb\u001b[0m: \tloss: cross_entropy\n",
      "\u001b[34m\u001b[1mwandb\u001b[0m: \tlr: 0.001\n",
      "\u001b[34m\u001b[1mwandb\u001b[0m: \toptimizer: nesterov\n",
      "\u001b[34m\u001b[1mwandb\u001b[0m: \tw_init: random\n",
      "\u001b[34m\u001b[1mwandb\u001b[0m: \tweight_decay: 0\n"
     ]
    },
    {
     "data": {
      "text/html": [
       "Tracking run with wandb version 0.16.4"
      ],
      "text/plain": [
       "<IPython.core.display.HTML object>"
      ]
     },
     "metadata": {},
     "output_type": "display_data"
    },
    {
     "data": {
      "text/html": [
       "Run data is saved locally in <code>/Users/sumanta/Desktop/Numpy project/cross_entropy_lesspasses/wandb/run-20240317_104449-qmaxifo5</code>"
      ],
      "text/plain": [
       "<IPython.core.display.HTML object>"
      ]
     },
     "metadata": {},
     "output_type": "display_data"
    },
    {
     "data": {
      "text/html": [
       "Syncing run <strong><a href='https://wandb.ai/sumanta_roy/CS6910_assignment_1/runs/qmaxifo5' target=\"_blank\">smooth-sweep-85</a></strong> to <a href='https://wandb.ai/sumanta_roy/CS6910_assignment_1' target=\"_blank\">Weights & Biases</a> (<a href='https://wandb.me/run' target=\"_blank\">docs</a>)<br/>Sweep page: <a href='https://wandb.ai/sumanta_roy/CS6910_assignment_1/sweeps/mefq3vzl' target=\"_blank\">https://wandb.ai/sumanta_roy/CS6910_assignment_1/sweeps/mefq3vzl</a>"
      ],
      "text/plain": [
       "<IPython.core.display.HTML object>"
      ]
     },
     "metadata": {},
     "output_type": "display_data"
    },
    {
     "data": {
      "text/html": [
       " View project at <a href='https://wandb.ai/sumanta_roy/CS6910_assignment_1' target=\"_blank\">https://wandb.ai/sumanta_roy/CS6910_assignment_1</a>"
      ],
      "text/plain": [
       "<IPython.core.display.HTML object>"
      ]
     },
     "metadata": {},
     "output_type": "display_data"
    },
    {
     "data": {
      "text/html": [
       " View sweep at <a href='https://wandb.ai/sumanta_roy/CS6910_assignment_1/sweeps/mefq3vzl' target=\"_blank\">https://wandb.ai/sumanta_roy/CS6910_assignment_1/sweeps/mefq3vzl</a>"
      ],
      "text/plain": [
       "<IPython.core.display.HTML object>"
      ]
     },
     "metadata": {},
     "output_type": "display_data"
    },
    {
     "data": {
      "text/html": [
       " View run at <a href='https://wandb.ai/sumanta_roy/CS6910_assignment_1/runs/qmaxifo5' target=\"_blank\">https://wandb.ai/sumanta_roy/CS6910_assignment_1/runs/qmaxifo5</a>"
      ],
      "text/plain": [
       "<IPython.core.display.HTML object>"
      ]
     },
     "metadata": {},
     "output_type": "display_data"
    },
    {
     "name": "stdout",
     "output_type": "stream",
     "text": [
      "Epoch: 1/5; Train Loss: 0.17381365731012488; Val Loss: 0.1795944229841066\n",
      "Epoch: 2/5; Train Loss: 0.12111887936559076; Val Loss: 0.13244724858178095\n",
      "Epoch: 3/5; Train Loss: 0.07993117371200611; Val Loss: 0.10434103423028654\n",
      "Epoch: 4/5; Train Loss: 0.05841000880581167; Val Loss: 0.088659938741183\n",
      "Epoch: 5/5; Train Loss: 0.047745665618414354; Val Loss: 0.07980035539059652\n"
     ]
    },
    {
     "data": {
      "application/vnd.jupyter.widget-view+json": {
       "model_id": "716a026686414790a1300dcd5400d9ad",
       "version_major": 2,
       "version_minor": 0
      },
      "text/plain": [
       "VBox(children=(Label(value='0.001 MB of 0.001 MB uploaded\\r'), FloatProgress(value=1.0, max=1.0)))"
      ]
     },
     "metadata": {},
     "output_type": "display_data"
    },
    {
     "data": {
      "text/html": [
       "<style>\n",
       "    table.wandb td:nth-child(1) { padding: 0 10px; text-align: left ; width: auto;} td:nth-child(2) {text-align: left ; width: 100%}\n",
       "    .wandb-row { display: flex; flex-direction: row; flex-wrap: wrap; justify-content: flex-start; width: 100% }\n",
       "    .wandb-col { display: flex; flex-direction: column; flex-basis: 100%; flex: 1; padding: 10px; }\n",
       "    </style>\n",
       "<div class=\"wandb-row\"><div class=\"wandb-col\"><h3>Run history:</h3><br/><table class=\"wandb\"><tr><td>epoch</td><td>▁▁▁▁▁▁▁▁▃▃▃▃▃▃▃▃▅▅▅▅▅▅▅▅▆▆▆▆▆▆▆▆████████</td></tr><tr><td>train_accuracy</td><td>▁▃▃▂▃▃▃▆▄▅▅▇▇▅▇▆▇▅▇▇▅▇▆▆▆▇▇▆▆▆██▅▅▇█▇▇██</td></tr><tr><td>train_loss</td><td>███▇▇▇▆▆▆▅▅▅▄▅▄▄▃▄▃▄▃▂▂▃▃▂▂▃▃▂▁▂▃▃▂▁▁▁▁▁</td></tr><tr><td>val_accuracy</td><td>▁▂▂▃▄▅▅▆▆▆▆▆▆▆▆▇▇▇▇▇▇▇▇▇▇▇▇▇████████████</td></tr><tr><td>validation_loss</td><td>███▇▇▇▆▆▅▅▅▄▄▄▄▄▃▃▃▃▃▂▂▂▂▂▂▂▂▂▂▁▁▁▁▁▁▁▁▁</td></tr></table><br/></div><div class=\"wandb-col\"><h3>Run summary:</h3><br/><table class=\"wandb\"><tr><td>epoch</td><td>5</td></tr><tr><td>train_accuracy</td><td>87.5</td></tr><tr><td>train_loss</td><td>0.04775</td></tr><tr><td>val_accuracy</td><td>70.88333</td></tr><tr><td>validation_loss</td><td>0.0798</td></tr></table><br/></div></div>"
      ],
      "text/plain": [
       "<IPython.core.display.HTML object>"
      ]
     },
     "metadata": {},
     "output_type": "display_data"
    },
    {
     "data": {
      "text/html": [
       " View run <strong style=\"color:#cdcd00\">smooth-sweep-85</strong> at: <a href='https://wandb.ai/sumanta_roy/CS6910_assignment_1/runs/qmaxifo5' target=\"_blank\">https://wandb.ai/sumanta_roy/CS6910_assignment_1/runs/qmaxifo5</a><br/>Synced 6 W&B file(s), 0 media file(s), 0 artifact file(s) and 0 other file(s)"
      ],
      "text/plain": [
       "<IPython.core.display.HTML object>"
      ]
     },
     "metadata": {},
     "output_type": "display_data"
    },
    {
     "data": {
      "text/html": [
       "Find logs at: <code>./wandb/run-20240317_104449-qmaxifo5/logs</code>"
      ],
      "text/plain": [
       "<IPython.core.display.HTML object>"
      ]
     },
     "metadata": {},
     "output_type": "display_data"
    },
    {
     "name": "stderr",
     "output_type": "stream",
     "text": [
      "\u001b[34m\u001b[1mwandb\u001b[0m: Agent Starting Run: hm1vxzal with config:\n",
      "\u001b[34m\u001b[1mwandb\u001b[0m: \tactivation: tanh\n",
      "\u001b[34m\u001b[1mwandb\u001b[0m: \tbatch_size: 16\n",
      "\u001b[34m\u001b[1mwandb\u001b[0m: \tepochs: 10\n",
      "\u001b[34m\u001b[1mwandb\u001b[0m: \thidden_layers: 3\n",
      "\u001b[34m\u001b[1mwandb\u001b[0m: \thidden_size: 64\n",
      "\u001b[34m\u001b[1mwandb\u001b[0m: \tloss: cross_entropy\n",
      "\u001b[34m\u001b[1mwandb\u001b[0m: \tlr: 0.001\n",
      "\u001b[34m\u001b[1mwandb\u001b[0m: \toptimizer: nadam\n",
      "\u001b[34m\u001b[1mwandb\u001b[0m: \tw_init: glorot\n",
      "\u001b[34m\u001b[1mwandb\u001b[0m: \tweight_decay: 0.0005\n"
     ]
    },
    {
     "data": {
      "text/html": [
       "Tracking run with wandb version 0.16.4"
      ],
      "text/plain": [
       "<IPython.core.display.HTML object>"
      ]
     },
     "metadata": {},
     "output_type": "display_data"
    },
    {
     "data": {
      "text/html": [
       "Run data is saved locally in <code>/Users/sumanta/Desktop/Numpy project/cross_entropy_lesspasses/wandb/run-20240317_104532-hm1vxzal</code>"
      ],
      "text/plain": [
       "<IPython.core.display.HTML object>"
      ]
     },
     "metadata": {},
     "output_type": "display_data"
    },
    {
     "data": {
      "text/html": [
       "Syncing run <strong><a href='https://wandb.ai/sumanta_roy/CS6910_assignment_1/runs/hm1vxzal' target=\"_blank\">spring-sweep-86</a></strong> to <a href='https://wandb.ai/sumanta_roy/CS6910_assignment_1' target=\"_blank\">Weights & Biases</a> (<a href='https://wandb.me/run' target=\"_blank\">docs</a>)<br/>Sweep page: <a href='https://wandb.ai/sumanta_roy/CS6910_assignment_1/sweeps/mefq3vzl' target=\"_blank\">https://wandb.ai/sumanta_roy/CS6910_assignment_1/sweeps/mefq3vzl</a>"
      ],
      "text/plain": [
       "<IPython.core.display.HTML object>"
      ]
     },
     "metadata": {},
     "output_type": "display_data"
    },
    {
     "data": {
      "text/html": [
       " View project at <a href='https://wandb.ai/sumanta_roy/CS6910_assignment_1' target=\"_blank\">https://wandb.ai/sumanta_roy/CS6910_assignment_1</a>"
      ],
      "text/plain": [
       "<IPython.core.display.HTML object>"
      ]
     },
     "metadata": {},
     "output_type": "display_data"
    },
    {
     "data": {
      "text/html": [
       " View sweep at <a href='https://wandb.ai/sumanta_roy/CS6910_assignment_1/sweeps/mefq3vzl' target=\"_blank\">https://wandb.ai/sumanta_roy/CS6910_assignment_1/sweeps/mefq3vzl</a>"
      ],
      "text/plain": [
       "<IPython.core.display.HTML object>"
      ]
     },
     "metadata": {},
     "output_type": "display_data"
    },
    {
     "data": {
      "text/html": [
       " View run at <a href='https://wandb.ai/sumanta_roy/CS6910_assignment_1/runs/hm1vxzal' target=\"_blank\">https://wandb.ai/sumanta_roy/CS6910_assignment_1/runs/hm1vxzal</a>"
      ],
      "text/plain": [
       "<IPython.core.display.HTML object>"
      ]
     },
     "metadata": {},
     "output_type": "display_data"
    },
    {
     "name": "stdout",
     "output_type": "stream",
     "text": [
      "Epoch: 1/10; Train Loss: 0.018288628075883856; Val Loss: 0.046719492424288196\n",
      "Epoch: 2/10; Train Loss: 0.01730549601073409; Val Loss: 0.04187226383030711\n",
      "Epoch: 3/10; Train Loss: 0.016860444650144947; Val Loss: 0.039503651566415776\n",
      "Epoch: 4/10; Train Loss: 0.016537912172534613; Val Loss: 0.03800561339520094\n",
      "Epoch: 5/10; Train Loss: 0.016286275654560388; Val Loss: 0.036925663602129594\n",
      "Epoch: 6/10; Train Loss: 0.01608495561896712; Val Loss: 0.03608528457691287\n",
      "Epoch: 7/10; Train Loss: 0.01592645259938725; Val Loss: 0.03539737419540601\n",
      "Epoch: 8/10; Train Loss: 0.01581764664407271; Val Loss: 0.03481591524251437\n",
      "Epoch: 9/10; Train Loss: 0.01576429882093527; Val Loss: 0.03431486080266769\n",
      "Epoch: 10/10; Train Loss: 0.015758403538372892; Val Loss: 0.03387784336071156\n"
     ]
    },
    {
     "data": {
      "application/vnd.jupyter.widget-view+json": {
       "model_id": "225a0903f2fc4faa9416de3013b0ee98",
       "version_major": 2,
       "version_minor": 0
      },
      "text/plain": [
       "VBox(children=(Label(value='0.001 MB of 0.001 MB uploaded\\r'), FloatProgress(value=1.0, max=1.0)))"
      ]
     },
     "metadata": {},
     "output_type": "display_data"
    },
    {
     "data": {
      "text/html": [
       "<style>\n",
       "    table.wandb td:nth-child(1) { padding: 0 10px; text-align: left ; width: auto;} td:nth-child(2) {text-align: left ; width: 100%}\n",
       "    .wandb-row { display: flex; flex-direction: row; flex-wrap: wrap; justify-content: flex-start; width: 100% }\n",
       "    .wandb-col { display: flex; flex-direction: column; flex-basis: 100%; flex: 1; padding: 10px; }\n",
       "    </style>\n",
       "<div class=\"wandb-row\"><div class=\"wandb-col\"><h3>Run history:</h3><br/><table class=\"wandb\"><tr><td>epoch</td><td>▁▁▁▁▂▂▂▂▃▃▃▃▃▃▃▃▄▄▄▄▅▅▅▅▆▆▆▆▆▆▆▆▇▇▇▇████</td></tr><tr><td>train_accuracy</td><td>▁▇▇▆█▇▇▇▆▃▃▇▆▅▃▆▃▆▅█▅▅▅▇▅▅▆▆▃▅▆▆▅▇▇▆▅▇▆▅</td></tr><tr><td>train_loss</td><td>█▄▂▃▃▂▃▂▃▃▄▁▃▄▄▃▅▃▃▁▅▄▄▃▄▄▄▃▄▄▂▃▂▂▁▃▄▂▄▃</td></tr><tr><td>val_accuracy</td><td>▁▄▅▆▆▆▆▇▆▇▇▇▇▇▇▇▇▇▇▇▇▇▇█████████████████</td></tr><tr><td>validation_loss</td><td>█▅▄▃▃▃▃▂▂▂▂▂▂▂▂▂▂▂▂▁▁▁▁▁▁▁▁▁▁▁▁▁▁▁▁▁▁▁▁▁</td></tr></table><br/></div><div class=\"wandb-col\"><h3>Run summary:</h3><br/><table class=\"wandb\"><tr><td>epoch</td><td>10</td></tr><tr><td>train_accuracy</td><td>100.0</td></tr><tr><td>train_loss</td><td>0.01576</td></tr><tr><td>val_accuracy</td><td>88.18333</td></tr><tr><td>validation_loss</td><td>0.03388</td></tr></table><br/></div></div>"
      ],
      "text/plain": [
       "<IPython.core.display.HTML object>"
      ]
     },
     "metadata": {},
     "output_type": "display_data"
    },
    {
     "data": {
      "text/html": [
       " View run <strong style=\"color:#cdcd00\">spring-sweep-86</strong> at: <a href='https://wandb.ai/sumanta_roy/CS6910_assignment_1/runs/hm1vxzal' target=\"_blank\">https://wandb.ai/sumanta_roy/CS6910_assignment_1/runs/hm1vxzal</a><br/>Synced 6 W&B file(s), 0 media file(s), 0 artifact file(s) and 0 other file(s)"
      ],
      "text/plain": [
       "<IPython.core.display.HTML object>"
      ]
     },
     "metadata": {},
     "output_type": "display_data"
    },
    {
     "data": {
      "text/html": [
       "Find logs at: <code>./wandb/run-20240317_104532-hm1vxzal/logs</code>"
      ],
      "text/plain": [
       "<IPython.core.display.HTML object>"
      ]
     },
     "metadata": {},
     "output_type": "display_data"
    },
    {
     "name": "stderr",
     "output_type": "stream",
     "text": [
      "\u001b[34m\u001b[1mwandb\u001b[0m: Sweep Agent: Waiting for job.\n",
      "\u001b[34m\u001b[1mwandb\u001b[0m: Job received.\n",
      "\u001b[34m\u001b[1mwandb\u001b[0m: Agent Starting Run: 525qzsox with config:\n",
      "\u001b[34m\u001b[1mwandb\u001b[0m: \tactivation: tanh\n",
      "\u001b[34m\u001b[1mwandb\u001b[0m: \tbatch_size: 64\n",
      "\u001b[34m\u001b[1mwandb\u001b[0m: \tepochs: 10\n",
      "\u001b[34m\u001b[1mwandb\u001b[0m: \thidden_layers: 3\n",
      "\u001b[34m\u001b[1mwandb\u001b[0m: \thidden_size: 128\n",
      "\u001b[34m\u001b[1mwandb\u001b[0m: \tloss: cross_entropy\n",
      "\u001b[34m\u001b[1mwandb\u001b[0m: \tlr: 0.001\n",
      "\u001b[34m\u001b[1mwandb\u001b[0m: \toptimizer: nadam\n",
      "\u001b[34m\u001b[1mwandb\u001b[0m: \tw_init: random\n",
      "\u001b[34m\u001b[1mwandb\u001b[0m: \tweight_decay: 0\n"
     ]
    },
    {
     "data": {
      "text/html": [
       "Tracking run with wandb version 0.16.4"
      ],
      "text/plain": [
       "<IPython.core.display.HTML object>"
      ]
     },
     "metadata": {},
     "output_type": "display_data"
    },
    {
     "data": {
      "text/html": [
       "Run data is saved locally in <code>/Users/sumanta/Desktop/Numpy project/cross_entropy_lesspasses/wandb/run-20240317_104712-525qzsox</code>"
      ],
      "text/plain": [
       "<IPython.core.display.HTML object>"
      ]
     },
     "metadata": {},
     "output_type": "display_data"
    },
    {
     "data": {
      "text/html": [
       "Syncing run <strong><a href='https://wandb.ai/sumanta_roy/CS6910_assignment_1/runs/525qzsox' target=\"_blank\">solar-sweep-87</a></strong> to <a href='https://wandb.ai/sumanta_roy/CS6910_assignment_1' target=\"_blank\">Weights & Biases</a> (<a href='https://wandb.me/run' target=\"_blank\">docs</a>)<br/>Sweep page: <a href='https://wandb.ai/sumanta_roy/CS6910_assignment_1/sweeps/mefq3vzl' target=\"_blank\">https://wandb.ai/sumanta_roy/CS6910_assignment_1/sweeps/mefq3vzl</a>"
      ],
      "text/plain": [
       "<IPython.core.display.HTML object>"
      ]
     },
     "metadata": {},
     "output_type": "display_data"
    },
    {
     "data": {
      "text/html": [
       " View project at <a href='https://wandb.ai/sumanta_roy/CS6910_assignment_1' target=\"_blank\">https://wandb.ai/sumanta_roy/CS6910_assignment_1</a>"
      ],
      "text/plain": [
       "<IPython.core.display.HTML object>"
      ]
     },
     "metadata": {},
     "output_type": "display_data"
    },
    {
     "data": {
      "text/html": [
       " View sweep at <a href='https://wandb.ai/sumanta_roy/CS6910_assignment_1/sweeps/mefq3vzl' target=\"_blank\">https://wandb.ai/sumanta_roy/CS6910_assignment_1/sweeps/mefq3vzl</a>"
      ],
      "text/plain": [
       "<IPython.core.display.HTML object>"
      ]
     },
     "metadata": {},
     "output_type": "display_data"
    },
    {
     "data": {
      "text/html": [
       " View run at <a href='https://wandb.ai/sumanta_roy/CS6910_assignment_1/runs/525qzsox' target=\"_blank\">https://wandb.ai/sumanta_roy/CS6910_assignment_1/runs/525qzsox</a>"
      ],
      "text/plain": [
       "<IPython.core.display.HTML object>"
      ]
     },
     "metadata": {},
     "output_type": "display_data"
    },
    {
     "name": "stdout",
     "output_type": "stream",
     "text": [
      "Epoch: 1/10; Train Loss: 0.06675230861920452; Val Loss: 0.06935003783131001\n",
      "Epoch: 2/10; Train Loss: 0.05846192892038131; Val Loss: 0.06156974677474041\n",
      "Epoch: 3/10; Train Loss: 0.053562755366652594; Val Loss: 0.05752767345873963\n",
      "Epoch: 4/10; Train Loss: 0.049230888731217684; Val Loss: 0.054850932985249484\n",
      "Epoch: 5/10; Train Loss: 0.04595519102954125; Val Loss: 0.052885447573152035\n",
      "Epoch: 6/10; Train Loss: 0.04353443655527685; Val Loss: 0.05133237168243865\n",
      "Epoch: 7/10; Train Loss: 0.041648566848121155; Val Loss: 0.050065119891713125\n",
      "Epoch: 8/10; Train Loss: 0.04012654740639189; Val Loss: 0.04901105021767279\n",
      "Epoch: 9/10; Train Loss: 0.03885967334455122; Val Loss: 0.04811120891143988\n",
      "Epoch: 10/10; Train Loss: 0.03776890766178347; Val Loss: 0.04732807032015244\n"
     ]
    },
    {
     "data": {
      "application/vnd.jupyter.widget-view+json": {
       "model_id": "3f1c2733b5f44ef1ab4606b638708e8e",
       "version_major": 2,
       "version_minor": 0
      },
      "text/plain": [
       "VBox(children=(Label(value='0.001 MB of 0.001 MB uploaded\\r'), FloatProgress(value=1.0, max=1.0)))"
      ]
     },
     "metadata": {},
     "output_type": "display_data"
    },
    {
     "data": {
      "text/html": [
       "<style>\n",
       "    table.wandb td:nth-child(1) { padding: 0 10px; text-align: left ; width: auto;} td:nth-child(2) {text-align: left ; width: 100%}\n",
       "    .wandb-row { display: flex; flex-direction: row; flex-wrap: wrap; justify-content: flex-start; width: 100% }\n",
       "    .wandb-col { display: flex; flex-direction: column; flex-basis: 100%; flex: 1; padding: 10px; }\n",
       "    </style>\n",
       "<div class=\"wandb-row\"><div class=\"wandb-col\"><h3>Run history:</h3><br/><table class=\"wandb\"><tr><td>epoch</td><td>▁▁▁▁▂▂▂▂▃▃▃▃▃▃▃▃▄▄▄▄▅▅▅▅▆▆▆▆▆▆▆▆▇▇▇▇████</td></tr><tr><td>train_accuracy</td><td>▁▁▄▄▆▄▄▆▆▃▄▅▆▅▆▄▄▅▆▅▇▇▅▆▇▇▇▅▆▇▇▄▆█▅█▄▇▆▆</td></tr><tr><td>train_loss</td><td>██▄▄▃▃▄▄▃▅▄▄▃▄▂▅▃▃▂▄▂▃▃▂▂▂▂▃▂▂▂▃▃▁▃▂▃▂▂▃</td></tr><tr><td>val_accuracy</td><td>▁▃▅▅▆▆▆▆▇▇▇▇▇▇▇▇▇▇▇▇▇▇█▇▇███████████████</td></tr><tr><td>validation_loss</td><td>█▅▄▃▃▃▃▂▂▂▂▂▂▂▂▂▂▂▂▂▁▁▁▁▁▁▁▁▁▁▁▁▁▁▁▁▁▁▁▁</td></tr></table><br/></div><div class=\"wandb-col\"><h3>Run summary:</h3><br/><table class=\"wandb\"><tr><td>epoch</td><td>10</td></tr><tr><td>train_accuracy</td><td>89.0625</td></tr><tr><td>train_loss</td><td>0.03777</td></tr><tr><td>val_accuracy</td><td>82.95</td></tr><tr><td>validation_loss</td><td>0.04733</td></tr></table><br/></div></div>"
      ],
      "text/plain": [
       "<IPython.core.display.HTML object>"
      ]
     },
     "metadata": {},
     "output_type": "display_data"
    },
    {
     "data": {
      "text/html": [
       " View run <strong style=\"color:#cdcd00\">solar-sweep-87</strong> at: <a href='https://wandb.ai/sumanta_roy/CS6910_assignment_1/runs/525qzsox' target=\"_blank\">https://wandb.ai/sumanta_roy/CS6910_assignment_1/runs/525qzsox</a><br/>Synced 6 W&B file(s), 0 media file(s), 0 artifact file(s) and 0 other file(s)"
      ],
      "text/plain": [
       "<IPython.core.display.HTML object>"
      ]
     },
     "metadata": {},
     "output_type": "display_data"
    },
    {
     "data": {
      "text/html": [
       "Find logs at: <code>./wandb/run-20240317_104712-525qzsox/logs</code>"
      ],
      "text/plain": [
       "<IPython.core.display.HTML object>"
      ]
     },
     "metadata": {},
     "output_type": "display_data"
    },
    {
     "name": "stderr",
     "output_type": "stream",
     "text": [
      "\u001b[34m\u001b[1mwandb\u001b[0m: Agent Starting Run: cle8dzug with config:\n",
      "\u001b[34m\u001b[1mwandb\u001b[0m: \tactivation: tanh\n",
      "\u001b[34m\u001b[1mwandb\u001b[0m: \tbatch_size: 16\n",
      "\u001b[34m\u001b[1mwandb\u001b[0m: \tepochs: 10\n",
      "\u001b[34m\u001b[1mwandb\u001b[0m: \thidden_layers: 3\n",
      "\u001b[34m\u001b[1mwandb\u001b[0m: \thidden_size: 64\n",
      "\u001b[34m\u001b[1mwandb\u001b[0m: \tloss: cross_entropy\n",
      "\u001b[34m\u001b[1mwandb\u001b[0m: \tlr: 0.001\n",
      "\u001b[34m\u001b[1mwandb\u001b[0m: \toptimizer: adam\n",
      "\u001b[34m\u001b[1mwandb\u001b[0m: \tw_init: glorot\n",
      "\u001b[34m\u001b[1mwandb\u001b[0m: \tweight_decay: 0.0005\n"
     ]
    },
    {
     "data": {
      "application/vnd.jupyter.widget-view+json": {
       "model_id": "3201b04d31754469a02b0f5a8697727e",
       "version_major": 2,
       "version_minor": 0
      },
      "text/plain": [
       "VBox(children=(Label(value='Waiting for wandb.init()...\\r'), FloatProgress(value=0.011115943511120148, max=1.0…"
      ]
     },
     "metadata": {},
     "output_type": "display_data"
    },
    {
     "data": {
      "text/html": [
       "Tracking run with wandb version 0.16.4"
      ],
      "text/plain": [
       "<IPython.core.display.HTML object>"
      ]
     },
     "metadata": {},
     "output_type": "display_data"
    },
    {
     "data": {
      "text/html": [
       "Run data is saved locally in <code>/Users/sumanta/Desktop/Numpy project/cross_entropy_lesspasses/wandb/run-20240317_104853-cle8dzug</code>"
      ],
      "text/plain": [
       "<IPython.core.display.HTML object>"
      ]
     },
     "metadata": {},
     "output_type": "display_data"
    },
    {
     "data": {
      "text/html": [
       "Syncing run <strong><a href='https://wandb.ai/sumanta_roy/CS6910_assignment_1/runs/cle8dzug' target=\"_blank\">true-sweep-88</a></strong> to <a href='https://wandb.ai/sumanta_roy/CS6910_assignment_1' target=\"_blank\">Weights & Biases</a> (<a href='https://wandb.me/run' target=\"_blank\">docs</a>)<br/>Sweep page: <a href='https://wandb.ai/sumanta_roy/CS6910_assignment_1/sweeps/mefq3vzl' target=\"_blank\">https://wandb.ai/sumanta_roy/CS6910_assignment_1/sweeps/mefq3vzl</a>"
      ],
      "text/plain": [
       "<IPython.core.display.HTML object>"
      ]
     },
     "metadata": {},
     "output_type": "display_data"
    },
    {
     "data": {
      "text/html": [
       " View project at <a href='https://wandb.ai/sumanta_roy/CS6910_assignment_1' target=\"_blank\">https://wandb.ai/sumanta_roy/CS6910_assignment_1</a>"
      ],
      "text/plain": [
       "<IPython.core.display.HTML object>"
      ]
     },
     "metadata": {},
     "output_type": "display_data"
    },
    {
     "data": {
      "text/html": [
       " View sweep at <a href='https://wandb.ai/sumanta_roy/CS6910_assignment_1/sweeps/mefq3vzl' target=\"_blank\">https://wandb.ai/sumanta_roy/CS6910_assignment_1/sweeps/mefq3vzl</a>"
      ],
      "text/plain": [
       "<IPython.core.display.HTML object>"
      ]
     },
     "metadata": {},
     "output_type": "display_data"
    },
    {
     "data": {
      "text/html": [
       " View run at <a href='https://wandb.ai/sumanta_roy/CS6910_assignment_1/runs/cle8dzug' target=\"_blank\">https://wandb.ai/sumanta_roy/CS6910_assignment_1/runs/cle8dzug</a>"
      ],
      "text/plain": [
       "<IPython.core.display.HTML object>"
      ]
     },
     "metadata": {},
     "output_type": "display_data"
    },
    {
     "name": "stdout",
     "output_type": "stream",
     "text": [
      "Epoch: 1/10; Train Loss: 0.013775173235858341; Val Loss: 0.037528775823220534\n",
      "Epoch: 2/10; Train Loss: 0.01370589780601146; Val Loss: 0.03497139920536581\n",
      "Epoch: 3/10; Train Loss: 0.014147834560150094; Val Loss: 0.03374709466744707\n",
      "Epoch: 4/10; Train Loss: 0.014601530997720439; Val Loss: 0.033012299342811455\n",
      "Epoch: 5/10; Train Loss: 0.014901422688506721; Val Loss: 0.03254630517926584\n",
      "Epoch: 6/10; Train Loss: 0.015058865699937472; Val Loss: 0.03225415950932794\n",
      "Epoch: 7/10; Train Loss: 0.015281252113209956; Val Loss: 0.03209444145087862\n",
      "Epoch: 8/10; Train Loss: 0.015666250876715537; Val Loss: 0.03204569625119633\n",
      "Epoch: 9/10; Train Loss: 0.01606873160620472; Val Loss: 0.032072524788218953\n",
      "Epoch: 10/10; Train Loss: 0.01650946285793064; Val Loss: 0.03217499551859898\n"
     ]
    },
    {
     "data": {
      "application/vnd.jupyter.widget-view+json": {
       "model_id": "95fbb27d59fe4498a982747a31456bf1",
       "version_major": 2,
       "version_minor": 0
      },
      "text/plain": [
       "VBox(children=(Label(value='0.001 MB of 0.001 MB uploaded\\r'), FloatProgress(value=1.0, max=1.0)))"
      ]
     },
     "metadata": {},
     "output_type": "display_data"
    },
    {
     "data": {
      "text/html": [
       "<style>\n",
       "    table.wandb td:nth-child(1) { padding: 0 10px; text-align: left ; width: auto;} td:nth-child(2) {text-align: left ; width: 100%}\n",
       "    .wandb-row { display: flex; flex-direction: row; flex-wrap: wrap; justify-content: flex-start; width: 100% }\n",
       "    .wandb-col { display: flex; flex-direction: column; flex-basis: 100%; flex: 1; padding: 10px; }\n",
       "    </style>\n",
       "<div class=\"wandb-row\"><div class=\"wandb-col\"><h3>Run history:</h3><br/><table class=\"wandb\"><tr><td>epoch</td><td>▁▁▁▁▂▂▂▂▃▃▃▃▃▃▃▃▄▄▄▄▅▅▅▅▆▆▆▆▆▆▆▆▇▇▇▇████</td></tr><tr><td>train_accuracy</td><td>▁▇█▆▆▇▇▆▇█▅▆▆▅▃▇▆▆▆▇▆▆▆▇▇▅▆▅▇▅█▇▇▇▇▆▅▇▇▅</td></tr><tr><td>train_loss</td><td>█▄▁▃▄▄▄▃▄▃▆▃▄▅▅▄▅▄▄▂▄▅▆▄▄▆▄▅▅▆▂▄▃▃▃▃▆▃▅▄</td></tr><tr><td>val_accuracy</td><td>▁▅▅▆▆▆▆▇▆▆▆▇▆▇▇▇▇▇█▇█▇▇██▇███▇▇▇█▇▇████▇</td></tr><tr><td>validation_loss</td><td>█▅▄▃▃▂▃▂▃▂▃▂▂▂▁▁▂▂▁▂▁▂▁▁▁▂▁▁▁▂▂▁▂▁▂▁▂▁▁▁</td></tr></table><br/></div><div class=\"wandb-col\"><h3>Run summary:</h3><br/><table class=\"wandb\"><tr><td>epoch</td><td>10</td></tr><tr><td>train_accuracy</td><td>100.0</td></tr><tr><td>train_loss</td><td>0.01651</td></tr><tr><td>val_accuracy</td><td>88.88333</td></tr><tr><td>validation_loss</td><td>0.03217</td></tr></table><br/></div></div>"
      ],
      "text/plain": [
       "<IPython.core.display.HTML object>"
      ]
     },
     "metadata": {},
     "output_type": "display_data"
    },
    {
     "data": {
      "text/html": [
       " View run <strong style=\"color:#cdcd00\">true-sweep-88</strong> at: <a href='https://wandb.ai/sumanta_roy/CS6910_assignment_1/runs/cle8dzug' target=\"_blank\">https://wandb.ai/sumanta_roy/CS6910_assignment_1/runs/cle8dzug</a><br/>Synced 6 W&B file(s), 0 media file(s), 0 artifact file(s) and 0 other file(s)"
      ],
      "text/plain": [
       "<IPython.core.display.HTML object>"
      ]
     },
     "metadata": {},
     "output_type": "display_data"
    },
    {
     "data": {
      "text/html": [
       "Find logs at: <code>./wandb/run-20240317_104853-cle8dzug/logs</code>"
      ],
      "text/plain": [
       "<IPython.core.display.HTML object>"
      ]
     },
     "metadata": {},
     "output_type": "display_data"
    },
    {
     "name": "stderr",
     "output_type": "stream",
     "text": [
      "\u001b[34m\u001b[1mwandb\u001b[0m: Agent Starting Run: 1txjjf3x with config:\n",
      "\u001b[34m\u001b[1mwandb\u001b[0m: \tactivation: tanh\n",
      "\u001b[34m\u001b[1mwandb\u001b[0m: \tbatch_size: 64\n",
      "\u001b[34m\u001b[1mwandb\u001b[0m: \tepochs: 10\n",
      "\u001b[34m\u001b[1mwandb\u001b[0m: \thidden_layers: 3\n",
      "\u001b[34m\u001b[1mwandb\u001b[0m: \thidden_size: 32\n",
      "\u001b[34m\u001b[1mwandb\u001b[0m: \tloss: cross_entropy\n",
      "\u001b[34m\u001b[1mwandb\u001b[0m: \tlr: 0.001\n",
      "\u001b[34m\u001b[1mwandb\u001b[0m: \toptimizer: rmsprop\n",
      "\u001b[34m\u001b[1mwandb\u001b[0m: \tw_init: glorot\n",
      "\u001b[34m\u001b[1mwandb\u001b[0m: \tweight_decay: 0\n"
     ]
    },
    {
     "data": {
      "text/html": [
       "Tracking run with wandb version 0.16.4"
      ],
      "text/plain": [
       "<IPython.core.display.HTML object>"
      ]
     },
     "metadata": {},
     "output_type": "display_data"
    },
    {
     "data": {
      "text/html": [
       "Run data is saved locally in <code>/Users/sumanta/Desktop/Numpy project/cross_entropy_lesspasses/wandb/run-20240317_105019-1txjjf3x</code>"
      ],
      "text/plain": [
       "<IPython.core.display.HTML object>"
      ]
     },
     "metadata": {},
     "output_type": "display_data"
    },
    {
     "data": {
      "text/html": [
       "Syncing run <strong><a href='https://wandb.ai/sumanta_roy/CS6910_assignment_1/runs/1txjjf3x' target=\"_blank\">sweepy-sweep-89</a></strong> to <a href='https://wandb.ai/sumanta_roy/CS6910_assignment_1' target=\"_blank\">Weights & Biases</a> (<a href='https://wandb.me/run' target=\"_blank\">docs</a>)<br/>Sweep page: <a href='https://wandb.ai/sumanta_roy/CS6910_assignment_1/sweeps/mefq3vzl' target=\"_blank\">https://wandb.ai/sumanta_roy/CS6910_assignment_1/sweeps/mefq3vzl</a>"
      ],
      "text/plain": [
       "<IPython.core.display.HTML object>"
      ]
     },
     "metadata": {},
     "output_type": "display_data"
    },
    {
     "data": {
      "text/html": [
       " View project at <a href='https://wandb.ai/sumanta_roy/CS6910_assignment_1' target=\"_blank\">https://wandb.ai/sumanta_roy/CS6910_assignment_1</a>"
      ],
      "text/plain": [
       "<IPython.core.display.HTML object>"
      ]
     },
     "metadata": {},
     "output_type": "display_data"
    },
    {
     "data": {
      "text/html": [
       " View sweep at <a href='https://wandb.ai/sumanta_roy/CS6910_assignment_1/sweeps/mefq3vzl' target=\"_blank\">https://wandb.ai/sumanta_roy/CS6910_assignment_1/sweeps/mefq3vzl</a>"
      ],
      "text/plain": [
       "<IPython.core.display.HTML object>"
      ]
     },
     "metadata": {},
     "output_type": "display_data"
    },
    {
     "data": {
      "text/html": [
       " View run at <a href='https://wandb.ai/sumanta_roy/CS6910_assignment_1/runs/1txjjf3x' target=\"_blank\">https://wandb.ai/sumanta_roy/CS6910_assignment_1/runs/1txjjf3x</a>"
      ],
      "text/plain": [
       "<IPython.core.display.HTML object>"
      ]
     },
     "metadata": {},
     "output_type": "display_data"
    },
    {
     "name": "stdout",
     "output_type": "stream",
     "text": [
      "Epoch: 1/10; Train Loss: 0.05408016632397452; Val Loss: 0.04392373202789537\n",
      "Epoch: 2/10; Train Loss: 0.04524810669657447; Val Loss: 0.040024016531940564\n",
      "Epoch: 3/10; Train Loss: 0.03958338619446207; Val Loss: 0.03848097319802531\n",
      "Epoch: 4/10; Train Loss: 0.035624648733849; Val Loss: 0.03736372331212974\n",
      "Epoch: 5/10; Train Loss: 0.032864931625090035; Val Loss: 0.036505581877297015\n",
      "Epoch: 6/10; Train Loss: 0.030966862056318368; Val Loss: 0.03586338725476463\n",
      "Epoch: 7/10; Train Loss: 0.029714207493511936; Val Loss: 0.0353985967189923\n",
      "Epoch: 8/10; Train Loss: 0.02881513235889378; Val Loss: 0.03505265309263843\n",
      "Epoch: 9/10; Train Loss: 0.028054907620717627; Val Loss: 0.034744389136130566\n",
      "Epoch: 10/10; Train Loss: 0.027270305184439275; Val Loss: 0.03443514979457109\n"
     ]
    },
    {
     "data": {
      "application/vnd.jupyter.widget-view+json": {
       "model_id": "848e0fa3fac146078b40f428a3c715a0",
       "version_major": 2,
       "version_minor": 0
      },
      "text/plain": [
       "VBox(children=(Label(value='0.001 MB of 0.001 MB uploaded\\r'), FloatProgress(value=1.0, max=1.0)))"
      ]
     },
     "metadata": {},
     "output_type": "display_data"
    },
    {
     "data": {
      "text/html": [
       "<style>\n",
       "    table.wandb td:nth-child(1) { padding: 0 10px; text-align: left ; width: auto;} td:nth-child(2) {text-align: left ; width: 100%}\n",
       "    .wandb-row { display: flex; flex-direction: row; flex-wrap: wrap; justify-content: flex-start; width: 100% }\n",
       "    .wandb-col { display: flex; flex-direction: column; flex-basis: 100%; flex: 1; padding: 10px; }\n",
       "    </style>\n",
       "<div class=\"wandb-row\"><div class=\"wandb-col\"><h3>Run history:</h3><br/><table class=\"wandb\"><tr><td>epoch</td><td>▁▁▁▁▂▂▂▂▃▃▃▃▃▃▃▃▄▄▄▄▅▅▅▅▆▆▆▆▆▆▆▆▇▇▇▇████</td></tr><tr><td>train_accuracy</td><td>▃▁▅▆▅▅▅▄▇▅▆▅▇▅▇▄▅▆▆▆▇▇▆▅▇▆█▇▇▅▇▇▆██▇▆█▇▅</td></tr><tr><td>train_loss</td><td>█▆▄▃▃▄▃▄▃▄▃▃▂▃▂▄▃▂▂▃▃▂▃▃▂▂▂▂▂▂▂▂▃▁▂▁▃▁▂▃</td></tr><tr><td>val_accuracy</td><td>▁▄▆▆▆▆▇▇▇▇▇▇▇▇▇▇██▇██████▇███████▇██████</td></tr><tr><td>validation_loss</td><td>█▄▃▂▂▂▂▂▂▂▂▂▂▁▁▂▁▁▁▁▁▁▁▁▁▁▁▁▁▁▁▁▁▁▁▁▁▁▁▁</td></tr></table><br/></div><div class=\"wandb-col\"><h3>Run summary:</h3><br/><table class=\"wandb\"><tr><td>epoch</td><td>10</td></tr><tr><td>train_accuracy</td><td>93.75</td></tr><tr><td>train_loss</td><td>0.02727</td></tr><tr><td>val_accuracy</td><td>87.9</td></tr><tr><td>validation_loss</td><td>0.03444</td></tr></table><br/></div></div>"
      ],
      "text/plain": [
       "<IPython.core.display.HTML object>"
      ]
     },
     "metadata": {},
     "output_type": "display_data"
    },
    {
     "data": {
      "text/html": [
       " View run <strong style=\"color:#cdcd00\">sweepy-sweep-89</strong> at: <a href='https://wandb.ai/sumanta_roy/CS6910_assignment_1/runs/1txjjf3x' target=\"_blank\">https://wandb.ai/sumanta_roy/CS6910_assignment_1/runs/1txjjf3x</a><br/>Synced 6 W&B file(s), 0 media file(s), 0 artifact file(s) and 0 other file(s)"
      ],
      "text/plain": [
       "<IPython.core.display.HTML object>"
      ]
     },
     "metadata": {},
     "output_type": "display_data"
    },
    {
     "data": {
      "text/html": [
       "Find logs at: <code>./wandb/run-20240317_105019-1txjjf3x/logs</code>"
      ],
      "text/plain": [
       "<IPython.core.display.HTML object>"
      ]
     },
     "metadata": {},
     "output_type": "display_data"
    },
    {
     "name": "stderr",
     "output_type": "stream",
     "text": [
      "\u001b[34m\u001b[1mwandb\u001b[0m: Agent Starting Run: vbg7pynf with config:\n",
      "\u001b[34m\u001b[1mwandb\u001b[0m: \tactivation: relu\n",
      "\u001b[34m\u001b[1mwandb\u001b[0m: \tbatch_size: 16\n",
      "\u001b[34m\u001b[1mwandb\u001b[0m: \tepochs: 5\n",
      "\u001b[34m\u001b[1mwandb\u001b[0m: \thidden_layers: 3\n",
      "\u001b[34m\u001b[1mwandb\u001b[0m: \thidden_size: 64\n",
      "\u001b[34m\u001b[1mwandb\u001b[0m: \tloss: cross_entropy\n",
      "\u001b[34m\u001b[1mwandb\u001b[0m: \tlr: 0.001\n",
      "\u001b[34m\u001b[1mwandb\u001b[0m: \toptimizer: nesterov\n",
      "\u001b[34m\u001b[1mwandb\u001b[0m: \tw_init: glorot\n",
      "\u001b[34m\u001b[1mwandb\u001b[0m: \tweight_decay: 0\n"
     ]
    },
    {
     "data": {
      "text/html": [
       "Tracking run with wandb version 0.16.4"
      ],
      "text/plain": [
       "<IPython.core.display.HTML object>"
      ]
     },
     "metadata": {},
     "output_type": "display_data"
    },
    {
     "data": {
      "text/html": [
       "Run data is saved locally in <code>/Users/sumanta/Desktop/Numpy project/cross_entropy_lesspasses/wandb/run-20240317_105056-vbg7pynf</code>"
      ],
      "text/plain": [
       "<IPython.core.display.HTML object>"
      ]
     },
     "metadata": {},
     "output_type": "display_data"
    },
    {
     "data": {
      "text/html": [
       "Syncing run <strong><a href='https://wandb.ai/sumanta_roy/CS6910_assignment_1/runs/vbg7pynf' target=\"_blank\">deep-sweep-90</a></strong> to <a href='https://wandb.ai/sumanta_roy/CS6910_assignment_1' target=\"_blank\">Weights & Biases</a> (<a href='https://wandb.me/run' target=\"_blank\">docs</a>)<br/>Sweep page: <a href='https://wandb.ai/sumanta_roy/CS6910_assignment_1/sweeps/mefq3vzl' target=\"_blank\">https://wandb.ai/sumanta_roy/CS6910_assignment_1/sweeps/mefq3vzl</a>"
      ],
      "text/plain": [
       "<IPython.core.display.HTML object>"
      ]
     },
     "metadata": {},
     "output_type": "display_data"
    },
    {
     "data": {
      "text/html": [
       " View project at <a href='https://wandb.ai/sumanta_roy/CS6910_assignment_1' target=\"_blank\">https://wandb.ai/sumanta_roy/CS6910_assignment_1</a>"
      ],
      "text/plain": [
       "<IPython.core.display.HTML object>"
      ]
     },
     "metadata": {},
     "output_type": "display_data"
    },
    {
     "data": {
      "text/html": [
       " View sweep at <a href='https://wandb.ai/sumanta_roy/CS6910_assignment_1/sweeps/mefq3vzl' target=\"_blank\">https://wandb.ai/sumanta_roy/CS6910_assignment_1/sweeps/mefq3vzl</a>"
      ],
      "text/plain": [
       "<IPython.core.display.HTML object>"
      ]
     },
     "metadata": {},
     "output_type": "display_data"
    },
    {
     "data": {
      "text/html": [
       " View run at <a href='https://wandb.ai/sumanta_roy/CS6910_assignment_1/runs/vbg7pynf' target=\"_blank\">https://wandb.ai/sumanta_roy/CS6910_assignment_1/runs/vbg7pynf</a>"
      ],
      "text/plain": [
       "<IPython.core.display.HTML object>"
      ]
     },
     "metadata": {},
     "output_type": "display_data"
    },
    {
     "name": "stdout",
     "output_type": "stream",
     "text": [
      "Epoch: 1/5; Train Loss: 0.012803276739298295; Val Loss: 0.044905205489958015\n",
      "Epoch: 2/5; Train Loss: 0.011800450984594538; Val Loss: 0.04054448444458539\n",
      "Epoch: 3/5; Train Loss: 0.010393150260677709; Val Loss: 0.038005064843601055\n",
      "Epoch: 4/5; Train Loss: 0.009038085869014053; Val Loss: 0.03651624350054553\n",
      "Epoch: 5/5; Train Loss: 0.007698149924242321; Val Loss: 0.035761518216182925\n"
     ]
    },
    {
     "data": {
      "application/vnd.jupyter.widget-view+json": {
       "model_id": "110af6489164441bbed98b4b2251df12",
       "version_major": 2,
       "version_minor": 0
      },
      "text/plain": [
       "VBox(children=(Label(value='0.001 MB of 0.027 MB uploaded\\r'), FloatProgress(value=0.02766514765510065, max=1.…"
      ]
     },
     "metadata": {},
     "output_type": "display_data"
    },
    {
     "data": {
      "text/html": [
       "<style>\n",
       "    table.wandb td:nth-child(1) { padding: 0 10px; text-align: left ; width: auto;} td:nth-child(2) {text-align: left ; width: 100%}\n",
       "    .wandb-row { display: flex; flex-direction: row; flex-wrap: wrap; justify-content: flex-start; width: 100% }\n",
       "    .wandb-col { display: flex; flex-direction: column; flex-basis: 100%; flex: 1; padding: 10px; }\n",
       "    </style>\n",
       "<div class=\"wandb-row\"><div class=\"wandb-col\"><h3>Run history:</h3><br/><table class=\"wandb\"><tr><td>epoch</td><td>▁▁▁▁▁▁▁▁▃▃▃▃▃▃▃▃▅▅▅▅▅▅▅▅▆▆▆▆▆▆▆▆████████</td></tr><tr><td>train_accuracy</td><td>▁▄▅▅▅▆▇▂▅▅▆▇▆▅▇▇▆▆▆▆▅▆█▅▆▅▆▆▄▆▆▇▅▇▆██▇▇▇</td></tr><tr><td>train_loss</td><td>█▅▃▃▄▃▂▄▃▃▂▂▂▃▁▂▃▂▂▃▃▃▁▃▃▃▃▂▃▂▂▂▃▃▃▁▁▂▁▂</td></tr><tr><td>val_accuracy</td><td>▁▅▆▆▇▇▇▇▇▇▇█▇█▇█████████████████████████</td></tr><tr><td>validation_loss</td><td>█▃▂▂▂▂▂▂▂▂▂▁▁▁▁▁▁▁▁▁▁▁▁▁▁▁▁▁▁▁▁▁▁▁▁▁▁▁▁▁</td></tr></table><br/></div><div class=\"wandb-col\"><h3>Run summary:</h3><br/><table class=\"wandb\"><tr><td>epoch</td><td>5</td></tr><tr><td>train_accuracy</td><td>100.0</td></tr><tr><td>train_loss</td><td>0.0077</td></tr><tr><td>val_accuracy</td><td>87.26667</td></tr><tr><td>validation_loss</td><td>0.03576</td></tr></table><br/></div></div>"
      ],
      "text/plain": [
       "<IPython.core.display.HTML object>"
      ]
     },
     "metadata": {},
     "output_type": "display_data"
    },
    {
     "data": {
      "text/html": [
       " View run <strong style=\"color:#cdcd00\">deep-sweep-90</strong> at: <a href='https://wandb.ai/sumanta_roy/CS6910_assignment_1/runs/vbg7pynf' target=\"_blank\">https://wandb.ai/sumanta_roy/CS6910_assignment_1/runs/vbg7pynf</a><br/>Synced 6 W&B file(s), 0 media file(s), 0 artifact file(s) and 0 other file(s)"
      ],
      "text/plain": [
       "<IPython.core.display.HTML object>"
      ]
     },
     "metadata": {},
     "output_type": "display_data"
    },
    {
     "data": {
      "text/html": [
       "Find logs at: <code>./wandb/run-20240317_105056-vbg7pynf/logs</code>"
      ],
      "text/plain": [
       "<IPython.core.display.HTML object>"
      ]
     },
     "metadata": {},
     "output_type": "display_data"
    },
    {
     "name": "stderr",
     "output_type": "stream",
     "text": [
      "\u001b[34m\u001b[1mwandb\u001b[0m: Agent Starting Run: 5rb8xkro with config:\n",
      "\u001b[34m\u001b[1mwandb\u001b[0m: \tactivation: relu\n",
      "\u001b[34m\u001b[1mwandb\u001b[0m: \tbatch_size: 16\n",
      "\u001b[34m\u001b[1mwandb\u001b[0m: \tepochs: 10\n",
      "\u001b[34m\u001b[1mwandb\u001b[0m: \thidden_layers: 3\n",
      "\u001b[34m\u001b[1mwandb\u001b[0m: \thidden_size: 128\n",
      "\u001b[34m\u001b[1mwandb\u001b[0m: \tloss: cross_entropy\n",
      "\u001b[34m\u001b[1mwandb\u001b[0m: \tlr: 0.001\n",
      "\u001b[34m\u001b[1mwandb\u001b[0m: \toptimizer: nadam\n",
      "\u001b[34m\u001b[1mwandb\u001b[0m: \tw_init: random\n",
      "\u001b[34m\u001b[1mwandb\u001b[0m: \tweight_decay: 0\n"
     ]
    },
    {
     "data": {
      "text/html": [
       "Tracking run with wandb version 0.16.4"
      ],
      "text/plain": [
       "<IPython.core.display.HTML object>"
      ]
     },
     "metadata": {},
     "output_type": "display_data"
    },
    {
     "data": {
      "text/html": [
       "Run data is saved locally in <code>/Users/sumanta/Desktop/Numpy project/cross_entropy_lesspasses/wandb/run-20240317_105144-5rb8xkro</code>"
      ],
      "text/plain": [
       "<IPython.core.display.HTML object>"
      ]
     },
     "metadata": {},
     "output_type": "display_data"
    },
    {
     "data": {
      "text/html": [
       "Syncing run <strong><a href='https://wandb.ai/sumanta_roy/CS6910_assignment_1/runs/5rb8xkro' target=\"_blank\">sparkling-sweep-91</a></strong> to <a href='https://wandb.ai/sumanta_roy/CS6910_assignment_1' target=\"_blank\">Weights & Biases</a> (<a href='https://wandb.me/run' target=\"_blank\">docs</a>)<br/>Sweep page: <a href='https://wandb.ai/sumanta_roy/CS6910_assignment_1/sweeps/mefq3vzl' target=\"_blank\">https://wandb.ai/sumanta_roy/CS6910_assignment_1/sweeps/mefq3vzl</a>"
      ],
      "text/plain": [
       "<IPython.core.display.HTML object>"
      ]
     },
     "metadata": {},
     "output_type": "display_data"
    },
    {
     "data": {
      "text/html": [
       " View project at <a href='https://wandb.ai/sumanta_roy/CS6910_assignment_1' target=\"_blank\">https://wandb.ai/sumanta_roy/CS6910_assignment_1</a>"
      ],
      "text/plain": [
       "<IPython.core.display.HTML object>"
      ]
     },
     "metadata": {},
     "output_type": "display_data"
    },
    {
     "data": {
      "text/html": [
       " View sweep at <a href='https://wandb.ai/sumanta_roy/CS6910_assignment_1/sweeps/mefq3vzl' target=\"_blank\">https://wandb.ai/sumanta_roy/CS6910_assignment_1/sweeps/mefq3vzl</a>"
      ],
      "text/plain": [
       "<IPython.core.display.HTML object>"
      ]
     },
     "metadata": {},
     "output_type": "display_data"
    },
    {
     "data": {
      "text/html": [
       " View run at <a href='https://wandb.ai/sumanta_roy/CS6910_assignment_1/runs/5rb8xkro' target=\"_blank\">https://wandb.ai/sumanta_roy/CS6910_assignment_1/runs/5rb8xkro</a>"
      ],
      "text/plain": [
       "<IPython.core.display.HTML object>"
      ]
     },
     "metadata": {},
     "output_type": "display_data"
    },
    {
     "name": "stdout",
     "output_type": "stream",
     "text": [
      "Epoch: 1/10; Train Loss: 0.05016443282283889; Val Loss: 0.18432817720141229\n",
      "Epoch: 2/10; Train Loss: 0.01631081042530018; Val Loss: 0.13090239518406238\n",
      "Epoch: 3/10; Train Loss: 0.009707736073597099; Val Loss: 0.10587867187936623\n",
      "Epoch: 4/10; Train Loss: 0.015655702615596477; Val Loss: 0.091106037670659\n",
      "Epoch: 5/10; Train Loss: 0.017865335881945645; Val Loss: 0.08162937016039176\n",
      "Epoch: 6/10; Train Loss: 0.017084464170802983; Val Loss: 0.07566515519138672\n",
      "Epoch: 7/10; Train Loss: 0.015605059128110641; Val Loss: 0.07106931405747102\n",
      "Epoch: 8/10; Train Loss: 0.01620670569194172; Val Loss: 0.06761072377951483\n",
      "Epoch: 9/10; Train Loss: 0.01803014761255964; Val Loss: 0.0646880497982841\n",
      "Epoch: 10/10; Train Loss: 0.017592983988720074; Val Loss: 0.06254742374534242\n"
     ]
    },
    {
     "data": {
      "application/vnd.jupyter.widget-view+json": {
       "model_id": "0aa161120ef842918f6c2dc2e962cfd9",
       "version_major": 2,
       "version_minor": 0
      },
      "text/plain": [
       "VBox(children=(Label(value='0.001 MB of 0.001 MB uploaded\\r'), FloatProgress(value=1.0, max=1.0)))"
      ]
     },
     "metadata": {},
     "output_type": "display_data"
    },
    {
     "data": {
      "text/html": [
       "<style>\n",
       "    table.wandb td:nth-child(1) { padding: 0 10px; text-align: left ; width: auto;} td:nth-child(2) {text-align: left ; width: 100%}\n",
       "    .wandb-row { display: flex; flex-direction: row; flex-wrap: wrap; justify-content: flex-start; width: 100% }\n",
       "    .wandb-col { display: flex; flex-direction: column; flex-basis: 100%; flex: 1; padding: 10px; }\n",
       "    </style>\n",
       "<div class=\"wandb-row\"><div class=\"wandb-col\"><h3>Run history:</h3><br/><table class=\"wandb\"><tr><td>epoch</td><td>▁▁▁▁▂▂▂▂▃▃▃▃▃▃▃▃▄▄▄▄▅▅▅▅▆▆▆▆▆▆▆▆▇▇▇▇████</td></tr><tr><td>train_accuracy</td><td>▃▃▆▆▅▇▅▇▇▅▅██▁▅▆▅▇█▆▆▇▅▆▅▆▆▅▆▅▇▅▅▆█▅▆▆▇▆</td></tr><tr><td>train_loss</td><td>█▇▄▃▅▂▄▂▂▄▂▁▁▄▂▂▃▂▁▂▂▁▃▁▂▂▂▂▃▂▂▂▃▁▂▂▂▁▃▁</td></tr><tr><td>val_accuracy</td><td>▁▃▄▅▅▅▅▅▆▆▆▆▆▆▆▆▇▇▇▇▇▇▇▇▇▇█▇█▇████▇█████</td></tr><tr><td>validation_loss</td><td>█▅▄▄▃▃▃▂▂▂▂▂▂▂▂▂▂▁▁▁▁▁▁▁▁▁▁▁▁▁▁▁▁▁▁▁▁▁▁▁</td></tr></table><br/></div><div class=\"wandb-col\"><h3>Run summary:</h3><br/><table class=\"wandb\"><tr><td>epoch</td><td>10</td></tr><tr><td>train_accuracy</td><td>87.5</td></tr><tr><td>train_loss</td><td>0.01759</td></tr><tr><td>val_accuracy</td><td>82.4</td></tr><tr><td>validation_loss</td><td>0.06255</td></tr></table><br/></div></div>"
      ],
      "text/plain": [
       "<IPython.core.display.HTML object>"
      ]
     },
     "metadata": {},
     "output_type": "display_data"
    },
    {
     "data": {
      "text/html": [
       " View run <strong style=\"color:#cdcd00\">sparkling-sweep-91</strong> at: <a href='https://wandb.ai/sumanta_roy/CS6910_assignment_1/runs/5rb8xkro' target=\"_blank\">https://wandb.ai/sumanta_roy/CS6910_assignment_1/runs/5rb8xkro</a><br/>Synced 6 W&B file(s), 0 media file(s), 0 artifact file(s) and 0 other file(s)"
      ],
      "text/plain": [
       "<IPython.core.display.HTML object>"
      ]
     },
     "metadata": {},
     "output_type": "display_data"
    },
    {
     "data": {
      "text/html": [
       "Find logs at: <code>./wandb/run-20240317_105144-5rb8xkro/logs</code>"
      ],
      "text/plain": [
       "<IPython.core.display.HTML object>"
      ]
     },
     "metadata": {},
     "output_type": "display_data"
    },
    {
     "name": "stderr",
     "output_type": "stream",
     "text": [
      "\u001b[34m\u001b[1mwandb\u001b[0m: Agent Starting Run: uh2ku2er with config:\n",
      "\u001b[34m\u001b[1mwandb\u001b[0m: \tactivation: tanh\n",
      "\u001b[34m\u001b[1mwandb\u001b[0m: \tbatch_size: 16\n",
      "\u001b[34m\u001b[1mwandb\u001b[0m: \tepochs: 5\n",
      "\u001b[34m\u001b[1mwandb\u001b[0m: \thidden_layers: 3\n",
      "\u001b[34m\u001b[1mwandb\u001b[0m: \thidden_size: 64\n",
      "\u001b[34m\u001b[1mwandb\u001b[0m: \tloss: cross_entropy\n",
      "\u001b[34m\u001b[1mwandb\u001b[0m: \tlr: 0.001\n",
      "\u001b[34m\u001b[1mwandb\u001b[0m: \toptimizer: rmsprop\n",
      "\u001b[34m\u001b[1mwandb\u001b[0m: \tw_init: glorot\n",
      "\u001b[34m\u001b[1mwandb\u001b[0m: \tweight_decay: 0\n"
     ]
    },
    {
     "data": {
      "text/html": [
       "Tracking run with wandb version 0.16.4"
      ],
      "text/plain": [
       "<IPython.core.display.HTML object>"
      ]
     },
     "metadata": {},
     "output_type": "display_data"
    },
    {
     "data": {
      "text/html": [
       "Run data is saved locally in <code>/Users/sumanta/Desktop/Numpy project/cross_entropy_lesspasses/wandb/run-20240317_105427-uh2ku2er</code>"
      ],
      "text/plain": [
       "<IPython.core.display.HTML object>"
      ]
     },
     "metadata": {},
     "output_type": "display_data"
    },
    {
     "data": {
      "text/html": [
       "Syncing run <strong><a href='https://wandb.ai/sumanta_roy/CS6910_assignment_1/runs/uh2ku2er' target=\"_blank\">sandy-sweep-92</a></strong> to <a href='https://wandb.ai/sumanta_roy/CS6910_assignment_1' target=\"_blank\">Weights & Biases</a> (<a href='https://wandb.me/run' target=\"_blank\">docs</a>)<br/>Sweep page: <a href='https://wandb.ai/sumanta_roy/CS6910_assignment_1/sweeps/mefq3vzl' target=\"_blank\">https://wandb.ai/sumanta_roy/CS6910_assignment_1/sweeps/mefq3vzl</a>"
      ],
      "text/plain": [
       "<IPython.core.display.HTML object>"
      ]
     },
     "metadata": {},
     "output_type": "display_data"
    },
    {
     "data": {
      "text/html": [
       " View project at <a href='https://wandb.ai/sumanta_roy/CS6910_assignment_1' target=\"_blank\">https://wandb.ai/sumanta_roy/CS6910_assignment_1</a>"
      ],
      "text/plain": [
       "<IPython.core.display.HTML object>"
      ]
     },
     "metadata": {},
     "output_type": "display_data"
    },
    {
     "data": {
      "text/html": [
       " View sweep at <a href='https://wandb.ai/sumanta_roy/CS6910_assignment_1/sweeps/mefq3vzl' target=\"_blank\">https://wandb.ai/sumanta_roy/CS6910_assignment_1/sweeps/mefq3vzl</a>"
      ],
      "text/plain": [
       "<IPython.core.display.HTML object>"
      ]
     },
     "metadata": {},
     "output_type": "display_data"
    },
    {
     "data": {
      "text/html": [
       " View run at <a href='https://wandb.ai/sumanta_roy/CS6910_assignment_1/runs/uh2ku2er' target=\"_blank\">https://wandb.ai/sumanta_roy/CS6910_assignment_1/runs/uh2ku2er</a>"
      ],
      "text/plain": [
       "<IPython.core.display.HTML object>"
      ]
     },
     "metadata": {},
     "output_type": "display_data"
    },
    {
     "name": "stdout",
     "output_type": "stream",
     "text": [
      "Epoch: 1/5; Train Loss: 0.011296449283462486; Val Loss: 0.040545051302536855\n",
      "Epoch: 2/5; Train Loss: 0.010325252346993951; Val Loss: 0.037543491287853274\n",
      "Epoch: 3/5; Train Loss: 0.006180802553844224; Val Loss: 0.03603975405468066\n",
      "Epoch: 4/5; Train Loss: 0.004784972530313224; Val Loss: 0.03514067832479905\n",
      "Epoch: 5/5; Train Loss: 0.004051206850847403; Val Loss: 0.03480333018353649\n"
     ]
    },
    {
     "data": {
      "application/vnd.jupyter.widget-view+json": {
       "model_id": "ab865c8089554901bdfaba497ab40c3e",
       "version_major": 2,
       "version_minor": 0
      },
      "text/plain": [
       "VBox(children=(Label(value='0.001 MB of 0.001 MB uploaded\\r'), FloatProgress(value=1.0, max=1.0)))"
      ]
     },
     "metadata": {},
     "output_type": "display_data"
    },
    {
     "data": {
      "text/html": [
       "<style>\n",
       "    table.wandb td:nth-child(1) { padding: 0 10px; text-align: left ; width: auto;} td:nth-child(2) {text-align: left ; width: 100%}\n",
       "    .wandb-row { display: flex; flex-direction: row; flex-wrap: wrap; justify-content: flex-start; width: 100% }\n",
       "    .wandb-col { display: flex; flex-direction: column; flex-basis: 100%; flex: 1; padding: 10px; }\n",
       "    </style>\n",
       "<div class=\"wandb-row\"><div class=\"wandb-col\"><h3>Run history:</h3><br/><table class=\"wandb\"><tr><td>epoch</td><td>▁▁▁▁▁▁▁▁▃▃▃▃▃▃▃▃▅▅▅▅▅▅▅▅▆▆▆▆▆▆▆▆████████</td></tr><tr><td>train_accuracy</td><td>▁▁▅▇▂▂▇▁▅▄▅▇▅▄█▇▇▅▄▄▄▄█▄▅▅▅▇▅███▂▄▄█▇▇▇▅</td></tr><tr><td>train_loss</td><td>█▆▂▃▆▄▂▆▃▅▃▂▂▄▁▂▃▂▃▅▄▅▁▃▃▅▃▃▃▁▁▂▄▂▃▁▁▂▂▃</td></tr><tr><td>val_accuracy</td><td>▁▅▆▆▇▇▇▇▇▇▆▇▇▇▇██▇▇█▇▇████████████▇██▇██</td></tr><tr><td>validation_loss</td><td>█▄▃▃▂▂▂▂▂▂▂▂▂▂▂▁▁▂▂▁▂▁▁▁▁▁▁▁▁▁▁▁▁▁▂▁▁▁▁▁</td></tr></table><br/></div><div class=\"wandb-col\"><h3>Run summary:</h3><br/><table class=\"wandb\"><tr><td>epoch</td><td>5</td></tr><tr><td>train_accuracy</td><td>100.0</td></tr><tr><td>train_loss</td><td>0.00405</td></tr><tr><td>val_accuracy</td><td>87.96667</td></tr><tr><td>validation_loss</td><td>0.0348</td></tr></table><br/></div></div>"
      ],
      "text/plain": [
       "<IPython.core.display.HTML object>"
      ]
     },
     "metadata": {},
     "output_type": "display_data"
    },
    {
     "data": {
      "text/html": [
       " View run <strong style=\"color:#cdcd00\">sandy-sweep-92</strong> at: <a href='https://wandb.ai/sumanta_roy/CS6910_assignment_1/runs/uh2ku2er' target=\"_blank\">https://wandb.ai/sumanta_roy/CS6910_assignment_1/runs/uh2ku2er</a><br/>Synced 6 W&B file(s), 0 media file(s), 0 artifact file(s) and 0 other file(s)"
      ],
      "text/plain": [
       "<IPython.core.display.HTML object>"
      ]
     },
     "metadata": {},
     "output_type": "display_data"
    },
    {
     "data": {
      "text/html": [
       "Find logs at: <code>./wandb/run-20240317_105427-uh2ku2er/logs</code>"
      ],
      "text/plain": [
       "<IPython.core.display.HTML object>"
      ]
     },
     "metadata": {},
     "output_type": "display_data"
    },
    {
     "name": "stderr",
     "output_type": "stream",
     "text": [
      "\u001b[34m\u001b[1mwandb\u001b[0m: Agent Starting Run: 7q9i419v with config:\n",
      "\u001b[34m\u001b[1mwandb\u001b[0m: \tactivation: relu\n",
      "\u001b[34m\u001b[1mwandb\u001b[0m: \tbatch_size: 16\n",
      "\u001b[34m\u001b[1mwandb\u001b[0m: \tepochs: 5\n",
      "\u001b[34m\u001b[1mwandb\u001b[0m: \thidden_layers: 3\n",
      "\u001b[34m\u001b[1mwandb\u001b[0m: \thidden_size: 64\n",
      "\u001b[34m\u001b[1mwandb\u001b[0m: \tloss: cross_entropy\n",
      "\u001b[34m\u001b[1mwandb\u001b[0m: \tlr: 0.001\n",
      "\u001b[34m\u001b[1mwandb\u001b[0m: \toptimizer: nadam\n",
      "\u001b[34m\u001b[1mwandb\u001b[0m: \tw_init: glorot\n",
      "\u001b[34m\u001b[1mwandb\u001b[0m: \tweight_decay: 0.0005\n"
     ]
    },
    {
     "data": {
      "text/html": [
       "Tracking run with wandb version 0.16.4"
      ],
      "text/plain": [
       "<IPython.core.display.HTML object>"
      ]
     },
     "metadata": {},
     "output_type": "display_data"
    },
    {
     "data": {
      "text/html": [
       "Run data is saved locally in <code>/Users/sumanta/Desktop/Numpy project/cross_entropy_lesspasses/wandb/run-20240317_105510-7q9i419v</code>"
      ],
      "text/plain": [
       "<IPython.core.display.HTML object>"
      ]
     },
     "metadata": {},
     "output_type": "display_data"
    },
    {
     "data": {
      "text/html": [
       "Syncing run <strong><a href='https://wandb.ai/sumanta_roy/CS6910_assignment_1/runs/7q9i419v' target=\"_blank\">vital-sweep-93</a></strong> to <a href='https://wandb.ai/sumanta_roy/CS6910_assignment_1' target=\"_blank\">Weights & Biases</a> (<a href='https://wandb.me/run' target=\"_blank\">docs</a>)<br/>Sweep page: <a href='https://wandb.ai/sumanta_roy/CS6910_assignment_1/sweeps/mefq3vzl' target=\"_blank\">https://wandb.ai/sumanta_roy/CS6910_assignment_1/sweeps/mefq3vzl</a>"
      ],
      "text/plain": [
       "<IPython.core.display.HTML object>"
      ]
     },
     "metadata": {},
     "output_type": "display_data"
    },
    {
     "data": {
      "text/html": [
       " View project at <a href='https://wandb.ai/sumanta_roy/CS6910_assignment_1' target=\"_blank\">https://wandb.ai/sumanta_roy/CS6910_assignment_1</a>"
      ],
      "text/plain": [
       "<IPython.core.display.HTML object>"
      ]
     },
     "metadata": {},
     "output_type": "display_data"
    },
    {
     "data": {
      "text/html": [
       " View sweep at <a href='https://wandb.ai/sumanta_roy/CS6910_assignment_1/sweeps/mefq3vzl' target=\"_blank\">https://wandb.ai/sumanta_roy/CS6910_assignment_1/sweeps/mefq3vzl</a>"
      ],
      "text/plain": [
       "<IPython.core.display.HTML object>"
      ]
     },
     "metadata": {},
     "output_type": "display_data"
    },
    {
     "data": {
      "text/html": [
       " View run at <a href='https://wandb.ai/sumanta_roy/CS6910_assignment_1/runs/7q9i419v' target=\"_blank\">https://wandb.ai/sumanta_roy/CS6910_assignment_1/runs/7q9i419v</a>"
      ],
      "text/plain": [
       "<IPython.core.display.HTML object>"
      ]
     },
     "metadata": {},
     "output_type": "display_data"
    },
    {
     "name": "stdout",
     "output_type": "stream",
     "text": [
      "Epoch: 1/5; Train Loss: 0.014944142274270758; Val Loss: 0.048180541263073536\n",
      "Epoch: 2/5; Train Loss: 0.014367337424983397; Val Loss: 0.04308318270978298\n",
      "Epoch: 3/5; Train Loss: 0.014011635316268992; Val Loss: 0.040479410990693396\n",
      "Epoch: 4/5; Train Loss: 0.014320833883653461; Val Loss: 0.03880199905747012\n",
      "Epoch: 5/5; Train Loss: 0.01477648876064487; Val Loss: 0.03766989916789041\n"
     ]
    },
    {
     "data": {
      "application/vnd.jupyter.widget-view+json": {
       "model_id": "43432e8b98db46398073718d3736dde1",
       "version_major": 2,
       "version_minor": 0
      },
      "text/plain": [
       "VBox(children=(Label(value='0.001 MB of 0.001 MB uploaded\\r'), FloatProgress(value=1.0, max=1.0)))"
      ]
     },
     "metadata": {},
     "output_type": "display_data"
    },
    {
     "data": {
      "text/html": [
       "<style>\n",
       "    table.wandb td:nth-child(1) { padding: 0 10px; text-align: left ; width: auto;} td:nth-child(2) {text-align: left ; width: 100%}\n",
       "    .wandb-row { display: flex; flex-direction: row; flex-wrap: wrap; justify-content: flex-start; width: 100% }\n",
       "    .wandb-col { display: flex; flex-direction: column; flex-basis: 100%; flex: 1; padding: 10px; }\n",
       "    </style>\n",
       "<div class=\"wandb-row\"><div class=\"wandb-col\"><h3>Run history:</h3><br/><table class=\"wandb\"><tr><td>epoch</td><td>▁▁▁▁▁▁▁▁▃▃▃▃▃▃▃▃▅▅▅▅▅▅▅▅▆▆▆▆▆▆▆▆████████</td></tr><tr><td>train_accuracy</td><td>▁▄▆▅▄▄▅▂▃▄▇▆▇▄█▆▆▆▆▅▅▆█▄▆▅▇▇▃██▇▄▄▆█▇▇▇▇</td></tr><tr><td>train_loss</td><td>█▅▃▃▆▄▃▅▅▄▂▃▂▄▁▂▃▂▂▄▄▃▁▃▃▃▃▂▄▂▁▂▄▄▂▁▁▁▁▃</td></tr><tr><td>val_accuracy</td><td>▁▄▅▆▆▇▇▇▇▇▇▇▇▇▇█▇▇███▇██████████████████</td></tr><tr><td>validation_loss</td><td>█▄▃▃▃▂▂▂▂▂▂▂▂▂▂▂▂▂▂▁▁▁▁▁▁▁▁▁▁▁▁▁▁▁▁▁▁▁▁▁</td></tr></table><br/></div><div class=\"wandb-col\"><h3>Run summary:</h3><br/><table class=\"wandb\"><tr><td>epoch</td><td>5</td></tr><tr><td>train_accuracy</td><td>93.75</td></tr><tr><td>train_loss</td><td>0.01478</td></tr><tr><td>val_accuracy</td><td>87.05</td></tr><tr><td>validation_loss</td><td>0.03767</td></tr></table><br/></div></div>"
      ],
      "text/plain": [
       "<IPython.core.display.HTML object>"
      ]
     },
     "metadata": {},
     "output_type": "display_data"
    },
    {
     "data": {
      "text/html": [
       " View run <strong style=\"color:#cdcd00\">vital-sweep-93</strong> at: <a href='https://wandb.ai/sumanta_roy/CS6910_assignment_1/runs/7q9i419v' target=\"_blank\">https://wandb.ai/sumanta_roy/CS6910_assignment_1/runs/7q9i419v</a><br/>Synced 6 W&B file(s), 0 media file(s), 0 artifact file(s) and 0 other file(s)"
      ],
      "text/plain": [
       "<IPython.core.display.HTML object>"
      ]
     },
     "metadata": {},
     "output_type": "display_data"
    },
    {
     "data": {
      "text/html": [
       "Find logs at: <code>./wandb/run-20240317_105510-7q9i419v/logs</code>"
      ],
      "text/plain": [
       "<IPython.core.display.HTML object>"
      ]
     },
     "metadata": {},
     "output_type": "display_data"
    },
    {
     "name": "stderr",
     "output_type": "stream",
     "text": [
      "\u001b[34m\u001b[1mwandb\u001b[0m: Agent Starting Run: f66qru78 with config:\n",
      "\u001b[34m\u001b[1mwandb\u001b[0m: \tactivation: relu\n",
      "\u001b[34m\u001b[1mwandb\u001b[0m: \tbatch_size: 32\n",
      "\u001b[34m\u001b[1mwandb\u001b[0m: \tepochs: 10\n",
      "\u001b[34m\u001b[1mwandb\u001b[0m: \thidden_layers: 3\n",
      "\u001b[34m\u001b[1mwandb\u001b[0m: \thidden_size: 128\n",
      "\u001b[34m\u001b[1mwandb\u001b[0m: \tloss: cross_entropy\n",
      "\u001b[34m\u001b[1mwandb\u001b[0m: \tlr: 0.001\n",
      "\u001b[34m\u001b[1mwandb\u001b[0m: \toptimizer: nadam\n",
      "\u001b[34m\u001b[1mwandb\u001b[0m: \tw_init: glorot\n",
      "\u001b[34m\u001b[1mwandb\u001b[0m: \tweight_decay: 0\n"
     ]
    },
    {
     "data": {
      "text/html": [
       "Tracking run with wandb version 0.16.4"
      ],
      "text/plain": [
       "<IPython.core.display.HTML object>"
      ]
     },
     "metadata": {},
     "output_type": "display_data"
    },
    {
     "data": {
      "text/html": [
       "Run data is saved locally in <code>/Users/sumanta/Desktop/Numpy project/cross_entropy_lesspasses/wandb/run-20240317_105558-f66qru78</code>"
      ],
      "text/plain": [
       "<IPython.core.display.HTML object>"
      ]
     },
     "metadata": {},
     "output_type": "display_data"
    },
    {
     "data": {
      "text/html": [
       "Syncing run <strong><a href='https://wandb.ai/sumanta_roy/CS6910_assignment_1/runs/f66qru78' target=\"_blank\">stellar-sweep-94</a></strong> to <a href='https://wandb.ai/sumanta_roy/CS6910_assignment_1' target=\"_blank\">Weights & Biases</a> (<a href='https://wandb.me/run' target=\"_blank\">docs</a>)<br/>Sweep page: <a href='https://wandb.ai/sumanta_roy/CS6910_assignment_1/sweeps/mefq3vzl' target=\"_blank\">https://wandb.ai/sumanta_roy/CS6910_assignment_1/sweeps/mefq3vzl</a>"
      ],
      "text/plain": [
       "<IPython.core.display.HTML object>"
      ]
     },
     "metadata": {},
     "output_type": "display_data"
    },
    {
     "data": {
      "text/html": [
       " View project at <a href='https://wandb.ai/sumanta_roy/CS6910_assignment_1' target=\"_blank\">https://wandb.ai/sumanta_roy/CS6910_assignment_1</a>"
      ],
      "text/plain": [
       "<IPython.core.display.HTML object>"
      ]
     },
     "metadata": {},
     "output_type": "display_data"
    },
    {
     "data": {
      "text/html": [
       " View sweep at <a href='https://wandb.ai/sumanta_roy/CS6910_assignment_1/sweeps/mefq3vzl' target=\"_blank\">https://wandb.ai/sumanta_roy/CS6910_assignment_1/sweeps/mefq3vzl</a>"
      ],
      "text/plain": [
       "<IPython.core.display.HTML object>"
      ]
     },
     "metadata": {},
     "output_type": "display_data"
    },
    {
     "data": {
      "text/html": [
       " View run at <a href='https://wandb.ai/sumanta_roy/CS6910_assignment_1/runs/f66qru78' target=\"_blank\">https://wandb.ai/sumanta_roy/CS6910_assignment_1/runs/f66qru78</a>"
      ],
      "text/plain": [
       "<IPython.core.display.HTML object>"
      ]
     },
     "metadata": {},
     "output_type": "display_data"
    },
    {
     "name": "stdout",
     "output_type": "stream",
     "text": [
      "Epoch: 1/10; Train Loss: 0.018117298781393697; Val Loss: 0.04359423513382495\n",
      "Epoch: 2/10; Train Loss: 0.015367893882443334; Val Loss: 0.0400964985557623\n",
      "Epoch: 3/10; Train Loss: 0.01389803679281812; Val Loss: 0.03826486913996402\n",
      "Epoch: 4/10; Train Loss: 0.013201837176820382; Val Loss: 0.03702719464098213\n",
      "Epoch: 5/10; Train Loss: 0.011891821238699519; Val Loss: 0.03609735210510442\n",
      "Epoch: 6/10; Train Loss: 0.010975877459286599; Val Loss: 0.03530652422788767\n",
      "Epoch: 7/10; Train Loss: 0.010520403092122143; Val Loss: 0.03460638958532354\n",
      "Epoch: 8/10; Train Loss: 0.009788786992177858; Val Loss: 0.03404131621756282\n",
      "Epoch: 9/10; Train Loss: 0.00925031901713341; Val Loss: 0.033533086966947456\n",
      "Epoch: 10/10; Train Loss: 0.008866322068682871; Val Loss: 0.03307643465635604\n"
     ]
    },
    {
     "data": {
      "application/vnd.jupyter.widget-view+json": {
       "model_id": "9d7385084af04ca7bfc941dbeeea3766",
       "version_major": 2,
       "version_minor": 0
      },
      "text/plain": [
       "VBox(children=(Label(value='0.001 MB of 0.001 MB uploaded\\r'), FloatProgress(value=1.0, max=1.0)))"
      ]
     },
     "metadata": {},
     "output_type": "display_data"
    },
    {
     "data": {
      "text/html": [
       "<style>\n",
       "    table.wandb td:nth-child(1) { padding: 0 10px; text-align: left ; width: auto;} td:nth-child(2) {text-align: left ; width: 100%}\n",
       "    .wandb-row { display: flex; flex-direction: row; flex-wrap: wrap; justify-content: flex-start; width: 100% }\n",
       "    .wandb-col { display: flex; flex-direction: column; flex-basis: 100%; flex: 1; padding: 10px; }\n",
       "    </style>\n",
       "<div class=\"wandb-row\"><div class=\"wandb-col\"><h3>Run history:</h3><br/><table class=\"wandb\"><tr><td>epoch</td><td>▁▁▁▁▂▂▂▂▃▃▃▃▃▃▃▃▄▄▄▄▅▅▅▅▆▆▆▆▆▆▆▆▇▇▇▇████</td></tr><tr><td>train_accuracy</td><td>▁▅▆▆▇▄█▇▆▆▃▆▄▅▆▆▆█▆▆▃▃▅▅▅▆▄▃▆▅█▆▆▇▇▇▃▅▅▆</td></tr><tr><td>train_loss</td><td>█▄▃▅▂▄▂▂▃▅▅▂▄▃▄▂▃▂▂▂▄▄▅▅▃▄▅▄▃▃▁▂▂▁▁▂▄▄▃▂</td></tr><tr><td>val_accuracy</td><td>▁▄▅▆▆▆▆▆▆▇▆▇▇▇▇▇▇▇▇▇▇▇▇▇▇▇███▇████▇██▇██</td></tr><tr><td>validation_loss</td><td>█▅▄▃▃▃▃▂▃▂▂▂▂▂▂▂▂▂▂▂▂▂▂▂▁▂▁▁▁▁▁▁▁▁▁▁▁▁▁▁</td></tr></table><br/></div><div class=\"wandb-col\"><h3>Run summary:</h3><br/><table class=\"wandb\"><tr><td>epoch</td><td>10</td></tr><tr><td>train_accuracy</td><td>100.0</td></tr><tr><td>train_loss</td><td>0.00887</td></tr><tr><td>val_accuracy</td><td>88.85</td></tr><tr><td>validation_loss</td><td>0.03308</td></tr></table><br/></div></div>"
      ],
      "text/plain": [
       "<IPython.core.display.HTML object>"
      ]
     },
     "metadata": {},
     "output_type": "display_data"
    },
    {
     "data": {
      "text/html": [
       " View run <strong style=\"color:#cdcd00\">stellar-sweep-94</strong> at: <a href='https://wandb.ai/sumanta_roy/CS6910_assignment_1/runs/f66qru78' target=\"_blank\">https://wandb.ai/sumanta_roy/CS6910_assignment_1/runs/f66qru78</a><br/>Synced 6 W&B file(s), 0 media file(s), 0 artifact file(s) and 0 other file(s)"
      ],
      "text/plain": [
       "<IPython.core.display.HTML object>"
      ]
     },
     "metadata": {},
     "output_type": "display_data"
    },
    {
     "data": {
      "text/html": [
       "Find logs at: <code>./wandb/run-20240317_105558-f66qru78/logs</code>"
      ],
      "text/plain": [
       "<IPython.core.display.HTML object>"
      ]
     },
     "metadata": {},
     "output_type": "display_data"
    },
    {
     "name": "stderr",
     "output_type": "stream",
     "text": [
      "\u001b[34m\u001b[1mwandb\u001b[0m: Agent Starting Run: btkffln9 with config:\n",
      "\u001b[34m\u001b[1mwandb\u001b[0m: \tactivation: tanh\n",
      "\u001b[34m\u001b[1mwandb\u001b[0m: \tbatch_size: 64\n",
      "\u001b[34m\u001b[1mwandb\u001b[0m: \tepochs: 10\n",
      "\u001b[34m\u001b[1mwandb\u001b[0m: \thidden_layers: 3\n",
      "\u001b[34m\u001b[1mwandb\u001b[0m: \thidden_size: 32\n",
      "\u001b[34m\u001b[1mwandb\u001b[0m: \tloss: cross_entropy\n",
      "\u001b[34m\u001b[1mwandb\u001b[0m: \tlr: 0.0001\n",
      "\u001b[34m\u001b[1mwandb\u001b[0m: \toptimizer: rmsprop\n",
      "\u001b[34m\u001b[1mwandb\u001b[0m: \tw_init: glorot\n",
      "\u001b[34m\u001b[1mwandb\u001b[0m: \tweight_decay: 0\n"
     ]
    },
    {
     "data": {
      "text/html": [
       "Tracking run with wandb version 0.16.4"
      ],
      "text/plain": [
       "<IPython.core.display.HTML object>"
      ]
     },
     "metadata": {},
     "output_type": "display_data"
    },
    {
     "data": {
      "text/html": [
       "Run data is saved locally in <code>/Users/sumanta/Desktop/Numpy project/cross_entropy_lesspasses/wandb/run-20240317_105750-btkffln9</code>"
      ],
      "text/plain": [
       "<IPython.core.display.HTML object>"
      ]
     },
     "metadata": {},
     "output_type": "display_data"
    },
    {
     "data": {
      "text/html": [
       "Syncing run <strong><a href='https://wandb.ai/sumanta_roy/CS6910_assignment_1/runs/btkffln9' target=\"_blank\">treasured-sweep-95</a></strong> to <a href='https://wandb.ai/sumanta_roy/CS6910_assignment_1' target=\"_blank\">Weights & Biases</a> (<a href='https://wandb.me/run' target=\"_blank\">docs</a>)<br/>Sweep page: <a href='https://wandb.ai/sumanta_roy/CS6910_assignment_1/sweeps/mefq3vzl' target=\"_blank\">https://wandb.ai/sumanta_roy/CS6910_assignment_1/sweeps/mefq3vzl</a>"
      ],
      "text/plain": [
       "<IPython.core.display.HTML object>"
      ]
     },
     "metadata": {},
     "output_type": "display_data"
    },
    {
     "data": {
      "text/html": [
       " View project at <a href='https://wandb.ai/sumanta_roy/CS6910_assignment_1' target=\"_blank\">https://wandb.ai/sumanta_roy/CS6910_assignment_1</a>"
      ],
      "text/plain": [
       "<IPython.core.display.HTML object>"
      ]
     },
     "metadata": {},
     "output_type": "display_data"
    },
    {
     "data": {
      "text/html": [
       " View sweep at <a href='https://wandb.ai/sumanta_roy/CS6910_assignment_1/sweeps/mefq3vzl' target=\"_blank\">https://wandb.ai/sumanta_roy/CS6910_assignment_1/sweeps/mefq3vzl</a>"
      ],
      "text/plain": [
       "<IPython.core.display.HTML object>"
      ]
     },
     "metadata": {},
     "output_type": "display_data"
    },
    {
     "data": {
      "text/html": [
       " View run at <a href='https://wandb.ai/sumanta_roy/CS6910_assignment_1/runs/btkffln9' target=\"_blank\">https://wandb.ai/sumanta_roy/CS6910_assignment_1/runs/btkffln9</a>"
      ],
      "text/plain": [
       "<IPython.core.display.HTML object>"
      ]
     },
     "metadata": {},
     "output_type": "display_data"
    },
    {
     "name": "stdout",
     "output_type": "stream",
     "text": [
      "Epoch: 1/10; Train Loss: 0.08140303315517823; Val Loss: 0.08866758313238103\n",
      "Epoch: 2/10; Train Loss: 0.0591754812697519; Val Loss: 0.06492076292767258\n",
      "Epoch: 3/10; Train Loss: 0.051142153283959026; Val Loss: 0.055542510848558165\n",
      "Epoch: 4/10; Train Loss: 0.0470881683045789; Val Loss: 0.05066401747927855\n",
      "Epoch: 5/10; Train Loss: 0.04457909230247661; Val Loss: 0.04770927437217518\n",
      "Epoch: 6/10; Train Loss: 0.042742790000364905; Val Loss: 0.04570310258774604\n",
      "Epoch: 7/10; Train Loss: 0.041251455182257535; Val Loss: 0.044227107862059564\n",
      "Epoch: 8/10; Train Loss: 0.039968422410849545; Val Loss: 0.04307875340195522\n",
      "Epoch: 9/10; Train Loss: 0.03882061753206935; Val Loss: 0.042147515991504195\n",
      "Epoch: 10/10; Train Loss: 0.037764427301986404; Val Loss: 0.04136778614588973\n"
     ]
    },
    {
     "data": {
      "application/vnd.jupyter.widget-view+json": {
       "model_id": "caaae257c9e449ee91c1fd7abd959e87",
       "version_major": 2,
       "version_minor": 0
      },
      "text/plain": [
       "VBox(children=(Label(value='0.001 MB of 0.027 MB uploaded\\r'), FloatProgress(value=0.027323564804983366, max=1…"
      ]
     },
     "metadata": {},
     "output_type": "display_data"
    },
    {
     "data": {
      "text/html": [
       "<style>\n",
       "    table.wandb td:nth-child(1) { padding: 0 10px; text-align: left ; width: auto;} td:nth-child(2) {text-align: left ; width: 100%}\n",
       "    .wandb-row { display: flex; flex-direction: row; flex-wrap: wrap; justify-content: flex-start; width: 100% }\n",
       "    .wandb-col { display: flex; flex-direction: column; flex-basis: 100%; flex: 1; padding: 10px; }\n",
       "    </style>\n",
       "<div class=\"wandb-row\"><div class=\"wandb-col\"><h3>Run history:</h3><br/><table class=\"wandb\"><tr><td>epoch</td><td>▁▁▁▁▂▂▂▂▃▃▃▃▃▃▃▃▄▄▄▄▅▅▅▅▆▆▆▆▆▆▆▆▇▇▇▇████</td></tr><tr><td>train_accuracy</td><td>▂▁▅▅▅▅▅▅▇▅▆▆▇▆▇▆▆▆▇▆▇▆▆▆▇▆▇▇▇▇▇▆▆█▇▇▆█▇▆</td></tr><tr><td>train_loss</td><td>█▇▅▄▄▃▃▃▂▃▃▂▂▂▂▂▂▂▂▂▂▂▂▂▂▂▁▂▂▂▂▂▂▁▂▁▂▁▂▂</td></tr><tr><td>val_accuracy</td><td>▁▃▅▆▆▆▇▇▇▇▇▇▇▇▇█████████████████████████</td></tr><tr><td>validation_loss</td><td>█▆▄▄▃▃▂▂▂▂▂▂▂▂▂▁▁▁▁▁▁▁▁▁▁▁▁▁▁▁▁▁▁▁▁▁▁▁▁▁</td></tr></table><br/></div><div class=\"wandb-col\"><h3>Run summary:</h3><br/><table class=\"wandb\"><tr><td>epoch</td><td>10</td></tr><tr><td>train_accuracy</td><td>87.5</td></tr><tr><td>train_loss</td><td>0.03776</td></tr><tr><td>val_accuracy</td><td>85.73333</td></tr><tr><td>validation_loss</td><td>0.04137</td></tr></table><br/></div></div>"
      ],
      "text/plain": [
       "<IPython.core.display.HTML object>"
      ]
     },
     "metadata": {},
     "output_type": "display_data"
    },
    {
     "data": {
      "text/html": [
       " View run <strong style=\"color:#cdcd00\">treasured-sweep-95</strong> at: <a href='https://wandb.ai/sumanta_roy/CS6910_assignment_1/runs/btkffln9' target=\"_blank\">https://wandb.ai/sumanta_roy/CS6910_assignment_1/runs/btkffln9</a><br/>Synced 6 W&B file(s), 0 media file(s), 0 artifact file(s) and 0 other file(s)"
      ],
      "text/plain": [
       "<IPython.core.display.HTML object>"
      ]
     },
     "metadata": {},
     "output_type": "display_data"
    },
    {
     "data": {
      "text/html": [
       "Find logs at: <code>./wandb/run-20240317_105750-btkffln9/logs</code>"
      ],
      "text/plain": [
       "<IPython.core.display.HTML object>"
      ]
     },
     "metadata": {},
     "output_type": "display_data"
    },
    {
     "name": "stderr",
     "output_type": "stream",
     "text": [
      "\u001b[34m\u001b[1mwandb\u001b[0m: Agent Starting Run: b4ocezqr with config:\n",
      "\u001b[34m\u001b[1mwandb\u001b[0m: \tactivation: relu\n",
      "\u001b[34m\u001b[1mwandb\u001b[0m: \tbatch_size: 32\n",
      "\u001b[34m\u001b[1mwandb\u001b[0m: \tepochs: 10\n",
      "\u001b[34m\u001b[1mwandb\u001b[0m: \thidden_layers: 3\n",
      "\u001b[34m\u001b[1mwandb\u001b[0m: \thidden_size: 32\n",
      "\u001b[34m\u001b[1mwandb\u001b[0m: \tloss: cross_entropy\n",
      "\u001b[34m\u001b[1mwandb\u001b[0m: \tlr: 0.0001\n",
      "\u001b[34m\u001b[1mwandb\u001b[0m: \toptimizer: adam\n",
      "\u001b[34m\u001b[1mwandb\u001b[0m: \tw_init: glorot\n",
      "\u001b[34m\u001b[1mwandb\u001b[0m: \tweight_decay: 0\n"
     ]
    },
    {
     "data": {
      "text/html": [
       "Tracking run with wandb version 0.16.4"
      ],
      "text/plain": [
       "<IPython.core.display.HTML object>"
      ]
     },
     "metadata": {},
     "output_type": "display_data"
    },
    {
     "data": {
      "text/html": [
       "Run data is saved locally in <code>/Users/sumanta/Desktop/Numpy project/cross_entropy_lesspasses/wandb/run-20240317_105834-b4ocezqr</code>"
      ],
      "text/plain": [
       "<IPython.core.display.HTML object>"
      ]
     },
     "metadata": {},
     "output_type": "display_data"
    },
    {
     "data": {
      "text/html": [
       "Syncing run <strong><a href='https://wandb.ai/sumanta_roy/CS6910_assignment_1/runs/b4ocezqr' target=\"_blank\">misty-sweep-96</a></strong> to <a href='https://wandb.ai/sumanta_roy/CS6910_assignment_1' target=\"_blank\">Weights & Biases</a> (<a href='https://wandb.me/run' target=\"_blank\">docs</a>)<br/>Sweep page: <a href='https://wandb.ai/sumanta_roy/CS6910_assignment_1/sweeps/mefq3vzl' target=\"_blank\">https://wandb.ai/sumanta_roy/CS6910_assignment_1/sweeps/mefq3vzl</a>"
      ],
      "text/plain": [
       "<IPython.core.display.HTML object>"
      ]
     },
     "metadata": {},
     "output_type": "display_data"
    },
    {
     "data": {
      "text/html": [
       " View project at <a href='https://wandb.ai/sumanta_roy/CS6910_assignment_1' target=\"_blank\">https://wandb.ai/sumanta_roy/CS6910_assignment_1</a>"
      ],
      "text/plain": [
       "<IPython.core.display.HTML object>"
      ]
     },
     "metadata": {},
     "output_type": "display_data"
    },
    {
     "data": {
      "text/html": [
       " View sweep at <a href='https://wandb.ai/sumanta_roy/CS6910_assignment_1/sweeps/mefq3vzl' target=\"_blank\">https://wandb.ai/sumanta_roy/CS6910_assignment_1/sweeps/mefq3vzl</a>"
      ],
      "text/plain": [
       "<IPython.core.display.HTML object>"
      ]
     },
     "metadata": {},
     "output_type": "display_data"
    },
    {
     "data": {
      "text/html": [
       " View run at <a href='https://wandb.ai/sumanta_roy/CS6910_assignment_1/runs/b4ocezqr' target=\"_blank\">https://wandb.ai/sumanta_roy/CS6910_assignment_1/runs/b4ocezqr</a>"
      ],
      "text/plain": [
       "<IPython.core.display.HTML object>"
      ]
     },
     "metadata": {},
     "output_type": "display_data"
    },
    {
     "name": "stdout",
     "output_type": "stream",
     "text": [
      "Epoch: 1/10; Train Loss: 0.04975392655874018; Val Loss: 0.07511455646187212\n",
      "Epoch: 2/10; Train Loss: 0.0333344194246292; Val Loss: 0.06168132014678122\n",
      "Epoch: 3/10; Train Loss: 0.02660256365263401; Val Loss: 0.05540320612685418\n",
      "Epoch: 4/10; Train Loss: 0.022872313157998668; Val Loss: 0.05188971675371493\n",
      "Epoch: 5/10; Train Loss: 0.020633019756099834; Val Loss: 0.04962644387987887\n",
      "Epoch: 6/10; Train Loss: 0.019175362622137475; Val Loss: 0.04797563045068984\n",
      "Epoch: 7/10; Train Loss: 0.018144320146783292; Val Loss: 0.04668656674254306\n",
      "Epoch: 8/10; Train Loss: 0.01735659019375376; Val Loss: 0.04563516634424918\n",
      "Epoch: 9/10; Train Loss: 0.016741567702693767; Val Loss: 0.044752883461983896\n",
      "Epoch: 10/10; Train Loss: 0.016090388301101904; Val Loss: 0.044004774826033106\n"
     ]
    },
    {
     "data": {
      "application/vnd.jupyter.widget-view+json": {
       "model_id": "4e24d79c69e8467787b9cd14a00e1c41",
       "version_major": 2,
       "version_minor": 0
      },
      "text/plain": [
       "VBox(children=(Label(value='0.001 MB of 0.001 MB uploaded\\r'), FloatProgress(value=1.0, max=1.0)))"
      ]
     },
     "metadata": {},
     "output_type": "display_data"
    },
    {
     "data": {
      "text/html": [
       "<style>\n",
       "    table.wandb td:nth-child(1) { padding: 0 10px; text-align: left ; width: auto;} td:nth-child(2) {text-align: left ; width: 100%}\n",
       "    .wandb-row { display: flex; flex-direction: row; flex-wrap: wrap; justify-content: flex-start; width: 100% }\n",
       "    .wandb-col { display: flex; flex-direction: column; flex-basis: 100%; flex: 1; padding: 10px; }\n",
       "    </style>\n",
       "<div class=\"wandb-row\"><div class=\"wandb-col\"><h3>Run history:</h3><br/><table class=\"wandb\"><tr><td>epoch</td><td>▁▁▁▁▂▂▂▂▃▃▃▃▃▃▃▃▄▄▄▄▅▅▅▅▆▆▆▆▆▆▆▆▇▇▇▇████</td></tr><tr><td>train_accuracy</td><td>▁▄▆▅█▆██▆▆▆▆▆▆▆█▇█▇█▆▆▇▆▅▇▆▆▆▆█▆▇██▆▆▆▆█</td></tr><tr><td>train_loss</td><td>█▅▄▄▂▃▂▂▂▃▃▂▂▃▂▂▂▁▂▂▂▂▂▃▃▃▂▂▂▂▁▂▂▁▁▂▂▂▂▂</td></tr><tr><td>val_accuracy</td><td>▁▅▆▆▇▇▇▇▇▇▇▇████████████████████████████</td></tr><tr><td>validation_loss</td><td>█▅▃▃▂▂▂▂▂▂▂▂▂▁▁▁▁▁▁▁▁▁▁▁▁▁▁▁▁▁▁▁▁▁▁▁▁▁▁▁</td></tr></table><br/></div><div class=\"wandb-col\"><h3>Run summary:</h3><br/><table class=\"wandb\"><tr><td>epoch</td><td>10</td></tr><tr><td>train_accuracy</td><td>96.875</td></tr><tr><td>train_loss</td><td>0.01609</td></tr><tr><td>val_accuracy</td><td>85.5</td></tr><tr><td>validation_loss</td><td>0.044</td></tr></table><br/></div></div>"
      ],
      "text/plain": [
       "<IPython.core.display.HTML object>"
      ]
     },
     "metadata": {},
     "output_type": "display_data"
    },
    {
     "data": {
      "text/html": [
       " View run <strong style=\"color:#cdcd00\">misty-sweep-96</strong> at: <a href='https://wandb.ai/sumanta_roy/CS6910_assignment_1/runs/b4ocezqr' target=\"_blank\">https://wandb.ai/sumanta_roy/CS6910_assignment_1/runs/b4ocezqr</a><br/>Synced 6 W&B file(s), 0 media file(s), 0 artifact file(s) and 0 other file(s)"
      ],
      "text/plain": [
       "<IPython.core.display.HTML object>"
      ]
     },
     "metadata": {},
     "output_type": "display_data"
    },
    {
     "data": {
      "text/html": [
       "Find logs at: <code>./wandb/run-20240317_105834-b4ocezqr/logs</code>"
      ],
      "text/plain": [
       "<IPython.core.display.HTML object>"
      ]
     },
     "metadata": {},
     "output_type": "display_data"
    },
    {
     "name": "stderr",
     "output_type": "stream",
     "text": [
      "\u001b[34m\u001b[1mwandb\u001b[0m: Agent Starting Run: t4f11uic with config:\n",
      "\u001b[34m\u001b[1mwandb\u001b[0m: \tactivation: tanh\n",
      "\u001b[34m\u001b[1mwandb\u001b[0m: \tbatch_size: 16\n",
      "\u001b[34m\u001b[1mwandb\u001b[0m: \tepochs: 10\n",
      "\u001b[34m\u001b[1mwandb\u001b[0m: \thidden_layers: 3\n",
      "\u001b[34m\u001b[1mwandb\u001b[0m: \thidden_size: 64\n",
      "\u001b[34m\u001b[1mwandb\u001b[0m: \tloss: cross_entropy\n",
      "\u001b[34m\u001b[1mwandb\u001b[0m: \tlr: 0.001\n",
      "\u001b[34m\u001b[1mwandb\u001b[0m: \toptimizer: nesterov\n",
      "\u001b[34m\u001b[1mwandb\u001b[0m: \tw_init: glorot\n",
      "\u001b[34m\u001b[1mwandb\u001b[0m: \tweight_decay: 0\n"
     ]
    },
    {
     "data": {
      "text/html": [
       "Tracking run with wandb version 0.16.4"
      ],
      "text/plain": [
       "<IPython.core.display.HTML object>"
      ]
     },
     "metadata": {},
     "output_type": "display_data"
    },
    {
     "data": {
      "text/html": [
       "Run data is saved locally in <code>/Users/sumanta/Desktop/Numpy project/cross_entropy_lesspasses/wandb/run-20240317_105917-t4f11uic</code>"
      ],
      "text/plain": [
       "<IPython.core.display.HTML object>"
      ]
     },
     "metadata": {},
     "output_type": "display_data"
    },
    {
     "data": {
      "text/html": [
       "Syncing run <strong><a href='https://wandb.ai/sumanta_roy/CS6910_assignment_1/runs/t4f11uic' target=\"_blank\">olive-sweep-97</a></strong> to <a href='https://wandb.ai/sumanta_roy/CS6910_assignment_1' target=\"_blank\">Weights & Biases</a> (<a href='https://wandb.me/run' target=\"_blank\">docs</a>)<br/>Sweep page: <a href='https://wandb.ai/sumanta_roy/CS6910_assignment_1/sweeps/mefq3vzl' target=\"_blank\">https://wandb.ai/sumanta_roy/CS6910_assignment_1/sweeps/mefq3vzl</a>"
      ],
      "text/plain": [
       "<IPython.core.display.HTML object>"
      ]
     },
     "metadata": {},
     "output_type": "display_data"
    },
    {
     "data": {
      "text/html": [
       " View project at <a href='https://wandb.ai/sumanta_roy/CS6910_assignment_1' target=\"_blank\">https://wandb.ai/sumanta_roy/CS6910_assignment_1</a>"
      ],
      "text/plain": [
       "<IPython.core.display.HTML object>"
      ]
     },
     "metadata": {},
     "output_type": "display_data"
    },
    {
     "data": {
      "text/html": [
       " View sweep at <a href='https://wandb.ai/sumanta_roy/CS6910_assignment_1/sweeps/mefq3vzl' target=\"_blank\">https://wandb.ai/sumanta_roy/CS6910_assignment_1/sweeps/mefq3vzl</a>"
      ],
      "text/plain": [
       "<IPython.core.display.HTML object>"
      ]
     },
     "metadata": {},
     "output_type": "display_data"
    },
    {
     "data": {
      "text/html": [
       " View run at <a href='https://wandb.ai/sumanta_roy/CS6910_assignment_1/runs/t4f11uic' target=\"_blank\">https://wandb.ai/sumanta_roy/CS6910_assignment_1/runs/t4f11uic</a>"
      ],
      "text/plain": [
       "<IPython.core.display.HTML object>"
      ]
     },
     "metadata": {},
     "output_type": "display_data"
    },
    {
     "name": "stdout",
     "output_type": "stream",
     "text": [
      "Epoch: 1/10; Train Loss: 0.012599909069130149; Val Loss: 0.0439090681799229\n",
      "Epoch: 2/10; Train Loss: 0.012521387820596294; Val Loss: 0.03940941734668045\n",
      "Epoch: 3/10; Train Loss: 0.012687961464398951; Val Loss: 0.03731267725769713\n",
      "Epoch: 4/10; Train Loss: 0.012305700530150138; Val Loss: 0.03604574365999292\n",
      "Epoch: 5/10; Train Loss: 0.011715414294247835; Val Loss: 0.035147476692465124\n",
      "Epoch: 6/10; Train Loss: 0.0111201802596539; Val Loss: 0.03446692327844498\n",
      "Epoch: 7/10; Train Loss: 0.0106003731677488; Val Loss: 0.033944396414010126\n",
      "Epoch: 8/10; Train Loss: 0.010165991262746588; Val Loss: 0.03354175495359373\n",
      "Epoch: 9/10; Train Loss: 0.009794280858960372; Val Loss: 0.033225490919456015\n",
      "Epoch: 10/10; Train Loss: 0.009452972429202355; Val Loss: 0.032969650494497224\n"
     ]
    },
    {
     "data": {
      "application/vnd.jupyter.widget-view+json": {
       "model_id": "e3368805bd974850b301f37b9d2076d3",
       "version_major": 2,
       "version_minor": 0
      },
      "text/plain": [
       "VBox(children=(Label(value='0.001 MB of 0.001 MB uploaded\\r'), FloatProgress(value=1.0, max=1.0)))"
      ]
     },
     "metadata": {},
     "output_type": "display_data"
    },
    {
     "data": {
      "text/html": [
       "<style>\n",
       "    table.wandb td:nth-child(1) { padding: 0 10px; text-align: left ; width: auto;} td:nth-child(2) {text-align: left ; width: 100%}\n",
       "    .wandb-row { display: flex; flex-direction: row; flex-wrap: wrap; justify-content: flex-start; width: 100% }\n",
       "    .wandb-col { display: flex; flex-direction: column; flex-basis: 100%; flex: 1; padding: 10px; }\n",
       "    </style>\n",
       "<div class=\"wandb-row\"><div class=\"wandb-col\"><h3>Run history:</h3><br/><table class=\"wandb\"><tr><td>epoch</td><td>▁▁▁▁▂▂▂▂▃▃▃▃▃▃▃▃▄▄▄▄▅▅▅▅▆▆▆▆▆▆▆▆▇▇▇▇████</td></tr><tr><td>train_accuracy</td><td>▁▇█▅▄▇▇█▇▄▅█▇▇▅▇▄▇▄█▅▅▅▇▅▇▇▄█▄█▇▇██▇▅▇▇▅</td></tr><tr><td>train_loss</td><td>█▄▁▃▄▂▂▁▃▃▄▁▃▃▃▂▃▃▂▁▂▄▃▃▂▄▂▃▂▄▂▂▃▁▁▂▃▂▄▂</td></tr><tr><td>val_accuracy</td><td>▁▄▆▆▆▆▇▇▇▇▇▇▇▇▇▇▇▇█▇█▇█▇████████████████</td></tr><tr><td>validation_loss</td><td>█▄▃▃▂▂▂▂▂▂▂▂▂▁▁▁▂▁▁▁▁▁▁▁▁▁▁▁▁▁▁▁▁▁▁▁▁▁▁▁</td></tr></table><br/></div><div class=\"wandb-col\"><h3>Run summary:</h3><br/><table class=\"wandb\"><tr><td>epoch</td><td>10</td></tr><tr><td>train_accuracy</td><td>100.0</td></tr><tr><td>train_loss</td><td>0.00945</td></tr><tr><td>val_accuracy</td><td>88.71667</td></tr><tr><td>validation_loss</td><td>0.03297</td></tr></table><br/></div></div>"
      ],
      "text/plain": [
       "<IPython.core.display.HTML object>"
      ]
     },
     "metadata": {},
     "output_type": "display_data"
    },
    {
     "data": {
      "text/html": [
       " View run <strong style=\"color:#cdcd00\">olive-sweep-97</strong> at: <a href='https://wandb.ai/sumanta_roy/CS6910_assignment_1/runs/t4f11uic' target=\"_blank\">https://wandb.ai/sumanta_roy/CS6910_assignment_1/runs/t4f11uic</a><br/>Synced 6 W&B file(s), 0 media file(s), 0 artifact file(s) and 0 other file(s)"
      ],
      "text/plain": [
       "<IPython.core.display.HTML object>"
      ]
     },
     "metadata": {},
     "output_type": "display_data"
    },
    {
     "data": {
      "text/html": [
       "Find logs at: <code>./wandb/run-20240317_105917-t4f11uic/logs</code>"
      ],
      "text/plain": [
       "<IPython.core.display.HTML object>"
      ]
     },
     "metadata": {},
     "output_type": "display_data"
    },
    {
     "name": "stderr",
     "output_type": "stream",
     "text": [
      "\u001b[34m\u001b[1mwandb\u001b[0m: Agent Starting Run: 6dq8wncx with config:\n",
      "\u001b[34m\u001b[1mwandb\u001b[0m: \tactivation: tanh\n",
      "\u001b[34m\u001b[1mwandb\u001b[0m: \tbatch_size: 64\n",
      "\u001b[34m\u001b[1mwandb\u001b[0m: \tepochs: 10\n",
      "\u001b[34m\u001b[1mwandb\u001b[0m: \thidden_layers: 3\n",
      "\u001b[34m\u001b[1mwandb\u001b[0m: \thidden_size: 64\n",
      "\u001b[34m\u001b[1mwandb\u001b[0m: \tloss: cross_entropy\n",
      "\u001b[34m\u001b[1mwandb\u001b[0m: \tlr: 0.0001\n",
      "\u001b[34m\u001b[1mwandb\u001b[0m: \toptimizer: nadam\n",
      "\u001b[34m\u001b[1mwandb\u001b[0m: \tw_init: glorot\n",
      "\u001b[34m\u001b[1mwandb\u001b[0m: \tweight_decay: 0\n"
     ]
    },
    {
     "data": {
      "text/html": [
       "Tracking run with wandb version 0.16.4"
      ],
      "text/plain": [
       "<IPython.core.display.HTML object>"
      ]
     },
     "metadata": {},
     "output_type": "display_data"
    },
    {
     "data": {
      "text/html": [
       "Run data is saved locally in <code>/Users/sumanta/Desktop/Numpy project/cross_entropy_lesspasses/wandb/run-20240317_110049-6dq8wncx</code>"
      ],
      "text/plain": [
       "<IPython.core.display.HTML object>"
      ]
     },
     "metadata": {},
     "output_type": "display_data"
    },
    {
     "data": {
      "text/html": [
       "Syncing run <strong><a href='https://wandb.ai/sumanta_roy/CS6910_assignment_1/runs/6dq8wncx' target=\"_blank\">charmed-sweep-98</a></strong> to <a href='https://wandb.ai/sumanta_roy/CS6910_assignment_1' target=\"_blank\">Weights & Biases</a> (<a href='https://wandb.me/run' target=\"_blank\">docs</a>)<br/>Sweep page: <a href='https://wandb.ai/sumanta_roy/CS6910_assignment_1/sweeps/mefq3vzl' target=\"_blank\">https://wandb.ai/sumanta_roy/CS6910_assignment_1/sweeps/mefq3vzl</a>"
      ],
      "text/plain": [
       "<IPython.core.display.HTML object>"
      ]
     },
     "metadata": {},
     "output_type": "display_data"
    },
    {
     "data": {
      "text/html": [
       " View project at <a href='https://wandb.ai/sumanta_roy/CS6910_assignment_1' target=\"_blank\">https://wandb.ai/sumanta_roy/CS6910_assignment_1</a>"
      ],
      "text/plain": [
       "<IPython.core.display.HTML object>"
      ]
     },
     "metadata": {},
     "output_type": "display_data"
    },
    {
     "data": {
      "text/html": [
       " View sweep at <a href='https://wandb.ai/sumanta_roy/CS6910_assignment_1/sweeps/mefq3vzl' target=\"_blank\">https://wandb.ai/sumanta_roy/CS6910_assignment_1/sweeps/mefq3vzl</a>"
      ],
      "text/plain": [
       "<IPython.core.display.HTML object>"
      ]
     },
     "metadata": {},
     "output_type": "display_data"
    },
    {
     "data": {
      "text/html": [
       " View run at <a href='https://wandb.ai/sumanta_roy/CS6910_assignment_1/runs/6dq8wncx' target=\"_blank\">https://wandb.ai/sumanta_roy/CS6910_assignment_1/runs/6dq8wncx</a>"
      ],
      "text/plain": [
       "<IPython.core.display.HTML object>"
      ]
     },
     "metadata": {},
     "output_type": "display_data"
    },
    {
     "name": "stdout",
     "output_type": "stream",
     "text": [
      "Epoch: 1/10; Train Loss: 0.12503941070467492; Val Loss: 0.12725882370093444\n",
      "Epoch: 2/10; Train Loss: 0.1040159059081508; Val Loss: 0.10537008900554815\n",
      "Epoch: 3/10; Train Loss: 0.09102027234128932; Val Loss: 0.09246077313205077\n",
      "Epoch: 4/10; Train Loss: 0.08196435578797456; Val Loss: 0.08353916444246198\n",
      "Epoch: 5/10; Train Loss: 0.07537377874876106; Val Loss: 0.07692002424476542\n",
      "Epoch: 6/10; Train Loss: 0.07044335659852625; Val Loss: 0.07180436652492034\n",
      "Epoch: 7/10; Train Loss: 0.0666697801537109; Val Loss: 0.06774263798723486\n",
      "Epoch: 8/10; Train Loss: 0.06372148846145906; Val Loss: 0.06445372963731329\n",
      "Epoch: 9/10; Train Loss: 0.06137340723850624; Val Loss: 0.06174884914196281\n",
      "Epoch: 10/10; Train Loss: 0.05946915686890508; Val Loss: 0.05949490328451754\n"
     ]
    },
    {
     "data": {
      "application/vnd.jupyter.widget-view+json": {
       "model_id": "a228a7fedb4a4db9a7d667569e3399ba",
       "version_major": 2,
       "version_minor": 0
      },
      "text/plain": [
       "VBox(children=(Label(value='0.001 MB of 0.001 MB uploaded\\r'), FloatProgress(value=1.0, max=1.0)))"
      ]
     },
     "metadata": {},
     "output_type": "display_data"
    },
    {
     "data": {
      "text/html": [
       "<style>\n",
       "    table.wandb td:nth-child(1) { padding: 0 10px; text-align: left ; width: auto;} td:nth-child(2) {text-align: left ; width: 100%}\n",
       "    .wandb-row { display: flex; flex-direction: row; flex-wrap: wrap; justify-content: flex-start; width: 100% }\n",
       "    .wandb-col { display: flex; flex-direction: column; flex-basis: 100%; flex: 1; padding: 10px; }\n",
       "    </style>\n",
       "<div class=\"wandb-row\"><div class=\"wandb-col\"><h3>Run history:</h3><br/><table class=\"wandb\"><tr><td>epoch</td><td>▁▁▁▁▂▂▂▂▃▃▃▃▃▃▃▃▄▄▄▄▅▅▅▅▆▆▆▆▆▆▆▆▇▇▇▇████</td></tr><tr><td>train_accuracy</td><td>▁▂▆▆▅▅▅▅▇▆▆▆▇▆▆▆▆▆▆▆▇▆▇▇▇▆▇▆▇▇▆▇▇▇▇█▇▇▇▆</td></tr><tr><td>train_loss</td><td>█▇▅▅▅▄▄▄▄▄▄▃▃▃▃▃▃▃▂▃▂▃▂▂▂▂▁▂▂▂▂▂▂▁▂▁▂▁▂▂</td></tr><tr><td>val_accuracy</td><td>▁▄▅▅▆▆▆▆▆▆▇▇▇▇▇▇▇▇▇▇▇▇▇▇▇███████████████</td></tr><tr><td>validation_loss</td><td>█▇▅▅▅▄▄▄▃▃▃▃▃▃▂▂▂▂▂▂▂▂▂▂▂▂▁▁▁▁▁▁▁▁▁▁▁▁▁▁</td></tr></table><br/></div><div class=\"wandb-col\"><h3>Run summary:</h3><br/><table class=\"wandb\"><tr><td>epoch</td><td>10</td></tr><tr><td>train_accuracy</td><td>79.6875</td></tr><tr><td>train_loss</td><td>0.05947</td></tr><tr><td>val_accuracy</td><td>80.7</td></tr><tr><td>validation_loss</td><td>0.05949</td></tr></table><br/></div></div>"
      ],
      "text/plain": [
       "<IPython.core.display.HTML object>"
      ]
     },
     "metadata": {},
     "output_type": "display_data"
    },
    {
     "data": {
      "text/html": [
       " View run <strong style=\"color:#cdcd00\">charmed-sweep-98</strong> at: <a href='https://wandb.ai/sumanta_roy/CS6910_assignment_1/runs/6dq8wncx' target=\"_blank\">https://wandb.ai/sumanta_roy/CS6910_assignment_1/runs/6dq8wncx</a><br/>Synced 6 W&B file(s), 0 media file(s), 0 artifact file(s) and 0 other file(s)"
      ],
      "text/plain": [
       "<IPython.core.display.HTML object>"
      ]
     },
     "metadata": {},
     "output_type": "display_data"
    },
    {
     "data": {
      "text/html": [
       "Find logs at: <code>./wandb/run-20240317_110049-6dq8wncx/logs</code>"
      ],
      "text/plain": [
       "<IPython.core.display.HTML object>"
      ]
     },
     "metadata": {},
     "output_type": "display_data"
    },
    {
     "name": "stderr",
     "output_type": "stream",
     "text": [
      "\u001b[34m\u001b[1mwandb\u001b[0m: Agent Starting Run: wzomtqlm with config:\n",
      "\u001b[34m\u001b[1mwandb\u001b[0m: \tactivation: tanh\n",
      "\u001b[34m\u001b[1mwandb\u001b[0m: \tbatch_size: 32\n",
      "\u001b[34m\u001b[1mwandb\u001b[0m: \tepochs: 10\n",
      "\u001b[34m\u001b[1mwandb\u001b[0m: \thidden_layers: 3\n",
      "\u001b[34m\u001b[1mwandb\u001b[0m: \thidden_size: 128\n",
      "\u001b[34m\u001b[1mwandb\u001b[0m: \tloss: cross_entropy\n",
      "\u001b[34m\u001b[1mwandb\u001b[0m: \tlr: 0.001\n",
      "\u001b[34m\u001b[1mwandb\u001b[0m: \toptimizer: nadam\n",
      "\u001b[34m\u001b[1mwandb\u001b[0m: \tw_init: glorot\n",
      "\u001b[34m\u001b[1mwandb\u001b[0m: \tweight_decay: 0\n"
     ]
    },
    {
     "data": {
      "text/html": [
       "Tracking run with wandb version 0.16.4"
      ],
      "text/plain": [
       "<IPython.core.display.HTML object>"
      ]
     },
     "metadata": {},
     "output_type": "display_data"
    },
    {
     "data": {
      "text/html": [
       "Run data is saved locally in <code>/Users/sumanta/Desktop/Numpy project/cross_entropy_lesspasses/wandb/run-20240317_110141-wzomtqlm</code>"
      ],
      "text/plain": [
       "<IPython.core.display.HTML object>"
      ]
     },
     "metadata": {},
     "output_type": "display_data"
    },
    {
     "data": {
      "text/html": [
       "Syncing run <strong><a href='https://wandb.ai/sumanta_roy/CS6910_assignment_1/runs/wzomtqlm' target=\"_blank\">graceful-sweep-99</a></strong> to <a href='https://wandb.ai/sumanta_roy/CS6910_assignment_1' target=\"_blank\">Weights & Biases</a> (<a href='https://wandb.me/run' target=\"_blank\">docs</a>)<br/>Sweep page: <a href='https://wandb.ai/sumanta_roy/CS6910_assignment_1/sweeps/mefq3vzl' target=\"_blank\">https://wandb.ai/sumanta_roy/CS6910_assignment_1/sweeps/mefq3vzl</a>"
      ],
      "text/plain": [
       "<IPython.core.display.HTML object>"
      ]
     },
     "metadata": {},
     "output_type": "display_data"
    },
    {
     "data": {
      "text/html": [
       " View project at <a href='https://wandb.ai/sumanta_roy/CS6910_assignment_1' target=\"_blank\">https://wandb.ai/sumanta_roy/CS6910_assignment_1</a>"
      ],
      "text/plain": [
       "<IPython.core.display.HTML object>"
      ]
     },
     "metadata": {},
     "output_type": "display_data"
    },
    {
     "data": {
      "text/html": [
       " View sweep at <a href='https://wandb.ai/sumanta_roy/CS6910_assignment_1/sweeps/mefq3vzl' target=\"_blank\">https://wandb.ai/sumanta_roy/CS6910_assignment_1/sweeps/mefq3vzl</a>"
      ],
      "text/plain": [
       "<IPython.core.display.HTML object>"
      ]
     },
     "metadata": {},
     "output_type": "display_data"
    },
    {
     "data": {
      "text/html": [
       " View run at <a href='https://wandb.ai/sumanta_roy/CS6910_assignment_1/runs/wzomtqlm' target=\"_blank\">https://wandb.ai/sumanta_roy/CS6910_assignment_1/runs/wzomtqlm</a>"
      ],
      "text/plain": [
       "<IPython.core.display.HTML object>"
      ]
     },
     "metadata": {},
     "output_type": "display_data"
    },
    {
     "name": "stdout",
     "output_type": "stream",
     "text": [
      "Epoch: 1/10; Train Loss: 0.017998652210138633; Val Loss: 0.04329638775143146\n",
      "Epoch: 2/10; Train Loss: 0.014880171289508587; Val Loss: 0.03999713619817383\n",
      "Epoch: 3/10; Train Loss: 0.013220679495891414; Val Loss: 0.0382690113123837\n",
      "Epoch: 4/10; Train Loss: 0.01221242629655621; Val Loss: 0.037093100948505646\n",
      "Epoch: 5/10; Train Loss: 0.01153326468615213; Val Loss: 0.036202475219973156\n",
      "Epoch: 6/10; Train Loss: 0.011021508431334374; Val Loss: 0.03548716901316286\n",
      "Epoch: 7/10; Train Loss: 0.01059805719310486; Val Loss: 0.03489187603418386\n",
      "Epoch: 8/10; Train Loss: 0.010224517900381754; Val Loss: 0.03438501114282262\n",
      "Epoch: 9/10; Train Loss: 0.00988298982840825; Val Loss: 0.03394655168409365\n",
      "Epoch: 10/10; Train Loss: 0.009566195435180157; Val Loss: 0.033562849645019016\n"
     ]
    },
    {
     "data": {
      "application/vnd.jupyter.widget-view+json": {
       "model_id": "5d9f316283d541ee9f714f524ddac0d5",
       "version_major": 2,
       "version_minor": 0
      },
      "text/plain": [
       "VBox(children=(Label(value='0.001 MB of 0.001 MB uploaded\\r'), FloatProgress(value=1.0, max=1.0)))"
      ]
     },
     "metadata": {},
     "output_type": "display_data"
    },
    {
     "data": {
      "text/html": [
       "<style>\n",
       "    table.wandb td:nth-child(1) { padding: 0 10px; text-align: left ; width: auto;} td:nth-child(2) {text-align: left ; width: 100%}\n",
       "    .wandb-row { display: flex; flex-direction: row; flex-wrap: wrap; justify-content: flex-start; width: 100% }\n",
       "    .wandb-col { display: flex; flex-direction: column; flex-basis: 100%; flex: 1; padding: 10px; }\n",
       "    </style>\n",
       "<div class=\"wandb-row\"><div class=\"wandb-col\"><h3>Run history:</h3><br/><table class=\"wandb\"><tr><td>epoch</td><td>▁▁▁▁▂▂▂▂▃▃▃▃▃▃▃▃▄▄▄▄▅▅▅▅▆▆▆▆▆▆▆▆▇▇▇▇████</td></tr><tr><td>train_accuracy</td><td>▁▅▇▆█▅▇█▇▅▄▆▅▆▅▇▆▇▇▇▅▅▅▅▅▇▅▄▅▅█▆▆▇▇▇▃▅▅▇</td></tr><tr><td>train_loss</td><td>█▅▃▄▂▄▃▂▃▅▅▃▅▄▄▃▄▂▂▂▅▄▄▄▅▅▆▅▃▄▁▃▂▂▂▃▅▄▄▂</td></tr><tr><td>val_accuracy</td><td>▁▄▅▆▆▆▆▆▆▆▆▇▇▇▇▇▇▇▇▇▇▇▇▇█▇████████▇█████</td></tr><tr><td>validation_loss</td><td>█▅▄▄▃▃▃▃▃▂▂▂▂▂▂▂▂▂▂▂▂▂▂▂▁▂▁▁▁▁▁▁▁▁▁▁▁▁▁▁</td></tr></table><br/></div><div class=\"wandb-col\"><h3>Run summary:</h3><br/><table class=\"wandb\"><tr><td>epoch</td><td>10</td></tr><tr><td>train_accuracy</td><td>96.875</td></tr><tr><td>train_loss</td><td>0.00957</td></tr><tr><td>val_accuracy</td><td>88.13333</td></tr><tr><td>validation_loss</td><td>0.03356</td></tr></table><br/></div></div>"
      ],
      "text/plain": [
       "<IPython.core.display.HTML object>"
      ]
     },
     "metadata": {},
     "output_type": "display_data"
    },
    {
     "data": {
      "text/html": [
       " View run <strong style=\"color:#cdcd00\">graceful-sweep-99</strong> at: <a href='https://wandb.ai/sumanta_roy/CS6910_assignment_1/runs/wzomtqlm' target=\"_blank\">https://wandb.ai/sumanta_roy/CS6910_assignment_1/runs/wzomtqlm</a><br/>Synced 6 W&B file(s), 0 media file(s), 0 artifact file(s) and 0 other file(s)"
      ],
      "text/plain": [
       "<IPython.core.display.HTML object>"
      ]
     },
     "metadata": {},
     "output_type": "display_data"
    },
    {
     "data": {
      "text/html": [
       "Find logs at: <code>./wandb/run-20240317_110141-wzomtqlm/logs</code>"
      ],
      "text/plain": [
       "<IPython.core.display.HTML object>"
      ]
     },
     "metadata": {},
     "output_type": "display_data"
    },
    {
     "name": "stderr",
     "output_type": "stream",
     "text": [
      "\u001b[34m\u001b[1mwandb\u001b[0m: Agent Starting Run: 99lrhqxu with config:\n",
      "\u001b[34m\u001b[1mwandb\u001b[0m: \tactivation: tanh\n",
      "\u001b[34m\u001b[1mwandb\u001b[0m: \tbatch_size: 16\n",
      "\u001b[34m\u001b[1mwandb\u001b[0m: \tepochs: 10\n",
      "\u001b[34m\u001b[1mwandb\u001b[0m: \thidden_layers: 3\n",
      "\u001b[34m\u001b[1mwandb\u001b[0m: \thidden_size: 32\n",
      "\u001b[34m\u001b[1mwandb\u001b[0m: \tloss: cross_entropy\n",
      "\u001b[34m\u001b[1mwandb\u001b[0m: \tlr: 0.0001\n",
      "\u001b[34m\u001b[1mwandb\u001b[0m: \toptimizer: nesterov\n",
      "\u001b[34m\u001b[1mwandb\u001b[0m: \tw_init: glorot\n",
      "\u001b[34m\u001b[1mwandb\u001b[0m: \tweight_decay: 0.0005\n"
     ]
    },
    {
     "data": {
      "text/html": [
       "Tracking run with wandb version 0.16.4"
      ],
      "text/plain": [
       "<IPython.core.display.HTML object>"
      ]
     },
     "metadata": {},
     "output_type": "display_data"
    },
    {
     "data": {
      "text/html": [
       "Run data is saved locally in <code>/Users/sumanta/Desktop/Numpy project/cross_entropy_lesspasses/wandb/run-20240317_110343-99lrhqxu</code>"
      ],
      "text/plain": [
       "<IPython.core.display.HTML object>"
      ]
     },
     "metadata": {},
     "output_type": "display_data"
    },
    {
     "data": {
      "text/html": [
       "Syncing run <strong><a href='https://wandb.ai/sumanta_roy/CS6910_assignment_1/runs/99lrhqxu' target=\"_blank\">unique-sweep-100</a></strong> to <a href='https://wandb.ai/sumanta_roy/CS6910_assignment_1' target=\"_blank\">Weights & Biases</a> (<a href='https://wandb.me/run' target=\"_blank\">docs</a>)<br/>Sweep page: <a href='https://wandb.ai/sumanta_roy/CS6910_assignment_1/sweeps/mefq3vzl' target=\"_blank\">https://wandb.ai/sumanta_roy/CS6910_assignment_1/sweeps/mefq3vzl</a>"
      ],
      "text/plain": [
       "<IPython.core.display.HTML object>"
      ]
     },
     "metadata": {},
     "output_type": "display_data"
    },
    {
     "data": {
      "text/html": [
       " View project at <a href='https://wandb.ai/sumanta_roy/CS6910_assignment_1' target=\"_blank\">https://wandb.ai/sumanta_roy/CS6910_assignment_1</a>"
      ],
      "text/plain": [
       "<IPython.core.display.HTML object>"
      ]
     },
     "metadata": {},
     "output_type": "display_data"
    },
    {
     "data": {
      "text/html": [
       " View sweep at <a href='https://wandb.ai/sumanta_roy/CS6910_assignment_1/sweeps/mefq3vzl' target=\"_blank\">https://wandb.ai/sumanta_roy/CS6910_assignment_1/sweeps/mefq3vzl</a>"
      ],
      "text/plain": [
       "<IPython.core.display.HTML object>"
      ]
     },
     "metadata": {},
     "output_type": "display_data"
    },
    {
     "data": {
      "text/html": [
       " View run at <a href='https://wandb.ai/sumanta_roy/CS6910_assignment_1/runs/99lrhqxu' target=\"_blank\">https://wandb.ai/sumanta_roy/CS6910_assignment_1/runs/99lrhqxu</a>"
      ],
      "text/plain": [
       "<IPython.core.display.HTML object>"
      ]
     },
     "metadata": {},
     "output_type": "display_data"
    },
    {
     "name": "stdout",
     "output_type": "stream",
     "text": [
      "Epoch: 1/10; Train Loss: 0.07476484672175794; Val Loss: 0.101455959549327\n",
      "Epoch: 2/10; Train Loss: 0.04142086984707121; Val Loss: 0.0764543820705409\n",
      "Epoch: 3/10; Train Loss: 0.027183044358417435; Val Loss: 0.06442969725779712\n",
      "Epoch: 4/10; Train Loss: 0.021175660207877752; Val Loss: 0.057801132043414104\n",
      "Epoch: 5/10; Train Loss: 0.01830290558375392; Val Loss: 0.05363121488017705\n",
      "Epoch: 6/10; Train Loss: 0.016764337648710572; Val Loss: 0.05074720844360106\n",
      "Epoch: 7/10; Train Loss: 0.01589192351614633; Val Loss: 0.04862519586112476\n",
      "Epoch: 8/10; Train Loss: 0.015377993415217305; Val Loss: 0.046990535262276464\n",
      "Epoch: 9/10; Train Loss: 0.015059095536746066; Val Loss: 0.045683522442328005\n",
      "Epoch: 10/10; Train Loss: 0.014843011309821975; Val Loss: 0.04460640848751523\n"
     ]
    },
    {
     "data": {
      "application/vnd.jupyter.widget-view+json": {
       "model_id": "a281b32948814b0ebded0e53c3fe005c",
       "version_major": 2,
       "version_minor": 0
      },
      "text/plain": [
       "VBox(children=(Label(value='0.001 MB of 0.001 MB uploaded\\r'), FloatProgress(value=1.0, max=1.0)))"
      ]
     },
     "metadata": {},
     "output_type": "display_data"
    },
    {
     "data": {
      "text/html": [
       "<style>\n",
       "    table.wandb td:nth-child(1) { padding: 0 10px; text-align: left ; width: auto;} td:nth-child(2) {text-align: left ; width: 100%}\n",
       "    .wandb-row { display: flex; flex-direction: row; flex-wrap: wrap; justify-content: flex-start; width: 100% }\n",
       "    .wandb-col { display: flex; flex-direction: column; flex-basis: 100%; flex: 1; padding: 10px; }\n",
       "    </style>\n",
       "<div class=\"wandb-row\"><div class=\"wandb-col\"><h3>Run history:</h3><br/><table class=\"wandb\"><tr><td>epoch</td><td>▁▁▁▁▂▂▂▂▃▃▃▃▃▃▃▃▄▄▄▄▅▅▅▅▆▆▆▆▆▆▆▆▇▇▇▇████</td></tr><tr><td>train_accuracy</td><td>▁▃▆▅▄▅▅▇▆▇▅▆▅▆▅▇▅▅▅▇▅▆▅▇▅▆▇▅▄▄▇▇▅█▇▆▅▇▅▇</td></tr><tr><td>train_loss</td><td>█▆▄▄▄▃▃▂▂▃▃▂▂▃▃▂▃▂▂▁▂▃▃▂▃▃▂▂▃▃▁▂▃▁▁▂▂▁▃▁</td></tr><tr><td>val_accuracy</td><td>▁▅▆▆▆▆▇▇▇▇▇▇▇▇▇▇████████████████████████</td></tr><tr><td>validation_loss</td><td>█▆▅▄▃▃▃▃▂▂▂▂▂▂▂▂▂▁▁▁▁▁▁▁▁▁▁▁▁▁▁▁▁▁▁▁▁▁▁▁</td></tr></table><br/></div><div class=\"wandb-col\"><h3>Run summary:</h3><br/><table class=\"wandb\"><tr><td>epoch</td><td>10</td></tr><tr><td>train_accuracy</td><td>100.0</td></tr><tr><td>train_loss</td><td>0.01484</td></tr><tr><td>val_accuracy</td><td>84.91667</td></tr><tr><td>validation_loss</td><td>0.04461</td></tr></table><br/></div></div>"
      ],
      "text/plain": [
       "<IPython.core.display.HTML object>"
      ]
     },
     "metadata": {},
     "output_type": "display_data"
    },
    {
     "data": {
      "text/html": [
       " View run <strong style=\"color:#cdcd00\">unique-sweep-100</strong> at: <a href='https://wandb.ai/sumanta_roy/CS6910_assignment_1/runs/99lrhqxu' target=\"_blank\">https://wandb.ai/sumanta_roy/CS6910_assignment_1/runs/99lrhqxu</a><br/>Synced 6 W&B file(s), 0 media file(s), 0 artifact file(s) and 0 other file(s)"
      ],
      "text/plain": [
       "<IPython.core.display.HTML object>"
      ]
     },
     "metadata": {},
     "output_type": "display_data"
    },
    {
     "data": {
      "text/html": [
       "Find logs at: <code>./wandb/run-20240317_110343-99lrhqxu/logs</code>"
      ],
      "text/plain": [
       "<IPython.core.display.HTML object>"
      ]
     },
     "metadata": {},
     "output_type": "display_data"
    },
    {
     "name": "stdout",
     "output_type": "stream",
     "text": [
      "Error in callback <bound method _WandbInit._pause_backend of <wandb.sdk.wandb_init._WandbInit object at 0x17ed06c90>> (for post_run_cell), with arguments args (<ExecutionResult object at 1107cc3d0, execution_count=2 error_before_exec=None error_in_exec=None info=<ExecutionInfo object at 110ae9dd0, raw_cell=\"from gradient_descent_wandb import *\n",
      "from keras.da..\" store_history=True silent=False shell_futures=True cell_id=6b7f7570-b5de-4b6f-b832-bcd72d87c5d4> result=None>,),kwargs {}:\n"
     ]
    },
    {
     "ename": "BrokenPipeError",
     "evalue": "[Errno 32] Broken pipe",
     "output_type": "error",
     "traceback": [
      "\u001b[0;31m---------------------------------------------------------------------------\u001b[0m",
      "\u001b[0;31mBrokenPipeError\u001b[0m                           Traceback (most recent call last)",
      "File \u001b[0;32m/opt/anaconda3/lib/python3.11/site-packages/wandb/sdk/wandb_init.py:438\u001b[0m, in \u001b[0;36m_WandbInit._pause_backend\u001b[0;34m(self, *args, **kwargs)\u001b[0m\n\u001b[1;32m    436\u001b[0m \u001b[38;5;28;01mif\u001b[39;00m \u001b[38;5;28mself\u001b[39m\u001b[38;5;241m.\u001b[39mbackend\u001b[38;5;241m.\u001b[39minterface \u001b[38;5;129;01mis\u001b[39;00m \u001b[38;5;129;01mnot\u001b[39;00m \u001b[38;5;28;01mNone\u001b[39;00m:\n\u001b[1;32m    437\u001b[0m     logger\u001b[38;5;241m.\u001b[39minfo(\u001b[38;5;124m\"\u001b[39m\u001b[38;5;124mpausing backend\u001b[39m\u001b[38;5;124m\"\u001b[39m)  \u001b[38;5;66;03m# type: ignore\u001b[39;00m\n\u001b[0;32m--> 438\u001b[0m     \u001b[38;5;28mself\u001b[39m\u001b[38;5;241m.\u001b[39mbackend\u001b[38;5;241m.\u001b[39minterface\u001b[38;5;241m.\u001b[39mpublish_pause()\n",
      "File \u001b[0;32m/opt/anaconda3/lib/python3.11/site-packages/wandb/sdk/interface/interface.py:659\u001b[0m, in \u001b[0;36mInterfaceBase.publish_pause\u001b[0;34m(self)\u001b[0m\n\u001b[1;32m    657\u001b[0m \u001b[38;5;28;01mdef\u001b[39;00m \u001b[38;5;21mpublish_pause\u001b[39m(\u001b[38;5;28mself\u001b[39m) \u001b[38;5;241m-\u001b[39m\u001b[38;5;241m>\u001b[39m \u001b[38;5;28;01mNone\u001b[39;00m:\n\u001b[1;32m    658\u001b[0m     pause \u001b[38;5;241m=\u001b[39m pb\u001b[38;5;241m.\u001b[39mPauseRequest()\n\u001b[0;32m--> 659\u001b[0m     \u001b[38;5;28mself\u001b[39m\u001b[38;5;241m.\u001b[39m_publish_pause(pause)\n",
      "File \u001b[0;32m/opt/anaconda3/lib/python3.11/site-packages/wandb/sdk/interface/interface_shared.py:355\u001b[0m, in \u001b[0;36mInterfaceShared._publish_pause\u001b[0;34m(self, pause)\u001b[0m\n\u001b[1;32m    353\u001b[0m \u001b[38;5;28;01mdef\u001b[39;00m \u001b[38;5;21m_publish_pause\u001b[39m(\u001b[38;5;28mself\u001b[39m, pause: pb\u001b[38;5;241m.\u001b[39mPauseRequest) \u001b[38;5;241m-\u001b[39m\u001b[38;5;241m>\u001b[39m \u001b[38;5;28;01mNone\u001b[39;00m:\n\u001b[1;32m    354\u001b[0m     rec \u001b[38;5;241m=\u001b[39m \u001b[38;5;28mself\u001b[39m\u001b[38;5;241m.\u001b[39m_make_request(pause\u001b[38;5;241m=\u001b[39mpause)\n\u001b[0;32m--> 355\u001b[0m     \u001b[38;5;28mself\u001b[39m\u001b[38;5;241m.\u001b[39m_publish(rec)\n",
      "File \u001b[0;32m/opt/anaconda3/lib/python3.11/site-packages/wandb/sdk/interface/interface_sock.py:51\u001b[0m, in \u001b[0;36mInterfaceSock._publish\u001b[0;34m(self, record, local)\u001b[0m\n\u001b[1;32m     49\u001b[0m \u001b[38;5;28;01mdef\u001b[39;00m \u001b[38;5;21m_publish\u001b[39m(\u001b[38;5;28mself\u001b[39m, record: \u001b[38;5;124m\"\u001b[39m\u001b[38;5;124mpb.Record\u001b[39m\u001b[38;5;124m\"\u001b[39m, local: Optional[\u001b[38;5;28mbool\u001b[39m] \u001b[38;5;241m=\u001b[39m \u001b[38;5;28;01mNone\u001b[39;00m) \u001b[38;5;241m-\u001b[39m\u001b[38;5;241m>\u001b[39m \u001b[38;5;28;01mNone\u001b[39;00m:\n\u001b[1;32m     50\u001b[0m     \u001b[38;5;28mself\u001b[39m\u001b[38;5;241m.\u001b[39m_assign(record)\n\u001b[0;32m---> 51\u001b[0m     \u001b[38;5;28mself\u001b[39m\u001b[38;5;241m.\u001b[39m_sock_client\u001b[38;5;241m.\u001b[39msend_record_publish(record)\n",
      "File \u001b[0;32m/opt/anaconda3/lib/python3.11/site-packages/wandb/sdk/lib/sock_client.py:221\u001b[0m, in \u001b[0;36mSockClient.send_record_publish\u001b[0;34m(self, record)\u001b[0m\n\u001b[1;32m    219\u001b[0m server_req \u001b[38;5;241m=\u001b[39m spb\u001b[38;5;241m.\u001b[39mServerRequest()\n\u001b[1;32m    220\u001b[0m server_req\u001b[38;5;241m.\u001b[39mrecord_publish\u001b[38;5;241m.\u001b[39mCopyFrom(record)\n\u001b[0;32m--> 221\u001b[0m \u001b[38;5;28mself\u001b[39m\u001b[38;5;241m.\u001b[39msend_server_request(server_req)\n",
      "File \u001b[0;32m/opt/anaconda3/lib/python3.11/site-packages/wandb/sdk/lib/sock_client.py:155\u001b[0m, in \u001b[0;36mSockClient.send_server_request\u001b[0;34m(self, msg)\u001b[0m\n\u001b[1;32m    154\u001b[0m \u001b[38;5;28;01mdef\u001b[39;00m \u001b[38;5;21msend_server_request\u001b[39m(\u001b[38;5;28mself\u001b[39m, msg: Any) \u001b[38;5;241m-\u001b[39m\u001b[38;5;241m>\u001b[39m \u001b[38;5;28;01mNone\u001b[39;00m:\n\u001b[0;32m--> 155\u001b[0m     \u001b[38;5;28mself\u001b[39m\u001b[38;5;241m.\u001b[39m_send_message(msg)\n",
      "File \u001b[0;32m/opt/anaconda3/lib/python3.11/site-packages/wandb/sdk/lib/sock_client.py:152\u001b[0m, in \u001b[0;36mSockClient._send_message\u001b[0;34m(self, msg)\u001b[0m\n\u001b[1;32m    150\u001b[0m header \u001b[38;5;241m=\u001b[39m struct\u001b[38;5;241m.\u001b[39mpack(\u001b[38;5;124m\"\u001b[39m\u001b[38;5;124m<BI\u001b[39m\u001b[38;5;124m\"\u001b[39m, \u001b[38;5;28mord\u001b[39m(\u001b[38;5;124m\"\u001b[39m\u001b[38;5;124mW\u001b[39m\u001b[38;5;124m\"\u001b[39m), raw_size)\n\u001b[1;32m    151\u001b[0m \u001b[38;5;28;01mwith\u001b[39;00m \u001b[38;5;28mself\u001b[39m\u001b[38;5;241m.\u001b[39m_lock:\n\u001b[0;32m--> 152\u001b[0m     \u001b[38;5;28mself\u001b[39m\u001b[38;5;241m.\u001b[39m_sendall_with_error_handle(header \u001b[38;5;241m+\u001b[39m data)\n",
      "File \u001b[0;32m/opt/anaconda3/lib/python3.11/site-packages/wandb/sdk/lib/sock_client.py:130\u001b[0m, in \u001b[0;36mSockClient._sendall_with_error_handle\u001b[0;34m(self, data)\u001b[0m\n\u001b[1;32m    128\u001b[0m start_time \u001b[38;5;241m=\u001b[39m time\u001b[38;5;241m.\u001b[39mmonotonic()\n\u001b[1;32m    129\u001b[0m \u001b[38;5;28;01mtry\u001b[39;00m:\n\u001b[0;32m--> 130\u001b[0m     sent \u001b[38;5;241m=\u001b[39m \u001b[38;5;28mself\u001b[39m\u001b[38;5;241m.\u001b[39m_sock\u001b[38;5;241m.\u001b[39msend(data)\n\u001b[1;32m    131\u001b[0m     \u001b[38;5;66;03m# sent equal to 0 indicates a closed socket\u001b[39;00m\n\u001b[1;32m    132\u001b[0m     \u001b[38;5;28;01mif\u001b[39;00m sent \u001b[38;5;241m==\u001b[39m \u001b[38;5;241m0\u001b[39m:\n",
      "\u001b[0;31mBrokenPipeError\u001b[0m: [Errno 32] Broken pipe"
     ]
    }
   ],
   "source": [
    "from gradient_descent_wandb import *\n",
    "from keras.datasets import fashion_mnist\n",
    "import matplotlib.pyplot as plt\n",
    "import numpy as np\n",
    "import wandb\n",
    "from types import SimpleNamespace\n",
    "import random\n",
    "\n",
    "(train_images, train_labels), (test_images, test_labels) = fashion_mnist.load_data()\n",
    "\n",
    "X = train_images.reshape(train_images.shape[0], -1).T/225\n",
    "Y = train_labels\n",
    "X_test = test_images.reshape(test_images.shape[0], -1).T/225\n",
    "Y_test = test_labels\n",
    "\n",
    "validation_ratio = 0.1 #percentage of data for validation\n",
    "num_validation_samples = int(validation_ratio * X.shape[1])\n",
    "indices = np.random.permutation(X.shape[1]) #shuffling the indices\n",
    "\n",
    "validation_indices = indices[:num_validation_samples]\n",
    "training_indices = indices[num_validation_samples:]\n",
    "\n",
    "X_train = X[:, training_indices]\n",
    "Y_train = Y[training_indices]\n",
    "X_val = X[:, validation_indices]\n",
    "Y_val = Y[validation_indices]\n",
    "\n",
    "print(\"Number of training samples: \" + str(X_train.shape[1]))\n",
    "print(\"Number of validation samples: \" + str(X_val.shape[1]))\n",
    "print(\"Number of testing samples: \" + str(X_test.shape[1]))\n",
    "\n",
    "wandb.login(key='4734e60951ce310dbe17484eeeb5b3366b54850f')\n",
    "\n",
    "sweep_config = {\n",
    "    'method': 'bayes',\n",
    "    'name': 'sweep cross entropy jupiter corrected lrs',\n",
    "    'metric': {\n",
    "      'name': 'val_accuracy',\n",
    "      'goal': 'maximize'\n",
    "    },\n",
    "    'parameters': {\n",
    "        'epochs': {\n",
    "            'values': [5,10]\n",
    "        },\n",
    "         'hidden_size':{\n",
    "            'values':[32,64,128]\n",
    "        },\n",
    "        'hidden_layers':{\n",
    "            'values':[3,4,5]\n",
    "        },\n",
    "        'activation': {\n",
    "            'values': ['sigmoid','relu','tanh']\n",
    "        },\n",
    "        'loss': {\n",
    "            'values': ['cross_entropy']\n",
    "        },\n",
    "        'weight_decay': {\n",
    "            'values': [0,0.0005,0.5]\n",
    "        },\n",
    "        'optimizer': {\n",
    "            'values': ['sgd','momentum','nesterov','rmsprop','adam','nadam']\n",
    "        },\n",
    "        'lr': {\n",
    "            'values': [1e-3,1e-4]\n",
    "        },\n",
    "        'batch_size': {\n",
    "            'values': [16,32,64] \n",
    "        },\n",
    "        'w_init': {\n",
    "            'values':['glorot','random'] \n",
    "        },\n",
    "    }\n",
    "}\n",
    "\n",
    "sweep_id = wandb.sweep(sweep=sweep_config, project='CS6910_assignment_1')\n",
    "wandb.init(project='CS6910_assignment_1', entity='sumanta_roy')\n",
    "\n",
    "def main():\n",
    "    '''\n",
    "    WandB calls main function each time with differnet combination.\n",
    "\n",
    "    We can retrive the same and use the same values for our hypermeters.\n",
    "\n",
    "    '''\n",
    "\n",
    "    with wandb.init() as run:\n",
    "\n",
    "        run_name=\"-ac_\"+wandb.config.activation+\" -hs_\"+str(wandb.config.hidden_size)+\" -hl_\"+str(wandb.config.hidden_layers)+\" -epch_\"+str(wandb.config.epochs)+\" -bs_\"+str(wandb.config.batch_size)+\" -init_\"+str(wandb.config.w_init)+\" -lr_\"+str(wandb.config.lr)+\" -l2d_\"+str(wandb.config.weight_decay)\n",
    "        wandb.run.name=run_name\n",
    "        #obj=NN(wandb.config['num_layers'],wandb.config['hidden_size'])\n",
    "\n",
    "        max_epochs=wandb.config.epochs\n",
    "        no_hidden_layers=wandb.config.hidden_layers\n",
    "        size_of_hidden_layer=wandb.config.hidden_size\n",
    "        weight_decay = wandb.config.weight_decay\n",
    "        alpha=wandb.config.lr\n",
    "        opt=wandb.config.optimizer #'sgd','momentum','nesterov','rmsprop','adam','nadam'\n",
    "        batch_size=wandb.config.batch_size\n",
    "        weight=wandb.config.w_init #glorot,random\n",
    "        activation=wandb.config.activation #sigmoid,tanh,relu\n",
    "\n",
    "        input_size,output_size = 784,10\n",
    "        layer_sizes = [input_size] + [size_of_hidden_layer] * no_hidden_layers + [output_size]\n",
    "        beta=0.9\n",
    "        epsilon=1e-4\n",
    "        beta1=0.9\n",
    "        beta2=0.999\n",
    "\n",
    "        w = 80 #No of accuracy checks per epoch\n",
    "        \n",
    "        if opt == 'sgd':\n",
    "          params = stochastic_gradient_descent(w,weight, activation, weight_decay, X_train, Y_train, X_val, Y_val, max_epochs, alpha, layer_sizes, batch_size)\n",
    "        elif opt == 'momentum':\n",
    "          params = momentum_gradient_descent(w,weight, activation, weight_decay, X_train, Y_train, X_val, Y_val, max_epochs, alpha, beta, layer_sizes, batch_size)\n",
    "        elif opt == 'nesterov':\n",
    "          params = nesterov_gradient_descent(w,weight, activation, weight_decay, X_train, Y_train, X_val, Y_val, max_epochs, alpha, beta, layer_sizes, batch_size)\n",
    "        elif opt == 'rmsprop':\n",
    "          params = stochastic_gradient_descent_with_RMSProp(w,weight, activation, weight_decay, X_train, Y_train, X_val, Y_val,max_epochs, alpha, layer_sizes, batch_size, epsilon, beta)\n",
    "        elif opt == 'adam':\n",
    "          params = stochastic_gradient_descent_with_adam(w,weight, activation, weight_decay, X_train, Y_train, X_val, Y_val, max_epochs, alpha, layer_sizes, batch_size, epsilon, beta1, beta2)\n",
    "        elif opt == 'nadam':\n",
    "          params = stochastic_gradient_descent_with_nadam(w,weight, activation, weight_decay, X_train, Y_train, X_val, Y_val, max_epochs, alpha, layer_sizes, batch_size, epsilon, beta1, beta2)\n",
    "        else:\n",
    "          raise ValueError(f\"Invalid optimizer option: {opt}\")\n",
    "\n",
    "wandb.agent(sweep_id, function=main,count=100) # calls main function for count number of times.\n",
    "wandb.finish()\n"
   ]
  },
  {
   "cell_type": "code",
   "execution_count": null,
   "id": "f603e1c5-8f09-4677-9dc3-0c1d6faffa81",
   "metadata": {},
   "outputs": [],
   "source": []
  }
 ],
 "metadata": {
  "kernelspec": {
   "display_name": "Python 3 (ipykernel)",
   "language": "python",
   "name": "python3"
  },
  "language_info": {
   "codemirror_mode": {
    "name": "ipython",
    "version": 3
   },
   "file_extension": ".py",
   "mimetype": "text/x-python",
   "name": "python",
   "nbconvert_exporter": "python",
   "pygments_lexer": "ipython3",
   "version": "3.11.7"
  }
 },
 "nbformat": 4,
 "nbformat_minor": 5
}
