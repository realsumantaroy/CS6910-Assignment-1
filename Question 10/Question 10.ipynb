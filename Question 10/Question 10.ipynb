{
 "cells": [
  {
   "cell_type": "markdown",
   "id": "e397dab0-dc0c-4287-bf16-6ed9c6e3f350",
   "metadata": {},
   "source": [
    "## For hyperpatameter set - 1"
   ]
  },
  {
   "cell_type": "code",
   "execution_count": 1,
   "id": "c73afce7-e5f3-4bb1-8214-055a96010d12",
   "metadata": {},
   "outputs": [],
   "source": [
    "import numpy as np\n",
    "from activation_functions import *\n",
    "from forward_propagation import *\n",
    "from gradient_descent_wandb import *\n",
    "from keras.datasets import mnist\n",
    "import matplotlib.pyplot as plt\n",
    "import numpy as np\n",
    "import wandb\n",
    "from types import SimpleNamespace\n",
    "import random"
   ]
  },
  {
   "cell_type": "code",
   "execution_count": 2,
   "id": "1c7e937f-100a-4836-8f10-bda49dff1272",
   "metadata": {},
   "outputs": [
    {
     "name": "stdout",
     "output_type": "stream",
     "text": [
      "Number of training samples: 54000\n",
      "Number of validation samples: 6000\n",
      "Number of testing samples: 10000\n"
     ]
    }
   ],
   "source": [
    "(train_images, train_labels), (test_images, test_labels) = mnist.load_data()\n",
    "\n",
    "X = train_images.reshape(train_images.shape[0], -1).T/225\n",
    "Y = train_labels\n",
    "X_test = test_images.reshape(test_images.shape[0], -1).T/225\n",
    "Y_test = test_labels\n",
    "\n",
    "validation_ratio = 0.1 #percentage of data for validation\n",
    "num_validation_samples = int(validation_ratio * X.shape[1])\n",
    "indices = np.random.permutation(X.shape[1]) #shuffling the indices\n",
    "\n",
    "validation_indices = indices[:num_validation_samples]\n",
    "training_indices = indices[num_validation_samples:]\n",
    "\n",
    "X_train = X[:, training_indices]\n",
    "Y_train = Y[training_indices]\n",
    "X_val = X[:, validation_indices]\n",
    "Y_val = Y[validation_indices]\n",
    "\n",
    "print(\"Number of training samples: \" + str(X_train.shape[1]))\n",
    "print(\"Number of validation samples: \" + str(X_val.shape[1]))\n",
    "print(\"Number of testing samples: \" + str(X_test.shape[1]))"
   ]
  },
  {
   "cell_type": "code",
   "execution_count": 3,
   "id": "71c5fdf8-d0d4-4521-b447-59c6dbf375f8",
   "metadata": {},
   "outputs": [
    {
     "name": "stderr",
     "output_type": "stream",
     "text": [
      "\u001b[34m\u001b[1mwandb\u001b[0m: Currently logged in as: \u001b[33msumanta_roy\u001b[0m. Use \u001b[1m`wandb login --relogin`\u001b[0m to force relogin\n",
      "\u001b[34m\u001b[1mwandb\u001b[0m: \u001b[33mWARNING\u001b[0m If you're specifying your api key in code, ensure this code is not shared publicly.\n",
      "\u001b[34m\u001b[1mwandb\u001b[0m: \u001b[33mWARNING\u001b[0m Consider setting the WANDB_API_KEY environment variable, or running `wandb login` from the command line.\n",
      "\u001b[34m\u001b[1mwandb\u001b[0m: Appending key for api.wandb.ai to your netrc file: /Users/sumanta/.netrc\n"
     ]
    },
    {
     "data": {
      "text/html": [
       "Tracking run with wandb version 0.16.4"
      ],
      "text/plain": [
       "<IPython.core.display.HTML object>"
      ]
     },
     "metadata": {},
     "output_type": "display_data"
    },
    {
     "data": {
      "text/html": [
       "Run data is saved locally in <code>/Users/sumanta/Desktop/Numpy project/Question 10/wandb/run-20240317_223254-guwwj06s</code>"
      ],
      "text/plain": [
       "<IPython.core.display.HTML object>"
      ]
     },
     "metadata": {},
     "output_type": "display_data"
    },
    {
     "data": {
      "text/html": [
       "Syncing run <strong><a href='https://wandb.ai/sumanta_roy/CS6910_assignment_1/runs/guwwj06s' target=\"_blank\">decent-snowflake-454</a></strong> to <a href='https://wandb.ai/sumanta_roy/CS6910_assignment_1' target=\"_blank\">Weights & Biases</a> (<a href='https://wandb.me/run' target=\"_blank\">docs</a>)<br/>"
      ],
      "text/plain": [
       "<IPython.core.display.HTML object>"
      ]
     },
     "metadata": {},
     "output_type": "display_data"
    },
    {
     "data": {
      "text/html": [
       " View project at <a href='https://wandb.ai/sumanta_roy/CS6910_assignment_1' target=\"_blank\">https://wandb.ai/sumanta_roy/CS6910_assignment_1</a>"
      ],
      "text/plain": [
       "<IPython.core.display.HTML object>"
      ]
     },
     "metadata": {},
     "output_type": "display_data"
    },
    {
     "data": {
      "text/html": [
       " View run at <a href='https://wandb.ai/sumanta_roy/CS6910_assignment_1/runs/guwwj06s' target=\"_blank\">https://wandb.ai/sumanta_roy/CS6910_assignment_1/runs/guwwj06s</a>"
      ],
      "text/plain": [
       "<IPython.core.display.HTML object>"
      ]
     },
     "metadata": {},
     "output_type": "display_data"
    },
    {
     "name": "stdout",
     "output_type": "stream",
     "text": [
      "Epoch: 1/10; Train Loss: 0.02258568606144389; Val Loss: 0.01535992318765362\n",
      "Epoch: 2/10; Train Loss: 0.01891234085575066; Val Loss: 0.011609928581475549\n",
      "Epoch: 3/10; Train Loss: 0.01664039439063055; Val Loss: 0.010012166520982965\n",
      "Epoch: 4/10; Train Loss: 0.015372862410088228; Val Loss: 0.00939077997821791\n",
      "Epoch: 5/10; Train Loss: 0.013512230467368488; Val Loss: 0.009410531368673017\n",
      "Epoch: 6/10; Train Loss: 0.01308695879767127; Val Loss: 0.008933974705829625\n",
      "Epoch: 7/10; Train Loss: 0.013583453273837904; Val Loss: 0.008976886822083169\n",
      "Epoch: 8/10; Train Loss: 0.01412490671822859; Val Loss: 0.009756622134533892\n",
      "Epoch: 9/10; Train Loss: 0.014408749139739193; Val Loss: 0.010459034476129964\n",
      "Epoch: 10/10; Train Loss: 0.014809770026721096; Val Loss: 0.011654815661498256\n",
      "Accuracy on MNIST using Config1= 96.99 %\n"
     ]
    }
   ],
   "source": [
    "max_epochs=10\n",
    "no_hidden_layers=3\n",
    "size_of_hidden_layer=128\n",
    "weight_decay = 0.0005\n",
    "alpha=1e-3\n",
    "opt='adam'\n",
    "batch_size=16\n",
    "weight='glorot'\n",
    "activation='tanh'\n",
    "input_size,output_size = 784,10\n",
    "layer_sizes = [input_size] + [size_of_hidden_layer] * no_hidden_layers + [output_size]\n",
    "beta=0.9\n",
    "epsilon=1e-4\n",
    "beta1=0.9\n",
    "beta2=0.999\n",
    "w = 80\n",
    "wandb.login(key='4734e60951ce310dbe17484eeeb5b3366b54850f')\n",
    "wandb.init(project='CS6910_assignment_1', entity='sumanta_roy')\n",
    "params = stochastic_gradient_descent_with_adam(w,weight, activation, weight_decay, X_train, Y_train, X_val, Y_val, max_epochs, alpha, layer_sizes, batch_size, epsilon, beta1, beta2)"
   ]
  },
  {
   "cell_type": "code",
   "execution_count": 5,
   "id": "15a2492d-61f6-4570-94d1-cced9e47280a",
   "metadata": {},
   "outputs": [
    {
     "name": "stdout",
     "output_type": "stream",
     "text": [
      "Accuracy on MNIST using Config1= 96.81666666666666 %\n"
     ]
    }
   ],
   "source": [
    "# Accuracy checker:\n",
    "activations_test = forward_prop(params, X_val, activation)\n",
    "test = activations_test[f'h{len(layer_sizes)-1}']\n",
    "reverse_onehat = np.argmax(test, axis=0)\n",
    "val_accuracy = (np.count_nonzero((reverse_onehat-Y_val) == 0)/len(Y_val))*100\n",
    "print(\"Accuracy on MNIST using Config1= \" + str(val_accuracy) + \" %\")"
   ]
  },
  {
   "cell_type": "code",
   "execution_count": 3,
   "id": "7921f799-5f77-49c6-b9bc-60fb45fd54b4",
   "metadata": {},
   "outputs": [
    {
     "name": "stderr",
     "output_type": "stream",
     "text": [
      "\u001b[34m\u001b[1mwandb\u001b[0m: Currently logged in as: \u001b[33msumanta_roy\u001b[0m. Use \u001b[1m`wandb login --relogin`\u001b[0m to force relogin\n",
      "\u001b[34m\u001b[1mwandb\u001b[0m: \u001b[33mWARNING\u001b[0m If you're specifying your api key in code, ensure this code is not shared publicly.\n",
      "\u001b[34m\u001b[1mwandb\u001b[0m: \u001b[33mWARNING\u001b[0m Consider setting the WANDB_API_KEY environment variable, or running `wandb login` from the command line.\n",
      "\u001b[34m\u001b[1mwandb\u001b[0m: Appending key for api.wandb.ai to your netrc file: /Users/sumanta/.netrc\n"
     ]
    },
    {
     "data": {
      "text/html": [
       "Tracking run with wandb version 0.16.4"
      ],
      "text/plain": [
       "<IPython.core.display.HTML object>"
      ]
     },
     "metadata": {},
     "output_type": "display_data"
    },
    {
     "data": {
      "text/html": [
       "Run data is saved locally in <code>/Users/sumanta/Desktop/Numpy project/Question 10/wandb/run-20240317_224318-0r1dev9v</code>"
      ],
      "text/plain": [
       "<IPython.core.display.HTML object>"
      ]
     },
     "metadata": {},
     "output_type": "display_data"
    },
    {
     "data": {
      "text/html": [
       "Syncing run <strong><a href='https://wandb.ai/sumanta_roy/CS6910_assignment_1/runs/0r1dev9v' target=\"_blank\">clean-bee-455</a></strong> to <a href='https://wandb.ai/sumanta_roy/CS6910_assignment_1' target=\"_blank\">Weights & Biases</a> (<a href='https://wandb.me/run' target=\"_blank\">docs</a>)<br/>"
      ],
      "text/plain": [
       "<IPython.core.display.HTML object>"
      ]
     },
     "metadata": {},
     "output_type": "display_data"
    },
    {
     "data": {
      "text/html": [
       " View project at <a href='https://wandb.ai/sumanta_roy/CS6910_assignment_1' target=\"_blank\">https://wandb.ai/sumanta_roy/CS6910_assignment_1</a>"
      ],
      "text/plain": [
       "<IPython.core.display.HTML object>"
      ]
     },
     "metadata": {},
     "output_type": "display_data"
    },
    {
     "data": {
      "text/html": [
       " View run at <a href='https://wandb.ai/sumanta_roy/CS6910_assignment_1/runs/0r1dev9v' target=\"_blank\">https://wandb.ai/sumanta_roy/CS6910_assignment_1/runs/0r1dev9v</a>"
      ],
      "text/plain": [
       "<IPython.core.display.HTML object>"
      ]
     },
     "metadata": {},
     "output_type": "display_data"
    },
    {
     "name": "stdout",
     "output_type": "stream",
     "text": [
      "Epoch: 1/10; Train Loss: 0.015969426515835022; Val Loss: 0.017307230648166076\n",
      "Epoch: 2/10; Train Loss: 0.008479242586809535; Val Loss: 0.01397080329971517\n",
      "Epoch: 3/10; Train Loss: 0.007124440222871309; Val Loss: 0.012939403932913995\n",
      "Epoch: 4/10; Train Loss: 0.005751671700996193; Val Loss: 0.01218771382773335\n",
      "Epoch: 5/10; Train Loss: 0.004038965983588401; Val Loss: 0.011812593787931034\n",
      "Epoch: 6/10; Train Loss: 0.002203861907738196; Val Loss: 0.011948097217085635\n",
      "Epoch: 7/10; Train Loss: 0.0013592572256807011; Val Loss: 0.012331918715359496\n",
      "Epoch: 8/10; Train Loss: 0.0006822209009776962; Val Loss: 0.012511588524997667\n",
      "Epoch: 9/10; Train Loss: 0.0003907414546535262; Val Loss: 0.01269504740366343\n",
      "Epoch: 10/10; Train Loss: 0.00022745993714909466; Val Loss: 0.012449060632247278\n",
      "Accuracy on MNIST using Config2= 97.01666666666667 %\n"
     ]
    }
   ],
   "source": [
    "max_epochs=10\n",
    "no_hidden_layers=3\n",
    "size_of_hidden_layer=64\n",
    "weight_decay = 0.\n",
    "alpha=1e-3\n",
    "opt='adam'\n",
    "batch_size=16\n",
    "weight='glorot'\n",
    "activation='tanh'\n",
    "input_size,output_size = 784,10\n",
    "layer_sizes = [input_size] + [size_of_hidden_layer] * no_hidden_layers + [output_size]\n",
    "beta=0.9\n",
    "epsilon=1e-4\n",
    "beta1=0.9\n",
    "beta2=0.999\n",
    "w = 80\n",
    "wandb.login(key='4734e60951ce310dbe17484eeeb5b3366b54850f')\n",
    "wandb.init(project='CS6910_assignment_1', entity='sumanta_roy')\n",
    "params = stochastic_gradient_descent_with_adam(w,weight, activation, weight_decay, X_train, Y_train, X_val, Y_val, max_epochs, alpha, layer_sizes, batch_size, epsilon, beta1, beta2)\n",
    "\n",
    "# Accuracy checker:\n",
    "activations_test = forward_prop(params, X_val, activation)\n",
    "test = activations_test[f'h{len(layer_sizes)-1}']\n",
    "reverse_onehat = np.argmax(test, axis=0)\n",
    "val_accuracy = (np.count_nonzero((reverse_onehat-Y_val) == 0)/len(Y_val))*100\n",
    "print(\"Accuracy on MNIST using Config2= \" + str(val_accuracy) + \" %\")"
   ]
  },
  {
   "cell_type": "code",
   "execution_count": 3,
   "id": "78afa54d-eafa-435b-921c-f098da9f8dd2",
   "metadata": {},
   "outputs": [
    {
     "name": "stderr",
     "output_type": "stream",
     "text": [
      "\u001b[34m\u001b[1mwandb\u001b[0m: Currently logged in as: \u001b[33msumanta_roy\u001b[0m. Use \u001b[1m`wandb login --relogin`\u001b[0m to force relogin\n",
      "\u001b[34m\u001b[1mwandb\u001b[0m: \u001b[33mWARNING\u001b[0m If you're specifying your api key in code, ensure this code is not shared publicly.\n",
      "\u001b[34m\u001b[1mwandb\u001b[0m: \u001b[33mWARNING\u001b[0m Consider setting the WANDB_API_KEY environment variable, or running `wandb login` from the command line.\n",
      "\u001b[34m\u001b[1mwandb\u001b[0m: Appending key for api.wandb.ai to your netrc file: /Users/sumanta/.netrc\n"
     ]
    },
    {
     "data": {
      "text/html": [
       "Tracking run with wandb version 0.16.4"
      ],
      "text/plain": [
       "<IPython.core.display.HTML object>"
      ]
     },
     "metadata": {},
     "output_type": "display_data"
    },
    {
     "data": {
      "text/html": [
       "Run data is saved locally in <code>/Users/sumanta/Desktop/Numpy project/Question 10/wandb/run-20240317_224636-yxpbjlcv</code>"
      ],
      "text/plain": [
       "<IPython.core.display.HTML object>"
      ]
     },
     "metadata": {},
     "output_type": "display_data"
    },
    {
     "data": {
      "text/html": [
       "Syncing run <strong><a href='https://wandb.ai/sumanta_roy/CS6910_assignment_1/runs/yxpbjlcv' target=\"_blank\">treasured-sound-456</a></strong> to <a href='https://wandb.ai/sumanta_roy/CS6910_assignment_1' target=\"_blank\">Weights & Biases</a> (<a href='https://wandb.me/run' target=\"_blank\">docs</a>)<br/>"
      ],
      "text/plain": [
       "<IPython.core.display.HTML object>"
      ]
     },
     "metadata": {},
     "output_type": "display_data"
    },
    {
     "data": {
      "text/html": [
       " View project at <a href='https://wandb.ai/sumanta_roy/CS6910_assignment_1' target=\"_blank\">https://wandb.ai/sumanta_roy/CS6910_assignment_1</a>"
      ],
      "text/plain": [
       "<IPython.core.display.HTML object>"
      ]
     },
     "metadata": {},
     "output_type": "display_data"
    },
    {
     "data": {
      "text/html": [
       " View run at <a href='https://wandb.ai/sumanta_roy/CS6910_assignment_1/runs/yxpbjlcv' target=\"_blank\">https://wandb.ai/sumanta_roy/CS6910_assignment_1/runs/yxpbjlcv</a>"
      ],
      "text/plain": [
       "<IPython.core.display.HTML object>"
      ]
     },
     "metadata": {},
     "output_type": "display_data"
    },
    {
     "name": "stdout",
     "output_type": "stream",
     "text": [
      "Epoch: 1/10; Train Loss: 0.019920466661447728; Val Loss: 0.014758099887736294\n",
      "Epoch: 2/10; Train Loss: 0.015577593031734888; Val Loss: 0.011394636274580755\n",
      "Epoch: 3/10; Train Loss: 0.008289061980906731; Val Loss: 0.009910349355413762\n",
      "Epoch: 4/10; Train Loss: 0.004085012357542163; Val Loss: 0.009543384110607518\n",
      "Epoch: 5/10; Train Loss: 0.0035084170711108856; Val Loss: 0.009434167066945841\n",
      "Epoch: 6/10; Train Loss: 0.001481562907607653; Val Loss: 0.009688072189640237\n",
      "Epoch: 7/10; Train Loss: 0.0007003066357126597; Val Loss: 0.008883879132302727\n",
      "Epoch: 8/10; Train Loss: 0.00020800421035337596; Val Loss: 0.009272455822198232\n",
      "Epoch: 9/10; Train Loss: 0.0003398849193916352; Val Loss: 0.009753287557087884\n",
      "Epoch: 10/10; Train Loss: 0.004252871092919091; Val Loss: 0.00981091864027378\n",
      "Accuracy on MNIST using Config3= 97.63333333333334 %\n"
     ]
    }
   ],
   "source": [
    "max_epochs=10\n",
    "no_hidden_layers=3\n",
    "size_of_hidden_layer=128\n",
    "weight_decay = 0.\n",
    "alpha=1e-3\n",
    "opt='rmsprop'\n",
    "batch_size=16\n",
    "weight='glorot'\n",
    "activation='tanh'\n",
    "input_size,output_size = 784,10\n",
    "layer_sizes = [input_size] + [size_of_hidden_layer] * no_hidden_layers + [output_size]\n",
    "beta=0.9\n",
    "epsilon=1e-4\n",
    "beta1=0.9\n",
    "beta2=0.999\n",
    "w = 80\n",
    "wandb.login(key='4734e60951ce310dbe17484eeeb5b3366b54850f')\n",
    "wandb.init(project='CS6910_assignment_1', entity='sumanta_roy')\n",
    "params = stochastic_gradient_descent_with_adam(w,weight, activation, weight_decay, X_train, Y_train, X_val, Y_val, max_epochs, alpha, layer_sizes, batch_size, epsilon, beta1, beta2)\n",
    "\n",
    "# Accuracy checker:\n",
    "activations_test = forward_prop(params, X_val, activation)\n",
    "test = activations_test[f'h{len(layer_sizes)-1}']\n",
    "reverse_onehat = np.argmax(test, axis=0)\n",
    "val_accuracy = (np.count_nonzero((reverse_onehat-Y_val) == 0)/len(Y_val))*100\n",
    "print(\"Accuracy on MNIST using Config3= \" + str(val_accuracy) + \" %\")"
   ]
  },
  {
   "cell_type": "code",
   "execution_count": null,
   "id": "39bfef8e-b538-4f21-a2bd-573aa0985217",
   "metadata": {},
   "outputs": [],
   "source": []
  },
  {
   "cell_type": "code",
   "execution_count": null,
   "id": "12848709-959d-47ae-aa21-29c9464e0480",
   "metadata": {},
   "outputs": [],
   "source": []
  },
  {
   "cell_type": "code",
   "execution_count": null,
   "id": "ddc4280c-db50-4244-8db6-3a137318a74a",
   "metadata": {},
   "outputs": [],
   "source": []
  },
  {
   "cell_type": "code",
   "execution_count": null,
   "id": "190084ed-6e02-486f-9b62-e1243cb43f11",
   "metadata": {},
   "outputs": [],
   "source": []
  },
  {
   "cell_type": "code",
   "execution_count": null,
   "id": "7f9f3db3-6391-4680-93ad-55951adac43a",
   "metadata": {},
   "outputs": [],
   "source": []
  },
  {
   "cell_type": "code",
   "execution_count": null,
   "id": "9f85b718-0768-4eec-992c-ad589332859b",
   "metadata": {},
   "outputs": [],
   "source": []
  },
  {
   "cell_type": "code",
   "execution_count": null,
   "id": "d79846dd-d3dd-4594-a888-b180f03c9318",
   "metadata": {},
   "outputs": [],
   "source": []
  },
  {
   "cell_type": "code",
   "execution_count": null,
   "id": "f603e1c5-8f09-4677-9dc3-0c1d6faffa81",
   "metadata": {},
   "outputs": [],
   "source": []
  }
 ],
 "metadata": {
  "kernelspec": {
   "display_name": "Python 3 (ipykernel)",
   "language": "python",
   "name": "python3"
  },
  "language_info": {
   "codemirror_mode": {
    "name": "ipython",
    "version": 3
   },
   "file_extension": ".py",
   "mimetype": "text/x-python",
   "name": "python",
   "nbconvert_exporter": "python",
   "pygments_lexer": "ipython3",
   "version": "3.11.7"
  }
 },
 "nbformat": 4,
 "nbformat_minor": 5
}
